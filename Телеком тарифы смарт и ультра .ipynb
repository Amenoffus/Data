{
 "cells": [
  {
   "cell_type": "markdown",
   "id": "9180e156",
   "metadata": {
    "toc": true
   },
   "source": [
    "<h1>Table of Contents<span class=\"tocSkip\"></span></h1>\n",
    "<div class=\"toc\"><ul class=\"toc-item\"><li><span><a href=\"#Импорт-библиотек.-Общая-информация-о-данных.\" data-toc-modified-id=\"Импорт-библиотек.-Общая-информация-о-данных.-1\"><span class=\"toc-item-num\">1&nbsp;&nbsp;</span>Импорт библиотек. Общая информация о данных.</a></span><ul class=\"toc-item\"><li><span><a href=\"#Вывод\" data-toc-modified-id=\"Вывод-1.1\"><span class=\"toc-item-num\">1.1&nbsp;&nbsp;</span>Вывод</a></span></li></ul></li><li><span><a href=\"#Предобработка-данных.\" data-toc-modified-id=\"Предобработка-данных.-2\"><span class=\"toc-item-num\">2&nbsp;&nbsp;</span>Предобработка данных.</a></span><ul class=\"toc-item\"><li><span><a href=\"#Редактирование-типов-данных\" data-toc-modified-id=\"Редактирование-типов-данных-2.1\"><span class=\"toc-item-num\">2.1&nbsp;&nbsp;</span>Редактирование типов данных</a></span></li><li><span><a href=\"#Округление-значений-минут-и-мегабайт.\" data-toc-modified-id=\"Округление-значений-минут-и-мегабайт.-2.2\"><span class=\"toc-item-num\">2.2&nbsp;&nbsp;</span>Округление значений минут и мегабайт.</a></span></li><li><span><a href=\"#Добавление-столбцов-с-месяцами-в-датафреймы.\" data-toc-modified-id=\"Добавление-столбцов-с-месяцами-в-датафреймы.-2.3\"><span class=\"toc-item-num\">2.3&nbsp;&nbsp;</span>Добавление столбцов с месяцами в датафреймы.</a></span></li><li><span><a href=\"#Вывод\" data-toc-modified-id=\"Вывод-2.4\"><span class=\"toc-item-num\">2.4&nbsp;&nbsp;</span>Вывод</a></span></li></ul></li><li><span><a href=\"#Расчет-дополнительных-параметров.\" data-toc-modified-id=\"Расчет-дополнительных-параметров.-3\"><span class=\"toc-item-num\">3&nbsp;&nbsp;</span>Расчет дополнительных параметров.</a></span><ul class=\"toc-item\"><li><span><a href=\"#Группировка-таблиц-по-пользователям-и-месяцам.\" data-toc-modified-id=\"Группировка-таблиц-по-пользователям-и-месяцам.-3.1\"><span class=\"toc-item-num\">3.1&nbsp;&nbsp;</span>Группировка таблиц по пользователям и месяцам.</a></span></li><li><span><a href=\"#Помесячная-выручка-с-каждого-пользователя.\" data-toc-modified-id=\"Помесячная-выручка-с-каждого-пользователя.-3.2\"><span class=\"toc-item-num\">3.2&nbsp;&nbsp;</span>Помесячная выручка с каждого пользователя.</a></span></li><li><span><a href=\"#Вывод\" data-toc-modified-id=\"Вывод-3.3\"><span class=\"toc-item-num\">3.3&nbsp;&nbsp;</span>Вывод</a></span></li></ul></li><li><span><a href=\"#Анализ-данных.\" data-toc-modified-id=\"Анализ-данных.-4\"><span class=\"toc-item-num\">4&nbsp;&nbsp;</span>Анализ данных.</a></span><ul class=\"toc-item\"><li><span><a href=\"#Вспомогательные-функции.\" data-toc-modified-id=\"Вспомогательные-функции.-4.1\"><span class=\"toc-item-num\">4.1&nbsp;&nbsp;</span>Вспомогательные функции.</a></span></li><li><span><a href=\"#Расчет-метрик.-Построение-графиков.\" data-toc-modified-id=\"Расчет-метрик.-Построение-графиков.-4.2\"><span class=\"toc-item-num\">4.2&nbsp;&nbsp;</span>Расчет метрик. Построение графиков.</a></span><ul class=\"toc-item\"><li><span><a href=\"#Минуты\" data-toc-modified-id=\"Минуты-4.2.1\"><span class=\"toc-item-num\">4.2.1&nbsp;&nbsp;</span>Минуты</a></span></li><li><span><a href=\"#СМС\" data-toc-modified-id=\"СМС-4.2.2\"><span class=\"toc-item-num\">4.2.2&nbsp;&nbsp;</span>СМС</a></span></li><li><span><a href=\"#Гигабайты\" data-toc-modified-id=\"Гигабайты-4.2.3\"><span class=\"toc-item-num\">4.2.3&nbsp;&nbsp;</span>Гигабайты</a></span></li><li><span><a href=\"#Промежуточная-оценка\" data-toc-modified-id=\"Промежуточная-оценка-4.2.4\"><span class=\"toc-item-num\">4.2.4&nbsp;&nbsp;</span>Промежуточная оценка</a></span></li><li><span><a href=\"#Средняя-цена-по-тарифам\" data-toc-modified-id=\"Средняя-цена-по-тарифам-4.2.5\"><span class=\"toc-item-num\">4.2.5&nbsp;&nbsp;</span>Средняя цена по тарифам</a></span></li></ul></li><li><span><a href=\"#Выводы\" data-toc-modified-id=\"Выводы-4.3\"><span class=\"toc-item-num\">4.3&nbsp;&nbsp;</span>Выводы</a></span></li></ul></li><li><span><a href=\"#Проверка-гипотез.\" data-toc-modified-id=\"Проверка-гипотез.-5\"><span class=\"toc-item-num\">5&nbsp;&nbsp;</span>Проверка гипотез.</a></span><ul class=\"toc-item\"><li><span><a href=\"#Средняя-выручка-пользователей-тарифов-«Ультра»-и-«Смарт»-различаются\" data-toc-modified-id=\"Средняя-выручка-пользователей-тарифов-«Ультра»-и-«Смарт»-различаются-5.1\"><span class=\"toc-item-num\">5.1&nbsp;&nbsp;</span>Средняя выручка пользователей тарифов «Ультра» и «Смарт» различаются</a></span></li><li><span><a href=\"#Cредняя-выручка-пользователей-из-Москвы-отличается-от-выручки-пользователей-из-других-регионов\" data-toc-modified-id=\"Cредняя-выручка-пользователей-из-Москвы-отличается-от-выручки-пользователей-из-других-регионов-5.2\"><span class=\"toc-item-num\">5.2&nbsp;&nbsp;</span>Cредняя выручка пользователей из Москвы отличается от выручки пользователей из других регионов</a></span></li><li><span><a href=\"#Выводы\" data-toc-modified-id=\"Выводы-5.3\"><span class=\"toc-item-num\">5.3&nbsp;&nbsp;</span>Выводы</a></span></li></ul></li><li><span><a href=\"#Общий-вывод.\" data-toc-modified-id=\"Общий-вывод.-6\"><span class=\"toc-item-num\">6&nbsp;&nbsp;</span>Общий вывод.</a></span></li></ul></div>"
   ]
  },
  {
   "cell_type": "markdown",
   "id": "8e0b4372",
   "metadata": {},
   "source": [
    "**Описание проекта**\n",
    "\n",
    "Вы аналитик компании «Мегалайн» — федерального оператора сотовой связи. Клиентам предлагают два тарифных плана: «Смарт» и «Ультра». Чтобы скорректировать рекламный бюджет, коммерческий департамент хочет понять, какой тариф приносит больше денег.\n",
    "Вам предстоит сделать предварительный анализ тарифов на небольшой выборке клиентов. В вашем распоряжении данные 500 пользователей «Мегалайна»: кто они, откуда, каким тарифом пользуются, сколько звонков и сообщений каждый отправил за 2018 год. Нужно проанализировать поведение клиентов и сделать вывод — какой тариф лучше.\n",
    "\n",
    "**Описание тарифов**\n",
    "\n",
    "Тариф «Смарт»\n",
    "- Ежемесячная плата: 550 рублей\n",
    "- Включено 500 минут разговора, 50 сообщений и 15 Гб интернет-трафика\n",
    "- Стоимость услуг сверх тарифного пакета:\n",
    "    - минута разговора: 3 рубля\n",
    "    - сообщение: 3 рубля\n",
    "    - 1 Гб интернет-трафика: 200 рублей\n",
    "\n",
    "Тариф «Ультра»\n",
    "\n",
    "- Ежемесячная плата: 1950 рублей\n",
    "- Включено 3000 минут разговора, 1000 сообщений и 30 Гб интернет-трафика\n",
    "- Стоимость услуг сверх тарифного пакета:\n",
    "    - минута разговора: 1 рубль\n",
    "    - сообщение: 1 рубль\n",
    "    - 1 Гб интернет-трафика: 150 рублей\n",
    "\n",
    "Примечание:\n",
    "\n",
    "«Мегалайн» всегда округляет секунды до минут, а мегабайты — до гигабайт. Каждый звонок округляется отдельно: даже если он длился всего 1 секунду, будет засчитан как 1 минута.\n",
    "Для веб-трафика отдельные сессии не считаются. Вместо этого общая сумма за месяц округляется в бо́льшую сторону. Если абонент использует 1025 мегабайт в этом месяце, с него возьмут плату за 2 гигабайта.\n",
    "\n",
    "**Инструкция по выполнению проекта**\n",
    "\n",
    "Шаг 1. Откройте файл с данными и изучите общую информацию\n",
    "\n",
    "Путь к файлам:\n",
    "\n",
    "    /datasets/calls.csv. \n",
    "    /datasets/internet.csv. \n",
    "    /datasets/messages.csv. \n",
    "    /datasets/tariffs.csv. \n",
    "    /datasets/users.csv. \n",
    "\n",
    "Шаг 2. Подготовьте данные\n",
    "\n",
    "- Приведите данные к нужным типам;\n",
    "- Найдите и исправьте ошибки в данных, если они есть.\n",
    "- Поясните, какие ошибки вы нашли и как их исправили. В данных вы найдёте звонки с нулевой продолжительностью. Это не ошибка: нулями обозначены пропущенные звонки, поэтому их не нужно удалять.\n",
    "\n",
    "Посчитайте для каждого пользователя:\n",
    "- количество сделанных звонков и израсходованных минут разговора по месяцам;\n",
    "- количество отправленных сообщений по месяцам;\n",
    "- объем израсходованного интернет-трафика по месяцам;\n",
    "- помесячную выручку с каждого пользователя (вычтите бесплатный лимит из суммарного количества звонков, сообщений и интернет-трафика; - остаток умножьте на значение из тарифного плана; прибавьте абонентскую плату, соответствующую тарифному плану).\n",
    "\n",
    "Шаг 3. Проанализируйте данные\n",
    "\n",
    "Опишите поведение клиентов оператора, исходя из выборки. Сколько минут разговора, сколько сообщений и какой объём интернет-трафика требуется пользователям каждого тарифа в месяц? Посчитайте среднее количество, дисперсию и стандартное отклонение. Постройте гистограммы. Опишите распределения.\n",
    "\n",
    "Шаг 4. Проверьте гипотезы\n",
    "\n",
    "- средняя выручка пользователей тарифов «Ультра» и «Смарт» различаются;\n",
    "- средняя выручка пользователей из Москвы отличается от выручки пользователей из других регионов.\n",
    "\n",
    "Пороговое значение alpha задайте самостоятельно.\n",
    "\n",
    "Поясните:\n",
    "\n",
    "- как вы формулировали нулевую и альтернативную гипотезы;\n",
    "- какой критерий использовали для проверки гипотез и почему.\n",
    "\n",
    "Шаг 5. Напишите общий вывод\n",
    "\n",
    "Оформление: Задание выполните в Jupyter Notebook. Программный код заполните в ячейках типа code, текстовые пояснения — в ячейках типа markdown. Примените форматирование и заголовки.\n",
    "\n",
    "**Описание данных**\n",
    "\n",
    "Таблица users (информация о пользователях):\n",
    "\n",
    "- user_id — уникальный идентификатор пользователя\n",
    "- first_name — имя пользователя\n",
    "- last_name — фамилия пользователя\n",
    "- age — возраст пользователя (годы)\n",
    "- reg_date — дата подключения тарифа (день, месяц, год)\n",
    "- churn_date — дата прекращения пользования тарифом (если значение пропущено, то тариф ещё действовал на момент выгрузки данных)\n",
    "- city — город проживания пользователя\n",
    "- tariff — название тарифного плана\n",
    "\n",
    "Таблица calls (информация о звонках):\n",
    "\n",
    "- id — уникальный номер звонка\n",
    "- call_date — дата звонка\n",
    "- duration — длительность звонка в минутах\n",
    "- user_id — идентификатор пользователя, сделавшего звонок\n",
    "\n",
    "Таблица messages (информация о сообщениях):\n",
    "\n",
    "- id — уникальный номер сообщения\n",
    "- message_date — дата сообщения\n",
    "- user_id — идентификатор пользователя, отправившего сообщение\n",
    "\n",
    "Таблица internet (информация об интернет-сессиях):\n",
    "\n",
    "- id — уникальный номер сессии\n",
    "- mb_used — объём потраченного за сессию интернет-трафика (в мегабайтах)\n",
    "- session_date — дата интернет-сессии\n",
    "- user_id — идентификатор пользователя\n",
    "\n",
    "Таблица tariffs (информация о тарифах):\n",
    "\n",
    "- tariff_name — название тарифа\n",
    "- rub_monthly_fee — ежемесячная абонентская плата в рублях\n",
    "- minutes_included — количество минут разговора в месяц, включённых в абонентскую плату\n",
    "- messages_included — количество сообщений в месяц, включённых в абонентскую плату\n",
    "- mb_per_month_included — объём интернет-трафика, включённого в абонентскую плату (в мегабайтах)\n",
    "- rub_per_minute — стоимость минуты разговора сверх тарифного пакета (например, если в тарифе 100 минут разговора в месяц, то со 101 минуты будет взиматься плата)\n",
    "- rub_per_message — стоимость отправки сообщения сверх тарифного пакета\n",
    "- rub_per_gb — стоимость дополнительного гигабайта интернет-трафика сверх тарифного пакета (1 гигабайт = 1024 мегабайта)"
   ]
  },
  {
   "cell_type": "markdown",
   "id": "4b55ee36",
   "metadata": {},
   "source": [
    "# Импорт библиотек. Общая информация о данных."
   ]
  },
  {
   "cell_type": "code",
   "execution_count": 1,
   "id": "cc8a504a",
   "metadata": {},
   "outputs": [],
   "source": [
    "import pandas as pd\n",
    "import numpy as np\n",
    "import matplotlib.pyplot as plt\n",
    "import seaborn as sns\n",
    "import math\n",
    "from scipy import stats as st"
   ]
  },
  {
   "cell_type": "code",
   "execution_count": 2,
   "id": "f4e7ff3d",
   "metadata": {},
   "outputs": [],
   "source": [
    "users = pd.read_csv('/datasets/users.csv')\n",
    "calls = pd.read_csv('/datasets/calls.csv')\n",
    "messages = pd.read_csv('/datasets/messages.csv')\n",
    "internet = pd.read_csv('/datasets/internet.csv')\n",
    "tariffs = pd.read_csv('/datasets/tariffs.csv')"
   ]
  },
  {
   "cell_type": "code",
   "execution_count": 3,
   "id": "6baf3714",
   "metadata": {
    "scrolled": true
   },
   "outputs": [
    {
     "data": {
      "text/html": [
       "<div>\n",
       "<style scoped>\n",
       "    .dataframe tbody tr th:only-of-type {\n",
       "        vertical-align: middle;\n",
       "    }\n",
       "\n",
       "    .dataframe tbody tr th {\n",
       "        vertical-align: top;\n",
       "    }\n",
       "\n",
       "    .dataframe thead th {\n",
       "        text-align: right;\n",
       "    }\n",
       "</style>\n",
       "<table border=\"1\" class=\"dataframe\">\n",
       "  <thead>\n",
       "    <tr style=\"text-align: right;\">\n",
       "      <th></th>\n",
       "      <th>user_id</th>\n",
       "      <th>age</th>\n",
       "      <th>churn_date</th>\n",
       "      <th>city</th>\n",
       "      <th>first_name</th>\n",
       "      <th>last_name</th>\n",
       "      <th>reg_date</th>\n",
       "      <th>tariff</th>\n",
       "    </tr>\n",
       "  </thead>\n",
       "  <tbody>\n",
       "    <tr>\n",
       "      <th>0</th>\n",
       "      <td>1000</td>\n",
       "      <td>52</td>\n",
       "      <td>NaN</td>\n",
       "      <td>Краснодар</td>\n",
       "      <td>Рафаил</td>\n",
       "      <td>Верещагин</td>\n",
       "      <td>2018-05-25</td>\n",
       "      <td>ultra</td>\n",
       "    </tr>\n",
       "    <tr>\n",
       "      <th>1</th>\n",
       "      <td>1001</td>\n",
       "      <td>41</td>\n",
       "      <td>NaN</td>\n",
       "      <td>Москва</td>\n",
       "      <td>Иван</td>\n",
       "      <td>Ежов</td>\n",
       "      <td>2018-11-01</td>\n",
       "      <td>smart</td>\n",
       "    </tr>\n",
       "    <tr>\n",
       "      <th>2</th>\n",
       "      <td>1002</td>\n",
       "      <td>59</td>\n",
       "      <td>NaN</td>\n",
       "      <td>Стерлитамак</td>\n",
       "      <td>Евгений</td>\n",
       "      <td>Абрамович</td>\n",
       "      <td>2018-06-17</td>\n",
       "      <td>smart</td>\n",
       "    </tr>\n",
       "    <tr>\n",
       "      <th>3</th>\n",
       "      <td>1003</td>\n",
       "      <td>23</td>\n",
       "      <td>NaN</td>\n",
       "      <td>Москва</td>\n",
       "      <td>Белла</td>\n",
       "      <td>Белякова</td>\n",
       "      <td>2018-08-17</td>\n",
       "      <td>ultra</td>\n",
       "    </tr>\n",
       "    <tr>\n",
       "      <th>4</th>\n",
       "      <td>1004</td>\n",
       "      <td>68</td>\n",
       "      <td>NaN</td>\n",
       "      <td>Новокузнецк</td>\n",
       "      <td>Татьяна</td>\n",
       "      <td>Авдеенко</td>\n",
       "      <td>2018-05-14</td>\n",
       "      <td>ultra</td>\n",
       "    </tr>\n",
       "  </tbody>\n",
       "</table>\n",
       "</div>"
      ],
      "text/plain": [
       "   user_id  age churn_date         city first_name  last_name    reg_date  \\\n",
       "0     1000   52        NaN    Краснодар     Рафаил  Верещагин  2018-05-25   \n",
       "1     1001   41        NaN       Москва       Иван       Ежов  2018-11-01   \n",
       "2     1002   59        NaN  Стерлитамак    Евгений  Абрамович  2018-06-17   \n",
       "3     1003   23        NaN       Москва      Белла   Белякова  2018-08-17   \n",
       "4     1004   68        NaN  Новокузнецк    Татьяна   Авдеенко  2018-05-14   \n",
       "\n",
       "  tariff  \n",
       "0  ultra  \n",
       "1  smart  \n",
       "2  smart  \n",
       "3  ultra  \n",
       "4  ultra  "
      ]
     },
     "execution_count": 3,
     "metadata": {},
     "output_type": "execute_result"
    }
   ],
   "source": [
    "users.head()"
   ]
  },
  {
   "cell_type": "code",
   "execution_count": 4,
   "id": "e20fed68",
   "metadata": {
    "scrolled": true
   },
   "outputs": [
    {
     "name": "stdout",
     "output_type": "stream",
     "text": [
      "<class 'pandas.core.frame.DataFrame'>\n",
      "RangeIndex: 500 entries, 0 to 499\n",
      "Data columns (total 8 columns):\n",
      " #   Column      Non-Null Count  Dtype \n",
      "---  ------      --------------  ----- \n",
      " 0   user_id     500 non-null    int64 \n",
      " 1   age         500 non-null    int64 \n",
      " 2   churn_date  38 non-null     object\n",
      " 3   city        500 non-null    object\n",
      " 4   first_name  500 non-null    object\n",
      " 5   last_name   500 non-null    object\n",
      " 6   reg_date    500 non-null    object\n",
      " 7   tariff      500 non-null    object\n",
      "dtypes: int64(2), object(6)\n",
      "memory usage: 31.4+ KB\n"
     ]
    }
   ],
   "source": [
    "users.info()"
   ]
  },
  {
   "cell_type": "code",
   "execution_count": 5,
   "id": "cf830616",
   "metadata": {
    "scrolled": true
   },
   "outputs": [
    {
     "data": {
      "text/html": [
       "<div>\n",
       "<style scoped>\n",
       "    .dataframe tbody tr th:only-of-type {\n",
       "        vertical-align: middle;\n",
       "    }\n",
       "\n",
       "    .dataframe tbody tr th {\n",
       "        vertical-align: top;\n",
       "    }\n",
       "\n",
       "    .dataframe thead th {\n",
       "        text-align: right;\n",
       "    }\n",
       "</style>\n",
       "<table border=\"1\" class=\"dataframe\">\n",
       "  <thead>\n",
       "    <tr style=\"text-align: right;\">\n",
       "      <th></th>\n",
       "      <th>id</th>\n",
       "      <th>call_date</th>\n",
       "      <th>duration</th>\n",
       "      <th>user_id</th>\n",
       "    </tr>\n",
       "  </thead>\n",
       "  <tbody>\n",
       "    <tr>\n",
       "      <th>0</th>\n",
       "      <td>1000_0</td>\n",
       "      <td>2018-07-25</td>\n",
       "      <td>0.00</td>\n",
       "      <td>1000</td>\n",
       "    </tr>\n",
       "    <tr>\n",
       "      <th>1</th>\n",
       "      <td>1000_1</td>\n",
       "      <td>2018-08-17</td>\n",
       "      <td>0.00</td>\n",
       "      <td>1000</td>\n",
       "    </tr>\n",
       "    <tr>\n",
       "      <th>2</th>\n",
       "      <td>1000_2</td>\n",
       "      <td>2018-06-11</td>\n",
       "      <td>2.85</td>\n",
       "      <td>1000</td>\n",
       "    </tr>\n",
       "    <tr>\n",
       "      <th>3</th>\n",
       "      <td>1000_3</td>\n",
       "      <td>2018-09-21</td>\n",
       "      <td>13.80</td>\n",
       "      <td>1000</td>\n",
       "    </tr>\n",
       "    <tr>\n",
       "      <th>4</th>\n",
       "      <td>1000_4</td>\n",
       "      <td>2018-12-15</td>\n",
       "      <td>5.18</td>\n",
       "      <td>1000</td>\n",
       "    </tr>\n",
       "  </tbody>\n",
       "</table>\n",
       "</div>"
      ],
      "text/plain": [
       "       id   call_date  duration  user_id\n",
       "0  1000_0  2018-07-25      0.00     1000\n",
       "1  1000_1  2018-08-17      0.00     1000\n",
       "2  1000_2  2018-06-11      2.85     1000\n",
       "3  1000_3  2018-09-21     13.80     1000\n",
       "4  1000_4  2018-12-15      5.18     1000"
      ]
     },
     "execution_count": 5,
     "metadata": {},
     "output_type": "execute_result"
    }
   ],
   "source": [
    "calls.head()"
   ]
  },
  {
   "cell_type": "code",
   "execution_count": 6,
   "id": "4ee72839",
   "metadata": {},
   "outputs": [
    {
     "name": "stdout",
     "output_type": "stream",
     "text": [
      "<class 'pandas.core.frame.DataFrame'>\n",
      "RangeIndex: 202607 entries, 0 to 202606\n",
      "Data columns (total 4 columns):\n",
      " #   Column     Non-Null Count   Dtype  \n",
      "---  ------     --------------   -----  \n",
      " 0   id         202607 non-null  object \n",
      " 1   call_date  202607 non-null  object \n",
      " 2   duration   202607 non-null  float64\n",
      " 3   user_id    202607 non-null  int64  \n",
      "dtypes: float64(1), int64(1), object(2)\n",
      "memory usage: 6.2+ MB\n"
     ]
    }
   ],
   "source": [
    "calls.info()"
   ]
  },
  {
   "cell_type": "code",
   "execution_count": 7,
   "id": "33e1ac0e",
   "metadata": {
    "scrolled": true
   },
   "outputs": [
    {
     "data": {
      "text/html": [
       "<div>\n",
       "<style scoped>\n",
       "    .dataframe tbody tr th:only-of-type {\n",
       "        vertical-align: middle;\n",
       "    }\n",
       "\n",
       "    .dataframe tbody tr th {\n",
       "        vertical-align: top;\n",
       "    }\n",
       "\n",
       "    .dataframe thead th {\n",
       "        text-align: right;\n",
       "    }\n",
       "</style>\n",
       "<table border=\"1\" class=\"dataframe\">\n",
       "  <thead>\n",
       "    <tr style=\"text-align: right;\">\n",
       "      <th></th>\n",
       "      <th>id</th>\n",
       "      <th>message_date</th>\n",
       "      <th>user_id</th>\n",
       "    </tr>\n",
       "  </thead>\n",
       "  <tbody>\n",
       "    <tr>\n",
       "      <th>0</th>\n",
       "      <td>1000_0</td>\n",
       "      <td>2018-06-27</td>\n",
       "      <td>1000</td>\n",
       "    </tr>\n",
       "    <tr>\n",
       "      <th>1</th>\n",
       "      <td>1000_1</td>\n",
       "      <td>2018-10-08</td>\n",
       "      <td>1000</td>\n",
       "    </tr>\n",
       "    <tr>\n",
       "      <th>2</th>\n",
       "      <td>1000_2</td>\n",
       "      <td>2018-08-04</td>\n",
       "      <td>1000</td>\n",
       "    </tr>\n",
       "    <tr>\n",
       "      <th>3</th>\n",
       "      <td>1000_3</td>\n",
       "      <td>2018-06-16</td>\n",
       "      <td>1000</td>\n",
       "    </tr>\n",
       "    <tr>\n",
       "      <th>4</th>\n",
       "      <td>1000_4</td>\n",
       "      <td>2018-12-05</td>\n",
       "      <td>1000</td>\n",
       "    </tr>\n",
       "  </tbody>\n",
       "</table>\n",
       "</div>"
      ],
      "text/plain": [
       "       id message_date  user_id\n",
       "0  1000_0   2018-06-27     1000\n",
       "1  1000_1   2018-10-08     1000\n",
       "2  1000_2   2018-08-04     1000\n",
       "3  1000_3   2018-06-16     1000\n",
       "4  1000_4   2018-12-05     1000"
      ]
     },
     "execution_count": 7,
     "metadata": {},
     "output_type": "execute_result"
    }
   ],
   "source": [
    "messages.head()"
   ]
  },
  {
   "cell_type": "code",
   "execution_count": 8,
   "id": "dbbe02fe",
   "metadata": {},
   "outputs": [
    {
     "name": "stdout",
     "output_type": "stream",
     "text": [
      "<class 'pandas.core.frame.DataFrame'>\n",
      "RangeIndex: 123036 entries, 0 to 123035\n",
      "Data columns (total 3 columns):\n",
      " #   Column        Non-Null Count   Dtype \n",
      "---  ------        --------------   ----- \n",
      " 0   id            123036 non-null  object\n",
      " 1   message_date  123036 non-null  object\n",
      " 2   user_id       123036 non-null  int64 \n",
      "dtypes: int64(1), object(2)\n",
      "memory usage: 2.8+ MB\n"
     ]
    }
   ],
   "source": [
    "messages.info()"
   ]
  },
  {
   "cell_type": "code",
   "execution_count": 9,
   "id": "5727d576",
   "metadata": {
    "scrolled": false
   },
   "outputs": [
    {
     "data": {
      "text/html": [
       "<div>\n",
       "<style scoped>\n",
       "    .dataframe tbody tr th:only-of-type {\n",
       "        vertical-align: middle;\n",
       "    }\n",
       "\n",
       "    .dataframe tbody tr th {\n",
       "        vertical-align: top;\n",
       "    }\n",
       "\n",
       "    .dataframe thead th {\n",
       "        text-align: right;\n",
       "    }\n",
       "</style>\n",
       "<table border=\"1\" class=\"dataframe\">\n",
       "  <thead>\n",
       "    <tr style=\"text-align: right;\">\n",
       "      <th></th>\n",
       "      <th>Unnamed: 0</th>\n",
       "      <th>id</th>\n",
       "      <th>mb_used</th>\n",
       "      <th>session_date</th>\n",
       "      <th>user_id</th>\n",
       "    </tr>\n",
       "  </thead>\n",
       "  <tbody>\n",
       "    <tr>\n",
       "      <th>0</th>\n",
       "      <td>0</td>\n",
       "      <td>1000_0</td>\n",
       "      <td>112.95</td>\n",
       "      <td>2018-11-25</td>\n",
       "      <td>1000</td>\n",
       "    </tr>\n",
       "    <tr>\n",
       "      <th>1</th>\n",
       "      <td>1</td>\n",
       "      <td>1000_1</td>\n",
       "      <td>1052.81</td>\n",
       "      <td>2018-09-07</td>\n",
       "      <td>1000</td>\n",
       "    </tr>\n",
       "    <tr>\n",
       "      <th>2</th>\n",
       "      <td>2</td>\n",
       "      <td>1000_2</td>\n",
       "      <td>1197.26</td>\n",
       "      <td>2018-06-25</td>\n",
       "      <td>1000</td>\n",
       "    </tr>\n",
       "    <tr>\n",
       "      <th>3</th>\n",
       "      <td>3</td>\n",
       "      <td>1000_3</td>\n",
       "      <td>550.27</td>\n",
       "      <td>2018-08-22</td>\n",
       "      <td>1000</td>\n",
       "    </tr>\n",
       "    <tr>\n",
       "      <th>4</th>\n",
       "      <td>4</td>\n",
       "      <td>1000_4</td>\n",
       "      <td>302.56</td>\n",
       "      <td>2018-09-24</td>\n",
       "      <td>1000</td>\n",
       "    </tr>\n",
       "  </tbody>\n",
       "</table>\n",
       "</div>"
      ],
      "text/plain": [
       "   Unnamed: 0      id  mb_used session_date  user_id\n",
       "0           0  1000_0   112.95   2018-11-25     1000\n",
       "1           1  1000_1  1052.81   2018-09-07     1000\n",
       "2           2  1000_2  1197.26   2018-06-25     1000\n",
       "3           3  1000_3   550.27   2018-08-22     1000\n",
       "4           4  1000_4   302.56   2018-09-24     1000"
      ]
     },
     "execution_count": 9,
     "metadata": {},
     "output_type": "execute_result"
    }
   ],
   "source": [
    "internet.head()"
   ]
  },
  {
   "cell_type": "code",
   "execution_count": 10,
   "id": "9e6bdffc",
   "metadata": {
    "scrolled": true
   },
   "outputs": [
    {
     "name": "stdout",
     "output_type": "stream",
     "text": [
      "<class 'pandas.core.frame.DataFrame'>\n",
      "RangeIndex: 149396 entries, 0 to 149395\n",
      "Data columns (total 5 columns):\n",
      " #   Column        Non-Null Count   Dtype  \n",
      "---  ------        --------------   -----  \n",
      " 0   Unnamed: 0    149396 non-null  int64  \n",
      " 1   id            149396 non-null  object \n",
      " 2   mb_used       149396 non-null  float64\n",
      " 3   session_date  149396 non-null  object \n",
      " 4   user_id       149396 non-null  int64  \n",
      "dtypes: float64(1), int64(2), object(2)\n",
      "memory usage: 5.7+ MB\n"
     ]
    }
   ],
   "source": [
    "internet.info()"
   ]
  },
  {
   "cell_type": "code",
   "execution_count": 11,
   "id": "e3d588fe",
   "metadata": {
    "scrolled": true
   },
   "outputs": [
    {
     "data": {
      "text/html": [
       "<div>\n",
       "<style scoped>\n",
       "    .dataframe tbody tr th:only-of-type {\n",
       "        vertical-align: middle;\n",
       "    }\n",
       "\n",
       "    .dataframe tbody tr th {\n",
       "        vertical-align: top;\n",
       "    }\n",
       "\n",
       "    .dataframe thead th {\n",
       "        text-align: right;\n",
       "    }\n",
       "</style>\n",
       "<table border=\"1\" class=\"dataframe\">\n",
       "  <thead>\n",
       "    <tr style=\"text-align: right;\">\n",
       "      <th></th>\n",
       "      <th>messages_included</th>\n",
       "      <th>mb_per_month_included</th>\n",
       "      <th>minutes_included</th>\n",
       "      <th>rub_monthly_fee</th>\n",
       "      <th>rub_per_gb</th>\n",
       "      <th>rub_per_message</th>\n",
       "      <th>rub_per_minute</th>\n",
       "      <th>tariff_name</th>\n",
       "    </tr>\n",
       "  </thead>\n",
       "  <tbody>\n",
       "    <tr>\n",
       "      <th>0</th>\n",
       "      <td>50</td>\n",
       "      <td>15360</td>\n",
       "      <td>500</td>\n",
       "      <td>550</td>\n",
       "      <td>200</td>\n",
       "      <td>3</td>\n",
       "      <td>3</td>\n",
       "      <td>smart</td>\n",
       "    </tr>\n",
       "    <tr>\n",
       "      <th>1</th>\n",
       "      <td>1000</td>\n",
       "      <td>30720</td>\n",
       "      <td>3000</td>\n",
       "      <td>1950</td>\n",
       "      <td>150</td>\n",
       "      <td>1</td>\n",
       "      <td>1</td>\n",
       "      <td>ultra</td>\n",
       "    </tr>\n",
       "  </tbody>\n",
       "</table>\n",
       "</div>"
      ],
      "text/plain": [
       "   messages_included  mb_per_month_included  minutes_included  \\\n",
       "0                 50                  15360               500   \n",
       "1               1000                  30720              3000   \n",
       "\n",
       "   rub_monthly_fee  rub_per_gb  rub_per_message  rub_per_minute tariff_name  \n",
       "0              550         200                3               3       smart  \n",
       "1             1950         150                1               1       ultra  "
      ]
     },
     "execution_count": 11,
     "metadata": {},
     "output_type": "execute_result"
    }
   ],
   "source": [
    "tariffs.head()"
   ]
  },
  {
   "cell_type": "code",
   "execution_count": 12,
   "id": "090308ff",
   "metadata": {},
   "outputs": [
    {
     "name": "stdout",
     "output_type": "stream",
     "text": [
      "<class 'pandas.core.frame.DataFrame'>\n",
      "RangeIndex: 2 entries, 0 to 1\n",
      "Data columns (total 8 columns):\n",
      " #   Column                 Non-Null Count  Dtype \n",
      "---  ------                 --------------  ----- \n",
      " 0   messages_included      2 non-null      int64 \n",
      " 1   mb_per_month_included  2 non-null      int64 \n",
      " 2   minutes_included       2 non-null      int64 \n",
      " 3   rub_monthly_fee        2 non-null      int64 \n",
      " 4   rub_per_gb             2 non-null      int64 \n",
      " 5   rub_per_message        2 non-null      int64 \n",
      " 6   rub_per_minute         2 non-null      int64 \n",
      " 7   tariff_name            2 non-null      object\n",
      "dtypes: int64(7), object(1)\n",
      "memory usage: 256.0+ bytes\n"
     ]
    }
   ],
   "source": [
    "tariffs.info()"
   ]
  },
  {
   "cell_type": "markdown",
   "id": "1ff9235b",
   "metadata": {},
   "source": [
    "## Вывод"
   ]
  },
  {
   "cell_type": "markdown",
   "id": "2050577d",
   "metadata": {},
   "source": [
    "- Столбец \"Unnamed: 0\" в \"internet\" явно дублирует нумерацию строк, вдальнейшем его уберем.\n",
    "- В столбцах с датой нужно изменить тип данных\n",
    "- \"id\" изменить тип данных на \"int\""
   ]
  },
  {
   "cell_type": "markdown",
   "id": "3eaca466",
   "metadata": {},
   "source": [
    "# Предобработка данных."
   ]
  },
  {
   "cell_type": "markdown",
   "id": "2f4c5205",
   "metadata": {},
   "source": [
    "## Редактирование типов данных"
   ]
  },
  {
   "cell_type": "markdown",
   "id": "02dea3af",
   "metadata": {},
   "source": [
    "Стобцы 'id' в датафреймах  messages, calls и internet приводим к типу 'int'."
   ]
  },
  {
   "cell_type": "code",
   "execution_count": 13,
   "id": "862e10ec",
   "metadata": {
    "scrolled": true
   },
   "outputs": [],
   "source": [
    "internet['id'] = internet['id'].astype('int64')\n",
    "messages['id'] = messages['id'].astype('int64')\n",
    "calls['id'] = calls['id'].astype('int64')"
   ]
  },
  {
   "cell_type": "code",
   "execution_count": 14,
   "id": "631be760",
   "metadata": {},
   "outputs": [
    {
     "data": {
      "text/html": [
       "<div>\n",
       "<style scoped>\n",
       "    .dataframe tbody tr th:only-of-type {\n",
       "        vertical-align: middle;\n",
       "    }\n",
       "\n",
       "    .dataframe tbody tr th {\n",
       "        vertical-align: top;\n",
       "    }\n",
       "\n",
       "    .dataframe thead th {\n",
       "        text-align: right;\n",
       "    }\n",
       "</style>\n",
       "<table border=\"1\" class=\"dataframe\">\n",
       "  <thead>\n",
       "    <tr style=\"text-align: right;\">\n",
       "      <th></th>\n",
       "      <th>Unnamed: 0</th>\n",
       "      <th>id</th>\n",
       "      <th>mb_used</th>\n",
       "      <th>session_date</th>\n",
       "      <th>user_id</th>\n",
       "    </tr>\n",
       "  </thead>\n",
       "  <tbody>\n",
       "    <tr>\n",
       "      <th>0</th>\n",
       "      <td>0</td>\n",
       "      <td>10000</td>\n",
       "      <td>112.95</td>\n",
       "      <td>2018-11-25</td>\n",
       "      <td>1000</td>\n",
       "    </tr>\n",
       "    <tr>\n",
       "      <th>1</th>\n",
       "      <td>1</td>\n",
       "      <td>10001</td>\n",
       "      <td>1052.81</td>\n",
       "      <td>2018-09-07</td>\n",
       "      <td>1000</td>\n",
       "    </tr>\n",
       "    <tr>\n",
       "      <th>2</th>\n",
       "      <td>2</td>\n",
       "      <td>10002</td>\n",
       "      <td>1197.26</td>\n",
       "      <td>2018-06-25</td>\n",
       "      <td>1000</td>\n",
       "    </tr>\n",
       "    <tr>\n",
       "      <th>3</th>\n",
       "      <td>3</td>\n",
       "      <td>10003</td>\n",
       "      <td>550.27</td>\n",
       "      <td>2018-08-22</td>\n",
       "      <td>1000</td>\n",
       "    </tr>\n",
       "    <tr>\n",
       "      <th>4</th>\n",
       "      <td>4</td>\n",
       "      <td>10004</td>\n",
       "      <td>302.56</td>\n",
       "      <td>2018-09-24</td>\n",
       "      <td>1000</td>\n",
       "    </tr>\n",
       "  </tbody>\n",
       "</table>\n",
       "</div>"
      ],
      "text/plain": [
       "   Unnamed: 0     id  mb_used session_date  user_id\n",
       "0           0  10000   112.95   2018-11-25     1000\n",
       "1           1  10001  1052.81   2018-09-07     1000\n",
       "2           2  10002  1197.26   2018-06-25     1000\n",
       "3           3  10003   550.27   2018-08-22     1000\n",
       "4           4  10004   302.56   2018-09-24     1000"
      ]
     },
     "execution_count": 14,
     "metadata": {},
     "output_type": "execute_result"
    }
   ],
   "source": [
    "internet.head()"
   ]
  },
  {
   "cell_type": "code",
   "execution_count": 15,
   "id": "20b45587",
   "metadata": {
    "scrolled": false
   },
   "outputs": [
    {
     "name": "stdout",
     "output_type": "stream",
     "text": [
      "<class 'pandas.core.frame.DataFrame'>\n",
      "RangeIndex: 149396 entries, 0 to 149395\n",
      "Data columns (total 5 columns):\n",
      " #   Column        Non-Null Count   Dtype  \n",
      "---  ------        --------------   -----  \n",
      " 0   Unnamed: 0    149396 non-null  int64  \n",
      " 1   id            149396 non-null  int64  \n",
      " 2   mb_used       149396 non-null  float64\n",
      " 3   session_date  149396 non-null  object \n",
      " 4   user_id       149396 non-null  int64  \n",
      "dtypes: float64(1), int64(3), object(1)\n",
      "memory usage: 5.7+ MB\n"
     ]
    }
   ],
   "source": [
    "internet.info()"
   ]
  },
  {
   "cell_type": "markdown",
   "id": "e3c68776",
   "metadata": {},
   "source": [
    "Изменяем тип даных в столбцах с датой в датафреймах internet, messages, calls и users."
   ]
  },
  {
   "cell_type": "code",
   "execution_count": 16,
   "id": "3f98dfc1",
   "metadata": {},
   "outputs": [],
   "source": [
    "internet['session_date'] = pd.to_datetime(internet['session_date'], format='%Y-%m-%d')\n",
    "messages['message_date'] = pd.to_datetime(messages['message_date'], format='%Y-%m-%d')\n",
    "calls['call_date'] = pd.to_datetime(calls['call_date'], format='%Y-%m-%d')\n",
    "users['churn_date'] = pd.to_datetime(users['churn_date'], format='%Y-%m-%d')\n",
    "users['reg_date'] = pd.to_datetime(users['reg_date'], format='%Y-%m-%d')"
   ]
  },
  {
   "cell_type": "code",
   "execution_count": 17,
   "id": "33362021",
   "metadata": {},
   "outputs": [
    {
     "data": {
      "text/html": [
       "<div>\n",
       "<style scoped>\n",
       "    .dataframe tbody tr th:only-of-type {\n",
       "        vertical-align: middle;\n",
       "    }\n",
       "\n",
       "    .dataframe tbody tr th {\n",
       "        vertical-align: top;\n",
       "    }\n",
       "\n",
       "    .dataframe thead th {\n",
       "        text-align: right;\n",
       "    }\n",
       "</style>\n",
       "<table border=\"1\" class=\"dataframe\">\n",
       "  <thead>\n",
       "    <tr style=\"text-align: right;\">\n",
       "      <th></th>\n",
       "      <th>Unnamed: 0</th>\n",
       "      <th>id</th>\n",
       "      <th>mb_used</th>\n",
       "      <th>session_date</th>\n",
       "      <th>user_id</th>\n",
       "    </tr>\n",
       "  </thead>\n",
       "  <tbody>\n",
       "    <tr>\n",
       "      <th>0</th>\n",
       "      <td>0</td>\n",
       "      <td>10000</td>\n",
       "      <td>112.95</td>\n",
       "      <td>2018-11-25</td>\n",
       "      <td>1000</td>\n",
       "    </tr>\n",
       "    <tr>\n",
       "      <th>1</th>\n",
       "      <td>1</td>\n",
       "      <td>10001</td>\n",
       "      <td>1052.81</td>\n",
       "      <td>2018-09-07</td>\n",
       "      <td>1000</td>\n",
       "    </tr>\n",
       "    <tr>\n",
       "      <th>2</th>\n",
       "      <td>2</td>\n",
       "      <td>10002</td>\n",
       "      <td>1197.26</td>\n",
       "      <td>2018-06-25</td>\n",
       "      <td>1000</td>\n",
       "    </tr>\n",
       "    <tr>\n",
       "      <th>3</th>\n",
       "      <td>3</td>\n",
       "      <td>10003</td>\n",
       "      <td>550.27</td>\n",
       "      <td>2018-08-22</td>\n",
       "      <td>1000</td>\n",
       "    </tr>\n",
       "    <tr>\n",
       "      <th>4</th>\n",
       "      <td>4</td>\n",
       "      <td>10004</td>\n",
       "      <td>302.56</td>\n",
       "      <td>2018-09-24</td>\n",
       "      <td>1000</td>\n",
       "    </tr>\n",
       "  </tbody>\n",
       "</table>\n",
       "</div>"
      ],
      "text/plain": [
       "   Unnamed: 0     id  mb_used session_date  user_id\n",
       "0           0  10000   112.95   2018-11-25     1000\n",
       "1           1  10001  1052.81   2018-09-07     1000\n",
       "2           2  10002  1197.26   2018-06-25     1000\n",
       "3           3  10003   550.27   2018-08-22     1000\n",
       "4           4  10004   302.56   2018-09-24     1000"
      ]
     },
     "execution_count": 17,
     "metadata": {},
     "output_type": "execute_result"
    }
   ],
   "source": [
    "internet.head()"
   ]
  },
  {
   "cell_type": "code",
   "execution_count": 18,
   "id": "49fc753f",
   "metadata": {
    "scrolled": true
   },
   "outputs": [
    {
     "name": "stdout",
     "output_type": "stream",
     "text": [
      "<class 'pandas.core.frame.DataFrame'>\n",
      "RangeIndex: 149396 entries, 0 to 149395\n",
      "Data columns (total 5 columns):\n",
      " #   Column        Non-Null Count   Dtype         \n",
      "---  ------        --------------   -----         \n",
      " 0   Unnamed: 0    149396 non-null  int64         \n",
      " 1   id            149396 non-null  int64         \n",
      " 2   mb_used       149396 non-null  float64       \n",
      " 3   session_date  149396 non-null  datetime64[ns]\n",
      " 4   user_id       149396 non-null  int64         \n",
      "dtypes: datetime64[ns](1), float64(1), int64(3)\n",
      "memory usage: 5.7 MB\n"
     ]
    }
   ],
   "source": [
    "internet.info()"
   ]
  },
  {
   "cell_type": "markdown",
   "id": "38d452f7",
   "metadata": {},
   "source": [
    "Удаление столбца \"Unnamed: 0\"."
   ]
  },
  {
   "cell_type": "code",
   "execution_count": 19,
   "id": "67fe3d1b",
   "metadata": {
    "scrolled": false
   },
   "outputs": [
    {
     "name": "stdout",
     "output_type": "stream",
     "text": [
      "<class 'pandas.core.frame.DataFrame'>\n",
      "RangeIndex: 149396 entries, 0 to 149395\n",
      "Data columns (total 4 columns):\n",
      " #   Column        Non-Null Count   Dtype         \n",
      "---  ------        --------------   -----         \n",
      " 0   id            149396 non-null  int64         \n",
      " 1   mb_used       149396 non-null  float64       \n",
      " 2   session_date  149396 non-null  datetime64[ns]\n",
      " 3   user_id       149396 non-null  int64         \n",
      "dtypes: datetime64[ns](1), float64(1), int64(2)\n",
      "memory usage: 4.6 MB\n"
     ]
    }
   ],
   "source": [
    "internet.drop('Unnamed: 0', axis=1, inplace=True)\n",
    "internet.info()"
   ]
  },
  {
   "cell_type": "markdown",
   "id": "1d770d64",
   "metadata": {},
   "source": [
    "## Округление значений минут и мегабайт."
   ]
  },
  {
   "cell_type": "code",
   "execution_count": 20,
   "id": "a5c7753a",
   "metadata": {},
   "outputs": [
    {
     "data": {
      "text/plain": [
       "19598"
      ]
     },
     "execution_count": 20,
     "metadata": {},
     "output_type": "execute_result"
    }
   ],
   "source": [
    "internet[internet['mb_used'] == 0]['mb_used'].count()"
   ]
  },
  {
   "cell_type": "code",
   "execution_count": 21,
   "id": "14c404c7",
   "metadata": {},
   "outputs": [
    {
     "data": {
      "text/plain": [
       "39613"
      ]
     },
     "execution_count": 21,
     "metadata": {},
     "output_type": "execute_result"
    }
   ],
   "source": [
    "calls[calls['duration'] == 0]['duration'].count()"
   ]
  },
  {
   "cell_type": "markdown",
   "id": "ea7718de",
   "metadata": {},
   "source": [
    "Нулевые значения в \"calls\" означают пропупещенные вызовы. Нулевые значения в \"internet\" могли появится если человек не пользовался интернетом или были временные проблемы с подключением.\n",
    "\n",
    "Редактируем только имеющиеся значения, нулевые значения пока не трогаем.\n",
    "\n",
    "Минуты и мегабайты окргулим в большую сторону и сменим тип данных столбцов."
   ]
  },
  {
   "cell_type": "code",
   "execution_count": 22,
   "id": "c9e15df0",
   "metadata": {
    "scrolled": true
   },
   "outputs": [
    {
     "data": {
      "text/html": [
       "<div>\n",
       "<style scoped>\n",
       "    .dataframe tbody tr th:only-of-type {\n",
       "        vertical-align: middle;\n",
       "    }\n",
       "\n",
       "    .dataframe tbody tr th {\n",
       "        vertical-align: top;\n",
       "    }\n",
       "\n",
       "    .dataframe thead th {\n",
       "        text-align: right;\n",
       "    }\n",
       "</style>\n",
       "<table border=\"1\" class=\"dataframe\">\n",
       "  <thead>\n",
       "    <tr style=\"text-align: right;\">\n",
       "      <th></th>\n",
       "      <th>id</th>\n",
       "      <th>mb_used</th>\n",
       "      <th>session_date</th>\n",
       "      <th>user_id</th>\n",
       "    </tr>\n",
       "  </thead>\n",
       "  <tbody>\n",
       "    <tr>\n",
       "      <th>0</th>\n",
       "      <td>10000</td>\n",
       "      <td>113</td>\n",
       "      <td>2018-11-25</td>\n",
       "      <td>1000</td>\n",
       "    </tr>\n",
       "    <tr>\n",
       "      <th>1</th>\n",
       "      <td>10001</td>\n",
       "      <td>1053</td>\n",
       "      <td>2018-09-07</td>\n",
       "      <td>1000</td>\n",
       "    </tr>\n",
       "    <tr>\n",
       "      <th>2</th>\n",
       "      <td>10002</td>\n",
       "      <td>1198</td>\n",
       "      <td>2018-06-25</td>\n",
       "      <td>1000</td>\n",
       "    </tr>\n",
       "    <tr>\n",
       "      <th>3</th>\n",
       "      <td>10003</td>\n",
       "      <td>551</td>\n",
       "      <td>2018-08-22</td>\n",
       "      <td>1000</td>\n",
       "    </tr>\n",
       "    <tr>\n",
       "      <th>4</th>\n",
       "      <td>10004</td>\n",
       "      <td>303</td>\n",
       "      <td>2018-09-24</td>\n",
       "      <td>1000</td>\n",
       "    </tr>\n",
       "  </tbody>\n",
       "</table>\n",
       "</div>"
      ],
      "text/plain": [
       "      id  mb_used session_date  user_id\n",
       "0  10000      113   2018-11-25     1000\n",
       "1  10001     1053   2018-09-07     1000\n",
       "2  10002     1198   2018-06-25     1000\n",
       "3  10003      551   2018-08-22     1000\n",
       "4  10004      303   2018-09-24     1000"
      ]
     },
     "execution_count": 22,
     "metadata": {},
     "output_type": "execute_result"
    }
   ],
   "source": [
    "internet['mb_used'] = internet['mb_used'].apply(np.ceil).astype('int64')\n",
    "calls['duration'] = calls['duration'].apply(np.ceil).astype('int64')\n",
    "internet.head()"
   ]
  },
  {
   "cell_type": "markdown",
   "id": "b1723bca",
   "metadata": {},
   "source": [
    "## Добавление столбцов с месяцами в датафреймы."
   ]
  },
  {
   "cell_type": "code",
   "execution_count": 23,
   "id": "a34e1bec",
   "metadata": {},
   "outputs": [],
   "source": [
    "internet['month'] = internet['session_date'].dt.month\n",
    "calls['month'] = calls['call_date'].dt.month\n",
    "messages['month'] = messages['message_date'].dt.month"
   ]
  },
  {
   "cell_type": "markdown",
   "id": "3b8cc0cb",
   "metadata": {},
   "source": [
    "## Вывод"
   ]
  },
  {
   "cell_type": "markdown",
   "id": "9da13872",
   "metadata": {},
   "source": [
    "- Преобразованы типы данных. Лишние столбцы удалены.\n",
    "- Обнаружены случаи с нулевыми значениями времени звонков и объёма трафика интернет сессий. Это может быть связано с отменой звонка/интернет ссессии. Нулевые данные оставлены оставлены как есть.\n",
    "- Добавлены столбцы с месяцами."
   ]
  },
  {
   "cell_type": "markdown",
   "id": "eae2154a",
   "metadata": {},
   "source": [
    "# Расчет дополнительных параметров."
   ]
  },
  {
   "cell_type": "markdown",
   "id": "26cd5ec5",
   "metadata": {},
   "source": [
    "## Группировка таблиц по пользователям и месяцам."
   ]
  },
  {
   "cell_type": "code",
   "execution_count": 24,
   "id": "824fbd2b",
   "metadata": {
    "scrolled": false
   },
   "outputs": [
    {
     "data": {
      "text/html": [
       "<div>\n",
       "<style scoped>\n",
       "    .dataframe tbody tr th:only-of-type {\n",
       "        vertical-align: middle;\n",
       "    }\n",
       "\n",
       "    .dataframe tbody tr th {\n",
       "        vertical-align: top;\n",
       "    }\n",
       "\n",
       "    .dataframe thead th {\n",
       "        text-align: right;\n",
       "    }\n",
       "</style>\n",
       "<table border=\"1\" class=\"dataframe\">\n",
       "  <thead>\n",
       "    <tr style=\"text-align: right;\">\n",
       "      <th></th>\n",
       "      <th>user_id</th>\n",
       "      <th>month</th>\n",
       "      <th>mb_in_month</th>\n",
       "    </tr>\n",
       "  </thead>\n",
       "  <tbody>\n",
       "    <tr>\n",
       "      <th>0</th>\n",
       "      <td>1000</td>\n",
       "      <td>5</td>\n",
       "      <td>2256</td>\n",
       "    </tr>\n",
       "    <tr>\n",
       "      <th>1</th>\n",
       "      <td>1000</td>\n",
       "      <td>6</td>\n",
       "      <td>23257</td>\n",
       "    </tr>\n",
       "    <tr>\n",
       "      <th>2</th>\n",
       "      <td>1000</td>\n",
       "      <td>7</td>\n",
       "      <td>14016</td>\n",
       "    </tr>\n",
       "    <tr>\n",
       "      <th>3</th>\n",
       "      <td>1000</td>\n",
       "      <td>8</td>\n",
       "      <td>14070</td>\n",
       "    </tr>\n",
       "    <tr>\n",
       "      <th>4</th>\n",
       "      <td>1000</td>\n",
       "      <td>9</td>\n",
       "      <td>14581</td>\n",
       "    </tr>\n",
       "    <tr>\n",
       "      <th>...</th>\n",
       "      <td>...</td>\n",
       "      <td>...</td>\n",
       "      <td>...</td>\n",
       "    </tr>\n",
       "    <tr>\n",
       "      <th>3198</th>\n",
       "      <td>1498</td>\n",
       "      <td>10</td>\n",
       "      <td>20604</td>\n",
       "    </tr>\n",
       "    <tr>\n",
       "      <th>3199</th>\n",
       "      <td>1499</td>\n",
       "      <td>9</td>\n",
       "      <td>1848</td>\n",
       "    </tr>\n",
       "    <tr>\n",
       "      <th>3200</th>\n",
       "      <td>1499</td>\n",
       "      <td>10</td>\n",
       "      <td>17809</td>\n",
       "    </tr>\n",
       "    <tr>\n",
       "      <th>3201</th>\n",
       "      <td>1499</td>\n",
       "      <td>11</td>\n",
       "      <td>17984</td>\n",
       "    </tr>\n",
       "    <tr>\n",
       "      <th>3202</th>\n",
       "      <td>1499</td>\n",
       "      <td>12</td>\n",
       "      <td>13077</td>\n",
       "    </tr>\n",
       "  </tbody>\n",
       "</table>\n",
       "<p>3203 rows × 3 columns</p>\n",
       "</div>"
      ],
      "text/plain": [
       "      user_id  month  mb_in_month\n",
       "0        1000      5         2256\n",
       "1        1000      6        23257\n",
       "2        1000      7        14016\n",
       "3        1000      8        14070\n",
       "4        1000      9        14581\n",
       "...       ...    ...          ...\n",
       "3198     1498     10        20604\n",
       "3199     1499      9         1848\n",
       "3200     1499     10        17809\n",
       "3201     1499     11        17984\n",
       "3202     1499     12        13077\n",
       "\n",
       "[3203 rows x 3 columns]"
      ]
     },
     "execution_count": 24,
     "metadata": {},
     "output_type": "execute_result"
    }
   ],
   "source": [
    "user_internet = internet.groupby(['user_id', 'month'])\\\n",
    "                        .agg({'mb_used':'sum'})\\\n",
    "                        .reset_index()\\\n",
    "                        .rename(columns={'mb_used':'mb_in_month'})\n",
    "user_internet"
   ]
  },
  {
   "cell_type": "markdown",
   "id": "6a4b6dcc",
   "metadata": {},
   "source": [
    "Так же добавим столбце с гигабайтами для удобства и удалим столбец с мегабайтами."
   ]
  },
  {
   "cell_type": "code",
   "execution_count": 25,
   "id": "73f38dfe",
   "metadata": {},
   "outputs": [
    {
     "data": {
      "text/html": [
       "<div>\n",
       "<style scoped>\n",
       "    .dataframe tbody tr th:only-of-type {\n",
       "        vertical-align: middle;\n",
       "    }\n",
       "\n",
       "    .dataframe tbody tr th {\n",
       "        vertical-align: top;\n",
       "    }\n",
       "\n",
       "    .dataframe thead th {\n",
       "        text-align: right;\n",
       "    }\n",
       "</style>\n",
       "<table border=\"1\" class=\"dataframe\">\n",
       "  <thead>\n",
       "    <tr style=\"text-align: right;\">\n",
       "      <th></th>\n",
       "      <th>user_id</th>\n",
       "      <th>month</th>\n",
       "      <th>gb_in_month</th>\n",
       "    </tr>\n",
       "  </thead>\n",
       "  <tbody>\n",
       "    <tr>\n",
       "      <th>0</th>\n",
       "      <td>1000</td>\n",
       "      <td>5</td>\n",
       "      <td>3.0</td>\n",
       "    </tr>\n",
       "    <tr>\n",
       "      <th>1</th>\n",
       "      <td>1000</td>\n",
       "      <td>6</td>\n",
       "      <td>23.0</td>\n",
       "    </tr>\n",
       "    <tr>\n",
       "      <th>2</th>\n",
       "      <td>1000</td>\n",
       "      <td>7</td>\n",
       "      <td>14.0</td>\n",
       "    </tr>\n",
       "    <tr>\n",
       "      <th>3</th>\n",
       "      <td>1000</td>\n",
       "      <td>8</td>\n",
       "      <td>14.0</td>\n",
       "    </tr>\n",
       "    <tr>\n",
       "      <th>4</th>\n",
       "      <td>1000</td>\n",
       "      <td>9</td>\n",
       "      <td>15.0</td>\n",
       "    </tr>\n",
       "    <tr>\n",
       "      <th>...</th>\n",
       "      <td>...</td>\n",
       "      <td>...</td>\n",
       "      <td>...</td>\n",
       "    </tr>\n",
       "    <tr>\n",
       "      <th>3198</th>\n",
       "      <td>1498</td>\n",
       "      <td>10</td>\n",
       "      <td>21.0</td>\n",
       "    </tr>\n",
       "    <tr>\n",
       "      <th>3199</th>\n",
       "      <td>1499</td>\n",
       "      <td>9</td>\n",
       "      <td>2.0</td>\n",
       "    </tr>\n",
       "    <tr>\n",
       "      <th>3200</th>\n",
       "      <td>1499</td>\n",
       "      <td>10</td>\n",
       "      <td>18.0</td>\n",
       "    </tr>\n",
       "    <tr>\n",
       "      <th>3201</th>\n",
       "      <td>1499</td>\n",
       "      <td>11</td>\n",
       "      <td>18.0</td>\n",
       "    </tr>\n",
       "    <tr>\n",
       "      <th>3202</th>\n",
       "      <td>1499</td>\n",
       "      <td>12</td>\n",
       "      <td>13.0</td>\n",
       "    </tr>\n",
       "  </tbody>\n",
       "</table>\n",
       "<p>3203 rows × 3 columns</p>\n",
       "</div>"
      ],
      "text/plain": [
       "      user_id  month  gb_in_month\n",
       "0        1000      5          3.0\n",
       "1        1000      6         23.0\n",
       "2        1000      7         14.0\n",
       "3        1000      8         14.0\n",
       "4        1000      9         15.0\n",
       "...       ...    ...          ...\n",
       "3198     1498     10         21.0\n",
       "3199     1499      9          2.0\n",
       "3200     1499     10         18.0\n",
       "3201     1499     11         18.0\n",
       "3202     1499     12         13.0\n",
       "\n",
       "[3203 rows x 3 columns]"
      ]
     },
     "execution_count": 25,
     "metadata": {},
     "output_type": "execute_result"
    }
   ],
   "source": [
    "user_internet['gb_in_month'] = user_internet.mb_in_month / 1024\n",
    "user_internet.gb_in_month = np.ceil(user_internet.gb_in_month)\n",
    "user_internet.drop('mb_in_month', axis=1, inplace=True)\n",
    "user_internet"
   ]
  },
  {
   "cell_type": "code",
   "execution_count": 26,
   "id": "378a149c",
   "metadata": {},
   "outputs": [
    {
     "data": {
      "text/html": [
       "<div>\n",
       "<style scoped>\n",
       "    .dataframe tbody tr th:only-of-type {\n",
       "        vertical-align: middle;\n",
       "    }\n",
       "\n",
       "    .dataframe tbody tr th {\n",
       "        vertical-align: top;\n",
       "    }\n",
       "\n",
       "    .dataframe thead th {\n",
       "        text-align: right;\n",
       "    }\n",
       "</style>\n",
       "<table border=\"1\" class=\"dataframe\">\n",
       "  <thead>\n",
       "    <tr style=\"text-align: right;\">\n",
       "      <th></th>\n",
       "      <th>user_id</th>\n",
       "      <th>month</th>\n",
       "      <th>min_in_month</th>\n",
       "    </tr>\n",
       "  </thead>\n",
       "  <tbody>\n",
       "    <tr>\n",
       "      <th>0</th>\n",
       "      <td>1000</td>\n",
       "      <td>5</td>\n",
       "      <td>159</td>\n",
       "    </tr>\n",
       "    <tr>\n",
       "      <th>1</th>\n",
       "      <td>1000</td>\n",
       "      <td>6</td>\n",
       "      <td>172</td>\n",
       "    </tr>\n",
       "    <tr>\n",
       "      <th>2</th>\n",
       "      <td>1000</td>\n",
       "      <td>7</td>\n",
       "      <td>340</td>\n",
       "    </tr>\n",
       "    <tr>\n",
       "      <th>3</th>\n",
       "      <td>1000</td>\n",
       "      <td>8</td>\n",
       "      <td>408</td>\n",
       "    </tr>\n",
       "    <tr>\n",
       "      <th>4</th>\n",
       "      <td>1000</td>\n",
       "      <td>9</td>\n",
       "      <td>466</td>\n",
       "    </tr>\n",
       "    <tr>\n",
       "      <th>...</th>\n",
       "      <td>...</td>\n",
       "      <td>...</td>\n",
       "      <td>...</td>\n",
       "    </tr>\n",
       "    <tr>\n",
       "      <th>3169</th>\n",
       "      <td>1498</td>\n",
       "      <td>10</td>\n",
       "      <td>247</td>\n",
       "    </tr>\n",
       "    <tr>\n",
       "      <th>3170</th>\n",
       "      <td>1499</td>\n",
       "      <td>9</td>\n",
       "      <td>70</td>\n",
       "    </tr>\n",
       "    <tr>\n",
       "      <th>3171</th>\n",
       "      <td>1499</td>\n",
       "      <td>10</td>\n",
       "      <td>449</td>\n",
       "    </tr>\n",
       "    <tr>\n",
       "      <th>3172</th>\n",
       "      <td>1499</td>\n",
       "      <td>11</td>\n",
       "      <td>612</td>\n",
       "    </tr>\n",
       "    <tr>\n",
       "      <th>3173</th>\n",
       "      <td>1499</td>\n",
       "      <td>12</td>\n",
       "      <td>492</td>\n",
       "    </tr>\n",
       "  </tbody>\n",
       "</table>\n",
       "<p>3174 rows × 3 columns</p>\n",
       "</div>"
      ],
      "text/plain": [
       "      user_id  month  min_in_month\n",
       "0        1000      5           159\n",
       "1        1000      6           172\n",
       "2        1000      7           340\n",
       "3        1000      8           408\n",
       "4        1000      9           466\n",
       "...       ...    ...           ...\n",
       "3169     1498     10           247\n",
       "3170     1499      9            70\n",
       "3171     1499     10           449\n",
       "3172     1499     11           612\n",
       "3173     1499     12           492\n",
       "\n",
       "[3174 rows x 3 columns]"
      ]
     },
     "execution_count": 26,
     "metadata": {},
     "output_type": "execute_result"
    }
   ],
   "source": [
    "user_calls = calls.groupby(['user_id', 'month'])\\\n",
    "                        .agg({'duration':'sum'})\\\n",
    "                        .reset_index()\\\n",
    "                        .rename(columns={'duration':'min_in_month'})\n",
    "user_calls"
   ]
  },
  {
   "cell_type": "code",
   "execution_count": 27,
   "id": "d2d37cf6",
   "metadata": {
    "scrolled": true
   },
   "outputs": [
    {
     "data": {
      "text/html": [
       "<div>\n",
       "<style scoped>\n",
       "    .dataframe tbody tr th:only-of-type {\n",
       "        vertical-align: middle;\n",
       "    }\n",
       "\n",
       "    .dataframe tbody tr th {\n",
       "        vertical-align: top;\n",
       "    }\n",
       "\n",
       "    .dataframe thead th {\n",
       "        text-align: right;\n",
       "    }\n",
       "</style>\n",
       "<table border=\"1\" class=\"dataframe\">\n",
       "  <thead>\n",
       "    <tr style=\"text-align: right;\">\n",
       "      <th></th>\n",
       "      <th>user_id</th>\n",
       "      <th>month</th>\n",
       "      <th>msg_in_month</th>\n",
       "    </tr>\n",
       "  </thead>\n",
       "  <tbody>\n",
       "    <tr>\n",
       "      <th>0</th>\n",
       "      <td>1000</td>\n",
       "      <td>5</td>\n",
       "      <td>22</td>\n",
       "    </tr>\n",
       "    <tr>\n",
       "      <th>1</th>\n",
       "      <td>1000</td>\n",
       "      <td>6</td>\n",
       "      <td>60</td>\n",
       "    </tr>\n",
       "    <tr>\n",
       "      <th>2</th>\n",
       "      <td>1000</td>\n",
       "      <td>7</td>\n",
       "      <td>75</td>\n",
       "    </tr>\n",
       "    <tr>\n",
       "      <th>3</th>\n",
       "      <td>1000</td>\n",
       "      <td>8</td>\n",
       "      <td>81</td>\n",
       "    </tr>\n",
       "    <tr>\n",
       "      <th>4</th>\n",
       "      <td>1000</td>\n",
       "      <td>9</td>\n",
       "      <td>57</td>\n",
       "    </tr>\n",
       "    <tr>\n",
       "      <th>...</th>\n",
       "      <td>...</td>\n",
       "      <td>...</td>\n",
       "      <td>...</td>\n",
       "    </tr>\n",
       "    <tr>\n",
       "      <th>2712</th>\n",
       "      <td>1498</td>\n",
       "      <td>10</td>\n",
       "      <td>42</td>\n",
       "    </tr>\n",
       "    <tr>\n",
       "      <th>2713</th>\n",
       "      <td>1499</td>\n",
       "      <td>9</td>\n",
       "      <td>11</td>\n",
       "    </tr>\n",
       "    <tr>\n",
       "      <th>2714</th>\n",
       "      <td>1499</td>\n",
       "      <td>10</td>\n",
       "      <td>48</td>\n",
       "    </tr>\n",
       "    <tr>\n",
       "      <th>2715</th>\n",
       "      <td>1499</td>\n",
       "      <td>11</td>\n",
       "      <td>59</td>\n",
       "    </tr>\n",
       "    <tr>\n",
       "      <th>2716</th>\n",
       "      <td>1499</td>\n",
       "      <td>12</td>\n",
       "      <td>66</td>\n",
       "    </tr>\n",
       "  </tbody>\n",
       "</table>\n",
       "<p>2717 rows × 3 columns</p>\n",
       "</div>"
      ],
      "text/plain": [
       "      user_id  month  msg_in_month\n",
       "0        1000      5            22\n",
       "1        1000      6            60\n",
       "2        1000      7            75\n",
       "3        1000      8            81\n",
       "4        1000      9            57\n",
       "...       ...    ...           ...\n",
       "2712     1498     10            42\n",
       "2713     1499      9            11\n",
       "2714     1499     10            48\n",
       "2715     1499     11            59\n",
       "2716     1499     12            66\n",
       "\n",
       "[2717 rows x 3 columns]"
      ]
     },
     "execution_count": 27,
     "metadata": {},
     "output_type": "execute_result"
    }
   ],
   "source": [
    "user_messages = messages.groupby(['user_id', 'month'])\\\n",
    "                        .agg({'id':'count'})\\\n",
    "                        .reset_index()\\\n",
    "                        .rename(columns={'id':'msg_in_month'})\n",
    "user_messages"
   ]
  },
  {
   "cell_type": "markdown",
   "id": "24795f15",
   "metadata": {},
   "source": [
    "## Помесячная выручка с каждого пользователя."
   ]
  },
  {
   "cell_type": "markdown",
   "id": "a8934447",
   "metadata": {},
   "source": [
    "Сводная таблица по пользователям и месяцам"
   ]
  },
  {
   "cell_type": "code",
   "execution_count": 28,
   "id": "6d8ae464",
   "metadata": {
    "scrolled": false
   },
   "outputs": [
    {
     "data": {
      "text/html": [
       "<div>\n",
       "<style scoped>\n",
       "    .dataframe tbody tr th:only-of-type {\n",
       "        vertical-align: middle;\n",
       "    }\n",
       "\n",
       "    .dataframe tbody tr th {\n",
       "        vertical-align: top;\n",
       "    }\n",
       "\n",
       "    .dataframe thead th {\n",
       "        text-align: right;\n",
       "    }\n",
       "</style>\n",
       "<table border=\"1\" class=\"dataframe\">\n",
       "  <thead>\n",
       "    <tr style=\"text-align: right;\">\n",
       "      <th></th>\n",
       "      <th>user_id</th>\n",
       "      <th>month</th>\n",
       "      <th>min_in_month</th>\n",
       "      <th>msg_in_month</th>\n",
       "      <th>gb_in_month</th>\n",
       "    </tr>\n",
       "  </thead>\n",
       "  <tbody>\n",
       "    <tr>\n",
       "      <th>0</th>\n",
       "      <td>1000</td>\n",
       "      <td>5</td>\n",
       "      <td>159.0</td>\n",
       "      <td>22.0</td>\n",
       "      <td>3.0</td>\n",
       "    </tr>\n",
       "    <tr>\n",
       "      <th>1</th>\n",
       "      <td>1000</td>\n",
       "      <td>6</td>\n",
       "      <td>172.0</td>\n",
       "      <td>60.0</td>\n",
       "      <td>23.0</td>\n",
       "    </tr>\n",
       "    <tr>\n",
       "      <th>2</th>\n",
       "      <td>1000</td>\n",
       "      <td>7</td>\n",
       "      <td>340.0</td>\n",
       "      <td>75.0</td>\n",
       "      <td>14.0</td>\n",
       "    </tr>\n",
       "    <tr>\n",
       "      <th>3</th>\n",
       "      <td>1000</td>\n",
       "      <td>8</td>\n",
       "      <td>408.0</td>\n",
       "      <td>81.0</td>\n",
       "      <td>14.0</td>\n",
       "    </tr>\n",
       "    <tr>\n",
       "      <th>4</th>\n",
       "      <td>1000</td>\n",
       "      <td>9</td>\n",
       "      <td>466.0</td>\n",
       "      <td>57.0</td>\n",
       "      <td>15.0</td>\n",
       "    </tr>\n",
       "  </tbody>\n",
       "</table>\n",
       "</div>"
      ],
      "text/plain": [
       "   user_id  month  min_in_month  msg_in_month  gb_in_month\n",
       "0     1000      5         159.0          22.0          3.0\n",
       "1     1000      6         172.0          60.0         23.0\n",
       "2     1000      7         340.0          75.0         14.0\n",
       "3     1000      8         408.0          81.0         14.0\n",
       "4     1000      9         466.0          57.0         15.0"
      ]
     },
     "execution_count": 28,
     "metadata": {},
     "output_type": "execute_result"
    }
   ],
   "source": [
    "sv_table = user_calls.merge(user_messages, on=['user_id','month'], how='outer')\n",
    "sv_table = sv_table.merge(user_internet, on=['user_id','month'], how='outer')\n",
    "sv_table.head()"
   ]
  },
  {
   "cell_type": "markdown",
   "id": "48197f8a",
   "metadata": {},
   "source": [
    "Добавили в таблицу информацию о тарифе"
   ]
  },
  {
   "cell_type": "code",
   "execution_count": 29,
   "id": "f6e29dd6",
   "metadata": {
    "scrolled": false
   },
   "outputs": [
    {
     "data": {
      "text/html": [
       "<div>\n",
       "<style scoped>\n",
       "    .dataframe tbody tr th:only-of-type {\n",
       "        vertical-align: middle;\n",
       "    }\n",
       "\n",
       "    .dataframe tbody tr th {\n",
       "        vertical-align: top;\n",
       "    }\n",
       "\n",
       "    .dataframe thead th {\n",
       "        text-align: right;\n",
       "    }\n",
       "</style>\n",
       "<table border=\"1\" class=\"dataframe\">\n",
       "  <thead>\n",
       "    <tr style=\"text-align: right;\">\n",
       "      <th></th>\n",
       "      <th>user_id</th>\n",
       "      <th>month</th>\n",
       "      <th>min_in_month</th>\n",
       "      <th>msg_in_month</th>\n",
       "      <th>gb_in_month</th>\n",
       "      <th>tariff</th>\n",
       "      <th>city</th>\n",
       "    </tr>\n",
       "  </thead>\n",
       "  <tbody>\n",
       "    <tr>\n",
       "      <th>0</th>\n",
       "      <td>1000</td>\n",
       "      <td>5</td>\n",
       "      <td>159.0</td>\n",
       "      <td>22.0</td>\n",
       "      <td>3.0</td>\n",
       "      <td>ultra</td>\n",
       "      <td>Краснодар</td>\n",
       "    </tr>\n",
       "    <tr>\n",
       "      <th>1</th>\n",
       "      <td>1000</td>\n",
       "      <td>6</td>\n",
       "      <td>172.0</td>\n",
       "      <td>60.0</td>\n",
       "      <td>23.0</td>\n",
       "      <td>ultra</td>\n",
       "      <td>Краснодар</td>\n",
       "    </tr>\n",
       "    <tr>\n",
       "      <th>2</th>\n",
       "      <td>1000</td>\n",
       "      <td>7</td>\n",
       "      <td>340.0</td>\n",
       "      <td>75.0</td>\n",
       "      <td>14.0</td>\n",
       "      <td>ultra</td>\n",
       "      <td>Краснодар</td>\n",
       "    </tr>\n",
       "    <tr>\n",
       "      <th>3</th>\n",
       "      <td>1000</td>\n",
       "      <td>8</td>\n",
       "      <td>408.0</td>\n",
       "      <td>81.0</td>\n",
       "      <td>14.0</td>\n",
       "      <td>ultra</td>\n",
       "      <td>Краснодар</td>\n",
       "    </tr>\n",
       "    <tr>\n",
       "      <th>4</th>\n",
       "      <td>1000</td>\n",
       "      <td>9</td>\n",
       "      <td>466.0</td>\n",
       "      <td>57.0</td>\n",
       "      <td>15.0</td>\n",
       "      <td>ultra</td>\n",
       "      <td>Краснодар</td>\n",
       "    </tr>\n",
       "  </tbody>\n",
       "</table>\n",
       "</div>"
      ],
      "text/plain": [
       "   user_id  month  min_in_month  msg_in_month  gb_in_month tariff       city\n",
       "0     1000      5         159.0          22.0          3.0  ultra  Краснодар\n",
       "1     1000      6         172.0          60.0         23.0  ultra  Краснодар\n",
       "2     1000      7         340.0          75.0         14.0  ultra  Краснодар\n",
       "3     1000      8         408.0          81.0         14.0  ultra  Краснодар\n",
       "4     1000      9         466.0          57.0         15.0  ultra  Краснодар"
      ]
     },
     "execution_count": 29,
     "metadata": {},
     "output_type": "execute_result"
    }
   ],
   "source": [
    "sv_table = sv_table.merge(users[['user_id', 'tariff', 'city']], on='user_id', how='left')\n",
    "\n",
    "sv_table.head()"
   ]
  },
  {
   "cell_type": "markdown",
   "id": "1df777a3",
   "metadata": {},
   "source": [
    "Пропуски в данных могут означать что в это время люди не пользовались звонками и интернотом, а большое количество пропусков в смс сообщениях вполне логично, так как люди сейчас редко их отправляют. Можно заменить все пропущенные значения на ноль."
   ]
  },
  {
   "cell_type": "code",
   "execution_count": 30,
   "id": "bf777311",
   "metadata": {},
   "outputs": [
    {
     "data": {
      "text/plain": [
       "user_id         0\n",
       "month           0\n",
       "min_in_month    0\n",
       "msg_in_month    0\n",
       "gb_in_month     0\n",
       "tariff          0\n",
       "city            0\n",
       "dtype: int64"
      ]
     },
     "execution_count": 30,
     "metadata": {},
     "output_type": "execute_result"
    }
   ],
   "source": [
    "sv_table = sv_table.fillna(0)\n",
    "\n",
    "sv_table.isnull().sum()"
   ]
  },
  {
   "cell_type": "code",
   "execution_count": 31,
   "id": "20e0f986",
   "metadata": {
    "scrolled": false
   },
   "outputs": [
    {
     "data": {
      "text/html": [
       "<div>\n",
       "<style scoped>\n",
       "    .dataframe tbody tr th:only-of-type {\n",
       "        vertical-align: middle;\n",
       "    }\n",
       "\n",
       "    .dataframe tbody tr th {\n",
       "        vertical-align: top;\n",
       "    }\n",
       "\n",
       "    .dataframe thead th {\n",
       "        text-align: right;\n",
       "    }\n",
       "</style>\n",
       "<table border=\"1\" class=\"dataframe\">\n",
       "  <thead>\n",
       "    <tr style=\"text-align: right;\">\n",
       "      <th></th>\n",
       "      <th>messages_included</th>\n",
       "      <th>mb_per_month_included</th>\n",
       "      <th>minutes_included</th>\n",
       "      <th>rub_monthly_fee</th>\n",
       "      <th>rub_per_gb</th>\n",
       "      <th>rub_per_message</th>\n",
       "      <th>rub_per_minute</th>\n",
       "      <th>tariff_name</th>\n",
       "    </tr>\n",
       "  </thead>\n",
       "  <tbody>\n",
       "    <tr>\n",
       "      <th>0</th>\n",
       "      <td>50</td>\n",
       "      <td>15360</td>\n",
       "      <td>500</td>\n",
       "      <td>550</td>\n",
       "      <td>200</td>\n",
       "      <td>3</td>\n",
       "      <td>3</td>\n",
       "      <td>smart</td>\n",
       "    </tr>\n",
       "    <tr>\n",
       "      <th>1</th>\n",
       "      <td>1000</td>\n",
       "      <td>30720</td>\n",
       "      <td>3000</td>\n",
       "      <td>1950</td>\n",
       "      <td>150</td>\n",
       "      <td>1</td>\n",
       "      <td>1</td>\n",
       "      <td>ultra</td>\n",
       "    </tr>\n",
       "  </tbody>\n",
       "</table>\n",
       "</div>"
      ],
      "text/plain": [
       "   messages_included  mb_per_month_included  minutes_included  \\\n",
       "0                 50                  15360               500   \n",
       "1               1000                  30720              3000   \n",
       "\n",
       "   rub_monthly_fee  rub_per_gb  rub_per_message  rub_per_minute tariff_name  \n",
       "0              550         200                3               3       smart  \n",
       "1             1950         150                1               1       ultra  "
      ]
     },
     "execution_count": 31,
     "metadata": {},
     "output_type": "execute_result"
    }
   ],
   "source": [
    "tariffs.head()"
   ]
  },
  {
   "cell_type": "markdown",
   "id": "340588ce",
   "metadata": {},
   "source": [
    "- Пересчитаем в тарифе мегабайты в гигабайты и добавим их в отдельный столбец\n",
    "- Изменим название столбца \"tariff_name\" на \"tariff\""
   ]
  },
  {
   "cell_type": "code",
   "execution_count": 32,
   "id": "ccf8a3a6",
   "metadata": {
    "scrolled": false
   },
   "outputs": [
    {
     "data": {
      "text/html": [
       "<div>\n",
       "<style scoped>\n",
       "    .dataframe tbody tr th:only-of-type {\n",
       "        vertical-align: middle;\n",
       "    }\n",
       "\n",
       "    .dataframe tbody tr th {\n",
       "        vertical-align: top;\n",
       "    }\n",
       "\n",
       "    .dataframe thead th {\n",
       "        text-align: right;\n",
       "    }\n",
       "</style>\n",
       "<table border=\"1\" class=\"dataframe\">\n",
       "  <thead>\n",
       "    <tr style=\"text-align: right;\">\n",
       "      <th></th>\n",
       "      <th>messages_included</th>\n",
       "      <th>mb_per_month_included</th>\n",
       "      <th>minutes_included</th>\n",
       "      <th>rub_monthly_fee</th>\n",
       "      <th>rub_per_gb</th>\n",
       "      <th>rub_per_message</th>\n",
       "      <th>rub_per_minute</th>\n",
       "      <th>tariff</th>\n",
       "      <th>gb_included</th>\n",
       "    </tr>\n",
       "  </thead>\n",
       "  <tbody>\n",
       "    <tr>\n",
       "      <th>0</th>\n",
       "      <td>50</td>\n",
       "      <td>15360</td>\n",
       "      <td>500</td>\n",
       "      <td>550</td>\n",
       "      <td>200</td>\n",
       "      <td>3</td>\n",
       "      <td>3</td>\n",
       "      <td>smart</td>\n",
       "      <td>15.0</td>\n",
       "    </tr>\n",
       "    <tr>\n",
       "      <th>1</th>\n",
       "      <td>1000</td>\n",
       "      <td>30720</td>\n",
       "      <td>3000</td>\n",
       "      <td>1950</td>\n",
       "      <td>150</td>\n",
       "      <td>1</td>\n",
       "      <td>1</td>\n",
       "      <td>ultra</td>\n",
       "      <td>30.0</td>\n",
       "    </tr>\n",
       "  </tbody>\n",
       "</table>\n",
       "</div>"
      ],
      "text/plain": [
       "   messages_included  mb_per_month_included  minutes_included  \\\n",
       "0                 50                  15360               500   \n",
       "1               1000                  30720              3000   \n",
       "\n",
       "   rub_monthly_fee  rub_per_gb  rub_per_message  rub_per_minute tariff  \\\n",
       "0              550         200                3               3  smart   \n",
       "1             1950         150                1               1  ultra   \n",
       "\n",
       "   gb_included  \n",
       "0         15.0  \n",
       "1         30.0  "
      ]
     },
     "execution_count": 32,
     "metadata": {},
     "output_type": "execute_result"
    }
   ],
   "source": [
    "tariffs = tariffs.rename(columns={'tariff_name':'tariff'})\n",
    "\n",
    "tariffs['gb_included'] = tariffs.mb_per_month_included / 1024\n",
    "\n",
    "tariffs"
   ]
  },
  {
   "cell_type": "code",
   "execution_count": 33,
   "id": "3481f9d5",
   "metadata": {},
   "outputs": [],
   "source": [
    "sv_table = sv_table.merge(tariffs, on =['tariff'],how='left')"
   ]
  },
  {
   "cell_type": "code",
   "execution_count": 34,
   "id": "2e03a5cf",
   "metadata": {
    "scrolled": true
   },
   "outputs": [
    {
     "data": {
      "text/html": [
       "<div>\n",
       "<style scoped>\n",
       "    .dataframe tbody tr th:only-of-type {\n",
       "        vertical-align: middle;\n",
       "    }\n",
       "\n",
       "    .dataframe tbody tr th {\n",
       "        vertical-align: top;\n",
       "    }\n",
       "\n",
       "    .dataframe thead th {\n",
       "        text-align: right;\n",
       "    }\n",
       "</style>\n",
       "<table border=\"1\" class=\"dataframe\">\n",
       "  <thead>\n",
       "    <tr style=\"text-align: right;\">\n",
       "      <th></th>\n",
       "      <th>user_id</th>\n",
       "      <th>month</th>\n",
       "      <th>min_in_month</th>\n",
       "      <th>msg_in_month</th>\n",
       "      <th>gb_in_month</th>\n",
       "      <th>tariff</th>\n",
       "      <th>city</th>\n",
       "      <th>messages_included</th>\n",
       "      <th>mb_per_month_included</th>\n",
       "      <th>minutes_included</th>\n",
       "      <th>rub_monthly_fee</th>\n",
       "      <th>rub_per_gb</th>\n",
       "      <th>rub_per_message</th>\n",
       "      <th>rub_per_minute</th>\n",
       "      <th>gb_included</th>\n",
       "    </tr>\n",
       "  </thead>\n",
       "  <tbody>\n",
       "    <tr>\n",
       "      <th>0</th>\n",
       "      <td>1000</td>\n",
       "      <td>5</td>\n",
       "      <td>159.0</td>\n",
       "      <td>22.0</td>\n",
       "      <td>3.0</td>\n",
       "      <td>ultra</td>\n",
       "      <td>Краснодар</td>\n",
       "      <td>1000</td>\n",
       "      <td>30720</td>\n",
       "      <td>3000</td>\n",
       "      <td>1950</td>\n",
       "      <td>150</td>\n",
       "      <td>1</td>\n",
       "      <td>1</td>\n",
       "      <td>30.0</td>\n",
       "    </tr>\n",
       "    <tr>\n",
       "      <th>1</th>\n",
       "      <td>1000</td>\n",
       "      <td>6</td>\n",
       "      <td>172.0</td>\n",
       "      <td>60.0</td>\n",
       "      <td>23.0</td>\n",
       "      <td>ultra</td>\n",
       "      <td>Краснодар</td>\n",
       "      <td>1000</td>\n",
       "      <td>30720</td>\n",
       "      <td>3000</td>\n",
       "      <td>1950</td>\n",
       "      <td>150</td>\n",
       "      <td>1</td>\n",
       "      <td>1</td>\n",
       "      <td>30.0</td>\n",
       "    </tr>\n",
       "    <tr>\n",
       "      <th>2</th>\n",
       "      <td>1000</td>\n",
       "      <td>7</td>\n",
       "      <td>340.0</td>\n",
       "      <td>75.0</td>\n",
       "      <td>14.0</td>\n",
       "      <td>ultra</td>\n",
       "      <td>Краснодар</td>\n",
       "      <td>1000</td>\n",
       "      <td>30720</td>\n",
       "      <td>3000</td>\n",
       "      <td>1950</td>\n",
       "      <td>150</td>\n",
       "      <td>1</td>\n",
       "      <td>1</td>\n",
       "      <td>30.0</td>\n",
       "    </tr>\n",
       "    <tr>\n",
       "      <th>3</th>\n",
       "      <td>1000</td>\n",
       "      <td>8</td>\n",
       "      <td>408.0</td>\n",
       "      <td>81.0</td>\n",
       "      <td>14.0</td>\n",
       "      <td>ultra</td>\n",
       "      <td>Краснодар</td>\n",
       "      <td>1000</td>\n",
       "      <td>30720</td>\n",
       "      <td>3000</td>\n",
       "      <td>1950</td>\n",
       "      <td>150</td>\n",
       "      <td>1</td>\n",
       "      <td>1</td>\n",
       "      <td>30.0</td>\n",
       "    </tr>\n",
       "    <tr>\n",
       "      <th>4</th>\n",
       "      <td>1000</td>\n",
       "      <td>9</td>\n",
       "      <td>466.0</td>\n",
       "      <td>57.0</td>\n",
       "      <td>15.0</td>\n",
       "      <td>ultra</td>\n",
       "      <td>Краснодар</td>\n",
       "      <td>1000</td>\n",
       "      <td>30720</td>\n",
       "      <td>3000</td>\n",
       "      <td>1950</td>\n",
       "      <td>150</td>\n",
       "      <td>1</td>\n",
       "      <td>1</td>\n",
       "      <td>30.0</td>\n",
       "    </tr>\n",
       "    <tr>\n",
       "      <th>5</th>\n",
       "      <td>1000</td>\n",
       "      <td>10</td>\n",
       "      <td>350.0</td>\n",
       "      <td>73.0</td>\n",
       "      <td>15.0</td>\n",
       "      <td>ultra</td>\n",
       "      <td>Краснодар</td>\n",
       "      <td>1000</td>\n",
       "      <td>30720</td>\n",
       "      <td>3000</td>\n",
       "      <td>1950</td>\n",
       "      <td>150</td>\n",
       "      <td>1</td>\n",
       "      <td>1</td>\n",
       "      <td>30.0</td>\n",
       "    </tr>\n",
       "    <tr>\n",
       "      <th>6</th>\n",
       "      <td>1000</td>\n",
       "      <td>11</td>\n",
       "      <td>338.0</td>\n",
       "      <td>58.0</td>\n",
       "      <td>15.0</td>\n",
       "      <td>ultra</td>\n",
       "      <td>Краснодар</td>\n",
       "      <td>1000</td>\n",
       "      <td>30720</td>\n",
       "      <td>3000</td>\n",
       "      <td>1950</td>\n",
       "      <td>150</td>\n",
       "      <td>1</td>\n",
       "      <td>1</td>\n",
       "      <td>30.0</td>\n",
       "    </tr>\n",
       "    <tr>\n",
       "      <th>7</th>\n",
       "      <td>1000</td>\n",
       "      <td>12</td>\n",
       "      <td>333.0</td>\n",
       "      <td>70.0</td>\n",
       "      <td>10.0</td>\n",
       "      <td>ultra</td>\n",
       "      <td>Краснодар</td>\n",
       "      <td>1000</td>\n",
       "      <td>30720</td>\n",
       "      <td>3000</td>\n",
       "      <td>1950</td>\n",
       "      <td>150</td>\n",
       "      <td>1</td>\n",
       "      <td>1</td>\n",
       "      <td>30.0</td>\n",
       "    </tr>\n",
       "    <tr>\n",
       "      <th>8</th>\n",
       "      <td>1001</td>\n",
       "      <td>11</td>\n",
       "      <td>430.0</td>\n",
       "      <td>0.0</td>\n",
       "      <td>19.0</td>\n",
       "      <td>smart</td>\n",
       "      <td>Москва</td>\n",
       "      <td>50</td>\n",
       "      <td>15360</td>\n",
       "      <td>500</td>\n",
       "      <td>550</td>\n",
       "      <td>200</td>\n",
       "      <td>3</td>\n",
       "      <td>3</td>\n",
       "      <td>15.0</td>\n",
       "    </tr>\n",
       "    <tr>\n",
       "      <th>9</th>\n",
       "      <td>1001</td>\n",
       "      <td>12</td>\n",
       "      <td>414.0</td>\n",
       "      <td>0.0</td>\n",
       "      <td>14.0</td>\n",
       "      <td>smart</td>\n",
       "      <td>Москва</td>\n",
       "      <td>50</td>\n",
       "      <td>15360</td>\n",
       "      <td>500</td>\n",
       "      <td>550</td>\n",
       "      <td>200</td>\n",
       "      <td>3</td>\n",
       "      <td>3</td>\n",
       "      <td>15.0</td>\n",
       "    </tr>\n",
       "  </tbody>\n",
       "</table>\n",
       "</div>"
      ],
      "text/plain": [
       "   user_id  month  min_in_month  msg_in_month  gb_in_month tariff       city  \\\n",
       "0     1000      5         159.0          22.0          3.0  ultra  Краснодар   \n",
       "1     1000      6         172.0          60.0         23.0  ultra  Краснодар   \n",
       "2     1000      7         340.0          75.0         14.0  ultra  Краснодар   \n",
       "3     1000      8         408.0          81.0         14.0  ultra  Краснодар   \n",
       "4     1000      9         466.0          57.0         15.0  ultra  Краснодар   \n",
       "5     1000     10         350.0          73.0         15.0  ultra  Краснодар   \n",
       "6     1000     11         338.0          58.0         15.0  ultra  Краснодар   \n",
       "7     1000     12         333.0          70.0         10.0  ultra  Краснодар   \n",
       "8     1001     11         430.0           0.0         19.0  smart     Москва   \n",
       "9     1001     12         414.0           0.0         14.0  smart     Москва   \n",
       "\n",
       "   messages_included  mb_per_month_included  minutes_included  \\\n",
       "0               1000                  30720              3000   \n",
       "1               1000                  30720              3000   \n",
       "2               1000                  30720              3000   \n",
       "3               1000                  30720              3000   \n",
       "4               1000                  30720              3000   \n",
       "5               1000                  30720              3000   \n",
       "6               1000                  30720              3000   \n",
       "7               1000                  30720              3000   \n",
       "8                 50                  15360               500   \n",
       "9                 50                  15360               500   \n",
       "\n",
       "   rub_monthly_fee  rub_per_gb  rub_per_message  rub_per_minute  gb_included  \n",
       "0             1950         150                1               1         30.0  \n",
       "1             1950         150                1               1         30.0  \n",
       "2             1950         150                1               1         30.0  \n",
       "3             1950         150                1               1         30.0  \n",
       "4             1950         150                1               1         30.0  \n",
       "5             1950         150                1               1         30.0  \n",
       "6             1950         150                1               1         30.0  \n",
       "7             1950         150                1               1         30.0  \n",
       "8              550         200                3               3         15.0  \n",
       "9              550         200                3               3         15.0  "
      ]
     },
     "execution_count": 34,
     "metadata": {},
     "output_type": "execute_result"
    }
   ],
   "source": [
    "sv_table.head(10)"
   ]
  },
  {
   "cell_type": "markdown",
   "id": "7d63eef7",
   "metadata": {},
   "source": [
    "Расчитаем помесячную выручку.\n",
    "\n",
    "Вычтем использованую часть тарифа из всего тарифного плана, домножим на цену дополнительных услуг и добавим столбцы со стоимостью минут, смс и гигабайт сверх тарифа, если значние получилось отрицательное значит уложились в тарифный план и надо заменить значение в столбце на ноль. Так же добавим столбец с общей стоимостью."
   ]
  },
  {
   "cell_type": "code",
   "execution_count": 35,
   "id": "a2c391af",
   "metadata": {
    "scrolled": false
   },
   "outputs": [
    {
     "data": {
      "text/html": [
       "<div>\n",
       "<style scoped>\n",
       "    .dataframe tbody tr th:only-of-type {\n",
       "        vertical-align: middle;\n",
       "    }\n",
       "\n",
       "    .dataframe tbody tr th {\n",
       "        vertical-align: top;\n",
       "    }\n",
       "\n",
       "    .dataframe thead th {\n",
       "        text-align: right;\n",
       "    }\n",
       "</style>\n",
       "<table border=\"1\" class=\"dataframe\">\n",
       "  <thead>\n",
       "    <tr style=\"text-align: right;\">\n",
       "      <th></th>\n",
       "      <th>user_id</th>\n",
       "      <th>month</th>\n",
       "      <th>min_in_month</th>\n",
       "      <th>msg_in_month</th>\n",
       "      <th>gb_in_month</th>\n",
       "      <th>tariff</th>\n",
       "      <th>city</th>\n",
       "      <th>messages_included</th>\n",
       "      <th>mb_per_month_included</th>\n",
       "      <th>minutes_included</th>\n",
       "      <th>rub_monthly_fee</th>\n",
       "      <th>rub_per_gb</th>\n",
       "      <th>rub_per_message</th>\n",
       "      <th>rub_per_minute</th>\n",
       "      <th>gb_included</th>\n",
       "      <th>gb_cost</th>\n",
       "      <th>min_cost</th>\n",
       "      <th>sms_cost</th>\n",
       "      <th>total_cost</th>\n",
       "    </tr>\n",
       "  </thead>\n",
       "  <tbody>\n",
       "    <tr>\n",
       "      <th>0</th>\n",
       "      <td>1000</td>\n",
       "      <td>5</td>\n",
       "      <td>159.0</td>\n",
       "      <td>22.0</td>\n",
       "      <td>3.0</td>\n",
       "      <td>ultra</td>\n",
       "      <td>Краснодар</td>\n",
       "      <td>1000</td>\n",
       "      <td>30720</td>\n",
       "      <td>3000</td>\n",
       "      <td>1950</td>\n",
       "      <td>150</td>\n",
       "      <td>1</td>\n",
       "      <td>1</td>\n",
       "      <td>30.0</td>\n",
       "      <td>0.0</td>\n",
       "      <td>0.0</td>\n",
       "      <td>0.0</td>\n",
       "      <td>1950.0</td>\n",
       "    </tr>\n",
       "    <tr>\n",
       "      <th>1</th>\n",
       "      <td>1000</td>\n",
       "      <td>6</td>\n",
       "      <td>172.0</td>\n",
       "      <td>60.0</td>\n",
       "      <td>23.0</td>\n",
       "      <td>ultra</td>\n",
       "      <td>Краснодар</td>\n",
       "      <td>1000</td>\n",
       "      <td>30720</td>\n",
       "      <td>3000</td>\n",
       "      <td>1950</td>\n",
       "      <td>150</td>\n",
       "      <td>1</td>\n",
       "      <td>1</td>\n",
       "      <td>30.0</td>\n",
       "      <td>0.0</td>\n",
       "      <td>0.0</td>\n",
       "      <td>0.0</td>\n",
       "      <td>1950.0</td>\n",
       "    </tr>\n",
       "    <tr>\n",
       "      <th>2</th>\n",
       "      <td>1000</td>\n",
       "      <td>7</td>\n",
       "      <td>340.0</td>\n",
       "      <td>75.0</td>\n",
       "      <td>14.0</td>\n",
       "      <td>ultra</td>\n",
       "      <td>Краснодар</td>\n",
       "      <td>1000</td>\n",
       "      <td>30720</td>\n",
       "      <td>3000</td>\n",
       "      <td>1950</td>\n",
       "      <td>150</td>\n",
       "      <td>1</td>\n",
       "      <td>1</td>\n",
       "      <td>30.0</td>\n",
       "      <td>0.0</td>\n",
       "      <td>0.0</td>\n",
       "      <td>0.0</td>\n",
       "      <td>1950.0</td>\n",
       "    </tr>\n",
       "    <tr>\n",
       "      <th>3</th>\n",
       "      <td>1000</td>\n",
       "      <td>8</td>\n",
       "      <td>408.0</td>\n",
       "      <td>81.0</td>\n",
       "      <td>14.0</td>\n",
       "      <td>ultra</td>\n",
       "      <td>Краснодар</td>\n",
       "      <td>1000</td>\n",
       "      <td>30720</td>\n",
       "      <td>3000</td>\n",
       "      <td>1950</td>\n",
       "      <td>150</td>\n",
       "      <td>1</td>\n",
       "      <td>1</td>\n",
       "      <td>30.0</td>\n",
       "      <td>0.0</td>\n",
       "      <td>0.0</td>\n",
       "      <td>0.0</td>\n",
       "      <td>1950.0</td>\n",
       "    </tr>\n",
       "    <tr>\n",
       "      <th>4</th>\n",
       "      <td>1000</td>\n",
       "      <td>9</td>\n",
       "      <td>466.0</td>\n",
       "      <td>57.0</td>\n",
       "      <td>15.0</td>\n",
       "      <td>ultra</td>\n",
       "      <td>Краснодар</td>\n",
       "      <td>1000</td>\n",
       "      <td>30720</td>\n",
       "      <td>3000</td>\n",
       "      <td>1950</td>\n",
       "      <td>150</td>\n",
       "      <td>1</td>\n",
       "      <td>1</td>\n",
       "      <td>30.0</td>\n",
       "      <td>0.0</td>\n",
       "      <td>0.0</td>\n",
       "      <td>0.0</td>\n",
       "      <td>1950.0</td>\n",
       "    </tr>\n",
       "    <tr>\n",
       "      <th>5</th>\n",
       "      <td>1000</td>\n",
       "      <td>10</td>\n",
       "      <td>350.0</td>\n",
       "      <td>73.0</td>\n",
       "      <td>15.0</td>\n",
       "      <td>ultra</td>\n",
       "      <td>Краснодар</td>\n",
       "      <td>1000</td>\n",
       "      <td>30720</td>\n",
       "      <td>3000</td>\n",
       "      <td>1950</td>\n",
       "      <td>150</td>\n",
       "      <td>1</td>\n",
       "      <td>1</td>\n",
       "      <td>30.0</td>\n",
       "      <td>0.0</td>\n",
       "      <td>0.0</td>\n",
       "      <td>0.0</td>\n",
       "      <td>1950.0</td>\n",
       "    </tr>\n",
       "    <tr>\n",
       "      <th>6</th>\n",
       "      <td>1000</td>\n",
       "      <td>11</td>\n",
       "      <td>338.0</td>\n",
       "      <td>58.0</td>\n",
       "      <td>15.0</td>\n",
       "      <td>ultra</td>\n",
       "      <td>Краснодар</td>\n",
       "      <td>1000</td>\n",
       "      <td>30720</td>\n",
       "      <td>3000</td>\n",
       "      <td>1950</td>\n",
       "      <td>150</td>\n",
       "      <td>1</td>\n",
       "      <td>1</td>\n",
       "      <td>30.0</td>\n",
       "      <td>0.0</td>\n",
       "      <td>0.0</td>\n",
       "      <td>0.0</td>\n",
       "      <td>1950.0</td>\n",
       "    </tr>\n",
       "    <tr>\n",
       "      <th>7</th>\n",
       "      <td>1000</td>\n",
       "      <td>12</td>\n",
       "      <td>333.0</td>\n",
       "      <td>70.0</td>\n",
       "      <td>10.0</td>\n",
       "      <td>ultra</td>\n",
       "      <td>Краснодар</td>\n",
       "      <td>1000</td>\n",
       "      <td>30720</td>\n",
       "      <td>3000</td>\n",
       "      <td>1950</td>\n",
       "      <td>150</td>\n",
       "      <td>1</td>\n",
       "      <td>1</td>\n",
       "      <td>30.0</td>\n",
       "      <td>0.0</td>\n",
       "      <td>0.0</td>\n",
       "      <td>0.0</td>\n",
       "      <td>1950.0</td>\n",
       "    </tr>\n",
       "    <tr>\n",
       "      <th>8</th>\n",
       "      <td>1001</td>\n",
       "      <td>11</td>\n",
       "      <td>430.0</td>\n",
       "      <td>0.0</td>\n",
       "      <td>19.0</td>\n",
       "      <td>smart</td>\n",
       "      <td>Москва</td>\n",
       "      <td>50</td>\n",
       "      <td>15360</td>\n",
       "      <td>500</td>\n",
       "      <td>550</td>\n",
       "      <td>200</td>\n",
       "      <td>3</td>\n",
       "      <td>3</td>\n",
       "      <td>15.0</td>\n",
       "      <td>800.0</td>\n",
       "      <td>0.0</td>\n",
       "      <td>0.0</td>\n",
       "      <td>1350.0</td>\n",
       "    </tr>\n",
       "    <tr>\n",
       "      <th>9</th>\n",
       "      <td>1001</td>\n",
       "      <td>12</td>\n",
       "      <td>414.0</td>\n",
       "      <td>0.0</td>\n",
       "      <td>14.0</td>\n",
       "      <td>smart</td>\n",
       "      <td>Москва</td>\n",
       "      <td>50</td>\n",
       "      <td>15360</td>\n",
       "      <td>500</td>\n",
       "      <td>550</td>\n",
       "      <td>200</td>\n",
       "      <td>3</td>\n",
       "      <td>3</td>\n",
       "      <td>15.0</td>\n",
       "      <td>0.0</td>\n",
       "      <td>0.0</td>\n",
       "      <td>0.0</td>\n",
       "      <td>550.0</td>\n",
       "    </tr>\n",
       "  </tbody>\n",
       "</table>\n",
       "</div>"
      ],
      "text/plain": [
       "   user_id  month  min_in_month  msg_in_month  gb_in_month tariff       city  \\\n",
       "0     1000      5         159.0          22.0          3.0  ultra  Краснодар   \n",
       "1     1000      6         172.0          60.0         23.0  ultra  Краснодар   \n",
       "2     1000      7         340.0          75.0         14.0  ultra  Краснодар   \n",
       "3     1000      8         408.0          81.0         14.0  ultra  Краснодар   \n",
       "4     1000      9         466.0          57.0         15.0  ultra  Краснодар   \n",
       "5     1000     10         350.0          73.0         15.0  ultra  Краснодар   \n",
       "6     1000     11         338.0          58.0         15.0  ultra  Краснодар   \n",
       "7     1000     12         333.0          70.0         10.0  ultra  Краснодар   \n",
       "8     1001     11         430.0           0.0         19.0  smart     Москва   \n",
       "9     1001     12         414.0           0.0         14.0  smart     Москва   \n",
       "\n",
       "   messages_included  mb_per_month_included  minutes_included  \\\n",
       "0               1000                  30720              3000   \n",
       "1               1000                  30720              3000   \n",
       "2               1000                  30720              3000   \n",
       "3               1000                  30720              3000   \n",
       "4               1000                  30720              3000   \n",
       "5               1000                  30720              3000   \n",
       "6               1000                  30720              3000   \n",
       "7               1000                  30720              3000   \n",
       "8                 50                  15360               500   \n",
       "9                 50                  15360               500   \n",
       "\n",
       "   rub_monthly_fee  rub_per_gb  rub_per_message  rub_per_minute  gb_included  \\\n",
       "0             1950         150                1               1         30.0   \n",
       "1             1950         150                1               1         30.0   \n",
       "2             1950         150                1               1         30.0   \n",
       "3             1950         150                1               1         30.0   \n",
       "4             1950         150                1               1         30.0   \n",
       "5             1950         150                1               1         30.0   \n",
       "6             1950         150                1               1         30.0   \n",
       "7             1950         150                1               1         30.0   \n",
       "8              550         200                3               3         15.0   \n",
       "9              550         200                3               3         15.0   \n",
       "\n",
       "   gb_cost  min_cost  sms_cost  total_cost  \n",
       "0      0.0       0.0       0.0      1950.0  \n",
       "1      0.0       0.0       0.0      1950.0  \n",
       "2      0.0       0.0       0.0      1950.0  \n",
       "3      0.0       0.0       0.0      1950.0  \n",
       "4      0.0       0.0       0.0      1950.0  \n",
       "5      0.0       0.0       0.0      1950.0  \n",
       "6      0.0       0.0       0.0      1950.0  \n",
       "7      0.0       0.0       0.0      1950.0  \n",
       "8    800.0       0.0       0.0      1350.0  \n",
       "9      0.0       0.0       0.0       550.0  "
      ]
     },
     "execution_count": 35,
     "metadata": {},
     "output_type": "execute_result"
    }
   ],
   "source": [
    "sv_table['gb_cost'] = (sv_table['gb_in_month'] - sv_table['gb_included']) * sv_table['rub_per_gb']\n",
    "sv_table['min_cost'] = (sv_table['min_in_month'] - sv_table['minutes_included']) * sv_table['rub_per_minute']\n",
    "sv_table['sms_cost'] = (sv_table['msg_in_month'] - sv_table['messages_included']) * sv_table['rub_per_message']\n",
    "\n",
    "sv_table.loc[sv_table['gb_cost'] < 0, 'gb_cost'] = 0\n",
    "sv_table.loc[sv_table['min_cost'] < 0, 'min_cost'] = 0\n",
    "sv_table.loc[sv_table['sms_cost'] < 0, 'sms_cost'] = 0\n",
    "\n",
    "sv_table['total_cost'] = (\n",
    "    sv_table['gb_cost'] + sv_table['min_cost'] \n",
    "    + sv_table['sms_cost'] \n",
    "    + sv_table['rub_monthly_fee']\n",
    ")\n",
    "sv_table.head(10)"
   ]
  },
  {
   "cell_type": "markdown",
   "id": "bc261c63",
   "metadata": {},
   "source": [
    "## Вывод"
   ]
  },
  {
   "cell_type": "markdown",
   "id": "f830e254",
   "metadata": {},
   "source": [
    "- Для каждого клиента рассчитаны по месяцам: Количество сделанных звонков, израсходованных минут разговора, отправленных сообщений, использованного инернет-трафика, а также помесячная выручка. Результаты предтавлены в сводных таблицах.\n"
   ]
  },
  {
   "cell_type": "markdown",
   "id": "24a2de6e",
   "metadata": {},
   "source": [
    "# Анализ данных."
   ]
  },
  {
   "cell_type": "markdown",
   "id": "6895e316",
   "metadata": {},
   "source": [
    "## Вспомогательные функции."
   ]
  },
  {
   "cell_type": "markdown",
   "id": "7de53f96",
   "metadata": {},
   "source": [
    "Создадим две функции:\n",
    "- Для расчета среднего, медианы, дисперсии и стандартного отклонения по срезам данных\n",
    "- Для построения графика сравнения показателей по тарифам"
   ]
  },
  {
   "cell_type": "code",
   "execution_count": 36,
   "id": "babef8a6",
   "metadata": {},
   "outputs": [],
   "source": [
    "def statictic (tariff, column):\n",
    "    '''\n",
    "    input: tariff - тарифный план\n",
    "           column - столбец, для которогу ведется расчет статистики\n",
    "    output: Срез данных со среднемесячными значениями по тарифу \"tariff\"\n",
    "    description: - Функция считает среднемесячные значения столбца \"column\" для пользователей тарифа \"tariff\"\n",
    "                 - Выводит статистические характеристики по срезу данных (среднне, медиану, дисперсию и стандартное отклонение)\n",
    "                 \n",
    "    '''\n",
    "    \n",
    "    slice_tariff = (sv_table[sv_table['tariff'] == tariff]\n",
    "                    .groupby('user_id')[column]\n",
    "                    .agg('mean')        \n",
    "    )\n",
    "    \n",
    "    print('Тарифный план:', tariff)\n",
    "    print('Среднее:', round(slice_tariff.mean(), 2))\n",
    "    print('Медиана:', round(slice_tariff.median(), 2))\n",
    "    print('Дисперсия:', round(np.var(slice_tariff), 2))\n",
    "    print('Стандартное отклонение:', round(np.sqrt(np.var(slice_tariff)), 2))\n",
    "    \n",
    "    return slice_tariff"
   ]
  },
  {
   "cell_type": "code",
   "execution_count": 37,
   "id": "d3b1865f",
   "metadata": {},
   "outputs": [],
   "source": [
    "def show_hist(smart, ultra, name_hist, bins=20):\n",
    "    '''\n",
    "    input: smart - срез данных по тарифу smart \n",
    "           ultra - срез данных по тарифу ultra\n",
    "           name_hist - описание исследуемого параметра\n",
    "           bins - колличество ячеек для гистограммы\n",
    "    output: -\n",
    "    Функция строит две гистограммы сравнения параметров для обоих тарифов.\n",
    "    \n",
    "    '''\n",
    "    \n",
    "    ax = (smart\n",
    "          .plot(kind = 'hist',\n",
    "                histtype = 'step',       # данный тип удобен для сравнения двух гистограмм\n",
    "                bins = bins,\n",
    "                alpha = 0.5,\n",
    "                linewidth = 2,           # ширина графика\n",
    "                grid = True,\n",
    "                density = True,          # отобразить плотность распределения данных\n",
    "                legend = True,           # отобразить пояснение для графиков\n",
    "                title = 'Плотность распределения',\n",
    "                label = 'smart'  # строка подписи для графиков\n",
    "               )\n",
    "         )\n",
    "    (ultra\n",
    "     .plot(kind = 'hist',\n",
    "           histtype = 'step',\n",
    "           ax = ax,               # отобразить график в осях предыдущей гистограммы\n",
    "           bins = bins,\n",
    "           alpha = 0.5,\n",
    "           linewidth = 2,\n",
    "           grid = True,\n",
    "           density = True,       # density=True - необходимо для отображения двух гистограмм                   \n",
    "           legend = True,        # в одной системе координат.\n",
    "           label = ' ultra'\n",
    "          )\n",
    "    )\n",
    "    \n",
    "    ax.set_title(name_hist, fontsize=15)\n",
    "    ax.set_xlabel('Среднее месячное значение', fontsize=12)\n",
    "    ax.set_ylabel('Плотность распределения', fontsize=14)\n",
    "    \n",
    "    plt.show()"
   ]
  },
  {
   "cell_type": "markdown",
   "id": "65f697d3",
   "metadata": {},
   "source": [
    "## Расчет метрик. Построение графиков."
   ]
  },
  {
   "cell_type": "markdown",
   "id": "5c3872ea",
   "metadata": {},
   "source": [
    "### Минуты"
   ]
  },
  {
   "cell_type": "code",
   "execution_count": 38,
   "id": "40ca3d7b",
   "metadata": {
    "scrolled": true
   },
   "outputs": [
    {
     "name": "stdout",
     "output_type": "stream",
     "text": [
      "Тарифный план: smart\n",
      "Среднее: 419.63\n",
      "Медиана: 425.06\n",
      "Дисперсия: 20974.05\n",
      "Стандартное отклонение: 144.82\n"
     ]
    }
   ],
   "source": [
    "min_smart = statictic('smart', 'min_in_month')"
   ]
  },
  {
   "cell_type": "code",
   "execution_count": 39,
   "id": "6f1aedd8",
   "metadata": {
    "scrolled": true
   },
   "outputs": [
    {
     "name": "stdout",
     "output_type": "stream",
     "text": [
      "Тарифный план: ultra\n",
      "Среднее: 527.82\n",
      "Медиана: 514.54\n",
      "Дисперсия: 78867.04\n",
      "Стандартное отклонение: 280.83\n"
     ]
    }
   ],
   "source": [
    "min_ultra = statictic('ultra', 'min_in_month')"
   ]
  },
  {
   "cell_type": "code",
   "execution_count": 40,
   "id": "4f165bd2",
   "metadata": {},
   "outputs": [
    {
     "data": {
      "image/png": "[encoded data removed]",
      "text/plain": [
       "<Figure size 432x288 with 1 Axes>"
      ]
     },
     "metadata": {
      "needs_background": "light"
     },
     "output_type": "display_data"
    }
   ],
   "source": [
    "show_hist(min_smart, min_ultra, 'Время разговора (мин)', bins=15)"
   ]
  },
  {
   "cell_type": "markdown",
   "id": "b2336b70",
   "metadata": {},
   "source": [
    "### СМС"
   ]
  },
  {
   "cell_type": "code",
   "execution_count": 41,
   "id": "d08ef545",
   "metadata": {},
   "outputs": [
    {
     "name": "stdout",
     "output_type": "stream",
     "text": [
      "Тарифный план: smart\n",
      "Среднее: 32.35\n",
      "Медиана: 27.75\n",
      "Дисперсия: 700.9\n",
      "Стандартное отклонение: 26.47\n"
     ]
    }
   ],
   "source": [
    "sms_smart = statictic('smart', 'msg_in_month')"
   ]
  },
  {
   "cell_type": "code",
   "execution_count": 42,
   "id": "0eeb3a53",
   "metadata": {},
   "outputs": [
    {
     "name": "stdout",
     "output_type": "stream",
     "text": [
      "Тарифный план: ultra\n",
      "Среднее: 54.03\n",
      "Медиана: 45.5\n",
      "Дисперсия: 2135.3\n",
      "Стандартное отклонение: 46.21\n"
     ]
    }
   ],
   "source": [
    "sms_ultra = statictic('ultra', 'msg_in_month')"
   ]
  },
  {
   "cell_type": "code",
   "execution_count": 43,
   "id": "25e6e3c9",
   "metadata": {},
   "outputs": [
    {
     "data": {
      "image/png": "[encoded data removed]",
      "text/plain": [
       "<Figure size 432x288 with 1 Axes>"
      ]
     },
     "metadata": {
      "needs_background": "light"
     },
     "output_type": "display_data"
    }
   ],
   "source": [
    "show_hist(sms_smart, sms_ultra, 'Количество отправленных СМС', bins = 15)"
   ]
  },
  {
   "cell_type": "markdown",
   "id": "d53f53fe",
   "metadata": {},
   "source": [
    "### Гигабайты"
   ]
  },
  {
   "cell_type": "code",
   "execution_count": 44,
   "id": "4a3347e4",
   "metadata": {},
   "outputs": [
    {
     "name": "stdout",
     "output_type": "stream",
     "text": [
      "Тарифный план: smart\n",
      "Среднее: 16.34\n",
      "Медиана: 16.33\n",
      "Дисперсия: 12.27\n",
      "Стандартное отклонение: 3.5\n"
     ]
    }
   ],
   "source": [
    "gb_smart = statictic('smart', 'gb_in_month')"
   ]
  },
  {
   "cell_type": "code",
   "execution_count": 45,
   "id": "c9f2f65d",
   "metadata": {},
   "outputs": [
    {
     "name": "stdout",
     "output_type": "stream",
     "text": [
      "Тарифный план: ultra\n",
      "Среднее: 19.62\n",
      "Медиана: 18.8\n",
      "Дисперсия: 65.5\n",
      "Стандартное отклонение: 8.09\n"
     ]
    }
   ],
   "source": [
    "gb_ultra = statictic('ultra', 'gb_in_month')"
   ]
  },
  {
   "cell_type": "code",
   "execution_count": 46,
   "id": "2088b6c6",
   "metadata": {
    "scrolled": true
   },
   "outputs": [
    {
     "data": {
      "image/png": "[encoded data removed]",
      "text/plain": [
       "<Figure size 432x288 with 1 Axes>"
      ]
     },
     "metadata": {
      "needs_background": "light"
     },
     "output_type": "display_data"
    }
   ],
   "source": [
    "show_hist(gb_smart, gb_ultra, 'Количество использованных гигабайт', bins=15)"
   ]
  },
  {
   "cell_type": "markdown",
   "id": "4810aedb",
   "metadata": {},
   "source": [
    "### Промежуточная оценка"
   ]
  },
  {
   "cell_type": "markdown",
   "id": "f257082f",
   "metadata": {},
   "source": [
    "Расчитаем процент значений, превыщающих лимит минут, смс и гигабайт, включенных в тариф, и сведем все в одну таблицу."
   ]
  },
  {
   "cell_type": "code",
   "execution_count": 47,
   "id": "5da1057d",
   "metadata": {},
   "outputs": [
    {
     "data": {
      "text/html": [
       "<div>\n",
       "<style scoped>\n",
       "    .dataframe tbody tr th:only-of-type {\n",
       "        vertical-align: middle;\n",
       "    }\n",
       "\n",
       "    .dataframe tbody tr th {\n",
       "        vertical-align: top;\n",
       "    }\n",
       "\n",
       "    .dataframe thead th {\n",
       "        text-align: right;\n",
       "    }\n",
       "</style>\n",
       "<table border=\"1\" class=\"dataframe\">\n",
       "  <thead>\n",
       "    <tr style=\"text-align: right;\">\n",
       "      <th></th>\n",
       "      <th>tariff</th>\n",
       "      <th>min</th>\n",
       "      <th>sms</th>\n",
       "      <th>gb</th>\n",
       "    </tr>\n",
       "  </thead>\n",
       "  <tbody>\n",
       "    <tr>\n",
       "      <th>0</th>\n",
       "      <td>smart, %</td>\n",
       "      <td>29.1</td>\n",
       "      <td>23.1</td>\n",
       "      <td>67.4</td>\n",
       "    </tr>\n",
       "    <tr>\n",
       "      <th>1</th>\n",
       "      <td>ultra, %</td>\n",
       "      <td>0.0</td>\n",
       "      <td>0.0</td>\n",
       "      <td>13.2</td>\n",
       "    </tr>\n",
       "  </tbody>\n",
       "</table>\n",
       "</div>"
      ],
      "text/plain": [
       "     tariff   min   sms    gb\n",
       "0  smart, %  29.1  23.1  67.4\n",
       "1  ultra, %   0.0   0.0  13.2"
      ]
     },
     "execution_count": 47,
     "metadata": {},
     "output_type": "execute_result"
    }
   ],
   "source": [
    "data={\n",
    "    'tariff':['smart, %', 'ultra, %'],\n",
    "    'min':[round(100 - st.percentileofscore(min_smart, 500), 1), round(100 - st.percentileofscore(min_ultra, 3000), 1),],\n",
    "    'sms':[round(100 - st.percentileofscore(sms_smart, 50), 1),  round(100 - st.percentileofscore(sms_smart, 1000), 1),],\n",
    "    'gb':[round(100 - st.percentileofscore(gb_smart, 15), 1), round(100 - st.percentileofscore(gb_ultra, 30), 1),]}\n",
    "over = pd.DataFrame(data)\n",
    "over"
   ]
  },
  {
   "cell_type": "markdown",
   "id": "eacd3f3d",
   "metadata": {},
   "source": [
    "- Среднее и медианное значения для обоих тарифов по всем параметрам мало отличаются друг от друга\n",
    "- Гистограммы близки к нормальному распределению. Отдельные пики можно объяснить недостатком данных \n",
    "- Видно, что по всем услугам тарифа \"smart\" большой процент пользователей платит за дополнительные смс, минуты и гигабайты\n",
    "- Исходя из правила трех стандартных отклонений, 99,9% значений:\n",
    "    - Для тарифа \"smart\":\n",
    "        - (0, 854) минут\n",
    "        - (0, 112) сообщений\n",
    "        - (0, 27) гигабайт\n",
    "    - Для тарифа \"ultra\":\n",
    "        - (0, 1370) минут\n",
    "        - (0, 193) сообщений\n",
    "        - (0, 44) гигабайт\n",
    "    - Остальные значения можно считать выбросами"
   ]
  },
  {
   "cell_type": "markdown",
   "id": "6ff6b66c",
   "metadata": {},
   "source": [
    "### Средняя цена по тарифам"
   ]
  },
  {
   "cell_type": "code",
   "execution_count": 48,
   "id": "5eb25225",
   "metadata": {},
   "outputs": [
    {
     "name": "stdout",
     "output_type": "stream",
     "text": [
      "Тарифный план: smart\n",
      "Среднее: 1329.73\n",
      "Медиана: 1183.1\n",
      "Дисперсия: 367217.09\n",
      "Стандартное отклонение: 605.98\n"
     ]
    }
   ],
   "source": [
    "tc_smart = statictic('smart', 'total_cost')"
   ]
  },
  {
   "cell_type": "code",
   "execution_count": 49,
   "id": "32876fac",
   "metadata": {},
   "outputs": [
    {
     "name": "stdout",
     "output_type": "stream",
     "text": [
      "Тарифный план: ultra\n",
      "Среднее: 2087.42\n",
      "Медиана: 1950.0\n",
      "Дисперсия: 89897.64\n",
      "Стандартное отклонение: 299.83\n"
     ]
    }
   ],
   "source": [
    "tc_ultra = statictic('ultra', 'total_cost')"
   ]
  },
  {
   "cell_type": "code",
   "execution_count": 50,
   "id": "f43ad333",
   "metadata": {
    "scrolled": true
   },
   "outputs": [
    {
     "data": {
      "image/png": "[encoded data removed]",
      "text/plain": [
       "<Figure size 432x288 with 1 Axes>"
      ]
     },
     "metadata": {
      "needs_background": "light"
     },
     "output_type": "display_data"
    }
   ],
   "source": [
    "show_hist(tc_smart, tc_ultra, 'Общая цена: тариф + переплаты', bins=15)"
   ]
  },
  {
   "cell_type": "code",
   "execution_count": 51,
   "id": "0f2b141b",
   "metadata": {
    "scrolled": false
   },
   "outputs": [
    {
     "data": {
      "image/png": "[encoded data removed]",
      "text/plain": [
       "<Figure size 432x288 with 1 Axes>"
      ]
     },
     "metadata": {
      "needs_background": "light"
     },
     "output_type": "display_data"
    }
   ],
   "source": [
    "ax = tc_smart.plot(kind = 'hist',\n",
    "                histtype = 'step',       # данный тип удобен для сравнения двух гистограмм\n",
    "                bins = 15,\n",
    "                alpha = 0.5,\n",
    "                linewidth = 2,           # ширина графика\n",
    "                grid = True,\n",
    "                density = True,          # отобразить плотность распределения данных\n",
    "                legend = True,           # отобразить пояснение для графиков\n",
    "                title = 'Плотность распределения',\n",
    "                label = 'smart'  # строка подписи для графиков\n",
    "               )\n",
    "ax.set_title('Общая цена: тариф + переплаты', fontsize=15)\n",
    "ax.set_xlabel('Среднее месячное значение', fontsize=12)\n",
    "ax.set_ylabel('Плотность распределения', fontsize=14)\n",
    "plt.show()\n"
   ]
  },
  {
   "cell_type": "code",
   "execution_count": 52,
   "id": "2c31585c",
   "metadata": {
    "scrolled": true
   },
   "outputs": [
    {
     "data": {
      "image/png": "[encoded data removed]",
      "text/plain": [
       "<Figure size 432x288 with 1 Axes>"
      ]
     },
     "metadata": {
      "needs_background": "light"
     },
     "output_type": "display_data"
    }
   ],
   "source": [
    "ax = tc_ultra.plot(kind = 'hist',\n",
    "                histtype = 'step',       # данный тип удобен для сравнения двух гистограмм\n",
    "                bins = 15,\n",
    "                alpha = 0.5,\n",
    "                linewidth = 2,           # ширина графика\n",
    "                grid = True,\n",
    "                density = True,          # отобразить плотность распределения данных\n",
    "                legend = True,           # отобразить пояснение для графиков\n",
    "                title = 'Плотность распределения',\n",
    "                label = 'ultra'  # строка подписи для графиков\n",
    "               )\n",
    "ax.set_title('Общая цена: тариф + переплаты', fontsize=15)\n",
    "ax.set_xlabel('Среднее месячное значение', fontsize=12)\n",
    "ax.set_ylabel('Плотность распределения', fontsize=14)\n",
    "plt.show()"
   ]
  },
  {
   "cell_type": "markdown",
   "id": "30aace93",
   "metadata": {},
   "source": [
    "- Тариф \"smart\" имеет низкую стоимость основного пакета тарифа, но большинство пользователей вынуждены докупать дополнительные услги.\n",
    "- Тариф \"ultra\" имеет больее высокую стоимость основного пакета тарифа, но его хватает почти всем пользователям.\n",
    "- В среднем клиенты тарифа \"smart\" в месяц плятят меньше, чем пользователи тарифа \"ultra\"."
   ]
  },
  {
   "cell_type": "markdown",
   "id": "1c632302",
   "metadata": {},
   "source": [
    "## Выводы"
   ]
  },
  {
   "cell_type": "markdown",
   "id": "94ea99f8",
   "metadata": {},
   "source": [
    "- Проанализированы данные пользователей тарифов \"smart\" и \"ultra\"(минуты, сообщения и гигабайты).\n",
    "- Для этих параметров расчитаны: среднее значение, медиана, дисперсия и стандартное отклонение.\n",
    "- Определены границы случайных выбросов по правилу трех стандартных отклонений.\n",
    "- По гистограммам видно, что большинство пользователей тарифа \"smart\" не укладываются в тарифные рамки. На тарифе \"ultra\" пользователям хватает представленных в тарифе услуг.\n"
   ]
  },
  {
   "cell_type": "markdown",
   "id": "bceb9188",
   "metadata": {},
   "source": [
    "# Проверка гипотез."
   ]
  },
  {
   "cell_type": "markdown",
   "id": "60d3b9dc",
   "metadata": {},
   "source": [
    "## Средняя выручка пользователей тарифов «Ультра» и «Смарт» различаются"
   ]
  },
  {
   "cell_type": "markdown",
   "id": "0a789b5e",
   "metadata": {},
   "source": [
    "- Нулевая гипотеза Н0:\n",
    "    - Средняя выручка пользователей тарифа «Ультра» равна средней выручке пользователей тарифа «Смарт»"
   ]
  },
  {
   "cell_type": "markdown",
   "id": "403d33cc",
   "metadata": {},
   "source": [
    "- Альтернативная гипотеза Н1:\n",
    "    - Средняя выручка пользователей тарифа «Ультра» не равна средней выручке пользователей тарифа «Смарт»"
   ]
  },
  {
   "cell_type": "markdown",
   "id": "5d6820f8",
   "metadata": {},
   "source": [
    "- alpha = 0.05"
   ]
  },
  {
   "cell_type": "markdown",
   "id": "a829838e",
   "metadata": {},
   "source": [
    "Так как выборки между собой не связаны, будем использовать \"st.ttest_ind\" для расчета \"p-value\"."
   ]
  },
  {
   "cell_type": "code",
   "execution_count": 53,
   "id": "749583e1",
   "metadata": {},
   "outputs": [],
   "source": [
    "total_cost_smart = sv_table[sv_table['tariff'] == 'smart'].groupby('user_id')['total_cost'].agg('mean')\n",
    "\n",
    "total_cost_ultra = sv_table[sv_table['tariff'] == 'ultra'].groupby('user_id')['total_cost'].agg('mean')"
   ]
  },
  {
   "cell_type": "code",
   "execution_count": 54,
   "id": "a42838b9",
   "metadata": {
    "scrolled": true
   },
   "outputs": [
    {
     "name": "stdout",
     "output_type": "stream",
     "text": [
      "p-value: 1.5026228308148506e-58\n",
      "Отвергаем нулевую гипотезу\n"
     ]
    }
   ],
   "source": [
    "results = st.ttest_ind(total_cost_smart, total_cost_ultra, equal_var=False) \n",
    "\n",
    "alpha = 0.05\n",
    "\n",
    "print('p-value:', results.pvalue)\n",
    "\n",
    "if (results.pvalue < alpha):\n",
    "    print(\"Отвергаем нулевую гипотезу\")\n",
    "else:\n",
    "    print(\"Не получилось отвергнуть нулевую гипотезу\")"
   ]
  },
  {
   "cell_type": "markdown",
   "id": "5814576c",
   "metadata": {},
   "source": [
    "Значение p-value сильно меньше значения alpha. Нулевая гипотеза мало вероятна."
   ]
  },
  {
   "cell_type": "markdown",
   "id": "453ed41d",
   "metadata": {},
   "source": [
    "## Cредняя выручка пользователей из Москвы отличается от выручки пользователей из других регионов"
   ]
  },
  {
   "cell_type": "markdown",
   "id": "60627caa",
   "metadata": {},
   "source": [
    "- Нулевая гипотеза Н0:\n",
    "    - Средняя выручка пользователей из Москвы равна средней выручке пользователей из других регионов"
   ]
  },
  {
   "cell_type": "markdown",
   "id": "7d8b52eb",
   "metadata": {},
   "source": [
    "- Альтернативная гипотеза Н1:\n",
    "    - Средняя выручка пользователей из Москвы не равна средней выручке пользователей из других регионов"
   ]
  },
  {
   "cell_type": "markdown",
   "id": "0a5e6ba4",
   "metadata": {},
   "source": [
    "- alpha = 0.05"
   ]
  },
  {
   "cell_type": "code",
   "execution_count": 55,
   "id": "2011aea4",
   "metadata": {},
   "outputs": [],
   "source": [
    "moscow = sv_table[sv_table['city'] == 'Москва'].groupby('user_id')['total_cost'].agg('mean')\n",
    "\n",
    "any_city = sv_table[sv_table['city'] != 'Москва'].groupby('user_id')['total_cost'].agg('mean')"
   ]
  },
  {
   "cell_type": "code",
   "execution_count": 56,
   "id": "50e8200d",
   "metadata": {
    "scrolled": true
   },
   "outputs": [
    {
     "name": "stdout",
     "output_type": "stream",
     "text": [
      "p-value: 0.3564524858933712\n",
      "Не получилось отвергнуть нулевую гипотезу\n"
     ]
    }
   ],
   "source": [
    "results = st.ttest_ind(moscow, any_city, equal_var=False) \n",
    "\n",
    "alpha = 0.05\n",
    "\n",
    "print('p-value:', results.pvalue)\n",
    "\n",
    "if (results.pvalue < alpha):\n",
    "    print(\"Отвергаем нулевую гипотезу\")\n",
    "else:\n",
    "    print(\"Не получилось отвергнуть нулевую гипотезу\")"
   ]
  },
  {
   "cell_type": "markdown",
   "id": "b2f49571",
   "metadata": {},
   "source": [
    "## Выводы"
   ]
  },
  {
   "cell_type": "markdown",
   "id": "cee679e2",
   "metadata": {},
   "source": [
    "- Первая гипотеза:\n",
    "    - Полученные данные позволяют отбросить нулевую гипотезу в пользу альтернативной.\n",
    "- Вторая гипотеза:\n",
    "    - Полученные данные не противоречат нулевой гипотезе."
   ]
  },
  {
   "cell_type": "markdown",
   "id": "da41319c",
   "metadata": {},
   "source": [
    "# Общий вывод."
   ]
  },
  {
   "cell_type": "markdown",
   "id": "5c39f39b",
   "metadata": {},
   "source": [
    "- Проанализированы статистические данные пользователей тарифов \"smart\" и \"ultra\". Для клиентов расчитаны по месяцам количество потраченых: минут, сообщений и гигабайт, а так же общая сумма оплаты за пользование услугами компании \"Мегалайн\".\n",
    "- По полученым данным видно, что пользователи тарифа \"smart\" часто не кладываются в лимит тарифа. Пользователям тарифа \"ultra\" хватает своего тарифного плана.\n",
    "- Высокая доля переплат в тарифе \"smart\" может вызывать недовольство и отток клиентов. Стоит доработать условия тарифа. Клиентам с переплатой близкой к стоймости тарифа \"ultra\" стоит предложить перейти на этот тариф.\n",
    "- Среди клиентов тарифа \"ultra\" низкая доля переплат, большинство клиентов укладываются в лимиты тарифа.\n",
    "- Тарифный план \"ultra\" выглядит более выгодным для продвижения.\n",
    "- Получены выводы по двум гипотезам:\n",
    "    - Эмпирически полученные данные позволяют отвергнуть нулевую гипотезу в пользу альтернативной H1:\n",
    "        - \"Средняя выручка пользователей тарифа «Ультра» не равна средней выручке пользователей тарифа «Смарт»\"\n",
    "    - Эмпирически полученные данные не противоречат гипотезе H0:\n",
    "        - \"Средняя выручка пользователей из Москвы равна средней выручке пользователей из других регионов\" "
   ]
  }
 ],
 "metadata": {
  "ExecuteTimeLog": [
   {
    "duration": 1498,
    "start_time": "2022-06-06T20:28:17.022Z"
   },
   {
    "duration": 451,
    "start_time": "2022-06-06T20:28:18.522Z"
   },
   {
    "duration": 16,
    "start_time": "2022-06-06T20:28:18.975Z"
   },
   {
    "duration": 13,
    "start_time": "2022-06-06T20:28:18.993Z"
   },
   {
    "duration": 36,
    "start_time": "2022-06-06T20:37:23.009Z"
   },
   {
    "duration": 267,
    "start_time": "2022-06-06T20:40:21.038Z"
   },
   {
    "duration": 65,
    "start_time": "2022-06-07T03:55:38.683Z"
   },
   {
    "duration": 1358,
    "start_time": "2022-06-07T03:55:54.750Z"
   },
   {
    "duration": 968,
    "start_time": "2022-06-07T03:55:56.110Z"
   },
   {
    "duration": 13,
    "start_time": "2022-06-07T03:55:57.080Z"
   },
   {
    "duration": 15,
    "start_time": "2022-06-07T03:55:57.095Z"
   },
   {
    "duration": 22,
    "start_time": "2022-06-07T03:55:57.111Z"
   },
   {
    "duration": 43,
    "start_time": "2022-06-07T03:55:57.134Z"
   },
   {
    "duration": 9,
    "start_time": "2022-06-07T03:55:57.179Z"
   },
   {
    "duration": 41,
    "start_time": "2022-06-07T03:55:57.190Z"
   },
   {
    "duration": 13,
    "start_time": "2022-06-07T03:55:57.233Z"
   },
   {
    "duration": 38,
    "start_time": "2022-06-07T03:55:57.250Z"
   },
   {
    "duration": 31,
    "start_time": "2022-06-07T03:55:57.290Z"
   },
   {
    "duration": 20,
    "start_time": "2022-06-07T03:55:57.324Z"
   },
   {
    "duration": 102,
    "start_time": "2022-06-07T03:55:57.346Z"
   },
   {
    "duration": 11,
    "start_time": "2022-06-07T03:55:57.451Z"
   },
   {
    "duration": 51,
    "start_time": "2022-06-07T03:55:57.464Z"
   },
   {
    "duration": 105,
    "start_time": "2022-06-07T03:55:57.518Z"
   },
   {
    "duration": 10,
    "start_time": "2022-06-07T03:55:57.626Z"
   },
   {
    "duration": 25,
    "start_time": "2022-06-07T03:55:57.638Z"
   },
   {
    "duration": 23,
    "start_time": "2022-06-07T03:55:57.665Z"
   },
   {
    "duration": 9,
    "start_time": "2022-06-07T03:55:57.690Z"
   },
   {
    "duration": 13,
    "start_time": "2022-06-07T03:55:57.702Z"
   },
   {
    "duration": 46,
    "start_time": "2022-06-07T03:55:57.717Z"
   },
   {
    "duration": 58,
    "start_time": "2022-06-07T03:55:57.765Z"
   },
   {
    "duration": 48,
    "start_time": "2022-06-07T03:55:57.825Z"
   },
   {
    "duration": 17,
    "start_time": "2022-06-07T03:55:57.875Z"
   },
   {
    "duration": 42,
    "start_time": "2022-06-07T03:55:57.894Z"
   },
   {
    "duration": 37,
    "start_time": "2022-06-07T03:55:57.938Z"
   },
   {
    "duration": 22,
    "start_time": "2022-06-07T03:55:57.980Z"
   },
   {
    "duration": 18,
    "start_time": "2022-06-07T03:55:58.004Z"
   },
   {
    "duration": 37,
    "start_time": "2022-06-07T03:55:58.024Z"
   },
   {
    "duration": 20,
    "start_time": "2022-06-07T03:55:58.063Z"
   },
   {
    "duration": 15,
    "start_time": "2022-06-07T03:55:58.085Z"
   },
   {
    "duration": 18,
    "start_time": "2022-06-07T03:55:58.102Z"
   },
   {
    "duration": 9,
    "start_time": "2022-06-07T03:55:58.122Z"
   },
   {
    "duration": 39,
    "start_time": "2022-06-07T03:55:58.133Z"
   },
   {
    "duration": 16,
    "start_time": "2022-06-07T03:55:58.174Z"
   },
   {
    "duration": 28,
    "start_time": "2022-06-07T03:55:58.192Z"
   },
   {
    "duration": 56,
    "start_time": "2022-06-07T03:55:58.226Z"
   },
   {
    "duration": 8,
    "start_time": "2022-06-07T03:55:58.285Z"
   },
   {
    "duration": 10,
    "start_time": "2022-06-07T03:55:58.295Z"
   },
   {
    "duration": 23,
    "start_time": "2022-06-07T03:55:58.307Z"
   },
   {
    "duration": 9,
    "start_time": "2022-06-07T03:55:58.332Z"
   },
   {
    "duration": 231,
    "start_time": "2022-06-07T03:55:58.359Z"
   },
   {
    "duration": 9,
    "start_time": "2022-06-07T03:55:58.592Z"
   },
   {
    "duration": 12,
    "start_time": "2022-06-07T03:55:58.603Z"
   },
   {
    "duration": 297,
    "start_time": "2022-06-07T03:55:58.617Z"
   },
   {
    "duration": 9,
    "start_time": "2022-06-07T03:55:58.916Z"
   },
   {
    "duration": 11,
    "start_time": "2022-06-07T03:55:58.927Z"
   },
   {
    "duration": 207,
    "start_time": "2022-06-07T03:55:58.940Z"
   },
   {
    "duration": 19,
    "start_time": "2022-06-07T03:55:59.149Z"
   },
   {
    "duration": 14,
    "start_time": "2022-06-07T03:55:59.170Z"
   },
   {
    "duration": 8,
    "start_time": "2022-06-07T03:55:59.186Z"
   },
   {
    "duration": 196,
    "start_time": "2022-06-07T03:55:59.196Z"
   },
   {
    "duration": 169,
    "start_time": "2022-06-07T03:55:59.394Z"
   },
   {
    "duration": 156,
    "start_time": "2022-06-07T03:55:59.565Z"
   },
   {
    "duration": 7,
    "start_time": "2022-06-07T03:55:59.723Z"
   },
   {
    "duration": 9,
    "start_time": "2022-06-07T03:55:59.732Z"
   },
   {
    "duration": 19,
    "start_time": "2022-06-07T03:55:59.743Z"
   },
   {
    "duration": 4,
    "start_time": "2022-06-07T03:55:59.763Z"
   },
   {
    "duration": 16,
    "start_time": "2022-06-07T03:57:49.112Z"
   },
   {
    "duration": 3,
    "start_time": "2022-06-07T04:03:04.485Z"
   },
   {
    "duration": 447,
    "start_time": "2022-06-07T04:03:04.493Z"
   },
   {
    "duration": 12,
    "start_time": "2022-06-07T04:03:04.943Z"
   },
   {
    "duration": 34,
    "start_time": "2022-06-07T04:03:04.956Z"
   },
   {
    "duration": 9,
    "start_time": "2022-06-07T04:03:04.992Z"
   },
   {
    "duration": 35,
    "start_time": "2022-06-07T04:03:05.003Z"
   },
   {
    "duration": 7,
    "start_time": "2022-06-07T04:03:05.040Z"
   },
   {
    "duration": 24,
    "start_time": "2022-06-07T04:03:05.048Z"
   },
   {
    "duration": 8,
    "start_time": "2022-06-07T04:03:05.073Z"
   },
   {
    "duration": 35,
    "start_time": "2022-06-07T04:03:05.083Z"
   },
   {
    "duration": 8,
    "start_time": "2022-06-07T04:03:05.121Z"
   },
   {
    "duration": 12,
    "start_time": "2022-06-07T04:03:05.131Z"
   },
   {
    "duration": 49,
    "start_time": "2022-06-07T04:03:05.158Z"
   },
   {
    "duration": 9,
    "start_time": "2022-06-07T04:03:05.209Z"
   },
   {
    "duration": 41,
    "start_time": "2022-06-07T04:03:05.220Z"
   },
   {
    "duration": 77,
    "start_time": "2022-06-07T04:03:05.263Z"
   },
   {
    "duration": 21,
    "start_time": "2022-06-07T04:03:05.342Z"
   },
   {
    "duration": 17,
    "start_time": "2022-06-07T04:03:05.365Z"
   },
   {
    "duration": 19,
    "start_time": "2022-06-07T04:03:05.384Z"
   },
   {
    "duration": 8,
    "start_time": "2022-06-07T04:03:05.405Z"
   },
   {
    "duration": 13,
    "start_time": "2022-06-07T04:03:05.415Z"
   },
   {
    "duration": 14,
    "start_time": "2022-06-07T04:03:05.459Z"
   },
   {
    "duration": 59,
    "start_time": "2022-06-07T04:03:05.475Z"
   },
   {
    "duration": 42,
    "start_time": "2022-06-07T04:03:05.536Z"
   },
   {
    "duration": 14,
    "start_time": "2022-06-07T04:03:05.580Z"
   },
   {
    "duration": 31,
    "start_time": "2022-06-07T04:03:05.596Z"
   },
   {
    "duration": 45,
    "start_time": "2022-06-07T04:03:05.629Z"
   },
   {
    "duration": 4,
    "start_time": "2022-06-07T04:03:57.956Z"
   },
   {
    "duration": 21,
    "start_time": "2022-06-07T04:04:11.212Z"
   },
   {
    "duration": 17,
    "start_time": "2022-06-07T04:04:13.146Z"
   },
   {
    "duration": 4,
    "start_time": "2022-06-07T04:04:41.556Z"
   },
   {
    "duration": 22,
    "start_time": "2022-06-07T04:16:45.458Z"
   },
   {
    "duration": 4,
    "start_time": "2022-06-07T04:16:46.223Z"
   },
   {
    "duration": 4,
    "start_time": "2022-06-07T04:17:06.335Z"
   },
   {
    "duration": 431,
    "start_time": "2022-06-07T04:17:06.341Z"
   },
   {
    "duration": 10,
    "start_time": "2022-06-07T04:17:06.775Z"
   },
   {
    "duration": 32,
    "start_time": "2022-06-07T04:17:06.786Z"
   },
   {
    "duration": 13,
    "start_time": "2022-06-07T04:17:06.821Z"
   },
   {
    "duration": 45,
    "start_time": "2022-06-07T04:17:06.836Z"
   },
   {
    "duration": 7,
    "start_time": "2022-06-07T04:17:06.883Z"
   },
   {
    "duration": 27,
    "start_time": "2022-06-07T04:17:06.892Z"
   },
   {
    "duration": 10,
    "start_time": "2022-06-07T04:17:06.920Z"
   },
   {
    "duration": 45,
    "start_time": "2022-06-07T04:17:06.931Z"
   },
   {
    "duration": 11,
    "start_time": "2022-06-07T04:17:06.980Z"
   },
   {
    "duration": 15,
    "start_time": "2022-06-07T04:17:06.993Z"
   },
   {
    "duration": 70,
    "start_time": "2022-06-07T04:17:07.010Z"
   },
   {
    "duration": 9,
    "start_time": "2022-06-07T04:17:07.081Z"
   },
   {
    "duration": 21,
    "start_time": "2022-06-07T04:17:07.091Z"
   },
   {
    "duration": 105,
    "start_time": "2022-06-07T04:17:07.114Z"
   },
   {
    "duration": 13,
    "start_time": "2022-06-07T04:17:07.221Z"
   },
   {
    "duration": 27,
    "start_time": "2022-06-07T04:17:07.236Z"
   },
   {
    "duration": 23,
    "start_time": "2022-06-07T04:17:07.265Z"
   },
   {
    "duration": 13,
    "start_time": "2022-06-07T04:17:07.290Z"
   },
   {
    "duration": 19,
    "start_time": "2022-06-07T04:17:07.305Z"
   },
   {
    "duration": 45,
    "start_time": "2022-06-07T04:17:07.326Z"
   },
   {
    "duration": 62,
    "start_time": "2022-06-07T04:17:07.373Z"
   },
   {
    "duration": 50,
    "start_time": "2022-06-07T04:17:07.437Z"
   },
   {
    "duration": 18,
    "start_time": "2022-06-07T04:17:07.490Z"
   },
   {
    "duration": 54,
    "start_time": "2022-06-07T04:17:07.510Z"
   },
   {
    "duration": 25,
    "start_time": "2022-06-07T04:17:07.565Z"
   },
   {
    "duration": 4,
    "start_time": "2022-06-07T04:17:07.593Z"
   },
   {
    "duration": 21,
    "start_time": "2022-06-07T04:17:07.600Z"
   },
   {
    "duration": 19,
    "start_time": "2022-06-07T04:17:09.103Z"
   },
   {
    "duration": 3,
    "start_time": "2022-06-07T04:17:09.782Z"
   },
   {
    "duration": 15,
    "start_time": "2022-06-07T04:17:13.333Z"
   },
   {
    "duration": 3,
    "start_time": "2022-06-07T04:17:14.286Z"
   },
   {
    "duration": 8,
    "start_time": "2022-06-07T04:20:12.389Z"
   },
   {
    "duration": 9,
    "start_time": "2022-06-07T04:20:17.078Z"
   },
   {
    "duration": 7,
    "start_time": "2022-06-07T04:20:39.772Z"
   },
   {
    "duration": 7,
    "start_time": "2022-06-07T04:20:41.205Z"
   },
   {
    "duration": 10,
    "start_time": "2022-06-07T04:20:42.819Z"
   },
   {
    "duration": 7,
    "start_time": "2022-06-07T04:20:43.908Z"
   },
   {
    "duration": 16,
    "start_time": "2022-06-07T04:20:44.957Z"
   },
   {
    "duration": 29,
    "start_time": "2022-06-07T04:20:46.700Z"
   },
   {
    "duration": 1098,
    "start_time": "2022-06-07T04:42:55.402Z"
   },
   {
    "duration": 415,
    "start_time": "2022-06-07T04:42:56.502Z"
   },
   {
    "duration": 14,
    "start_time": "2022-06-07T04:42:56.920Z"
   },
   {
    "duration": 12,
    "start_time": "2022-06-07T04:42:56.936Z"
   },
   {
    "duration": 20,
    "start_time": "2022-06-07T04:42:56.949Z"
   },
   {
    "duration": 41,
    "start_time": "2022-06-07T04:42:56.970Z"
   },
   {
    "duration": 8,
    "start_time": "2022-06-07T04:42:57.013Z"
   },
   {
    "duration": 52,
    "start_time": "2022-06-07T04:42:57.023Z"
   },
   {
    "duration": 12,
    "start_time": "2022-06-07T04:42:57.077Z"
   },
   {
    "duration": 46,
    "start_time": "2022-06-07T04:42:57.093Z"
   },
   {
    "duration": 20,
    "start_time": "2022-06-07T04:42:57.141Z"
   },
   {
    "duration": 49,
    "start_time": "2022-06-07T04:42:57.163Z"
   },
   {
    "duration": 135,
    "start_time": "2022-06-07T04:42:57.214Z"
   },
   {
    "duration": 11,
    "start_time": "2022-06-07T04:42:57.352Z"
   },
   {
    "duration": 52,
    "start_time": "2022-06-07T04:42:57.365Z"
   },
   {
    "duration": 121,
    "start_time": "2022-06-07T04:42:57.419Z"
   },
   {
    "duration": 11,
    "start_time": "2022-06-07T04:42:57.542Z"
   },
   {
    "duration": 18,
    "start_time": "2022-06-07T04:42:57.555Z"
   },
   {
    "duration": 28,
    "start_time": "2022-06-07T04:42:57.575Z"
   },
   {
    "duration": 9,
    "start_time": "2022-06-07T04:42:57.605Z"
   },
   {
    "duration": 12,
    "start_time": "2022-06-07T04:42:57.616Z"
   },
   {
    "duration": 42,
    "start_time": "2022-06-07T04:42:57.630Z"
   },
   {
    "duration": 50,
    "start_time": "2022-06-07T04:42:57.674Z"
   },
   {
    "duration": 49,
    "start_time": "2022-06-07T04:42:57.726Z"
   },
   {
    "duration": 12,
    "start_time": "2022-06-07T04:42:57.777Z"
   },
   {
    "duration": 30,
    "start_time": "2022-06-07T04:42:57.791Z"
   },
   {
    "duration": 40,
    "start_time": "2022-06-07T04:42:57.823Z"
   },
   {
    "duration": 18,
    "start_time": "2022-06-07T04:42:57.867Z"
   },
   {
    "duration": 17,
    "start_time": "2022-06-07T04:42:57.887Z"
   },
   {
    "duration": 8,
    "start_time": "2022-06-07T04:42:57.905Z"
   },
   {
    "duration": 8,
    "start_time": "2022-06-07T04:42:57.914Z"
   },
   {
    "duration": 43,
    "start_time": "2022-06-07T04:42:57.924Z"
   },
   {
    "duration": 9,
    "start_time": "2022-06-07T04:42:57.970Z"
   },
   {
    "duration": 15,
    "start_time": "2022-06-07T04:42:57.981Z"
   },
   {
    "duration": 28,
    "start_time": "2022-06-07T04:42:57.998Z"
   },
   {
    "duration": 30,
    "start_time": "2022-06-07T04:42:58.029Z"
   },
   {
    "duration": 5,
    "start_time": "2022-06-07T04:42:58.061Z"
   },
   {
    "duration": 16,
    "start_time": "2022-06-07T04:42:58.068Z"
   },
   {
    "duration": 8,
    "start_time": "2022-06-07T04:42:58.086Z"
   },
   {
    "duration": 189,
    "start_time": "2022-06-07T04:42:58.095Z"
   },
   {
    "duration": 9,
    "start_time": "2022-06-07T04:42:58.286Z"
   },
   {
    "duration": 11,
    "start_time": "2022-06-07T04:42:58.297Z"
   },
   {
    "duration": 298,
    "start_time": "2022-06-07T04:42:58.310Z"
   },
   {
    "duration": 10,
    "start_time": "2022-06-07T04:42:58.610Z"
   },
   {
    "duration": 14,
    "start_time": "2022-06-07T04:42:58.621Z"
   },
   {
    "duration": 203,
    "start_time": "2022-06-07T04:42:58.637Z"
   },
   {
    "duration": 20,
    "start_time": "2022-06-07T04:42:58.842Z"
   },
   {
    "duration": 12,
    "start_time": "2022-06-07T04:42:58.863Z"
   },
   {
    "duration": 8,
    "start_time": "2022-06-07T04:42:58.877Z"
   },
   {
    "duration": 185,
    "start_time": "2022-06-07T04:42:58.887Z"
   },
   {
    "duration": 167,
    "start_time": "2022-06-07T04:42:59.073Z"
   },
   {
    "duration": 151,
    "start_time": "2022-06-07T04:42:59.242Z"
   },
   {
    "duration": 11,
    "start_time": "2022-06-07T04:42:59.395Z"
   },
   {
    "duration": 14,
    "start_time": "2022-06-07T04:42:59.408Z"
   },
   {
    "duration": 13,
    "start_time": "2022-06-07T04:42:59.424Z"
   },
   {
    "duration": 21,
    "start_time": "2022-06-07T04:42:59.438Z"
   }
  ],
  "kernelspec": {
   "display_name": "Python 3 (ipykernel)",
   "language": "python",
   "name": "python3"
  },
  "language_info": {
   "codemirror_mode": {
    "name": "ipython",
    "version": 3
   },
   "file_extension": ".py",
   "mimetype": "text/x-python",
   "name": "python",
   "nbconvert_exporter": "python",
   "pygments_lexer": "ipython3",
   "version": "3.9.12"
  },
  "toc": {
   "base_numbering": "1",
   "nav_menu": {},
   "number_sections": true,
   "sideBar": true,
   "skip_h1_title": false,
   "title_cell": "Table of Contents",
   "title_sidebar": "Contents",
   "toc_cell": true,
   "toc_position": {
    "height": "calc(100% - 180px)",
    "left": "10px",
    "top": "150px",
    "width": "193px"
   },
   "toc_section_display": true,
   "toc_window_display": true
  }
 },
 "nbformat": 4,
 "nbformat_minor": 5
}
