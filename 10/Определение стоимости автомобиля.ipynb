{
 "cells": [
  {
   "cell_type": "markdown",
   "metadata": {},
   "source": [
    "# Определение стоимости автомобилей"
   ]
  },
  {
   "cell_type": "markdown",
   "metadata": {},
   "source": [
    "Сервис по продаже автомобилей с пробегом «Не бит, не крашен» разрабатывает приложение для привлечения новых клиентов. В нём можно быстро узнать рыночную стоимость своего автомобиля. В вашем распоряжении исторические данные: технические характеристики, комплектации и цены автомобилей. Вам нужно построить модель для определения стоимости. \n",
    "\n",
    "Заказчику важны:\n",
    "\n",
    "- качество предсказания;\n",
    "- скорость предсказания;\n",
    "- время обучения."
   ]
  },
  {
   "cell_type": "markdown",
   "metadata": {},
   "source": [
    "Признаки\n",
    "\n",
    "    DateCrawled — дата скачивания анкеты из базы\n",
    "    VehicleType — тип автомобильного кузова\n",
    "    RegistrationYear — год регистрации автомобиля\n",
    "    Gearbox — тип коробки передач\n",
    "    Power — мощность (л. с.)\n",
    "    Model — модель автомобиля\n",
    "    Kilometer — пробег (км)\n",
    "    RegistrationMonth — месяц регистрации автомобиля\n",
    "    FuelType — тип топлива\n",
    "    Brand — марка автомобиля\n",
    "    NotRepaired — была машина в ремонте или нет\n",
    "    DateCreated — дата создания анкеты\n",
    "    NumberOfPictures — количество фотографий автомобиля\n",
    "    PostalCode — почтовый индекс владельца анкеты (пользователя)\n",
    "    LastSeen — дата последней активности пользователя\n",
    "    \n",
    "Целевой признак\n",
    "\n",
    "    Price — цена (евро)"
   ]
  },
  {
   "cell_type": "markdown",
   "metadata": {},
   "source": [
    "## Подготовка данных"
   ]
  },
  {
   "cell_type": "code",
   "execution_count": 1,
   "metadata": {},
   "outputs": [],
   "source": [
    "import pandas as pd\n",
    "import numpy as np\n",
    "from numpy.random import RandomState\n",
    "import seaborn as sns\n",
    "import matplotlib.pyplot as plt\n",
    "from scipy import stats as st\n",
    "\n",
    "from sklearn.preprocessing import StandardScaler\n",
    "from sklearn.utils import shuffle\n",
    "from sklearn.dummy import DummyRegressor\n",
    "from sklearn.model_selection import train_test_split, cross_val_score, GridSearchCV\n",
    "from sklearn.linear_model import LinearRegression, ElasticNet, Ridge, Lasso\n",
    "from sklearn.ensemble import GradientBoostingRegressor, RandomForestRegressor\n",
    "from sklearn.metrics import mean_squared_error, make_scorer\n",
    "from sklearn.preprocessing import LabelEncoder\n",
    "import lightgbm"
   ]
  },
  {
   "cell_type": "code",
   "execution_count": 2,
   "metadata": {},
   "outputs": [],
   "source": [
    "df = pd.read_csv('/datasets/autos.csv')"
   ]
  },
  {
   "cell_type": "code",
   "execution_count": 3,
   "metadata": {},
   "outputs": [
    {
     "data": {
      "text/html": [
       "<div>\n",
       "<style scoped>\n",
       "    .dataframe tbody tr th:only-of-type {\n",
       "        vertical-align: middle;\n",
       "    }\n",
       "\n",
       "    .dataframe tbody tr th {\n",
       "        vertical-align: top;\n",
       "    }\n",
       "\n",
       "    .dataframe thead th {\n",
       "        text-align: right;\n",
       "    }\n",
       "</style>\n",
       "<table border=\"1\" class=\"dataframe\">\n",
       "  <thead>\n",
       "    <tr style=\"text-align: right;\">\n",
       "      <th></th>\n",
       "      <th>DateCrawled</th>\n",
       "      <th>Price</th>\n",
       "      <th>VehicleType</th>\n",
       "      <th>RegistrationYear</th>\n",
       "      <th>Gearbox</th>\n",
       "      <th>Power</th>\n",
       "      <th>Model</th>\n",
       "      <th>Kilometer</th>\n",
       "      <th>RegistrationMonth</th>\n",
       "      <th>FuelType</th>\n",
       "      <th>Brand</th>\n",
       "      <th>NotRepaired</th>\n",
       "      <th>DateCreated</th>\n",
       "      <th>NumberOfPictures</th>\n",
       "      <th>PostalCode</th>\n",
       "      <th>LastSeen</th>\n",
       "    </tr>\n",
       "  </thead>\n",
       "  <tbody>\n",
       "    <tr>\n",
       "      <th>0</th>\n",
       "      <td>2016-03-24 11:52:17</td>\n",
       "      <td>480</td>\n",
       "      <td>NaN</td>\n",
       "      <td>1993</td>\n",
       "      <td>manual</td>\n",
       "      <td>0</td>\n",
       "      <td>golf</td>\n",
       "      <td>150000</td>\n",
       "      <td>0</td>\n",
       "      <td>petrol</td>\n",
       "      <td>volkswagen</td>\n",
       "      <td>NaN</td>\n",
       "      <td>2016-03-24 00:00:00</td>\n",
       "      <td>0</td>\n",
       "      <td>70435</td>\n",
       "      <td>2016-04-07 03:16:57</td>\n",
       "    </tr>\n",
       "    <tr>\n",
       "      <th>1</th>\n",
       "      <td>2016-03-24 10:58:45</td>\n",
       "      <td>18300</td>\n",
       "      <td>coupe</td>\n",
       "      <td>2011</td>\n",
       "      <td>manual</td>\n",
       "      <td>190</td>\n",
       "      <td>NaN</td>\n",
       "      <td>125000</td>\n",
       "      <td>5</td>\n",
       "      <td>gasoline</td>\n",
       "      <td>audi</td>\n",
       "      <td>yes</td>\n",
       "      <td>2016-03-24 00:00:00</td>\n",
       "      <td>0</td>\n",
       "      <td>66954</td>\n",
       "      <td>2016-04-07 01:46:50</td>\n",
       "    </tr>\n",
       "    <tr>\n",
       "      <th>2</th>\n",
       "      <td>2016-03-14 12:52:21</td>\n",
       "      <td>9800</td>\n",
       "      <td>suv</td>\n",
       "      <td>2004</td>\n",
       "      <td>auto</td>\n",
       "      <td>163</td>\n",
       "      <td>grand</td>\n",
       "      <td>125000</td>\n",
       "      <td>8</td>\n",
       "      <td>gasoline</td>\n",
       "      <td>jeep</td>\n",
       "      <td>NaN</td>\n",
       "      <td>2016-03-14 00:00:00</td>\n",
       "      <td>0</td>\n",
       "      <td>90480</td>\n",
       "      <td>2016-04-05 12:47:46</td>\n",
       "    </tr>\n",
       "    <tr>\n",
       "      <th>3</th>\n",
       "      <td>2016-03-17 16:54:04</td>\n",
       "      <td>1500</td>\n",
       "      <td>small</td>\n",
       "      <td>2001</td>\n",
       "      <td>manual</td>\n",
       "      <td>75</td>\n",
       "      <td>golf</td>\n",
       "      <td>150000</td>\n",
       "      <td>6</td>\n",
       "      <td>petrol</td>\n",
       "      <td>volkswagen</td>\n",
       "      <td>no</td>\n",
       "      <td>2016-03-17 00:00:00</td>\n",
       "      <td>0</td>\n",
       "      <td>91074</td>\n",
       "      <td>2016-03-17 17:40:17</td>\n",
       "    </tr>\n",
       "    <tr>\n",
       "      <th>4</th>\n",
       "      <td>2016-03-31 17:25:20</td>\n",
       "      <td>3600</td>\n",
       "      <td>small</td>\n",
       "      <td>2008</td>\n",
       "      <td>manual</td>\n",
       "      <td>69</td>\n",
       "      <td>fabia</td>\n",
       "      <td>90000</td>\n",
       "      <td>7</td>\n",
       "      <td>gasoline</td>\n",
       "      <td>skoda</td>\n",
       "      <td>no</td>\n",
       "      <td>2016-03-31 00:00:00</td>\n",
       "      <td>0</td>\n",
       "      <td>60437</td>\n",
       "      <td>2016-04-06 10:17:21</td>\n",
       "    </tr>\n",
       "    <tr>\n",
       "      <th>5</th>\n",
       "      <td>2016-04-04 17:36:23</td>\n",
       "      <td>650</td>\n",
       "      <td>sedan</td>\n",
       "      <td>1995</td>\n",
       "      <td>manual</td>\n",
       "      <td>102</td>\n",
       "      <td>3er</td>\n",
       "      <td>150000</td>\n",
       "      <td>10</td>\n",
       "      <td>petrol</td>\n",
       "      <td>bmw</td>\n",
       "      <td>yes</td>\n",
       "      <td>2016-04-04 00:00:00</td>\n",
       "      <td>0</td>\n",
       "      <td>33775</td>\n",
       "      <td>2016-04-06 19:17:07</td>\n",
       "    </tr>\n",
       "    <tr>\n",
       "      <th>6</th>\n",
       "      <td>2016-04-01 20:48:51</td>\n",
       "      <td>2200</td>\n",
       "      <td>convertible</td>\n",
       "      <td>2004</td>\n",
       "      <td>manual</td>\n",
       "      <td>109</td>\n",
       "      <td>2_reihe</td>\n",
       "      <td>150000</td>\n",
       "      <td>8</td>\n",
       "      <td>petrol</td>\n",
       "      <td>peugeot</td>\n",
       "      <td>no</td>\n",
       "      <td>2016-04-01 00:00:00</td>\n",
       "      <td>0</td>\n",
       "      <td>67112</td>\n",
       "      <td>2016-04-05 18:18:39</td>\n",
       "    </tr>\n",
       "    <tr>\n",
       "      <th>7</th>\n",
       "      <td>2016-03-21 18:54:38</td>\n",
       "      <td>0</td>\n",
       "      <td>sedan</td>\n",
       "      <td>1980</td>\n",
       "      <td>manual</td>\n",
       "      <td>50</td>\n",
       "      <td>other</td>\n",
       "      <td>40000</td>\n",
       "      <td>7</td>\n",
       "      <td>petrol</td>\n",
       "      <td>volkswagen</td>\n",
       "      <td>no</td>\n",
       "      <td>2016-03-21 00:00:00</td>\n",
       "      <td>0</td>\n",
       "      <td>19348</td>\n",
       "      <td>2016-03-25 16:47:58</td>\n",
       "    </tr>\n",
       "    <tr>\n",
       "      <th>8</th>\n",
       "      <td>2016-04-04 23:42:13</td>\n",
       "      <td>14500</td>\n",
       "      <td>bus</td>\n",
       "      <td>2014</td>\n",
       "      <td>manual</td>\n",
       "      <td>125</td>\n",
       "      <td>c_max</td>\n",
       "      <td>30000</td>\n",
       "      <td>8</td>\n",
       "      <td>petrol</td>\n",
       "      <td>ford</td>\n",
       "      <td>NaN</td>\n",
       "      <td>2016-04-04 00:00:00</td>\n",
       "      <td>0</td>\n",
       "      <td>94505</td>\n",
       "      <td>2016-04-04 23:42:13</td>\n",
       "    </tr>\n",
       "    <tr>\n",
       "      <th>9</th>\n",
       "      <td>2016-03-17 10:53:50</td>\n",
       "      <td>999</td>\n",
       "      <td>small</td>\n",
       "      <td>1998</td>\n",
       "      <td>manual</td>\n",
       "      <td>101</td>\n",
       "      <td>golf</td>\n",
       "      <td>150000</td>\n",
       "      <td>0</td>\n",
       "      <td>NaN</td>\n",
       "      <td>volkswagen</td>\n",
       "      <td>NaN</td>\n",
       "      <td>2016-03-17 00:00:00</td>\n",
       "      <td>0</td>\n",
       "      <td>27472</td>\n",
       "      <td>2016-03-31 17:17:06</td>\n",
       "    </tr>\n",
       "  </tbody>\n",
       "</table>\n",
       "</div>"
      ],
      "text/plain": [
       "           DateCrawled  Price  VehicleType  RegistrationYear Gearbox  Power  \\\n",
       "0  2016-03-24 11:52:17    480          NaN              1993  manual      0   \n",
       "1  2016-03-24 10:58:45  18300        coupe              2011  manual    190   \n",
       "2  2016-03-14 12:52:21   9800          suv              2004    auto    163   \n",
       "3  2016-03-17 16:54:04   1500        small              2001  manual     75   \n",
       "4  2016-03-31 17:25:20   3600        small              2008  manual     69   \n",
       "5  2016-04-04 17:36:23    650        sedan              1995  manual    102   \n",
       "6  2016-04-01 20:48:51   2200  convertible              2004  manual    109   \n",
       "7  2016-03-21 18:54:38      0        sedan              1980  manual     50   \n",
       "8  2016-04-04 23:42:13  14500          bus              2014  manual    125   \n",
       "9  2016-03-17 10:53:50    999        small              1998  manual    101   \n",
       "\n",
       "     Model  Kilometer  RegistrationMonth  FuelType       Brand NotRepaired  \\\n",
       "0     golf     150000                  0    petrol  volkswagen         NaN   \n",
       "1      NaN     125000                  5  gasoline        audi         yes   \n",
       "2    grand     125000                  8  gasoline        jeep         NaN   \n",
       "3     golf     150000                  6    petrol  volkswagen          no   \n",
       "4    fabia      90000                  7  gasoline       skoda          no   \n",
       "5      3er     150000                 10    petrol         bmw         yes   \n",
       "6  2_reihe     150000                  8    petrol     peugeot          no   \n",
       "7    other      40000                  7    petrol  volkswagen          no   \n",
       "8    c_max      30000                  8    petrol        ford         NaN   \n",
       "9     golf     150000                  0       NaN  volkswagen         NaN   \n",
       "\n",
       "           DateCreated  NumberOfPictures  PostalCode             LastSeen  \n",
       "0  2016-03-24 00:00:00                 0       70435  2016-04-07 03:16:57  \n",
       "1  2016-03-24 00:00:00                 0       66954  2016-04-07 01:46:50  \n",
       "2  2016-03-14 00:00:00                 0       90480  2016-04-05 12:47:46  \n",
       "3  2016-03-17 00:00:00                 0       91074  2016-03-17 17:40:17  \n",
       "4  2016-03-31 00:00:00                 0       60437  2016-04-06 10:17:21  \n",
       "5  2016-04-04 00:00:00                 0       33775  2016-04-06 19:17:07  \n",
       "6  2016-04-01 00:00:00                 0       67112  2016-04-05 18:18:39  \n",
       "7  2016-03-21 00:00:00                 0       19348  2016-03-25 16:47:58  \n",
       "8  2016-04-04 00:00:00                 0       94505  2016-04-04 23:42:13  \n",
       "9  2016-03-17 00:00:00                 0       27472  2016-03-31 17:17:06  "
      ]
     },
     "execution_count": 3,
     "metadata": {},
     "output_type": "execute_result"
    }
   ],
   "source": [
    "df.head(10)"
   ]
  },
  {
   "cell_type": "code",
   "execution_count": 4,
   "metadata": {
    "scrolled": false
   },
   "outputs": [
    {
     "name": "stdout",
     "output_type": "stream",
     "text": [
      "<class 'pandas.core.frame.DataFrame'>\n",
      "RangeIndex: 354369 entries, 0 to 354368\n",
      "Data columns (total 16 columns):\n",
      " #   Column             Non-Null Count   Dtype \n",
      "---  ------             --------------   ----- \n",
      " 0   DateCrawled        354369 non-null  object\n",
      " 1   Price              354369 non-null  int64 \n",
      " 2   VehicleType        316879 non-null  object\n",
      " 3   RegistrationYear   354369 non-null  int64 \n",
      " 4   Gearbox            334536 non-null  object\n",
      " 5   Power              354369 non-null  int64 \n",
      " 6   Model              334664 non-null  object\n",
      " 7   Kilometer          354369 non-null  int64 \n",
      " 8   RegistrationMonth  354369 non-null  int64 \n",
      " 9   FuelType           321474 non-null  object\n",
      " 10  Brand              354369 non-null  object\n",
      " 11  NotRepaired        283215 non-null  object\n",
      " 12  DateCreated        354369 non-null  object\n",
      " 13  NumberOfPictures   354369 non-null  int64 \n",
      " 14  PostalCode         354369 non-null  int64 \n",
      " 15  LastSeen           354369 non-null  object\n",
      "dtypes: int64(7), object(9)\n",
      "memory usage: 43.3+ MB\n"
     ]
    }
   ],
   "source": [
    "df.info()"
   ]
  },
  {
   "cell_type": "markdown",
   "metadata": {},
   "source": [
    "Процент пропущенных значений в каждом столбце."
   ]
  },
  {
   "cell_type": "code",
   "execution_count": 5,
   "metadata": {
    "scrolled": true
   },
   "outputs": [
    {
     "data": {
      "text/plain": [
       "DateCrawled           0.000000\n",
       "Price                 0.000000\n",
       "VehicleType          10.579368\n",
       "RegistrationYear      0.000000\n",
       "Gearbox               5.596709\n",
       "Power                 0.000000\n",
       "Model                 5.560588\n",
       "Kilometer             0.000000\n",
       "RegistrationMonth     0.000000\n",
       "FuelType              9.282697\n",
       "Brand                 0.000000\n",
       "NotRepaired          20.079070\n",
       "DateCreated           0.000000\n",
       "NumberOfPictures      0.000000\n",
       "PostalCode            0.000000\n",
       "LastSeen              0.000000\n",
       "dtype: float64"
      ]
     },
     "execution_count": 5,
     "metadata": {},
     "output_type": "execute_result"
    }
   ],
   "source": [
    "(1 - df.count() / len(df)) * 100"
   ]
  },
  {
   "cell_type": "code",
   "execution_count": 7,
   "metadata": {
    "scrolled": true
   },
   "outputs": [
    {
     "data": {
      "text/html": [
       "<div>\n",
       "<style scoped>\n",
       "    .dataframe tbody tr th:only-of-type {\n",
       "        vertical-align: middle;\n",
       "    }\n",
       "\n",
       "    .dataframe tbody tr th {\n",
       "        vertical-align: top;\n",
       "    }\n",
       "\n",
       "    .dataframe thead th {\n",
       "        text-align: right;\n",
       "    }\n",
       "</style>\n",
       "<table border=\"1\" class=\"dataframe\">\n",
       "  <thead>\n",
       "    <tr style=\"text-align: right;\">\n",
       "      <th></th>\n",
       "      <th>Price</th>\n",
       "      <th>RegistrationYear</th>\n",
       "      <th>Power</th>\n",
       "      <th>Kilometer</th>\n",
       "      <th>RegistrationMonth</th>\n",
       "      <th>NumberOfPictures</th>\n",
       "      <th>PostalCode</th>\n",
       "    </tr>\n",
       "  </thead>\n",
       "  <tbody>\n",
       "    <tr>\n",
       "      <th>count</th>\n",
       "      <td>354369.000000</td>\n",
       "      <td>354369.000000</td>\n",
       "      <td>354369.000000</td>\n",
       "      <td>354369.000000</td>\n",
       "      <td>354369.000000</td>\n",
       "      <td>354369.0</td>\n",
       "      <td>354369.000000</td>\n",
       "    </tr>\n",
       "    <tr>\n",
       "      <th>mean</th>\n",
       "      <td>4416.656776</td>\n",
       "      <td>2004.234448</td>\n",
       "      <td>110.094337</td>\n",
       "      <td>128211.172535</td>\n",
       "      <td>5.714645</td>\n",
       "      <td>0.0</td>\n",
       "      <td>50508.689087</td>\n",
       "    </tr>\n",
       "    <tr>\n",
       "      <th>std</th>\n",
       "      <td>4514.158514</td>\n",
       "      <td>90.227958</td>\n",
       "      <td>189.850405</td>\n",
       "      <td>37905.341530</td>\n",
       "      <td>3.726421</td>\n",
       "      <td>0.0</td>\n",
       "      <td>25783.096248</td>\n",
       "    </tr>\n",
       "    <tr>\n",
       "      <th>min</th>\n",
       "      <td>0.000000</td>\n",
       "      <td>1000.000000</td>\n",
       "      <td>0.000000</td>\n",
       "      <td>5000.000000</td>\n",
       "      <td>0.000000</td>\n",
       "      <td>0.0</td>\n",
       "      <td>1067.000000</td>\n",
       "    </tr>\n",
       "    <tr>\n",
       "      <th>25%</th>\n",
       "      <td>1050.000000</td>\n",
       "      <td>1999.000000</td>\n",
       "      <td>69.000000</td>\n",
       "      <td>125000.000000</td>\n",
       "      <td>3.000000</td>\n",
       "      <td>0.0</td>\n",
       "      <td>30165.000000</td>\n",
       "    </tr>\n",
       "    <tr>\n",
       "      <th>50%</th>\n",
       "      <td>2700.000000</td>\n",
       "      <td>2003.000000</td>\n",
       "      <td>105.000000</td>\n",
       "      <td>150000.000000</td>\n",
       "      <td>6.000000</td>\n",
       "      <td>0.0</td>\n",
       "      <td>49413.000000</td>\n",
       "    </tr>\n",
       "    <tr>\n",
       "      <th>75%</th>\n",
       "      <td>6400.000000</td>\n",
       "      <td>2008.000000</td>\n",
       "      <td>143.000000</td>\n",
       "      <td>150000.000000</td>\n",
       "      <td>9.000000</td>\n",
       "      <td>0.0</td>\n",
       "      <td>71083.000000</td>\n",
       "    </tr>\n",
       "    <tr>\n",
       "      <th>max</th>\n",
       "      <td>20000.000000</td>\n",
       "      <td>9999.000000</td>\n",
       "      <td>20000.000000</td>\n",
       "      <td>150000.000000</td>\n",
       "      <td>12.000000</td>\n",
       "      <td>0.0</td>\n",
       "      <td>99998.000000</td>\n",
       "    </tr>\n",
       "  </tbody>\n",
       "</table>\n",
       "</div>"
      ],
      "text/plain": [
       "               Price  RegistrationYear          Power      Kilometer  \\\n",
       "count  354369.000000     354369.000000  354369.000000  354369.000000   \n",
       "mean     4416.656776       2004.234448     110.094337  128211.172535   \n",
       "std      4514.158514         90.227958     189.850405   37905.341530   \n",
       "min         0.000000       1000.000000       0.000000    5000.000000   \n",
       "25%      1050.000000       1999.000000      69.000000  125000.000000   \n",
       "50%      2700.000000       2003.000000     105.000000  150000.000000   \n",
       "75%      6400.000000       2008.000000     143.000000  150000.000000   \n",
       "max     20000.000000       9999.000000   20000.000000  150000.000000   \n",
       "\n",
       "       RegistrationMonth  NumberOfPictures     PostalCode  \n",
       "count      354369.000000          354369.0  354369.000000  \n",
       "mean            5.714645               0.0   50508.689087  \n",
       "std             3.726421               0.0   25783.096248  \n",
       "min             0.000000               0.0    1067.000000  \n",
       "25%             3.000000               0.0   30165.000000  \n",
       "50%             6.000000               0.0   49413.000000  \n",
       "75%             9.000000               0.0   71083.000000  \n",
       "max            12.000000               0.0   99998.000000  "
      ]
     },
     "execution_count": 7,
     "metadata": {},
     "output_type": "execute_result"
    }
   ],
   "source": [
    "df.describe()"
   ]
  },
  {
   "cell_type": "markdown",
   "metadata": {},
   "source": [
    "Столбец 'DateCreated' дублирует дату в признаке 'DateCrawled'. 'NumberOfPictures', 'PostalCode' и 'RegistrationMonth'  мало информативны для дальнейшего анализа. Удалим эти признаки."
   ]
  },
  {
   "cell_type": "code",
   "execution_count": 8,
   "metadata": {},
   "outputs": [],
   "source": [
    "df = df.drop(['NumberOfPictures', 'PostalCode', 'DateCrawled', 'RegistrationMonth'], axis=1)"
   ]
  },
  {
   "cell_type": "markdown",
   "metadata": {},
   "source": [
    "Выделим отдельно численные и категориальные признаки."
   ]
  },
  {
   "cell_type": "code",
   "execution_count": 9,
   "metadata": {},
   "outputs": [],
   "source": [
    "num_features  = ['DateCreated', 'Price', 'RegistrationYear', 'Power', 'Kilometer', 'LastSeen']\n",
    "cat_features  = ['VehicleType', 'Gearbox', 'Model', 'FuelType', 'NotRepaired', 'Brand']"
   ]
  },
  {
   "cell_type": "markdown",
   "metadata": {},
   "source": [
    "Посмотрим на зависимость числовых признаков друг от друга."
   ]
  },
  {
   "cell_type": "code",
   "execution_count": 10,
   "metadata": {},
   "outputs": [],
   "source": [
    "# sns.pairplot(df)"
   ]
  },
  {
   "cell_type": "code",
   "execution_count": 11,
   "metadata": {},
   "outputs": [
    {
     "data": {
      "text/plain": [
       "10772"
      ]
     },
     "execution_count": 11,
     "metadata": {},
     "output_type": "execute_result"
    }
   ],
   "source": [
    "df[df['Price'] ==0]['Price'].count()"
   ]
  },
  {
   "cell_type": "markdown",
   "metadata": {},
   "source": [
    "Объявления с нулевой ценой лучше убрать из анализа."
   ]
  },
  {
   "cell_type": "code",
   "execution_count": 12,
   "metadata": {},
   "outputs": [
    {
     "data": {
      "text/plain": [
       "0"
      ]
     },
     "execution_count": 12,
     "metadata": {},
     "output_type": "execute_result"
    }
   ],
   "source": [
    "df = df[df['Price'] !=0]\n",
    "df[df['Price'] ==0]['Price'].count()"
   ]
  },
  {
   "cell_type": "code",
   "execution_count": 13,
   "metadata": {
    "scrolled": true
   },
   "outputs": [
    {
     "data": {
      "text/plain": [
       "<AxesSubplot:>"
      ]
     },
     "execution_count": 13,
     "metadata": {},
     "output_type": "execute_result"
    },
    {
     "data": {
      "image/png": "[encoded data removed]",
      "text/plain": [
       "<Figure size 432x288 with 1 Axes>"
      ]
     },
     "metadata": {
      "needs_background": "light"
     },
     "output_type": "display_data"
    }
   ],
   "source": [
    "df['Price'].hist(bins=20)"
   ]
  },
  {
   "cell_type": "markdown",
   "metadata": {},
   "source": [
    "В некоторых категориальных переменных большой процент пропущенных значений, заполним их пока что значением 'unknown'."
   ]
  },
  {
   "cell_type": "code",
   "execution_count": 14,
   "metadata": {
    "scrolled": true
   },
   "outputs": [
    {
     "data": {
      "text/plain": [
       "VehicleType    0.0\n",
       "Gearbox        0.0\n",
       "Model          0.0\n",
       "FuelType       0.0\n",
       "NotRepaired    0.0\n",
       "Brand          0.0\n",
       "dtype: float64"
      ]
     },
     "execution_count": 14,
     "metadata": {},
     "output_type": "execute_result"
    }
   ],
   "source": [
    "df[cat_features] = df[cat_features].fillna('unknown')\n",
    "(1 - df[cat_features].count() / len(df)) * 100"
   ]
  },
  {
   "cell_type": "code",
   "execution_count": 16,
   "metadata": {},
   "outputs": [
    {
     "data": {
      "text/plain": [
       "53"
      ]
     },
     "execution_count": 16,
     "metadata": {},
     "output_type": "execute_result"
    }
   ],
   "source": [
    "len(df[df['RegistrationYear'] <= 1800])"
   ]
  },
  {
   "cell_type": "code",
   "execution_count": 17,
   "metadata": {},
   "outputs": [],
   "source": [
    "df = df[df['RegistrationYear'] > 1800]"
   ]
  },
  {
   "cell_type": "code",
   "execution_count": 18,
   "metadata": {},
   "outputs": [],
   "source": [
    "df = df[df['RegistrationYear'] <= 2016]"
   ]
  },
  {
   "cell_type": "code",
   "execution_count": 19,
   "metadata": {
    "scrolled": true
   },
   "outputs": [
    {
     "data": {
      "text/plain": [
       "<AxesSubplot:>"
      ]
     },
     "execution_count": 19,
     "metadata": {},
     "output_type": "execute_result"
    },
    {
     "data": {
      "image/png": "[encoded data removed]",
      "text/plain": [
       "<Figure size 432x288 with 1 Axes>"
      ]
     },
     "metadata": {
      "needs_background": "light"
     },
     "output_type": "display_data"
    }
   ],
   "source": [
    "df[df['Power']< 600].boxplot('Power')"
   ]
  },
  {
   "cell_type": "code",
   "execution_count": 20,
   "metadata": {},
   "outputs": [
    {
     "data": {
      "text/plain": [
       "330"
      ]
     },
     "execution_count": 20,
     "metadata": {},
     "output_type": "execute_result"
    }
   ],
   "source": [
    "len(df[df['Power'] > 600])"
   ]
  },
  {
   "cell_type": "code",
   "execution_count": 21,
   "metadata": {},
   "outputs": [],
   "source": [
    "df.loc[(df['Power'] > 600) | (df['Power'] <= 0), 'Power'] = None\n",
    "df['Power'] = df['Power'].fillna(df.groupby('Model')['Power'].transform('median')).copy()\n",
    "df = df.loc[~df['Power'].isna()]\n",
    "df['Power'] = df['Power'].astype('int64').copy()"
   ]
  },
  {
   "cell_type": "code",
   "execution_count": 22,
   "metadata": {},
   "outputs": [
    {
     "data": {
      "text/plain": [
       "2440"
      ]
     },
     "execution_count": 22,
     "metadata": {},
     "output_type": "execute_result"
    }
   ],
   "source": [
    "len(df[df['Price'] < 100])"
   ]
  },
  {
   "cell_type": "code",
   "execution_count": 23,
   "metadata": {},
   "outputs": [],
   "source": [
    "df = df[df['Price'] > 100]"
   ]
  },
  {
   "cell_type": "code",
   "execution_count": 24,
   "metadata": {
    "scrolled": true
   },
   "outputs": [
    {
     "data": {
      "text/plain": [
       "<AxesSubplot:>"
      ]
     },
     "execution_count": 24,
     "metadata": {},
     "output_type": "execute_result"
    },
    {
     "data": {
      "image/png": "[encoded data removed]",
      "text/plain": [
       "<Figure size 432x288 with 1 Axes>"
      ]
     },
     "metadata": {
      "needs_background": "light"
     },
     "output_type": "display_data"
    }
   ],
   "source": [
    "df['Price'].hist(bins=20)"
   ]
  },
  {
   "cell_type": "markdown",
   "metadata": {},
   "source": [
    "Применяю Label encoding для кодирования категориальных признаков."
   ]
  },
  {
   "cell_type": "code",
   "execution_count": 26,
   "metadata": {
    "scrolled": true
   },
   "outputs": [
    {
     "data": {
      "text/html": [
       "<div>\n",
       "<style scoped>\n",
       "    .dataframe tbody tr th:only-of-type {\n",
       "        vertical-align: middle;\n",
       "    }\n",
       "\n",
       "    .dataframe tbody tr th {\n",
       "        vertical-align: top;\n",
       "    }\n",
       "\n",
       "    .dataframe thead th {\n",
       "        text-align: right;\n",
       "    }\n",
       "</style>\n",
       "<table border=\"1\" class=\"dataframe\">\n",
       "  <thead>\n",
       "    <tr style=\"text-align: right;\">\n",
       "      <th></th>\n",
       "      <th>Price</th>\n",
       "      <th>VehicleType</th>\n",
       "      <th>RegistrationYear</th>\n",
       "      <th>Gearbox</th>\n",
       "      <th>Power</th>\n",
       "      <th>Model</th>\n",
       "      <th>Kilometer</th>\n",
       "      <th>FuelType</th>\n",
       "      <th>Brand</th>\n",
       "      <th>NotRepaired</th>\n",
       "      <th>DateCreated</th>\n",
       "      <th>LastSeen</th>\n",
       "    </tr>\n",
       "  </thead>\n",
       "  <tbody>\n",
       "    <tr>\n",
       "      <th>0</th>\n",
       "      <td>480</td>\n",
       "      <td>7</td>\n",
       "      <td>1993</td>\n",
       "      <td>1</td>\n",
       "      <td>101</td>\n",
       "      <td>116</td>\n",
       "      <td>150000</td>\n",
       "      <td>6</td>\n",
       "      <td>38</td>\n",
       "      <td>1</td>\n",
       "      <td>93</td>\n",
       "      <td>163404</td>\n",
       "    </tr>\n",
       "    <tr>\n",
       "      <th>1</th>\n",
       "      <td>18300</td>\n",
       "      <td>2</td>\n",
       "      <td>2011</td>\n",
       "      <td>1</td>\n",
       "      <td>190</td>\n",
       "      <td>227</td>\n",
       "      <td>125000</td>\n",
       "      <td>2</td>\n",
       "      <td>1</td>\n",
       "      <td>2</td>\n",
       "      <td>93</td>\n",
       "      <td>162926</td>\n",
       "    </tr>\n",
       "    <tr>\n",
       "      <th>2</th>\n",
       "      <td>9800</td>\n",
       "      <td>6</td>\n",
       "      <td>2004</td>\n",
       "      <td>0</td>\n",
       "      <td>163</td>\n",
       "      <td>117</td>\n",
       "      <td>125000</td>\n",
       "      <td>2</td>\n",
       "      <td>14</td>\n",
       "      <td>1</td>\n",
       "      <td>83</td>\n",
       "      <td>147677</td>\n",
       "    </tr>\n",
       "    <tr>\n",
       "      <th>3</th>\n",
       "      <td>1500</td>\n",
       "      <td>5</td>\n",
       "      <td>2001</td>\n",
       "      <td>1</td>\n",
       "      <td>75</td>\n",
       "      <td>116</td>\n",
       "      <td>150000</td>\n",
       "      <td>6</td>\n",
       "      <td>38</td>\n",
       "      <td>0</td>\n",
       "      <td>86</td>\n",
       "      <td>41002</td>\n",
       "    </tr>\n",
       "    <tr>\n",
       "      <th>4</th>\n",
       "      <td>3600</td>\n",
       "      <td>5</td>\n",
       "      <td>2008</td>\n",
       "      <td>1</td>\n",
       "      <td>69</td>\n",
       "      <td>101</td>\n",
       "      <td>90000</td>\n",
       "      <td>2</td>\n",
       "      <td>31</td>\n",
       "      <td>0</td>\n",
       "      <td>100</td>\n",
       "      <td>156533</td>\n",
       "    </tr>\n",
       "  </tbody>\n",
       "</table>\n",
       "</div>"
      ],
      "text/plain": [
       "   Price  VehicleType  RegistrationYear  Gearbox  Power  Model  Kilometer  \\\n",
       "0    480            7              1993        1    101    116     150000   \n",
       "1  18300            2              2011        1    190    227     125000   \n",
       "2   9800            6              2004        0    163    117     125000   \n",
       "3   1500            5              2001        1     75    116     150000   \n",
       "4   3600            5              2008        1     69    101      90000   \n",
       "\n",
       "   FuelType  Brand  NotRepaired  DateCreated  LastSeen  \n",
       "0         6     38            1           93    163404  \n",
       "1         2      1            2           93    162926  \n",
       "2         2     14            1           83    147677  \n",
       "3         6     38            0           86     41002  \n",
       "4         2     31            0          100    156533  "
      ]
     },
     "execution_count": 26,
     "metadata": {},
     "output_type": "execute_result"
    }
   ],
   "source": [
    "cat_futures = list(df.select_dtypes(include='object').columns)\n",
    "le = LabelEncoder()\n",
    "for i in cat_futures:\n",
    "    le.fit(df[i].astype('str'))\n",
    "    df[i] = le.transform(df[i].astype('str'))\n",
    "df.head()"
   ]
  },
  {
   "cell_type": "markdown",
   "metadata": {},
   "source": [
    "###  Выводы"
   ]
  },
  {
   "cell_type": "markdown",
   "metadata": {},
   "source": [
    "- Данные были успешно загружены и проанализированы. \n",
    "- Отобраны признаки, необходимые для построения моделей.\n",
    "- Пропущенные значения в категориальных признаках заполнены значением \"unknown\".\n",
    "- Удалены нулевые значения в столбце \"Price\".\n",
    "- Категориальные признаки закодированы с помощью \"Label encoding\"."
   ]
  },
  {
   "cell_type": "markdown",
   "metadata": {},
   "source": [
    "## Обучение моделей"
   ]
  },
  {
   "cell_type": "markdown",
   "metadata": {},
   "source": [
    "### Разделяем выборки"
   ]
  },
  {
   "cell_type": "code",
   "execution_count": 27,
   "metadata": {},
   "outputs": [],
   "source": [
    "X = df.drop('Price', axis=1)\n",
    "y = df['Price']"
   ]
  },
  {
   "cell_type": "code",
   "execution_count": 28,
   "metadata": {},
   "outputs": [],
   "source": [
    "X_train, X_test, y_train, y_test = train_test_split(\n",
    "    X,\n",
    "    y,\n",
    "    test_size=0.25,\n",
    "    random_state=12345\n",
    ")"
   ]
  },
  {
   "cell_type": "code",
   "execution_count": 29,
   "metadata": {},
   "outputs": [
    {
     "data": {
      "text/plain": [
       "(244732, 11)"
      ]
     },
     "execution_count": 29,
     "metadata": {},
     "output_type": "execute_result"
    }
   ],
   "source": [
    "X_train.shape"
   ]
  },
  {
   "cell_type": "code",
   "execution_count": 30,
   "metadata": {},
   "outputs": [
    {
     "data": {
      "text/plain": [
       "(244732,)"
      ]
     },
     "execution_count": 30,
     "metadata": {},
     "output_type": "execute_result"
    }
   ],
   "source": [
    "y_train.shape"
   ]
  },
  {
   "cell_type": "code",
   "execution_count": 31,
   "metadata": {},
   "outputs": [
    {
     "data": {
      "text/plain": [
       "(81578, 11)"
      ]
     },
     "execution_count": 31,
     "metadata": {},
     "output_type": "execute_result"
    }
   ],
   "source": [
    "X_test.shape"
   ]
  },
  {
   "cell_type": "code",
   "execution_count": 32,
   "metadata": {
    "scrolled": true
   },
   "outputs": [
    {
     "data": {
      "text/plain": [
       "(81578,)"
      ]
     },
     "execution_count": 32,
     "metadata": {},
     "output_type": "execute_result"
    }
   ],
   "source": [
    "y_test.shape"
   ]
  },
  {
   "cell_type": "markdown",
   "metadata": {},
   "source": [
    "Проведём масштабирование признаков к стандартному нормальному распределению с помощью метода StandardScaler"
   ]
  },
  {
   "cell_type": "code",
   "execution_count": 33,
   "metadata": {},
   "outputs": [],
   "source": [
    "ss = StandardScaler()\n",
    "ss.fit(X_train)\n",
    "columns = X_train.columns\n",
    "X_train = pd.DataFrame(ss.transform(X_train), columns = columns)\n",
    "X_test = pd.DataFrame(ss.transform(X_test), columns = columns)"
   ]
  },
  {
   "cell_type": "markdown",
   "metadata": {},
   "source": [
    "### Константная модель"
   ]
  },
  {
   "cell_type": "markdown",
   "metadata": {},
   "source": [
    "Создадим константную модель и посчитаем для нее значение RMSE."
   ]
  },
  {
   "cell_type": "code",
   "execution_count": 34,
   "metadata": {},
   "outputs": [
    {
     "name": "stdout",
     "output_type": "stream",
     "text": [
      "RMSE стандартной модели:  4545.868052752003\n"
     ]
    }
   ],
   "source": [
    "model_base = pd.Series(\n",
    "    data=y.mean(),\n",
    "    index=y.index \n",
    ")\n",
    "\n",
    "rmse_base = mean_squared_error(y, model_base) ** 0.5\n",
    "\n",
    "print('RMSE стандартной модели: ', rmse_base)"
   ]
  },
  {
   "cell_type": "markdown",
   "metadata": {},
   "source": [
    "### Линейная регрессия"
   ]
  },
  {
   "cell_type": "code",
   "execution_count": 35,
   "metadata": {
    "scrolled": false
   },
   "outputs": [
    {
     "name": "stdout",
     "output_type": "stream",
     "text": [
      "CPU times: user 130 ms, sys: 95.9 ms, total: 226 ms\n",
      "Wall time: 226 ms\n"
     ]
    },
    {
     "data": {
      "text/plain": [
       "LinearRegression()"
      ]
     },
     "execution_count": 35,
     "metadata": {},
     "output_type": "execute_result"
    }
   ],
   "source": [
    "%%time\n",
    "\n",
    "model_line = LinearRegression()\n",
    "\n",
    "model_line.fit(X_train, y_train)"
   ]
  },
  {
   "cell_type": "code",
   "execution_count": 48,
   "metadata": {},
   "outputs": [
    {
     "name": "stdout",
     "output_type": "stream",
     "text": [
      "RMSE модели линейной регрессии  2922.2987767119675\n"
     ]
    }
   ],
   "source": [
    "rmse_line = cross_val_score(model_line, X_train, y_train, cv=5, scoring='neg_root_mean_squared_error')\n",
    "print('RMSE модели линейной регрессии ',(-rmse_line.mean()))"
   ]
  },
  {
   "cell_type": "code",
   "execution_count": 49,
   "metadata": {},
   "outputs": [
    {
     "name": "stdout",
     "output_type": "stream",
     "text": [
      "CPU times: user 25.2 ms, sys: 26.9 ms, total: 52.1 ms\n",
      "Wall time: 10.5 ms\n"
     ]
    }
   ],
   "source": [
    "%%time\n",
    "\n",
    "predict_line = model_line.predict(X_test)"
   ]
  },
  {
   "cell_type": "markdown",
   "metadata": {},
   "source": [
    "### Градиентный бустинг"
   ]
  },
  {
   "cell_type": "code",
   "execution_count": 38,
   "metadata": {},
   "outputs": [],
   "source": [
    "param_model = {\n",
    "    'learning_rate': [0.1, 0.3],\n",
    "    'max_depth': [3, 5]\n",
    "}"
   ]
  },
  {
   "cell_type": "code",
   "execution_count": 39,
   "metadata": {},
   "outputs": [
    {
     "data": {
      "text/plain": [
       "{'learning_rate': 0.3, 'max_depth': 5}"
      ]
     },
     "execution_count": 39,
     "metadata": {},
     "output_type": "execute_result"
    }
   ],
   "source": [
    "lgbm = lightgbm.LGBMRegressor(random_state=12345)\n",
    "\n",
    "model_LGBM = GridSearchCV(\n",
    "    estimator=lgbm,\n",
    "    param_grid=param_model,    \n",
    "    cv=3,\n",
    "    n_jobs=-1,\n",
    "    scoring='neg_root_mean_squared_error'\n",
    ")\n",
    "\n",
    "model_LGBM.fit(X_train, y_train)\n",
    "\n",
    "model_LGBM.best_params_"
   ]
  },
  {
   "cell_type": "code",
   "execution_count": 40,
   "metadata": {
    "scrolled": true
   },
   "outputs": [
    {
     "name": "stdout",
     "output_type": "stream",
     "text": [
      "RMSE модели LightGBM на обучающей выборке:  1643.7522503228374\n"
     ]
    }
   ],
   "source": [
    "print('RMSE модели LightGBM на обучающей выборке: ', (-model_LGBM.best_score_))"
   ]
  },
  {
   "cell_type": "code",
   "execution_count": 41,
   "metadata": {},
   "outputs": [
    {
     "name": "stdout",
     "output_type": "stream",
     "text": [
      "CPU times: user 45.9 s, sys: 363 ms, total: 46.2 s\n",
      "Wall time: 46.5 s\n"
     ]
    },
    {
     "data": {
      "text/plain": [
       "LGBMRegressor(learning_rate=0.3, max_depth=5, random_state=12345)"
      ]
     },
     "execution_count": 41,
     "metadata": {},
     "output_type": "execute_result"
    }
   ],
   "source": [
    "%%time\n",
    "\n",
    "model_LGBM = lightgbm.LGBMRegressor(learning_rate=0.3, max_depth=5, random_state=12345)\n",
    "\n",
    "model_LGBM.fit(X_train, y_train)"
   ]
  },
  {
   "cell_type": "code",
   "execution_count": 50,
   "metadata": {
    "scrolled": true
   },
   "outputs": [
    {
     "name": "stdout",
     "output_type": "stream",
     "text": [
      "CPU times: user 575 ms, sys: 0 ns, total: 575 ms\n",
      "Wall time: 518 ms\n"
     ]
    }
   ],
   "source": [
    "%%time\n",
    "\n",
    "predict_LGBM = model_LGBM.predict(X_test)"
   ]
  },
  {
   "cell_type": "markdown",
   "metadata": {},
   "source": [
    "### Случайный лес"
   ]
  },
  {
   "cell_type": "code",
   "execution_count": 56,
   "metadata": {},
   "outputs": [],
   "source": [
    "tree_params = {'max_depth': [4, 6],\n",
    "               'min_samples_split': [2, 5]}"
   ]
  },
  {
   "cell_type": "code",
   "execution_count": 57,
   "metadata": {},
   "outputs": [
    {
     "data": {
      "text/plain": [
       "{'max_depth': 6, 'min_samples_split': 2}"
      ]
     },
     "execution_count": 57,
     "metadata": {},
     "output_type": "execute_result"
    }
   ],
   "source": [
    "forest = RandomForestRegressor(random_state=12345)\n",
    "\n",
    "model_forest = GridSearchCV(\n",
    "    estimator=forest,\n",
    "    param_grid=tree_params,\n",
    "    n_jobs=-1,\n",
    "    cv=3,\n",
    "    scoring='neg_root_mean_squared_error'\n",
    ") \n",
    "\n",
    "model_forest.fit(X_train, y_train)\n",
    "\n",
    "model_forest.best_params_"
   ]
  },
  {
   "cell_type": "code",
   "execution_count": 58,
   "metadata": {},
   "outputs": [
    {
     "name": "stdout",
     "output_type": "stream",
     "text": [
      "RMSE модели случайного леса на обучающей выборке:  2247.4255430549133\n"
     ]
    }
   ],
   "source": [
    "print('RMSE модели случайного леса на обучающей выборке: ', (-model_forest.best_score_))"
   ]
  },
  {
   "cell_type": "code",
   "execution_count": 59,
   "metadata": {},
   "outputs": [
    {
     "name": "stdout",
     "output_type": "stream",
     "text": [
      "CPU times: user 35.1 s, sys: 42.8 ms, total: 35.2 s\n",
      "Wall time: 35.2 s\n"
     ]
    },
    {
     "data": {
      "text/plain": [
       "RandomForestRegressor(max_depth=6, random_state=12345)"
      ]
     },
     "execution_count": 59,
     "metadata": {},
     "output_type": "execute_result"
    }
   ],
   "source": [
    "%%time\n",
    "\n",
    "model_forest = RandomForestRegressor(max_depth=6, min_samples_split=2, random_state=12345)\n",
    "\n",
    "model_forest.fit(X_train, y_train)"
   ]
  },
  {
   "cell_type": "code",
   "execution_count": 60,
   "metadata": {},
   "outputs": [
    {
     "name": "stdout",
     "output_type": "stream",
     "text": [
      "CPU times: user 340 ms, sys: 77 µs, total: 340 ms\n",
      "Wall time: 346 ms\n"
     ]
    }
   ],
   "source": [
    "%%time\n",
    "\n",
    "predict_forest = model_forest.predict(X_test) "
   ]
  },
  {
   "cell_type": "markdown",
   "metadata": {},
   "source": [
    "### Работа лучшей модели на тестовой выборке"
   ]
  },
  {
   "cell_type": "code",
   "execution_count": 61,
   "metadata": {},
   "outputs": [
    {
     "name": "stdout",
     "output_type": "stream",
     "text": [
      "RMSE модели LightGBM на тестовой выборке:  1645.1934296116349\n",
      "CPU times: user 537 ms, sys: 7.06 ms, total: 544 ms\n",
      "Wall time: 507 ms\n"
     ]
    }
   ],
   "source": [
    "%%time\n",
    "\n",
    "predict_LGBM = model_LGBM.predict(X_test) \n",
    "\n",
    "rmse_LGBM = mean_squared_error(y_test, predict_LGBM) ** 0.5\n",
    "\n",
    "print('RMSE модели LightGBM на тестовой выборке: ', rmse_LGBM)"
   ]
  },
  {
   "cell_type": "markdown",
   "metadata": {},
   "source": [
    "## Анализ моделей"
   ]
  },
  {
   "cell_type": "markdown",
   "metadata": {},
   "source": [
    "- Все обученные модели смогли улучшить RMSE базовой модели.\n",
    "- Метрика RMSE для моделей на тестовой выборке:\n",
    "    - Base-line: 4545.87\n",
    "    - LinearModel: 2922.30\n",
    "    - LightGBM: 1643.75\n",
    "    - RandomForestRegressor: 2247.43\n",
    "- Время обучения для моделей:\n",
    "    - LinearModel: 226ms\n",
    "    - LightGBM: 46,5s\n",
    "    - RandomForestRegressor: 35.2s\n",
    "- Время предсказания для моделей:\n",
    "    - LinearModel: 10.6ms\n",
    "    - LightGBM: 518ms\n",
    "    - RandomForestRegressor: 346ms\n",
    "- Лучший результат показала модель градиентного бустинга при средней скорости обучения относительно других моделей у нее самый низкий показатель RMSE.\n",
    "    - Значение RMSE на тестовой выборке у модели LightGBM: 1645.19\n",
    "    - Время предсказания: 507 ms"
   ]
  },
  {
   "cell_type": "markdown",
   "metadata": {},
   "source": [
    "## Чек-лист проверки"
   ]
  },
  {
   "cell_type": "markdown",
   "metadata": {},
   "source": [
    "Поставьте 'x' в выполненных пунктах. Далее нажмите Shift+Enter."
   ]
  },
  {
   "cell_type": "markdown",
   "metadata": {},
   "source": [
    "- [x]  Jupyter Notebook открыт\n",
    "- [x]  Весь код выполняется без ошибок\n",
    "- [x]  Ячейки с кодом расположены в порядке исполнения\n",
    "- [x]  Выполнена загрузка и подготовка данных\n",
    "- [x]  Выполнено обучение моделей\n",
    "- [x]  Есть анализ скорости работы и качества моделей"
   ]
  },
  {
   "cell_type": "code",
   "execution_count": null,
   "metadata": {},
   "outputs": [],
   "source": []
  }
 ],
 "metadata": {
  "ExecuteTimeLog": [
   {
    "duration": 414,
    "start_time": "2022-08-23T17:47:26.081Z"
   },
   {
    "duration": 64,
    "start_time": "2022-08-23T17:47:50.468Z"
   },
   {
    "duration": 961,
    "start_time": "2022-08-23T17:48:00.197Z"
   },
   {
    "duration": 18,
    "start_time": "2022-08-23T17:48:06.508Z"
   },
   {
    "duration": 11,
    "start_time": "2022-08-23T17:48:18.091Z"
   },
   {
    "duration": 108,
    "start_time": "2022-08-23T17:48:44.083Z"
   },
   {
    "duration": 190,
    "start_time": "2022-08-23T17:49:44.955Z"
   },
   {
    "duration": 101,
    "start_time": "2022-08-23T17:49:59.420Z"
   },
   {
    "duration": 99,
    "start_time": "2022-08-23T17:50:33.491Z"
   },
   {
    "duration": 102,
    "start_time": "2022-08-23T17:50:47.922Z"
   },
   {
    "duration": 99,
    "start_time": "2022-08-23T17:51:05.605Z"
   },
   {
    "duration": 103,
    "start_time": "2022-08-23T17:51:17.346Z"
   },
   {
    "duration": 107,
    "start_time": "2022-08-23T17:51:24.258Z"
   },
   {
    "duration": 11,
    "start_time": "2022-08-23T17:52:24.122Z"
   },
   {
    "duration": 379,
    "start_time": "2022-08-23T17:52:27.785Z"
   },
   {
    "duration": 3,
    "start_time": "2022-08-23T17:52:36.155Z"
   },
   {
    "duration": 362,
    "start_time": "2022-08-23T17:52:39.050Z"
   },
   {
    "duration": 360,
    "start_time": "2022-08-23T17:52:54.628Z"
   },
   {
    "duration": 356,
    "start_time": "2022-08-23T17:53:16.763Z"
   },
   {
    "duration": 438,
    "start_time": "2022-08-23T17:53:49.935Z"
   },
   {
    "duration": 398,
    "start_time": "2022-08-23T17:53:54.849Z"
   },
   {
    "duration": 3,
    "start_time": "2022-08-23T17:57:55.568Z"
   },
   {
    "duration": 2,
    "start_time": "2022-08-23T17:57:57.480Z"
   },
   {
    "duration": 4,
    "start_time": "2022-08-23T17:58:32.047Z"
   },
   {
    "duration": 3,
    "start_time": "2022-08-23T17:58:32.735Z"
   },
   {
    "duration": 8,
    "start_time": "2022-08-23T17:58:38.833Z"
   },
   {
    "duration": 1174,
    "start_time": "2022-08-23T17:59:00.246Z"
   },
   {
    "duration": 4,
    "start_time": "2022-08-23T17:59:02.429Z"
   },
   {
    "duration": 1282,
    "start_time": "2022-08-23T18:01:57.045Z"
   },
   {
    "duration": 720,
    "start_time": "2022-08-23T18:01:58.328Z"
   },
   {
    "duration": 16,
    "start_time": "2022-08-23T18:01:59.050Z"
   },
   {
    "duration": 109,
    "start_time": "2022-08-23T18:01:59.068Z"
   },
   {
    "duration": 111,
    "start_time": "2022-08-23T18:01:59.178Z"
   },
   {
    "duration": 4,
    "start_time": "2022-08-23T18:01:59.297Z"
   },
   {
    "duration": 5,
    "start_time": "2022-08-23T18:01:59.302Z"
   },
   {
    "duration": 28,
    "start_time": "2022-08-23T19:06:48.070Z"
   },
   {
    "duration": 3,
    "start_time": "2022-08-23T19:06:50.429Z"
   },
   {
    "duration": 3,
    "start_time": "2022-08-23T19:08:24.797Z"
   },
   {
    "duration": 1286,
    "start_time": "2022-08-23T19:09:35.260Z"
   },
   {
    "duration": 729,
    "start_time": "2022-08-23T19:09:36.548Z"
   },
   {
    "duration": 24,
    "start_time": "2022-08-23T19:09:37.279Z"
   },
   {
    "duration": 121,
    "start_time": "2022-08-23T19:09:37.305Z"
   },
   {
    "duration": 112,
    "start_time": "2022-08-23T19:09:37.428Z"
   },
   {
    "duration": 31,
    "start_time": "2022-08-23T19:09:37.542Z"
   },
   {
    "duration": 4,
    "start_time": "2022-08-23T19:09:37.575Z"
   },
   {
    "duration": 67789,
    "start_time": "2022-08-23T19:09:37.580Z"
   },
   {
    "duration": 52,
    "start_time": "2022-08-23T19:11:44.121Z"
   },
   {
    "duration": 1405,
    "start_time": "2022-08-23T19:11:59.203Z"
   },
   {
    "duration": 731,
    "start_time": "2022-08-23T19:12:00.609Z"
   },
   {
    "duration": 18,
    "start_time": "2022-08-23T19:12:01.342Z"
   },
   {
    "duration": 116,
    "start_time": "2022-08-23T19:12:01.362Z"
   },
   {
    "duration": 106,
    "start_time": "2022-08-23T19:12:01.480Z"
   },
   {
    "duration": 110,
    "start_time": "2022-08-23T19:12:01.587Z"
   },
   {
    "duration": 30,
    "start_time": "2022-08-23T19:12:01.699Z"
   },
   {
    "duration": 7,
    "start_time": "2022-08-23T19:12:01.730Z"
   },
   {
    "duration": 69487,
    "start_time": "2022-08-23T19:12:01.738Z"
   },
   {
    "duration": 3,
    "start_time": "2022-08-23T19:23:05.547Z"
   },
   {
    "duration": 21,
    "start_time": "2022-08-23T19:25:07.874Z"
   },
   {
    "duration": 15,
    "start_time": "2022-08-23T19:25:26.642Z"
   },
   {
    "duration": 10,
    "start_time": "2022-08-23T19:25:47.506Z"
   },
   {
    "duration": 47,
    "start_time": "2022-08-23T19:26:29.434Z"
   },
   {
    "duration": 31,
    "start_time": "2022-08-23T19:27:01.506Z"
   },
   {
    "duration": 45,
    "start_time": "2022-08-23T19:27:12.282Z"
   },
   {
    "duration": 133,
    "start_time": "2022-08-23T19:27:26.674Z"
   },
   {
    "duration": 281,
    "start_time": "2022-08-23T19:27:30.315Z"
   },
   {
    "duration": 195,
    "start_time": "2022-08-23T19:27:46.530Z"
   },
   {
    "duration": 172,
    "start_time": "2022-08-23T19:28:17.074Z"
   },
   {
    "duration": 150,
    "start_time": "2022-08-23T19:28:21.522Z"
   },
   {
    "duration": 149,
    "start_time": "2022-08-23T19:28:25.266Z"
   },
   {
    "duration": 133,
    "start_time": "2022-08-23T19:28:33.810Z"
   },
   {
    "duration": 21,
    "start_time": "2022-08-23T19:31:50.752Z"
   },
   {
    "duration": 119,
    "start_time": "2022-08-23T19:32:09.432Z"
   },
   {
    "duration": 192,
    "start_time": "2022-08-23T19:32:38.465Z"
   },
   {
    "duration": 200,
    "start_time": "2022-08-23T19:32:44.553Z"
   },
   {
    "duration": 325,
    "start_time": "2022-08-23T19:33:04.317Z"
   },
   {
    "duration": 38,
    "start_time": "2022-08-23T19:40:25.139Z"
   },
   {
    "duration": 24,
    "start_time": "2022-08-23T19:45:40.487Z"
   },
   {
    "duration": 69,
    "start_time": "2022-08-23T19:48:00.012Z"
   },
   {
    "duration": 5,
    "start_time": "2022-08-23T19:56:08.827Z"
   },
   {
    "duration": 691,
    "start_time": "2022-08-23T19:56:08.833Z"
   },
   {
    "duration": 13,
    "start_time": "2022-08-23T19:56:09.526Z"
   },
   {
    "duration": 114,
    "start_time": "2022-08-23T19:56:09.540Z"
   },
   {
    "duration": 148,
    "start_time": "2022-08-23T19:56:09.656Z"
   },
   {
    "duration": 94,
    "start_time": "2022-08-23T19:56:09.805Z"
   },
   {
    "duration": 21,
    "start_time": "2022-08-23T19:56:09.901Z"
   },
   {
    "duration": 3,
    "start_time": "2022-08-23T19:56:09.924Z"
   },
   {
    "duration": 0,
    "start_time": "2022-08-23T19:56:33.806Z"
   },
   {
    "duration": 0,
    "start_time": "2022-08-23T19:56:33.808Z"
   },
   {
    "duration": 0,
    "start_time": "2022-08-23T19:56:33.809Z"
   },
   {
    "duration": 0,
    "start_time": "2022-08-23T19:56:33.810Z"
   },
   {
    "duration": 0,
    "start_time": "2022-08-23T19:56:33.812Z"
   },
   {
    "duration": 0,
    "start_time": "2022-08-23T19:56:33.813Z"
   },
   {
    "duration": 0,
    "start_time": "2022-08-23T19:56:33.814Z"
   },
   {
    "duration": 0,
    "start_time": "2022-08-23T19:56:33.816Z"
   },
   {
    "duration": 0,
    "start_time": "2022-08-23T19:56:33.817Z"
   },
   {
    "duration": 0,
    "start_time": "2022-08-23T19:56:33.818Z"
   },
   {
    "duration": 0,
    "start_time": "2022-08-23T19:56:36.374Z"
   },
   {
    "duration": 0,
    "start_time": "2022-08-23T19:56:36.375Z"
   },
   {
    "duration": 0,
    "start_time": "2022-08-23T19:56:36.377Z"
   },
   {
    "duration": 4,
    "start_time": "2022-08-23T19:56:38.018Z"
   },
   {
    "duration": 701,
    "start_time": "2022-08-23T19:56:38.025Z"
   },
   {
    "duration": 15,
    "start_time": "2022-08-23T19:56:38.727Z"
   },
   {
    "duration": 122,
    "start_time": "2022-08-23T19:56:38.744Z"
   },
   {
    "duration": 108,
    "start_time": "2022-08-23T19:56:38.868Z"
   },
   {
    "duration": 94,
    "start_time": "2022-08-23T19:56:38.978Z"
   },
   {
    "duration": 30,
    "start_time": "2022-08-23T19:56:39.074Z"
   },
   {
    "duration": 3,
    "start_time": "2022-08-23T19:56:39.105Z"
   },
   {
    "duration": 6,
    "start_time": "2022-08-23T19:56:39.110Z"
   },
   {
    "duration": 10,
    "start_time": "2022-08-23T19:56:39.119Z"
   },
   {
    "duration": 33,
    "start_time": "2022-08-23T19:56:39.131Z"
   },
   {
    "duration": 183,
    "start_time": "2022-08-23T19:56:39.166Z"
   },
   {
    "duration": 199,
    "start_time": "2022-08-23T19:56:39.351Z"
   },
   {
    "duration": 49,
    "start_time": "2022-08-23T19:58:13.189Z"
   },
   {
    "duration": 529,
    "start_time": "2022-08-23T19:58:18.733Z"
   },
   {
    "duration": 4,
    "start_time": "2022-08-23T19:58:45.345Z"
   },
   {
    "duration": 679,
    "start_time": "2022-08-23T19:58:45.351Z"
   },
   {
    "duration": 13,
    "start_time": "2022-08-23T19:58:46.032Z"
   },
   {
    "duration": 116,
    "start_time": "2022-08-23T19:58:46.047Z"
   },
   {
    "duration": 126,
    "start_time": "2022-08-23T19:58:46.164Z"
   },
   {
    "duration": 88,
    "start_time": "2022-08-23T19:58:46.291Z"
   },
   {
    "duration": 29,
    "start_time": "2022-08-23T19:58:46.381Z"
   },
   {
    "duration": 2,
    "start_time": "2022-08-23T19:58:46.412Z"
   },
   {
    "duration": 5,
    "start_time": "2022-08-23T19:58:46.416Z"
   },
   {
    "duration": 10,
    "start_time": "2022-08-23T19:58:46.423Z"
   },
   {
    "duration": 32,
    "start_time": "2022-08-23T19:58:46.434Z"
   },
   {
    "duration": 172,
    "start_time": "2022-08-23T19:58:46.468Z"
   },
   {
    "duration": 185,
    "start_time": "2022-08-23T19:58:46.641Z"
   },
   {
    "duration": 622,
    "start_time": "2022-08-23T19:59:14.661Z"
   },
   {
    "duration": 576,
    "start_time": "2022-08-23T19:59:25.469Z"
   },
   {
    "duration": 6,
    "start_time": "2022-08-23T20:05:37.434Z"
   },
   {
    "duration": 143,
    "start_time": "2022-08-23T20:13:21.887Z"
   },
   {
    "duration": 650,
    "start_time": "2022-08-23T20:15:13.295Z"
   },
   {
    "duration": 5,
    "start_time": "2022-08-23T20:15:31.808Z"
   },
   {
    "duration": 692,
    "start_time": "2022-08-23T20:15:31.814Z"
   },
   {
    "duration": 13,
    "start_time": "2022-08-23T20:15:32.508Z"
   },
   {
    "duration": 117,
    "start_time": "2022-08-23T20:15:32.522Z"
   },
   {
    "duration": 105,
    "start_time": "2022-08-23T20:15:32.640Z"
   },
   {
    "duration": 91,
    "start_time": "2022-08-23T20:15:32.746Z"
   },
   {
    "duration": 28,
    "start_time": "2022-08-23T20:15:32.839Z"
   },
   {
    "duration": 7,
    "start_time": "2022-08-23T20:15:32.868Z"
   },
   {
    "duration": 5,
    "start_time": "2022-08-23T20:15:32.876Z"
   },
   {
    "duration": 24,
    "start_time": "2022-08-23T20:15:32.882Z"
   },
   {
    "duration": 41,
    "start_time": "2022-08-23T20:15:32.908Z"
   },
   {
    "duration": 152,
    "start_time": "2022-08-23T20:15:32.950Z"
   },
   {
    "duration": 197,
    "start_time": "2022-08-23T20:15:33.103Z"
   },
   {
    "duration": 606,
    "start_time": "2022-08-23T20:15:36.100Z"
   },
   {
    "duration": 5,
    "start_time": "2022-08-23T20:15:44.693Z"
   },
   {
    "duration": 709,
    "start_time": "2022-08-23T20:15:44.700Z"
   },
   {
    "duration": 13,
    "start_time": "2022-08-23T20:15:45.411Z"
   },
   {
    "duration": 113,
    "start_time": "2022-08-23T20:15:45.426Z"
   },
   {
    "duration": 115,
    "start_time": "2022-08-23T20:15:45.541Z"
   },
   {
    "duration": 113,
    "start_time": "2022-08-23T20:15:45.658Z"
   },
   {
    "duration": 25,
    "start_time": "2022-08-23T20:15:45.773Z"
   },
   {
    "duration": 2,
    "start_time": "2022-08-23T20:15:45.800Z"
   },
   {
    "duration": 10,
    "start_time": "2022-08-23T20:15:45.804Z"
   },
   {
    "duration": 13,
    "start_time": "2022-08-23T20:15:45.816Z"
   },
   {
    "duration": 41,
    "start_time": "2022-08-23T20:15:45.830Z"
   },
   {
    "duration": 182,
    "start_time": "2022-08-23T20:15:45.873Z"
   },
   {
    "duration": 189,
    "start_time": "2022-08-23T20:15:46.056Z"
   },
   {
    "duration": 616,
    "start_time": "2022-08-23T20:15:48.908Z"
   },
   {
    "duration": 672,
    "start_time": "2022-08-23T20:16:55.830Z"
   },
   {
    "duration": 7,
    "start_time": "2022-08-23T20:17:02.029Z"
   },
   {
    "duration": 729,
    "start_time": "2022-08-23T20:17:02.037Z"
   },
   {
    "duration": 14,
    "start_time": "2022-08-23T20:17:02.768Z"
   },
   {
    "duration": 117,
    "start_time": "2022-08-23T20:17:02.784Z"
   },
   {
    "duration": 117,
    "start_time": "2022-08-23T20:17:02.903Z"
   },
   {
    "duration": 96,
    "start_time": "2022-08-23T20:17:03.022Z"
   },
   {
    "duration": 20,
    "start_time": "2022-08-23T20:17:03.120Z"
   },
   {
    "duration": 4,
    "start_time": "2022-08-23T20:17:03.142Z"
   },
   {
    "duration": 6,
    "start_time": "2022-08-23T20:17:03.148Z"
   },
   {
    "duration": 11,
    "start_time": "2022-08-23T20:17:03.156Z"
   },
   {
    "duration": 64,
    "start_time": "2022-08-23T20:17:03.168Z"
   },
   {
    "duration": 168,
    "start_time": "2022-08-23T20:17:03.233Z"
   },
   {
    "duration": 213,
    "start_time": "2022-08-23T20:17:03.405Z"
   },
   {
    "duration": 881,
    "start_time": "2022-08-23T20:17:03.620Z"
   },
   {
    "duration": 12,
    "start_time": "2022-08-23T20:17:17.349Z"
   },
   {
    "duration": 97,
    "start_time": "2022-08-23T20:17:18.356Z"
   },
   {
    "duration": 252,
    "start_time": "2022-08-23T20:17:18.931Z"
   },
   {
    "duration": 7,
    "start_time": "2022-08-23T20:17:21.171Z"
   },
   {
    "duration": 1373,
    "start_time": "2022-08-23T20:17:54.105Z"
   },
   {
    "duration": 1006,
    "start_time": "2022-08-23T20:17:55.479Z"
   },
   {
    "duration": 17,
    "start_time": "2022-08-23T20:17:56.487Z"
   },
   {
    "duration": 118,
    "start_time": "2022-08-23T20:17:56.506Z"
   },
   {
    "duration": 121,
    "start_time": "2022-08-23T20:17:56.625Z"
   },
   {
    "duration": 96,
    "start_time": "2022-08-23T20:17:56.748Z"
   },
   {
    "duration": 30,
    "start_time": "2022-08-23T20:17:56.845Z"
   },
   {
    "duration": 5,
    "start_time": "2022-08-23T20:17:56.877Z"
   },
   {
    "duration": 2,
    "start_time": "2022-08-23T20:17:56.898Z"
   },
   {
    "duration": 11,
    "start_time": "2022-08-23T20:17:56.903Z"
   },
   {
    "duration": 47,
    "start_time": "2022-08-23T20:17:56.915Z"
   },
   {
    "duration": 182,
    "start_time": "2022-08-23T20:17:56.963Z"
   },
   {
    "duration": 208,
    "start_time": "2022-08-23T20:17:57.147Z"
   },
   {
    "duration": 858,
    "start_time": "2022-08-23T20:17:57.356Z"
   },
   {
    "duration": 108,
    "start_time": "2022-08-23T20:17:58.215Z"
   },
   {
    "duration": 267,
    "start_time": "2022-08-23T20:17:58.325Z"
   },
   {
    "duration": 9,
    "start_time": "2022-08-23T20:17:58.593Z"
   },
   {
    "duration": 2317,
    "start_time": "2022-08-23T20:18:01.987Z"
   },
   {
    "duration": 4,
    "start_time": "2022-08-23T20:20:36.314Z"
   },
   {
    "duration": 658,
    "start_time": "2022-08-23T20:23:05.226Z"
   },
   {
    "duration": 4,
    "start_time": "2022-08-23T20:23:08.889Z"
   },
   {
    "duration": 706,
    "start_time": "2022-08-23T20:23:08.894Z"
   },
   {
    "duration": 13,
    "start_time": "2022-08-23T20:23:09.602Z"
   },
   {
    "duration": 118,
    "start_time": "2022-08-23T20:23:09.617Z"
   },
   {
    "duration": 124,
    "start_time": "2022-08-23T20:23:09.736Z"
   },
   {
    "duration": 101,
    "start_time": "2022-08-23T20:23:09.863Z"
   },
   {
    "duration": 32,
    "start_time": "2022-08-23T20:23:09.966Z"
   },
   {
    "duration": 2,
    "start_time": "2022-08-23T20:23:10.001Z"
   },
   {
    "duration": 15,
    "start_time": "2022-08-23T20:23:10.006Z"
   },
   {
    "duration": 18,
    "start_time": "2022-08-23T20:23:10.023Z"
   },
   {
    "duration": 43,
    "start_time": "2022-08-23T20:23:10.044Z"
   },
   {
    "duration": 146,
    "start_time": "2022-08-23T20:23:10.088Z"
   },
   {
    "duration": 198,
    "start_time": "2022-08-23T20:23:10.236Z"
   },
   {
    "duration": 1156,
    "start_time": "2022-08-23T20:23:14.041Z"
   },
   {
    "duration": 34,
    "start_time": "2022-08-23T20:23:21.696Z"
   },
   {
    "duration": 52,
    "start_time": "2022-08-23T20:24:09.448Z"
   },
   {
    "duration": 7,
    "start_time": "2022-08-23T20:24:12.903Z"
   },
   {
    "duration": 70,
    "start_time": "2022-08-23T20:24:14.864Z"
   },
   {
    "duration": 119,
    "start_time": "2022-08-23T20:25:50.688Z"
   },
   {
    "duration": 64,
    "start_time": "2022-08-23T20:26:03.440Z"
   },
   {
    "duration": 6,
    "start_time": "2022-08-23T20:26:15.415Z"
   },
   {
    "duration": 78,
    "start_time": "2022-08-23T20:26:36.431Z"
   },
   {
    "duration": 56,
    "start_time": "2022-08-23T20:46:07.590Z"
   },
   {
    "duration": 3,
    "start_time": "2022-08-23T20:46:10.893Z"
   },
   {
    "duration": 3,
    "start_time": "2022-08-23T20:46:14.694Z"
   },
   {
    "duration": 194887,
    "start_time": "2022-08-23T20:46:15.726Z"
   },
   {
    "duration": 3,
    "start_time": "2022-08-23T20:51:07.265Z"
   },
   {
    "duration": 9736,
    "start_time": "2022-08-23T20:51:07.298Z"
   },
   {
    "duration": 4,
    "start_time": "2022-08-23T20:51:17.038Z"
   },
   {
    "duration": 659,
    "start_time": "2022-08-23T20:51:17.044Z"
   },
   {
    "duration": 14,
    "start_time": "2022-08-23T20:51:17.704Z"
   },
   {
    "duration": 110,
    "start_time": "2022-08-23T20:51:17.720Z"
   },
   {
    "duration": 105,
    "start_time": "2022-08-23T20:51:17.833Z"
   },
   {
    "duration": 100,
    "start_time": "2022-08-23T20:51:17.940Z"
   },
   {
    "duration": 24,
    "start_time": "2022-08-23T20:51:18.041Z"
   },
   {
    "duration": 3,
    "start_time": "2022-08-23T20:51:18.067Z"
   },
   {
    "duration": 6,
    "start_time": "2022-08-23T20:51:18.071Z"
   },
   {
    "duration": 27,
    "start_time": "2022-08-23T20:51:18.078Z"
   },
   {
    "duration": 40,
    "start_time": "2022-08-23T20:51:18.107Z"
   },
   {
    "duration": 151,
    "start_time": "2022-08-23T20:51:18.149Z"
   },
   {
    "duration": 188,
    "start_time": "2022-08-23T20:51:18.302Z"
   },
   {
    "duration": 1110,
    "start_time": "2022-08-23T20:51:18.491Z"
   },
   {
    "duration": 26,
    "start_time": "2022-08-23T20:51:19.603Z"
   },
   {
    "duration": 35,
    "start_time": "2022-08-23T20:51:19.630Z"
   },
   {
    "duration": 5,
    "start_time": "2022-08-23T20:51:19.667Z"
   },
   {
    "duration": 128,
    "start_time": "2022-08-23T20:51:19.674Z"
   },
   {
    "duration": 3,
    "start_time": "2022-08-23T20:51:19.804Z"
   },
   {
    "duration": 4,
    "start_time": "2022-08-23T20:51:20.292Z"
   },
   {
    "duration": 645,
    "start_time": "2022-08-23T20:51:20.298Z"
   },
   {
    "duration": 12,
    "start_time": "2022-08-23T20:51:20.945Z"
   },
   {
    "duration": 111,
    "start_time": "2022-08-23T20:51:20.959Z"
   },
   {
    "duration": 103,
    "start_time": "2022-08-23T20:51:21.072Z"
   },
   {
    "duration": 91,
    "start_time": "2022-08-23T20:51:21.176Z"
   },
   {
    "duration": 31,
    "start_time": "2022-08-23T20:51:21.268Z"
   },
   {
    "duration": 8,
    "start_time": "2022-08-23T20:51:21.300Z"
   },
   {
    "duration": 5,
    "start_time": "2022-08-23T20:51:21.310Z"
   },
   {
    "duration": 11,
    "start_time": "2022-08-23T20:51:21.316Z"
   },
   {
    "duration": 38,
    "start_time": "2022-08-23T20:51:21.328Z"
   },
   {
    "duration": 166,
    "start_time": "2022-08-23T20:51:21.367Z"
   },
   {
    "duration": 176,
    "start_time": "2022-08-23T20:51:21.535Z"
   },
   {
    "duration": 1062,
    "start_time": "2022-08-23T20:51:21.712Z"
   },
   {
    "duration": 27,
    "start_time": "2022-08-23T20:51:22.775Z"
   },
   {
    "duration": 35,
    "start_time": "2022-08-23T20:51:22.803Z"
   },
   {
    "duration": 6,
    "start_time": "2022-08-23T20:51:22.839Z"
   },
   {
    "duration": 151,
    "start_time": "2022-08-23T20:51:22.846Z"
   },
   {
    "duration": 3,
    "start_time": "2022-08-23T20:51:24.544Z"
   },
   {
    "duration": 181423,
    "start_time": "2022-08-23T20:51:26.288Z"
   },
   {
    "duration": 3,
    "start_time": "2022-08-23T20:54:27.713Z"
   },
   {
    "duration": 4,
    "start_time": "2022-08-23T20:54:29.042Z"
   },
   {
    "duration": 697,
    "start_time": "2022-08-23T20:54:29.047Z"
   },
   {
    "duration": 14,
    "start_time": "2022-08-23T20:54:29.746Z"
   },
   {
    "duration": 121,
    "start_time": "2022-08-23T20:54:29.762Z"
   },
   {
    "duration": 121,
    "start_time": "2022-08-23T20:54:29.885Z"
   },
   {
    "duration": 105,
    "start_time": "2022-08-23T20:54:30.008Z"
   },
   {
    "duration": 20,
    "start_time": "2022-08-23T20:54:30.114Z"
   },
   {
    "duration": 4,
    "start_time": "2022-08-23T20:54:30.135Z"
   },
   {
    "duration": 14,
    "start_time": "2022-08-23T20:54:30.140Z"
   },
   {
    "duration": 16,
    "start_time": "2022-08-23T20:54:30.156Z"
   },
   {
    "duration": 46,
    "start_time": "2022-08-23T20:54:30.174Z"
   },
   {
    "duration": 149,
    "start_time": "2022-08-23T20:54:30.221Z"
   },
   {
    "duration": 204,
    "start_time": "2022-08-23T20:54:30.371Z"
   },
   {
    "duration": 716,
    "start_time": "2022-08-23T20:54:30.577Z"
   },
   {
    "duration": 0,
    "start_time": "2022-08-23T20:54:31.298Z"
   },
   {
    "duration": 0,
    "start_time": "2022-08-23T20:54:31.299Z"
   },
   {
    "duration": 0,
    "start_time": "2022-08-23T20:54:31.299Z"
   },
   {
    "duration": 0,
    "start_time": "2022-08-23T20:54:31.301Z"
   },
   {
    "duration": 0,
    "start_time": "2022-08-23T20:54:31.301Z"
   },
   {
    "duration": 3,
    "start_time": "2022-08-23T20:54:35.647Z"
   },
   {
    "duration": 663,
    "start_time": "2022-08-23T20:54:35.652Z"
   },
   {
    "duration": 13,
    "start_time": "2022-08-23T20:54:36.316Z"
   },
   {
    "duration": 114,
    "start_time": "2022-08-23T20:54:36.331Z"
   },
   {
    "duration": 107,
    "start_time": "2022-08-23T20:54:36.446Z"
   },
   {
    "duration": 99,
    "start_time": "2022-08-23T20:54:36.554Z"
   },
   {
    "duration": 20,
    "start_time": "2022-08-23T20:54:36.655Z"
   },
   {
    "duration": 3,
    "start_time": "2022-08-23T20:54:36.676Z"
   },
   {
    "duration": 17,
    "start_time": "2022-08-23T20:54:36.681Z"
   },
   {
    "duration": 11,
    "start_time": "2022-08-23T20:54:36.699Z"
   },
   {
    "duration": 37,
    "start_time": "2022-08-23T20:54:36.712Z"
   },
   {
    "duration": 185,
    "start_time": "2022-08-23T20:54:36.751Z"
   },
   {
    "duration": 183,
    "start_time": "2022-08-23T20:54:36.937Z"
   },
   {
    "duration": 1070,
    "start_time": "2022-08-23T20:54:37.122Z"
   },
   {
    "duration": 26,
    "start_time": "2022-08-23T20:54:38.194Z"
   },
   {
    "duration": 36,
    "start_time": "2022-08-23T20:54:38.221Z"
   },
   {
    "duration": 6,
    "start_time": "2022-08-23T20:54:38.259Z"
   },
   {
    "duration": 134,
    "start_time": "2022-08-23T20:54:38.267Z"
   },
   {
    "duration": 3,
    "start_time": "2022-08-23T20:54:38.403Z"
   },
   {
    "duration": 3,
    "start_time": "2022-08-23T20:54:52.151Z"
   },
   {
    "duration": 118400,
    "start_time": "2022-08-23T20:54:53.256Z"
   },
   {
    "duration": 4,
    "start_time": "2022-08-23T20:56:58.543Z"
   },
   {
    "duration": 637,
    "start_time": "2022-08-23T20:56:58.549Z"
   },
   {
    "duration": 14,
    "start_time": "2022-08-23T20:56:59.188Z"
   },
   {
    "duration": 113,
    "start_time": "2022-08-23T20:56:59.204Z"
   },
   {
    "duration": 107,
    "start_time": "2022-08-23T20:56:59.319Z"
   },
   {
    "duration": 86,
    "start_time": "2022-08-23T20:56:59.427Z"
   },
   {
    "duration": 25,
    "start_time": "2022-08-23T20:56:59.515Z"
   },
   {
    "duration": 10,
    "start_time": "2022-08-23T20:56:59.542Z"
   },
   {
    "duration": 4,
    "start_time": "2022-08-23T20:56:59.554Z"
   },
   {
    "duration": 11,
    "start_time": "2022-08-23T20:56:59.560Z"
   },
   {
    "duration": 51,
    "start_time": "2022-08-23T20:56:59.572Z"
   },
   {
    "duration": 152,
    "start_time": "2022-08-23T20:56:59.625Z"
   },
   {
    "duration": 228,
    "start_time": "2022-08-23T20:56:59.778Z"
   },
   {
    "duration": 1110,
    "start_time": "2022-08-23T20:57:00.008Z"
   },
   {
    "duration": 23,
    "start_time": "2022-08-23T20:57:01.120Z"
   },
   {
    "duration": 36,
    "start_time": "2022-08-23T20:57:01.144Z"
   },
   {
    "duration": 19,
    "start_time": "2022-08-23T20:57:01.182Z"
   },
   {
    "duration": 196,
    "start_time": "2022-08-23T20:57:01.203Z"
   },
   {
    "duration": 3,
    "start_time": "2022-08-23T20:57:01.401Z"
   },
   {
    "duration": 3,
    "start_time": "2022-08-23T20:57:04.494Z"
   },
   {
    "duration": 93700,
    "start_time": "2022-08-23T20:57:05.382Z"
   },
   {
    "duration": 3,
    "start_time": "2022-08-23T20:59:18.174Z"
   },
   {
    "duration": 190637,
    "start_time": "2022-08-23T20:59:46.678Z"
   },
   {
    "duration": 2,
    "start_time": "2022-08-23T21:03:18.078Z"
   },
   {
    "duration": 52364,
    "start_time": "2022-08-23T21:03:18.735Z"
   },
   {
    "duration": 251435,
    "start_time": "2022-08-23T21:04:23.326Z"
   },
   {
    "duration": 3,
    "start_time": "2022-08-23T21:10:02.244Z"
   },
   {
    "duration": 258493,
    "start_time": "2022-08-23T21:10:02.957Z"
   },
   {
    "duration": 88,
    "start_time": "2022-08-23T21:15:57.937Z"
   },
   {
    "duration": 50,
    "start_time": "2022-08-23T21:16:56.658Z"
   },
   {
    "duration": 71,
    "start_time": "2022-08-23T21:18:50.145Z"
   },
   {
    "duration": 70,
    "start_time": "2022-08-23T21:19:40.929Z"
   },
   {
    "duration": 32,
    "start_time": "2022-08-23T21:21:36.808Z"
   },
   {
    "duration": 36,
    "start_time": "2022-08-23T21:22:33.960Z"
   },
   {
    "duration": 26,
    "start_time": "2022-08-23T21:22:43.071Z"
   },
   {
    "duration": 67,
    "start_time": "2022-08-23T21:22:57.303Z"
   },
   {
    "duration": 28,
    "start_time": "2022-08-23T21:22:59.656Z"
   },
   {
    "duration": 54,
    "start_time": "2022-08-23T21:23:01.990Z"
   },
   {
    "duration": 29,
    "start_time": "2022-08-23T21:23:26.374Z"
   },
   {
    "duration": 54,
    "start_time": "2022-08-23T21:23:41.718Z"
   },
   {
    "duration": 29,
    "start_time": "2022-08-23T21:23:50.814Z"
   },
   {
    "duration": 52553,
    "start_time": "2022-08-23T21:24:15.245Z"
   },
   {
    "duration": 5,
    "start_time": "2022-08-23T21:25:19.838Z"
   },
   {
    "duration": 3,
    "start_time": "2022-08-23T21:25:31.885Z"
   },
   {
    "duration": 4,
    "start_time": "2022-08-23T21:25:36.925Z"
   },
   {
    "duration": 4,
    "start_time": "2022-08-23T21:25:39.262Z"
   },
   {
    "duration": 701,
    "start_time": "2022-08-23T21:25:42.429Z"
   },
   {
    "duration": 66,
    "start_time": "2022-08-23T21:26:56.345Z"
   },
   {
    "duration": 5,
    "start_time": "2022-08-23T21:26:58.020Z"
   },
   {
    "duration": 6,
    "start_time": "2022-08-23T21:27:34.268Z"
   },
   {
    "duration": 254174,
    "start_time": "2022-08-23T21:29:10.475Z"
   },
   {
    "duration": 4,
    "start_time": "2022-08-23T21:34:08.184Z"
   },
   {
    "duration": 71,
    "start_time": "2022-08-23T21:34:13.784Z"
   },
   {
    "duration": 84,
    "start_time": "2022-08-23T21:35:11.792Z"
   },
   {
    "duration": 4,
    "start_time": "2022-08-23T21:35:25.616Z"
   },
   {
    "duration": 42868,
    "start_time": "2022-08-23T21:35:26.352Z"
   },
   {
    "duration": 79937,
    "start_time": "2022-08-23T21:36:11.054Z"
   },
   {
    "duration": 5,
    "start_time": "2022-08-23T21:37:34.620Z"
   },
   {
    "duration": 300,
    "start_time": "2022-08-23T21:37:35.775Z"
   },
   {
    "duration": 255,
    "start_time": "2022-08-23T21:42:53.389Z"
   },
   {
    "duration": 736,
    "start_time": "2022-08-23T21:42:56.861Z"
   },
   {
    "duration": 1325,
    "start_time": "2022-08-23T21:43:48.532Z"
   },
   {
    "duration": 737,
    "start_time": "2022-08-23T21:43:49.860Z"
   },
   {
    "duration": 16,
    "start_time": "2022-08-23T21:43:50.598Z"
   },
   {
    "duration": 130,
    "start_time": "2022-08-23T21:43:50.616Z"
   },
   {
    "duration": 113,
    "start_time": "2022-08-23T21:43:50.747Z"
   },
   {
    "duration": 96,
    "start_time": "2022-08-23T21:43:50.862Z"
   },
   {
    "duration": 29,
    "start_time": "2022-08-23T21:43:50.960Z"
   },
   {
    "duration": 4,
    "start_time": "2022-08-23T21:43:50.997Z"
   },
   {
    "duration": 68622,
    "start_time": "2022-08-23T21:43:51.003Z"
   },
   {
    "duration": 11,
    "start_time": "2022-08-23T21:44:59.643Z"
   },
   {
    "duration": 43,
    "start_time": "2022-08-23T21:44:59.656Z"
   },
   {
    "duration": 157,
    "start_time": "2022-08-23T21:44:59.701Z"
   },
   {
    "duration": 207,
    "start_time": "2022-08-23T21:44:59.860Z"
   },
   {
    "duration": 1134,
    "start_time": "2022-08-23T21:45:00.069Z"
   },
   {
    "duration": 25,
    "start_time": "2022-08-23T21:45:01.204Z"
   },
   {
    "duration": 43,
    "start_time": "2022-08-23T21:45:01.231Z"
   },
   {
    "duration": 26,
    "start_time": "2022-08-23T21:45:01.276Z"
   },
   {
    "duration": 195,
    "start_time": "2022-08-23T21:45:01.304Z"
   },
   {
    "duration": 6,
    "start_time": "2022-08-23T21:45:01.501Z"
   },
   {
    "duration": 101,
    "start_time": "2022-08-23T21:45:01.509Z"
   },
   {
    "duration": 1275,
    "start_time": "2022-08-23T21:52:36.363Z"
   },
   {
    "duration": 747,
    "start_time": "2022-08-23T21:52:37.639Z"
   },
   {
    "duration": 19,
    "start_time": "2022-08-23T21:52:38.388Z"
   },
   {
    "duration": 127,
    "start_time": "2022-08-23T21:52:38.409Z"
   },
   {
    "duration": 124,
    "start_time": "2022-08-23T21:52:38.538Z"
   },
   {
    "duration": 105,
    "start_time": "2022-08-23T21:52:38.664Z"
   },
   {
    "duration": 35,
    "start_time": "2022-08-23T21:52:38.770Z"
   },
   {
    "duration": 11,
    "start_time": "2022-08-23T21:52:38.807Z"
   },
   {
    "duration": 1341,
    "start_time": "2022-08-23T21:53:02.901Z"
   },
   {
    "duration": 753,
    "start_time": "2022-08-23T21:53:04.244Z"
   },
   {
    "duration": 16,
    "start_time": "2022-08-23T21:53:04.999Z"
   },
   {
    "duration": 120,
    "start_time": "2022-08-23T21:53:05.017Z"
   },
   {
    "duration": 123,
    "start_time": "2022-08-23T21:53:05.139Z"
   },
   {
    "duration": 94,
    "start_time": "2022-08-23T21:53:05.263Z"
   },
   {
    "duration": 28,
    "start_time": "2022-08-23T21:53:05.359Z"
   },
   {
    "duration": 11,
    "start_time": "2022-08-23T21:53:05.388Z"
   },
   {
    "duration": 11,
    "start_time": "2022-08-23T21:53:05.400Z"
   },
   {
    "duration": 12,
    "start_time": "2022-08-23T21:53:05.413Z"
   },
   {
    "duration": 45,
    "start_time": "2022-08-23T21:53:05.426Z"
   },
   {
    "duration": 157,
    "start_time": "2022-08-23T21:53:05.473Z"
   },
   {
    "duration": 201,
    "start_time": "2022-08-23T21:53:05.632Z"
   },
   {
    "duration": 1060,
    "start_time": "2022-08-23T21:53:05.834Z"
   },
   {
    "duration": 32,
    "start_time": "2022-08-23T21:53:06.895Z"
   },
   {
    "duration": 44,
    "start_time": "2022-08-23T21:53:06.928Z"
   },
   {
    "duration": 7,
    "start_time": "2022-08-23T21:53:06.974Z"
   },
   {
    "duration": 103,
    "start_time": "2022-08-23T21:53:06.997Z"
   },
   {
    "duration": 5,
    "start_time": "2022-08-23T21:53:07.101Z"
   },
   {
    "duration": 6,
    "start_time": "2022-08-23T21:53:07.199Z"
   },
   {
    "duration": 53106,
    "start_time": "2022-08-23T21:53:07.206Z"
   },
   {
    "duration": 86,
    "start_time": "2022-08-23T21:54:00.313Z"
   },
   {
    "duration": 699,
    "start_time": "2022-08-23T21:54:00.400Z"
   },
   {
    "duration": 3,
    "start_time": "2022-08-23T21:54:01.101Z"
   },
   {
    "duration": 291025,
    "start_time": "2022-08-23T21:54:01.105Z"
   },
   {
    "duration": 4,
    "start_time": "2022-08-23T21:58:52.132Z"
   },
   {
    "duration": 387,
    "start_time": "2022-08-23T21:58:52.137Z"
   },
   {
    "duration": 1646,
    "start_time": "2022-08-24T18:57:32.411Z"
   },
   {
    "duration": 729,
    "start_time": "2022-08-24T18:57:37.782Z"
   },
   {
    "duration": 18,
    "start_time": "2022-08-24T18:57:40.119Z"
   },
   {
    "duration": 105,
    "start_time": "2022-08-24T18:57:41.517Z"
   },
   {
    "duration": 104,
    "start_time": "2022-08-24T18:57:41.951Z"
   },
   {
    "duration": 100,
    "start_time": "2022-08-24T18:57:43.395Z"
   },
   {
    "duration": 4,
    "start_time": "2022-08-24T19:00:11.652Z"
   },
   {
    "duration": 714,
    "start_time": "2022-08-24T19:00:11.945Z"
   },
   {
    "duration": 15,
    "start_time": "2022-08-24T19:00:12.661Z"
   },
   {
    "duration": 117,
    "start_time": "2022-08-24T19:00:12.678Z"
   },
   {
    "duration": 107,
    "start_time": "2022-08-24T19:00:12.797Z"
   },
   {
    "duration": 94,
    "start_time": "2022-08-24T19:00:13.021Z"
   },
   {
    "duration": 86,
    "start_time": "2022-08-24T19:00:13.495Z"
   },
   {
    "duration": 29,
    "start_time": "2022-08-24T19:00:14.491Z"
   },
   {
    "duration": 3,
    "start_time": "2022-08-24T19:00:15.035Z"
   },
   {
    "duration": 3,
    "start_time": "2022-08-24T19:00:16.146Z"
   },
   {
    "duration": 12,
    "start_time": "2022-08-24T19:00:16.732Z"
   },
   {
    "duration": 46,
    "start_time": "2022-08-24T19:00:18.620Z"
   },
   {
    "duration": 148,
    "start_time": "2022-08-24T19:00:18.795Z"
   },
   {
    "duration": 188,
    "start_time": "2022-08-24T19:00:19.164Z"
   },
   {
    "duration": 51,
    "start_time": "2022-08-24T19:00:20.887Z"
   },
   {
    "duration": 55,
    "start_time": "2022-08-24T20:16:47.244Z"
   },
   {
    "duration": 1533,
    "start_time": "2022-08-24T20:16:52.629Z"
   },
   {
    "duration": 1210,
    "start_time": "2022-08-24T20:16:54.164Z"
   },
   {
    "duration": 27,
    "start_time": "2022-08-24T20:16:55.376Z"
   },
   {
    "duration": 147,
    "start_time": "2022-08-24T20:16:55.405Z"
   },
   {
    "duration": 142,
    "start_time": "2022-08-24T20:16:55.555Z"
   },
   {
    "duration": 135,
    "start_time": "2022-08-24T20:16:55.699Z"
   },
   {
    "duration": 105,
    "start_time": "2022-08-24T20:16:55.836Z"
   },
   {
    "duration": 29,
    "start_time": "2022-08-24T20:16:55.943Z"
   },
   {
    "duration": 11,
    "start_time": "2022-08-24T20:16:55.988Z"
   },
   {
    "duration": 10,
    "start_time": "2022-08-24T20:16:56.003Z"
   },
   {
    "duration": 23,
    "start_time": "2022-08-24T20:16:56.015Z"
   },
   {
    "duration": 63,
    "start_time": "2022-08-24T20:16:56.040Z"
   },
   {
    "duration": 197,
    "start_time": "2022-08-24T20:16:56.104Z"
   },
   {
    "duration": 309,
    "start_time": "2022-08-24T20:16:56.305Z"
   },
   {
    "duration": 59,
    "start_time": "2022-08-24T20:16:56.616Z"
   },
   {
    "duration": 63,
    "start_time": "2022-08-24T20:16:58.400Z"
   },
   {
    "duration": 6,
    "start_time": "2022-08-24T20:16:59.003Z"
   },
   {
    "duration": 6,
    "start_time": "2022-08-24T20:17:34.018Z"
   },
   {
    "duration": 35,
    "start_time": "2022-08-24T20:17:38.298Z"
   },
   {
    "duration": 6,
    "start_time": "2022-08-24T20:18:01.055Z"
   },
   {
    "duration": 5,
    "start_time": "2022-08-24T20:18:05.063Z"
   },
   {
    "duration": 5,
    "start_time": "2022-08-24T20:18:20.656Z"
   },
   {
    "duration": 5,
    "start_time": "2022-08-24T20:18:26.917Z"
   },
   {
    "duration": 5,
    "start_time": "2022-08-24T20:19:37.399Z"
   },
   {
    "duration": 4,
    "start_time": "2022-08-24T20:19:42.427Z"
   },
   {
    "duration": 5,
    "start_time": "2022-08-24T20:19:49.261Z"
   },
   {
    "duration": 6,
    "start_time": "2022-08-24T20:20:03.337Z"
   },
   {
    "duration": 40,
    "start_time": "2022-08-24T20:20:22.600Z"
   },
   {
    "duration": 93,
    "start_time": "2022-08-24T20:21:03.224Z"
   },
   {
    "duration": 449,
    "start_time": "2022-08-24T20:21:12.549Z"
   },
   {
    "duration": 31,
    "start_time": "2022-08-24T20:23:31.238Z"
   },
   {
    "duration": 391,
    "start_time": "2022-08-24T20:23:31.877Z"
   },
   {
    "duration": 22,
    "start_time": "2022-08-24T20:24:36.916Z"
   },
   {
    "duration": 17,
    "start_time": "2022-08-24T20:24:43.917Z"
   },
   {
    "duration": 8,
    "start_time": "2022-08-24T20:24:49.581Z"
   },
   {
    "duration": 13,
    "start_time": "2022-08-24T20:25:35.230Z"
   },
   {
    "duration": 9,
    "start_time": "2022-08-24T20:25:40.877Z"
   },
   {
    "duration": 150,
    "start_time": "2022-08-24T20:26:07.381Z"
   },
   {
    "duration": 240,
    "start_time": "2022-08-24T20:26:17.254Z"
   },
   {
    "duration": 402,
    "start_time": "2022-08-24T20:26:42.334Z"
   },
   {
    "duration": 43,
    "start_time": "2022-08-24T20:27:01.741Z"
   },
   {
    "duration": 206,
    "start_time": "2022-08-24T20:27:10.677Z"
   },
   {
    "duration": 154,
    "start_time": "2022-08-24T20:27:45.662Z"
   },
   {
    "duration": 29,
    "start_time": "2022-08-24T20:28:27.142Z"
   },
   {
    "duration": 166,
    "start_time": "2022-08-24T20:28:32.764Z"
   },
   {
    "duration": 306,
    "start_time": "2022-08-24T20:34:35.236Z"
   },
   {
    "duration": 18,
    "start_time": "2022-08-24T20:34:59.699Z"
   },
   {
    "duration": 3,
    "start_time": "2022-08-24T20:35:05.053Z"
   },
   {
    "duration": 433,
    "start_time": "2022-08-24T20:35:15.172Z"
   },
   {
    "duration": 18,
    "start_time": "2022-08-24T20:35:22.580Z"
   },
   {
    "duration": 14,
    "start_time": "2022-08-24T20:35:32.500Z"
   },
   {
    "duration": 325,
    "start_time": "2022-08-24T20:35:36.604Z"
   },
   {
    "duration": 10,
    "start_time": "2022-08-24T20:36:11.518Z"
   },
   {
    "duration": 340,
    "start_time": "2022-08-24T20:36:27.995Z"
   },
   {
    "duration": 6,
    "start_time": "2022-08-24T20:36:52.948Z"
   },
   {
    "duration": 65,
    "start_time": "2022-08-24T20:37:35.235Z"
   },
   {
    "duration": 78,
    "start_time": "2022-08-24T20:38:29.218Z"
   },
   {
    "duration": 260,
    "start_time": "2022-08-24T20:38:36.320Z"
   },
   {
    "duration": 196,
    "start_time": "2022-08-24T20:38:51.084Z"
   },
   {
    "duration": 5,
    "start_time": "2022-08-24T20:39:21.234Z"
   },
   {
    "duration": 794,
    "start_time": "2022-08-24T20:39:21.241Z"
   },
   {
    "duration": 18,
    "start_time": "2022-08-24T20:39:22.037Z"
   },
   {
    "duration": 145,
    "start_time": "2022-08-24T20:39:22.057Z"
   },
   {
    "duration": 131,
    "start_time": "2022-08-24T20:39:22.204Z"
   },
   {
    "duration": 133,
    "start_time": "2022-08-24T20:39:22.337Z"
   },
   {
    "duration": 96,
    "start_time": "2022-08-24T20:39:22.471Z"
   },
   {
    "duration": 33,
    "start_time": "2022-08-24T20:39:22.569Z"
   },
   {
    "duration": 13,
    "start_time": "2022-08-24T20:39:22.605Z"
   },
   {
    "duration": 5,
    "start_time": "2022-08-24T20:39:22.620Z"
   },
   {
    "duration": 16,
    "start_time": "2022-08-24T20:39:22.628Z"
   },
   {
    "duration": 50,
    "start_time": "2022-08-24T20:39:22.645Z"
   },
   {
    "duration": 184,
    "start_time": "2022-08-24T20:39:22.697Z"
   },
   {
    "duration": 210,
    "start_time": "2022-08-24T20:39:22.882Z"
   },
   {
    "duration": 52,
    "start_time": "2022-08-24T20:39:23.094Z"
   },
   {
    "duration": 5,
    "start_time": "2022-08-24T20:39:23.148Z"
   },
   {
    "duration": 52,
    "start_time": "2022-08-24T20:39:23.154Z"
   },
   {
    "duration": 32,
    "start_time": "2022-08-24T20:39:23.207Z"
   },
   {
    "duration": 428,
    "start_time": "2022-08-24T20:39:23.241Z"
   },
   {
    "duration": 16,
    "start_time": "2022-08-24T20:39:23.671Z"
   },
   {
    "duration": 6,
    "start_time": "2022-08-24T20:39:25.074Z"
   },
   {
    "duration": 83,
    "start_time": "2022-08-24T20:39:26.203Z"
   },
   {
    "duration": 13,
    "start_time": "2022-08-24T20:39:30.339Z"
   },
   {
    "duration": 31,
    "start_time": "2022-08-24T20:39:30.834Z"
   },
   {
    "duration": 172,
    "start_time": "2022-08-24T20:39:36.050Z"
   },
   {
    "duration": 4,
    "start_time": "2022-08-24T20:42:53.934Z"
   },
   {
    "duration": 731,
    "start_time": "2022-08-24T20:42:53.940Z"
   },
   {
    "duration": 14,
    "start_time": "2022-08-24T20:42:54.674Z"
   },
   {
    "duration": 130,
    "start_time": "2022-08-24T20:42:54.689Z"
   },
   {
    "duration": 129,
    "start_time": "2022-08-24T20:42:54.821Z"
   },
   {
    "duration": 117,
    "start_time": "2022-08-24T20:42:54.952Z"
   },
   {
    "duration": 85,
    "start_time": "2022-08-24T20:42:55.070Z"
   },
   {
    "duration": 31,
    "start_time": "2022-08-24T20:42:55.156Z"
   },
   {
    "duration": 3,
    "start_time": "2022-08-24T20:42:55.189Z"
   },
   {
    "duration": 11,
    "start_time": "2022-08-24T20:42:55.193Z"
   },
   {
    "duration": 20,
    "start_time": "2022-08-24T20:42:55.206Z"
   },
   {
    "duration": 39,
    "start_time": "2022-08-24T20:42:55.228Z"
   },
   {
    "duration": 164,
    "start_time": "2022-08-24T20:42:55.269Z"
   },
   {
    "duration": 197,
    "start_time": "2022-08-24T20:42:55.434Z"
   },
   {
    "duration": 55,
    "start_time": "2022-08-24T20:42:55.632Z"
   },
   {
    "duration": 4,
    "start_time": "2022-08-24T20:42:55.689Z"
   },
   {
    "duration": 32,
    "start_time": "2022-08-24T20:42:55.695Z"
   },
   {
    "duration": 31,
    "start_time": "2022-08-24T20:42:55.729Z"
   },
   {
    "duration": 352,
    "start_time": "2022-08-24T20:42:55.761Z"
   },
   {
    "duration": 6,
    "start_time": "2022-08-24T20:42:56.114Z"
   },
   {
    "duration": 86,
    "start_time": "2022-08-24T20:42:56.121Z"
   },
   {
    "duration": 14,
    "start_time": "2022-08-24T20:42:56.210Z"
   },
   {
    "duration": 38,
    "start_time": "2022-08-24T20:42:56.228Z"
   },
   {
    "duration": 215,
    "start_time": "2022-08-24T20:42:56.268Z"
   },
   {
    "duration": 1206,
    "start_time": "2022-08-24T20:42:56.487Z"
   },
   {
    "duration": 24,
    "start_time": "2022-08-24T20:42:57.694Z"
   },
   {
    "duration": 16,
    "start_time": "2022-08-24T20:42:58.345Z"
   },
   {
    "duration": 45,
    "start_time": "2022-08-24T20:42:58.761Z"
   },
   {
    "duration": 4,
    "start_time": "2022-08-24T20:42:59.841Z"
   },
   {
    "duration": 8,
    "start_time": "2022-08-24T20:43:06.473Z"
   },
   {
    "duration": 4,
    "start_time": "2022-08-24T20:43:11.429Z"
   },
   {
    "duration": 3,
    "start_time": "2022-08-24T20:43:28.530Z"
   },
   {
    "duration": 9,
    "start_time": "2022-08-24T20:43:35.170Z"
   },
   {
    "duration": 8,
    "start_time": "2022-08-24T20:43:45.250Z"
   },
   {
    "duration": 3,
    "start_time": "2022-08-24T20:43:48.658Z"
   },
   {
    "duration": 4,
    "start_time": "2022-08-24T20:43:57.081Z"
   },
   {
    "duration": 4,
    "start_time": "2022-08-24T20:44:21.944Z"
   },
   {
    "duration": 3,
    "start_time": "2022-08-24T20:44:27.104Z"
   },
   {
    "duration": 4,
    "start_time": "2022-08-24T20:44:31.857Z"
   },
   {
    "duration": 4,
    "start_time": "2022-08-24T20:44:40.281Z"
   },
   {
    "duration": 69,
    "start_time": "2022-08-24T20:46:22.594Z"
   },
   {
    "duration": 7,
    "start_time": "2022-08-24T20:46:29.524Z"
   },
   {
    "duration": 196,
    "start_time": "2022-08-24T20:46:33.298Z"
   },
   {
    "duration": 1150,
    "start_time": "2022-08-24T20:49:08.943Z"
   },
   {
    "duration": 4,
    "start_time": "2022-08-24T20:49:44.327Z"
   },
   {
    "duration": 5,
    "start_time": "2022-08-24T20:49:49.087Z"
   },
   {
    "duration": 3,
    "start_time": "2022-08-24T20:50:18.888Z"
   },
   {
    "duration": 3,
    "start_time": "2022-08-24T20:50:32.463Z"
   },
   {
    "duration": 3,
    "start_time": "2022-08-24T20:50:39.055Z"
   },
   {
    "duration": 4,
    "start_time": "2022-08-24T20:52:42.702Z"
   },
   {
    "duration": 4,
    "start_time": "2022-08-24T20:53:22.102Z"
   },
   {
    "duration": 59,
    "start_time": "2022-08-24T20:56:05.828Z"
   },
   {
    "duration": 53,
    "start_time": "2022-08-24T20:56:24.017Z"
   },
   {
    "duration": 1249,
    "start_time": "2022-08-24T20:56:27.638Z"
   },
   {
    "duration": 3,
    "start_time": "2022-08-24T21:00:17.085Z"
   },
   {
    "duration": 49,
    "start_time": "2022-08-24T21:02:57.340Z"
   },
   {
    "duration": 66,
    "start_time": "2022-08-24T21:04:56.748Z"
   },
   {
    "duration": 55,
    "start_time": "2022-08-24T21:04:57.728Z"
   },
   {
    "duration": 65,
    "start_time": "2022-08-24T21:05:57.658Z"
   },
   {
    "duration": 1119,
    "start_time": "2022-08-24T21:05:58.569Z"
   },
   {
    "duration": 3,
    "start_time": "2022-08-24T21:06:04.082Z"
   },
   {
    "duration": 4172,
    "start_time": "2022-08-24T21:14:13.424Z"
   },
   {
    "duration": 11,
    "start_time": "2022-08-24T21:15:14.808Z"
   },
   {
    "duration": 4,
    "start_time": "2022-08-24T21:15:24.339Z"
   },
   {
    "duration": 770,
    "start_time": "2022-08-24T21:15:24.345Z"
   },
   {
    "duration": 14,
    "start_time": "2022-08-24T21:15:25.117Z"
   },
   {
    "duration": 137,
    "start_time": "2022-08-24T21:15:25.133Z"
   },
   {
    "duration": 130,
    "start_time": "2022-08-24T21:15:25.272Z"
   },
   {
    "duration": 132,
    "start_time": "2022-08-24T21:15:25.404Z"
   },
   {
    "duration": 94,
    "start_time": "2022-08-24T21:15:25.538Z"
   },
   {
    "duration": 24,
    "start_time": "2022-08-24T21:15:25.634Z"
   },
   {
    "duration": 3,
    "start_time": "2022-08-24T21:15:25.661Z"
   },
   {
    "duration": 22,
    "start_time": "2022-08-24T21:15:25.665Z"
   },
   {
    "duration": 18,
    "start_time": "2022-08-24T21:15:25.689Z"
   },
   {
    "duration": 45,
    "start_time": "2022-08-24T21:15:25.709Z"
   },
   {
    "duration": 185,
    "start_time": "2022-08-24T21:15:25.755Z"
   },
   {
    "duration": 225,
    "start_time": "2022-08-24T21:15:25.942Z"
   },
   {
    "duration": 73,
    "start_time": "2022-08-24T21:15:26.169Z"
   },
   {
    "duration": 5,
    "start_time": "2022-08-24T21:15:26.245Z"
   },
   {
    "duration": 50,
    "start_time": "2022-08-24T21:15:26.252Z"
   },
   {
    "duration": 37,
    "start_time": "2022-08-24T21:15:26.305Z"
   },
   {
    "duration": 367,
    "start_time": "2022-08-24T21:15:26.345Z"
   },
   {
    "duration": 6,
    "start_time": "2022-08-24T21:15:26.714Z"
   },
   {
    "duration": 83,
    "start_time": "2022-08-24T21:15:26.721Z"
   },
   {
    "duration": 13,
    "start_time": "2022-08-24T21:15:26.806Z"
   },
   {
    "duration": 37,
    "start_time": "2022-08-24T21:15:26.820Z"
   },
   {
    "duration": 173,
    "start_time": "2022-08-24T21:15:26.860Z"
   },
   {
    "duration": 1139,
    "start_time": "2022-08-24T21:15:27.034Z"
   },
   {
    "duration": 34,
    "start_time": "2022-08-24T21:15:28.174Z"
   },
   {
    "duration": 45,
    "start_time": "2022-08-24T21:15:28.210Z"
   },
   {
    "duration": 4,
    "start_time": "2022-08-24T21:15:28.256Z"
   },
   {
    "duration": 6,
    "start_time": "2022-08-24T21:15:28.262Z"
   },
   {
    "duration": 4,
    "start_time": "2022-08-24T21:15:28.287Z"
   },
   {
    "duration": 6,
    "start_time": "2022-08-24T21:15:28.292Z"
   },
   {
    "duration": 61,
    "start_time": "2022-08-24T21:15:28.300Z"
   },
   {
    "duration": 25,
    "start_time": "2022-08-24T21:15:28.362Z"
   },
   {
    "duration": 111,
    "start_time": "2022-08-24T21:15:28.388Z"
   },
   {
    "duration": 1187,
    "start_time": "2022-08-24T21:15:28.501Z"
   },
   {
    "duration": 4,
    "start_time": "2022-08-24T21:15:29.691Z"
   },
   {
    "duration": 102,
    "start_time": "2022-08-24T21:15:29.697Z"
   },
   {
    "duration": 44698,
    "start_time": "2022-08-24T21:15:29.802Z"
   },
   {
    "duration": 4591,
    "start_time": "2022-08-24T21:16:14.501Z"
   },
   {
    "duration": 4075,
    "start_time": "2022-08-24T21:16:46.919Z"
   },
   {
    "duration": 8,
    "start_time": "2022-08-24T21:16:52.566Z"
   },
   {
    "duration": 45490,
    "start_time": "2022-08-24T21:17:07.806Z"
   },
   {
    "duration": 4,
    "start_time": "2022-08-24T21:17:53.297Z"
   },
   {
    "duration": 4591,
    "start_time": "2022-08-24T21:17:53.302Z"
   },
   {
    "duration": 3,
    "start_time": "2022-08-24T21:19:19.703Z"
   },
   {
    "duration": 260619,
    "start_time": "2022-08-24T21:19:21.046Z"
   },
   {
    "duration": 3,
    "start_time": "2022-08-24T21:23:41.667Z"
   },
   {
    "duration": 35666,
    "start_time": "2022-08-24T21:23:41.672Z"
   },
   {
    "duration": 1615,
    "start_time": "2022-08-24T21:24:20.188Z"
   },
   {
    "duration": 513,
    "start_time": "2022-08-24T21:25:01.587Z"
   },
   {
    "duration": 361,
    "start_time": "2022-08-24T21:26:16.484Z"
   },
   {
    "duration": 1474,
    "start_time": "2022-08-24T21:27:41.227Z"
   },
   {
    "duration": 52,
    "start_time": "2022-08-24T21:30:41.873Z"
   },
   {
    "duration": 48,
    "start_time": "2022-08-24T21:30:46.489Z"
   },
   {
    "duration": 1907,
    "start_time": "2022-08-25T14:35:43.982Z"
   },
   {
    "duration": 710,
    "start_time": "2022-08-25T14:35:46.455Z"
   },
   {
    "duration": 17,
    "start_time": "2022-08-25T14:35:47.167Z"
   },
   {
    "duration": 111,
    "start_time": "2022-08-25T14:35:47.617Z"
   },
   {
    "duration": 109,
    "start_time": "2022-08-25T14:35:48.096Z"
   },
   {
    "duration": 105,
    "start_time": "2022-08-25T14:35:48.458Z"
   },
   {
    "duration": 87,
    "start_time": "2022-08-25T14:35:48.613Z"
   },
   {
    "duration": 31,
    "start_time": "2022-08-25T14:35:49.414Z"
   },
   {
    "duration": 2,
    "start_time": "2022-08-25T14:35:49.843Z"
   },
   {
    "duration": 2,
    "start_time": "2022-08-25T14:35:50.519Z"
   },
   {
    "duration": 9,
    "start_time": "2022-08-25T14:35:50.714Z"
   },
   {
    "duration": 43,
    "start_time": "2022-08-25T14:35:51.161Z"
   },
   {
    "duration": 153,
    "start_time": "2022-08-25T14:35:51.407Z"
   },
   {
    "duration": 205,
    "start_time": "2022-08-25T14:35:52.303Z"
   },
   {
    "duration": 53,
    "start_time": "2022-08-25T14:35:53.097Z"
   },
   {
    "duration": 4,
    "start_time": "2022-08-25T14:35:54.921Z"
   },
   {
    "duration": 30,
    "start_time": "2022-08-25T14:35:55.154Z"
   },
   {
    "duration": 35,
    "start_time": "2022-08-25T14:35:55.397Z"
   },
   {
    "duration": 305,
    "start_time": "2022-08-25T14:35:55.502Z"
   },
   {
    "duration": 4,
    "start_time": "2022-08-25T14:35:55.811Z"
   },
   {
    "duration": 67,
    "start_time": "2022-08-25T14:35:55.876Z"
   },
   {
    "duration": 8,
    "start_time": "2022-08-25T14:35:56.125Z"
   },
   {
    "duration": 29,
    "start_time": "2022-08-25T14:35:56.394Z"
   },
   {
    "duration": 144,
    "start_time": "2022-08-25T14:35:56.599Z"
   },
   {
    "duration": 50,
    "start_time": "2022-08-25T14:35:57.632Z"
   },
   {
    "duration": 1697,
    "start_time": "2022-08-25T16:46:06.260Z"
   },
   {
    "duration": 1248,
    "start_time": "2022-08-25T16:46:07.959Z"
   },
   {
    "duration": 22,
    "start_time": "2022-08-25T16:46:09.209Z"
   },
   {
    "duration": 152,
    "start_time": "2022-08-25T16:46:09.232Z"
   },
   {
    "duration": 148,
    "start_time": "2022-08-25T16:46:09.387Z"
   },
   {
    "duration": 140,
    "start_time": "2022-08-25T16:46:09.537Z"
   },
   {
    "duration": 104,
    "start_time": "2022-08-25T16:46:09.679Z"
   },
   {
    "duration": 43,
    "start_time": "2022-08-25T16:46:09.785Z"
   },
   {
    "duration": 20,
    "start_time": "2022-08-25T16:46:09.831Z"
   },
   {
    "duration": 10,
    "start_time": "2022-08-25T16:46:09.855Z"
   },
   {
    "duration": 37,
    "start_time": "2022-08-25T16:46:09.867Z"
   },
   {
    "duration": 67,
    "start_time": "2022-08-25T16:46:09.906Z"
   },
   {
    "duration": 204,
    "start_time": "2022-08-25T16:46:09.975Z"
   },
   {
    "duration": 283,
    "start_time": "2022-08-25T16:46:10.181Z"
   },
   {
    "duration": 85,
    "start_time": "2022-08-25T16:46:10.466Z"
   },
   {
    "duration": 6,
    "start_time": "2022-08-25T16:46:10.553Z"
   },
   {
    "duration": 49,
    "start_time": "2022-08-25T16:46:10.562Z"
   },
   {
    "duration": 46,
    "start_time": "2022-08-25T16:46:10.613Z"
   },
   {
    "duration": 391,
    "start_time": "2022-08-25T16:46:10.661Z"
   },
   {
    "duration": 6,
    "start_time": "2022-08-25T16:46:11.054Z"
   },
   {
    "duration": 95,
    "start_time": "2022-08-25T16:46:11.062Z"
   },
   {
    "duration": 13,
    "start_time": "2022-08-25T16:46:11.159Z"
   },
   {
    "duration": 47,
    "start_time": "2022-08-25T16:46:11.174Z"
   },
   {
    "duration": 195,
    "start_time": "2022-08-25T16:46:11.223Z"
   },
   {
    "duration": 54,
    "start_time": "2022-08-25T16:46:11.420Z"
   },
   {
    "duration": 1306,
    "start_time": "2022-08-25T16:46:11.476Z"
   },
   {
    "duration": 42,
    "start_time": "2022-08-25T16:46:12.784Z"
   },
   {
    "duration": 55,
    "start_time": "2022-08-25T16:46:12.829Z"
   },
   {
    "duration": 4,
    "start_time": "2022-08-25T16:46:12.886Z"
   },
   {
    "duration": 20,
    "start_time": "2022-08-25T16:46:12.891Z"
   },
   {
    "duration": 27,
    "start_time": "2022-08-25T16:46:12.913Z"
   },
   {
    "duration": 14,
    "start_time": "2022-08-25T16:46:12.942Z"
   },
   {
    "duration": 99,
    "start_time": "2022-08-25T16:46:12.958Z"
   },
   {
    "duration": 7,
    "start_time": "2022-08-25T16:46:13.059Z"
   },
   {
    "duration": 247,
    "start_time": "2022-08-25T16:46:13.068Z"
   },
   {
    "duration": 1107,
    "start_time": "2022-08-25T16:46:13.317Z"
   },
   {
    "duration": 81,
    "start_time": "2022-08-25T16:46:14.430Z"
   },
   {
    "duration": 26,
    "start_time": "2022-08-25T16:46:14.514Z"
   },
   {
    "duration": 527574,
    "start_time": "2022-08-25T16:46:14.542Z"
   },
   {
    "duration": 5,
    "start_time": "2022-08-25T16:55:02.119Z"
   },
   {
    "duration": 46590,
    "start_time": "2022-08-25T16:55:02.126Z"
   },
   {
    "duration": 807,
    "start_time": "2022-08-25T16:55:48.719Z"
   },
   {
    "duration": 3,
    "start_time": "2022-08-25T16:55:49.527Z"
   },
   {
    "duration": 279939,
    "start_time": "2022-08-25T16:55:49.531Z"
   },
   {
    "duration": 35993,
    "start_time": "2022-08-25T17:00:29.471Z"
   },
   {
    "duration": 350,
    "start_time": "2022-08-25T17:01:05.466Z"
   },
   {
    "duration": 508,
    "start_time": "2022-08-25T17:01:05.818Z"
   },
   {
    "duration": 1121,
    "start_time": "2022-08-25T17:13:31.489Z"
   },
   {
    "duration": 14,
    "start_time": "2022-08-25T17:14:05.773Z"
   },
   {
    "duration": 529,
    "start_time": "2022-08-25T17:15:02.012Z"
   },
   {
    "duration": 10,
    "start_time": "2022-08-25T17:15:51.901Z"
   },
   {
    "duration": 9,
    "start_time": "2022-08-25T17:18:46.616Z"
   },
   {
    "duration": 9,
    "start_time": "2022-08-25T17:19:19.781Z"
   },
   {
    "duration": 10,
    "start_time": "2022-08-25T17:19:34.355Z"
   },
   {
    "duration": 9,
    "start_time": "2022-08-25T17:19:38.187Z"
   },
   {
    "duration": 2,
    "start_time": "2022-08-25T17:20:37.736Z"
   },
   {
    "duration": 270117,
    "start_time": "2022-08-25T17:20:37.742Z"
   },
   {
    "duration": 3,
    "start_time": "2022-08-25T17:25:07.861Z"
   },
   {
    "duration": 35205,
    "start_time": "2022-08-25T17:25:07.865Z"
   },
   {
    "duration": 349,
    "start_time": "2022-08-25T17:25:43.072Z"
   },
   {
    "duration": 511,
    "start_time": "2022-08-25T17:25:43.422Z"
   }
  ],
  "kernelspec": {
   "display_name": "Python 3 (ipykernel)",
   "language": "python",
   "name": "python3"
  },
  "language_info": {
   "codemirror_mode": {
    "name": "ipython",
    "version": 3
   },
   "file_extension": ".py",
   "mimetype": "text/x-python",
   "name": "python",
   "nbconvert_exporter": "python",
   "pygments_lexer": "ipython3",
   "version": "3.9.12"
  },
  "toc": {
   "base_numbering": 1,
   "nav_menu": {},
   "number_sections": true,
   "sideBar": true,
   "skip_h1_title": true,
   "title_cell": "Table of Contents",
   "title_sidebar": "Contents",
   "toc_cell": false,
   "toc_position": {},
   "toc_section_display": true,
   "toc_window_display": false
  }
 },
 "nbformat": 4,
 "nbformat_minor": 2
}
