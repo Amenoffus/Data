{
 "cells": [
  {
   "cell_type": "markdown",
   "metadata": {
    "id": "zZIpEXkCY8DD"
   },
   "source": [
    "<div style=\"border:solid green 2px; padding: 20px\">\n",
    "<b>Привет Сергей!</b>\n",
    "\n",
    "Меня зовут  Евгений Арзамасцев, я твой тимлид по этому проекту. Буду проверять следующие этапы твоей работы:\n",
    "<p> * План работ и уточняющие вопросы\n",
    "<p> * Основной код разработки модели (но это не точно)\n",
    "<p> * Отчет о проделанной работе\n",
    "\n",
    " Предлагаю общаться на «ты» :) Но если это не удобно - дай знать, и мы перейдем на \"вы\". \n",
    "\n",
    "Моя основная цель — не указать на совершенные тобою ошибки, а поделиться своим опытом и помочь тебе стать отличным специалистом по Data Science. Ты уже проделал большую работу над проектами этого курса. Сейчас у тебя Финальный Спринт - дипломная работа. Моя цель - помочь тебе сделать ее максимально качественно, чтобы было не стыдно ссылаться на данную работу в своем резюме!\n",
    "\n",
    "Ниже ты найдешь мои комментарии - **пожалуйста, не перемещай, не изменяй и не удаляй их**. Увидев у тебя ошибку, в первый раз я лишь укажу на ее наличие и дам тебе возможность самому найти и исправить ее. На реальной работе твой начальник будет поступать так же, а я пытаюсь подготовить тебя именно к таким ситуациям. Но если ты пока не справишься с такой задачей - при следующей проверке я дам более точную подсказку. Я буду использовать цветовую разметку:\n",
    "\n",
    "<div class=\"alert alert-danger\">\n",
    "<b>Комментарий тимлида ❌:</b> Так выделены самые важные замечания. Без их отработки проект не будет принят. </div>\n",
    "\n",
    "<div class=\"alert alert-warning\">\n",
    "<b>Комментарий тимлида ⚠️:</b> Так выделены небольшие замечания. Я надеюсь, что их ты тоже учтешь - твой проект от этого станет только лучше. Но настаивать на их отработке не буду.\n",
    "\n",
    "</div>\n",
    "\n",
    "<div class=\"alert alert-success\">\n",
    "<b>Комментарий тимлида ✔️:</b> Так я выделяю все остальные комментарии.</div>\n",
    "\n",
    "Давай работать над проектом в диалоге: **если ты что-то меняешь в проекте или отвечаешь на мои комменатри — пиши об этом.** Мне будет легче отследить изменения, если ты выделишь свои комментарии:\n",
    "<div class=\"alert alert-info\"> <b>Комментарий студента:</b> Например, вот так.</div>\n",
    "\n",
    "Всё это поможет выполнить повторную проверку твоего проекта оперативнее. "
   ]
  },
  {
   "cell_type": "markdown",
   "metadata": {
    "id": "krVVdewSY8DX"
   },
   "source": [
    "# Прогнозирование оттока клиентов телеком компании"
   ]
  },
  {
   "cell_type": "markdown",
   "metadata": {
    "id": "gN-D2MbVY8DZ"
   },
   "source": [
    "# Цель"
   ]
  },
  {
   "cell_type": "markdown",
   "metadata": {
    "id": "WXyzRjDYY8Dc"
   },
   "source": [
    "**Построить модель пердсказывающую вероятность ухода клиента и максимизировать метрику ROC-AUC**"
   ]
  },
  {
   "cell_type": "markdown",
   "metadata": {
    "id": "Qq2548mnY8Dg"
   },
   "source": [
    "# Задачи"
   ]
  },
  {
   "cell_type": "markdown",
   "metadata": {
    "id": "op0dDKRaY8Di"
   },
   "source": [
    "- Исследовательский анализ данных / предобработка\n",
    "    - Изучение данных\n",
    "    - Предобработка\n",
    "    - Создание новых признаков\n",
    "    - Исследовательский анализ данных / визуализация\n",
    "    - Вывод по EDA\n",
    "- Обучение модели\n",
    "    - Кодирование категориальных признаков\n",
    "    - Подготовка обучающей и тестовой выборок\n",
    "    - Масштабирование\n",
    "    - Подготовка таблицы с результатами\n",
    "    - Logistic Regression\n",
    "    - LightGBM\n",
    "    - XGBoost\n",
    "- Вывод"
   ]
  },
  {
   "cell_type": "markdown",
   "metadata": {
    "id": "cFWcQ2AqY8Dm"
   },
   "source": [
    "### Описание проекта\n",
    "Оператор связи «Ниединогоразрыва.ком» хочет научиться прогнозировать отток клиентов. Если выяснится, что пользователь планирует уйти, ему будут предложены промокоды и специальные условия. Команда оператора собрала персональные данные о некоторых клиентах, информацию об их тарифах и договорах.\n",
    "\n",
    "### Описание услуг\n",
    "\n",
    "Оператор предоставляет два основных типа услуг: \n",
    "\n",
    "1. Стационарную телефонную связь. Возможно подключение телефонного аппарата к нескольким линиям одновременно.\n",
    "2. Интернет. Подключение может быть двух типов: через телефонную линию (DSL*,* от англ. *digital subscriber line*, «цифровая абонентская линия») или оптоволоконный кабель (*Fiber optic*).  \n",
    "\n",
    "Также доступны такие услуги:\n",
    "\n",
    "- Интернет-безопасность: антивирус (*DeviceProtection*) и блокировка небезопасных сайтов (*OnlineSecurity*);\n",
    "- Выделенная линия технической поддержки (*TechSupport*);\n",
    "- Облачное хранилище файлов для резервного копирования данных (*OnlineBackup*);\n",
    "- Стриминговое телевидение (*StreamingTV*) и каталог фильмов (*StreamingMovies*).\n",
    "\n",
    "За услуги клиенты могут платить каждый месяц или заключить договор на 1–2 года. Доступны различные способы расчёта и возможность получения электронного чека.\n",
    "\n",
    "### Описание данных\n",
    "\n",
    "Данные состоят из файлов, полученных из разных источников:\n",
    "\n",
    "- `contract.csv` — информация о договоре;\n",
    "- `personal.csv` — персональные данные клиента;\n",
    "- `internet.csv` — информация об интернет-услугах;\n",
    "- `phone.csv` — информация об услугах телефонии.\n",
    "\n",
    "Информация о договорах актуальна на 1 февраля 2020.\n",
    "\n",
    "- `contract.csv`:\n",
    "    - `customerID` - уникальный ID клиента\n",
    "    - `BeginDate` - дата заключения договора\n",
    "    - `EndDate` - дата расторжения договора\n",
    "    - `Type` - тип оплаты за услуги (ежемесячный платёж или раз в год, несколько лет)\n",
    "    - `PaperlessBilling` - безналичный расчет\n",
    "    - `PaymentMethod` - способ оплаты \n",
    "    - `MonthlyCharges` - ежемесячные траты за услуги \n",
    "    - `TotalCharges` - общая сумма трат за услуги\n",
    "    \n",
    "- `personal.csv`:\n",
    "\n",
    "    - `customerID` - уникальный ID клиента\n",
    "    - `gender` - пол клиента\n",
    "    - `Partner` - наличие супруга(и)\n",
    "    - `Dependents` - наличие иждивенцев\n",
    "    \n",
    "- `internet.csv`:\n",
    "\n",
    "    - `customerID` - уникальный ID клиента\n",
    "    - `InternetService` - варианты подключения интернет-соединения\n",
    "    - `OnlineSecurity` - услуга блокировки небезопасных сайтов\n",
    "    - `OnlineBackup` - услуга Облачного хранилища файлов\n",
    "    - `DeviceProtection` - наличие услуги антивируса\n",
    "    - `TechSupport`- услуга выделенной линии технической поддержки\n",
    "    - `StreamingTV` - услуга стримингового телевидения\n",
    "    - `StreamingMovies` - услуга каталога фильмов\n",
    "    \n",
    "- `phone.csv`:\n",
    "\n",
    "    - `customerID` - уникальный ID клиента\n",
    "    - `MultipleLines` - возможность ведения параллельных линий во время звонка\n"
   ]
  },
  {
   "cell_type": "markdown",
   "metadata": {
    "id": "Wjfi5qA_Y8Dq"
   },
   "source": [
    "<div class=\"alert alert-success\">\n",
    "<b>**Комментарий тимлида ✔️:**</b>\n",
    "\n",
    "1. В описательной части есть название, общее описание проекта, цель проекта. Есть короткое описание исходных данных. Отлично!\n",
    "    \n",
    "2. Буду считать что в разделе \"Задачи\" представлен план работ. Указанны все основные этапы исследования! Вижу что понимаешь что предстоит делать, уверен инструментарий тоже подберешь верно!\n",
    "</div>"
   ]
  },
  {
   "cell_type": "markdown",
   "metadata": {
    "id": "64RpqIpvY8Ds"
   },
   "source": [
    "<div class=\"alert alert-warning\">\n",
    "<b>**Комментарий тимлида ⚠️:**</b>\n",
    "\n",
    "Данное исследование можно будет приложить к портфолио и показывать потенциальным работодателям на собесах. По этому предлагаю сразу же оформлять его в соответствии с требованиями к исследованию. В описательной части не хватает:\n",
    "    \n",
    "- хорошего названия проекта\n",
    "- цель проекта\n",
    "   \n",
    "Касаемо цели - я рекомендую ее немного изменить и привести в соответствие с требованиями SMART. Если интересно - почитай вот тут https://www.carrotquest.io/blog/smart-goal/. Можно привести SMARTированную цель проекта уже потом, на следующем этапе. На вэбинаре будет доп. инфомрмация касаемо метрики проекта. Ее можно будет добавить в цель.\n",
    "    \n",
    "Рекомендую доработать этот раздел.\n",
    "</div>"
   ]
  },
  {
   "cell_type": "markdown",
   "metadata": {
    "id": "G1K4SCz6Y8Du"
   },
   "source": [
    "<div class=\"alert alert-info\"> <b>Комментарий студента:</b> Изменил: название проекта, цель, задачи и и описание данных</div>"
   ]
  },
  {
   "cell_type": "markdown",
   "metadata": {
    "id": "-_fFoF9pY8Dx"
   },
   "source": [
    "<div class=\"alert alert-success\">\n",
    "<b>**Комментарий тимлида_v2 ✔️:**</b>\n",
    "\n",
    "Ок, отлично. Значительно лучше!\n",
    "</div>"
   ]
  },
  {
   "cell_type": "markdown",
   "metadata": {
    "id": "cUjO8AePY8D1"
   },
   "source": [
    "## Импорт библиотек"
   ]
  },
  {
   "cell_type": "code",
   "execution_count": 58,
   "metadata": {
    "colab": {
     "base_uri": "https://localhost:8080/"
    },
    "id": "v5wRiTFzRuLz",
    "outputId": "2ef6a233-b86b-4a82-a0af-7f4d7d4e0a7f"
   },
   "outputs": [
    {
     "name": "stdout",
     "output_type": "stream",
     "text": [
      "Requirement already satisfied: catboost in /opt/conda/lib/python3.9/site-packages (1.0.3)\n",
      "Requirement already satisfied: numpy>=1.16.0 in /opt/conda/lib/python3.9/site-packages (from catboost) (1.21.1)\n",
      "Requirement already satisfied: six in /opt/conda/lib/python3.9/site-packages (from catboost) (1.16.0)\n",
      "Requirement already satisfied: graphviz in /opt/conda/lib/python3.9/site-packages (from catboost) (0.20.1)\n",
      "Requirement already satisfied: plotly in /opt/conda/lib/python3.9/site-packages (from catboost) (5.4.0)\n",
      "Requirement already satisfied: matplotlib in /opt/conda/lib/python3.9/site-packages (from catboost) (3.3.4)\n",
      "Requirement already satisfied: pandas>=0.24.0 in /opt/conda/lib/python3.9/site-packages (from catboost) (1.2.4)\n",
      "Requirement already satisfied: scipy in /opt/conda/lib/python3.9/site-packages (from catboost) (1.9.1)\n",
      "Requirement already satisfied: python-dateutil>=2.7.3 in /opt/conda/lib/python3.9/site-packages (from pandas>=0.24.0->catboost) (2.8.1)\n",
      "Requirement already satisfied: pytz>=2017.3 in /opt/conda/lib/python3.9/site-packages (from pandas>=0.24.0->catboost) (2021.1)\n",
      "Requirement already satisfied: kiwisolver>=1.0.1 in /opt/conda/lib/python3.9/site-packages (from matplotlib->catboost) (1.4.4)\n",
      "Requirement already satisfied: cycler>=0.10 in /opt/conda/lib/python3.9/site-packages (from matplotlib->catboost) (0.11.0)\n",
      "Requirement already satisfied: pyparsing!=2.0.4,!=2.1.2,!=2.1.6,>=2.0.3 in /opt/conda/lib/python3.9/site-packages (from matplotlib->catboost) (2.4.7)\n",
      "Requirement already satisfied: pillow>=6.2.0 in /opt/conda/lib/python3.9/site-packages (from matplotlib->catboost) (8.4.0)\n",
      "Requirement already satisfied: tenacity>=6.2.0 in /opt/conda/lib/python3.9/site-packages (from plotly->catboost) (8.0.1)\n",
      "Note: you may need to restart the kernel to use updated packages.\n"
     ]
    }
   ],
   "source": [
    "pip install catboost"
   ]
  },
  {
   "cell_type": "code",
   "execution_count": 59,
   "metadata": {},
   "outputs": [
    {
     "name": "stdout",
     "output_type": "stream",
     "text": [
      "Requirement already satisfied: phik in /opt/conda/lib/python3.9/site-packages (0.12.2)\n",
      "Requirement already satisfied: matplotlib>=2.2.3 in /opt/conda/lib/python3.9/site-packages (from phik) (3.3.4)\n",
      "Requirement already satisfied: joblib>=0.14.1 in /opt/conda/lib/python3.9/site-packages (from phik) (1.1.0)\n",
      "Requirement already satisfied: pandas>=0.25.1 in /opt/conda/lib/python3.9/site-packages (from phik) (1.2.4)\n",
      "Requirement already satisfied: numpy>=1.18.0 in /opt/conda/lib/python3.9/site-packages (from phik) (1.21.1)\n",
      "Requirement already satisfied: scipy>=1.5.2 in /opt/conda/lib/python3.9/site-packages (from phik) (1.9.1)\n",
      "Requirement already satisfied: python-dateutil>=2.1 in /opt/conda/lib/python3.9/site-packages (from matplotlib>=2.2.3->phik) (2.8.1)\n",
      "Requirement already satisfied: kiwisolver>=1.0.1 in /opt/conda/lib/python3.9/site-packages (from matplotlib>=2.2.3->phik) (1.4.4)\n",
      "Requirement already satisfied: cycler>=0.10 in /opt/conda/lib/python3.9/site-packages (from matplotlib>=2.2.3->phik) (0.11.0)\n",
      "Requirement already satisfied: pillow>=6.2.0 in /opt/conda/lib/python3.9/site-packages (from matplotlib>=2.2.3->phik) (8.4.0)\n",
      "Requirement already satisfied: pyparsing!=2.0.4,!=2.1.2,!=2.1.6,>=2.0.3 in /opt/conda/lib/python3.9/site-packages (from matplotlib>=2.2.3->phik) (2.4.7)\n",
      "Requirement already satisfied: pytz>=2017.3 in /opt/conda/lib/python3.9/site-packages (from pandas>=0.25.1->phik) (2021.1)\n",
      "Requirement already satisfied: six>=1.5 in /opt/conda/lib/python3.9/site-packages (from python-dateutil>=2.1->matplotlib>=2.2.3->phik) (1.16.0)\n",
      "Note: you may need to restart the kernel to use updated packages.\n"
     ]
    }
   ],
   "source": [
    "pip install phik"
   ]
  },
  {
   "cell_type": "code",
   "execution_count": 60,
   "metadata": {
    "id": "uuq5wISrY8D3"
   },
   "outputs": [],
   "source": [
    "import pandas as pd\n",
    "import numpy as np\n",
    "import matplotlib.pyplot as plt\n",
    "import seaborn as sns\n",
    "from numpy.random import RandomState\n",
    "import math\n",
    "\n",
    "# from scipy import stats as st\n",
    "\n",
    "from sklearn.model_selection import GridSearchCV\n",
    "from sklearn.preprocessing import OrdinalEncoder, LabelEncoder, StandardScaler\n",
    "from sklearn.model_selection import train_test_split, StratifiedKFold\n",
    "from catboost import CatBoostClassifier\n",
    "from sklearn.ensemble import RandomForestClassifier\n",
    "from sklearn.metrics import roc_auc_score\n",
    "\n",
    "\n",
    "from lightgbm import LGBMClassifier\n",
    "\n",
    "import phik\n",
    "from phik.report import plot_correlation_matrix\n",
    "from phik import report"
   ]
  },
  {
   "cell_type": "markdown",
   "metadata": {
    "id": "lwZRv41VY8D7"
   },
   "source": [
    "## Загрузка данных "
   ]
  },
  {
   "cell_type": "code",
   "execution_count": 61,
   "metadata": {
    "id": "7800bG74Y8D9"
   },
   "outputs": [],
   "source": [
    "try:\n",
    "  contract = pd.read_csv('/datasets/final_provider/contract.csv')\n",
    "\n",
    "  personal = pd.read_csv('/datasets/final_provider/personal.csv')\n",
    "\n",
    "  internet = pd.read_csv('/datasets/final_provider/internet.csv')\n",
    "\n",
    "  phone = pd.read_csv('/datasets/final_provider/phone.csv')\n",
    "except:\n",
    "  contract = pd.read_csv('/content/contract.csv')\n",
    "\n",
    "  personal = pd.read_csv('/content/personal.csv')\n",
    "\n",
    "  internet = pd.read_csv('/content/internet.csv')\n",
    "\n",
    "  phone = pd.read_csv('/content/phone.csv')"
   ]
  },
  {
   "cell_type": "code",
   "execution_count": null,
   "metadata": {
    "id": "mUIgaj3RZXJB"
   },
   "outputs": [],
   "source": []
  },
  {
   "cell_type": "markdown",
   "metadata": {
    "id": "y8F_FKmOY8D-"
   },
   "source": [
    "### Contract"
   ]
  },
  {
   "cell_type": "code",
   "execution_count": 62,
   "metadata": {
    "colab": {
     "base_uri": "https://localhost:8080/",
     "height": 581
    },
    "id": "hQ8NltIPY8D_",
    "outputId": "3f5d3143-1a22-49bc-df8a-7f3acd8677b5",
    "scrolled": true
   },
   "outputs": [
    {
     "data": {
      "text/html": [
       "<div>\n",
       "<style scoped>\n",
       "    .dataframe tbody tr th:only-of-type {\n",
       "        vertical-align: middle;\n",
       "    }\n",
       "\n",
       "    .dataframe tbody tr th {\n",
       "        vertical-align: top;\n",
       "    }\n",
       "\n",
       "    .dataframe thead th {\n",
       "        text-align: right;\n",
       "    }\n",
       "</style>\n",
       "<table border=\"1\" class=\"dataframe\">\n",
       "  <thead>\n",
       "    <tr style=\"text-align: right;\">\n",
       "      <th></th>\n",
       "      <th>customerID</th>\n",
       "      <th>BeginDate</th>\n",
       "      <th>EndDate</th>\n",
       "      <th>Type</th>\n",
       "      <th>PaperlessBilling</th>\n",
       "      <th>PaymentMethod</th>\n",
       "      <th>MonthlyCharges</th>\n",
       "      <th>TotalCharges</th>\n",
       "    </tr>\n",
       "  </thead>\n",
       "  <tbody>\n",
       "    <tr>\n",
       "      <th>0</th>\n",
       "      <td>7590-VHVEG</td>\n",
       "      <td>2020-01-01</td>\n",
       "      <td>No</td>\n",
       "      <td>Month-to-month</td>\n",
       "      <td>Yes</td>\n",
       "      <td>Electronic check</td>\n",
       "      <td>29.85</td>\n",
       "      <td>29.85</td>\n",
       "    </tr>\n",
       "    <tr>\n",
       "      <th>1</th>\n",
       "      <td>5575-GNVDE</td>\n",
       "      <td>2017-04-01</td>\n",
       "      <td>No</td>\n",
       "      <td>One year</td>\n",
       "      <td>No</td>\n",
       "      <td>Mailed check</td>\n",
       "      <td>56.95</td>\n",
       "      <td>1889.5</td>\n",
       "    </tr>\n",
       "    <tr>\n",
       "      <th>2</th>\n",
       "      <td>3668-QPYBK</td>\n",
       "      <td>2019-10-01</td>\n",
       "      <td>2019-12-01 00:00:00</td>\n",
       "      <td>Month-to-month</td>\n",
       "      <td>Yes</td>\n",
       "      <td>Mailed check</td>\n",
       "      <td>53.85</td>\n",
       "      <td>108.15</td>\n",
       "    </tr>\n",
       "    <tr>\n",
       "      <th>3</th>\n",
       "      <td>7795-CFOCW</td>\n",
       "      <td>2016-05-01</td>\n",
       "      <td>No</td>\n",
       "      <td>One year</td>\n",
       "      <td>No</td>\n",
       "      <td>Bank transfer (automatic)</td>\n",
       "      <td>42.30</td>\n",
       "      <td>1840.75</td>\n",
       "    </tr>\n",
       "    <tr>\n",
       "      <th>4</th>\n",
       "      <td>9237-HQITU</td>\n",
       "      <td>2019-09-01</td>\n",
       "      <td>2019-11-01 00:00:00</td>\n",
       "      <td>Month-to-month</td>\n",
       "      <td>Yes</td>\n",
       "      <td>Electronic check</td>\n",
       "      <td>70.70</td>\n",
       "      <td>151.65</td>\n",
       "    </tr>\n",
       "    <tr>\n",
       "      <th>5</th>\n",
       "      <td>9305-CDSKC</td>\n",
       "      <td>2019-03-01</td>\n",
       "      <td>2019-11-01 00:00:00</td>\n",
       "      <td>Month-to-month</td>\n",
       "      <td>Yes</td>\n",
       "      <td>Electronic check</td>\n",
       "      <td>99.65</td>\n",
       "      <td>820.5</td>\n",
       "    </tr>\n",
       "    <tr>\n",
       "      <th>6</th>\n",
       "      <td>1452-KIOVK</td>\n",
       "      <td>2018-04-01</td>\n",
       "      <td>No</td>\n",
       "      <td>Month-to-month</td>\n",
       "      <td>Yes</td>\n",
       "      <td>Credit card (automatic)</td>\n",
       "      <td>89.10</td>\n",
       "      <td>1949.4</td>\n",
       "    </tr>\n",
       "    <tr>\n",
       "      <th>7</th>\n",
       "      <td>6713-OKOMC</td>\n",
       "      <td>2019-04-01</td>\n",
       "      <td>No</td>\n",
       "      <td>Month-to-month</td>\n",
       "      <td>No</td>\n",
       "      <td>Mailed check</td>\n",
       "      <td>29.75</td>\n",
       "      <td>301.9</td>\n",
       "    </tr>\n",
       "    <tr>\n",
       "      <th>8</th>\n",
       "      <td>7892-POOKP</td>\n",
       "      <td>2017-07-01</td>\n",
       "      <td>2019-11-01 00:00:00</td>\n",
       "      <td>Month-to-month</td>\n",
       "      <td>Yes</td>\n",
       "      <td>Electronic check</td>\n",
       "      <td>104.80</td>\n",
       "      <td>3046.05</td>\n",
       "    </tr>\n",
       "    <tr>\n",
       "      <th>9</th>\n",
       "      <td>6388-TABGU</td>\n",
       "      <td>2014-12-01</td>\n",
       "      <td>No</td>\n",
       "      <td>One year</td>\n",
       "      <td>No</td>\n",
       "      <td>Bank transfer (automatic)</td>\n",
       "      <td>56.15</td>\n",
       "      <td>3487.95</td>\n",
       "    </tr>\n",
       "  </tbody>\n",
       "</table>\n",
       "</div>"
      ],
      "text/plain": [
       "   customerID   BeginDate              EndDate            Type  \\\n",
       "0  7590-VHVEG  2020-01-01                   No  Month-to-month   \n",
       "1  5575-GNVDE  2017-04-01                   No        One year   \n",
       "2  3668-QPYBK  2019-10-01  2019-12-01 00:00:00  Month-to-month   \n",
       "3  7795-CFOCW  2016-05-01                   No        One year   \n",
       "4  9237-HQITU  2019-09-01  2019-11-01 00:00:00  Month-to-month   \n",
       "5  9305-CDSKC  2019-03-01  2019-11-01 00:00:00  Month-to-month   \n",
       "6  1452-KIOVK  2018-04-01                   No  Month-to-month   \n",
       "7  6713-OKOMC  2019-04-01                   No  Month-to-month   \n",
       "8  7892-POOKP  2017-07-01  2019-11-01 00:00:00  Month-to-month   \n",
       "9  6388-TABGU  2014-12-01                   No        One year   \n",
       "\n",
       "  PaperlessBilling              PaymentMethod  MonthlyCharges TotalCharges  \n",
       "0              Yes           Electronic check           29.85        29.85  \n",
       "1               No               Mailed check           56.95       1889.5  \n",
       "2              Yes               Mailed check           53.85       108.15  \n",
       "3               No  Bank transfer (automatic)           42.30      1840.75  \n",
       "4              Yes           Electronic check           70.70       151.65  \n",
       "5              Yes           Electronic check           99.65        820.5  \n",
       "6              Yes    Credit card (automatic)           89.10       1949.4  \n",
       "7               No               Mailed check           29.75        301.9  \n",
       "8              Yes           Electronic check          104.80      3046.05  \n",
       "9               No  Bank transfer (automatic)           56.15      3487.95  "
      ]
     },
     "execution_count": 62,
     "metadata": {},
     "output_type": "execute_result"
    }
   ],
   "source": [
    "contract.head(10)  "
   ]
  },
  {
   "cell_type": "code",
   "execution_count": 63,
   "metadata": {
    "colab": {
     "base_uri": "https://localhost:8080/"
    },
    "id": "A4gF1YzaY8EC",
    "outputId": "67fd2b01-cef7-4afe-8222-246cb689a1a3",
    "scrolled": true
   },
   "outputs": [
    {
     "name": "stdout",
     "output_type": "stream",
     "text": [
      "<class 'pandas.core.frame.DataFrame'>\n",
      "RangeIndex: 7043 entries, 0 to 7042\n",
      "Data columns (total 8 columns):\n",
      " #   Column            Non-Null Count  Dtype  \n",
      "---  ------            --------------  -----  \n",
      " 0   customerID        7043 non-null   object \n",
      " 1   BeginDate         7043 non-null   object \n",
      " 2   EndDate           7043 non-null   object \n",
      " 3   Type              7043 non-null   object \n",
      " 4   PaperlessBilling  7043 non-null   object \n",
      " 5   PaymentMethod     7043 non-null   object \n",
      " 6   MonthlyCharges    7043 non-null   float64\n",
      " 7   TotalCharges      7043 non-null   object \n",
      "dtypes: float64(1), object(7)\n",
      "memory usage: 440.3+ KB\n"
     ]
    }
   ],
   "source": [
    "contract.info()"
   ]
  },
  {
   "cell_type": "markdown",
   "metadata": {
    "id": "_pFOoh2QY8EE"
   },
   "source": [
    "### Personal"
   ]
  },
  {
   "cell_type": "code",
   "execution_count": 64,
   "metadata": {
    "colab": {
     "base_uri": "https://localhost:8080/",
     "height": 0
    },
    "id": "gcR6NoiwY8EF",
    "outputId": "92acecb8-769b-4e55-f467-4e0a11fb4281",
    "scrolled": true
   },
   "outputs": [
    {
     "data": {
      "text/html": [
       "<div>\n",
       "<style scoped>\n",
       "    .dataframe tbody tr th:only-of-type {\n",
       "        vertical-align: middle;\n",
       "    }\n",
       "\n",
       "    .dataframe tbody tr th {\n",
       "        vertical-align: top;\n",
       "    }\n",
       "\n",
       "    .dataframe thead th {\n",
       "        text-align: right;\n",
       "    }\n",
       "</style>\n",
       "<table border=\"1\" class=\"dataframe\">\n",
       "  <thead>\n",
       "    <tr style=\"text-align: right;\">\n",
       "      <th></th>\n",
       "      <th>customerID</th>\n",
       "      <th>gender</th>\n",
       "      <th>SeniorCitizen</th>\n",
       "      <th>Partner</th>\n",
       "      <th>Dependents</th>\n",
       "    </tr>\n",
       "  </thead>\n",
       "  <tbody>\n",
       "    <tr>\n",
       "      <th>0</th>\n",
       "      <td>7590-VHVEG</td>\n",
       "      <td>Female</td>\n",
       "      <td>0</td>\n",
       "      <td>Yes</td>\n",
       "      <td>No</td>\n",
       "    </tr>\n",
       "    <tr>\n",
       "      <th>1</th>\n",
       "      <td>5575-GNVDE</td>\n",
       "      <td>Male</td>\n",
       "      <td>0</td>\n",
       "      <td>No</td>\n",
       "      <td>No</td>\n",
       "    </tr>\n",
       "    <tr>\n",
       "      <th>2</th>\n",
       "      <td>3668-QPYBK</td>\n",
       "      <td>Male</td>\n",
       "      <td>0</td>\n",
       "      <td>No</td>\n",
       "      <td>No</td>\n",
       "    </tr>\n",
       "    <tr>\n",
       "      <th>3</th>\n",
       "      <td>7795-CFOCW</td>\n",
       "      <td>Male</td>\n",
       "      <td>0</td>\n",
       "      <td>No</td>\n",
       "      <td>No</td>\n",
       "    </tr>\n",
       "    <tr>\n",
       "      <th>4</th>\n",
       "      <td>9237-HQITU</td>\n",
       "      <td>Female</td>\n",
       "      <td>0</td>\n",
       "      <td>No</td>\n",
       "      <td>No</td>\n",
       "    </tr>\n",
       "    <tr>\n",
       "      <th>5</th>\n",
       "      <td>9305-CDSKC</td>\n",
       "      <td>Female</td>\n",
       "      <td>0</td>\n",
       "      <td>No</td>\n",
       "      <td>No</td>\n",
       "    </tr>\n",
       "    <tr>\n",
       "      <th>6</th>\n",
       "      <td>1452-KIOVK</td>\n",
       "      <td>Male</td>\n",
       "      <td>0</td>\n",
       "      <td>No</td>\n",
       "      <td>Yes</td>\n",
       "    </tr>\n",
       "    <tr>\n",
       "      <th>7</th>\n",
       "      <td>6713-OKOMC</td>\n",
       "      <td>Female</td>\n",
       "      <td>0</td>\n",
       "      <td>No</td>\n",
       "      <td>No</td>\n",
       "    </tr>\n",
       "    <tr>\n",
       "      <th>8</th>\n",
       "      <td>7892-POOKP</td>\n",
       "      <td>Female</td>\n",
       "      <td>0</td>\n",
       "      <td>Yes</td>\n",
       "      <td>No</td>\n",
       "    </tr>\n",
       "    <tr>\n",
       "      <th>9</th>\n",
       "      <td>6388-TABGU</td>\n",
       "      <td>Male</td>\n",
       "      <td>0</td>\n",
       "      <td>No</td>\n",
       "      <td>Yes</td>\n",
       "    </tr>\n",
       "  </tbody>\n",
       "</table>\n",
       "</div>"
      ],
      "text/plain": [
       "   customerID  gender  SeniorCitizen Partner Dependents\n",
       "0  7590-VHVEG  Female              0     Yes         No\n",
       "1  5575-GNVDE    Male              0      No         No\n",
       "2  3668-QPYBK    Male              0      No         No\n",
       "3  7795-CFOCW    Male              0      No         No\n",
       "4  9237-HQITU  Female              0      No         No\n",
       "5  9305-CDSKC  Female              0      No         No\n",
       "6  1452-KIOVK    Male              0      No        Yes\n",
       "7  6713-OKOMC  Female              0      No         No\n",
       "8  7892-POOKP  Female              0     Yes         No\n",
       "9  6388-TABGU    Male              0      No        Yes"
      ]
     },
     "execution_count": 64,
     "metadata": {},
     "output_type": "execute_result"
    }
   ],
   "source": [
    "personal.head(10)"
   ]
  },
  {
   "cell_type": "code",
   "execution_count": 65,
   "metadata": {
    "colab": {
     "base_uri": "https://localhost:8080/"
    },
    "id": "YQ9HQH6sY8EH",
    "outputId": "4297b200-50df-4a93-d402-b7277b6805c2"
   },
   "outputs": [
    {
     "name": "stdout",
     "output_type": "stream",
     "text": [
      "<class 'pandas.core.frame.DataFrame'>\n",
      "RangeIndex: 7043 entries, 0 to 7042\n",
      "Data columns (total 5 columns):\n",
      " #   Column         Non-Null Count  Dtype \n",
      "---  ------         --------------  ----- \n",
      " 0   customerID     7043 non-null   object\n",
      " 1   gender         7043 non-null   object\n",
      " 2   SeniorCitizen  7043 non-null   int64 \n",
      " 3   Partner        7043 non-null   object\n",
      " 4   Dependents     7043 non-null   object\n",
      "dtypes: int64(1), object(4)\n",
      "memory usage: 275.2+ KB\n"
     ]
    }
   ],
   "source": [
    "personal.info()"
   ]
  },
  {
   "cell_type": "markdown",
   "metadata": {
    "id": "hqKfNFKWY8EI"
   },
   "source": [
    "### Internet"
   ]
  },
  {
   "cell_type": "code",
   "execution_count": 66,
   "metadata": {
    "colab": {
     "base_uri": "https://localhost:8080/",
     "height": 442
    },
    "id": "EmgOwlWcY8EJ",
    "outputId": "3379ba7c-5de8-4c45-9f27-95cdaa4ba528",
    "scrolled": true
   },
   "outputs": [
    {
     "data": {
      "text/html": [
       "<div>\n",
       "<style scoped>\n",
       "    .dataframe tbody tr th:only-of-type {\n",
       "        vertical-align: middle;\n",
       "    }\n",
       "\n",
       "    .dataframe tbody tr th {\n",
       "        vertical-align: top;\n",
       "    }\n",
       "\n",
       "    .dataframe thead th {\n",
       "        text-align: right;\n",
       "    }\n",
       "</style>\n",
       "<table border=\"1\" class=\"dataframe\">\n",
       "  <thead>\n",
       "    <tr style=\"text-align: right;\">\n",
       "      <th></th>\n",
       "      <th>customerID</th>\n",
       "      <th>InternetService</th>\n",
       "      <th>OnlineSecurity</th>\n",
       "      <th>OnlineBackup</th>\n",
       "      <th>DeviceProtection</th>\n",
       "      <th>TechSupport</th>\n",
       "      <th>StreamingTV</th>\n",
       "      <th>StreamingMovies</th>\n",
       "    </tr>\n",
       "  </thead>\n",
       "  <tbody>\n",
       "    <tr>\n",
       "      <th>0</th>\n",
       "      <td>7590-VHVEG</td>\n",
       "      <td>DSL</td>\n",
       "      <td>No</td>\n",
       "      <td>Yes</td>\n",
       "      <td>No</td>\n",
       "      <td>No</td>\n",
       "      <td>No</td>\n",
       "      <td>No</td>\n",
       "    </tr>\n",
       "    <tr>\n",
       "      <th>1</th>\n",
       "      <td>5575-GNVDE</td>\n",
       "      <td>DSL</td>\n",
       "      <td>Yes</td>\n",
       "      <td>No</td>\n",
       "      <td>Yes</td>\n",
       "      <td>No</td>\n",
       "      <td>No</td>\n",
       "      <td>No</td>\n",
       "    </tr>\n",
       "    <tr>\n",
       "      <th>2</th>\n",
       "      <td>3668-QPYBK</td>\n",
       "      <td>DSL</td>\n",
       "      <td>Yes</td>\n",
       "      <td>Yes</td>\n",
       "      <td>No</td>\n",
       "      <td>No</td>\n",
       "      <td>No</td>\n",
       "      <td>No</td>\n",
       "    </tr>\n",
       "    <tr>\n",
       "      <th>3</th>\n",
       "      <td>7795-CFOCW</td>\n",
       "      <td>DSL</td>\n",
       "      <td>Yes</td>\n",
       "      <td>No</td>\n",
       "      <td>Yes</td>\n",
       "      <td>Yes</td>\n",
       "      <td>No</td>\n",
       "      <td>No</td>\n",
       "    </tr>\n",
       "    <tr>\n",
       "      <th>4</th>\n",
       "      <td>9237-HQITU</td>\n",
       "      <td>Fiber optic</td>\n",
       "      <td>No</td>\n",
       "      <td>No</td>\n",
       "      <td>No</td>\n",
       "      <td>No</td>\n",
       "      <td>No</td>\n",
       "      <td>No</td>\n",
       "    </tr>\n",
       "    <tr>\n",
       "      <th>5</th>\n",
       "      <td>9305-CDSKC</td>\n",
       "      <td>Fiber optic</td>\n",
       "      <td>No</td>\n",
       "      <td>No</td>\n",
       "      <td>Yes</td>\n",
       "      <td>No</td>\n",
       "      <td>Yes</td>\n",
       "      <td>Yes</td>\n",
       "    </tr>\n",
       "    <tr>\n",
       "      <th>6</th>\n",
       "      <td>1452-KIOVK</td>\n",
       "      <td>Fiber optic</td>\n",
       "      <td>No</td>\n",
       "      <td>Yes</td>\n",
       "      <td>No</td>\n",
       "      <td>No</td>\n",
       "      <td>Yes</td>\n",
       "      <td>No</td>\n",
       "    </tr>\n",
       "    <tr>\n",
       "      <th>7</th>\n",
       "      <td>6713-OKOMC</td>\n",
       "      <td>DSL</td>\n",
       "      <td>Yes</td>\n",
       "      <td>No</td>\n",
       "      <td>No</td>\n",
       "      <td>No</td>\n",
       "      <td>No</td>\n",
       "      <td>No</td>\n",
       "    </tr>\n",
       "    <tr>\n",
       "      <th>8</th>\n",
       "      <td>7892-POOKP</td>\n",
       "      <td>Fiber optic</td>\n",
       "      <td>No</td>\n",
       "      <td>No</td>\n",
       "      <td>Yes</td>\n",
       "      <td>Yes</td>\n",
       "      <td>Yes</td>\n",
       "      <td>Yes</td>\n",
       "    </tr>\n",
       "    <tr>\n",
       "      <th>9</th>\n",
       "      <td>6388-TABGU</td>\n",
       "      <td>DSL</td>\n",
       "      <td>Yes</td>\n",
       "      <td>Yes</td>\n",
       "      <td>No</td>\n",
       "      <td>No</td>\n",
       "      <td>No</td>\n",
       "      <td>No</td>\n",
       "    </tr>\n",
       "  </tbody>\n",
       "</table>\n",
       "</div>"
      ],
      "text/plain": [
       "   customerID InternetService OnlineSecurity OnlineBackup DeviceProtection  \\\n",
       "0  7590-VHVEG             DSL             No          Yes               No   \n",
       "1  5575-GNVDE             DSL            Yes           No              Yes   \n",
       "2  3668-QPYBK             DSL            Yes          Yes               No   \n",
       "3  7795-CFOCW             DSL            Yes           No              Yes   \n",
       "4  9237-HQITU     Fiber optic             No           No               No   \n",
       "5  9305-CDSKC     Fiber optic             No           No              Yes   \n",
       "6  1452-KIOVK     Fiber optic             No          Yes               No   \n",
       "7  6713-OKOMC             DSL            Yes           No               No   \n",
       "8  7892-POOKP     Fiber optic             No           No              Yes   \n",
       "9  6388-TABGU             DSL            Yes          Yes               No   \n",
       "\n",
       "  TechSupport StreamingTV StreamingMovies  \n",
       "0          No          No              No  \n",
       "1          No          No              No  \n",
       "2          No          No              No  \n",
       "3         Yes          No              No  \n",
       "4          No          No              No  \n",
       "5          No         Yes             Yes  \n",
       "6          No         Yes              No  \n",
       "7          No          No              No  \n",
       "8         Yes         Yes             Yes  \n",
       "9          No          No              No  "
      ]
     },
     "execution_count": 66,
     "metadata": {},
     "output_type": "execute_result"
    }
   ],
   "source": [
    "internet.head(10)"
   ]
  },
  {
   "cell_type": "code",
   "execution_count": 67,
   "metadata": {
    "colab": {
     "base_uri": "https://localhost:8080/"
    },
    "id": "MeZCxu13Y8EL",
    "outputId": "c9bfacb2-4418-43c8-b17d-86b73ad4a60a",
    "scrolled": true
   },
   "outputs": [
    {
     "name": "stdout",
     "output_type": "stream",
     "text": [
      "<class 'pandas.core.frame.DataFrame'>\n",
      "RangeIndex: 5517 entries, 0 to 5516\n",
      "Data columns (total 8 columns):\n",
      " #   Column            Non-Null Count  Dtype \n",
      "---  ------            --------------  ----- \n",
      " 0   customerID        5517 non-null   object\n",
      " 1   InternetService   5517 non-null   object\n",
      " 2   OnlineSecurity    5517 non-null   object\n",
      " 3   OnlineBackup      5517 non-null   object\n",
      " 4   DeviceProtection  5517 non-null   object\n",
      " 5   TechSupport       5517 non-null   object\n",
      " 6   StreamingTV       5517 non-null   object\n",
      " 7   StreamingMovies   5517 non-null   object\n",
      "dtypes: object(8)\n",
      "memory usage: 344.9+ KB\n"
     ]
    }
   ],
   "source": [
    "internet.info()"
   ]
  },
  {
   "cell_type": "code",
   "execution_count": 68,
   "metadata": {
    "colab": {
     "base_uri": "https://localhost:8080/"
    },
    "id": "hm-y-yWDY8EM",
    "outputId": "f266f364-0bdc-48ff-a80e-964ddb83bc6b"
   },
   "outputs": [
    {
     "data": {
      "text/plain": [
       "Fiber optic    3096\n",
       "DSL            2421\n",
       "Name: InternetService, dtype: int64"
      ]
     },
     "execution_count": 68,
     "metadata": {},
     "output_type": "execute_result"
    }
   ],
   "source": [
    "internet['InternetService'].value_counts()"
   ]
  },
  {
   "cell_type": "markdown",
   "metadata": {
    "id": "X-KetPD2Y8EN"
   },
   "source": [
    "### Phone"
   ]
  },
  {
   "cell_type": "code",
   "execution_count": 69,
   "metadata": {
    "colab": {
     "base_uri": "https://localhost:8080/",
     "height": 0
    },
    "id": "9dUy_IDBY8EN",
    "outputId": "2b13202a-c494-4c95-a832-7f31cdde5ebf"
   },
   "outputs": [
    {
     "data": {
      "text/html": [
       "<div>\n",
       "<style scoped>\n",
       "    .dataframe tbody tr th:only-of-type {\n",
       "        vertical-align: middle;\n",
       "    }\n",
       "\n",
       "    .dataframe tbody tr th {\n",
       "        vertical-align: top;\n",
       "    }\n",
       "\n",
       "    .dataframe thead th {\n",
       "        text-align: right;\n",
       "    }\n",
       "</style>\n",
       "<table border=\"1\" class=\"dataframe\">\n",
       "  <thead>\n",
       "    <tr style=\"text-align: right;\">\n",
       "      <th></th>\n",
       "      <th>customerID</th>\n",
       "      <th>MultipleLines</th>\n",
       "    </tr>\n",
       "  </thead>\n",
       "  <tbody>\n",
       "    <tr>\n",
       "      <th>0</th>\n",
       "      <td>5575-GNVDE</td>\n",
       "      <td>No</td>\n",
       "    </tr>\n",
       "    <tr>\n",
       "      <th>1</th>\n",
       "      <td>3668-QPYBK</td>\n",
       "      <td>No</td>\n",
       "    </tr>\n",
       "    <tr>\n",
       "      <th>2</th>\n",
       "      <td>9237-HQITU</td>\n",
       "      <td>No</td>\n",
       "    </tr>\n",
       "    <tr>\n",
       "      <th>3</th>\n",
       "      <td>9305-CDSKC</td>\n",
       "      <td>Yes</td>\n",
       "    </tr>\n",
       "    <tr>\n",
       "      <th>4</th>\n",
       "      <td>1452-KIOVK</td>\n",
       "      <td>Yes</td>\n",
       "    </tr>\n",
       "  </tbody>\n",
       "</table>\n",
       "</div>"
      ],
      "text/plain": [
       "   customerID MultipleLines\n",
       "0  5575-GNVDE            No\n",
       "1  3668-QPYBK            No\n",
       "2  9237-HQITU            No\n",
       "3  9305-CDSKC           Yes\n",
       "4  1452-KIOVK           Yes"
      ]
     },
     "execution_count": 69,
     "metadata": {},
     "output_type": "execute_result"
    }
   ],
   "source": [
    "phone.head()"
   ]
  },
  {
   "cell_type": "code",
   "execution_count": 70,
   "metadata": {
    "colab": {
     "base_uri": "https://localhost:8080/"
    },
    "id": "pVqFqLK5Y8EP",
    "outputId": "40f70349-91f1-4760-99b3-41b98dcad0a8"
   },
   "outputs": [
    {
     "name": "stdout",
     "output_type": "stream",
     "text": [
      "<class 'pandas.core.frame.DataFrame'>\n",
      "RangeIndex: 6361 entries, 0 to 6360\n",
      "Data columns (total 2 columns):\n",
      " #   Column         Non-Null Count  Dtype \n",
      "---  ------         --------------  ----- \n",
      " 0   customerID     6361 non-null   object\n",
      " 1   MultipleLines  6361 non-null   object\n",
      "dtypes: object(2)\n",
      "memory usage: 99.5+ KB\n"
     ]
    }
   ],
   "source": [
    "phone.info()"
   ]
  },
  {
   "cell_type": "code",
   "execution_count": 71,
   "metadata": {
    "colab": {
     "base_uri": "https://localhost:8080/"
    },
    "id": "JuR2KgPDY8ER",
    "outputId": "57abafca-7c29-4267-a457-de348cee1fdd"
   },
   "outputs": [
    {
     "data": {
      "text/plain": [
       "No     3390\n",
       "Yes    2971\n",
       "Name: MultipleLines, dtype: int64"
      ]
     },
     "execution_count": 71,
     "metadata": {},
     "output_type": "execute_result"
    }
   ],
   "source": [
    "phone['MultipleLines'].value_counts()"
   ]
  },
  {
   "cell_type": "markdown",
   "metadata": {
    "id": "Z76i6qo1Y8ES"
   },
   "source": [
    "### Выводы"
   ]
  },
  {
   "cell_type": "markdown",
   "metadata": {
    "id": "_HNngz_JY8EU"
   },
   "source": [
    "- данные успешно загружены\n",
    "- Пропусков в данных не обнаружено\n",
    "- У некоторых признаков нужно изменить тип данных"
   ]
  },
  {
   "cell_type": "markdown",
   "metadata": {
    "id": "nFxz8TePY8EV"
   },
   "source": [
    "<div class=\"alert alert-success\">\n",
    "<b>**Комментарий тимлида ✔️:**</b>\n",
    "    \n",
    "Отлично, с данными ознакомился и убедился что как минимум представленные данные содержат какую-то информацию (не пустые и не откровенный мусор). С ними можно начинать работать более серезьно - проводить полноценный исследовательский анализ и выявлять возможные проблемы в данных.\n",
    "</div>"
   ]
  },
  {
   "cell_type": "markdown",
   "metadata": {
    "id": "Z7i3JigJY8EV"
   },
   "source": [
    "## Предобработка"
   ]
  },
  {
   "cell_type": "markdown",
   "metadata": {
    "id": "Yx16XQW9Y8EX"
   },
   "source": [
    "### Contract"
   ]
  },
  {
   "cell_type": "code",
   "execution_count": 72,
   "metadata": {
    "colab": {
     "base_uri": "https://localhost:8080/",
     "height": 337
    },
    "id": "ML_uHr5eY8EY",
    "outputId": "20edcb05-4524-48c6-96c4-861e1d2d050c",
    "scrolled": true
   },
   "outputs": [
    {
     "data": {
      "text/html": [
       "<div>\n",
       "<style scoped>\n",
       "    .dataframe tbody tr th:only-of-type {\n",
       "        vertical-align: middle;\n",
       "    }\n",
       "\n",
       "    .dataframe tbody tr th {\n",
       "        vertical-align: top;\n",
       "    }\n",
       "\n",
       "    .dataframe thead th {\n",
       "        text-align: right;\n",
       "    }\n",
       "</style>\n",
       "<table border=\"1\" class=\"dataframe\">\n",
       "  <thead>\n",
       "    <tr style=\"text-align: right;\">\n",
       "      <th></th>\n",
       "      <th>customerID</th>\n",
       "      <th>BeginDate</th>\n",
       "      <th>EndDate</th>\n",
       "      <th>Type</th>\n",
       "      <th>PaperlessBilling</th>\n",
       "      <th>PaymentMethod</th>\n",
       "      <th>MonthlyCharges</th>\n",
       "      <th>TotalCharges</th>\n",
       "    </tr>\n",
       "  </thead>\n",
       "  <tbody>\n",
       "    <tr>\n",
       "      <th>0</th>\n",
       "      <td>7590-VHVEG</td>\n",
       "      <td>2020-01-01</td>\n",
       "      <td>No</td>\n",
       "      <td>Month-to-month</td>\n",
       "      <td>Yes</td>\n",
       "      <td>Electronic check</td>\n",
       "      <td>29.85</td>\n",
       "      <td>29.85</td>\n",
       "    </tr>\n",
       "    <tr>\n",
       "      <th>1</th>\n",
       "      <td>5575-GNVDE</td>\n",
       "      <td>2017-04-01</td>\n",
       "      <td>No</td>\n",
       "      <td>One year</td>\n",
       "      <td>No</td>\n",
       "      <td>Mailed check</td>\n",
       "      <td>56.95</td>\n",
       "      <td>1889.5</td>\n",
       "    </tr>\n",
       "    <tr>\n",
       "      <th>2</th>\n",
       "      <td>3668-QPYBK</td>\n",
       "      <td>2019-10-01</td>\n",
       "      <td>2019-12-01 00:00:00</td>\n",
       "      <td>Month-to-month</td>\n",
       "      <td>Yes</td>\n",
       "      <td>Mailed check</td>\n",
       "      <td>53.85</td>\n",
       "      <td>108.15</td>\n",
       "    </tr>\n",
       "    <tr>\n",
       "      <th>3</th>\n",
       "      <td>7795-CFOCW</td>\n",
       "      <td>2016-05-01</td>\n",
       "      <td>No</td>\n",
       "      <td>One year</td>\n",
       "      <td>No</td>\n",
       "      <td>Bank transfer (automatic)</td>\n",
       "      <td>42.30</td>\n",
       "      <td>1840.75</td>\n",
       "    </tr>\n",
       "    <tr>\n",
       "      <th>4</th>\n",
       "      <td>9237-HQITU</td>\n",
       "      <td>2019-09-01</td>\n",
       "      <td>2019-11-01 00:00:00</td>\n",
       "      <td>Month-to-month</td>\n",
       "      <td>Yes</td>\n",
       "      <td>Electronic check</td>\n",
       "      <td>70.70</td>\n",
       "      <td>151.65</td>\n",
       "    </tr>\n",
       "  </tbody>\n",
       "</table>\n",
       "</div>"
      ],
      "text/plain": [
       "   customerID   BeginDate              EndDate            Type  \\\n",
       "0  7590-VHVEG  2020-01-01                   No  Month-to-month   \n",
       "1  5575-GNVDE  2017-04-01                   No        One year   \n",
       "2  3668-QPYBK  2019-10-01  2019-12-01 00:00:00  Month-to-month   \n",
       "3  7795-CFOCW  2016-05-01                   No        One year   \n",
       "4  9237-HQITU  2019-09-01  2019-11-01 00:00:00  Month-to-month   \n",
       "\n",
       "  PaperlessBilling              PaymentMethod  MonthlyCharges TotalCharges  \n",
       "0              Yes           Electronic check           29.85        29.85  \n",
       "1               No               Mailed check           56.95       1889.5  \n",
       "2              Yes               Mailed check           53.85       108.15  \n",
       "3               No  Bank transfer (automatic)           42.30      1840.75  \n",
       "4              Yes           Electronic check           70.70       151.65  "
      ]
     },
     "execution_count": 72,
     "metadata": {},
     "output_type": "execute_result"
    }
   ],
   "source": [
    "contract.head()"
   ]
  },
  {
   "cell_type": "code",
   "execution_count": 73,
   "metadata": {
    "id": "tgDPenU7Y8EY",
    "scrolled": true
   },
   "outputs": [],
   "source": [
    "contract['BeginDate'] = pd.to_datetime(contract['BeginDate'], format='%Y.%m.%d')\n"
   ]
  },
  {
   "cell_type": "markdown",
   "metadata": {
    "id": "tuyKcIMgY8EZ",
    "scrolled": false
   },
   "source": [
    "<div class=\"alert alert-success\">\n",
    "<b>**Комментарий тимлида ✔️:**</b>\n",
    "\n",
    "Ок, есть приведение к правильному типу. \n",
    "</div>"
   ]
  },
  {
   "cell_type": "code",
   "execution_count": 74,
   "metadata": {
    "colab": {
     "base_uri": "https://localhost:8080/"
    },
    "id": "UhBH-KDDY8Ea",
    "outputId": "d9bbbce8-433a-458e-e6f0-6a98ca99e4ef",
    "scrolled": false
   },
   "outputs": [
    {
     "data": {
      "text/plain": [
       "Month-to-month    3875\n",
       "Two year          1695\n",
       "One year          1473\n",
       "Name: Type, dtype: int64"
      ]
     },
     "execution_count": 74,
     "metadata": {},
     "output_type": "execute_result"
    }
   ],
   "source": [
    "contract['Type'].value_counts()"
   ]
  },
  {
   "cell_type": "code",
   "execution_count": 75,
   "metadata": {
    "colab": {
     "base_uri": "https://localhost:8080/"
    },
    "id": "2_ARXeC-Y8Eb",
    "outputId": "4d9c0b23-c849-4b67-c1e9-7efe7c023ccd",
    "scrolled": true
   },
   "outputs": [
    {
     "data": {
      "text/plain": [
       "Electronic check             2365\n",
       "Mailed check                 1612\n",
       "Bank transfer (automatic)    1544\n",
       "Credit card (automatic)      1522\n",
       "Name: PaymentMethod, dtype: int64"
      ]
     },
     "execution_count": 75,
     "metadata": {},
     "output_type": "execute_result"
    }
   ],
   "source": [
    "contract['PaymentMethod'].value_counts()"
   ]
  },
  {
   "cell_type": "code",
   "execution_count": 76,
   "metadata": {
    "colab": {
     "base_uri": "https://localhost:8080/"
    },
    "id": "jcHOxiGBY8Ec",
    "outputId": "9c6dad65-e749-47ec-a431-081c8e38fbff",
    "scrolled": true
   },
   "outputs": [
    {
     "data": {
      "text/plain": [
       "Yes    4171\n",
       "No     2872\n",
       "Name: PaperlessBilling, dtype: int64"
      ]
     },
     "execution_count": 76,
     "metadata": {},
     "output_type": "execute_result"
    }
   ],
   "source": [
    "contract['PaperlessBilling'].value_counts() "
   ]
  },
  {
   "cell_type": "code",
   "execution_count": 77,
   "metadata": {
    "colab": {
     "base_uri": "https://localhost:8080/",
     "height": 282
    },
    "id": "ToIsyErKY8Ed",
    "outputId": "f9bab14f-4237-4404-9f6c-fb6b9ccd2710",
    "scrolled": true
   },
   "outputs": [
    {
     "data": {
      "text/plain": [
       "<AxesSubplot:>"
      ]
     },
     "execution_count": 77,
     "metadata": {},
     "output_type": "execute_result"
    },
    {
     "data": {
      "image/png": "[encoded data removed]",
      "text/plain": [
       "<Figure size 432x288 with 1 Axes>"
      ]
     },
     "metadata": {
      "needs_background": "light"
     },
     "output_type": "display_data"
    }
   ],
   "source": [
    "sns.boxplot(data=contract['MonthlyCharges']) "
   ]
  },
  {
   "cell_type": "code",
   "execution_count": 78,
   "metadata": {
    "colab": {
     "base_uri": "https://localhost:8080/"
    },
    "id": "9dvXq_1aY8Ee",
    "outputId": "3788996c-fd3a-4545-df44-38d68bbf0ae0",
    "scrolled": true
   },
   "outputs": [
    {
     "data": {
      "text/plain": [
       "count    7043.000000\n",
       "mean       64.761692\n",
       "std        30.090047\n",
       "min        18.250000\n",
       "25%        35.500000\n",
       "50%        70.350000\n",
       "75%        89.850000\n",
       "max       118.750000\n",
       "Name: MonthlyCharges, dtype: float64"
      ]
     },
     "execution_count": 78,
     "metadata": {},
     "output_type": "execute_result"
    }
   ],
   "source": [
    "contract['MonthlyCharges'].describe()"
   ]
  },
  {
   "cell_type": "code",
   "execution_count": 79,
   "metadata": {
    "colab": {
     "base_uri": "https://localhost:8080/"
    },
    "id": "uKYw456wY8Ef",
    "outputId": "666ecdbc-a73c-458d-bce7-1de84cab5e9e"
   },
   "outputs": [
    {
     "data": {
      "text/plain": [
       "20.2       11\n",
       "           11\n",
       "19.75       9\n",
       "19.65       8\n",
       "20.05       8\n",
       "           ..\n",
       "5706.2      1\n",
       "6094.25     1\n",
       "5655.45     1\n",
       "75.9        1\n",
       "3624.35     1\n",
       "Name: TotalCharges, Length: 6531, dtype: int64"
      ]
     },
     "execution_count": 79,
     "metadata": {},
     "output_type": "execute_result"
    }
   ],
   "source": [
    "contract['TotalCharges'].value_counts()"
   ]
  },
  {
   "cell_type": "code",
   "execution_count": 80,
   "metadata": {
    "colab": {
     "base_uri": "https://localhost:8080/",
     "height": 438
    },
    "id": "c7RsqqohY8Eg",
    "outputId": "8bf43a59-92d9-4e5c-fcda-4d71975e2d0d",
    "scrolled": true
   },
   "outputs": [
    {
     "data": {
      "text/html": [
       "<div>\n",
       "<style scoped>\n",
       "    .dataframe tbody tr th:only-of-type {\n",
       "        vertical-align: middle;\n",
       "    }\n",
       "\n",
       "    .dataframe tbody tr th {\n",
       "        vertical-align: top;\n",
       "    }\n",
       "\n",
       "    .dataframe thead th {\n",
       "        text-align: right;\n",
       "    }\n",
       "</style>\n",
       "<table border=\"1\" class=\"dataframe\">\n",
       "  <thead>\n",
       "    <tr style=\"text-align: right;\">\n",
       "      <th></th>\n",
       "      <th>customerID</th>\n",
       "      <th>BeginDate</th>\n",
       "      <th>EndDate</th>\n",
       "      <th>Type</th>\n",
       "      <th>PaperlessBilling</th>\n",
       "      <th>PaymentMethod</th>\n",
       "      <th>MonthlyCharges</th>\n",
       "      <th>TotalCharges</th>\n",
       "    </tr>\n",
       "  </thead>\n",
       "  <tbody>\n",
       "    <tr>\n",
       "      <th>488</th>\n",
       "      <td>4472-LVYGI</td>\n",
       "      <td>2020-02-01</td>\n",
       "      <td>No</td>\n",
       "      <td>Two year</td>\n",
       "      <td>Yes</td>\n",
       "      <td>Bank transfer (automatic)</td>\n",
       "      <td>52.55</td>\n",
       "      <td></td>\n",
       "    </tr>\n",
       "    <tr>\n",
       "      <th>753</th>\n",
       "      <td>3115-CZMZD</td>\n",
       "      <td>2020-02-01</td>\n",
       "      <td>No</td>\n",
       "      <td>Two year</td>\n",
       "      <td>No</td>\n",
       "      <td>Mailed check</td>\n",
       "      <td>20.25</td>\n",
       "      <td></td>\n",
       "    </tr>\n",
       "    <tr>\n",
       "      <th>936</th>\n",
       "      <td>5709-LVOEQ</td>\n",
       "      <td>2020-02-01</td>\n",
       "      <td>No</td>\n",
       "      <td>Two year</td>\n",
       "      <td>No</td>\n",
       "      <td>Mailed check</td>\n",
       "      <td>80.85</td>\n",
       "      <td></td>\n",
       "    </tr>\n",
       "    <tr>\n",
       "      <th>1082</th>\n",
       "      <td>4367-NUYAO</td>\n",
       "      <td>2020-02-01</td>\n",
       "      <td>No</td>\n",
       "      <td>Two year</td>\n",
       "      <td>No</td>\n",
       "      <td>Mailed check</td>\n",
       "      <td>25.75</td>\n",
       "      <td></td>\n",
       "    </tr>\n",
       "    <tr>\n",
       "      <th>1340</th>\n",
       "      <td>1371-DWPAZ</td>\n",
       "      <td>2020-02-01</td>\n",
       "      <td>No</td>\n",
       "      <td>Two year</td>\n",
       "      <td>No</td>\n",
       "      <td>Credit card (automatic)</td>\n",
       "      <td>56.05</td>\n",
       "      <td></td>\n",
       "    </tr>\n",
       "    <tr>\n",
       "      <th>3331</th>\n",
       "      <td>7644-OMVMY</td>\n",
       "      <td>2020-02-01</td>\n",
       "      <td>No</td>\n",
       "      <td>Two year</td>\n",
       "      <td>No</td>\n",
       "      <td>Mailed check</td>\n",
       "      <td>19.85</td>\n",
       "      <td></td>\n",
       "    </tr>\n",
       "    <tr>\n",
       "      <th>3826</th>\n",
       "      <td>3213-VVOLG</td>\n",
       "      <td>2020-02-01</td>\n",
       "      <td>No</td>\n",
       "      <td>Two year</td>\n",
       "      <td>No</td>\n",
       "      <td>Mailed check</td>\n",
       "      <td>25.35</td>\n",
       "      <td></td>\n",
       "    </tr>\n",
       "    <tr>\n",
       "      <th>4380</th>\n",
       "      <td>2520-SGTTA</td>\n",
       "      <td>2020-02-01</td>\n",
       "      <td>No</td>\n",
       "      <td>Two year</td>\n",
       "      <td>No</td>\n",
       "      <td>Mailed check</td>\n",
       "      <td>20.00</td>\n",
       "      <td></td>\n",
       "    </tr>\n",
       "    <tr>\n",
       "      <th>5218</th>\n",
       "      <td>2923-ARZLG</td>\n",
       "      <td>2020-02-01</td>\n",
       "      <td>No</td>\n",
       "      <td>One year</td>\n",
       "      <td>Yes</td>\n",
       "      <td>Mailed check</td>\n",
       "      <td>19.70</td>\n",
       "      <td></td>\n",
       "    </tr>\n",
       "    <tr>\n",
       "      <th>6670</th>\n",
       "      <td>4075-WKNIU</td>\n",
       "      <td>2020-02-01</td>\n",
       "      <td>No</td>\n",
       "      <td>Two year</td>\n",
       "      <td>No</td>\n",
       "      <td>Mailed check</td>\n",
       "      <td>73.35</td>\n",
       "      <td></td>\n",
       "    </tr>\n",
       "    <tr>\n",
       "      <th>6754</th>\n",
       "      <td>2775-SEFEE</td>\n",
       "      <td>2020-02-01</td>\n",
       "      <td>No</td>\n",
       "      <td>Two year</td>\n",
       "      <td>Yes</td>\n",
       "      <td>Bank transfer (automatic)</td>\n",
       "      <td>61.90</td>\n",
       "      <td></td>\n",
       "    </tr>\n",
       "  </tbody>\n",
       "</table>\n",
       "</div>"
      ],
      "text/plain": [
       "      customerID  BeginDate EndDate      Type PaperlessBilling  \\\n",
       "488   4472-LVYGI 2020-02-01      No  Two year              Yes   \n",
       "753   3115-CZMZD 2020-02-01      No  Two year               No   \n",
       "936   5709-LVOEQ 2020-02-01      No  Two year               No   \n",
       "1082  4367-NUYAO 2020-02-01      No  Two year               No   \n",
       "1340  1371-DWPAZ 2020-02-01      No  Two year               No   \n",
       "3331  7644-OMVMY 2020-02-01      No  Two year               No   \n",
       "3826  3213-VVOLG 2020-02-01      No  Two year               No   \n",
       "4380  2520-SGTTA 2020-02-01      No  Two year               No   \n",
       "5218  2923-ARZLG 2020-02-01      No  One year              Yes   \n",
       "6670  4075-WKNIU 2020-02-01      No  Two year               No   \n",
       "6754  2775-SEFEE 2020-02-01      No  Two year              Yes   \n",
       "\n",
       "                  PaymentMethod  MonthlyCharges TotalCharges  \n",
       "488   Bank transfer (automatic)           52.55               \n",
       "753                Mailed check           20.25               \n",
       "936                Mailed check           80.85               \n",
       "1082               Mailed check           25.75               \n",
       "1340    Credit card (automatic)           56.05               \n",
       "3331               Mailed check           19.85               \n",
       "3826               Mailed check           25.35               \n",
       "4380               Mailed check           20.00               \n",
       "5218               Mailed check           19.70               \n",
       "6670               Mailed check           73.35               \n",
       "6754  Bank transfer (automatic)           61.90               "
      ]
     },
     "execution_count": 80,
     "metadata": {},
     "output_type": "execute_result"
    }
   ],
   "source": [
    "contract[contract['TotalCharges']==' ']"
   ]
  },
  {
   "cell_type": "markdown",
   "metadata": {
    "id": "8PJvBfyzzoFI"
   },
   "source": [
    "По данным видно, что пропуски в общей сумме трат у пользователей, подключившихся в последний месяц выгрузкии. Заменим пропуски на значения в столбце \"MonthlyCharges\".\n"
   ]
  },
  {
   "cell_type": "code",
   "execution_count": 81,
   "metadata": {
    "id": "ENl33Rhbznxk"
   },
   "outputs": [],
   "source": [
    "a = list(contract[contract['TotalCharges']==' '].index)\n",
    "for i in a:\n",
    "  contract.loc[i, 'TotalCharges'] = contract.loc[i, 'MonthlyCharges'].copy()"
   ]
  },
  {
   "cell_type": "code",
   "execution_count": 82,
   "metadata": {
    "colab": {
     "base_uri": "https://localhost:8080/",
     "height": 438
    },
    "id": "jZq92h5PY8Eh",
    "outputId": "a2952639-1519-4286-ca6a-b0727f9d5d78"
   },
   "outputs": [
    {
     "data": {
      "text/html": [
       "<div>\n",
       "<style scoped>\n",
       "    .dataframe tbody tr th:only-of-type {\n",
       "        vertical-align: middle;\n",
       "    }\n",
       "\n",
       "    .dataframe tbody tr th {\n",
       "        vertical-align: top;\n",
       "    }\n",
       "\n",
       "    .dataframe thead th {\n",
       "        text-align: right;\n",
       "    }\n",
       "</style>\n",
       "<table border=\"1\" class=\"dataframe\">\n",
       "  <thead>\n",
       "    <tr style=\"text-align: right;\">\n",
       "      <th></th>\n",
       "      <th>customerID</th>\n",
       "      <th>BeginDate</th>\n",
       "      <th>EndDate</th>\n",
       "      <th>Type</th>\n",
       "      <th>PaperlessBilling</th>\n",
       "      <th>PaymentMethod</th>\n",
       "      <th>MonthlyCharges</th>\n",
       "      <th>TotalCharges</th>\n",
       "    </tr>\n",
       "  </thead>\n",
       "  <tbody>\n",
       "    <tr>\n",
       "      <th>488</th>\n",
       "      <td>4472-LVYGI</td>\n",
       "      <td>2020-02-01</td>\n",
       "      <td>No</td>\n",
       "      <td>Two year</td>\n",
       "      <td>Yes</td>\n",
       "      <td>Bank transfer (automatic)</td>\n",
       "      <td>52.55</td>\n",
       "      <td>52.55</td>\n",
       "    </tr>\n",
       "    <tr>\n",
       "      <th>753</th>\n",
       "      <td>3115-CZMZD</td>\n",
       "      <td>2020-02-01</td>\n",
       "      <td>No</td>\n",
       "      <td>Two year</td>\n",
       "      <td>No</td>\n",
       "      <td>Mailed check</td>\n",
       "      <td>20.25</td>\n",
       "      <td>20.25</td>\n",
       "    </tr>\n",
       "    <tr>\n",
       "      <th>936</th>\n",
       "      <td>5709-LVOEQ</td>\n",
       "      <td>2020-02-01</td>\n",
       "      <td>No</td>\n",
       "      <td>Two year</td>\n",
       "      <td>No</td>\n",
       "      <td>Mailed check</td>\n",
       "      <td>80.85</td>\n",
       "      <td>80.85</td>\n",
       "    </tr>\n",
       "    <tr>\n",
       "      <th>1082</th>\n",
       "      <td>4367-NUYAO</td>\n",
       "      <td>2020-02-01</td>\n",
       "      <td>No</td>\n",
       "      <td>Two year</td>\n",
       "      <td>No</td>\n",
       "      <td>Mailed check</td>\n",
       "      <td>25.75</td>\n",
       "      <td>25.75</td>\n",
       "    </tr>\n",
       "    <tr>\n",
       "      <th>1340</th>\n",
       "      <td>1371-DWPAZ</td>\n",
       "      <td>2020-02-01</td>\n",
       "      <td>No</td>\n",
       "      <td>Two year</td>\n",
       "      <td>No</td>\n",
       "      <td>Credit card (automatic)</td>\n",
       "      <td>56.05</td>\n",
       "      <td>56.05</td>\n",
       "    </tr>\n",
       "    <tr>\n",
       "      <th>3331</th>\n",
       "      <td>7644-OMVMY</td>\n",
       "      <td>2020-02-01</td>\n",
       "      <td>No</td>\n",
       "      <td>Two year</td>\n",
       "      <td>No</td>\n",
       "      <td>Mailed check</td>\n",
       "      <td>19.85</td>\n",
       "      <td>19.85</td>\n",
       "    </tr>\n",
       "    <tr>\n",
       "      <th>3826</th>\n",
       "      <td>3213-VVOLG</td>\n",
       "      <td>2020-02-01</td>\n",
       "      <td>No</td>\n",
       "      <td>Two year</td>\n",
       "      <td>No</td>\n",
       "      <td>Mailed check</td>\n",
       "      <td>25.35</td>\n",
       "      <td>25.35</td>\n",
       "    </tr>\n",
       "    <tr>\n",
       "      <th>4380</th>\n",
       "      <td>2520-SGTTA</td>\n",
       "      <td>2020-02-01</td>\n",
       "      <td>No</td>\n",
       "      <td>Two year</td>\n",
       "      <td>No</td>\n",
       "      <td>Mailed check</td>\n",
       "      <td>20.00</td>\n",
       "      <td>20.0</td>\n",
       "    </tr>\n",
       "    <tr>\n",
       "      <th>5218</th>\n",
       "      <td>2923-ARZLG</td>\n",
       "      <td>2020-02-01</td>\n",
       "      <td>No</td>\n",
       "      <td>One year</td>\n",
       "      <td>Yes</td>\n",
       "      <td>Mailed check</td>\n",
       "      <td>19.70</td>\n",
       "      <td>19.7</td>\n",
       "    </tr>\n",
       "    <tr>\n",
       "      <th>6670</th>\n",
       "      <td>4075-WKNIU</td>\n",
       "      <td>2020-02-01</td>\n",
       "      <td>No</td>\n",
       "      <td>Two year</td>\n",
       "      <td>No</td>\n",
       "      <td>Mailed check</td>\n",
       "      <td>73.35</td>\n",
       "      <td>73.35</td>\n",
       "    </tr>\n",
       "    <tr>\n",
       "      <th>6754</th>\n",
       "      <td>2775-SEFEE</td>\n",
       "      <td>2020-02-01</td>\n",
       "      <td>No</td>\n",
       "      <td>Two year</td>\n",
       "      <td>Yes</td>\n",
       "      <td>Bank transfer (automatic)</td>\n",
       "      <td>61.90</td>\n",
       "      <td>61.9</td>\n",
       "    </tr>\n",
       "  </tbody>\n",
       "</table>\n",
       "</div>"
      ],
      "text/plain": [
       "      customerID  BeginDate EndDate      Type PaperlessBilling  \\\n",
       "488   4472-LVYGI 2020-02-01      No  Two year              Yes   \n",
       "753   3115-CZMZD 2020-02-01      No  Two year               No   \n",
       "936   5709-LVOEQ 2020-02-01      No  Two year               No   \n",
       "1082  4367-NUYAO 2020-02-01      No  Two year               No   \n",
       "1340  1371-DWPAZ 2020-02-01      No  Two year               No   \n",
       "3331  7644-OMVMY 2020-02-01      No  Two year               No   \n",
       "3826  3213-VVOLG 2020-02-01      No  Two year               No   \n",
       "4380  2520-SGTTA 2020-02-01      No  Two year               No   \n",
       "5218  2923-ARZLG 2020-02-01      No  One year              Yes   \n",
       "6670  4075-WKNIU 2020-02-01      No  Two year               No   \n",
       "6754  2775-SEFEE 2020-02-01      No  Two year              Yes   \n",
       "\n",
       "                  PaymentMethod  MonthlyCharges TotalCharges  \n",
       "488   Bank transfer (automatic)           52.55        52.55  \n",
       "753                Mailed check           20.25        20.25  \n",
       "936                Mailed check           80.85        80.85  \n",
       "1082               Mailed check           25.75        25.75  \n",
       "1340    Credit card (automatic)           56.05        56.05  \n",
       "3331               Mailed check           19.85        19.85  \n",
       "3826               Mailed check           25.35        25.35  \n",
       "4380               Mailed check           20.00         20.0  \n",
       "5218               Mailed check           19.70         19.7  \n",
       "6670               Mailed check           73.35        73.35  \n",
       "6754  Bank transfer (automatic)           61.90         61.9  "
      ]
     },
     "execution_count": 82,
     "metadata": {},
     "output_type": "execute_result"
    }
   ],
   "source": [
    "contract.loc[a]"
   ]
  },
  {
   "cell_type": "markdown",
   "metadata": {
    "id": "HvdcM-FnY8El"
   },
   "source": [
    "<div class=\"alert alert-warning\">\n",
    "<b>**Комментарий тимлида ⚠️:**</b>\n",
    "\n",
    "Ок, решил просто удалить данные с пропусками. Допустимо, но лучше попытаться разобраться, что это заданные и почему в них пропуски.\n",
    "</div>"
   ]
  },
  {
   "cell_type": "markdown",
   "metadata": {
    "id": "o8DCJqGBY8Em"
   },
   "source": [
    "<div class=\"alert alert-info\"> <b>Комментарий студента:</b> Пытался успеть ко времени сдать, но не мог вспонить нужные функции. Дальше заменю значения, а не удалю, на значения в столбце \"MonthlyCharges\" </div>"
   ]
  },
  {
   "cell_type": "markdown",
   "metadata": {
    "id": "7Lks-gXOY8Em"
   },
   "source": [
    "<div class=\"alert alert-success\">\n",
    "<b>**Комментарий тимлида_v2 ✔️:**</b>\n",
    "\n",
    "Вариант с удалением тоже допустим. Данных не много - всего 11 позиций. Так же допустимо заполнение месячным платежом или 0. Главное - дать обоснование своего решения (почему ты решил именно так заполнить а не иначе)\n",
    "</div>"
   ]
  },
  {
   "cell_type": "code",
   "execution_count": 83,
   "metadata": {
    "id": "ErshH0twll1w"
   },
   "outputs": [],
   "source": [
    "contract['TotalCharges'] = contract['TotalCharges'].astype('float')"
   ]
  },
  {
   "cell_type": "code",
   "execution_count": 84,
   "metadata": {
    "colab": {
     "base_uri": "https://localhost:8080/",
     "height": 282
    },
    "id": "ZDImnDmzll1x",
    "outputId": "ea15a11a-7dc9-41be-f559-bfd63038ebad",
    "scrolled": true
   },
   "outputs": [
    {
     "data": {
      "text/plain": [
       "<AxesSubplot:>"
      ]
     },
     "execution_count": 84,
     "metadata": {},
     "output_type": "execute_result"
    },
    {
     "data": {
      "image/png": "[encoded data removed]",
      "text/plain": [
       "<Figure size 432x288 with 1 Axes>"
      ]
     },
     "metadata": {
      "needs_background": "light"
     },
     "output_type": "display_data"
    }
   ],
   "source": [
    "sns.boxplot(data=contract['TotalCharges']) "
   ]
  },
  {
   "cell_type": "code",
   "execution_count": 85,
   "metadata": {
    "colab": {
     "base_uri": "https://localhost:8080/",
     "height": 299
    },
    "id": "m_CLeMeHll1x",
    "outputId": "1a16eb4c-4b8e-4532-e136-5e0d90166b72"
   },
   "outputs": [
    {
     "data": {
      "text/plain": [
       "<AxesSubplot:xlabel='TotalCharges', ylabel='Count'>"
      ]
     },
     "execution_count": 85,
     "metadata": {},
     "output_type": "execute_result"
    },
    {
     "data": {
      "image/png": "[encoded data removed]",
      "text/plain": [
       "<Figure size 432x288 with 1 Axes>"
      ]
     },
     "metadata": {
      "needs_background": "light"
     },
     "output_type": "display_data"
    }
   ],
   "source": [
    "sns.histplot(data=contract['TotalCharges'], bins=30) "
   ]
  },
  {
   "cell_type": "code",
   "execution_count": 86,
   "metadata": {
    "colab": {
     "base_uri": "https://localhost:8080/"
    },
    "id": "80MzQ6BCll1x",
    "outputId": "40025372-28eb-4635-893b-d9ae854d9bb4"
   },
   "outputs": [
    {
     "data": {
      "text/plain": [
       "count    7043.000000\n",
       "mean     2279.798992\n",
       "std      2266.730170\n",
       "min        18.800000\n",
       "25%       398.550000\n",
       "50%      1394.550000\n",
       "75%      3786.600000\n",
       "max      8684.800000\n",
       "Name: TotalCharges, dtype: float64"
      ]
     },
     "execution_count": 86,
     "metadata": {},
     "output_type": "execute_result"
    }
   ],
   "source": [
    "contract['TotalCharges'].describe()"
   ]
  },
  {
   "cell_type": "code",
   "execution_count": 87,
   "metadata": {
    "colab": {
     "base_uri": "https://localhost:8080/",
     "height": 296
    },
    "id": "rGo2Nielll1y",
    "outputId": "c8ae6b94-a4cc-4083-f567-205fdd258858"
   },
   "outputs": [
    {
     "data": {
      "text/plain": [
       "<AxesSubplot:xlabel='BeginDate', ylabel='Count'>"
      ]
     },
     "execution_count": 87,
     "metadata": {},
     "output_type": "execute_result"
    },
    {
     "data": {
      "image/png": "[encoded data removed]",
      "text/plain": [
       "<Figure size 432x288 with 1 Axes>"
      ]
     },
     "metadata": {
      "needs_background": "light"
     },
     "output_type": "display_data"
    }
   ],
   "source": [
    "sns.histplot(data=contract['BeginDate'])"
   ]
  },
  {
   "cell_type": "code",
   "execution_count": 88,
   "metadata": {
    "colab": {
     "base_uri": "https://localhost:8080/"
    },
    "id": "hb4lj7Mkll1y",
    "outputId": "94990386-1e74-407f-a188-a919b6941c99",
    "scrolled": true
   },
   "outputs": [
    {
     "data": {
      "text/plain": [
       "2019-11-01    485\n",
       "2019-12-01    466\n",
       "2020-01-01    460\n",
       "2019-10-01    458\n",
       "Name: EndDate, dtype: int64"
      ]
     },
     "execution_count": 88,
     "metadata": {},
     "output_type": "execute_result"
    }
   ],
   "source": [
    "df = pd.to_datetime(contract[contract['EndDate'] != 'No']['EndDate'],format='%Y.%m.%d %H:%M:%S')\n",
    "df.value_counts()"
   ]
  },
  {
   "cell_type": "markdown",
   "metadata": {
    "id": "839ZE0qlC7iE"
   },
   "source": [
    "По данным видно, что отток клиентов начался в октябре 2019."
   ]
  },
  {
   "cell_type": "markdown",
   "metadata": {
    "id": "XSm0Sq3EkhVI"
   },
   "source": [
    "Добавим столбец сколько месяцев подключен абонент. Информация актульна на 1 февраля 2020."
   ]
  },
  {
   "cell_type": "code",
   "execution_count": 89,
   "metadata": {
    "id": "OFVABgxVkgSZ"
   },
   "outputs": [],
   "source": [
    "contract['MonthEnd'] = pd.to_datetime(contract['EndDate'].apply(lambda x: '2020-02-01' if x=='No' else x))\n",
    "contract['UseMonth'] = round((contract['MonthEnd'] - contract['BeginDate'])/np.timedelta64(1, 'M'), 0).astype('int')\n",
    "contract.drop('MonthEnd', axis=1, inplace=True) "
   ]
  },
  {
   "cell_type": "markdown",
   "metadata": {
    "id": "NIWq1aLQDGTR"
   },
   "source": [
    "Преобразуем целевой признак, присвоив ушедшим клиентам 0, всем остальным 1."
   ]
  },
  {
   "cell_type": "code",
   "execution_count": 90,
   "metadata": {
    "colab": {
     "base_uri": "https://localhost:8080/",
     "height": 581
    },
    "id": "rnNwm7zUAMaH",
    "outputId": "253e20ec-f42a-4de2-de4c-f3e0ecf153c2"
   },
   "outputs": [
    {
     "data": {
      "text/html": [
       "<div>\n",
       "<style scoped>\n",
       "    .dataframe tbody tr th:only-of-type {\n",
       "        vertical-align: middle;\n",
       "    }\n",
       "\n",
       "    .dataframe tbody tr th {\n",
       "        vertical-align: top;\n",
       "    }\n",
       "\n",
       "    .dataframe thead th {\n",
       "        text-align: right;\n",
       "    }\n",
       "</style>\n",
       "<table border=\"1\" class=\"dataframe\">\n",
       "  <thead>\n",
       "    <tr style=\"text-align: right;\">\n",
       "      <th></th>\n",
       "      <th>customerID</th>\n",
       "      <th>BeginDate</th>\n",
       "      <th>EndDate</th>\n",
       "      <th>Type</th>\n",
       "      <th>PaperlessBilling</th>\n",
       "      <th>PaymentMethod</th>\n",
       "      <th>MonthlyCharges</th>\n",
       "      <th>TotalCharges</th>\n",
       "      <th>UseMonth</th>\n",
       "    </tr>\n",
       "  </thead>\n",
       "  <tbody>\n",
       "    <tr>\n",
       "      <th>0</th>\n",
       "      <td>7590-VHVEG</td>\n",
       "      <td>2020-01-01</td>\n",
       "      <td>0</td>\n",
       "      <td>Month-to-month</td>\n",
       "      <td>Yes</td>\n",
       "      <td>Electronic check</td>\n",
       "      <td>29.85</td>\n",
       "      <td>29.85</td>\n",
       "      <td>1</td>\n",
       "    </tr>\n",
       "    <tr>\n",
       "      <th>1</th>\n",
       "      <td>5575-GNVDE</td>\n",
       "      <td>2017-04-01</td>\n",
       "      <td>0</td>\n",
       "      <td>One year</td>\n",
       "      <td>No</td>\n",
       "      <td>Mailed check</td>\n",
       "      <td>56.95</td>\n",
       "      <td>1889.50</td>\n",
       "      <td>34</td>\n",
       "    </tr>\n",
       "    <tr>\n",
       "      <th>2</th>\n",
       "      <td>3668-QPYBK</td>\n",
       "      <td>2019-10-01</td>\n",
       "      <td>1</td>\n",
       "      <td>Month-to-month</td>\n",
       "      <td>Yes</td>\n",
       "      <td>Mailed check</td>\n",
       "      <td>53.85</td>\n",
       "      <td>108.15</td>\n",
       "      <td>2</td>\n",
       "    </tr>\n",
       "    <tr>\n",
       "      <th>3</th>\n",
       "      <td>7795-CFOCW</td>\n",
       "      <td>2016-05-01</td>\n",
       "      <td>0</td>\n",
       "      <td>One year</td>\n",
       "      <td>No</td>\n",
       "      <td>Bank transfer (automatic)</td>\n",
       "      <td>42.30</td>\n",
       "      <td>1840.75</td>\n",
       "      <td>45</td>\n",
       "    </tr>\n",
       "    <tr>\n",
       "      <th>4</th>\n",
       "      <td>9237-HQITU</td>\n",
       "      <td>2019-09-01</td>\n",
       "      <td>1</td>\n",
       "      <td>Month-to-month</td>\n",
       "      <td>Yes</td>\n",
       "      <td>Electronic check</td>\n",
       "      <td>70.70</td>\n",
       "      <td>151.65</td>\n",
       "      <td>2</td>\n",
       "    </tr>\n",
       "    <tr>\n",
       "      <th>5</th>\n",
       "      <td>9305-CDSKC</td>\n",
       "      <td>2019-03-01</td>\n",
       "      <td>1</td>\n",
       "      <td>Month-to-month</td>\n",
       "      <td>Yes</td>\n",
       "      <td>Electronic check</td>\n",
       "      <td>99.65</td>\n",
       "      <td>820.50</td>\n",
       "      <td>8</td>\n",
       "    </tr>\n",
       "    <tr>\n",
       "      <th>6</th>\n",
       "      <td>1452-KIOVK</td>\n",
       "      <td>2018-04-01</td>\n",
       "      <td>0</td>\n",
       "      <td>Month-to-month</td>\n",
       "      <td>Yes</td>\n",
       "      <td>Credit card (automatic)</td>\n",
       "      <td>89.10</td>\n",
       "      <td>1949.40</td>\n",
       "      <td>22</td>\n",
       "    </tr>\n",
       "    <tr>\n",
       "      <th>7</th>\n",
       "      <td>6713-OKOMC</td>\n",
       "      <td>2019-04-01</td>\n",
       "      <td>0</td>\n",
       "      <td>Month-to-month</td>\n",
       "      <td>No</td>\n",
       "      <td>Mailed check</td>\n",
       "      <td>29.75</td>\n",
       "      <td>301.90</td>\n",
       "      <td>10</td>\n",
       "    </tr>\n",
       "    <tr>\n",
       "      <th>8</th>\n",
       "      <td>7892-POOKP</td>\n",
       "      <td>2017-07-01</td>\n",
       "      <td>1</td>\n",
       "      <td>Month-to-month</td>\n",
       "      <td>Yes</td>\n",
       "      <td>Electronic check</td>\n",
       "      <td>104.80</td>\n",
       "      <td>3046.05</td>\n",
       "      <td>28</td>\n",
       "    </tr>\n",
       "    <tr>\n",
       "      <th>9</th>\n",
       "      <td>6388-TABGU</td>\n",
       "      <td>2014-12-01</td>\n",
       "      <td>0</td>\n",
       "      <td>One year</td>\n",
       "      <td>No</td>\n",
       "      <td>Bank transfer (automatic)</td>\n",
       "      <td>56.15</td>\n",
       "      <td>3487.95</td>\n",
       "      <td>62</td>\n",
       "    </tr>\n",
       "  </tbody>\n",
       "</table>\n",
       "</div>"
      ],
      "text/plain": [
       "   customerID  BeginDate  EndDate            Type PaperlessBilling  \\\n",
       "0  7590-VHVEG 2020-01-01        0  Month-to-month              Yes   \n",
       "1  5575-GNVDE 2017-04-01        0        One year               No   \n",
       "2  3668-QPYBK 2019-10-01        1  Month-to-month              Yes   \n",
       "3  7795-CFOCW 2016-05-01        0        One year               No   \n",
       "4  9237-HQITU 2019-09-01        1  Month-to-month              Yes   \n",
       "5  9305-CDSKC 2019-03-01        1  Month-to-month              Yes   \n",
       "6  1452-KIOVK 2018-04-01        0  Month-to-month              Yes   \n",
       "7  6713-OKOMC 2019-04-01        0  Month-to-month               No   \n",
       "8  7892-POOKP 2017-07-01        1  Month-to-month              Yes   \n",
       "9  6388-TABGU 2014-12-01        0        One year               No   \n",
       "\n",
       "               PaymentMethod  MonthlyCharges  TotalCharges  UseMonth  \n",
       "0           Electronic check           29.85         29.85         1  \n",
       "1               Mailed check           56.95       1889.50        34  \n",
       "2               Mailed check           53.85        108.15         2  \n",
       "3  Bank transfer (automatic)           42.30       1840.75        45  \n",
       "4           Electronic check           70.70        151.65         2  \n",
       "5           Electronic check           99.65        820.50         8  \n",
       "6    Credit card (automatic)           89.10       1949.40        22  \n",
       "7               Mailed check           29.75        301.90        10  \n",
       "8           Electronic check          104.80       3046.05        28  \n",
       "9  Bank transfer (automatic)           56.15       3487.95        62  "
      ]
     },
     "execution_count": 90,
     "metadata": {},
     "output_type": "execute_result"
    }
   ],
   "source": [
    "contract['EndDate'] = np.where(contract['EndDate'] == 'No', 0, 1)\n",
    "contract.head(10)"
   ]
  },
  {
   "cell_type": "code",
   "execution_count": 91,
   "metadata": {
    "colab": {
     "base_uri": "https://localhost:8080/"
    },
    "id": "jLVR4WQKBp3l",
    "outputId": "3d759072-2bc4-4e4d-e2cb-1c3df63e953d"
   },
   "outputs": [
    {
     "data": {
      "text/plain": [
       "0    5174\n",
       "1    1869\n",
       "Name: EndDate, dtype: int64"
      ]
     },
     "execution_count": 91,
     "metadata": {},
     "output_type": "execute_result"
    }
   ],
   "source": [
    "contract['EndDate'].value_counts()"
   ]
  },
  {
   "cell_type": "markdown",
   "metadata": {
    "id": "3dV1IEQcY8Er"
   },
   "source": [
    "<div class=\"alert alert-success\">\n",
    "<b>**Комментарий тимлида ✔️:**</b>\n",
    "\n",
    "Отлично, есть целевой признак!\n",
    "</div>"
   ]
  },
  {
   "cell_type": "markdown",
   "metadata": {
    "id": "3dV1IEQcY8Er"
   },
   "source": [
    "### Выводы 1.0"
   ]
  },
  {
   "cell_type": "markdown",
   "metadata": {
    "id": "eYbFi_QPY8Es"
   },
   "source": [
    "**На данный момент по просмотренным данным:**\n",
    "- Целевой признак находится в столбце \"EndDate\", далее задача будет, скорее всего, в построении модели классификации и данные в столбце можно преобразовать в 0 и 1.\n",
    "- Изменен тип данных с датой подключения абонента\n",
    "- Найдены пропуски в значениях с общей суммой у абонентов которые подключились в течении последнего месяца, их можно заполнить значениями из столбца с помесячной оплатой.\n",
    "- Построены расределения значений по столбцам таблицы \"contract\"\n",
    "- По данным видно что отток клиентов начался \"2019-10\", можно проверить какие изменения произошли у отключившихся абонентов в это время."
   ]
  },
  {
   "cell_type": "markdown",
   "metadata": {
    "id": "T22JCizDY8Et"
   },
   "source": [
    "<div class=\"alert alert-success\">\n",
    "<b>**Комментарий тимлида ✔️:**</b>\n",
    "\n",
    "Отлично, есть предварительный анализ данных. Есть первые выводы. \n",
    "</div>"
   ]
  },
  {
   "cell_type": "markdown",
   "metadata": {
    "id": "rhtmjqomY8Eu"
   },
   "source": [
    "<div class=\"alert alert-danger\">\n",
    "<b>**Комментарий тимлида ❌:**</b>\n",
    "\n",
    "В соответствии с заданием на данном этапе тебе необходимо сформулировать вопросы к тимлиду (или заказчику) по итогам ознакомления с данными и описанием проекта. Я ожидаю увидеть от тебя вопросы, ответы на которые нужны тебе как исследователю, ответы на которые позволят тебе выполнить исследование. Пожалуйста по результатам предварительного ознакомления с данными и описанием проекта подумай и напиши:\n",
    "\n",
    "- Какие вопросы у тебя возникли по итогам ознакомления с данными? Все ли понятно? \n",
    "- Какой информации тебе не хватает для того чтобы выполнить проект?\n",
    "\n",
    "Сформулируй пожалуйста вопросы и вышли обновленную тетрадку на проверку. Если вопросов нет - напиши \"Уточняющих вопросов нет\".\n",
    "</div>"
   ]
  },
  {
   "cell_type": "markdown",
   "metadata": {
    "id": "WE6G8U9oY8Ev"
   },
   "source": [
    "<div class=\"alert alert-info\"> <b>Комментарий студента:</b> После консультации, \"Уточняющих вопросов нет\".</div>"
   ]
  },
  {
   "cell_type": "markdown",
   "metadata": {
    "id": "sRe2TvHOY8Ev"
   },
   "source": [
    "<div class=\"alert alert-success\">\n",
    "<b>**Комментарий тимлида_v2 ✔️:**</b>\n",
    "\n",
    "Есть план, есть уточняющие вопросы (их не осталось), есть предварительное исследование данных. \n",
    "\n",
    "Отлично, работу приниаю, переходи к следующему этапу исследования - разработка модели.\n",
    "</div>"
   ]
  },
  {
   "cell_type": "markdown",
   "metadata": {
    "id": "pF_5HDZh1TeJ"
   },
   "source": [
    "## Подготовка признаков"
   ]
  },
  {
   "cell_type": "markdown",
   "metadata": {
    "id": "RU9rcycL1c1n"
   },
   "source": [
    "Создадим сводной таблицы со всеми признаками."
   ]
  },
  {
   "cell_type": "code",
   "execution_count": 92,
   "metadata": {
    "id": "qrLPdzwsY8Ew"
   },
   "outputs": [],
   "source": [
    "df = contract.merge(personal, how='left', on='customerID')\n",
    "df = df.merge(internet, how='left', on='customerID')\n",
    "df = df.merge(phone, how='left', on='customerID')"
   ]
  },
  {
   "cell_type": "code",
   "execution_count": 93,
   "metadata": {
    "colab": {
     "base_uri": "https://localhost:8080/",
     "height": 438
    },
    "id": "rKlKNHEE2DY5",
    "outputId": "856ac53c-aab3-4e09-dd59-f89301a399a6"
   },
   "outputs": [
    {
     "data": {
      "text/html": [
       "<div>\n",
       "<style scoped>\n",
       "    .dataframe tbody tr th:only-of-type {\n",
       "        vertical-align: middle;\n",
       "    }\n",
       "\n",
       "    .dataframe tbody tr th {\n",
       "        vertical-align: top;\n",
       "    }\n",
       "\n",
       "    .dataframe thead th {\n",
       "        text-align: right;\n",
       "    }\n",
       "</style>\n",
       "<table border=\"1\" class=\"dataframe\">\n",
       "  <thead>\n",
       "    <tr style=\"text-align: right;\">\n",
       "      <th></th>\n",
       "      <th>customerID</th>\n",
       "      <th>BeginDate</th>\n",
       "      <th>EndDate</th>\n",
       "      <th>Type</th>\n",
       "      <th>PaperlessBilling</th>\n",
       "      <th>PaymentMethod</th>\n",
       "      <th>MonthlyCharges</th>\n",
       "      <th>TotalCharges</th>\n",
       "      <th>UseMonth</th>\n",
       "      <th>gender</th>\n",
       "      <th>...</th>\n",
       "      <th>Partner</th>\n",
       "      <th>Dependents</th>\n",
       "      <th>InternetService</th>\n",
       "      <th>OnlineSecurity</th>\n",
       "      <th>OnlineBackup</th>\n",
       "      <th>DeviceProtection</th>\n",
       "      <th>TechSupport</th>\n",
       "      <th>StreamingTV</th>\n",
       "      <th>StreamingMovies</th>\n",
       "      <th>MultipleLines</th>\n",
       "    </tr>\n",
       "  </thead>\n",
       "  <tbody>\n",
       "    <tr>\n",
       "      <th>0</th>\n",
       "      <td>7590-VHVEG</td>\n",
       "      <td>2020-01-01</td>\n",
       "      <td>0</td>\n",
       "      <td>Month-to-month</td>\n",
       "      <td>Yes</td>\n",
       "      <td>Electronic check</td>\n",
       "      <td>29.85</td>\n",
       "      <td>29.85</td>\n",
       "      <td>1</td>\n",
       "      <td>Female</td>\n",
       "      <td>...</td>\n",
       "      <td>Yes</td>\n",
       "      <td>No</td>\n",
       "      <td>DSL</td>\n",
       "      <td>No</td>\n",
       "      <td>Yes</td>\n",
       "      <td>No</td>\n",
       "      <td>No</td>\n",
       "      <td>No</td>\n",
       "      <td>No</td>\n",
       "      <td>NaN</td>\n",
       "    </tr>\n",
       "    <tr>\n",
       "      <th>1</th>\n",
       "      <td>5575-GNVDE</td>\n",
       "      <td>2017-04-01</td>\n",
       "      <td>0</td>\n",
       "      <td>One year</td>\n",
       "      <td>No</td>\n",
       "      <td>Mailed check</td>\n",
       "      <td>56.95</td>\n",
       "      <td>1889.50</td>\n",
       "      <td>34</td>\n",
       "      <td>Male</td>\n",
       "      <td>...</td>\n",
       "      <td>No</td>\n",
       "      <td>No</td>\n",
       "      <td>DSL</td>\n",
       "      <td>Yes</td>\n",
       "      <td>No</td>\n",
       "      <td>Yes</td>\n",
       "      <td>No</td>\n",
       "      <td>No</td>\n",
       "      <td>No</td>\n",
       "      <td>No</td>\n",
       "    </tr>\n",
       "    <tr>\n",
       "      <th>2</th>\n",
       "      <td>3668-QPYBK</td>\n",
       "      <td>2019-10-01</td>\n",
       "      <td>1</td>\n",
       "      <td>Month-to-month</td>\n",
       "      <td>Yes</td>\n",
       "      <td>Mailed check</td>\n",
       "      <td>53.85</td>\n",
       "      <td>108.15</td>\n",
       "      <td>2</td>\n",
       "      <td>Male</td>\n",
       "      <td>...</td>\n",
       "      <td>No</td>\n",
       "      <td>No</td>\n",
       "      <td>DSL</td>\n",
       "      <td>Yes</td>\n",
       "      <td>Yes</td>\n",
       "      <td>No</td>\n",
       "      <td>No</td>\n",
       "      <td>No</td>\n",
       "      <td>No</td>\n",
       "      <td>No</td>\n",
       "    </tr>\n",
       "    <tr>\n",
       "      <th>3</th>\n",
       "      <td>7795-CFOCW</td>\n",
       "      <td>2016-05-01</td>\n",
       "      <td>0</td>\n",
       "      <td>One year</td>\n",
       "      <td>No</td>\n",
       "      <td>Bank transfer (automatic)</td>\n",
       "      <td>42.30</td>\n",
       "      <td>1840.75</td>\n",
       "      <td>45</td>\n",
       "      <td>Male</td>\n",
       "      <td>...</td>\n",
       "      <td>No</td>\n",
       "      <td>No</td>\n",
       "      <td>DSL</td>\n",
       "      <td>Yes</td>\n",
       "      <td>No</td>\n",
       "      <td>Yes</td>\n",
       "      <td>Yes</td>\n",
       "      <td>No</td>\n",
       "      <td>No</td>\n",
       "      <td>NaN</td>\n",
       "    </tr>\n",
       "    <tr>\n",
       "      <th>4</th>\n",
       "      <td>9237-HQITU</td>\n",
       "      <td>2019-09-01</td>\n",
       "      <td>1</td>\n",
       "      <td>Month-to-month</td>\n",
       "      <td>Yes</td>\n",
       "      <td>Electronic check</td>\n",
       "      <td>70.70</td>\n",
       "      <td>151.65</td>\n",
       "      <td>2</td>\n",
       "      <td>Female</td>\n",
       "      <td>...</td>\n",
       "      <td>No</td>\n",
       "      <td>No</td>\n",
       "      <td>Fiber optic</td>\n",
       "      <td>No</td>\n",
       "      <td>No</td>\n",
       "      <td>No</td>\n",
       "      <td>No</td>\n",
       "      <td>No</td>\n",
       "      <td>No</td>\n",
       "      <td>No</td>\n",
       "    </tr>\n",
       "  </tbody>\n",
       "</table>\n",
       "<p>5 rows × 21 columns</p>\n",
       "</div>"
      ],
      "text/plain": [
       "   customerID  BeginDate  EndDate            Type PaperlessBilling  \\\n",
       "0  7590-VHVEG 2020-01-01        0  Month-to-month              Yes   \n",
       "1  5575-GNVDE 2017-04-01        0        One year               No   \n",
       "2  3668-QPYBK 2019-10-01        1  Month-to-month              Yes   \n",
       "3  7795-CFOCW 2016-05-01        0        One year               No   \n",
       "4  9237-HQITU 2019-09-01        1  Month-to-month              Yes   \n",
       "\n",
       "               PaymentMethod  MonthlyCharges  TotalCharges  UseMonth  gender  \\\n",
       "0           Electronic check           29.85         29.85         1  Female   \n",
       "1               Mailed check           56.95       1889.50        34    Male   \n",
       "2               Mailed check           53.85        108.15         2    Male   \n",
       "3  Bank transfer (automatic)           42.30       1840.75        45    Male   \n",
       "4           Electronic check           70.70        151.65         2  Female   \n",
       "\n",
       "   ...  Partner Dependents InternetService OnlineSecurity OnlineBackup  \\\n",
       "0  ...      Yes         No             DSL             No          Yes   \n",
       "1  ...       No         No             DSL            Yes           No   \n",
       "2  ...       No         No             DSL            Yes          Yes   \n",
       "3  ...       No         No             DSL            Yes           No   \n",
       "4  ...       No         No     Fiber optic             No           No   \n",
       "\n",
       "  DeviceProtection TechSupport StreamingTV StreamingMovies MultipleLines  \n",
       "0               No          No          No              No           NaN  \n",
       "1              Yes          No          No              No            No  \n",
       "2               No          No          No              No            No  \n",
       "3              Yes         Yes          No              No           NaN  \n",
       "4               No          No          No              No            No  \n",
       "\n",
       "[5 rows x 21 columns]"
      ]
     },
     "execution_count": 93,
     "metadata": {},
     "output_type": "execute_result"
    }
   ],
   "source": [
    "df.head()"
   ]
  },
  {
   "cell_type": "code",
   "execution_count": 94,
   "metadata": {
    "colab": {
     "base_uri": "https://localhost:8080/"
    },
    "id": "msbefY7X2r68",
    "outputId": "c983a1d8-4b98-48ea-e6fe-c070b986894d"
   },
   "outputs": [
    {
     "name": "stdout",
     "output_type": "stream",
     "text": [
      "<class 'pandas.core.frame.DataFrame'>\n",
      "Int64Index: 7043 entries, 0 to 7042\n",
      "Data columns (total 21 columns):\n",
      " #   Column            Non-Null Count  Dtype         \n",
      "---  ------            --------------  -----         \n",
      " 0   customerID        7043 non-null   object        \n",
      " 1   BeginDate         7043 non-null   datetime64[ns]\n",
      " 2   EndDate           7043 non-null   int64         \n",
      " 3   Type              7043 non-null   object        \n",
      " 4   PaperlessBilling  7043 non-null   object        \n",
      " 5   PaymentMethod     7043 non-null   object        \n",
      " 6   MonthlyCharges    7043 non-null   float64       \n",
      " 7   TotalCharges      7043 non-null   float64       \n",
      " 8   UseMonth          7043 non-null   int64         \n",
      " 9   gender            7043 non-null   object        \n",
      " 10  SeniorCitizen     7043 non-null   int64         \n",
      " 11  Partner           7043 non-null   object        \n",
      " 12  Dependents        7043 non-null   object        \n",
      " 13  InternetService   5517 non-null   object        \n",
      " 14  OnlineSecurity    5517 non-null   object        \n",
      " 15  OnlineBackup      5517 non-null   object        \n",
      " 16  DeviceProtection  5517 non-null   object        \n",
      " 17  TechSupport       5517 non-null   object        \n",
      " 18  StreamingTV       5517 non-null   object        \n",
      " 19  StreamingMovies   5517 non-null   object        \n",
      " 20  MultipleLines     6361 non-null   object        \n",
      "dtypes: datetime64[ns](1), float64(2), int64(3), object(15)\n",
      "memory usage: 1.2+ MB\n"
     ]
    }
   ],
   "source": [
    "df.info()"
   ]
  },
  {
   "cell_type": "markdown",
   "metadata": {
    "id": "OVszC7VJv77d"
   },
   "source": [
    "Теперь столбец с ID можно удалить. Столбец с датой тоже не понадобится так как добавили столбец с количеством количеством месяцев подключения."
   ]
  },
  {
   "cell_type": "markdown",
   "metadata": {
    "id": "7xvYFHOVv7Yo"
   },
   "source": [
    "<div class=\"alert alert-success\">\n",
    "<b>**Комментарий тимлида_v2 ✔️:**</b>\n",
    "\n",
    "1. Ок, есть объединение таблиц!\n",
    "\n",
    "2. Молодец что удаляешь признаки с временем - у нас задача бинарной классификации, а не анализ временных рядов. Кроме этого даты - в нашем случае это утечка целевого признака (особенно дата окончания)\n",
    "\n",
    "\n",
    "</div>"
   ]
  },
  {
   "cell_type": "code",
   "execution_count": 95,
   "metadata": {
    "id": "7xvYFHOVv7Yo"
   },
   "outputs": [],
   "source": [
    "df = df.drop('customerID', axis=1)\n",
    "df = df.drop('BeginDate', axis=1)"
   ]
  },
  {
   "cell_type": "markdown",
   "metadata": {
    "id": "o2Em_Esk3veN"
   },
   "source": [
    "В сводной таблице появились пропуски. Клиенты могут не подключать связь или интернет, заполним пропуски на значение \"Not use\"."
   ]
  },
  {
   "cell_type": "code",
   "execution_count": 96,
   "metadata": {
    "colab": {
     "base_uri": "https://localhost:8080/"
    },
    "id": "kUQvQd5VL-i4",
    "outputId": "35af5e89-58e7-4a0f-aed3-889702d9255c"
   },
   "outputs": [
    {
     "name": "stdout",
     "output_type": "stream",
     "text": [
      "<class 'pandas.core.frame.DataFrame'>\n",
      "Int64Index: 7043 entries, 0 to 7042\n",
      "Data columns (total 19 columns):\n",
      " #   Column            Non-Null Count  Dtype  \n",
      "---  ------            --------------  -----  \n",
      " 0   EndDate           7043 non-null   int64  \n",
      " 1   Type              7043 non-null   object \n",
      " 2   PaperlessBilling  7043 non-null   object \n",
      " 3   PaymentMethod     7043 non-null   object \n",
      " 4   MonthlyCharges    7043 non-null   float64\n",
      " 5   TotalCharges      7043 non-null   float64\n",
      " 6   UseMonth          7043 non-null   int64  \n",
      " 7   gender            7043 non-null   object \n",
      " 8   SeniorCitizen     7043 non-null   int64  \n",
      " 9   Partner           7043 non-null   object \n",
      " 10  Dependents        7043 non-null   object \n",
      " 11  InternetService   7043 non-null   object \n",
      " 12  OnlineSecurity    7043 non-null   object \n",
      " 13  OnlineBackup      7043 non-null   object \n",
      " 14  DeviceProtection  7043 non-null   object \n",
      " 15  TechSupport       7043 non-null   object \n",
      " 16  StreamingTV       7043 non-null   object \n",
      " 17  StreamingMovies   7043 non-null   object \n",
      " 18  MultipleLines     7043 non-null   object \n",
      "dtypes: float64(2), int64(3), object(14)\n",
      "memory usage: 1.1+ MB\n"
     ]
    }
   ],
   "source": [
    "df.fillna(value='No', axis=1, inplace=True)\n",
    "df.info()"
   ]
  },
  {
   "cell_type": "markdown",
   "metadata": {
    "colab": {
     "base_uri": "https://localhost:8080/"
    },
    "id": "kUQvQd5VL-i4",
    "outputId": "35af5e89-58e7-4a0f-aed3-889702d9255c"
   },
   "source": [
    "<div class=\"alert alert-warning\">\n",
    "<b>**Комментарий тимлида_v2 ✔️:**</b>\n",
    "\n",
    "Да, все верно, пропуски нужно заполнить. Но у тебя есть бинарные признаки (Yes/No) и в случае добавления к ним еще одного значения, например Unknown или 'Not use' модель может запутаться.  Получается что бинарные признаки превратятся уже не в бинарные, а в обычные номинальные - с тремя категориями: NAN, Yes, No. В чем разница для модели 'Not use' и No? Для бинарных признаков лучше заменять именно на No. \n",
    "\n",
    "\n",
    "</div>"
   ]
  },
  {
   "cell_type": "markdown",
   "metadata": {},
   "source": [
    "<div class=\"alert alert-info\"> <b>Комментарий студента:</b> Мне казалось что лучше разделить клиентов у которых подключен интернет, но не выбраны дополнительные опции и клиентов у которых не подключен интернет.</div>"
   ]
  },
  {
   "cell_type": "markdown",
   "metadata": {
    "id": "svLRhwlMxDWC"
   },
   "source": [
    "<div class=\"alert alert-success\">\n",
    "<b>**Комментарий тимлида_v3 ✔️:**</b>\n",
    "\n",
    "В таком случае как вариант лучше выделить (создать) отдельны признак - есть/нет услуги.\n",
    "</div>"
   ]
  },
  {
   "cell_type": "markdown",
   "metadata": {
    "id": "svLRhwlMxDWC"
   },
   "source": [
    "## Анализ моделей"
   ]
  },
  {
   "cell_type": "markdown",
   "metadata": {
    "id": "JzjkRMiUTwqw"
   },
   "source": [
    "Параметр \"random_state\" для всех моделей: 101022"
   ]
  },
  {
   "cell_type": "markdown",
   "metadata": {
    "id": "5QKzA0cATDXM"
   },
   "source": [
    "### OrdinalEncoder"
   ]
  },
  {
   "cell_type": "markdown",
   "metadata": {
    "id": "wk4jF4HF5lv4"
   },
   "source": [
    "Для кодирования категориальных методов применим OrdinalEncoder."
   ]
  },
  {
   "cell_type": "markdown",
   "metadata": {
    "id": "ItVEYPN01Y65"
   },
   "source": [
    "<div class=\"alert alert-warning\">\n",
    "<b>**Комментарий тимлида_v2 ⚠️:**</b>\n",
    "\n",
    "Порядковое кодирование допустимо в нашем случае. Однако выбор кодирования зависит от модели и от данных. \n",
    "\n",
    "Если говорить про модели:\n",
    "    \n",
    "- для градиентного бустинга можно вообще не выполнять кодирование, он умеет работаеть с \"грязными\" данными\n",
    "- для деревьев - лучше порядковое\n",
    "- для линейных моделей - лучше OHE\n",
    "    \n",
    "    \n",
    "Если говорить про данные:   \n",
    "- OHE в случае небольшого кол-ва значений в категориальных признаках\n",
    "- Ordinal - если есть зависимость между значениями категорий, их можно сравнивать (одна категория > другой)\n",
    "\n",
    "На всякий случай вот короткая статья - https://www.naukri.com/learning/articles/one-hot-encoding-vs-label-encoding/\n",
    "    \n",
    "</div>"
   ]
  },
  {
   "cell_type": "markdown",
   "metadata": {},
   "source": [
    "<div class=\"alert alert-info\"> <b>Комментарий студента:</b> Здесь нужна была просто аргументация почему Ordinal использую?</div>"
   ]
  },
  {
   "cell_type": "markdown",
   "metadata": {},
   "source": [
    "<div class=\"alert alert-success\">\n",
    "<b>**Комментарий тимлида_v3 ✔️:**</b>\n",
    "\n",
    "Для меня важно, чтобы ты обратил на это внимание, и в дальшейшем помнил о важности (и оптимальности) выбора способа кодирования. \n",
    "</div>"
   ]
  },
  {
   "cell_type": "markdown",
   "metadata": {},
   "source": [
    "### Проверка на корреляцию признкаков"
   ]
  },
  {
   "cell_type": "code",
   "execution_count": 97,
   "metadata": {},
   "outputs": [
    {
     "name": "stdout",
     "output_type": "stream",
     "text": [
      "interval columns not set, guessing: ['EndDate', 'MonthlyCharges', 'TotalCharges', 'UseMonth', 'SeniorCitizen']\n"
     ]
    },
    {
     "data": {
      "text/html": [
       "<div>\n",
       "<style scoped>\n",
       "    .dataframe tbody tr th:only-of-type {\n",
       "        vertical-align: middle;\n",
       "    }\n",
       "\n",
       "    .dataframe tbody tr th {\n",
       "        vertical-align: top;\n",
       "    }\n",
       "\n",
       "    .dataframe thead th {\n",
       "        text-align: right;\n",
       "    }\n",
       "</style>\n",
       "<table border=\"1\" class=\"dataframe\">\n",
       "  <thead>\n",
       "    <tr style=\"text-align: right;\">\n",
       "      <th></th>\n",
       "      <th>EndDate</th>\n",
       "      <th>Type</th>\n",
       "      <th>PaperlessBilling</th>\n",
       "      <th>PaymentMethod</th>\n",
       "      <th>MonthlyCharges</th>\n",
       "      <th>TotalCharges</th>\n",
       "      <th>UseMonth</th>\n",
       "      <th>gender</th>\n",
       "      <th>SeniorCitizen</th>\n",
       "      <th>Partner</th>\n",
       "      <th>Dependents</th>\n",
       "      <th>InternetService</th>\n",
       "      <th>OnlineSecurity</th>\n",
       "      <th>OnlineBackup</th>\n",
       "      <th>DeviceProtection</th>\n",
       "      <th>TechSupport</th>\n",
       "      <th>StreamingTV</th>\n",
       "      <th>StreamingMovies</th>\n",
       "      <th>MultipleLines</th>\n",
       "    </tr>\n",
       "  </thead>\n",
       "  <tbody>\n",
       "    <tr>\n",
       "      <th>EndDate</th>\n",
       "      <td>1.00</td>\n",
       "      <td>0.25</td>\n",
       "      <td>0.30</td>\n",
       "      <td>0.45</td>\n",
       "      <td>0.36</td>\n",
       "      <td>0.28</td>\n",
       "      <td>0.47</td>\n",
       "      <td>0.00</td>\n",
       "      <td>0.23</td>\n",
       "      <td>0.23</td>\n",
       "      <td>0.25</td>\n",
       "      <td>0.20</td>\n",
       "      <td>0.26</td>\n",
       "      <td>0.13</td>\n",
       "      <td>0.10</td>\n",
       "      <td>0.25</td>\n",
       "      <td>0.10</td>\n",
       "      <td>0.09</td>\n",
       "      <td>0.06</td>\n",
       "    </tr>\n",
       "    <tr>\n",
       "      <th>Type</th>\n",
       "      <td>0.25</td>\n",
       "      <td>1.00</td>\n",
       "      <td>0.11</td>\n",
       "      <td>0.28</td>\n",
       "      <td>0.39</td>\n",
       "      <td>0.51</td>\n",
       "      <td>0.66</td>\n",
       "      <td>0.00</td>\n",
       "      <td>0.09</td>\n",
       "      <td>0.18</td>\n",
       "      <td>0.15</td>\n",
       "      <td>0.51</td>\n",
       "      <td>0.15</td>\n",
       "      <td>0.10</td>\n",
       "      <td>0.14</td>\n",
       "      <td>0.18</td>\n",
       "      <td>0.07</td>\n",
       "      <td>0.07</td>\n",
       "      <td>0.07</td>\n",
       "    </tr>\n",
       "    <tr>\n",
       "      <th>PaperlessBilling</th>\n",
       "      <td>0.30</td>\n",
       "      <td>0.11</td>\n",
       "      <td>1.00</td>\n",
       "      <td>0.37</td>\n",
       "      <td>0.47</td>\n",
       "      <td>0.21</td>\n",
       "      <td>0.00</td>\n",
       "      <td>0.00</td>\n",
       "      <td>0.24</td>\n",
       "      <td>0.01</td>\n",
       "      <td>0.17</td>\n",
       "      <td>0.23</td>\n",
       "      <td>0.00</td>\n",
       "      <td>0.20</td>\n",
       "      <td>0.16</td>\n",
       "      <td>0.06</td>\n",
       "      <td>0.34</td>\n",
       "      <td>0.33</td>\n",
       "      <td>0.25</td>\n",
       "    </tr>\n",
       "    <tr>\n",
       "      <th>PaymentMethod</th>\n",
       "      <td>0.45</td>\n",
       "      <td>0.28</td>\n",
       "      <td>0.37</td>\n",
       "      <td>1.00</td>\n",
       "      <td>0.40</td>\n",
       "      <td>0.35</td>\n",
       "      <td>0.38</td>\n",
       "      <td>0.00</td>\n",
       "      <td>0.29</td>\n",
       "      <td>0.24</td>\n",
       "      <td>0.22</td>\n",
       "      <td>0.32</td>\n",
       "      <td>0.26</td>\n",
       "      <td>0.28</td>\n",
       "      <td>0.31</td>\n",
       "      <td>0.27</td>\n",
       "      <td>0.38</td>\n",
       "      <td>0.38</td>\n",
       "      <td>0.34</td>\n",
       "    </tr>\n",
       "    <tr>\n",
       "      <th>MonthlyCharges</th>\n",
       "      <td>0.36</td>\n",
       "      <td>0.39</td>\n",
       "      <td>0.47</td>\n",
       "      <td>0.40</td>\n",
       "      <td>1.00</td>\n",
       "      <td>0.76</td>\n",
       "      <td>0.41</td>\n",
       "      <td>0.01</td>\n",
       "      <td>0.30</td>\n",
       "      <td>0.20</td>\n",
       "      <td>0.18</td>\n",
       "      <td>0.92</td>\n",
       "      <td>0.55</td>\n",
       "      <td>0.63</td>\n",
       "      <td>0.67</td>\n",
       "      <td>0.58</td>\n",
       "      <td>0.84</td>\n",
       "      <td>0.83</td>\n",
       "      <td>0.68</td>\n",
       "    </tr>\n",
       "    <tr>\n",
       "      <th>TotalCharges</th>\n",
       "      <td>0.28</td>\n",
       "      <td>0.51</td>\n",
       "      <td>0.21</td>\n",
       "      <td>0.35</td>\n",
       "      <td>0.76</td>\n",
       "      <td>1.00</td>\n",
       "      <td>0.84</td>\n",
       "      <td>0.00</td>\n",
       "      <td>0.15</td>\n",
       "      <td>0.42</td>\n",
       "      <td>0.11</td>\n",
       "      <td>0.51</td>\n",
       "      <td>0.54</td>\n",
       "      <td>0.66</td>\n",
       "      <td>0.67</td>\n",
       "      <td>0.57</td>\n",
       "      <td>0.66</td>\n",
       "      <td>0.67</td>\n",
       "      <td>0.61</td>\n",
       "    </tr>\n",
       "    <tr>\n",
       "      <th>UseMonth</th>\n",
       "      <td>0.47</td>\n",
       "      <td>0.66</td>\n",
       "      <td>0.00</td>\n",
       "      <td>0.38</td>\n",
       "      <td>0.41</td>\n",
       "      <td>0.84</td>\n",
       "      <td>1.00</td>\n",
       "      <td>0.00</td>\n",
       "      <td>0.03</td>\n",
       "      <td>0.49</td>\n",
       "      <td>0.21</td>\n",
       "      <td>0.02</td>\n",
       "      <td>0.42</td>\n",
       "      <td>0.47</td>\n",
       "      <td>0.47</td>\n",
       "      <td>0.42</td>\n",
       "      <td>0.36</td>\n",
       "      <td>0.37</td>\n",
       "      <td>0.43</td>\n",
       "    </tr>\n",
       "    <tr>\n",
       "      <th>gender</th>\n",
       "      <td>0.00</td>\n",
       "      <td>0.00</td>\n",
       "      <td>0.00</td>\n",
       "      <td>0.00</td>\n",
       "      <td>0.01</td>\n",
       "      <td>0.00</td>\n",
       "      <td>0.00</td>\n",
       "      <td>1.00</td>\n",
       "      <td>0.00</td>\n",
       "      <td>0.00</td>\n",
       "      <td>0.00</td>\n",
       "      <td>0.00</td>\n",
       "      <td>0.02</td>\n",
       "      <td>0.01</td>\n",
       "      <td>0.00</td>\n",
       "      <td>0.00</td>\n",
       "      <td>0.00</td>\n",
       "      <td>0.00</td>\n",
       "      <td>0.00</td>\n",
       "    </tr>\n",
       "    <tr>\n",
       "      <th>SeniorCitizen</th>\n",
       "      <td>0.23</td>\n",
       "      <td>0.09</td>\n",
       "      <td>0.24</td>\n",
       "      <td>0.29</td>\n",
       "      <td>0.30</td>\n",
       "      <td>0.15</td>\n",
       "      <td>0.03</td>\n",
       "      <td>0.00</td>\n",
       "      <td>1.00</td>\n",
       "      <td>0.02</td>\n",
       "      <td>0.32</td>\n",
       "      <td>0.16</td>\n",
       "      <td>0.06</td>\n",
       "      <td>0.10</td>\n",
       "      <td>0.09</td>\n",
       "      <td>0.09</td>\n",
       "      <td>0.16</td>\n",
       "      <td>0.19</td>\n",
       "      <td>0.22</td>\n",
       "    </tr>\n",
       "    <tr>\n",
       "      <th>Partner</th>\n",
       "      <td>0.23</td>\n",
       "      <td>0.18</td>\n",
       "      <td>0.01</td>\n",
       "      <td>0.24</td>\n",
       "      <td>0.20</td>\n",
       "      <td>0.42</td>\n",
       "      <td>0.49</td>\n",
       "      <td>0.00</td>\n",
       "      <td>0.02</td>\n",
       "      <td>1.00</td>\n",
       "      <td>0.65</td>\n",
       "      <td>0.00</td>\n",
       "      <td>0.22</td>\n",
       "      <td>0.22</td>\n",
       "      <td>0.24</td>\n",
       "      <td>0.19</td>\n",
       "      <td>0.19</td>\n",
       "      <td>0.18</td>\n",
       "      <td>0.22</td>\n",
       "    </tr>\n",
       "    <tr>\n",
       "      <th>Dependents</th>\n",
       "      <td>0.25</td>\n",
       "      <td>0.15</td>\n",
       "      <td>0.17</td>\n",
       "      <td>0.22</td>\n",
       "      <td>0.18</td>\n",
       "      <td>0.11</td>\n",
       "      <td>0.21</td>\n",
       "      <td>0.00</td>\n",
       "      <td>0.32</td>\n",
       "      <td>0.65</td>\n",
       "      <td>1.00</td>\n",
       "      <td>0.11</td>\n",
       "      <td>0.12</td>\n",
       "      <td>0.03</td>\n",
       "      <td>0.01</td>\n",
       "      <td>0.10</td>\n",
       "      <td>0.02</td>\n",
       "      <td>0.06</td>\n",
       "      <td>0.03</td>\n",
       "    </tr>\n",
       "    <tr>\n",
       "      <th>InternetService</th>\n",
       "      <td>0.20</td>\n",
       "      <td>0.51</td>\n",
       "      <td>0.23</td>\n",
       "      <td>0.32</td>\n",
       "      <td>0.92</td>\n",
       "      <td>0.51</td>\n",
       "      <td>0.02</td>\n",
       "      <td>0.00</td>\n",
       "      <td>0.16</td>\n",
       "      <td>0.00</td>\n",
       "      <td>0.11</td>\n",
       "      <td>1.00</td>\n",
       "      <td>0.24</td>\n",
       "      <td>0.23</td>\n",
       "      <td>0.23</td>\n",
       "      <td>0.24</td>\n",
       "      <td>0.27</td>\n",
       "      <td>0.27</td>\n",
       "      <td>0.23</td>\n",
       "    </tr>\n",
       "    <tr>\n",
       "      <th>OnlineSecurity</th>\n",
       "      <td>0.26</td>\n",
       "      <td>0.15</td>\n",
       "      <td>0.00</td>\n",
       "      <td>0.26</td>\n",
       "      <td>0.55</td>\n",
       "      <td>0.54</td>\n",
       "      <td>0.42</td>\n",
       "      <td>0.02</td>\n",
       "      <td>0.06</td>\n",
       "      <td>0.22</td>\n",
       "      <td>0.12</td>\n",
       "      <td>0.24</td>\n",
       "      <td>1.00</td>\n",
       "      <td>0.43</td>\n",
       "      <td>0.42</td>\n",
       "      <td>0.53</td>\n",
       "      <td>0.27</td>\n",
       "      <td>0.29</td>\n",
       "      <td>0.15</td>\n",
       "    </tr>\n",
       "    <tr>\n",
       "      <th>OnlineBackup</th>\n",
       "      <td>0.13</td>\n",
       "      <td>0.10</td>\n",
       "      <td>0.20</td>\n",
       "      <td>0.28</td>\n",
       "      <td>0.63</td>\n",
       "      <td>0.66</td>\n",
       "      <td>0.47</td>\n",
       "      <td>0.01</td>\n",
       "      <td>0.10</td>\n",
       "      <td>0.22</td>\n",
       "      <td>0.03</td>\n",
       "      <td>0.23</td>\n",
       "      <td>0.43</td>\n",
       "      <td>1.00</td>\n",
       "      <td>0.46</td>\n",
       "      <td>0.45</td>\n",
       "      <td>0.43</td>\n",
       "      <td>0.42</td>\n",
       "      <td>0.31</td>\n",
       "    </tr>\n",
       "    <tr>\n",
       "      <th>DeviceProtection</th>\n",
       "      <td>0.10</td>\n",
       "      <td>0.14</td>\n",
       "      <td>0.16</td>\n",
       "      <td>0.31</td>\n",
       "      <td>0.67</td>\n",
       "      <td>0.67</td>\n",
       "      <td>0.47</td>\n",
       "      <td>0.00</td>\n",
       "      <td>0.09</td>\n",
       "      <td>0.24</td>\n",
       "      <td>0.01</td>\n",
       "      <td>0.23</td>\n",
       "      <td>0.42</td>\n",
       "      <td>0.46</td>\n",
       "      <td>1.00</td>\n",
       "      <td>0.50</td>\n",
       "      <td>0.58</td>\n",
       "      <td>0.59</td>\n",
       "      <td>0.31</td>\n",
       "    </tr>\n",
       "    <tr>\n",
       "      <th>TechSupport</th>\n",
       "      <td>0.25</td>\n",
       "      <td>0.18</td>\n",
       "      <td>0.06</td>\n",
       "      <td>0.27</td>\n",
       "      <td>0.58</td>\n",
       "      <td>0.57</td>\n",
       "      <td>0.42</td>\n",
       "      <td>0.00</td>\n",
       "      <td>0.09</td>\n",
       "      <td>0.19</td>\n",
       "      <td>0.10</td>\n",
       "      <td>0.24</td>\n",
       "      <td>0.53</td>\n",
       "      <td>0.45</td>\n",
       "      <td>0.50</td>\n",
       "      <td>1.00</td>\n",
       "      <td>0.42</td>\n",
       "      <td>0.42</td>\n",
       "      <td>0.16</td>\n",
       "    </tr>\n",
       "    <tr>\n",
       "      <th>StreamingTV</th>\n",
       "      <td>0.10</td>\n",
       "      <td>0.07</td>\n",
       "      <td>0.34</td>\n",
       "      <td>0.38</td>\n",
       "      <td>0.84</td>\n",
       "      <td>0.66</td>\n",
       "      <td>0.36</td>\n",
       "      <td>0.00</td>\n",
       "      <td>0.16</td>\n",
       "      <td>0.19</td>\n",
       "      <td>0.02</td>\n",
       "      <td>0.27</td>\n",
       "      <td>0.27</td>\n",
       "      <td>0.43</td>\n",
       "      <td>0.58</td>\n",
       "      <td>0.42</td>\n",
       "      <td>1.00</td>\n",
       "      <td>0.74</td>\n",
       "      <td>0.39</td>\n",
       "    </tr>\n",
       "    <tr>\n",
       "      <th>StreamingMovies</th>\n",
       "      <td>0.09</td>\n",
       "      <td>0.07</td>\n",
       "      <td>0.33</td>\n",
       "      <td>0.38</td>\n",
       "      <td>0.83</td>\n",
       "      <td>0.67</td>\n",
       "      <td>0.37</td>\n",
       "      <td>0.00</td>\n",
       "      <td>0.19</td>\n",
       "      <td>0.18</td>\n",
       "      <td>0.06</td>\n",
       "      <td>0.27</td>\n",
       "      <td>0.29</td>\n",
       "      <td>0.42</td>\n",
       "      <td>0.59</td>\n",
       "      <td>0.42</td>\n",
       "      <td>0.74</td>\n",
       "      <td>1.00</td>\n",
       "      <td>0.39</td>\n",
       "    </tr>\n",
       "    <tr>\n",
       "      <th>MultipleLines</th>\n",
       "      <td>0.06</td>\n",
       "      <td>0.07</td>\n",
       "      <td>0.25</td>\n",
       "      <td>0.34</td>\n",
       "      <td>0.68</td>\n",
       "      <td>0.61</td>\n",
       "      <td>0.43</td>\n",
       "      <td>0.00</td>\n",
       "      <td>0.22</td>\n",
       "      <td>0.22</td>\n",
       "      <td>0.03</td>\n",
       "      <td>0.23</td>\n",
       "      <td>0.15</td>\n",
       "      <td>0.31</td>\n",
       "      <td>0.31</td>\n",
       "      <td>0.16</td>\n",
       "      <td>0.39</td>\n",
       "      <td>0.39</td>\n",
       "      <td>1.00</td>\n",
       "    </tr>\n",
       "  </tbody>\n",
       "</table>\n",
       "</div>"
      ],
      "text/plain": [
       "                  EndDate  Type  PaperlessBilling  PaymentMethod  \\\n",
       "EndDate              1.00  0.25              0.30           0.45   \n",
       "Type                 0.25  1.00              0.11           0.28   \n",
       "PaperlessBilling     0.30  0.11              1.00           0.37   \n",
       "PaymentMethod        0.45  0.28              0.37           1.00   \n",
       "MonthlyCharges       0.36  0.39              0.47           0.40   \n",
       "TotalCharges         0.28  0.51              0.21           0.35   \n",
       "UseMonth             0.47  0.66              0.00           0.38   \n",
       "gender               0.00  0.00              0.00           0.00   \n",
       "SeniorCitizen        0.23  0.09              0.24           0.29   \n",
       "Partner              0.23  0.18              0.01           0.24   \n",
       "Dependents           0.25  0.15              0.17           0.22   \n",
       "InternetService      0.20  0.51              0.23           0.32   \n",
       "OnlineSecurity       0.26  0.15              0.00           0.26   \n",
       "OnlineBackup         0.13  0.10              0.20           0.28   \n",
       "DeviceProtection     0.10  0.14              0.16           0.31   \n",
       "TechSupport          0.25  0.18              0.06           0.27   \n",
       "StreamingTV          0.10  0.07              0.34           0.38   \n",
       "StreamingMovies      0.09  0.07              0.33           0.38   \n",
       "MultipleLines        0.06  0.07              0.25           0.34   \n",
       "\n",
       "                  MonthlyCharges  TotalCharges  UseMonth  gender  \\\n",
       "EndDate                     0.36          0.28      0.47    0.00   \n",
       "Type                        0.39          0.51      0.66    0.00   \n",
       "PaperlessBilling            0.47          0.21      0.00    0.00   \n",
       "PaymentMethod               0.40          0.35      0.38    0.00   \n",
       "MonthlyCharges              1.00          0.76      0.41    0.01   \n",
       "TotalCharges                0.76          1.00      0.84    0.00   \n",
       "UseMonth                    0.41          0.84      1.00    0.00   \n",
       "gender                      0.01          0.00      0.00    1.00   \n",
       "SeniorCitizen               0.30          0.15      0.03    0.00   \n",
       "Partner                     0.20          0.42      0.49    0.00   \n",
       "Dependents                  0.18          0.11      0.21    0.00   \n",
       "InternetService             0.92          0.51      0.02    0.00   \n",
       "OnlineSecurity              0.55          0.54      0.42    0.02   \n",
       "OnlineBackup                0.63          0.66      0.47    0.01   \n",
       "DeviceProtection            0.67          0.67      0.47    0.00   \n",
       "TechSupport                 0.58          0.57      0.42    0.00   \n",
       "StreamingTV                 0.84          0.66      0.36    0.00   \n",
       "StreamingMovies             0.83          0.67      0.37    0.00   \n",
       "MultipleLines               0.68          0.61      0.43    0.00   \n",
       "\n",
       "                  SeniorCitizen  Partner  Dependents  InternetService  \\\n",
       "EndDate                    0.23     0.23        0.25             0.20   \n",
       "Type                       0.09     0.18        0.15             0.51   \n",
       "PaperlessBilling           0.24     0.01        0.17             0.23   \n",
       "PaymentMethod              0.29     0.24        0.22             0.32   \n",
       "MonthlyCharges             0.30     0.20        0.18             0.92   \n",
       "TotalCharges               0.15     0.42        0.11             0.51   \n",
       "UseMonth                   0.03     0.49        0.21             0.02   \n",
       "gender                     0.00     0.00        0.00             0.00   \n",
       "SeniorCitizen              1.00     0.02        0.32             0.16   \n",
       "Partner                    0.02     1.00        0.65             0.00   \n",
       "Dependents                 0.32     0.65        1.00             0.11   \n",
       "InternetService            0.16     0.00        0.11             1.00   \n",
       "OnlineSecurity             0.06     0.22        0.12             0.24   \n",
       "OnlineBackup               0.10     0.22        0.03             0.23   \n",
       "DeviceProtection           0.09     0.24        0.01             0.23   \n",
       "TechSupport                0.09     0.19        0.10             0.24   \n",
       "StreamingTV                0.16     0.19        0.02             0.27   \n",
       "StreamingMovies            0.19     0.18        0.06             0.27   \n",
       "MultipleLines              0.22     0.22        0.03             0.23   \n",
       "\n",
       "                  OnlineSecurity  OnlineBackup  DeviceProtection  TechSupport  \\\n",
       "EndDate                     0.26          0.13              0.10         0.25   \n",
       "Type                        0.15          0.10              0.14         0.18   \n",
       "PaperlessBilling            0.00          0.20              0.16         0.06   \n",
       "PaymentMethod               0.26          0.28              0.31         0.27   \n",
       "MonthlyCharges              0.55          0.63              0.67         0.58   \n",
       "TotalCharges                0.54          0.66              0.67         0.57   \n",
       "UseMonth                    0.42          0.47              0.47         0.42   \n",
       "gender                      0.02          0.01              0.00         0.00   \n",
       "SeniorCitizen               0.06          0.10              0.09         0.09   \n",
       "Partner                     0.22          0.22              0.24         0.19   \n",
       "Dependents                  0.12          0.03              0.01         0.10   \n",
       "InternetService             0.24          0.23              0.23         0.24   \n",
       "OnlineSecurity              1.00          0.43              0.42         0.53   \n",
       "OnlineBackup                0.43          1.00              0.46         0.45   \n",
       "DeviceProtection            0.42          0.46              1.00         0.50   \n",
       "TechSupport                 0.53          0.45              0.50         1.00   \n",
       "StreamingTV                 0.27          0.43              0.58         0.42   \n",
       "StreamingMovies             0.29          0.42              0.59         0.42   \n",
       "MultipleLines               0.15          0.31              0.31         0.16   \n",
       "\n",
       "                  StreamingTV  StreamingMovies  MultipleLines  \n",
       "EndDate                  0.10             0.09           0.06  \n",
       "Type                     0.07             0.07           0.07  \n",
       "PaperlessBilling         0.34             0.33           0.25  \n",
       "PaymentMethod            0.38             0.38           0.34  \n",
       "MonthlyCharges           0.84             0.83           0.68  \n",
       "TotalCharges             0.66             0.67           0.61  \n",
       "UseMonth                 0.36             0.37           0.43  \n",
       "gender                   0.00             0.00           0.00  \n",
       "SeniorCitizen            0.16             0.19           0.22  \n",
       "Partner                  0.19             0.18           0.22  \n",
       "Dependents               0.02             0.06           0.03  \n",
       "InternetService          0.27             0.27           0.23  \n",
       "OnlineSecurity           0.27             0.29           0.15  \n",
       "OnlineBackup             0.43             0.42           0.31  \n",
       "DeviceProtection         0.58             0.59           0.31  \n",
       "TechSupport              0.42             0.42           0.16  \n",
       "StreamingTV              1.00             0.74           0.39  \n",
       "StreamingMovies          0.74             1.00           0.39  \n",
       "MultipleLines            0.39             0.39           1.00  "
      ]
     },
     "execution_count": 97,
     "metadata": {},
     "output_type": "execute_result"
    }
   ],
   "source": [
    "phik_overview = df.phik_matrix()\n",
    "phik_overview.round(2)"
   ]
  },
  {
   "cell_type": "code",
   "execution_count": 98,
   "metadata": {},
   "outputs": [
    {
     "data": {
      "text/plain": [
       "<AxesSubplot:>"
      ]
     },
     "execution_count": 98,
     "metadata": {},
     "output_type": "execute_result"
    },
    {
     "data": {
      "image/png": "[encoded data removed]",
      "text/plain": [
       "<Figure size 1120x1120 with 2 Axes>"
      ]
     },
     "metadata": {
      "needs_background": "light"
     },
     "output_type": "display_data"
    }
   ],
   "source": [
    "plt.figure(figsize=(14,14), dpi= 80)\n",
    "sns.heatmap(phik_overview,  cmap='RdYlGn', center=0, annot=True)"
   ]
  },
  {
   "cell_type": "markdown",
   "metadata": {},
   "source": [
    "Удалим столбец'TotalCharges'. Он показывает перемноженное значение тарифа на количество месяцев и сильно коррелирует с \"MonthlyCharges\" и \"UseMonth\".\n",
    "А так же удалим столбец \"StreamingMovies\" он сильно коррелирует с \"MonthlyCharges\" и \"StreamingTV\"."
   ]
  },
  {
   "cell_type": "code",
   "execution_count": 99,
   "metadata": {
    "id": "I1E9be6HwVT3"
   },
   "outputs": [],
   "source": [
    "df.drop(['TotalCharges', 'StreamingMovies'], axis=1, inplace=True)"
   ]
  },
  {
   "cell_type": "code",
   "execution_count": 100,
   "metadata": {},
   "outputs": [
    {
     "name": "stdout",
     "output_type": "stream",
     "text": [
      "interval columns not set, guessing: ['EndDate', 'MonthlyCharges', 'UseMonth', 'SeniorCitizen']\n"
     ]
    },
    {
     "data": {
      "text/plain": [
       "<AxesSubplot:>"
      ]
     },
     "execution_count": 100,
     "metadata": {},
     "output_type": "execute_result"
    },
    {
     "data": {
      "image/png": "[encoded data removed]",
      "text/plain": [
       "<Figure size 1120x1120 with 2 Axes>"
      ]
     },
     "metadata": {
      "needs_background": "light"
     },
     "output_type": "display_data"
    }
   ],
   "source": [
    "phik_overview = df.phik_matrix()\n",
    "phik_overview.round(2)\n",
    "plt.figure(figsize=(14,14), dpi= 80)\n",
    "sns.heatmap(phik_overview,  cmap='RdYlGn', center=0, annot=True)"
   ]
  },
  {
   "cell_type": "markdown",
   "metadata": {
    "id": "E4sI-3eHxhko"
   },
   "source": [
    "### Подготовка обучающей и тестовой выборок"
   ]
  },
  {
   "cell_type": "code",
   "execution_count": 101,
   "metadata": {
    "id": "0q9f6YrxTsRJ"
   },
   "outputs": [],
   "source": [
    "random_state = 101022"
   ]
  },
  {
   "cell_type": "code",
   "execution_count": 102,
   "metadata": {
    "id": "ItVEYPN01Y65"
   },
   "outputs": [],
   "source": [
    "X = df.drop('EndDate', axis=1)\n",
    "y = df['EndDate']"
   ]
  },
  {
   "cell_type": "markdown",
   "metadata": {
    "id": "ItVEYPN01Y65"
   },
   "source": [
    "<div class=\"alert alert-success\">\n",
    "<b>**Комментарий тимлида_v2 ✔️:**</b>\n",
    "\n",
    "Отлично, есть выделение обучающих признаков и целевого.\n",
    "</div>"
   ]
  },
  {
   "cell_type": "code",
   "execution_count": 103,
   "metadata": {
    "id": "zAXFbS7Es680"
   },
   "outputs": [],
   "source": [
    "X_train, X_test, y_train, y_test = train_test_split(X, y,\n",
    "                                                    test_size=0.25, random_state=random_state)"
   ]
  },
  {
   "cell_type": "code",
   "execution_count": 104,
   "metadata": {
    "id": "xxldI2aUXNnl"
   },
   "outputs": [],
   "source": [
    "cat_futures = [\n",
    "    'Type', 'PaperlessBilling', 'PaymentMethod',\n",
    "    'gender', 'SeniorCitizen', 'Partner',\n",
    "    'Dependents', 'InternetService', 'OnlineSecurity',\n",
    "    'OnlineBackup', 'DeviceProtection', 'TechSupport',\n",
    "    'StreamingTV', 'MultipleLines'   \n",
    "]"
   ]
  },
  {
   "cell_type": "code",
   "execution_count": 105,
   "metadata": {
    "id": "YUbXOkPssUYP",
    "scrolled": true
   },
   "outputs": [
    {
     "name": "stderr",
     "output_type": "stream",
     "text": [
      "/opt/conda/lib/python3.9/site-packages/pandas/core/indexing.py:1738: SettingWithCopyWarning: \n",
      "A value is trying to be set on a copy of a slice from a DataFrame.\n",
      "Try using .loc[row_indexer,col_indexer] = value instead\n",
      "\n",
      "See the caveats in the documentation: https://pandas.pydata.org/pandas-docs/stable/user_guide/indexing.html#returning-a-view-versus-a-copy\n",
      "  self._setitem_single_column(loc, value[:, i].tolist(), pi)\n",
      "/opt/conda/lib/python3.9/site-packages/pandas/core/indexing.py:1738: SettingWithCopyWarning: \n",
      "A value is trying to be set on a copy of a slice from a DataFrame.\n",
      "Try using .loc[row_indexer,col_indexer] = value instead\n",
      "\n",
      "See the caveats in the documentation: https://pandas.pydata.org/pandas-docs/stable/user_guide/indexing.html#returning-a-view-versus-a-copy\n",
      "  self._setitem_single_column(loc, value[:, i].tolist(), pi)\n"
     ]
    }
   ],
   "source": [
    "en = OrdinalEncoder()\n",
    "en.fit(X_train.loc[:, cat_futures])\n",
    "X_train.loc[:, cat_futures] = en.transform(X_train.loc[:, cat_futures])\n",
    "X_test.loc[:, cat_futures] = en.transform(X_test.loc[:, cat_futures])"
   ]
  },
  {
   "cell_type": "code",
   "execution_count": 106,
   "metadata": {},
   "outputs": [
    {
     "data": {
      "text/html": [
       "<div>\n",
       "<style scoped>\n",
       "    .dataframe tbody tr th:only-of-type {\n",
       "        vertical-align: middle;\n",
       "    }\n",
       "\n",
       "    .dataframe tbody tr th {\n",
       "        vertical-align: top;\n",
       "    }\n",
       "\n",
       "    .dataframe thead th {\n",
       "        text-align: right;\n",
       "    }\n",
       "</style>\n",
       "<table border=\"1\" class=\"dataframe\">\n",
       "  <thead>\n",
       "    <tr style=\"text-align: right;\">\n",
       "      <th></th>\n",
       "      <th>Type</th>\n",
       "      <th>PaperlessBilling</th>\n",
       "      <th>PaymentMethod</th>\n",
       "      <th>MonthlyCharges</th>\n",
       "      <th>UseMonth</th>\n",
       "      <th>gender</th>\n",
       "      <th>SeniorCitizen</th>\n",
       "      <th>Partner</th>\n",
       "      <th>Dependents</th>\n",
       "      <th>InternetService</th>\n",
       "      <th>OnlineSecurity</th>\n",
       "      <th>OnlineBackup</th>\n",
       "      <th>DeviceProtection</th>\n",
       "      <th>TechSupport</th>\n",
       "      <th>StreamingTV</th>\n",
       "      <th>MultipleLines</th>\n",
       "    </tr>\n",
       "  </thead>\n",
       "  <tbody>\n",
       "    <tr>\n",
       "      <th>317</th>\n",
       "      <td>1.0</td>\n",
       "      <td>0.0</td>\n",
       "      <td>1.0</td>\n",
       "      <td>80.30</td>\n",
       "      <td>38</td>\n",
       "      <td>0.0</td>\n",
       "      <td>0.0</td>\n",
       "      <td>1.0</td>\n",
       "      <td>1.0</td>\n",
       "      <td>0.0</td>\n",
       "      <td>1.0</td>\n",
       "      <td>1.0</td>\n",
       "      <td>0.0</td>\n",
       "      <td>1.0</td>\n",
       "      <td>1.0</td>\n",
       "      <td>0.0</td>\n",
       "    </tr>\n",
       "    <tr>\n",
       "      <th>3774</th>\n",
       "      <td>1.0</td>\n",
       "      <td>1.0</td>\n",
       "      <td>2.0</td>\n",
       "      <td>80.85</td>\n",
       "      <td>52</td>\n",
       "      <td>1.0</td>\n",
       "      <td>1.0</td>\n",
       "      <td>1.0</td>\n",
       "      <td>1.0</td>\n",
       "      <td>0.0</td>\n",
       "      <td>0.0</td>\n",
       "      <td>1.0</td>\n",
       "      <td>1.0</td>\n",
       "      <td>0.0</td>\n",
       "      <td>1.0</td>\n",
       "      <td>1.0</td>\n",
       "    </tr>\n",
       "    <tr>\n",
       "      <th>1817</th>\n",
       "      <td>2.0</td>\n",
       "      <td>0.0</td>\n",
       "      <td>0.0</td>\n",
       "      <td>98.35</td>\n",
       "      <td>72</td>\n",
       "      <td>1.0</td>\n",
       "      <td>1.0</td>\n",
       "      <td>1.0</td>\n",
       "      <td>0.0</td>\n",
       "      <td>1.0</td>\n",
       "      <td>0.0</td>\n",
       "      <td>1.0</td>\n",
       "      <td>0.0</td>\n",
       "      <td>0.0</td>\n",
       "      <td>1.0</td>\n",
       "      <td>1.0</td>\n",
       "    </tr>\n",
       "    <tr>\n",
       "      <th>4128</th>\n",
       "      <td>0.0</td>\n",
       "      <td>1.0</td>\n",
       "      <td>2.0</td>\n",
       "      <td>39.30</td>\n",
       "      <td>57</td>\n",
       "      <td>1.0</td>\n",
       "      <td>0.0</td>\n",
       "      <td>0.0</td>\n",
       "      <td>0.0</td>\n",
       "      <td>0.0</td>\n",
       "      <td>0.0</td>\n",
       "      <td>1.0</td>\n",
       "      <td>0.0</td>\n",
       "      <td>0.0</td>\n",
       "      <td>1.0</td>\n",
       "      <td>0.0</td>\n",
       "    </tr>\n",
       "    <tr>\n",
       "      <th>6331</th>\n",
       "      <td>1.0</td>\n",
       "      <td>0.0</td>\n",
       "      <td>2.0</td>\n",
       "      <td>40.30</td>\n",
       "      <td>47</td>\n",
       "      <td>1.0</td>\n",
       "      <td>0.0</td>\n",
       "      <td>1.0</td>\n",
       "      <td>1.0</td>\n",
       "      <td>0.0</td>\n",
       "      <td>1.0</td>\n",
       "      <td>0.0</td>\n",
       "      <td>1.0</td>\n",
       "      <td>1.0</td>\n",
       "      <td>0.0</td>\n",
       "      <td>0.0</td>\n",
       "    </tr>\n",
       "  </tbody>\n",
       "</table>\n",
       "</div>"
      ],
      "text/plain": [
       "      Type  PaperlessBilling  PaymentMethod  MonthlyCharges  UseMonth  gender  \\\n",
       "317    1.0               0.0            1.0           80.30        38     0.0   \n",
       "3774   1.0               1.0            2.0           80.85        52     1.0   \n",
       "1817   2.0               0.0            0.0           98.35        72     1.0   \n",
       "4128   0.0               1.0            2.0           39.30        57     1.0   \n",
       "6331   1.0               0.0            2.0           40.30        47     1.0   \n",
       "\n",
       "      SeniorCitizen  Partner  Dependents  InternetService  OnlineSecurity  \\\n",
       "317             0.0      1.0         1.0              0.0             1.0   \n",
       "3774            1.0      1.0         1.0              0.0             0.0   \n",
       "1817            1.0      1.0         0.0              1.0             0.0   \n",
       "4128            0.0      0.0         0.0              0.0             0.0   \n",
       "6331            0.0      1.0         1.0              0.0             1.0   \n",
       "\n",
       "      OnlineBackup  DeviceProtection  TechSupport  StreamingTV  MultipleLines  \n",
       "317            1.0               0.0          1.0          1.0            0.0  \n",
       "3774           1.0               1.0          0.0          1.0            1.0  \n",
       "1817           1.0               0.0          0.0          1.0            1.0  \n",
       "4128           1.0               0.0          0.0          1.0            0.0  \n",
       "6331           0.0               1.0          1.0          0.0            0.0  "
      ]
     },
     "execution_count": 106,
     "metadata": {},
     "output_type": "execute_result"
    }
   ],
   "source": [
    "X_train.head()"
   ]
  },
  {
   "cell_type": "markdown",
   "metadata": {
    "colab": {
     "base_uri": "https://localhost:8080/",
     "height": 631
    },
    "id": "CGnmAs8-N7jE",
    "outputId": "d23946f8-a4a3-43c3-843d-de5e856da975"
   },
   "source": [
    "<div class=\"alert alert-danger\">\n",
    "<b>**Комментарий тимлида_v2 ❌:**</b>\n",
    "\n",
    "Кодирование нужно проводить ПОСЛЕ разбиения на трейн-тест. Как и с масштабированием - обучаем на трейне, преобразовываем как на трейне так и на тесте. Мы не знаем какие данные могут быть в тесте (по факту тест нам как бы недоступен), по этому не должны допускать утечку инфомрации из теста.\n",
    "</div>"
   ]
  },
  {
   "cell_type": "markdown",
   "metadata": {
    "colab": {
     "base_uri": "https://localhost:8080/",
     "height": 1000
    },
    "id": "RWVHoZU1wDdM",
    "outputId": "5d37c98c-4abc-4f66-df65-abaae9fd782d"
   },
   "source": [
    "<div class=\"alert alert-danger\">\n",
    "<b>**Комментарий тимлида_v2 ❌:**</b>\n",
    "    \n",
    "Не верный подход к обучению модели.\n",
    "\n",
    "1. Для начала тебе нужно разбить выборку на трейн-тест (не забудь указать правильный random_state).\n",
    "\n",
    "2. Выбрать модель, перечень перебираемых гиперпараметров. Провести подбор гиперпараметров для модели на трейне. \n",
    "\n",
    "3. Вывести итоговую метрику на кроссвалидации (получается в ходе подбора гиперпараметров, находится в атрибуте model.best_score_)\n",
    "\n",
    "Данный подход нужно использовать для всех моделей, которые ты исследуешь (не менее 2х).\n",
    "\n",
    "После этого - выбрать лучшую модель по результатам сравнения метрики на кроссвалидации и ТОЛЬКО ее протестировать на тестовой выборке. Именно это значение метрики и будет результатом работы. \n",
    "    \n",
    "Пожалуйста переделай этот раздел.\n",
    "</div>"
   ]
  },
  {
   "cell_type": "markdown",
   "metadata": {
    "colab": {
     "base_uri": "https://localhost:8080/",
     "height": 1000
    },
    "id": "RWVHoZU1wDdM",
    "outputId": "5d37c98c-4abc-4f66-df65-abaae9fd782d"
   },
   "source": [
    "<div class=\"alert alert-danger\">\n",
    "<b>**Комментарий тимлида ❌:**</b>\n",
    "\n",
    "Значимость признаков модели изучаем только для лучшей модели в конце исследования.\n",
    "</div>"
   ]
  },
  {
   "cell_type": "markdown",
   "metadata": {
    "id": "ydnRJrgKwcAG"
   },
   "source": [
    "<div class=\"alert alert-danger\">\n",
    "<b>**Комментарий тимлида_v2:**</b>\n",
    "\n",
    "Хорошо что проводишь проверку на мультиколлинеарность. Проверку лучше проводить ДО разбиения на трейн-тест и выделения целевого признака. В этом случае ты сможешь проверить за одно и \"утечки\" целевого признака - зависимость таргета от остальных признаков.\n",
    " \n",
    "df.corr() по умолчанию использует коэф корреляции Пирсона. Он подходит ТОЛЬКО для только для числовых (номинальных) признаков, и у тебя очень мало. Все остальные - категориальные. Для их проверки нужно использовать другие инструменты, например можно использовать библиотеку phik. Она работает как с категориальными так и с числовыми признаками. Рекомендую вот хорошая статья про исользование phik - https://towardsdatascience.com/phik-k-get-familiar-with-the-latest-correlation-coefficient-9ba0032b37e7?gi=ec24d1aea018\n",
    "\n",
    "Напоминаю - два признака называются мультиколлинеарными, если они сильно коррелированы/зависимы. Изменения в одном признаке влекут за собой изменения в другом признаке. Мультиколлинеарность влияет на алгоритмы линейной регрессии, логистической регрессии, KNN и Наивного Байеса. В случае использования этих моделей нужно избавляться от мультиколлинеарности (удалять один из признаков).\n",
    "\n",
    "</div>"
   ]
  },
  {
   "cell_type": "markdown",
   "metadata": {
    "id": "ydnRJrgKwcAG"
   },
   "source": [
    "<div class=\"alert alert-success\">\n",
    "<b>**Комментарий тимлида_v2 ✔️:**</b>\n",
    "\n",
    "Выводы верные, их нужно использовать в случае если работаешь с линейными моделями.\n",
    "</div>"
   ]
  },
  {
   "cell_type": "markdown",
   "metadata": {
    "id": "y4WPxvrFDTdx"
   },
   "source": [
    "<div class=\"alert alert-danger\">\n",
    "<b>**Комментарий тимлида_v2 ❌:**</b>\n",
    "\n",
    "1. В ходе предварительного анализа ты выявил дисбаланс классов - contract['EndDate'].value_counts(). Однако выводов никаких не последовало. Считаю что ты пока не провел исследовательскую работы по поводу того, что будешь делать с дисбалансом.\n",
    "\n",
    "Есть несколько вариантов в нашем случае:\n",
    "   \n",
    "- ничего не делать тк дисбаланс пограничный на уровне 1:3\n",
    "- применить сэмплирование\n",
    "- воспользоваться встренными средствами балансировки в моделях\n",
    "\n",
    "2. В случае наличия дисбаланса целевого признака при разбивке на подвыборки нужно использовать стратификацию (параметр stratify)\n",
    "\n",
    "</div>"
   ]
  },
  {
   "cell_type": "markdown",
   "metadata": {
    "colab": {
     "base_uri": "https://localhost:8080/"
    },
    "id": "sijM9WjQx3gl",
    "outputId": "8cc91917-0ddc-40b7-bf45-884377fb4d27"
   },
   "source": [
    "<div class=\"alert alert-danger\">\n",
    "<b>**Комментарий тимлида_v2 ❌:**</b>\n",
    "\n",
    "Для чего ты еще раз выполняешь кодирование? Выше ты уже провел кодирование  OrdinalEncoder. Так же не понятно для чего выполнять кодирование целевого признака - он у тебя и так 0/1.\n",
    "</div>"
   ]
  },
  {
   "cell_type": "markdown",
   "metadata": {},
   "source": [
    "<div class=\"alert alert-info\"> <b>Комментарий студента:</b> Да, верно.</div>"
   ]
  },
  {
   "cell_type": "markdown",
   "metadata": {
    "colab": {
     "base_uri": "https://localhost:8080/",
     "height": 270
    },
    "id": "fc4D1aPPeaGV",
    "outputId": "55b6243b-8ece-477f-de64-e5de098d9aec"
   },
   "source": [
    "<div class=\"alert alert-warning\">\n",
    "<b>**Комментарий тимлида_v2 ⚠️:**</b>\n",
    "\n",
    "Масштабирование признаков - важный этап работы в случае если планируешь использовать простые линейные модели. Для более сложных моделей масштабирование наоборот может ухудшить результаты. При этом нужно помнить, что обучение скейлера производится на трейне, а применение - как на трейне так и на тесте.\n",
    "</div>"
   ]
  },
  {
   "cell_type": "markdown",
   "metadata": {},
   "source": [
    "<div class=\"alert alert-info\"> <b>Комментарий студента:</b> Попробую убрать.</div>"
   ]
  },
  {
   "cell_type": "markdown",
   "metadata": {
    "id": "AiUkMBLqNRug"
   },
   "source": [
    "### Random Forest"
   ]
  },
  {
   "cell_type": "markdown",
   "metadata": {},
   "source": [
    "Перебор гиперпараметров здесь и далее в моделях закомментирован для ускорения работы кода, лучшие гиперпараметры добавлены в аналогичный код для проверки работоспособности моделей и кода."
   ]
  },
  {
   "cell_type": "markdown",
   "metadata": {},
   "source": [
    "Так как у нас есть дисбаланс классов примерно 1:3, то для балансировки классов в параметре \"class_weight\" всех моделей сблансируем классы."
   ]
  },
  {
   "cell_type": "code",
   "execution_count": 107,
   "metadata": {
    "id": "Ek03w0W3MNO2",
    "scrolled": true
   },
   "outputs": [],
   "source": [
    "# rfc = RandomForestClassifier(class_weight={0:1, 1:3},\n",
    "#                              bootstrap=True,\n",
    "#                              random_state=random_state)\n",
    "\n",
    "# rfc_params = {\n",
    "#     'n_estimators': range(10, 201, 10),\n",
    "#     'max_depth': range(1,13),\n",
    "#     'criterion': ['gini', 'entropy'],\n",
    "#     'max_features': ['sqrt', 'log2']\n",
    "\n",
    "# }\n",
    "\n",
    "# gs_rfc = GridSearchCV(rfc,\n",
    "#                       rfc_params,\n",
    "#                       verbose=3,\n",
    "#                       cv=5,\n",
    "#                       n_jobs=-1,\n",
    "#                       scoring='roc_auc')\n",
    "\n",
    "\n",
    "# gs_rfc.fit(X_train, y_train)\n",
    "# gs_rfc.best_score_\n",
    "# gs_rfc.best_params_"
   ]
  },
  {
   "cell_type": "markdown",
   "metadata": {
    "colab": {
     "base_uri": "https://localhost:8080/"
    },
    "id": "-RRx-W5BNV5r",
    "outputId": "61049f64-9451-4aac-a674-1f6226b183fe"
   },
   "source": [
    "<div class=\"alert alert-warning\">\n",
    "<b>**Комментарий тимлида_v2 ⚠️:**</b>\n",
    "\n",
    "Нет необходимости в ручном разбиении на фолды если используешь GridSearchCV. Алгоритм самостоятельно выполнит эту операцию за тебя. \n",
    "</div>"
   ]
  },
  {
   "cell_type": "code",
   "execution_count": 108,
   "metadata": {
    "colab": {
     "base_uri": "https://localhost:8080/"
    },
    "id": "-RRx-W5BNV5r",
    "outputId": "61049f64-9451-4aac-a674-1f6226b183fe"
   },
   "outputs": [
    {
     "name": "stdout",
     "output_type": "stream",
     "text": [
      "Fitting 5 folds for each of 1 candidates, totalling 5 fits\n",
      "[CV 1/5] END criterion=entropy, max_depth=6, max_features=sqrt, n_estimators=30; total time=   0.1s\n",
      "[CV 2/5] END criterion=entropy, max_depth=6, max_features=sqrt, n_estimators=30; total time=   0.1s\n",
      "[CV 3/5] END criterion=entropy, max_depth=6, max_features=sqrt, n_estimators=30; total time=   0.1s\n",
      "[CV 4/5] END criterion=entropy, max_depth=6, max_features=sqrt, n_estimators=30; total time=   0.1s\n",
      "[CV 5/5] END criterion=entropy, max_depth=6, max_features=sqrt, n_estimators=30; total time=   0.1s\n"
     ]
    },
    {
     "data": {
      "text/plain": [
       "0.846745599744495"
      ]
     },
     "execution_count": 108,
     "metadata": {},
     "output_type": "execute_result"
    }
   ],
   "source": [
    "rfc = RandomForestClassifier(class_weight={0:1, 1:3},\n",
    "                             bootstrap=True,\n",
    "                             random_state=random_state)\n",
    "\n",
    "rfc_params = {\n",
    "     'n_estimators': [30],\n",
    "     'max_depth': [6],\n",
    "     'criterion': ['entropy'],\n",
    "     'max_features': ['sqrt']\n",
    "\n",
    "}\n",
    "\n",
    "gs_rfc = GridSearchCV(rfc,\n",
    "                      rfc_params,\n",
    "                      verbose=3,\n",
    "                      cv=5,\n",
    "                      n_jobs=-1,\n",
    "                      scoring='roc_auc')\n",
    "\n",
    "\n",
    "gs_rfc.fit(X_train, y_train)\n",
    "gs_rfc.best_score_"
   ]
  },
  {
   "cell_type": "markdown",
   "metadata": {
    "id": "m7IBmtynSK8Q"
   },
   "source": [
    "<div class=\"alert alert-danger\">\n",
    "<b>**Комментарий тимлида_v2 ❌:**</b>\n",
    "\n",
    "У тебя в перечне параметров не указаны диапазоны для подбора. Те ты по сути не перебираешь, а используешь указанные значения. Это не правильно, теряется весь смысл этапа подбора гиперпараметров.\n",
    "</div>"
   ]
  },
  {
   "cell_type": "markdown",
   "metadata": {},
   "source": [
    "<div class=\"alert alert-info\"> <b>Комментарий студента:</b> Добавил комментарий сверху, что гиперпараметры перебираются в закомментированной части кода.</div>"
   ]
  },
  {
   "cell_type": "markdown",
   "metadata": {
    "id": "m7IBmtynSK8Q"
   },
   "source": [
    "<div class=\"alert alert-success\">\n",
    "<b>**Комментарий тимлида_v3 ✔️:**</b>\n",
    "\n",
    "Отлично, теперь все верно - есть подбор гиперпараметров, есть метрика на кроссвалидации, есть работа с дисбалансом!\n",
    "</div>"
   ]
  },
  {
   "cell_type": "markdown",
   "metadata": {
    "id": "m7IBmtynSK8Q"
   },
   "source": [
    "### LGBMClassifier\n"
   ]
  },
  {
   "cell_type": "code",
   "execution_count": 109,
   "metadata": {
    "id": "83_X72KcPtvi"
   },
   "outputs": [],
   "source": [
    "# lgbm = LGBMClassifier(random_state=random_state,\n",
    "#                             class_weight={0:1, 1:3})\n",
    "# lgbm_params = {\n",
    "# 'max_depth': [x for x in range(1,6)],\n",
    "# 'n_estimators': [x for x in range(100,1100, 100)],\n",
    "# 'learning_rate': [0.5, 0.6, 0.7]\n",
    "# }\n",
    "\n",
    "\n",
    "# gs_lgbm = GridSearchCV(lgbm,\n",
    "#                        lgbm_params,\n",
    "#                        verbose=3,\n",
    "#                        cv=5,\n",
    "#                        n_jobs=-1,\n",
    "#                        scoring='roc_auc')\n",
    "\n",
    "\n",
    "\n",
    "# gs_lgbm.fit(X_train, y_train)\n",
    "# gs_lgbm.best_params_\n",
    "# # gs_lgbm.best_score_"
   ]
  },
  {
   "cell_type": "code",
   "execution_count": 110,
   "metadata": {
    "colab": {
     "base_uri": "https://localhost:8080/"
    },
    "id": "Q88rbAbtS_Bp",
    "outputId": "98552615-5bae-4253-b3f3-f843067221e4",
    "scrolled": false
   },
   "outputs": [
    {
     "data": {
      "text/plain": [
       "0.8471181471683128"
      ]
     },
     "execution_count": 110,
     "metadata": {},
     "output_type": "execute_result"
    }
   ],
   "source": [
    "lgbm = LGBMClassifier(random_state=random_state,\n",
    "                            class_weight={0:1, 1:3})\n",
    "lgbm_params = {\n",
    "'max_depth': [1],\n",
    "'n_estimators': [100],\n",
    "'learning_rate': [0.5]\n",
    "}\n",
    "\n",
    "\n",
    "gs_lgbm = GridSearchCV(lgbm,\n",
    "                       lgbm_params,\n",
    "                       cv=5,\n",
    "                       n_jobs=-1,\n",
    "                       scoring='roc_auc')\n",
    "\n",
    "\n",
    "\n",
    "gs_lgbm.fit(X_train, y_train)\n",
    "gs_lgbm.best_score_"
   ]
  },
  {
   "cell_type": "markdown",
   "metadata": {
    "id": "M_9tB_mqSM-a"
   },
   "source": [
    "<div class=\"alert alert-danger\">\n",
    "<b>**Комментарий тимлида_v2 ❌:**</b>\n",
    "\n",
    "То же замечание что и выше - нет подбора гиперпараметров.\n",
    "</div>"
   ]
  },
  {
   "cell_type": "markdown",
   "metadata": {
    "id": "M_9tB_mqSM-a"
   },
   "source": [
    "<div class=\"alert alert-success\">\n",
    "<b>**Комментарий тимлида_v3 ✔️:**</b>\n",
    "\n",
    "Отлично, теперь все верно - есть подбор гиперпараметров, есть метрика на кроссвалидации, есть работа с дисбалансом!\n",
    "</div>"
   ]
  },
  {
   "cell_type": "markdown",
   "metadata": {
    "id": "M_9tB_mqSM-a"
   },
   "source": [
    "### CatBoostClassifier"
   ]
  },
  {
   "cell_type": "code",
   "execution_count": 111,
   "metadata": {
    "id": "iq1kqT1sl-Yl"
   },
   "outputs": [],
   "source": [
    "# catboost = CatBoostClassifier(loss_function='Logloss',\n",
    "#                               random_seed=random_state,\n",
    "#                               class_weight={0:1, 1:3},\n",
    "#                               silent=True)\n",
    "\n",
    "# catboost_params = {\n",
    "# 'depth': [x for x in range(1,5)],\n",
    "# 'iterations': [x for x in range(100,1100, 100)],\n",
    "# 'learning_rate': [0.5, 0.6, 0.7],\n",
    "# 'l2_leaf_reg':[x for x in range(1,7)],\n",
    "# }\n",
    "\n",
    "\n",
    "\n",
    "# gs_catboost = GridSearchCV(catboost,\n",
    "#                            catboost_params, \n",
    "#                            verbose=3,\n",
    "#                            cv=5,\n",
    "#                            n_jobs=-1,\n",
    "#                            scoring='roc_auc')\n",
    "\n",
    "\n",
    "# gs_catboost.fit(X_train, y_train)\n",
    "# # gs_catboost.best_score_\n",
    "# gs_catboost.best_params_"
   ]
  },
  {
   "cell_type": "code",
   "execution_count": 113,
   "metadata": {
    "colab": {
     "base_uri": "https://localhost:8080/"
    },
    "id": "ytvIAmJC2GT1",
    "outputId": "6cdae3a0-d089-496a-bd7c-4038aab95552"
   },
   "outputs": [
    {
     "name": "stdout",
     "output_type": "stream",
     "text": [
      "Fitting 5 folds for each of 1 candidates, totalling 5 fits\n",
      "[CV 1/5] END depth=1, iterations=100, l2_leaf_reg=4, learning_rate=0.6; total time=   0.5s\n",
      "[CV 2/5] END depth=1, iterations=100, l2_leaf_reg=4, learning_rate=0.6; total time=   0.5s\n",
      "[CV 3/5] END depth=1, iterations=100, l2_leaf_reg=4, learning_rate=0.6; total time=   0.5s\n",
      "[CV 4/5] END depth=1, iterations=100, l2_leaf_reg=4, learning_rate=0.6; total time=   0.5s\n",
      "[CV 5/5] END depth=1, iterations=100, l2_leaf_reg=4, learning_rate=0.6; total time=   0.6s\n"
     ]
    },
    {
     "data": {
      "text/plain": [
       "0.8479533380292767"
      ]
     },
     "execution_count": 113,
     "metadata": {},
     "output_type": "execute_result"
    }
   ],
   "source": [
    "catboost = CatBoostClassifier(loss_function='Logloss',\n",
    "                              random_seed=random_state,\n",
    "                              class_weights={0:1, 1:3},\n",
    "                              silent=True)\n",
    "\n",
    "catboost_params = {\n",
    " 'depth': [1],\n",
    " 'iterations': [100],\n",
    " 'learning_rate': [0.6],\n",
    " 'l2_leaf_reg':[4],\n",
    "}\n",
    "\n",
    "\n",
    "\n",
    "gs_catboost = GridSearchCV(catboost,\n",
    "                           catboost_params, \n",
    "                           verbose=3,\n",
    "                           cv=5,\n",
    "                           n_jobs=-1,\n",
    "                           scoring='roc_auc')\n",
    "\n",
    "\n",
    "gs_catboost.fit(X_train, y_train)\n",
    "gs_catboost.best_score_"
   ]
  },
  {
   "cell_type": "markdown",
   "metadata": {
    "id": "Xq1SeyDeM3gM"
   },
   "source": [
    "<div class=\"alert alert-danger\">\n",
    "<b>**Комментарий тимлида_v2 ❌:**</b>\n",
    "\n",
    "То же замечание что и выше - нет подбора гиперпараметров.\n",
    "</div>"
   ]
  },
  {
   "cell_type": "markdown",
   "metadata": {
    "id": "Xq1SeyDeM3gM"
   },
   "source": [
    "<div class=\"alert alert-success\">\n",
    "<b>**Комментарий тимлида_v3 ✔️:**</b>\n",
    "\n",
    "Отлично, теперь все верно - есть подбор гиперпараметров, есть метрика на кроссвалидации, есть работа с дисбалансом!\n",
    "</div>"
   ]
  },
  {
   "cell_type": "markdown",
   "metadata": {
    "id": "Xq1SeyDeM3gM"
   },
   "source": [
    "### Сравнение результатов моделей"
   ]
  },
  {
   "cell_type": "code",
   "execution_count": 114,
   "metadata": {
    "colab": {
     "base_uri": "https://localhost:8080/",
     "height": 143
    },
    "id": "v0m8SWCTQDdi",
    "outputId": "c57a60b3-5fa4-46af-e6ac-61ebefdec289"
   },
   "outputs": [
    {
     "data": {
      "text/html": [
       "<div>\n",
       "<style scoped>\n",
       "    .dataframe tbody tr th:only-of-type {\n",
       "        vertical-align: middle;\n",
       "    }\n",
       "\n",
       "    .dataframe tbody tr th {\n",
       "        vertical-align: top;\n",
       "    }\n",
       "\n",
       "    .dataframe thead th {\n",
       "        text-align: right;\n",
       "    }\n",
       "</style>\n",
       "<table border=\"1\" class=\"dataframe\">\n",
       "  <thead>\n",
       "    <tr style=\"text-align: right;\">\n",
       "      <th></th>\n",
       "      <th>Model</th>\n",
       "      <th>ROC-AUC score</th>\n",
       "    </tr>\n",
       "  </thead>\n",
       "  <tbody>\n",
       "    <tr>\n",
       "      <th>0</th>\n",
       "      <td>Random Forest</td>\n",
       "      <td>0.846746</td>\n",
       "    </tr>\n",
       "    <tr>\n",
       "      <th>1</th>\n",
       "      <td>LGBM</td>\n",
       "      <td>0.847118</td>\n",
       "    </tr>\n",
       "    <tr>\n",
       "      <th>2</th>\n",
       "      <td>CatBoost</td>\n",
       "      <td>0.847953</td>\n",
       "    </tr>\n",
       "  </tbody>\n",
       "</table>\n",
       "</div>"
      ],
      "text/plain": [
       "           Model  ROC-AUC score\n",
       "0  Random Forest       0.846746\n",
       "1           LGBM       0.847118\n",
       "2       CatBoost       0.847953"
      ]
     },
     "execution_count": 114,
     "metadata": {},
     "output_type": "execute_result"
    }
   ],
   "source": [
    "results = pd.DataFrame({'Model' : ['Random Forest', 'LGBM', 'CatBoost'], 'ROC-AUC score' : [gs_rfc.best_score_, gs_lgbm.best_score_,gs_catboost.best_score_]})\n",
    "results"
   ]
  },
  {
   "cell_type": "markdown",
   "metadata": {
    "id": "-zPYbqft5D2v"
   },
   "source": [
    "Лучший результат на тренировочной выборке показала модель \"CatBoostClassifier\".\n"
   ]
  },
  {
   "cell_type": "markdown",
   "metadata": {
    "id": "BLBRnLDlwxjh"
   },
   "source": [
    "<div class=\"alert alert-success\">\n",
    "<b>**Комментарий тимлида_v2 ✔️:**</b>\n",
    "\n",
    "Отлично, есть сводная таблица, по ней можно выбрать лучшую модель, которую будем проверять на тесте.\n",
    "</div>"
   ]
  },
  {
   "cell_type": "markdown",
   "metadata": {
    "id": "BLBRnLDlwxjh"
   },
   "source": [
    "### Проверка лучшей модели"
   ]
  },
  {
   "cell_type": "code",
   "execution_count": 115,
   "metadata": {
    "id": "w1GyHXm3wOLQ"
   },
   "outputs": [],
   "source": [
    "prediction = gs_catboost.predict_proba(X_test)[:, 1]"
   ]
  },
  {
   "cell_type": "code",
   "execution_count": 116,
   "metadata": {
    "colab": {
     "base_uri": "https://localhost:8080/"
    },
    "id": "HtNkZjb3xTAX",
    "outputId": "6797d985-07f7-4c0e-fabe-134ee3cb0e79"
   },
   "outputs": [
    {
     "data": {
      "text/plain": [
       "0.85"
      ]
     },
     "execution_count": 116,
     "metadata": {},
     "output_type": "execute_result"
    }
   ],
   "source": [
    "round(roc_auc_score(y_test, prediction), 2)"
   ]
  },
  {
   "cell_type": "markdown",
   "metadata": {
    "id": "nZqjoUUZxWso"
   },
   "source": [
    "<div class=\"alert alert-success\">\n",
    "<b>**Комментарий тимлида_v2 ✔️:**</b>\n",
    "\n",
    "Ок, есть итоговая метрика.\n",
    "</div>"
   ]
  },
  {
   "cell_type": "markdown",
   "metadata": {},
   "source": [
    "<div class=\"alert alert-danger\">\n",
    "<b>**Комментарий тимлида_v2 ❌:**</b>\n",
    "\n",
    "Не хватает анализа важности признаков итоговой модели. Нужно построить график (barplot) отсортированных по важности признаков и сделать по ним свои выводы.\n",
    "    \n",
    "Пожалуйста доработай исследование по моим замечаниям и высылай тетрадку на проверку.\n",
    "</div>"
   ]
  },
  {
   "cell_type": "code",
   "execution_count": 117,
   "metadata": {
    "colab": {
     "base_uri": "https://localhost:8080/",
     "height": 631
    },
    "id": "CGnmAs8-N7jE",
    "outputId": "d23946f8-a4a3-43c3-843d-de5e856da975"
   },
   "outputs": [
    {
     "data": {
      "text/html": [
       "<style  type=\"text/css\" >\n",
       "#T_9cad4_row0_col0{\n",
       "            width:  10em;\n",
       "             height:  80%;\n",
       "            background:  linear-gradient(90deg,#d65f5f 100.0%, transparent 100.0%);\n",
       "        }#T_9cad4_row1_col0{\n",
       "            width:  10em;\n",
       "             height:  80%;\n",
       "            background:  linear-gradient(90deg,#d65f5f 95.6%, transparent 95.6%);\n",
       "        }#T_9cad4_row2_col0{\n",
       "            width:  10em;\n",
       "             height:  80%;\n",
       "            background:  linear-gradient(90deg,#d65f5f 64.4%, transparent 64.4%);\n",
       "        }#T_9cad4_row3_col0{\n",
       "            width:  10em;\n",
       "             height:  80%;\n",
       "            background:  linear-gradient(90deg,#d65f5f 38.3%, transparent 38.3%);\n",
       "        }#T_9cad4_row4_col0{\n",
       "            width:  10em;\n",
       "             height:  80%;\n",
       "            background:  linear-gradient(90deg,#d65f5f 27.9%, transparent 27.9%);\n",
       "        }#T_9cad4_row5_col0{\n",
       "            width:  10em;\n",
       "             height:  80%;\n",
       "            background:  linear-gradient(90deg,#d65f5f 14.1%, transparent 14.1%);\n",
       "        }#T_9cad4_row6_col0{\n",
       "            width:  10em;\n",
       "             height:  80%;\n",
       "            background:  linear-gradient(90deg,#d65f5f 12.0%, transparent 12.0%);\n",
       "        }#T_9cad4_row7_col0{\n",
       "            width:  10em;\n",
       "             height:  80%;\n",
       "            background:  linear-gradient(90deg,#d65f5f 11.4%, transparent 11.4%);\n",
       "        }#T_9cad4_row8_col0{\n",
       "            width:  10em;\n",
       "             height:  80%;\n",
       "            background:  linear-gradient(90deg,#d65f5f 10.9%, transparent 10.9%);\n",
       "        }#T_9cad4_row9_col0{\n",
       "            width:  10em;\n",
       "             height:  80%;\n",
       "            background:  linear-gradient(90deg,#d65f5f 10.2%, transparent 10.2%);\n",
       "        }#T_9cad4_row10_col0{\n",
       "            width:  10em;\n",
       "             height:  80%;\n",
       "            background:  linear-gradient(90deg,#d65f5f 5.9%, transparent 5.9%);\n",
       "        }#T_9cad4_row11_col0{\n",
       "            width:  10em;\n",
       "             height:  80%;\n",
       "            background:  linear-gradient(90deg,#d65f5f 5.2%, transparent 5.2%);\n",
       "        }#T_9cad4_row12_col0{\n",
       "            width:  10em;\n",
       "             height:  80%;\n",
       "            background:  linear-gradient(90deg,#d65f5f 4.9%, transparent 4.9%);\n",
       "        }#T_9cad4_row13_col0{\n",
       "            width:  10em;\n",
       "             height:  80%;\n",
       "            background:  linear-gradient(90deg,#d65f5f 4.2%, transparent 4.2%);\n",
       "        }#T_9cad4_row14_col0{\n",
       "            width:  10em;\n",
       "             height:  80%;\n",
       "            background:  linear-gradient(90deg,#d65f5f 3.5%, transparent 3.5%);\n",
       "        }#T_9cad4_row15_col0{\n",
       "            width:  10em;\n",
       "             height:  80%;\n",
       "        }</style><table id=\"T_9cad4_\" ><thead>    <tr>        <th class=\"blank level0\" ></th>        <th class=\"col_heading level0 col0\" >Значимость признаков</th>    </tr></thead><tbody>\n",
       "                <tr>\n",
       "                        <th id=\"T_9cad4_level0_row0\" class=\"row_heading level0 row0\" >UseMonth</th>\n",
       "                        <td id=\"T_9cad4_row0_col0\" class=\"data row0 col0\" >20.632481</td>\n",
       "            </tr>\n",
       "            <tr>\n",
       "                        <th id=\"T_9cad4_level0_row1\" class=\"row_heading level0 row1\" >MonthlyCharges</th>\n",
       "                        <td id=\"T_9cad4_row1_col0\" class=\"data row1 col0\" >19.790232</td>\n",
       "            </tr>\n",
       "            <tr>\n",
       "                        <th id=\"T_9cad4_level0_row2\" class=\"row_heading level0 row2\" >Type</th>\n",
       "                        <td id=\"T_9cad4_row2_col0\" class=\"data row2 col0\" >13.756294</td>\n",
       "            </tr>\n",
       "            <tr>\n",
       "                        <th id=\"T_9cad4_level0_row3\" class=\"row_heading level0 row3\" >PaymentMethod</th>\n",
       "                        <td id=\"T_9cad4_row3_col0\" class=\"data row3 col0\" >8.713423</td>\n",
       "            </tr>\n",
       "            <tr>\n",
       "                        <th id=\"T_9cad4_level0_row4\" class=\"row_heading level0 row4\" >InternetService</th>\n",
       "                        <td id=\"T_9cad4_row4_col0\" class=\"data row4 col0\" >6.710040</td>\n",
       "            </tr>\n",
       "            <tr>\n",
       "                        <th id=\"T_9cad4_level0_row5\" class=\"row_heading level0 row5\" >PaperlessBilling</th>\n",
       "                        <td id=\"T_9cad4_row5_col0\" class=\"data row5 col0\" >4.038199</td>\n",
       "            </tr>\n",
       "            <tr>\n",
       "                        <th id=\"T_9cad4_level0_row6\" class=\"row_heading level0 row6\" >gender</th>\n",
       "                        <td id=\"T_9cad4_row6_col0\" class=\"data row6 col0\" >3.636265</td>\n",
       "            </tr>\n",
       "            <tr>\n",
       "                        <th id=\"T_9cad4_level0_row7\" class=\"row_heading level0 row7\" >Dependents</th>\n",
       "                        <td id=\"T_9cad4_row7_col0\" class=\"data row7 col0\" >3.513263</td>\n",
       "            </tr>\n",
       "            <tr>\n",
       "                        <th id=\"T_9cad4_level0_row8\" class=\"row_heading level0 row8\" >MultipleLines</th>\n",
       "                        <td id=\"T_9cad4_row8_col0\" class=\"data row8 col0\" >3.430431</td>\n",
       "            </tr>\n",
       "            <tr>\n",
       "                        <th id=\"T_9cad4_level0_row9\" class=\"row_heading level0 row9\" >TechSupport</th>\n",
       "                        <td id=\"T_9cad4_row9_col0\" class=\"data row9 col0\" >3.295610</td>\n",
       "            </tr>\n",
       "            <tr>\n",
       "                        <th id=\"T_9cad4_level0_row10\" class=\"row_heading level0 row10\" >OnlineSecurity</th>\n",
       "                        <td id=\"T_9cad4_row10_col0\" class=\"data row10 col0\" >2.464177</td>\n",
       "            </tr>\n",
       "            <tr>\n",
       "                        <th id=\"T_9cad4_level0_row11\" class=\"row_heading level0 row11\" >Partner</th>\n",
       "                        <td id=\"T_9cad4_row11_col0\" class=\"data row11 col0\" >2.327593</td>\n",
       "            </tr>\n",
       "            <tr>\n",
       "                        <th id=\"T_9cad4_level0_row12\" class=\"row_heading level0 row12\" >SeniorCitizen</th>\n",
       "                        <td id=\"T_9cad4_row12_col0\" class=\"data row12 col0\" >2.266218</td>\n",
       "            </tr>\n",
       "            <tr>\n",
       "                        <th id=\"T_9cad4_level0_row13\" class=\"row_heading level0 row13\" >OnlineBackup</th>\n",
       "                        <td id=\"T_9cad4_row13_col0\" class=\"data row13 col0\" >2.119889</td>\n",
       "            </tr>\n",
       "            <tr>\n",
       "                        <th id=\"T_9cad4_level0_row14\" class=\"row_heading level0 row14\" >StreamingTV</th>\n",
       "                        <td id=\"T_9cad4_row14_col0\" class=\"data row14 col0\" >1.990118</td>\n",
       "            </tr>\n",
       "            <tr>\n",
       "                        <th id=\"T_9cad4_level0_row15\" class=\"row_heading level0 row15\" >DeviceProtection</th>\n",
       "                        <td id=\"T_9cad4_row15_col0\" class=\"data row15 col0\" >1.315766</td>\n",
       "            </tr>\n",
       "    </tbody></table>"
      ],
      "text/plain": [
       "<pandas.io.formats.style.Styler at 0x7f4b2fe0eb80>"
      ]
     },
     "execution_count": 117,
     "metadata": {},
     "output_type": "execute_result"
    }
   ],
   "source": [
    "catboost = CatBoostClassifier(random_seed=random_state, silent=True).fit(X_train,y_train)\n",
    "feat_imp = catboost.get_feature_importance()\n",
    "pd.DataFrame(feat_imp, index=X.dtypes.index, columns=['Значимость признаков'])\\\n",
    "    .sort_values(by='Значимость признаков', ascending = False).style.bar()"
   ]
  },
  {
   "cell_type": "markdown",
   "metadata": {},
   "source": [
    "<div class=\"alert alert-success\">\n",
    "<b>**Комментарий тимлида_v3 ✔️:**</b>\n",
    "\n",
    "Супер, хорошо что есть важность признаков итоговой модели! Это обычно позволяет понять, какие признаки наиболее сильно влияют на результат, а какие - не влияют вовсе. Наименее значимые признаки можно даже попробовать исключить из датасета и заново переобучить модель.\n",
    "</div>"
   ]
  },
  {
   "cell_type": "markdown",
   "metadata": {},
   "source": [
    "<div class=\"alert alert-success\">\n",
    "<b>**Комментарий тимлида_v3 [ФИНАЛЬНЫЙ КОД]✔️:**</b>\n",
    "\n",
    "Сергей получилось хорошее и качественное исследование!\n",
    "    \n",
    "Обработка данных, размышления над признаками, поиск и сравнение различных вариантов обучающего датасета. Конечные результаты, графика - многое удалось как надо. Можно сказать, что пройден весь алгоритм моделирования от анализа исходной инфо до анализа важности факторов.\n",
    "А что совсем хорошо, так это то, что нет гонки за точностью любой ценой, даже ценой наружения бизнес-логики. (это я про даты-признаки - всегда есть соблазн их оставить...)\n",
    "    \n",
    "Прежде, чем пойти дальше хочу обратить особое внимание на следующие пункты:\n",
    "    \n",
    "1. F1, Accuracy и AUC - отличные метрики, но нужно держать в голове, что это лишь обобщённые характеристики. А в реальной практике бизнесу часто важно знать детали самой ошибки - из каких ошибок/успехов она складывается. И в этом случае очень кстати будут меры полноты и точности. Рассмотри возможность их использования для своих проектов. Только через них можно выйти на финансовые возможности модели. Ведь перед запуском её в бой, будет сравнение стоимости создания и поддержки модели со стомостью \"оставить как есть\".\n",
    "\n",
    "\n",
    "2. При анализе факторов влияния (их зависиомть между собой и на целевую) происходит по одному из трёх алгоритмов, исходя из типа шкалы. Могут применять следующие графический и аналитический анализы:\n",
    "\n",
    "- колличественная-колличественная: аналитически метод - корреляции, графический - скатерплот.\n",
    "- колличественная-номинальная: аналитически методод - проверка гипотез (стьюдент), графический - боксплот.\n",
    "- номинальная-номинальная: аналитически методод - Хи-квадрат, графический - круговая диаграмма\n",
    "Это я к тому разделу, который посвящён анализу данных. Там сделаны интересные предположения и их аналитическая проверка. Очень важные этапы любого исследования, где требуется определить валидность использования признаков из датасета.\n",
    "    \n",
    "3. Алгоритм нахождения модели может быть таким:\n",
    "\n",
    "- изучаем проблематику бизнеса и самой темы (в данном случае отток). Пытаемся понять суть явления.\n",
    "- генерируем разные факторы влияния - любые.\n",
    "- дизайнируем (прикидываем модели) какие методы решения есть, чтобы решить проблему.\n",
    "- Смотрим, какие данные и в какой шкале есть. Что нужно ещё, что применить выбранный метод.\n",
    "- Оцениваем мультиколлинеарность.\n",
    "- Готовим подходящий датасет (масштабируем, убираем лишние признаки, кодируем)\n",
    "- Строим модели и анализируем те фактры, какие сгенерировали ранее.\n",
    "- Думаем над тем, какие причины (факторы) могут ещё влиять на таргет.\n",
    "- Если после нескольких итераций точность \"замирает\" - значит достигли потолка)\n",
    "    \n",
    "4. Проведение анализа важности факторов с помощью команды feature_importances_ (+графический анализ). Отличная вещь намечается: высокая метрика + график рейтинаг факторов по силе влияния на целевой признак). Важнейшая часть любого модельного финала. Если видно, что часть факторов - слабозначимые для модели. Т.е. не значительно влияют на целевую переменную, то их смело можно убирать из модели. Ну и для бизнеса доносить: на эти факторы надо обращать внимание, а эти не влияют на уход клиента.\n",
    "\n",
    "Вопросов у меня больше нет, работу принимаю, твоя метрика ROC-AUC = 0.85 что соответствует 5sp. \n",
    "\n",
    "Не забудь перед подготовкой отчета еще раз прочитать мои рекомендации по его составлению (что проверяется и на что обращается внимание при проверке).\n",
    "\n",
    "Возможно, что у тебя остались/появились вопросы и/или уточнения? Если все ок - напиши и я окончательно приму работу!\n",
    "    \n",
    "</div>"
   ]
  },
  {
   "cell_type": "markdown",
   "metadata": {},
   "source": [
    "<div class=\"alert alert-info\"> <b>Комментарий студента:</b> Спасибо, очень содержательныые и развернутые комментарии!)</div>"
   ]
  },
  {
   "cell_type": "code",
   "execution_count": null,
   "metadata": {},
   "outputs": [],
   "source": []
  }
 ],
 "metadata": {
  "ExecuteTimeLog": [
   {
    "duration": 398,
    "start_time": "2022-10-10T19:51:33.381Z"
   },
   {
    "duration": 476,
    "start_time": "2022-10-10T19:53:26.052Z"
   },
   {
    "duration": 104,
    "start_time": "2022-10-10T19:54:19.640Z"
   },
   {
    "duration": 2,
    "start_time": "2022-10-10T19:54:45.601Z"
   },
   {
    "duration": 16,
    "start_time": "2022-10-10T19:55:35.356Z"
   },
   {
    "duration": 12,
    "start_time": "2022-10-10T19:55:55.043Z"
   },
   {
    "duration": 8,
    "start_time": "2022-10-10T19:56:02.566Z"
   },
   {
    "duration": 10,
    "start_time": "2022-10-10T19:56:11.152Z"
   },
   {
    "duration": 7,
    "start_time": "2022-10-10T19:56:21.473Z"
   },
   {
    "duration": 11,
    "start_time": "2022-10-10T19:56:33.043Z"
   },
   {
    "duration": 10,
    "start_time": "2022-10-10T19:57:12.149Z"
   },
   {
    "duration": 44,
    "start_time": "2022-10-11T05:00:08.328Z"
   },
   {
    "duration": 8,
    "start_time": "2022-10-11T05:00:08.391Z"
   },
   {
    "duration": 355,
    "start_time": "2022-10-11T05:00:11.035Z"
   },
   {
    "duration": 343,
    "start_time": "2022-10-11T05:00:11.392Z"
   },
   {
    "duration": 18,
    "start_time": "2022-10-11T05:00:11.745Z"
   },
   {
    "duration": 8,
    "start_time": "2022-10-11T05:00:12.184Z"
   },
   {
    "duration": 11,
    "start_time": "2022-10-11T05:00:14.951Z"
   },
   {
    "duration": 15,
    "start_time": "2022-10-11T08:39:45.153Z"
   },
   {
    "duration": 12,
    "start_time": "2022-10-11T08:39:58.781Z"
   },
   {
    "duration": 12,
    "start_time": "2022-10-11T08:52:43.065Z"
   },
   {
    "duration": 28,
    "start_time": "2022-10-11T08:52:50.632Z"
   },
   {
    "duration": 12,
    "start_time": "2022-10-11T08:53:02.071Z"
   },
   {
    "duration": 11,
    "start_time": "2022-10-11T08:53:11.855Z"
   },
   {
    "duration": 29,
    "start_time": "2022-10-11T08:53:18.276Z"
   },
   {
    "duration": 8,
    "start_time": "2022-10-11T08:53:38.795Z"
   },
   {
    "duration": 9,
    "start_time": "2022-10-11T08:53:42.408Z"
   },
   {
    "duration": 10,
    "start_time": "2022-10-11T08:53:55.340Z"
   },
   {
    "duration": 5,
    "start_time": "2022-10-11T08:54:20.390Z"
   },
   {
    "duration": 6,
    "start_time": "2022-10-11T08:56:51.821Z"
   },
   {
    "duration": 7,
    "start_time": "2022-10-11T09:00:07.338Z"
   },
   {
    "duration": 10,
    "start_time": "2022-10-11T09:00:16.567Z"
   },
   {
    "duration": 13,
    "start_time": "2022-10-11T09:00:23.809Z"
   },
   {
    "duration": 6,
    "start_time": "2022-10-11T09:00:39.283Z"
   },
   {
    "duration": 26,
    "start_time": "2022-10-11T09:01:56.660Z"
   },
   {
    "duration": 16,
    "start_time": "2022-10-11T09:02:54.392Z"
   },
   {
    "duration": 6,
    "start_time": "2022-10-11T09:04:23.097Z"
   },
   {
    "duration": 9,
    "start_time": "2022-10-11T10:49:20.242Z"
   },
   {
    "duration": 16,
    "start_time": "2022-10-11T10:49:26.380Z"
   },
   {
    "duration": 877,
    "start_time": "2022-10-11T10:53:43.518Z"
   },
   {
    "duration": 7,
    "start_time": "2022-10-11T10:56:20.802Z"
   },
   {
    "duration": 22,
    "start_time": "2022-10-11T10:56:33.384Z"
   },
   {
    "duration": 45,
    "start_time": "2022-10-11T10:56:48.629Z"
   },
   {
    "duration": 311,
    "start_time": "2022-10-11T10:57:06.148Z"
   },
   {
    "duration": 6,
    "start_time": "2022-10-11T11:32:54.206Z"
   },
   {
    "duration": 8,
    "start_time": "2022-10-11T11:34:34.751Z"
   },
   {
    "duration": 144,
    "start_time": "2022-10-11T11:35:53.861Z"
   },
   {
    "duration": 7,
    "start_time": "2022-10-11T11:36:48.125Z"
   },
   {
    "duration": 192,
    "start_time": "2022-10-11T11:37:15.135Z"
   },
   {
    "duration": 38,
    "start_time": "2022-10-11T12:25:43.111Z"
   },
   {
    "duration": 3,
    "start_time": "2022-10-11T12:25:59.613Z"
   },
   {
    "duration": 100,
    "start_time": "2022-10-11T12:26:10.839Z"
   },
   {
    "duration": 5,
    "start_time": "2022-10-11T12:26:23.958Z"
   },
   {
    "duration": 4,
    "start_time": "2022-10-11T12:26:58.771Z"
   },
   {
    "duration": 115,
    "start_time": "2022-10-11T12:27:16.336Z"
   },
   {
    "duration": 4,
    "start_time": "2022-10-11T12:27:19.466Z"
   },
   {
    "duration": 13,
    "start_time": "2022-10-11T12:27:34.829Z"
   },
   {
    "duration": 5,
    "start_time": "2022-10-11T12:27:53.818Z"
   },
   {
    "duration": 7,
    "start_time": "2022-10-11T12:28:49.456Z"
   },
   {
    "duration": 7,
    "start_time": "2022-10-11T12:30:12.134Z"
   },
   {
    "duration": 9,
    "start_time": "2022-10-11T12:32:01.794Z"
   },
   {
    "duration": 204,
    "start_time": "2022-10-11T12:32:20.434Z"
   },
   {
    "duration": 13,
    "start_time": "2022-10-11T12:33:14.535Z"
   },
   {
    "duration": 13,
    "start_time": "2022-10-11T12:56:40.562Z"
   },
   {
    "duration": 6,
    "start_time": "2022-10-11T12:57:13.177Z"
   },
   {
    "duration": 6,
    "start_time": "2022-10-11T12:57:38.429Z"
   },
   {
    "duration": 5,
    "start_time": "2022-10-11T12:59:36.702Z"
   },
   {
    "duration": 14,
    "start_time": "2022-10-11T12:59:48.311Z"
   },
   {
    "duration": 3,
    "start_time": "2022-10-11T13:00:18.271Z"
   },
   {
    "duration": 14,
    "start_time": "2022-10-11T13:00:23.979Z"
   },
   {
    "duration": 7,
    "start_time": "2022-10-11T13:00:48.176Z"
   },
   {
    "duration": 13,
    "start_time": "2022-10-11T13:00:57.398Z"
   },
   {
    "duration": 6,
    "start_time": "2022-10-11T13:02:10.503Z"
   },
   {
    "duration": 6,
    "start_time": "2022-10-11T13:03:21.195Z"
   },
   {
    "duration": 3,
    "start_time": "2022-10-11T13:03:27.090Z"
   },
   {
    "duration": 358,
    "start_time": "2022-10-11T13:03:33.119Z"
   },
   {
    "duration": 16,
    "start_time": "2022-10-11T13:03:45.460Z"
   },
   {
    "duration": 1506,
    "start_time": "2022-10-11T13:05:17.382Z"
   },
   {
    "duration": 1507,
    "start_time": "2022-10-11T13:05:27.301Z"
   },
   {
    "duration": 5,
    "start_time": "2022-10-11T13:05:44.105Z"
   },
   {
    "duration": 9,
    "start_time": "2022-10-11T13:05:57.936Z"
   },
   {
    "duration": 13,
    "start_time": "2022-10-11T13:06:40.789Z"
   },
   {
    "duration": 9,
    "start_time": "2022-10-11T13:06:50.918Z"
   },
   {
    "duration": 4,
    "start_time": "2022-10-11T13:07:35.254Z"
   },
   {
    "duration": 102,
    "start_time": "2022-10-11T13:07:35.261Z"
   },
   {
    "duration": 10,
    "start_time": "2022-10-11T13:07:35.365Z"
   },
   {
    "duration": 13,
    "start_time": "2022-10-11T13:07:35.377Z"
   },
   {
    "duration": 11,
    "start_time": "2022-10-11T13:07:35.393Z"
   },
   {
    "duration": 8,
    "start_time": "2022-10-11T13:07:35.406Z"
   },
   {
    "duration": 19,
    "start_time": "2022-10-11T13:07:35.416Z"
   },
   {
    "duration": 13,
    "start_time": "2022-10-11T13:07:35.437Z"
   },
   {
    "duration": 13,
    "start_time": "2022-10-11T13:07:35.452Z"
   },
   {
    "duration": 7,
    "start_time": "2022-10-11T13:07:35.466Z"
   },
   {
    "duration": 7,
    "start_time": "2022-10-11T13:07:35.495Z"
   },
   {
    "duration": 11,
    "start_time": "2022-10-11T13:07:35.504Z"
   },
   {
    "duration": 7,
    "start_time": "2022-10-11T13:07:35.517Z"
   },
   {
    "duration": 11,
    "start_time": "2022-10-11T13:07:35.525Z"
   },
   {
    "duration": 8,
    "start_time": "2022-10-11T13:07:35.537Z"
   },
   {
    "duration": 9,
    "start_time": "2022-10-11T13:07:35.546Z"
   },
   {
    "duration": 7,
    "start_time": "2022-10-11T13:07:35.557Z"
   },
   {
    "duration": 29,
    "start_time": "2022-10-11T13:07:35.566Z"
   },
   {
    "duration": 3,
    "start_time": "2022-10-11T13:07:35.597Z"
   },
   {
    "duration": 13,
    "start_time": "2022-10-11T13:07:35.602Z"
   },
   {
    "duration": 1194,
    "start_time": "2022-10-11T13:07:53.390Z"
   },
   {
    "duration": 101,
    "start_time": "2022-10-11T13:07:54.586Z"
   },
   {
    "duration": 18,
    "start_time": "2022-10-11T13:07:54.688Z"
   },
   {
    "duration": 13,
    "start_time": "2022-10-11T13:07:54.708Z"
   },
   {
    "duration": 15,
    "start_time": "2022-10-11T13:07:54.722Z"
   },
   {
    "duration": 9,
    "start_time": "2022-10-11T13:07:54.738Z"
   },
   {
    "duration": 17,
    "start_time": "2022-10-11T13:07:54.748Z"
   },
   {
    "duration": 34,
    "start_time": "2022-10-11T13:07:54.766Z"
   },
   {
    "duration": 14,
    "start_time": "2022-10-11T13:07:54.802Z"
   },
   {
    "duration": 13,
    "start_time": "2022-10-11T13:07:54.819Z"
   },
   {
    "duration": 10,
    "start_time": "2022-10-11T13:07:54.834Z"
   },
   {
    "duration": 17,
    "start_time": "2022-10-11T13:07:54.845Z"
   },
   {
    "duration": 9,
    "start_time": "2022-10-11T13:07:54.863Z"
   },
   {
    "duration": 31,
    "start_time": "2022-10-11T13:07:54.874Z"
   },
   {
    "duration": 7,
    "start_time": "2022-10-11T13:07:54.907Z"
   },
   {
    "duration": 7,
    "start_time": "2022-10-11T13:07:54.915Z"
   },
   {
    "duration": 6,
    "start_time": "2022-10-11T13:07:54.924Z"
   },
   {
    "duration": 6,
    "start_time": "2022-10-11T13:07:54.932Z"
   },
   {
    "duration": 5,
    "start_time": "2022-10-11T13:07:54.940Z"
   },
   {
    "duration": 126,
    "start_time": "2022-10-11T13:07:54.946Z"
   },
   {
    "duration": 0,
    "start_time": "2022-10-11T13:07:55.073Z"
   },
   {
    "duration": 0,
    "start_time": "2022-10-11T13:07:55.074Z"
   },
   {
    "duration": 0,
    "start_time": "2022-10-11T13:07:55.075Z"
   },
   {
    "duration": 0,
    "start_time": "2022-10-11T13:07:55.076Z"
   },
   {
    "duration": 108,
    "start_time": "2022-10-11T13:09:20.276Z"
   },
   {
    "duration": 106,
    "start_time": "2022-10-11T13:09:33.146Z"
   },
   {
    "duration": 9,
    "start_time": "2022-10-11T13:10:06.182Z"
   },
   {
    "duration": 9,
    "start_time": "2022-10-11T13:10:37.094Z"
   },
   {
    "duration": 6,
    "start_time": "2022-10-11T13:11:29.170Z"
   },
   {
    "duration": 5,
    "start_time": "2022-10-11T13:11:37.678Z"
   },
   {
    "duration": 11,
    "start_time": "2022-10-11T13:11:44.233Z"
   },
   {
    "duration": 6,
    "start_time": "2022-10-11T13:12:03.910Z"
   },
   {
    "duration": 4,
    "start_time": "2022-10-11T13:12:09.209Z"
   },
   {
    "duration": 1124,
    "start_time": "2022-10-11T14:07:46.857Z"
   },
   {
    "duration": 100,
    "start_time": "2022-10-11T14:07:47.983Z"
   },
   {
    "duration": 20,
    "start_time": "2022-10-11T14:07:48.085Z"
   },
   {
    "duration": 20,
    "start_time": "2022-10-11T14:07:48.108Z"
   },
   {
    "duration": 14,
    "start_time": "2022-10-11T14:07:48.131Z"
   },
   {
    "duration": 9,
    "start_time": "2022-10-11T14:07:48.147Z"
   },
   {
    "duration": 13,
    "start_time": "2022-10-11T14:07:48.158Z"
   },
   {
    "duration": 36,
    "start_time": "2022-10-11T14:07:48.173Z"
   },
   {
    "duration": 19,
    "start_time": "2022-10-11T14:07:48.211Z"
   },
   {
    "duration": 9,
    "start_time": "2022-10-11T14:07:48.233Z"
   },
   {
    "duration": 9,
    "start_time": "2022-10-11T14:07:48.243Z"
   },
   {
    "duration": 13,
    "start_time": "2022-10-11T14:07:48.254Z"
   },
   {
    "duration": 7,
    "start_time": "2022-10-11T14:07:48.295Z"
   },
   {
    "duration": 13,
    "start_time": "2022-10-11T14:07:48.304Z"
   },
   {
    "duration": 7,
    "start_time": "2022-10-11T14:07:48.319Z"
   },
   {
    "duration": 7,
    "start_time": "2022-10-11T14:07:48.327Z"
   },
   {
    "duration": 7,
    "start_time": "2022-10-11T14:07:48.336Z"
   },
   {
    "duration": 9,
    "start_time": "2022-10-11T14:07:48.345Z"
   },
   {
    "duration": 133,
    "start_time": "2022-10-11T14:07:48.355Z"
   },
   {
    "duration": 9,
    "start_time": "2022-10-11T14:07:48.496Z"
   },
   {
    "duration": 14,
    "start_time": "2022-10-11T14:07:48.507Z"
   },
   {
    "duration": 18,
    "start_time": "2022-10-11T14:07:48.523Z"
   },
   {
    "duration": 17,
    "start_time": "2022-10-11T14:07:48.544Z"
   },
   {
    "duration": 267,
    "start_time": "2022-10-11T14:07:48.563Z"
   },
   {
    "duration": 10,
    "start_time": "2022-10-11T14:07:48.832Z"
   },
   {
    "duration": 4,
    "start_time": "2022-10-11T14:08:39.474Z"
   },
   {
    "duration": 4,
    "start_time": "2022-10-11T14:09:32.324Z"
   },
   {
    "duration": 6,
    "start_time": "2022-10-11T14:10:32.758Z"
   },
   {
    "duration": 6,
    "start_time": "2022-10-11T14:10:52.140Z"
   },
   {
    "duration": 6,
    "start_time": "2022-10-11T14:10:58.660Z"
   },
   {
    "duration": 20,
    "start_time": "2022-10-11T14:11:39.058Z"
   },
   {
    "duration": 7,
    "start_time": "2022-10-11T14:35:40.171Z"
   },
   {
    "duration": 24,
    "start_time": "2022-10-11T14:35:50.986Z"
   },
   {
    "duration": 6,
    "start_time": "2022-10-11T14:36:10.048Z"
   },
   {
    "duration": 14,
    "start_time": "2022-10-11T14:36:17.042Z"
   },
   {
    "duration": 7,
    "start_time": "2022-10-11T14:36:33.506Z"
   },
   {
    "duration": 5,
    "start_time": "2022-10-11T14:36:40.685Z"
   },
   {
    "duration": 6,
    "start_time": "2022-10-11T14:37:05.369Z"
   },
   {
    "duration": 6,
    "start_time": "2022-10-11T14:37:25.954Z"
   },
   {
    "duration": 9,
    "start_time": "2022-10-11T14:37:48.121Z"
   },
   {
    "duration": 210,
    "start_time": "2022-10-11T14:37:52.170Z"
   },
   {
    "duration": 18,
    "start_time": "2022-10-11T14:37:57.630Z"
   },
   {
    "duration": 9,
    "start_time": "2022-10-11T14:39:06.569Z"
   },
   {
    "duration": 6,
    "start_time": "2022-10-11T14:39:46.668Z"
   },
   {
    "duration": 6,
    "start_time": "2022-10-11T14:40:06.146Z"
   },
   {
    "duration": 7,
    "start_time": "2022-10-11T14:42:28.865Z"
   },
   {
    "duration": 11,
    "start_time": "2022-10-11T14:42:42.546Z"
   },
   {
    "duration": 116,
    "start_time": "2022-10-11T14:42:59.234Z"
   },
   {
    "duration": 22,
    "start_time": "2022-10-11T14:44:13.409Z"
   },
   {
    "duration": 18,
    "start_time": "2022-10-11T14:44:35.864Z"
   },
   {
    "duration": 6,
    "start_time": "2022-10-11T14:44:51.496Z"
   },
   {
    "duration": 5,
    "start_time": "2022-10-11T14:45:35.240Z"
   },
   {
    "duration": 16,
    "start_time": "2022-10-11T14:46:02.203Z"
   },
   {
    "duration": 13,
    "start_time": "2022-10-11T14:46:19.286Z"
   },
   {
    "duration": 1051,
    "start_time": "2022-10-11T14:46:47.128Z"
   },
   {
    "duration": 1413,
    "start_time": "2022-10-11T14:46:52.926Z"
   },
   {
    "duration": 7,
    "start_time": "2022-10-11T14:47:01.192Z"
   },
   {
    "duration": 11,
    "start_time": "2022-10-11T14:47:51.049Z"
   },
   {
    "duration": 7,
    "start_time": "2022-10-11T14:47:57.329Z"
   },
   {
    "duration": 6,
    "start_time": "2022-10-11T14:48:07.864Z"
   },
   {
    "duration": 1227,
    "start_time": "2022-10-11T14:48:32.914Z"
   },
   {
    "duration": 119,
    "start_time": "2022-10-11T14:48:34.144Z"
   },
   {
    "duration": 23,
    "start_time": "2022-10-11T14:48:34.265Z"
   },
   {
    "duration": 30,
    "start_time": "2022-10-11T14:48:34.290Z"
   },
   {
    "duration": 20,
    "start_time": "2022-10-11T14:48:34.322Z"
   },
   {
    "duration": 13,
    "start_time": "2022-10-11T14:48:34.344Z"
   },
   {
    "duration": 19,
    "start_time": "2022-10-11T14:48:34.359Z"
   },
   {
    "duration": 10,
    "start_time": "2022-10-11T14:48:34.381Z"
   },
   {
    "duration": 24,
    "start_time": "2022-10-11T14:48:34.395Z"
   },
   {
    "duration": 7,
    "start_time": "2022-10-11T14:48:34.422Z"
   },
   {
    "duration": 10,
    "start_time": "2022-10-11T14:48:34.430Z"
   },
   {
    "duration": 13,
    "start_time": "2022-10-11T14:48:34.441Z"
   },
   {
    "duration": 9,
    "start_time": "2022-10-11T14:48:34.456Z"
   },
   {
    "duration": 38,
    "start_time": "2022-10-11T14:48:34.467Z"
   },
   {
    "duration": 7,
    "start_time": "2022-10-11T14:48:34.506Z"
   },
   {
    "duration": 12,
    "start_time": "2022-10-11T14:48:34.516Z"
   },
   {
    "duration": 7,
    "start_time": "2022-10-11T14:48:34.530Z"
   },
   {
    "duration": 13,
    "start_time": "2022-10-11T14:48:34.538Z"
   },
   {
    "duration": 124,
    "start_time": "2022-10-11T14:48:34.553Z"
   },
   {
    "duration": 26,
    "start_time": "2022-10-11T14:48:34.678Z"
   },
   {
    "duration": 13,
    "start_time": "2022-10-11T14:48:34.707Z"
   },
   {
    "duration": 14,
    "start_time": "2022-10-11T14:48:34.722Z"
   },
   {
    "duration": 16,
    "start_time": "2022-10-11T14:48:34.738Z"
   },
   {
    "duration": 305,
    "start_time": "2022-10-11T14:48:34.756Z"
   },
   {
    "duration": 9,
    "start_time": "2022-10-11T14:48:35.064Z"
   },
   {
    "duration": 32,
    "start_time": "2022-10-11T14:48:35.075Z"
   },
   {
    "duration": 10,
    "start_time": "2022-10-11T14:48:35.109Z"
   },
   {
    "duration": 6,
    "start_time": "2022-10-11T14:48:35.122Z"
   },
   {
    "duration": 103,
    "start_time": "2022-10-11T14:58:09.604Z"
   },
   {
    "duration": 4,
    "start_time": "2022-10-11T14:58:47.779Z"
   },
   {
    "duration": 97,
    "start_time": "2022-10-11T14:58:51.649Z"
   },
   {
    "duration": 8,
    "start_time": "2022-10-11T14:59:12.680Z"
   },
   {
    "duration": 9,
    "start_time": "2022-10-11T14:59:23.740Z"
   },
   {
    "duration": 159,
    "start_time": "2022-10-11T15:00:00.161Z"
   },
   {
    "duration": 189,
    "start_time": "2022-10-11T15:00:10.807Z"
   },
   {
    "duration": 220,
    "start_time": "2022-10-11T15:00:14.777Z"
   },
   {
    "duration": 1268,
    "start_time": "2022-10-11T15:04:05.705Z"
   },
   {
    "duration": 124,
    "start_time": "2022-10-11T15:04:06.975Z"
   },
   {
    "duration": 17,
    "start_time": "2022-10-11T15:04:07.103Z"
   },
   {
    "duration": 18,
    "start_time": "2022-10-11T15:04:07.122Z"
   },
   {
    "duration": 12,
    "start_time": "2022-10-11T15:04:07.142Z"
   },
   {
    "duration": 9,
    "start_time": "2022-10-11T15:04:07.156Z"
   },
   {
    "duration": 37,
    "start_time": "2022-10-11T15:04:07.166Z"
   },
   {
    "duration": 16,
    "start_time": "2022-10-11T15:04:07.206Z"
   },
   {
    "duration": 16,
    "start_time": "2022-10-11T15:04:07.224Z"
   },
   {
    "duration": 7,
    "start_time": "2022-10-11T15:04:07.243Z"
   },
   {
    "duration": 10,
    "start_time": "2022-10-11T15:04:07.252Z"
   },
   {
    "duration": 34,
    "start_time": "2022-10-11T15:04:07.264Z"
   },
   {
    "duration": 14,
    "start_time": "2022-10-11T15:04:07.300Z"
   },
   {
    "duration": 14,
    "start_time": "2022-10-11T15:04:07.315Z"
   },
   {
    "duration": 8,
    "start_time": "2022-10-11T15:04:07.331Z"
   },
   {
    "duration": 8,
    "start_time": "2022-10-11T15:04:07.341Z"
   },
   {
    "duration": 10,
    "start_time": "2022-10-11T15:04:07.351Z"
   },
   {
    "duration": 16,
    "start_time": "2022-10-11T15:04:07.362Z"
   },
   {
    "duration": 105,
    "start_time": "2022-10-11T15:04:07.380Z"
   },
   {
    "duration": 17,
    "start_time": "2022-10-11T15:04:07.486Z"
   },
   {
    "duration": 19,
    "start_time": "2022-10-11T15:04:07.504Z"
   },
   {
    "duration": 20,
    "start_time": "2022-10-11T15:04:07.525Z"
   },
   {
    "duration": 15,
    "start_time": "2022-10-11T15:04:07.547Z"
   },
   {
    "duration": 6,
    "start_time": "2022-10-11T15:04:07.564Z"
   },
   {
    "duration": 35,
    "start_time": "2022-10-11T15:04:07.571Z"
   },
   {
    "duration": 88,
    "start_time": "2022-10-11T15:04:07.608Z"
   },
   {
    "duration": 147,
    "start_time": "2022-10-11T15:04:07.701Z"
   },
   {
    "duration": 9,
    "start_time": "2022-10-11T15:04:07.850Z"
   },
   {
    "duration": 275,
    "start_time": "2022-10-11T15:04:07.860Z"
   },
   {
    "duration": 12,
    "start_time": "2022-10-11T15:04:08.137Z"
   },
   {
    "duration": 169,
    "start_time": "2022-10-11T15:04:20.620Z"
   },
   {
    "duration": 1171,
    "start_time": "2022-10-11T15:13:31.755Z"
   },
   {
    "duration": 105,
    "start_time": "2022-10-11T15:13:32.929Z"
   },
   {
    "duration": 16,
    "start_time": "2022-10-11T15:13:33.036Z"
   },
   {
    "duration": 16,
    "start_time": "2022-10-11T15:13:33.053Z"
   },
   {
    "duration": 15,
    "start_time": "2022-10-11T15:13:33.070Z"
   },
   {
    "duration": 16,
    "start_time": "2022-10-11T15:13:33.088Z"
   },
   {
    "duration": 22,
    "start_time": "2022-10-11T15:13:33.106Z"
   },
   {
    "duration": 15,
    "start_time": "2022-10-11T15:13:33.130Z"
   },
   {
    "duration": 15,
    "start_time": "2022-10-11T15:13:33.147Z"
   },
   {
    "duration": 8,
    "start_time": "2022-10-11T15:13:33.164Z"
   },
   {
    "duration": 10,
    "start_time": "2022-10-11T15:13:33.173Z"
   },
   {
    "duration": 23,
    "start_time": "2022-10-11T15:13:33.184Z"
   },
   {
    "duration": 22,
    "start_time": "2022-10-11T15:13:33.208Z"
   },
   {
    "duration": 10,
    "start_time": "2022-10-11T15:13:33.233Z"
   },
   {
    "duration": 7,
    "start_time": "2022-10-11T15:13:33.245Z"
   },
   {
    "duration": 6,
    "start_time": "2022-10-11T15:13:33.254Z"
   },
   {
    "duration": 8,
    "start_time": "2022-10-11T15:13:33.262Z"
   },
   {
    "duration": 30,
    "start_time": "2022-10-11T15:13:33.271Z"
   },
   {
    "duration": 122,
    "start_time": "2022-10-11T15:13:33.303Z"
   },
   {
    "duration": 8,
    "start_time": "2022-10-11T15:13:33.427Z"
   },
   {
    "duration": 18,
    "start_time": "2022-10-11T15:13:33.436Z"
   },
   {
    "duration": 19,
    "start_time": "2022-10-11T15:13:33.456Z"
   },
   {
    "duration": 11,
    "start_time": "2022-10-11T15:13:33.476Z"
   },
   {
    "duration": 12,
    "start_time": "2022-10-11T15:13:33.489Z"
   },
   {
    "duration": 11,
    "start_time": "2022-10-11T15:13:33.503Z"
   },
   {
    "duration": 96,
    "start_time": "2022-10-11T15:13:33.516Z"
   },
   {
    "duration": 197,
    "start_time": "2022-10-11T15:13:33.615Z"
   },
   {
    "duration": 10,
    "start_time": "2022-10-11T15:13:33.817Z"
   },
   {
    "duration": 289,
    "start_time": "2022-10-11T15:13:33.829Z"
   },
   {
    "duration": 9,
    "start_time": "2022-10-11T15:13:34.120Z"
   },
   {
    "duration": 1356,
    "start_time": "2022-10-11T16:02:29.469Z"
   },
   {
    "duration": 108,
    "start_time": "2022-10-11T16:02:30.827Z"
   },
   {
    "duration": 15,
    "start_time": "2022-10-11T16:02:32.559Z"
   },
   {
    "duration": 13,
    "start_time": "2022-10-11T16:02:32.845Z"
   },
   {
    "duration": 12,
    "start_time": "2022-10-11T16:02:33.143Z"
   },
   {
    "duration": 9,
    "start_time": "2022-10-11T16:02:33.866Z"
   },
   {
    "duration": 12,
    "start_time": "2022-10-11T16:02:34.181Z"
   },
   {
    "duration": 11,
    "start_time": "2022-10-11T16:02:35.145Z"
   },
   {
    "duration": 11,
    "start_time": "2022-10-11T16:02:35.361Z"
   },
   {
    "duration": 7,
    "start_time": "2022-10-11T16:02:35.742Z"
   },
   {
    "duration": 7,
    "start_time": "2022-10-11T16:02:37.043Z"
   },
   {
    "duration": 9,
    "start_time": "2022-10-11T16:02:37.743Z"
   },
   {
    "duration": 8,
    "start_time": "2022-10-11T16:02:38.843Z"
   },
   {
    "duration": 60,
    "start_time": "2022-10-11T16:03:27.102Z"
   },
   {
    "duration": 5,
    "start_time": "2022-10-11T16:03:29.523Z"
   },
   {
    "duration": 7,
    "start_time": "2022-10-11T16:03:30.282Z"
   },
   {
    "duration": 6,
    "start_time": "2022-10-11T16:03:31.293Z"
   },
   {
    "duration": 121,
    "start_time": "2022-10-11T16:03:32.948Z"
   },
   {
    "duration": 9,
    "start_time": "2022-10-11T16:03:33.825Z"
   },
   {
    "duration": 9,
    "start_time": "2022-10-11T16:03:36.744Z"
   },
   {
    "duration": 93,
    "start_time": "2022-10-11T16:05:03.985Z"
   },
   {
    "duration": 99,
    "start_time": "2022-10-11T16:05:08.563Z"
   },
   {
    "duration": 6,
    "start_time": "2022-10-11T16:05:12.550Z"
   },
   {
    "duration": 7,
    "start_time": "2022-10-11T16:05:15.254Z"
   },
   {
    "duration": 5,
    "start_time": "2022-10-11T16:05:16.444Z"
   },
   {
    "duration": 77,
    "start_time": "2022-10-11T16:05:20.102Z"
   },
   {
    "duration": 159,
    "start_time": "2022-10-11T16:05:21.264Z"
   },
   {
    "duration": 7,
    "start_time": "2022-10-11T16:05:23.985Z"
   },
   {
    "duration": 1085,
    "start_time": "2022-10-11T16:05:25.846Z"
   },
   {
    "duration": 9,
    "start_time": "2022-10-11T16:05:46.542Z"
   },
   {
    "duration": 83,
    "start_time": "2022-10-11T16:07:13.645Z"
   },
   {
    "duration": 60,
    "start_time": "2022-10-11T16:07:21.987Z"
   },
   {
    "duration": 1348,
    "start_time": "2022-10-12T07:16:39.477Z"
   },
   {
    "duration": 298,
    "start_time": "2022-10-12T07:16:40.827Z"
   },
   {
    "duration": 15,
    "start_time": "2022-10-12T07:16:41.127Z"
   },
   {
    "duration": 12,
    "start_time": "2022-10-12T07:16:41.144Z"
   },
   {
    "duration": 11,
    "start_time": "2022-10-12T07:16:41.158Z"
   },
   {
    "duration": 9,
    "start_time": "2022-10-12T07:16:41.170Z"
   },
   {
    "duration": 10,
    "start_time": "2022-10-12T07:16:41.180Z"
   },
   {
    "duration": 10,
    "start_time": "2022-10-12T07:16:41.209Z"
   },
   {
    "duration": 12,
    "start_time": "2022-10-12T07:16:41.220Z"
   },
   {
    "duration": 6,
    "start_time": "2022-10-12T07:16:41.235Z"
   },
   {
    "duration": 9,
    "start_time": "2022-10-12T07:16:41.242Z"
   },
   {
    "duration": 14,
    "start_time": "2022-10-12T07:16:41.253Z"
   },
   {
    "duration": 7,
    "start_time": "2022-10-12T07:16:41.269Z"
   },
   {
    "duration": 36,
    "start_time": "2022-10-12T07:16:41.278Z"
   },
   {
    "duration": 6,
    "start_time": "2022-10-12T07:16:41.316Z"
   },
   {
    "duration": 7,
    "start_time": "2022-10-12T07:16:41.323Z"
   },
   {
    "duration": 6,
    "start_time": "2022-10-12T07:16:41.332Z"
   },
   {
    "duration": 7,
    "start_time": "2022-10-12T07:16:41.340Z"
   },
   {
    "duration": 119,
    "start_time": "2022-10-12T07:16:41.348Z"
   },
   {
    "duration": 8,
    "start_time": "2022-10-12T07:16:41.469Z"
   },
   {
    "duration": 8,
    "start_time": "2022-10-12T07:16:41.479Z"
   },
   {
    "duration": 15,
    "start_time": "2022-10-12T07:16:41.508Z"
   },
   {
    "duration": 6,
    "start_time": "2022-10-12T07:16:41.525Z"
   },
   {
    "duration": 12,
    "start_time": "2022-10-12T07:16:41.532Z"
   },
   {
    "duration": 8,
    "start_time": "2022-10-12T07:16:41.546Z"
   },
   {
    "duration": 103,
    "start_time": "2022-10-12T07:16:41.555Z"
   },
   {
    "duration": 185,
    "start_time": "2022-10-12T07:16:41.661Z"
   },
   {
    "duration": 7,
    "start_time": "2022-10-12T07:16:41.849Z"
   },
   {
    "duration": 259,
    "start_time": "2022-10-12T07:16:41.858Z"
   },
   {
    "duration": 9,
    "start_time": "2022-10-12T07:16:42.118Z"
   },
   {
    "duration": 61,
    "start_time": "2022-10-12T09:29:05.198Z"
   },
   {
    "duration": 117,
    "start_time": "2022-10-13T04:57:29.571Z"
   },
   {
    "duration": 99,
    "start_time": "2022-10-13T04:57:31.889Z"
   },
   {
    "duration": 94,
    "start_time": "2022-10-13T04:58:08.588Z"
   },
   {
    "duration": 102,
    "start_time": "2022-10-17T06:03:19.721Z"
   },
   {
    "duration": 101,
    "start_time": "2022-10-17T06:14:01.003Z"
   },
   {
    "duration": 3190,
    "start_time": "2022-10-17T06:15:07.860Z"
   },
   {
    "duration": 1975,
    "start_time": "2022-10-17T06:15:11.053Z"
   },
   {
    "duration": 455,
    "start_time": "2022-10-17T06:15:13.030Z"
   },
   {
    "duration": 21,
    "start_time": "2022-10-17T06:15:13.487Z"
   },
   {
    "duration": 15,
    "start_time": "2022-10-17T06:15:13.510Z"
   },
   {
    "duration": 10,
    "start_time": "2022-10-17T06:15:13.527Z"
   },
   {
    "duration": 15,
    "start_time": "2022-10-17T06:15:13.539Z"
   },
   {
    "duration": 40,
    "start_time": "2022-10-17T06:15:13.556Z"
   },
   {
    "duration": 19,
    "start_time": "2022-10-17T06:15:13.600Z"
   },
   {
    "duration": 12,
    "start_time": "2022-10-17T06:15:13.622Z"
   },
   {
    "duration": 13,
    "start_time": "2022-10-17T06:15:13.636Z"
   },
   {
    "duration": 16,
    "start_time": "2022-10-17T06:15:13.651Z"
   },
   {
    "duration": 22,
    "start_time": "2022-10-17T06:15:13.669Z"
   },
   {
    "duration": 25,
    "start_time": "2022-10-17T06:15:13.692Z"
   },
   {
    "duration": 14,
    "start_time": "2022-10-17T06:15:13.719Z"
   },
   {
    "duration": 9,
    "start_time": "2022-10-17T06:15:13.735Z"
   },
   {
    "duration": 10,
    "start_time": "2022-10-17T06:15:13.746Z"
   },
   {
    "duration": 12,
    "start_time": "2022-10-17T06:15:13.758Z"
   },
   {
    "duration": 110,
    "start_time": "2022-10-17T06:15:13.772Z"
   },
   {
    "duration": 13,
    "start_time": "2022-10-17T06:15:13.889Z"
   },
   {
    "duration": 18,
    "start_time": "2022-10-17T06:15:13.905Z"
   },
   {
    "duration": 23,
    "start_time": "2022-10-17T06:15:13.925Z"
   },
   {
    "duration": 14,
    "start_time": "2022-10-17T06:15:13.950Z"
   },
   {
    "duration": 16,
    "start_time": "2022-10-17T06:15:13.967Z"
   },
   {
    "duration": 31,
    "start_time": "2022-10-17T06:15:13.984Z"
   },
   {
    "duration": 105,
    "start_time": "2022-10-17T06:15:14.017Z"
   },
   {
    "duration": 275,
    "start_time": "2022-10-17T06:15:14.124Z"
   },
   {
    "duration": 12,
    "start_time": "2022-10-17T06:15:14.403Z"
   },
   {
    "duration": 294,
    "start_time": "2022-10-17T06:15:14.417Z"
   },
   {
    "duration": 12,
    "start_time": "2022-10-17T06:15:14.712Z"
   },
   {
    "duration": 11,
    "start_time": "2022-10-17T06:15:14.727Z"
   },
   {
    "duration": 18,
    "start_time": "2022-10-17T06:15:14.740Z"
   },
   {
    "duration": 43,
    "start_time": "2022-10-17T06:15:14.760Z"
   },
   {
    "duration": 32,
    "start_time": "2022-10-17T06:15:14.805Z"
   },
   {
    "duration": 23,
    "start_time": "2022-10-17T06:15:14.839Z"
   },
   {
    "duration": 26,
    "start_time": "2022-10-17T06:15:14.863Z"
   },
   {
    "duration": 18,
    "start_time": "2022-10-17T06:15:14.891Z"
   },
   {
    "duration": 28,
    "start_time": "2022-10-17T06:15:14.911Z"
   },
   {
    "duration": 12,
    "start_time": "2022-10-17T06:15:14.941Z"
   },
   {
    "duration": 9,
    "start_time": "2022-10-17T06:15:14.955Z"
   },
   {
    "duration": 9,
    "start_time": "2022-10-17T06:15:14.966Z"
   },
   {
    "duration": 9,
    "start_time": "2022-10-17T06:15:21.811Z"
   },
   {
    "duration": 5,
    "start_time": "2022-10-17T06:15:30.172Z"
   },
   {
    "duration": 35,
    "start_time": "2022-10-17T06:15:43.871Z"
   },
   {
    "duration": 99,
    "start_time": "2022-10-17T06:16:18.833Z"
   },
   {
    "duration": 115,
    "start_time": "2022-10-17T06:23:45.938Z"
   },
   {
    "duration": 93,
    "start_time": "2022-10-17T06:25:17.877Z"
   },
   {
    "duration": 82,
    "start_time": "2022-10-17T06:34:26.617Z"
   },
   {
    "duration": 83,
    "start_time": "2022-10-17T06:37:10.835Z"
   },
   {
    "duration": 151,
    "start_time": "2022-10-17T06:38:26.678Z"
   },
   {
    "duration": 86,
    "start_time": "2022-10-17T06:43:37.029Z"
   },
   {
    "duration": 80,
    "start_time": "2022-10-17T06:43:46.326Z"
   },
   {
    "duration": 8,
    "start_time": "2022-10-17T09:45:44.369Z"
   },
   {
    "duration": 1850,
    "start_time": "2022-10-17T09:45:59.547Z"
   },
   {
    "duration": 1878,
    "start_time": "2022-10-17T14:16:36.304Z"
   },
   {
    "duration": 3096,
    "start_time": "2022-10-17T14:17:01.276Z"
   },
   {
    "duration": 29,
    "start_time": "2022-10-17T14:17:18.019Z"
   },
   {
    "duration": 2180,
    "start_time": "2022-10-17T14:20:11.156Z"
   },
   {
    "duration": 2138,
    "start_time": "2022-10-17T14:20:13.339Z"
   },
   {
    "duration": 6,
    "start_time": "2022-10-17T14:20:15.478Z"
   },
   {
    "duration": 167,
    "start_time": "2022-10-17T14:20:15.486Z"
   },
   {
    "duration": 17,
    "start_time": "2022-10-17T14:20:15.654Z"
   },
   {
    "duration": 12,
    "start_time": "2022-10-17T14:20:15.672Z"
   },
   {
    "duration": 12,
    "start_time": "2022-10-17T14:20:15.686Z"
   },
   {
    "duration": 16,
    "start_time": "2022-10-17T14:20:15.700Z"
   },
   {
    "duration": 10,
    "start_time": "2022-10-17T14:20:15.717Z"
   },
   {
    "duration": 18,
    "start_time": "2022-10-17T14:20:15.730Z"
   },
   {
    "duration": 9,
    "start_time": "2022-10-17T14:20:15.749Z"
   },
   {
    "duration": 8,
    "start_time": "2022-10-17T14:20:15.760Z"
   },
   {
    "duration": 13,
    "start_time": "2022-10-17T14:20:15.770Z"
   },
   {
    "duration": 24,
    "start_time": "2022-10-17T14:20:15.785Z"
   },
   {
    "duration": 11,
    "start_time": "2022-10-17T14:20:15.811Z"
   },
   {
    "duration": 9,
    "start_time": "2022-10-17T14:20:15.825Z"
   },
   {
    "duration": 12,
    "start_time": "2022-10-17T14:20:15.837Z"
   },
   {
    "duration": 17,
    "start_time": "2022-10-17T14:20:15.851Z"
   },
   {
    "duration": 11,
    "start_time": "2022-10-17T14:20:15.870Z"
   },
   {
    "duration": 141,
    "start_time": "2022-10-17T14:20:15.883Z"
   },
   {
    "duration": 8,
    "start_time": "2022-10-17T14:20:16.025Z"
   },
   {
    "duration": 8,
    "start_time": "2022-10-17T14:20:16.034Z"
   },
   {
    "duration": 13,
    "start_time": "2022-10-17T14:20:16.044Z"
   },
   {
    "duration": 12,
    "start_time": "2022-10-17T14:20:16.059Z"
   },
   {
    "duration": 41,
    "start_time": "2022-10-17T14:20:16.072Z"
   },
   {
    "duration": 7,
    "start_time": "2022-10-17T14:20:16.117Z"
   },
   {
    "duration": 99,
    "start_time": "2022-10-17T14:20:16.126Z"
   },
   {
    "duration": 240,
    "start_time": "2022-10-17T14:20:16.228Z"
   },
   {
    "duration": 7,
    "start_time": "2022-10-17T14:20:16.470Z"
   },
   {
    "duration": 273,
    "start_time": "2022-10-17T14:20:16.478Z"
   },
   {
    "duration": 10,
    "start_time": "2022-10-17T14:20:16.752Z"
   },
   {
    "duration": 31,
    "start_time": "2022-10-17T14:20:16.764Z"
   },
   {
    "duration": 25,
    "start_time": "2022-10-17T14:20:16.808Z"
   },
   {
    "duration": 32,
    "start_time": "2022-10-17T14:20:16.836Z"
   },
   {
    "duration": 40,
    "start_time": "2022-10-17T14:20:16.870Z"
   },
   {
    "duration": 26,
    "start_time": "2022-10-17T14:20:16.912Z"
   },
   {
    "duration": 30,
    "start_time": "2022-10-17T14:20:16.940Z"
   },
   {
    "duration": 22,
    "start_time": "2022-10-17T14:20:16.972Z"
   },
   {
    "duration": 45,
    "start_time": "2022-10-17T14:20:16.996Z"
   },
   {
    "duration": 3,
    "start_time": "2022-10-17T14:20:17.043Z"
   },
   {
    "duration": 48,
    "start_time": "2022-10-17T14:20:17.048Z"
   },
   {
    "duration": 13,
    "start_time": "2022-10-17T14:20:45.443Z"
   },
   {
    "duration": 11,
    "start_time": "2022-10-17T14:21:30.817Z"
   },
   {
    "duration": 11,
    "start_time": "2022-10-17T14:21:48.423Z"
   },
   {
    "duration": 12,
    "start_time": "2022-10-17T14:22:28.093Z"
   },
   {
    "duration": 989,
    "start_time": "2022-10-17T14:24:56.863Z"
   },
   {
    "duration": 978,
    "start_time": "2022-10-17T14:25:08.320Z"
   },
   {
    "duration": 1107,
    "start_time": "2022-10-17T14:28:15.215Z"
   },
   {
    "duration": 9,
    "start_time": "2022-10-17T14:29:16.433Z"
   },
   {
    "duration": 552,
    "start_time": "2022-10-17T14:29:24.758Z"
   },
   {
    "duration": 2051,
    "start_time": "2022-10-17T14:31:36.718Z"
   },
   {
    "duration": 5,
    "start_time": "2022-10-17T14:37:05.862Z"
   },
   {
    "duration": 1980,
    "start_time": "2022-10-17T14:37:13.153Z"
   },
   {
    "duration": 2694,
    "start_time": "2022-10-17T14:37:48.531Z"
   },
   {
    "duration": 3,
    "start_time": "2022-10-17T14:44:26.200Z"
   },
   {
    "duration": 6,
    "start_time": "2022-10-17T14:44:26.555Z"
   },
   {
    "duration": 8,
    "start_time": "2022-10-17T14:44:27.889Z"
   },
   {
    "duration": 4,
    "start_time": "2022-10-17T14:44:29.187Z"
   },
   {
    "duration": 64,
    "start_time": "2022-10-17T14:44:29.859Z"
   },
   {
    "duration": 38,
    "start_time": "2022-10-17T14:45:13.121Z"
   },
   {
    "duration": 17,
    "start_time": "2022-10-17T14:45:50.679Z"
   },
   {
    "duration": 34,
    "start_time": "2022-10-17T14:54:39.339Z"
   },
   {
    "duration": 36,
    "start_time": "2022-10-17T14:54:45.988Z"
   },
   {
    "duration": 2254,
    "start_time": "2022-10-17T14:54:51.362Z"
   },
   {
    "duration": 2103,
    "start_time": "2022-10-17T14:54:53.618Z"
   },
   {
    "duration": 5,
    "start_time": "2022-10-17T14:54:55.723Z"
   },
   {
    "duration": 72,
    "start_time": "2022-10-17T14:54:55.730Z"
   },
   {
    "duration": 12,
    "start_time": "2022-10-17T14:54:55.804Z"
   },
   {
    "duration": 14,
    "start_time": "2022-10-17T14:54:55.817Z"
   },
   {
    "duration": 10,
    "start_time": "2022-10-17T14:54:55.833Z"
   },
   {
    "duration": 16,
    "start_time": "2022-10-17T14:54:55.845Z"
   },
   {
    "duration": 14,
    "start_time": "2022-10-17T14:54:55.863Z"
   },
   {
    "duration": 13,
    "start_time": "2022-10-17T14:54:55.880Z"
   },
   {
    "duration": 20,
    "start_time": "2022-10-17T14:54:55.894Z"
   },
   {
    "duration": 16,
    "start_time": "2022-10-17T14:54:55.915Z"
   },
   {
    "duration": 12,
    "start_time": "2022-10-17T14:54:55.933Z"
   },
   {
    "duration": 6,
    "start_time": "2022-10-17T14:54:55.947Z"
   },
   {
    "duration": 21,
    "start_time": "2022-10-17T14:54:55.955Z"
   },
   {
    "duration": 8,
    "start_time": "2022-10-17T14:54:55.977Z"
   },
   {
    "duration": 11,
    "start_time": "2022-10-17T14:54:55.986Z"
   },
   {
    "duration": 11,
    "start_time": "2022-10-17T14:54:55.998Z"
   },
   {
    "duration": 12,
    "start_time": "2022-10-17T14:54:56.011Z"
   },
   {
    "duration": 92,
    "start_time": "2022-10-17T14:54:56.025Z"
   },
   {
    "duration": 8,
    "start_time": "2022-10-17T14:54:56.119Z"
   },
   {
    "duration": 22,
    "start_time": "2022-10-17T14:54:56.128Z"
   },
   {
    "duration": 49,
    "start_time": "2022-10-17T14:54:56.151Z"
   },
   {
    "duration": 34,
    "start_time": "2022-10-17T14:54:56.202Z"
   },
   {
    "duration": 23,
    "start_time": "2022-10-17T14:54:56.237Z"
   },
   {
    "duration": 35,
    "start_time": "2022-10-17T14:54:56.261Z"
   },
   {
    "duration": 87,
    "start_time": "2022-10-17T14:54:56.298Z"
   },
   {
    "duration": 178,
    "start_time": "2022-10-17T14:54:56.388Z"
   },
   {
    "duration": 8,
    "start_time": "2022-10-17T14:54:56.567Z"
   },
   {
    "duration": 174,
    "start_time": "2022-10-17T14:54:56.576Z"
   },
   {
    "duration": 9,
    "start_time": "2022-10-17T14:54:56.751Z"
   },
   {
    "duration": 27,
    "start_time": "2022-10-17T14:54:56.761Z"
   },
   {
    "duration": 34,
    "start_time": "2022-10-17T14:54:56.790Z"
   },
   {
    "duration": 17,
    "start_time": "2022-10-17T14:54:56.826Z"
   },
   {
    "duration": 49,
    "start_time": "2022-10-17T14:54:56.845Z"
   },
   {
    "duration": 23,
    "start_time": "2022-10-17T14:54:56.896Z"
   },
   {
    "duration": 15,
    "start_time": "2022-10-17T14:54:56.920Z"
   },
   {
    "duration": 15,
    "start_time": "2022-10-17T14:54:56.936Z"
   },
   {
    "duration": 33,
    "start_time": "2022-10-17T14:54:56.952Z"
   },
   {
    "duration": 973,
    "start_time": "2022-10-17T14:54:56.986Z"
   },
   {
    "duration": 2119,
    "start_time": "2022-10-17T14:54:57.961Z"
   },
   {
    "duration": 5,
    "start_time": "2022-10-17T14:55:00.082Z"
   },
   {
    "duration": 2465,
    "start_time": "2022-10-17T14:55:00.089Z"
   },
   {
    "duration": 3,
    "start_time": "2022-10-17T14:55:02.556Z"
   },
   {
    "duration": 13,
    "start_time": "2022-10-17T14:55:02.561Z"
   },
   {
    "duration": 19,
    "start_time": "2022-10-17T14:55:02.576Z"
   },
   {
    "duration": 11,
    "start_time": "2022-10-17T14:55:02.598Z"
   },
   {
    "duration": 56,
    "start_time": "2022-10-17T14:55:02.694Z"
   },
   {
    "duration": 17,
    "start_time": "2022-10-17T14:55:07.040Z"
   },
   {
    "duration": 20,
    "start_time": "2022-10-17T14:55:36.803Z"
   },
   {
    "duration": 36,
    "start_time": "2022-10-17T14:55:45.368Z"
   },
   {
    "duration": 36,
    "start_time": "2022-10-17T14:57:10.877Z"
   },
   {
    "duration": 17,
    "start_time": "2022-10-17T14:57:14.782Z"
   },
   {
    "duration": 8,
    "start_time": "2022-10-17T14:57:23.351Z"
   },
   {
    "duration": 4,
    "start_time": "2022-10-17T14:57:24.965Z"
   },
   {
    "duration": 75,
    "start_time": "2022-10-17T14:57:25.692Z"
   },
   {
    "duration": 28,
    "start_time": "2022-10-17T14:57:37.552Z"
   },
   {
    "duration": 32,
    "start_time": "2022-10-17T14:57:50.140Z"
   },
   {
    "duration": 28,
    "start_time": "2022-10-17T14:59:19.296Z"
   },
   {
    "duration": 28,
    "start_time": "2022-10-17T14:59:27.791Z"
   },
   {
    "duration": 36,
    "start_time": "2022-10-17T15:00:11.044Z"
   },
   {
    "duration": 11,
    "start_time": "2022-10-17T15:03:01.243Z"
   },
   {
    "duration": 3,
    "start_time": "2022-10-17T15:03:09.211Z"
   },
   {
    "duration": 50,
    "start_time": "2022-10-17T15:03:12.945Z"
   },
   {
    "duration": 48,
    "start_time": "2022-10-17T15:03:34.165Z"
   },
   {
    "duration": 43,
    "start_time": "2022-10-17T15:03:49.946Z"
   },
   {
    "duration": 1940,
    "start_time": "2022-10-17T15:04:05.566Z"
   },
   {
    "duration": 3564,
    "start_time": "2022-10-17T15:16:43.421Z"
   },
   {
    "duration": 2119,
    "start_time": "2022-10-17T15:17:48.014Z"
   },
   {
    "duration": 2072,
    "start_time": "2022-10-17T15:17:50.136Z"
   },
   {
    "duration": 1493,
    "start_time": "2022-10-17T15:17:52.211Z"
   },
   {
    "duration": 66,
    "start_time": "2022-10-17T15:17:53.706Z"
   },
   {
    "duration": 15,
    "start_time": "2022-10-17T15:17:53.774Z"
   },
   {
    "duration": 12,
    "start_time": "2022-10-17T15:17:53.790Z"
   },
   {
    "duration": 11,
    "start_time": "2022-10-17T15:17:53.803Z"
   },
   {
    "duration": 13,
    "start_time": "2022-10-17T15:17:53.816Z"
   },
   {
    "duration": 16,
    "start_time": "2022-10-17T15:17:53.831Z"
   },
   {
    "duration": 12,
    "start_time": "2022-10-17T15:17:53.850Z"
   },
   {
    "duration": 10,
    "start_time": "2022-10-17T15:17:53.864Z"
   },
   {
    "duration": 11,
    "start_time": "2022-10-17T15:17:53.876Z"
   },
   {
    "duration": 27,
    "start_time": "2022-10-17T15:17:53.889Z"
   },
   {
    "duration": 14,
    "start_time": "2022-10-17T15:17:53.918Z"
   },
   {
    "duration": 14,
    "start_time": "2022-10-17T15:17:53.934Z"
   },
   {
    "duration": 7,
    "start_time": "2022-10-17T15:17:53.949Z"
   },
   {
    "duration": 7,
    "start_time": "2022-10-17T15:17:53.957Z"
   },
   {
    "duration": 9,
    "start_time": "2022-10-17T15:17:53.965Z"
   },
   {
    "duration": 7,
    "start_time": "2022-10-17T15:17:53.976Z"
   },
   {
    "duration": 124,
    "start_time": "2022-10-17T15:17:53.985Z"
   },
   {
    "duration": 10,
    "start_time": "2022-10-17T15:17:54.110Z"
   },
   {
    "duration": 9,
    "start_time": "2022-10-17T15:17:54.122Z"
   },
   {
    "duration": 16,
    "start_time": "2022-10-17T15:17:54.133Z"
   },
   {
    "duration": 12,
    "start_time": "2022-10-17T15:17:54.151Z"
   },
   {
    "duration": 45,
    "start_time": "2022-10-17T15:17:54.166Z"
   },
   {
    "duration": 5,
    "start_time": "2022-10-17T15:17:54.213Z"
   },
   {
    "duration": 91,
    "start_time": "2022-10-17T15:17:54.219Z"
   },
   {
    "duration": 222,
    "start_time": "2022-10-17T15:17:54.314Z"
   },
   {
    "duration": 8,
    "start_time": "2022-10-17T15:17:54.537Z"
   },
   {
    "duration": 249,
    "start_time": "2022-10-17T15:17:54.546Z"
   },
   {
    "duration": 14,
    "start_time": "2022-10-17T15:17:54.796Z"
   },
   {
    "duration": 11,
    "start_time": "2022-10-17T15:17:54.811Z"
   },
   {
    "duration": 13,
    "start_time": "2022-10-17T15:17:54.824Z"
   },
   {
    "duration": 7,
    "start_time": "2022-10-17T15:17:54.838Z"
   },
   {
    "duration": 28,
    "start_time": "2022-10-17T15:17:54.846Z"
   },
   {
    "duration": 50,
    "start_time": "2022-10-17T15:17:54.875Z"
   },
   {
    "duration": 15,
    "start_time": "2022-10-17T15:17:54.926Z"
   },
   {
    "duration": 8,
    "start_time": "2022-10-17T15:17:54.943Z"
   },
   {
    "duration": 21,
    "start_time": "2022-10-17T15:17:54.953Z"
   },
   {
    "duration": 1048,
    "start_time": "2022-10-17T15:17:54.976Z"
   },
   {
    "duration": 2208,
    "start_time": "2022-10-17T15:17:56.025Z"
   },
   {
    "duration": 6,
    "start_time": "2022-10-17T15:17:58.235Z"
   },
   {
    "duration": 2582,
    "start_time": "2022-10-17T15:17:58.243Z"
   },
   {
    "duration": 3,
    "start_time": "2022-10-17T15:18:00.827Z"
   },
   {
    "duration": 23,
    "start_time": "2022-10-17T15:18:00.832Z"
   },
   {
    "duration": 31,
    "start_time": "2022-10-17T15:18:00.859Z"
   },
   {
    "duration": 15,
    "start_time": "2022-10-17T15:18:00.892Z"
   },
   {
    "duration": 120,
    "start_time": "2022-10-17T15:18:00.909Z"
   },
   {
    "duration": 19,
    "start_time": "2022-10-17T15:18:01.031Z"
   },
   {
    "duration": 50,
    "start_time": "2022-10-17T15:18:01.053Z"
   },
   {
    "duration": 0,
    "start_time": "2022-10-17T15:18:01.105Z"
   },
   {
    "duration": 0,
    "start_time": "2022-10-17T15:18:01.106Z"
   },
   {
    "duration": 0,
    "start_time": "2022-10-17T15:18:01.107Z"
   },
   {
    "duration": 0,
    "start_time": "2022-10-17T15:18:01.109Z"
   },
   {
    "duration": 0,
    "start_time": "2022-10-17T15:18:01.110Z"
   },
   {
    "duration": 0,
    "start_time": "2022-10-17T15:18:01.112Z"
   },
   {
    "duration": 0,
    "start_time": "2022-10-17T15:18:01.113Z"
   },
   {
    "duration": 0,
    "start_time": "2022-10-17T15:18:01.114Z"
   },
   {
    "duration": 0,
    "start_time": "2022-10-17T15:18:01.115Z"
   },
   {
    "duration": 1610544,
    "start_time": "2022-10-17T15:18:42.290Z"
   },
   {
    "duration": 658,
    "start_time": "2022-10-17T15:46:12.125Z"
   },
   {
    "duration": 0,
    "start_time": "2022-10-17T15:48:03.854Z"
   },
   {
    "duration": 0,
    "start_time": "2022-10-17T15:48:38.938Z"
   },
   {
    "duration": 1,
    "start_time": "2022-10-17T15:49:22.642Z"
   },
   {
    "duration": 15903,
    "start_time": "2022-10-17T15:49:24.526Z"
   },
   {
    "duration": 0,
    "start_time": "2022-10-17T15:51:11.609Z"
   },
   {
    "duration": 1698609,
    "start_time": "2022-10-17T15:51:42.522Z"
   },
   {
    "duration": 0,
    "start_time": "2022-10-17T16:20:01.133Z"
   },
   {
    "duration": 389175,
    "start_time": "2022-10-17T16:20:04.638Z"
   },
   {
    "duration": 8499,
    "start_time": "2022-10-17T16:27:24.028Z"
   },
   {
    "duration": 83,
    "start_time": "2022-10-18T04:37:51.081Z"
   },
   {
    "duration": 99,
    "start_time": "2022-10-18T04:49:14.419Z"
   },
   {
    "duration": 2666,
    "start_time": "2022-10-18T04:52:41.651Z"
   },
   {
    "duration": 3253,
    "start_time": "2022-10-18T04:52:44.319Z"
   },
   {
    "duration": 1905,
    "start_time": "2022-10-18T04:52:47.574Z"
   },
   {
    "duration": 210,
    "start_time": "2022-10-18T04:52:49.481Z"
   },
   {
    "duration": 19,
    "start_time": "2022-10-18T04:52:49.693Z"
   },
   {
    "duration": 22,
    "start_time": "2022-10-18T04:52:49.714Z"
   },
   {
    "duration": 16,
    "start_time": "2022-10-18T04:52:49.738Z"
   },
   {
    "duration": 27,
    "start_time": "2022-10-18T04:52:49.757Z"
   },
   {
    "duration": 14,
    "start_time": "2022-10-18T04:52:49.786Z"
   },
   {
    "duration": 21,
    "start_time": "2022-10-18T04:52:49.804Z"
   },
   {
    "duration": 43,
    "start_time": "2022-10-18T04:52:49.827Z"
   },
   {
    "duration": 12,
    "start_time": "2022-10-18T04:52:49.872Z"
   },
   {
    "duration": 29,
    "start_time": "2022-10-18T04:52:49.886Z"
   },
   {
    "duration": 26,
    "start_time": "2022-10-18T04:52:49.917Z"
   },
   {
    "duration": 15,
    "start_time": "2022-10-18T04:52:49.945Z"
   },
   {
    "duration": 9,
    "start_time": "2022-10-18T04:52:49.961Z"
   },
   {
    "duration": 8,
    "start_time": "2022-10-18T04:52:49.972Z"
   },
   {
    "duration": 10,
    "start_time": "2022-10-18T04:52:49.981Z"
   },
   {
    "duration": 9,
    "start_time": "2022-10-18T04:52:49.992Z"
   },
   {
    "duration": 130,
    "start_time": "2022-10-18T04:52:50.003Z"
   },
   {
    "duration": 12,
    "start_time": "2022-10-18T04:52:50.135Z"
   },
   {
    "duration": 10,
    "start_time": "2022-10-18T04:52:50.148Z"
   },
   {
    "duration": 12,
    "start_time": "2022-10-18T04:52:50.160Z"
   },
   {
    "duration": 17,
    "start_time": "2022-10-18T04:52:50.174Z"
   },
   {
    "duration": 98,
    "start_time": "2022-10-18T04:52:50.193Z"
   },
   {
    "duration": 10,
    "start_time": "2022-10-18T04:52:50.293Z"
   },
   {
    "duration": 94,
    "start_time": "2022-10-18T04:52:50.304Z"
   },
   {
    "duration": 190,
    "start_time": "2022-10-18T04:52:50.401Z"
   },
   {
    "duration": 10,
    "start_time": "2022-10-18T04:52:50.593Z"
   },
   {
    "duration": 280,
    "start_time": "2022-10-18T04:52:50.605Z"
   },
   {
    "duration": 10,
    "start_time": "2022-10-18T04:52:50.887Z"
   },
   {
    "duration": 28,
    "start_time": "2022-10-18T04:52:50.899Z"
   },
   {
    "duration": 33,
    "start_time": "2022-10-18T04:52:50.928Z"
   },
   {
    "duration": 11,
    "start_time": "2022-10-18T04:52:50.963Z"
   },
   {
    "duration": 28,
    "start_time": "2022-10-18T04:52:50.975Z"
   },
   {
    "duration": 30,
    "start_time": "2022-10-18T04:52:51.005Z"
   },
   {
    "duration": 28,
    "start_time": "2022-10-18T04:52:51.039Z"
   },
   {
    "duration": 9,
    "start_time": "2022-10-18T04:52:51.069Z"
   },
   {
    "duration": 30,
    "start_time": "2022-10-18T04:52:51.080Z"
   },
   {
    "duration": 1127,
    "start_time": "2022-10-18T04:52:51.112Z"
   },
   {
    "duration": 2372,
    "start_time": "2022-10-18T04:52:52.245Z"
   },
   {
    "duration": 5,
    "start_time": "2022-10-18T04:52:54.619Z"
   },
   {
    "duration": 3040,
    "start_time": "2022-10-18T04:52:54.626Z"
   },
   {
    "duration": 3,
    "start_time": "2022-10-18T04:52:57.667Z"
   },
   {
    "duration": 12,
    "start_time": "2022-10-18T04:52:57.672Z"
   },
   {
    "duration": 24,
    "start_time": "2022-10-18T04:52:57.685Z"
   },
   {
    "duration": 12,
    "start_time": "2022-10-18T04:52:57.711Z"
   },
   {
    "duration": 66,
    "start_time": "2022-10-18T04:52:57.732Z"
   },
   {
    "duration": 19,
    "start_time": "2022-10-18T04:52:57.800Z"
   },
   {
    "duration": 3,
    "start_time": "2022-10-18T04:52:57.820Z"
   },
   {
    "duration": 649,
    "start_time": "2022-10-18T04:52:57.830Z"
   },
   {
    "duration": 3,
    "start_time": "2022-10-18T04:52:58.480Z"
   },
   {
    "duration": 2333,
    "start_time": "2022-10-18T04:58:59.562Z"
   },
   {
    "duration": 2289,
    "start_time": "2022-10-18T04:59:01.898Z"
   },
   {
    "duration": 5,
    "start_time": "2022-10-18T04:59:04.189Z"
   },
   {
    "duration": 98,
    "start_time": "2022-10-18T04:59:04.197Z"
   },
   {
    "duration": 14,
    "start_time": "2022-10-18T04:59:04.296Z"
   },
   {
    "duration": 45,
    "start_time": "2022-10-18T04:59:04.312Z"
   },
   {
    "duration": 20,
    "start_time": "2022-10-18T04:59:04.360Z"
   },
   {
    "duration": 23,
    "start_time": "2022-10-18T04:59:04.382Z"
   },
   {
    "duration": 21,
    "start_time": "2022-10-18T04:59:04.407Z"
   },
   {
    "duration": 23,
    "start_time": "2022-10-18T04:59:04.431Z"
   },
   {
    "duration": 13,
    "start_time": "2022-10-18T04:59:04.457Z"
   },
   {
    "duration": 12,
    "start_time": "2022-10-18T04:59:04.472Z"
   },
   {
    "duration": 12,
    "start_time": "2022-10-18T04:59:04.486Z"
   },
   {
    "duration": 29,
    "start_time": "2022-10-18T04:59:04.500Z"
   },
   {
    "duration": 30,
    "start_time": "2022-10-18T04:59:04.531Z"
   },
   {
    "duration": 10,
    "start_time": "2022-10-18T04:59:04.563Z"
   },
   {
    "duration": 12,
    "start_time": "2022-10-18T04:59:04.574Z"
   },
   {
    "duration": 13,
    "start_time": "2022-10-18T04:59:04.588Z"
   },
   {
    "duration": 11,
    "start_time": "2022-10-18T04:59:04.602Z"
   },
   {
    "duration": 128,
    "start_time": "2022-10-18T04:59:04.626Z"
   },
   {
    "duration": 10,
    "start_time": "2022-10-18T04:59:04.756Z"
   },
   {
    "duration": 19,
    "start_time": "2022-10-18T04:59:04.767Z"
   },
   {
    "duration": 43,
    "start_time": "2022-10-18T04:59:04.788Z"
   },
   {
    "duration": 22,
    "start_time": "2022-10-18T04:59:04.832Z"
   },
   {
    "duration": 16,
    "start_time": "2022-10-18T04:59:04.856Z"
   },
   {
    "duration": 9,
    "start_time": "2022-10-18T04:59:04.873Z"
   },
   {
    "duration": 103,
    "start_time": "2022-10-18T04:59:04.884Z"
   },
   {
    "duration": 204,
    "start_time": "2022-10-18T04:59:04.991Z"
   },
   {
    "duration": 11,
    "start_time": "2022-10-18T04:59:05.197Z"
   },
   {
    "duration": 198,
    "start_time": "2022-10-18T04:59:05.210Z"
   },
   {
    "duration": 19,
    "start_time": "2022-10-18T04:59:05.410Z"
   },
   {
    "duration": 24,
    "start_time": "2022-10-18T04:59:05.431Z"
   },
   {
    "duration": 21,
    "start_time": "2022-10-18T04:59:05.457Z"
   },
   {
    "duration": 10,
    "start_time": "2022-10-18T04:59:05.480Z"
   },
   {
    "duration": 46,
    "start_time": "2022-10-18T04:59:05.492Z"
   },
   {
    "duration": 29,
    "start_time": "2022-10-18T04:59:05.540Z"
   },
   {
    "duration": 23,
    "start_time": "2022-10-18T04:59:05.571Z"
   },
   {
    "duration": 41,
    "start_time": "2022-10-18T04:59:05.596Z"
   },
   {
    "duration": 32,
    "start_time": "2022-10-18T04:59:05.639Z"
   },
   {
    "duration": 1092,
    "start_time": "2022-10-18T04:59:05.673Z"
   },
   {
    "duration": 2578,
    "start_time": "2022-10-18T04:59:06.767Z"
   },
   {
    "duration": 6,
    "start_time": "2022-10-18T04:59:09.347Z"
   },
   {
    "duration": 2855,
    "start_time": "2022-10-18T04:59:09.355Z"
   },
   {
    "duration": 2,
    "start_time": "2022-10-18T04:59:12.212Z"
   },
   {
    "duration": 21,
    "start_time": "2022-10-18T04:59:12.224Z"
   },
   {
    "duration": 17,
    "start_time": "2022-10-18T04:59:12.246Z"
   },
   {
    "duration": 3,
    "start_time": "2022-10-18T04:59:12.264Z"
   },
   {
    "duration": 78,
    "start_time": "2022-10-18T04:59:12.269Z"
   },
   {
    "duration": 18,
    "start_time": "2022-10-18T04:59:12.349Z"
   },
   {
    "duration": 8,
    "start_time": "2022-10-18T04:59:12.369Z"
   },
   {
    "duration": 631,
    "start_time": "2022-10-18T04:59:12.379Z"
   },
   {
    "duration": 13,
    "start_time": "2022-10-18T04:59:13.012Z"
   },
   {
    "duration": 147527,
    "start_time": "2022-10-18T04:59:13.027Z"
   },
   {
    "duration": 66,
    "start_time": "2022-10-18T05:01:40.556Z"
   },
   {
    "duration": 33,
    "start_time": "2022-10-18T05:01:40.628Z"
   },
   {
    "duration": 0,
    "start_time": "2022-10-18T05:01:40.663Z"
   },
   {
    "duration": 3082,
    "start_time": "2022-10-18T05:02:23.275Z"
   },
   {
    "duration": 9,
    "start_time": "2022-10-18T05:02:33.168Z"
   },
   {
    "duration": 5,
    "start_time": "2022-10-18T05:02:39.239Z"
   },
   {
    "duration": 7,
    "start_time": "2022-10-18T05:02:40.260Z"
   },
   {
    "duration": 2936,
    "start_time": "2022-10-18T05:02:46.479Z"
   },
   {
    "duration": 58,
    "start_time": "2022-10-18T05:03:43.598Z"
   }
  ],
  "colab": {
   "collapsed_sections": [
    "_pFOoh2QY8EE",
    "X-KetPD2Y8EN",
    "Z76i6qo1Y8ES"
   ],
   "provenance": [],
   "toc_visible": true
  },
  "kernelspec": {
   "display_name": "Python 3 (ipykernel)",
   "language": "python",
   "name": "python3"
  },
  "language_info": {
   "codemirror_mode": {
    "name": "ipython",
    "version": 3
   },
   "file_extension": ".py",
   "mimetype": "text/x-python",
   "name": "python",
   "nbconvert_exporter": "python",
   "pygments_lexer": "ipython3",
   "version": "3.9.5"
  },
  "toc": {
   "base_numbering": 1,
   "nav_menu": {},
   "number_sections": true,
   "sideBar": true,
   "skip_h1_title": true,
   "title_cell": "Table of Contents",
   "title_sidebar": "Contents",
   "toc_cell": false,
   "toc_position": {
    "height": "calc(100% - 180px)",
    "left": "10px",
    "top": "150px",
    "width": "255.391px"
   },
   "toc_section_display": true,
   "toc_window_display": true
  }
 },
 "nbformat": 4,
 "nbformat_minor": 1
}
