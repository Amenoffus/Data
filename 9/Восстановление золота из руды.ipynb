{
 "cells": [
  {
   "cell_type": "markdown",
   "metadata": {
    "toc": true
   },
   "source": [
    "<h1>Содержание<span class=\"tocSkip\"></span></h1>\n",
    "<div class=\"toc\"><ul class=\"toc-item\"><li><span><a href=\"#Подготовка-данных\" data-toc-modified-id=\"Подготовка-данных-1\"><span class=\"toc-item-num\">1&nbsp;&nbsp;</span>Подготовка данных</a></span><ul class=\"toc-item\"><li><span><a href=\"#Общая-информация-о-данных\" data-toc-modified-id=\"Общая-информация-о-данных-1.1\"><span class=\"toc-item-num\">1.1&nbsp;&nbsp;</span>Общая информация о данных</a></span></li><li><span><a href=\"#Распределение-значений-в-параметрах\" data-toc-modified-id=\"Распределение-значений-в-параметрах-1.2\"><span class=\"toc-item-num\">1.2&nbsp;&nbsp;</span>Распределение значений в параметрах</a></span></li><li><span><a href=\"#Расчётов-эффективности-обогащения\" data-toc-modified-id=\"Расчётов-эффективности-обогащения-1.3\"><span class=\"toc-item-num\">1.3&nbsp;&nbsp;</span>Расчётов эффективности обогащения</a></span></li><li><span><a href=\"#Предобработка-данных\" data-toc-modified-id=\"Предобработка-данных-1.4\"><span class=\"toc-item-num\">1.4&nbsp;&nbsp;</span>Предобработка данных</a></span></li><li><span><a href=\"#Выводы\" data-toc-modified-id=\"Выводы-1.5\"><span class=\"toc-item-num\">1.5&nbsp;&nbsp;</span>Выводы</a></span></li></ul></li><li><span><a href=\"#Анализ-данных\" data-toc-modified-id=\"Анализ-данных-2\"><span class=\"toc-item-num\">2&nbsp;&nbsp;</span>Анализ данных</a></span><ul class=\"toc-item\"><li><span><a href=\"#Изменение-концентраций-металлов-(Au,-Ag,-Pb)-на-различных-этапах-очистки\" data-toc-modified-id=\"Изменение-концентраций-металлов-(Au,-Ag,-Pb)-на-различных-этапах-очистки-2.1\"><span class=\"toc-item-num\">2.1&nbsp;&nbsp;</span>Изменение концентраций металлов (Au, Ag, Pb) на различных этапах очистки</a></span><ul class=\"toc-item\"><li><span><a href=\"#Выводы\" data-toc-modified-id=\"Выводы-2.1.1\"><span class=\"toc-item-num\">2.1.1&nbsp;&nbsp;</span>Выводы</a></span></li></ul></li><li><span><a href=\"#Сравнение-распределений-размеров-гранул-сырья-на-обучающей-и-тестовой-выборках\" data-toc-modified-id=\"Сравнение-распределений-размеров-гранул-сырья-на-обучающей-и-тестовой-выборках-2.2\"><span class=\"toc-item-num\">2.2&nbsp;&nbsp;</span>Сравнение распределений размеров гранул сырья на обучающей и тестовой выборках</a></span><ul class=\"toc-item\"><li><span><a href=\"#Выводы\" data-toc-modified-id=\"Выводы-2.2.1\"><span class=\"toc-item-num\">2.2.1&nbsp;&nbsp;</span>Выводы</a></span></li></ul></li><li><span><a href=\"#Суммарная-концентрация-всех-веществ-на-разных-стадиях:-в-сырье,-в-черновом-и-финальном-концентратах.\" data-toc-modified-id=\"Суммарная-концентрация-всех-веществ-на-разных-стадиях:-в-сырье,-в-черновом-и-финальном-концентратах.-2.3\"><span class=\"toc-item-num\">2.3&nbsp;&nbsp;</span>Суммарная концентрация всех веществ на разных стадиях: в сырье, в черновом и финальном концентратах.</a></span><ul class=\"toc-item\"><li><span><a href=\"#Выводы\" data-toc-modified-id=\"Выводы-2.3.1\"><span class=\"toc-item-num\">2.3.1&nbsp;&nbsp;</span>Выводы</a></span></li></ul></li></ul></li><li><span><a href=\"#Модель\" data-toc-modified-id=\"Модель-3\"><span class=\"toc-item-num\">3&nbsp;&nbsp;</span>Модель</a></span><ul class=\"toc-item\"><li><span><a href=\"#Функция-sMAPE\" data-toc-modified-id=\"Функция-sMAPE-3.1\"><span class=\"toc-item-num\">3.1&nbsp;&nbsp;</span>Функция sMAPE</a></span></li><li><span><a href=\"#Линейная-регрессия\" data-toc-modified-id=\"Линейная-регрессия-3.2\"><span class=\"toc-item-num\">3.2&nbsp;&nbsp;</span>Линейная регрессия</a></span></li><li><span><a href=\"#Случайный-лес\" data-toc-modified-id=\"Случайный-лес-3.3\"><span class=\"toc-item-num\">3.3&nbsp;&nbsp;</span>Случайный лес</a></span></li><li><span><a href=\"#Проверка-качества-модели-методом-DummyRegressor\" data-toc-modified-id=\"Проверка-качества-модели-методом-DummyRegressor-3.4\"><span class=\"toc-item-num\">3.4&nbsp;&nbsp;</span>Проверка качества модели методом DummyRegressor</a></span></li></ul></li><li><span><a href=\"#Вывод\" data-toc-modified-id=\"Вывод-4\"><span class=\"toc-item-num\">4&nbsp;&nbsp;</span>Вывод</a></span></li><li><span><a href=\"#Чек-лист-готовности-проекта\" data-toc-modified-id=\"Чек-лист-готовности-проекта-5\"><span class=\"toc-item-num\">5&nbsp;&nbsp;</span>Чек-лист готовности проекта</a></span></li></ul></div>"
   ]
  },
  {
   "cell_type": "markdown",
   "metadata": {},
   "source": [
    "# Восстановление золота из руды"
   ]
  },
  {
   "cell_type": "markdown",
   "metadata": {},
   "source": [
    "Подготовьте прототип модели машинного обучения для «Цифры». Компания разрабатывает решения для эффективной работы промышленных предприятий.\n",
    "\n",
    "Модель должна предсказать коэффициент восстановления золота из золотосодержащей руды. Используйте данные с параметрами добычи и очистки. \n",
    "\n",
    "Модель поможет оптимизировать производство, чтобы не запускать предприятие с убыточными характеристиками.\n",
    "\n",
    "Вам нужно:\n",
    "\n",
    "1. Подготовить данные;\n",
    "2. Провести исследовательский анализ данных;\n",
    "3. Построить и обучить модель.\n",
    "\n",
    "Чтобы выполнить проект, обращайтесь к библиотекам *pandas*, *matplotlib* и *sklearn.* Вам поможет их документация."
   ]
  },
  {
   "cell_type": "markdown",
   "metadata": {},
   "source": [
    "## Подготовка данных"
   ]
  },
  {
   "cell_type": "code",
   "execution_count": 9,
   "metadata": {},
   "outputs": [],
   "source": [
    "import pandas as pd\n",
    "import numpy as np\n",
    "from numpy.random import RandomState\n",
    "import seaborn as sns\n",
    "import matplotlib.pyplot as plt\n",
    "from scipy import stats as st\n",
    "\n",
    "from sklearn.preprocessing import StandardScaler\n",
    "from sklearn.model_selection import cross_val_score, GridSearchCV\n",
    "from sklearn.ensemble import RandomForestRegressor\n",
    "from sklearn.tree import DecisionTreeRegressor\n",
    "from sklearn.linear_model import LinearRegression\n",
    "from sklearn.metrics import mean_absolute_error, make_scorer\n",
    "from sklearn.utils import shuffle\n",
    "from sklearn.dummy import DummyRegressor"
   ]
  },
  {
   "cell_type": "code",
   "execution_count": 10,
   "metadata": {},
   "outputs": [],
   "source": [
    "df_train = pd.read_csv('/datasets/gold_recovery_train_new.csv', index_col = 'date')\n",
    "df_test = pd.read_csv('/datasets/gold_recovery_test_new.csv', index_col = 'date')\n",
    "df_full = pd.read_csv('/datasets/gold_recovery_full_new.csv', index_col = 'date')"
   ]
  },
  {
   "cell_type": "markdown",
   "metadata": {},
   "source": [
    "### Общая информация о данных"
   ]
  },
  {
   "cell_type": "code",
   "execution_count": 11,
   "metadata": {},
   "outputs": [
    {
     "data": {
      "text/html": [
       "<div>\n",
       "<style scoped>\n",
       "    .dataframe tbody tr th:only-of-type {\n",
       "        vertical-align: middle;\n",
       "    }\n",
       "\n",
       "    .dataframe tbody tr th {\n",
       "        vertical-align: top;\n",
       "    }\n",
       "\n",
       "    .dataframe thead th {\n",
       "        text-align: right;\n",
       "    }\n",
       "</style>\n",
       "<table border=\"1\" class=\"dataframe\">\n",
       "  <thead>\n",
       "    <tr style=\"text-align: right;\">\n",
       "      <th></th>\n",
       "      <th>final.output.concentrate_ag</th>\n",
       "      <th>final.output.concentrate_pb</th>\n",
       "      <th>final.output.concentrate_sol</th>\n",
       "      <th>final.output.concentrate_au</th>\n",
       "      <th>final.output.recovery</th>\n",
       "      <th>final.output.tail_ag</th>\n",
       "      <th>final.output.tail_pb</th>\n",
       "      <th>final.output.tail_sol</th>\n",
       "      <th>final.output.tail_au</th>\n",
       "      <th>primary_cleaner.input.sulfate</th>\n",
       "      <th>...</th>\n",
       "      <th>secondary_cleaner.state.floatbank4_a_air</th>\n",
       "      <th>secondary_cleaner.state.floatbank4_a_level</th>\n",
       "      <th>secondary_cleaner.state.floatbank4_b_air</th>\n",
       "      <th>secondary_cleaner.state.floatbank4_b_level</th>\n",
       "      <th>secondary_cleaner.state.floatbank5_a_air</th>\n",
       "      <th>secondary_cleaner.state.floatbank5_a_level</th>\n",
       "      <th>secondary_cleaner.state.floatbank5_b_air</th>\n",
       "      <th>secondary_cleaner.state.floatbank5_b_level</th>\n",
       "      <th>secondary_cleaner.state.floatbank6_a_air</th>\n",
       "      <th>secondary_cleaner.state.floatbank6_a_level</th>\n",
       "    </tr>\n",
       "    <tr>\n",
       "      <th>date</th>\n",
       "      <th></th>\n",
       "      <th></th>\n",
       "      <th></th>\n",
       "      <th></th>\n",
       "      <th></th>\n",
       "      <th></th>\n",
       "      <th></th>\n",
       "      <th></th>\n",
       "      <th></th>\n",
       "      <th></th>\n",
       "      <th></th>\n",
       "      <th></th>\n",
       "      <th></th>\n",
       "      <th></th>\n",
       "      <th></th>\n",
       "      <th></th>\n",
       "      <th></th>\n",
       "      <th></th>\n",
       "      <th></th>\n",
       "      <th></th>\n",
       "      <th></th>\n",
       "    </tr>\n",
       "  </thead>\n",
       "  <tbody>\n",
       "    <tr>\n",
       "      <th>2016-01-15 00:00:00</th>\n",
       "      <td>6.055403</td>\n",
       "      <td>9.889648</td>\n",
       "      <td>5.507324</td>\n",
       "      <td>42.192020</td>\n",
       "      <td>70.541216</td>\n",
       "      <td>10.411962</td>\n",
       "      <td>0.895447</td>\n",
       "      <td>16.904297</td>\n",
       "      <td>2.143149</td>\n",
       "      <td>127.092003</td>\n",
       "      <td>...</td>\n",
       "      <td>14.016835</td>\n",
       "      <td>-502.488007</td>\n",
       "      <td>12.099931</td>\n",
       "      <td>-504.715942</td>\n",
       "      <td>9.925633</td>\n",
       "      <td>-498.310211</td>\n",
       "      <td>8.079666</td>\n",
       "      <td>-500.470978</td>\n",
       "      <td>14.151341</td>\n",
       "      <td>-605.841980</td>\n",
       "    </tr>\n",
       "    <tr>\n",
       "      <th>2016-01-15 01:00:00</th>\n",
       "      <td>6.029369</td>\n",
       "      <td>9.968944</td>\n",
       "      <td>5.257781</td>\n",
       "      <td>42.701629</td>\n",
       "      <td>69.266198</td>\n",
       "      <td>10.462676</td>\n",
       "      <td>0.927452</td>\n",
       "      <td>16.634514</td>\n",
       "      <td>2.224930</td>\n",
       "      <td>125.629232</td>\n",
       "      <td>...</td>\n",
       "      <td>13.992281</td>\n",
       "      <td>-505.503262</td>\n",
       "      <td>11.950531</td>\n",
       "      <td>-501.331529</td>\n",
       "      <td>10.039245</td>\n",
       "      <td>-500.169983</td>\n",
       "      <td>7.984757</td>\n",
       "      <td>-500.582168</td>\n",
       "      <td>13.998353</td>\n",
       "      <td>-599.787184</td>\n",
       "    </tr>\n",
       "    <tr>\n",
       "      <th>2016-01-15 02:00:00</th>\n",
       "      <td>6.055926</td>\n",
       "      <td>10.213995</td>\n",
       "      <td>5.383759</td>\n",
       "      <td>42.657501</td>\n",
       "      <td>68.116445</td>\n",
       "      <td>10.507046</td>\n",
       "      <td>0.953716</td>\n",
       "      <td>16.208849</td>\n",
       "      <td>2.257889</td>\n",
       "      <td>123.819808</td>\n",
       "      <td>...</td>\n",
       "      <td>14.015015</td>\n",
       "      <td>-502.520901</td>\n",
       "      <td>11.912783</td>\n",
       "      <td>-501.133383</td>\n",
       "      <td>10.070913</td>\n",
       "      <td>-500.129135</td>\n",
       "      <td>8.013877</td>\n",
       "      <td>-500.517572</td>\n",
       "      <td>14.028663</td>\n",
       "      <td>-601.427363</td>\n",
       "    </tr>\n",
       "    <tr>\n",
       "      <th>2016-01-15 03:00:00</th>\n",
       "      <td>6.047977</td>\n",
       "      <td>9.977019</td>\n",
       "      <td>4.858634</td>\n",
       "      <td>42.689819</td>\n",
       "      <td>68.347543</td>\n",
       "      <td>10.422762</td>\n",
       "      <td>0.883763</td>\n",
       "      <td>16.532835</td>\n",
       "      <td>2.146849</td>\n",
       "      <td>122.270188</td>\n",
       "      <td>...</td>\n",
       "      <td>14.036510</td>\n",
       "      <td>-500.857308</td>\n",
       "      <td>11.999550</td>\n",
       "      <td>-501.193686</td>\n",
       "      <td>9.970366</td>\n",
       "      <td>-499.201640</td>\n",
       "      <td>7.977324</td>\n",
       "      <td>-500.255908</td>\n",
       "      <td>14.005551</td>\n",
       "      <td>-599.996129</td>\n",
       "    </tr>\n",
       "    <tr>\n",
       "      <th>2016-01-15 04:00:00</th>\n",
       "      <td>6.148599</td>\n",
       "      <td>10.142511</td>\n",
       "      <td>4.939416</td>\n",
       "      <td>42.774141</td>\n",
       "      <td>66.927016</td>\n",
       "      <td>10.360302</td>\n",
       "      <td>0.792826</td>\n",
       "      <td>16.525686</td>\n",
       "      <td>2.055292</td>\n",
       "      <td>117.988169</td>\n",
       "      <td>...</td>\n",
       "      <td>14.027298</td>\n",
       "      <td>-499.838632</td>\n",
       "      <td>11.953070</td>\n",
       "      <td>-501.053894</td>\n",
       "      <td>9.925709</td>\n",
       "      <td>-501.686727</td>\n",
       "      <td>7.894242</td>\n",
       "      <td>-500.356035</td>\n",
       "      <td>13.996647</td>\n",
       "      <td>-601.496691</td>\n",
       "    </tr>\n",
       "  </tbody>\n",
       "</table>\n",
       "<p>5 rows × 86 columns</p>\n",
       "</div>"
      ],
      "text/plain": [
       "                     final.output.concentrate_ag  final.output.concentrate_pb  \\\n",
       "date                                                                            \n",
       "2016-01-15 00:00:00                     6.055403                     9.889648   \n",
       "2016-01-15 01:00:00                     6.029369                     9.968944   \n",
       "2016-01-15 02:00:00                     6.055926                    10.213995   \n",
       "2016-01-15 03:00:00                     6.047977                     9.977019   \n",
       "2016-01-15 04:00:00                     6.148599                    10.142511   \n",
       "\n",
       "                     final.output.concentrate_sol  \\\n",
       "date                                                \n",
       "2016-01-15 00:00:00                      5.507324   \n",
       "2016-01-15 01:00:00                      5.257781   \n",
       "2016-01-15 02:00:00                      5.383759   \n",
       "2016-01-15 03:00:00                      4.858634   \n",
       "2016-01-15 04:00:00                      4.939416   \n",
       "\n",
       "                     final.output.concentrate_au  final.output.recovery  \\\n",
       "date                                                                      \n",
       "2016-01-15 00:00:00                    42.192020              70.541216   \n",
       "2016-01-15 01:00:00                    42.701629              69.266198   \n",
       "2016-01-15 02:00:00                    42.657501              68.116445   \n",
       "2016-01-15 03:00:00                    42.689819              68.347543   \n",
       "2016-01-15 04:00:00                    42.774141              66.927016   \n",
       "\n",
       "                     final.output.tail_ag  final.output.tail_pb  \\\n",
       "date                                                              \n",
       "2016-01-15 00:00:00             10.411962              0.895447   \n",
       "2016-01-15 01:00:00             10.462676              0.927452   \n",
       "2016-01-15 02:00:00             10.507046              0.953716   \n",
       "2016-01-15 03:00:00             10.422762              0.883763   \n",
       "2016-01-15 04:00:00             10.360302              0.792826   \n",
       "\n",
       "                     final.output.tail_sol  final.output.tail_au  \\\n",
       "date                                                               \n",
       "2016-01-15 00:00:00              16.904297              2.143149   \n",
       "2016-01-15 01:00:00              16.634514              2.224930   \n",
       "2016-01-15 02:00:00              16.208849              2.257889   \n",
       "2016-01-15 03:00:00              16.532835              2.146849   \n",
       "2016-01-15 04:00:00              16.525686              2.055292   \n",
       "\n",
       "                     primary_cleaner.input.sulfate  ...  \\\n",
       "date                                                ...   \n",
       "2016-01-15 00:00:00                     127.092003  ...   \n",
       "2016-01-15 01:00:00                     125.629232  ...   \n",
       "2016-01-15 02:00:00                     123.819808  ...   \n",
       "2016-01-15 03:00:00                     122.270188  ...   \n",
       "2016-01-15 04:00:00                     117.988169  ...   \n",
       "\n",
       "                     secondary_cleaner.state.floatbank4_a_air  \\\n",
       "date                                                            \n",
       "2016-01-15 00:00:00                                 14.016835   \n",
       "2016-01-15 01:00:00                                 13.992281   \n",
       "2016-01-15 02:00:00                                 14.015015   \n",
       "2016-01-15 03:00:00                                 14.036510   \n",
       "2016-01-15 04:00:00                                 14.027298   \n",
       "\n",
       "                     secondary_cleaner.state.floatbank4_a_level  \\\n",
       "date                                                              \n",
       "2016-01-15 00:00:00                                 -502.488007   \n",
       "2016-01-15 01:00:00                                 -505.503262   \n",
       "2016-01-15 02:00:00                                 -502.520901   \n",
       "2016-01-15 03:00:00                                 -500.857308   \n",
       "2016-01-15 04:00:00                                 -499.838632   \n",
       "\n",
       "                     secondary_cleaner.state.floatbank4_b_air  \\\n",
       "date                                                            \n",
       "2016-01-15 00:00:00                                 12.099931   \n",
       "2016-01-15 01:00:00                                 11.950531   \n",
       "2016-01-15 02:00:00                                 11.912783   \n",
       "2016-01-15 03:00:00                                 11.999550   \n",
       "2016-01-15 04:00:00                                 11.953070   \n",
       "\n",
       "                     secondary_cleaner.state.floatbank4_b_level  \\\n",
       "date                                                              \n",
       "2016-01-15 00:00:00                                 -504.715942   \n",
       "2016-01-15 01:00:00                                 -501.331529   \n",
       "2016-01-15 02:00:00                                 -501.133383   \n",
       "2016-01-15 03:00:00                                 -501.193686   \n",
       "2016-01-15 04:00:00                                 -501.053894   \n",
       "\n",
       "                     secondary_cleaner.state.floatbank5_a_air  \\\n",
       "date                                                            \n",
       "2016-01-15 00:00:00                                  9.925633   \n",
       "2016-01-15 01:00:00                                 10.039245   \n",
       "2016-01-15 02:00:00                                 10.070913   \n",
       "2016-01-15 03:00:00                                  9.970366   \n",
       "2016-01-15 04:00:00                                  9.925709   \n",
       "\n",
       "                     secondary_cleaner.state.floatbank5_a_level  \\\n",
       "date                                                              \n",
       "2016-01-15 00:00:00                                 -498.310211   \n",
       "2016-01-15 01:00:00                                 -500.169983   \n",
       "2016-01-15 02:00:00                                 -500.129135   \n",
       "2016-01-15 03:00:00                                 -499.201640   \n",
       "2016-01-15 04:00:00                                 -501.686727   \n",
       "\n",
       "                     secondary_cleaner.state.floatbank5_b_air  \\\n",
       "date                                                            \n",
       "2016-01-15 00:00:00                                  8.079666   \n",
       "2016-01-15 01:00:00                                  7.984757   \n",
       "2016-01-15 02:00:00                                  8.013877   \n",
       "2016-01-15 03:00:00                                  7.977324   \n",
       "2016-01-15 04:00:00                                  7.894242   \n",
       "\n",
       "                     secondary_cleaner.state.floatbank5_b_level  \\\n",
       "date                                                              \n",
       "2016-01-15 00:00:00                                 -500.470978   \n",
       "2016-01-15 01:00:00                                 -500.582168   \n",
       "2016-01-15 02:00:00                                 -500.517572   \n",
       "2016-01-15 03:00:00                                 -500.255908   \n",
       "2016-01-15 04:00:00                                 -500.356035   \n",
       "\n",
       "                     secondary_cleaner.state.floatbank6_a_air  \\\n",
       "date                                                            \n",
       "2016-01-15 00:00:00                                 14.151341   \n",
       "2016-01-15 01:00:00                                 13.998353   \n",
       "2016-01-15 02:00:00                                 14.028663   \n",
       "2016-01-15 03:00:00                                 14.005551   \n",
       "2016-01-15 04:00:00                                 13.996647   \n",
       "\n",
       "                     secondary_cleaner.state.floatbank6_a_level  \n",
       "date                                                             \n",
       "2016-01-15 00:00:00                                 -605.841980  \n",
       "2016-01-15 01:00:00                                 -599.787184  \n",
       "2016-01-15 02:00:00                                 -601.427363  \n",
       "2016-01-15 03:00:00                                 -599.996129  \n",
       "2016-01-15 04:00:00                                 -601.496691  \n",
       "\n",
       "[5 rows x 86 columns]"
      ]
     },
     "metadata": {},
     "output_type": "display_data"
    },
    {
     "name": "stdout",
     "output_type": "stream",
     "text": [
      "<class 'pandas.core.frame.DataFrame'>\n",
      "Index: 14149 entries, 2016-01-15 00:00:00 to 2018-08-18 10:59:59\n",
      "Data columns (total 86 columns):\n",
      " #   Column                                              Non-Null Count  Dtype  \n",
      "---  ------                                              --------------  -----  \n",
      " 0   final.output.concentrate_ag                         14148 non-null  float64\n",
      " 1   final.output.concentrate_pb                         14148 non-null  float64\n",
      " 2   final.output.concentrate_sol                        13938 non-null  float64\n",
      " 3   final.output.concentrate_au                         14149 non-null  float64\n",
      " 4   final.output.recovery                               14149 non-null  float64\n",
      " 5   final.output.tail_ag                                14149 non-null  float64\n",
      " 6   final.output.tail_pb                                14049 non-null  float64\n",
      " 7   final.output.tail_sol                               14144 non-null  float64\n",
      " 8   final.output.tail_au                                14149 non-null  float64\n",
      " 9   primary_cleaner.input.sulfate                       14129 non-null  float64\n",
      " 10  primary_cleaner.input.depressant                    14117 non-null  float64\n",
      " 11  primary_cleaner.input.feed_size                     14149 non-null  float64\n",
      " 12  primary_cleaner.input.xanthate                      14049 non-null  float64\n",
      " 13  primary_cleaner.output.concentrate_ag               14149 non-null  float64\n",
      " 14  primary_cleaner.output.concentrate_pb               14063 non-null  float64\n",
      " 15  primary_cleaner.output.concentrate_sol              13863 non-null  float64\n",
      " 16  primary_cleaner.output.concentrate_au               14149 non-null  float64\n",
      " 17  primary_cleaner.output.tail_ag                      14148 non-null  float64\n",
      " 18  primary_cleaner.output.tail_pb                      14134 non-null  float64\n",
      " 19  primary_cleaner.output.tail_sol                     14103 non-null  float64\n",
      " 20  primary_cleaner.output.tail_au                      14149 non-null  float64\n",
      " 21  primary_cleaner.state.floatbank8_a_air              14145 non-null  float64\n",
      " 22  primary_cleaner.state.floatbank8_a_level            14148 non-null  float64\n",
      " 23  primary_cleaner.state.floatbank8_b_air              14145 non-null  float64\n",
      " 24  primary_cleaner.state.floatbank8_b_level            14148 non-null  float64\n",
      " 25  primary_cleaner.state.floatbank8_c_air              14147 non-null  float64\n",
      " 26  primary_cleaner.state.floatbank8_c_level            14148 non-null  float64\n",
      " 27  primary_cleaner.state.floatbank8_d_air              14146 non-null  float64\n",
      " 28  primary_cleaner.state.floatbank8_d_level            14148 non-null  float64\n",
      " 29  rougher.calculation.sulfate_to_au_concentrate       14148 non-null  float64\n",
      " 30  rougher.calculation.floatbank10_sulfate_to_au_feed  14148 non-null  float64\n",
      " 31  rougher.calculation.floatbank11_sulfate_to_au_feed  14148 non-null  float64\n",
      " 32  rougher.calculation.au_pb_ratio                     14149 non-null  float64\n",
      " 33  rougher.input.feed_ag                               14149 non-null  float64\n",
      " 34  rougher.input.feed_pb                               14049 non-null  float64\n",
      " 35  rougher.input.feed_rate                             14141 non-null  float64\n",
      " 36  rougher.input.feed_size                             14005 non-null  float64\n",
      " 37  rougher.input.feed_sol                              14071 non-null  float64\n",
      " 38  rougher.input.feed_au                               14149 non-null  float64\n",
      " 39  rougher.input.floatbank10_sulfate                   14120 non-null  float64\n",
      " 40  rougher.input.floatbank10_xanthate                  14141 non-null  float64\n",
      " 41  rougher.input.floatbank11_sulfate                   14113 non-null  float64\n",
      " 42  rougher.input.floatbank11_xanthate                  13721 non-null  float64\n",
      " 43  rougher.output.concentrate_ag                       14149 non-null  float64\n",
      " 44  rougher.output.concentrate_pb                       14149 non-null  float64\n",
      " 45  rougher.output.concentrate_sol                      14127 non-null  float64\n",
      " 46  rougher.output.concentrate_au                       14149 non-null  float64\n",
      " 47  rougher.output.recovery                             14149 non-null  float64\n",
      " 48  rougher.output.tail_ag                              14148 non-null  float64\n",
      " 49  rougher.output.tail_pb                              14149 non-null  float64\n",
      " 50  rougher.output.tail_sol                             14149 non-null  float64\n",
      " 51  rougher.output.tail_au                              14149 non-null  float64\n",
      " 52  rougher.state.floatbank10_a_air                     14148 non-null  float64\n",
      " 53  rougher.state.floatbank10_a_level                   14148 non-null  float64\n",
      " 54  rougher.state.floatbank10_b_air                     14148 non-null  float64\n",
      " 55  rougher.state.floatbank10_b_level                   14148 non-null  float64\n",
      " 56  rougher.state.floatbank10_c_air                     14148 non-null  float64\n",
      " 57  rougher.state.floatbank10_c_level                   14148 non-null  float64\n",
      " 58  rougher.state.floatbank10_d_air                     14149 non-null  float64\n",
      " 59  rougher.state.floatbank10_d_level                   14149 non-null  float64\n",
      " 60  rougher.state.floatbank10_e_air                     13713 non-null  float64\n",
      " 61  rougher.state.floatbank10_e_level                   14149 non-null  float64\n",
      " 62  rougher.state.floatbank10_f_air                     14149 non-null  float64\n",
      " 63  rougher.state.floatbank10_f_level                   14149 non-null  float64\n",
      " 64  secondary_cleaner.output.tail_ag                    14147 non-null  float64\n",
      " 65  secondary_cleaner.output.tail_pb                    14139 non-null  float64\n",
      " 66  secondary_cleaner.output.tail_sol                   12544 non-null  float64\n",
      " 67  secondary_cleaner.output.tail_au                    14149 non-null  float64\n",
      " 68  secondary_cleaner.state.floatbank2_a_air            13932 non-null  float64\n",
      " 69  secondary_cleaner.state.floatbank2_a_level          14148 non-null  float64\n",
      " 70  secondary_cleaner.state.floatbank2_b_air            14128 non-null  float64\n",
      " 71  secondary_cleaner.state.floatbank2_b_level          14148 non-null  float64\n",
      " 72  secondary_cleaner.state.floatbank3_a_air            14145 non-null  float64\n",
      " 73  secondary_cleaner.state.floatbank3_a_level          14148 non-null  float64\n",
      " 74  secondary_cleaner.state.floatbank3_b_air            14148 non-null  float64\n",
      " 75  secondary_cleaner.state.floatbank3_b_level          14148 non-null  float64\n",
      " 76  secondary_cleaner.state.floatbank4_a_air            14143 non-null  float64\n",
      " 77  secondary_cleaner.state.floatbank4_a_level          14148 non-null  float64\n",
      " 78  secondary_cleaner.state.floatbank4_b_air            14148 non-null  float64\n",
      " 79  secondary_cleaner.state.floatbank4_b_level          14148 non-null  float64\n",
      " 80  secondary_cleaner.state.floatbank5_a_air            14148 non-null  float64\n",
      " 81  secondary_cleaner.state.floatbank5_a_level          14148 non-null  float64\n",
      " 82  secondary_cleaner.state.floatbank5_b_air            14148 non-null  float64\n",
      " 83  secondary_cleaner.state.floatbank5_b_level          14148 non-null  float64\n",
      " 84  secondary_cleaner.state.floatbank6_a_air            14147 non-null  float64\n",
      " 85  secondary_cleaner.state.floatbank6_a_level          14148 non-null  float64\n",
      "dtypes: float64(86)\n",
      "memory usage: 9.4+ MB\n"
     ]
    },
    {
     "data": {
      "text/plain": [
       "None"
      ]
     },
     "metadata": {},
     "output_type": "display_data"
    }
   ],
   "source": [
    "display(df_train.head())\n",
    "display(df_train.info())"
   ]
  },
  {
   "cell_type": "code",
   "execution_count": 12,
   "metadata": {},
   "outputs": [
    {
     "data": {
      "text/html": [
       "<div>\n",
       "<style scoped>\n",
       "    .dataframe tbody tr th:only-of-type {\n",
       "        vertical-align: middle;\n",
       "    }\n",
       "\n",
       "    .dataframe tbody tr th {\n",
       "        vertical-align: top;\n",
       "    }\n",
       "\n",
       "    .dataframe thead th {\n",
       "        text-align: right;\n",
       "    }\n",
       "</style>\n",
       "<table border=\"1\" class=\"dataframe\">\n",
       "  <thead>\n",
       "    <tr style=\"text-align: right;\">\n",
       "      <th></th>\n",
       "      <th>primary_cleaner.input.sulfate</th>\n",
       "      <th>primary_cleaner.input.depressant</th>\n",
       "      <th>primary_cleaner.input.feed_size</th>\n",
       "      <th>primary_cleaner.input.xanthate</th>\n",
       "      <th>primary_cleaner.state.floatbank8_a_air</th>\n",
       "      <th>primary_cleaner.state.floatbank8_a_level</th>\n",
       "      <th>primary_cleaner.state.floatbank8_b_air</th>\n",
       "      <th>primary_cleaner.state.floatbank8_b_level</th>\n",
       "      <th>primary_cleaner.state.floatbank8_c_air</th>\n",
       "      <th>primary_cleaner.state.floatbank8_c_level</th>\n",
       "      <th>...</th>\n",
       "      <th>secondary_cleaner.state.floatbank4_a_air</th>\n",
       "      <th>secondary_cleaner.state.floatbank4_a_level</th>\n",
       "      <th>secondary_cleaner.state.floatbank4_b_air</th>\n",
       "      <th>secondary_cleaner.state.floatbank4_b_level</th>\n",
       "      <th>secondary_cleaner.state.floatbank5_a_air</th>\n",
       "      <th>secondary_cleaner.state.floatbank5_a_level</th>\n",
       "      <th>secondary_cleaner.state.floatbank5_b_air</th>\n",
       "      <th>secondary_cleaner.state.floatbank5_b_level</th>\n",
       "      <th>secondary_cleaner.state.floatbank6_a_air</th>\n",
       "      <th>secondary_cleaner.state.floatbank6_a_level</th>\n",
       "    </tr>\n",
       "    <tr>\n",
       "      <th>date</th>\n",
       "      <th></th>\n",
       "      <th></th>\n",
       "      <th></th>\n",
       "      <th></th>\n",
       "      <th></th>\n",
       "      <th></th>\n",
       "      <th></th>\n",
       "      <th></th>\n",
       "      <th></th>\n",
       "      <th></th>\n",
       "      <th></th>\n",
       "      <th></th>\n",
       "      <th></th>\n",
       "      <th></th>\n",
       "      <th></th>\n",
       "      <th></th>\n",
       "      <th></th>\n",
       "      <th></th>\n",
       "      <th></th>\n",
       "      <th></th>\n",
       "      <th></th>\n",
       "    </tr>\n",
       "  </thead>\n",
       "  <tbody>\n",
       "    <tr>\n",
       "      <th>2016-09-01 00:59:59</th>\n",
       "      <td>210.800909</td>\n",
       "      <td>14.993118</td>\n",
       "      <td>8.080000</td>\n",
       "      <td>1.005021</td>\n",
       "      <td>1398.981301</td>\n",
       "      <td>-500.225577</td>\n",
       "      <td>1399.144926</td>\n",
       "      <td>-499.919735</td>\n",
       "      <td>1400.102998</td>\n",
       "      <td>-500.704369</td>\n",
       "      <td>...</td>\n",
       "      <td>12.023554</td>\n",
       "      <td>-497.795834</td>\n",
       "      <td>8.016656</td>\n",
       "      <td>-501.289139</td>\n",
       "      <td>7.946562</td>\n",
       "      <td>-432.317850</td>\n",
       "      <td>4.872511</td>\n",
       "      <td>-500.037437</td>\n",
       "      <td>26.705889</td>\n",
       "      <td>-499.709414</td>\n",
       "    </tr>\n",
       "    <tr>\n",
       "      <th>2016-09-01 01:59:59</th>\n",
       "      <td>215.392455</td>\n",
       "      <td>14.987471</td>\n",
       "      <td>8.080000</td>\n",
       "      <td>0.990469</td>\n",
       "      <td>1398.777912</td>\n",
       "      <td>-500.057435</td>\n",
       "      <td>1398.055362</td>\n",
       "      <td>-499.778182</td>\n",
       "      <td>1396.151033</td>\n",
       "      <td>-499.240168</td>\n",
       "      <td>...</td>\n",
       "      <td>12.058140</td>\n",
       "      <td>-498.695773</td>\n",
       "      <td>8.130979</td>\n",
       "      <td>-499.634209</td>\n",
       "      <td>7.958270</td>\n",
       "      <td>-525.839648</td>\n",
       "      <td>4.878850</td>\n",
       "      <td>-500.162375</td>\n",
       "      <td>25.019940</td>\n",
       "      <td>-499.819438</td>\n",
       "    </tr>\n",
       "    <tr>\n",
       "      <th>2016-09-01 02:59:59</th>\n",
       "      <td>215.259946</td>\n",
       "      <td>12.884934</td>\n",
       "      <td>7.786667</td>\n",
       "      <td>0.996043</td>\n",
       "      <td>1398.493666</td>\n",
       "      <td>-500.868360</td>\n",
       "      <td>1398.860436</td>\n",
       "      <td>-499.764529</td>\n",
       "      <td>1398.075709</td>\n",
       "      <td>-502.151509</td>\n",
       "      <td>...</td>\n",
       "      <td>11.962366</td>\n",
       "      <td>-498.767484</td>\n",
       "      <td>8.096893</td>\n",
       "      <td>-500.827423</td>\n",
       "      <td>8.071056</td>\n",
       "      <td>-500.801673</td>\n",
       "      <td>4.905125</td>\n",
       "      <td>-499.828510</td>\n",
       "      <td>24.994862</td>\n",
       "      <td>-500.622559</td>\n",
       "    </tr>\n",
       "    <tr>\n",
       "      <th>2016-09-01 03:59:59</th>\n",
       "      <td>215.336236</td>\n",
       "      <td>12.006805</td>\n",
       "      <td>7.640000</td>\n",
       "      <td>0.863514</td>\n",
       "      <td>1399.618111</td>\n",
       "      <td>-498.863574</td>\n",
       "      <td>1397.440120</td>\n",
       "      <td>-499.211024</td>\n",
       "      <td>1400.129303</td>\n",
       "      <td>-498.355873</td>\n",
       "      <td>...</td>\n",
       "      <td>12.033091</td>\n",
       "      <td>-498.350935</td>\n",
       "      <td>8.074946</td>\n",
       "      <td>-499.474407</td>\n",
       "      <td>7.897085</td>\n",
       "      <td>-500.868509</td>\n",
       "      <td>4.931400</td>\n",
       "      <td>-499.963623</td>\n",
       "      <td>24.948919</td>\n",
       "      <td>-498.709987</td>\n",
       "    </tr>\n",
       "    <tr>\n",
       "      <th>2016-09-01 04:59:59</th>\n",
       "      <td>199.099327</td>\n",
       "      <td>10.682530</td>\n",
       "      <td>7.530000</td>\n",
       "      <td>0.805575</td>\n",
       "      <td>1401.268123</td>\n",
       "      <td>-500.808305</td>\n",
       "      <td>1398.128818</td>\n",
       "      <td>-499.504543</td>\n",
       "      <td>1402.172226</td>\n",
       "      <td>-500.810606</td>\n",
       "      <td>...</td>\n",
       "      <td>12.025367</td>\n",
       "      <td>-500.786497</td>\n",
       "      <td>8.054678</td>\n",
       "      <td>-500.397500</td>\n",
       "      <td>8.107890</td>\n",
       "      <td>-509.526725</td>\n",
       "      <td>4.957674</td>\n",
       "      <td>-500.360026</td>\n",
       "      <td>25.003331</td>\n",
       "      <td>-500.856333</td>\n",
       "    </tr>\n",
       "  </tbody>\n",
       "</table>\n",
       "<p>5 rows × 52 columns</p>\n",
       "</div>"
      ],
      "text/plain": [
       "                     primary_cleaner.input.sulfate  \\\n",
       "date                                                 \n",
       "2016-09-01 00:59:59                     210.800909   \n",
       "2016-09-01 01:59:59                     215.392455   \n",
       "2016-09-01 02:59:59                     215.259946   \n",
       "2016-09-01 03:59:59                     215.336236   \n",
       "2016-09-01 04:59:59                     199.099327   \n",
       "\n",
       "                     primary_cleaner.input.depressant  \\\n",
       "date                                                    \n",
       "2016-09-01 00:59:59                         14.993118   \n",
       "2016-09-01 01:59:59                         14.987471   \n",
       "2016-09-01 02:59:59                         12.884934   \n",
       "2016-09-01 03:59:59                         12.006805   \n",
       "2016-09-01 04:59:59                         10.682530   \n",
       "\n",
       "                     primary_cleaner.input.feed_size  \\\n",
       "date                                                   \n",
       "2016-09-01 00:59:59                         8.080000   \n",
       "2016-09-01 01:59:59                         8.080000   \n",
       "2016-09-01 02:59:59                         7.786667   \n",
       "2016-09-01 03:59:59                         7.640000   \n",
       "2016-09-01 04:59:59                         7.530000   \n",
       "\n",
       "                     primary_cleaner.input.xanthate  \\\n",
       "date                                                  \n",
       "2016-09-01 00:59:59                        1.005021   \n",
       "2016-09-01 01:59:59                        0.990469   \n",
       "2016-09-01 02:59:59                        0.996043   \n",
       "2016-09-01 03:59:59                        0.863514   \n",
       "2016-09-01 04:59:59                        0.805575   \n",
       "\n",
       "                     primary_cleaner.state.floatbank8_a_air  \\\n",
       "date                                                          \n",
       "2016-09-01 00:59:59                             1398.981301   \n",
       "2016-09-01 01:59:59                             1398.777912   \n",
       "2016-09-01 02:59:59                             1398.493666   \n",
       "2016-09-01 03:59:59                             1399.618111   \n",
       "2016-09-01 04:59:59                             1401.268123   \n",
       "\n",
       "                     primary_cleaner.state.floatbank8_a_level  \\\n",
       "date                                                            \n",
       "2016-09-01 00:59:59                               -500.225577   \n",
       "2016-09-01 01:59:59                               -500.057435   \n",
       "2016-09-01 02:59:59                               -500.868360   \n",
       "2016-09-01 03:59:59                               -498.863574   \n",
       "2016-09-01 04:59:59                               -500.808305   \n",
       "\n",
       "                     primary_cleaner.state.floatbank8_b_air  \\\n",
       "date                                                          \n",
       "2016-09-01 00:59:59                             1399.144926   \n",
       "2016-09-01 01:59:59                             1398.055362   \n",
       "2016-09-01 02:59:59                             1398.860436   \n",
       "2016-09-01 03:59:59                             1397.440120   \n",
       "2016-09-01 04:59:59                             1398.128818   \n",
       "\n",
       "                     primary_cleaner.state.floatbank8_b_level  \\\n",
       "date                                                            \n",
       "2016-09-01 00:59:59                               -499.919735   \n",
       "2016-09-01 01:59:59                               -499.778182   \n",
       "2016-09-01 02:59:59                               -499.764529   \n",
       "2016-09-01 03:59:59                               -499.211024   \n",
       "2016-09-01 04:59:59                               -499.504543   \n",
       "\n",
       "                     primary_cleaner.state.floatbank8_c_air  \\\n",
       "date                                                          \n",
       "2016-09-01 00:59:59                             1400.102998   \n",
       "2016-09-01 01:59:59                             1396.151033   \n",
       "2016-09-01 02:59:59                             1398.075709   \n",
       "2016-09-01 03:59:59                             1400.129303   \n",
       "2016-09-01 04:59:59                             1402.172226   \n",
       "\n",
       "                     primary_cleaner.state.floatbank8_c_level  ...  \\\n",
       "date                                                           ...   \n",
       "2016-09-01 00:59:59                               -500.704369  ...   \n",
       "2016-09-01 01:59:59                               -499.240168  ...   \n",
       "2016-09-01 02:59:59                               -502.151509  ...   \n",
       "2016-09-01 03:59:59                               -498.355873  ...   \n",
       "2016-09-01 04:59:59                               -500.810606  ...   \n",
       "\n",
       "                     secondary_cleaner.state.floatbank4_a_air  \\\n",
       "date                                                            \n",
       "2016-09-01 00:59:59                                 12.023554   \n",
       "2016-09-01 01:59:59                                 12.058140   \n",
       "2016-09-01 02:59:59                                 11.962366   \n",
       "2016-09-01 03:59:59                                 12.033091   \n",
       "2016-09-01 04:59:59                                 12.025367   \n",
       "\n",
       "                     secondary_cleaner.state.floatbank4_a_level  \\\n",
       "date                                                              \n",
       "2016-09-01 00:59:59                                 -497.795834   \n",
       "2016-09-01 01:59:59                                 -498.695773   \n",
       "2016-09-01 02:59:59                                 -498.767484   \n",
       "2016-09-01 03:59:59                                 -498.350935   \n",
       "2016-09-01 04:59:59                                 -500.786497   \n",
       "\n",
       "                     secondary_cleaner.state.floatbank4_b_air  \\\n",
       "date                                                            \n",
       "2016-09-01 00:59:59                                  8.016656   \n",
       "2016-09-01 01:59:59                                  8.130979   \n",
       "2016-09-01 02:59:59                                  8.096893   \n",
       "2016-09-01 03:59:59                                  8.074946   \n",
       "2016-09-01 04:59:59                                  8.054678   \n",
       "\n",
       "                     secondary_cleaner.state.floatbank4_b_level  \\\n",
       "date                                                              \n",
       "2016-09-01 00:59:59                                 -501.289139   \n",
       "2016-09-01 01:59:59                                 -499.634209   \n",
       "2016-09-01 02:59:59                                 -500.827423   \n",
       "2016-09-01 03:59:59                                 -499.474407   \n",
       "2016-09-01 04:59:59                                 -500.397500   \n",
       "\n",
       "                     secondary_cleaner.state.floatbank5_a_air  \\\n",
       "date                                                            \n",
       "2016-09-01 00:59:59                                  7.946562   \n",
       "2016-09-01 01:59:59                                  7.958270   \n",
       "2016-09-01 02:59:59                                  8.071056   \n",
       "2016-09-01 03:59:59                                  7.897085   \n",
       "2016-09-01 04:59:59                                  8.107890   \n",
       "\n",
       "                     secondary_cleaner.state.floatbank5_a_level  \\\n",
       "date                                                              \n",
       "2016-09-01 00:59:59                                 -432.317850   \n",
       "2016-09-01 01:59:59                                 -525.839648   \n",
       "2016-09-01 02:59:59                                 -500.801673   \n",
       "2016-09-01 03:59:59                                 -500.868509   \n",
       "2016-09-01 04:59:59                                 -509.526725   \n",
       "\n",
       "                     secondary_cleaner.state.floatbank5_b_air  \\\n",
       "date                                                            \n",
       "2016-09-01 00:59:59                                  4.872511   \n",
       "2016-09-01 01:59:59                                  4.878850   \n",
       "2016-09-01 02:59:59                                  4.905125   \n",
       "2016-09-01 03:59:59                                  4.931400   \n",
       "2016-09-01 04:59:59                                  4.957674   \n",
       "\n",
       "                     secondary_cleaner.state.floatbank5_b_level  \\\n",
       "date                                                              \n",
       "2016-09-01 00:59:59                                 -500.037437   \n",
       "2016-09-01 01:59:59                                 -500.162375   \n",
       "2016-09-01 02:59:59                                 -499.828510   \n",
       "2016-09-01 03:59:59                                 -499.963623   \n",
       "2016-09-01 04:59:59                                 -500.360026   \n",
       "\n",
       "                     secondary_cleaner.state.floatbank6_a_air  \\\n",
       "date                                                            \n",
       "2016-09-01 00:59:59                                 26.705889   \n",
       "2016-09-01 01:59:59                                 25.019940   \n",
       "2016-09-01 02:59:59                                 24.994862   \n",
       "2016-09-01 03:59:59                                 24.948919   \n",
       "2016-09-01 04:59:59                                 25.003331   \n",
       "\n",
       "                     secondary_cleaner.state.floatbank6_a_level  \n",
       "date                                                             \n",
       "2016-09-01 00:59:59                                 -499.709414  \n",
       "2016-09-01 01:59:59                                 -499.819438  \n",
       "2016-09-01 02:59:59                                 -500.622559  \n",
       "2016-09-01 03:59:59                                 -498.709987  \n",
       "2016-09-01 04:59:59                                 -500.856333  \n",
       "\n",
       "[5 rows x 52 columns]"
      ]
     },
     "metadata": {},
     "output_type": "display_data"
    },
    {
     "name": "stdout",
     "output_type": "stream",
     "text": [
      "<class 'pandas.core.frame.DataFrame'>\n",
      "Index: 5290 entries, 2016-09-01 00:59:59 to 2017-12-31 23:59:59\n",
      "Data columns (total 52 columns):\n",
      " #   Column                                      Non-Null Count  Dtype  \n",
      "---  ------                                      --------------  -----  \n",
      " 0   primary_cleaner.input.sulfate               5286 non-null   float64\n",
      " 1   primary_cleaner.input.depressant            5285 non-null   float64\n",
      " 2   primary_cleaner.input.feed_size             5290 non-null   float64\n",
      " 3   primary_cleaner.input.xanthate              5286 non-null   float64\n",
      " 4   primary_cleaner.state.floatbank8_a_air      5290 non-null   float64\n",
      " 5   primary_cleaner.state.floatbank8_a_level    5290 non-null   float64\n",
      " 6   primary_cleaner.state.floatbank8_b_air      5290 non-null   float64\n",
      " 7   primary_cleaner.state.floatbank8_b_level    5290 non-null   float64\n",
      " 8   primary_cleaner.state.floatbank8_c_air      5290 non-null   float64\n",
      " 9   primary_cleaner.state.floatbank8_c_level    5290 non-null   float64\n",
      " 10  primary_cleaner.state.floatbank8_d_air      5290 non-null   float64\n",
      " 11  primary_cleaner.state.floatbank8_d_level    5290 non-null   float64\n",
      " 12  rougher.input.feed_ag                       5290 non-null   float64\n",
      " 13  rougher.input.feed_pb                       5290 non-null   float64\n",
      " 14  rougher.input.feed_rate                     5287 non-null   float64\n",
      " 15  rougher.input.feed_size                     5289 non-null   float64\n",
      " 16  rougher.input.feed_sol                      5269 non-null   float64\n",
      " 17  rougher.input.feed_au                       5290 non-null   float64\n",
      " 18  rougher.input.floatbank10_sulfate           5285 non-null   float64\n",
      " 19  rougher.input.floatbank10_xanthate          5290 non-null   float64\n",
      " 20  rougher.input.floatbank11_sulfate           5282 non-null   float64\n",
      " 21  rougher.input.floatbank11_xanthate          5265 non-null   float64\n",
      " 22  rougher.state.floatbank10_a_air             5290 non-null   float64\n",
      " 23  rougher.state.floatbank10_a_level           5290 non-null   float64\n",
      " 24  rougher.state.floatbank10_b_air             5290 non-null   float64\n",
      " 25  rougher.state.floatbank10_b_level           5290 non-null   float64\n",
      " 26  rougher.state.floatbank10_c_air             5290 non-null   float64\n",
      " 27  rougher.state.floatbank10_c_level           5290 non-null   float64\n",
      " 28  rougher.state.floatbank10_d_air             5290 non-null   float64\n",
      " 29  rougher.state.floatbank10_d_level           5290 non-null   float64\n",
      " 30  rougher.state.floatbank10_e_air             5290 non-null   float64\n",
      " 31  rougher.state.floatbank10_e_level           5290 non-null   float64\n",
      " 32  rougher.state.floatbank10_f_air             5290 non-null   float64\n",
      " 33  rougher.state.floatbank10_f_level           5290 non-null   float64\n",
      " 34  secondary_cleaner.state.floatbank2_a_air    5287 non-null   float64\n",
      " 35  secondary_cleaner.state.floatbank2_a_level  5290 non-null   float64\n",
      " 36  secondary_cleaner.state.floatbank2_b_air    5288 non-null   float64\n",
      " 37  secondary_cleaner.state.floatbank2_b_level  5290 non-null   float64\n",
      " 38  secondary_cleaner.state.floatbank3_a_air    5281 non-null   float64\n",
      " 39  secondary_cleaner.state.floatbank3_a_level  5290 non-null   float64\n",
      " 40  secondary_cleaner.state.floatbank3_b_air    5290 non-null   float64\n",
      " 41  secondary_cleaner.state.floatbank3_b_level  5290 non-null   float64\n",
      " 42  secondary_cleaner.state.floatbank4_a_air    5290 non-null   float64\n",
      " 43  secondary_cleaner.state.floatbank4_a_level  5290 non-null   float64\n",
      " 44  secondary_cleaner.state.floatbank4_b_air    5290 non-null   float64\n",
      " 45  secondary_cleaner.state.floatbank4_b_level  5290 non-null   float64\n",
      " 46  secondary_cleaner.state.floatbank5_a_air    5290 non-null   float64\n",
      " 47  secondary_cleaner.state.floatbank5_a_level  5290 non-null   float64\n",
      " 48  secondary_cleaner.state.floatbank5_b_air    5290 non-null   float64\n",
      " 49  secondary_cleaner.state.floatbank5_b_level  5290 non-null   float64\n",
      " 50  secondary_cleaner.state.floatbank6_a_air    5290 non-null   float64\n",
      " 51  secondary_cleaner.state.floatbank6_a_level  5290 non-null   float64\n",
      "dtypes: float64(52)\n",
      "memory usage: 2.1+ MB\n"
     ]
    },
    {
     "data": {
      "text/plain": [
       "None"
      ]
     },
     "metadata": {},
     "output_type": "display_data"
    }
   ],
   "source": [
    "display(df_test.head())\n",
    "display(df_test.info())"
   ]
  },
  {
   "cell_type": "code",
   "execution_count": 13,
   "metadata": {
    "scrolled": false
   },
   "outputs": [
    {
     "data": {
      "text/html": [
       "<div>\n",
       "<style scoped>\n",
       "    .dataframe tbody tr th:only-of-type {\n",
       "        vertical-align: middle;\n",
       "    }\n",
       "\n",
       "    .dataframe tbody tr th {\n",
       "        vertical-align: top;\n",
       "    }\n",
       "\n",
       "    .dataframe thead th {\n",
       "        text-align: right;\n",
       "    }\n",
       "</style>\n",
       "<table border=\"1\" class=\"dataframe\">\n",
       "  <thead>\n",
       "    <tr style=\"text-align: right;\">\n",
       "      <th></th>\n",
       "      <th>final.output.concentrate_ag</th>\n",
       "      <th>final.output.concentrate_pb</th>\n",
       "      <th>final.output.concentrate_sol</th>\n",
       "      <th>final.output.concentrate_au</th>\n",
       "      <th>final.output.recovery</th>\n",
       "      <th>final.output.tail_ag</th>\n",
       "      <th>final.output.tail_pb</th>\n",
       "      <th>final.output.tail_sol</th>\n",
       "      <th>final.output.tail_au</th>\n",
       "      <th>primary_cleaner.input.sulfate</th>\n",
       "      <th>...</th>\n",
       "      <th>secondary_cleaner.state.floatbank4_a_air</th>\n",
       "      <th>secondary_cleaner.state.floatbank4_a_level</th>\n",
       "      <th>secondary_cleaner.state.floatbank4_b_air</th>\n",
       "      <th>secondary_cleaner.state.floatbank4_b_level</th>\n",
       "      <th>secondary_cleaner.state.floatbank5_a_air</th>\n",
       "      <th>secondary_cleaner.state.floatbank5_a_level</th>\n",
       "      <th>secondary_cleaner.state.floatbank5_b_air</th>\n",
       "      <th>secondary_cleaner.state.floatbank5_b_level</th>\n",
       "      <th>secondary_cleaner.state.floatbank6_a_air</th>\n",
       "      <th>secondary_cleaner.state.floatbank6_a_level</th>\n",
       "    </tr>\n",
       "    <tr>\n",
       "      <th>date</th>\n",
       "      <th></th>\n",
       "      <th></th>\n",
       "      <th></th>\n",
       "      <th></th>\n",
       "      <th></th>\n",
       "      <th></th>\n",
       "      <th></th>\n",
       "      <th></th>\n",
       "      <th></th>\n",
       "      <th></th>\n",
       "      <th></th>\n",
       "      <th></th>\n",
       "      <th></th>\n",
       "      <th></th>\n",
       "      <th></th>\n",
       "      <th></th>\n",
       "      <th></th>\n",
       "      <th></th>\n",
       "      <th></th>\n",
       "      <th></th>\n",
       "      <th></th>\n",
       "    </tr>\n",
       "  </thead>\n",
       "  <tbody>\n",
       "    <tr>\n",
       "      <th>2016-01-15 00:00:00</th>\n",
       "      <td>6.055403</td>\n",
       "      <td>9.889648</td>\n",
       "      <td>5.507324</td>\n",
       "      <td>42.192020</td>\n",
       "      <td>70.541216</td>\n",
       "      <td>10.411962</td>\n",
       "      <td>0.895447</td>\n",
       "      <td>16.904297</td>\n",
       "      <td>2.143149</td>\n",
       "      <td>127.092003</td>\n",
       "      <td>...</td>\n",
       "      <td>14.016835</td>\n",
       "      <td>-502.488007</td>\n",
       "      <td>12.099931</td>\n",
       "      <td>-504.715942</td>\n",
       "      <td>9.925633</td>\n",
       "      <td>-498.310211</td>\n",
       "      <td>8.079666</td>\n",
       "      <td>-500.470978</td>\n",
       "      <td>14.151341</td>\n",
       "      <td>-605.841980</td>\n",
       "    </tr>\n",
       "    <tr>\n",
       "      <th>2016-01-15 01:00:00</th>\n",
       "      <td>6.029369</td>\n",
       "      <td>9.968944</td>\n",
       "      <td>5.257781</td>\n",
       "      <td>42.701629</td>\n",
       "      <td>69.266198</td>\n",
       "      <td>10.462676</td>\n",
       "      <td>0.927452</td>\n",
       "      <td>16.634514</td>\n",
       "      <td>2.224930</td>\n",
       "      <td>125.629232</td>\n",
       "      <td>...</td>\n",
       "      <td>13.992281</td>\n",
       "      <td>-505.503262</td>\n",
       "      <td>11.950531</td>\n",
       "      <td>-501.331529</td>\n",
       "      <td>10.039245</td>\n",
       "      <td>-500.169983</td>\n",
       "      <td>7.984757</td>\n",
       "      <td>-500.582168</td>\n",
       "      <td>13.998353</td>\n",
       "      <td>-599.787184</td>\n",
       "    </tr>\n",
       "    <tr>\n",
       "      <th>2016-01-15 02:00:00</th>\n",
       "      <td>6.055926</td>\n",
       "      <td>10.213995</td>\n",
       "      <td>5.383759</td>\n",
       "      <td>42.657501</td>\n",
       "      <td>68.116445</td>\n",
       "      <td>10.507046</td>\n",
       "      <td>0.953716</td>\n",
       "      <td>16.208849</td>\n",
       "      <td>2.257889</td>\n",
       "      <td>123.819808</td>\n",
       "      <td>...</td>\n",
       "      <td>14.015015</td>\n",
       "      <td>-502.520901</td>\n",
       "      <td>11.912783</td>\n",
       "      <td>-501.133383</td>\n",
       "      <td>10.070913</td>\n",
       "      <td>-500.129135</td>\n",
       "      <td>8.013877</td>\n",
       "      <td>-500.517572</td>\n",
       "      <td>14.028663</td>\n",
       "      <td>-601.427363</td>\n",
       "    </tr>\n",
       "    <tr>\n",
       "      <th>2016-01-15 03:00:00</th>\n",
       "      <td>6.047977</td>\n",
       "      <td>9.977019</td>\n",
       "      <td>4.858634</td>\n",
       "      <td>42.689819</td>\n",
       "      <td>68.347543</td>\n",
       "      <td>10.422762</td>\n",
       "      <td>0.883763</td>\n",
       "      <td>16.532835</td>\n",
       "      <td>2.146849</td>\n",
       "      <td>122.270188</td>\n",
       "      <td>...</td>\n",
       "      <td>14.036510</td>\n",
       "      <td>-500.857308</td>\n",
       "      <td>11.999550</td>\n",
       "      <td>-501.193686</td>\n",
       "      <td>9.970366</td>\n",
       "      <td>-499.201640</td>\n",
       "      <td>7.977324</td>\n",
       "      <td>-500.255908</td>\n",
       "      <td>14.005551</td>\n",
       "      <td>-599.996129</td>\n",
       "    </tr>\n",
       "    <tr>\n",
       "      <th>2016-01-15 04:00:00</th>\n",
       "      <td>6.148599</td>\n",
       "      <td>10.142511</td>\n",
       "      <td>4.939416</td>\n",
       "      <td>42.774141</td>\n",
       "      <td>66.927016</td>\n",
       "      <td>10.360302</td>\n",
       "      <td>0.792826</td>\n",
       "      <td>16.525686</td>\n",
       "      <td>2.055292</td>\n",
       "      <td>117.988169</td>\n",
       "      <td>...</td>\n",
       "      <td>14.027298</td>\n",
       "      <td>-499.838632</td>\n",
       "      <td>11.953070</td>\n",
       "      <td>-501.053894</td>\n",
       "      <td>9.925709</td>\n",
       "      <td>-501.686727</td>\n",
       "      <td>7.894242</td>\n",
       "      <td>-500.356035</td>\n",
       "      <td>13.996647</td>\n",
       "      <td>-601.496691</td>\n",
       "    </tr>\n",
       "  </tbody>\n",
       "</table>\n",
       "<p>5 rows × 86 columns</p>\n",
       "</div>"
      ],
      "text/plain": [
       "                     final.output.concentrate_ag  final.output.concentrate_pb  \\\n",
       "date                                                                            \n",
       "2016-01-15 00:00:00                     6.055403                     9.889648   \n",
       "2016-01-15 01:00:00                     6.029369                     9.968944   \n",
       "2016-01-15 02:00:00                     6.055926                    10.213995   \n",
       "2016-01-15 03:00:00                     6.047977                     9.977019   \n",
       "2016-01-15 04:00:00                     6.148599                    10.142511   \n",
       "\n",
       "                     final.output.concentrate_sol  \\\n",
       "date                                                \n",
       "2016-01-15 00:00:00                      5.507324   \n",
       "2016-01-15 01:00:00                      5.257781   \n",
       "2016-01-15 02:00:00                      5.383759   \n",
       "2016-01-15 03:00:00                      4.858634   \n",
       "2016-01-15 04:00:00                      4.939416   \n",
       "\n",
       "                     final.output.concentrate_au  final.output.recovery  \\\n",
       "date                                                                      \n",
       "2016-01-15 00:00:00                    42.192020              70.541216   \n",
       "2016-01-15 01:00:00                    42.701629              69.266198   \n",
       "2016-01-15 02:00:00                    42.657501              68.116445   \n",
       "2016-01-15 03:00:00                    42.689819              68.347543   \n",
       "2016-01-15 04:00:00                    42.774141              66.927016   \n",
       "\n",
       "                     final.output.tail_ag  final.output.tail_pb  \\\n",
       "date                                                              \n",
       "2016-01-15 00:00:00             10.411962              0.895447   \n",
       "2016-01-15 01:00:00             10.462676              0.927452   \n",
       "2016-01-15 02:00:00             10.507046              0.953716   \n",
       "2016-01-15 03:00:00             10.422762              0.883763   \n",
       "2016-01-15 04:00:00             10.360302              0.792826   \n",
       "\n",
       "                     final.output.tail_sol  final.output.tail_au  \\\n",
       "date                                                               \n",
       "2016-01-15 00:00:00              16.904297              2.143149   \n",
       "2016-01-15 01:00:00              16.634514              2.224930   \n",
       "2016-01-15 02:00:00              16.208849              2.257889   \n",
       "2016-01-15 03:00:00              16.532835              2.146849   \n",
       "2016-01-15 04:00:00              16.525686              2.055292   \n",
       "\n",
       "                     primary_cleaner.input.sulfate  ...  \\\n",
       "date                                                ...   \n",
       "2016-01-15 00:00:00                     127.092003  ...   \n",
       "2016-01-15 01:00:00                     125.629232  ...   \n",
       "2016-01-15 02:00:00                     123.819808  ...   \n",
       "2016-01-15 03:00:00                     122.270188  ...   \n",
       "2016-01-15 04:00:00                     117.988169  ...   \n",
       "\n",
       "                     secondary_cleaner.state.floatbank4_a_air  \\\n",
       "date                                                            \n",
       "2016-01-15 00:00:00                                 14.016835   \n",
       "2016-01-15 01:00:00                                 13.992281   \n",
       "2016-01-15 02:00:00                                 14.015015   \n",
       "2016-01-15 03:00:00                                 14.036510   \n",
       "2016-01-15 04:00:00                                 14.027298   \n",
       "\n",
       "                     secondary_cleaner.state.floatbank4_a_level  \\\n",
       "date                                                              \n",
       "2016-01-15 00:00:00                                 -502.488007   \n",
       "2016-01-15 01:00:00                                 -505.503262   \n",
       "2016-01-15 02:00:00                                 -502.520901   \n",
       "2016-01-15 03:00:00                                 -500.857308   \n",
       "2016-01-15 04:00:00                                 -499.838632   \n",
       "\n",
       "                     secondary_cleaner.state.floatbank4_b_air  \\\n",
       "date                                                            \n",
       "2016-01-15 00:00:00                                 12.099931   \n",
       "2016-01-15 01:00:00                                 11.950531   \n",
       "2016-01-15 02:00:00                                 11.912783   \n",
       "2016-01-15 03:00:00                                 11.999550   \n",
       "2016-01-15 04:00:00                                 11.953070   \n",
       "\n",
       "                     secondary_cleaner.state.floatbank4_b_level  \\\n",
       "date                                                              \n",
       "2016-01-15 00:00:00                                 -504.715942   \n",
       "2016-01-15 01:00:00                                 -501.331529   \n",
       "2016-01-15 02:00:00                                 -501.133383   \n",
       "2016-01-15 03:00:00                                 -501.193686   \n",
       "2016-01-15 04:00:00                                 -501.053894   \n",
       "\n",
       "                     secondary_cleaner.state.floatbank5_a_air  \\\n",
       "date                                                            \n",
       "2016-01-15 00:00:00                                  9.925633   \n",
       "2016-01-15 01:00:00                                 10.039245   \n",
       "2016-01-15 02:00:00                                 10.070913   \n",
       "2016-01-15 03:00:00                                  9.970366   \n",
       "2016-01-15 04:00:00                                  9.925709   \n",
       "\n",
       "                     secondary_cleaner.state.floatbank5_a_level  \\\n",
       "date                                                              \n",
       "2016-01-15 00:00:00                                 -498.310211   \n",
       "2016-01-15 01:00:00                                 -500.169983   \n",
       "2016-01-15 02:00:00                                 -500.129135   \n",
       "2016-01-15 03:00:00                                 -499.201640   \n",
       "2016-01-15 04:00:00                                 -501.686727   \n",
       "\n",
       "                     secondary_cleaner.state.floatbank5_b_air  \\\n",
       "date                                                            \n",
       "2016-01-15 00:00:00                                  8.079666   \n",
       "2016-01-15 01:00:00                                  7.984757   \n",
       "2016-01-15 02:00:00                                  8.013877   \n",
       "2016-01-15 03:00:00                                  7.977324   \n",
       "2016-01-15 04:00:00                                  7.894242   \n",
       "\n",
       "                     secondary_cleaner.state.floatbank5_b_level  \\\n",
       "date                                                              \n",
       "2016-01-15 00:00:00                                 -500.470978   \n",
       "2016-01-15 01:00:00                                 -500.582168   \n",
       "2016-01-15 02:00:00                                 -500.517572   \n",
       "2016-01-15 03:00:00                                 -500.255908   \n",
       "2016-01-15 04:00:00                                 -500.356035   \n",
       "\n",
       "                     secondary_cleaner.state.floatbank6_a_air  \\\n",
       "date                                                            \n",
       "2016-01-15 00:00:00                                 14.151341   \n",
       "2016-01-15 01:00:00                                 13.998353   \n",
       "2016-01-15 02:00:00                                 14.028663   \n",
       "2016-01-15 03:00:00                                 14.005551   \n",
       "2016-01-15 04:00:00                                 13.996647   \n",
       "\n",
       "                     secondary_cleaner.state.floatbank6_a_level  \n",
       "date                                                             \n",
       "2016-01-15 00:00:00                                 -605.841980  \n",
       "2016-01-15 01:00:00                                 -599.787184  \n",
       "2016-01-15 02:00:00                                 -601.427363  \n",
       "2016-01-15 03:00:00                                 -599.996129  \n",
       "2016-01-15 04:00:00                                 -601.496691  \n",
       "\n",
       "[5 rows x 86 columns]"
      ]
     },
     "metadata": {},
     "output_type": "display_data"
    },
    {
     "name": "stdout",
     "output_type": "stream",
     "text": [
      "<class 'pandas.core.frame.DataFrame'>\n",
      "Index: 19439 entries, 2016-01-15 00:00:00 to 2018-08-18 10:59:59\n",
      "Data columns (total 86 columns):\n",
      " #   Column                                              Non-Null Count  Dtype  \n",
      "---  ------                                              --------------  -----  \n",
      " 0   final.output.concentrate_ag                         19438 non-null  float64\n",
      " 1   final.output.concentrate_pb                         19438 non-null  float64\n",
      " 2   final.output.concentrate_sol                        19228 non-null  float64\n",
      " 3   final.output.concentrate_au                         19439 non-null  float64\n",
      " 4   final.output.recovery                               19439 non-null  float64\n",
      " 5   final.output.tail_ag                                19438 non-null  float64\n",
      " 6   final.output.tail_pb                                19338 non-null  float64\n",
      " 7   final.output.tail_sol                               19433 non-null  float64\n",
      " 8   final.output.tail_au                                19439 non-null  float64\n",
      " 9   primary_cleaner.input.sulfate                       19415 non-null  float64\n",
      " 10  primary_cleaner.input.depressant                    19402 non-null  float64\n",
      " 11  primary_cleaner.input.feed_size                     19439 non-null  float64\n",
      " 12  primary_cleaner.input.xanthate                      19335 non-null  float64\n",
      " 13  primary_cleaner.output.concentrate_ag               19439 non-null  float64\n",
      " 14  primary_cleaner.output.concentrate_pb               19323 non-null  float64\n",
      " 15  primary_cleaner.output.concentrate_sol              19069 non-null  float64\n",
      " 16  primary_cleaner.output.concentrate_au               19439 non-null  float64\n",
      " 17  primary_cleaner.output.tail_ag                      19435 non-null  float64\n",
      " 18  primary_cleaner.output.tail_pb                      19418 non-null  float64\n",
      " 19  primary_cleaner.output.tail_sol                     19377 non-null  float64\n",
      " 20  primary_cleaner.output.tail_au                      19439 non-null  float64\n",
      " 21  primary_cleaner.state.floatbank8_a_air              19435 non-null  float64\n",
      " 22  primary_cleaner.state.floatbank8_a_level            19438 non-null  float64\n",
      " 23  primary_cleaner.state.floatbank8_b_air              19435 non-null  float64\n",
      " 24  primary_cleaner.state.floatbank8_b_level            19438 non-null  float64\n",
      " 25  primary_cleaner.state.floatbank8_c_air              19437 non-null  float64\n",
      " 26  primary_cleaner.state.floatbank8_c_level            19438 non-null  float64\n",
      " 27  primary_cleaner.state.floatbank8_d_air              19436 non-null  float64\n",
      " 28  primary_cleaner.state.floatbank8_d_level            19438 non-null  float64\n",
      " 29  rougher.calculation.sulfate_to_au_concentrate       19437 non-null  float64\n",
      " 30  rougher.calculation.floatbank10_sulfate_to_au_feed  19437 non-null  float64\n",
      " 31  rougher.calculation.floatbank11_sulfate_to_au_feed  19437 non-null  float64\n",
      " 32  rougher.calculation.au_pb_ratio                     19439 non-null  float64\n",
      " 33  rougher.input.feed_ag                               19439 non-null  float64\n",
      " 34  rougher.input.feed_pb                               19339 non-null  float64\n",
      " 35  rougher.input.feed_rate                             19428 non-null  float64\n",
      " 36  rougher.input.feed_size                             19294 non-null  float64\n",
      " 37  rougher.input.feed_sol                              19340 non-null  float64\n",
      " 38  rougher.input.feed_au                               19439 non-null  float64\n",
      " 39  rougher.input.floatbank10_sulfate                   19405 non-null  float64\n",
      " 40  rougher.input.floatbank10_xanthate                  19431 non-null  float64\n",
      " 41  rougher.input.floatbank11_sulfate                   19395 non-null  float64\n",
      " 42  rougher.input.floatbank11_xanthate                  18986 non-null  float64\n",
      " 43  rougher.output.concentrate_ag                       19439 non-null  float64\n",
      " 44  rougher.output.concentrate_pb                       19439 non-null  float64\n",
      " 45  rougher.output.concentrate_sol                      19416 non-null  float64\n",
      " 46  rougher.output.concentrate_au                       19439 non-null  float64\n",
      " 47  rougher.output.recovery                             19439 non-null  float64\n",
      " 48  rougher.output.tail_ag                              19438 non-null  float64\n",
      " 49  rougher.output.tail_pb                              19439 non-null  float64\n",
      " 50  rougher.output.tail_sol                             19439 non-null  float64\n",
      " 51  rougher.output.tail_au                              19439 non-null  float64\n",
      " 52  rougher.state.floatbank10_a_air                     19438 non-null  float64\n",
      " 53  rougher.state.floatbank10_a_level                   19438 non-null  float64\n",
      " 54  rougher.state.floatbank10_b_air                     19438 non-null  float64\n",
      " 55  rougher.state.floatbank10_b_level                   19438 non-null  float64\n",
      " 56  rougher.state.floatbank10_c_air                     19438 non-null  float64\n",
      " 57  rougher.state.floatbank10_c_level                   19438 non-null  float64\n",
      " 58  rougher.state.floatbank10_d_air                     19439 non-null  float64\n",
      " 59  rougher.state.floatbank10_d_level                   19439 non-null  float64\n",
      " 60  rougher.state.floatbank10_e_air                     19003 non-null  float64\n",
      " 61  rougher.state.floatbank10_e_level                   19439 non-null  float64\n",
      " 62  rougher.state.floatbank10_f_air                     19439 non-null  float64\n",
      " 63  rougher.state.floatbank10_f_level                   19439 non-null  float64\n",
      " 64  secondary_cleaner.output.tail_ag                    19437 non-null  float64\n",
      " 65  secondary_cleaner.output.tail_pb                    19427 non-null  float64\n",
      " 66  secondary_cleaner.output.tail_sol                   17691 non-null  float64\n",
      " 67  secondary_cleaner.output.tail_au                    19439 non-null  float64\n",
      " 68  secondary_cleaner.state.floatbank2_a_air            19219 non-null  float64\n",
      " 69  secondary_cleaner.state.floatbank2_a_level          19438 non-null  float64\n",
      " 70  secondary_cleaner.state.floatbank2_b_air            19416 non-null  float64\n",
      " 71  secondary_cleaner.state.floatbank2_b_level          19438 non-null  float64\n",
      " 72  secondary_cleaner.state.floatbank3_a_air            19426 non-null  float64\n",
      " 73  secondary_cleaner.state.floatbank3_a_level          19438 non-null  float64\n",
      " 74  secondary_cleaner.state.floatbank3_b_air            19438 non-null  float64\n",
      " 75  secondary_cleaner.state.floatbank3_b_level          19438 non-null  float64\n",
      " 76  secondary_cleaner.state.floatbank4_a_air            19433 non-null  float64\n",
      " 77  secondary_cleaner.state.floatbank4_a_level          19438 non-null  float64\n",
      " 78  secondary_cleaner.state.floatbank4_b_air            19438 non-null  float64\n",
      " 79  secondary_cleaner.state.floatbank4_b_level          19438 non-null  float64\n",
      " 80  secondary_cleaner.state.floatbank5_a_air            19438 non-null  float64\n",
      " 81  secondary_cleaner.state.floatbank5_a_level          19438 non-null  float64\n",
      " 82  secondary_cleaner.state.floatbank5_b_air            19438 non-null  float64\n",
      " 83  secondary_cleaner.state.floatbank5_b_level          19438 non-null  float64\n",
      " 84  secondary_cleaner.state.floatbank6_a_air            19437 non-null  float64\n",
      " 85  secondary_cleaner.state.floatbank6_a_level          19438 non-null  float64\n",
      "dtypes: float64(86)\n",
      "memory usage: 12.9+ MB\n"
     ]
    },
    {
     "data": {
      "text/plain": [
       "None"
      ]
     },
     "metadata": {},
     "output_type": "display_data"
    }
   ],
   "source": [
    "display(df_full.head())\n",
    "display(df_full.info())"
   ]
  },
  {
   "cell_type": "markdown",
   "metadata": {},
   "source": [
    "### Распределение значений в параметрах"
   ]
  },
  {
   "cell_type": "code",
   "execution_count": 14,
   "metadata": {
    "scrolled": true
   },
   "outputs": [],
   "source": [
    "def pl_show(col):\n",
    "    sns.set()\n",
    "    f, ax = plt.subplots(1, 2, figsize=(16, 4))\n",
    "    f.suptitle(f'Распределение значений в столбце \"{col}\"',\n",
    "             y = 1.2,\n",
    "             fontsize = 20)\n",
    "    sns.histplot(df_full[col], ax=ax[0])\n",
    "    sns.boxplot(data=df_full[col], ax=ax[1])\n",
    "    plt.show()"
   ]
  },
  {
   "cell_type": "markdown",
   "metadata": {},
   "source": [
    "<div class=\"alert alert-block alert-info\">\n",
    "\n",
    "<b>Примечание: </b> Ячейку ниже можно разкоментировать, но она достаточно долго обрабатывается, может даже подвисать. В ней строятся графики распределния значений во всех параметрах. \n",
    "</div>"
   ]
  },
  {
   "cell_type": "code",
   "execution_count": 15,
   "metadata": {},
   "outputs": [],
   "source": [
    "# for col in df_full.columns:\n",
    "#     try:\n",
    "#         pl_show(col)\n",
    "#     except: continue"
   ]
  },
  {
   "cell_type": "markdown",
   "metadata": {},
   "source": [
    "### Расчётов эффективности обогащения"
   ]
  },
  {
   "cell_type": "markdown",
   "metadata": {},
   "source": [
    "- C — доля золота в концентрате после флотации/очистки (rougher.output.concentrate_au)\n",
    "- F — доля золота в сырье/концентрате до флотации/очистки (rougher.input.feed_au)\n",
    "- T — доля золота в отвальных хвостах после флотации/очистки (rougher.output.tail_au)"
   ]
  },
  {
   "cell_type": "code",
   "execution_count": 16,
   "metadata": {},
   "outputs": [
    {
     "name": "stdout",
     "output_type": "stream",
     "text": [
      "MAE=1.1131451184435918e-14\n"
     ]
    }
   ],
   "source": [
    "C = df_train['rougher.output.concentrate_au']\n",
    "F = df_train['rougher.input.feed_au']\n",
    "T = df_train['rougher.output.tail_au']\n",
    "\n",
    "rougher_output_recovery_calc = 100 * (C * (F - T)) / (F * (C - T))\n",
    "df_output_rougher = pd.DataFrame(\n",
    "    {\"output_recovery\":df_train[\"rougher.output.recovery\"],\n",
    "     \"calc\":rougher_output_recovery_calc}\n",
    "                                ).dropna()\n",
    "MAE = mean_absolute_error(\n",
    "    df_output_rougher[\"output_recovery\"],\n",
    "    df_output_rougher[\"calc\"]\n",
    ")\n",
    "print(f\"MAE={MAE}\")"
   ]
  },
  {
   "cell_type": "markdown",
   "metadata": {},
   "source": [
    "Показатель метрики MAE очень низкий, что означает, что эффективность обогащения рассчитана правильно."
   ]
  },
  {
   "cell_type": "markdown",
   "metadata": {},
   "source": [
    "### Предобработка данных"
   ]
  },
  {
   "cell_type": "markdown",
   "metadata": {},
   "source": [
    "- Обработаем пропуски\n",
    "- Удалим те признаки, которых нету в тестовой выборке\n",
    "- Построим матрицу корреляций."
   ]
  },
  {
   "cell_type": "markdown",
   "metadata": {},
   "source": [
    "Добавим в тестовую выборку целевые признаки и удалим строки с пропусками в них.\n",
    "Для отсальных пропусков применим метод \"ffill\" (он запонит пропуск предыдущим значением в признаке)."
   ]
  },
  {
   "cell_type": "code",
   "execution_count": 17,
   "metadata": {},
   "outputs": [],
   "source": [
    "df_test = df_test.merge(\n",
    "    df_full[['final.output.recovery', 'rougher.output.recovery']],\n",
    "    how='left',\n",
    "    left_index=True,\n",
    "    right_index=True\n",
    ")"
   ]
  },
  {
   "cell_type": "code",
   "execution_count": 18,
   "metadata": {},
   "outputs": [],
   "source": [
    "df_train = df_train[~df_train['final.output.recovery'].isna()]\n",
    "df_train = df_train[~df_train['rougher.output.recovery'].isna()]\n",
    "df_train = df_train.ffill()"
   ]
  },
  {
   "cell_type": "code",
   "execution_count": 19,
   "metadata": {
    "scrolled": true
   },
   "outputs": [],
   "source": [
    "df_test = df_test[~df_test['final.output.recovery'].isna()]\n",
    "df_test = df_test[~df_test['rougher.output.recovery'].isna()]\n",
    "df_test = df_test.ffill()"
   ]
  },
  {
   "cell_type": "code",
   "execution_count": 20,
   "metadata": {},
   "outputs": [
    {
     "data": {
      "text/plain": [
       "['final.output.concentrate_ag',\n",
       " 'final.output.concentrate_pb',\n",
       " 'final.output.concentrate_sol',\n",
       " 'final.output.concentrate_au',\n",
       " 'final.output.tail_ag',\n",
       " 'final.output.tail_pb',\n",
       " 'final.output.tail_sol',\n",
       " 'final.output.tail_au',\n",
       " 'primary_cleaner.output.concentrate_ag',\n",
       " 'primary_cleaner.output.concentrate_pb',\n",
       " 'primary_cleaner.output.concentrate_sol',\n",
       " 'primary_cleaner.output.concentrate_au',\n",
       " 'primary_cleaner.output.tail_ag',\n",
       " 'primary_cleaner.output.tail_pb',\n",
       " 'primary_cleaner.output.tail_sol',\n",
       " 'primary_cleaner.output.tail_au',\n",
       " 'rougher.calculation.sulfate_to_au_concentrate',\n",
       " 'rougher.calculation.floatbank10_sulfate_to_au_feed',\n",
       " 'rougher.calculation.floatbank11_sulfate_to_au_feed',\n",
       " 'rougher.calculation.au_pb_ratio',\n",
       " 'rougher.output.concentrate_ag',\n",
       " 'rougher.output.concentrate_pb',\n",
       " 'rougher.output.concentrate_sol',\n",
       " 'rougher.output.concentrate_au',\n",
       " 'rougher.output.tail_ag',\n",
       " 'rougher.output.tail_pb',\n",
       " 'rougher.output.tail_sol',\n",
       " 'rougher.output.tail_au',\n",
       " 'secondary_cleaner.output.tail_ag',\n",
       " 'secondary_cleaner.output.tail_pb',\n",
       " 'secondary_cleaner.output.tail_sol',\n",
       " 'secondary_cleaner.output.tail_au']"
      ]
     },
     "execution_count": 20,
     "metadata": {},
     "output_type": "execute_result"
    }
   ],
   "source": [
    "[col for col in df_train.columns if (col not in df_test.columns)]"
   ]
  },
  {
   "cell_type": "markdown",
   "metadata": {},
   "source": [
    "- В тестовой выборке отсутствуют параметры продукта output.\n",
    "- Данные признаки не будут участвовать в построении модели их можно удалить."
   ]
  },
  {
   "cell_type": "code",
   "execution_count": 21,
   "metadata": {},
   "outputs": [],
   "source": [
    "df_train = df_train[df_test.columns]"
   ]
  },
  {
   "cell_type": "code",
   "execution_count": 22,
   "metadata": {
    "scrolled": true
   },
   "outputs": [
    {
     "name": "stdout",
     "output_type": "stream",
     "text": [
      "(14149, 54)\n",
      "(5290, 54)\n"
     ]
    }
   ],
   "source": [
    "print(df_train.shape)\n",
    "print(df_test.shape)"
   ]
  },
  {
   "cell_type": "code",
   "execution_count": 23,
   "metadata": {},
   "outputs": [
    {
     "data": {
      "text/html": [
       "<div>\n",
       "<style scoped>\n",
       "    .dataframe tbody tr th:only-of-type {\n",
       "        vertical-align: middle;\n",
       "    }\n",
       "\n",
       "    .dataframe tbody tr th {\n",
       "        vertical-align: top;\n",
       "    }\n",
       "\n",
       "    .dataframe thead th {\n",
       "        text-align: right;\n",
       "    }\n",
       "</style>\n",
       "<table border=\"1\" class=\"dataframe\">\n",
       "  <thead>\n",
       "    <tr style=\"text-align: right;\">\n",
       "      <th></th>\n",
       "      <th>final.output.recovery</th>\n",
       "      <th>rougher.output.recovery</th>\n",
       "    </tr>\n",
       "  </thead>\n",
       "  <tbody>\n",
       "    <tr>\n",
       "      <th>primary_cleaner.input.sulfate</th>\n",
       "      <td>0.384798</td>\n",
       "      <td>0.272823</td>\n",
       "    </tr>\n",
       "    <tr>\n",
       "      <th>primary_cleaner.input.depressant</th>\n",
       "      <td>0.155639</td>\n",
       "      <td>0.041395</td>\n",
       "    </tr>\n",
       "    <tr>\n",
       "      <th>primary_cleaner.input.feed_size</th>\n",
       "      <td>0.067157</td>\n",
       "      <td>-0.012795</td>\n",
       "    </tr>\n",
       "    <tr>\n",
       "      <th>primary_cleaner.input.xanthate</th>\n",
       "      <td>0.214886</td>\n",
       "      <td>0.106701</td>\n",
       "    </tr>\n",
       "    <tr>\n",
       "      <th>primary_cleaner.state.floatbank8_a_air</th>\n",
       "      <td>0.133526</td>\n",
       "      <td>0.087111</td>\n",
       "    </tr>\n",
       "    <tr>\n",
       "      <th>primary_cleaner.state.floatbank8_a_level</th>\n",
       "      <td>0.028631</td>\n",
       "      <td>0.043377</td>\n",
       "    </tr>\n",
       "    <tr>\n",
       "      <th>primary_cleaner.state.floatbank8_b_air</th>\n",
       "      <td>0.148987</td>\n",
       "      <td>0.100831</td>\n",
       "    </tr>\n",
       "    <tr>\n",
       "      <th>primary_cleaner.state.floatbank8_b_level</th>\n",
       "      <td>0.042755</td>\n",
       "      <td>0.039777</td>\n",
       "    </tr>\n",
       "    <tr>\n",
       "      <th>primary_cleaner.state.floatbank8_c_air</th>\n",
       "      <td>0.143670</td>\n",
       "      <td>0.114148</td>\n",
       "    </tr>\n",
       "    <tr>\n",
       "      <th>primary_cleaner.state.floatbank8_c_level</th>\n",
       "      <td>0.028894</td>\n",
       "      <td>0.043249</td>\n",
       "    </tr>\n",
       "    <tr>\n",
       "      <th>primary_cleaner.state.floatbank8_d_air</th>\n",
       "      <td>0.058578</td>\n",
       "      <td>0.005463</td>\n",
       "    </tr>\n",
       "    <tr>\n",
       "      <th>primary_cleaner.state.floatbank8_d_level</th>\n",
       "      <td>-0.017229</td>\n",
       "      <td>0.005309</td>\n",
       "    </tr>\n",
       "    <tr>\n",
       "      <th>rougher.input.feed_ag</th>\n",
       "      <td>0.310574</td>\n",
       "      <td>0.176421</td>\n",
       "    </tr>\n",
       "    <tr>\n",
       "      <th>rougher.input.feed_pb</th>\n",
       "      <td>0.205706</td>\n",
       "      <td>0.173314</td>\n",
       "    </tr>\n",
       "    <tr>\n",
       "      <th>rougher.input.feed_rate</th>\n",
       "      <td>0.169602</td>\n",
       "      <td>0.086685</td>\n",
       "    </tr>\n",
       "    <tr>\n",
       "      <th>rougher.input.feed_size</th>\n",
       "      <td>0.048866</td>\n",
       "      <td>0.051702</td>\n",
       "    </tr>\n",
       "    <tr>\n",
       "      <th>rougher.input.feed_sol</th>\n",
       "      <td>0.261590</td>\n",
       "      <td>0.184105</td>\n",
       "    </tr>\n",
       "    <tr>\n",
       "      <th>rougher.input.feed_au</th>\n",
       "      <td>0.308561</td>\n",
       "      <td>0.156173</td>\n",
       "    </tr>\n",
       "    <tr>\n",
       "      <th>rougher.input.floatbank10_sulfate</th>\n",
       "      <td>-0.013655</td>\n",
       "      <td>-0.099457</td>\n",
       "    </tr>\n",
       "    <tr>\n",
       "      <th>rougher.input.floatbank10_xanthate</th>\n",
       "      <td>0.328838</td>\n",
       "      <td>0.238468</td>\n",
       "    </tr>\n",
       "    <tr>\n",
       "      <th>rougher.input.floatbank11_sulfate</th>\n",
       "      <td>0.019862</td>\n",
       "      <td>-0.071547</td>\n",
       "    </tr>\n",
       "    <tr>\n",
       "      <th>rougher.input.floatbank11_xanthate</th>\n",
       "      <td>0.305498</td>\n",
       "      <td>0.216100</td>\n",
       "    </tr>\n",
       "    <tr>\n",
       "      <th>rougher.state.floatbank10_a_air</th>\n",
       "      <td>0.228755</td>\n",
       "      <td>0.173309</td>\n",
       "    </tr>\n",
       "    <tr>\n",
       "      <th>rougher.state.floatbank10_a_level</th>\n",
       "      <td>0.093931</td>\n",
       "      <td>0.136466</td>\n",
       "    </tr>\n",
       "    <tr>\n",
       "      <th>rougher.state.floatbank10_b_air</th>\n",
       "      <td>-0.148411</td>\n",
       "      <td>-0.072852</td>\n",
       "    </tr>\n",
       "    <tr>\n",
       "      <th>rougher.state.floatbank10_b_level</th>\n",
       "      <td>-0.084320</td>\n",
       "      <td>-0.078499</td>\n",
       "    </tr>\n",
       "    <tr>\n",
       "      <th>rougher.state.floatbank10_c_air</th>\n",
       "      <td>-0.183531</td>\n",
       "      <td>-0.100282</td>\n",
       "    </tr>\n",
       "    <tr>\n",
       "      <th>rougher.state.floatbank10_c_level</th>\n",
       "      <td>-0.093720</td>\n",
       "      <td>-0.079087</td>\n",
       "    </tr>\n",
       "    <tr>\n",
       "      <th>rougher.state.floatbank10_d_air</th>\n",
       "      <td>-0.179362</td>\n",
       "      <td>-0.088645</td>\n",
       "    </tr>\n",
       "    <tr>\n",
       "      <th>rougher.state.floatbank10_d_level</th>\n",
       "      <td>-0.094237</td>\n",
       "      <td>-0.080815</td>\n",
       "    </tr>\n",
       "    <tr>\n",
       "      <th>rougher.state.floatbank10_e_air</th>\n",
       "      <td>-0.130293</td>\n",
       "      <td>-0.067713</td>\n",
       "    </tr>\n",
       "    <tr>\n",
       "      <th>rougher.state.floatbank10_e_level</th>\n",
       "      <td>-0.094668</td>\n",
       "      <td>-0.077880</td>\n",
       "    </tr>\n",
       "    <tr>\n",
       "      <th>rougher.state.floatbank10_f_air</th>\n",
       "      <td>-0.092098</td>\n",
       "      <td>-0.031946</td>\n",
       "    </tr>\n",
       "    <tr>\n",
       "      <th>rougher.state.floatbank10_f_level</th>\n",
       "      <td>-0.092495</td>\n",
       "      <td>-0.077584</td>\n",
       "    </tr>\n",
       "    <tr>\n",
       "      <th>secondary_cleaner.state.floatbank2_a_air</th>\n",
       "      <td>0.147045</td>\n",
       "      <td>0.157805</td>\n",
       "    </tr>\n",
       "    <tr>\n",
       "      <th>secondary_cleaner.state.floatbank2_a_level</th>\n",
       "      <td>0.003783</td>\n",
       "      <td>-0.020689</td>\n",
       "    </tr>\n",
       "    <tr>\n",
       "      <th>secondary_cleaner.state.floatbank2_b_air</th>\n",
       "      <td>0.122951</td>\n",
       "      <td>0.139664</td>\n",
       "    </tr>\n",
       "    <tr>\n",
       "      <th>secondary_cleaner.state.floatbank2_b_level</th>\n",
       "      <td>0.000455</td>\n",
       "      <td>-0.025590</td>\n",
       "    </tr>\n",
       "    <tr>\n",
       "      <th>secondary_cleaner.state.floatbank3_a_air</th>\n",
       "      <td>0.187641</td>\n",
       "      <td>0.190365</td>\n",
       "    </tr>\n",
       "    <tr>\n",
       "      <th>secondary_cleaner.state.floatbank3_a_level</th>\n",
       "      <td>0.031709</td>\n",
       "      <td>0.006491</td>\n",
       "    </tr>\n",
       "    <tr>\n",
       "      <th>secondary_cleaner.state.floatbank3_b_air</th>\n",
       "      <td>0.038290</td>\n",
       "      <td>0.054296</td>\n",
       "    </tr>\n",
       "    <tr>\n",
       "      <th>secondary_cleaner.state.floatbank3_b_level</th>\n",
       "      <td>0.011031</td>\n",
       "      <td>-0.034223</td>\n",
       "    </tr>\n",
       "    <tr>\n",
       "      <th>secondary_cleaner.state.floatbank4_a_air</th>\n",
       "      <td>0.209659</td>\n",
       "      <td>0.250773</td>\n",
       "    </tr>\n",
       "    <tr>\n",
       "      <th>secondary_cleaner.state.floatbank4_a_level</th>\n",
       "      <td>0.057357</td>\n",
       "      <td>0.051893</td>\n",
       "    </tr>\n",
       "    <tr>\n",
       "      <th>secondary_cleaner.state.floatbank4_b_air</th>\n",
       "      <td>0.170796</td>\n",
       "      <td>0.240501</td>\n",
       "    </tr>\n",
       "    <tr>\n",
       "      <th>secondary_cleaner.state.floatbank4_b_level</th>\n",
       "      <td>-0.089021</td>\n",
       "      <td>-0.061388</td>\n",
       "    </tr>\n",
       "    <tr>\n",
       "      <th>secondary_cleaner.state.floatbank5_a_air</th>\n",
       "      <td>0.098198</td>\n",
       "      <td>0.189475</td>\n",
       "    </tr>\n",
       "    <tr>\n",
       "      <th>secondary_cleaner.state.floatbank5_a_level</th>\n",
       "      <td>0.024159</td>\n",
       "      <td>0.005940</td>\n",
       "    </tr>\n",
       "    <tr>\n",
       "      <th>secondary_cleaner.state.floatbank5_b_air</th>\n",
       "      <td>0.068281</td>\n",
       "      <td>0.171910</td>\n",
       "    </tr>\n",
       "    <tr>\n",
       "      <th>secondary_cleaner.state.floatbank5_b_level</th>\n",
       "      <td>0.043815</td>\n",
       "      <td>0.030658</td>\n",
       "    </tr>\n",
       "    <tr>\n",
       "      <th>secondary_cleaner.state.floatbank6_a_air</th>\n",
       "      <td>-0.027253</td>\n",
       "      <td>0.019233</td>\n",
       "    </tr>\n",
       "    <tr>\n",
       "      <th>secondary_cleaner.state.floatbank6_a_level</th>\n",
       "      <td>-0.035782</td>\n",
       "      <td>-0.055502</td>\n",
       "    </tr>\n",
       "    <tr>\n",
       "      <th>final.output.recovery</th>\n",
       "      <td>1.000000</td>\n",
       "      <td>0.328307</td>\n",
       "    </tr>\n",
       "    <tr>\n",
       "      <th>rougher.output.recovery</th>\n",
       "      <td>0.328307</td>\n",
       "      <td>1.000000</td>\n",
       "    </tr>\n",
       "  </tbody>\n",
       "</table>\n",
       "</div>"
      ],
      "text/plain": [
       "                                            final.output.recovery  \\\n",
       "primary_cleaner.input.sulfate                            0.384798   \n",
       "primary_cleaner.input.depressant                         0.155639   \n",
       "primary_cleaner.input.feed_size                          0.067157   \n",
       "primary_cleaner.input.xanthate                           0.214886   \n",
       "primary_cleaner.state.floatbank8_a_air                   0.133526   \n",
       "primary_cleaner.state.floatbank8_a_level                 0.028631   \n",
       "primary_cleaner.state.floatbank8_b_air                   0.148987   \n",
       "primary_cleaner.state.floatbank8_b_level                 0.042755   \n",
       "primary_cleaner.state.floatbank8_c_air                   0.143670   \n",
       "primary_cleaner.state.floatbank8_c_level                 0.028894   \n",
       "primary_cleaner.state.floatbank8_d_air                   0.058578   \n",
       "primary_cleaner.state.floatbank8_d_level                -0.017229   \n",
       "rougher.input.feed_ag                                    0.310574   \n",
       "rougher.input.feed_pb                                    0.205706   \n",
       "rougher.input.feed_rate                                  0.169602   \n",
       "rougher.input.feed_size                                  0.048866   \n",
       "rougher.input.feed_sol                                   0.261590   \n",
       "rougher.input.feed_au                                    0.308561   \n",
       "rougher.input.floatbank10_sulfate                       -0.013655   \n",
       "rougher.input.floatbank10_xanthate                       0.328838   \n",
       "rougher.input.floatbank11_sulfate                        0.019862   \n",
       "rougher.input.floatbank11_xanthate                       0.305498   \n",
       "rougher.state.floatbank10_a_air                          0.228755   \n",
       "rougher.state.floatbank10_a_level                        0.093931   \n",
       "rougher.state.floatbank10_b_air                         -0.148411   \n",
       "rougher.state.floatbank10_b_level                       -0.084320   \n",
       "rougher.state.floatbank10_c_air                         -0.183531   \n",
       "rougher.state.floatbank10_c_level                       -0.093720   \n",
       "rougher.state.floatbank10_d_air                         -0.179362   \n",
       "rougher.state.floatbank10_d_level                       -0.094237   \n",
       "rougher.state.floatbank10_e_air                         -0.130293   \n",
       "rougher.state.floatbank10_e_level                       -0.094668   \n",
       "rougher.state.floatbank10_f_air                         -0.092098   \n",
       "rougher.state.floatbank10_f_level                       -0.092495   \n",
       "secondary_cleaner.state.floatbank2_a_air                 0.147045   \n",
       "secondary_cleaner.state.floatbank2_a_level               0.003783   \n",
       "secondary_cleaner.state.floatbank2_b_air                 0.122951   \n",
       "secondary_cleaner.state.floatbank2_b_level               0.000455   \n",
       "secondary_cleaner.state.floatbank3_a_air                 0.187641   \n",
       "secondary_cleaner.state.floatbank3_a_level               0.031709   \n",
       "secondary_cleaner.state.floatbank3_b_air                 0.038290   \n",
       "secondary_cleaner.state.floatbank3_b_level               0.011031   \n",
       "secondary_cleaner.state.floatbank4_a_air                 0.209659   \n",
       "secondary_cleaner.state.floatbank4_a_level               0.057357   \n",
       "secondary_cleaner.state.floatbank4_b_air                 0.170796   \n",
       "secondary_cleaner.state.floatbank4_b_level              -0.089021   \n",
       "secondary_cleaner.state.floatbank5_a_air                 0.098198   \n",
       "secondary_cleaner.state.floatbank5_a_level               0.024159   \n",
       "secondary_cleaner.state.floatbank5_b_air                 0.068281   \n",
       "secondary_cleaner.state.floatbank5_b_level               0.043815   \n",
       "secondary_cleaner.state.floatbank6_a_air                -0.027253   \n",
       "secondary_cleaner.state.floatbank6_a_level              -0.035782   \n",
       "final.output.recovery                                    1.000000   \n",
       "rougher.output.recovery                                  0.328307   \n",
       "\n",
       "                                            rougher.output.recovery  \n",
       "primary_cleaner.input.sulfate                              0.272823  \n",
       "primary_cleaner.input.depressant                           0.041395  \n",
       "primary_cleaner.input.feed_size                           -0.012795  \n",
       "primary_cleaner.input.xanthate                             0.106701  \n",
       "primary_cleaner.state.floatbank8_a_air                     0.087111  \n",
       "primary_cleaner.state.floatbank8_a_level                   0.043377  \n",
       "primary_cleaner.state.floatbank8_b_air                     0.100831  \n",
       "primary_cleaner.state.floatbank8_b_level                   0.039777  \n",
       "primary_cleaner.state.floatbank8_c_air                     0.114148  \n",
       "primary_cleaner.state.floatbank8_c_level                   0.043249  \n",
       "primary_cleaner.state.floatbank8_d_air                     0.005463  \n",
       "primary_cleaner.state.floatbank8_d_level                   0.005309  \n",
       "rougher.input.feed_ag                                      0.176421  \n",
       "rougher.input.feed_pb                                      0.173314  \n",
       "rougher.input.feed_rate                                    0.086685  \n",
       "rougher.input.feed_size                                    0.051702  \n",
       "rougher.input.feed_sol                                     0.184105  \n",
       "rougher.input.feed_au                                      0.156173  \n",
       "rougher.input.floatbank10_sulfate                         -0.099457  \n",
       "rougher.input.floatbank10_xanthate                         0.238468  \n",
       "rougher.input.floatbank11_sulfate                         -0.071547  \n",
       "rougher.input.floatbank11_xanthate                         0.216100  \n",
       "rougher.state.floatbank10_a_air                            0.173309  \n",
       "rougher.state.floatbank10_a_level                          0.136466  \n",
       "rougher.state.floatbank10_b_air                           -0.072852  \n",
       "rougher.state.floatbank10_b_level                         -0.078499  \n",
       "rougher.state.floatbank10_c_air                           -0.100282  \n",
       "rougher.state.floatbank10_c_level                         -0.079087  \n",
       "rougher.state.floatbank10_d_air                           -0.088645  \n",
       "rougher.state.floatbank10_d_level                         -0.080815  \n",
       "rougher.state.floatbank10_e_air                           -0.067713  \n",
       "rougher.state.floatbank10_e_level                         -0.077880  \n",
       "rougher.state.floatbank10_f_air                           -0.031946  \n",
       "rougher.state.floatbank10_f_level                         -0.077584  \n",
       "secondary_cleaner.state.floatbank2_a_air                   0.157805  \n",
       "secondary_cleaner.state.floatbank2_a_level                -0.020689  \n",
       "secondary_cleaner.state.floatbank2_b_air                   0.139664  \n",
       "secondary_cleaner.state.floatbank2_b_level                -0.025590  \n",
       "secondary_cleaner.state.floatbank3_a_air                   0.190365  \n",
       "secondary_cleaner.state.floatbank3_a_level                 0.006491  \n",
       "secondary_cleaner.state.floatbank3_b_air                   0.054296  \n",
       "secondary_cleaner.state.floatbank3_b_level                -0.034223  \n",
       "secondary_cleaner.state.floatbank4_a_air                   0.250773  \n",
       "secondary_cleaner.state.floatbank4_a_level                 0.051893  \n",
       "secondary_cleaner.state.floatbank4_b_air                   0.240501  \n",
       "secondary_cleaner.state.floatbank4_b_level                -0.061388  \n",
       "secondary_cleaner.state.floatbank5_a_air                   0.189475  \n",
       "secondary_cleaner.state.floatbank5_a_level                 0.005940  \n",
       "secondary_cleaner.state.floatbank5_b_air                   0.171910  \n",
       "secondary_cleaner.state.floatbank5_b_level                 0.030658  \n",
       "secondary_cleaner.state.floatbank6_a_air                   0.019233  \n",
       "secondary_cleaner.state.floatbank6_a_level                -0.055502  \n",
       "final.output.recovery                                      0.328307  \n",
       "rougher.output.recovery                                    1.000000  "
      ]
     },
     "execution_count": 23,
     "metadata": {},
     "output_type": "execute_result"
    }
   ],
   "source": [
    "cor_mat = df_train.corr()\n",
    "cor_mat[['final.output.recovery', 'rougher.output.recovery']]"
   ]
  },
  {
   "cell_type": "markdown",
   "metadata": {},
   "source": [
    "### Выводы"
   ]
  },
  {
   "cell_type": "markdown",
   "metadata": {},
   "source": [
    "- Загрузили и изучили данные. \n",
    "- Проверили, что эффективность обогащения рассчитана правильно\n",
    "- Проанализировали признаки, недоступные в тестовой выборке\n",
    "- Провели предобработку данных (обработали пропуски, подготовили обучающую и тестовую выборки для дальнейшей работы: оставили в обоих выборках одинаковое к-во признаков и убедились, что они не коррелируют с целевыми признаками).\n"
   ]
  },
  {
   "cell_type": "markdown",
   "metadata": {},
   "source": [
    "## Анализ данных"
   ]
  },
  {
   "cell_type": "markdown",
   "metadata": {},
   "source": [
    "### Изменение концентраций металлов (Au, Ag, Pb) на различных этапах очистки"
   ]
  },
  {
   "cell_type": "code",
   "execution_count": 24,
   "metadata": {},
   "outputs": [],
   "source": [
    "columns = ['rougher.output.concentrate',\n",
    "           'primary_cleaner.output.concentrate',\n",
    "           'final.output.concentrate'\n",
    "          ]\n",
    "metals = ['au', 'ag', 'pb']\n",
    "\n",
    "points = ['Флотация', 'Первичная очистка', 'Финальные характеристики']\n",
    "\n",
    "palette = sns.color_palette()[:len(metals)]"
   ]
  },
  {
   "cell_type": "code",
   "execution_count": 25,
   "metadata": {},
   "outputs": [
    {
     "data": {
      "image/png": "[encoded data removed]",
      "text/plain": [
       "<Figure size 1152x432 with 3 Axes>"
      ]
     },
     "metadata": {
      "needs_background": "light"
     },
     "output_type": "display_data"
    }
   ],
   "source": [
    "f, axs = plt.subplots(1,3, figsize=(16, 6))\n",
    "\n",
    "for name, ax in zip(columns, axs):\n",
    "    for met, color in zip(metals, palette):        \n",
    "        sns.kdeplot(df_full[f\"{name}_{met}\"],\n",
    "                    shade=True,\n",
    "                    color=color,\n",
    "                    label=met,\n",
    "                    ax=ax\n",
    "                   )\n",
    "        ax.legend()\n",
    "\n",
    "f.suptitle('Концентрация на различных этапах очистки', fontsize = 16)\n",
    "axs[0].set_title(points[0])\n",
    "axs[1].set_title(points[1])        \n",
    "axs[2].set_title(points[2])\n",
    "\n",
    "plt.show()"
   ]
  },
  {
   "cell_type": "code",
   "execution_count": 26,
   "metadata": {
    "scrolled": true
   },
   "outputs": [
    {
     "data": {
      "image/png": "[encoded data removed]",
      "text/plain": [
       "<Figure size 1152x432 with 3 Axes>"
      ]
     },
     "metadata": {
      "needs_background": "light"
     },
     "output_type": "display_data"
    }
   ],
   "source": [
    "f, axs = plt.subplots(1,3, figsize=(16, 6))\n",
    "\n",
    "for met, ax in zip(metals, axs):\n",
    "    for name, color, point in zip(columns, palette, points):        \n",
    "        sns.kdeplot(df_full[f\"{name}_{met}\"],\n",
    "                    shade=True,\n",
    "                    color=color,\n",
    "                    label=point,\n",
    "                    ax=ax\n",
    "                   )\n",
    "        ax.legend()\n",
    "\n",
    "f.suptitle('Концентрация на различных этапах очистки', fontsize = 16)\n",
    "axs[0].set_title('Золото')\n",
    "axs[1].set_title(\"Серебро\")        \n",
    "axs[2].set_title('Свинец')\n",
    "\n",
    "plt.show()"
   ]
  },
  {
   "cell_type": "markdown",
   "metadata": {},
   "source": [
    "#### Выводы"
   ]
  },
  {
   "cell_type": "markdown",
   "metadata": {},
   "source": [
    "- Для золота наблюдается зависимость увеличения концентрации по мере очистки\n",
    "- Для серебра наблюдается зависимость снижения концентрации по мере очистки\n",
    "- Для свинца есть небольшое увеличение концентрации по мере очистки"
   ]
  },
  {
   "cell_type": "markdown",
   "metadata": {},
   "source": [
    "### Сравнение распределений размеров гранул сырья на обучающей и тестовой выборках"
   ]
  },
  {
   "cell_type": "code",
   "execution_count": 27,
   "metadata": {},
   "outputs": [
    {
     "data": {
      "image/png": "[encoded data removed]",
      "text/plain": [
       "<Figure size 1152x432 with 1 Axes>"
      ]
     },
     "metadata": {
      "needs_background": "light"
     },
     "output_type": "display_data"
    }
   ],
   "source": [
    "f, axes = plt.subplots(1, 1, figsize=(16, 6))\n",
    "\n",
    "sns.kdeplot(df_train['rougher.input.feed_size'],\n",
    "            shade=True,\n",
    "            color=palette[0]\n",
    "           )\n",
    "\n",
    "sns.kdeplot(df_test['rougher.input.feed_size'],\n",
    "            shade=True,\n",
    "            color=palette[1]\n",
    "           )\n",
    "\n",
    "plt.xlim(0,150)\n",
    "plt.show()"
   ]
  },
  {
   "cell_type": "code",
   "execution_count": 28,
   "metadata": {},
   "outputs": [
    {
     "data": {
      "text/plain": [
       "count    14149.000000\n",
       "mean        60.239856\n",
       "std         23.005310\n",
       "min          9.659576\n",
       "25%         48.966751\n",
       "50%         55.269784\n",
       "75%         66.007526\n",
       "max        484.967466\n",
       "Name: rougher.input.feed_size, dtype: float64"
      ]
     },
     "execution_count": 28,
     "metadata": {},
     "output_type": "execute_result"
    }
   ],
   "source": [
    "df_train.describe()['rougher.input.feed_size']"
   ]
  },
  {
   "cell_type": "code",
   "execution_count": 29,
   "metadata": {},
   "outputs": [
    {
     "data": {
      "text/plain": [
       "count    5290.000000\n",
       "mean       55.952754\n",
       "std        19.080334\n",
       "min         0.046369\n",
       "25%        43.906504\n",
       "50%        50.846843\n",
       "75%        62.451165\n",
       "max       392.494040\n",
       "Name: rougher.input.feed_size, dtype: float64"
      ]
     },
     "execution_count": 29,
     "metadata": {},
     "output_type": "execute_result"
    }
   ],
   "source": [
    "df_test.describe()['rougher.input.feed_size']"
   ]
  },
  {
   "cell_type": "markdown",
   "metadata": {},
   "source": [
    "#### Выводы"
   ]
  },
  {
   "cell_type": "markdown",
   "metadata": {},
   "source": [
    "- Распределение размеров гранул в обучающей и тестовой выборках имеет небольшое отличие. \n",
    "- На дальнейший анализ это различие практически не повлияет."
   ]
  },
  {
   "cell_type": "markdown",
   "metadata": {},
   "source": [
    "### Суммарная концентрация всех веществ на разных стадиях: в сырье, в черновом и финальном концентратах."
   ]
  },
  {
   "cell_type": "code",
   "execution_count": 30,
   "metadata": {},
   "outputs": [],
   "source": [
    "per_new = ['rougher.input.feed_',\n",
    "           'rougher.output.concentrate_',\n",
    "           'final.output.concentrate_'\n",
    "          ]\n",
    "points = ['Содержание в сырье ',\n",
    "          'Содержание в черновом материале ',\n",
    "          'Содержание в концентрает '\n",
    "         ]\n",
    "colors=['green', 'orange', 'blue']"
   ]
  },
  {
   "cell_type": "code",
   "execution_count": 31,
   "metadata": {
    "scrolled": true
   },
   "outputs": [
    {
     "data": {
      "image/png": "[encoded data removed]",
      "text/plain": [
       "<Figure size 1152x432 with 1 Axes>"
      ]
     },
     "metadata": {
      "needs_background": "light"
     },
     "output_type": "display_data"
    }
   ],
   "source": [
    "f, axes = plt.subplots(1, 1, figsize=(16, 6))\n",
    "\n",
    "al = 0\n",
    "lw = 2\n",
    "\n",
    "for met, color in zip(metals, colors):\n",
    "    for per, point in zip(per_new, points):        \n",
    "        sns.kdeplot(df_full[f'{per}{met}'],\n",
    "                    shade=True,\n",
    "                    color=color,\n",
    "                    ax=axes,\n",
    "                    alpha=al,\n",
    "                    linewidth=lw,\n",
    "                    label=point+met\n",
    "                   )\n",
    "        al+=0.2\n",
    "        lw-=1\n",
    "    al = 0\n",
    "    lw = 2\n",
    "    \n",
    "axes.legend()\n",
    "f.suptitle('Концентрация на различных этапах очистки', fontsize = 16)\n",
    "\n",
    "plt.show()"
   ]
  },
  {
   "cell_type": "code",
   "execution_count": 32,
   "metadata": {},
   "outputs": [],
   "source": [
    "feed_all = df_full['rougher.input.feed_ag'] + df_full['rougher.input.feed_pb'] +\\\n",
    "            df_full['rougher.input.feed_sol'] + df_full['rougher.input.feed_au']\n",
    "rgh_all = df_full['rougher.output.concentrate_ag'] + df_full['rougher.output.concentrate_pb'] +\\\n",
    "            df_full['rougher.output.concentrate_sol'] + df_full['rougher.output.concentrate_au']\n",
    "final_all = df_full['final.output.concentrate_ag'] + df_full['final.output.concentrate_pb'] +\\\n",
    "            df_full['final.output.concentrate_sol'] + df_full['final.output.concentrate_au']\n",
    "n = [feed_all, rgh_all, final_all]"
   ]
  },
  {
   "cell_type": "code",
   "execution_count": 33,
   "metadata": {
    "scrolled": true
   },
   "outputs": [
    {
     "data": {
      "image/png": "[encoded data removed]",
      "text/plain": [
       "<Figure size 1152x432 with 1 Axes>"
      ]
     },
     "metadata": {
      "needs_background": "light"
     },
     "output_type": "display_data"
    }
   ],
   "source": [
    "f, axes = plt.subplots(1, 1, figsize=(16, 6))\n",
    "\n",
    "al = 0\n",
    "lw = 2\n",
    "\n",
    "for per, color, point in zip(n, colors, points):        \n",
    "    sns.kdeplot(per,\n",
    "                shade=True,\n",
    "                color=color,\n",
    "                ax=axes,                \n",
    "                label=point\n",
    "               )\n",
    "    \n",
    "    \n",
    "axes.legend()\n",
    "f.suptitle('Концентрация на различных этапах очистки', fontsize = 16)\n",
    "\n",
    "plt.show()"
   ]
  },
  {
   "cell_type": "markdown",
   "metadata": {},
   "source": [
    "Удалим строки с нулевым значением, так как в дальнейшем они будут мешать построению модели."
   ]
  },
  {
   "cell_type": "code",
   "execution_count": 34,
   "metadata": {},
   "outputs": [],
   "source": [
    "feed_all = feed_all[feed_all > 0]\n",
    "rgh_all = rgh_all[rgh_all > 0]\n",
    "final_all = final_all[final_all > 0]\n",
    "n = [feed_all, rgh_all, final_all]"
   ]
  },
  {
   "cell_type": "code",
   "execution_count": 35,
   "metadata": {
    "scrolled": false
   },
   "outputs": [
    {
     "data": {
      "image/png": "[encoded data removed]",
      "text/plain": [
       "<Figure size 1152x432 with 1 Axes>"
      ]
     },
     "metadata": {
      "needs_background": "light"
     },
     "output_type": "display_data"
    }
   ],
   "source": [
    "f, axes = plt.subplots(1, 1, figsize=(16, 6))\n",
    "\n",
    "al = 0\n",
    "lw = 2\n",
    "\n",
    "for per, color, point in zip(n, colors, points):        \n",
    "    sns.kdeplot(per,\n",
    "                shade=True,\n",
    "                color=color,\n",
    "                ax=axes,                \n",
    "                label=point\n",
    "               )\n",
    "    \n",
    "    \n",
    "axes.legend()\n",
    "f.suptitle('Концентрация на различных этапах очистки', fontsize = 16)\n",
    "plt.xlim(30,)\n",
    "plt.show()"
   ]
  },
  {
   "cell_type": "markdown",
   "metadata": {},
   "source": [
    "#### Выводы"
   ]
  },
  {
   "cell_type": "markdown",
   "metadata": {},
   "source": [
    "- Помере очистки наблюдается сужение интервала распределения концентраций веществ. "
   ]
  },
  {
   "cell_type": "markdown",
   "metadata": {},
   "source": [
    "## Модель"
   ]
  },
  {
   "cell_type": "markdown",
   "metadata": {},
   "source": [
    "### Функция sMAPE"
   ]
  },
  {
   "cell_type": "markdown",
   "metadata": {},
   "source": [
    "Напишем функции для вычисления метрики sMAPE."
   ]
  },
  {
   "cell_type": "code",
   "execution_count": 36,
   "metadata": {},
   "outputs": [],
   "source": [
    "def smape (target, predictions):\n",
    "    return 100/len(target) * np.sum(2 * np.abs(predictions - target) / (np.abs(target) + np.abs(predictions)))"
   ]
  },
  {
   "cell_type": "code",
   "execution_count": 37,
   "metadata": {},
   "outputs": [],
   "source": [
    "def smape_final (rougher, final):\n",
    "    return 0.25 * rougher + 0.75 * final"
   ]
  },
  {
   "cell_type": "markdown",
   "metadata": {},
   "source": [
    "Выделим целевые признаки из обучающей и тестовой выборок."
   ]
  },
  {
   "cell_type": "code",
   "execution_count": 38,
   "metadata": {},
   "outputs": [],
   "source": [
    "X_train = df_train.drop(['final.output.recovery', 'rougher.output.recovery'], axis='columns')\n",
    "X_test = df_test.drop(['final.output.recovery', 'rougher.output.recovery'], axis='columns')\n",
    "\n",
    "y_train_r = df_train['rougher.output.recovery']\n",
    "y_test_r = df_test['rougher.output.recovery']\n",
    "\n",
    "y_train_f = df_train['final.output.recovery']\n",
    "y_test_f = df_test['final.output.recovery']"
   ]
  },
  {
   "cell_type": "markdown",
   "metadata": {},
   "source": [
    "Масштабируем признаки на обучающей и тестовой выборках"
   ]
  },
  {
   "cell_type": "code",
   "execution_count": 39,
   "metadata": {},
   "outputs": [],
   "source": [
    "scaler = StandardScaler()\n",
    "scaler.fit(X_train)\n",
    "X_train = scaler.transform(X_train)\n",
    "X_test = scaler.transform(X_test)"
   ]
  },
  {
   "cell_type": "markdown",
   "metadata": {},
   "source": [
    "### Линейная регрессия"
   ]
  },
  {
   "cell_type": "markdown",
   "metadata": {},
   "source": [
    "- Обучим модель линейной регрессии.\n",
    "- Для поиска оптимального значения использую GridSearchCV с кросс-валидацией на пяти подвыборках.\n",
    "- Посчитаем метрику sMAPE для линейной регрессии."
   ]
  },
  {
   "cell_type": "code",
   "execution_count": 40,
   "metadata": {},
   "outputs": [
    {
     "data": {
      "text/plain": [
       "{'copy_X': True, 'fit_intercept': True, 'normalize': True}"
      ]
     },
     "execution_count": 40,
     "metadata": {},
     "output_type": "execute_result"
    }
   ],
   "source": [
    "parameters ={'fit_intercept':[True, False],\n",
    "             'normalize':[True, False],\n",
    "             'copy_X':[True, False]}\n",
    "\n",
    "scorer = make_scorer(smape, greater_is_better=False)\n",
    "model_lr_r = GridSearchCV(LinearRegression(),\n",
    "                          parameters,\n",
    "                          cv=5,\n",
    "                          n_jobs=-1,\n",
    "                          scoring=scorer)\n",
    "\n",
    "model_lr_r.fit(X_train, y_train_r)\n",
    "params = model_lr_r.best_params_\n",
    "lr_r = LinearRegression(**params)\n",
    "lr_r.fit(X_train, y_train_r)\n",
    "model_lr_r.best_params_"
   ]
  },
  {
   "cell_type": "code",
   "execution_count": 41,
   "metadata": {},
   "outputs": [
    {
     "data": {
      "text/plain": [
       "{'copy_X': True, 'fit_intercept': True, 'normalize': True}"
      ]
     },
     "execution_count": 41,
     "metadata": {},
     "output_type": "execute_result"
    }
   ],
   "source": [
    "model_lr_f = GridSearchCV(LinearRegression(),\n",
    "                          parameters,\n",
    "                          cv=5,\n",
    "                          n_jobs=-1,\n",
    "                          scoring=scorer)\n",
    "\n",
    "model_lr_f.fit(X_train, y_train_f)\n",
    "params = model_lr_f.best_params_\n",
    "lr_f = LinearRegression(**params)\n",
    "lr_f.fit(X_train, y_train_f)\n",
    "model_lr_f.best_params_"
   ]
  },
  {
   "cell_type": "code",
   "execution_count": 42,
   "metadata": {},
   "outputs": [
    {
     "data": {
      "text/plain": [
       "9.972775555351227"
      ]
     },
     "execution_count": 42,
     "metadata": {},
     "output_type": "execute_result"
    }
   ],
   "source": [
    "pred_rougher = model_lr_r.predict(X_test)\n",
    "pred_final = model_lr_f.predict(X_test)\n",
    "smape_model_lr_r = smape(y_test_r, pred_rougher)\n",
    "smape_model_lr_f = smape(y_test_f, pred_final)\n",
    "\n",
    "smape_final(smape_model_lr_r, smape_model_lr_f)"
   ]
  },
  {
   "cell_type": "markdown",
   "metadata": {},
   "source": [
    "### Случайный лес"
   ]
  },
  {
   "cell_type": "markdown",
   "metadata": {},
   "source": [
    "- Обучим модель случайного леса.\n",
    "- Для поиска оптимального значения использую GridSearchCV с кросс-валидацией на пяти подвыборках.\n",
    "- Посчитаем метрику sMAPE для случайного леса."
   ]
  },
  {
   "cell_type": "markdown",
   "metadata": {},
   "source": [
    "<div class=\"alert alert-block alert-info\">\n",
    "\n",
    "<b>Примечание: </b> Ячейки ниже можно разкоментировать, но они достаточно долго обрабатывают модель. Нужные параметры дальше уже добавлены и модель рабоатет.  \n",
    "</div>"
   ]
  },
  {
   "cell_type": "code",
   "execution_count": null,
   "metadata": {},
   "outputs": [],
   "source": [
    "# tree_params = {'max_depth': list(range(4, 25))}\n",
    "# grid_rfr_r = GridSearchCV(RandomForestRegressor(random_state=12345),\n",
    "#                           tree_params,\n",
    "#                           cv=5,\n",
    "#                           scoring=scorer,\n",
    "#                           n_jobs=-1) \n",
    "# grid_rfr_r.fit(X_train, y_train_r)\n",
    "# params = grid_rfr_r.best_params_\n",
    "# rfr_r = RandomForestRegressor(**params, random_state = 12345)\n",
    "# rfr_r.fit(X_train, y_train_r)\n",
    "# grid_rfr_r.best_params_"
   ]
  },
  {
   "cell_type": "code",
   "execution_count": null,
   "metadata": {},
   "outputs": [],
   "source": [
    "# grid_rfr_f = GridSearchCV(RandomForestRegressor(random_state=12345),\n",
    "#                           tree_params,\n",
    "#                           cv=5,\n",
    "#                           scoring=scorer,\n",
    "#                           n_jobs=-1) \n",
    "# grid_rfr_r.fit(X_train, y_train_f)\n",
    "# params = grid_rfr_r.best_params_\n",
    "# rfr_r = RandomForestRegressor(**params, random_state = 12345)\n",
    "# rfr_r.fit(X_train, y_train_f)\n",
    "# grid_rfr_r.best_params_"
   ]
  },
  {
   "cell_type": "code",
   "execution_count": 47,
   "metadata": {},
   "outputs": [
    {
     "data": {
      "text/plain": [
       "RandomForestRegressor(max_depth=4, random_state=12345)"
      ]
     },
     "execution_count": 47,
     "metadata": {},
     "output_type": "execute_result"
    }
   ],
   "source": [
    "rfr_r = RandomForestRegressor(max_depth= 4, random_state = 12345)\n",
    "rfr_r.fit(X_train, y_train_r)\n",
    "\n",
    "rfr_f = RandomForestRegressor(max_depth= 4, random_state = 12345)\n",
    "rfr_f.fit(X_train, y_train_f)\n"
   ]
  },
  {
   "cell_type": "code",
   "execution_count": 48,
   "metadata": {},
   "outputs": [
    {
     "data": {
      "text/plain": [
       "9.80940227234173"
      ]
     },
     "execution_count": 48,
     "metadata": {},
     "output_type": "execute_result"
    }
   ],
   "source": [
    "pred_rougher = rfr_r.predict(X_test)\n",
    "pred_final = rfr_f.predict(X_test)\n",
    "smape_forest_r = smape(y_test_r, pred_rougher)\n",
    "smape_forest_f = smape(y_test_f, pred_final)\n",
    "smape_final(smape_forest_r, smape_forest_f)"
   ]
  },
  {
   "cell_type": "markdown",
   "metadata": {},
   "source": [
    "### Проверка качества модели методом DummyRegressor"
   ]
  },
  {
   "cell_type": "code",
   "execution_count": 45,
   "metadata": {},
   "outputs": [],
   "source": [
    "dummy = DummyRegressor(strategy = 'mean')\n",
    "dummy_1 = DummyRegressor(strategy = 'mean')\n",
    "\n",
    "dummy_rougher = dummy.fit(X_train, y_train_r)\n",
    "dummy_predictions_rougher = dummy_rougher.predict(X_test)\n",
    "\n",
    "dummy_final = dummy_1.fit(X_train, y_train_f)\n",
    "dummy_predictions_final = dummy_final.predict(X_test)"
   ]
  },
  {
   "cell_type": "code",
   "execution_count": 46,
   "metadata": {},
   "outputs": [
    {
     "data": {
      "text/plain": [
       "10.289630376021035"
      ]
     },
     "execution_count": 46,
     "metadata": {},
     "output_type": "execute_result"
    }
   ],
   "source": [
    "smape_rougher_dummy = smape(y_test_r, dummy_predictions_rougher)\n",
    "smape_final_dummy = smape(y_test_f, dummy_predictions_final)\n",
    "\n",
    "smape_final(smape_rougher_dummy, smape_final_dummy)"
   ]
  },
  {
   "cell_type": "markdown",
   "metadata": {},
   "source": [
    "## Вывод "
   ]
  },
  {
   "cell_type": "markdown",
   "metadata": {},
   "source": [
    "- Данные успешно загружены.\n",
    "- Проведена предобработка: пропуски удалены или по возможности заполнены, удалена часть столбцов из тренировочной выборки.\n",
    "- Проанализированы концентрации металлов (Au, Ag, Pb), а также суммарные концентрации веществ на всех стадиях очистки.\n",
    "- Рассмотрены распределения гранул сырья на входе технологического процесса для обучающей и тестовой выборок.\n",
    "- Обучены модели линейной регрессии и случайного леса.\n",
    "- Применены техники кросс-валидации для оценки качества моделей и GridSearchCV для поиска оптимальных гиперпараметров.\n",
    "- Проведена проверка качества модели методом DummyRegressor\n",
    "- Лучший результат показала модель линейной регрессии, sMAPE этой модели (9.97%) на 0.5% ниже константной модели."
   ]
  },
  {
   "cell_type": "markdown",
   "metadata": {},
   "source": [
    "## Чек-лист готовности проекта"
   ]
  },
  {
   "cell_type": "markdown",
   "metadata": {},
   "source": [
    "- [x]  Jupyter Notebook открыт\n",
    "- [x]  Весь код выполняется без ошибок\n",
    "- [x]  Ячейки с кодом расположены в порядке выполнения\n",
    "- [x]  Выполнен шаг 1: данные подготовлены\n",
    "    - [x]  Проверена формула вычисления эффективности обогащения\n",
    "    - [x]  Проанализированы признаки, недоступные в тестовой выборке\n",
    "    - [x]  Проведена предобработка данных\n",
    "- [x]  Выполнен шаг 2: данные проанализированы\n",
    "    - [x]  Исследовано изменение концентрации элементов на каждом этапе\n",
    "    - [x]  Проанализированы распределения размеров гранул на обучающей и тестовой выборках\n",
    "    - [x]  Исследованы суммарные концентрации\n",
    "- [x]  Выполнен шаг 3: построена модель прогнозирования\n",
    "    - [x]  Написана функция для вычисления итогового *sMAPE*\n",
    "    - [x]  Обучено и проверено несколько моделей\n",
    "    - [x]  Выбрана лучшая модель, её качество проверено на тестовой выборке"
   ]
  },
  {
   "cell_type": "code",
   "execution_count": null,
   "metadata": {},
   "outputs": [],
   "source": []
  }
 ],
 "metadata": {
  "ExecuteTimeLog": [
   {
    "duration": 1588,
    "start_time": "2022-07-06T18:21:49.945Z"
   },
   {
    "duration": 216,
    "start_time": "2022-07-06T18:23:08.018Z"
   },
   {
    "duration": 1553,
    "start_time": "2022-07-06T18:24:00.270Z"
   },
   {
    "duration": 2158,
    "start_time": "2022-07-06T18:24:13.766Z"
   },
   {
    "duration": 699,
    "start_time": "2022-07-06T18:24:49.510Z"
   },
   {
    "duration": 8,
    "start_time": "2022-07-07T06:36:38.531Z"
   },
   {
    "duration": 714,
    "start_time": "2022-07-07T06:36:38.541Z"
   },
   {
    "duration": 45,
    "start_time": "2022-07-07T06:36:41.622Z"
   },
   {
    "duration": 44,
    "start_time": "2022-07-07T06:37:02.168Z"
   },
   {
    "duration": 40,
    "start_time": "2022-07-07T06:37:05.019Z"
   },
   {
    "duration": 5,
    "start_time": "2022-07-07T06:39:33.872Z"
   },
   {
    "duration": 0,
    "start_time": "2022-07-07T07:00:52.260Z"
   },
   {
    "duration": 190370,
    "start_time": "2022-07-07T07:00:54.244Z"
   },
   {
    "duration": 0,
    "start_time": "2022-07-07T07:04:04.615Z"
   },
   {
    "duration": 0,
    "start_time": "2022-07-07T07:04:04.616Z"
   },
   {
    "duration": 0,
    "start_time": "2022-07-07T07:04:04.617Z"
   },
   {
    "duration": 0,
    "start_time": "2022-07-07T07:04:04.618Z"
   },
   {
    "duration": 0,
    "start_time": "2022-07-07T07:04:04.619Z"
   },
   {
    "duration": 5,
    "start_time": "2022-07-07T07:04:08.839Z"
   },
   {
    "duration": 616,
    "start_time": "2022-07-07T07:04:08.846Z"
   },
   {
    "duration": 42,
    "start_time": "2022-07-07T07:04:09.464Z"
   },
   {
    "duration": 29,
    "start_time": "2022-07-07T07:04:09.508Z"
   },
   {
    "duration": 33,
    "start_time": "2022-07-07T07:04:09.538Z"
   },
   {
    "duration": 153980,
    "start_time": "2022-07-07T07:04:23.229Z"
   },
   {
    "duration": 4,
    "start_time": "2022-07-07T07:07:58.586Z"
   },
   {
    "duration": 123141,
    "start_time": "2022-07-07T07:08:05.741Z"
   },
   {
    "duration": 4,
    "start_time": "2022-07-07T07:10:10.672Z"
   },
   {
    "duration": 33610,
    "start_time": "2022-07-07T07:10:11.505Z"
   },
   {
    "duration": 4,
    "start_time": "2022-07-07T07:10:55.339Z"
   },
   {
    "duration": 0,
    "start_time": "2022-07-07T07:15:51.111Z"
   },
   {
    "duration": 442623,
    "start_time": "2022-07-07T07:15:53.508Z"
   },
   {
    "duration": 18,
    "start_time": "2022-07-07T07:47:52.865Z"
   },
   {
    "duration": 14,
    "start_time": "2022-07-07T07:51:51.858Z"
   },
   {
    "duration": 5,
    "start_time": "2022-07-07T08:13:50.659Z"
   },
   {
    "duration": 1217,
    "start_time": "2022-07-07T09:32:50.260Z"
   },
   {
    "duration": 3,
    "start_time": "2022-07-07T09:34:48.048Z"
   },
   {
    "duration": 22,
    "start_time": "2022-07-07T09:35:10.640Z"
   },
   {
    "duration": 10,
    "start_time": "2022-07-07T09:38:30.066Z"
   },
   {
    "duration": 7,
    "start_time": "2022-07-07T10:43:50.058Z"
   },
   {
    "duration": 18,
    "start_time": "2022-07-07T10:48:00.402Z"
   },
   {
    "duration": 1228,
    "start_time": "2022-07-07T10:48:01.275Z"
   },
   {
    "duration": 8,
    "start_time": "2022-07-07T10:48:38.578Z"
   },
   {
    "duration": 9,
    "start_time": "2022-07-07T10:48:44.350Z"
   },
   {
    "duration": 1348,
    "start_time": "2022-07-07T10:49:53.144Z"
   },
   {
    "duration": 759,
    "start_time": "2022-07-07T10:49:54.494Z"
   },
   {
    "duration": 49,
    "start_time": "2022-07-07T10:49:55.255Z"
   },
   {
    "duration": 35,
    "start_time": "2022-07-07T10:49:55.305Z"
   },
   {
    "duration": 33,
    "start_time": "2022-07-07T10:49:55.342Z"
   },
   {
    "duration": 5,
    "start_time": "2022-07-07T10:49:55.403Z"
   },
   {
    "duration": 11,
    "start_time": "2022-07-07T10:49:55.410Z"
   },
   {
    "duration": 17,
    "start_time": "2022-07-07T10:49:55.422Z"
   },
   {
    "duration": 5,
    "start_time": "2022-07-07T10:49:55.440Z"
   },
   {
    "duration": 10,
    "start_time": "2022-07-07T10:49:55.447Z"
   },
   {
    "duration": 48,
    "start_time": "2022-07-07T10:49:55.458Z"
   },
   {
    "duration": 9,
    "start_time": "2022-07-07T10:49:55.508Z"
   },
   {
    "duration": 19,
    "start_time": "2022-07-07T10:53:27.624Z"
   },
   {
    "duration": 9,
    "start_time": "2022-07-07T10:53:28.338Z"
   },
   {
    "duration": 97,
    "start_time": "2022-07-07T11:02:31.409Z"
   },
   {
    "duration": 8,
    "start_time": "2022-07-07T11:03:15.559Z"
   },
   {
    "duration": 4,
    "start_time": "2022-07-07T11:03:27.333Z"
   },
   {
    "duration": 728,
    "start_time": "2022-07-07T11:03:27.339Z"
   },
   {
    "duration": 45,
    "start_time": "2022-07-07T11:03:28.069Z"
   },
   {
    "duration": 41,
    "start_time": "2022-07-07T11:03:28.115Z"
   },
   {
    "duration": 56,
    "start_time": "2022-07-07T11:03:28.158Z"
   },
   {
    "duration": 3,
    "start_time": "2022-07-07T11:03:28.216Z"
   },
   {
    "duration": 7,
    "start_time": "2022-07-07T11:03:28.221Z"
   },
   {
    "duration": 13,
    "start_time": "2022-07-07T11:03:28.230Z"
   },
   {
    "duration": 9,
    "start_time": "2022-07-07T11:03:28.245Z"
   },
   {
    "duration": 53,
    "start_time": "2022-07-07T11:03:28.255Z"
   },
   {
    "duration": 9,
    "start_time": "2022-07-07T11:03:28.309Z"
   },
   {
    "duration": 11,
    "start_time": "2022-07-07T11:03:30.004Z"
   },
   {
    "duration": 11,
    "start_time": "2022-07-07T11:03:49.552Z"
   },
   {
    "duration": 1438,
    "start_time": "2022-07-07T11:03:59.991Z"
   },
   {
    "duration": 733,
    "start_time": "2022-07-07T11:04:01.431Z"
   },
   {
    "duration": 51,
    "start_time": "2022-07-07T11:04:02.166Z"
   },
   {
    "duration": 34,
    "start_time": "2022-07-07T11:04:02.219Z"
   },
   {
    "duration": 61,
    "start_time": "2022-07-07T11:04:02.255Z"
   },
   {
    "duration": 5,
    "start_time": "2022-07-07T11:04:02.318Z"
   },
   {
    "duration": 13,
    "start_time": "2022-07-07T11:04:02.324Z"
   },
   {
    "duration": 22,
    "start_time": "2022-07-07T11:04:02.338Z"
   },
   {
    "duration": 11,
    "start_time": "2022-07-07T11:04:02.362Z"
   },
   {
    "duration": 48,
    "start_time": "2022-07-07T11:04:02.375Z"
   },
   {
    "duration": 9,
    "start_time": "2022-07-07T11:04:02.424Z"
   },
   {
    "duration": 139,
    "start_time": "2022-07-07T11:04:02.435Z"
   },
   {
    "duration": 0,
    "start_time": "2022-07-07T11:04:02.576Z"
   },
   {
    "duration": 0,
    "start_time": "2022-07-07T11:04:02.578Z"
   },
   {
    "duration": 10,
    "start_time": "2022-07-07T11:04:57.236Z"
   },
   {
    "duration": 4,
    "start_time": "2022-07-07T11:05:07.493Z"
   },
   {
    "duration": 723,
    "start_time": "2022-07-07T11:05:07.499Z"
   },
   {
    "duration": 35,
    "start_time": "2022-07-07T11:05:08.224Z"
   },
   {
    "duration": 55,
    "start_time": "2022-07-07T11:05:08.261Z"
   },
   {
    "duration": 37,
    "start_time": "2022-07-07T11:05:08.317Z"
   },
   {
    "duration": 3,
    "start_time": "2022-07-07T11:05:08.356Z"
   },
   {
    "duration": 7,
    "start_time": "2022-07-07T11:05:08.361Z"
   },
   {
    "duration": 44,
    "start_time": "2022-07-07T11:05:08.369Z"
   },
   {
    "duration": 9,
    "start_time": "2022-07-07T11:05:08.415Z"
   },
   {
    "duration": 19,
    "start_time": "2022-07-07T11:05:08.426Z"
   },
   {
    "duration": 9,
    "start_time": "2022-07-07T11:05:08.447Z"
   },
   {
    "duration": 47,
    "start_time": "2022-07-07T11:05:08.458Z"
   },
   {
    "duration": 0,
    "start_time": "2022-07-07T11:05:08.507Z"
   },
   {
    "duration": 12,
    "start_time": "2022-07-07T11:05:25.388Z"
   },
   {
    "duration": 9,
    "start_time": "2022-07-07T11:05:37.080Z"
   },
   {
    "duration": 12,
    "start_time": "2022-07-07T11:05:48.864Z"
   },
   {
    "duration": 1485,
    "start_time": "2022-07-07T11:06:05.159Z"
   },
   {
    "duration": 746,
    "start_time": "2022-07-07T11:06:06.646Z"
   },
   {
    "duration": 57,
    "start_time": "2022-07-07T11:06:07.395Z"
   },
   {
    "duration": 66,
    "start_time": "2022-07-07T11:06:07.455Z"
   },
   {
    "duration": 44,
    "start_time": "2022-07-07T11:06:07.523Z"
   },
   {
    "duration": 37,
    "start_time": "2022-07-07T11:06:07.569Z"
   },
   {
    "duration": 12,
    "start_time": "2022-07-07T11:06:07.608Z"
   },
   {
    "duration": 26,
    "start_time": "2022-07-07T11:06:07.623Z"
   },
   {
    "duration": 11,
    "start_time": "2022-07-07T11:06:07.652Z"
   },
   {
    "duration": 38,
    "start_time": "2022-07-07T11:06:07.667Z"
   },
   {
    "duration": 9,
    "start_time": "2022-07-07T11:06:07.707Z"
   },
   {
    "duration": 25,
    "start_time": "2022-07-07T11:06:07.718Z"
   },
   {
    "duration": 6,
    "start_time": "2022-07-07T11:06:07.745Z"
   },
   {
    "duration": 8,
    "start_time": "2022-07-07T11:06:07.753Z"
   },
   {
    "duration": 10,
    "start_time": "2022-07-07T11:06:07.763Z"
   },
   {
    "duration": 24,
    "start_time": "2022-07-07T11:06:23.782Z"
   },
   {
    "duration": 25,
    "start_time": "2022-07-07T11:07:12.066Z"
   },
   {
    "duration": 9,
    "start_time": "2022-07-07T11:07:12.770Z"
   },
   {
    "duration": 108,
    "start_time": "2022-07-07T11:07:13.760Z"
   },
   {
    "duration": 10,
    "start_time": "2022-07-07T11:07:27.056Z"
   },
   {
    "duration": 1363,
    "start_time": "2022-07-07T11:07:32.452Z"
   },
   {
    "duration": 772,
    "start_time": "2022-07-07T11:07:33.817Z"
   },
   {
    "duration": 50,
    "start_time": "2022-07-07T11:07:34.591Z"
   },
   {
    "duration": 61,
    "start_time": "2022-07-07T11:07:34.643Z"
   },
   {
    "duration": 39,
    "start_time": "2022-07-07T11:07:34.706Z"
   },
   {
    "duration": 28,
    "start_time": "2022-07-07T11:07:34.746Z"
   },
   {
    "duration": 31,
    "start_time": "2022-07-07T11:07:34.776Z"
   },
   {
    "duration": 36,
    "start_time": "2022-07-07T11:07:34.808Z"
   },
   {
    "duration": 48,
    "start_time": "2022-07-07T11:07:34.846Z"
   },
   {
    "duration": 49,
    "start_time": "2022-07-07T11:07:34.896Z"
   },
   {
    "duration": 30,
    "start_time": "2022-07-07T11:07:34.947Z"
   },
   {
    "duration": 6,
    "start_time": "2022-07-07T11:07:34.979Z"
   },
   {
    "duration": 33,
    "start_time": "2022-07-07T11:07:34.988Z"
   },
   {
    "duration": 24,
    "start_time": "2022-07-07T11:08:02.439Z"
   },
   {
    "duration": 5,
    "start_time": "2022-07-07T11:08:48.131Z"
   },
   {
    "duration": 5,
    "start_time": "2022-07-07T11:09:03.242Z"
   },
   {
    "duration": 4,
    "start_time": "2022-07-07T11:09:11.178Z"
   },
   {
    "duration": 5,
    "start_time": "2022-07-07T11:09:18.652Z"
   },
   {
    "duration": 40,
    "start_time": "2022-07-07T11:10:00.582Z"
   },
   {
    "duration": 4,
    "start_time": "2022-07-07T11:10:09.131Z"
   },
   {
    "duration": 111,
    "start_time": "2022-07-07T11:13:44.289Z"
   },
   {
    "duration": 224,
    "start_time": "2022-07-07T11:14:21.840Z"
   },
   {
    "duration": 119,
    "start_time": "2022-07-07T11:14:44.586Z"
   },
   {
    "duration": 101,
    "start_time": "2022-07-07T11:14:49.237Z"
   },
   {
    "duration": 113,
    "start_time": "2022-07-07T11:16:04.238Z"
   },
   {
    "duration": 108,
    "start_time": "2022-07-07T11:16:45.784Z"
   },
   {
    "duration": 3,
    "start_time": "2022-07-07T11:17:55.136Z"
   },
   {
    "duration": 6,
    "start_time": "2022-07-07T11:19:05.546Z"
   },
   {
    "duration": 8,
    "start_time": "2022-07-07T11:20:55.388Z"
   },
   {
    "duration": 10,
    "start_time": "2022-07-07T11:21:01.735Z"
   },
   {
    "duration": 7,
    "start_time": "2022-07-07T11:21:04.822Z"
   },
   {
    "duration": 4,
    "start_time": "2022-07-07T11:21:26.053Z"
   },
   {
    "duration": 871,
    "start_time": "2022-07-07T11:21:26.059Z"
   },
   {
    "duration": 38,
    "start_time": "2022-07-07T11:21:26.932Z"
   },
   {
    "duration": 55,
    "start_time": "2022-07-07T11:21:26.971Z"
   },
   {
    "duration": 76,
    "start_time": "2022-07-07T11:21:27.028Z"
   },
   {
    "duration": 6,
    "start_time": "2022-07-07T11:21:27.107Z"
   },
   {
    "duration": 16,
    "start_time": "2022-07-07T11:21:27.114Z"
   },
   {
    "duration": 18,
    "start_time": "2022-07-07T11:21:27.132Z"
   },
   {
    "duration": 13,
    "start_time": "2022-07-07T11:21:27.152Z"
   },
   {
    "duration": 40,
    "start_time": "2022-07-07T11:21:27.166Z"
   },
   {
    "duration": 9,
    "start_time": "2022-07-07T11:21:27.209Z"
   },
   {
    "duration": 4,
    "start_time": "2022-07-07T11:21:27.220Z"
   },
   {
    "duration": 6,
    "start_time": "2022-07-07T11:21:27.226Z"
   },
   {
    "duration": 6,
    "start_time": "2022-07-07T11:21:27.234Z"
   },
   {
    "duration": 169,
    "start_time": "2022-07-07T11:21:27.241Z"
   },
   {
    "duration": 1296,
    "start_time": "2022-07-07T11:33:53.953Z"
   },
   {
    "duration": 686,
    "start_time": "2022-07-07T11:33:55.251Z"
   },
   {
    "duration": 39,
    "start_time": "2022-07-07T11:33:55.939Z"
   },
   {
    "duration": 45,
    "start_time": "2022-07-07T11:33:55.979Z"
   },
   {
    "duration": 32,
    "start_time": "2022-07-07T11:33:56.026Z"
   },
   {
    "duration": 3,
    "start_time": "2022-07-07T11:33:56.060Z"
   },
   {
    "duration": 10,
    "start_time": "2022-07-07T11:33:56.064Z"
   },
   {
    "duration": 39,
    "start_time": "2022-07-07T11:33:56.075Z"
   },
   {
    "duration": 8,
    "start_time": "2022-07-07T11:33:56.115Z"
   },
   {
    "duration": 25,
    "start_time": "2022-07-07T11:33:56.124Z"
   },
   {
    "duration": 9,
    "start_time": "2022-07-07T11:33:56.151Z"
   },
   {
    "duration": 5,
    "start_time": "2022-07-07T11:33:56.161Z"
   },
   {
    "duration": 42,
    "start_time": "2022-07-07T11:33:56.167Z"
   },
   {
    "duration": 6,
    "start_time": "2022-07-07T11:33:56.211Z"
   },
   {
    "duration": 116,
    "start_time": "2022-07-07T11:33:56.218Z"
   },
   {
    "duration": 5,
    "start_time": "2022-07-07T11:50:55.550Z"
   },
   {
    "duration": 107,
    "start_time": "2022-07-07T11:51:01.871Z"
   },
   {
    "duration": 5,
    "start_time": "2022-07-07T11:51:04.389Z"
   },
   {
    "duration": 13,
    "start_time": "2022-07-07T11:51:19.048Z"
   },
   {
    "duration": 15,
    "start_time": "2022-07-07T11:52:54.588Z"
   },
   {
    "duration": 3,
    "start_time": "2022-07-07T12:10:22.594Z"
   },
   {
    "duration": 3,
    "start_time": "2022-07-07T12:11:38.302Z"
   },
   {
    "duration": 272,
    "start_time": "2022-07-07T12:15:41.188Z"
   },
   {
    "duration": 2587,
    "start_time": "2022-07-07T12:15:59.788Z"
   },
   {
    "duration": 2680,
    "start_time": "2022-07-07T12:16:15.305Z"
   },
   {
    "duration": 2706,
    "start_time": "2022-07-07T12:16:24.963Z"
   },
   {
    "duration": 2614,
    "start_time": "2022-07-07T12:16:40.567Z"
   },
   {
    "duration": 2611,
    "start_time": "2022-07-07T12:16:50.652Z"
   },
   {
    "duration": 2472,
    "start_time": "2022-07-07T12:17:19.001Z"
   },
   {
    "duration": 2379,
    "start_time": "2022-07-07T12:17:51.770Z"
   },
   {
    "duration": 2678,
    "start_time": "2022-07-07T12:18:07.174Z"
   },
   {
    "duration": 2404,
    "start_time": "2022-07-07T12:18:15.072Z"
   },
   {
    "duration": 2585,
    "start_time": "2022-07-07T12:18:23.871Z"
   },
   {
    "duration": 2406,
    "start_time": "2022-07-07T12:18:36.063Z"
   },
   {
    "duration": 2257,
    "start_time": "2022-07-07T12:19:05.695Z"
   },
   {
    "duration": 2503,
    "start_time": "2022-07-07T12:19:24.733Z"
   },
   {
    "duration": 3,
    "start_time": "2022-07-07T12:21:55.148Z"
   },
   {
    "duration": 2369,
    "start_time": "2022-07-07T12:21:56.069Z"
   },
   {
    "duration": 1102,
    "start_time": "2022-07-07T12:22:54.840Z"
   },
   {
    "duration": 1182,
    "start_time": "2022-07-07T12:23:11.177Z"
   },
   {
    "duration": 2469,
    "start_time": "2022-07-07T12:23:31.272Z"
   },
   {
    "duration": 1090,
    "start_time": "2022-07-07T12:25:16.739Z"
   },
   {
    "duration": 2722,
    "start_time": "2022-07-07T12:26:31.732Z"
   },
   {
    "duration": 2579,
    "start_time": "2022-07-07T12:26:39.583Z"
   },
   {
    "duration": 2456,
    "start_time": "2022-07-07T12:27:01.620Z"
   },
   {
    "duration": 2531,
    "start_time": "2022-07-07T12:27:23.431Z"
   },
   {
    "duration": 2644,
    "start_time": "2022-07-07T12:28:09.805Z"
   },
   {
    "duration": 2310,
    "start_time": "2022-07-07T12:28:16.767Z"
   },
   {
    "duration": 2249,
    "start_time": "2022-07-07T12:28:24.464Z"
   },
   {
    "duration": 2394,
    "start_time": "2022-07-07T12:28:32.369Z"
   },
   {
    "duration": 2258,
    "start_time": "2022-07-07T12:28:50.231Z"
   },
   {
    "duration": 2564,
    "start_time": "2022-07-07T12:29:27.040Z"
   },
   {
    "duration": 2341,
    "start_time": "2022-07-07T12:29:38.076Z"
   },
   {
    "duration": 261,
    "start_time": "2022-07-07T12:31:40.832Z"
   },
   {
    "duration": 454,
    "start_time": "2022-07-07T12:31:56.175Z"
   },
   {
    "duration": 348,
    "start_time": "2022-07-07T12:33:25.099Z"
   },
   {
    "duration": 75,
    "start_time": "2022-07-07T13:51:35.505Z"
   },
   {
    "duration": 101,
    "start_time": "2022-07-07T13:51:45.692Z"
   },
   {
    "duration": 272,
    "start_time": "2022-07-07T13:51:51.525Z"
   },
   {
    "duration": 287,
    "start_time": "2022-07-07T13:52:12.047Z"
   },
   {
    "duration": 1567,
    "start_time": "2022-07-07T13:52:33.053Z"
   },
   {
    "duration": 276,
    "start_time": "2022-07-07T13:53:01.086Z"
   },
   {
    "duration": 2417,
    "start_time": "2022-07-07T14:01:24.074Z"
   },
   {
    "duration": 2543,
    "start_time": "2022-07-07T14:02:15.154Z"
   },
   {
    "duration": 2519,
    "start_time": "2022-07-07T14:06:54.665Z"
   },
   {
    "duration": 157,
    "start_time": "2022-07-07T14:18:12.069Z"
   },
   {
    "duration": 362,
    "start_time": "2022-07-07T14:18:36.182Z"
   },
   {
    "duration": 299,
    "start_time": "2022-07-07T14:18:48.335Z"
   },
   {
    "duration": 370,
    "start_time": "2022-07-07T14:19:03.558Z"
   },
   {
    "duration": 343,
    "start_time": "2022-07-07T14:19:20.438Z"
   },
   {
    "duration": 486,
    "start_time": "2022-07-07T14:21:56.461Z"
   },
   {
    "duration": 402,
    "start_time": "2022-07-07T14:22:22.094Z"
   },
   {
    "duration": 407,
    "start_time": "2022-07-07T14:22:28.301Z"
   },
   {
    "duration": 397,
    "start_time": "2022-07-07T14:22:39.182Z"
   },
   {
    "duration": 121,
    "start_time": "2022-07-07T14:23:49.251Z"
   },
   {
    "duration": 111,
    "start_time": "2022-07-07T14:23:51.044Z"
   },
   {
    "duration": 89,
    "start_time": "2022-07-07T14:33:55.369Z"
   },
   {
    "duration": 43,
    "start_time": "2022-07-07T14:34:00.034Z"
   },
   {
    "duration": 445,
    "start_time": "2022-07-07T14:41:33.869Z"
   },
   {
    "duration": 403,
    "start_time": "2022-07-07T14:41:51.311Z"
   },
   {
    "duration": 431,
    "start_time": "2022-07-07T14:42:01.079Z"
   },
   {
    "duration": 121,
    "start_time": "2022-07-07T14:51:48.580Z"
   },
   {
    "duration": 2,
    "start_time": "2022-07-07T14:51:53.404Z"
   },
   {
    "duration": 1398,
    "start_time": "2022-07-07T14:51:54.738Z"
   },
   {
    "duration": 73,
    "start_time": "2022-07-07T14:52:29.308Z"
   },
   {
    "duration": 1399,
    "start_time": "2022-07-07T14:52:33.627Z"
   },
   {
    "duration": 1880,
    "start_time": "2022-07-07T14:53:07.365Z"
   },
   {
    "duration": 231,
    "start_time": "2022-07-07T14:54:04.422Z"
   },
   {
    "duration": 213,
    "start_time": "2022-07-07T14:54:20.116Z"
   },
   {
    "duration": 1745,
    "start_time": "2022-07-07T14:54:31.028Z"
   },
   {
    "duration": 3,
    "start_time": "2022-07-07T14:56:47.416Z"
   },
   {
    "duration": 1748,
    "start_time": "2022-07-07T14:56:48.617Z"
   },
   {
    "duration": 3,
    "start_time": "2022-07-07T14:56:59.882Z"
   },
   {
    "duration": 2450,
    "start_time": "2022-07-07T14:59:05.058Z"
   },
   {
    "duration": 2436,
    "start_time": "2022-07-07T14:59:47.361Z"
   },
   {
    "duration": 2362,
    "start_time": "2022-07-07T15:00:06.464Z"
   },
   {
    "duration": 2565,
    "start_time": "2022-07-07T15:00:14.304Z"
   },
   {
    "duration": 2458,
    "start_time": "2022-07-07T15:00:19.162Z"
   },
   {
    "duration": 2561,
    "start_time": "2022-07-07T15:00:38.385Z"
   },
   {
    "duration": 2323,
    "start_time": "2022-07-07T15:00:50.688Z"
   },
   {
    "duration": 2158,
    "start_time": "2022-07-07T15:01:06.961Z"
   },
   {
    "duration": 360,
    "start_time": "2022-07-07T15:01:16.808Z"
   },
   {
    "duration": 2267,
    "start_time": "2022-07-07T15:01:23.818Z"
   },
   {
    "duration": 2079,
    "start_time": "2022-07-07T15:01:33.215Z"
   },
   {
    "duration": 2362,
    "start_time": "2022-07-07T15:01:39.956Z"
   },
   {
    "duration": 2386,
    "start_time": "2022-07-07T15:02:23.252Z"
   },
   {
    "duration": 2529,
    "start_time": "2022-07-07T15:03:33.087Z"
   },
   {
    "duration": 2216,
    "start_time": "2022-07-07T15:04:26.388Z"
   },
   {
    "duration": 2126,
    "start_time": "2022-07-07T15:04:36.678Z"
   },
   {
    "duration": 2126,
    "start_time": "2022-07-07T15:04:44.799Z"
   },
   {
    "duration": 2216,
    "start_time": "2022-07-07T15:04:53.319Z"
   },
   {
    "duration": 2510,
    "start_time": "2022-07-07T15:04:57.383Z"
   },
   {
    "duration": 2247,
    "start_time": "2022-07-07T15:05:46.470Z"
   },
   {
    "duration": 2326,
    "start_time": "2022-07-07T15:06:30.694Z"
   },
   {
    "duration": 2050,
    "start_time": "2022-07-07T15:06:53.355Z"
   },
   {
    "duration": 2318,
    "start_time": "2022-07-07T15:07:45.201Z"
   },
   {
    "duration": 1908,
    "start_time": "2022-07-07T15:08:03.301Z"
   },
   {
    "duration": 2205,
    "start_time": "2022-07-07T15:08:06.926Z"
   },
   {
    "duration": 2043,
    "start_time": "2022-07-07T15:08:16.855Z"
   },
   {
    "duration": 2146,
    "start_time": "2022-07-07T15:11:23.456Z"
   },
   {
    "duration": 2481,
    "start_time": "2022-07-07T15:11:34.276Z"
   },
   {
    "duration": 2061,
    "start_time": "2022-07-07T15:12:17.524Z"
   },
   {
    "duration": 2011,
    "start_time": "2022-07-07T15:12:42.781Z"
   },
   {
    "duration": 2088,
    "start_time": "2022-07-07T15:12:47.358Z"
   },
   {
    "duration": 2309,
    "start_time": "2022-07-07T15:17:22.096Z"
   },
   {
    "duration": 4,
    "start_time": "2022-07-07T15:22:26.166Z"
   },
   {
    "duration": 2260,
    "start_time": "2022-07-07T15:22:26.425Z"
   },
   {
    "duration": 2826,
    "start_time": "2022-07-07T15:22:56.963Z"
   },
   {
    "duration": 6,
    "start_time": "2022-07-07T15:36:37.947Z"
   },
   {
    "duration": 7,
    "start_time": "2022-07-07T15:37:17.342Z"
   },
   {
    "duration": 143,
    "start_time": "2022-07-07T15:38:53.738Z"
   },
   {
    "duration": 139,
    "start_time": "2022-07-07T15:39:11.997Z"
   },
   {
    "duration": 135,
    "start_time": "2022-07-07T15:39:31.013Z"
   },
   {
    "duration": 120,
    "start_time": "2022-07-07T15:39:37.362Z"
   },
   {
    "duration": 6,
    "start_time": "2022-07-07T15:39:39.292Z"
   },
   {
    "duration": 988,
    "start_time": "2022-07-07T15:39:40.188Z"
   },
   {
    "duration": 833,
    "start_time": "2022-07-07T15:39:47.396Z"
   },
   {
    "duration": 6,
    "start_time": "2022-07-07T15:43:02.899Z"
   },
   {
    "duration": 10,
    "start_time": "2022-07-07T15:43:32.475Z"
   },
   {
    "duration": 7,
    "start_time": "2022-07-07T15:44:18.966Z"
   },
   {
    "duration": 5,
    "start_time": "2022-07-07T15:44:32.063Z"
   },
   {
    "duration": 4,
    "start_time": "2022-07-07T15:44:36.523Z"
   },
   {
    "duration": 6,
    "start_time": "2022-07-07T15:45:26.186Z"
   },
   {
    "duration": 891,
    "start_time": "2022-07-07T15:45:28.913Z"
   },
   {
    "duration": 6,
    "start_time": "2022-07-07T15:45:47.690Z"
   },
   {
    "duration": 951,
    "start_time": "2022-07-07T15:45:48.164Z"
   },
   {
    "duration": 6,
    "start_time": "2022-07-07T15:46:00.194Z"
   },
   {
    "duration": 956,
    "start_time": "2022-07-07T15:46:03.985Z"
   },
   {
    "duration": 7,
    "start_time": "2022-07-07T15:46:26.593Z"
   },
   {
    "duration": 854,
    "start_time": "2022-07-07T15:46:27.673Z"
   },
   {
    "duration": 838,
    "start_time": "2022-07-07T15:46:33.089Z"
   },
   {
    "duration": 5,
    "start_time": "2022-07-07T15:46:35.193Z"
   },
   {
    "duration": 901,
    "start_time": "2022-07-07T15:46:36.913Z"
   },
   {
    "duration": 855,
    "start_time": "2022-07-07T15:46:52.473Z"
   },
   {
    "duration": 9,
    "start_time": "2022-07-07T15:56:13.087Z"
   },
   {
    "duration": 4,
    "start_time": "2022-07-07T16:06:11.435Z"
   },
   {
    "duration": 14,
    "start_time": "2022-07-07T16:06:18.122Z"
   },
   {
    "duration": 3,
    "start_time": "2022-07-07T16:06:31.196Z"
   },
   {
    "duration": 12,
    "start_time": "2022-07-07T16:16:53.069Z"
   },
   {
    "duration": 14,
    "start_time": "2022-07-07T16:17:05.448Z"
   },
   {
    "duration": 12,
    "start_time": "2022-07-07T16:17:22.303Z"
   },
   {
    "duration": 16,
    "start_time": "2022-07-07T16:18:56.698Z"
   },
   {
    "duration": 4,
    "start_time": "2022-07-07T16:18:59.277Z"
   },
   {
    "duration": 4,
    "start_time": "2022-07-07T16:18:59.633Z"
   },
   {
    "duration": 9,
    "start_time": "2022-07-07T16:19:00.300Z"
   },
   {
    "duration": 1504,
    "start_time": "2022-07-07T16:19:06.646Z"
   },
   {
    "duration": 730,
    "start_time": "2022-07-07T16:19:08.152Z"
   },
   {
    "duration": 58,
    "start_time": "2022-07-07T16:19:08.884Z"
   },
   {
    "duration": 36,
    "start_time": "2022-07-07T16:19:08.944Z"
   },
   {
    "duration": 60,
    "start_time": "2022-07-07T16:19:08.981Z"
   },
   {
    "duration": 4,
    "start_time": "2022-07-07T16:19:09.044Z"
   },
   {
    "duration": 18,
    "start_time": "2022-07-07T16:19:09.050Z"
   },
   {
    "duration": 19,
    "start_time": "2022-07-07T16:19:09.070Z"
   },
   {
    "duration": 13,
    "start_time": "2022-07-07T16:19:09.103Z"
   },
   {
    "duration": 28,
    "start_time": "2022-07-07T16:19:09.119Z"
   },
   {
    "duration": 9,
    "start_time": "2022-07-07T16:19:09.148Z"
   },
   {
    "duration": 6,
    "start_time": "2022-07-07T16:19:09.160Z"
   },
   {
    "duration": 12,
    "start_time": "2022-07-07T16:19:09.167Z"
   },
   {
    "duration": 26,
    "start_time": "2022-07-07T16:19:09.180Z"
   },
   {
    "duration": 121,
    "start_time": "2022-07-07T16:19:09.208Z"
   },
   {
    "duration": 3,
    "start_time": "2022-07-07T16:19:09.331Z"
   },
   {
    "duration": 2558,
    "start_time": "2022-07-07T16:19:09.335Z"
   },
   {
    "duration": 2435,
    "start_time": "2022-07-07T16:19:11.895Z"
   },
   {
    "duration": 527,
    "start_time": "2022-07-07T16:19:14.332Z"
   },
   {
    "duration": 144,
    "start_time": "2022-07-07T16:19:14.861Z"
   },
   {
    "duration": 126,
    "start_time": "2022-07-07T16:19:15.006Z"
   },
   {
    "duration": 4,
    "start_time": "2022-07-07T16:19:15.134Z"
   },
   {
    "duration": 2354,
    "start_time": "2022-07-07T16:19:15.139Z"
   },
   {
    "duration": 15,
    "start_time": "2022-07-07T16:19:17.494Z"
   },
   {
    "duration": 802,
    "start_time": "2022-07-07T16:19:17.510Z"
   },
   {
    "duration": 5,
    "start_time": "2022-07-07T16:19:18.314Z"
   },
   {
    "duration": 793,
    "start_time": "2022-07-07T16:19:18.321Z"
   },
   {
    "duration": 3,
    "start_time": "2022-07-07T16:19:19.118Z"
   },
   {
    "duration": 5,
    "start_time": "2022-07-07T16:19:19.123Z"
   },
   {
    "duration": 12,
    "start_time": "2022-07-07T16:19:19.130Z"
   },
   {
    "duration": 3,
    "start_time": "2022-07-07T16:27:46.207Z"
   },
   {
    "duration": 3,
    "start_time": "2022-07-07T16:27:46.683Z"
   },
   {
    "duration": 9,
    "start_time": "2022-07-07T16:29:02.784Z"
   },
   {
    "duration": 5,
    "start_time": "2022-07-07T16:31:32.907Z"
   },
   {
    "duration": 30,
    "start_time": "2022-07-07T16:32:31.115Z"
   },
   {
    "duration": 131,
    "start_time": "2022-07-07T16:34:53.229Z"
   },
   {
    "duration": 4,
    "start_time": "2022-07-07T16:35:17.386Z"
   },
   {
    "duration": 700,
    "start_time": "2022-07-07T16:35:17.392Z"
   },
   {
    "duration": 38,
    "start_time": "2022-07-07T16:35:18.094Z"
   },
   {
    "duration": 34,
    "start_time": "2022-07-07T16:35:18.135Z"
   },
   {
    "duration": 60,
    "start_time": "2022-07-07T16:35:18.171Z"
   },
   {
    "duration": 4,
    "start_time": "2022-07-07T16:35:18.232Z"
   },
   {
    "duration": 18,
    "start_time": "2022-07-07T16:35:18.237Z"
   },
   {
    "duration": 23,
    "start_time": "2022-07-07T16:35:18.257Z"
   },
   {
    "duration": 13,
    "start_time": "2022-07-07T16:35:18.282Z"
   },
   {
    "duration": 30,
    "start_time": "2022-07-07T16:35:18.296Z"
   },
   {
    "duration": 8,
    "start_time": "2022-07-07T16:35:18.328Z"
   },
   {
    "duration": 6,
    "start_time": "2022-07-07T16:35:18.338Z"
   },
   {
    "duration": 10,
    "start_time": "2022-07-07T16:35:18.345Z"
   },
   {
    "duration": 6,
    "start_time": "2022-07-07T16:35:18.357Z"
   },
   {
    "duration": 125,
    "start_time": "2022-07-07T16:35:18.365Z"
   },
   {
    "duration": 5,
    "start_time": "2022-07-07T16:35:18.491Z"
   },
   {
    "duration": 2476,
    "start_time": "2022-07-07T16:35:18.504Z"
   },
   {
    "duration": 2257,
    "start_time": "2022-07-07T16:35:20.982Z"
   },
   {
    "duration": 447,
    "start_time": "2022-07-07T16:35:23.241Z"
   },
   {
    "duration": 135,
    "start_time": "2022-07-07T16:35:23.690Z"
   },
   {
    "duration": 116,
    "start_time": "2022-07-07T16:35:23.826Z"
   },
   {
    "duration": 3,
    "start_time": "2022-07-07T16:35:23.944Z"
   },
   {
    "duration": 2576,
    "start_time": "2022-07-07T16:35:23.948Z"
   },
   {
    "duration": 10,
    "start_time": "2022-07-07T16:35:26.528Z"
   },
   {
    "duration": 886,
    "start_time": "2022-07-07T16:35:26.540Z"
   },
   {
    "duration": 7,
    "start_time": "2022-07-07T16:35:27.428Z"
   },
   {
    "duration": 901,
    "start_time": "2022-07-07T16:35:27.437Z"
   },
   {
    "duration": 3,
    "start_time": "2022-07-07T16:35:28.340Z"
   },
   {
    "duration": 12,
    "start_time": "2022-07-07T16:35:28.345Z"
   },
   {
    "duration": 11,
    "start_time": "2022-07-07T16:35:28.358Z"
   },
   {
    "duration": 33,
    "start_time": "2022-07-07T16:35:30.384Z"
   },
   {
    "duration": 19,
    "start_time": "2022-07-07T16:35:46.330Z"
   },
   {
    "duration": 3,
    "start_time": "2022-07-07T16:37:47.617Z"
   },
   {
    "duration": 4,
    "start_time": "2022-07-07T16:37:47.878Z"
   },
   {
    "duration": 10,
    "start_time": "2022-07-07T16:37:48.678Z"
   },
   {
    "duration": 23,
    "start_time": "2022-07-07T16:37:50.840Z"
   },
   {
    "duration": 1593,
    "start_time": "2022-07-07T16:44:59.814Z"
   },
   {
    "duration": 1186,
    "start_time": "2022-07-07T16:45:32.222Z"
   },
   {
    "duration": 2575,
    "start_time": "2022-07-07T16:46:16.036Z"
   },
   {
    "duration": 4198,
    "start_time": "2022-07-07T16:46:55.414Z"
   },
   {
    "duration": 4035,
    "start_time": "2022-07-07T16:47:07.884Z"
   },
   {
    "duration": 10,
    "start_time": "2022-07-07T16:49:31.133Z"
   },
   {
    "duration": 4,
    "start_time": "2022-07-07T16:49:49.877Z"
   },
   {
    "duration": 2398,
    "start_time": "2022-07-07T16:49:54.612Z"
   },
   {
    "duration": 3210,
    "start_time": "2022-07-07T16:55:32.201Z"
   },
   {
    "duration": 558072,
    "start_time": "2022-07-07T16:56:04.052Z"
   },
   {
    "duration": 4701,
    "start_time": "2022-07-07T17:08:32.221Z"
   },
   {
    "duration": 25826,
    "start_time": "2022-07-07T17:08:40.573Z"
   },
   {
    "duration": 6,
    "start_time": "2022-07-07T17:12:45.379Z"
   },
   {
    "duration": 2740,
    "start_time": "2022-07-07T17:15:01.270Z"
   },
   {
    "duration": 379233,
    "start_time": "2022-07-07T17:15:57.426Z"
   },
   {
    "duration": 60924,
    "start_time": "2022-07-07T17:23:39.896Z"
   },
   {
    "duration": 9339,
    "start_time": "2022-07-07T17:24:49.288Z"
   },
   {
    "duration": 3,
    "start_time": "2022-07-07T17:31:00.473Z"
   },
   {
    "duration": 4,
    "start_time": "2022-07-07T17:31:01.050Z"
   },
   {
    "duration": 122718,
    "start_time": "2022-07-07T17:31:06.011Z"
   },
   {
    "duration": 105,
    "start_time": "2022-07-07T17:34:17.177Z"
   },
   {
    "duration": 128647,
    "start_time": "2022-07-07T17:34:31.529Z"
   },
   {
    "duration": 154,
    "start_time": "2022-07-07T17:36:59.504Z"
   },
   {
    "duration": 6,
    "start_time": "2022-07-07T17:37:07.634Z"
   },
   {
    "duration": 8,
    "start_time": "2022-07-07T17:37:08.984Z"
   },
   {
    "duration": 4,
    "start_time": "2022-07-07T17:40:17.884Z"
   },
   {
    "duration": 10,
    "start_time": "2022-07-07T17:40:51.578Z"
   },
   {
    "duration": 6,
    "start_time": "2022-07-07T17:43:16.940Z"
   },
   {
    "duration": 11,
    "start_time": "2022-07-07T17:43:23.218Z"
   },
   {
    "duration": 9,
    "start_time": "2022-07-07T17:50:51.817Z"
   },
   {
    "duration": 11102,
    "start_time": "2022-07-07T17:51:02.810Z"
   },
   {
    "duration": 11157,
    "start_time": "2022-07-07T17:51:17.248Z"
   },
   {
    "duration": 10,
    "start_time": "2022-07-07T17:51:33.304Z"
   },
   {
    "duration": 1563,
    "start_time": "2022-07-07T18:15:00.309Z"
   },
   {
    "duration": 733,
    "start_time": "2022-07-07T18:15:01.875Z"
   },
   {
    "duration": 44,
    "start_time": "2022-07-07T18:15:02.610Z"
   },
   {
    "duration": 62,
    "start_time": "2022-07-07T18:15:02.656Z"
   },
   {
    "duration": 39,
    "start_time": "2022-07-07T18:15:02.720Z"
   },
   {
    "duration": 5,
    "start_time": "2022-07-07T18:15:02.762Z"
   },
   {
    "duration": 35,
    "start_time": "2022-07-07T18:15:02.769Z"
   },
   {
    "duration": 24,
    "start_time": "2022-07-07T18:15:02.807Z"
   },
   {
    "duration": 14,
    "start_time": "2022-07-07T18:15:02.834Z"
   },
   {
    "duration": 28,
    "start_time": "2022-07-07T18:15:02.853Z"
   },
   {
    "duration": 27,
    "start_time": "2022-07-07T18:15:02.882Z"
   },
   {
    "duration": 4,
    "start_time": "2022-07-07T18:15:02.911Z"
   },
   {
    "duration": 17,
    "start_time": "2022-07-07T18:15:02.917Z"
   },
   {
    "duration": 12,
    "start_time": "2022-07-07T18:15:02.936Z"
   },
   {
    "duration": 128,
    "start_time": "2022-07-07T18:15:02.950Z"
   },
   {
    "duration": 3,
    "start_time": "2022-07-07T18:15:03.080Z"
   },
   {
    "duration": 2556,
    "start_time": "2022-07-07T18:15:03.085Z"
   },
   {
    "duration": 2817,
    "start_time": "2022-07-07T18:15:05.643Z"
   },
   {
    "duration": 563,
    "start_time": "2022-07-07T18:15:08.462Z"
   },
   {
    "duration": 145,
    "start_time": "2022-07-07T18:15:09.027Z"
   },
   {
    "duration": 122,
    "start_time": "2022-07-07T18:15:09.174Z"
   },
   {
    "duration": 3,
    "start_time": "2022-07-07T18:15:09.305Z"
   },
   {
    "duration": 2185,
    "start_time": "2022-07-07T18:15:09.309Z"
   },
   {
    "duration": 13,
    "start_time": "2022-07-07T18:15:11.496Z"
   },
   {
    "duration": 1002,
    "start_time": "2022-07-07T18:15:11.512Z"
   },
   {
    "duration": 6,
    "start_time": "2022-07-07T18:15:12.516Z"
   },
   {
    "duration": 999,
    "start_time": "2022-07-07T18:15:12.524Z"
   },
   {
    "duration": 3,
    "start_time": "2022-07-07T18:15:13.526Z"
   },
   {
    "duration": 16,
    "start_time": "2022-07-07T18:15:13.531Z"
   },
   {
    "duration": 27,
    "start_time": "2022-07-07T18:15:13.549Z"
   },
   {
    "duration": 35,
    "start_time": "2022-07-07T18:15:13.578Z"
   },
   {
    "duration": 12998,
    "start_time": "2022-07-07T18:15:13.615Z"
   },
   {
    "duration": 12103,
    "start_time": "2022-07-07T18:15:26.615Z"
   },
   {
    "duration": 361,
    "start_time": "2022-07-07T18:15:38.805Z"
   },
   {
    "duration": 0,
    "start_time": "2022-07-07T18:15:39.168Z"
   },
   {
    "duration": 0,
    "start_time": "2022-07-07T18:15:39.169Z"
   },
   {
    "duration": 0,
    "start_time": "2022-07-07T18:15:39.170Z"
   },
   {
    "duration": 0,
    "start_time": "2022-07-07T18:15:39.172Z"
   },
   {
    "duration": 0,
    "start_time": "2022-07-07T18:15:39.173Z"
   },
   {
    "duration": 0,
    "start_time": "2022-07-07T18:15:39.175Z"
   },
   {
    "duration": 10,
    "start_time": "2022-07-07T18:17:57.900Z"
   },
   {
    "duration": 4918,
    "start_time": "2022-07-07T18:18:08.378Z"
   },
   {
    "duration": 1464,
    "start_time": "2022-07-07T18:18:24.145Z"
   },
   {
    "duration": 725,
    "start_time": "2022-07-07T18:18:25.612Z"
   },
   {
    "duration": 42,
    "start_time": "2022-07-07T18:18:26.339Z"
   },
   {
    "duration": 43,
    "start_time": "2022-07-07T18:18:26.383Z"
   },
   {
    "duration": 38,
    "start_time": "2022-07-07T18:18:26.428Z"
   },
   {
    "duration": 4,
    "start_time": "2022-07-07T18:18:26.468Z"
   },
   {
    "duration": 1565,
    "start_time": "2022-07-07T18:18:56.047Z"
   },
   {
    "duration": 724,
    "start_time": "2022-07-07T18:18:57.615Z"
   },
   {
    "duration": 44,
    "start_time": "2022-07-07T18:18:58.340Z"
   },
   {
    "duration": 43,
    "start_time": "2022-07-07T18:18:58.403Z"
   },
   {
    "duration": 69,
    "start_time": "2022-07-07T18:18:58.448Z"
   },
   {
    "duration": 5,
    "start_time": "2022-07-07T18:18:58.519Z"
   },
   {
    "duration": 6,
    "start_time": "2022-07-07T18:18:58.526Z"
   },
   {
    "duration": 19,
    "start_time": "2022-07-07T18:18:58.534Z"
   },
   {
    "duration": 12,
    "start_time": "2022-07-07T18:18:58.554Z"
   },
   {
    "duration": 62,
    "start_time": "2022-07-07T18:18:58.570Z"
   },
   {
    "duration": 12,
    "start_time": "2022-07-07T18:18:58.635Z"
   },
   {
    "duration": 7,
    "start_time": "2022-07-07T18:18:58.649Z"
   },
   {
    "duration": 10,
    "start_time": "2022-07-07T18:18:58.659Z"
   },
   {
    "duration": 5,
    "start_time": "2022-07-07T18:18:58.671Z"
   },
   {
    "duration": 165,
    "start_time": "2022-07-07T18:18:58.678Z"
   },
   {
    "duration": 4,
    "start_time": "2022-07-07T18:18:58.845Z"
   },
   {
    "duration": 3401,
    "start_time": "2022-07-07T18:18:58.852Z"
   },
   {
    "duration": 2578,
    "start_time": "2022-07-07T18:19:02.256Z"
   },
   {
    "duration": 688,
    "start_time": "2022-07-07T18:19:04.837Z"
   },
   {
    "duration": 154,
    "start_time": "2022-07-07T18:19:05.528Z"
   },
   {
    "duration": 130,
    "start_time": "2022-07-07T18:19:05.684Z"
   },
   {
    "duration": 4,
    "start_time": "2022-07-07T18:19:05.816Z"
   },
   {
    "duration": 2780,
    "start_time": "2022-07-07T18:19:05.822Z"
   },
   {
    "duration": 8,
    "start_time": "2022-07-07T18:19:08.604Z"
   },
   {
    "duration": 1102,
    "start_time": "2022-07-07T18:19:08.614Z"
   },
   {
    "duration": 8,
    "start_time": "2022-07-07T18:19:09.718Z"
   },
   {
    "duration": 1050,
    "start_time": "2022-07-07T18:19:09.729Z"
   },
   {
    "duration": 3,
    "start_time": "2022-07-07T18:19:10.782Z"
   },
   {
    "duration": 21,
    "start_time": "2022-07-07T18:19:10.788Z"
   },
   {
    "duration": 16,
    "start_time": "2022-07-07T18:19:10.811Z"
   },
   {
    "duration": 29,
    "start_time": "2022-07-07T18:19:10.829Z"
   },
   {
    "duration": 13146,
    "start_time": "2022-07-07T18:19:10.860Z"
   },
   {
    "duration": 13699,
    "start_time": "2022-07-07T18:19:24.008Z"
   },
   {
    "duration": 201,
    "start_time": "2022-07-07T18:19:37.709Z"
   },
   {
    "duration": 97,
    "start_time": "2022-07-07T18:19:37.912Z"
   },
   {
    "duration": 5,
    "start_time": "2022-07-07T18:19:38.011Z"
   },
   {
    "duration": 124607,
    "start_time": "2022-07-07T18:19:38.018Z"
   },
   {
    "duration": 156,
    "start_time": "2022-07-07T18:21:42.627Z"
   },
   {
    "duration": 5,
    "start_time": "2022-07-07T18:21:42.784Z"
   },
   {
    "duration": 22,
    "start_time": "2022-07-07T18:21:42.791Z"
   },
   {
    "duration": 2047,
    "start_time": "2022-07-08T04:35:53.630Z"
   },
   {
    "duration": 3571,
    "start_time": "2022-07-08T04:35:55.679Z"
   },
   {
    "duration": 44,
    "start_time": "2022-07-08T04:35:59.251Z"
   },
   {
    "duration": 32,
    "start_time": "2022-07-08T04:35:59.297Z"
   },
   {
    "duration": 38,
    "start_time": "2022-07-08T04:35:59.330Z"
   },
   {
    "duration": 4,
    "start_time": "2022-07-08T04:35:59.369Z"
   },
   {
    "duration": 3,
    "start_time": "2022-07-08T04:35:59.397Z"
   },
   {
    "duration": 14,
    "start_time": "2022-07-08T04:35:59.402Z"
   },
   {
    "duration": 1738,
    "start_time": "2022-07-08T08:19:42.693Z"
   },
   {
    "duration": 2543,
    "start_time": "2022-07-08T08:19:49.300Z"
   },
   {
    "duration": 467,
    "start_time": "2022-07-08T08:19:51.846Z"
   },
   {
    "duration": 143,
    "start_time": "2022-07-08T08:19:52.315Z"
   },
   {
    "duration": 126,
    "start_time": "2022-07-08T08:19:52.461Z"
   },
   {
    "duration": 3,
    "start_time": "2022-07-08T08:19:52.589Z"
   },
   {
    "duration": 2229,
    "start_time": "2022-07-08T08:19:52.594Z"
   },
   {
    "duration": 6,
    "start_time": "2022-07-08T08:19:54.826Z"
   },
   {
    "duration": 912,
    "start_time": "2022-07-08T08:19:54.834Z"
   },
   {
    "duration": 5,
    "start_time": "2022-07-08T08:19:55.748Z"
   },
   {
    "duration": 899,
    "start_time": "2022-07-08T08:19:55.755Z"
   },
   {
    "duration": 4,
    "start_time": "2022-07-08T08:19:56.658Z"
   },
   {
    "duration": 7,
    "start_time": "2022-07-08T08:19:56.663Z"
   },
   {
    "duration": 14,
    "start_time": "2022-07-08T08:19:56.673Z"
   },
   {
    "duration": 39,
    "start_time": "2022-07-08T08:19:56.690Z"
   },
   {
    "duration": 14294,
    "start_time": "2022-07-08T08:19:56.730Z"
   },
   {
    "duration": 12796,
    "start_time": "2022-07-08T08:20:11.027Z"
   },
   {
    "duration": 103,
    "start_time": "2022-07-08T08:20:23.825Z"
   },
   {
    "duration": 6,
    "start_time": "2022-07-08T08:20:23.931Z"
   },
   {
    "duration": 90,
    "start_time": "2022-07-08T08:20:23.938Z"
   },
   {
    "duration": 13533,
    "start_time": "2022-07-08T08:20:24.030Z"
   },
   {
    "duration": 0,
    "start_time": "2022-07-08T08:20:37.565Z"
   },
   {
    "duration": 0,
    "start_time": "2022-07-08T08:20:37.566Z"
   },
   {
    "duration": 0,
    "start_time": "2022-07-08T08:20:37.567Z"
   },
   {
    "duration": 1452,
    "start_time": "2022-07-08T08:23:41.195Z"
   },
   {
    "duration": 683,
    "start_time": "2022-07-08T08:23:42.650Z"
   },
   {
    "duration": 45,
    "start_time": "2022-07-08T08:23:43.335Z"
   },
   {
    "duration": 49,
    "start_time": "2022-07-08T08:23:43.382Z"
   },
   {
    "duration": 39,
    "start_time": "2022-07-08T08:23:43.434Z"
   },
   {
    "duration": 4,
    "start_time": "2022-07-08T08:23:43.475Z"
   },
   {
    "duration": 7,
    "start_time": "2022-07-08T08:23:43.480Z"
   },
   {
    "duration": 41,
    "start_time": "2022-07-08T08:23:43.489Z"
   },
   {
    "duration": 9,
    "start_time": "2022-07-08T08:23:43.532Z"
   },
   {
    "duration": 26,
    "start_time": "2022-07-08T08:23:43.544Z"
   },
   {
    "duration": 9,
    "start_time": "2022-07-08T08:23:43.572Z"
   },
   {
    "duration": 5,
    "start_time": "2022-07-08T08:23:43.582Z"
   },
   {
    "duration": 35,
    "start_time": "2022-07-08T08:23:43.589Z"
   },
   {
    "duration": 6,
    "start_time": "2022-07-08T08:23:43.625Z"
   },
   {
    "duration": 124,
    "start_time": "2022-07-08T08:23:43.633Z"
   },
   {
    "duration": 3,
    "start_time": "2022-07-08T08:23:43.759Z"
   },
   {
    "duration": 2627,
    "start_time": "2022-07-08T08:23:43.763Z"
   },
   {
    "duration": 2481,
    "start_time": "2022-07-08T08:23:46.392Z"
   },
   {
    "duration": 554,
    "start_time": "2022-07-08T08:23:48.876Z"
   },
   {
    "duration": 147,
    "start_time": "2022-07-08T08:23:49.433Z"
   },
   {
    "duration": 130,
    "start_time": "2022-07-08T08:23:49.582Z"
   },
   {
    "duration": 11,
    "start_time": "2022-07-08T08:23:49.714Z"
   },
   {
    "duration": 10526,
    "start_time": "2022-07-08T08:23:53.898Z"
   },
   {
    "duration": 10411,
    "start_time": "2022-07-08T08:24:04.427Z"
   },
   {
    "duration": 107,
    "start_time": "2022-07-08T08:24:14.923Z"
   },
   {
    "duration": 99,
    "start_time": "2022-07-08T08:24:15.033Z"
   },
   {
    "duration": 92,
    "start_time": "2022-07-08T08:24:15.134Z"
   },
   {
    "duration": 125677,
    "start_time": "2022-07-08T08:24:15.228Z"
   },
   {
    "duration": 163,
    "start_time": "2022-07-08T08:26:20.907Z"
   },
   {
    "duration": 5,
    "start_time": "2022-07-08T08:26:21.072Z"
   },
   {
    "duration": 12,
    "start_time": "2022-07-08T08:26:21.078Z"
   },
   {
    "duration": 126,
    "start_time": "2022-07-08T10:40:33.206Z"
   },
   {
    "duration": 13,
    "start_time": "2022-07-08T10:40:33.643Z"
   },
   {
    "duration": 11,
    "start_time": "2022-07-08T10:40:45.771Z"
   },
   {
    "duration": 4,
    "start_time": "2022-07-08T10:41:55.442Z"
   },
   {
    "duration": 710,
    "start_time": "2022-07-08T10:41:56.858Z"
   },
   {
    "duration": 1521,
    "start_time": "2022-07-08T10:42:02.248Z"
   },
   {
    "duration": 712,
    "start_time": "2022-07-08T10:42:03.771Z"
   },
   {
    "duration": 59,
    "start_time": "2022-07-08T10:42:04.485Z"
   },
   {
    "duration": 35,
    "start_time": "2022-07-08T10:42:04.547Z"
   },
   {
    "duration": 71,
    "start_time": "2022-07-08T10:42:04.584Z"
   },
   {
    "duration": 4,
    "start_time": "2022-07-08T10:42:04.657Z"
   },
   {
    "duration": 6,
    "start_time": "2022-07-08T10:42:04.662Z"
   },
   {
    "duration": 25,
    "start_time": "2022-07-08T10:42:04.669Z"
   },
   {
    "duration": 10,
    "start_time": "2022-07-08T10:42:04.695Z"
   },
   {
    "duration": 60,
    "start_time": "2022-07-08T10:42:04.708Z"
   },
   {
    "duration": 9,
    "start_time": "2022-07-08T10:42:04.770Z"
   },
   {
    "duration": 21,
    "start_time": "2022-07-08T10:42:04.780Z"
   },
   {
    "duration": 10,
    "start_time": "2022-07-08T10:42:04.803Z"
   },
   {
    "duration": 6,
    "start_time": "2022-07-08T10:42:04.815Z"
   },
   {
    "duration": 139,
    "start_time": "2022-07-08T10:42:04.823Z"
   },
   {
    "duration": 3,
    "start_time": "2022-07-08T10:42:04.965Z"
   },
   {
    "duration": 2528,
    "start_time": "2022-07-08T10:42:04.970Z"
   },
   {
    "duration": 2792,
    "start_time": "2022-07-08T10:42:07.499Z"
   },
   {
    "duration": 559,
    "start_time": "2022-07-08T10:42:10.294Z"
   },
   {
    "duration": 158,
    "start_time": "2022-07-08T10:42:10.856Z"
   },
   {
    "duration": 133,
    "start_time": "2022-07-08T10:42:11.017Z"
   },
   {
    "duration": 4,
    "start_time": "2022-07-08T10:42:11.152Z"
   },
   {
    "duration": 2482,
    "start_time": "2022-07-08T10:42:11.158Z"
   },
   {
    "duration": 7,
    "start_time": "2022-07-08T10:42:13.642Z"
   },
   {
    "duration": 1016,
    "start_time": "2022-07-08T10:42:13.651Z"
   },
   {
    "duration": 7,
    "start_time": "2022-07-08T10:42:14.668Z"
   },
   {
    "duration": 985,
    "start_time": "2022-07-08T10:42:14.676Z"
   },
   {
    "duration": 3,
    "start_time": "2022-07-08T10:42:15.666Z"
   },
   {
    "duration": 12,
    "start_time": "2022-07-08T10:42:15.671Z"
   },
   {
    "duration": 12,
    "start_time": "2022-07-08T10:42:15.685Z"
   },
   {
    "duration": 48,
    "start_time": "2022-07-08T10:42:15.699Z"
   },
   {
    "duration": 3,
    "start_time": "2022-07-08T10:42:15.749Z"
   },
   {
    "duration": 4,
    "start_time": "2022-07-08T10:42:15.754Z"
   },
   {
    "duration": 132,
    "start_time": "2022-07-08T10:42:15.760Z"
   },
   {
    "duration": 0,
    "start_time": "2022-07-08T10:42:15.894Z"
   },
   {
    "duration": 0,
    "start_time": "2022-07-08T10:42:15.896Z"
   },
   {
    "duration": 0,
    "start_time": "2022-07-08T10:42:15.897Z"
   },
   {
    "duration": 0,
    "start_time": "2022-07-08T10:42:15.899Z"
   },
   {
    "duration": 0,
    "start_time": "2022-07-08T10:42:15.901Z"
   },
   {
    "duration": 0,
    "start_time": "2022-07-08T10:42:15.902Z"
   },
   {
    "duration": 0,
    "start_time": "2022-07-08T10:42:15.904Z"
   },
   {
    "duration": 0,
    "start_time": "2022-07-08T10:42:15.923Z"
   },
   {
    "duration": 10,
    "start_time": "2022-07-08T10:42:41.010Z"
   },
   {
    "duration": 1458,
    "start_time": "2022-07-08T10:43:23.787Z"
   },
   {
    "duration": 2617,
    "start_time": "2022-07-08T10:43:25.323Z"
   },
   {
    "duration": 5,
    "start_time": "2022-07-08T10:43:58.690Z"
   },
   {
    "duration": 5,
    "start_time": "2022-07-08T10:44:03.806Z"
   },
   {
    "duration": 2184,
    "start_time": "2022-07-08T10:47:18.662Z"
   },
   {
    "duration": 1112,
    "start_time": "2022-07-08T10:50:03.512Z"
   },
   {
    "duration": 925,
    "start_time": "2022-07-08T10:50:06.405Z"
   },
   {
    "duration": 1536,
    "start_time": "2022-07-08T11:05:21.572Z"
   },
   {
    "duration": 740,
    "start_time": "2022-07-08T11:05:23.110Z"
   },
   {
    "duration": 46,
    "start_time": "2022-07-08T11:05:23.852Z"
   },
   {
    "duration": 56,
    "start_time": "2022-07-08T11:05:23.901Z"
   },
   {
    "duration": 74,
    "start_time": "2022-07-08T11:05:23.960Z"
   },
   {
    "duration": 6,
    "start_time": "2022-07-08T11:05:24.036Z"
   },
   {
    "duration": 8,
    "start_time": "2022-07-08T11:05:24.044Z"
   },
   {
    "duration": 20,
    "start_time": "2022-07-08T11:05:24.054Z"
   },
   {
    "duration": 10,
    "start_time": "2022-07-08T11:05:24.076Z"
   },
   {
    "duration": 46,
    "start_time": "2022-07-08T11:05:24.088Z"
   },
   {
    "duration": 11,
    "start_time": "2022-07-08T11:05:24.136Z"
   },
   {
    "duration": 15,
    "start_time": "2022-07-08T11:05:24.151Z"
   },
   {
    "duration": 16,
    "start_time": "2022-07-08T11:05:24.167Z"
   },
   {
    "duration": 9,
    "start_time": "2022-07-08T11:05:24.185Z"
   },
   {
    "duration": 183,
    "start_time": "2022-07-08T11:05:24.196Z"
   },
   {
    "duration": 4,
    "start_time": "2022-07-08T11:05:24.381Z"
   },
   {
    "duration": 3007,
    "start_time": "2022-07-08T11:05:24.387Z"
   },
   {
    "duration": 2789,
    "start_time": "2022-07-08T11:05:27.396Z"
   },
   {
    "duration": 552,
    "start_time": "2022-07-08T11:05:30.186Z"
   },
   {
    "duration": 149,
    "start_time": "2022-07-08T11:05:30.740Z"
   },
   {
    "duration": 144,
    "start_time": "2022-07-08T11:05:30.891Z"
   },
   {
    "duration": 4,
    "start_time": "2022-07-08T11:05:31.037Z"
   },
   {
    "duration": 2710,
    "start_time": "2022-07-08T11:05:31.043Z"
   },
   {
    "duration": 8,
    "start_time": "2022-07-08T11:05:33.755Z"
   },
   {
    "duration": 1112,
    "start_time": "2022-07-08T11:05:33.765Z"
   },
   {
    "duration": 6,
    "start_time": "2022-07-08T11:05:34.879Z"
   },
   {
    "duration": 1088,
    "start_time": "2022-07-08T11:05:34.887Z"
   },
   {
    "duration": 3,
    "start_time": "2022-07-08T11:05:35.979Z"
   },
   {
    "duration": 12,
    "start_time": "2022-07-08T11:05:35.984Z"
   },
   {
    "duration": 41,
    "start_time": "2022-07-08T11:05:35.998Z"
   },
   {
    "duration": 39,
    "start_time": "2022-07-08T11:05:36.041Z"
   },
   {
    "duration": 16370,
    "start_time": "2022-07-08T11:05:49.154Z"
   },
   {
    "duration": 102,
    "start_time": "2022-07-08T11:06:05.527Z"
   },
   {
    "duration": 88,
    "start_time": "2022-07-08T11:06:05.636Z"
   },
   {
    "duration": 14,
    "start_time": "2022-07-08T11:06:05.727Z"
   },
   {
    "duration": 11243,
    "start_time": "2022-07-08T11:06:05.744Z"
   },
   {
    "duration": 0,
    "start_time": "2022-07-08T11:06:16.990Z"
   },
   {
    "duration": 0,
    "start_time": "2022-07-08T11:06:16.991Z"
   },
   {
    "duration": 0,
    "start_time": "2022-07-08T11:06:16.992Z"
   },
   {
    "duration": 1435,
    "start_time": "2022-07-08T11:38:33.993Z"
   },
   {
    "duration": 667,
    "start_time": "2022-07-08T11:38:35.430Z"
   },
   {
    "duration": 49,
    "start_time": "2022-07-08T11:38:36.098Z"
   },
   {
    "duration": 32,
    "start_time": "2022-07-08T11:38:36.148Z"
   },
   {
    "duration": 73,
    "start_time": "2022-07-08T11:38:36.181Z"
   },
   {
    "duration": 5,
    "start_time": "2022-07-08T11:38:36.256Z"
   },
   {
    "duration": 18,
    "start_time": "2022-07-08T11:38:36.263Z"
   },
   {
    "duration": 35,
    "start_time": "2022-07-08T11:38:36.283Z"
   },
   {
    "duration": 11,
    "start_time": "2022-07-08T11:38:36.320Z"
   },
   {
    "duration": 48,
    "start_time": "2022-07-08T11:38:36.336Z"
   },
   {
    "duration": 13,
    "start_time": "2022-07-08T11:38:36.386Z"
   },
   {
    "duration": 15,
    "start_time": "2022-07-08T11:38:36.401Z"
   },
   {
    "duration": 23,
    "start_time": "2022-07-08T11:38:36.417Z"
   },
   {
    "duration": 29,
    "start_time": "2022-07-08T11:38:36.442Z"
   },
   {
    "duration": 132,
    "start_time": "2022-07-08T11:38:36.474Z"
   },
   {
    "duration": 4,
    "start_time": "2022-07-08T11:38:36.607Z"
   },
   {
    "duration": 2682,
    "start_time": "2022-07-08T11:38:36.612Z"
   },
   {
    "duration": 2650,
    "start_time": "2022-07-08T11:38:39.296Z"
   },
   {
    "duration": 479,
    "start_time": "2022-07-08T11:38:41.948Z"
   },
   {
    "duration": 152,
    "start_time": "2022-07-08T11:38:42.429Z"
   },
   {
    "duration": 146,
    "start_time": "2022-07-08T11:38:42.583Z"
   },
   {
    "duration": 4,
    "start_time": "2022-07-08T11:38:42.730Z"
   },
   {
    "duration": 2406,
    "start_time": "2022-07-08T11:38:42.736Z"
   },
   {
    "duration": 9,
    "start_time": "2022-07-08T11:38:45.144Z"
   },
   {
    "duration": 1123,
    "start_time": "2022-07-08T11:38:45.155Z"
   },
   {
    "duration": 7,
    "start_time": "2022-07-08T11:38:46.280Z"
   },
   {
    "duration": 975,
    "start_time": "2022-07-08T11:38:46.289Z"
   },
   {
    "duration": 3,
    "start_time": "2022-07-08T11:38:47.267Z"
   },
   {
    "duration": 6,
    "start_time": "2022-07-08T11:38:47.272Z"
   },
   {
    "duration": 10,
    "start_time": "2022-07-08T11:38:47.279Z"
   },
   {
    "duration": 37,
    "start_time": "2022-07-08T11:38:47.290Z"
   },
   {
    "duration": 12195,
    "start_time": "2022-07-08T11:38:47.333Z"
   },
   {
    "duration": 11810,
    "start_time": "2022-07-08T11:38:59.533Z"
   },
   {
    "duration": 180,
    "start_time": "2022-07-08T11:39:11.345Z"
   },
   {
    "duration": 14,
    "start_time": "2022-07-08T11:39:11.527Z"
   },
   {
    "duration": 7,
    "start_time": "2022-07-08T11:39:11.544Z"
   },
   {
    "duration": 131871,
    "start_time": "2022-07-08T11:39:11.553Z"
   },
   {
    "duration": 158,
    "start_time": "2022-07-08T11:41:23.426Z"
   },
   {
    "duration": 6,
    "start_time": "2022-07-08T11:41:23.586Z"
   },
   {
    "duration": 14,
    "start_time": "2022-07-08T11:41:23.594Z"
   },
   {
    "duration": 1641,
    "start_time": "2022-07-08T11:43:04.504Z"
   },
   {
    "duration": 794,
    "start_time": "2022-07-08T11:43:06.147Z"
   },
   {
    "duration": 62,
    "start_time": "2022-07-08T11:43:06.943Z"
   },
   {
    "duration": 51,
    "start_time": "2022-07-08T11:43:07.008Z"
   },
   {
    "duration": 71,
    "start_time": "2022-07-08T11:43:07.061Z"
   },
   {
    "duration": 6,
    "start_time": "2022-07-08T11:43:08.786Z"
   },
   {
    "duration": 9,
    "start_time": "2022-07-08T11:43:08.794Z"
   },
   {
    "duration": 15,
    "start_time": "2022-07-08T11:43:08.832Z"
   },
   {
    "duration": 11,
    "start_time": "2022-07-08T11:43:08.850Z"
   },
   {
    "duration": 42,
    "start_time": "2022-07-08T11:43:08.864Z"
   },
   {
    "duration": 20,
    "start_time": "2022-07-08T11:43:08.909Z"
   },
   {
    "duration": 6,
    "start_time": "2022-07-08T11:43:08.931Z"
   },
   {
    "duration": 38,
    "start_time": "2022-07-08T11:43:08.939Z"
   },
   {
    "duration": 5,
    "start_time": "2022-07-08T11:43:09.278Z"
   },
   {
    "duration": 142,
    "start_time": "2022-07-08T11:43:09.285Z"
   },
   {
    "duration": 4,
    "start_time": "2022-07-08T11:43:09.429Z"
   },
   {
    "duration": 2875,
    "start_time": "2022-07-08T11:43:09.435Z"
   },
   {
    "duration": 0,
    "start_time": "2022-07-08T11:43:12.313Z"
   },
   {
    "duration": 0,
    "start_time": "2022-07-08T11:43:12.313Z"
   },
   {
    "duration": 0,
    "start_time": "2022-07-08T11:43:12.314Z"
   },
   {
    "duration": 0,
    "start_time": "2022-07-08T11:43:38.161Z"
   },
   {
    "duration": 0,
    "start_time": "2022-07-08T11:43:38.162Z"
   },
   {
    "duration": 0,
    "start_time": "2022-07-08T11:43:38.164Z"
   },
   {
    "duration": 0,
    "start_time": "2022-07-08T11:43:38.164Z"
   },
   {
    "duration": 0,
    "start_time": "2022-07-08T11:43:38.166Z"
   },
   {
    "duration": 0,
    "start_time": "2022-07-08T11:43:38.167Z"
   },
   {
    "duration": 0,
    "start_time": "2022-07-08T11:43:38.169Z"
   },
   {
    "duration": 0,
    "start_time": "2022-07-08T11:43:38.171Z"
   },
   {
    "duration": 0,
    "start_time": "2022-07-08T11:43:38.172Z"
   },
   {
    "duration": 0,
    "start_time": "2022-07-08T11:43:38.175Z"
   },
   {
    "duration": 0,
    "start_time": "2022-07-08T11:43:38.176Z"
   },
   {
    "duration": 0,
    "start_time": "2022-07-08T11:43:38.178Z"
   },
   {
    "duration": 0,
    "start_time": "2022-07-08T11:43:38.180Z"
   },
   {
    "duration": 0,
    "start_time": "2022-07-08T11:43:38.224Z"
   },
   {
    "duration": 0,
    "start_time": "2022-07-08T11:43:38.226Z"
   },
   {
    "duration": 0,
    "start_time": "2022-07-08T11:43:38.227Z"
   },
   {
    "duration": 0,
    "start_time": "2022-07-08T11:43:38.230Z"
   },
   {
    "duration": 0,
    "start_time": "2022-07-08T11:43:38.231Z"
   },
   {
    "duration": 0,
    "start_time": "2022-07-08T11:43:38.232Z"
   },
   {
    "duration": 0,
    "start_time": "2022-07-08T11:43:38.234Z"
   },
   {
    "duration": 0,
    "start_time": "2022-07-08T11:43:38.235Z"
   },
   {
    "duration": 0,
    "start_time": "2022-07-08T11:43:38.237Z"
   },
   {
    "duration": 0,
    "start_time": "2022-07-08T11:43:38.239Z"
   },
   {
    "duration": 0,
    "start_time": "2022-07-08T11:43:38.240Z"
   },
   {
    "duration": 0,
    "start_time": "2022-07-08T11:43:38.241Z"
   },
   {
    "duration": 0,
    "start_time": "2022-07-08T11:43:38.243Z"
   },
   {
    "duration": 0,
    "start_time": "2022-07-08T11:43:38.244Z"
   },
   {
    "duration": 0,
    "start_time": "2022-07-08T11:43:38.246Z"
   },
   {
    "duration": 0,
    "start_time": "2022-07-08T11:43:38.247Z"
   },
   {
    "duration": 0,
    "start_time": "2022-07-08T11:43:38.248Z"
   },
   {
    "duration": 0,
    "start_time": "2022-07-08T11:43:38.250Z"
   },
   {
    "duration": 0,
    "start_time": "2022-07-08T11:43:38.251Z"
   },
   {
    "duration": 0,
    "start_time": "2022-07-08T11:43:38.253Z"
   },
   {
    "duration": 0,
    "start_time": "2022-07-08T11:43:38.255Z"
   },
   {
    "duration": 0,
    "start_time": "2022-07-08T11:43:38.256Z"
   },
   {
    "duration": 0,
    "start_time": "2022-07-08T11:43:38.257Z"
   },
   {
    "duration": 0,
    "start_time": "2022-07-08T11:43:38.259Z"
   },
   {
    "duration": 0,
    "start_time": "2022-07-08T11:43:38.261Z"
   },
   {
    "duration": 0,
    "start_time": "2022-07-08T11:43:38.322Z"
   },
   {
    "duration": 0,
    "start_time": "2022-07-08T11:43:38.325Z"
   },
   {
    "duration": 1583,
    "start_time": "2022-07-08T11:43:43.579Z"
   },
   {
    "duration": 698,
    "start_time": "2022-07-08T11:43:45.165Z"
   },
   {
    "duration": 60,
    "start_time": "2022-07-08T11:43:45.866Z"
   },
   {
    "duration": 36,
    "start_time": "2022-07-08T11:43:45.928Z"
   },
   {
    "duration": 69,
    "start_time": "2022-07-08T11:43:45.966Z"
   },
   {
    "duration": 4,
    "start_time": "2022-07-08T11:43:46.037Z"
   },
   {
    "duration": 7,
    "start_time": "2022-07-08T11:43:46.043Z"
   },
   {
    "duration": 19,
    "start_time": "2022-07-08T11:43:46.052Z"
   },
   {
    "duration": 9,
    "start_time": "2022-07-08T11:43:46.073Z"
   },
   {
    "duration": 52,
    "start_time": "2022-07-08T11:43:46.085Z"
   },
   {
    "duration": 9,
    "start_time": "2022-07-08T11:43:46.138Z"
   },
   {
    "duration": 4,
    "start_time": "2022-07-08T11:43:46.149Z"
   },
   {
    "duration": 7,
    "start_time": "2022-07-08T11:43:46.155Z"
   },
   {
    "duration": 6,
    "start_time": "2022-07-08T11:43:46.164Z"
   },
   {
    "duration": 143,
    "start_time": "2022-07-08T11:43:46.172Z"
   },
   {
    "duration": 8,
    "start_time": "2022-07-08T11:43:46.317Z"
   },
   {
    "duration": 2775,
    "start_time": "2022-07-08T11:43:46.327Z"
   },
   {
    "duration": 2360,
    "start_time": "2022-07-08T11:43:49.104Z"
   },
   {
    "duration": 458,
    "start_time": "2022-07-08T11:43:51.465Z"
   },
   {
    "duration": 153,
    "start_time": "2022-07-08T11:43:51.925Z"
   },
   {
    "duration": 144,
    "start_time": "2022-07-08T11:43:52.080Z"
   },
   {
    "duration": 3,
    "start_time": "2022-07-08T11:43:52.226Z"
   },
   {
    "duration": 2316,
    "start_time": "2022-07-08T11:43:52.231Z"
   },
   {
    "duration": 8,
    "start_time": "2022-07-08T11:43:54.549Z"
   },
   {
    "duration": 890,
    "start_time": "2022-07-08T11:43:54.559Z"
   },
   {
    "duration": 7,
    "start_time": "2022-07-08T11:43:55.451Z"
   },
   {
    "duration": 1100,
    "start_time": "2022-07-08T11:43:55.460Z"
   },
   {
    "duration": 3,
    "start_time": "2022-07-08T11:43:56.564Z"
   },
   {
    "duration": 6,
    "start_time": "2022-07-08T11:43:56.569Z"
   },
   {
    "duration": 12,
    "start_time": "2022-07-08T11:43:56.577Z"
   },
   {
    "duration": 45,
    "start_time": "2022-07-08T11:43:56.591Z"
   },
   {
    "duration": 12986,
    "start_time": "2022-07-08T11:43:56.639Z"
   },
   {
    "duration": 12497,
    "start_time": "2022-07-08T11:44:09.627Z"
   },
   {
    "duration": 200,
    "start_time": "2022-07-08T11:44:22.126Z"
   },
   {
    "duration": 4225869,
    "start_time": "2022-07-08T11:44:22.328Z"
   },
   {
    "duration": 0,
    "start_time": "2022-07-08T13:22:06.100Z"
   },
   {
    "duration": 4,
    "start_time": "2022-07-08T17:47:58.701Z"
   },
   {
    "duration": 770,
    "start_time": "2022-07-08T17:47:58.710Z"
   },
   {
    "duration": 41,
    "start_time": "2022-07-08T17:47:59.482Z"
   },
   {
    "duration": 35,
    "start_time": "2022-07-08T17:47:59.525Z"
   },
   {
    "duration": 69,
    "start_time": "2022-07-08T17:47:59.563Z"
   },
   {
    "duration": 4,
    "start_time": "2022-07-08T17:47:59.634Z"
   },
   {
    "duration": 5,
    "start_time": "2022-07-08T17:47:59.640Z"
   },
   {
    "duration": 14,
    "start_time": "2022-07-08T17:47:59.647Z"
   },
   {
    "duration": 37,
    "start_time": "2022-07-08T17:47:59.663Z"
   },
   {
    "duration": 27,
    "start_time": "2022-07-08T17:47:59.702Z"
   },
   {
    "duration": 10,
    "start_time": "2022-07-08T17:47:59.731Z"
   },
   {
    "duration": 5,
    "start_time": "2022-07-08T17:47:59.743Z"
   },
   {
    "duration": 8,
    "start_time": "2022-07-08T17:47:59.750Z"
   },
   {
    "duration": 6,
    "start_time": "2022-07-08T17:47:59.760Z"
   },
   {
    "duration": 154,
    "start_time": "2022-07-08T17:47:59.768Z"
   },
   {
    "duration": 4,
    "start_time": "2022-07-08T17:47:59.923Z"
   },
   {
    "duration": 2921,
    "start_time": "2022-07-08T17:47:59.929Z"
   },
   {
    "duration": 2679,
    "start_time": "2022-07-08T17:48:02.852Z"
   },
   {
    "duration": 582,
    "start_time": "2022-07-08T17:48:05.533Z"
   },
   {
    "duration": 148,
    "start_time": "2022-07-08T17:48:06.117Z"
   },
   {
    "duration": 139,
    "start_time": "2022-07-08T17:48:06.267Z"
   },
   {
    "duration": 3,
    "start_time": "2022-07-08T17:48:06.408Z"
   },
   {
    "duration": 2379,
    "start_time": "2022-07-08T17:48:06.413Z"
   },
   {
    "duration": 9,
    "start_time": "2022-07-08T17:48:08.795Z"
   },
   {
    "duration": 1014,
    "start_time": "2022-07-08T17:48:08.806Z"
   },
   {
    "duration": 6,
    "start_time": "2022-07-08T17:48:09.822Z"
   },
   {
    "duration": 1013,
    "start_time": "2022-07-08T17:48:09.830Z"
   },
   {
    "duration": 3,
    "start_time": "2022-07-08T17:48:10.846Z"
   },
   {
    "duration": 8,
    "start_time": "2022-07-08T17:48:10.852Z"
   },
   {
    "duration": 10,
    "start_time": "2022-07-08T17:48:10.862Z"
   },
   {
    "duration": 39,
    "start_time": "2022-07-08T17:48:10.874Z"
   },
   {
    "duration": 10792,
    "start_time": "2022-07-08T17:48:10.915Z"
   },
   {
    "duration": 10908,
    "start_time": "2022-07-08T17:48:21.799Z"
   },
   {
    "duration": 102,
    "start_time": "2022-07-08T17:48:32.799Z"
   },
   {
    "duration": 129900,
    "start_time": "2022-07-08T17:48:44.079Z"
   },
   {
    "duration": 162,
    "start_time": "2022-07-08T17:53:50.140Z"
   },
   {
    "duration": 5,
    "start_time": "2022-07-08T17:53:53.284Z"
   },
   {
    "duration": 9,
    "start_time": "2022-07-08T17:53:55.274Z"
   },
   {
    "duration": 36439,
    "start_time": "2022-07-08T17:54:09.331Z"
   },
   {
    "duration": 44,
    "start_time": "2022-07-08T17:55:25.388Z"
   }
  ],
  "kernelspec": {
   "display_name": "Python 3 (ipykernel)",
   "language": "python",
   "name": "python3"
  },
  "language_info": {
   "codemirror_mode": {
    "name": "ipython",
    "version": 3
   },
   "file_extension": ".py",
   "mimetype": "text/x-python",
   "name": "python",
   "nbconvert_exporter": "python",
   "pygments_lexer": "ipython3",
   "version": "3.9.12"
  },
  "toc": {
   "base_numbering": 1,
   "nav_menu": {},
   "number_sections": true,
   "sideBar": true,
   "skip_h1_title": true,
   "title_cell": "Содержание",
   "title_sidebar": "Contents",
   "toc_cell": true,
   "toc_position": {
    "height": "calc(100% - 180px)",
    "left": "10px",
    "top": "150px",
    "width": "165px"
   },
   "toc_section_display": true,
   "toc_window_display": false
  }
 },
 "nbformat": 4,
 "nbformat_minor": 2
}
