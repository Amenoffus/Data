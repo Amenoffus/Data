{
 "cells": [
  {
   "cell_type": "markdown",
   "metadata": {
    "toc": true
   },
   "source": [
    "<h1>Содержание<span class=\"tocSkip\"></span></h1>\n",
    "<div class=\"toc\"><ul class=\"toc-item\"><li><span><a href=\"#Подготовка\" data-toc-modified-id=\"Подготовка-1\"><span class=\"toc-item-num\">1&nbsp;&nbsp;</span>Подготовка</a></span></li><li><span><a href=\"#Лемматизация-и-регулляризация-признаков\" data-toc-modified-id=\"Лемматизация-и-регулляризация-признаков-2\"><span class=\"toc-item-num\">2&nbsp;&nbsp;</span>Лемматизация и регулляризация признаков</a></span></li><li><span><a href=\"#Обучение\" data-toc-modified-id=\"Обучение-3\"><span class=\"toc-item-num\">3&nbsp;&nbsp;</span>Обучение</a></span><ul class=\"toc-item\"><li><span><a href=\"#LogisticRegression\" data-toc-modified-id=\"LogisticRegression-3.1\"><span class=\"toc-item-num\">3.1&nbsp;&nbsp;</span>LogisticRegression</a></span></li><li><span><a href=\"#Random-Forest-Classifier\" data-toc-modified-id=\"Random-Forest-Classifier-3.2\"><span class=\"toc-item-num\">3.2&nbsp;&nbsp;</span>Random Forest Classifier</a></span></li></ul></li><li><span><a href=\"#Выводы\" data-toc-modified-id=\"Выводы-4\"><span class=\"toc-item-num\">4&nbsp;&nbsp;</span>Выводы</a></span></li><li><span><a href=\"#Чек-лист-проверки\" data-toc-modified-id=\"Чек-лист-проверки-5\"><span class=\"toc-item-num\">5&nbsp;&nbsp;</span>Чек-лист проверки</a></span></li></ul></div>"
   ]
  },
  {
   "cell_type": "markdown",
   "metadata": {},
   "source": [
    "# Проект для «Викишоп»"
   ]
  },
  {
   "cell_type": "markdown",
   "metadata": {},
   "source": [
    "Интернет-магазин «Викишоп» запускает новый сервис. Теперь пользователи могут редактировать и дополнять описания товаров, как в вики-сообществах. То есть клиенты предлагают свои правки и комментируют изменения других. Магазину нужен инструмент, который будет искать токсичные комментарии и отправлять их на модерацию. \n",
    "\n",
    "Обучите модель классифицировать комментарии на позитивные и негативные. В вашем распоряжении набор данных с разметкой о токсичности правок.\n",
    "\n",
    "Постройте модель со значением метрики качества *F1* не меньше 0.75. \n",
    "\n",
    "**Инструкция по выполнению проекта**\n",
    "\n",
    "1. Загрузите и подготовьте данные.\n",
    "2. Обучите разные модели. \n",
    "3. Сделайте выводы.\n",
    "\n",
    "Для выполнения проекта применять *BERT* необязательно, но вы можете попробовать.\n",
    "\n",
    "**Описание данных**\n",
    "\n",
    "Данные находятся в файле `toxic_comments.csv`. Столбец *text* в нём содержит текст комментария, а *toxic* — целевой признак."
   ]
  },
  {
   "cell_type": "markdown",
   "metadata": {},
   "source": [
    "## Подготовка"
   ]
  },
  {
   "cell_type": "code",
   "execution_count": 1,
   "metadata": {},
   "outputs": [],
   "source": [
    "import pandas as pd\n",
    "import numpy as np\n",
    "\n",
    "\n",
    "import torch\n",
    "import transformers\n",
    "\n",
    "import re\n",
    "import nltk\n",
    "from nltk.corpus import stopwords as nltk_stopwords\n",
    "from nltk.stem.snowball import EnglishStemmer\n",
    "from pymystem3 import Mystem\n",
    "\n",
    "\n",
    "from sklearn.feature_extraction.text import TfidfVectorizer, TfidfTransformer\n",
    "from sklearn.linear_model import LogisticRegression\n",
    "from sklearn.metrics import accuracy_score, f1_score\n",
    "from sklearn.model_selection import train_test_split, cross_val_score, GridSearchCV\n",
    "from sklearn.ensemble import RandomForestClassifier"
   ]
  },
  {
   "cell_type": "code",
   "execution_count": 2,
   "metadata": {},
   "outputs": [],
   "source": [
    "df = pd.read_csv('/datasets/toxic_comments.csv')"
   ]
  },
  {
   "cell_type": "code",
   "execution_count": 3,
   "metadata": {
    "scrolled": true
   },
   "outputs": [
    {
     "name": "stdout",
     "output_type": "stream",
     "text": [
      "<class 'pandas.core.frame.DataFrame'>\n",
      "RangeIndex: 159292 entries, 0 to 159291\n",
      "Data columns (total 3 columns):\n",
      " #   Column      Non-Null Count   Dtype \n",
      "---  ------      --------------   ----- \n",
      " 0   Unnamed: 0  159292 non-null  int64 \n",
      " 1   text        159292 non-null  object\n",
      " 2   toxic       159292 non-null  int64 \n",
      "dtypes: int64(2), object(1)\n",
      "memory usage: 3.6+ MB\n"
     ]
    }
   ],
   "source": [
    "df.info()"
   ]
  },
  {
   "cell_type": "code",
   "execution_count": 4,
   "metadata": {
    "scrolled": true
   },
   "outputs": [
    {
     "data": {
      "text/html": [
       "<div>\n",
       "<style scoped>\n",
       "    .dataframe tbody tr th:only-of-type {\n",
       "        vertical-align: middle;\n",
       "    }\n",
       "\n",
       "    .dataframe tbody tr th {\n",
       "        vertical-align: top;\n",
       "    }\n",
       "\n",
       "    .dataframe thead th {\n",
       "        text-align: right;\n",
       "    }\n",
       "</style>\n",
       "<table border=\"1\" class=\"dataframe\">\n",
       "  <thead>\n",
       "    <tr style=\"text-align: right;\">\n",
       "      <th></th>\n",
       "      <th>Unnamed: 0</th>\n",
       "      <th>text</th>\n",
       "      <th>toxic</th>\n",
       "    </tr>\n",
       "  </thead>\n",
       "  <tbody>\n",
       "    <tr>\n",
       "      <th>0</th>\n",
       "      <td>0</td>\n",
       "      <td>Explanation\\nWhy the edits made under my usern...</td>\n",
       "      <td>0</td>\n",
       "    </tr>\n",
       "    <tr>\n",
       "      <th>1</th>\n",
       "      <td>1</td>\n",
       "      <td>D'aww! He matches this background colour I'm s...</td>\n",
       "      <td>0</td>\n",
       "    </tr>\n",
       "    <tr>\n",
       "      <th>2</th>\n",
       "      <td>2</td>\n",
       "      <td>Hey man, I'm really not trying to edit war. It...</td>\n",
       "      <td>0</td>\n",
       "    </tr>\n",
       "    <tr>\n",
       "      <th>3</th>\n",
       "      <td>3</td>\n",
       "      <td>\"\\nMore\\nI can't make any real suggestions on ...</td>\n",
       "      <td>0</td>\n",
       "    </tr>\n",
       "    <tr>\n",
       "      <th>4</th>\n",
       "      <td>4</td>\n",
       "      <td>You, sir, are my hero. Any chance you remember...</td>\n",
       "      <td>0</td>\n",
       "    </tr>\n",
       "  </tbody>\n",
       "</table>\n",
       "</div>"
      ],
      "text/plain": [
       "   Unnamed: 0                                               text  toxic\n",
       "0           0  Explanation\\nWhy the edits made under my usern...      0\n",
       "1           1  D'aww! He matches this background colour I'm s...      0\n",
       "2           2  Hey man, I'm really not trying to edit war. It...      0\n",
       "3           3  \"\\nMore\\nI can't make any real suggestions on ...      0\n",
       "4           4  You, sir, are my hero. Any chance you remember...      0"
      ]
     },
     "execution_count": 4,
     "metadata": {},
     "output_type": "execute_result"
    }
   ],
   "source": [
    "df.head()"
   ]
  },
  {
   "cell_type": "code",
   "execution_count": 5,
   "metadata": {
    "scrolled": false
   },
   "outputs": [
    {
     "data": {
      "text/html": [
       "<div>\n",
       "<style scoped>\n",
       "    .dataframe tbody tr th:only-of-type {\n",
       "        vertical-align: middle;\n",
       "    }\n",
       "\n",
       "    .dataframe tbody tr th {\n",
       "        vertical-align: top;\n",
       "    }\n",
       "\n",
       "    .dataframe thead th {\n",
       "        text-align: right;\n",
       "    }\n",
       "</style>\n",
       "<table border=\"1\" class=\"dataframe\">\n",
       "  <thead>\n",
       "    <tr style=\"text-align: right;\">\n",
       "      <th></th>\n",
       "      <th>text</th>\n",
       "      <th>toxic</th>\n",
       "    </tr>\n",
       "  </thead>\n",
       "  <tbody>\n",
       "    <tr>\n",
       "      <th>0</th>\n",
       "      <td>Explanation\\nWhy the edits made under my usern...</td>\n",
       "      <td>0</td>\n",
       "    </tr>\n",
       "    <tr>\n",
       "      <th>1</th>\n",
       "      <td>D'aww! He matches this background colour I'm s...</td>\n",
       "      <td>0</td>\n",
       "    </tr>\n",
       "    <tr>\n",
       "      <th>2</th>\n",
       "      <td>Hey man, I'm really not trying to edit war. It...</td>\n",
       "      <td>0</td>\n",
       "    </tr>\n",
       "    <tr>\n",
       "      <th>3</th>\n",
       "      <td>\"\\nMore\\nI can't make any real suggestions on ...</td>\n",
       "      <td>0</td>\n",
       "    </tr>\n",
       "    <tr>\n",
       "      <th>4</th>\n",
       "      <td>You, sir, are my hero. Any chance you remember...</td>\n",
       "      <td>0</td>\n",
       "    </tr>\n",
       "  </tbody>\n",
       "</table>\n",
       "</div>"
      ],
      "text/plain": [
       "                                                text  toxic\n",
       "0  Explanation\\nWhy the edits made under my usern...      0\n",
       "1  D'aww! He matches this background colour I'm s...      0\n",
       "2  Hey man, I'm really not trying to edit war. It...      0\n",
       "3  \"\\nMore\\nI can't make any real suggestions on ...      0\n",
       "4  You, sir, are my hero. Any chance you remember...      0"
      ]
     },
     "execution_count": 5,
     "metadata": {},
     "output_type": "execute_result"
    }
   ],
   "source": [
    "df = df.drop('Unnamed: 0', axis=1)\n",
    "df.head()"
   ]
  },
  {
   "cell_type": "markdown",
   "metadata": {},
   "source": [
    "## Лемматизация и регулляризация признаков"
   ]
  },
  {
   "cell_type": "markdown",
   "metadata": {},
   "source": [
    "Разделим данные на обучающую и тестовую выборки."
   ]
  },
  {
   "cell_type": "code",
   "execution_count": 6,
   "metadata": {},
   "outputs": [],
   "source": [
    "X = df['text'].copy()\n",
    "y = df['toxic']"
   ]
  },
  {
   "cell_type": "code",
   "execution_count": 7,
   "metadata": {},
   "outputs": [],
   "source": [
    "X_train, X_test, y_train, y_test = train_test_split(\n",
    "    X,\n",
    "    y,\n",
    "    test_size=.2,\n",
    "    random_state=12345\n",
    ")"
   ]
  },
  {
   "cell_type": "code",
   "execution_count": 8,
   "metadata": {},
   "outputs": [],
   "source": [
    "def clear_text(text):\n",
    "    text = re.sub(r'[^a-zA-Z]', ' ', text) \n",
    "    row = \" \".join(text.split())\n",
    "    return row"
   ]
  },
  {
   "cell_type": "code",
   "execution_count": 9,
   "metadata": {
    "scrolled": true
   },
   "outputs": [],
   "source": [
    "X_train = X_train.values.astype('U')\n",
    "X_test = X_test.values.astype('U')"
   ]
  },
  {
   "cell_type": "code",
   "execution_count": 10,
   "metadata": {},
   "outputs": [],
   "source": [
    "for i in range(len(X_train)):\n",
    "    X_train[i] = clear_text(X_train[i])"
   ]
  },
  {
   "cell_type": "code",
   "execution_count": 11,
   "metadata": {},
   "outputs": [],
   "source": [
    "for i in range(len(X_test)):\n",
    "    X_test[i] = clear_text(X_test[i])"
   ]
  },
  {
   "cell_type": "code",
   "execution_count": 12,
   "metadata": {},
   "outputs": [],
   "source": [
    "stemmer = EnglishStemmer(ignore_stopwords=False)"
   ]
  },
  {
   "cell_type": "code",
   "execution_count": 13,
   "metadata": {},
   "outputs": [],
   "source": [
    "for i in range(len(X_train)):\n",
    "    word_list = nltk.word_tokenize(X_train[i])\n",
    "    X_train[i] = ' '.join([stemmer.stem(w) for w in word_list])"
   ]
  },
  {
   "cell_type": "code",
   "execution_count": 14,
   "metadata": {},
   "outputs": [],
   "source": [
    "for i in range(len(X_test)):\n",
    "    word_list = nltk.word_tokenize(X_test[i])\n",
    "    X_test[i] = ' '.join([stemmer.stem(w) for w in word_list])"
   ]
  },
  {
   "cell_type": "markdown",
   "metadata": {},
   "source": [
    "Загрузим базу стоп слов"
   ]
  },
  {
   "cell_type": "code",
   "execution_count": 15,
   "metadata": {},
   "outputs": [
    {
     "name": "stderr",
     "output_type": "stream",
     "text": [
      "[nltk_data] Downloading package stopwords to /home/jovyan/nltk_data...\n",
      "[nltk_data]   Package stopwords is already up-to-date!\n"
     ]
    }
   ],
   "source": [
    "nltk.download('stopwords')\n",
    "stopwords = set(nltk_stopwords.words('english'))"
   ]
  },
  {
   "cell_type": "markdown",
   "metadata": {},
   "source": [
    "Векторизуем данные с учетом стоп-слов. Применим метод fit к обычающей выборке, а затем метод transform к обучающему и тестовому набору данных."
   ]
  },
  {
   "cell_type": "code",
   "execution_count": 16,
   "metadata": {},
   "outputs": [],
   "source": [
    "count_tf_idf = TfidfVectorizer(stop_words=stopwords)\n",
    "tf_idf = count_tf_idf.fit(X_train)"
   ]
  },
  {
   "cell_type": "code",
   "execution_count": 17,
   "metadata": {},
   "outputs": [],
   "source": [
    "X_train = tf_idf.transform(X_train)\n",
    "\n",
    "X_test = tf_idf.transform(X_test)"
   ]
  },
  {
   "cell_type": "markdown",
   "metadata": {},
   "source": [
    "## Обучение"
   ]
  },
  {
   "cell_type": "markdown",
   "metadata": {},
   "source": [
    "### LogisticRegression"
   ]
  },
  {
   "cell_type": "code",
   "execution_count": 18,
   "metadata": {},
   "outputs": [],
   "source": [
    "model_line = LogisticRegression(\n",
    "    random_state=12345,\n",
    "    solver = 'liblinear',\n",
    "    class_weight='balanced'\n",
    ")\n",
    "model_line.fit(X_train, y_train)\n",
    "\n",
    "predict_line = model_line.predict(X_test)\n"
   ]
  },
  {
   "cell_type": "code",
   "execution_count": 19,
   "metadata": {},
   "outputs": [
    {
     "name": "stdout",
     "output_type": "stream",
     "text": [
      "F1-score LogisticRegression: 0.7538337368845842\n"
     ]
    }
   ],
   "source": [
    "print('F1-score LogisticRegression:',(f1_score(pd.Series(predict_line), y_test)))"
   ]
  },
  {
   "cell_type": "markdown",
   "metadata": {},
   "source": [
    "### Random Forest Classifier"
   ]
  },
  {
   "cell_type": "code",
   "execution_count": 20,
   "metadata": {
    "scrolled": true
   },
   "outputs": [],
   "source": [
    "# parameters = {\n",
    "#     'max_depth': [20, 25],\n",
    "#     'n_estimators': [150, 200]\n",
    "# }\n",
    "\n",
    "# model_forest = GridSearchCV(\n",
    "#     RandomForestClassifier(random_state=12345),\n",
    "#     parameters,\n",
    "#     cv=5,\n",
    "#     scoring='f1',\n",
    "#     n_jobs=-1,\n",
    "# )\n",
    "\n",
    "# model_forest.fit(X_train, y_train)\n",
    "\n",
    "# best_params = model_forest.best_params_\n",
    "\n",
    "# print(\"Лучшие параметры: \", model_forest.best_params_)\n",
    "# print(\"Лучшее занчение F1-score: \", model_forest.best_score_)"
   ]
  },
  {
   "cell_type": "code",
   "execution_count": 21,
   "metadata": {},
   "outputs": [],
   "source": [
    "model_forest = RandomForestClassifier(max_depth = 25, n_estimators=150,  class_weight='balanced', random_state=12345)\n",
    "\n",
    "model_forest.fit(X_train, y_train)\n",
    "\n",
    "predict_forest = model_forest.predict(X_test)"
   ]
  },
  {
   "cell_type": "code",
   "execution_count": 22,
   "metadata": {},
   "outputs": [
    {
     "name": "stdout",
     "output_type": "stream",
     "text": [
      "F1-score RandomForestClassifier: 0.4316790203029327\n"
     ]
    }
   ],
   "source": [
    "print('F1-score RandomForestClassifier:',(f1_score(pd.Series(predict_forest), y_test)))"
   ]
  },
  {
   "cell_type": "markdown",
   "metadata": {},
   "source": [
    "## Выводы"
   ]
  },
  {
   "cell_type": "markdown",
   "metadata": {},
   "source": [
    "- Данные успешно загружены\n",
    "- Проведена лемматизация и регулляризация текстов\n",
    "- Удалены стоп слова  \n",
    "- Корпус векторизован с помощью TfidfVectorizer\n",
    "- Построены модели LogisticRegression и RandomForestClassifier\n",
    "- F1-score достиг лучшего значения у LogisticRegression: 0.754"
   ]
  },
  {
   "cell_type": "markdown",
   "metadata": {},
   "source": [
    "## Чек-лист проверки"
   ]
  },
  {
   "cell_type": "markdown",
   "metadata": {},
   "source": [
    "- [x]  Jupyter Notebook открыт\n",
    "- [x]  Весь код выполняется без ошибок\n",
    "- [x]  Ячейки с кодом расположены в порядке исполнения\n",
    "- [x]  Данные загружены и подготовлены\n",
    "- [x]  Модели обучены\n",
    "- [x]  Значение метрики *F1* не меньше 0.75\n",
    "- [x]  Выводы написаны"
   ]
  }
 ],
 "metadata": {
  "ExecuteTimeLog": [
   {
    "duration": 52789,
    "start_time": "2022-08-27T17:27:15.391Z"
   },
   {
    "duration": 2134,
    "start_time": "2022-08-27T17:28:21.650Z"
   },
   {
    "duration": 15,
    "start_time": "2022-08-27T17:28:33.036Z"
   },
   {
    "duration": 30,
    "start_time": "2022-08-27T17:28:36.058Z"
   },
   {
    "duration": 9,
    "start_time": "2022-08-27T17:28:41.834Z"
   },
   {
    "duration": 16,
    "start_time": "2022-08-27T17:29:36.355Z"
   },
   {
    "duration": 3,
    "start_time": "2022-08-27T17:32:01.753Z"
   },
   {
    "duration": 291,
    "start_time": "2022-08-27T17:34:27.201Z"
   },
   {
    "duration": 15,
    "start_time": "2022-08-27T17:34:47.982Z"
   },
   {
    "duration": 31,
    "start_time": "2022-08-27T17:34:59.816Z"
   },
   {
    "duration": 2017,
    "start_time": "2022-08-27T17:36:26.760Z"
   },
   {
    "duration": 6,
    "start_time": "2022-08-27T17:44:54.896Z"
   },
   {
    "duration": 22,
    "start_time": "2022-08-27T17:46:21.098Z"
   },
   {
    "duration": 4,
    "start_time": "2022-08-27T17:46:30.506Z"
   },
   {
    "duration": 2231,
    "start_time": "2022-08-27T17:46:30.512Z"
   },
   {
    "duration": 31,
    "start_time": "2022-08-27T17:46:32.744Z"
   },
   {
    "duration": 10,
    "start_time": "2022-08-27T17:46:32.777Z"
   },
   {
    "duration": 24,
    "start_time": "2022-08-27T17:46:32.789Z"
   },
   {
    "duration": 3,
    "start_time": "2022-08-27T17:46:37.132Z"
   },
   {
    "duration": 3,
    "start_time": "2022-08-27T17:46:39.068Z"
   },
   {
    "duration": 3,
    "start_time": "2022-08-27T17:46:41.380Z"
   },
   {
    "duration": 22921,
    "start_time": "2022-08-27T17:49:04.343Z"
   },
   {
    "duration": 0,
    "start_time": "2022-08-27T17:49:27.266Z"
   },
   {
    "duration": 0,
    "start_time": "2022-08-27T17:49:27.267Z"
   },
   {
    "duration": 0,
    "start_time": "2022-08-27T17:49:27.269Z"
   },
   {
    "duration": 0,
    "start_time": "2022-08-27T17:49:27.270Z"
   },
   {
    "duration": 0,
    "start_time": "2022-08-27T17:49:27.284Z"
   },
   {
    "duration": 0,
    "start_time": "2022-08-27T17:49:27.285Z"
   },
   {
    "duration": 0,
    "start_time": "2022-08-27T17:49:27.286Z"
   },
   {
    "duration": 47891,
    "start_time": "2022-08-27T17:49:30.197Z"
   },
   {
    "duration": 2184,
    "start_time": "2022-08-27T17:50:29.443Z"
   },
   {
    "duration": 26,
    "start_time": "2022-08-27T17:50:31.629Z"
   },
   {
    "duration": 12,
    "start_time": "2022-08-27T17:50:37.427Z"
   },
   {
    "duration": 15,
    "start_time": "2022-08-27T17:50:38.603Z"
   },
   {
    "duration": 3,
    "start_time": "2022-08-27T17:50:41.354Z"
   },
   {
    "duration": 3,
    "start_time": "2022-08-27T17:50:42.003Z"
   },
   {
    "duration": 6,
    "start_time": "2022-08-27T17:50:43.828Z"
   },
   {
    "duration": 128,
    "start_time": "2022-08-27T17:56:53.381Z"
   },
   {
    "duration": 46982,
    "start_time": "2022-08-27T17:58:23.593Z"
   },
   {
    "duration": 0,
    "start_time": "2022-08-27T17:59:10.577Z"
   },
   {
    "duration": 4,
    "start_time": "2022-08-27T17:59:14.409Z"
   },
   {
    "duration": 16,
    "start_time": "2022-08-27T17:59:18.536Z"
   },
   {
    "duration": 5,
    "start_time": "2022-08-27T17:59:36.927Z"
   },
   {
    "duration": 176983,
    "start_time": "2022-08-27T17:59:38.247Z"
   },
   {
    "duration": 337,
    "start_time": "2022-08-27T18:03:04.495Z"
   },
   {
    "duration": 394,
    "start_time": "2022-08-27T18:03:06.933Z"
   },
   {
    "duration": 24,
    "start_time": "2022-08-27T18:03:20.270Z"
   },
   {
    "duration": 4,
    "start_time": "2022-08-27T18:03:28.942Z"
   },
   {
    "duration": 16,
    "start_time": "2022-08-27T18:03:43.597Z"
   },
   {
    "duration": 4,
    "start_time": "2022-08-27T18:18:12.009Z"
   },
   {
    "duration": 4,
    "start_time": "2022-08-27T18:18:56.368Z"
   },
   {
    "duration": 3,
    "start_time": "2022-08-27T18:19:04.266Z"
   },
   {
    "duration": 6,
    "start_time": "2022-08-27T18:20:58.320Z"
   },
   {
    "duration": 3,
    "start_time": "2022-08-27T18:21:30.152Z"
   },
   {
    "duration": 3,
    "start_time": "2022-08-27T18:21:30.568Z"
   },
   {
    "duration": 4,
    "start_time": "2022-08-27T18:21:31.703Z"
   },
   {
    "duration": 2560,
    "start_time": "2022-08-27T18:21:38.839Z"
   },
   {
    "duration": 6,
    "start_time": "2022-08-27T18:25:31.270Z"
   },
   {
    "duration": 4,
    "start_time": "2022-08-27T18:25:46.503Z"
   },
   {
    "duration": 4,
    "start_time": "2022-08-27T18:26:00.102Z"
   },
   {
    "duration": 18,
    "start_time": "2022-08-27T18:26:11.110Z"
   },
   {
    "duration": 15,
    "start_time": "2022-08-27T18:26:15.118Z"
   },
   {
    "duration": 4,
    "start_time": "2022-08-27T18:26:20.118Z"
   },
   {
    "duration": 5,
    "start_time": "2022-08-27T18:27:07.878Z"
   },
   {
    "duration": 5,
    "start_time": "2022-08-27T18:27:13.101Z"
   },
   {
    "duration": 3,
    "start_time": "2022-08-27T18:27:21.036Z"
   },
   {
    "duration": 697,
    "start_time": "2022-08-27T18:27:21.041Z"
   },
   {
    "duration": 29,
    "start_time": "2022-08-27T18:27:21.739Z"
   },
   {
    "duration": 17,
    "start_time": "2022-08-27T18:27:21.770Z"
   },
   {
    "duration": 15,
    "start_time": "2022-08-27T18:27:21.789Z"
   },
   {
    "duration": 3,
    "start_time": "2022-08-27T18:27:21.806Z"
   },
   {
    "duration": 5,
    "start_time": "2022-08-27T18:27:21.810Z"
   },
   {
    "duration": 10,
    "start_time": "2022-08-27T18:27:21.816Z"
   },
   {
    "duration": 8,
    "start_time": "2022-08-27T18:27:23.526Z"
   },
   {
    "duration": 6,
    "start_time": "2022-08-27T18:27:24.332Z"
   },
   {
    "duration": 121827,
    "start_time": "2022-08-27T18:27:31.358Z"
   },
   {
    "duration": 0,
    "start_time": "2022-08-27T18:29:33.187Z"
   },
   {
    "duration": 4770,
    "start_time": "2022-08-27T18:29:39.853Z"
   },
   {
    "duration": 5,
    "start_time": "2022-08-27T18:29:44.625Z"
   },
   {
    "duration": 5,
    "start_time": "2022-08-27T18:30:05.821Z"
   },
   {
    "duration": 5,
    "start_time": "2022-08-27T18:30:10.669Z"
   },
   {
    "duration": 4,
    "start_time": "2022-08-27T18:30:16.192Z"
   },
   {
    "duration": 695,
    "start_time": "2022-08-27T18:30:16.198Z"
   },
   {
    "duration": 27,
    "start_time": "2022-08-27T18:30:16.895Z"
   },
   {
    "duration": 7,
    "start_time": "2022-08-27T18:30:16.924Z"
   },
   {
    "duration": 16,
    "start_time": "2022-08-27T18:30:16.933Z"
   },
   {
    "duration": 5,
    "start_time": "2022-08-27T18:30:16.950Z"
   },
   {
    "duration": 29,
    "start_time": "2022-08-27T18:30:16.956Z"
   },
   {
    "duration": 6,
    "start_time": "2022-08-27T18:30:16.986Z"
   },
   {
    "duration": 8,
    "start_time": "2022-08-27T18:30:16.993Z"
   },
   {
    "duration": 4604,
    "start_time": "2022-08-27T18:30:17.002Z"
   },
   {
    "duration": 4,
    "start_time": "2022-08-27T18:30:25.308Z"
   },
   {
    "duration": 2,
    "start_time": "2022-08-27T18:30:42.509Z"
   },
   {
    "duration": 120200,
    "start_time": "2022-08-27T18:31:14.806Z"
   },
   {
    "duration": 5,
    "start_time": "2022-08-27T18:33:15.008Z"
   },
   {
    "duration": 45,
    "start_time": "2022-08-27T18:33:33.620Z"
   },
   {
    "duration": 6,
    "start_time": "2022-08-27T18:33:36.395Z"
   },
   {
    "duration": 5,
    "start_time": "2022-08-27T18:33:50.324Z"
   },
   {
    "duration": 6,
    "start_time": "2022-08-27T18:34:00.812Z"
   },
   {
    "duration": 4609,
    "start_time": "2022-08-27T19:02:14.568Z"
   },
   {
    "duration": 0,
    "start_time": "2022-08-27T19:02:19.179Z"
   },
   {
    "duration": 0,
    "start_time": "2022-08-27T19:02:19.181Z"
   },
   {
    "duration": 0,
    "start_time": "2022-08-27T19:02:19.182Z"
   },
   {
    "duration": 0,
    "start_time": "2022-08-27T19:02:19.183Z"
   },
   {
    "duration": 0,
    "start_time": "2022-08-27T19:02:19.185Z"
   },
   {
    "duration": 0,
    "start_time": "2022-08-27T19:02:19.188Z"
   },
   {
    "duration": 0,
    "start_time": "2022-08-27T19:02:19.189Z"
   },
   {
    "duration": 0,
    "start_time": "2022-08-27T19:02:19.190Z"
   },
   {
    "duration": 0,
    "start_time": "2022-08-27T19:02:19.194Z"
   },
   {
    "duration": 0,
    "start_time": "2022-08-27T19:02:19.195Z"
   },
   {
    "duration": 0,
    "start_time": "2022-08-27T19:02:19.196Z"
   },
   {
    "duration": 0,
    "start_time": "2022-08-27T19:02:19.197Z"
   },
   {
    "duration": 0,
    "start_time": "2022-08-27T19:02:19.197Z"
   },
   {
    "duration": 0,
    "start_time": "2022-08-27T19:02:19.198Z"
   },
   {
    "duration": 0,
    "start_time": "2022-08-27T19:02:19.199Z"
   },
   {
    "duration": 0,
    "start_time": "2022-08-27T19:02:19.202Z"
   },
   {
    "duration": 0,
    "start_time": "2022-08-27T19:02:19.203Z"
   },
   {
    "duration": 0,
    "start_time": "2022-08-27T19:02:19.204Z"
   },
   {
    "duration": 0,
    "start_time": "2022-08-27T19:02:19.204Z"
   },
   {
    "duration": 0,
    "start_time": "2022-08-27T19:02:19.205Z"
   },
   {
    "duration": 0,
    "start_time": "2022-08-27T19:02:19.209Z"
   },
   {
    "duration": 0,
    "start_time": "2022-08-27T19:02:19.210Z"
   },
   {
    "duration": 0,
    "start_time": "2022-08-27T19:02:19.210Z"
   },
   {
    "duration": 0,
    "start_time": "2022-08-27T19:02:19.211Z"
   },
   {
    "duration": 67415,
    "start_time": "2022-08-27T19:02:29.444Z"
   },
   {
    "duration": 2687,
    "start_time": "2022-08-27T19:03:36.861Z"
   },
   {
    "duration": 30,
    "start_time": "2022-08-27T19:03:39.550Z"
   },
   {
    "duration": 17,
    "start_time": "2022-08-27T19:03:39.582Z"
   },
   {
    "duration": 19,
    "start_time": "2022-08-27T19:03:39.601Z"
   },
   {
    "duration": 9,
    "start_time": "2022-08-27T19:03:39.622Z"
   },
   {
    "duration": 6,
    "start_time": "2022-08-27T19:03:39.632Z"
   },
   {
    "duration": 9,
    "start_time": "2022-08-27T19:03:39.639Z"
   },
   {
    "duration": 8,
    "start_time": "2022-08-27T19:03:39.649Z"
   },
   {
    "duration": 5847,
    "start_time": "2022-08-27T19:03:39.658Z"
   },
   {
    "duration": 5,
    "start_time": "2022-08-27T19:03:45.513Z"
   },
   {
    "duration": 4,
    "start_time": "2022-08-27T19:03:45.520Z"
   },
   {
    "duration": 148221,
    "start_time": "2022-08-27T19:03:45.526Z"
   },
   {
    "duration": 5,
    "start_time": "2022-08-27T19:06:13.749Z"
   },
   {
    "duration": 1926,
    "start_time": "2022-08-27T19:06:13.756Z"
   },
   {
    "duration": 331,
    "start_time": "2022-08-27T19:06:15.684Z"
   },
   {
    "duration": 0,
    "start_time": "2022-08-27T19:06:16.017Z"
   },
   {
    "duration": 0,
    "start_time": "2022-08-27T19:06:16.018Z"
   },
   {
    "duration": 0,
    "start_time": "2022-08-27T19:06:16.019Z"
   },
   {
    "duration": 0,
    "start_time": "2022-08-27T19:06:16.020Z"
   },
   {
    "duration": 0,
    "start_time": "2022-08-27T19:06:16.021Z"
   },
   {
    "duration": 0,
    "start_time": "2022-08-27T19:06:16.021Z"
   },
   {
    "duration": 0,
    "start_time": "2022-08-27T19:06:16.023Z"
   },
   {
    "duration": 0,
    "start_time": "2022-08-27T19:06:16.023Z"
   },
   {
    "duration": 0,
    "start_time": "2022-08-27T19:06:16.024Z"
   },
   {
    "duration": 4,
    "start_time": "2022-08-27T19:06:25.825Z"
   },
   {
    "duration": 5,
    "start_time": "2022-08-27T19:07:32.313Z"
   },
   {
    "duration": 67183,
    "start_time": "2022-08-27T19:07:43.256Z"
   },
   {
    "duration": 3010,
    "start_time": "2022-08-27T19:08:50.441Z"
   },
   {
    "duration": 31,
    "start_time": "2022-08-27T19:08:53.452Z"
   },
   {
    "duration": 14,
    "start_time": "2022-08-27T19:08:55.822Z"
   },
   {
    "duration": 29,
    "start_time": "2022-08-27T19:08:57.299Z"
   },
   {
    "duration": 3,
    "start_time": "2022-08-27T19:08:59.630Z"
   },
   {
    "duration": 3,
    "start_time": "2022-08-27T19:09:00.622Z"
   },
   {
    "duration": 7,
    "start_time": "2022-08-27T19:09:01.446Z"
   },
   {
    "duration": 6,
    "start_time": "2022-08-27T19:09:02.582Z"
   },
   {
    "duration": 1910,
    "start_time": "2022-08-27T19:09:03.913Z"
   },
   {
    "duration": 6585,
    "start_time": "2022-08-27T19:09:14.817Z"
   },
   {
    "duration": 346,
    "start_time": "2022-08-27T19:09:22.231Z"
   },
   {
    "duration": 11,
    "start_time": "2022-08-27T19:09:28.998Z"
   },
   {
    "duration": 682,
    "start_time": "2022-08-27T19:09:56.221Z"
   },
   {
    "duration": 3,
    "start_time": "2022-08-27T19:13:21.309Z"
   },
   {
    "duration": 57274,
    "start_time": "2022-08-27T19:14:49.823Z"
   },
   {
    "duration": 2671,
    "start_time": "2022-08-27T19:15:47.104Z"
   },
   {
    "duration": 35,
    "start_time": "2022-08-27T19:15:49.777Z"
   },
   {
    "duration": 14,
    "start_time": "2022-08-27T19:15:49.814Z"
   },
   {
    "duration": 13,
    "start_time": "2022-08-27T19:15:49.829Z"
   },
   {
    "duration": 3,
    "start_time": "2022-08-27T19:15:49.844Z"
   },
   {
    "duration": 10,
    "start_time": "2022-08-27T19:15:49.848Z"
   },
   {
    "duration": 4,
    "start_time": "2022-08-27T19:15:49.860Z"
   },
   {
    "duration": 1864,
    "start_time": "2022-08-27T19:15:49.866Z"
   },
   {
    "duration": 6194,
    "start_time": "2022-08-27T19:15:51.732Z"
   },
   {
    "duration": 2,
    "start_time": "2022-08-27T19:15:57.928Z"
   },
   {
    "duration": 5,
    "start_time": "2022-08-27T19:18:01.108Z"
   },
   {
    "duration": 756,
    "start_time": "2022-08-27T19:18:01.115Z"
   },
   {
    "duration": 41,
    "start_time": "2022-08-27T19:18:01.872Z"
   },
   {
    "duration": 15,
    "start_time": "2022-08-27T19:18:01.915Z"
   },
   {
    "duration": 23,
    "start_time": "2022-08-27T19:18:01.932Z"
   },
   {
    "duration": 162,
    "start_time": "2022-08-27T19:18:01.957Z"
   },
   {
    "duration": 37,
    "start_time": "2022-08-27T19:18:02.121Z"
   },
   {
    "duration": 3,
    "start_time": "2022-08-27T19:18:02.160Z"
   },
   {
    "duration": 1945,
    "start_time": "2022-08-27T19:18:02.164Z"
   },
   {
    "duration": 5058,
    "start_time": "2022-08-27T19:18:04.111Z"
   },
   {
    "duration": 1243,
    "start_time": "2022-08-27T19:18:09.171Z"
   },
   {
    "duration": 3,
    "start_time": "2022-08-27T19:18:10.416Z"
   },
   {
    "duration": 110514,
    "start_time": "2022-08-27T19:18:10.420Z"
   },
   {
    "duration": 27646,
    "start_time": "2022-08-27T19:20:00.936Z"
   },
   {
    "duration": 334,
    "start_time": "2022-08-27T19:20:28.589Z"
   },
   {
    "duration": 7189,
    "start_time": "2022-08-27T19:20:28.925Z"
   },
   {
    "duration": 8817,
    "start_time": "2022-08-27T19:22:55.363Z"
   },
   {
    "duration": 14257,
    "start_time": "2022-08-27T19:23:07.971Z"
   },
   {
    "duration": 53,
    "start_time": "2022-08-27T19:23:22.230Z"
   },
   {
    "duration": 47,
    "start_time": "2022-08-27T19:23:40.034Z"
   },
   {
    "duration": 12,
    "start_time": "2022-08-27T19:23:50.219Z"
   },
   {
    "duration": 12,
    "start_time": "2022-08-27T19:23:55.066Z"
   },
   {
    "duration": 1095815,
    "start_time": "2022-08-27T19:24:00.035Z"
   },
   {
    "duration": 11315,
    "start_time": "2022-08-27T19:43:01.269Z"
   },
   {
    "duration": 15080,
    "start_time": "2022-08-27T19:43:27.244Z"
   },
   {
    "duration": 48,
    "start_time": "2022-08-27T19:43:49.912Z"
   },
   {
    "duration": 52,
    "start_time": "2022-08-27T19:43:55.401Z"
   },
   {
    "duration": 25,
    "start_time": "2022-08-27T19:44:01.125Z"
   },
   {
    "duration": 63,
    "start_time": "2022-08-27T19:44:16.237Z"
   },
   {
    "duration": 12,
    "start_time": "2022-08-27T19:44:28.548Z"
   },
   {
    "duration": 76,
    "start_time": "2022-08-27T19:46:50.765Z"
   },
   {
    "duration": 55817,
    "start_time": "2022-08-27T19:48:22.942Z"
   },
   {
    "duration": 2546,
    "start_time": "2022-08-27T19:49:18.761Z"
   },
   {
    "duration": 30,
    "start_time": "2022-08-27T19:49:21.309Z"
   },
   {
    "duration": 12,
    "start_time": "2022-08-27T19:49:21.341Z"
   },
   {
    "duration": 13,
    "start_time": "2022-08-27T19:49:21.355Z"
   },
   {
    "duration": 8,
    "start_time": "2022-08-27T19:49:21.369Z"
   },
   {
    "duration": 42,
    "start_time": "2022-08-27T19:49:21.378Z"
   },
   {
    "duration": 4,
    "start_time": "2022-08-27T19:49:21.422Z"
   },
   {
    "duration": 1988,
    "start_time": "2022-08-27T19:49:21.427Z"
   },
   {
    "duration": 4960,
    "start_time": "2022-08-27T19:49:23.418Z"
   },
   {
    "duration": 1262,
    "start_time": "2022-08-27T19:49:28.379Z"
   },
   {
    "duration": 3,
    "start_time": "2022-08-27T19:49:29.643Z"
   },
   {
    "duration": 110847,
    "start_time": "2022-08-27T19:49:29.648Z"
   },
   {
    "duration": 27383,
    "start_time": "2022-08-27T19:51:20.497Z"
   },
   {
    "duration": 241,
    "start_time": "2022-08-27T19:51:47.882Z"
   },
   {
    "duration": 7186,
    "start_time": "2022-08-27T19:51:48.124Z"
   },
   {
    "duration": 8634,
    "start_time": "2022-08-27T19:51:55.314Z"
   },
   {
    "duration": 14047,
    "start_time": "2022-08-27T19:52:03.950Z"
   },
   {
    "duration": 17,
    "start_time": "2022-08-27T19:52:17.999Z"
   },
   {
    "duration": 8,
    "start_time": "2022-08-27T19:52:18.018Z"
   },
   {
    "duration": 22593,
    "start_time": "2022-08-27T19:52:18.027Z"
   },
   {
    "duration": 12,
    "start_time": "2022-08-27T19:52:40.622Z"
   }
  ],
  "kernelspec": {
   "display_name": "Python 3 (ipykernel)",
   "language": "python",
   "name": "python3"
  },
  "language_info": {
   "codemirror_mode": {
    "name": "ipython",
    "version": 3
   },
   "file_extension": ".py",
   "mimetype": "text/x-python",
   "name": "python",
   "nbconvert_exporter": "python",
   "pygments_lexer": "ipython3",
   "version": "3.9.12"
  },
  "toc": {
   "base_numbering": 1,
   "nav_menu": {},
   "number_sections": true,
   "sideBar": true,
   "skip_h1_title": true,
   "title_cell": "Содержание",
   "title_sidebar": "Contents",
   "toc_cell": true,
   "toc_position": {
    "height": "calc(100% - 180px)",
    "left": "10px",
    "top": "150px",
    "width": "302.391px"
   },
   "toc_section_display": true,
   "toc_window_display": false
  }
 },
 "nbformat": 4,
 "nbformat_minor": 2
}
