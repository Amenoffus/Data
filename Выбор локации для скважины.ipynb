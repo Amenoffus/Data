{
 "cells": [
  {
   "cell_type": "markdown",
   "metadata": {},
   "source": [
    "# Выбор локации для скважины"
   ]
  },
  {
   "cell_type": "markdown",
   "metadata": {},
   "source": [
    "Допустим, вы работаете в добывающей компании «ГлавРосГосНефть». Нужно решить, где бурить новую скважину.\n",
    "\n",
    "Вам предоставлены пробы нефти в трёх регионах: в каждом 10 000 месторождений, где измерили качество нефти и объём её запасов. Постройте модель машинного обучения, которая поможет определить регион, где добыча принесёт наибольшую прибыль. Проанализируйте возможную прибыль и риски техникой *Bootstrap.*\n",
    "\n",
    "Шаги для выбора локации:\n",
    "\n",
    "- В избранном регионе ищут месторождения, для каждого определяют значения признаков;\n",
    "- Строят модель и оценивают объём запасов;\n",
    "- Выбирают месторождения с самым высокими оценками значений. Количество месторождений зависит от бюджета компании и стоимости разработки одной скважины;\n",
    "- Прибыль равна суммарной прибыли отобранных месторождений."
   ]
  },
  {
   "cell_type": "markdown",
   "metadata": {},
   "source": [
    "## Загрузка и подготовка данных"
   ]
  },
  {
   "cell_type": "code",
   "execution_count": 1,
   "metadata": {},
   "outputs": [],
   "source": [
    "import pandas as pd\n",
    "import numpy as np\n",
    "import matplotlib.pyplot as plt\n",
    "import seaborn as sns\n",
    "from numpy.random import RandomState\n",
    "import math\n",
    "\n",
    "from scipy import stats as st\n",
    "\n",
    "from sklearn.preprocessing import StandardScaler\n",
    "from sklearn.model_selection import train_test_split\n",
    "from sklearn.linear_model import LinearRegression\n",
    "from sklearn.metrics import mean_squared_error"
   ]
  },
  {
   "cell_type": "markdown",
   "metadata": {},
   "source": [
    "<div class=\"alert alert-block alert-success\">\n",
    "<b>Успех:</b> Отлично, что все импорты собраны в первой ячейке ноутбука! Если у того, кто будет запускать твой ноутбук будут отсутствовать некоторые библиотеки, то он это увидит сразу, а не в процессе!\n",
    "</div>"
   ]
  },
  {
   "cell_type": "code",
   "execution_count": 2,
   "metadata": {},
   "outputs": [],
   "source": [
    "df_1 = pd.read_csv('/datasets/geo_data_0.csv')\n",
    "df_2 = pd.read_csv('/datasets/geo_data_1.csv')\n",
    "df_3 = pd.read_csv('/datasets/geo_data_2.csv')"
   ]
  },
  {
   "cell_type": "markdown",
   "metadata": {},
   "source": [
    "### Предпросмотр данных"
   ]
  },
  {
   "cell_type": "code",
   "execution_count": 3,
   "metadata": {
    "scrolled": true
   },
   "outputs": [],
   "source": [
    "def hist_pl(data):\n",
    "    cl = ['f0', 'f1', 'f2', 'product'] \n",
    "    for i in cl:\n",
    "        sns.set()        \n",
    "        f, axes = plt.subplots(1, 2, figsize=(16, 4))\n",
    "        f.suptitle('Распределние значений в столбце \"{}\"'.format(i), y = 1.2, fontsize = 30)\n",
    "        sns.histplot(data[i], ax=axes[0])\n",
    "        sns.boxplot(data=data[i], ax=axes[1])\n",
    "        plt.show()"
   ]
  },
  {
   "cell_type": "markdown",
   "metadata": {},
   "source": [
    "#### Первый регион"
   ]
  },
  {
   "cell_type": "code",
   "execution_count": 4,
   "metadata": {
    "scrolled": true
   },
   "outputs": [
    {
     "data": {
      "text/html": [
       "<div>\n",
       "<style scoped>\n",
       "    .dataframe tbody tr th:only-of-type {\n",
       "        vertical-align: middle;\n",
       "    }\n",
       "\n",
       "    .dataframe tbody tr th {\n",
       "        vertical-align: top;\n",
       "    }\n",
       "\n",
       "    .dataframe thead th {\n",
       "        text-align: right;\n",
       "    }\n",
       "</style>\n",
       "<table border=\"1\" class=\"dataframe\">\n",
       "  <thead>\n",
       "    <tr style=\"text-align: right;\">\n",
       "      <th></th>\n",
       "      <th>id</th>\n",
       "      <th>f0</th>\n",
       "      <th>f1</th>\n",
       "      <th>f2</th>\n",
       "      <th>product</th>\n",
       "    </tr>\n",
       "  </thead>\n",
       "  <tbody>\n",
       "    <tr>\n",
       "      <th>0</th>\n",
       "      <td>txEyH</td>\n",
       "      <td>0.705745</td>\n",
       "      <td>-0.497823</td>\n",
       "      <td>1.221170</td>\n",
       "      <td>105.280062</td>\n",
       "    </tr>\n",
       "    <tr>\n",
       "      <th>1</th>\n",
       "      <td>2acmU</td>\n",
       "      <td>1.334711</td>\n",
       "      <td>-0.340164</td>\n",
       "      <td>4.365080</td>\n",
       "      <td>73.037750</td>\n",
       "    </tr>\n",
       "    <tr>\n",
       "      <th>2</th>\n",
       "      <td>409Wp</td>\n",
       "      <td>1.022732</td>\n",
       "      <td>0.151990</td>\n",
       "      <td>1.419926</td>\n",
       "      <td>85.265647</td>\n",
       "    </tr>\n",
       "    <tr>\n",
       "      <th>3</th>\n",
       "      <td>iJLyR</td>\n",
       "      <td>-0.032172</td>\n",
       "      <td>0.139033</td>\n",
       "      <td>2.978566</td>\n",
       "      <td>168.620776</td>\n",
       "    </tr>\n",
       "    <tr>\n",
       "      <th>4</th>\n",
       "      <td>Xdl7t</td>\n",
       "      <td>1.988431</td>\n",
       "      <td>0.155413</td>\n",
       "      <td>4.751769</td>\n",
       "      <td>154.036647</td>\n",
       "    </tr>\n",
       "    <tr>\n",
       "      <th>5</th>\n",
       "      <td>wX4Hy</td>\n",
       "      <td>0.969570</td>\n",
       "      <td>0.489775</td>\n",
       "      <td>-0.735383</td>\n",
       "      <td>64.741541</td>\n",
       "    </tr>\n",
       "    <tr>\n",
       "      <th>6</th>\n",
       "      <td>tL6pL</td>\n",
       "      <td>0.645075</td>\n",
       "      <td>0.530656</td>\n",
       "      <td>1.780266</td>\n",
       "      <td>49.055285</td>\n",
       "    </tr>\n",
       "    <tr>\n",
       "      <th>7</th>\n",
       "      <td>BYPU6</td>\n",
       "      <td>-0.400648</td>\n",
       "      <td>0.808337</td>\n",
       "      <td>-5.624670</td>\n",
       "      <td>72.943292</td>\n",
       "    </tr>\n",
       "    <tr>\n",
       "      <th>8</th>\n",
       "      <td>j9Oui</td>\n",
       "      <td>0.643105</td>\n",
       "      <td>-0.551583</td>\n",
       "      <td>2.372141</td>\n",
       "      <td>113.356160</td>\n",
       "    </tr>\n",
       "    <tr>\n",
       "      <th>9</th>\n",
       "      <td>OLuZU</td>\n",
       "      <td>2.173381</td>\n",
       "      <td>0.563698</td>\n",
       "      <td>9.441852</td>\n",
       "      <td>127.910945</td>\n",
       "    </tr>\n",
       "  </tbody>\n",
       "</table>\n",
       "</div>"
      ],
      "text/plain": [
       "      id        f0        f1        f2     product\n",
       "0  txEyH  0.705745 -0.497823  1.221170  105.280062\n",
       "1  2acmU  1.334711 -0.340164  4.365080   73.037750\n",
       "2  409Wp  1.022732  0.151990  1.419926   85.265647\n",
       "3  iJLyR -0.032172  0.139033  2.978566  168.620776\n",
       "4  Xdl7t  1.988431  0.155413  4.751769  154.036647\n",
       "5  wX4Hy  0.969570  0.489775 -0.735383   64.741541\n",
       "6  tL6pL  0.645075  0.530656  1.780266   49.055285\n",
       "7  BYPU6 -0.400648  0.808337 -5.624670   72.943292\n",
       "8  j9Oui  0.643105 -0.551583  2.372141  113.356160\n",
       "9  OLuZU  2.173381  0.563698  9.441852  127.910945"
      ]
     },
     "metadata": {},
     "output_type": "display_data"
    },
    {
     "name": "stdout",
     "output_type": "stream",
     "text": [
      "<class 'pandas.core.frame.DataFrame'>\n",
      "RangeIndex: 100000 entries, 0 to 99999\n",
      "Data columns (total 5 columns):\n",
      " #   Column   Non-Null Count   Dtype  \n",
      "---  ------   --------------   -----  \n",
      " 0   id       100000 non-null  object \n",
      " 1   f0       100000 non-null  float64\n",
      " 2   f1       100000 non-null  float64\n",
      " 3   f2       100000 non-null  float64\n",
      " 4   product  100000 non-null  float64\n",
      "dtypes: float64(4), object(1)\n",
      "memory usage: 3.8+ MB\n"
     ]
    },
    {
     "data": {
      "text/plain": [
       "None"
      ]
     },
     "metadata": {},
     "output_type": "display_data"
    }
   ],
   "source": [
    "display(df_1.head(10))\n",
    "display(df_1.info())"
   ]
  },
  {
   "cell_type": "code",
   "execution_count": 5,
   "metadata": {
    "scrolled": false
   },
   "outputs": [
    {
     "data": {
      "image/png": "[encoded data removed]",
      "text/plain": [
       "<Figure size 1152x288 with 2 Axes>"
      ]
     },
     "metadata": {},
     "output_type": "display_data"
    },
    {
     "data": {
      "image/png": "[encoded data removed]",
      "text/plain": [
       "<Figure size 1152x288 with 2 Axes>"
      ]
     },
     "metadata": {},
     "output_type": "display_data"
    },
    {
     "data": {
      "image/png": "[encoded data removed]",
      "text/plain": [
       "<Figure size 1152x288 with 2 Axes>"
      ]
     },
     "metadata": {},
     "output_type": "display_data"
    },
    {
     "data": {
      "image/png": "[encoded data removed]",
      "text/plain": [
       "<Figure size 1152x288 with 2 Axes>"
      ]
     },
     "metadata": {},
     "output_type": "display_data"
    }
   ],
   "source": [
    "hist_pl(df_1)"
   ]
  },
  {
   "cell_type": "markdown",
   "metadata": {},
   "source": [
    "#### Второй регион"
   ]
  },
  {
   "cell_type": "code",
   "execution_count": 6,
   "metadata": {
    "scrolled": false
   },
   "outputs": [
    {
     "data": {
      "text/html": [
       "<div>\n",
       "<style scoped>\n",
       "    .dataframe tbody tr th:only-of-type {\n",
       "        vertical-align: middle;\n",
       "    }\n",
       "\n",
       "    .dataframe tbody tr th {\n",
       "        vertical-align: top;\n",
       "    }\n",
       "\n",
       "    .dataframe thead th {\n",
       "        text-align: right;\n",
       "    }\n",
       "</style>\n",
       "<table border=\"1\" class=\"dataframe\">\n",
       "  <thead>\n",
       "    <tr style=\"text-align: right;\">\n",
       "      <th></th>\n",
       "      <th>id</th>\n",
       "      <th>f0</th>\n",
       "      <th>f1</th>\n",
       "      <th>f2</th>\n",
       "      <th>product</th>\n",
       "    </tr>\n",
       "  </thead>\n",
       "  <tbody>\n",
       "    <tr>\n",
       "      <th>0</th>\n",
       "      <td>kBEdx</td>\n",
       "      <td>-15.001348</td>\n",
       "      <td>-8.276000</td>\n",
       "      <td>-0.005876</td>\n",
       "      <td>3.179103</td>\n",
       "    </tr>\n",
       "    <tr>\n",
       "      <th>1</th>\n",
       "      <td>62mP7</td>\n",
       "      <td>14.272088</td>\n",
       "      <td>-3.475083</td>\n",
       "      <td>0.999183</td>\n",
       "      <td>26.953261</td>\n",
       "    </tr>\n",
       "    <tr>\n",
       "      <th>2</th>\n",
       "      <td>vyE1P</td>\n",
       "      <td>6.263187</td>\n",
       "      <td>-5.948386</td>\n",
       "      <td>5.001160</td>\n",
       "      <td>134.766305</td>\n",
       "    </tr>\n",
       "    <tr>\n",
       "      <th>3</th>\n",
       "      <td>KcrkZ</td>\n",
       "      <td>-13.081196</td>\n",
       "      <td>-11.506057</td>\n",
       "      <td>4.999415</td>\n",
       "      <td>137.945408</td>\n",
       "    </tr>\n",
       "    <tr>\n",
       "      <th>4</th>\n",
       "      <td>AHL4O</td>\n",
       "      <td>12.702195</td>\n",
       "      <td>-8.147433</td>\n",
       "      <td>5.004363</td>\n",
       "      <td>134.766305</td>\n",
       "    </tr>\n",
       "    <tr>\n",
       "      <th>5</th>\n",
       "      <td>HHckp</td>\n",
       "      <td>-3.327590</td>\n",
       "      <td>-2.205276</td>\n",
       "      <td>3.003647</td>\n",
       "      <td>84.038886</td>\n",
       "    </tr>\n",
       "    <tr>\n",
       "      <th>6</th>\n",
       "      <td>h5Ujo</td>\n",
       "      <td>-11.142655</td>\n",
       "      <td>-10.133399</td>\n",
       "      <td>4.002382</td>\n",
       "      <td>110.992147</td>\n",
       "    </tr>\n",
       "    <tr>\n",
       "      <th>7</th>\n",
       "      <td>muH9x</td>\n",
       "      <td>4.234715</td>\n",
       "      <td>-0.001354</td>\n",
       "      <td>2.004588</td>\n",
       "      <td>53.906522</td>\n",
       "    </tr>\n",
       "    <tr>\n",
       "      <th>8</th>\n",
       "      <td>YiRkx</td>\n",
       "      <td>13.355129</td>\n",
       "      <td>-0.332068</td>\n",
       "      <td>4.998647</td>\n",
       "      <td>134.766305</td>\n",
       "    </tr>\n",
       "    <tr>\n",
       "      <th>9</th>\n",
       "      <td>jG6Gi</td>\n",
       "      <td>1.069227</td>\n",
       "      <td>-11.025667</td>\n",
       "      <td>4.997844</td>\n",
       "      <td>137.945408</td>\n",
       "    </tr>\n",
       "  </tbody>\n",
       "</table>\n",
       "</div>"
      ],
      "text/plain": [
       "      id         f0         f1        f2     product\n",
       "0  kBEdx -15.001348  -8.276000 -0.005876    3.179103\n",
       "1  62mP7  14.272088  -3.475083  0.999183   26.953261\n",
       "2  vyE1P   6.263187  -5.948386  5.001160  134.766305\n",
       "3  KcrkZ -13.081196 -11.506057  4.999415  137.945408\n",
       "4  AHL4O  12.702195  -8.147433  5.004363  134.766305\n",
       "5  HHckp  -3.327590  -2.205276  3.003647   84.038886\n",
       "6  h5Ujo -11.142655 -10.133399  4.002382  110.992147\n",
       "7  muH9x   4.234715  -0.001354  2.004588   53.906522\n",
       "8  YiRkx  13.355129  -0.332068  4.998647  134.766305\n",
       "9  jG6Gi   1.069227 -11.025667  4.997844  137.945408"
      ]
     },
     "metadata": {},
     "output_type": "display_data"
    },
    {
     "name": "stdout",
     "output_type": "stream",
     "text": [
      "<class 'pandas.core.frame.DataFrame'>\n",
      "RangeIndex: 100000 entries, 0 to 99999\n",
      "Data columns (total 5 columns):\n",
      " #   Column   Non-Null Count   Dtype  \n",
      "---  ------   --------------   -----  \n",
      " 0   id       100000 non-null  object \n",
      " 1   f0       100000 non-null  float64\n",
      " 2   f1       100000 non-null  float64\n",
      " 3   f2       100000 non-null  float64\n",
      " 4   product  100000 non-null  float64\n",
      "dtypes: float64(4), object(1)\n",
      "memory usage: 3.8+ MB\n"
     ]
    },
    {
     "data": {
      "text/plain": [
       "None"
      ]
     },
     "metadata": {},
     "output_type": "display_data"
    }
   ],
   "source": [
    "display(df_2.head(10))\n",
    "display(df_2.info())"
   ]
  },
  {
   "cell_type": "code",
   "execution_count": 7,
   "metadata": {},
   "outputs": [
    {
     "data": {
      "image/png": "[encoded data removed]",
      "text/plain": [
       "<Figure size 1152x288 with 2 Axes>"
      ]
     },
     "metadata": {},
     "output_type": "display_data"
    },
    {
     "data": {
      "image/png": "[encoded data removed]",
      "text/plain": [
       "<Figure size 1152x288 with 2 Axes>"
      ]
     },
     "metadata": {},
     "output_type": "display_data"
    },
    {
     "data": {
      "image/png": "[encoded data removed]",
      "text/plain": [
       "<Figure size 1152x288 with 2 Axes>"
      ]
     },
     "metadata": {},
     "output_type": "display_data"
    },
    {
     "data": {
      "image/png": "[encoded data removed]",
      "text/plain": [
       "<Figure size 1152x288 with 2 Axes>"
      ]
     },
     "metadata": {},
     "output_type": "display_data"
    }
   ],
   "source": [
    "hist_pl(df_2)"
   ]
  },
  {
   "cell_type": "markdown",
   "metadata": {},
   "source": [
    "#### Третий регион"
   ]
  },
  {
   "cell_type": "code",
   "execution_count": 8,
   "metadata": {
    "scrolled": false
   },
   "outputs": [
    {
     "data": {
      "text/html": [
       "<div>\n",
       "<style scoped>\n",
       "    .dataframe tbody tr th:only-of-type {\n",
       "        vertical-align: middle;\n",
       "    }\n",
       "\n",
       "    .dataframe tbody tr th {\n",
       "        vertical-align: top;\n",
       "    }\n",
       "\n",
       "    .dataframe thead th {\n",
       "        text-align: right;\n",
       "    }\n",
       "</style>\n",
       "<table border=\"1\" class=\"dataframe\">\n",
       "  <thead>\n",
       "    <tr style=\"text-align: right;\">\n",
       "      <th></th>\n",
       "      <th>id</th>\n",
       "      <th>f0</th>\n",
       "      <th>f1</th>\n",
       "      <th>f2</th>\n",
       "      <th>product</th>\n",
       "    </tr>\n",
       "  </thead>\n",
       "  <tbody>\n",
       "    <tr>\n",
       "      <th>0</th>\n",
       "      <td>fwXo0</td>\n",
       "      <td>-1.146987</td>\n",
       "      <td>0.963328</td>\n",
       "      <td>-0.828965</td>\n",
       "      <td>27.758673</td>\n",
       "    </tr>\n",
       "    <tr>\n",
       "      <th>1</th>\n",
       "      <td>WJtFt</td>\n",
       "      <td>0.262778</td>\n",
       "      <td>0.269839</td>\n",
       "      <td>-2.530187</td>\n",
       "      <td>56.069697</td>\n",
       "    </tr>\n",
       "    <tr>\n",
       "      <th>2</th>\n",
       "      <td>ovLUW</td>\n",
       "      <td>0.194587</td>\n",
       "      <td>0.289035</td>\n",
       "      <td>-5.586433</td>\n",
       "      <td>62.871910</td>\n",
       "    </tr>\n",
       "    <tr>\n",
       "      <th>3</th>\n",
       "      <td>q6cA6</td>\n",
       "      <td>2.236060</td>\n",
       "      <td>-0.553760</td>\n",
       "      <td>0.930038</td>\n",
       "      <td>114.572842</td>\n",
       "    </tr>\n",
       "    <tr>\n",
       "      <th>4</th>\n",
       "      <td>WPMUX</td>\n",
       "      <td>-0.515993</td>\n",
       "      <td>1.716266</td>\n",
       "      <td>5.899011</td>\n",
       "      <td>149.600746</td>\n",
       "    </tr>\n",
       "    <tr>\n",
       "      <th>5</th>\n",
       "      <td>LzZXx</td>\n",
       "      <td>-0.758092</td>\n",
       "      <td>0.710691</td>\n",
       "      <td>2.585887</td>\n",
       "      <td>90.222465</td>\n",
       "    </tr>\n",
       "    <tr>\n",
       "      <th>6</th>\n",
       "      <td>WBHRv</td>\n",
       "      <td>-0.574891</td>\n",
       "      <td>0.317727</td>\n",
       "      <td>1.773745</td>\n",
       "      <td>45.641478</td>\n",
       "    </tr>\n",
       "    <tr>\n",
       "      <th>7</th>\n",
       "      <td>XO8fn</td>\n",
       "      <td>-1.906649</td>\n",
       "      <td>-2.458350</td>\n",
       "      <td>-0.177097</td>\n",
       "      <td>72.480640</td>\n",
       "    </tr>\n",
       "    <tr>\n",
       "      <th>8</th>\n",
       "      <td>ybmQ5</td>\n",
       "      <td>1.776292</td>\n",
       "      <td>-0.279356</td>\n",
       "      <td>3.004156</td>\n",
       "      <td>106.616832</td>\n",
       "    </tr>\n",
       "    <tr>\n",
       "      <th>9</th>\n",
       "      <td>OilcN</td>\n",
       "      <td>-1.214452</td>\n",
       "      <td>-0.439314</td>\n",
       "      <td>5.922514</td>\n",
       "      <td>52.954532</td>\n",
       "    </tr>\n",
       "  </tbody>\n",
       "</table>\n",
       "</div>"
      ],
      "text/plain": [
       "      id        f0        f1        f2     product\n",
       "0  fwXo0 -1.146987  0.963328 -0.828965   27.758673\n",
       "1  WJtFt  0.262778  0.269839 -2.530187   56.069697\n",
       "2  ovLUW  0.194587  0.289035 -5.586433   62.871910\n",
       "3  q6cA6  2.236060 -0.553760  0.930038  114.572842\n",
       "4  WPMUX -0.515993  1.716266  5.899011  149.600746\n",
       "5  LzZXx -0.758092  0.710691  2.585887   90.222465\n",
       "6  WBHRv -0.574891  0.317727  1.773745   45.641478\n",
       "7  XO8fn -1.906649 -2.458350 -0.177097   72.480640\n",
       "8  ybmQ5  1.776292 -0.279356  3.004156  106.616832\n",
       "9  OilcN -1.214452 -0.439314  5.922514   52.954532"
      ]
     },
     "metadata": {},
     "output_type": "display_data"
    },
    {
     "name": "stdout",
     "output_type": "stream",
     "text": [
      "<class 'pandas.core.frame.DataFrame'>\n",
      "RangeIndex: 100000 entries, 0 to 99999\n",
      "Data columns (total 5 columns):\n",
      " #   Column   Non-Null Count   Dtype  \n",
      "---  ------   --------------   -----  \n",
      " 0   id       100000 non-null  object \n",
      " 1   f0       100000 non-null  float64\n",
      " 2   f1       100000 non-null  float64\n",
      " 3   f2       100000 non-null  float64\n",
      " 4   product  100000 non-null  float64\n",
      "dtypes: float64(4), object(1)\n",
      "memory usage: 3.8+ MB\n"
     ]
    },
    {
     "data": {
      "text/plain": [
       "None"
      ]
     },
     "metadata": {},
     "output_type": "display_data"
    }
   ],
   "source": [
    "display(df_3.head(10))\n",
    "display(df_3.info())"
   ]
  },
  {
   "cell_type": "code",
   "execution_count": 9,
   "metadata": {
    "scrolled": false
   },
   "outputs": [
    {
     "data": {
      "image/png": "[encoded data removed]",
      "text/plain": [
       "<Figure size 1152x288 with 2 Axes>"
      ]
     },
     "metadata": {},
     "output_type": "display_data"
    },
    {
     "data": {
      "image/png": "[encoded data removed]",
      "text/plain": [
       "<Figure size 1152x288 with 2 Axes>"
      ]
     },
     "metadata": {},
     "output_type": "display_data"
    },
    {
     "data": {
      "image/png": "[encoded data removed]",
      "text/plain": [
       "<Figure size 1152x288 with 2 Axes>"
      ]
     },
     "metadata": {},
     "output_type": "display_data"
    },
    {
     "data": {
      "image/png": "[encoded data removed]",
      "text/plain": [
       "<Figure size 1152x288 with 2 Axes>"
      ]
     },
     "metadata": {},
     "output_type": "display_data"
    }
   ],
   "source": [
    "hist_pl(df_3)"
   ]
  },
  {
   "cell_type": "markdown",
   "metadata": {},
   "source": [
    "### Выводы"
   ]
  },
  {
   "cell_type": "markdown",
   "metadata": {},
   "source": [
    "- Данные загружены. Пропусков нет.\n",
    "- Распределение некоторых признаков отличается от нормального. Есть несущественные выбросы."
   ]
  },
  {
   "cell_type": "markdown",
   "metadata": {},
   "source": [
    "## Обучение и проверка модели"
   ]
  },
  {
   "cell_type": "markdown",
   "metadata": {},
   "source": [
    "Выделим целевой признак для каждого региона."
   ]
  },
  {
   "cell_type": "code",
   "execution_count": 10,
   "metadata": {},
   "outputs": [],
   "source": [
    "X_1 = df_1.drop(['id','product'],  axis=1)\n",
    "X_2 = df_2.drop(['id','product'],  axis=1)\n",
    "X_3 = df_3.drop(['id','product'],  axis=1)\n",
    "\n",
    "y_1 = df_1['product']\n",
    "y_2 = df_2['product']\n",
    "y_3 = df_3['product']"
   ]
  },
  {
   "cell_type": "markdown",
   "metadata": {},
   "source": [
    "- Разделим данные на обучающую и валидационную выборки\n",
    "- Выведем средний запас сырья и RMSE модели."
   ]
  },
  {
   "cell_type": "code",
   "execution_count": 11,
   "metadata": {},
   "outputs": [
    {
     "name": "stdout",
     "output_type": "stream",
     "text": [
      "Регион №1\n",
      "MSE:  1412.2129364399243\n",
      "RMSE:  37.5794217150813\n",
      "Cредний запас сырья:  92.59256778438035\n"
     ]
    }
   ],
   "source": [
    "state=np.random.RandomState(12345)\n",
    "\n",
    "X_train_1, X_valid_1, y_train_1, y_valid_1 = (\n",
    "    train_test_split(\n",
    "        X_1,\n",
    "        y_1,\n",
    "        test_size=0.25,\n",
    "        random_state=state        \n",
    "    )\n",
    ")\n",
    "\n",
    "model_1 = LinearRegression()\n",
    "model_1.fit(X_train_1, y_train_1)\n",
    "predictions_1 = model_1.predict(X_valid_1)\n",
    "\n",
    "mse = mean_squared_error(y_valid_1, predictions_1)\n",
    "rmse = mse ** 0.5\n",
    "mean = predictions_1.mean()\n",
    "\n",
    "print('Регион №1')\n",
    "print('MSE: ', mse)\n",
    "print('RMSE: ', rmse)\n",
    "print('Cредний запас сырья: ', mean)"
   ]
  },
  {
   "cell_type": "code",
   "execution_count": 12,
   "metadata": {},
   "outputs": [
    {
     "name": "stdout",
     "output_type": "stream",
     "text": [
      "Регион №2\n",
      "MSE:  0.791631526595205\n",
      "RMSE:  0.889736773768065\n",
      "Cредний запас сырья:  68.76995145799754\n"
     ]
    }
   ],
   "source": [
    "X_train_2, X_valid_2, y_train_2, y_valid_2 = (\n",
    "    train_test_split(\n",
    "        X_2,\n",
    "        y_2,\n",
    "        test_size=0.25,\n",
    "        random_state=state        \n",
    "    )\n",
    ")\n",
    "\n",
    "model_2 = LinearRegression()\n",
    "model_2.fit(X_train_2, y_train_2)\n",
    "predictions_2 = model_2.predict(X_valid_2)\n",
    "\n",
    "mse = mean_squared_error(y_valid_2, predictions_2)\n",
    "rmse = mse ** 0.5\n",
    "mean = predictions_2.mean()\n",
    "\n",
    "print('Регион №2')\n",
    "print('MSE: ', mse)\n",
    "print('RMSE: ', rmse)\n",
    "print('Cредний запас сырья: ', mean)"
   ]
  },
  {
   "cell_type": "code",
   "execution_count": 13,
   "metadata": {},
   "outputs": [
    {
     "name": "stdout",
     "output_type": "stream",
     "text": [
      "Регион №3\n",
      "MSE:  1596.6451571969324\n",
      "RMSE:  39.958042459521614\n",
      "Cредний запас сырья:  95.087528122523\n"
     ]
    }
   ],
   "source": [
    "X_train_3, X_valid_3, y_train_3, y_valid_3 = (\n",
    "    train_test_split(\n",
    "        X_3,\n",
    "        y_3,\n",
    "        test_size=0.25,\n",
    "        random_state=state        \n",
    "    )\n",
    ")\n",
    "\n",
    "model_3 = LinearRegression()\n",
    "model_3.fit(X_train_3, y_train_3)\n",
    "predictions_3 = model_3.predict(X_valid_3)\n",
    "\n",
    "mse = mean_squared_error(y_valid_3, predictions_3)\n",
    "rmse = mse ** 0.5\n",
    "mean = predictions_3.mean()\n",
    "\n",
    "print('Регион №3')\n",
    "print('MSE: ', mse)\n",
    "print('RMSE: ', rmse)\n",
    "print('Cредний запас сырья: ', mean)"
   ]
  },
  {
   "cell_type": "markdown",
   "metadata": {},
   "source": [
    "### Выводы"
   ]
  },
  {
   "cell_type": "markdown",
   "metadata": {},
   "source": [
    "- Разбили данные на обучающую и валидационную выборки\n",
    "- Обучили модели и сделали предсказания, сохранили их и правильные ответы, посчитали средний запас сырья для каждого региона и RMSE\n",
    "- В регионе 2 средний показатель запаса предсказанного сырья составляет 68.7 (ниже остальных регионов). Однако RMSE в данном регионе также мал (0.88). Это говорит о точности предсказаний и качестве построенной модели.\n",
    "- У регионов 1 и 3, больше 90 тыс. бареллей. Здесь же значение RMSE получилось очень большим, почти половина этого числа. Это свидетельствует о неоднозначности показателя, неточности модели регрессии."
   ]
  },
  {
   "cell_type": "markdown",
   "metadata": {},
   "source": [
    "## Подготовка к расчёту прибыли"
   ]
  },
  {
   "cell_type": "code",
   "execution_count": 14,
   "metadata": {},
   "outputs": [],
   "source": [
    "all_points = 500\n",
    "best_point = 200\n",
    "budget = 10**10\n",
    "profit_bar = 4.5 * 10**5\n",
    "risk = 0.025"
   ]
  },
  {
   "cell_type": "code",
   "execution_count": 15,
   "metadata": {
    "scrolled": true
   },
   "outputs": [
    {
     "name": "stdout",
     "output_type": "stream",
     "text": [
      "Минимальный объём сырья для безубыточной разработки новой скважины:  112\n"
     ]
    }
   ],
   "source": [
    "min_value = budget / (profit_bar * best_point) \n",
    "print(\"Минимальный объём сырья для безубыточной разработки новой скважины: \", math.ceil(min_value))"
   ]
  },
  {
   "cell_type": "markdown",
   "metadata": {},
   "source": [
    "### Выводы"
   ]
  },
  {
   "cell_type": "markdown",
   "metadata": {},
   "source": [
    "Для безубыточной разработки новой скважины необходимо переработать как минимум 112 единиц продукта. Предсказания объема нефти во всех регионах гораздо меньше этого объема."
   ]
  },
  {
   "cell_type": "markdown",
   "metadata": {},
   "source": [
    "## Расчёт прибыли и рисков "
   ]
  },
  {
   "cell_type": "code",
   "execution_count": 16,
   "metadata": {},
   "outputs": [],
   "source": [
    "def profit(target, probabilities, point):\n",
    "    \n",
    "    '''    \n",
    "    target - истинные значения целевого признака\n",
    "    probabilities - предсказания\n",
    "    point - количество скважин    \n",
    "    '''\n",
    "    target = pd.Series(target).reset_index(drop=True)\n",
    "    probabilities = pd.Series(probabilities).reset_index(drop=True)\n",
    "    \n",
    "    probabilities_sorted = probabilities.sort_values(ascending = False)\n",
    "    income = target[probabilities_sorted.index][:point].sum() * profit_bar\n",
    "    revenue = income - budget\n",
    "    \n",
    "    return revenue"
   ]
  },
  {
   "cell_type": "code",
   "execution_count": 17,
   "metadata": {},
   "outputs": [],
   "source": [
    "def bootstrap (target, predictions):\n",
    "    values = []\n",
    "    for i in range(1000):\n",
    "        target_subsample = (\n",
    "            target.reset_index(drop=True).sample(\n",
    "                n=all_points,\n",
    "                replace=True,\n",
    "                random_state=state\n",
    "            )\n",
    "        )\n",
    "        probs_subsample = predictions[target_subsample.index]    \n",
    "\n",
    "        values.append(profit(target_subsample, probs_subsample, best_point))\n",
    "\n",
    "    values = pd.Series(values)      \n",
    "    \n",
    "    loc = values.mean()\n",
    "    \n",
    "    lower = values.quantile(0.025)\n",
    "    upper = values.quantile(0.975)\n",
    "                            \n",
    "    print(\"Средняя выручка:\", round(loc / (10**6), 2), '(млн. руб.)')\n",
    "    print(\"Доверительный интервал:\", round(lower / (10**6), 2), ':', round(upper / (10**6), 2), '(млн. руб.)')\n",
    "    print(\"Риски убытка:\", (values < 0).mean() * 100, '%')"
   ]
  },
  {
   "cell_type": "code",
   "execution_count": 18,
   "metadata": {
    "scrolled": true
   },
   "outputs": [
    {
     "name": "stdout",
     "output_type": "stream",
     "text": [
      "Регион №1\n",
      "Средняя выручка: 394.28 (млн. руб.)\n",
      "Доверительный интервал: -69.45 : 915.5 (млн. руб.)\n",
      "Риски убытка: 6.1 %\n"
     ]
    }
   ],
   "source": [
    "print('Регион №1')\n",
    "bootstrap(y_valid_1, predictions_1)"
   ]
  },
  {
   "cell_type": "code",
   "execution_count": 19,
   "metadata": {
    "scrolled": true
   },
   "outputs": [
    {
     "name": "stdout",
     "output_type": "stream",
     "text": [
      "Регион №2\n",
      "Средняя выручка: 454.74 (млн. руб.)\n",
      "Доверительный интервал: 61.07 : 855.91 (млн. руб.)\n",
      "Риски убытка: 0.7000000000000001 %\n"
     ]
    }
   ],
   "source": [
    "print('Регион №2')\n",
    "bootstrap(y_valid_2, predictions_2)"
   ]
  },
  {
   "cell_type": "code",
   "execution_count": 20,
   "metadata": {
    "scrolled": false
   },
   "outputs": [
    {
     "name": "stdout",
     "output_type": "stream",
     "text": [
      "Регион №3\n",
      "Средняя выручка: 353.66 (млн. руб.)\n",
      "Доверительный интервал: -162.65 : 847.76 (млн. руб.)\n",
      "Риски убытка: 7.6 %\n"
     ]
    }
   ],
   "source": [
    "print('Регион №3')\n",
    "bootstrap(y_valid_3, predictions_3)"
   ]
  },
  {
   "cell_type": "markdown",
   "metadata": {},
   "source": [
    "### Выводы"
   ]
  },
  {
   "cell_type": "markdown",
   "metadata": {},
   "source": [
    "Регион №2 можно считать лучшим вариантом для разработки, так как риск убытка минимален, а предполагаемая выручка выше."
   ]
  },
  {
   "cell_type": "markdown",
   "metadata": {},
   "source": [
    "## Общий вывод"
   ]
  },
  {
   "cell_type": "markdown",
   "metadata": {},
   "source": [
    "- Изучены данные трех регионов для нефтедобычи\n",
    "- Для каждого региона обучена модель линейной регресии, посчитаны возможная прибыль и риски.\n",
    "- По полученным данным, можно рекомендовать регион №2 к разработке. Добыча в этом регионе связана с меньшими рисками и может принести большую прибль, относительно других регионов.\n"
   ]
  },
  {
   "cell_type": "markdown",
   "metadata": {},
   "source": [
    "## Чек-лист готовности проекта"
   ]
  },
  {
   "cell_type": "markdown",
   "metadata": {},
   "source": [
    "Поставьте 'x' в выполненных пунктах. Далее нажмите Shift+Enter."
   ]
  },
  {
   "cell_type": "markdown",
   "metadata": {},
   "source": [
    "- [x]  Jupyter Notebook открыт\n",
    "- [x]  Весь код выполняется без ошибок\n",
    "- [x]  Ячейки с кодом расположены в порядке исполнения\n",
    "- [x]  Выполнен шаг 1: данные подготовлены\n",
    "- [x]  Выполнен шаг 2: модели обучены и проверены\n",
    "    - [x]  Данные корректно разбиты на обучающую и валидационную выборки\n",
    "    - [x]  Модели обучены, предсказания сделаны\n",
    "    - [x]  Предсказания и правильные ответы на валидационной выборке сохранены\n",
    "    - [x]  На экране напечатаны результаты\n",
    "    - [x]  Сделаны выводы\n",
    "- [x]  Выполнен шаг 3: проведена подготовка к расчёту прибыли\n",
    "    - [x]  Для всех ключевых значений созданы константы Python\n",
    "    - [x]  Посчитано минимальное среднее количество продукта в месторождениях региона, достаточное для разработки\n",
    "    - [x]  По предыдущему пункту сделаны выводы\n",
    "    - [x]  Написана функция расчёта прибыли\n",
    "- [x]  Выполнен шаг 4: посчитаны риски и прибыль\n",
    "    - [x]  Проведена процедура *Bootstrap*\n",
    "    - [x]  Все параметры бутстрепа соответствуют условию\n",
    "    - [x]  Найдены все нужные величины\n",
    "    - [x]  Предложен регион для разработки месторождения\n",
    "    - [x]  Выбор региона обоснован"
   ]
  },
  {
   "cell_type": "code",
   "execution_count": null,
   "metadata": {},
   "outputs": [],
   "source": []
  }
 ],
 "metadata": {
  "ExecuteTimeLog": [
   {
    "duration": 1576,
    "start_time": "2022-07-04T11:21:03.495Z"
   },
   {
    "duration": 783,
    "start_time": "2022-07-04T11:22:03.688Z"
   },
   {
    "duration": 37,
    "start_time": "2022-07-04T11:32:55.202Z"
   },
   {
    "duration": 31,
    "start_time": "2022-07-04T11:33:00.080Z"
   },
   {
    "duration": 29,
    "start_time": "2022-07-04T11:33:37.708Z"
   },
   {
    "duration": 27,
    "start_time": "2022-07-04T11:33:39.101Z"
   },
   {
    "duration": 150,
    "start_time": "2022-07-04T11:38:41.957Z"
   },
   {
    "duration": 4,
    "start_time": "2022-07-04T11:38:45.808Z"
   },
   {
    "duration": 288,
    "start_time": "2022-07-04T11:38:47.589Z"
   },
   {
    "duration": 8,
    "start_time": "2022-07-04T11:39:01.181Z"
   },
   {
    "duration": 13,
    "start_time": "2022-07-04T11:39:16.174Z"
   },
   {
    "duration": 3,
    "start_time": "2022-07-04T11:39:57.030Z"
   },
   {
    "duration": 461,
    "start_time": "2022-07-04T11:39:58.882Z"
   },
   {
    "duration": 7,
    "start_time": "2022-07-04T11:39:59.782Z"
   },
   {
    "duration": 22,
    "start_time": "2022-07-04T11:40:01.423Z"
   },
   {
    "duration": 346,
    "start_time": "2022-07-04T11:40:37.817Z"
   },
   {
    "duration": 4,
    "start_time": "2022-07-04T11:40:53.793Z"
   },
   {
    "duration": 305,
    "start_time": "2022-07-04T11:40:56.401Z"
   },
   {
    "duration": 6,
    "start_time": "2022-07-04T11:41:06.411Z"
   },
   {
    "duration": 297,
    "start_time": "2022-07-04T11:41:11.099Z"
   },
   {
    "duration": 305,
    "start_time": "2022-07-04T11:43:23.328Z"
   },
   {
    "duration": 3,
    "start_time": "2022-07-04T11:43:36.234Z"
   },
   {
    "duration": 3837,
    "start_time": "2022-07-04T11:43:40.290Z"
   },
   {
    "duration": 4,
    "start_time": "2022-07-04T11:44:12.500Z"
   },
   {
    "duration": 256,
    "start_time": "2022-07-04T11:44:15.086Z"
   },
   {
    "duration": 4,
    "start_time": "2022-07-04T11:44:39.531Z"
   },
   {
    "duration": 3575,
    "start_time": "2022-07-04T11:44:41.161Z"
   },
   {
    "duration": 5,
    "start_time": "2022-07-04T11:45:42.609Z"
   },
   {
    "duration": 4164,
    "start_time": "2022-07-04T11:45:45.598Z"
   },
   {
    "duration": 4,
    "start_time": "2022-07-04T11:46:03.636Z"
   },
   {
    "duration": 7,
    "start_time": "2022-07-04T11:46:23.174Z"
   },
   {
    "duration": 2006,
    "start_time": "2022-07-04T11:46:24.514Z"
   },
   {
    "duration": 5,
    "start_time": "2022-07-04T11:48:50.183Z"
   },
   {
    "duration": 315,
    "start_time": "2022-07-04T11:48:52.006Z"
   },
   {
    "duration": 9,
    "start_time": "2022-07-04T11:48:57.185Z"
   },
   {
    "duration": 1951,
    "start_time": "2022-07-04T11:48:58.635Z"
   },
   {
    "duration": 94,
    "start_time": "2022-07-04T11:50:22.310Z"
   },
   {
    "duration": 113,
    "start_time": "2022-07-04T11:50:31.906Z"
   },
   {
    "duration": 10,
    "start_time": "2022-07-04T11:50:38.302Z"
   },
   {
    "duration": 10,
    "start_time": "2022-07-04T11:50:44.475Z"
   },
   {
    "duration": 55,
    "start_time": "2022-07-04T11:52:42.002Z"
   },
   {
    "duration": 8,
    "start_time": "2022-07-04T11:52:47.223Z"
   },
   {
    "duration": 2762,
    "start_time": "2022-07-04T11:52:49.507Z"
   },
   {
    "duration": 9,
    "start_time": "2022-07-04T11:53:07.513Z"
   },
   {
    "duration": 2614,
    "start_time": "2022-07-04T11:53:10.012Z"
   },
   {
    "duration": 2096,
    "start_time": "2022-07-04T11:53:30.575Z"
   },
   {
    "duration": 2399,
    "start_time": "2022-07-04T11:53:42.628Z"
   },
   {
    "duration": 1653,
    "start_time": "2022-07-04T16:56:32.791Z"
   },
   {
    "duration": 1680,
    "start_time": "2022-07-04T16:56:34.446Z"
   },
   {
    "duration": 4,
    "start_time": "2022-07-04T16:56:36.128Z"
   },
   {
    "duration": 32,
    "start_time": "2022-07-04T16:56:36.134Z"
   },
   {
    "duration": 1947,
    "start_time": "2022-07-04T16:56:36.167Z"
   },
   {
    "duration": 32,
    "start_time": "2022-07-04T16:56:38.115Z"
   },
   {
    "duration": 1878,
    "start_time": "2022-07-04T16:56:38.148Z"
   },
   {
    "duration": 29,
    "start_time": "2022-07-04T16:56:40.028Z"
   },
   {
    "duration": 2183,
    "start_time": "2022-07-04T16:56:40.059Z"
   },
   {
    "duration": 125,
    "start_time": "2022-07-04T17:13:25.713Z"
   },
   {
    "duration": 13,
    "start_time": "2022-07-04T17:13:37.692Z"
   },
   {
    "duration": 13,
    "start_time": "2022-07-04T17:14:20.452Z"
   },
   {
    "duration": 13,
    "start_time": "2022-07-04T17:16:30.058Z"
   },
   {
    "duration": 120,
    "start_time": "2022-07-04T17:28:17.423Z"
   },
   {
    "duration": 24,
    "start_time": "2022-07-04T17:29:23.851Z"
   },
   {
    "duration": 65,
    "start_time": "2022-07-04T17:29:33.578Z"
   },
   {
    "duration": 73,
    "start_time": "2022-07-04T17:30:45.970Z"
   },
   {
    "duration": 30,
    "start_time": "2022-07-04T17:31:06.321Z"
   },
   {
    "duration": 26,
    "start_time": "2022-07-04T17:32:28.385Z"
   },
   {
    "duration": 31,
    "start_time": "2022-07-04T17:32:45.520Z"
   },
   {
    "duration": 10,
    "start_time": "2022-07-04T17:40:09.575Z"
   },
   {
    "duration": 3,
    "start_time": "2022-07-04T17:40:12.782Z"
   },
   {
    "duration": 3,
    "start_time": "2022-07-04T17:40:13.218Z"
   },
   {
    "duration": 3,
    "start_time": "2022-07-04T17:40:26.607Z"
   },
   {
    "duration": 4,
    "start_time": "2022-07-04T17:40:26.729Z"
   },
   {
    "duration": 3,
    "start_time": "2022-07-04T17:42:15.839Z"
   },
   {
    "duration": 3,
    "start_time": "2022-07-04T17:42:16.365Z"
   },
   {
    "duration": 5,
    "start_time": "2022-07-04T17:42:55.744Z"
   },
   {
    "duration": 4,
    "start_time": "2022-07-04T17:46:05.188Z"
   },
   {
    "duration": 4,
    "start_time": "2022-07-04T17:46:36.994Z"
   },
   {
    "duration": 4,
    "start_time": "2022-07-04T17:47:11.001Z"
   },
   {
    "duration": 10,
    "start_time": "2022-07-04T17:47:29.113Z"
   },
   {
    "duration": 10,
    "start_time": "2022-07-04T17:48:43.464Z"
   },
   {
    "duration": 3,
    "start_time": "2022-07-04T17:48:55.386Z"
   },
   {
    "duration": 4,
    "start_time": "2022-07-04T17:49:00.671Z"
   },
   {
    "duration": 73,
    "start_time": "2022-07-04T17:55:51.759Z"
   },
   {
    "duration": 28,
    "start_time": "2022-07-04T17:55:52.156Z"
   },
   {
    "duration": 23,
    "start_time": "2022-07-04T17:56:06.107Z"
   },
   {
    "duration": 30,
    "start_time": "2022-07-04T17:56:06.659Z"
   },
   {
    "duration": 2,
    "start_time": "2022-07-04T17:56:09.717Z"
   },
   {
    "duration": 4,
    "start_time": "2022-07-04T17:56:09.994Z"
   },
   {
    "duration": 3,
    "start_time": "2022-07-04T19:31:15.530Z"
   },
   {
    "duration": 5,
    "start_time": "2022-07-04T19:33:02.410Z"
   },
   {
    "duration": 5,
    "start_time": "2022-07-04T20:21:39.557Z"
   },
   {
    "duration": 6,
    "start_time": "2022-07-04T20:21:40.537Z"
   },
   {
    "duration": 5,
    "start_time": "2022-07-04T20:22:02.399Z"
   },
   {
    "duration": 6,
    "start_time": "2022-07-04T20:22:02.782Z"
   },
   {
    "duration": 9,
    "start_time": "2022-07-04T20:23:06.909Z"
   },
   {
    "duration": 4,
    "start_time": "2022-07-04T20:23:14.370Z"
   },
   {
    "duration": 401,
    "start_time": "2022-07-04T20:23:14.376Z"
   },
   {
    "duration": 4,
    "start_time": "2022-07-04T20:23:14.779Z"
   },
   {
    "duration": 26,
    "start_time": "2022-07-04T20:23:14.785Z"
   },
   {
    "duration": 2076,
    "start_time": "2022-07-04T20:23:14.813Z"
   },
   {
    "duration": 29,
    "start_time": "2022-07-04T20:23:16.891Z"
   },
   {
    "duration": 1966,
    "start_time": "2022-07-04T20:23:16.921Z"
   },
   {
    "duration": 28,
    "start_time": "2022-07-04T20:23:18.889Z"
   },
   {
    "duration": 2408,
    "start_time": "2022-07-04T20:23:18.919Z"
   },
   {
    "duration": 15,
    "start_time": "2022-07-04T20:23:21.328Z"
   },
   {
    "duration": 54,
    "start_time": "2022-07-04T20:23:21.345Z"
   },
   {
    "duration": 107,
    "start_time": "2022-07-04T20:23:21.453Z"
   },
   {
    "duration": 183,
    "start_time": "2022-07-04T20:23:21.562Z"
   },
   {
    "duration": 109,
    "start_time": "2022-07-04T20:23:21.747Z"
   },
   {
    "duration": 8,
    "start_time": "2022-07-04T20:23:21.858Z"
   },
   {
    "duration": 5,
    "start_time": "2022-07-04T20:23:21.868Z"
   },
   {
    "duration": 3,
    "start_time": "2022-07-04T20:23:31.238Z"
   },
   {
    "duration": 6,
    "start_time": "2022-07-04T20:23:31.813Z"
   },
   {
    "duration": 14,
    "start_time": "2022-07-04T20:23:32.421Z"
   },
   {
    "duration": 7,
    "start_time": "2022-07-04T20:23:57.318Z"
   },
   {
    "duration": 18,
    "start_time": "2022-07-04T20:23:57.941Z"
   },
   {
    "duration": 6,
    "start_time": "2022-07-04T20:24:16.502Z"
   },
   {
    "duration": 6,
    "start_time": "2022-07-04T20:24:19.138Z"
   },
   {
    "duration": 17,
    "start_time": "2022-07-04T20:24:19.781Z"
   },
   {
    "duration": 4,
    "start_time": "2022-07-04T20:27:08.813Z"
   },
   {
    "duration": 5,
    "start_time": "2022-07-04T20:27:09.288Z"
   },
   {
    "duration": 17,
    "start_time": "2022-07-04T20:27:10.308Z"
   },
   {
    "duration": 6,
    "start_time": "2022-07-04T20:28:16.252Z"
   },
   {
    "duration": 7,
    "start_time": "2022-07-04T20:28:17.067Z"
   },
   {
    "duration": 1416,
    "start_time": "2022-07-04T20:28:17.573Z"
   },
   {
    "duration": 6,
    "start_time": "2022-07-04T20:31:25.619Z"
   },
   {
    "duration": 1362,
    "start_time": "2022-07-04T20:31:26.437Z"
   },
   {
    "duration": 7,
    "start_time": "2022-07-04T20:33:20.803Z"
   },
   {
    "duration": 1277,
    "start_time": "2022-07-04T20:33:21.851Z"
   },
   {
    "duration": 7,
    "start_time": "2022-07-04T20:33:46.874Z"
   },
   {
    "duration": 1235,
    "start_time": "2022-07-04T20:33:47.819Z"
   },
   {
    "duration": 6,
    "start_time": "2022-07-04T20:34:10.971Z"
   },
   {
    "duration": 1419,
    "start_time": "2022-07-04T20:34:12.554Z"
   },
   {
    "duration": 8,
    "start_time": "2022-07-04T20:34:39.931Z"
   },
   {
    "duration": 1388,
    "start_time": "2022-07-04T20:34:41.458Z"
   },
   {
    "duration": 5,
    "start_time": "2022-07-04T20:34:53.730Z"
   },
   {
    "duration": 1285,
    "start_time": "2022-07-04T20:34:54.897Z"
   },
   {
    "duration": 6,
    "start_time": "2022-07-04T20:35:18.578Z"
   },
   {
    "duration": 1388,
    "start_time": "2022-07-04T20:35:19.321Z"
   },
   {
    "duration": 1256,
    "start_time": "2022-07-04T20:35:42.698Z"
   },
   {
    "duration": 7,
    "start_time": "2022-07-04T20:35:46.473Z"
   },
   {
    "duration": 1389,
    "start_time": "2022-07-04T20:35:46.889Z"
   },
   {
    "duration": 1352,
    "start_time": "2022-07-04T20:36:50.640Z"
   },
   {
    "duration": 1370,
    "start_time": "2022-07-04T20:36:52.952Z"
   },
   {
    "duration": 1546,
    "start_time": "2022-07-04T20:42:51.597Z"
   },
   {
    "duration": 411,
    "start_time": "2022-07-04T20:42:53.146Z"
   },
   {
    "duration": 5,
    "start_time": "2022-07-04T20:42:53.558Z"
   },
   {
    "duration": 38,
    "start_time": "2022-07-04T20:42:53.566Z"
   },
   {
    "duration": 2148,
    "start_time": "2022-07-04T20:42:53.606Z"
   },
   {
    "duration": 29,
    "start_time": "2022-07-04T20:42:55.757Z"
   },
   {
    "duration": 2131,
    "start_time": "2022-07-04T20:42:55.788Z"
   },
   {
    "duration": 30,
    "start_time": "2022-07-04T20:42:57.920Z"
   },
   {
    "duration": 2295,
    "start_time": "2022-07-04T20:42:57.952Z"
   },
   {
    "duration": 13,
    "start_time": "2022-07-04T20:43:00.251Z"
   },
   {
    "duration": 318,
    "start_time": "2022-07-04T20:43:00.266Z"
   },
   {
    "duration": 0,
    "start_time": "2022-07-04T20:43:00.586Z"
   },
   {
    "duration": 0,
    "start_time": "2022-07-04T20:43:00.587Z"
   },
   {
    "duration": 0,
    "start_time": "2022-07-04T20:43:00.587Z"
   },
   {
    "duration": 0,
    "start_time": "2022-07-04T20:43:00.589Z"
   },
   {
    "duration": 0,
    "start_time": "2022-07-04T20:43:00.590Z"
   },
   {
    "duration": 0,
    "start_time": "2022-07-04T20:43:00.591Z"
   },
   {
    "duration": 0,
    "start_time": "2022-07-04T20:43:00.592Z"
   },
   {
    "duration": 0,
    "start_time": "2022-07-04T20:43:00.593Z"
   },
   {
    "duration": 0,
    "start_time": "2022-07-04T20:43:00.594Z"
   },
   {
    "duration": 1526,
    "start_time": "2022-07-04T20:43:33.314Z"
   },
   {
    "duration": 397,
    "start_time": "2022-07-04T20:43:34.842Z"
   },
   {
    "duration": 5,
    "start_time": "2022-07-04T20:43:35.243Z"
   },
   {
    "duration": 47,
    "start_time": "2022-07-04T20:43:35.250Z"
   },
   {
    "duration": 2064,
    "start_time": "2022-07-04T20:43:35.298Z"
   },
   {
    "duration": 27,
    "start_time": "2022-07-04T20:43:37.365Z"
   },
   {
    "duration": 1997,
    "start_time": "2022-07-04T20:43:37.394Z"
   },
   {
    "duration": 25,
    "start_time": "2022-07-04T20:43:39.393Z"
   },
   {
    "duration": 2300,
    "start_time": "2022-07-04T20:43:39.420Z"
   },
   {
    "duration": 9,
    "start_time": "2022-07-04T20:43:41.722Z"
   },
   {
    "duration": 302,
    "start_time": "2022-07-04T20:43:41.742Z"
   },
   {
    "duration": 0,
    "start_time": "2022-07-04T20:43:42.046Z"
   },
   {
    "duration": 0,
    "start_time": "2022-07-04T20:43:42.049Z"
   },
   {
    "duration": 0,
    "start_time": "2022-07-04T20:43:42.050Z"
   },
   {
    "duration": 0,
    "start_time": "2022-07-04T20:43:42.052Z"
   },
   {
    "duration": 0,
    "start_time": "2022-07-04T20:43:42.054Z"
   },
   {
    "duration": 0,
    "start_time": "2022-07-04T20:43:42.055Z"
   },
   {
    "duration": 1,
    "start_time": "2022-07-04T20:43:42.057Z"
   },
   {
    "duration": 0,
    "start_time": "2022-07-04T20:43:42.060Z"
   },
   {
    "duration": 0,
    "start_time": "2022-07-04T20:43:42.061Z"
   },
   {
    "duration": 10,
    "start_time": "2022-07-04T20:44:12.168Z"
   },
   {
    "duration": 33,
    "start_time": "2022-07-04T20:44:12.180Z"
   },
   {
    "duration": 143,
    "start_time": "2022-07-04T20:44:12.215Z"
   },
   {
    "duration": 219,
    "start_time": "2022-07-04T20:44:12.364Z"
   },
   {
    "duration": 6,
    "start_time": "2022-07-04T20:44:12.644Z"
   },
   {
    "duration": 104,
    "start_time": "2022-07-04T20:44:12.653Z"
   },
   {
    "duration": 0,
    "start_time": "2022-07-04T20:44:12.759Z"
   },
   {
    "duration": 0,
    "start_time": "2022-07-04T20:44:12.760Z"
   },
   {
    "duration": 0,
    "start_time": "2022-07-04T20:44:12.762Z"
   },
   {
    "duration": 0,
    "start_time": "2022-07-04T20:44:12.763Z"
   },
   {
    "duration": 0,
    "start_time": "2022-07-04T20:44:12.765Z"
   },
   {
    "duration": 11,
    "start_time": "2022-07-04T20:44:23.645Z"
   },
   {
    "duration": 93,
    "start_time": "2022-07-04T20:44:24.053Z"
   },
   {
    "duration": 28,
    "start_time": "2022-07-04T20:44:24.604Z"
   },
   {
    "duration": 22,
    "start_time": "2022-07-04T20:44:25.077Z"
   },
   {
    "duration": 3,
    "start_time": "2022-07-04T20:44:26.805Z"
   },
   {
    "duration": 14,
    "start_time": "2022-07-04T20:44:27.341Z"
   },
   {
    "duration": 4,
    "start_time": "2022-07-04T20:44:57.421Z"
   },
   {
    "duration": 6,
    "start_time": "2022-07-04T20:45:00.037Z"
   },
   {
    "duration": 7,
    "start_time": "2022-07-04T20:45:00.477Z"
   },
   {
    "duration": 1322,
    "start_time": "2022-07-04T20:45:00.850Z"
   },
   {
    "duration": 1359,
    "start_time": "2022-07-04T20:45:02.175Z"
   },
   {
    "duration": 1279,
    "start_time": "2022-07-04T20:45:03.536Z"
   },
   {
    "duration": 25,
    "start_time": "2022-07-04T20:51:35.809Z"
   },
   {
    "duration": 23,
    "start_time": "2022-07-04T20:51:36.394Z"
   },
   {
    "duration": 25,
    "start_time": "2022-07-04T20:51:37.105Z"
   },
   {
    "duration": 4,
    "start_time": "2022-07-04T20:57:53.038Z"
   },
   {
    "duration": 7,
    "start_time": "2022-07-04T20:57:53.478Z"
   },
   {
    "duration": 1474,
    "start_time": "2022-07-04T21:07:31.836Z"
   },
   {
    "duration": 397,
    "start_time": "2022-07-04T21:07:33.312Z"
   },
   {
    "duration": 5,
    "start_time": "2022-07-04T21:07:33.710Z"
   },
   {
    "duration": 39,
    "start_time": "2022-07-04T21:07:33.717Z"
   },
   {
    "duration": 1941,
    "start_time": "2022-07-04T21:07:33.758Z"
   },
   {
    "duration": 24,
    "start_time": "2022-07-04T21:07:35.701Z"
   },
   {
    "duration": 2032,
    "start_time": "2022-07-04T21:07:35.741Z"
   },
   {
    "duration": 26,
    "start_time": "2022-07-04T21:07:37.775Z"
   },
   {
    "duration": 2156,
    "start_time": "2022-07-04T21:07:37.803Z"
   },
   {
    "duration": 11,
    "start_time": "2022-07-04T21:07:39.963Z"
   },
   {
    "duration": 69,
    "start_time": "2022-07-04T21:07:39.976Z"
   },
   {
    "duration": 119,
    "start_time": "2022-07-04T21:07:40.046Z"
   },
   {
    "duration": 195,
    "start_time": "2022-07-04T21:07:40.167Z"
   },
   {
    "duration": 75,
    "start_time": "2022-07-04T21:07:40.367Z"
   },
   {
    "duration": 98,
    "start_time": "2022-07-04T21:07:40.445Z"
   },
   {
    "duration": 9,
    "start_time": "2022-07-04T21:07:40.545Z"
   },
   {
    "duration": 9,
    "start_time": "2022-07-04T21:07:40.555Z"
   },
   {
    "duration": 1211,
    "start_time": "2022-07-04T21:07:40.566Z"
   },
   {
    "duration": 1193,
    "start_time": "2022-07-04T21:07:41.778Z"
   },
   {
    "duration": 1223,
    "start_time": "2022-07-04T21:07:42.973Z"
   },
   {
    "duration": 11,
    "start_time": "2022-07-05T20:44:36.473Z"
   },
   {
    "duration": 4,
    "start_time": "2022-07-05T20:44:53.410Z"
   },
   {
    "duration": 46,
    "start_time": "2022-07-05T20:44:56.059Z"
   },
   {
    "duration": 1697,
    "start_time": "2022-07-05T20:45:02.977Z"
   },
   {
    "duration": 1497,
    "start_time": "2022-07-05T20:45:04.676Z"
   },
   {
    "duration": 5,
    "start_time": "2022-07-05T20:45:06.175Z"
   },
   {
    "duration": 32,
    "start_time": "2022-07-05T20:45:06.182Z"
   },
   {
    "duration": 1965,
    "start_time": "2022-07-05T20:45:06.215Z"
   },
   {
    "duration": 30,
    "start_time": "2022-07-05T20:45:08.181Z"
   },
   {
    "duration": 1902,
    "start_time": "2022-07-05T20:45:08.213Z"
   },
   {
    "duration": 21,
    "start_time": "2022-07-05T20:45:10.117Z"
   },
   {
    "duration": 2143,
    "start_time": "2022-07-05T20:45:10.140Z"
   },
   {
    "duration": 13,
    "start_time": "2022-07-05T20:45:12.286Z"
   },
   {
    "duration": 31,
    "start_time": "2022-07-05T20:45:12.301Z"
   },
   {
    "duration": 115,
    "start_time": "2022-07-05T20:45:12.399Z"
   },
   {
    "duration": 200,
    "start_time": "2022-07-05T20:45:12.516Z"
   },
   {
    "duration": 4,
    "start_time": "2022-07-05T20:45:12.798Z"
   },
   {
    "duration": 101,
    "start_time": "2022-07-05T20:45:12.804Z"
   },
   {
    "duration": 5,
    "start_time": "2022-07-05T20:45:12.907Z"
   },
   {
    "duration": 5,
    "start_time": "2022-07-05T20:45:12.914Z"
   },
   {
    "duration": 1327,
    "start_time": "2022-07-05T20:45:12.921Z"
   },
   {
    "duration": 0,
    "start_time": "2022-07-05T20:45:14.249Z"
   },
   {
    "duration": 0,
    "start_time": "2022-07-05T20:45:14.250Z"
   },
   {
    "duration": 5,
    "start_time": "2022-07-05T20:49:10.688Z"
   },
   {
    "duration": 1172,
    "start_time": "2022-07-05T20:49:11.882Z"
   },
   {
    "duration": 5,
    "start_time": "2022-07-05T20:49:23.787Z"
   },
   {
    "duration": 1218,
    "start_time": "2022-07-05T20:49:25.850Z"
   },
   {
    "duration": 7,
    "start_time": "2022-07-05T20:50:01.561Z"
   },
   {
    "duration": 1191,
    "start_time": "2022-07-05T20:50:03.689Z"
   },
   {
    "duration": 5,
    "start_time": "2022-07-05T20:50:25.874Z"
   },
   {
    "duration": 1219,
    "start_time": "2022-07-05T20:50:27.361Z"
   },
   {
    "duration": 1241,
    "start_time": "2022-07-05T20:50:32.409Z"
   },
   {
    "duration": 1225,
    "start_time": "2022-07-05T20:50:33.652Z"
   },
   {
    "duration": 1598,
    "start_time": "2022-07-05T20:53:25.662Z"
   },
   {
    "duration": 388,
    "start_time": "2022-07-05T20:53:27.262Z"
   },
   {
    "duration": 7,
    "start_time": "2022-07-05T20:53:27.652Z"
   },
   {
    "duration": 45,
    "start_time": "2022-07-05T20:53:27.662Z"
   },
   {
    "duration": 2000,
    "start_time": "2022-07-05T20:53:27.709Z"
   },
   {
    "duration": 29,
    "start_time": "2022-07-05T20:53:29.711Z"
   },
   {
    "duration": 1926,
    "start_time": "2022-07-05T20:53:29.742Z"
   },
   {
    "duration": 40,
    "start_time": "2022-07-05T20:53:31.671Z"
   },
   {
    "duration": 2140,
    "start_time": "2022-07-05T20:53:31.713Z"
   },
   {
    "duration": 13,
    "start_time": "2022-07-05T20:53:33.856Z"
   },
   {
    "duration": 128,
    "start_time": "2022-07-05T20:53:33.871Z"
   },
   {
    "duration": 128,
    "start_time": "2022-07-05T20:53:34.001Z"
   },
   {
    "duration": 183,
    "start_time": "2022-07-05T20:53:34.131Z"
   },
   {
    "duration": 4,
    "start_time": "2022-07-05T20:53:34.316Z"
   },
   {
    "duration": 182,
    "start_time": "2022-07-05T20:53:34.321Z"
   },
   {
    "duration": 11,
    "start_time": "2022-07-05T20:53:34.504Z"
   },
   {
    "duration": 10,
    "start_time": "2022-07-05T20:53:34.518Z"
   },
   {
    "duration": 1257,
    "start_time": "2022-07-05T20:53:34.530Z"
   },
   {
    "duration": 1375,
    "start_time": "2022-07-05T20:53:35.789Z"
   },
   {
    "duration": 1217,
    "start_time": "2022-07-05T20:53:37.166Z"
   }
  ],
  "kernelspec": {
   "display_name": "Python 3 (ipykernel)",
   "language": "python",
   "name": "python3"
  },
  "language_info": {
   "codemirror_mode": {
    "name": "ipython",
    "version": 3
   },
   "file_extension": ".py",
   "mimetype": "text/x-python",
   "name": "python",
   "nbconvert_exporter": "python",
   "pygments_lexer": "ipython3",
   "version": "3.9.12"
  },
  "toc": {
   "base_numbering": 1,
   "nav_menu": {},
   "number_sections": true,
   "sideBar": true,
   "skip_h1_title": true,
   "title_cell": "Table of Contents",
   "title_sidebar": "Contents",
   "toc_cell": false,
   "toc_position": {},
   "toc_section_display": true,
   "toc_window_display": false
  }
 },
 "nbformat": 4,
 "nbformat_minor": 2
}
