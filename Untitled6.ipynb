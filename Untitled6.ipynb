{
  "nbformat": 4,
  "nbformat_minor": 0,
  "metadata": {
    "colab": {
      "provenance": [],
      "collapsed_sections": []
    },
    "kernelspec": {
      "name": "python3",
      "display_name": "Python 3"
    },
    "language_info": {
      "name": "python"
    }
  },
  "cells": [
    {
      "cell_type": "markdown",
      "source": [
        "Телеком: исследование оттока клиентов\n",
        "Пока создаётся модель прогнозирования оттока клиентов, отдел маркетинга «Ниединогоразрыва.ком» приступает к проработке способов их удержания. Вам предстоит собрать нужную для этого информацию.\n",
        "\n",
        "Сравните распределения величин ежемесячных платежей (MonthlyCharges) всех клиентов и тех, кто ушёл. Для каждой группы посчитайте статистики: средние, минимальные и максимальные значения, медиану и величины 25%- и 75%-квартилей. Постройте гистограммы распределения.\n",
        "\n",
        "Сравните поведение клиентов этих двух групп. Для каждой постройте два любых графика, изображающих:\n",
        "\n",
        "долю пользователей телефонной связи;\n",
        "долю интернет-пользователей."
      ],
      "metadata": {
        "id": "Osg6M18KPPJZ"
      }
    },
    {
      "cell_type": "code",
      "execution_count": 80,
      "metadata": {
        "id": "LNGpsQ_RXhEj"
      },
      "outputs": [],
      "source": [
        "import pandas as pd\n",
        "import numpy as np\n",
        "import matplotlib.pyplot as plt\n",
        "import seaborn as sns\n",
        "from numpy.random import RandomState\n",
        "import math"
      ]
    },
    {
      "cell_type": "code",
      "source": [
        "try:\n",
        "  contract = pd.read_csv('/datasets/final_provider/contract.csv')\n",
        "\n",
        "  personal = pd.read_csv('/datasets/final_provider/personal.csv')\n",
        "\n",
        "  internet = pd.read_csv('/datasets/final_provider/internet.csv')\n",
        "\n",
        "  phone = pd.read_csv('/datasets/final_provider/phone.csv')\n",
        "except:\n",
        "  contract = pd.read_csv('/content/contract.csv')\n",
        "\n",
        "  personal = pd.read_csv('/content/personal.csv')\n",
        "\n",
        "  internet = pd.read_csv('/content/internet.csv')\n",
        "\n",
        "  phone = pd.read_csv('/content/phone.csv')"
      ],
      "metadata": {
        "id": "xjoGUWCEX-uH"
      },
      "execution_count": 81,
      "outputs": []
    },
    {
      "cell_type": "code",
      "source": [
        "a = list(contract[contract['TotalCharges']==' '].index)\n",
        "for i in a:\n",
        "  contract.loc[i, 'TotalCharges'] = contract.loc[i, 'MonthlyCharges'].copy()\n",
        "contract['TotalCharges'] = contract['TotalCharges'].astype('float')\n",
        "\n",
        "contract['EndDate'] = np.where(contract['EndDate'] == 'No', 0, 1)\n",
        "\n",
        "\n",
        "df = contract.merge(personal, how='left', on='customerID')\n",
        "df = df.merge(internet, how='left', on='customerID')\n",
        "df = df.merge(phone, how='left', on='customerID')\n",
        "\n",
        "df['InternetService'] = np.where(df['InternetService'].isna() == True, 'Not Use', 'Use')\n",
        "df['MultipleLines'] = np.where(df['MultipleLines'].isna() == True, 'Not Use', 'Use')"
      ],
      "metadata": {
        "id": "V00oj0NJX-3Z"
      },
      "execution_count": 82,
      "outputs": []
    },
    {
      "cell_type": "code",
      "source": [
        "df.info()"
      ],
      "metadata": {
        "id": "A3mc16yuX_Kd",
        "colab": {
          "base_uri": "https://localhost:8080/"
        },
        "outputId": "c9249ae2-3621-47de-fd4a-e7c65492b7ba"
      },
      "execution_count": 83,
      "outputs": [
        {
          "output_type": "stream",
          "name": "stdout",
          "text": [
            "<class 'pandas.core.frame.DataFrame'>\n",
            "Int64Index: 7043 entries, 0 to 7042\n",
            "Data columns (total 20 columns):\n",
            " #   Column            Non-Null Count  Dtype  \n",
            "---  ------            --------------  -----  \n",
            " 0   customerID        7043 non-null   object \n",
            " 1   BeginDate         7043 non-null   object \n",
            " 2   EndDate           7043 non-null   int64  \n",
            " 3   Type              7043 non-null   object \n",
            " 4   PaperlessBilling  7043 non-null   object \n",
            " 5   PaymentMethod     7043 non-null   object \n",
            " 6   MonthlyCharges    7043 non-null   float64\n",
            " 7   TotalCharges      7043 non-null   float64\n",
            " 8   gender            7043 non-null   object \n",
            " 9   SeniorCitizen     7043 non-null   int64  \n",
            " 10  Partner           7043 non-null   object \n",
            " 11  Dependents        7043 non-null   object \n",
            " 12  InternetService   7043 non-null   object \n",
            " 13  OnlineSecurity    5517 non-null   object \n",
            " 14  OnlineBackup      5517 non-null   object \n",
            " 15  DeviceProtection  5517 non-null   object \n",
            " 16  TechSupport       5517 non-null   object \n",
            " 17  StreamingTV       5517 non-null   object \n",
            " 18  StreamingMovies   5517 non-null   object \n",
            " 19  MultipleLines     7043 non-null   object \n",
            "dtypes: float64(2), int64(2), object(16)\n",
            "memory usage: 1.1+ MB\n"
          ]
        }
      ]
    },
    {
      "cell_type": "code",
      "source": [
        "df_exit = df[df['EndDate'] == 1].copy()\n",
        "df_noexit = df[df['EndDate'] == 0].copy()"
      ],
      "metadata": {
        "id": "lVauj5NGN4z_"
      },
      "execution_count": 84,
      "outputs": []
    },
    {
      "cell_type": "code",
      "source": [
        "df_exit.info()"
      ],
      "metadata": {
        "colab": {
          "base_uri": "https://localhost:8080/"
        },
        "id": "qFkHaIVmPkNi",
        "outputId": "6868083d-95eb-49f1-c995-8620f8a8f780"
      },
      "execution_count": 85,
      "outputs": [
        {
          "output_type": "stream",
          "name": "stdout",
          "text": [
            "<class 'pandas.core.frame.DataFrame'>\n",
            "Int64Index: 1869 entries, 2 to 7041\n",
            "Data columns (total 20 columns):\n",
            " #   Column            Non-Null Count  Dtype  \n",
            "---  ------            --------------  -----  \n",
            " 0   customerID        1869 non-null   object \n",
            " 1   BeginDate         1869 non-null   object \n",
            " 2   EndDate           1869 non-null   int64  \n",
            " 3   Type              1869 non-null   object \n",
            " 4   PaperlessBilling  1869 non-null   object \n",
            " 5   PaymentMethod     1869 non-null   object \n",
            " 6   MonthlyCharges    1869 non-null   float64\n",
            " 7   TotalCharges      1869 non-null   float64\n",
            " 8   gender            1869 non-null   object \n",
            " 9   SeniorCitizen     1869 non-null   int64  \n",
            " 10  Partner           1869 non-null   object \n",
            " 11  Dependents        1869 non-null   object \n",
            " 12  InternetService   1869 non-null   object \n",
            " 13  OnlineSecurity    1756 non-null   object \n",
            " 14  OnlineBackup      1756 non-null   object \n",
            " 15  DeviceProtection  1756 non-null   object \n",
            " 16  TechSupport       1756 non-null   object \n",
            " 17  StreamingTV       1756 non-null   object \n",
            " 18  StreamingMovies   1756 non-null   object \n",
            " 19  MultipleLines     1869 non-null   object \n",
            "dtypes: float64(2), int64(2), object(16)\n",
            "memory usage: 306.6+ KB\n"
          ]
        }
      ]
    },
    {
      "cell_type": "code",
      "source": [
        "df_graf = pd.DataFrame({'Exit': df_exit['MonthlyCharges'], 'No Exit': df_noexit['MonthlyCharges']})"
      ],
      "metadata": {
        "id": "RQ4AaaQ_PmlD"
      },
      "execution_count": 86,
      "outputs": []
    },
    {
      "cell_type": "code",
      "source": [
        "df_graf.head()"
      ],
      "metadata": {
        "colab": {
          "base_uri": "https://localhost:8080/",
          "height": 206
        },
        "id": "Z8YWiOatQjng",
        "outputId": "62f74534-7700-44d0-c56a-6e5a16a45bc0"
      },
      "execution_count": 87,
      "outputs": [
        {
          "output_type": "execute_result",
          "data": {
            "text/plain": [
              "    Exit  No Exit\n",
              "0    NaN    29.85\n",
              "1    NaN    56.95\n",
              "2  53.85      NaN\n",
              "3    NaN    42.30\n",
              "4  70.70      NaN"
            ],
            "text/html": [
              "\n",
              "  <div id=\"df-27e1bfd8-146b-4969-8e8a-4b34cd945409\">\n",
              "    <div class=\"colab-df-container\">\n",
              "      <div>\n",
              "<style scoped>\n",
              "    .dataframe tbody tr th:only-of-type {\n",
              "        vertical-align: middle;\n",
              "    }\n",
              "\n",
              "    .dataframe tbody tr th {\n",
              "        vertical-align: top;\n",
              "    }\n",
              "\n",
              "    .dataframe thead th {\n",
              "        text-align: right;\n",
              "    }\n",
              "</style>\n",
              "<table border=\"1\" class=\"dataframe\">\n",
              "  <thead>\n",
              "    <tr style=\"text-align: right;\">\n",
              "      <th></th>\n",
              "      <th>Exit</th>\n",
              "      <th>No Exit</th>\n",
              "    </tr>\n",
              "  </thead>\n",
              "  <tbody>\n",
              "    <tr>\n",
              "      <th>0</th>\n",
              "      <td>NaN</td>\n",
              "      <td>29.85</td>\n",
              "    </tr>\n",
              "    <tr>\n",
              "      <th>1</th>\n",
              "      <td>NaN</td>\n",
              "      <td>56.95</td>\n",
              "    </tr>\n",
              "    <tr>\n",
              "      <th>2</th>\n",
              "      <td>53.85</td>\n",
              "      <td>NaN</td>\n",
              "    </tr>\n",
              "    <tr>\n",
              "      <th>3</th>\n",
              "      <td>NaN</td>\n",
              "      <td>42.30</td>\n",
              "    </tr>\n",
              "    <tr>\n",
              "      <th>4</th>\n",
              "      <td>70.70</td>\n",
              "      <td>NaN</td>\n",
              "    </tr>\n",
              "  </tbody>\n",
              "</table>\n",
              "</div>\n",
              "      <button class=\"colab-df-convert\" onclick=\"convertToInteractive('df-27e1bfd8-146b-4969-8e8a-4b34cd945409')\"\n",
              "              title=\"Convert this dataframe to an interactive table.\"\n",
              "              style=\"display:none;\">\n",
              "        \n",
              "  <svg xmlns=\"http://www.w3.org/2000/svg\" height=\"24px\"viewBox=\"0 0 24 24\"\n",
              "       width=\"24px\">\n",
              "    <path d=\"M0 0h24v24H0V0z\" fill=\"none\"/>\n",
              "    <path d=\"M18.56 5.44l.94 2.06.94-2.06 2.06-.94-2.06-.94-.94-2.06-.94 2.06-2.06.94zm-11 1L8.5 8.5l.94-2.06 2.06-.94-2.06-.94L8.5 2.5l-.94 2.06-2.06.94zm10 10l.94 2.06.94-2.06 2.06-.94-2.06-.94-.94-2.06-.94 2.06-2.06.94z\"/><path d=\"M17.41 7.96l-1.37-1.37c-.4-.4-.92-.59-1.43-.59-.52 0-1.04.2-1.43.59L10.3 9.45l-7.72 7.72c-.78.78-.78 2.05 0 2.83L4 21.41c.39.39.9.59 1.41.59.51 0 1.02-.2 1.41-.59l7.78-7.78 2.81-2.81c.8-.78.8-2.07 0-2.86zM5.41 20L4 18.59l7.72-7.72 1.47 1.35L5.41 20z\"/>\n",
              "  </svg>\n",
              "      </button>\n",
              "      \n",
              "  <style>\n",
              "    .colab-df-container {\n",
              "      display:flex;\n",
              "      flex-wrap:wrap;\n",
              "      gap: 12px;\n",
              "    }\n",
              "\n",
              "    .colab-df-convert {\n",
              "      background-color: #E8F0FE;\n",
              "      border: none;\n",
              "      border-radius: 50%;\n",
              "      cursor: pointer;\n",
              "      display: none;\n",
              "      fill: #1967D2;\n",
              "      height: 32px;\n",
              "      padding: 0 0 0 0;\n",
              "      width: 32px;\n",
              "    }\n",
              "\n",
              "    .colab-df-convert:hover {\n",
              "      background-color: #E2EBFA;\n",
              "      box-shadow: 0px 1px 2px rgba(60, 64, 67, 0.3), 0px 1px 3px 1px rgba(60, 64, 67, 0.15);\n",
              "      fill: #174EA6;\n",
              "    }\n",
              "\n",
              "    [theme=dark] .colab-df-convert {\n",
              "      background-color: #3B4455;\n",
              "      fill: #D2E3FC;\n",
              "    }\n",
              "\n",
              "    [theme=dark] .colab-df-convert:hover {\n",
              "      background-color: #434B5C;\n",
              "      box-shadow: 0px 1px 3px 1px rgba(0, 0, 0, 0.15);\n",
              "      filter: drop-shadow(0px 1px 2px rgba(0, 0, 0, 0.3));\n",
              "      fill: #FFFFFF;\n",
              "    }\n",
              "  </style>\n",
              "\n",
              "      <script>\n",
              "        const buttonEl =\n",
              "          document.querySelector('#df-27e1bfd8-146b-4969-8e8a-4b34cd945409 button.colab-df-convert');\n",
              "        buttonEl.style.display =\n",
              "          google.colab.kernel.accessAllowed ? 'block' : 'none';\n",
              "\n",
              "        async function convertToInteractive(key) {\n",
              "          const element = document.querySelector('#df-27e1bfd8-146b-4969-8e8a-4b34cd945409');\n",
              "          const dataTable =\n",
              "            await google.colab.kernel.invokeFunction('convertToInteractive',\n",
              "                                                     [key], {});\n",
              "          if (!dataTable) return;\n",
              "\n",
              "          const docLinkHtml = 'Like what you see? Visit the ' +\n",
              "            '<a target=\"_blank\" href=https://colab.research.google.com/notebooks/data_table.ipynb>data table notebook</a>'\n",
              "            + ' to learn more about interactive tables.';\n",
              "          element.innerHTML = '';\n",
              "          dataTable['output_type'] = 'display_data';\n",
              "          await google.colab.output.renderOutput(dataTable, element);\n",
              "          const docLink = document.createElement('div');\n",
              "          docLink.innerHTML = docLinkHtml;\n",
              "          element.appendChild(docLink);\n",
              "        }\n",
              "      </script>\n",
              "    </div>\n",
              "  </div>\n",
              "  "
            ]
          },
          "metadata": {},
          "execution_count": 87
        }
      ]
    },
    {
      "cell_type": "code",
      "source": [
        "sns.histplot(df_graf)"
      ],
      "metadata": {
        "colab": {
          "base_uri": "https://localhost:8080/",
          "height": 282
        },
        "id": "FJJO_rZzQmjs",
        "outputId": "6b1fda4b-5ead-4682-a677-8fe3f9145656"
      },
      "execution_count": 88,
      "outputs": [
        {
          "output_type": "execute_result",
          "data": {
            "text/plain": [
              "<matplotlib.axes._subplots.AxesSubplot at 0x7fa5fb924390>"
            ]
          },
          "metadata": {},
          "execution_count": 88
        },
        {
          "output_type": "display_data",
          "data": {
            "text/plain": [
              "<Figure size 432x288 with 1 Axes>"
            ],
            "image/png": "[encoded data removed]"
          },
          "metadata": {
            "needs_background": "light"
          }
        }
      ]
    },
    {
      "cell_type": "code",
      "source": [
        "df_graf.describe()"
      ],
      "metadata": {
        "colab": {
          "base_uri": "https://localhost:8080/",
          "height": 300
        },
        "id": "kH_JUXQGQwQk",
        "outputId": "ef79e5c6-451f-452a-a531-cc08784f68a3"
      },
      "execution_count": 89,
      "outputs": [
        {
          "output_type": "execute_result",
          "data": {
            "text/plain": [
              "              Exit      No Exit\n",
              "count  1869.000000  5174.000000\n",
              "mean     74.441332    61.265124\n",
              "std      24.666053    31.092648\n",
              "min      18.850000    18.250000\n",
              "25%      56.150000    25.100000\n",
              "50%      79.650000    64.425000\n",
              "75%      94.200000    88.400000\n",
              "max     118.350000   118.750000"
            ],
            "text/html": [
              "\n",
              "  <div id=\"df-e411805a-ef39-4043-8c0b-543bbdc05388\">\n",
              "    <div class=\"colab-df-container\">\n",
              "      <div>\n",
              "<style scoped>\n",
              "    .dataframe tbody tr th:only-of-type {\n",
              "        vertical-align: middle;\n",
              "    }\n",
              "\n",
              "    .dataframe tbody tr th {\n",
              "        vertical-align: top;\n",
              "    }\n",
              "\n",
              "    .dataframe thead th {\n",
              "        text-align: right;\n",
              "    }\n",
              "</style>\n",
              "<table border=\"1\" class=\"dataframe\">\n",
              "  <thead>\n",
              "    <tr style=\"text-align: right;\">\n",
              "      <th></th>\n",
              "      <th>Exit</th>\n",
              "      <th>No Exit</th>\n",
              "    </tr>\n",
              "  </thead>\n",
              "  <tbody>\n",
              "    <tr>\n",
              "      <th>count</th>\n",
              "      <td>1869.000000</td>\n",
              "      <td>5174.000000</td>\n",
              "    </tr>\n",
              "    <tr>\n",
              "      <th>mean</th>\n",
              "      <td>74.441332</td>\n",
              "      <td>61.265124</td>\n",
              "    </tr>\n",
              "    <tr>\n",
              "      <th>std</th>\n",
              "      <td>24.666053</td>\n",
              "      <td>31.092648</td>\n",
              "    </tr>\n",
              "    <tr>\n",
              "      <th>min</th>\n",
              "      <td>18.850000</td>\n",
              "      <td>18.250000</td>\n",
              "    </tr>\n",
              "    <tr>\n",
              "      <th>25%</th>\n",
              "      <td>56.150000</td>\n",
              "      <td>25.100000</td>\n",
              "    </tr>\n",
              "    <tr>\n",
              "      <th>50%</th>\n",
              "      <td>79.650000</td>\n",
              "      <td>64.425000</td>\n",
              "    </tr>\n",
              "    <tr>\n",
              "      <th>75%</th>\n",
              "      <td>94.200000</td>\n",
              "      <td>88.400000</td>\n",
              "    </tr>\n",
              "    <tr>\n",
              "      <th>max</th>\n",
              "      <td>118.350000</td>\n",
              "      <td>118.750000</td>\n",
              "    </tr>\n",
              "  </tbody>\n",
              "</table>\n",
              "</div>\n",
              "      <button class=\"colab-df-convert\" onclick=\"convertToInteractive('df-e411805a-ef39-4043-8c0b-543bbdc05388')\"\n",
              "              title=\"Convert this dataframe to an interactive table.\"\n",
              "              style=\"display:none;\">\n",
              "        \n",
              "  <svg xmlns=\"http://www.w3.org/2000/svg\" height=\"24px\"viewBox=\"0 0 24 24\"\n",
              "       width=\"24px\">\n",
              "    <path d=\"M0 0h24v24H0V0z\" fill=\"none\"/>\n",
              "    <path d=\"M18.56 5.44l.94 2.06.94-2.06 2.06-.94-2.06-.94-.94-2.06-.94 2.06-2.06.94zm-11 1L8.5 8.5l.94-2.06 2.06-.94-2.06-.94L8.5 2.5l-.94 2.06-2.06.94zm10 10l.94 2.06.94-2.06 2.06-.94-2.06-.94-.94-2.06-.94 2.06-2.06.94z\"/><path d=\"M17.41 7.96l-1.37-1.37c-.4-.4-.92-.59-1.43-.59-.52 0-1.04.2-1.43.59L10.3 9.45l-7.72 7.72c-.78.78-.78 2.05 0 2.83L4 21.41c.39.39.9.59 1.41.59.51 0 1.02-.2 1.41-.59l7.78-7.78 2.81-2.81c.8-.78.8-2.07 0-2.86zM5.41 20L4 18.59l7.72-7.72 1.47 1.35L5.41 20z\"/>\n",
              "  </svg>\n",
              "      </button>\n",
              "      \n",
              "  <style>\n",
              "    .colab-df-container {\n",
              "      display:flex;\n",
              "      flex-wrap:wrap;\n",
              "      gap: 12px;\n",
              "    }\n",
              "\n",
              "    .colab-df-convert {\n",
              "      background-color: #E8F0FE;\n",
              "      border: none;\n",
              "      border-radius: 50%;\n",
              "      cursor: pointer;\n",
              "      display: none;\n",
              "      fill: #1967D2;\n",
              "      height: 32px;\n",
              "      padding: 0 0 0 0;\n",
              "      width: 32px;\n",
              "    }\n",
              "\n",
              "    .colab-df-convert:hover {\n",
              "      background-color: #E2EBFA;\n",
              "      box-shadow: 0px 1px 2px rgba(60, 64, 67, 0.3), 0px 1px 3px 1px rgba(60, 64, 67, 0.15);\n",
              "      fill: #174EA6;\n",
              "    }\n",
              "\n",
              "    [theme=dark] .colab-df-convert {\n",
              "      background-color: #3B4455;\n",
              "      fill: #D2E3FC;\n",
              "    }\n",
              "\n",
              "    [theme=dark] .colab-df-convert:hover {\n",
              "      background-color: #434B5C;\n",
              "      box-shadow: 0px 1px 3px 1px rgba(0, 0, 0, 0.15);\n",
              "      filter: drop-shadow(0px 1px 2px rgba(0, 0, 0, 0.3));\n",
              "      fill: #FFFFFF;\n",
              "    }\n",
              "  </style>\n",
              "\n",
              "      <script>\n",
              "        const buttonEl =\n",
              "          document.querySelector('#df-e411805a-ef39-4043-8c0b-543bbdc05388 button.colab-df-convert');\n",
              "        buttonEl.style.display =\n",
              "          google.colab.kernel.accessAllowed ? 'block' : 'none';\n",
              "\n",
              "        async function convertToInteractive(key) {\n",
              "          const element = document.querySelector('#df-e411805a-ef39-4043-8c0b-543bbdc05388');\n",
              "          const dataTable =\n",
              "            await google.colab.kernel.invokeFunction('convertToInteractive',\n",
              "                                                     [key], {});\n",
              "          if (!dataTable) return;\n",
              "\n",
              "          const docLinkHtml = 'Like what you see? Visit the ' +\n",
              "            '<a target=\"_blank\" href=https://colab.research.google.com/notebooks/data_table.ipynb>data table notebook</a>'\n",
              "            + ' to learn more about interactive tables.';\n",
              "          element.innerHTML = '';\n",
              "          dataTable['output_type'] = 'display_data';\n",
              "          await google.colab.output.renderOutput(dataTable, element);\n",
              "          const docLink = document.createElement('div');\n",
              "          docLink.innerHTML = docLinkHtml;\n",
              "          element.appendChild(docLink);\n",
              "        }\n",
              "      </script>\n",
              "    </div>\n",
              "  </div>\n",
              "  "
            ]
          },
          "metadata": {},
          "execution_count": 89
        }
      ]
    },
    {
      "cell_type": "code",
      "source": [
        "df_all = pd.DataFrame({'Exit': df_exit['MultipleLines'], 'No Exit': df_noexit['MultipleLines']})\n",
        "df_all"
      ],
      "metadata": {
        "colab": {
          "base_uri": "https://localhost:8080/",
          "height": 424
        },
        "id": "xZ2epTIJRHoJ",
        "outputId": "3fffd3ed-4ace-405a-fbbd-dfb94b54f4b5"
      },
      "execution_count": 93,
      "outputs": [
        {
          "output_type": "execute_result",
          "data": {
            "text/plain": [
              "     Exit  No Exit\n",
              "0     NaN  Not Use\n",
              "1     NaN      Use\n",
              "2     Use      NaN\n",
              "3     NaN  Not Use\n",
              "4     Use      NaN\n",
              "...   ...      ...\n",
              "7038  NaN      Use\n",
              "7039  NaN      Use\n",
              "7040  NaN  Not Use\n",
              "7041  Use      NaN\n",
              "7042  NaN      Use\n",
              "\n",
              "[7043 rows x 2 columns]"
            ],
            "text/html": [
              "\n",
              "  <div id=\"df-ff8cc9c0-a02a-479a-a97b-cbfcc3486ee5\">\n",
              "    <div class=\"colab-df-container\">\n",
              "      <div>\n",
              "<style scoped>\n",
              "    .dataframe tbody tr th:only-of-type {\n",
              "        vertical-align: middle;\n",
              "    }\n",
              "\n",
              "    .dataframe tbody tr th {\n",
              "        vertical-align: top;\n",
              "    }\n",
              "\n",
              "    .dataframe thead th {\n",
              "        text-align: right;\n",
              "    }\n",
              "</style>\n",
              "<table border=\"1\" class=\"dataframe\">\n",
              "  <thead>\n",
              "    <tr style=\"text-align: right;\">\n",
              "      <th></th>\n",
              "      <th>Exit</th>\n",
              "      <th>No Exit</th>\n",
              "    </tr>\n",
              "  </thead>\n",
              "  <tbody>\n",
              "    <tr>\n",
              "      <th>0</th>\n",
              "      <td>NaN</td>\n",
              "      <td>Not Use</td>\n",
              "    </tr>\n",
              "    <tr>\n",
              "      <th>1</th>\n",
              "      <td>NaN</td>\n",
              "      <td>Use</td>\n",
              "    </tr>\n",
              "    <tr>\n",
              "      <th>2</th>\n",
              "      <td>Use</td>\n",
              "      <td>NaN</td>\n",
              "    </tr>\n",
              "    <tr>\n",
              "      <th>3</th>\n",
              "      <td>NaN</td>\n",
              "      <td>Not Use</td>\n",
              "    </tr>\n",
              "    <tr>\n",
              "      <th>4</th>\n",
              "      <td>Use</td>\n",
              "      <td>NaN</td>\n",
              "    </tr>\n",
              "    <tr>\n",
              "      <th>...</th>\n",
              "      <td>...</td>\n",
              "      <td>...</td>\n",
              "    </tr>\n",
              "    <tr>\n",
              "      <th>7038</th>\n",
              "      <td>NaN</td>\n",
              "      <td>Use</td>\n",
              "    </tr>\n",
              "    <tr>\n",
              "      <th>7039</th>\n",
              "      <td>NaN</td>\n",
              "      <td>Use</td>\n",
              "    </tr>\n",
              "    <tr>\n",
              "      <th>7040</th>\n",
              "      <td>NaN</td>\n",
              "      <td>Not Use</td>\n",
              "    </tr>\n",
              "    <tr>\n",
              "      <th>7041</th>\n",
              "      <td>Use</td>\n",
              "      <td>NaN</td>\n",
              "    </tr>\n",
              "    <tr>\n",
              "      <th>7042</th>\n",
              "      <td>NaN</td>\n",
              "      <td>Use</td>\n",
              "    </tr>\n",
              "  </tbody>\n",
              "</table>\n",
              "<p>7043 rows × 2 columns</p>\n",
              "</div>\n",
              "      <button class=\"colab-df-convert\" onclick=\"convertToInteractive('df-ff8cc9c0-a02a-479a-a97b-cbfcc3486ee5')\"\n",
              "              title=\"Convert this dataframe to an interactive table.\"\n",
              "              style=\"display:none;\">\n",
              "        \n",
              "  <svg xmlns=\"http://www.w3.org/2000/svg\" height=\"24px\"viewBox=\"0 0 24 24\"\n",
              "       width=\"24px\">\n",
              "    <path d=\"M0 0h24v24H0V0z\" fill=\"none\"/>\n",
              "    <path d=\"M18.56 5.44l.94 2.06.94-2.06 2.06-.94-2.06-.94-.94-2.06-.94 2.06-2.06.94zm-11 1L8.5 8.5l.94-2.06 2.06-.94-2.06-.94L8.5 2.5l-.94 2.06-2.06.94zm10 10l.94 2.06.94-2.06 2.06-.94-2.06-.94-.94-2.06-.94 2.06-2.06.94z\"/><path d=\"M17.41 7.96l-1.37-1.37c-.4-.4-.92-.59-1.43-.59-.52 0-1.04.2-1.43.59L10.3 9.45l-7.72 7.72c-.78.78-.78 2.05 0 2.83L4 21.41c.39.39.9.59 1.41.59.51 0 1.02-.2 1.41-.59l7.78-7.78 2.81-2.81c.8-.78.8-2.07 0-2.86zM5.41 20L4 18.59l7.72-7.72 1.47 1.35L5.41 20z\"/>\n",
              "  </svg>\n",
              "      </button>\n",
              "      \n",
              "  <style>\n",
              "    .colab-df-container {\n",
              "      display:flex;\n",
              "      flex-wrap:wrap;\n",
              "      gap: 12px;\n",
              "    }\n",
              "\n",
              "    .colab-df-convert {\n",
              "      background-color: #E8F0FE;\n",
              "      border: none;\n",
              "      border-radius: 50%;\n",
              "      cursor: pointer;\n",
              "      display: none;\n",
              "      fill: #1967D2;\n",
              "      height: 32px;\n",
              "      padding: 0 0 0 0;\n",
              "      width: 32px;\n",
              "    }\n",
              "\n",
              "    .colab-df-convert:hover {\n",
              "      background-color: #E2EBFA;\n",
              "      box-shadow: 0px 1px 2px rgba(60, 64, 67, 0.3), 0px 1px 3px 1px rgba(60, 64, 67, 0.15);\n",
              "      fill: #174EA6;\n",
              "    }\n",
              "\n",
              "    [theme=dark] .colab-df-convert {\n",
              "      background-color: #3B4455;\n",
              "      fill: #D2E3FC;\n",
              "    }\n",
              "\n",
              "    [theme=dark] .colab-df-convert:hover {\n",
              "      background-color: #434B5C;\n",
              "      box-shadow: 0px 1px 3px 1px rgba(0, 0, 0, 0.15);\n",
              "      filter: drop-shadow(0px 1px 2px rgba(0, 0, 0, 0.3));\n",
              "      fill: #FFFFFF;\n",
              "    }\n",
              "  </style>\n",
              "\n",
              "      <script>\n",
              "        const buttonEl =\n",
              "          document.querySelector('#df-ff8cc9c0-a02a-479a-a97b-cbfcc3486ee5 button.colab-df-convert');\n",
              "        buttonEl.style.display =\n",
              "          google.colab.kernel.accessAllowed ? 'block' : 'none';\n",
              "\n",
              "        async function convertToInteractive(key) {\n",
              "          const element = document.querySelector('#df-ff8cc9c0-a02a-479a-a97b-cbfcc3486ee5');\n",
              "          const dataTable =\n",
              "            await google.colab.kernel.invokeFunction('convertToInteractive',\n",
              "                                                     [key], {});\n",
              "          if (!dataTable) return;\n",
              "\n",
              "          const docLinkHtml = 'Like what you see? Visit the ' +\n",
              "            '<a target=\"_blank\" href=https://colab.research.google.com/notebooks/data_table.ipynb>data table notebook</a>'\n",
              "            + ' to learn more about interactive tables.';\n",
              "          element.innerHTML = '';\n",
              "          dataTable['output_type'] = 'display_data';\n",
              "          await google.colab.output.renderOutput(dataTable, element);\n",
              "          const docLink = document.createElement('div');\n",
              "          docLink.innerHTML = docLinkHtml;\n",
              "          element.appendChild(docLink);\n",
              "        }\n",
              "      </script>\n",
              "    </div>\n",
              "  </div>\n",
              "  "
            ]
          },
          "metadata": {},
          "execution_count": 93
        }
      ]
    },
    {
      "cell_type": "code",
      "source": [
        "df_1 = df_exit.groupby('InternetService').size().reset_index(name='counts')\n",
        "df_2 = df_noexit.groupby('InternetService').size().reset_index(name='counts')\n",
        "\n",
        "# Draw Plot\n",
        "fig, ax = plt.subplots(1,2,figsize=(12, 7), subplot_kw=dict(aspect=\"equal\"), dpi= 80)\n",
        "\n",
        "data = df_1['counts']\n",
        "categories = df_1['InternetService']\n",
        "\n",
        "def func(pct, allvals):\n",
        "    absolute = int(pct/100.*np.sum(allvals))\n",
        "    return \"{:.1f}% ({:d} )\".format(pct, absolute)\n",
        "\n",
        "wedges, texts, autotexts = ax[0].pie(data, \n",
        "                                  autopct=lambda pct: func(pct, data),\n",
        "                                  textprops=dict(color=\"w\"), \n",
        "                                  colors=plt.cm.Dark2.colors,\n",
        "                                 startangle=140)\n",
        "\n",
        "data = df_2['counts']\n",
        "categories = df_2['InternetService']\n",
        "\n",
        "ax[0].legend(wedges, categories, title=\"Internet\", loc=\"center left\", bbox_to_anchor=(1, 0, 0.5, 1))\n",
        "plt.setp(autotexts, size=10, weight=700)\n",
        "ax[0].set_title(\"Ex-Client\")\n",
        "\n",
        "def func(pct, allvals):\n",
        "    absolute = int(pct/100.*np.sum(allvals))\n",
        "    return \"{:.1f}% ({:d} )\".format(pct, absolute)\n",
        "\n",
        "wedges, texts, autotexts = ax[1].pie(data, \n",
        "                                  autopct=lambda pct: func(pct, data),\n",
        "                                  textprops=dict(color=\"w\"), \n",
        "                                  colors=plt.cm.Dark2.colors,\n",
        "                                 startangle=140)\n",
        "\n",
        "# Decoration\n",
        "ax[1].legend(wedges, categories, title=\"Internet\", loc=\"center left\", bbox_to_anchor=(1, 0, 0.5, 1))\n",
        "plt.setp(autotexts, size=10, weight=700)\n",
        "ax[1].set_title(\"Client\")\n",
        "plt.show()"
      ],
      "metadata": {
        "colab": {
          "base_uri": "https://localhost:8080/",
          "height": 387
        },
        "id": "GmMLfvENTtkS",
        "outputId": "1f9fb1b9-bd78-47f4-c134-f07ab94a9048"
      },
      "execution_count": 122,
      "outputs": [
        {
          "output_type": "display_data",
          "data": {
            "text/plain": [
              "<Figure size 960x560 with 2 Axes>"
            ],
            "image/png": "[encoded data removed]"
          },
          "metadata": {}
        }
      ]
    },
    {
      "cell_type": "code",
      "source": [
        "df_1 = df_exit.groupby('MultipleLines').size().reset_index(name='counts')\n",
        "df_2 = df_noexit.groupby('MultipleLines').size().reset_index(name='counts')\n",
        "\n",
        "# Draw Plot\n",
        "fig, ax = plt.subplots(1,2,figsize=(12, 7), subplot_kw=dict(aspect=\"equal\"), dpi= 80)\n",
        "\n",
        "data = df_1['counts']\n",
        "categories = df_1['MultipleLines']\n",
        "\n",
        "def func(pct, allvals):\n",
        "    absolute = int(pct/100.*np.sum(allvals))\n",
        "    return \"{:.1f}% ({:d} )\".format(pct, absolute)\n",
        "\n",
        "wedges, texts, autotexts = ax[0].pie(data, \n",
        "                                  autopct=lambda pct: func(pct, data),\n",
        "                                  textprops=dict(color=\"w\"), \n",
        "                                  colors=plt.cm.Dark2.colors,\n",
        "                                 startangle=140)\n",
        "\n",
        "data = df_2['counts']\n",
        "categories = df_2['MultipleLines']\n",
        "\n",
        "ax[0].legend(wedges, categories, title=\"Phone\", loc=\"center left\", bbox_to_anchor=(1, 0, 0.5, 1))\n",
        "plt.setp(autotexts, size=10, weight=700)\n",
        "ax[0].set_title(\"Ex-Client\")\n",
        "\n",
        "def func(pct, allvals):\n",
        "    absolute = int(pct/100.*np.sum(allvals))\n",
        "    return \"{:.1f}% ({:d} )\".format(pct, absolute)\n",
        "\n",
        "wedges, texts, autotexts = ax[1].pie(data, \n",
        "                                  autopct=lambda pct: func(pct, data),\n",
        "                                  textprops=dict(color=\"w\"), \n",
        "                                  colors=plt.cm.Dark2.colors,\n",
        "                                 startangle=140)\n",
        "\n",
        "# Decoration\n",
        "ax[1].legend(wedges, categories, title=\"Phone\", loc=\"center left\", bbox_to_anchor=(1, 0, 0.5, 1))\n",
        "plt.setp(autotexts, size=10, weight=700)\n",
        "ax[1].set_title(\"Client\")\n",
        "plt.show()"
      ],
      "metadata": {
        "colab": {
          "base_uri": "https://localhost:8080/",
          "height": 387
        },
        "id": "On_5FWpgVmFW",
        "outputId": "7dae389f-7710-41e8-8999-e499c05b4c7b"
      },
      "execution_count": 123,
      "outputs": [
        {
          "output_type": "display_data",
          "data": {
            "text/plain": [
              "<Figure size 960x560 with 2 Axes>"
            ],
            "image/png": "[encoded data removed]"
          },
          "metadata": {}
        }
      ]
    },
    {
      "cell_type": "code",
      "source": [],
      "metadata": {
        "id": "6bNZ3EdSbhsY"
      },
      "execution_count": null,
      "outputs": []
    }
  ]
}