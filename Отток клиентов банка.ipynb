{
 "cells": [
  {
   "cell_type": "markdown",
   "metadata": {
    "toc": true
   },
   "source": [
    "<h1>Содержание<span class=\"tocSkip\"></span></h1>\n",
    "<div class=\"toc\"><ul class=\"toc-item\"><li><span><a href=\"#Подготовка-данных\" data-toc-modified-id=\"Подготовка-данных-1\"><span class=\"toc-item-num\">1&nbsp;&nbsp;</span>Подготовка данных</a></span><ul class=\"toc-item\"><li><span><a href=\"#Импорт-библиотек\" data-toc-modified-id=\"Импорт-библиотек-1.1\"><span class=\"toc-item-num\">1.1&nbsp;&nbsp;</span>Импорт библиотек</a></span></li><li><span><a href=\"#Загрузка-данных\" data-toc-modified-id=\"Загрузка-данных-1.2\"><span class=\"toc-item-num\">1.2&nbsp;&nbsp;</span>Загрузка данных</a></span></li><li><span><a href=\"#Предобработка-данных\" data-toc-modified-id=\"Предобработка-данных-1.3\"><span class=\"toc-item-num\">1.3&nbsp;&nbsp;</span>Предобработка данных</a></span></li><li><span><a href=\"#Выводы\" data-toc-modified-id=\"Выводы-1.4\"><span class=\"toc-item-num\">1.4&nbsp;&nbsp;</span>Выводы</a></span></li></ul></li><li><span><a href=\"#Исследование-задачи\" data-toc-modified-id=\"Исследование-задачи-2\"><span class=\"toc-item-num\">2&nbsp;&nbsp;</span>Исследование задачи</a></span><ul class=\"toc-item\"><li><span><a href=\"#Случайный-лес\" data-toc-modified-id=\"Случайный-лес-2.1\"><span class=\"toc-item-num\">2.1&nbsp;&nbsp;</span>Случайный лес</a></span></li><li><span><a href=\"#Логистическая-регрессия\" data-toc-modified-id=\"Логистическая-регрессия-2.2\"><span class=\"toc-item-num\">2.2&nbsp;&nbsp;</span>Логистическая регрессия</a></span></li><li><span><a href=\"#Выводы\" data-toc-modified-id=\"Выводы-2.3\"><span class=\"toc-item-num\">2.3&nbsp;&nbsp;</span>Выводы</a></span></li></ul></li><li><span><a href=\"#Борьба-с-дисбалансом\" data-toc-modified-id=\"Борьба-с-дисбалансом-3\"><span class=\"toc-item-num\">3&nbsp;&nbsp;</span>Борьба с дисбалансом</a></span><ul class=\"toc-item\"><li><span><a href=\"#Баланас-классов-методом-'class_weight'\" data-toc-modified-id=\"Баланас-классов-методом-'class_weight'-3.1\"><span class=\"toc-item-num\">3.1&nbsp;&nbsp;</span>Баланас классов методом 'class_weight'</a></span></li><li><span><a href=\"#Увеличение-выборки\" data-toc-modified-id=\"Увеличение-выборки-3.2\"><span class=\"toc-item-num\">3.2&nbsp;&nbsp;</span>Увеличение выборки</a></span></li><li><span><a href=\"#Выводы\" data-toc-modified-id=\"Выводы-3.3\"><span class=\"toc-item-num\">3.3&nbsp;&nbsp;</span>Выводы</a></span></li></ul></li><li><span><a href=\"#Тестирование-модели\" data-toc-modified-id=\"Тестирование-модели-4\"><span class=\"toc-item-num\">4&nbsp;&nbsp;</span>Тестирование модели</a></span></li><li><span><a href=\"#Вывод\" data-toc-modified-id=\"Вывод-5\"><span class=\"toc-item-num\">5&nbsp;&nbsp;</span>Вывод</a></span></li></ul></div>"
   ]
  },
  {
   "cell_type": "markdown",
   "metadata": {},
   "source": [
    "# Отток клиентов"
   ]
  },
  {
   "cell_type": "markdown",
   "metadata": {},
   "source": [
    "Из «Бета-Банка» стали уходить клиенты. Каждый месяц. Немного, но заметно. Банковские маркетологи посчитали: сохранять текущих клиентов дешевле, чем привлекать новых.\n",
    "\n",
    "Нужно спрогнозировать, уйдёт клиент из банка в ближайшее время или нет. Вам предоставлены исторические данные о поведении клиентов и расторжении договоров с банком. \n",
    "\n",
    "Постройте модель с предельно большим значением *F1*-меры. Чтобы сдать проект успешно, нужно довести метрику до 0.59. Проверьте *F1*-меру на тестовой выборке самостоятельно.\n",
    "\n",
    "Дополнительно измеряйте *AUC-ROC*, сравнивайте её значение с *F1*-мерой.\n",
    "\n",
    "Источник данных: [https://www.kaggle.com/barelydedicated/bank-customer-churn-modeling](https://www.kaggle.com/barelydedicated/bank-customer-churn-modeling)"
   ]
  },
  {
   "cell_type": "markdown",
   "metadata": {},
   "source": [
    "## Подготовка данных"
   ]
  },
  {
   "cell_type": "markdown",
   "metadata": {},
   "source": [
    "### Импорт библиотек"
   ]
  },
  {
   "cell_type": "code",
   "execution_count": 1,
   "metadata": {},
   "outputs": [],
   "source": [
    "import pandas as pd\n",
    "import matplotlib.pyplot as plt\n",
    "import seaborn as sns\n",
    "import numpy as np\n",
    "\n",
    "from sklearn.preprocessing import StandardScaler\n",
    "from sklearn.model_selection import train_test_split\n",
    "from sklearn.linear_model import LogisticRegression\n",
    "from sklearn.ensemble import RandomForestClassifier\n",
    "from sklearn.metrics import mean_absolute_error\n",
    "from sklearn.utils import shuffle\n",
    "from sklearn.metrics import accuracy_score, f1_score, roc_auc_score, r2_score, roc_curve"
   ]
  },
  {
   "cell_type": "markdown",
   "metadata": {},
   "source": [
    "### Загрузка данных"
   ]
  },
  {
   "cell_type": "code",
   "execution_count": 2,
   "metadata": {},
   "outputs": [],
   "source": [
    "df = pd.read_csv('/datasets/Churn.csv')"
   ]
  },
  {
   "cell_type": "code",
   "execution_count": 3,
   "metadata": {},
   "outputs": [
    {
     "data": {
      "text/html": [
       "<div>\n",
       "<style scoped>\n",
       "    .dataframe tbody tr th:only-of-type {\n",
       "        vertical-align: middle;\n",
       "    }\n",
       "\n",
       "    .dataframe tbody tr th {\n",
       "        vertical-align: top;\n",
       "    }\n",
       "\n",
       "    .dataframe thead th {\n",
       "        text-align: right;\n",
       "    }\n",
       "</style>\n",
       "<table border=\"1\" class=\"dataframe\">\n",
       "  <thead>\n",
       "    <tr style=\"text-align: right;\">\n",
       "      <th></th>\n",
       "      <th>RowNumber</th>\n",
       "      <th>CustomerId</th>\n",
       "      <th>Surname</th>\n",
       "      <th>CreditScore</th>\n",
       "      <th>Geography</th>\n",
       "      <th>Gender</th>\n",
       "      <th>Age</th>\n",
       "      <th>Tenure</th>\n",
       "      <th>Balance</th>\n",
       "      <th>NumOfProducts</th>\n",
       "      <th>HasCrCard</th>\n",
       "      <th>IsActiveMember</th>\n",
       "      <th>EstimatedSalary</th>\n",
       "      <th>Exited</th>\n",
       "    </tr>\n",
       "  </thead>\n",
       "  <tbody>\n",
       "    <tr>\n",
       "      <th>0</th>\n",
       "      <td>1</td>\n",
       "      <td>15634602</td>\n",
       "      <td>Hargrave</td>\n",
       "      <td>619</td>\n",
       "      <td>France</td>\n",
       "      <td>Female</td>\n",
       "      <td>42</td>\n",
       "      <td>2.0</td>\n",
       "      <td>0.00</td>\n",
       "      <td>1</td>\n",
       "      <td>1</td>\n",
       "      <td>1</td>\n",
       "      <td>101348.88</td>\n",
       "      <td>1</td>\n",
       "    </tr>\n",
       "    <tr>\n",
       "      <th>1</th>\n",
       "      <td>2</td>\n",
       "      <td>15647311</td>\n",
       "      <td>Hill</td>\n",
       "      <td>608</td>\n",
       "      <td>Spain</td>\n",
       "      <td>Female</td>\n",
       "      <td>41</td>\n",
       "      <td>1.0</td>\n",
       "      <td>83807.86</td>\n",
       "      <td>1</td>\n",
       "      <td>0</td>\n",
       "      <td>1</td>\n",
       "      <td>112542.58</td>\n",
       "      <td>0</td>\n",
       "    </tr>\n",
       "    <tr>\n",
       "      <th>2</th>\n",
       "      <td>3</td>\n",
       "      <td>15619304</td>\n",
       "      <td>Onio</td>\n",
       "      <td>502</td>\n",
       "      <td>France</td>\n",
       "      <td>Female</td>\n",
       "      <td>42</td>\n",
       "      <td>8.0</td>\n",
       "      <td>159660.80</td>\n",
       "      <td>3</td>\n",
       "      <td>1</td>\n",
       "      <td>0</td>\n",
       "      <td>113931.57</td>\n",
       "      <td>1</td>\n",
       "    </tr>\n",
       "    <tr>\n",
       "      <th>3</th>\n",
       "      <td>4</td>\n",
       "      <td>15701354</td>\n",
       "      <td>Boni</td>\n",
       "      <td>699</td>\n",
       "      <td>France</td>\n",
       "      <td>Female</td>\n",
       "      <td>39</td>\n",
       "      <td>1.0</td>\n",
       "      <td>0.00</td>\n",
       "      <td>2</td>\n",
       "      <td>0</td>\n",
       "      <td>0</td>\n",
       "      <td>93826.63</td>\n",
       "      <td>0</td>\n",
       "    </tr>\n",
       "    <tr>\n",
       "      <th>4</th>\n",
       "      <td>5</td>\n",
       "      <td>15737888</td>\n",
       "      <td>Mitchell</td>\n",
       "      <td>850</td>\n",
       "      <td>Spain</td>\n",
       "      <td>Female</td>\n",
       "      <td>43</td>\n",
       "      <td>2.0</td>\n",
       "      <td>125510.82</td>\n",
       "      <td>1</td>\n",
       "      <td>1</td>\n",
       "      <td>1</td>\n",
       "      <td>79084.10</td>\n",
       "      <td>0</td>\n",
       "    </tr>\n",
       "    <tr>\n",
       "      <th>5</th>\n",
       "      <td>6</td>\n",
       "      <td>15574012</td>\n",
       "      <td>Chu</td>\n",
       "      <td>645</td>\n",
       "      <td>Spain</td>\n",
       "      <td>Male</td>\n",
       "      <td>44</td>\n",
       "      <td>8.0</td>\n",
       "      <td>113755.78</td>\n",
       "      <td>2</td>\n",
       "      <td>1</td>\n",
       "      <td>0</td>\n",
       "      <td>149756.71</td>\n",
       "      <td>1</td>\n",
       "    </tr>\n",
       "    <tr>\n",
       "      <th>6</th>\n",
       "      <td>7</td>\n",
       "      <td>15592531</td>\n",
       "      <td>Bartlett</td>\n",
       "      <td>822</td>\n",
       "      <td>France</td>\n",
       "      <td>Male</td>\n",
       "      <td>50</td>\n",
       "      <td>7.0</td>\n",
       "      <td>0.00</td>\n",
       "      <td>2</td>\n",
       "      <td>1</td>\n",
       "      <td>1</td>\n",
       "      <td>10062.80</td>\n",
       "      <td>0</td>\n",
       "    </tr>\n",
       "    <tr>\n",
       "      <th>7</th>\n",
       "      <td>8</td>\n",
       "      <td>15656148</td>\n",
       "      <td>Obinna</td>\n",
       "      <td>376</td>\n",
       "      <td>Germany</td>\n",
       "      <td>Female</td>\n",
       "      <td>29</td>\n",
       "      <td>4.0</td>\n",
       "      <td>115046.74</td>\n",
       "      <td>4</td>\n",
       "      <td>1</td>\n",
       "      <td>0</td>\n",
       "      <td>119346.88</td>\n",
       "      <td>1</td>\n",
       "    </tr>\n",
       "    <tr>\n",
       "      <th>8</th>\n",
       "      <td>9</td>\n",
       "      <td>15792365</td>\n",
       "      <td>He</td>\n",
       "      <td>501</td>\n",
       "      <td>France</td>\n",
       "      <td>Male</td>\n",
       "      <td>44</td>\n",
       "      <td>4.0</td>\n",
       "      <td>142051.07</td>\n",
       "      <td>2</td>\n",
       "      <td>0</td>\n",
       "      <td>1</td>\n",
       "      <td>74940.50</td>\n",
       "      <td>0</td>\n",
       "    </tr>\n",
       "    <tr>\n",
       "      <th>9</th>\n",
       "      <td>10</td>\n",
       "      <td>15592389</td>\n",
       "      <td>H?</td>\n",
       "      <td>684</td>\n",
       "      <td>France</td>\n",
       "      <td>Male</td>\n",
       "      <td>27</td>\n",
       "      <td>2.0</td>\n",
       "      <td>134603.88</td>\n",
       "      <td>1</td>\n",
       "      <td>1</td>\n",
       "      <td>1</td>\n",
       "      <td>71725.73</td>\n",
       "      <td>0</td>\n",
       "    </tr>\n",
       "  </tbody>\n",
       "</table>\n",
       "</div>"
      ],
      "text/plain": [
       "   RowNumber  CustomerId   Surname  CreditScore Geography  Gender  Age  \\\n",
       "0          1    15634602  Hargrave          619    France  Female   42   \n",
       "1          2    15647311      Hill          608     Spain  Female   41   \n",
       "2          3    15619304      Onio          502    France  Female   42   \n",
       "3          4    15701354      Boni          699    France  Female   39   \n",
       "4          5    15737888  Mitchell          850     Spain  Female   43   \n",
       "5          6    15574012       Chu          645     Spain    Male   44   \n",
       "6          7    15592531  Bartlett          822    France    Male   50   \n",
       "7          8    15656148    Obinna          376   Germany  Female   29   \n",
       "8          9    15792365        He          501    France    Male   44   \n",
       "9         10    15592389        H?          684    France    Male   27   \n",
       "\n",
       "   Tenure    Balance  NumOfProducts  HasCrCard  IsActiveMember  \\\n",
       "0     2.0       0.00              1          1               1   \n",
       "1     1.0   83807.86              1          0               1   \n",
       "2     8.0  159660.80              3          1               0   \n",
       "3     1.0       0.00              2          0               0   \n",
       "4     2.0  125510.82              1          1               1   \n",
       "5     8.0  113755.78              2          1               0   \n",
       "6     7.0       0.00              2          1               1   \n",
       "7     4.0  115046.74              4          1               0   \n",
       "8     4.0  142051.07              2          0               1   \n",
       "9     2.0  134603.88              1          1               1   \n",
       "\n",
       "   EstimatedSalary  Exited  \n",
       "0        101348.88       1  \n",
       "1        112542.58       0  \n",
       "2        113931.57       1  \n",
       "3         93826.63       0  \n",
       "4         79084.10       0  \n",
       "5        149756.71       1  \n",
       "6         10062.80       0  \n",
       "7        119346.88       1  \n",
       "8         74940.50       0  \n",
       "9         71725.73       0  "
      ]
     },
     "execution_count": 3,
     "metadata": {},
     "output_type": "execute_result"
    }
   ],
   "source": [
    "df.head(10)"
   ]
  },
  {
   "cell_type": "code",
   "execution_count": 4,
   "metadata": {},
   "outputs": [
    {
     "name": "stdout",
     "output_type": "stream",
     "text": [
      "<class 'pandas.core.frame.DataFrame'>\n",
      "RangeIndex: 10000 entries, 0 to 9999\n",
      "Data columns (total 14 columns):\n",
      " #   Column           Non-Null Count  Dtype  \n",
      "---  ------           --------------  -----  \n",
      " 0   RowNumber        10000 non-null  int64  \n",
      " 1   CustomerId       10000 non-null  int64  \n",
      " 2   Surname          10000 non-null  object \n",
      " 3   CreditScore      10000 non-null  int64  \n",
      " 4   Geography        10000 non-null  object \n",
      " 5   Gender           10000 non-null  object \n",
      " 6   Age              10000 non-null  int64  \n",
      " 7   Tenure           9091 non-null   float64\n",
      " 8   Balance          10000 non-null  float64\n",
      " 9   NumOfProducts    10000 non-null  int64  \n",
      " 10  HasCrCard        10000 non-null  int64  \n",
      " 11  IsActiveMember   10000 non-null  int64  \n",
      " 12  EstimatedSalary  10000 non-null  float64\n",
      " 13  Exited           10000 non-null  int64  \n",
      "dtypes: float64(3), int64(8), object(3)\n",
      "memory usage: 1.1+ MB\n"
     ]
    }
   ],
   "source": [
    "df.info()"
   ]
  },
  {
   "cell_type": "code",
   "execution_count": 5,
   "metadata": {
    "scrolled": false
   },
   "outputs": [
    {
     "data": {
      "text/plain": [
       "Index(['RowNumber', 'CustomerId', 'Surname', 'CreditScore', 'Geography',\n",
       "       'Gender', 'Age', 'Tenure', 'Balance', 'NumOfProducts', 'HasCrCard',\n",
       "       'IsActiveMember', 'EstimatedSalary', 'Exited'],\n",
       "      dtype='object')"
      ]
     },
     "execution_count": 5,
     "metadata": {},
     "output_type": "execute_result"
    }
   ],
   "source": [
    "df.columns"
   ]
  },
  {
   "cell_type": "markdown",
   "metadata": {},
   "source": [
    "### Предобработка данных"
   ]
  },
  {
   "cell_type": "markdown",
   "metadata": {},
   "source": [
    "Признаки \"RowNumber\", \"CustomerId\" и \"Surname\" можно удалить, так как в них нет нужных данных для дальнейшего анализа."
   ]
  },
  {
   "cell_type": "code",
   "execution_count": 6,
   "metadata": {},
   "outputs": [],
   "source": [
    "df.drop(['RowNumber', 'CustomerId', 'Surname'], axis='columns', inplace=True)"
   ]
  },
  {
   "cell_type": "markdown",
   "metadata": {},
   "source": [
    "Преобразуем категориальные признаки в численные."
   ]
  },
  {
   "cell_type": "code",
   "execution_count": 7,
   "metadata": {},
   "outputs": [],
   "source": [
    "df_ohe = pd.get_dummies(df, drop_first=True)"
   ]
  },
  {
   "cell_type": "markdown",
   "metadata": {},
   "source": [
    "Пропуски в столбце \"Tenure\" могут быть связаны с проблемой выгрузки данных или у клиента может не быть недвижимости.  Попробуем заменить пропуски на 0."
   ]
  },
  {
   "cell_type": "code",
   "execution_count": 8,
   "metadata": {},
   "outputs": [],
   "source": [
    "df['Tenure'].fillna(0, inplace=True)"
   ]
  },
  {
   "cell_type": "markdown",
   "metadata": {},
   "source": [
    "Посмотрим на распределение числовых признаков"
   ]
  },
  {
   "cell_type": "code",
   "execution_count": 9,
   "metadata": {},
   "outputs": [
    {
     "data": {
      "image/png": "[encoded data removed]",
      "text/plain": [
       "<Figure size 1152x288 with 2 Axes>"
      ]
     },
     "metadata": {
      "needs_background": "light"
     },
     "output_type": "display_data"
    }
   ],
   "source": [
    "f, axes = plt.subplots(1, 2, figsize=(16, 4))\n",
    "sns.histplot(data=df['CreditScore'], ax=axes[0])\n",
    "sns.boxplot(data=df['CreditScore'], ax=axes[1])\n",
    "plt.show()"
   ]
  },
  {
   "cell_type": "code",
   "execution_count": 10,
   "metadata": {},
   "outputs": [
    {
     "data": {
      "image/png": "[encoded data removed]",
      "text/plain": [
       "<Figure size 1152x288 with 2 Axes>"
      ]
     },
     "metadata": {
      "needs_background": "light"
     },
     "output_type": "display_data"
    }
   ],
   "source": [
    "f, axes = plt.subplots(1, 2, figsize=(16, 4))\n",
    "sns.histplot(data=df['Age'], ax=axes[0])\n",
    "sns.boxplot(data=df['Age'], ax=axes[1])\n",
    "plt.show()"
   ]
  },
  {
   "cell_type": "code",
   "execution_count": 11,
   "metadata": {},
   "outputs": [
    {
     "data": {
      "image/png": "[encoded data removed]",
      "text/plain": [
       "<Figure size 1152x288 with 2 Axes>"
      ]
     },
     "metadata": {
      "needs_background": "light"
     },
     "output_type": "display_data"
    }
   ],
   "source": [
    "f, axes = plt.subplots(1, 2, figsize=(16, 4))\n",
    "sns.histplot(data=df['Balance'], ax=axes[0])\n",
    "sns.boxplot(data=df['Balance'], ax=axes[1])\n",
    "plt.show()"
   ]
  },
  {
   "cell_type": "code",
   "execution_count": 12,
   "metadata": {
    "scrolled": false
   },
   "outputs": [
    {
     "data": {
      "image/png": "[encoded data removed]",
      "text/plain": [
       "<Figure size 1152x288 with 2 Axes>"
      ]
     },
     "metadata": {
      "needs_background": "light"
     },
     "output_type": "display_data"
    }
   ],
   "source": [
    "f, axes = plt.subplots(1, 2, figsize=(16, 4))\n",
    "sns.histplot(data=df['EstimatedSalary'], ax=axes[0])\n",
    "sns.boxplot(data=df['EstimatedSalary'], ax=axes[1])\n",
    "plt.show()"
   ]
  },
  {
   "cell_type": "code",
   "execution_count": 13,
   "metadata": {},
   "outputs": [
    {
     "data": {
      "image/png": "[encoded data removed]",
      "text/plain": [
       "<Figure size 1152x288 with 2 Axes>"
      ]
     },
     "metadata": {
      "needs_background": "light"
     },
     "output_type": "display_data"
    }
   ],
   "source": [
    "f, axes = plt.subplots(1, 2, figsize=(16, 4))\n",
    "sns.histplot(data=df['Tenure'], ax=axes[0])\n",
    "sns.boxplot(data=df['Tenure'], ax=axes[1])\n",
    "plt.show()"
   ]
  },
  {
   "cell_type": "markdown",
   "metadata": {},
   "source": [
    "Преобразуем катергориальные признаки в численные."
   ]
  },
  {
   "cell_type": "code",
   "execution_count": 15,
   "metadata": {},
   "outputs": [],
   "source": [
    "df = pd.get_dummies(df, drop_first=True)"
   ]
  },
  {
   "cell_type": "code",
   "execution_count": 16,
   "metadata": {
    "scrolled": false
   },
   "outputs": [
    {
     "data": {
      "text/html": [
       "<div>\n",
       "<style scoped>\n",
       "    .dataframe tbody tr th:only-of-type {\n",
       "        vertical-align: middle;\n",
       "    }\n",
       "\n",
       "    .dataframe tbody tr th {\n",
       "        vertical-align: top;\n",
       "    }\n",
       "\n",
       "    .dataframe thead th {\n",
       "        text-align: right;\n",
       "    }\n",
       "</style>\n",
       "<table border=\"1\" class=\"dataframe\">\n",
       "  <thead>\n",
       "    <tr style=\"text-align: right;\">\n",
       "      <th></th>\n",
       "      <th>CreditScore</th>\n",
       "      <th>Age</th>\n",
       "      <th>Tenure</th>\n",
       "      <th>Balance</th>\n",
       "      <th>NumOfProducts</th>\n",
       "      <th>HasCrCard</th>\n",
       "      <th>IsActiveMember</th>\n",
       "      <th>EstimatedSalary</th>\n",
       "      <th>Exited</th>\n",
       "      <th>Geography_Germany</th>\n",
       "      <th>Geography_Spain</th>\n",
       "      <th>Gender_Male</th>\n",
       "    </tr>\n",
       "  </thead>\n",
       "  <tbody>\n",
       "    <tr>\n",
       "      <th>0</th>\n",
       "      <td>619</td>\n",
       "      <td>42</td>\n",
       "      <td>2.0</td>\n",
       "      <td>0.00</td>\n",
       "      <td>1</td>\n",
       "      <td>1</td>\n",
       "      <td>1</td>\n",
       "      <td>101348.88</td>\n",
       "      <td>1</td>\n",
       "      <td>0</td>\n",
       "      <td>0</td>\n",
       "      <td>0</td>\n",
       "    </tr>\n",
       "    <tr>\n",
       "      <th>1</th>\n",
       "      <td>608</td>\n",
       "      <td>41</td>\n",
       "      <td>1.0</td>\n",
       "      <td>83807.86</td>\n",
       "      <td>1</td>\n",
       "      <td>0</td>\n",
       "      <td>1</td>\n",
       "      <td>112542.58</td>\n",
       "      <td>0</td>\n",
       "      <td>0</td>\n",
       "      <td>1</td>\n",
       "      <td>0</td>\n",
       "    </tr>\n",
       "    <tr>\n",
       "      <th>2</th>\n",
       "      <td>502</td>\n",
       "      <td>42</td>\n",
       "      <td>8.0</td>\n",
       "      <td>159660.80</td>\n",
       "      <td>3</td>\n",
       "      <td>1</td>\n",
       "      <td>0</td>\n",
       "      <td>113931.57</td>\n",
       "      <td>1</td>\n",
       "      <td>0</td>\n",
       "      <td>0</td>\n",
       "      <td>0</td>\n",
       "    </tr>\n",
       "    <tr>\n",
       "      <th>3</th>\n",
       "      <td>699</td>\n",
       "      <td>39</td>\n",
       "      <td>1.0</td>\n",
       "      <td>0.00</td>\n",
       "      <td>2</td>\n",
       "      <td>0</td>\n",
       "      <td>0</td>\n",
       "      <td>93826.63</td>\n",
       "      <td>0</td>\n",
       "      <td>0</td>\n",
       "      <td>0</td>\n",
       "      <td>0</td>\n",
       "    </tr>\n",
       "    <tr>\n",
       "      <th>4</th>\n",
       "      <td>850</td>\n",
       "      <td>43</td>\n",
       "      <td>2.0</td>\n",
       "      <td>125510.82</td>\n",
       "      <td>1</td>\n",
       "      <td>1</td>\n",
       "      <td>1</td>\n",
       "      <td>79084.10</td>\n",
       "      <td>0</td>\n",
       "      <td>0</td>\n",
       "      <td>1</td>\n",
       "      <td>0</td>\n",
       "    </tr>\n",
       "  </tbody>\n",
       "</table>\n",
       "</div>"
      ],
      "text/plain": [
       "   CreditScore  Age  Tenure    Balance  NumOfProducts  HasCrCard  \\\n",
       "0          619   42     2.0       0.00              1          1   \n",
       "1          608   41     1.0   83807.86              1          0   \n",
       "2          502   42     8.0  159660.80              3          1   \n",
       "3          699   39     1.0       0.00              2          0   \n",
       "4          850   43     2.0  125510.82              1          1   \n",
       "\n",
       "   IsActiveMember  EstimatedSalary  Exited  Geography_Germany  \\\n",
       "0               1        101348.88       1                  0   \n",
       "1               1        112542.58       0                  0   \n",
       "2               0        113931.57       1                  0   \n",
       "3               0         93826.63       0                  0   \n",
       "4               1         79084.10       0                  0   \n",
       "\n",
       "   Geography_Spain  Gender_Male  \n",
       "0                0            0  \n",
       "1                1            0  \n",
       "2                0            0  \n",
       "3                0            0  \n",
       "4                1            0  "
      ]
     },
     "execution_count": 16,
     "metadata": {},
     "output_type": "execute_result"
    }
   ],
   "source": [
    "df.head()"
   ]
  },
  {
   "cell_type": "markdown",
   "metadata": {},
   "source": [
    "Посмотрим на соотношение данных в целевом признаке."
   ]
  },
  {
   "cell_type": "code",
   "execution_count": 17,
   "metadata": {
    "scrolled": false
   },
   "outputs": [
    {
     "data": {
      "text/plain": [
       "<AxesSubplot:>"
      ]
     },
     "execution_count": 17,
     "metadata": {},
     "output_type": "execute_result"
    },
    {
     "data": {
      "image/png": "[encoded data removed]",
      "text/plain": [
       "<Figure size 432x288 with 1 Axes>"
      ]
     },
     "metadata": {
      "needs_background": "light"
     },
     "output_type": "display_data"
    }
   ],
   "source": [
    "df['Exited'].value_counts().plot(kind='bar')"
   ]
  },
  {
   "cell_type": "markdown",
   "metadata": {},
   "source": [
    "Видно что соотношение классов 1:4. "
   ]
  },
  {
   "cell_type": "markdown",
   "metadata": {},
   "source": [
    "### Выводы"
   ]
  },
  {
   "cell_type": "markdown",
   "metadata": {},
   "source": [
    "- Данные успешно загружены.\n",
    "- Признаки RowNumber, CustomerId и Surname удалены, так как они не влияют на целевой признак.\n",
    "- Категориальные признаки преобразованы методом One-Hot Encoder.\n",
    "- В признаке Tenure обнаружено около 10% пропусков. Принято решение заменить их на 0.\n",
    "- Соотношение классов в целевом признаке 1:4."
   ]
  },
  {
   "cell_type": "markdown",
   "metadata": {},
   "source": [
    "## Исследование задачи"
   ]
  },
  {
   "cell_type": "markdown",
   "metadata": {},
   "source": [
    "Вначале выделим целевой признак из общих данных."
   ]
  },
  {
   "cell_type": "code",
   "execution_count": 18,
   "metadata": {},
   "outputs": [],
   "source": [
    "features = df.drop('Exited', axis=1)\n",
    "target = df['Exited']"
   ]
  },
  {
   "cell_type": "markdown",
   "metadata": {},
   "source": [
    "Разделим данные на обучающую, валидационную и тестовую выборки в соотношении 3:1:1."
   ]
  },
  {
   "cell_type": "code",
   "execution_count": 19,
   "metadata": {},
   "outputs": [],
   "source": [
    "features_train, features_valid, target_train, target_valid = train_test_split(\n",
    "    features, target, test_size=0.4, random_state=12345,\n",
    ")\n",
    "\n",
    "features_valid, features_test, target_valid, target_test = train_test_split(\n",
    "    features_valid, target_valid, test_size=0.5, random_state=12345\n",
    ")"
   ]
  },
  {
   "cell_type": "code",
   "execution_count": 20,
   "metadata": {
    "scrolled": true
   },
   "outputs": [
    {
     "name": "stderr",
     "output_type": "stream",
     "text": [
      "/tmp/ipykernel_159/674920129.py:4: SettingWithCopyWarning: \n",
      "A value is trying to be set on a copy of a slice from a DataFrame.\n",
      "Try using .loc[row_indexer,col_indexer] = value instead\n",
      "\n",
      "See the caveats in the documentation: https://pandas.pydata.org/pandas-docs/stable/user_guide/indexing.html#returning-a-view-versus-a-copy\n",
      "  features_train[numerics] = scaler.transform(features_train[numerics],)\n",
      "/opt/conda/lib/python3.9/site-packages/pandas/core/indexing.py:1738: SettingWithCopyWarning: \n",
      "A value is trying to be set on a copy of a slice from a DataFrame.\n",
      "Try using .loc[row_indexer,col_indexer] = value instead\n",
      "\n",
      "See the caveats in the documentation: https://pandas.pydata.org/pandas-docs/stable/user_guide/indexing.html#returning-a-view-versus-a-copy\n",
      "  self._setitem_single_column(loc, value[:, i].tolist(), pi)\n"
     ]
    }
   ],
   "source": [
    "numerics = ['CreditScore', 'Age', 'Balance', 'EstimatedSalary', 'Tenure']\n",
    "scaler = StandardScaler()\n",
    "scaler.fit(features_train[numerics])\n",
    "features_train[numerics] = scaler.transform(features_train[numerics],)\n",
    "features_valid[numerics] = scaler.transform(features_valid[numerics])\n",
    "features_test[numerics] = scaler.transform(features_test[numerics])"
   ]
  },
  {
   "cell_type": "code",
   "execution_count": 21,
   "metadata": {
    "scrolled": true
   },
   "outputs": [
    {
     "name": "stdout",
     "output_type": "stream",
     "text": [
      "features_train (6000, 11) \n",
      "features_valid (2000, 11) \n",
      "features_test (2000, 11)\n"
     ]
    }
   ],
   "source": [
    "print('features_train', features_train.shape,\n",
    "      '\\nfeatures_valid', features_valid.shape,\n",
    "      '\\nfeatures_test', features_test.shape)"
   ]
  },
  {
   "cell_type": "markdown",
   "metadata": {},
   "source": [
    "### Случайный лес"
   ]
  },
  {
   "cell_type": "code",
   "execution_count": 22,
   "metadata": {},
   "outputs": [
    {
     "name": "stdout",
     "output_type": "stream",
     "text": [
      "F1 наилучшей модели случаного леса: 0.5806451612903226\n",
      "Наилучшее параметры:\n",
      "max_depth: 11\n",
      "n_estimators: 60\n"
     ]
    }
   ],
   "source": [
    "best_depth = 0\n",
    "best_n = 0\n",
    "best_f1 = 0\n",
    "for depth in range(1, 12):\n",
    "    for n in range(30,150, 10):\n",
    "        model = RandomForestClassifier(random_state=12345, max_depth=depth, n_estimators=n)\n",
    "        model.fit(features_train, target_train)\n",
    "        predictions = model.predict(features_valid)\n",
    "        f1 = f1_score(target_valid, predictions)\n",
    "        if f1 > best_f1:\n",
    "            best_f1 = f1\n",
    "            best_depth = depth\n",
    "            best_n = n\n",
    "print(\"F1 наилучшей модели случаного леса:\",best_f1)\n",
    "print(\"Наилучшее параметры:\")\n",
    "print(\"max_depth:\",  depth)\n",
    "print('n_estimators:', best_n)"
   ]
  },
  {
   "cell_type": "markdown",
   "metadata": {},
   "source": [
    "### Логистическая регрессия"
   ]
  },
  {
   "cell_type": "code",
   "execution_count": 23,
   "metadata": {},
   "outputs": [
    {
     "name": "stdout",
     "output_type": "stream",
     "text": [
      "F1 логистической регресии: 0.33389544688026984\n"
     ]
    }
   ],
   "source": [
    "model = LogisticRegression(random_state=12345, solver = 'liblinear')\n",
    "model.fit(features_train, target_train)\n",
    "predictions = model.predict(features_valid)\n",
    "f1 = f1_score(target_valid, predictions)\n",
    "print(\"F1 логистической регресии:\",f1)"
   ]
  },
  {
   "cell_type": "markdown",
   "metadata": {},
   "source": [
    "### Выводы"
   ]
  },
  {
   "cell_type": "markdown",
   "metadata": {},
   "source": [
    "- Данные разделены на обучающую, валидационную и тестовую выборки в соотношении 3:1:1.\n",
    "- Числовые признаки были отмасштабированы.\n",
    "- Обучены модели \"Случайный лес\" и \"Логистическая регрессия\", без баланса классов. Лучшее значение F1 меры получено у случайного леса (0.58), оно не удовлетворяет условию тех.задания."
   ]
  },
  {
   "cell_type": "markdown",
   "metadata": {},
   "source": [
    "## Борьба с дисбалансом"
   ]
  },
  {
   "cell_type": "markdown",
   "metadata": {},
   "source": [
    "### Баланас классов методом 'class_weight'"
   ]
  },
  {
   "cell_type": "code",
   "execution_count": 24,
   "metadata": {
    "scrolled": true
   },
   "outputs": [
    {
     "name": "stdout",
     "output_type": "stream",
     "text": [
      "F1 логистической регресии после баланса класов 'class_weight': 0.4888888888888888\n"
     ]
    }
   ],
   "source": [
    "model = LogisticRegression(random_state=12345, solver = 'liblinear', class_weight='balanced')\n",
    "model.fit(features_train, target_train)\n",
    "predictions = model.predict(features_valid)\n",
    "f1 = f1_score(target_valid, predictions)\n",
    "print(\"F1 логистической регресии после баланса класов 'class_weight':\",f1)"
   ]
  },
  {
   "cell_type": "code",
   "execution_count": 25,
   "metadata": {},
   "outputs": [
    {
     "name": "stdout",
     "output_type": "stream",
     "text": [
      "F1 логистической регресии после баланса класов 'class_weight': 0.6157760814249365\n",
      "Наилучшее параметры:\n",
      "max_depth: 11\n",
      "n_estimators: 130\n"
     ]
    }
   ],
   "source": [
    "best_depth = 0\n",
    "best_n = 0\n",
    "best_f1 = 0\n",
    "for depth in range(1, 12):\n",
    "    for n in range(30,150, 10):\n",
    "        model = RandomForestClassifier(random_state=12345, max_depth=depth, n_estimators=n, class_weight='balanced')\n",
    "        model.fit(features_train, target_train)\n",
    "        predictions = model.predict(features_valid)\n",
    "        f1 = f1_score(target_valid, predictions)\n",
    "        if f1 > best_f1:\n",
    "            best_f1 = f1\n",
    "            best_depth = depth\n",
    "            best_n = n\n",
    "print(\"F1 логистической регресии после баланса класов 'class_weight':\",f1)\n",
    "print(\"Наилучшее параметры:\")\n",
    "print(\"max_depth:\",  depth)\n",
    "print('n_estimators:', best_n)"
   ]
  },
  {
   "cell_type": "markdown",
   "metadata": {},
   "source": [
    "### Увеличение выборки"
   ]
  },
  {
   "cell_type": "code",
   "execution_count": 26,
   "metadata": {},
   "outputs": [],
   "source": [
    "def upsample(features, target):\n",
    "    features_zeros = features[target == 0]\n",
    "    features_ones = features[target == 1]\n",
    "    target_zeros = target[target == 0]\n",
    "    target_ones = target[target == 1]\n",
    "    \n",
    "    features_upsampled = pd.concat([features_zeros] + [features_ones] * 4)\n",
    "    target_upsampled = pd.concat([target_zeros] + [target_ones] * 4)\n",
    "    \n",
    "    ([target_zeros] + [target_ones] * 4)\n",
    "    \n",
    "    features_upsampled, target_upsampled = shuffle(\n",
    "        features_upsampled, target_upsampled, random_state=12345)\n",
    "    return features_upsampled, target_upsampled"
   ]
  },
  {
   "cell_type": "code",
   "execution_count": 27,
   "metadata": {},
   "outputs": [],
   "source": [
    "features_upsampled_train, target_upsampled_train = upsample(features_train, target_train)  "
   ]
  },
  {
   "cell_type": "code",
   "execution_count": 28,
   "metadata": {},
   "outputs": [
    {
     "name": "stdout",
     "output_type": "stream",
     "text": [
      "F1 логистической регресии после баланса класов увеличением выборки: 0.4888888888888888\n"
     ]
    }
   ],
   "source": [
    "model = LogisticRegression(random_state=12345, solver = 'liblinear')\n",
    "model.fit(features_upsampled_train, target_upsampled_train)\n",
    "predictions = model.predict(features_valid)\n",
    "f1 = f1_score(target_valid, predictions)\n",
    "print(\"F1 логистической регресии после баланса класов увеличением выборки:\",f1)"
   ]
  },
  {
   "cell_type": "code",
   "execution_count": 29,
   "metadata": {},
   "outputs": [
    {
     "name": "stdout",
     "output_type": "stream",
     "text": [
      "F1 случайного леса после баланса класов увеличением выборки: 0.6208476517754868\n",
      "Наилучшее параметры:\n",
      "max_depth: 11\n",
      "n_estimators: 130\n"
     ]
    }
   ],
   "source": [
    "best_depth = 0\n",
    "best_n = 0\n",
    "best_f1 = 0\n",
    "for depth in range(1, 12):\n",
    "    for n in range(30,150, 10):\n",
    "        model = RandomForestClassifier(random_state=12345, max_depth=depth, n_estimators=n)\n",
    "        model.fit(features_upsampled_train, target_upsampled_train)\n",
    "        predictions = model.predict(features_valid)\n",
    "        f1 = f1_score(target_valid, predictions)\n",
    "        if f1 > best_f1:\n",
    "            best_f1 = f1\n",
    "            best_depth = depth\n",
    "            best_n = n\n",
    "print(\"F1 случайного леса после баланса класов увеличением выборки:\",f1)\n",
    "print(\"Наилучшее параметры:\")\n",
    "print(\"max_depth:\",  depth)\n",
    "print('n_estimators:', best_n)"
   ]
  },
  {
   "cell_type": "markdown",
   "metadata": {},
   "source": [
    "### Выводы"
   ]
  },
  {
   "cell_type": "markdown",
   "metadata": {},
   "source": [
    "- Проверены два метода баланса классов.\n",
    "- Лучший результат показал баланс классов методом увеличения выборки у модели случайного леса (F1 = 0.62). Полученный результат удовлетворяет условию тех.задания."
   ]
  },
  {
   "cell_type": "markdown",
   "metadata": {},
   "source": [
    "## Тестирование модели"
   ]
  },
  {
   "cell_type": "code",
   "execution_count": 30,
   "metadata": {},
   "outputs": [
    {
     "name": "stdout",
     "output_type": "stream",
     "text": [
      "F1 случайного леса для тестовой выборки': 0.599\n",
      "AUC-ROC случайного леса для тестовой выборки': 0.515\n"
     ]
    }
   ],
   "source": [
    "model = RandomForestClassifier(max_depth=11, n_estimators=130, \n",
    "                               random_state=12345                               \n",
    "                              )\n",
    "\n",
    "model.fit(features_upsampled_train, target_upsampled_train)\n",
    "predictions = model.predict(features_test)\n",
    "f1 = f1_score(target_test, predictions)\n",
    "\n",
    "probabilities_valid_final = model.predict_proba(features_valid)\n",
    "probabilities_one_valid_final = probabilities_valid_final[:, 1]\n",
    "rc = roc_auc_score(target_test, probabilities_one_valid_final)\n",
    "\n",
    "print(\"F1 случайного леса для тестовой выборки':\",f1.round(3))\n",
    "\n",
    "print(\"AUC-ROC случайного леса для тестовой выборки':\",rc.round(3))"
   ]
  },
  {
   "cell_type": "code",
   "execution_count": 31,
   "metadata": {},
   "outputs": [
    {
     "data": {
      "text/plain": [
       "Text(0.5, 1.0, 'ROC-кривая')"
      ]
     },
     "execution_count": 31,
     "metadata": {},
     "output_type": "execute_result"
    },
    {
     "data": {
      "image/png": "[encoded data removed]",
      "text/plain": [
       "<Figure size 432x288 with 1 Axes>"
      ]
     },
     "metadata": {
      "needs_background": "light"
     },
     "output_type": "display_data"
    }
   ],
   "source": [
    "fpr, tpr, thresholds = roc_curve(target_test, probabilities_one_valid_final) \n",
    "\n",
    "plt.figure()\n",
    "\n",
    "plt.plot(fpr, tpr)\n",
    "\n",
    "plt.plot([0, 1], [0, 1], linestyle='--')\n",
    "plt.xlim([0.0, 1.0])\n",
    "plt.ylim([0.0, 1.0])\n",
    "\n",
    "plt.xlabel(\"False Positive Rate\")\n",
    "plt.ylabel(\"True Positive Rate\")\n",
    "\n",
    "plt.title(\"ROC-кривая\")"
   ]
  },
  {
   "cell_type": "markdown",
   "metadata": {},
   "source": [
    "## Вывод"
   ]
  },
  {
   "cell_type": "markdown",
   "metadata": {},
   "source": [
    "- Загрузили и подготовили данные к исследованию:\n",
    "    - Избавились от пропусков\n",
    "    - Удалили ненужные столбцы\n",
    "    - Отмасштабировали количественные признаки \n",
    "    - Преобразовали категориальные признаки в численные с помощью техники прямого кодирования One-Hot Encoding\n",
    "    - Разделили данные на три выборки: обучающую, валидационную и тестовую\n",
    "- Исследовали баланс классов - соотношение классов в целевом признаке 1:4\n",
    "- Изучили модели без учёта дисбаланса. Лучший результат показала модель случайного леса.\n",
    "- Применили 2 способа борбы с дисбалансом - аргумент \"class_weight\" и  увеличение выборки. Лучший результаты показал аргумент \"class_weight\".\n",
    "- Обучили финальную модель и проверили ее на тестовой выборке. Получены значения:\n",
    "    - F1 = 0.599\n",
    "    - AUC-ROC = 0.515 "
   ]
  }
 ],
 "metadata": {
  "ExecuteTimeLog": [
   {
    "duration": 1318,
    "start_time": "2022-06-28T19:46:40.121Z"
   },
   {
    "duration": 55,
    "start_time": "2022-06-28T19:47:07.971Z"
   },
   {
    "duration": 21,
    "start_time": "2022-06-28T19:47:20.331Z"
   },
   {
    "duration": 12,
    "start_time": "2022-06-28T19:48:05.074Z"
   },
   {
    "duration": 13,
    "start_time": "2022-06-28T19:53:10.186Z"
   },
   {
    "duration": 16,
    "start_time": "2022-06-28T19:53:18.289Z"
   },
   {
    "duration": 50,
    "start_time": "2022-06-28T19:54:55.219Z"
   },
   {
    "duration": 97,
    "start_time": "2022-06-28T19:55:05.736Z"
   },
   {
    "duration": 382,
    "start_time": "2022-06-28T19:55:20.385Z"
   },
   {
    "duration": 135,
    "start_time": "2022-06-28T19:55:41.655Z"
   },
   {
    "duration": 1107,
    "start_time": "2022-06-30T15:41:45.351Z"
   },
   {
    "duration": 51,
    "start_time": "2022-06-30T15:41:46.461Z"
   },
   {
    "duration": 21,
    "start_time": "2022-06-30T15:41:46.514Z"
   },
   {
    "duration": 11,
    "start_time": "2022-06-30T15:41:46.536Z"
   },
   {
    "duration": 16,
    "start_time": "2022-06-30T15:41:46.549Z"
   },
   {
    "duration": 456,
    "start_time": "2022-06-30T15:41:46.566Z"
   },
   {
    "duration": 108,
    "start_time": "2022-06-30T15:41:47.024Z"
   },
   {
    "duration": 11,
    "start_time": "2022-06-30T15:42:18.458Z"
   },
   {
    "duration": 11,
    "start_time": "2022-06-30T15:42:21.072Z"
   },
   {
    "duration": 55,
    "start_time": "2022-06-30T15:42:29.106Z"
   },
   {
    "duration": 20,
    "start_time": "2022-06-30T15:42:32.577Z"
   },
   {
    "duration": 11,
    "start_time": "2022-06-30T15:43:01.025Z"
   },
   {
    "duration": 4,
    "start_time": "2022-06-30T15:43:14.530Z"
   },
   {
    "duration": 265,
    "start_time": "2022-06-30T15:43:49.969Z"
   },
   {
    "duration": 243,
    "start_time": "2022-06-30T15:44:26.166Z"
   },
   {
    "duration": 92,
    "start_time": "2022-06-30T15:46:37.559Z"
   },
   {
    "duration": 109,
    "start_time": "2022-06-30T15:47:07.071Z"
   },
   {
    "duration": 95,
    "start_time": "2022-06-30T15:47:53.958Z"
   },
   {
    "duration": 93,
    "start_time": "2022-06-30T15:48:33.726Z"
   },
   {
    "duration": 141,
    "start_time": "2022-06-30T15:48:41.237Z"
   },
   {
    "duration": 136,
    "start_time": "2022-06-30T15:48:51.726Z"
   },
   {
    "duration": 105,
    "start_time": "2022-06-30T15:49:06.182Z"
   },
   {
    "duration": 140,
    "start_time": "2022-06-30T15:49:13.837Z"
   },
   {
    "duration": 1384,
    "start_time": "2022-07-02T10:40:14.700Z"
   },
   {
    "duration": 53,
    "start_time": "2022-07-02T10:40:16.086Z"
   },
   {
    "duration": 17,
    "start_time": "2022-07-02T10:40:16.140Z"
   },
   {
    "duration": 12,
    "start_time": "2022-07-02T10:40:17.944Z"
   },
   {
    "duration": 5,
    "start_time": "2022-07-02T10:40:19.087Z"
   },
   {
    "duration": 4,
    "start_time": "2022-07-02T11:12:42.900Z"
   },
   {
    "duration": 5,
    "start_time": "2022-07-02T11:13:24.067Z"
   },
   {
    "duration": 3,
    "start_time": "2022-07-02T11:16:33.667Z"
   },
   {
    "duration": 4,
    "start_time": "2022-07-02T12:47:36.790Z"
   },
   {
    "duration": 31,
    "start_time": "2022-07-02T12:47:36.796Z"
   },
   {
    "duration": 14,
    "start_time": "2022-07-02T12:47:36.829Z"
   },
   {
    "duration": 14,
    "start_time": "2022-07-02T12:47:36.845Z"
   },
   {
    "duration": 5,
    "start_time": "2022-07-02T12:47:36.862Z"
   },
   {
    "duration": 5,
    "start_time": "2022-07-02T12:47:36.868Z"
   },
   {
    "duration": 52,
    "start_time": "2022-07-02T12:48:47.196Z"
   },
   {
    "duration": 270,
    "start_time": "2022-07-02T12:51:06.995Z"
   },
   {
    "duration": 172,
    "start_time": "2022-07-02T12:51:38.538Z"
   },
   {
    "duration": 162,
    "start_time": "2022-07-02T12:51:54.025Z"
   },
   {
    "duration": 192,
    "start_time": "2022-07-02T12:52:06.337Z"
   },
   {
    "duration": 250,
    "start_time": "2022-07-02T12:52:10.986Z"
   },
   {
    "duration": 169,
    "start_time": "2022-07-02T12:52:16.721Z"
   },
   {
    "duration": 198,
    "start_time": "2022-07-02T12:52:42.129Z"
   },
   {
    "duration": 4,
    "start_time": "2022-07-02T12:53:02.872Z"
   },
   {
    "duration": 198,
    "start_time": "2022-07-02T12:53:05.226Z"
   },
   {
    "duration": 170,
    "start_time": "2022-07-02T12:53:14.977Z"
   },
   {
    "duration": 165,
    "start_time": "2022-07-02T12:53:21.313Z"
   },
   {
    "duration": 234,
    "start_time": "2022-07-02T12:53:30.480Z"
   },
   {
    "duration": 56,
    "start_time": "2022-07-02T12:53:38.616Z"
   },
   {
    "duration": 213,
    "start_time": "2022-07-02T12:53:42.512Z"
   },
   {
    "duration": 393,
    "start_time": "2022-07-02T13:37:10.579Z"
   },
   {
    "duration": 215,
    "start_time": "2022-07-02T13:37:11.002Z"
   },
   {
    "duration": 220,
    "start_time": "2022-07-02T13:37:12.708Z"
   },
   {
    "duration": 237,
    "start_time": "2022-07-02T13:40:38.737Z"
   },
   {
    "duration": 278,
    "start_time": "2022-07-02T13:40:41.616Z"
   },
   {
    "duration": 289,
    "start_time": "2022-07-02T13:40:47.384Z"
   },
   {
    "duration": 350,
    "start_time": "2022-07-02T13:40:50.936Z"
   },
   {
    "duration": 242,
    "start_time": "2022-07-02T13:40:55.239Z"
   },
   {
    "duration": 223,
    "start_time": "2022-07-02T13:44:48.585Z"
   },
   {
    "duration": 14,
    "start_time": "2022-07-02T13:46:25.789Z"
   },
   {
    "duration": 12,
    "start_time": "2022-07-02T13:46:42.316Z"
   },
   {
    "duration": 11,
    "start_time": "2022-07-02T13:49:08.101Z"
   },
   {
    "duration": 11,
    "start_time": "2022-07-02T13:49:16.035Z"
   },
   {
    "duration": 131,
    "start_time": "2022-07-02T13:51:44.594Z"
   },
   {
    "duration": 0,
    "start_time": "2022-07-02T13:54:50.963Z"
   },
   {
    "duration": 0,
    "start_time": "2022-07-02T13:54:50.965Z"
   },
   {
    "duration": 0,
    "start_time": "2022-07-02T13:54:50.967Z"
   },
   {
    "duration": 0,
    "start_time": "2022-07-02T13:54:50.968Z"
   },
   {
    "duration": 0,
    "start_time": "2022-07-02T13:54:50.970Z"
   },
   {
    "duration": 0,
    "start_time": "2022-07-02T13:54:50.971Z"
   },
   {
    "duration": 0,
    "start_time": "2022-07-02T13:54:50.973Z"
   },
   {
    "duration": 0,
    "start_time": "2022-07-02T13:54:50.975Z"
   },
   {
    "duration": 0,
    "start_time": "2022-07-02T13:54:50.977Z"
   },
   {
    "duration": 0,
    "start_time": "2022-07-02T13:54:50.978Z"
   },
   {
    "duration": 0,
    "start_time": "2022-07-02T13:54:50.980Z"
   },
   {
    "duration": 0,
    "start_time": "2022-07-02T13:54:50.982Z"
   },
   {
    "duration": 0,
    "start_time": "2022-07-02T13:54:50.983Z"
   },
   {
    "duration": 0,
    "start_time": "2022-07-02T13:54:50.985Z"
   },
   {
    "duration": 0,
    "start_time": "2022-07-02T13:54:50.987Z"
   },
   {
    "duration": 0,
    "start_time": "2022-07-02T13:54:50.988Z"
   },
   {
    "duration": 105,
    "start_time": "2022-07-02T13:55:07.101Z"
   },
   {
    "duration": 5,
    "start_time": "2022-07-02T14:01:18.547Z"
   },
   {
    "duration": 8,
    "start_time": "2022-07-02T14:06:04.167Z"
   },
   {
    "duration": 46,
    "start_time": "2022-07-02T14:07:44.017Z"
   },
   {
    "duration": 12,
    "start_time": "2022-07-02T14:08:00.593Z"
   },
   {
    "duration": 3,
    "start_time": "2022-07-02T14:08:07.993Z"
   },
   {
    "duration": 9,
    "start_time": "2022-07-02T14:08:21.104Z"
   },
   {
    "duration": 4,
    "start_time": "2022-07-02T14:08:26.536Z"
   },
   {
    "duration": 93,
    "start_time": "2022-07-02T14:08:34.912Z"
   },
   {
    "duration": 3,
    "start_time": "2022-07-02T14:08:37.864Z"
   },
   {
    "duration": 4,
    "start_time": "2022-07-02T14:09:03.094Z"
   },
   {
    "duration": 4,
    "start_time": "2022-07-02T14:10:37.016Z"
   },
   {
    "duration": 56,
    "start_time": "2022-07-02T14:30:03.998Z"
   },
   {
    "duration": 14,
    "start_time": "2022-07-02T14:30:16.383Z"
   },
   {
    "duration": 17,
    "start_time": "2022-07-02T14:30:47.880Z"
   },
   {
    "duration": 6,
    "start_time": "2022-07-02T14:31:31.271Z"
   },
   {
    "duration": 30,
    "start_time": "2022-07-02T14:31:34.289Z"
   },
   {
    "duration": 5,
    "start_time": "2022-07-02T14:31:57.167Z"
   },
   {
    "duration": 35,
    "start_time": "2022-07-02T14:31:57.174Z"
   },
   {
    "duration": 15,
    "start_time": "2022-07-02T14:31:57.211Z"
   },
   {
    "duration": 23,
    "start_time": "2022-07-02T14:31:57.228Z"
   },
   {
    "duration": 4,
    "start_time": "2022-07-02T14:31:57.254Z"
   },
   {
    "duration": 10,
    "start_time": "2022-07-02T14:31:57.260Z"
   },
   {
    "duration": 19,
    "start_time": "2022-07-02T14:31:57.272Z"
   },
   {
    "duration": 14,
    "start_time": "2022-07-02T14:31:57.293Z"
   },
   {
    "duration": 291,
    "start_time": "2022-07-02T14:31:57.309Z"
   },
   {
    "duration": 326,
    "start_time": "2022-07-02T14:31:57.602Z"
   },
   {
    "duration": 246,
    "start_time": "2022-07-02T14:31:57.930Z"
   },
   {
    "duration": 276,
    "start_time": "2022-07-02T14:31:58.177Z"
   },
   {
    "duration": 251,
    "start_time": "2022-07-02T14:31:58.454Z"
   },
   {
    "duration": 23,
    "start_time": "2022-07-02T14:31:58.707Z"
   },
   {
    "duration": 27,
    "start_time": "2022-07-02T14:31:58.733Z"
   },
   {
    "duration": 11,
    "start_time": "2022-07-02T14:31:58.762Z"
   },
   {
    "duration": 120,
    "start_time": "2022-07-02T14:31:58.775Z"
   },
   {
    "duration": 7,
    "start_time": "2022-07-02T14:31:58.896Z"
   },
   {
    "duration": 11,
    "start_time": "2022-07-02T14:31:58.905Z"
   },
   {
    "duration": 5,
    "start_time": "2022-07-02T14:31:58.918Z"
   },
   {
    "duration": 80,
    "start_time": "2022-07-02T14:32:00.658Z"
   },
   {
    "duration": 5131,
    "start_time": "2022-07-02T14:32:35.058Z"
   },
   {
    "duration": 43769,
    "start_time": "2022-07-02T14:33:04.793Z"
   },
   {
    "duration": 10,
    "start_time": "2022-07-02T14:51:36.097Z"
   },
   {
    "duration": 3,
    "start_time": "2022-07-02T14:51:57.802Z"
   },
   {
    "duration": 33,
    "start_time": "2022-07-02T14:52:03.288Z"
   },
   {
    "duration": 106,
    "start_time": "2022-07-02T15:10:15.545Z"
   },
   {
    "duration": 413,
    "start_time": "2022-07-02T15:12:50.925Z"
   },
   {
    "duration": 6,
    "start_time": "2022-07-02T15:17:43.764Z"
   },
   {
    "duration": 12,
    "start_time": "2022-07-02T15:19:05.403Z"
   },
   {
    "duration": 423,
    "start_time": "2022-07-02T15:20:15.164Z"
   },
   {
    "duration": 31,
    "start_time": "2022-07-02T15:20:16.660Z"
   },
   {
    "duration": 21,
    "start_time": "2022-07-02T15:21:14.004Z"
   },
   {
    "duration": 421,
    "start_time": "2022-07-02T15:21:15.386Z"
   },
   {
    "duration": 458,
    "start_time": "2022-07-02T15:25:32.535Z"
   },
   {
    "duration": 1454,
    "start_time": "2022-07-02T15:27:16.940Z"
   },
   {
    "duration": 27,
    "start_time": "2022-07-02T15:27:18.396Z"
   },
   {
    "duration": 17,
    "start_time": "2022-07-02T15:27:18.425Z"
   },
   {
    "duration": 31,
    "start_time": "2022-07-02T15:27:18.443Z"
   },
   {
    "duration": 5,
    "start_time": "2022-07-02T15:27:18.477Z"
   },
   {
    "duration": 8,
    "start_time": "2022-07-02T15:27:18.483Z"
   },
   {
    "duration": 14,
    "start_time": "2022-07-02T15:27:18.492Z"
   },
   {
    "duration": 4,
    "start_time": "2022-07-02T15:27:18.507Z"
   },
   {
    "duration": 293,
    "start_time": "2022-07-02T15:27:18.512Z"
   },
   {
    "duration": 330,
    "start_time": "2022-07-02T15:27:18.807Z"
   },
   {
    "duration": 335,
    "start_time": "2022-07-02T15:27:19.138Z"
   },
   {
    "duration": 258,
    "start_time": "2022-07-02T15:27:19.475Z"
   },
   {
    "duration": 254,
    "start_time": "2022-07-02T15:27:19.735Z"
   },
   {
    "duration": 22,
    "start_time": "2022-07-02T15:27:19.991Z"
   },
   {
    "duration": 23,
    "start_time": "2022-07-02T15:27:20.015Z"
   },
   {
    "duration": 20,
    "start_time": "2022-07-02T15:27:20.040Z"
   },
   {
    "duration": 133,
    "start_time": "2022-07-02T15:27:20.061Z"
   },
   {
    "duration": 6,
    "start_time": "2022-07-02T15:27:20.196Z"
   },
   {
    "duration": 15,
    "start_time": "2022-07-02T15:27:20.204Z"
   },
   {
    "duration": 5,
    "start_time": "2022-07-02T15:27:20.221Z"
   },
   {
    "duration": 71,
    "start_time": "2022-07-02T15:27:20.228Z"
   },
   {
    "duration": 0,
    "start_time": "2022-07-02T15:27:20.302Z"
   },
   {
    "duration": 0,
    "start_time": "2022-07-02T15:27:20.304Z"
   },
   {
    "duration": 0,
    "start_time": "2022-07-02T15:27:20.305Z"
   },
   {
    "duration": 0,
    "start_time": "2022-07-02T15:27:20.306Z"
   },
   {
    "duration": 0,
    "start_time": "2022-07-02T15:27:20.308Z"
   },
   {
    "duration": 0,
    "start_time": "2022-07-02T15:27:20.309Z"
   },
   {
    "duration": 0,
    "start_time": "2022-07-02T15:27:20.310Z"
   },
   {
    "duration": 0,
    "start_time": "2022-07-02T15:27:20.311Z"
   },
   {
    "duration": 1596,
    "start_time": "2022-07-02T15:28:04.201Z"
   },
   {
    "duration": 28,
    "start_time": "2022-07-02T15:28:05.799Z"
   },
   {
    "duration": 17,
    "start_time": "2022-07-02T15:28:05.828Z"
   },
   {
    "duration": 19,
    "start_time": "2022-07-02T15:28:05.847Z"
   },
   {
    "duration": 22,
    "start_time": "2022-07-02T15:28:05.869Z"
   },
   {
    "duration": 7,
    "start_time": "2022-07-02T15:28:05.893Z"
   },
   {
    "duration": 13,
    "start_time": "2022-07-02T15:28:05.901Z"
   },
   {
    "duration": 3,
    "start_time": "2022-07-02T15:28:05.916Z"
   },
   {
    "duration": 300,
    "start_time": "2022-07-02T15:28:05.921Z"
   },
   {
    "duration": 360,
    "start_time": "2022-07-02T15:28:06.224Z"
   },
   {
    "duration": 333,
    "start_time": "2022-07-02T15:28:06.585Z"
   },
   {
    "duration": 293,
    "start_time": "2022-07-02T15:28:06.919Z"
   },
   {
    "duration": 266,
    "start_time": "2022-07-02T15:28:07.213Z"
   },
   {
    "duration": 24,
    "start_time": "2022-07-02T15:28:07.480Z"
   },
   {
    "duration": 14,
    "start_time": "2022-07-02T15:28:07.506Z"
   },
   {
    "duration": 35,
    "start_time": "2022-07-02T15:28:07.522Z"
   },
   {
    "duration": 150,
    "start_time": "2022-07-02T15:28:07.566Z"
   },
   {
    "duration": 6,
    "start_time": "2022-07-02T15:28:07.717Z"
   },
   {
    "duration": 10,
    "start_time": "2022-07-02T15:28:07.724Z"
   },
   {
    "duration": 16,
    "start_time": "2022-07-02T15:28:07.736Z"
   },
   {
    "duration": 48119,
    "start_time": "2022-07-02T15:28:07.754Z"
   },
   {
    "duration": 77,
    "start_time": "2022-07-02T15:28:55.876Z"
   },
   {
    "duration": 131,
    "start_time": "2022-07-02T15:28:55.954Z"
   },
   {
    "duration": 593,
    "start_time": "2022-07-02T15:28:56.088Z"
   },
   {
    "duration": 5,
    "start_time": "2022-07-02T15:28:56.684Z"
   },
   {
    "duration": 15,
    "start_time": "2022-07-02T15:28:56.690Z"
   },
   {
    "duration": 172,
    "start_time": "2022-07-02T15:28:56.707Z"
   },
   {
    "duration": 551,
    "start_time": "2022-07-02T15:28:56.888Z"
   },
   {
    "duration": 467,
    "start_time": "2022-07-02T15:28:57.441Z"
   },
   {
    "duration": 1321,
    "start_time": "2022-07-02T15:52:24.346Z"
   },
   {
    "duration": 28,
    "start_time": "2022-07-02T15:52:25.669Z"
   },
   {
    "duration": 18,
    "start_time": "2022-07-02T15:52:25.699Z"
   },
   {
    "duration": 13,
    "start_time": "2022-07-02T15:52:25.720Z"
   },
   {
    "duration": 16,
    "start_time": "2022-07-02T15:52:25.736Z"
   },
   {
    "duration": 12,
    "start_time": "2022-07-02T15:52:25.753Z"
   },
   {
    "duration": 25,
    "start_time": "2022-07-02T15:52:25.767Z"
   },
   {
    "duration": 5,
    "start_time": "2022-07-02T15:52:25.794Z"
   },
   {
    "duration": 262,
    "start_time": "2022-07-02T15:52:25.800Z"
   },
   {
    "duration": 321,
    "start_time": "2022-07-02T15:52:26.066Z"
   },
   {
    "duration": 352,
    "start_time": "2022-07-02T15:52:26.389Z"
   },
   {
    "duration": 260,
    "start_time": "2022-07-02T15:52:26.743Z"
   },
   {
    "duration": 237,
    "start_time": "2022-07-02T15:52:27.005Z"
   },
   {
    "duration": 20,
    "start_time": "2022-07-02T15:52:27.244Z"
   },
   {
    "duration": 15,
    "start_time": "2022-07-02T15:52:27.266Z"
   },
   {
    "duration": 11,
    "start_time": "2022-07-02T15:52:27.283Z"
   },
   {
    "duration": 130,
    "start_time": "2022-07-02T15:52:27.296Z"
   },
   {
    "duration": 5,
    "start_time": "2022-07-02T15:52:27.427Z"
   },
   {
    "duration": 28,
    "start_time": "2022-07-02T15:52:27.433Z"
   },
   {
    "duration": 5,
    "start_time": "2022-07-02T15:52:27.462Z"
   },
   {
    "duration": 43147,
    "start_time": "2022-07-02T15:52:27.469Z"
   },
   {
    "duration": 34,
    "start_time": "2022-07-02T15:53:10.617Z"
   },
   {
    "duration": 104,
    "start_time": "2022-07-02T15:53:10.653Z"
   },
   {
    "duration": 552,
    "start_time": "2022-07-02T15:53:10.759Z"
   },
   {
    "duration": 4,
    "start_time": "2022-07-02T15:53:11.312Z"
   },
   {
    "duration": 16,
    "start_time": "2022-07-02T15:53:11.318Z"
   },
   {
    "duration": 27,
    "start_time": "2022-07-02T15:53:11.335Z"
   },
   {
    "duration": 576,
    "start_time": "2022-07-02T15:53:11.365Z"
   },
   {
    "duration": 396,
    "start_time": "2022-07-02T15:53:11.943Z"
   },
   {
    "duration": 4,
    "start_time": "2022-07-02T16:57:33.533Z"
   },
   {
    "duration": 41,
    "start_time": "2022-07-02T16:57:33.541Z"
   },
   {
    "duration": 13,
    "start_time": "2022-07-02T16:57:33.584Z"
   },
   {
    "duration": 11,
    "start_time": "2022-07-02T16:57:33.599Z"
   },
   {
    "duration": 4,
    "start_time": "2022-07-02T16:57:33.612Z"
   },
   {
    "duration": 5,
    "start_time": "2022-07-02T16:57:33.618Z"
   },
   {
    "duration": 9,
    "start_time": "2022-07-02T16:57:33.624Z"
   },
   {
    "duration": 28,
    "start_time": "2022-07-02T16:57:33.635Z"
   },
   {
    "duration": 233,
    "start_time": "2022-07-02T16:57:33.665Z"
   },
   {
    "duration": 400,
    "start_time": "2022-07-02T16:57:33.900Z"
   },
   {
    "duration": 295,
    "start_time": "2022-07-02T16:57:34.302Z"
   },
   {
    "duration": 244,
    "start_time": "2022-07-02T16:57:34.598Z"
   },
   {
    "duration": 223,
    "start_time": "2022-07-02T16:57:34.844Z"
   },
   {
    "duration": 1,
    "start_time": "2022-07-02T16:57:35.069Z"
   },
   {
    "duration": 12,
    "start_time": "2022-07-02T16:57:35.072Z"
   },
   {
    "duration": 11,
    "start_time": "2022-07-02T16:57:35.085Z"
   },
   {
    "duration": 115,
    "start_time": "2022-07-02T16:57:35.097Z"
   },
   {
    "duration": 5,
    "start_time": "2022-07-02T16:57:35.214Z"
   },
   {
    "duration": 11,
    "start_time": "2022-07-02T16:57:35.220Z"
   },
   {
    "duration": 14,
    "start_time": "2022-07-02T16:57:35.850Z"
   },
   {
    "duration": 25,
    "start_time": "2022-07-02T16:57:36.386Z"
   },
   {
    "duration": 95,
    "start_time": "2022-07-02T16:59:52.421Z"
   },
   {
    "duration": 24,
    "start_time": "2022-07-02T16:59:58.911Z"
   },
   {
    "duration": 16,
    "start_time": "2022-07-02T17:00:15.686Z"
   },
   {
    "duration": 21,
    "start_time": "2022-07-02T17:00:57.955Z"
   },
   {
    "duration": 2762,
    "start_time": "2022-07-02T17:04:28.582Z"
   },
   {
    "duration": 0,
    "start_time": "2022-07-02T17:04:31.346Z"
   },
   {
    "duration": 12,
    "start_time": "2022-07-02T17:04:52.365Z"
   },
   {
    "duration": 6,
    "start_time": "2022-07-02T17:04:54.456Z"
   },
   {
    "duration": 32,
    "start_time": "2022-07-02T17:04:54.464Z"
   },
   {
    "duration": 16,
    "start_time": "2022-07-02T17:04:54.498Z"
   },
   {
    "duration": 23,
    "start_time": "2022-07-02T17:04:54.516Z"
   },
   {
    "duration": 10,
    "start_time": "2022-07-02T17:04:54.542Z"
   },
   {
    "duration": 14,
    "start_time": "2022-07-02T17:04:54.554Z"
   },
   {
    "duration": 12,
    "start_time": "2022-07-02T17:04:54.569Z"
   },
   {
    "duration": 3,
    "start_time": "2022-07-02T17:04:54.582Z"
   },
   {
    "duration": 235,
    "start_time": "2022-07-02T17:04:54.587Z"
   },
   {
    "duration": 304,
    "start_time": "2022-07-02T17:04:54.823Z"
   },
   {
    "duration": 258,
    "start_time": "2022-07-02T17:04:55.128Z"
   },
   {
    "duration": 245,
    "start_time": "2022-07-02T17:04:55.388Z"
   },
   {
    "duration": 209,
    "start_time": "2022-07-02T17:04:55.634Z"
   },
   {
    "duration": 2,
    "start_time": "2022-07-02T17:04:55.850Z"
   },
   {
    "duration": 13,
    "start_time": "2022-07-02T17:04:55.853Z"
   },
   {
    "duration": 10,
    "start_time": "2022-07-02T17:04:55.868Z"
   },
   {
    "duration": 105,
    "start_time": "2022-07-02T17:04:55.880Z"
   },
   {
    "duration": 785,
    "start_time": "2022-07-02T17:04:55.987Z"
   },
   {
    "duration": 12,
    "start_time": "2022-07-02T17:04:56.855Z"
   },
   {
    "duration": 13,
    "start_time": "2022-07-02T17:05:37.680Z"
   },
   {
    "duration": 4,
    "start_time": "2022-07-02T17:05:41.088Z"
   },
   {
    "duration": 28,
    "start_time": "2022-07-02T17:05:41.094Z"
   },
   {
    "duration": 13,
    "start_time": "2022-07-02T17:05:41.124Z"
   },
   {
    "duration": 13,
    "start_time": "2022-07-02T17:05:41.138Z"
   },
   {
    "duration": 3,
    "start_time": "2022-07-02T17:05:41.153Z"
   },
   {
    "duration": 5,
    "start_time": "2022-07-02T17:05:41.157Z"
   },
   {
    "duration": 13,
    "start_time": "2022-07-02T17:05:41.163Z"
   },
   {
    "duration": 3,
    "start_time": "2022-07-02T17:05:41.178Z"
   },
   {
    "duration": 242,
    "start_time": "2022-07-02T17:05:41.182Z"
   },
   {
    "duration": 545,
    "start_time": "2022-07-02T17:05:41.425Z"
   },
   {
    "duration": 217,
    "start_time": "2022-07-02T17:05:41.972Z"
   },
   {
    "duration": 234,
    "start_time": "2022-07-02T17:05:42.191Z"
   },
   {
    "duration": 208,
    "start_time": "2022-07-02T17:05:42.426Z"
   },
   {
    "duration": 2,
    "start_time": "2022-07-02T17:05:42.636Z"
   },
   {
    "duration": 16,
    "start_time": "2022-07-02T17:05:42.639Z"
   },
   {
    "duration": 9,
    "start_time": "2022-07-02T17:05:42.657Z"
   },
   {
    "duration": 107,
    "start_time": "2022-07-02T17:05:42.667Z"
   },
   {
    "duration": 4,
    "start_time": "2022-07-02T17:05:42.814Z"
   },
   {
    "duration": 7,
    "start_time": "2022-07-02T17:05:44.919Z"
   },
   {
    "duration": 25,
    "start_time": "2022-07-02T17:05:45.492Z"
   },
   {
    "duration": 11,
    "start_time": "2022-07-02T17:06:30.404Z"
   },
   {
    "duration": 10,
    "start_time": "2022-07-02T17:17:32.556Z"
   },
   {
    "duration": 6,
    "start_time": "2022-07-02T17:17:45.602Z"
   },
   {
    "duration": 3,
    "start_time": "2022-07-02T17:17:45.958Z"
   },
   {
    "duration": 3,
    "start_time": "2022-07-02T17:17:46.351Z"
   },
   {
    "duration": 21,
    "start_time": "2022-07-02T17:17:47.842Z"
   },
   {
    "duration": 4,
    "start_time": "2022-07-02T17:20:20.019Z"
   },
   {
    "duration": 19,
    "start_time": "2022-07-02T17:20:21.335Z"
   },
   {
    "duration": 3,
    "start_time": "2022-07-02T17:20:37.565Z"
   },
   {
    "duration": 30,
    "start_time": "2022-07-02T17:20:37.571Z"
   },
   {
    "duration": 13,
    "start_time": "2022-07-02T17:20:37.602Z"
   },
   {
    "duration": 14,
    "start_time": "2022-07-02T17:20:37.616Z"
   },
   {
    "duration": 4,
    "start_time": "2022-07-02T17:20:37.632Z"
   },
   {
    "duration": 5,
    "start_time": "2022-07-02T17:20:37.637Z"
   },
   {
    "duration": 13,
    "start_time": "2022-07-02T17:20:37.644Z"
   },
   {
    "duration": 3,
    "start_time": "2022-07-02T17:20:37.659Z"
   },
   {
    "duration": 235,
    "start_time": "2022-07-02T17:20:37.664Z"
   },
   {
    "duration": 295,
    "start_time": "2022-07-02T17:20:37.901Z"
   },
   {
    "duration": 226,
    "start_time": "2022-07-02T17:20:38.199Z"
   },
   {
    "duration": 243,
    "start_time": "2022-07-02T17:20:38.426Z"
   },
   {
    "duration": 215,
    "start_time": "2022-07-02T17:20:38.671Z"
   },
   {
    "duration": 2,
    "start_time": "2022-07-02T17:20:38.889Z"
   },
   {
    "duration": 12,
    "start_time": "2022-07-02T17:20:38.893Z"
   },
   {
    "duration": 11,
    "start_time": "2022-07-02T17:20:38.907Z"
   },
   {
    "duration": 114,
    "start_time": "2022-07-02T17:20:38.919Z"
   },
   {
    "duration": 19,
    "start_time": "2022-07-02T17:20:39.034Z"
   },
   {
    "duration": 8,
    "start_time": "2022-07-02T17:20:39.054Z"
   },
   {
    "duration": 22,
    "start_time": "2022-07-02T17:20:39.063Z"
   },
   {
    "duration": 3,
    "start_time": "2022-07-02T17:20:39.087Z"
   },
   {
    "duration": 9635,
    "start_time": "2022-07-02T17:20:39.091Z"
   },
   {
    "duration": 0,
    "start_time": "2022-07-02T17:20:48.728Z"
   },
   {
    "duration": 0,
    "start_time": "2022-07-02T17:20:48.730Z"
   },
   {
    "duration": 0,
    "start_time": "2022-07-02T17:20:48.731Z"
   },
   {
    "duration": 3,
    "start_time": "2022-07-02T17:21:14.667Z"
   },
   {
    "duration": 28,
    "start_time": "2022-07-02T17:21:14.672Z"
   },
   {
    "duration": 12,
    "start_time": "2022-07-02T17:21:14.702Z"
   },
   {
    "duration": 12,
    "start_time": "2022-07-02T17:21:14.716Z"
   },
   {
    "duration": 4,
    "start_time": "2022-07-02T17:21:14.729Z"
   },
   {
    "duration": 5,
    "start_time": "2022-07-02T17:21:14.734Z"
   },
   {
    "duration": 16,
    "start_time": "2022-07-02T17:21:14.740Z"
   },
   {
    "duration": 3,
    "start_time": "2022-07-02T17:21:14.757Z"
   },
   {
    "duration": 235,
    "start_time": "2022-07-02T17:21:14.761Z"
   },
   {
    "duration": 291,
    "start_time": "2022-07-02T17:21:14.998Z"
   },
   {
    "duration": 224,
    "start_time": "2022-07-02T17:21:15.291Z"
   },
   {
    "duration": 241,
    "start_time": "2022-07-02T17:21:15.517Z"
   },
   {
    "duration": 508,
    "start_time": "2022-07-02T17:21:15.760Z"
   },
   {
    "duration": 2,
    "start_time": "2022-07-02T17:21:16.269Z"
   },
   {
    "duration": 12,
    "start_time": "2022-07-02T17:21:16.272Z"
   },
   {
    "duration": 10,
    "start_time": "2022-07-02T17:21:16.286Z"
   },
   {
    "duration": 115,
    "start_time": "2022-07-02T17:21:16.298Z"
   },
   {
    "duration": 6,
    "start_time": "2022-07-02T17:21:16.415Z"
   },
   {
    "duration": 7,
    "start_time": "2022-07-02T17:21:16.422Z"
   },
   {
    "duration": 38,
    "start_time": "2022-07-02T17:21:16.431Z"
   },
   {
    "duration": 3,
    "start_time": "2022-07-02T17:21:16.471Z"
   },
   {
    "duration": 41504,
    "start_time": "2022-07-02T17:21:16.475Z"
   },
   {
    "duration": 19,
    "start_time": "2022-07-02T17:21:57.980Z"
   },
   {
    "duration": 109,
    "start_time": "2022-07-02T17:21:58.050Z"
   },
   {
    "duration": 19,
    "start_time": "2022-07-02T17:22:21.508Z"
   },
   {
    "duration": 42208,
    "start_time": "2022-07-02T17:22:22.620Z"
   },
   {
    "duration": 4,
    "start_time": "2022-07-02T17:24:30.060Z"
   },
   {
    "duration": 19,
    "start_time": "2022-07-02T17:24:31.283Z"
   },
   {
    "duration": 20,
    "start_time": "2022-07-02T17:25:28.784Z"
   },
   {
    "duration": 4,
    "start_time": "2022-07-02T17:25:56.267Z"
   },
   {
    "duration": 10,
    "start_time": "2022-07-02T17:25:58.563Z"
   },
   {
    "duration": 25,
    "start_time": "2022-07-02T17:26:03.427Z"
   },
   {
    "duration": 928,
    "start_time": "2022-07-02T17:26:24.602Z"
   },
   {
    "duration": 32662,
    "start_time": "2022-07-02T17:28:09.890Z"
   },
   {
    "duration": 4,
    "start_time": "2022-07-02T17:28:45.961Z"
   },
   {
    "duration": 9,
    "start_time": "2022-07-02T17:28:46.425Z"
   },
   {
    "duration": 25,
    "start_time": "2022-07-02T17:28:47.546Z"
   },
   {
    "duration": 55869,
    "start_time": "2022-07-02T17:29:15.106Z"
   },
   {
    "duration": 10,
    "start_time": "2022-07-02T17:31:56.208Z"
   },
   {
    "duration": 3,
    "start_time": "2022-07-02T17:32:45.954Z"
   },
   {
    "duration": 108,
    "start_time": "2022-07-02T17:32:50.016Z"
   },
   {
    "duration": 55602,
    "start_time": "2022-07-02T17:34:23.248Z"
   },
   {
    "duration": 978,
    "start_time": "2022-07-02T17:37:46.358Z"
   },
   {
    "duration": 111,
    "start_time": "2022-07-02T17:37:50.029Z"
   },
   {
    "duration": 977,
    "start_time": "2022-07-02T17:38:16.849Z"
   },
   {
    "duration": 959,
    "start_time": "2022-07-02T17:38:47.365Z"
   },
   {
    "duration": 978,
    "start_time": "2022-07-02T17:39:32.387Z"
   },
   {
    "duration": 1022,
    "start_time": "2022-07-02T17:39:51.984Z"
   },
   {
    "duration": 993,
    "start_time": "2022-07-02T17:40:13.452Z"
   },
   {
    "duration": 117,
    "start_time": "2022-07-02T17:40:23.440Z"
   },
   {
    "duration": 1000,
    "start_time": "2022-07-02T17:41:14.440Z"
   },
   {
    "duration": 984,
    "start_time": "2022-07-02T17:41:20.187Z"
   },
   {
    "duration": 958,
    "start_time": "2022-07-02T17:41:31.893Z"
   },
   {
    "duration": 71649,
    "start_time": "2022-07-02T17:42:16.795Z"
   },
   {
    "duration": 1337,
    "start_time": "2022-07-02T17:45:32.368Z"
   },
   {
    "duration": 27,
    "start_time": "2022-07-02T17:45:33.706Z"
   },
   {
    "duration": 17,
    "start_time": "2022-07-02T17:45:33.734Z"
   },
   {
    "duration": 12,
    "start_time": "2022-07-02T17:45:33.753Z"
   },
   {
    "duration": 4,
    "start_time": "2022-07-02T17:45:33.766Z"
   },
   {
    "duration": 5,
    "start_time": "2022-07-02T17:45:33.772Z"
   },
   {
    "duration": 16,
    "start_time": "2022-07-02T17:45:33.779Z"
   },
   {
    "duration": 3,
    "start_time": "2022-07-02T17:45:33.796Z"
   },
   {
    "duration": 249,
    "start_time": "2022-07-02T17:45:33.800Z"
   },
   {
    "duration": 298,
    "start_time": "2022-07-02T17:45:34.051Z"
   },
   {
    "duration": 322,
    "start_time": "2022-07-02T17:45:34.351Z"
   },
   {
    "duration": 239,
    "start_time": "2022-07-02T17:45:34.675Z"
   },
   {
    "duration": 216,
    "start_time": "2022-07-02T17:45:34.915Z"
   },
   {
    "duration": 3,
    "start_time": "2022-07-02T17:45:35.132Z"
   },
   {
    "duration": 16,
    "start_time": "2022-07-02T17:45:35.136Z"
   },
   {
    "duration": 10,
    "start_time": "2022-07-02T17:45:35.153Z"
   },
   {
    "duration": 110,
    "start_time": "2022-07-02T17:45:35.164Z"
   },
   {
    "duration": 4,
    "start_time": "2022-07-02T17:45:35.276Z"
   },
   {
    "duration": 9,
    "start_time": "2022-07-02T17:45:35.281Z"
   },
   {
    "duration": 22,
    "start_time": "2022-07-02T17:45:35.291Z"
   },
   {
    "duration": 3,
    "start_time": "2022-07-02T17:45:35.314Z"
   },
   {
    "duration": 41120,
    "start_time": "2022-07-02T17:45:35.319Z"
   },
   {
    "duration": 20,
    "start_time": "2022-07-02T17:46:16.441Z"
   },
   {
    "duration": 96,
    "start_time": "2022-07-02T17:46:16.463Z"
   },
   {
    "duration": 41666,
    "start_time": "2022-07-02T17:46:16.652Z"
   },
   {
    "duration": 3,
    "start_time": "2022-07-02T17:46:58.320Z"
   },
   {
    "duration": 12,
    "start_time": "2022-07-02T17:46:58.325Z"
   },
   {
    "duration": 111,
    "start_time": "2022-07-02T17:46:58.340Z"
   },
   {
    "duration": 56193,
    "start_time": "2022-07-02T17:46:58.453Z"
   },
   {
    "duration": 975,
    "start_time": "2022-07-02T17:47:54.650Z"
   },
   {
    "duration": 110,
    "start_time": "2022-07-02T17:47:55.626Z"
   }
  ],
  "kernelspec": {
   "display_name": "Python 3 (ipykernel)",
   "language": "python",
   "name": "python3"
  },
  "language_info": {
   "codemirror_mode": {
    "name": "ipython",
    "version": 3
   },
   "file_extension": ".py",
   "mimetype": "text/x-python",
   "name": "python",
   "nbconvert_exporter": "python",
   "pygments_lexer": "ipython3",
   "version": "3.9.12"
  },
  "toc": {
   "base_numbering": 1,
   "nav_menu": {},
   "number_sections": true,
   "sideBar": true,
   "skip_h1_title": true,
   "title_cell": "Содержание",
   "title_sidebar": "Contents",
   "toc_cell": true,
   "toc_position": {
    "height": "calc(100% - 180px)",
    "left": "10px",
    "top": "150px",
    "width": "165px"
   },
   "toc_section_display": true,
   "toc_window_display": true
  }
 },
 "nbformat": 4,
 "nbformat_minor": 2
}
