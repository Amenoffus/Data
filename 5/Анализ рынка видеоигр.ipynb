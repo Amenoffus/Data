{
 "cells": [
  {
   "cell_type": "markdown",
   "id": "95a76004",
   "metadata": {
    "toc": true
   },
   "source": [
    "<h1>Table of Contents<span class=\"tocSkip\"></span></h1>\n",
    "<div class=\"toc\"><ul class=\"toc-item\"><li><span><a href=\"#Анализ-рынка-видеоигр\" data-toc-modified-id=\"Анализ-рынка-видеоигр-1\"><span class=\"toc-item-num\">1&nbsp;&nbsp;</span>Анализ рынка видеоигр</a></span></li><li><span><a href=\"#Импорт-библиотек.-Общая-информация-о-данных.\" data-toc-modified-id=\"Импорт-библиотек.-Общая-информация-о-данных.-2\"><span class=\"toc-item-num\">2&nbsp;&nbsp;</span>Импорт библиотек. Общая информация о данных.</a></span><ul class=\"toc-item\"><li><span><a href=\"#Выводы\" data-toc-modified-id=\"Выводы-2.1\"><span class=\"toc-item-num\">2.1&nbsp;&nbsp;</span>Выводы</a></span></li></ul></li><li><span><a href=\"#Подготовка-данных\" data-toc-modified-id=\"Подготовка-данных-3\"><span class=\"toc-item-num\">3&nbsp;&nbsp;</span>Подготовка данных</a></span><ul class=\"toc-item\"><li><span><a href=\"#Приведение-названий-столбцов-к-нижнему-регистру\" data-toc-modified-id=\"Приведение-названий-столбцов-к-нижнему-регистру-3.1\"><span class=\"toc-item-num\">3.1&nbsp;&nbsp;</span>Приведение названий столбцов к нижнему регистру</a></span></li><li><span><a href=\"#Работа-с-пропусками\" data-toc-modified-id=\"Работа-с-пропусками-3.2\"><span class=\"toc-item-num\">3.2&nbsp;&nbsp;</span>Работа с пропусками</a></span><ul class=\"toc-item\"><li><span><a href=\"#'name'\" data-toc-modified-id=\"'name'-3.2.1\"><span class=\"toc-item-num\">3.2.1&nbsp;&nbsp;</span>'name'</a></span></li><li><span><a href=\"#'year_of_release'\" data-toc-modified-id=\"'year_of_release'-3.2.2\"><span class=\"toc-item-num\">3.2.2&nbsp;&nbsp;</span>'year_of_release'</a></span></li><li><span><a href=\"#'user_Score',--'rating',--'critic_score'\" data-toc-modified-id=\"'user_Score',--'rating',--'critic_score'-3.2.3\"><span class=\"toc-item-num\">3.2.3&nbsp;&nbsp;</span>'user_Score',  'rating',  'critic_score'</a></span></li><li><span><a href=\"#'rating'\" data-toc-modified-id=\"'rating'-3.2.4\"><span class=\"toc-item-num\">3.2.4&nbsp;&nbsp;</span>'rating'</a></span></li></ul></li><li><span><a href=\"#Добавление-столбца-с-общим-счетом\" data-toc-modified-id=\"Добавление-столбца-с-общим-счетом-3.3\"><span class=\"toc-item-num\">3.3&nbsp;&nbsp;</span>Добавление столбца с общим счетом</a></span></li><li><span><a href=\"#Выводы\" data-toc-modified-id=\"Выводы-3.4\"><span class=\"toc-item-num\">3.4&nbsp;&nbsp;</span>Выводы</a></span></li></ul></li><li><span><a href=\"#Анализ-данных\" data-toc-modified-id=\"Анализ-данных-4\"><span class=\"toc-item-num\">4&nbsp;&nbsp;</span>Анализ данных</a></span><ul class=\"toc-item\"><li><span><a href=\"#Распределние-количества-выпускаемых-игр-по-годам.\" data-toc-modified-id=\"Распределние-количества-выпускаемых-игр-по-годам.-4.1\"><span class=\"toc-item-num\">4.1&nbsp;&nbsp;</span>Распределние количества выпускаемых игр по годам.</a></span></li><li><span><a href=\"#Продажи-по-платформам.\" data-toc-modified-id=\"Продажи-по-платформам.-4.2\"><span class=\"toc-item-num\">4.2&nbsp;&nbsp;</span>Продажи по платформам.</a></span></li><li><span><a href=\"#Влияние-отзывов-пользователей-и-критиков-на-продажи-внутри-одной-популярной-платформы.\" data-toc-modified-id=\"Влияние-отзывов-пользователей-и-критиков-на-продажи-внутри-одной-популярной-платформы.-4.3\"><span class=\"toc-item-num\">4.3&nbsp;&nbsp;</span>Влияние отзывов пользователей и критиков на продажи внутри одной популярной платформы.</a></span></li><li><span><a href=\"#Влияние-оценок-и-отзывов-на-продажами-игр-на-других-платформах.\" data-toc-modified-id=\"Влияние-оценок-и-отзывов-на-продажами-игр-на-других-платформах.-4.4\"><span class=\"toc-item-num\">4.4&nbsp;&nbsp;</span>Влияние оценок и отзывов на продажами игр на других платформах.</a></span></li><li><span><a href=\"#Общее-распределение-игр-по-жанрам\" data-toc-modified-id=\"Общее-распределение-игр-по-жанрам-4.5\"><span class=\"toc-item-num\">4.5&nbsp;&nbsp;</span>Общее распределение игр по жанрам</a></span></li><li><span><a href=\"#Выводы\" data-toc-modified-id=\"Выводы-4.6\"><span class=\"toc-item-num\">4.6&nbsp;&nbsp;</span>Выводы</a></span></li></ul></li><li><span><a href=\"#Портрет-пользователя-каждого-региона\" data-toc-modified-id=\"Портрет-пользователя-каждого-региона-5\"><span class=\"toc-item-num\">5&nbsp;&nbsp;</span>Портрет пользователя каждого региона</a></span><ul class=\"toc-item\"><li><span><a href=\"#Самые-популярные-платформы-по-регионам.\" data-toc-modified-id=\"Самые-популярные-платформы-по-регионам.-5.1\"><span class=\"toc-item-num\">5.1&nbsp;&nbsp;</span>Самые популярные платформы по регионам.</a></span></li><li><span><a href=\"#Самые-популярные-жанры-по-регионам.\" data-toc-modified-id=\"Самые-популярные-жанры-по-регионам.-5.2\"><span class=\"toc-item-num\">5.2&nbsp;&nbsp;</span>Самые популярные жанры по регионам.</a></span></li><li><span><a href=\"#Влияние-рейтинга-ESRB-на-продажи.\" data-toc-modified-id=\"Влияние-рейтинга-ESRB-на-продажи.-5.3\"><span class=\"toc-item-num\">5.3&nbsp;&nbsp;</span>Влияние рейтинга ESRB на продажи.</a></span></li><li><span><a href=\"#Выводы\" data-toc-modified-id=\"Выводы-5.4\"><span class=\"toc-item-num\">5.4&nbsp;&nbsp;</span>Выводы</a></span></li></ul></li><li><span><a href=\"#Проверка-гипотез\" data-toc-modified-id=\"Проверка-гипотез-6\"><span class=\"toc-item-num\">6&nbsp;&nbsp;</span>Проверка гипотез</a></span><ul class=\"toc-item\"><li><span><a href=\"#Средние-пользовательские-рейтинги-платформ-Xbox-One-и-PC-одинаковые.\" data-toc-modified-id=\"Средние-пользовательские-рейтинги-платформ-Xbox-One-и-PC-одинаковые.-6.1\"><span class=\"toc-item-num\">6.1&nbsp;&nbsp;</span>Средние пользовательские рейтинги платформ Xbox One и PC одинаковые.</a></span></li><li><span><a href=\"#Средние-пользовательские-рейтинги-жанров-Action-и-Sports-разные.\" data-toc-modified-id=\"Средние-пользовательские-рейтинги-жанров-Action-и-Sports-разные.-6.2\"><span class=\"toc-item-num\">6.2&nbsp;&nbsp;</span>Средние пользовательские рейтинги жанров Action и Sports разные.</a></span></li><li><span><a href=\"#Выводы\" data-toc-modified-id=\"Выводы-6.3\"><span class=\"toc-item-num\">6.3&nbsp;&nbsp;</span>Выводы</a></span></li></ul></li><li><span><a href=\"#Общий-вывод\" data-toc-modified-id=\"Общий-вывод-7\"><span class=\"toc-item-num\">7&nbsp;&nbsp;</span>Общий вывод</a></span></li></ul></div>"
   ]
  },
  {
   "cell_type": "markdown",
   "id": "3485cbdd",
   "metadata": {},
   "source": [
    "# Анализ рынка видеоигр"
   ]
  },
  {
   "cell_type": "markdown",
   "id": "ae50d2d8",
   "metadata": {},
   "source": [
    "Описание проекта\n",
    "\n",
    "Вы работаете в интернет-магазине «Стримчик», который продаёт по всему миру компьютерные игры. Из открытых источников доступны исторические данные о продажах игр, оценки пользователей и экспертов, жанры и платформы (например, Xbox или PlayStation). Вам нужно выявить определяющие успешность игры закономерности. Это позволит сделать ставку на потенциально популярный продукт и спланировать рекламные кампании.\n",
    "\n",
    "Перед вами данные до 2016 года. Представим, что сейчас декабрь 2016 г., и вы планируете кампанию на 2017-й. Нужно отработать принцип работы с данными. Неважно, прогнозируете ли вы продажи на 2017 год по данным 2016-го или же 2027-й — по данным 2026 года.\n",
    "\n",
    "В наборе данных попадается аббревиатура ESRB (Entertainment Software Rating Board) — это ассоциация, определяющая возрастной рейтинг компьютерных игр. ESRB оценивает игровой контент и присваивает ему подходящую возрастную категорию, например, «Для взрослых», «Для детей младшего возраста» или «Для подростков».\n",
    "\n",
    "Инструкция по выполнению проекта\n",
    "\n",
    "- Шаг 1. Откройте файл с данными и изучите общую информацию\n",
    "    - Путь к файлу: /datasets/games.csv. Скачать датасет\n",
    "- Шаг 2. Подготовьте данные\n",
    "    - Замените названия столбцов (приведите к нижнему регистру);\n",
    "    - Преобразуйте данные в нужные типы. Опишите, в каких столбцах заменили тип данных и почему;\n",
    "    - Обработайте пропуски при необходимости:\n",
    "        - Объясните, почему заполнили пропуски определённым образом или почему не стали это делать;\n",
    "        - Опишите причины, которые могли привести к пропускам;\n",
    "        - Обратите внимание на аббревиатуру 'tbd' в столбце с оценкой пользователей. Отдельно разберите это значение и опишите, как его обработать;\n",
    "    - Посчитайте суммарные продажи во всех регионах и запишите их в отдельный столбец.\n",
    "- Шаг 3. Проведите исследовательский анализ данных\n",
    "    - Посмотрите, сколько игр выпускалось в разные годы. Важны ли данные за все периоды?\n",
    "    - Посмотрите, как менялись продажи по платформам. Выберите платформы с наибольшими суммарными продажами и постройте распределение по годам. За какой характерный срок появляются новые и исчезают старые платформы?\n",
    "    - Возьмите данные за соответствующий актуальный период. Актуальный период определите самостоятельно в результате исследования предыдущих вопросов. Основной фактор — эти данные помогут построить прогноз на 2017 год.\n",
    "    - Не учитывайте в работе данные за предыдущие годы.\n",
    "    - Какие платформы лидируют по продажам, растут или падают? Выберите несколько потенциально прибыльных платформ.\n",
    "    - Постройте график «ящик с усами» по глобальным продажам игр в разбивке по платформам. Опишите результат.\n",
    "    - Посмотрите, как влияют на продажи внутри одной популярной платформы отзывы пользователей и критиков. Постройте диаграмму рассеяния и посчитайте корреляцию между отзывами и продажами. Сформулируйте выводы.\n",
    "    - Соотнесите выводы с продажами игр на других платформах.\n",
    "    - Посмотрите на общее распределение игр по жанрам. Что можно сказать о самых прибыльных жанрах? Выделяются ли жанры с высокими и низкими продажами?\n",
    "- Шаг 4. Составьте портрет пользователя каждого региона\n",
    "    - Определите для пользователя каждого региона (NA, EU, JP):\n",
    "        - Самые популярные платформы (топ-5). Опишите различия в долях продаж.\n",
    "        - Самые популярные жанры (топ-5). Поясните разницу.\n",
    "        - Влияет ли рейтинг ESRB на продажи в отдельном регионе?\n",
    "- Шаг 5. Проверьте гипотезы\n",
    "    - Средние пользовательские рейтинги платформ Xbox One и PC одинаковые;\n",
    "    - Средние пользовательские рейтинги жанров Action (англ. «действие», экшен-игры) и Sports (англ. «спортивные соревнования») разные.\n",
    "    - Задайте самостоятельно пороговое значение alpha.\n",
    "    - Поясните:\n",
    "        - Как вы сформулировали нулевую и альтернативную гипотезы;\n",
    "        - Какой критерий применили для проверки гипотез и почему.\n",
    "- Шаг 6. Напишите общий вывод\n",
    "\n",
    "Оформление: Выполните задание в Jupyter Notebook. Заполните программный код в ячейках типа code, текстовые пояснения — в ячейках типа markdown.\n",
    "Примените форматирование и заголовки.\n",
    "\n",
    "Описание данных\n",
    "- Name — название игры\n",
    "- Platform — платформа\n",
    "- Year_of_Release — год выпуска\n",
    "- Genre — жанр игры\n",
    "- NA_sales — продажи в Северной Америке (миллионы проданных копий)\n",
    "- EU_sales — продажи в Европе (миллионы проданных копий)\n",
    "- JP_sales — продажи в Японии (миллионы проданных копий)\n",
    "- Other_sales — продажи в других странах (миллионы проданных копий)\n",
    "- Critic_Score — оценка критиков (максимум 100)\n",
    "- User_Score — оценка пользователей (максимум 10)\n",
    "- Rating — рейтинг от организации ESRB (англ. Entertainment Software Rating Board). Эта ассоциация определяет рейтинг компьютерных игр и присваивает им подходящую возрастную категорию.\n",
    "\n",
    "Данные за 2016 год могут быть неполными."
   ]
  },
  {
   "cell_type": "markdown",
   "id": "c694b805",
   "metadata": {},
   "source": [
    "# Импорт библиотек. Общая информация о данных."
   ]
  },
  {
   "cell_type": "code",
   "execution_count": 1,
   "id": "08c2e33d",
   "metadata": {},
   "outputs": [],
   "source": [
    "import pandas as pd\n",
    "import seaborn as sns\n",
    "from matplotlib import pyplot as plt\n",
    "import numpy as np\n",
    "from scipy import stats as st"
   ]
  },
  {
   "cell_type": "code",
   "execution_count": 2,
   "id": "29fbc504",
   "metadata": {},
   "outputs": [],
   "source": [
    "df = pd.read_csv('/datasets/games.csv')"
   ]
  },
  {
   "cell_type": "code",
   "execution_count": 3,
   "id": "95f03889",
   "metadata": {},
   "outputs": [
    {
     "data": {
      "text/html": [
       "<div>\n",
       "<style scoped>\n",
       "    .dataframe tbody tr th:only-of-type {\n",
       "        vertical-align: middle;\n",
       "    }\n",
       "\n",
       "    .dataframe tbody tr th {\n",
       "        vertical-align: top;\n",
       "    }\n",
       "\n",
       "    .dataframe thead th {\n",
       "        text-align: right;\n",
       "    }\n",
       "</style>\n",
       "<table border=\"1\" class=\"dataframe\">\n",
       "  <thead>\n",
       "    <tr style=\"text-align: right;\">\n",
       "      <th></th>\n",
       "      <th>Name</th>\n",
       "      <th>Platform</th>\n",
       "      <th>Year_of_Release</th>\n",
       "      <th>Genre</th>\n",
       "      <th>NA_sales</th>\n",
       "      <th>EU_sales</th>\n",
       "      <th>JP_sales</th>\n",
       "      <th>Other_sales</th>\n",
       "      <th>Critic_Score</th>\n",
       "      <th>User_Score</th>\n",
       "      <th>Rating</th>\n",
       "    </tr>\n",
       "  </thead>\n",
       "  <tbody>\n",
       "    <tr>\n",
       "      <th>0</th>\n",
       "      <td>Wii Sports</td>\n",
       "      <td>Wii</td>\n",
       "      <td>2006.0</td>\n",
       "      <td>Sports</td>\n",
       "      <td>41.36</td>\n",
       "      <td>28.96</td>\n",
       "      <td>3.77</td>\n",
       "      <td>8.45</td>\n",
       "      <td>76.0</td>\n",
       "      <td>8</td>\n",
       "      <td>E</td>\n",
       "    </tr>\n",
       "    <tr>\n",
       "      <th>1</th>\n",
       "      <td>Super Mario Bros.</td>\n",
       "      <td>NES</td>\n",
       "      <td>1985.0</td>\n",
       "      <td>Platform</td>\n",
       "      <td>29.08</td>\n",
       "      <td>3.58</td>\n",
       "      <td>6.81</td>\n",
       "      <td>0.77</td>\n",
       "      <td>NaN</td>\n",
       "      <td>NaN</td>\n",
       "      <td>NaN</td>\n",
       "    </tr>\n",
       "    <tr>\n",
       "      <th>2</th>\n",
       "      <td>Mario Kart Wii</td>\n",
       "      <td>Wii</td>\n",
       "      <td>2008.0</td>\n",
       "      <td>Racing</td>\n",
       "      <td>15.68</td>\n",
       "      <td>12.76</td>\n",
       "      <td>3.79</td>\n",
       "      <td>3.29</td>\n",
       "      <td>82.0</td>\n",
       "      <td>8.3</td>\n",
       "      <td>E</td>\n",
       "    </tr>\n",
       "    <tr>\n",
       "      <th>3</th>\n",
       "      <td>Wii Sports Resort</td>\n",
       "      <td>Wii</td>\n",
       "      <td>2009.0</td>\n",
       "      <td>Sports</td>\n",
       "      <td>15.61</td>\n",
       "      <td>10.93</td>\n",
       "      <td>3.28</td>\n",
       "      <td>2.95</td>\n",
       "      <td>80.0</td>\n",
       "      <td>8</td>\n",
       "      <td>E</td>\n",
       "    </tr>\n",
       "    <tr>\n",
       "      <th>4</th>\n",
       "      <td>Pokemon Red/Pokemon Blue</td>\n",
       "      <td>GB</td>\n",
       "      <td>1996.0</td>\n",
       "      <td>Role-Playing</td>\n",
       "      <td>11.27</td>\n",
       "      <td>8.89</td>\n",
       "      <td>10.22</td>\n",
       "      <td>1.00</td>\n",
       "      <td>NaN</td>\n",
       "      <td>NaN</td>\n",
       "      <td>NaN</td>\n",
       "    </tr>\n",
       "    <tr>\n",
       "      <th>5</th>\n",
       "      <td>Tetris</td>\n",
       "      <td>GB</td>\n",
       "      <td>1989.0</td>\n",
       "      <td>Puzzle</td>\n",
       "      <td>23.20</td>\n",
       "      <td>2.26</td>\n",
       "      <td>4.22</td>\n",
       "      <td>0.58</td>\n",
       "      <td>NaN</td>\n",
       "      <td>NaN</td>\n",
       "      <td>NaN</td>\n",
       "    </tr>\n",
       "    <tr>\n",
       "      <th>6</th>\n",
       "      <td>New Super Mario Bros.</td>\n",
       "      <td>DS</td>\n",
       "      <td>2006.0</td>\n",
       "      <td>Platform</td>\n",
       "      <td>11.28</td>\n",
       "      <td>9.14</td>\n",
       "      <td>6.50</td>\n",
       "      <td>2.88</td>\n",
       "      <td>89.0</td>\n",
       "      <td>8.5</td>\n",
       "      <td>E</td>\n",
       "    </tr>\n",
       "    <tr>\n",
       "      <th>7</th>\n",
       "      <td>Wii Play</td>\n",
       "      <td>Wii</td>\n",
       "      <td>2006.0</td>\n",
       "      <td>Misc</td>\n",
       "      <td>13.96</td>\n",
       "      <td>9.18</td>\n",
       "      <td>2.93</td>\n",
       "      <td>2.84</td>\n",
       "      <td>58.0</td>\n",
       "      <td>6.6</td>\n",
       "      <td>E</td>\n",
       "    </tr>\n",
       "    <tr>\n",
       "      <th>8</th>\n",
       "      <td>New Super Mario Bros. Wii</td>\n",
       "      <td>Wii</td>\n",
       "      <td>2009.0</td>\n",
       "      <td>Platform</td>\n",
       "      <td>14.44</td>\n",
       "      <td>6.94</td>\n",
       "      <td>4.70</td>\n",
       "      <td>2.24</td>\n",
       "      <td>87.0</td>\n",
       "      <td>8.4</td>\n",
       "      <td>E</td>\n",
       "    </tr>\n",
       "    <tr>\n",
       "      <th>9</th>\n",
       "      <td>Duck Hunt</td>\n",
       "      <td>NES</td>\n",
       "      <td>1984.0</td>\n",
       "      <td>Shooter</td>\n",
       "      <td>26.93</td>\n",
       "      <td>0.63</td>\n",
       "      <td>0.28</td>\n",
       "      <td>0.47</td>\n",
       "      <td>NaN</td>\n",
       "      <td>NaN</td>\n",
       "      <td>NaN</td>\n",
       "    </tr>\n",
       "  </tbody>\n",
       "</table>\n",
       "</div>"
      ],
      "text/plain": [
       "                        Name Platform  Year_of_Release         Genre  \\\n",
       "0                 Wii Sports      Wii           2006.0        Sports   \n",
       "1          Super Mario Bros.      NES           1985.0      Platform   \n",
       "2             Mario Kart Wii      Wii           2008.0        Racing   \n",
       "3          Wii Sports Resort      Wii           2009.0        Sports   \n",
       "4   Pokemon Red/Pokemon Blue       GB           1996.0  Role-Playing   \n",
       "5                     Tetris       GB           1989.0        Puzzle   \n",
       "6      New Super Mario Bros.       DS           2006.0      Platform   \n",
       "7                   Wii Play      Wii           2006.0          Misc   \n",
       "8  New Super Mario Bros. Wii      Wii           2009.0      Platform   \n",
       "9                  Duck Hunt      NES           1984.0       Shooter   \n",
       "\n",
       "   NA_sales  EU_sales  JP_sales  Other_sales  Critic_Score User_Score Rating  \n",
       "0     41.36     28.96      3.77         8.45          76.0          8      E  \n",
       "1     29.08      3.58      6.81         0.77           NaN        NaN    NaN  \n",
       "2     15.68     12.76      3.79         3.29          82.0        8.3      E  \n",
       "3     15.61     10.93      3.28         2.95          80.0          8      E  \n",
       "4     11.27      8.89     10.22         1.00           NaN        NaN    NaN  \n",
       "5     23.20      2.26      4.22         0.58           NaN        NaN    NaN  \n",
       "6     11.28      9.14      6.50         2.88          89.0        8.5      E  \n",
       "7     13.96      9.18      2.93         2.84          58.0        6.6      E  \n",
       "8     14.44      6.94      4.70         2.24          87.0        8.4      E  \n",
       "9     26.93      0.63      0.28         0.47           NaN        NaN    NaN  "
      ]
     },
     "execution_count": 3,
     "metadata": {},
     "output_type": "execute_result"
    }
   ],
   "source": [
    "df.head(10)"
   ]
  },
  {
   "cell_type": "code",
   "execution_count": 4,
   "id": "0753c0e5",
   "metadata": {},
   "outputs": [
    {
     "name": "stdout",
     "output_type": "stream",
     "text": [
      "<class 'pandas.core.frame.DataFrame'>\n",
      "RangeIndex: 16715 entries, 0 to 16714\n",
      "Data columns (total 11 columns):\n",
      " #   Column           Non-Null Count  Dtype  \n",
      "---  ------           --------------  -----  \n",
      " 0   Name             16713 non-null  object \n",
      " 1   Platform         16715 non-null  object \n",
      " 2   Year_of_Release  16446 non-null  float64\n",
      " 3   Genre            16713 non-null  object \n",
      " 4   NA_sales         16715 non-null  float64\n",
      " 5   EU_sales         16715 non-null  float64\n",
      " 6   JP_sales         16715 non-null  float64\n",
      " 7   Other_sales      16715 non-null  float64\n",
      " 8   Critic_Score     8137 non-null   float64\n",
      " 9   User_Score       10014 non-null  object \n",
      " 10  Rating           9949 non-null   object \n",
      "dtypes: float64(6), object(5)\n",
      "memory usage: 1.4+ MB\n"
     ]
    }
   ],
   "source": [
    "df.info()"
   ]
  },
  {
   "cell_type": "code",
   "execution_count": 5,
   "id": "d3e90275",
   "metadata": {
    "scrolled": true
   },
   "outputs": [
    {
     "data": {
      "text/plain": [
       "Platform              0\n",
       "NA_sales              0\n",
       "EU_sales              0\n",
       "JP_sales              0\n",
       "Other_sales           0\n",
       "Name                  2\n",
       "Genre                 2\n",
       "Year_of_Release     269\n",
       "User_Score         6701\n",
       "Rating             6766\n",
       "Critic_Score       8578\n",
       "dtype: int64"
      ]
     },
     "execution_count": 5,
     "metadata": {},
     "output_type": "execute_result"
    }
   ],
   "source": [
    "df.isnull().sum().sort_values()"
   ]
  },
  {
   "cell_type": "markdown",
   "id": "b8578d91",
   "metadata": {},
   "source": [
    "## Выводы"
   ]
  },
  {
   "cell_type": "markdown",
   "id": "f375d583",
   "metadata": {},
   "source": [
    "- В данных присутствует большое количество пропусков в столбцах с оценками и рейтингом.\n",
    "- В несуольуих столбцах нужно сменить тип данных."
   ]
  },
  {
   "cell_type": "markdown",
   "id": "1a8462a4",
   "metadata": {},
   "source": [
    "# Подготовка данных"
   ]
  },
  {
   "cell_type": "markdown",
   "id": "e7395617",
   "metadata": {},
   "source": [
    "## Приведение названий столбцов к нижнему регистру"
   ]
  },
  {
   "cell_type": "code",
   "execution_count": 6,
   "id": "48675a49",
   "metadata": {
    "scrolled": false
   },
   "outputs": [
    {
     "data": {
      "text/html": [
       "<div>\n",
       "<style scoped>\n",
       "    .dataframe tbody tr th:only-of-type {\n",
       "        vertical-align: middle;\n",
       "    }\n",
       "\n",
       "    .dataframe tbody tr th {\n",
       "        vertical-align: top;\n",
       "    }\n",
       "\n",
       "    .dataframe thead th {\n",
       "        text-align: right;\n",
       "    }\n",
       "</style>\n",
       "<table border=\"1\" class=\"dataframe\">\n",
       "  <thead>\n",
       "    <tr style=\"text-align: right;\">\n",
       "      <th></th>\n",
       "      <th>name</th>\n",
       "      <th>platform</th>\n",
       "      <th>year_of_release</th>\n",
       "      <th>genre</th>\n",
       "      <th>na_sales</th>\n",
       "      <th>eu_sales</th>\n",
       "      <th>jp_sales</th>\n",
       "      <th>other_sales</th>\n",
       "      <th>critic_score</th>\n",
       "      <th>user_score</th>\n",
       "      <th>rating</th>\n",
       "    </tr>\n",
       "  </thead>\n",
       "  <tbody>\n",
       "    <tr>\n",
       "      <th>0</th>\n",
       "      <td>Wii Sports</td>\n",
       "      <td>Wii</td>\n",
       "      <td>2006.0</td>\n",
       "      <td>Sports</td>\n",
       "      <td>41.36</td>\n",
       "      <td>28.96</td>\n",
       "      <td>3.77</td>\n",
       "      <td>8.45</td>\n",
       "      <td>76.0</td>\n",
       "      <td>8</td>\n",
       "      <td>E</td>\n",
       "    </tr>\n",
       "    <tr>\n",
       "      <th>1</th>\n",
       "      <td>Super Mario Bros.</td>\n",
       "      <td>NES</td>\n",
       "      <td>1985.0</td>\n",
       "      <td>Platform</td>\n",
       "      <td>29.08</td>\n",
       "      <td>3.58</td>\n",
       "      <td>6.81</td>\n",
       "      <td>0.77</td>\n",
       "      <td>NaN</td>\n",
       "      <td>NaN</td>\n",
       "      <td>NaN</td>\n",
       "    </tr>\n",
       "    <tr>\n",
       "      <th>2</th>\n",
       "      <td>Mario Kart Wii</td>\n",
       "      <td>Wii</td>\n",
       "      <td>2008.0</td>\n",
       "      <td>Racing</td>\n",
       "      <td>15.68</td>\n",
       "      <td>12.76</td>\n",
       "      <td>3.79</td>\n",
       "      <td>3.29</td>\n",
       "      <td>82.0</td>\n",
       "      <td>8.3</td>\n",
       "      <td>E</td>\n",
       "    </tr>\n",
       "    <tr>\n",
       "      <th>3</th>\n",
       "      <td>Wii Sports Resort</td>\n",
       "      <td>Wii</td>\n",
       "      <td>2009.0</td>\n",
       "      <td>Sports</td>\n",
       "      <td>15.61</td>\n",
       "      <td>10.93</td>\n",
       "      <td>3.28</td>\n",
       "      <td>2.95</td>\n",
       "      <td>80.0</td>\n",
       "      <td>8</td>\n",
       "      <td>E</td>\n",
       "    </tr>\n",
       "    <tr>\n",
       "      <th>4</th>\n",
       "      <td>Pokemon Red/Pokemon Blue</td>\n",
       "      <td>GB</td>\n",
       "      <td>1996.0</td>\n",
       "      <td>Role-Playing</td>\n",
       "      <td>11.27</td>\n",
       "      <td>8.89</td>\n",
       "      <td>10.22</td>\n",
       "      <td>1.00</td>\n",
       "      <td>NaN</td>\n",
       "      <td>NaN</td>\n",
       "      <td>NaN</td>\n",
       "    </tr>\n",
       "  </tbody>\n",
       "</table>\n",
       "</div>"
      ],
      "text/plain": [
       "                       name platform  year_of_release         genre  na_sales  \\\n",
       "0                Wii Sports      Wii           2006.0        Sports     41.36   \n",
       "1         Super Mario Bros.      NES           1985.0      Platform     29.08   \n",
       "2            Mario Kart Wii      Wii           2008.0        Racing     15.68   \n",
       "3         Wii Sports Resort      Wii           2009.0        Sports     15.61   \n",
       "4  Pokemon Red/Pokemon Blue       GB           1996.0  Role-Playing     11.27   \n",
       "\n",
       "   eu_sales  jp_sales  other_sales  critic_score user_score rating  \n",
       "0     28.96      3.77         8.45          76.0          8      E  \n",
       "1      3.58      6.81         0.77           NaN        NaN    NaN  \n",
       "2     12.76      3.79         3.29          82.0        8.3      E  \n",
       "3     10.93      3.28         2.95          80.0          8      E  \n",
       "4      8.89     10.22         1.00           NaN        NaN    NaN  "
      ]
     },
     "execution_count": 6,
     "metadata": {},
     "output_type": "execute_result"
    }
   ],
   "source": [
    "clmns = [i.lower() for i in df.columns.tolist()]\n",
    "df.set_axis(clmns, axis='columns', inplace=True)\n",
    "df.head()"
   ]
  },
  {
   "cell_type": "markdown",
   "id": "619faceb",
   "metadata": {},
   "source": [
    "## Работа с пропусками"
   ]
  },
  {
   "cell_type": "markdown",
   "id": "3ba90865",
   "metadata": {},
   "source": [
    "### 'name'"
   ]
  },
  {
   "cell_type": "code",
   "execution_count": 7,
   "id": "236bef38",
   "metadata": {
    "scrolled": true
   },
   "outputs": [
    {
     "data": {
      "text/html": [
       "<div>\n",
       "<style scoped>\n",
       "    .dataframe tbody tr th:only-of-type {\n",
       "        vertical-align: middle;\n",
       "    }\n",
       "\n",
       "    .dataframe tbody tr th {\n",
       "        vertical-align: top;\n",
       "    }\n",
       "\n",
       "    .dataframe thead th {\n",
       "        text-align: right;\n",
       "    }\n",
       "</style>\n",
       "<table border=\"1\" class=\"dataframe\">\n",
       "  <thead>\n",
       "    <tr style=\"text-align: right;\">\n",
       "      <th></th>\n",
       "      <th>name</th>\n",
       "      <th>platform</th>\n",
       "      <th>year_of_release</th>\n",
       "      <th>genre</th>\n",
       "      <th>na_sales</th>\n",
       "      <th>eu_sales</th>\n",
       "      <th>jp_sales</th>\n",
       "      <th>other_sales</th>\n",
       "      <th>critic_score</th>\n",
       "      <th>user_score</th>\n",
       "      <th>rating</th>\n",
       "    </tr>\n",
       "  </thead>\n",
       "  <tbody>\n",
       "    <tr>\n",
       "      <th>659</th>\n",
       "      <td>NaN</td>\n",
       "      <td>GEN</td>\n",
       "      <td>1993.0</td>\n",
       "      <td>NaN</td>\n",
       "      <td>1.78</td>\n",
       "      <td>0.53</td>\n",
       "      <td>0.00</td>\n",
       "      <td>0.08</td>\n",
       "      <td>NaN</td>\n",
       "      <td>NaN</td>\n",
       "      <td>NaN</td>\n",
       "    </tr>\n",
       "    <tr>\n",
       "      <th>14244</th>\n",
       "      <td>NaN</td>\n",
       "      <td>GEN</td>\n",
       "      <td>1993.0</td>\n",
       "      <td>NaN</td>\n",
       "      <td>0.00</td>\n",
       "      <td>0.00</td>\n",
       "      <td>0.03</td>\n",
       "      <td>0.00</td>\n",
       "      <td>NaN</td>\n",
       "      <td>NaN</td>\n",
       "      <td>NaN</td>\n",
       "    </tr>\n",
       "  </tbody>\n",
       "</table>\n",
       "</div>"
      ],
      "text/plain": [
       "      name platform  year_of_release genre  na_sales  eu_sales  jp_sales  \\\n",
       "659    NaN      GEN           1993.0   NaN      1.78      0.53      0.00   \n",
       "14244  NaN      GEN           1993.0   NaN      0.00      0.00      0.03   \n",
       "\n",
       "       other_sales  critic_score user_score rating  \n",
       "659           0.08           NaN        NaN    NaN  \n",
       "14244         0.00           NaN        NaN    NaN  "
      ]
     },
     "execution_count": 7,
     "metadata": {},
     "output_type": "execute_result"
    }
   ],
   "source": [
    "df[df['name'].isna()]"
   ]
  },
  {
   "cell_type": "markdown",
   "id": "d20c912c",
   "metadata": {},
   "source": [
    "Две строки с пропущенным значением 'name' стоит удалить, в них мало данных."
   ]
  },
  {
   "cell_type": "code",
   "execution_count": 8,
   "id": "49d2aae4",
   "metadata": {
    "scrolled": true
   },
   "outputs": [],
   "source": [
    "df = df[~df['name'].isna()]"
   ]
  },
  {
   "cell_type": "markdown",
   "id": "e274634c",
   "metadata": {},
   "source": [
    "### 'year_of_release'"
   ]
  },
  {
   "cell_type": "code",
   "execution_count": 9,
   "id": "e9916e4c",
   "metadata": {
    "scrolled": true
   },
   "outputs": [
    {
     "data": {
      "text/plain": [
       "1.6095255190570215"
      ]
     },
     "execution_count": 9,
     "metadata": {},
     "output_type": "execute_result"
    }
   ],
   "source": [
    "len(df.loc[df['year_of_release'].isna()]) / len(df) * 100"
   ]
  },
  {
   "cell_type": "markdown",
   "id": "938f70f7",
   "metadata": {},
   "source": [
    "В строки с пропущенным годом релиза можно попробовать подставить значения года релиза тех же игр на других платформах."
   ]
  },
  {
   "cell_type": "code",
   "execution_count": 10,
   "id": "bcf72909",
   "metadata": {
    "scrolled": false
   },
   "outputs": [
    {
     "data": {
      "text/plain": [
       "0.8735714713097589"
      ]
     },
     "execution_count": 10,
     "metadata": {},
     "output_type": "execute_result"
    }
   ],
   "source": [
    "df = df.fillna({'year_of_release': df.groupby('name')['year_of_release'].transform('first')})\n",
    "len(df.loc[df['year_of_release'].isna()]) / len(df) * 100"
   ]
  },
  {
   "cell_type": "markdown",
   "id": "018e5f3d",
   "metadata": {},
   "source": [
    "Процент оставшихся пропущенных значений стал почти в половину меньше. Остальные пропуски заполним 0, чтобы не мешали дальнейшему анализу."
   ]
  },
  {
   "cell_type": "code",
   "execution_count": 11,
   "id": "debc966f",
   "metadata": {},
   "outputs": [],
   "source": [
    "df['year_of_release'] = df['year_of_release'].fillna(0)"
   ]
  },
  {
   "cell_type": "code",
   "execution_count": 12,
   "id": "207de2fb",
   "metadata": {},
   "outputs": [],
   "source": [
    "df['year_of_release'] = df['year_of_release'].fillna(0)"
   ]
  },
  {
   "cell_type": "markdown",
   "id": "67f962e3",
   "metadata": {},
   "source": [
    "Так же изменим тип данных на 'int'."
   ]
  },
  {
   "cell_type": "code",
   "execution_count": 13,
   "id": "6ee311f7",
   "metadata": {},
   "outputs": [],
   "source": [
    "df['year_of_release'] = df['year_of_release'].astype('int64');"
   ]
  },
  {
   "cell_type": "markdown",
   "id": "828cb659",
   "metadata": {},
   "source": [
    "### 'user_Score',  'rating',  'critic_score'"
   ]
  },
  {
   "cell_type": "code",
   "execution_count": 14,
   "id": "4dc9a990",
   "metadata": {
    "scrolled": true
   },
   "outputs": [
    {
     "data": {
      "text/html": [
       "<div>\n",
       "<style scoped>\n",
       "    .dataframe tbody tr th:only-of-type {\n",
       "        vertical-align: middle;\n",
       "    }\n",
       "\n",
       "    .dataframe tbody tr th {\n",
       "        vertical-align: top;\n",
       "    }\n",
       "\n",
       "    .dataframe thead th {\n",
       "        text-align: right;\n",
       "    }\n",
       "</style>\n",
       "<table border=\"1\" class=\"dataframe\">\n",
       "  <thead>\n",
       "    <tr style=\"text-align: right;\">\n",
       "      <th></th>\n",
       "      <th>name</th>\n",
       "      <th>platform</th>\n",
       "      <th>year_of_release</th>\n",
       "      <th>genre</th>\n",
       "      <th>na_sales</th>\n",
       "      <th>eu_sales</th>\n",
       "      <th>jp_sales</th>\n",
       "      <th>other_sales</th>\n",
       "      <th>critic_score</th>\n",
       "      <th>user_score</th>\n",
       "      <th>rating</th>\n",
       "    </tr>\n",
       "  </thead>\n",
       "  <tbody>\n",
       "    <tr>\n",
       "      <th>1</th>\n",
       "      <td>Super Mario Bros.</td>\n",
       "      <td>NES</td>\n",
       "      <td>1985</td>\n",
       "      <td>Platform</td>\n",
       "      <td>29.08</td>\n",
       "      <td>3.58</td>\n",
       "      <td>6.81</td>\n",
       "      <td>0.77</td>\n",
       "      <td>NaN</td>\n",
       "      <td>NaN</td>\n",
       "      <td>NaN</td>\n",
       "    </tr>\n",
       "    <tr>\n",
       "      <th>4</th>\n",
       "      <td>Pokemon Red/Pokemon Blue</td>\n",
       "      <td>GB</td>\n",
       "      <td>1996</td>\n",
       "      <td>Role-Playing</td>\n",
       "      <td>11.27</td>\n",
       "      <td>8.89</td>\n",
       "      <td>10.22</td>\n",
       "      <td>1.00</td>\n",
       "      <td>NaN</td>\n",
       "      <td>NaN</td>\n",
       "      <td>NaN</td>\n",
       "    </tr>\n",
       "    <tr>\n",
       "      <th>5</th>\n",
       "      <td>Tetris</td>\n",
       "      <td>GB</td>\n",
       "      <td>1989</td>\n",
       "      <td>Puzzle</td>\n",
       "      <td>23.20</td>\n",
       "      <td>2.26</td>\n",
       "      <td>4.22</td>\n",
       "      <td>0.58</td>\n",
       "      <td>NaN</td>\n",
       "      <td>NaN</td>\n",
       "      <td>NaN</td>\n",
       "    </tr>\n",
       "    <tr>\n",
       "      <th>9</th>\n",
       "      <td>Duck Hunt</td>\n",
       "      <td>NES</td>\n",
       "      <td>1984</td>\n",
       "      <td>Shooter</td>\n",
       "      <td>26.93</td>\n",
       "      <td>0.63</td>\n",
       "      <td>0.28</td>\n",
       "      <td>0.47</td>\n",
       "      <td>NaN</td>\n",
       "      <td>NaN</td>\n",
       "      <td>NaN</td>\n",
       "    </tr>\n",
       "    <tr>\n",
       "      <th>10</th>\n",
       "      <td>Nintendogs</td>\n",
       "      <td>DS</td>\n",
       "      <td>2005</td>\n",
       "      <td>Simulation</td>\n",
       "      <td>9.05</td>\n",
       "      <td>10.95</td>\n",
       "      <td>1.93</td>\n",
       "      <td>2.74</td>\n",
       "      <td>NaN</td>\n",
       "      <td>NaN</td>\n",
       "      <td>NaN</td>\n",
       "    </tr>\n",
       "    <tr>\n",
       "      <th>12</th>\n",
       "      <td>Pokemon Gold/Pokemon Silver</td>\n",
       "      <td>GB</td>\n",
       "      <td>1999</td>\n",
       "      <td>Role-Playing</td>\n",
       "      <td>9.00</td>\n",
       "      <td>6.18</td>\n",
       "      <td>7.20</td>\n",
       "      <td>0.71</td>\n",
       "      <td>NaN</td>\n",
       "      <td>NaN</td>\n",
       "      <td>NaN</td>\n",
       "    </tr>\n",
       "    <tr>\n",
       "      <th>18</th>\n",
       "      <td>Super Mario World</td>\n",
       "      <td>SNES</td>\n",
       "      <td>1990</td>\n",
       "      <td>Platform</td>\n",
       "      <td>12.78</td>\n",
       "      <td>3.75</td>\n",
       "      <td>3.54</td>\n",
       "      <td>0.55</td>\n",
       "      <td>NaN</td>\n",
       "      <td>NaN</td>\n",
       "      <td>NaN</td>\n",
       "    </tr>\n",
       "    <tr>\n",
       "      <th>20</th>\n",
       "      <td>Pokemon Diamond/Pokemon Pearl</td>\n",
       "      <td>DS</td>\n",
       "      <td>2006</td>\n",
       "      <td>Role-Playing</td>\n",
       "      <td>6.38</td>\n",
       "      <td>4.46</td>\n",
       "      <td>6.04</td>\n",
       "      <td>1.36</td>\n",
       "      <td>NaN</td>\n",
       "      <td>NaN</td>\n",
       "      <td>NaN</td>\n",
       "    </tr>\n",
       "    <tr>\n",
       "      <th>21</th>\n",
       "      <td>Super Mario Land</td>\n",
       "      <td>GB</td>\n",
       "      <td>1989</td>\n",
       "      <td>Platform</td>\n",
       "      <td>10.83</td>\n",
       "      <td>2.71</td>\n",
       "      <td>4.18</td>\n",
       "      <td>0.42</td>\n",
       "      <td>NaN</td>\n",
       "      <td>NaN</td>\n",
       "      <td>NaN</td>\n",
       "    </tr>\n",
       "    <tr>\n",
       "      <th>22</th>\n",
       "      <td>Super Mario Bros. 3</td>\n",
       "      <td>NES</td>\n",
       "      <td>1988</td>\n",
       "      <td>Platform</td>\n",
       "      <td>9.54</td>\n",
       "      <td>3.44</td>\n",
       "      <td>3.84</td>\n",
       "      <td>0.46</td>\n",
       "      <td>NaN</td>\n",
       "      <td>NaN</td>\n",
       "      <td>NaN</td>\n",
       "    </tr>\n",
       "  </tbody>\n",
       "</table>\n",
       "</div>"
      ],
      "text/plain": [
       "                             name platform  year_of_release         genre  \\\n",
       "1               Super Mario Bros.      NES             1985      Platform   \n",
       "4        Pokemon Red/Pokemon Blue       GB             1996  Role-Playing   \n",
       "5                          Tetris       GB             1989        Puzzle   \n",
       "9                       Duck Hunt      NES             1984       Shooter   \n",
       "10                     Nintendogs       DS             2005    Simulation   \n",
       "12    Pokemon Gold/Pokemon Silver       GB             1999  Role-Playing   \n",
       "18              Super Mario World     SNES             1990      Platform   \n",
       "20  Pokemon Diamond/Pokemon Pearl       DS             2006  Role-Playing   \n",
       "21               Super Mario Land       GB             1989      Platform   \n",
       "22            Super Mario Bros. 3      NES             1988      Platform   \n",
       "\n",
       "    na_sales  eu_sales  jp_sales  other_sales  critic_score user_score rating  \n",
       "1      29.08      3.58      6.81         0.77           NaN        NaN    NaN  \n",
       "4      11.27      8.89     10.22         1.00           NaN        NaN    NaN  \n",
       "5      23.20      2.26      4.22         0.58           NaN        NaN    NaN  \n",
       "9      26.93      0.63      0.28         0.47           NaN        NaN    NaN  \n",
       "10      9.05     10.95      1.93         2.74           NaN        NaN    NaN  \n",
       "12      9.00      6.18      7.20         0.71           NaN        NaN    NaN  \n",
       "18     12.78      3.75      3.54         0.55           NaN        NaN    NaN  \n",
       "20      6.38      4.46      6.04         1.36           NaN        NaN    NaN  \n",
       "21     10.83      2.71      4.18         0.42           NaN        NaN    NaN  \n",
       "22      9.54      3.44      3.84         0.46           NaN        NaN    NaN  "
      ]
     },
     "execution_count": 14,
     "metadata": {},
     "output_type": "execute_result"
    }
   ],
   "source": [
    "df.loc[df['user_score'].isna()].head(10)"
   ]
  },
  {
   "cell_type": "code",
   "execution_count": 15,
   "id": "6085d92c",
   "metadata": {},
   "outputs": [
    {
     "data": {
      "text/html": [
       "<div>\n",
       "<style scoped>\n",
       "    .dataframe tbody tr th:only-of-type {\n",
       "        vertical-align: middle;\n",
       "    }\n",
       "\n",
       "    .dataframe tbody tr th {\n",
       "        vertical-align: top;\n",
       "    }\n",
       "\n",
       "    .dataframe thead th {\n",
       "        text-align: right;\n",
       "    }\n",
       "</style>\n",
       "<table border=\"1\" class=\"dataframe\">\n",
       "  <thead>\n",
       "    <tr style=\"text-align: right;\">\n",
       "      <th></th>\n",
       "      <th>name</th>\n",
       "      <th>platform</th>\n",
       "      <th>year_of_release</th>\n",
       "      <th>genre</th>\n",
       "      <th>na_sales</th>\n",
       "      <th>eu_sales</th>\n",
       "      <th>jp_sales</th>\n",
       "      <th>other_sales</th>\n",
       "      <th>critic_score</th>\n",
       "      <th>user_score</th>\n",
       "      <th>rating</th>\n",
       "    </tr>\n",
       "  </thead>\n",
       "  <tbody>\n",
       "    <tr>\n",
       "      <th>1</th>\n",
       "      <td>Super Mario Bros.</td>\n",
       "      <td>NES</td>\n",
       "      <td>1985</td>\n",
       "      <td>Platform</td>\n",
       "      <td>29.08</td>\n",
       "      <td>3.58</td>\n",
       "      <td>6.81</td>\n",
       "      <td>0.77</td>\n",
       "      <td>NaN</td>\n",
       "      <td>NaN</td>\n",
       "      <td>NaN</td>\n",
       "    </tr>\n",
       "    <tr>\n",
       "      <th>4</th>\n",
       "      <td>Pokemon Red/Pokemon Blue</td>\n",
       "      <td>GB</td>\n",
       "      <td>1996</td>\n",
       "      <td>Role-Playing</td>\n",
       "      <td>11.27</td>\n",
       "      <td>8.89</td>\n",
       "      <td>10.22</td>\n",
       "      <td>1.00</td>\n",
       "      <td>NaN</td>\n",
       "      <td>NaN</td>\n",
       "      <td>NaN</td>\n",
       "    </tr>\n",
       "    <tr>\n",
       "      <th>5</th>\n",
       "      <td>Tetris</td>\n",
       "      <td>GB</td>\n",
       "      <td>1989</td>\n",
       "      <td>Puzzle</td>\n",
       "      <td>23.20</td>\n",
       "      <td>2.26</td>\n",
       "      <td>4.22</td>\n",
       "      <td>0.58</td>\n",
       "      <td>NaN</td>\n",
       "      <td>NaN</td>\n",
       "      <td>NaN</td>\n",
       "    </tr>\n",
       "    <tr>\n",
       "      <th>9</th>\n",
       "      <td>Duck Hunt</td>\n",
       "      <td>NES</td>\n",
       "      <td>1984</td>\n",
       "      <td>Shooter</td>\n",
       "      <td>26.93</td>\n",
       "      <td>0.63</td>\n",
       "      <td>0.28</td>\n",
       "      <td>0.47</td>\n",
       "      <td>NaN</td>\n",
       "      <td>NaN</td>\n",
       "      <td>NaN</td>\n",
       "    </tr>\n",
       "    <tr>\n",
       "      <th>10</th>\n",
       "      <td>Nintendogs</td>\n",
       "      <td>DS</td>\n",
       "      <td>2005</td>\n",
       "      <td>Simulation</td>\n",
       "      <td>9.05</td>\n",
       "      <td>10.95</td>\n",
       "      <td>1.93</td>\n",
       "      <td>2.74</td>\n",
       "      <td>NaN</td>\n",
       "      <td>NaN</td>\n",
       "      <td>NaN</td>\n",
       "    </tr>\n",
       "    <tr>\n",
       "      <th>12</th>\n",
       "      <td>Pokemon Gold/Pokemon Silver</td>\n",
       "      <td>GB</td>\n",
       "      <td>1999</td>\n",
       "      <td>Role-Playing</td>\n",
       "      <td>9.00</td>\n",
       "      <td>6.18</td>\n",
       "      <td>7.20</td>\n",
       "      <td>0.71</td>\n",
       "      <td>NaN</td>\n",
       "      <td>NaN</td>\n",
       "      <td>NaN</td>\n",
       "    </tr>\n",
       "    <tr>\n",
       "      <th>18</th>\n",
       "      <td>Super Mario World</td>\n",
       "      <td>SNES</td>\n",
       "      <td>1990</td>\n",
       "      <td>Platform</td>\n",
       "      <td>12.78</td>\n",
       "      <td>3.75</td>\n",
       "      <td>3.54</td>\n",
       "      <td>0.55</td>\n",
       "      <td>NaN</td>\n",
       "      <td>NaN</td>\n",
       "      <td>NaN</td>\n",
       "    </tr>\n",
       "    <tr>\n",
       "      <th>20</th>\n",
       "      <td>Pokemon Diamond/Pokemon Pearl</td>\n",
       "      <td>DS</td>\n",
       "      <td>2006</td>\n",
       "      <td>Role-Playing</td>\n",
       "      <td>6.38</td>\n",
       "      <td>4.46</td>\n",
       "      <td>6.04</td>\n",
       "      <td>1.36</td>\n",
       "      <td>NaN</td>\n",
       "      <td>NaN</td>\n",
       "      <td>NaN</td>\n",
       "    </tr>\n",
       "    <tr>\n",
       "      <th>21</th>\n",
       "      <td>Super Mario Land</td>\n",
       "      <td>GB</td>\n",
       "      <td>1989</td>\n",
       "      <td>Platform</td>\n",
       "      <td>10.83</td>\n",
       "      <td>2.71</td>\n",
       "      <td>4.18</td>\n",
       "      <td>0.42</td>\n",
       "      <td>NaN</td>\n",
       "      <td>NaN</td>\n",
       "      <td>NaN</td>\n",
       "    </tr>\n",
       "    <tr>\n",
       "      <th>22</th>\n",
       "      <td>Super Mario Bros. 3</td>\n",
       "      <td>NES</td>\n",
       "      <td>1988</td>\n",
       "      <td>Platform</td>\n",
       "      <td>9.54</td>\n",
       "      <td>3.44</td>\n",
       "      <td>3.84</td>\n",
       "      <td>0.46</td>\n",
       "      <td>NaN</td>\n",
       "      <td>NaN</td>\n",
       "      <td>NaN</td>\n",
       "    </tr>\n",
       "  </tbody>\n",
       "</table>\n",
       "</div>"
      ],
      "text/plain": [
       "                             name platform  year_of_release         genre  \\\n",
       "1               Super Mario Bros.      NES             1985      Platform   \n",
       "4        Pokemon Red/Pokemon Blue       GB             1996  Role-Playing   \n",
       "5                          Tetris       GB             1989        Puzzle   \n",
       "9                       Duck Hunt      NES             1984       Shooter   \n",
       "10                     Nintendogs       DS             2005    Simulation   \n",
       "12    Pokemon Gold/Pokemon Silver       GB             1999  Role-Playing   \n",
       "18              Super Mario World     SNES             1990      Platform   \n",
       "20  Pokemon Diamond/Pokemon Pearl       DS             2006  Role-Playing   \n",
       "21               Super Mario Land       GB             1989      Platform   \n",
       "22            Super Mario Bros. 3      NES             1988      Platform   \n",
       "\n",
       "    na_sales  eu_sales  jp_sales  other_sales  critic_score user_score rating  \n",
       "1      29.08      3.58      6.81         0.77           NaN        NaN    NaN  \n",
       "4      11.27      8.89     10.22         1.00           NaN        NaN    NaN  \n",
       "5      23.20      2.26      4.22         0.58           NaN        NaN    NaN  \n",
       "9      26.93      0.63      0.28         0.47           NaN        NaN    NaN  \n",
       "10      9.05     10.95      1.93         2.74           NaN        NaN    NaN  \n",
       "12      9.00      6.18      7.20         0.71           NaN        NaN    NaN  \n",
       "18     12.78      3.75      3.54         0.55           NaN        NaN    NaN  \n",
       "20      6.38      4.46      6.04         1.36           NaN        NaN    NaN  \n",
       "21     10.83      2.71      4.18         0.42           NaN        NaN    NaN  \n",
       "22      9.54      3.44      3.84         0.46           NaN        NaN    NaN  "
      ]
     },
     "execution_count": 15,
     "metadata": {},
     "output_type": "execute_result"
    }
   ],
   "source": [
    "df.loc[df['rating'].isna()].head(10)"
   ]
  },
  {
   "cell_type": "code",
   "execution_count": 16,
   "id": "0760390a",
   "metadata": {
    "scrolled": true
   },
   "outputs": [
    {
     "data": {
      "text/html": [
       "<div>\n",
       "<style scoped>\n",
       "    .dataframe tbody tr th:only-of-type {\n",
       "        vertical-align: middle;\n",
       "    }\n",
       "\n",
       "    .dataframe tbody tr th {\n",
       "        vertical-align: top;\n",
       "    }\n",
       "\n",
       "    .dataframe thead th {\n",
       "        text-align: right;\n",
       "    }\n",
       "</style>\n",
       "<table border=\"1\" class=\"dataframe\">\n",
       "  <thead>\n",
       "    <tr style=\"text-align: right;\">\n",
       "      <th></th>\n",
       "      <th>name</th>\n",
       "      <th>platform</th>\n",
       "      <th>year_of_release</th>\n",
       "      <th>genre</th>\n",
       "      <th>na_sales</th>\n",
       "      <th>eu_sales</th>\n",
       "      <th>jp_sales</th>\n",
       "      <th>other_sales</th>\n",
       "      <th>critic_score</th>\n",
       "      <th>user_score</th>\n",
       "      <th>rating</th>\n",
       "    </tr>\n",
       "  </thead>\n",
       "  <tbody>\n",
       "    <tr>\n",
       "      <th>16704</th>\n",
       "      <td>Plushees</td>\n",
       "      <td>DS</td>\n",
       "      <td>2008</td>\n",
       "      <td>Simulation</td>\n",
       "      <td>0.01</td>\n",
       "      <td>0.00</td>\n",
       "      <td>0.00</td>\n",
       "      <td>0.0</td>\n",
       "      <td>NaN</td>\n",
       "      <td>tbd</td>\n",
       "      <td>E</td>\n",
       "    </tr>\n",
       "    <tr>\n",
       "      <th>16706</th>\n",
       "      <td>Men in Black II: Alien Escape</td>\n",
       "      <td>GC</td>\n",
       "      <td>2003</td>\n",
       "      <td>Shooter</td>\n",
       "      <td>0.01</td>\n",
       "      <td>0.00</td>\n",
       "      <td>0.00</td>\n",
       "      <td>0.0</td>\n",
       "      <td>NaN</td>\n",
       "      <td>tbd</td>\n",
       "      <td>T</td>\n",
       "    </tr>\n",
       "    <tr>\n",
       "      <th>16707</th>\n",
       "      <td>Aiyoku no Eustia</td>\n",
       "      <td>PSV</td>\n",
       "      <td>2014</td>\n",
       "      <td>Misc</td>\n",
       "      <td>0.00</td>\n",
       "      <td>0.00</td>\n",
       "      <td>0.01</td>\n",
       "      <td>0.0</td>\n",
       "      <td>NaN</td>\n",
       "      <td>NaN</td>\n",
       "      <td>NaN</td>\n",
       "    </tr>\n",
       "    <tr>\n",
       "      <th>16708</th>\n",
       "      <td>Woody Woodpecker in Crazy Castle 5</td>\n",
       "      <td>GBA</td>\n",
       "      <td>2002</td>\n",
       "      <td>Platform</td>\n",
       "      <td>0.01</td>\n",
       "      <td>0.00</td>\n",
       "      <td>0.00</td>\n",
       "      <td>0.0</td>\n",
       "      <td>NaN</td>\n",
       "      <td>NaN</td>\n",
       "      <td>NaN</td>\n",
       "    </tr>\n",
       "    <tr>\n",
       "      <th>16709</th>\n",
       "      <td>SCORE International Baja 1000: The Official Game</td>\n",
       "      <td>PS2</td>\n",
       "      <td>2008</td>\n",
       "      <td>Racing</td>\n",
       "      <td>0.00</td>\n",
       "      <td>0.00</td>\n",
       "      <td>0.00</td>\n",
       "      <td>0.0</td>\n",
       "      <td>NaN</td>\n",
       "      <td>NaN</td>\n",
       "      <td>NaN</td>\n",
       "    </tr>\n",
       "    <tr>\n",
       "      <th>16710</th>\n",
       "      <td>Samurai Warriors: Sanada Maru</td>\n",
       "      <td>PS3</td>\n",
       "      <td>2016</td>\n",
       "      <td>Action</td>\n",
       "      <td>0.00</td>\n",
       "      <td>0.00</td>\n",
       "      <td>0.01</td>\n",
       "      <td>0.0</td>\n",
       "      <td>NaN</td>\n",
       "      <td>NaN</td>\n",
       "      <td>NaN</td>\n",
       "    </tr>\n",
       "    <tr>\n",
       "      <th>16711</th>\n",
       "      <td>LMA Manager 2007</td>\n",
       "      <td>X360</td>\n",
       "      <td>2006</td>\n",
       "      <td>Sports</td>\n",
       "      <td>0.00</td>\n",
       "      <td>0.01</td>\n",
       "      <td>0.00</td>\n",
       "      <td>0.0</td>\n",
       "      <td>NaN</td>\n",
       "      <td>NaN</td>\n",
       "      <td>NaN</td>\n",
       "    </tr>\n",
       "    <tr>\n",
       "      <th>16712</th>\n",
       "      <td>Haitaka no Psychedelica</td>\n",
       "      <td>PSV</td>\n",
       "      <td>2016</td>\n",
       "      <td>Adventure</td>\n",
       "      <td>0.00</td>\n",
       "      <td>0.00</td>\n",
       "      <td>0.01</td>\n",
       "      <td>0.0</td>\n",
       "      <td>NaN</td>\n",
       "      <td>NaN</td>\n",
       "      <td>NaN</td>\n",
       "    </tr>\n",
       "    <tr>\n",
       "      <th>16713</th>\n",
       "      <td>Spirits &amp; Spells</td>\n",
       "      <td>GBA</td>\n",
       "      <td>2003</td>\n",
       "      <td>Platform</td>\n",
       "      <td>0.01</td>\n",
       "      <td>0.00</td>\n",
       "      <td>0.00</td>\n",
       "      <td>0.0</td>\n",
       "      <td>NaN</td>\n",
       "      <td>NaN</td>\n",
       "      <td>NaN</td>\n",
       "    </tr>\n",
       "    <tr>\n",
       "      <th>16714</th>\n",
       "      <td>Winning Post 8 2016</td>\n",
       "      <td>PSV</td>\n",
       "      <td>2016</td>\n",
       "      <td>Simulation</td>\n",
       "      <td>0.00</td>\n",
       "      <td>0.00</td>\n",
       "      <td>0.01</td>\n",
       "      <td>0.0</td>\n",
       "      <td>NaN</td>\n",
       "      <td>NaN</td>\n",
       "      <td>NaN</td>\n",
       "    </tr>\n",
       "  </tbody>\n",
       "</table>\n",
       "</div>"
      ],
      "text/plain": [
       "                                                   name platform  \\\n",
       "16704                                          Plushees       DS   \n",
       "16706                     Men in Black II: Alien Escape       GC   \n",
       "16707                                  Aiyoku no Eustia      PSV   \n",
       "16708                Woody Woodpecker in Crazy Castle 5      GBA   \n",
       "16709  SCORE International Baja 1000: The Official Game      PS2   \n",
       "16710                     Samurai Warriors: Sanada Maru      PS3   \n",
       "16711                                  LMA Manager 2007     X360   \n",
       "16712                           Haitaka no Psychedelica      PSV   \n",
       "16713                                  Spirits & Spells      GBA   \n",
       "16714                               Winning Post 8 2016      PSV   \n",
       "\n",
       "       year_of_release       genre  na_sales  eu_sales  jp_sales  other_sales  \\\n",
       "16704             2008  Simulation      0.01      0.00      0.00          0.0   \n",
       "16706             2003     Shooter      0.01      0.00      0.00          0.0   \n",
       "16707             2014        Misc      0.00      0.00      0.01          0.0   \n",
       "16708             2002    Platform      0.01      0.00      0.00          0.0   \n",
       "16709             2008      Racing      0.00      0.00      0.00          0.0   \n",
       "16710             2016      Action      0.00      0.00      0.01          0.0   \n",
       "16711             2006      Sports      0.00      0.01      0.00          0.0   \n",
       "16712             2016   Adventure      0.00      0.00      0.01          0.0   \n",
       "16713             2003    Platform      0.01      0.00      0.00          0.0   \n",
       "16714             2016  Simulation      0.00      0.00      0.01          0.0   \n",
       "\n",
       "       critic_score user_score rating  \n",
       "16704           NaN        tbd      E  \n",
       "16706           NaN        tbd      T  \n",
       "16707           NaN        NaN    NaN  \n",
       "16708           NaN        NaN    NaN  \n",
       "16709           NaN        NaN    NaN  \n",
       "16710           NaN        NaN    NaN  \n",
       "16711           NaN        NaN    NaN  \n",
       "16712           NaN        NaN    NaN  \n",
       "16713           NaN        NaN    NaN  \n",
       "16714           NaN        NaN    NaN  "
      ]
     },
     "execution_count": 16,
     "metadata": {},
     "output_type": "execute_result"
    }
   ],
   "source": [
    "df.loc[df['critic_score'].isna()].tail(10)"
   ]
  },
  {
   "cell_type": "markdown",
   "id": "8101268b",
   "metadata": {},
   "source": [
    "Как видим, данные пропущены для разных жанров, платформ и годов выпуска. Возможно, в то время не было практики оценки игр критиками, собирать рейтинг пользователей. Оценки нельзя заполнить на основе имеющихся данных, так как игры одинаковых жанров и годов релиза могут сильно оличаться друг от друга. Оценки одной игры на разных платформах также могут сильно отличаться.\n",
    "\n",
    "Невозможно дать рейтинг игре, оценку критиков и пользователй, посчитав их как среднее игр того же жанра. \n",
    "\n",
    "На данный момент оставим пропуски как есть."
   ]
  },
  {
   "cell_type": "code",
   "execution_count": 17,
   "id": "6eb54704",
   "metadata": {
    "scrolled": false
   },
   "outputs": [
    {
     "data": {
      "text/html": [
       "<div>\n",
       "<style scoped>\n",
       "    .dataframe tbody tr th:only-of-type {\n",
       "        vertical-align: middle;\n",
       "    }\n",
       "\n",
       "    .dataframe tbody tr th {\n",
       "        vertical-align: top;\n",
       "    }\n",
       "\n",
       "    .dataframe thead th {\n",
       "        text-align: right;\n",
       "    }\n",
       "</style>\n",
       "<table border=\"1\" class=\"dataframe\">\n",
       "  <thead>\n",
       "    <tr style=\"text-align: right;\">\n",
       "      <th></th>\n",
       "      <th>name</th>\n",
       "      <th>platform</th>\n",
       "      <th>year_of_release</th>\n",
       "      <th>genre</th>\n",
       "      <th>na_sales</th>\n",
       "      <th>eu_sales</th>\n",
       "      <th>jp_sales</th>\n",
       "      <th>other_sales</th>\n",
       "      <th>critic_score</th>\n",
       "      <th>user_score</th>\n",
       "      <th>rating</th>\n",
       "    </tr>\n",
       "  </thead>\n",
       "  <tbody>\n",
       "    <tr>\n",
       "      <th>119</th>\n",
       "      <td>Zumba Fitness</td>\n",
       "      <td>Wii</td>\n",
       "      <td>2010</td>\n",
       "      <td>Sports</td>\n",
       "      <td>3.45</td>\n",
       "      <td>2.59</td>\n",
       "      <td>0.0</td>\n",
       "      <td>0.66</td>\n",
       "      <td>NaN</td>\n",
       "      <td>tbd</td>\n",
       "      <td>E</td>\n",
       "    </tr>\n",
       "    <tr>\n",
       "      <th>301</th>\n",
       "      <td>Namco Museum: 50th Anniversary</td>\n",
       "      <td>PS2</td>\n",
       "      <td>2005</td>\n",
       "      <td>Misc</td>\n",
       "      <td>2.08</td>\n",
       "      <td>1.35</td>\n",
       "      <td>0.0</td>\n",
       "      <td>0.54</td>\n",
       "      <td>61.0</td>\n",
       "      <td>tbd</td>\n",
       "      <td>E10+</td>\n",
       "    </tr>\n",
       "    <tr>\n",
       "      <th>520</th>\n",
       "      <td>Zumba Fitness 2</td>\n",
       "      <td>Wii</td>\n",
       "      <td>2011</td>\n",
       "      <td>Sports</td>\n",
       "      <td>1.51</td>\n",
       "      <td>1.03</td>\n",
       "      <td>0.0</td>\n",
       "      <td>0.27</td>\n",
       "      <td>NaN</td>\n",
       "      <td>tbd</td>\n",
       "      <td>T</td>\n",
       "    </tr>\n",
       "    <tr>\n",
       "      <th>645</th>\n",
       "      <td>uDraw Studio</td>\n",
       "      <td>Wii</td>\n",
       "      <td>2010</td>\n",
       "      <td>Misc</td>\n",
       "      <td>1.65</td>\n",
       "      <td>0.57</td>\n",
       "      <td>0.0</td>\n",
       "      <td>0.20</td>\n",
       "      <td>71.0</td>\n",
       "      <td>tbd</td>\n",
       "      <td>E</td>\n",
       "    </tr>\n",
       "    <tr>\n",
       "      <th>657</th>\n",
       "      <td>Frogger's Adventures: Temple of the Frog</td>\n",
       "      <td>GBA</td>\n",
       "      <td>0</td>\n",
       "      <td>Adventure</td>\n",
       "      <td>2.15</td>\n",
       "      <td>0.18</td>\n",
       "      <td>0.0</td>\n",
       "      <td>0.07</td>\n",
       "      <td>73.0</td>\n",
       "      <td>tbd</td>\n",
       "      <td>E</td>\n",
       "    </tr>\n",
       "    <tr>\n",
       "      <th>...</th>\n",
       "      <td>...</td>\n",
       "      <td>...</td>\n",
       "      <td>...</td>\n",
       "      <td>...</td>\n",
       "      <td>...</td>\n",
       "      <td>...</td>\n",
       "      <td>...</td>\n",
       "      <td>...</td>\n",
       "      <td>...</td>\n",
       "      <td>...</td>\n",
       "      <td>...</td>\n",
       "    </tr>\n",
       "    <tr>\n",
       "      <th>16695</th>\n",
       "      <td>Planet Monsters</td>\n",
       "      <td>GBA</td>\n",
       "      <td>2001</td>\n",
       "      <td>Action</td>\n",
       "      <td>0.01</td>\n",
       "      <td>0.00</td>\n",
       "      <td>0.0</td>\n",
       "      <td>0.00</td>\n",
       "      <td>67.0</td>\n",
       "      <td>tbd</td>\n",
       "      <td>E</td>\n",
       "    </tr>\n",
       "    <tr>\n",
       "      <th>16697</th>\n",
       "      <td>Bust-A-Move 3000</td>\n",
       "      <td>GC</td>\n",
       "      <td>2003</td>\n",
       "      <td>Puzzle</td>\n",
       "      <td>0.01</td>\n",
       "      <td>0.00</td>\n",
       "      <td>0.0</td>\n",
       "      <td>0.00</td>\n",
       "      <td>53.0</td>\n",
       "      <td>tbd</td>\n",
       "      <td>E</td>\n",
       "    </tr>\n",
       "    <tr>\n",
       "      <th>16698</th>\n",
       "      <td>Mega Brain Boost</td>\n",
       "      <td>DS</td>\n",
       "      <td>2008</td>\n",
       "      <td>Puzzle</td>\n",
       "      <td>0.01</td>\n",
       "      <td>0.00</td>\n",
       "      <td>0.0</td>\n",
       "      <td>0.00</td>\n",
       "      <td>48.0</td>\n",
       "      <td>tbd</td>\n",
       "      <td>E</td>\n",
       "    </tr>\n",
       "    <tr>\n",
       "      <th>16704</th>\n",
       "      <td>Plushees</td>\n",
       "      <td>DS</td>\n",
       "      <td>2008</td>\n",
       "      <td>Simulation</td>\n",
       "      <td>0.01</td>\n",
       "      <td>0.00</td>\n",
       "      <td>0.0</td>\n",
       "      <td>0.00</td>\n",
       "      <td>NaN</td>\n",
       "      <td>tbd</td>\n",
       "      <td>E</td>\n",
       "    </tr>\n",
       "    <tr>\n",
       "      <th>16706</th>\n",
       "      <td>Men in Black II: Alien Escape</td>\n",
       "      <td>GC</td>\n",
       "      <td>2003</td>\n",
       "      <td>Shooter</td>\n",
       "      <td>0.01</td>\n",
       "      <td>0.00</td>\n",
       "      <td>0.0</td>\n",
       "      <td>0.00</td>\n",
       "      <td>NaN</td>\n",
       "      <td>tbd</td>\n",
       "      <td>T</td>\n",
       "    </tr>\n",
       "  </tbody>\n",
       "</table>\n",
       "<p>2424 rows × 11 columns</p>\n",
       "</div>"
      ],
      "text/plain": [
       "                                           name platform  year_of_release  \\\n",
       "119                               Zumba Fitness      Wii             2010   \n",
       "301              Namco Museum: 50th Anniversary      PS2             2005   \n",
       "520                             Zumba Fitness 2      Wii             2011   \n",
       "645                                uDraw Studio      Wii             2010   \n",
       "657    Frogger's Adventures: Temple of the Frog      GBA                0   \n",
       "...                                         ...      ...              ...   \n",
       "16695                           Planet Monsters      GBA             2001   \n",
       "16697                          Bust-A-Move 3000       GC             2003   \n",
       "16698                          Mega Brain Boost       DS             2008   \n",
       "16704                                  Plushees       DS             2008   \n",
       "16706             Men in Black II: Alien Escape       GC             2003   \n",
       "\n",
       "            genre  na_sales  eu_sales  jp_sales  other_sales  critic_score  \\\n",
       "119        Sports      3.45      2.59       0.0         0.66           NaN   \n",
       "301          Misc      2.08      1.35       0.0         0.54          61.0   \n",
       "520        Sports      1.51      1.03       0.0         0.27           NaN   \n",
       "645          Misc      1.65      0.57       0.0         0.20          71.0   \n",
       "657     Adventure      2.15      0.18       0.0         0.07          73.0   \n",
       "...           ...       ...       ...       ...          ...           ...   \n",
       "16695      Action      0.01      0.00       0.0         0.00          67.0   \n",
       "16697      Puzzle      0.01      0.00       0.0         0.00          53.0   \n",
       "16698      Puzzle      0.01      0.00       0.0         0.00          48.0   \n",
       "16704  Simulation      0.01      0.00       0.0         0.00           NaN   \n",
       "16706     Shooter      0.01      0.00       0.0         0.00           NaN   \n",
       "\n",
       "      user_score rating  \n",
       "119          tbd      E  \n",
       "301          tbd   E10+  \n",
       "520          tbd      T  \n",
       "645          tbd      E  \n",
       "657          tbd      E  \n",
       "...          ...    ...  \n",
       "16695        tbd      E  \n",
       "16697        tbd      E  \n",
       "16698        tbd      E  \n",
       "16704        tbd      E  \n",
       "16706        tbd      T  \n",
       "\n",
       "[2424 rows x 11 columns]"
      ]
     },
     "execution_count": 17,
     "metadata": {},
     "output_type": "execute_result"
    }
   ],
   "source": [
    "df[df['user_score'] == 'tbd']"
   ]
  },
  {
   "cell_type": "markdown",
   "id": "f584a367",
   "metadata": {},
   "source": [
    "'tbd' - это аббревиатура от 'To Be Determined'. Пишется тогда, когда игра имеет недостаточное количество отзывов для подсчета рейтинга пользователей и его публикации. \n",
    "\n",
    "Эти значения лучше заменить на NaN для удобства дальнейшего подсчета."
   ]
  },
  {
   "cell_type": "code",
   "execution_count": 18,
   "id": "ff98bafb",
   "metadata": {},
   "outputs": [],
   "source": [
    "df['user_score'] = df['user_score'].replace('tbd', np.NaN)"
   ]
  },
  {
   "cell_type": "code",
   "execution_count": 19,
   "id": "c5d01a28",
   "metadata": {},
   "outputs": [],
   "source": [
    "df['user_score'] = df['user_score'].astype('float64')"
   ]
  },
  {
   "cell_type": "markdown",
   "id": "93a70f1e",
   "metadata": {},
   "source": [
    "### 'rating'"
   ]
  },
  {
   "cell_type": "code",
   "execution_count": 20,
   "id": "0a9d3bf6",
   "metadata": {
    "scrolled": false
   },
   "outputs": [
    {
     "data": {
      "text/plain": [
       "array(['E', nan, 'M', 'T', 'E10+', 'K-A', 'AO', 'EC', 'RP'], dtype=object)"
      ]
     },
     "execution_count": 20,
     "metadata": {},
     "output_type": "execute_result"
    }
   ],
   "source": [
    "df['rating'].unique()"
   ]
  },
  {
   "cell_type": "code",
   "execution_count": 21,
   "id": "31ffc846",
   "metadata": {
    "scrolled": true
   },
   "outputs": [
    {
     "data": {
      "text/plain": [
       "E       3990\n",
       "T       2961\n",
       "M       1563\n",
       "E10+    1420\n",
       "EC         8\n",
       "RP         3\n",
       "K-A        3\n",
       "AO         1\n",
       "Name: rating, dtype: int64"
      ]
     },
     "execution_count": 21,
     "metadata": {},
     "output_type": "execute_result"
    }
   ],
   "source": [
    "df['rating'].value_counts()"
   ]
  },
  {
   "cell_type": "markdown",
   "id": "4e4b98fe",
   "metadata": {},
   "source": [
    "- E - everyone (контент для всех)\n",
    "- M - mature (от 17 лет и выше)\n",
    "- T - teen (от 13 лет и выше)\n",
    "- E10+ - everyone 10+ (от 10 лет и выше)\n",
    "- K-A - kids to adults (старое обозначение рейтинга \"E\")\n",
    "- AO - adults only (от 18 лет и выше)\n",
    "- EC - early childhood (заменён рейтингом \"E\" ввиду малого использования)\n",
    "- RP - rating pending (рейтинг пока не определён)\n",
    "\n",
    "Заменим значения EC, K-A на E. Значение AO всего одно приравняем его к рейтингу E. Значений RP всего 3, заменим их на np.nan (неопределённый рейтинг). Далее всем пропускам присвоим значение 'No_rating', в далейнешем часть пропусков может отсеяться."
   ]
  },
  {
   "cell_type": "code",
   "execution_count": 22,
   "id": "50725db4",
   "metadata": {
    "scrolled": true
   },
   "outputs": [
    {
     "data": {
      "text/plain": [
       "array(['E', nan, 'M', 'T', 'E10+'], dtype=object)"
      ]
     },
     "execution_count": 22,
     "metadata": {},
     "output_type": "execute_result"
    }
   ],
   "source": [
    "df.loc[(df['rating'] == 'EC') | (df['rating'] == 'K-A') | (df['rating'] == 'AO'), 'rating'] = 'E'\n",
    "df.loc[df['rating'] == 'RP', 'rating'] = np.nan\n",
    "df['rating'].unique()"
   ]
  },
  {
   "cell_type": "code",
   "execution_count": 23,
   "id": "d287355b",
   "metadata": {
    "scrolled": true
   },
   "outputs": [],
   "source": [
    "df = df.fillna({'rating': df.groupby('name')['rating'].transform('first')})"
   ]
  },
  {
   "cell_type": "code",
   "execution_count": 24,
   "id": "097f0cea",
   "metadata": {
    "scrolled": true
   },
   "outputs": [],
   "source": [
    "df['rating'] = df['rating'].fillna('No_rating')"
   ]
  },
  {
   "cell_type": "code",
   "execution_count": 25,
   "id": "a53cef84",
   "metadata": {},
   "outputs": [
    {
     "data": {
      "text/plain": [
       "No_rating    6329\n",
       "E            4166\n",
       "T            3094\n",
       "M            1653\n",
       "E10+         1471\n",
       "Name: rating, dtype: int64"
      ]
     },
     "execution_count": 25,
     "metadata": {},
     "output_type": "execute_result"
    }
   ],
   "source": [
    "df['rating'].value_counts()"
   ]
  },
  {
   "cell_type": "code",
   "execution_count": 26,
   "id": "673be429",
   "metadata": {
    "scrolled": false
   },
   "outputs": [
    {
     "name": "stdout",
     "output_type": "stream",
     "text": [
      "<class 'pandas.core.frame.DataFrame'>\n",
      "Int64Index: 16713 entries, 0 to 16714\n",
      "Data columns (total 11 columns):\n",
      " #   Column           Non-Null Count  Dtype  \n",
      "---  ------           --------------  -----  \n",
      " 0   name             16713 non-null  object \n",
      " 1   platform         16713 non-null  object \n",
      " 2   year_of_release  16713 non-null  int64  \n",
      " 3   genre            16713 non-null  object \n",
      " 4   na_sales         16713 non-null  float64\n",
      " 5   eu_sales         16713 non-null  float64\n",
      " 6   jp_sales         16713 non-null  float64\n",
      " 7   other_sales      16713 non-null  float64\n",
      " 8   critic_score     8137 non-null   float64\n",
      " 9   user_score       7590 non-null   float64\n",
      " 10  rating           16713 non-null  object \n",
      "dtypes: float64(6), int64(1), object(4)\n",
      "memory usage: 1.5+ MB\n"
     ]
    }
   ],
   "source": [
    "df.info()"
   ]
  },
  {
   "cell_type": "markdown",
   "id": "25debe40",
   "metadata": {},
   "source": [
    "## Добавление столбца с общим счетом"
   ]
  },
  {
   "cell_type": "code",
   "execution_count": 27,
   "id": "77fc4894",
   "metadata": {},
   "outputs": [],
   "source": [
    "df['sales_total'] = (df[['na_sales','eu_sales','jp_sales', 'other_sales']].sum(axis = 1))"
   ]
  },
  {
   "cell_type": "code",
   "execution_count": 28,
   "id": "b2917827",
   "metadata": {
    "scrolled": false
   },
   "outputs": [
    {
     "data": {
      "text/html": [
       "<div>\n",
       "<style scoped>\n",
       "    .dataframe tbody tr th:only-of-type {\n",
       "        vertical-align: middle;\n",
       "    }\n",
       "\n",
       "    .dataframe tbody tr th {\n",
       "        vertical-align: top;\n",
       "    }\n",
       "\n",
       "    .dataframe thead th {\n",
       "        text-align: right;\n",
       "    }\n",
       "</style>\n",
       "<table border=\"1\" class=\"dataframe\">\n",
       "  <thead>\n",
       "    <tr style=\"text-align: right;\">\n",
       "      <th></th>\n",
       "      <th>name</th>\n",
       "      <th>platform</th>\n",
       "      <th>year_of_release</th>\n",
       "      <th>genre</th>\n",
       "      <th>na_sales</th>\n",
       "      <th>eu_sales</th>\n",
       "      <th>jp_sales</th>\n",
       "      <th>other_sales</th>\n",
       "      <th>critic_score</th>\n",
       "      <th>user_score</th>\n",
       "      <th>rating</th>\n",
       "      <th>sales_total</th>\n",
       "    </tr>\n",
       "  </thead>\n",
       "  <tbody>\n",
       "    <tr>\n",
       "      <th>0</th>\n",
       "      <td>Wii Sports</td>\n",
       "      <td>Wii</td>\n",
       "      <td>2006</td>\n",
       "      <td>Sports</td>\n",
       "      <td>41.36</td>\n",
       "      <td>28.96</td>\n",
       "      <td>3.77</td>\n",
       "      <td>8.45</td>\n",
       "      <td>76.0</td>\n",
       "      <td>8.0</td>\n",
       "      <td>E</td>\n",
       "      <td>82.54</td>\n",
       "    </tr>\n",
       "    <tr>\n",
       "      <th>1</th>\n",
       "      <td>Super Mario Bros.</td>\n",
       "      <td>NES</td>\n",
       "      <td>1985</td>\n",
       "      <td>Platform</td>\n",
       "      <td>29.08</td>\n",
       "      <td>3.58</td>\n",
       "      <td>6.81</td>\n",
       "      <td>0.77</td>\n",
       "      <td>NaN</td>\n",
       "      <td>NaN</td>\n",
       "      <td>No_rating</td>\n",
       "      <td>40.24</td>\n",
       "    </tr>\n",
       "    <tr>\n",
       "      <th>2</th>\n",
       "      <td>Mario Kart Wii</td>\n",
       "      <td>Wii</td>\n",
       "      <td>2008</td>\n",
       "      <td>Racing</td>\n",
       "      <td>15.68</td>\n",
       "      <td>12.76</td>\n",
       "      <td>3.79</td>\n",
       "      <td>3.29</td>\n",
       "      <td>82.0</td>\n",
       "      <td>8.3</td>\n",
       "      <td>E</td>\n",
       "      <td>35.52</td>\n",
       "    </tr>\n",
       "    <tr>\n",
       "      <th>3</th>\n",
       "      <td>Wii Sports Resort</td>\n",
       "      <td>Wii</td>\n",
       "      <td>2009</td>\n",
       "      <td>Sports</td>\n",
       "      <td>15.61</td>\n",
       "      <td>10.93</td>\n",
       "      <td>3.28</td>\n",
       "      <td>2.95</td>\n",
       "      <td>80.0</td>\n",
       "      <td>8.0</td>\n",
       "      <td>E</td>\n",
       "      <td>32.77</td>\n",
       "    </tr>\n",
       "    <tr>\n",
       "      <th>4</th>\n",
       "      <td>Pokemon Red/Pokemon Blue</td>\n",
       "      <td>GB</td>\n",
       "      <td>1996</td>\n",
       "      <td>Role-Playing</td>\n",
       "      <td>11.27</td>\n",
       "      <td>8.89</td>\n",
       "      <td>10.22</td>\n",
       "      <td>1.00</td>\n",
       "      <td>NaN</td>\n",
       "      <td>NaN</td>\n",
       "      <td>No_rating</td>\n",
       "      <td>31.38</td>\n",
       "    </tr>\n",
       "  </tbody>\n",
       "</table>\n",
       "</div>"
      ],
      "text/plain": [
       "                       name platform  year_of_release         genre  na_sales  \\\n",
       "0                Wii Sports      Wii             2006        Sports     41.36   \n",
       "1         Super Mario Bros.      NES             1985      Platform     29.08   \n",
       "2            Mario Kart Wii      Wii             2008        Racing     15.68   \n",
       "3         Wii Sports Resort      Wii             2009        Sports     15.61   \n",
       "4  Pokemon Red/Pokemon Blue       GB             1996  Role-Playing     11.27   \n",
       "\n",
       "   eu_sales  jp_sales  other_sales  critic_score  user_score     rating  \\\n",
       "0     28.96      3.77         8.45          76.0         8.0          E   \n",
       "1      3.58      6.81         0.77           NaN         NaN  No_rating   \n",
       "2     12.76      3.79         3.29          82.0         8.3          E   \n",
       "3     10.93      3.28         2.95          80.0         8.0          E   \n",
       "4      8.89     10.22         1.00           NaN         NaN  No_rating   \n",
       "\n",
       "   sales_total  \n",
       "0        82.54  \n",
       "1        40.24  \n",
       "2        35.52  \n",
       "3        32.77  \n",
       "4        31.38  "
      ]
     },
     "execution_count": 28,
     "metadata": {},
     "output_type": "execute_result"
    }
   ],
   "source": [
    "df.head()"
   ]
  },
  {
   "cell_type": "code",
   "execution_count": 29,
   "id": "f28fd660",
   "metadata": {},
   "outputs": [
    {
     "name": "stdout",
     "output_type": "stream",
     "text": [
      "<class 'pandas.core.frame.DataFrame'>\n",
      "Int64Index: 16713 entries, 0 to 16714\n",
      "Data columns (total 12 columns):\n",
      " #   Column           Non-Null Count  Dtype  \n",
      "---  ------           --------------  -----  \n",
      " 0   name             16713 non-null  object \n",
      " 1   platform         16713 non-null  object \n",
      " 2   year_of_release  16713 non-null  int64  \n",
      " 3   genre            16713 non-null  object \n",
      " 4   na_sales         16713 non-null  float64\n",
      " 5   eu_sales         16713 non-null  float64\n",
      " 6   jp_sales         16713 non-null  float64\n",
      " 7   other_sales      16713 non-null  float64\n",
      " 8   critic_score     8137 non-null   float64\n",
      " 9   user_score       7590 non-null   float64\n",
      " 10  rating           16713 non-null  object \n",
      " 11  sales_total      16713 non-null  float64\n",
      "dtypes: float64(7), int64(1), object(4)\n",
      "memory usage: 1.7+ MB\n"
     ]
    }
   ],
   "source": [
    "df.info()"
   ]
  },
  {
   "cell_type": "markdown",
   "id": "9bb12c61",
   "metadata": {},
   "source": [
    "## Выводы"
   ]
  },
  {
   "cell_type": "markdown",
   "id": "836bbef0",
   "metadata": {},
   "source": [
    "- Названия столбцов были приведены к нижнему регистру.\n",
    "- В столбцах: \"user_score\", \"year_of_release\" изменены типы данных.\n",
    "- В столбце year_of_release часть пропусков заменены годом релиза той же игры на другой платформе.\n",
    "- В столбце user_score значения tbd заменены на np.nan.\n",
    "- Пропуски в других столбцах оставлены без изменений, так как их доля (почти 55%) достаточно велика и заменить их или убрать без последствий не представляется возможным.\n",
    "- Добавлен столбец суммарных продаж во всех регионах (\"sales_total\").\n",
    "- В столбце \"rating\" устаревшие значения рейтинга заменены новыми. Пропуски рейтинга игр на различных платформах заполнены рейтингом этих же игр с других платформ. Оставшимся пропускам присвоено значение 'No_rating'."
   ]
  },
  {
   "cell_type": "markdown",
   "id": "87031b54",
   "metadata": {},
   "source": [
    "# Анализ данных"
   ]
  },
  {
   "cell_type": "markdown",
   "id": "0745728f",
   "metadata": {},
   "source": [
    "## Распределние количества выпускаемых игр по годам."
   ]
  },
  {
   "cell_type": "code",
   "execution_count": 30,
   "id": "25a72acd",
   "metadata": {
    "scrolled": true
   },
   "outputs": [
    {
     "data": {
      "text/plain": [
       "37"
      ]
     },
     "execution_count": 30,
     "metadata": {},
     "output_type": "execute_result"
    }
   ],
   "source": [
    "len(df.loc[df['year_of_release'] > 0].groupby('year_of_release'))"
   ]
  },
  {
   "cell_type": "code",
   "execution_count": 31,
   "id": "5eadf982",
   "metadata": {
    "scrolled": false
   },
   "outputs": [
    {
     "data": {
      "image/png": "[encoded data removed]",
      "text/plain": [
       "<Figure size 432x288 with 1 Axes>"
      ]
     },
     "metadata": {
      "needs_background": "light"
     },
     "output_type": "display_data"
    }
   ],
   "source": [
    "fig, ax = plt.subplots()\n",
    "sns.histplot(\n",
    "    df.loc[df['year_of_release'] > 0, 'year_of_release'],\n",
    "    kde=False, bins=37);\n",
    "ax.set_title('Количество выпускаемых игр по годам')\n",
    "ax.set_xlabel('Год выпуска игры')\n",
    "ax.set_ylabel('Количество выпущенных игр')\n",
    "plt.show()"
   ]
  },
  {
   "cell_type": "markdown",
   "id": "9f36f2bd",
   "metadata": {},
   "source": [
    "- До 1995 года было выпущено мало игр.  Большой рост выпускаемых игр наблюдается с 1995 по 2008 года."
   ]
  },
  {
   "cell_type": "markdown",
   "id": "351c1546",
   "metadata": {},
   "source": [
    "## Продажи по платформам."
   ]
  },
  {
   "cell_type": "markdown",
   "id": "4aedc881",
   "metadata": {},
   "source": [
    "Все игровые платформы на которые выходили игры."
   ]
  },
  {
   "cell_type": "code",
   "execution_count": 32,
   "id": "fc7717f6",
   "metadata": {
    "scrolled": true
   },
   "outputs": [
    {
     "data": {
      "text/plain": [
       "platform\n",
       "PS2     1255.77\n",
       "X360     971.42\n",
       "PS3      939.65\n",
       "Wii      907.51\n",
       "DS       806.12\n",
       "PS       730.86\n",
       "GBA      317.85\n",
       "PS4      314.14\n",
       "PSP      294.05\n",
       "PC       259.52\n",
       "3DS      259.00\n",
       "XB       257.74\n",
       "GB       255.46\n",
       "NES      251.05\n",
       "N64      218.68\n",
       "SNES     200.04\n",
       "GC       198.93\n",
       "XOne     159.32\n",
       "2600      96.98\n",
       "WiiU      82.19\n",
       "PSV       54.07\n",
       "SAT       33.59\n",
       "GEN       28.35\n",
       "DC        15.95\n",
       "SCD        1.86\n",
       "NG         1.44\n",
       "WS         1.42\n",
       "TG16       0.16\n",
       "3DO        0.10\n",
       "GG         0.04\n",
       "PCFX       0.03\n",
       "Name: sales_total, dtype: float64"
      ]
     },
     "execution_count": 32,
     "metadata": {},
     "output_type": "execute_result"
    }
   ],
   "source": [
    "df.groupby('platform')['sales_total'].sum().sort_values(ascending=False)       "
   ]
  },
  {
   "cell_type": "markdown",
   "id": "fe557bbe",
   "metadata": {},
   "source": [
    "Топ 20 платформ за все время."
   ]
  },
  {
   "cell_type": "code",
   "execution_count": 33,
   "id": "29ff758d",
   "metadata": {},
   "outputs": [
    {
     "data": {
      "text/plain": [
       "array(['PS2', 'X360', 'PS3', 'Wii', 'DS', 'PS', 'GBA', 'PS4', 'PSP', 'PC',\n",
       "       '3DS', 'XB', 'GB', 'NES', 'N64', 'SNES', 'GC', 'XOne', '2600',\n",
       "       'WiiU'], dtype=object)"
      ]
     },
     "execution_count": 33,
     "metadata": {},
     "output_type": "execute_result"
    }
   ],
   "source": [
    "platforms = (df.groupby('platform')['sales_total']\n",
    "             .sum()\n",
    "             .sort_values(ascending=False)\n",
    "             .head(20)\n",
    "             .index\n",
    "             .values)\n",
    "platforms"
   ]
  },
  {
   "cell_type": "code",
   "execution_count": 34,
   "id": "a12f9a6d",
   "metadata": {
    "scrolled": false
   },
   "outputs": [
    {
     "data": {
      "image/png": "[encoded data removed]",
      "text/plain": [
       "<Figure size 1152x576 with 1 Axes>"
      ]
     },
     "metadata": {
      "needs_background": "light"
     },
     "output_type": "display_data"
    }
   ],
   "source": [
    "plt.figure(figsize=(16,8))\n",
    "sns.lineplot(x=\"year_of_release\",\n",
    "             y=\"sales_total\",\n",
    "             hue='platform',\n",
    "             markers=True,\n",
    "             data=(df[df.platform.isin(platforms) & (df['year_of_release'] > 0)]\n",
    "                   .groupby(['platform','year_of_release'])['sales_total']\n",
    "                   .agg('sum')\n",
    "                   .reset_index()\n",
    "                  )\n",
    "            )\n",
    "plt.title('Породажи игр по разным платформам за все время')\n",
    "plt.xlabel('Год')\n",
    "plt.ylabel('Сумарные продажи по всем регионам');"
   ]
  },
  {
   "cell_type": "markdown",
   "id": "a1ff8483",
   "metadata": {},
   "source": [
    "Расмотрим актуальные на 2016 год платформы."
   ]
  },
  {
   "cell_type": "code",
   "execution_count": 35,
   "id": "46591710",
   "metadata": {},
   "outputs": [],
   "source": [
    "platforms_new = df.loc[df['year_of_release'] == 2016, 'platform'].unique()"
   ]
  },
  {
   "cell_type": "code",
   "execution_count": 36,
   "id": "7a89f6c9",
   "metadata": {
    "scrolled": false
   },
   "outputs": [
    {
     "data": {
      "image/png": "[encoded data removed]",
      "text/plain": [
       "<Figure size 1152x576 with 1 Axes>"
      ]
     },
     "metadata": {
      "needs_background": "light"
     },
     "output_type": "display_data"
    }
   ],
   "source": [
    "plt.figure(figsize=(16,8))\n",
    "sns.lineplot(x=\"year_of_release\",\n",
    "             y=\"sales_total\",\n",
    "             hue='platform',\n",
    "             markers=True,\n",
    "             data=(df[df.platform.isin(platforms_new) \n",
    "                      & (df['year_of_release'] > 2000)]\n",
    "                   .groupby(['platform','year_of_release'])['sales_total']\n",
    "                   .agg('sum')\n",
    "                   .reset_index()\n",
    "                  )\n",
    "            )\n",
    "plt.title('Породажи игр по существующим к 2016 году платформам')\n",
    "plt.xlabel('Год')\n",
    "plt.ylabel('Сумарные продажи по всем регионам');"
   ]
  },
  {
   "cell_type": "code",
   "execution_count": 37,
   "id": "6a097977",
   "metadata": {},
   "outputs": [],
   "source": [
    "top_platform = [ 'PS4', '3DS', 'XOne', 'WiiU', 'PC']"
   ]
  },
  {
   "cell_type": "code",
   "execution_count": 38,
   "id": "f71ee325",
   "metadata": {
    "scrolled": false
   },
   "outputs": [
    {
     "data": {
      "image/png": "[encoded data removed]",
      "text/plain": [
       "<Figure size 1152x576 with 1 Axes>"
      ]
     },
     "metadata": {
      "needs_background": "light"
     },
     "output_type": "display_data"
    }
   ],
   "source": [
    "plt.figure(figsize=(16,8))\n",
    "sns.lineplot(x=\"year_of_release\",\n",
    "             y=\"sales_total\",\n",
    "             hue='platform',\n",
    "             markers=True,\n",
    "             data=(df[df.platform.isin(top_platform) \n",
    "                      & (df['year_of_release'] >= 2010)]\n",
    "                   .groupby(['platform','year_of_release'])['sales_total']\n",
    "                   .agg('sum')\n",
    "                   .reset_index()\n",
    "                  )\n",
    "            )\n",
    "plt.title('Породажи игр по актуальным платформам')\n",
    "plt.xlabel('Год')\n",
    "plt.ylabel('Сумарные продажи по всем регионам');"
   ]
  },
  {
   "cell_type": "code",
   "execution_count": 39,
   "id": "d25ec366",
   "metadata": {
    "scrolled": false
   },
   "outputs": [
    {
     "data": {
      "image/png": "[encoded data removed]",
      "text/plain": [
       "<Figure size 1152x576 with 1 Axes>"
      ]
     },
     "metadata": {
      "needs_background": "light"
     },
     "output_type": "display_data"
    }
   ],
   "source": [
    "plt.figure(figsize=(16,8))\n",
    "sns.lineplot(x=\"year_of_release\",\n",
    "             y=\"sales_total\",\n",
    "             hue='platform',\n",
    "             markers=True,\n",
    "             data=(df[df.platform.isin(top_platform) \n",
    "                      & (df['year_of_release'] >= 2013)]\n",
    "                   .groupby(['platform','year_of_release'])['sales_total']\n",
    "                   .agg('sum')\n",
    "                   .reset_index()\n",
    "                  )\n",
    "            )\n",
    "plt.title('Породажи игр по актуальным платформам за 2013-1016 года')\n",
    "plt.xlabel('Год')\n",
    "plt.ylabel('Сумарные продажи по всем регионам');"
   ]
  },
  {
   "cell_type": "markdown",
   "id": "f7c2d8bd",
   "metadata": {},
   "source": [
    "Для дальнейшего анализа возьмем только данные по топовым платформам и за период с 2013 года"
   ]
  },
  {
   "cell_type": "code",
   "execution_count": 40,
   "id": "132f3b10",
   "metadata": {
    "scrolled": false
   },
   "outputs": [
    {
     "data": {
      "text/html": [
       "<div>\n",
       "<style scoped>\n",
       "    .dataframe tbody tr th:only-of-type {\n",
       "        vertical-align: middle;\n",
       "    }\n",
       "\n",
       "    .dataframe tbody tr th {\n",
       "        vertical-align: top;\n",
       "    }\n",
       "\n",
       "    .dataframe thead th {\n",
       "        text-align: right;\n",
       "    }\n",
       "</style>\n",
       "<table border=\"1\" class=\"dataframe\">\n",
       "  <thead>\n",
       "    <tr style=\"text-align: right;\">\n",
       "      <th></th>\n",
       "      <th>name</th>\n",
       "      <th>platform</th>\n",
       "      <th>year_of_release</th>\n",
       "      <th>genre</th>\n",
       "      <th>na_sales</th>\n",
       "      <th>eu_sales</th>\n",
       "      <th>jp_sales</th>\n",
       "      <th>other_sales</th>\n",
       "      <th>critic_score</th>\n",
       "      <th>user_score</th>\n",
       "      <th>rating</th>\n",
       "      <th>sales_total</th>\n",
       "    </tr>\n",
       "  </thead>\n",
       "  <tbody>\n",
       "    <tr>\n",
       "      <th>31</th>\n",
       "      <td>Call of Duty: Black Ops 3</td>\n",
       "      <td>PS4</td>\n",
       "      <td>2015</td>\n",
       "      <td>Shooter</td>\n",
       "      <td>6.03</td>\n",
       "      <td>5.86</td>\n",
       "      <td>0.36</td>\n",
       "      <td>2.38</td>\n",
       "      <td>NaN</td>\n",
       "      <td>NaN</td>\n",
       "      <td>No_rating</td>\n",
       "      <td>14.63</td>\n",
       "    </tr>\n",
       "    <tr>\n",
       "      <th>33</th>\n",
       "      <td>Pokemon X/Pokemon Y</td>\n",
       "      <td>3DS</td>\n",
       "      <td>2013</td>\n",
       "      <td>Role-Playing</td>\n",
       "      <td>5.28</td>\n",
       "      <td>4.19</td>\n",
       "      <td>4.35</td>\n",
       "      <td>0.78</td>\n",
       "      <td>NaN</td>\n",
       "      <td>NaN</td>\n",
       "      <td>No_rating</td>\n",
       "      <td>14.60</td>\n",
       "    </tr>\n",
       "    <tr>\n",
       "      <th>42</th>\n",
       "      <td>Grand Theft Auto V</td>\n",
       "      <td>PS4</td>\n",
       "      <td>2014</td>\n",
       "      <td>Action</td>\n",
       "      <td>3.96</td>\n",
       "      <td>6.31</td>\n",
       "      <td>0.38</td>\n",
       "      <td>1.97</td>\n",
       "      <td>97.0</td>\n",
       "      <td>8.3</td>\n",
       "      <td>M</td>\n",
       "      <td>12.62</td>\n",
       "    </tr>\n",
       "    <tr>\n",
       "      <th>47</th>\n",
       "      <td>Pokemon Omega Ruby/Pokemon Alpha Sapphire</td>\n",
       "      <td>3DS</td>\n",
       "      <td>2014</td>\n",
       "      <td>Role-Playing</td>\n",
       "      <td>4.35</td>\n",
       "      <td>3.49</td>\n",
       "      <td>3.10</td>\n",
       "      <td>0.74</td>\n",
       "      <td>NaN</td>\n",
       "      <td>NaN</td>\n",
       "      <td>No_rating</td>\n",
       "      <td>11.68</td>\n",
       "    </tr>\n",
       "    <tr>\n",
       "      <th>77</th>\n",
       "      <td>FIFA 16</td>\n",
       "      <td>PS4</td>\n",
       "      <td>2015</td>\n",
       "      <td>Sports</td>\n",
       "      <td>1.12</td>\n",
       "      <td>6.12</td>\n",
       "      <td>0.06</td>\n",
       "      <td>1.28</td>\n",
       "      <td>82.0</td>\n",
       "      <td>4.3</td>\n",
       "      <td>E</td>\n",
       "      <td>8.58</td>\n",
       "    </tr>\n",
       "  </tbody>\n",
       "</table>\n",
       "</div>"
      ],
      "text/plain": [
       "                                         name platform  year_of_release  \\\n",
       "31                  Call of Duty: Black Ops 3      PS4             2015   \n",
       "33                        Pokemon X/Pokemon Y      3DS             2013   \n",
       "42                         Grand Theft Auto V      PS4             2014   \n",
       "47  Pokemon Omega Ruby/Pokemon Alpha Sapphire      3DS             2014   \n",
       "77                                    FIFA 16      PS4             2015   \n",
       "\n",
       "           genre  na_sales  eu_sales  jp_sales  other_sales  critic_score  \\\n",
       "31       Shooter      6.03      5.86      0.36         2.38           NaN   \n",
       "33  Role-Playing      5.28      4.19      4.35         0.78           NaN   \n",
       "42        Action      3.96      6.31      0.38         1.97          97.0   \n",
       "47  Role-Playing      4.35      3.49      3.10         0.74           NaN   \n",
       "77        Sports      1.12      6.12      0.06         1.28          82.0   \n",
       "\n",
       "    user_score     rating  sales_total  \n",
       "31         NaN  No_rating        14.63  \n",
       "33         NaN  No_rating        14.60  \n",
       "42         8.3          M        12.62  \n",
       "47         NaN  No_rating        11.68  \n",
       "77         4.3          E         8.58  "
      ]
     },
     "execution_count": 40,
     "metadata": {},
     "output_type": "execute_result"
    }
   ],
   "source": [
    "df_actual = df[df.platform.isin(top_platform) & (df['year_of_release'] >= 2013)].copy()\n",
    "df_actual.head()"
   ]
  },
  {
   "cell_type": "code",
   "execution_count": 41,
   "id": "d948f9d4",
   "metadata": {
    "scrolled": false
   },
   "outputs": [
    {
     "data": {
      "image/png": "[encoded data removed]",
      "text/plain": [
       "<Figure size 1008x576 with 1 Axes>"
      ]
     },
     "metadata": {
      "needs_background": "light"
     },
     "output_type": "display_data"
    }
   ],
   "source": [
    "plt.figure(figsize=(14,8))\n",
    "ax = sns.boxplot(data=df_actual,\n",
    "            y=\"sales_total\", x='platform')\n",
    "plt.title('Разброс в продажах по актуальным платформам за 2013-1016 года')\n",
    "plt.xlabel('Год')\n",
    "plt.ylabel('Сумарные продажи по всем регионам');\n",
    "plt.show()"
   ]
  },
  {
   "cell_type": "markdown",
   "id": "f96ad73b",
   "metadata": {},
   "source": [
    "Часть выбросов отсекам чтобы ближе посмотреть на данные графика."
   ]
  },
  {
   "cell_type": "code",
   "execution_count": 42,
   "id": "b432d686",
   "metadata": {
    "scrolled": false
   },
   "outputs": [
    {
     "data": {
      "image/png": "[encoded data removed]",
      "text/plain": [
       "<Figure size 1008x576 with 1 Axes>"
      ]
     },
     "metadata": {
      "needs_background": "light"
     },
     "output_type": "display_data"
    }
   ],
   "source": [
    "plt.figure(figsize=(14,8))\n",
    "ax = sns.boxplot(data=df_actual,\n",
    "            y=\"sales_total\", x='platform')\n",
    "ax.set_ylim([0,2])\n",
    "plt.title('Разброс в продажах по актуальным платформам за 2013-1016 года')\n",
    "plt.xlabel('Год')\n",
    "plt.ylabel('Сумарные продажи по всем регионам');\n",
    "plt.show()\n"
   ]
  },
  {
   "cell_type": "markdown",
   "id": "4b32c077",
   "metadata": {},
   "source": [
    "- Платформы остаются актуальными примерно 5 лет с момента релиза.\n",
    "- Подходящим периодом для исследования будет - 2013-2016 года. В эти года были выпущены последние платформы разных производителей."
   ]
  },
  {
   "cell_type": "markdown",
   "id": "8fcb3c3e",
   "metadata": {},
   "source": [
    "## Влияние отзывов пользователей и критиков на продажи внутри одной популярной платформы."
   ]
  },
  {
   "cell_type": "code",
   "execution_count": 43,
   "id": "27e007b6",
   "metadata": {},
   "outputs": [
    {
     "data": {
      "image/png": "[encoded data removed]",
      "text/plain": [
       "<Figure size 720x432 with 1 Axes>"
      ]
     },
     "metadata": {
      "needs_background": "light"
     },
     "output_type": "display_data"
    }
   ],
   "source": [
    "(df_actual[(df_actual['platform'] == 'XOne') & (df_actual['critic_score'] > 0)]\n",
    " .plot(kind='scatter',\n",
    "       x='critic_score',\n",
    "       y='sales_total',\n",
    "       color='green',\n",
    "       figsize=(10,6)))\n",
    "plt.title('Кореляция оценки критиков с общими продажами')\n",
    "plt.xlabel('Оценка критиков')\n",
    "plt.ylabel('Сумарные продажи по всем регионам');"
   ]
  },
  {
   "cell_type": "code",
   "execution_count": 44,
   "id": "3a71f203",
   "metadata": {},
   "outputs": [
    {
     "data": {
      "image/png": "[encoded data removed]",
      "text/plain": [
       "<Figure size 720x432 with 1 Axes>"
      ]
     },
     "metadata": {
      "needs_background": "light"
     },
     "output_type": "display_data"
    }
   ],
   "source": [
    "(df_actual[(df_actual['platform'] == 'XOne') & (df_actual['user_score'] > 0)]\n",
    " .plot(kind='scatter',\n",
    "       x='user_score',\n",
    "       y='sales_total',\n",
    "       color='green',\n",
    "       figsize=(10,6)));\n",
    "plt.title('Кореляция оценки пользователей с общими продажами')\n",
    "plt.xlabel('Оценка пользователей')\n",
    "plt.ylabel('Сумарные продажи по всем регионам');"
   ]
  },
  {
   "cell_type": "code",
   "execution_count": 45,
   "id": "ec0242a6",
   "metadata": {
    "scrolled": false
   },
   "outputs": [
    {
     "data": {
      "image/png": "[encoded data removed]",
      "text/plain": [
       "<Figure size 432x288 with 2 Axes>"
      ]
     },
     "metadata": {
      "needs_background": "light"
     },
     "output_type": "display_data"
    }
   ],
   "source": [
    "x_one = df_actual[(df_actual['platform'] == 'XOne') & (df_actual['user_score'] > 0)][['sales_total' ,'critic_score', 'user_score']]\n",
    "sns.heatmap(x_one.corr(), annot=True);"
   ]
  },
  {
   "cell_type": "markdown",
   "id": "60f2d20a",
   "metadata": {},
   "source": [
    "- У платформы XOne наблюдается слабая корреляция между продажами и оценками критиков, корреляция положительная и составляет 0,41. \n",
    "- Корреляция между продажами и оценками пользователей у этой платформы отсутствует."
   ]
  },
  {
   "cell_type": "markdown",
   "id": "9de0ca3f",
   "metadata": {},
   "source": [
    "## Влияние оценок и отзывов на продажами игр на других платформах."
   ]
  },
  {
   "cell_type": "code",
   "execution_count": 46,
   "id": "057ee569",
   "metadata": {
    "scrolled": false
   },
   "outputs": [
    {
     "data": {
      "text/html": [
       "<div>\n",
       "<style scoped>\n",
       "    .dataframe tbody tr th:only-of-type {\n",
       "        vertical-align: middle;\n",
       "    }\n",
       "\n",
       "    .dataframe tbody tr th {\n",
       "        vertical-align: top;\n",
       "    }\n",
       "\n",
       "    .dataframe thead th {\n",
       "        text-align: right;\n",
       "    }\n",
       "</style>\n",
       "<table border=\"1\" class=\"dataframe\">\n",
       "  <thead>\n",
       "    <tr style=\"text-align: right;\">\n",
       "      <th></th>\n",
       "      <th>platform</th>\n",
       "      <th>level_1</th>\n",
       "      <th>critic_score</th>\n",
       "      <th>user_score</th>\n",
       "    </tr>\n",
       "  </thead>\n",
       "  <tbody>\n",
       "    <tr>\n",
       "      <th>0</th>\n",
       "      <td>3DS</td>\n",
       "      <td>sales_total</td>\n",
       "      <td>0.357057</td>\n",
       "      <td>0.241504</td>\n",
       "    </tr>\n",
       "    <tr>\n",
       "      <th>3</th>\n",
       "      <td>PC</td>\n",
       "      <td>sales_total</td>\n",
       "      <td>0.199660</td>\n",
       "      <td>-0.089998</td>\n",
       "    </tr>\n",
       "    <tr>\n",
       "      <th>6</th>\n",
       "      <td>PS4</td>\n",
       "      <td>sales_total</td>\n",
       "      <td>0.406568</td>\n",
       "      <td>-0.031957</td>\n",
       "    </tr>\n",
       "    <tr>\n",
       "      <th>9</th>\n",
       "      <td>WiiU</td>\n",
       "      <td>sales_total</td>\n",
       "      <td>0.376415</td>\n",
       "      <td>0.419330</td>\n",
       "    </tr>\n",
       "    <tr>\n",
       "      <th>12</th>\n",
       "      <td>XOne</td>\n",
       "      <td>sales_total</td>\n",
       "      <td>0.416998</td>\n",
       "      <td>-0.068925</td>\n",
       "    </tr>\n",
       "  </tbody>\n",
       "</table>\n",
       "</div>"
      ],
      "text/plain": [
       "   platform      level_1  critic_score  user_score\n",
       "0       3DS  sales_total      0.357057    0.241504\n",
       "3        PC  sales_total      0.199660   -0.089998\n",
       "6       PS4  sales_total      0.406568   -0.031957\n",
       "9      WiiU  sales_total      0.376415    0.419330\n",
       "12     XOne  sales_total      0.416998   -0.068925"
      ]
     },
     "execution_count": 46,
     "metadata": {},
     "output_type": "execute_result"
    }
   ],
   "source": [
    "(df_actual\n",
    " .groupby(['platform'])[['sales_total','critic_score','user_score']]\n",
    " .agg('corr')\n",
    " .reset_index()\n",
    " .query('level_1 == \"sales_total\"')\n",
    " .iloc[:,[0,1,3,4]]\n",
    ")"
   ]
  },
  {
   "cell_type": "markdown",
   "id": "76e3fa46",
   "metadata": {},
   "source": [
    "## Общее распределение игр по жанрам"
   ]
  },
  {
   "cell_type": "code",
   "execution_count": 47,
   "id": "b4e8dd40",
   "metadata": {},
   "outputs": [
    {
     "data": {
      "image/png": "[encoded data removed]",
      "text/plain": [
       "<Figure size 1008x576 with 1 Axes>"
      ]
     },
     "metadata": {
      "needs_background": "light"
     },
     "output_type": "display_data"
    }
   ],
   "source": [
    "new_platform = df[df.platform.isin(top_platform) & (df['year_of_release'] >= 2010)]\n",
    "plt.figure(figsize=(14,8))\n",
    "ax = sns.boxplot(data=new_platform,\n",
    "                 y=\"sales_total\",\n",
    "                 x='genre',\n",
    "                 order=(new_platform\n",
    "                        .groupby('genre')['sales_total']\n",
    "                        .agg('median')\n",
    "                        .sort_values(ascending=False)\n",
    "                        .index))\n",
    "plt.title('Общие продажи игр по разным жанрам')\n",
    "plt.xlabel('Жанр')\n",
    "plt.ylabel('Сумарные продажи по всем регионам');\n",
    "plt.show()"
   ]
  },
  {
   "cell_type": "code",
   "execution_count": 48,
   "id": "66e3a03e",
   "metadata": {},
   "outputs": [
    {
     "data": {
      "image/png": "[encoded data removed]",
      "text/plain": [
       "<Figure size 1008x576 with 1 Axes>"
      ]
     },
     "metadata": {
      "needs_background": "light"
     },
     "output_type": "display_data"
    }
   ],
   "source": [
    "new_platform = df[df.platform.isin(top_platform) & (df['year_of_release'] >= 2010)]\n",
    "plt.figure(figsize=(14,8))\n",
    "ax = sns.boxplot(data=new_platform,\n",
    "                 y=\"sales_total\",\n",
    "                 x='genre',\n",
    "                 order=(new_platform\n",
    "                        .groupby('genre')['sales_total']\n",
    "                        .agg('median')\n",
    "                        .sort_values(ascending=False)\n",
    "                        .index))\n",
    "plt.title('Общие продажи игр по разным жанрам')\n",
    "plt.xlabel('Жанр')\n",
    "plt.ylabel('Сумарные продажи по всем регионам');\n",
    "ax.set_ylim([0,3])\n",
    "plt.show()"
   ]
  },
  {
   "cell_type": "markdown",
   "id": "d5a91545",
   "metadata": {},
   "source": [
    "- Самыми популярными жанрами можно считать  - \"Shooter\", \"Platform\", \"Sports\" и \"Role-Playing\".\n",
    "- Самыми не популярными - \"Pazzle\", \"Adventure\" и \"Strategy\".\n"
   ]
  },
  {
   "cell_type": "markdown",
   "id": "6424d412",
   "metadata": {},
   "source": [
    "## Выводы"
   ]
  },
  {
   "cell_type": "markdown",
   "id": "e68ca71f",
   "metadata": {},
   "source": [
    "- Проанализированы продажи по актуальным игровым платформам.\n",
    "- Лидером продаж можно считать \"PS4\".\n",
    "- У всех рассмотренных платформ кореляция не превышает 0.42, можно сказать что кореляция отсутствует.\n",
    "- Выделены самые популярные жанры игр - \"Shooter\", \"Platform\", \"Sports\" и \"Role-Playing\". Самыми не популярными являются - \"Pazzle\", \"Adventure\" и \"Strategy\"."
   ]
  },
  {
   "cell_type": "markdown",
   "id": "fde30d4b",
   "metadata": {},
   "source": [
    "# Портрет пользователя каждого региона"
   ]
  },
  {
   "cell_type": "markdown",
   "id": "1893dc0a",
   "metadata": {},
   "source": [
    "## Самые популярные платформы по регионам."
   ]
  },
  {
   "cell_type": "code",
   "execution_count": 49,
   "id": "e804095b",
   "metadata": {},
   "outputs": [
    {
     "data": {
      "text/html": [
       "<div>\n",
       "<style scoped>\n",
       "    .dataframe tbody tr th:only-of-type {\n",
       "        vertical-align: middle;\n",
       "    }\n",
       "\n",
       "    .dataframe tbody tr th {\n",
       "        vertical-align: top;\n",
       "    }\n",
       "\n",
       "    .dataframe thead th {\n",
       "        text-align: right;\n",
       "    }\n",
       "</style>\n",
       "<table border=\"1\" class=\"dataframe\">\n",
       "  <thead>\n",
       "    <tr style=\"text-align: right;\">\n",
       "      <th></th>\n",
       "      <th>na_sales</th>\n",
       "      <th>eu_sales</th>\n",
       "      <th>jp_sales</th>\n",
       "    </tr>\n",
       "    <tr>\n",
       "      <th>platform</th>\n",
       "      <th></th>\n",
       "      <th></th>\n",
       "      <th></th>\n",
       "    </tr>\n",
       "  </thead>\n",
       "  <tbody>\n",
       "    <tr>\n",
       "      <th>3DS</th>\n",
       "      <td>83.11</td>\n",
       "      <td>61.46</td>\n",
       "      <td>100.62</td>\n",
       "    </tr>\n",
       "    <tr>\n",
       "      <th>PC</th>\n",
       "      <td>39.87</td>\n",
       "      <td>70.50</td>\n",
       "      <td>0.00</td>\n",
       "    </tr>\n",
       "    <tr>\n",
       "      <th>PS4</th>\n",
       "      <td>108.74</td>\n",
       "      <td>141.09</td>\n",
       "      <td>15.96</td>\n",
       "    </tr>\n",
       "    <tr>\n",
       "      <th>WiiU</th>\n",
       "      <td>38.10</td>\n",
       "      <td>25.13</td>\n",
       "      <td>13.01</td>\n",
       "    </tr>\n",
       "    <tr>\n",
       "      <th>XOne</th>\n",
       "      <td>93.12</td>\n",
       "      <td>51.59</td>\n",
       "      <td>0.34</td>\n",
       "    </tr>\n",
       "  </tbody>\n",
       "</table>\n",
       "</div>"
      ],
      "text/plain": [
       "          na_sales  eu_sales  jp_sales\n",
       "platform                              \n",
       "3DS          83.11     61.46    100.62\n",
       "PC           39.87     70.50      0.00\n",
       "PS4         108.74    141.09     15.96\n",
       "WiiU         38.10     25.13     13.01\n",
       "XOne         93.12     51.59      0.34"
      ]
     },
     "execution_count": 49,
     "metadata": {},
     "output_type": "execute_result"
    }
   ],
   "source": [
    "(new_platform\n",
    " .groupby('platform')[['na_sales', 'eu_sales', 'jp_sales']]\n",
    " .agg('sum')\n",
    ")"
   ]
  },
  {
   "cell_type": "code",
   "execution_count": 50,
   "id": "92866db7",
   "metadata": {
    "scrolled": true
   },
   "outputs": [
    {
     "data": {
      "image/png": "[encoded data removed]",
      "text/plain": [
       "<Figure size 1152x288 with 3 Axes>"
      ]
     },
     "metadata": {
      "needs_background": "light"
     },
     "output_type": "display_data"
    }
   ],
   "source": [
    "f, ax = plt.subplots(1, 3, figsize=(16, 4))\n",
    "f.suptitle('Продажи игр по топовым платформам за актуальный период', y = 1.1, fontsize=20)\n",
    "\n",
    "ax[0].set_title('Северная америка')\n",
    "(new_platform\n",
    " .groupby('platform')[['na_sales']]\n",
    " .agg('sum')\n",
    " .sort_values(by='na_sales',ascending=False)\n",
    ").plot(kind='bar', rot=45, ax=ax[0]);\n",
    "\n",
    "ax[1].set_title('Европа')\n",
    "(new_platform\n",
    " .groupby('platform')[['eu_sales']]\n",
    " .agg('sum')\n",
    " .sort_values(by='eu_sales',ascending=False)\n",
    ").plot(kind='bar', color='green', rot=45, ax=ax[1]);\n",
    "\n",
    "ax[2].set_title('Япония')\n",
    "(new_platform\n",
    " .groupby('platform')[['jp_sales']]\n",
    " .agg('sum')\n",
    " .sort_values(by='jp_sales',ascending=False)\n",
    ").plot(kind='bar', color = 'orange',rot=45, ax=ax[2])\n",
    "plt.show()"
   ]
  },
  {
   "cell_type": "code",
   "execution_count": 51,
   "id": "951a6a6e",
   "metadata": {},
   "outputs": [
    {
     "data": {
      "image/png": "[encoded data removed]",
      "text/plain": [
       "<Figure size 1152x288 with 3 Axes>"
      ]
     },
     "metadata": {
      "needs_background": "light"
     },
     "output_type": "display_data"
    }
   ],
   "source": [
    "f, ax = plt.subplots(1, 3, figsize=(16, 4))\n",
    "f.suptitle('ТОП-5 платформ за всё время в разных регионах', y = 1.1, fontsize=20)\n",
    "\n",
    "ax[0].set_title('Северная америка')\n",
    "(df\n",
    " .groupby('platform')[['na_sales']]\n",
    " .agg('sum')\n",
    " .sort_values(by='na_sales',ascending=False)\n",
    " .head(5)\n",
    ").plot(kind='bar', rot=45, ax=ax[0]);\n",
    "\n",
    "ax[1].set_title('Европа')\n",
    "(df\n",
    " .groupby('platform')[['eu_sales']]\n",
    " .agg('sum')\n",
    " .sort_values(by='eu_sales',ascending=False)\n",
    " .head(5)\n",
    ").plot(kind='bar', color='green', rot=45, ax=ax[1]);\n",
    "\n",
    "ax[2].set_title('Япония')\n",
    "(df\n",
    " .groupby('platform')[['jp_sales']]\n",
    " .agg('sum')\n",
    " .sort_values(by='jp_sales',ascending=False)\n",
    " .head(5)\n",
    ").plot(kind='bar', color = 'orange',rot=45, ax=ax[2])\n",
    "plt.show()"
   ]
  },
  {
   "cell_type": "markdown",
   "id": "78b8e64c",
   "metadata": {},
   "source": [
    "## Самые популярные жанры по регионам."
   ]
  },
  {
   "cell_type": "code",
   "execution_count": 52,
   "id": "1bbeeb65",
   "metadata": {
    "scrolled": false
   },
   "outputs": [
    {
     "data": {
      "image/png": "[encoded data removed]",
      "text/plain": [
       "<Figure size 1152x288 with 3 Axes>"
      ]
     },
     "metadata": {
      "needs_background": "light"
     },
     "output_type": "display_data"
    }
   ],
   "source": [
    "f, ax = plt.subplots(1, 3, figsize=(16, 4))\n",
    "f.suptitle('ТОП-5 жанров игр в разных регионах', y = 1.1, fontsize=20)\n",
    "\n",
    "ax[0].set_title('Северная америка')\n",
    "(df\n",
    " .groupby('genre')[['na_sales']]\n",
    " .agg('sum')\n",
    " .sort_values(by='na_sales',ascending=False)\n",
    " .head(5)\n",
    ").plot(kind='bar', rot=45, ax=ax[0]);\n",
    "\n",
    "ax[1].set_title('Европа')\n",
    "(df\n",
    " .groupby('genre')[['eu_sales']]\n",
    " .agg('sum')\n",
    " .sort_values(by='eu_sales',ascending=False)\n",
    " .head(5)\n",
    ").plot(kind='bar', color='green', rot=45, ax=ax[1]);\n",
    "\n",
    "ax[2].set_title('Япония')\n",
    "(df\n",
    " .groupby('genre')[['jp_sales']]\n",
    " .agg('sum')\n",
    " .sort_values(by='jp_sales',ascending=False)\n",
    " .head(5)\n",
    ").plot(kind='bar', color = 'orange',rot=45, ax=ax[2])\n",
    "plt.show()"
   ]
  },
  {
   "cell_type": "code",
   "execution_count": 53,
   "id": "ea55a450",
   "metadata": {},
   "outputs": [
    {
     "data": {
      "image/png": "[encoded data removed]",
      "text/plain": [
       "<Figure size 1152x288 with 3 Axes>"
      ]
     },
     "metadata": {
      "needs_background": "light"
     },
     "output_type": "display_data"
    }
   ],
   "source": [
    "f, ax = plt.subplots(1, 3, figsize=(16, 4))\n",
    "f.suptitle('ТОП-5 жанров игр в разных регионах за актуальный период', y = 1.1, fontsize=20)\n",
    "\n",
    "ax[0].set_title('Северная америка')\n",
    "(df[df['year_of_release'] >= 2013]\n",
    " .groupby('genre')[['na_sales']]\n",
    " .agg('sum')\n",
    " .sort_values(by='na_sales',ascending=False)\n",
    " .head(5)\n",
    ").plot(kind='bar', rot=45, ax=ax[0]);\n",
    "\n",
    "ax[1].set_title('Европа')\n",
    "(df[df['year_of_release'] >= 2013]\n",
    " .groupby('genre')[['eu_sales']]\n",
    " .agg('sum')\n",
    " .sort_values(by='eu_sales',ascending=False)\n",
    " .head(5)\n",
    ").plot(kind='bar', color='green', rot=45, ax=ax[1]);\n",
    "\n",
    "ax[2].set_title('Япония')\n",
    "(df[df['year_of_release'] >= 2013]\n",
    " .groupby('genre')[['jp_sales']]\n",
    " .agg('sum')\n",
    " .sort_values(by='jp_sales',ascending=False)\n",
    " .head(5)\n",
    ").plot(kind='bar', color = 'orange',rot=45, ax=ax[2])\n",
    "plt.show()"
   ]
  },
  {
   "cell_type": "markdown",
   "id": "50295140",
   "metadata": {},
   "source": [
    "## Влияние рейтинга ESRB на продажи."
   ]
  },
  {
   "cell_type": "code",
   "execution_count": 54,
   "id": "efc9aa62",
   "metadata": {
    "scrolled": false
   },
   "outputs": [
    {
     "data": {
      "image/png": "[encoded data removed]",
      "text/plain": [
       "<Figure size 1152x288 with 3 Axes>"
      ]
     },
     "metadata": {
      "needs_background": "light"
     },
     "output_type": "display_data"
    }
   ],
   "source": [
    "f, ax = plt.subplots(1, 3, figsize=(16, 4))\n",
    "f.suptitle('Продажи игр с различным рейтингом ESRB по регионам', y = 1.1, fontsize=20)\n",
    "\n",
    "ax[0].set_title('Северная америка')\n",
    "(df\n",
    " .groupby('rating')[['na_sales']]\n",
    " .agg('sum')\n",
    " .sort_values(by='na_sales',ascending=False)\n",
    " .head(5)\n",
    ").plot(kind='bar', rot=45, ax=ax[0]);\n",
    "\n",
    "ax[1].set_title('Европа')\n",
    "(df\n",
    " .groupby('rating')[['eu_sales']]\n",
    " .agg('sum')\n",
    " .sort_values(by='eu_sales',ascending=False)\n",
    " .head(5)\n",
    ").plot(kind='bar', color='green', rot=45, ax=ax[1]);\n",
    "\n",
    "ax[2].set_title('Япония')\n",
    "(df\n",
    " .groupby('rating')[['jp_sales']]\n",
    " .agg('sum')\n",
    " .sort_values(by='jp_sales',ascending=False)\n",
    " .head(5)\n",
    ").plot(kind='bar', color = 'orange',rot=45, ax=ax[2])\n",
    "plt.show()"
   ]
  },
  {
   "cell_type": "code",
   "execution_count": 55,
   "id": "9f12c2f2",
   "metadata": {},
   "outputs": [
    {
     "data": {
      "image/png": "[encoded data removed]",
      "text/plain": [
       "<Figure size 1152x288 with 3 Axes>"
      ]
     },
     "metadata": {
      "needs_background": "light"
     },
     "output_type": "display_data"
    }
   ],
   "source": [
    "f, ax = plt.subplots(1, 3, figsize=(16, 4))\n",
    "f.suptitle('Продажи игр с различным рейтингом ESRB по регионам за актуальный период', y = 1.1, fontsize=20)\n",
    "\n",
    "ax[0].set_title('Северная америка')\n",
    "(df[df['year_of_release'] >= 2013]\n",
    " .groupby('rating')[['na_sales']]\n",
    " .agg('sum')\n",
    " .sort_values(by='na_sales',ascending=False)\n",
    " .head(5)\n",
    ").plot(kind='bar', rot=45, ax=ax[0]);\n",
    "\n",
    "ax[1].set_title('Европа')\n",
    "(df[df['year_of_release'] >= 2013]\n",
    " .groupby('rating')[['eu_sales']]\n",
    " .agg('sum')\n",
    " .sort_values(by='eu_sales',ascending=False)\n",
    " .head(5)\n",
    ").plot(kind='bar', color='green', rot=45, ax=ax[1]);\n",
    "\n",
    "ax[2].set_title('Япония')\n",
    "(df[df['year_of_release'] >= 2013]\n",
    " .groupby('rating')[['jp_sales']]\n",
    " .agg('sum')\n",
    " .sort_values(by='jp_sales',ascending=False)\n",
    " .head(5)\n",
    ").plot(kind='bar', color = 'orange',rot=45, ax=ax[2])\n",
    "plt.show()\n"
   ]
  },
  {
   "cell_type": "code",
   "execution_count": 56,
   "id": "4e66a400",
   "metadata": {},
   "outputs": [
    {
     "name": "stderr",
     "output_type": "stream",
     "text": [
      "/opt/conda/lib/python3.9/site-packages/seaborn/_decorators.py:36: FutureWarning: Pass the following variable as a keyword arg: x. From version 0.12, the only valid positional argument will be `data`, and passing other arguments without an explicit keyword will result in an error or misinterpretation.\n",
      "  warnings.warn(\n"
     ]
    },
    {
     "data": {
      "image/png": "[encoded data removed]",
      "text/plain": [
       "<Figure size 806.4x504 with 7 Axes>"
      ]
     },
     "metadata": {
      "needs_background": "light"
     },
     "output_type": "display_data"
    }
   ],
   "source": [
    "top_genre =['Role-Playing', 'Action', 'Sports','Platform', 'Misc', 'Racing',   'Shooter' ]\n",
    "\n",
    "g = sns.catplot(\"rating\", col=\"genre\", col_wrap=4,\n",
    "                data=df.query('genre in @top_genre'),\n",
    "                kind=\"count\", height=3.5, aspect=.8, \n",
    "                palette='tab20')"
   ]
  },
  {
   "cell_type": "markdown",
   "id": "a09d186e",
   "metadata": {},
   "source": [
    "## Выводы"
   ]
  },
  {
   "cell_type": "markdown",
   "id": "a5a2e478",
   "metadata": {},
   "source": [
    "- Самые популярные платформы из актуальных в регионах: \n",
    "    - Северная америка - \"PS4\"\n",
    "    - Европа - \"PS4\" \n",
    "    - Япония - \"3DS\"\n",
    "- Самые популярные производители приставок в регионах: \n",
    "    - Северная америка - \"Play Station\" и \"Xbox\" \n",
    "    - Европа - \"Play Station\" \n",
    "    - Япония - \"Nintendo\"\n",
    "- Самые популярные игры в регионах: \n",
    "    - Северная америка - \"Action\"\n",
    "    - Европа - \"Action\"\n",
    "    - Япония - \"Role-Playing\"\n",
    "- Самый востребованный рейтинг ESRB по регионам: \n",
    "    - Северная америка - \"M\" (от 17 лет и выше)\n",
    "    - Европа - \"M\" (от 17 лет и выше)\n",
    "    - Япония - если отбросить пропущенные значения, то рейтинг \"T\" (от 13 лет и выше)"
   ]
  },
  {
   "cell_type": "markdown",
   "id": "b177312d",
   "metadata": {},
   "source": [
    "# Проверка гипотез"
   ]
  },
  {
   "cell_type": "markdown",
   "id": "1a7b4719",
   "metadata": {},
   "source": [
    "## Средние пользовательские рейтинги платформ Xbox One и PC одинаковые."
   ]
  },
  {
   "cell_type": "markdown",
   "id": "97685583",
   "metadata": {},
   "source": [
    "- H0: \n",
    "    - \"Средние пользовательские рейтинги платформ Xbox One и PC одинаковые\"\n",
    "- H1: \n",
    "    - \"Средние пользовательские рейтинги платформ Xbox One и PC отличаются\"\n",
    "- Уровень значимости:\n",
    "    - alpha = 0.05\n",
    "- Так как выборки независимы друг от друга, то для расчета \"p-value\" воспользуемся критерием Стьюдента."
   ]
  },
  {
   "cell_type": "code",
   "execution_count": 57,
   "id": "2d03b7a6",
   "metadata": {},
   "outputs": [
    {
     "name": "stdout",
     "output_type": "stream",
     "text": [
      "p-value: 0.9540157700336299\n"
     ]
    }
   ],
   "source": [
    "xbox_one = (new_platform[(new_platform['platform'] == 'XOne') \n",
    "               & (new_platform['user_score'] > 0)]['user_score'])\n",
    "pc = (new_platform[(new_platform['platform'] == 'PC') \n",
    "                    & (new_platform['user_score'] > 0)]['user_score'])\n",
    "results = st.ttest_ind(xbox_one, pc)\n",
    "print('p-value:', results.pvalue)"
   ]
  },
  {
   "cell_type": "markdown",
   "id": "59fee46d",
   "metadata": {},
   "source": [
    "- p-value больше alpha, нулевую гипотезу не получается отвергнуть."
   ]
  },
  {
   "cell_type": "markdown",
   "id": "8bffea5e",
   "metadata": {},
   "source": [
    "<div class=\"alert alert-anger\">\n",
    "<font size=\"4\"><b>❌ Комментарий ревьюера</b></font>\n",
    "    <br /> \n",
    "    <font size=\"3\", color = \"black\">\n",
    "<br /> выбран неактуальный период выборки для проведения стат теста"
   ]
  },
  {
   "cell_type": "markdown",
   "id": "3c9ed33a",
   "metadata": {},
   "source": [
    "<font color='green'>Согласен, исправил, результат изменился. </font>"
   ]
  },
  {
   "cell_type": "markdown",
   "id": "45d121c3",
   "metadata": {},
   "source": [
    "## Средние пользовательские рейтинги жанров Action и Sports разные."
   ]
  },
  {
   "cell_type": "markdown",
   "id": "5d3d6e6a",
   "metadata": {},
   "source": [
    "- H0: \n",
    "    - \"Средние пользовательские рейтинги жанров Action и Sports одинаковые\"\n",
    "- H1: \n",
    "    - \"Средние пользовательские рейтинги жанров Action и Sports разные\"\n",
    "- Уровень значимости:\n",
    "    - alpha = 0.05\n",
    "- Так как выборки независимы друг от друга, то для расчета \"p-value\" воспользуемся критерием Стьюдента."
   ]
  },
  {
   "cell_type": "code",
   "execution_count": 58,
   "id": "45759001",
   "metadata": {},
   "outputs": [
    {
     "name": "stdout",
     "output_type": "stream",
     "text": [
      "p-value: 1.0393356827399427e-11\n"
     ]
    }
   ],
   "source": [
    "action = (new_platform[(new_platform['genre'] == 'Action') \n",
    "               & (new_platform['user_score'] > 0)]['user_score'])\n",
    "sports = (new_platform[(new_platform['genre'] == 'Sports') \n",
    "                    & (new_platform['user_score'] > 0)]['user_score'])\n",
    "results = st.ttest_ind(action, sports)\n",
    "print('p-value:', results.pvalue)"
   ]
  },
  {
   "cell_type": "markdown",
   "id": "229718ff",
   "metadata": {},
   "source": [
    "- p-value меньше alpha, отбрасываем нулевую гипотезу."
   ]
  },
  {
   "cell_type": "markdown",
   "id": "723ec24a",
   "metadata": {},
   "source": [
    "p-value - это вероятность получить наблюдаемый или еще более далекий от предполагаемого результат при условии, что нулевая гипотеза верна. Если эта вероятность ниже уровня значимости alpha, нулевая гипотела отвергается в пользу альтернативной и наоборот."
   ]
  },
  {
   "cell_type": "markdown",
   "id": "c2914b87",
   "metadata": {},
   "source": [
    "Полученое значение p-value означает что с вероятностью 10% есть шанс получит такое же или большее различие между средними отзывами пользователей случайно. "
   ]
  },
  {
   "cell_type": "markdown",
   "id": "b84edf81",
   "metadata": {},
   "source": [
    "## Выводы"
   ]
  },
  {
   "cell_type": "markdown",
   "id": "1f9c1d62",
   "metadata": {},
   "source": [
    "- По первой гипотезе:\n",
    "    - Нулевую гипотезу не получилось отвергнуть.\n",
    "- По второй гипотезе:\n",
    "    - Нулевая гипотеза была отвергнута."
   ]
  },
  {
   "cell_type": "markdown",
   "id": "d159a499",
   "metadata": {},
   "source": [
    "# Общий вывод"
   ]
  },
  {
   "cell_type": "markdown",
   "id": "03e2b600",
   "metadata": {},
   "source": [
    "- Данные загружен и обработаны.\n",
    "- В данных обнаруживается значительное количество пропусков.\n",
    "- Типы данных некоторых столбцов были преобразованы.\n",
    "- Добавлена информация о сумарных продажах со всех регионов. \n",
    "- Корреляция между продажами и оценками критиков по некоторым платформам мала (0.41). Отсутствует корреляция между продажами и оценками пользователей.\n",
    "- Выделены самые популярные жанры игр - \"Shooter\", \"Platform\", \"Sports\" и \"Role-Playing\". Самыми не популярными являются - \"Pazzle\", \"Adventure\" и \"Strategy\". \n",
    "- Между регионами (Северная Америка, Европа и Япония), наблюдаются некоторые различия в предочтениях при выборе платформы, жанра игры и рейтинга ERSB.\n",
    "- В регионах Северная Америка и Европа стоит продвигать платформу \"Play Station\" в связи с ее популярностью и большим количеством продаж. В регионе Япония стоит продвигать платформу \"Nintendo\".\n",
    "- Рекомендация по продвигаемым жанрам:\n",
    "    - В Европе и Северной Америке хорошо продаются игры 'Action', 'Shooter', 'Sports'  жанров.\n",
    "    - В Японии хорошо продаются игры 'Role-Playing', 'Action', 'Misc' жанров.\n",
    "- В регионах Европа и Северная Америка хорошо продаются игры с рейтингом \"M\" (от 17 лет и выше). В регионе Япония хорошо продаются игры с рейтингом \"T\" (от 13 лет и выше). По рейтингу достаточно большое количество пропусков, стоит обратить на это внимание в дальнейшем.\n",
    "- Были проверены две гипотезы:\n",
    "    - По первой гипотезе:\n",
    "        - H0: \"Средние пользовательские рейтинги жанров Action и Sports одинаковые\"\n",
    "             - Нулевую гипотезу не получилось отвергнуть.\n",
    "    - По второй гипотезе:\n",
    "        - Нулевая гипотеза была отвергнута."
   ]
  },
  {
   "cell_type": "code",
   "execution_count": null,
   "id": "ba7be8b7",
   "metadata": {},
   "outputs": [],
   "source": []
  }
 ],
 "metadata": {
  "ExecuteTimeLog": [
   {
    "duration": 41,
    "start_time": "2022-06-10T12:05:35.024Z"
   },
   {
    "duration": 982,
    "start_time": "2022-06-10T12:05:39.184Z"
   },
   {
    "duration": 48,
    "start_time": "2022-06-10T12:05:40.168Z"
   },
   {
    "duration": 18,
    "start_time": "2022-06-10T12:05:40.218Z"
   },
   {
    "duration": 12,
    "start_time": "2022-06-10T12:05:40.239Z"
   },
   {
    "duration": 8,
    "start_time": "2022-06-10T12:05:40.252Z"
   },
   {
    "duration": 37,
    "start_time": "2022-06-10T12:05:40.261Z"
   },
   {
    "duration": 13,
    "start_time": "2022-06-10T12:05:40.300Z"
   },
   {
    "duration": 96,
    "start_time": "2022-06-10T12:05:40.314Z"
   },
   {
    "duration": 0,
    "start_time": "2022-06-10T12:05:40.413Z"
   },
   {
    "duration": 0,
    "start_time": "2022-06-10T12:05:40.414Z"
   },
   {
    "duration": 0,
    "start_time": "2022-06-10T12:05:40.415Z"
   },
   {
    "duration": 0,
    "start_time": "2022-06-10T12:05:40.416Z"
   },
   {
    "duration": 0,
    "start_time": "2022-06-10T12:05:40.416Z"
   },
   {
    "duration": 0,
    "start_time": "2022-06-10T12:05:40.417Z"
   },
   {
    "duration": 0,
    "start_time": "2022-06-10T12:05:40.418Z"
   },
   {
    "duration": 0,
    "start_time": "2022-06-10T12:05:40.419Z"
   },
   {
    "duration": 0,
    "start_time": "2022-06-10T12:05:40.420Z"
   },
   {
    "duration": 0,
    "start_time": "2022-06-10T12:05:40.421Z"
   },
   {
    "duration": 0,
    "start_time": "2022-06-10T12:05:40.421Z"
   },
   {
    "duration": 0,
    "start_time": "2022-06-10T12:05:40.422Z"
   },
   {
    "duration": 0,
    "start_time": "2022-06-10T12:05:40.423Z"
   },
   {
    "duration": 0,
    "start_time": "2022-06-10T12:05:40.425Z"
   },
   {
    "duration": 0,
    "start_time": "2022-06-10T12:05:40.426Z"
   },
   {
    "duration": 0,
    "start_time": "2022-06-10T12:05:40.427Z"
   },
   {
    "duration": 0,
    "start_time": "2022-06-10T12:05:40.429Z"
   },
   {
    "duration": 0,
    "start_time": "2022-06-10T12:05:40.430Z"
   },
   {
    "duration": 0,
    "start_time": "2022-06-10T12:05:40.431Z"
   },
   {
    "duration": 0,
    "start_time": "2022-06-10T12:05:40.433Z"
   },
   {
    "duration": 0,
    "start_time": "2022-06-10T12:05:40.434Z"
   },
   {
    "duration": 0,
    "start_time": "2022-06-10T12:05:40.435Z"
   },
   {
    "duration": 0,
    "start_time": "2022-06-10T12:05:40.437Z"
   },
   {
    "duration": 0,
    "start_time": "2022-06-10T12:05:40.438Z"
   },
   {
    "duration": 0,
    "start_time": "2022-06-10T12:05:40.439Z"
   },
   {
    "duration": 0,
    "start_time": "2022-06-10T12:05:40.440Z"
   },
   {
    "duration": 0,
    "start_time": "2022-06-10T12:05:40.442Z"
   },
   {
    "duration": 0,
    "start_time": "2022-06-10T12:05:40.443Z"
   },
   {
    "duration": 0,
    "start_time": "2022-06-10T12:05:40.494Z"
   },
   {
    "duration": 0,
    "start_time": "2022-06-10T12:05:40.496Z"
   },
   {
    "duration": 0,
    "start_time": "2022-06-10T12:05:40.499Z"
   },
   {
    "duration": 0,
    "start_time": "2022-06-10T12:05:40.501Z"
   },
   {
    "duration": 0,
    "start_time": "2022-06-10T12:05:40.502Z"
   },
   {
    "duration": 0,
    "start_time": "2022-06-10T12:05:40.504Z"
   },
   {
    "duration": 0,
    "start_time": "2022-06-10T12:05:40.504Z"
   },
   {
    "duration": 0,
    "start_time": "2022-06-10T12:05:40.506Z"
   },
   {
    "duration": 0,
    "start_time": "2022-06-10T12:05:40.507Z"
   },
   {
    "duration": 0,
    "start_time": "2022-06-10T12:05:40.508Z"
   },
   {
    "duration": 0,
    "start_time": "2022-06-10T12:05:40.510Z"
   },
   {
    "duration": 0,
    "start_time": "2022-06-10T12:05:40.510Z"
   },
   {
    "duration": 2,
    "start_time": "2022-06-10T12:09:16.138Z"
   },
   {
    "duration": 1067,
    "start_time": "2022-06-10T12:09:27.202Z"
   },
   {
    "duration": 48,
    "start_time": "2022-06-10T12:09:28.271Z"
   },
   {
    "duration": 18,
    "start_time": "2022-06-10T12:09:28.321Z"
   },
   {
    "duration": 11,
    "start_time": "2022-06-10T12:09:28.342Z"
   },
   {
    "duration": 11,
    "start_time": "2022-06-10T12:09:28.355Z"
   },
   {
    "duration": 28,
    "start_time": "2022-06-10T12:09:28.367Z"
   },
   {
    "duration": 12,
    "start_time": "2022-06-10T12:09:28.396Z"
   },
   {
    "duration": 4,
    "start_time": "2022-06-10T12:09:28.409Z"
   },
   {
    "duration": 8,
    "start_time": "2022-06-10T12:09:28.414Z"
   },
   {
    "duration": 17,
    "start_time": "2022-06-10T12:09:28.424Z"
   },
   {
    "duration": 3,
    "start_time": "2022-06-10T12:09:28.442Z"
   },
   {
    "duration": 6,
    "start_time": "2022-06-10T12:09:28.446Z"
   },
   {
    "duration": 14,
    "start_time": "2022-06-10T12:09:28.453Z"
   },
   {
    "duration": 14,
    "start_time": "2022-06-10T12:09:28.494Z"
   },
   {
    "duration": 15,
    "start_time": "2022-06-10T12:09:28.510Z"
   },
   {
    "duration": 16,
    "start_time": "2022-06-10T12:09:28.527Z"
   },
   {
    "duration": 4,
    "start_time": "2022-06-10T12:09:28.544Z"
   },
   {
    "duration": 7,
    "start_time": "2022-06-10T12:09:28.549Z"
   },
   {
    "duration": 8,
    "start_time": "2022-06-10T12:09:28.557Z"
   },
   {
    "duration": 32,
    "start_time": "2022-06-10T12:09:28.566Z"
   },
   {
    "duration": 10,
    "start_time": "2022-06-10T12:09:28.600Z"
   },
   {
    "duration": 6,
    "start_time": "2022-06-10T12:09:28.611Z"
   },
   {
    "duration": 14,
    "start_time": "2022-06-10T12:09:28.618Z"
   },
   {
    "duration": 5,
    "start_time": "2022-06-10T12:09:28.633Z"
   },
   {
    "duration": 12,
    "start_time": "2022-06-10T12:09:28.639Z"
   },
   {
    "duration": 12,
    "start_time": "2022-06-10T12:09:28.652Z"
   },
   {
    "duration": 30,
    "start_time": "2022-06-10T12:09:28.666Z"
   },
   {
    "duration": 174,
    "start_time": "2022-06-10T12:09:28.698Z"
   },
   {
    "duration": 8,
    "start_time": "2022-06-10T12:09:28.873Z"
   },
   {
    "duration": 13,
    "start_time": "2022-06-10T12:09:28.882Z"
   },
   {
    "duration": 475,
    "start_time": "2022-06-10T12:09:28.897Z"
   },
   {
    "duration": 3,
    "start_time": "2022-06-10T12:09:29.374Z"
   },
   {
    "duration": 276,
    "start_time": "2022-06-10T12:09:29.378Z"
   },
   {
    "duration": 2,
    "start_time": "2022-06-10T12:09:29.656Z"
   },
   {
    "duration": 242,
    "start_time": "2022-06-10T12:09:29.659Z"
   },
   {
    "duration": 169,
    "start_time": "2022-06-10T12:09:29.902Z"
   },
   {
    "duration": 175,
    "start_time": "2022-06-10T12:09:30.073Z"
   },
   {
    "duration": 139,
    "start_time": "2022-06-10T12:09:30.250Z"
   },
   {
    "duration": 132,
    "start_time": "2022-06-10T12:09:30.393Z"
   },
   {
    "duration": 330,
    "start_time": "2022-06-10T12:09:30.526Z"
   },
   {
    "duration": 19,
    "start_time": "2022-06-10T12:09:30.858Z"
   },
   {
    "duration": 259,
    "start_time": "2022-06-10T12:09:30.878Z"
   },
   {
    "duration": 12,
    "start_time": "2022-06-10T12:09:31.138Z"
   },
   {
    "duration": 313,
    "start_time": "2022-06-10T12:09:31.151Z"
   },
   {
    "duration": 331,
    "start_time": "2022-06-10T12:09:31.465Z"
   },
   {
    "duration": 368,
    "start_time": "2022-06-10T12:09:31.797Z"
   },
   {
    "duration": 10,
    "start_time": "2022-06-10T12:09:32.166Z"
   },
   {
    "duration": 22,
    "start_time": "2022-06-10T12:09:32.177Z"
   },
   {
    "duration": 19,
    "start_time": "2022-06-10T12:13:56.244Z"
   },
   {
    "duration": 1060,
    "start_time": "2022-06-10T12:34:41.144Z"
   },
   {
    "duration": 51,
    "start_time": "2022-06-10T12:34:42.206Z"
   },
   {
    "duration": 20,
    "start_time": "2022-06-10T12:34:42.258Z"
   },
   {
    "duration": 29,
    "start_time": "2022-06-10T12:34:42.280Z"
   },
   {
    "duration": 12,
    "start_time": "2022-06-10T12:34:42.312Z"
   },
   {
    "duration": 55,
    "start_time": "2022-06-10T12:34:42.326Z"
   },
   {
    "duration": 19,
    "start_time": "2022-06-10T12:34:42.383Z"
   },
   {
    "duration": 12,
    "start_time": "2022-06-10T12:34:42.404Z"
   },
   {
    "duration": 29,
    "start_time": "2022-06-10T12:34:42.418Z"
   },
   {
    "duration": 43,
    "start_time": "2022-06-10T12:34:42.449Z"
   },
   {
    "duration": 56,
    "start_time": "2022-06-10T12:34:42.495Z"
   },
   {
    "duration": 28,
    "start_time": "2022-06-10T12:34:42.553Z"
   },
   {
    "duration": 23,
    "start_time": "2022-06-10T12:34:42.583Z"
   },
   {
    "duration": 20,
    "start_time": "2022-06-10T12:34:42.609Z"
   },
   {
    "duration": 26,
    "start_time": "2022-06-10T12:34:42.631Z"
   },
   {
    "duration": 31,
    "start_time": "2022-06-10T12:34:42.659Z"
   },
   {
    "duration": 11,
    "start_time": "2022-06-10T12:34:42.691Z"
   },
   {
    "duration": 19,
    "start_time": "2022-06-10T12:34:42.704Z"
   },
   {
    "duration": 12,
    "start_time": "2022-06-10T12:34:42.725Z"
   },
   {
    "duration": 12,
    "start_time": "2022-06-10T12:34:42.739Z"
   },
   {
    "duration": 15,
    "start_time": "2022-06-10T12:34:42.753Z"
   },
   {
    "duration": 23,
    "start_time": "2022-06-10T12:34:42.770Z"
   },
   {
    "duration": 33,
    "start_time": "2022-06-10T12:34:42.795Z"
   },
   {
    "duration": 7,
    "start_time": "2022-06-10T12:34:42.830Z"
   },
   {
    "duration": 15,
    "start_time": "2022-06-10T12:34:42.839Z"
   },
   {
    "duration": 16,
    "start_time": "2022-06-10T12:34:42.855Z"
   },
   {
    "duration": 9,
    "start_time": "2022-06-10T12:34:42.872Z"
   },
   {
    "duration": 186,
    "start_time": "2022-06-10T12:34:42.882Z"
   },
   {
    "duration": 11,
    "start_time": "2022-06-10T12:34:43.070Z"
   },
   {
    "duration": 9,
    "start_time": "2022-06-10T12:34:43.095Z"
   },
   {
    "duration": 486,
    "start_time": "2022-06-10T12:34:43.106Z"
   },
   {
    "duration": 5,
    "start_time": "2022-06-10T12:34:43.594Z"
   },
   {
    "duration": 320,
    "start_time": "2022-06-10T12:34:43.600Z"
   },
   {
    "duration": 4,
    "start_time": "2022-06-10T12:34:43.922Z"
   },
   {
    "duration": 248,
    "start_time": "2022-06-10T12:34:43.928Z"
   },
   {
    "duration": 186,
    "start_time": "2022-06-10T12:34:44.178Z"
   },
   {
    "duration": 178,
    "start_time": "2022-06-10T12:34:44.365Z"
   },
   {
    "duration": 139,
    "start_time": "2022-06-10T12:34:44.544Z"
   },
   {
    "duration": 139,
    "start_time": "2022-06-10T12:34:44.684Z"
   },
   {
    "duration": 328,
    "start_time": "2022-06-10T12:34:44.827Z"
   },
   {
    "duration": 21,
    "start_time": "2022-06-10T12:34:45.158Z"
   },
   {
    "duration": 270,
    "start_time": "2022-06-10T12:34:45.194Z"
   },
   {
    "duration": 14,
    "start_time": "2022-06-10T12:34:45.466Z"
   },
   {
    "duration": 344,
    "start_time": "2022-06-10T12:34:45.481Z"
   },
   {
    "duration": 340,
    "start_time": "2022-06-10T12:34:45.826Z"
   },
   {
    "duration": 333,
    "start_time": "2022-06-10T12:34:46.168Z"
   },
   {
    "duration": 10,
    "start_time": "2022-06-10T12:34:46.503Z"
   },
   {
    "duration": 14,
    "start_time": "2022-06-10T12:34:46.515Z"
   },
   {
    "duration": 1472,
    "start_time": "2022-06-10T13:41:03.279Z"
   },
   {
    "duration": 144,
    "start_time": "2022-06-10T13:41:04.753Z"
   },
   {
    "duration": 20,
    "start_time": "2022-06-10T13:41:04.900Z"
   },
   {
    "duration": 15,
    "start_time": "2022-06-10T13:41:04.923Z"
   },
   {
    "duration": 13,
    "start_time": "2022-06-10T13:41:04.940Z"
   },
   {
    "duration": 35,
    "start_time": "2022-06-10T13:41:04.954Z"
   },
   {
    "duration": 28,
    "start_time": "2022-06-10T13:41:04.990Z"
   },
   {
    "duration": 8,
    "start_time": "2022-06-10T13:41:05.019Z"
   },
   {
    "duration": 10,
    "start_time": "2022-06-10T13:41:05.028Z"
   },
   {
    "duration": 62,
    "start_time": "2022-06-10T13:41:05.040Z"
   },
   {
    "duration": 6,
    "start_time": "2022-06-10T13:41:05.104Z"
   },
   {
    "duration": 8,
    "start_time": "2022-06-10T13:41:05.112Z"
   },
   {
    "duration": 19,
    "start_time": "2022-06-10T13:41:05.121Z"
   },
   {
    "duration": 15,
    "start_time": "2022-06-10T13:41:05.141Z"
   },
   {
    "duration": 33,
    "start_time": "2022-06-10T13:41:05.164Z"
   },
   {
    "duration": 36,
    "start_time": "2022-06-10T13:41:05.200Z"
   },
   {
    "duration": 4,
    "start_time": "2022-06-10T13:41:05.237Z"
   },
   {
    "duration": 13,
    "start_time": "2022-06-10T13:41:05.243Z"
   },
   {
    "duration": 46,
    "start_time": "2022-06-10T13:41:05.258Z"
   },
   {
    "duration": 11,
    "start_time": "2022-06-10T13:41:05.306Z"
   },
   {
    "duration": 15,
    "start_time": "2022-06-10T13:41:05.319Z"
   },
   {
    "duration": 7,
    "start_time": "2022-06-10T13:41:05.336Z"
   },
   {
    "duration": 24,
    "start_time": "2022-06-10T13:41:05.344Z"
   },
   {
    "duration": 41,
    "start_time": "2022-06-10T13:41:05.369Z"
   },
   {
    "duration": 20,
    "start_time": "2022-06-10T13:41:05.412Z"
   },
   {
    "duration": 13,
    "start_time": "2022-06-10T13:41:05.434Z"
   },
   {
    "duration": 13,
    "start_time": "2022-06-10T13:41:05.449Z"
   },
   {
    "duration": 247,
    "start_time": "2022-06-10T13:41:05.465Z"
   },
   {
    "duration": 7,
    "start_time": "2022-06-10T13:41:05.714Z"
   },
   {
    "duration": 13,
    "start_time": "2022-06-10T13:41:05.723Z"
   },
   {
    "duration": 591,
    "start_time": "2022-06-10T13:41:05.737Z"
   },
   {
    "duration": 5,
    "start_time": "2022-06-10T13:41:06.330Z"
   },
   {
    "duration": 366,
    "start_time": "2022-06-10T13:41:06.337Z"
   },
   {
    "duration": 4,
    "start_time": "2022-06-10T13:41:06.705Z"
   },
   {
    "duration": 312,
    "start_time": "2022-06-10T13:41:06.711Z"
   },
   {
    "duration": 230,
    "start_time": "2022-06-10T13:41:07.024Z"
   },
   {
    "duration": 300,
    "start_time": "2022-06-10T13:41:07.262Z"
   },
   {
    "duration": 190,
    "start_time": "2022-06-10T13:41:07.564Z"
   },
   {
    "duration": 176,
    "start_time": "2022-06-10T13:41:07.759Z"
   },
   {
    "duration": 470,
    "start_time": "2022-06-10T13:41:07.938Z"
   },
   {
    "duration": 21,
    "start_time": "2022-06-10T13:41:08.410Z"
   },
   {
    "duration": 314,
    "start_time": "2022-06-10T13:41:08.432Z"
   },
   {
    "duration": 44,
    "start_time": "2022-06-10T13:41:08.749Z"
   },
   {
    "duration": 466,
    "start_time": "2022-06-10T13:41:08.800Z"
   },
   {
    "duration": 396,
    "start_time": "2022-06-10T13:41:09.279Z"
   },
   {
    "duration": 398,
    "start_time": "2022-06-10T13:41:09.677Z"
   },
   {
    "duration": 18,
    "start_time": "2022-06-10T13:41:10.079Z"
   },
   {
    "duration": 14,
    "start_time": "2022-06-10T13:41:10.099Z"
   },
   {
    "duration": 4,
    "start_time": "2022-06-10T13:49:54.724Z"
   },
   {
    "duration": 115,
    "start_time": "2022-06-10T13:49:54.732Z"
   },
   {
    "duration": 27,
    "start_time": "2022-06-10T13:49:54.849Z"
   },
   {
    "duration": 72,
    "start_time": "2022-06-10T13:49:54.877Z"
   },
   {
    "duration": 60,
    "start_time": "2022-06-10T13:49:54.951Z"
   },
   {
    "duration": 59,
    "start_time": "2022-06-10T13:49:55.014Z"
   },
   {
    "duration": 59,
    "start_time": "2022-06-10T13:49:55.075Z"
   },
   {
    "duration": 164,
    "start_time": "2022-06-10T13:49:55.136Z"
   },
   {
    "duration": 6,
    "start_time": "2022-06-10T13:49:55.436Z"
   },
   {
    "duration": 5,
    "start_time": "2022-06-10T13:50:01.809Z"
   },
   {
    "duration": 17,
    "start_time": "2022-06-10T13:50:04.226Z"
   },
   {
    "duration": 21,
    "start_time": "2022-06-10T13:51:09.208Z"
   },
   {
    "duration": 6,
    "start_time": "2022-06-10T14:49:52.629Z"
   },
   {
    "duration": 741,
    "start_time": "2022-06-10T14:50:13.497Z"
   },
   {
    "duration": 527,
    "start_time": "2022-06-10T14:50:16.512Z"
   },
   {
    "duration": 16,
    "start_time": "2022-06-10T14:50:40.732Z"
   },
   {
    "duration": 18,
    "start_time": "2022-06-10T14:50:50.975Z"
   },
   {
    "duration": 127,
    "start_time": "2022-06-10T14:50:50.995Z"
   },
   {
    "duration": 15,
    "start_time": "2022-06-10T14:50:51.124Z"
   },
   {
    "duration": 15,
    "start_time": "2022-06-10T14:50:51.141Z"
   },
   {
    "duration": 53,
    "start_time": "2022-06-10T14:50:51.166Z"
   },
   {
    "duration": 28,
    "start_time": "2022-06-10T14:50:51.221Z"
   },
   {
    "duration": 65,
    "start_time": "2022-06-10T14:50:51.251Z"
   },
   {
    "duration": 25,
    "start_time": "2022-06-10T14:50:51.318Z"
   },
   {
    "duration": 15,
    "start_time": "2022-06-10T14:51:25.383Z"
   },
   {
    "duration": 6,
    "start_time": "2022-06-10T14:51:31.195Z"
   },
   {
    "duration": 15,
    "start_time": "2022-06-10T14:52:04.375Z"
   },
   {
    "duration": 46,
    "start_time": "2022-06-10T14:56:18.575Z"
   },
   {
    "duration": 14,
    "start_time": "2022-06-10T14:56:37.603Z"
   },
   {
    "duration": 55,
    "start_time": "2022-06-10T14:58:12.456Z"
   },
   {
    "duration": 9,
    "start_time": "2022-06-10T14:58:31.120Z"
   },
   {
    "duration": 23,
    "start_time": "2022-06-10T14:59:42.743Z"
   },
   {
    "duration": 3,
    "start_time": "2022-06-10T14:59:46.249Z"
   },
   {
    "duration": 95,
    "start_time": "2022-06-10T14:59:46.255Z"
   },
   {
    "duration": 16,
    "start_time": "2022-06-10T14:59:46.417Z"
   },
   {
    "duration": 26,
    "start_time": "2022-06-10T14:59:46.435Z"
   },
   {
    "duration": 56,
    "start_time": "2022-06-10T14:59:46.468Z"
   },
   {
    "duration": 20,
    "start_time": "2022-06-10T14:59:46.525Z"
   },
   {
    "duration": 76,
    "start_time": "2022-06-10T14:59:46.547Z"
   },
   {
    "duration": 21,
    "start_time": "2022-06-10T14:59:46.624Z"
   },
   {
    "duration": 13,
    "start_time": "2022-06-10T14:59:46.646Z"
   },
   {
    "duration": 74,
    "start_time": "2022-06-10T14:59:46.660Z"
   },
   {
    "duration": 20,
    "start_time": "2022-06-10T14:59:49.000Z"
   },
   {
    "duration": 15,
    "start_time": "2022-06-10T14:59:49.685Z"
   },
   {
    "duration": 6,
    "start_time": "2022-06-10T14:59:59.231Z"
   },
   {
    "duration": 29,
    "start_time": "2022-06-10T15:00:22.777Z"
   },
   {
    "duration": 26,
    "start_time": "2022-06-10T15:00:29.080Z"
   },
   {
    "duration": 5,
    "start_time": "2022-06-10T15:03:42.879Z"
   },
   {
    "duration": 1233,
    "start_time": "2022-06-10T15:03:52.789Z"
   },
   {
    "duration": 66,
    "start_time": "2022-06-10T15:03:54.024Z"
   },
   {
    "duration": 22,
    "start_time": "2022-06-10T15:03:54.095Z"
   },
   {
    "duration": 18,
    "start_time": "2022-06-10T15:03:54.119Z"
   },
   {
    "duration": 27,
    "start_time": "2022-06-10T15:03:54.139Z"
   },
   {
    "duration": 53,
    "start_time": "2022-06-10T15:03:54.167Z"
   },
   {
    "duration": 14,
    "start_time": "2022-06-10T15:03:54.221Z"
   },
   {
    "duration": 6,
    "start_time": "2022-06-10T15:03:54.237Z"
   },
   {
    "duration": 8,
    "start_time": "2022-06-10T15:03:54.245Z"
   },
   {
    "duration": 50,
    "start_time": "2022-06-10T15:03:54.255Z"
   },
   {
    "duration": 4,
    "start_time": "2022-06-10T15:03:54.307Z"
   },
   {
    "duration": 10,
    "start_time": "2022-06-10T15:03:54.312Z"
   },
   {
    "duration": 6,
    "start_time": "2022-06-10T15:03:54.323Z"
   },
   {
    "duration": 20,
    "start_time": "2022-06-10T15:03:54.330Z"
   },
   {
    "duration": 34,
    "start_time": "2022-06-10T15:03:54.351Z"
   },
   {
    "duration": 35,
    "start_time": "2022-06-10T15:03:54.388Z"
   },
   {
    "duration": 22,
    "start_time": "2022-06-10T15:03:54.425Z"
   },
   {
    "duration": 4,
    "start_time": "2022-06-10T15:03:54.449Z"
   },
   {
    "duration": 51,
    "start_time": "2022-06-10T15:03:54.454Z"
   },
   {
    "duration": 7,
    "start_time": "2022-06-10T15:03:54.507Z"
   },
   {
    "duration": 9,
    "start_time": "2022-06-10T15:03:54.516Z"
   },
   {
    "duration": 13,
    "start_time": "2022-06-10T15:03:54.526Z"
   },
   {
    "duration": 8,
    "start_time": "2022-06-10T15:03:54.541Z"
   },
   {
    "duration": 19,
    "start_time": "2022-06-10T15:03:54.550Z"
   },
   {
    "duration": 40,
    "start_time": "2022-06-10T15:03:54.570Z"
   },
   {
    "duration": 26,
    "start_time": "2022-06-10T15:03:54.612Z"
   },
   {
    "duration": 15,
    "start_time": "2022-06-10T15:03:54.639Z"
   },
   {
    "duration": 13,
    "start_time": "2022-06-10T15:03:54.657Z"
   },
   {
    "duration": 258,
    "start_time": "2022-06-10T15:03:54.671Z"
   },
   {
    "duration": 8,
    "start_time": "2022-06-10T15:03:54.930Z"
   },
   {
    "duration": 28,
    "start_time": "2022-06-10T15:03:54.940Z"
   },
   {
    "duration": 599,
    "start_time": "2022-06-10T15:03:54.970Z"
   },
   {
    "duration": 5,
    "start_time": "2022-06-10T15:03:55.574Z"
   },
   {
    "duration": 366,
    "start_time": "2022-06-10T15:03:55.584Z"
   },
   {
    "duration": 12,
    "start_time": "2022-06-10T15:03:55.952Z"
   },
   {
    "duration": 317,
    "start_time": "2022-06-10T15:03:55.966Z"
   },
   {
    "duration": 218,
    "start_time": "2022-06-10T15:03:56.285Z"
   },
   {
    "duration": 217,
    "start_time": "2022-06-10T15:03:56.508Z"
   },
   {
    "duration": 189,
    "start_time": "2022-06-10T15:03:56.726Z"
   },
   {
    "duration": 179,
    "start_time": "2022-06-10T15:03:56.917Z"
   },
   {
    "duration": 400,
    "start_time": "2022-06-10T15:03:57.100Z"
   },
   {
    "duration": 31,
    "start_time": "2022-06-10T15:03:57.501Z"
   },
   {
    "duration": 667,
    "start_time": "2022-06-10T15:03:57.536Z"
   },
   {
    "duration": 94,
    "start_time": "2022-06-10T15:03:58.204Z"
   },
   {
    "duration": 914,
    "start_time": "2022-06-10T15:03:58.304Z"
   },
   {
    "duration": 748,
    "start_time": "2022-06-10T15:03:59.258Z"
   },
   {
    "duration": 419,
    "start_time": "2022-06-10T15:04:00.008Z"
   },
   {
    "duration": 10,
    "start_time": "2022-06-10T15:04:00.429Z"
   },
   {
    "duration": 25,
    "start_time": "2022-06-10T15:04:00.441Z"
   },
   {
    "duration": 6,
    "start_time": "2022-06-10T15:05:45.446Z"
   },
   {
    "duration": 3,
    "start_time": "2022-06-10T15:05:52.651Z"
   },
   {
    "duration": 95,
    "start_time": "2022-06-10T15:05:52.657Z"
   },
   {
    "duration": 28,
    "start_time": "2022-06-10T15:05:52.754Z"
   },
   {
    "duration": 57,
    "start_time": "2022-06-10T15:05:52.795Z"
   },
   {
    "duration": 28,
    "start_time": "2022-06-10T15:05:52.854Z"
   },
   {
    "duration": 45,
    "start_time": "2022-06-10T15:05:52.884Z"
   },
   {
    "duration": 19,
    "start_time": "2022-06-10T15:05:52.931Z"
   },
   {
    "duration": 37,
    "start_time": "2022-06-10T15:05:52.952Z"
   },
   {
    "duration": 34,
    "start_time": "2022-06-10T15:05:52.991Z"
   },
   {
    "duration": 55,
    "start_time": "2022-06-10T15:05:53.026Z"
   },
   {
    "duration": 5,
    "start_time": "2022-06-10T15:05:53.087Z"
   },
   {
    "duration": 23,
    "start_time": "2022-06-10T15:05:53.097Z"
   },
   {
    "duration": 14,
    "start_time": "2022-06-10T15:05:53.122Z"
   },
   {
    "duration": 34,
    "start_time": "2022-06-10T15:05:53.138Z"
   },
   {
    "duration": 67,
    "start_time": "2022-06-10T15:05:53.173Z"
   },
   {
    "duration": 45,
    "start_time": "2022-06-10T15:05:53.243Z"
   },
   {
    "duration": 26,
    "start_time": "2022-06-10T15:05:53.292Z"
   },
   {
    "duration": 4,
    "start_time": "2022-06-10T15:05:53.320Z"
   },
   {
    "duration": 10,
    "start_time": "2022-06-10T15:05:53.326Z"
   },
   {
    "duration": 17,
    "start_time": "2022-06-10T15:05:53.339Z"
   },
   {
    "duration": 53,
    "start_time": "2022-06-10T15:05:53.358Z"
   },
   {
    "duration": 13,
    "start_time": "2022-06-10T15:05:53.413Z"
   },
   {
    "duration": 7,
    "start_time": "2022-06-10T15:05:53.428Z"
   },
   {
    "duration": 17,
    "start_time": "2022-06-10T15:05:53.436Z"
   },
   {
    "duration": 12,
    "start_time": "2022-06-10T15:05:53.455Z"
   },
   {
    "duration": 47,
    "start_time": "2022-06-10T15:05:53.475Z"
   },
   {
    "duration": 15,
    "start_time": "2022-06-10T15:05:53.524Z"
   },
   {
    "duration": 9,
    "start_time": "2022-06-10T15:05:53.541Z"
   },
   {
    "duration": 248,
    "start_time": "2022-06-10T15:05:53.551Z"
   },
   {
    "duration": 11,
    "start_time": "2022-06-10T15:05:53.806Z"
   },
   {
    "duration": 12,
    "start_time": "2022-06-10T15:05:53.819Z"
   },
   {
    "duration": 715,
    "start_time": "2022-06-10T15:05:53.833Z"
   },
   {
    "duration": 17,
    "start_time": "2022-06-10T15:05:54.550Z"
   },
   {
    "duration": 409,
    "start_time": "2022-06-10T15:05:54.568Z"
   },
   {
    "duration": 7,
    "start_time": "2022-06-10T15:05:54.982Z"
   },
   {
    "duration": 336,
    "start_time": "2022-06-10T15:05:54.991Z"
   },
   {
    "duration": 225,
    "start_time": "2022-06-10T15:05:55.329Z"
   },
   {
    "duration": 241,
    "start_time": "2022-06-10T15:05:55.558Z"
   },
   {
    "duration": 194,
    "start_time": "2022-06-10T15:05:55.806Z"
   },
   {
    "duration": 152,
    "start_time": "2022-06-10T15:05:56.004Z"
   },
   {
    "duration": 273,
    "start_time": "2022-06-10T15:05:56.174Z"
   },
   {
    "duration": 41,
    "start_time": "2022-06-10T15:05:56.448Z"
   },
   {
    "duration": 335,
    "start_time": "2022-06-10T15:05:56.492Z"
   },
   {
    "duration": 34,
    "start_time": "2022-06-10T15:05:56.828Z"
   },
   {
    "duration": 1221,
    "start_time": "2022-06-10T15:05:56.863Z"
   },
   {
    "duration": 1014,
    "start_time": "2022-06-10T15:05:58.086Z"
   },
   {
    "duration": 594,
    "start_time": "2022-06-10T15:05:59.104Z"
   },
   {
    "duration": 12,
    "start_time": "2022-06-10T15:05:59.699Z"
   },
   {
    "duration": 10,
    "start_time": "2022-06-10T15:05:59.713Z"
   },
   {
    "duration": 371,
    "start_time": "2022-06-10T15:08:33.611Z"
   },
   {
    "duration": 373,
    "start_time": "2022-06-10T15:08:42.346Z"
   },
   {
    "duration": 16,
    "start_time": "2022-06-10T15:20:18.457Z"
   },
   {
    "duration": 10,
    "start_time": "2022-06-10T15:20:23.593Z"
   },
   {
    "duration": 20,
    "start_time": "2022-06-10T15:22:15.892Z"
   },
   {
    "duration": 25,
    "start_time": "2022-06-10T15:23:41.073Z"
   },
   {
    "duration": 24,
    "start_time": "2022-06-10T15:23:47.782Z"
   },
   {
    "duration": 10,
    "start_time": "2022-06-10T15:25:34.624Z"
   },
   {
    "duration": 18,
    "start_time": "2022-06-10T15:26:20.804Z"
   },
   {
    "duration": 52,
    "start_time": "2022-06-10T15:26:53.149Z"
   },
   {
    "duration": 14,
    "start_time": "2022-06-10T15:27:21.703Z"
   },
   {
    "duration": 15,
    "start_time": "2022-06-10T15:27:38.277Z"
   },
   {
    "duration": 138,
    "start_time": "2022-06-10T15:31:45.552Z"
   },
   {
    "duration": 5,
    "start_time": "2022-06-10T15:31:59.377Z"
   },
   {
    "duration": 14,
    "start_time": "2022-06-10T15:32:32.190Z"
   },
   {
    "duration": 32,
    "start_time": "2022-06-10T15:32:56.280Z"
   },
   {
    "duration": 20,
    "start_time": "2022-06-10T15:35:31.523Z"
   },
   {
    "duration": 13,
    "start_time": "2022-06-10T15:36:12.248Z"
   },
   {
    "duration": 7,
    "start_time": "2022-06-10T15:38:31.515Z"
   },
   {
    "duration": 5,
    "start_time": "2022-06-10T15:38:36.147Z"
   },
   {
    "duration": 34,
    "start_time": "2022-06-10T15:38:57.278Z"
   },
   {
    "duration": 7,
    "start_time": "2022-06-10T15:39:04.748Z"
   },
   {
    "duration": 8,
    "start_time": "2022-06-10T15:39:46.211Z"
   },
   {
    "duration": 12,
    "start_time": "2022-06-10T15:39:47.069Z"
   },
   {
    "duration": 17,
    "start_time": "2022-06-10T15:40:24.340Z"
   },
   {
    "duration": 3,
    "start_time": "2022-06-10T15:40:29.220Z"
   },
   {
    "duration": 79,
    "start_time": "2022-06-10T15:40:29.226Z"
   },
   {
    "duration": 14,
    "start_time": "2022-06-10T15:40:29.308Z"
   },
   {
    "duration": 16,
    "start_time": "2022-06-10T15:40:29.323Z"
   },
   {
    "duration": 9,
    "start_time": "2022-06-10T15:40:29.341Z"
   },
   {
    "duration": 38,
    "start_time": "2022-06-10T15:40:29.352Z"
   },
   {
    "duration": 35,
    "start_time": "2022-06-10T15:40:29.392Z"
   },
   {
    "duration": 9,
    "start_time": "2022-06-10T15:40:29.429Z"
   },
   {
    "duration": 7,
    "start_time": "2022-06-10T15:40:29.440Z"
   },
   {
    "duration": 50,
    "start_time": "2022-06-10T15:40:29.449Z"
   },
   {
    "duration": 8,
    "start_time": "2022-06-10T15:40:29.501Z"
   },
   {
    "duration": 19,
    "start_time": "2022-06-10T15:40:29.511Z"
   },
   {
    "duration": 9,
    "start_time": "2022-06-10T15:40:29.533Z"
   },
   {
    "duration": 42,
    "start_time": "2022-06-10T15:40:29.544Z"
   },
   {
    "duration": 20,
    "start_time": "2022-06-10T15:40:29.602Z"
   },
   {
    "duration": 15,
    "start_time": "2022-06-10T15:40:29.623Z"
   },
   {
    "duration": 34,
    "start_time": "2022-06-10T15:40:29.640Z"
   },
   {
    "duration": 14,
    "start_time": "2022-06-10T15:40:29.687Z"
   },
   {
    "duration": 10,
    "start_time": "2022-06-10T15:40:29.707Z"
   },
   {
    "duration": 21,
    "start_time": "2022-06-10T15:40:29.719Z"
   },
   {
    "duration": 10,
    "start_time": "2022-06-10T15:40:29.742Z"
   },
   {
    "duration": 21,
    "start_time": "2022-06-10T15:40:29.753Z"
   },
   {
    "duration": 32,
    "start_time": "2022-06-10T15:40:29.781Z"
   },
   {
    "duration": 7,
    "start_time": "2022-06-10T15:40:32.010Z"
   },
   {
    "duration": 21,
    "start_time": "2022-06-10T15:40:32.398Z"
   },
   {
    "duration": 9,
    "start_time": "2022-06-10T15:40:33.154Z"
   },
   {
    "duration": 28,
    "start_time": "2022-06-10T15:40:37.293Z"
   },
   {
    "duration": 17,
    "start_time": "2022-06-10T15:41:14.410Z"
   },
   {
    "duration": 30,
    "start_time": "2022-06-10T15:41:39.956Z"
   },
   {
    "duration": 9,
    "start_time": "2022-06-10T15:42:28.627Z"
   },
   {
    "duration": 19,
    "start_time": "2022-06-10T15:43:09.399Z"
   },
   {
    "duration": 30,
    "start_time": "2022-06-10T15:45:19.723Z"
   },
   {
    "duration": 6,
    "start_time": "2022-06-10T15:45:21.146Z"
   },
   {
    "duration": 22,
    "start_time": "2022-06-10T15:46:38.018Z"
   },
   {
    "duration": 19,
    "start_time": "2022-06-10T15:47:06.408Z"
   },
   {
    "duration": 3,
    "start_time": "2022-06-10T15:47:12.440Z"
   },
   {
    "duration": 76,
    "start_time": "2022-06-10T15:47:12.445Z"
   },
   {
    "duration": 20,
    "start_time": "2022-06-10T15:47:12.524Z"
   },
   {
    "duration": 23,
    "start_time": "2022-06-10T15:47:12.546Z"
   },
   {
    "duration": 30,
    "start_time": "2022-06-10T15:47:12.573Z"
   },
   {
    "duration": 18,
    "start_time": "2022-06-10T15:47:12.604Z"
   },
   {
    "duration": 18,
    "start_time": "2022-06-10T15:47:12.624Z"
   },
   {
    "duration": 6,
    "start_time": "2022-06-10T15:47:12.644Z"
   },
   {
    "duration": 18,
    "start_time": "2022-06-10T15:47:12.651Z"
   },
   {
    "duration": 55,
    "start_time": "2022-06-10T15:47:12.672Z"
   },
   {
    "duration": 16,
    "start_time": "2022-06-10T15:47:12.730Z"
   },
   {
    "duration": 5,
    "start_time": "2022-06-10T15:47:12.748Z"
   },
   {
    "duration": 48,
    "start_time": "2022-06-10T15:47:12.755Z"
   },
   {
    "duration": 21,
    "start_time": "2022-06-10T15:47:12.805Z"
   },
   {
    "duration": 21,
    "start_time": "2022-06-10T15:47:12.828Z"
   },
   {
    "duration": 29,
    "start_time": "2022-06-10T15:47:12.851Z"
   },
   {
    "duration": 34,
    "start_time": "2022-06-10T15:47:12.882Z"
   },
   {
    "duration": 4,
    "start_time": "2022-06-10T15:47:12.918Z"
   },
   {
    "duration": 15,
    "start_time": "2022-06-10T15:47:12.924Z"
   },
   {
    "duration": 12,
    "start_time": "2022-06-10T15:47:12.941Z"
   },
   {
    "duration": 11,
    "start_time": "2022-06-10T15:47:12.955Z"
   },
   {
    "duration": 49,
    "start_time": "2022-06-10T15:47:12.967Z"
   },
   {
    "duration": 40,
    "start_time": "2022-06-10T15:47:13.018Z"
   },
   {
    "duration": 8,
    "start_time": "2022-06-10T15:47:13.061Z"
   },
   {
    "duration": 307,
    "start_time": "2022-06-10T15:47:15.730Z"
   },
   {
    "duration": 301,
    "start_time": "2022-06-10T15:47:41.900Z"
   },
   {
    "duration": 418,
    "start_time": "2022-06-10T15:48:02.538Z"
   },
   {
    "duration": 11,
    "start_time": "2022-06-10T15:48:07.257Z"
   },
   {
    "duration": 123,
    "start_time": "2022-06-10T15:48:07.272Z"
   },
   {
    "duration": 21,
    "start_time": "2022-06-10T15:48:07.397Z"
   },
   {
    "duration": 28,
    "start_time": "2022-06-10T15:48:07.420Z"
   },
   {
    "duration": 28,
    "start_time": "2022-06-10T15:48:07.450Z"
   },
   {
    "duration": 49,
    "start_time": "2022-06-10T15:48:07.480Z"
   },
   {
    "duration": 23,
    "start_time": "2022-06-10T15:48:07.531Z"
   },
   {
    "duration": 44,
    "start_time": "2022-06-10T15:48:07.556Z"
   },
   {
    "duration": 33,
    "start_time": "2022-06-10T15:48:07.603Z"
   },
   {
    "duration": 52,
    "start_time": "2022-06-10T15:48:07.638Z"
   },
   {
    "duration": 23,
    "start_time": "2022-06-10T15:48:07.692Z"
   },
   {
    "duration": 20,
    "start_time": "2022-06-10T15:48:07.717Z"
   },
   {
    "duration": 14,
    "start_time": "2022-06-10T15:48:07.739Z"
   },
   {
    "duration": 29,
    "start_time": "2022-06-10T15:48:07.754Z"
   },
   {
    "duration": 49,
    "start_time": "2022-06-10T15:48:07.784Z"
   },
   {
    "duration": 23,
    "start_time": "2022-06-10T15:48:07.835Z"
   },
   {
    "duration": 24,
    "start_time": "2022-06-10T15:48:07.864Z"
   },
   {
    "duration": 39,
    "start_time": "2022-06-10T15:48:07.890Z"
   },
   {
    "duration": 19,
    "start_time": "2022-06-10T15:48:07.930Z"
   },
   {
    "duration": 13,
    "start_time": "2022-06-10T15:48:07.951Z"
   },
   {
    "duration": 32,
    "start_time": "2022-06-10T15:48:07.972Z"
   },
   {
    "duration": 23,
    "start_time": "2022-06-10T15:48:08.006Z"
   },
   {
    "duration": 31,
    "start_time": "2022-06-10T15:48:08.031Z"
   },
   {
    "duration": 28,
    "start_time": "2022-06-10T15:48:09.425Z"
   },
   {
    "duration": 7,
    "start_time": "2022-06-10T15:48:09.883Z"
   },
   {
    "duration": 28,
    "start_time": "2022-06-10T15:48:11.779Z"
   },
   {
    "duration": 18,
    "start_time": "2022-06-10T15:48:43.707Z"
   },
   {
    "duration": 7,
    "start_time": "2022-06-10T15:49:00.217Z"
   },
   {
    "duration": 10,
    "start_time": "2022-06-10T15:49:07.914Z"
   },
   {
    "duration": 7,
    "start_time": "2022-06-10T15:49:18.406Z"
   },
   {
    "duration": 208,
    "start_time": "2022-06-10T15:59:40.039Z"
   },
   {
    "duration": 629,
    "start_time": "2022-06-10T16:00:03.319Z"
   },
   {
    "duration": 250,
    "start_time": "2022-06-10T16:03:30.279Z"
   },
   {
    "duration": 238,
    "start_time": "2022-06-10T16:03:45.087Z"
   },
   {
    "duration": 238,
    "start_time": "2022-06-10T16:03:49.827Z"
   },
   {
    "duration": 263,
    "start_time": "2022-06-10T16:05:06.444Z"
   },
   {
    "duration": 41,
    "start_time": "2022-06-10T16:05:25.947Z"
   },
   {
    "duration": 10,
    "start_time": "2022-06-10T16:05:38.675Z"
   },
   {
    "duration": 137,
    "start_time": "2022-06-10T16:05:38.693Z"
   },
   {
    "duration": 18,
    "start_time": "2022-06-10T16:05:38.837Z"
   },
   {
    "duration": 89,
    "start_time": "2022-06-10T16:05:38.857Z"
   },
   {
    "duration": 29,
    "start_time": "2022-06-10T16:05:38.948Z"
   },
   {
    "duration": 66,
    "start_time": "2022-06-10T16:05:38.986Z"
   },
   {
    "duration": 70,
    "start_time": "2022-06-10T16:05:39.054Z"
   },
   {
    "duration": 20,
    "start_time": "2022-06-10T16:05:39.128Z"
   },
   {
    "duration": 72,
    "start_time": "2022-06-10T16:05:39.150Z"
   },
   {
    "duration": 42,
    "start_time": "2022-06-10T16:05:39.228Z"
   },
   {
    "duration": 4,
    "start_time": "2022-06-10T16:05:39.272Z"
   },
   {
    "duration": 59,
    "start_time": "2022-06-10T16:05:39.278Z"
   },
   {
    "duration": 6,
    "start_time": "2022-06-10T16:05:39.339Z"
   },
   {
    "duration": 28,
    "start_time": "2022-06-10T16:05:39.347Z"
   },
   {
    "duration": 76,
    "start_time": "2022-06-10T16:05:39.376Z"
   },
   {
    "duration": 93,
    "start_time": "2022-06-10T16:05:39.454Z"
   },
   {
    "duration": 23,
    "start_time": "2022-06-10T16:05:39.549Z"
   },
   {
    "duration": 58,
    "start_time": "2022-06-10T16:05:39.574Z"
   },
   {
    "duration": 20,
    "start_time": "2022-06-10T16:05:39.633Z"
   },
   {
    "duration": 60,
    "start_time": "2022-06-10T16:05:39.656Z"
   },
   {
    "duration": 17,
    "start_time": "2022-06-10T16:05:39.718Z"
   },
   {
    "duration": 12,
    "start_time": "2022-06-10T16:05:39.737Z"
   },
   {
    "duration": 32,
    "start_time": "2022-06-10T16:05:39.752Z"
   },
   {
    "duration": 36,
    "start_time": "2022-06-10T16:05:39.788Z"
   },
   {
    "duration": 10,
    "start_time": "2022-06-10T16:05:39.827Z"
   },
   {
    "duration": 18,
    "start_time": "2022-06-10T16:05:39.839Z"
   },
   {
    "duration": 8,
    "start_time": "2022-06-10T16:05:39.865Z"
   },
   {
    "duration": 69,
    "start_time": "2022-06-10T16:05:39.875Z"
   },
   {
    "duration": 31,
    "start_time": "2022-06-10T16:05:39.946Z"
   },
   {
    "duration": 39,
    "start_time": "2022-06-10T16:05:39.987Z"
   },
   {
    "duration": 242,
    "start_time": "2022-06-10T16:05:40.029Z"
   },
   {
    "duration": 10,
    "start_time": "2022-06-10T16:05:40.272Z"
   },
   {
    "duration": 43,
    "start_time": "2022-06-10T16:05:40.283Z"
   },
   {
    "duration": 11,
    "start_time": "2022-06-10T16:05:43.553Z"
   },
   {
    "duration": 408,
    "start_time": "2022-06-10T16:07:25.635Z"
   },
   {
    "duration": 19,
    "start_time": "2022-06-10T16:08:17.409Z"
   },
   {
    "duration": 14,
    "start_time": "2022-06-10T16:08:18.720Z"
   },
   {
    "duration": 12,
    "start_time": "2022-06-10T16:08:21.163Z"
   },
   {
    "duration": 238,
    "start_time": "2022-06-10T16:08:21.477Z"
   },
   {
    "duration": 9,
    "start_time": "2022-06-10T16:08:25.833Z"
   },
   {
    "duration": 23,
    "start_time": "2022-06-10T16:08:27.903Z"
   },
   {
    "duration": 562,
    "start_time": "2022-06-10T16:08:29.509Z"
   },
   {
    "duration": 322,
    "start_time": "2022-06-10T16:10:59.255Z"
   },
   {
    "duration": 8,
    "start_time": "2022-06-10T16:11:43.201Z"
   },
   {
    "duration": 17,
    "start_time": "2022-06-10T16:11:54.624Z"
   },
   {
    "duration": 13,
    "start_time": "2022-06-10T16:12:09.239Z"
   },
   {
    "duration": 7,
    "start_time": "2022-06-10T16:13:00.728Z"
   },
   {
    "duration": 222,
    "start_time": "2022-06-10T16:16:34.294Z"
   },
   {
    "duration": 206,
    "start_time": "2022-06-10T16:16:46.844Z"
   },
   {
    "duration": 170,
    "start_time": "2022-06-10T16:18:08.212Z"
   },
   {
    "duration": 167,
    "start_time": "2022-06-10T16:18:15.811Z"
   },
   {
    "duration": 196,
    "start_time": "2022-06-10T16:18:25.108Z"
   },
   {
    "duration": 160,
    "start_time": "2022-06-10T16:18:34.996Z"
   },
   {
    "duration": 317,
    "start_time": "2022-06-10T16:19:36.635Z"
   },
   {
    "duration": 20,
    "start_time": "2022-06-10T16:20:07.555Z"
   },
   {
    "duration": 29,
    "start_time": "2022-06-10T16:20:14.801Z"
   },
   {
    "duration": 28,
    "start_time": "2022-06-10T16:20:20.478Z"
   },
   {
    "duration": 19,
    "start_time": "2022-06-10T16:20:31.539Z"
   },
   {
    "duration": 313,
    "start_time": "2022-06-10T16:21:16.339Z"
   },
   {
    "duration": 303,
    "start_time": "2022-06-10T16:21:58.871Z"
   },
   {
    "duration": 301,
    "start_time": "2022-06-10T16:23:33.153Z"
   },
   {
    "duration": 13,
    "start_time": "2022-06-10T16:35:28.011Z"
   },
   {
    "duration": 12,
    "start_time": "2022-06-10T16:49:22.128Z"
   },
   {
    "duration": 23,
    "start_time": "2022-06-10T16:52:36.855Z"
   },
   {
    "duration": 672,
    "start_time": "2022-06-10T16:57:43.114Z"
   },
   {
    "duration": 397,
    "start_time": "2022-06-10T16:58:32.781Z"
   },
   {
    "duration": 288,
    "start_time": "2022-06-10T16:59:50.847Z"
   },
   {
    "duration": 303,
    "start_time": "2022-06-10T17:00:16.878Z"
   },
   {
    "duration": 279,
    "start_time": "2022-06-10T17:00:33.231Z"
   },
   {
    "duration": 361,
    "start_time": "2022-06-10T17:00:41.501Z"
   },
   {
    "duration": 421,
    "start_time": "2022-06-10T17:00:49.486Z"
   },
   {
    "duration": 408,
    "start_time": "2022-06-10T17:00:57.211Z"
   },
   {
    "duration": 373,
    "start_time": "2022-06-10T17:01:11.057Z"
   },
   {
    "duration": 853,
    "start_time": "2022-06-10T17:01:21.559Z"
   },
   {
    "duration": 361,
    "start_time": "2022-06-10T17:02:47.887Z"
   },
   {
    "duration": 391,
    "start_time": "2022-06-10T17:03:16.485Z"
   },
   {
    "duration": 443,
    "start_time": "2022-06-10T17:03:31.318Z"
   },
   {
    "duration": 427,
    "start_time": "2022-06-10T17:03:39.560Z"
   },
   {
    "duration": 375,
    "start_time": "2022-06-10T17:03:58.581Z"
   },
   {
    "duration": 432,
    "start_time": "2022-06-10T17:04:02.902Z"
   },
   {
    "duration": 430,
    "start_time": "2022-06-10T17:04:08.302Z"
   },
   {
    "duration": 278,
    "start_time": "2022-06-10T17:05:36.415Z"
   },
   {
    "duration": 405,
    "start_time": "2022-06-10T17:06:35.874Z"
   },
   {
    "duration": 370,
    "start_time": "2022-06-10T17:07:26.280Z"
   },
   {
    "duration": 374,
    "start_time": "2022-06-10T17:07:52.142Z"
   },
   {
    "duration": 374,
    "start_time": "2022-06-10T17:08:24.079Z"
   },
   {
    "duration": 378,
    "start_time": "2022-06-10T17:08:42.401Z"
   },
   {
    "duration": 513,
    "start_time": "2022-06-10T17:09:57.821Z"
   },
   {
    "duration": 373,
    "start_time": "2022-06-10T17:10:25.001Z"
   },
   {
    "duration": 387,
    "start_time": "2022-06-10T17:19:40.913Z"
   },
   {
    "duration": 940,
    "start_time": "2022-06-10T17:20:10.405Z"
   },
   {
    "duration": 440,
    "start_time": "2022-06-10T17:20:46.974Z"
   },
   {
    "duration": 389,
    "start_time": "2022-06-10T17:20:59.423Z"
   },
   {
    "duration": 1083,
    "start_time": "2022-06-10T17:22:02.959Z"
   },
   {
    "duration": 506,
    "start_time": "2022-06-10T17:22:17.977Z"
   },
   {
    "duration": 356,
    "start_time": "2022-06-10T17:23:56.378Z"
   },
   {
    "duration": 538,
    "start_time": "2022-06-10T17:24:16.754Z"
   },
   {
    "duration": 439,
    "start_time": "2022-06-10T17:24:41.458Z"
   },
   {
    "duration": 409,
    "start_time": "2022-06-10T17:25:43.417Z"
   },
   {
    "duration": 434,
    "start_time": "2022-06-10T17:27:30.254Z"
   },
   {
    "duration": 1128,
    "start_time": "2022-06-10T17:29:31.132Z"
   },
   {
    "duration": 64,
    "start_time": "2022-06-10T17:29:32.262Z"
   },
   {
    "duration": 17,
    "start_time": "2022-06-10T17:29:32.328Z"
   },
   {
    "duration": 24,
    "start_time": "2022-06-10T17:29:32.347Z"
   },
   {
    "duration": 32,
    "start_time": "2022-06-10T17:29:32.373Z"
   },
   {
    "duration": 17,
    "start_time": "2022-06-10T17:29:32.406Z"
   },
   {
    "duration": 18,
    "start_time": "2022-06-10T17:29:32.424Z"
   },
   {
    "duration": 11,
    "start_time": "2022-06-10T17:29:32.443Z"
   },
   {
    "duration": 26,
    "start_time": "2022-06-10T17:29:32.456Z"
   },
   {
    "duration": 34,
    "start_time": "2022-06-10T17:29:32.489Z"
   },
   {
    "duration": 3,
    "start_time": "2022-06-10T17:29:32.525Z"
   },
   {
    "duration": 11,
    "start_time": "2022-06-10T17:29:32.530Z"
   },
   {
    "duration": 5,
    "start_time": "2022-06-10T17:29:32.542Z"
   },
   {
    "duration": 24,
    "start_time": "2022-06-10T17:29:32.548Z"
   },
   {
    "duration": 30,
    "start_time": "2022-06-10T17:29:32.573Z"
   },
   {
    "duration": 16,
    "start_time": "2022-06-10T17:29:32.604Z"
   },
   {
    "duration": 18,
    "start_time": "2022-06-10T17:29:32.622Z"
   },
   {
    "duration": 4,
    "start_time": "2022-06-10T17:29:32.642Z"
   },
   {
    "duration": 10,
    "start_time": "2022-06-10T17:29:32.660Z"
   },
   {
    "duration": 37,
    "start_time": "2022-06-10T17:29:32.672Z"
   },
   {
    "duration": 15,
    "start_time": "2022-06-10T17:29:32.710Z"
   },
   {
    "duration": 13,
    "start_time": "2022-06-10T17:29:32.727Z"
   },
   {
    "duration": 25,
    "start_time": "2022-06-10T17:29:32.742Z"
   },
   {
    "duration": 8,
    "start_time": "2022-06-10T17:29:32.771Z"
   },
   {
    "duration": 34,
    "start_time": "2022-06-10T17:29:32.786Z"
   },
   {
    "duration": 15,
    "start_time": "2022-06-10T17:29:32.822Z"
   },
   {
    "duration": 4,
    "start_time": "2022-06-10T17:29:32.839Z"
   },
   {
    "duration": 24,
    "start_time": "2022-06-10T17:29:32.847Z"
   },
   {
    "duration": 38,
    "start_time": "2022-06-10T17:29:32.875Z"
   },
   {
    "duration": 15,
    "start_time": "2022-06-10T17:29:32.915Z"
   },
   {
    "duration": 254,
    "start_time": "2022-06-10T17:29:32.932Z"
   },
   {
    "duration": 9,
    "start_time": "2022-06-10T17:29:33.195Z"
   },
   {
    "duration": 10,
    "start_time": "2022-06-10T17:29:33.205Z"
   },
   {
    "duration": 528,
    "start_time": "2022-06-10T17:29:33.216Z"
   },
   {
    "duration": 5,
    "start_time": "2022-06-10T17:29:33.745Z"
   },
   {
    "duration": 363,
    "start_time": "2022-06-10T17:29:33.752Z"
   },
   {
    "duration": 3,
    "start_time": "2022-06-10T17:29:34.117Z"
   },
   {
    "duration": 290,
    "start_time": "2022-06-10T17:29:34.121Z"
   },
   {
    "duration": 288,
    "start_time": "2022-06-10T17:29:34.413Z"
   },
   {
    "duration": 17,
    "start_time": "2022-06-10T17:29:34.703Z"
   },
   {
    "duration": 206,
    "start_time": "2022-06-10T17:29:34.722Z"
   },
   {
    "duration": 211,
    "start_time": "2022-06-10T17:29:34.930Z"
   },
   {
    "duration": 169,
    "start_time": "2022-06-10T17:29:35.143Z"
   },
   {
    "duration": 236,
    "start_time": "2022-06-10T17:29:35.314Z"
   },
   {
    "duration": 300,
    "start_time": "2022-06-10T17:29:35.552Z"
   },
   {
    "duration": 31,
    "start_time": "2022-06-10T17:29:35.854Z"
   },
   {
    "duration": 333,
    "start_time": "2022-06-10T17:29:35.888Z"
   },
   {
    "duration": 302,
    "start_time": "2022-06-10T17:29:36.223Z"
   },
   {
    "duration": 11,
    "start_time": "2022-06-10T17:29:36.526Z"
   },
   {
    "duration": 378,
    "start_time": "2022-06-10T17:29:36.538Z"
   },
   {
    "duration": 400,
    "start_time": "2022-06-10T17:29:36.917Z"
   },
   {
    "duration": 565,
    "start_time": "2022-06-10T17:29:37.319Z"
   },
   {
    "duration": 11,
    "start_time": "2022-06-10T17:29:37.892Z"
   },
   {
    "duration": 19,
    "start_time": "2022-06-10T17:29:37.904Z"
   },
   {
    "duration": 13,
    "start_time": "2022-06-10T17:32:39.975Z"
   },
   {
    "duration": 116,
    "start_time": "2022-06-10T17:33:48.495Z"
   },
   {
    "duration": 408,
    "start_time": "2022-06-10T17:35:45.990Z"
   },
   {
    "duration": 14,
    "start_time": "2022-06-10T17:36:19.892Z"
   },
   {
    "duration": 134,
    "start_time": "2022-06-10T17:38:03.974Z"
   },
   {
    "duration": 158,
    "start_time": "2022-06-10T17:39:09.231Z"
   },
   {
    "duration": 170,
    "start_time": "2022-06-10T17:39:18.224Z"
   },
   {
    "duration": 182,
    "start_time": "2022-06-10T17:39:23.447Z"
   },
   {
    "duration": 194,
    "start_time": "2022-06-10T17:39:40.536Z"
   },
   {
    "duration": 182,
    "start_time": "2022-06-10T17:39:57.184Z"
   },
   {
    "duration": 162,
    "start_time": "2022-06-10T17:41:34.711Z"
   },
   {
    "duration": 174,
    "start_time": "2022-06-10T17:45:50.027Z"
   },
   {
    "duration": 120,
    "start_time": "2022-06-10T17:45:58.996Z"
   },
   {
    "duration": 33,
    "start_time": "2022-06-10T17:48:36.289Z"
   },
   {
    "duration": 1498,
    "start_time": "2022-06-10T17:48:42.825Z"
   },
   {
    "duration": 14,
    "start_time": "2022-06-10T17:50:49.605Z"
   },
   {
    "duration": 16,
    "start_time": "2022-06-10T17:50:54.532Z"
   },
   {
    "duration": 1444,
    "start_time": "2022-06-10T17:51:03.679Z"
   },
   {
    "duration": 7,
    "start_time": "2022-06-10T17:54:32.787Z"
   },
   {
    "duration": 16,
    "start_time": "2022-06-10T17:56:04.404Z"
   },
   {
    "duration": 15,
    "start_time": "2022-06-10T17:56:35.587Z"
   },
   {
    "duration": 13,
    "start_time": "2022-06-10T17:56:45.894Z"
   },
   {
    "duration": 25,
    "start_time": "2022-06-10T17:57:01.596Z"
   },
   {
    "duration": 21,
    "start_time": "2022-06-10T17:57:08.321Z"
   },
   {
    "duration": 403,
    "start_time": "2022-06-10T17:57:12.197Z"
   },
   {
    "duration": 229,
    "start_time": "2022-06-10T17:57:38.897Z"
   },
   {
    "duration": 228,
    "start_time": "2022-06-10T17:57:47.662Z"
   },
   {
    "duration": 4,
    "start_time": "2022-06-10T17:59:08.050Z"
   },
   {
    "duration": 29,
    "start_time": "2022-06-10T17:59:10.817Z"
   },
   {
    "duration": 1027,
    "start_time": "2022-06-10T17:59:14.628Z"
   },
   {
    "duration": 1047,
    "start_time": "2022-06-10T17:59:34.554Z"
   },
   {
    "duration": 987,
    "start_time": "2022-06-10T18:00:02.931Z"
   },
   {
    "duration": 909,
    "start_time": "2022-06-10T18:01:33.435Z"
   },
   {
    "duration": 862,
    "start_time": "2022-06-10T18:02:29.554Z"
   },
   {
    "duration": 789,
    "start_time": "2022-06-10T18:02:55.154Z"
   },
   {
    "duration": 921,
    "start_time": "2022-06-10T18:03:58.138Z"
   },
   {
    "duration": 1074,
    "start_time": "2022-06-10T18:05:50.237Z"
   },
   {
    "duration": 1164,
    "start_time": "2022-06-10T18:06:15.728Z"
   },
   {
    "duration": 55,
    "start_time": "2022-06-10T18:06:16.898Z"
   },
   {
    "duration": 52,
    "start_time": "2022-06-10T18:06:16.955Z"
   },
   {
    "duration": 23,
    "start_time": "2022-06-10T18:06:17.011Z"
   },
   {
    "duration": 9,
    "start_time": "2022-06-10T18:06:17.036Z"
   },
   {
    "duration": 39,
    "start_time": "2022-06-10T18:06:17.047Z"
   },
   {
    "duration": 33,
    "start_time": "2022-06-10T18:06:17.089Z"
   },
   {
    "duration": 9,
    "start_time": "2022-06-10T18:06:17.123Z"
   },
   {
    "duration": 6,
    "start_time": "2022-06-10T18:06:17.134Z"
   },
   {
    "duration": 30,
    "start_time": "2022-06-10T18:06:17.142Z"
   },
   {
    "duration": 4,
    "start_time": "2022-06-10T18:06:17.173Z"
   },
   {
    "duration": 41,
    "start_time": "2022-06-10T18:06:17.178Z"
   },
   {
    "duration": 8,
    "start_time": "2022-06-10T18:06:17.221Z"
   },
   {
    "duration": 41,
    "start_time": "2022-06-10T18:06:17.231Z"
   },
   {
    "duration": 42,
    "start_time": "2022-06-10T18:06:17.279Z"
   },
   {
    "duration": 22,
    "start_time": "2022-06-10T18:06:17.323Z"
   },
   {
    "duration": 30,
    "start_time": "2022-06-10T18:06:17.347Z"
   },
   {
    "duration": 18,
    "start_time": "2022-06-10T18:06:17.378Z"
   },
   {
    "duration": 45,
    "start_time": "2022-06-10T18:06:17.398Z"
   },
   {
    "duration": 13,
    "start_time": "2022-06-10T18:06:17.445Z"
   },
   {
    "duration": 54,
    "start_time": "2022-06-10T18:06:17.464Z"
   },
   {
    "duration": 15,
    "start_time": "2022-06-10T18:06:17.520Z"
   },
   {
    "duration": 31,
    "start_time": "2022-06-10T18:06:17.537Z"
   },
   {
    "duration": 8,
    "start_time": "2022-06-10T18:06:17.575Z"
   },
   {
    "duration": 38,
    "start_time": "2022-06-10T18:06:17.584Z"
   },
   {
    "duration": 16,
    "start_time": "2022-06-10T18:06:17.624Z"
   },
   {
    "duration": 5,
    "start_time": "2022-06-10T18:06:17.641Z"
   },
   {
    "duration": 28,
    "start_time": "2022-06-10T18:06:17.649Z"
   },
   {
    "duration": 34,
    "start_time": "2022-06-10T18:06:17.679Z"
   },
   {
    "duration": 9,
    "start_time": "2022-06-10T18:06:17.714Z"
   },
   {
    "duration": 221,
    "start_time": "2022-06-10T18:06:17.725Z"
   },
   {
    "duration": 25,
    "start_time": "2022-06-10T18:06:17.948Z"
   },
   {
    "duration": 34,
    "start_time": "2022-06-10T18:06:17.974Z"
   },
   {
    "duration": 578,
    "start_time": "2022-06-10T18:06:18.009Z"
   },
   {
    "duration": 4,
    "start_time": "2022-06-10T18:06:18.591Z"
   },
   {
    "duration": 374,
    "start_time": "2022-06-10T18:06:18.597Z"
   },
   {
    "duration": 9,
    "start_time": "2022-06-10T18:06:18.980Z"
   },
   {
    "duration": 297,
    "start_time": "2022-06-10T18:06:18.992Z"
   },
   {
    "duration": 290,
    "start_time": "2022-06-10T18:06:19.291Z"
   },
   {
    "duration": 21,
    "start_time": "2022-06-10T18:06:19.591Z"
   },
   {
    "duration": 207,
    "start_time": "2022-06-10T18:06:19.614Z"
   },
   {
    "duration": 216,
    "start_time": "2022-06-10T18:06:19.824Z"
   },
   {
    "duration": 177,
    "start_time": "2022-06-10T18:06:20.041Z"
   },
   {
    "duration": 257,
    "start_time": "2022-06-10T18:06:20.219Z"
   },
   {
    "duration": 265,
    "start_time": "2022-06-10T18:06:20.479Z"
   },
   {
    "duration": 32,
    "start_time": "2022-06-10T18:06:20.745Z"
   },
   {
    "duration": 324,
    "start_time": "2022-06-10T18:06:20.781Z"
   },
   {
    "duration": 314,
    "start_time": "2022-06-10T18:06:21.107Z"
   },
   {
    "duration": 11,
    "start_time": "2022-06-10T18:06:21.423Z"
   },
   {
    "duration": 381,
    "start_time": "2022-06-10T18:06:21.436Z"
   },
   {
    "duration": 384,
    "start_time": "2022-06-10T18:06:21.819Z"
   },
   {
    "duration": 482,
    "start_time": "2022-06-10T18:06:22.204Z"
   },
   {
    "duration": 1708,
    "start_time": "2022-06-10T18:06:22.687Z"
   },
   {
    "duration": 17,
    "start_time": "2022-06-10T18:06:24.397Z"
   },
   {
    "duration": 61,
    "start_time": "2022-06-10T18:06:24.416Z"
   },
   {
    "duration": 538,
    "start_time": "2022-06-10T18:07:18.403Z"
   },
   {
    "duration": 538,
    "start_time": "2022-06-10T18:07:23.250Z"
   },
   {
    "duration": 677,
    "start_time": "2022-06-10T18:09:47.609Z"
   },
   {
    "duration": 533,
    "start_time": "2022-06-10T18:09:54.299Z"
   },
   {
    "duration": 526,
    "start_time": "2022-06-10T18:09:58.177Z"
   },
   {
    "duration": 355,
    "start_time": "2022-06-10T18:11:19.449Z"
   },
   {
    "duration": 288,
    "start_time": "2022-06-10T18:11:48.954Z"
   },
   {
    "duration": 316,
    "start_time": "2022-06-10T18:12:27.000Z"
   },
   {
    "duration": 352,
    "start_time": "2022-06-10T18:13:57.589Z"
   },
   {
    "duration": 237,
    "start_time": "2022-06-10T18:14:12.986Z"
   },
   {
    "duration": 240,
    "start_time": "2022-06-10T18:14:23.632Z"
   },
   {
    "duration": 214,
    "start_time": "2022-06-10T18:14:38.870Z"
   },
   {
    "duration": 195,
    "start_time": "2022-06-10T18:17:01.912Z"
   },
   {
    "duration": 169,
    "start_time": "2022-06-10T18:18:04.552Z"
   },
   {
    "duration": 154,
    "start_time": "2022-06-10T18:18:29.791Z"
   },
   {
    "duration": 151,
    "start_time": "2022-06-10T18:18:56.497Z"
   },
   {
    "duration": 158,
    "start_time": "2022-06-10T18:18:58.179Z"
   },
   {
    "duration": 312,
    "start_time": "2022-06-10T18:19:38.184Z"
   },
   {
    "duration": 301,
    "start_time": "2022-06-10T18:19:52.400Z"
   },
   {
    "duration": 514,
    "start_time": "2022-06-10T18:25:03.081Z"
   },
   {
    "duration": 344,
    "start_time": "2022-06-10T18:25:29.404Z"
   },
   {
    "duration": 392,
    "start_time": "2022-06-10T18:25:48.485Z"
   },
   {
    "duration": 1073,
    "start_time": "2022-06-10T18:26:36.373Z"
   },
   {
    "duration": 983,
    "start_time": "2022-06-10T18:26:51.346Z"
   },
   {
    "duration": 393,
    "start_time": "2022-06-10T18:27:03.500Z"
   },
   {
    "duration": 9,
    "start_time": "2022-06-10T18:32:29.645Z"
   },
   {
    "duration": 8,
    "start_time": "2022-06-10T18:32:56.187Z"
   },
   {
    "duration": 1095,
    "start_time": "2022-06-10T19:44:20.911Z"
   },
   {
    "duration": 58,
    "start_time": "2022-06-10T19:44:22.008Z"
   },
   {
    "duration": 23,
    "start_time": "2022-06-10T19:44:22.077Z"
   },
   {
    "duration": 13,
    "start_time": "2022-06-10T19:44:22.102Z"
   },
   {
    "duration": 8,
    "start_time": "2022-06-10T19:44:22.116Z"
   },
   {
    "duration": 13,
    "start_time": "2022-06-10T19:44:22.126Z"
   },
   {
    "duration": 34,
    "start_time": "2022-06-10T19:44:22.140Z"
   },
   {
    "duration": 16,
    "start_time": "2022-06-10T19:44:22.177Z"
   },
   {
    "duration": 6,
    "start_time": "2022-06-10T19:44:22.195Z"
   },
   {
    "duration": 17,
    "start_time": "2022-06-10T19:44:22.203Z"
   },
   {
    "duration": 2,
    "start_time": "2022-06-10T19:44:22.222Z"
   },
   {
    "duration": 6,
    "start_time": "2022-06-10T19:44:22.226Z"
   },
   {
    "duration": 7,
    "start_time": "2022-06-10T19:44:22.233Z"
   },
   {
    "duration": 26,
    "start_time": "2022-06-10T19:44:22.242Z"
   },
   {
    "duration": 19,
    "start_time": "2022-06-10T19:44:22.270Z"
   },
   {
    "duration": 17,
    "start_time": "2022-06-10T19:44:22.291Z"
   },
   {
    "duration": 20,
    "start_time": "2022-06-10T19:44:22.310Z"
   },
   {
    "duration": 4,
    "start_time": "2022-06-10T19:44:22.331Z"
   },
   {
    "duration": 33,
    "start_time": "2022-06-10T19:44:22.337Z"
   },
   {
    "duration": 15,
    "start_time": "2022-06-10T19:44:22.377Z"
   },
   {
    "duration": 10,
    "start_time": "2022-06-10T19:44:22.393Z"
   },
   {
    "duration": 21,
    "start_time": "2022-06-10T19:44:22.405Z"
   },
   {
    "duration": 21,
    "start_time": "2022-06-10T19:44:22.428Z"
   },
   {
    "duration": 4,
    "start_time": "2022-06-10T19:44:22.450Z"
   },
   {
    "duration": 32,
    "start_time": "2022-06-10T19:44:22.456Z"
   },
   {
    "duration": 15,
    "start_time": "2022-06-10T19:44:22.490Z"
   },
   {
    "duration": 6,
    "start_time": "2022-06-10T19:44:22.506Z"
   },
   {
    "duration": 16,
    "start_time": "2022-06-10T19:44:22.515Z"
   },
   {
    "duration": 16,
    "start_time": "2022-06-10T19:44:22.533Z"
   },
   {
    "duration": 13,
    "start_time": "2022-06-10T19:44:22.551Z"
   },
   {
    "duration": 238,
    "start_time": "2022-06-10T19:44:22.570Z"
   },
   {
    "duration": 8,
    "start_time": "2022-06-10T19:44:22.809Z"
   },
   {
    "duration": 8,
    "start_time": "2022-06-10T19:44:22.819Z"
   },
   {
    "duration": 628,
    "start_time": "2022-06-10T19:44:22.828Z"
   },
   {
    "duration": 4,
    "start_time": "2022-06-10T19:44:23.458Z"
   },
   {
    "duration": 400,
    "start_time": "2022-06-10T19:44:23.464Z"
   },
   {
    "duration": 3,
    "start_time": "2022-06-10T19:44:23.865Z"
   },
   {
    "duration": 286,
    "start_time": "2022-06-10T19:44:23.869Z"
   },
   {
    "duration": 286,
    "start_time": "2022-06-10T19:44:24.156Z"
   },
   {
    "duration": 32,
    "start_time": "2022-06-10T19:44:24.444Z"
   },
   {
    "duration": 215,
    "start_time": "2022-06-10T19:44:24.477Z"
   },
   {
    "duration": 226,
    "start_time": "2022-06-10T19:44:24.693Z"
   },
   {
    "duration": 182,
    "start_time": "2022-06-10T19:44:24.920Z"
   },
   {
    "duration": 264,
    "start_time": "2022-06-10T19:44:25.104Z"
   },
   {
    "duration": 275,
    "start_time": "2022-06-10T19:44:25.372Z"
   },
   {
    "duration": 38,
    "start_time": "2022-06-10T19:44:25.649Z"
   },
   {
    "duration": 317,
    "start_time": "2022-06-10T19:44:25.688Z"
   },
   {
    "duration": 311,
    "start_time": "2022-06-10T19:44:26.007Z"
   },
   {
    "duration": 11,
    "start_time": "2022-06-10T19:44:26.320Z"
   },
   {
    "duration": 388,
    "start_time": "2022-06-10T19:44:26.333Z"
   },
   {
    "duration": 403,
    "start_time": "2022-06-10T19:44:26.723Z"
   },
   {
    "duration": 563,
    "start_time": "2022-06-10T19:44:27.128Z"
   },
   {
    "duration": 379,
    "start_time": "2022-06-10T19:44:27.693Z"
   },
   {
    "duration": 848,
    "start_time": "2022-06-10T19:44:28.073Z"
   },
   {
    "duration": 8,
    "start_time": "2022-06-10T19:44:28.922Z"
   },
   {
    "duration": 12,
    "start_time": "2022-06-10T19:44:28.933Z"
   },
   {
    "duration": 46,
    "start_time": "2022-06-11T14:10:06.629Z"
   },
   {
    "duration": 1011,
    "start_time": "2022-06-11T14:13:19.934Z"
   },
   {
    "duration": 48,
    "start_time": "2022-06-11T14:13:20.947Z"
   },
   {
    "duration": 17,
    "start_time": "2022-06-11T14:13:20.997Z"
   },
   {
    "duration": 13,
    "start_time": "2022-06-11T14:13:21.016Z"
   },
   {
    "duration": 10,
    "start_time": "2022-06-11T14:13:21.031Z"
   },
   {
    "duration": 22,
    "start_time": "2022-06-11T14:13:21.042Z"
   },
   {
    "duration": 14,
    "start_time": "2022-06-11T14:13:21.066Z"
   },
   {
    "duration": 6,
    "start_time": "2022-06-11T14:13:21.081Z"
   },
   {
    "duration": 6,
    "start_time": "2022-06-11T14:13:21.089Z"
   },
   {
    "duration": 21,
    "start_time": "2022-06-11T14:13:21.096Z"
   },
   {
    "duration": 3,
    "start_time": "2022-06-11T14:13:21.119Z"
   },
   {
    "duration": 6,
    "start_time": "2022-06-11T14:13:21.123Z"
   },
   {
    "duration": 29,
    "start_time": "2022-06-11T14:13:21.130Z"
   },
   {
    "duration": 16,
    "start_time": "2022-06-11T14:13:21.162Z"
   },
   {
    "duration": 14,
    "start_time": "2022-06-11T14:13:21.180Z"
   },
   {
    "duration": 14,
    "start_time": "2022-06-11T14:13:21.195Z"
   },
   {
    "duration": 18,
    "start_time": "2022-06-11T14:13:21.211Z"
   },
   {
    "duration": 4,
    "start_time": "2022-06-11T14:13:21.259Z"
   },
   {
    "duration": 11,
    "start_time": "2022-06-11T14:13:21.264Z"
   },
   {
    "duration": 6,
    "start_time": "2022-06-11T14:13:21.277Z"
   },
   {
    "duration": 8,
    "start_time": "2022-06-11T14:13:21.284Z"
   },
   {
    "duration": 13,
    "start_time": "2022-06-11T14:13:21.294Z"
   },
   {
    "duration": 17,
    "start_time": "2022-06-11T14:13:21.308Z"
   },
   {
    "duration": 3,
    "start_time": "2022-06-11T14:13:21.327Z"
   },
   {
    "duration": 30,
    "start_time": "2022-06-11T14:13:21.332Z"
   },
   {
    "duration": 15,
    "start_time": "2022-06-11T14:13:21.364Z"
   },
   {
    "duration": 4,
    "start_time": "2022-06-11T14:13:21.380Z"
   },
   {
    "duration": 17,
    "start_time": "2022-06-11T14:13:21.385Z"
   },
   {
    "duration": 14,
    "start_time": "2022-06-11T14:13:21.403Z"
   },
   {
    "duration": 8,
    "start_time": "2022-06-11T14:13:21.419Z"
   },
   {
    "duration": 233,
    "start_time": "2022-06-11T14:13:21.428Z"
   },
   {
    "duration": 8,
    "start_time": "2022-06-11T14:13:21.662Z"
   },
   {
    "duration": 10,
    "start_time": "2022-06-11T14:13:21.671Z"
   },
   {
    "duration": 479,
    "start_time": "2022-06-11T14:13:21.682Z"
   },
   {
    "duration": 4,
    "start_time": "2022-06-11T14:13:22.162Z"
   },
   {
    "duration": 310,
    "start_time": "2022-06-11T14:13:22.167Z"
   },
   {
    "duration": 3,
    "start_time": "2022-06-11T14:13:22.478Z"
   },
   {
    "duration": 273,
    "start_time": "2022-06-11T14:13:22.483Z"
   },
   {
    "duration": 292,
    "start_time": "2022-06-11T14:13:22.758Z"
   },
   {
    "duration": 22,
    "start_time": "2022-06-11T14:13:23.052Z"
   },
   {
    "duration": 201,
    "start_time": "2022-06-11T14:13:23.077Z"
   },
   {
    "duration": 197,
    "start_time": "2022-06-11T14:13:23.280Z"
   },
   {
    "duration": 163,
    "start_time": "2022-06-11T14:13:23.479Z"
   },
   {
    "duration": 232,
    "start_time": "2022-06-11T14:13:23.644Z"
   },
   {
    "duration": 256,
    "start_time": "2022-06-11T14:13:23.877Z"
   },
   {
    "duration": 28,
    "start_time": "2022-06-11T14:13:24.135Z"
   },
   {
    "duration": 269,
    "start_time": "2022-06-11T14:13:24.165Z"
   },
   {
    "duration": 288,
    "start_time": "2022-06-11T14:13:24.436Z"
   },
   {
    "duration": 11,
    "start_time": "2022-06-11T14:13:24.725Z"
   },
   {
    "duration": 337,
    "start_time": "2022-06-11T14:13:24.738Z"
   },
   {
    "duration": 372,
    "start_time": "2022-06-11T14:13:25.076Z"
   },
   {
    "duration": 445,
    "start_time": "2022-06-11T14:13:25.450Z"
   },
   {
    "duration": 360,
    "start_time": "2022-06-11T14:13:25.897Z"
   },
   {
    "duration": 872,
    "start_time": "2022-06-11T14:13:26.259Z"
   },
   {
    "duration": 8,
    "start_time": "2022-06-11T14:13:27.133Z"
   },
   {
    "duration": 19,
    "start_time": "2022-06-11T14:13:27.142Z"
   },
   {
    "duration": 6,
    "start_time": "2022-06-11T14:13:27.163Z"
   },
   {
    "duration": 20,
    "start_time": "2022-06-11T14:14:13.411Z"
   },
   {
    "duration": 62,
    "start_time": "2022-06-11T15:57:19.130Z"
   },
   {
    "duration": 1411,
    "start_time": "2022-06-11T15:57:26.368Z"
   },
   {
    "duration": 94,
    "start_time": "2022-06-11T15:57:27.782Z"
   },
   {
    "duration": 30,
    "start_time": "2022-06-11T15:57:27.878Z"
   },
   {
    "duration": 17,
    "start_time": "2022-06-11T15:57:27.911Z"
   },
   {
    "duration": 11,
    "start_time": "2022-06-11T15:57:27.929Z"
   },
   {
    "duration": 16,
    "start_time": "2022-06-11T15:57:27.941Z"
   },
   {
    "duration": 19,
    "start_time": "2022-06-11T15:57:27.959Z"
   },
   {
    "duration": 22,
    "start_time": "2022-06-11T15:57:27.980Z"
   },
   {
    "duration": 18,
    "start_time": "2022-06-11T15:57:28.004Z"
   },
   {
    "duration": 31,
    "start_time": "2022-06-11T15:57:28.025Z"
   },
   {
    "duration": 4,
    "start_time": "2022-06-11T15:57:28.058Z"
   },
   {
    "duration": 10,
    "start_time": "2022-06-11T15:57:28.064Z"
   },
   {
    "duration": 24,
    "start_time": "2022-06-11T15:57:28.076Z"
   },
   {
    "duration": 27,
    "start_time": "2022-06-11T15:57:28.103Z"
   },
   {
    "duration": 16,
    "start_time": "2022-06-11T15:57:28.132Z"
   },
   {
    "duration": 16,
    "start_time": "2022-06-11T15:57:28.150Z"
   },
   {
    "duration": 43,
    "start_time": "2022-06-11T15:57:28.168Z"
   },
   {
    "duration": 8,
    "start_time": "2022-06-11T15:57:28.213Z"
   },
   {
    "duration": 12,
    "start_time": "2022-06-11T15:57:28.223Z"
   },
   {
    "duration": 7,
    "start_time": "2022-06-11T15:57:28.236Z"
   },
   {
    "duration": 9,
    "start_time": "2022-06-11T15:57:28.245Z"
   },
   {
    "duration": 15,
    "start_time": "2022-06-11T15:57:28.255Z"
   },
   {
    "duration": 42,
    "start_time": "2022-06-11T15:57:28.272Z"
   },
   {
    "duration": 5,
    "start_time": "2022-06-11T15:57:28.315Z"
   },
   {
    "duration": 11,
    "start_time": "2022-06-11T15:57:28.321Z"
   },
   {
    "duration": 18,
    "start_time": "2022-06-11T15:57:28.334Z"
   },
   {
    "duration": 5,
    "start_time": "2022-06-11T15:57:28.354Z"
   },
   {
    "duration": 42,
    "start_time": "2022-06-11T15:57:28.363Z"
   },
   {
    "duration": 17,
    "start_time": "2022-06-11T15:57:28.412Z"
   },
   {
    "duration": 10,
    "start_time": "2022-06-11T15:57:28.432Z"
   },
   {
    "duration": 236,
    "start_time": "2022-06-11T15:57:28.444Z"
   },
   {
    "duration": 28,
    "start_time": "2022-06-11T15:57:28.682Z"
   },
   {
    "duration": 7,
    "start_time": "2022-06-11T15:57:28.712Z"
   },
   {
    "duration": 672,
    "start_time": "2022-06-11T15:57:28.721Z"
   },
   {
    "duration": 7,
    "start_time": "2022-06-11T15:57:29.396Z"
   },
   {
    "duration": 365,
    "start_time": "2022-06-11T15:57:29.408Z"
   },
   {
    "duration": 3,
    "start_time": "2022-06-11T15:57:29.775Z"
   },
   {
    "duration": 306,
    "start_time": "2022-06-11T15:57:29.780Z"
   },
   {
    "duration": 293,
    "start_time": "2022-06-11T15:57:30.097Z"
   },
   {
    "duration": 18,
    "start_time": "2022-06-11T15:57:30.399Z"
   },
   {
    "duration": 224,
    "start_time": "2022-06-11T15:57:30.419Z"
   },
   {
    "duration": 263,
    "start_time": "2022-06-11T15:57:30.645Z"
   },
   {
    "duration": 179,
    "start_time": "2022-06-11T15:57:30.910Z"
   },
   {
    "duration": 303,
    "start_time": "2022-06-11T15:57:31.091Z"
   },
   {
    "duration": 356,
    "start_time": "2022-06-11T15:57:31.398Z"
   },
   {
    "duration": 19,
    "start_time": "2022-06-11T15:57:31.756Z"
   },
   {
    "duration": 365,
    "start_time": "2022-06-11T15:57:31.777Z"
   },
   {
    "duration": 320,
    "start_time": "2022-06-11T15:57:32.144Z"
   },
   {
    "duration": 12,
    "start_time": "2022-06-11T15:57:32.467Z"
   },
   {
    "duration": 389,
    "start_time": "2022-06-11T15:57:32.494Z"
   },
   {
    "duration": 405,
    "start_time": "2022-06-11T15:57:32.884Z"
   },
   {
    "duration": 474,
    "start_time": "2022-06-11T15:57:33.300Z"
   },
   {
    "duration": 397,
    "start_time": "2022-06-11T15:57:33.776Z"
   },
   {
    "duration": 395,
    "start_time": "2022-06-11T15:57:34.174Z"
   },
   {
    "duration": 928,
    "start_time": "2022-06-11T15:57:34.571Z"
   },
   {
    "duration": 12,
    "start_time": "2022-06-11T15:57:35.504Z"
   },
   {
    "duration": 24,
    "start_time": "2022-06-11T15:57:35.518Z"
   },
   {
    "duration": 13,
    "start_time": "2022-06-11T15:57:35.544Z"
   },
   {
    "duration": 401,
    "start_time": "2022-06-11T15:58:18.351Z"
   },
   {
    "duration": 478,
    "start_time": "2022-06-11T15:59:44.409Z"
   },
   {
    "duration": 424,
    "start_time": "2022-06-11T16:00:06.112Z"
   },
   {
    "duration": 453,
    "start_time": "2022-06-11T16:00:18.508Z"
   },
   {
    "duration": 21,
    "start_time": "2022-06-11T16:27:37.113Z"
   },
   {
    "duration": 1133,
    "start_time": "2022-06-11T17:24:23.272Z"
   },
   {
    "duration": 53,
    "start_time": "2022-06-11T17:24:24.407Z"
   },
   {
    "duration": 28,
    "start_time": "2022-06-11T17:24:24.461Z"
   },
   {
    "duration": 21,
    "start_time": "2022-06-11T17:24:24.491Z"
   },
   {
    "duration": 13,
    "start_time": "2022-06-11T17:24:24.516Z"
   },
   {
    "duration": 42,
    "start_time": "2022-06-11T17:24:24.531Z"
   },
   {
    "duration": 21,
    "start_time": "2022-06-11T17:24:24.575Z"
   },
   {
    "duration": 22,
    "start_time": "2022-06-11T17:24:24.599Z"
   },
   {
    "duration": 10,
    "start_time": "2022-06-11T17:24:24.623Z"
   },
   {
    "duration": 39,
    "start_time": "2022-06-11T17:24:24.635Z"
   },
   {
    "duration": 4,
    "start_time": "2022-06-11T17:24:24.676Z"
   },
   {
    "duration": 13,
    "start_time": "2022-06-11T17:24:24.682Z"
   },
   {
    "duration": 8,
    "start_time": "2022-06-11T17:24:24.698Z"
   },
   {
    "duration": 24,
    "start_time": "2022-06-11T17:24:24.709Z"
   },
   {
    "duration": 40,
    "start_time": "2022-06-11T17:24:24.735Z"
   },
   {
    "duration": 24,
    "start_time": "2022-06-11T17:24:24.779Z"
   },
   {
    "duration": 27,
    "start_time": "2022-06-11T17:24:24.805Z"
   },
   {
    "duration": 5,
    "start_time": "2022-06-11T17:24:24.834Z"
   },
   {
    "duration": 19,
    "start_time": "2022-06-11T17:24:24.841Z"
   },
   {
    "duration": 8,
    "start_time": "2022-06-11T17:24:24.862Z"
   },
   {
    "duration": 10,
    "start_time": "2022-06-11T17:24:24.871Z"
   },
   {
    "duration": 13,
    "start_time": "2022-06-11T17:24:24.883Z"
   },
   {
    "duration": 38,
    "start_time": "2022-06-11T17:24:24.898Z"
   },
   {
    "duration": 23,
    "start_time": "2022-06-11T17:24:24.938Z"
   },
   {
    "duration": 14,
    "start_time": "2022-06-11T17:24:24.963Z"
   },
   {
    "duration": 26,
    "start_time": "2022-06-11T17:24:24.980Z"
   },
   {
    "duration": 6,
    "start_time": "2022-06-11T17:24:25.008Z"
   },
   {
    "duration": 46,
    "start_time": "2022-06-11T17:24:25.016Z"
   },
   {
    "duration": 21,
    "start_time": "2022-06-11T17:24:25.064Z"
   },
   {
    "duration": 12,
    "start_time": "2022-06-11T17:24:25.087Z"
   },
   {
    "duration": 304,
    "start_time": "2022-06-11T17:24:25.101Z"
   },
   {
    "duration": 8,
    "start_time": "2022-06-11T17:24:25.406Z"
   },
   {
    "duration": 10,
    "start_time": "2022-06-11T17:24:25.416Z"
   },
   {
    "duration": 604,
    "start_time": "2022-06-11T17:24:25.428Z"
   },
   {
    "duration": 5,
    "start_time": "2022-06-11T17:24:26.034Z"
   },
   {
    "duration": 345,
    "start_time": "2022-06-11T17:24:26.040Z"
   },
   {
    "duration": 3,
    "start_time": "2022-06-11T17:24:26.387Z"
   },
   {
    "duration": 284,
    "start_time": "2022-06-11T17:24:26.392Z"
   },
   {
    "duration": 276,
    "start_time": "2022-06-11T17:24:26.678Z"
   },
   {
    "duration": 18,
    "start_time": "2022-06-11T17:24:26.959Z"
   },
   {
    "duration": 224,
    "start_time": "2022-06-11T17:24:26.982Z"
   },
   {
    "duration": 239,
    "start_time": "2022-06-11T17:24:27.208Z"
   },
   {
    "duration": 165,
    "start_time": "2022-06-11T17:24:27.448Z"
   },
   {
    "duration": 247,
    "start_time": "2022-06-11T17:24:27.614Z"
   },
   {
    "duration": 266,
    "start_time": "2022-06-11T17:24:27.862Z"
   },
   {
    "duration": 30,
    "start_time": "2022-06-11T17:24:28.130Z"
   },
   {
    "duration": 283,
    "start_time": "2022-06-11T17:24:28.161Z"
   },
   {
    "duration": 289,
    "start_time": "2022-06-11T17:24:28.445Z"
   },
   {
    "duration": 12,
    "start_time": "2022-06-11T17:24:28.735Z"
   },
   {
    "duration": 337,
    "start_time": "2022-06-11T17:24:28.759Z"
   },
   {
    "duration": 381,
    "start_time": "2022-06-11T17:24:29.098Z"
   },
   {
    "duration": 471,
    "start_time": "2022-06-11T17:24:29.481Z"
   },
   {
    "duration": 365,
    "start_time": "2022-06-11T17:24:29.954Z"
   },
   {
    "duration": 384,
    "start_time": "2022-06-11T17:24:30.322Z"
   },
   {
    "duration": 387,
    "start_time": "2022-06-11T17:24:30.708Z"
   },
   {
    "duration": 849,
    "start_time": "2022-06-11T17:24:31.096Z"
   },
   {
    "duration": 15,
    "start_time": "2022-06-11T17:24:31.947Z"
   },
   {
    "duration": 34,
    "start_time": "2022-06-11T17:24:31.964Z"
   },
   {
    "duration": 12,
    "start_time": "2022-06-11T17:24:32.000Z"
   }
  ],
  "kernelspec": {
   "display_name": "Python 3 (ipykernel)",
   "language": "python",
   "name": "python3"
  },
  "language_info": {
   "codemirror_mode": {
    "name": "ipython",
    "version": 3
   },
   "file_extension": ".py",
   "mimetype": "text/x-python",
   "name": "python",
   "nbconvert_exporter": "python",
   "pygments_lexer": "ipython3",
   "version": "3.9.12"
  },
  "toc": {
   "base_numbering": "1",
   "nav_menu": {},
   "number_sections": true,
   "sideBar": true,
   "skip_h1_title": false,
   "title_cell": "Table of Contents",
   "title_sidebar": "Contents",
   "toc_cell": true,
   "toc_position": {
    "height": "calc(100% - 180px)",
    "left": "10px",
    "top": "150px",
    "width": "165px"
   },
   "toc_section_display": true,
   "toc_window_display": true
  }
 },
 "nbformat": 4,
 "nbformat_minor": 5
}
