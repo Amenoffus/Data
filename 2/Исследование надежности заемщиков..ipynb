{
 "cells": [
  {
   "cell_type": "markdown",
   "id": "724c0ef4",
   "metadata": {},
   "source": [
    "# Исследование надежности заемщиков."
   ]
  },
  {
   "cell_type": "markdown",
   "id": "9d912481",
   "metadata": {},
   "source": [
    "Проверить как семейное положение и количество детей клиента влияет на факт погашения кредита в срок."
   ]
  },
  {
   "cell_type": "markdown",
   "id": "2d403b6f",
   "metadata": {},
   "source": [
    "## Обзор данных"
   ]
  },
  {
   "cell_type": "code",
   "execution_count": 1,
   "id": "77e7037e",
   "metadata": {},
   "outputs": [],
   "source": [
    "# импорт библиотек pandas и seaborn\n",
    "\n",
    "import pandas as pd \n",
    "import seaborn as sns "
   ]
  },
  {
   "cell_type": "code",
   "execution_count": 2,
   "id": "f9db525a",
   "metadata": {},
   "outputs": [
    {
     "data": {
      "text/html": [
       "<div>\n",
       "<style scoped>\n",
       "    .dataframe tbody tr th:only-of-type {\n",
       "        vertical-align: middle;\n",
       "    }\n",
       "\n",
       "    .dataframe tbody tr th {\n",
       "        vertical-align: top;\n",
       "    }\n",
       "\n",
       "    .dataframe thead th {\n",
       "        text-align: right;\n",
       "    }\n",
       "</style>\n",
       "<table border=\"1\" class=\"dataframe\">\n",
       "  <thead>\n",
       "    <tr style=\"text-align: right;\">\n",
       "      <th></th>\n",
       "      <th>children</th>\n",
       "      <th>days_employed</th>\n",
       "      <th>dob_years</th>\n",
       "      <th>education</th>\n",
       "      <th>education_id</th>\n",
       "      <th>family_status</th>\n",
       "      <th>family_status_id</th>\n",
       "      <th>gender</th>\n",
       "      <th>income_type</th>\n",
       "      <th>debt</th>\n",
       "      <th>total_income</th>\n",
       "      <th>purpose</th>\n",
       "    </tr>\n",
       "  </thead>\n",
       "  <tbody>\n",
       "    <tr>\n",
       "      <th>0</th>\n",
       "      <td>1</td>\n",
       "      <td>-8437.673028</td>\n",
       "      <td>42</td>\n",
       "      <td>высшее</td>\n",
       "      <td>0</td>\n",
       "      <td>женат / замужем</td>\n",
       "      <td>0</td>\n",
       "      <td>F</td>\n",
       "      <td>сотрудник</td>\n",
       "      <td>0</td>\n",
       "      <td>253875.639453</td>\n",
       "      <td>покупка жилья</td>\n",
       "    </tr>\n",
       "    <tr>\n",
       "      <th>1</th>\n",
       "      <td>1</td>\n",
       "      <td>-4024.803754</td>\n",
       "      <td>36</td>\n",
       "      <td>среднее</td>\n",
       "      <td>1</td>\n",
       "      <td>женат / замужем</td>\n",
       "      <td>0</td>\n",
       "      <td>F</td>\n",
       "      <td>сотрудник</td>\n",
       "      <td>0</td>\n",
       "      <td>112080.014102</td>\n",
       "      <td>приобретение автомобиля</td>\n",
       "    </tr>\n",
       "    <tr>\n",
       "      <th>2</th>\n",
       "      <td>0</td>\n",
       "      <td>-5623.422610</td>\n",
       "      <td>33</td>\n",
       "      <td>Среднее</td>\n",
       "      <td>1</td>\n",
       "      <td>женат / замужем</td>\n",
       "      <td>0</td>\n",
       "      <td>M</td>\n",
       "      <td>сотрудник</td>\n",
       "      <td>0</td>\n",
       "      <td>145885.952297</td>\n",
       "      <td>покупка жилья</td>\n",
       "    </tr>\n",
       "    <tr>\n",
       "      <th>3</th>\n",
       "      <td>3</td>\n",
       "      <td>-4124.747207</td>\n",
       "      <td>32</td>\n",
       "      <td>среднее</td>\n",
       "      <td>1</td>\n",
       "      <td>женат / замужем</td>\n",
       "      <td>0</td>\n",
       "      <td>M</td>\n",
       "      <td>сотрудник</td>\n",
       "      <td>0</td>\n",
       "      <td>267628.550329</td>\n",
       "      <td>дополнительное образование</td>\n",
       "    </tr>\n",
       "    <tr>\n",
       "      <th>4</th>\n",
       "      <td>0</td>\n",
       "      <td>340266.072047</td>\n",
       "      <td>53</td>\n",
       "      <td>среднее</td>\n",
       "      <td>1</td>\n",
       "      <td>гражданский брак</td>\n",
       "      <td>1</td>\n",
       "      <td>F</td>\n",
       "      <td>пенсионер</td>\n",
       "      <td>0</td>\n",
       "      <td>158616.077870</td>\n",
       "      <td>сыграть свадьбу</td>\n",
       "    </tr>\n",
       "    <tr>\n",
       "      <th>5</th>\n",
       "      <td>0</td>\n",
       "      <td>-926.185831</td>\n",
       "      <td>27</td>\n",
       "      <td>высшее</td>\n",
       "      <td>0</td>\n",
       "      <td>гражданский брак</td>\n",
       "      <td>1</td>\n",
       "      <td>M</td>\n",
       "      <td>компаньон</td>\n",
       "      <td>0</td>\n",
       "      <td>255763.565419</td>\n",
       "      <td>покупка жилья</td>\n",
       "    </tr>\n",
       "    <tr>\n",
       "      <th>6</th>\n",
       "      <td>0</td>\n",
       "      <td>-2879.202052</td>\n",
       "      <td>43</td>\n",
       "      <td>высшее</td>\n",
       "      <td>0</td>\n",
       "      <td>женат / замужем</td>\n",
       "      <td>0</td>\n",
       "      <td>F</td>\n",
       "      <td>компаньон</td>\n",
       "      <td>0</td>\n",
       "      <td>240525.971920</td>\n",
       "      <td>операции с жильем</td>\n",
       "    </tr>\n",
       "    <tr>\n",
       "      <th>7</th>\n",
       "      <td>0</td>\n",
       "      <td>-152.779569</td>\n",
       "      <td>50</td>\n",
       "      <td>СРЕДНЕЕ</td>\n",
       "      <td>1</td>\n",
       "      <td>женат / замужем</td>\n",
       "      <td>0</td>\n",
       "      <td>M</td>\n",
       "      <td>сотрудник</td>\n",
       "      <td>0</td>\n",
       "      <td>135823.934197</td>\n",
       "      <td>образование</td>\n",
       "    </tr>\n",
       "    <tr>\n",
       "      <th>8</th>\n",
       "      <td>2</td>\n",
       "      <td>-6929.865299</td>\n",
       "      <td>35</td>\n",
       "      <td>ВЫСШЕЕ</td>\n",
       "      <td>0</td>\n",
       "      <td>гражданский брак</td>\n",
       "      <td>1</td>\n",
       "      <td>F</td>\n",
       "      <td>сотрудник</td>\n",
       "      <td>0</td>\n",
       "      <td>95856.832424</td>\n",
       "      <td>на проведение свадьбы</td>\n",
       "    </tr>\n",
       "    <tr>\n",
       "      <th>9</th>\n",
       "      <td>0</td>\n",
       "      <td>-2188.756445</td>\n",
       "      <td>41</td>\n",
       "      <td>среднее</td>\n",
       "      <td>1</td>\n",
       "      <td>женат / замужем</td>\n",
       "      <td>0</td>\n",
       "      <td>M</td>\n",
       "      <td>сотрудник</td>\n",
       "      <td>0</td>\n",
       "      <td>144425.938277</td>\n",
       "      <td>покупка жилья для семьи</td>\n",
       "    </tr>\n",
       "  </tbody>\n",
       "</table>\n",
       "</div>"
      ],
      "text/plain": [
       "   children  days_employed  dob_years education  education_id  \\\n",
       "0         1   -8437.673028         42    высшее             0   \n",
       "1         1   -4024.803754         36   среднее             1   \n",
       "2         0   -5623.422610         33   Среднее             1   \n",
       "3         3   -4124.747207         32   среднее             1   \n",
       "4         0  340266.072047         53   среднее             1   \n",
       "5         0    -926.185831         27    высшее             0   \n",
       "6         0   -2879.202052         43    высшее             0   \n",
       "7         0    -152.779569         50   СРЕДНЕЕ             1   \n",
       "8         2   -6929.865299         35    ВЫСШЕЕ             0   \n",
       "9         0   -2188.756445         41   среднее             1   \n",
       "\n",
       "      family_status  family_status_id gender income_type  debt   total_income  \\\n",
       "0   женат / замужем                 0      F   сотрудник     0  253875.639453   \n",
       "1   женат / замужем                 0      F   сотрудник     0  112080.014102   \n",
       "2   женат / замужем                 0      M   сотрудник     0  145885.952297   \n",
       "3   женат / замужем                 0      M   сотрудник     0  267628.550329   \n",
       "4  гражданский брак                 1      F   пенсионер     0  158616.077870   \n",
       "5  гражданский брак                 1      M   компаньон     0  255763.565419   \n",
       "6   женат / замужем                 0      F   компаньон     0  240525.971920   \n",
       "7   женат / замужем                 0      M   сотрудник     0  135823.934197   \n",
       "8  гражданский брак                 1      F   сотрудник     0   95856.832424   \n",
       "9   женат / замужем                 0      M   сотрудник     0  144425.938277   \n",
       "\n",
       "                      purpose  \n",
       "0               покупка жилья  \n",
       "1     приобретение автомобиля  \n",
       "2               покупка жилья  \n",
       "3  дополнительное образование  \n",
       "4             сыграть свадьбу  \n",
       "5               покупка жилья  \n",
       "6           операции с жильем  \n",
       "7                 образование  \n",
       "8       на проведение свадьбы  \n",
       "9     покупка жилья для семьи  "
      ]
     },
     "execution_count": 2,
     "metadata": {},
     "output_type": "execute_result"
    }
   ],
   "source": [
    "# чтение файла с данными и сохранение в df\n",
    "\n",
    "df = pd.read_csv('/datasets/data.csv') \n",
    "\n",
    "df.head(10)"
   ]
  },
  {
   "cell_type": "code",
   "execution_count": 3,
   "id": "4af6171e",
   "metadata": {},
   "outputs": [
    {
     "name": "stdout",
     "output_type": "stream",
     "text": [
      "<class 'pandas.core.frame.DataFrame'>\n",
      "RangeIndex: 21525 entries, 0 to 21524\n",
      "Data columns (total 12 columns):\n",
      " #   Column            Non-Null Count  Dtype  \n",
      "---  ------            --------------  -----  \n",
      " 0   children          21525 non-null  int64  \n",
      " 1   days_employed     19351 non-null  float64\n",
      " 2   dob_years         21525 non-null  int64  \n",
      " 3   education         21525 non-null  object \n",
      " 4   education_id      21525 non-null  int64  \n",
      " 5   family_status     21525 non-null  object \n",
      " 6   family_status_id  21525 non-null  int64  \n",
      " 7   gender            21525 non-null  object \n",
      " 8   income_type       21525 non-null  object \n",
      " 9   debt              21525 non-null  int64  \n",
      " 10  total_income      19351 non-null  float64\n",
      " 11  purpose           21525 non-null  object \n",
      "dtypes: float64(2), int64(5), object(5)\n",
      "memory usage: 2.0+ MB\n"
     ]
    }
   ],
   "source": [
    "df.info() # получение общей информации о данных в таблице df"
   ]
  },
  {
   "cell_type": "markdown",
   "id": "e70e69d2",
   "metadata": {},
   "source": [
    "В иследуемых данных встречаются пропуски, разный регистр у значений в столбце с образованием и отричательный стаж работы. Возможно, есть дубликаты и анамалии в данных."
   ]
  },
  {
   "cell_type": "markdown",
   "id": "8fb6a504",
   "metadata": {},
   "source": [
    "## Предобработка данных"
   ]
  },
  {
   "cell_type": "markdown",
   "id": "33f1f165",
   "metadata": {},
   "source": [
    "### Заполнение пропусков"
   ]
  },
  {
   "cell_type": "code",
   "execution_count": 4,
   "id": "3c006c50",
   "metadata": {},
   "outputs": [
    {
     "data": {
      "text/plain": [
       "children               0\n",
       "days_employed       2174\n",
       "dob_years              0\n",
       "education              0\n",
       "education_id           0\n",
       "family_status          0\n",
       "family_status_id       0\n",
       "gender                 0\n",
       "income_type            0\n",
       "debt                   0\n",
       "total_income        2174\n",
       "purpose                0\n",
       "dtype: int64"
      ]
     },
     "execution_count": 4,
     "metadata": {},
     "output_type": "execute_result"
    }
   ],
   "source": [
    "df.isna().sum() # Находим столбцы с пропусками"
   ]
  },
  {
   "cell_type": "code",
   "execution_count": 5,
   "id": "61b6e8a1",
   "metadata": {},
   "outputs": [
    {
     "data": {
      "text/html": [
       "<div>\n",
       "<style scoped>\n",
       "    .dataframe tbody tr th:only-of-type {\n",
       "        vertical-align: middle;\n",
       "    }\n",
       "\n",
       "    .dataframe tbody tr th {\n",
       "        vertical-align: top;\n",
       "    }\n",
       "\n",
       "    .dataframe thead th {\n",
       "        text-align: right;\n",
       "    }\n",
       "</style>\n",
       "<table border=\"1\" class=\"dataframe\">\n",
       "  <thead>\n",
       "    <tr style=\"text-align: right;\">\n",
       "      <th></th>\n",
       "      <th>children</th>\n",
       "      <th>days_employed</th>\n",
       "      <th>dob_years</th>\n",
       "      <th>education</th>\n",
       "      <th>education_id</th>\n",
       "      <th>family_status</th>\n",
       "      <th>family_status_id</th>\n",
       "      <th>gender</th>\n",
       "      <th>income_type</th>\n",
       "      <th>debt</th>\n",
       "      <th>total_income</th>\n",
       "      <th>purpose</th>\n",
       "    </tr>\n",
       "  </thead>\n",
       "  <tbody>\n",
       "    <tr>\n",
       "      <th>12</th>\n",
       "      <td>0</td>\n",
       "      <td>NaN</td>\n",
       "      <td>65</td>\n",
       "      <td>среднее</td>\n",
       "      <td>1</td>\n",
       "      <td>гражданский брак</td>\n",
       "      <td>1</td>\n",
       "      <td>M</td>\n",
       "      <td>пенсионер</td>\n",
       "      <td>0</td>\n",
       "      <td>NaN</td>\n",
       "      <td>сыграть свадьбу</td>\n",
       "    </tr>\n",
       "    <tr>\n",
       "      <th>26</th>\n",
       "      <td>0</td>\n",
       "      <td>NaN</td>\n",
       "      <td>41</td>\n",
       "      <td>среднее</td>\n",
       "      <td>1</td>\n",
       "      <td>женат / замужем</td>\n",
       "      <td>0</td>\n",
       "      <td>M</td>\n",
       "      <td>госслужащий</td>\n",
       "      <td>0</td>\n",
       "      <td>NaN</td>\n",
       "      <td>образование</td>\n",
       "    </tr>\n",
       "    <tr>\n",
       "      <th>29</th>\n",
       "      <td>0</td>\n",
       "      <td>NaN</td>\n",
       "      <td>63</td>\n",
       "      <td>среднее</td>\n",
       "      <td>1</td>\n",
       "      <td>Не женат / не замужем</td>\n",
       "      <td>4</td>\n",
       "      <td>F</td>\n",
       "      <td>пенсионер</td>\n",
       "      <td>0</td>\n",
       "      <td>NaN</td>\n",
       "      <td>строительство жилой недвижимости</td>\n",
       "    </tr>\n",
       "    <tr>\n",
       "      <th>41</th>\n",
       "      <td>0</td>\n",
       "      <td>NaN</td>\n",
       "      <td>50</td>\n",
       "      <td>среднее</td>\n",
       "      <td>1</td>\n",
       "      <td>женат / замужем</td>\n",
       "      <td>0</td>\n",
       "      <td>F</td>\n",
       "      <td>госслужащий</td>\n",
       "      <td>0</td>\n",
       "      <td>NaN</td>\n",
       "      <td>сделка с подержанным автомобилем</td>\n",
       "    </tr>\n",
       "    <tr>\n",
       "      <th>55</th>\n",
       "      <td>0</td>\n",
       "      <td>NaN</td>\n",
       "      <td>54</td>\n",
       "      <td>среднее</td>\n",
       "      <td>1</td>\n",
       "      <td>гражданский брак</td>\n",
       "      <td>1</td>\n",
       "      <td>F</td>\n",
       "      <td>пенсионер</td>\n",
       "      <td>1</td>\n",
       "      <td>NaN</td>\n",
       "      <td>сыграть свадьбу</td>\n",
       "    </tr>\n",
       "    <tr>\n",
       "      <th>65</th>\n",
       "      <td>0</td>\n",
       "      <td>NaN</td>\n",
       "      <td>21</td>\n",
       "      <td>среднее</td>\n",
       "      <td>1</td>\n",
       "      <td>Не женат / не замужем</td>\n",
       "      <td>4</td>\n",
       "      <td>M</td>\n",
       "      <td>компаньон</td>\n",
       "      <td>0</td>\n",
       "      <td>NaN</td>\n",
       "      <td>операции с коммерческой недвижимостью</td>\n",
       "    </tr>\n",
       "    <tr>\n",
       "      <th>67</th>\n",
       "      <td>0</td>\n",
       "      <td>NaN</td>\n",
       "      <td>52</td>\n",
       "      <td>высшее</td>\n",
       "      <td>0</td>\n",
       "      <td>женат / замужем</td>\n",
       "      <td>0</td>\n",
       "      <td>F</td>\n",
       "      <td>пенсионер</td>\n",
       "      <td>0</td>\n",
       "      <td>NaN</td>\n",
       "      <td>покупка жилья для семьи</td>\n",
       "    </tr>\n",
       "    <tr>\n",
       "      <th>72</th>\n",
       "      <td>1</td>\n",
       "      <td>NaN</td>\n",
       "      <td>32</td>\n",
       "      <td>высшее</td>\n",
       "      <td>0</td>\n",
       "      <td>женат / замужем</td>\n",
       "      <td>0</td>\n",
       "      <td>M</td>\n",
       "      <td>госслужащий</td>\n",
       "      <td>0</td>\n",
       "      <td>NaN</td>\n",
       "      <td>операции с коммерческой недвижимостью</td>\n",
       "    </tr>\n",
       "    <tr>\n",
       "      <th>82</th>\n",
       "      <td>2</td>\n",
       "      <td>NaN</td>\n",
       "      <td>50</td>\n",
       "      <td>высшее</td>\n",
       "      <td>0</td>\n",
       "      <td>женат / замужем</td>\n",
       "      <td>0</td>\n",
       "      <td>F</td>\n",
       "      <td>сотрудник</td>\n",
       "      <td>0</td>\n",
       "      <td>NaN</td>\n",
       "      <td>жилье</td>\n",
       "    </tr>\n",
       "    <tr>\n",
       "      <th>83</th>\n",
       "      <td>0</td>\n",
       "      <td>NaN</td>\n",
       "      <td>52</td>\n",
       "      <td>среднее</td>\n",
       "      <td>1</td>\n",
       "      <td>женат / замужем</td>\n",
       "      <td>0</td>\n",
       "      <td>M</td>\n",
       "      <td>сотрудник</td>\n",
       "      <td>0</td>\n",
       "      <td>NaN</td>\n",
       "      <td>жилье</td>\n",
       "    </tr>\n",
       "  </tbody>\n",
       "</table>\n",
       "</div>"
      ],
      "text/plain": [
       "    children  days_employed  dob_years education  education_id  \\\n",
       "12         0            NaN         65   среднее             1   \n",
       "26         0            NaN         41   среднее             1   \n",
       "29         0            NaN         63   среднее             1   \n",
       "41         0            NaN         50   среднее             1   \n",
       "55         0            NaN         54   среднее             1   \n",
       "65         0            NaN         21   среднее             1   \n",
       "67         0            NaN         52    высшее             0   \n",
       "72         1            NaN         32    высшее             0   \n",
       "82         2            NaN         50    высшее             0   \n",
       "83         0            NaN         52   среднее             1   \n",
       "\n",
       "            family_status  family_status_id gender  income_type  debt  \\\n",
       "12       гражданский брак                 1      M    пенсионер     0   \n",
       "26        женат / замужем                 0      M  госслужащий     0   \n",
       "29  Не женат / не замужем                 4      F    пенсионер     0   \n",
       "41        женат / замужем                 0      F  госслужащий     0   \n",
       "55       гражданский брак                 1      F    пенсионер     1   \n",
       "65  Не женат / не замужем                 4      M    компаньон     0   \n",
       "67        женат / замужем                 0      F    пенсионер     0   \n",
       "72        женат / замужем                 0      M  госслужащий     0   \n",
       "82        женат / замужем                 0      F    сотрудник     0   \n",
       "83        женат / замужем                 0      M    сотрудник     0   \n",
       "\n",
       "    total_income                                purpose  \n",
       "12           NaN                        сыграть свадьбу  \n",
       "26           NaN                            образование  \n",
       "29           NaN       строительство жилой недвижимости  \n",
       "41           NaN       сделка с подержанным автомобилем  \n",
       "55           NaN                        сыграть свадьбу  \n",
       "65           NaN  операции с коммерческой недвижимостью  \n",
       "67           NaN                покупка жилья для семьи  \n",
       "72           NaN  операции с коммерческой недвижимостью  \n",
       "82           NaN                                  жилье  \n",
       "83           NaN                                  жилье  "
      ]
     },
     "execution_count": 5,
     "metadata": {},
     "output_type": "execute_result"
    }
   ],
   "source": [
    "df[df['days_employed'].isna()].head(10) # Первые 10 строк с пропусками в стаже работы"
   ]
  },
  {
   "cell_type": "code",
   "execution_count": 6,
   "id": "315882bf",
   "metadata": {
    "scrolled": true
   },
   "outputs": [
    {
     "name": "stdout",
     "output_type": "stream",
     "text": [
      "Процент пропущенных значений: 10%\n"
     ]
    }
   ],
   "source": [
    "print(\n",
    "    'Процент пропущенных значений: {:.0%}'.format(df['days_employed'].isna().sum() / len(df['days_employed']))\n",
    ")"
   ]
  },
  {
   "cell_type": "markdown",
   "id": "213450e3",
   "metadata": {},
   "source": [
    "Для заполнения пропусков лучше использовать медиану, так как некоторые значения сильно выделяются среди большинства и среднее арифметическое может сильно исказить конечный результат."
   ]
  },
  {
   "cell_type": "code",
   "execution_count": 7,
   "id": "3713dcbf",
   "metadata": {},
   "outputs": [],
   "source": [
    "# Заполняем пропуски медианными значениями\n",
    "\n",
    "df['days_employed'] = df['days_employed'].fillna(df['days_employed'].median())\n",
    "df['total_income'] = df['total_income'].fillna(df['total_income'].median())"
   ]
  },
  {
   "cell_type": "code",
   "execution_count": 8,
   "id": "7c2b6417",
   "metadata": {},
   "outputs": [
    {
     "data": {
      "text/plain": [
       "children            0\n",
       "days_employed       0\n",
       "dob_years           0\n",
       "education           0\n",
       "education_id        0\n",
       "family_status       0\n",
       "family_status_id    0\n",
       "gender              0\n",
       "income_type         0\n",
       "debt                0\n",
       "total_income        0\n",
       "purpose             0\n",
       "dtype: int64"
      ]
     },
     "execution_count": 8,
     "metadata": {},
     "output_type": "execute_result"
    }
   ],
   "source": [
    "df.isna().sum() # Проверка результата"
   ]
  },
  {
   "cell_type": "markdown",
   "id": "8d7af18d",
   "metadata": {},
   "source": [
    "### Проверка данных на аномалии и исправления."
   ]
  },
  {
   "cell_type": "markdown",
   "id": "44a15190",
   "metadata": {},
   "source": [
    "#### Редактирование столбца со стажем работы"
   ]
  },
  {
   "cell_type": "code",
   "execution_count": 9,
   "id": "31dc03b4",
   "metadata": {},
   "outputs": [
    {
     "data": {
      "text/plain": [
       "3445"
      ]
     },
     "execution_count": 9,
     "metadata": {},
     "output_type": "execute_result"
    }
   ],
   "source": [
    "# Количество строк, где стаж имеет положительное значение\n",
    "\n",
    "df['days_employed'].loc[df['days_employed'] > 0].count()"
   ]
  },
  {
   "cell_type": "code",
   "execution_count": 10,
   "id": "89fbd9e5",
   "metadata": {},
   "outputs": [
    {
     "data": {
      "text/html": [
       "<div>\n",
       "<style scoped>\n",
       "    .dataframe tbody tr th:only-of-type {\n",
       "        vertical-align: middle;\n",
       "    }\n",
       "\n",
       "    .dataframe tbody tr th {\n",
       "        vertical-align: top;\n",
       "    }\n",
       "\n",
       "    .dataframe thead th {\n",
       "        text-align: right;\n",
       "    }\n",
       "</style>\n",
       "<table border=\"1\" class=\"dataframe\">\n",
       "  <thead>\n",
       "    <tr style=\"text-align: right;\">\n",
       "      <th></th>\n",
       "      <th>children</th>\n",
       "      <th>days_employed</th>\n",
       "      <th>dob_years</th>\n",
       "      <th>education</th>\n",
       "      <th>education_id</th>\n",
       "      <th>family_status</th>\n",
       "      <th>family_status_id</th>\n",
       "      <th>gender</th>\n",
       "      <th>income_type</th>\n",
       "      <th>debt</th>\n",
       "      <th>total_income</th>\n",
       "      <th>purpose</th>\n",
       "    </tr>\n",
       "  </thead>\n",
       "  <tbody>\n",
       "    <tr>\n",
       "      <th>4</th>\n",
       "      <td>0</td>\n",
       "      <td>340266.072047</td>\n",
       "      <td>53</td>\n",
       "      <td>среднее</td>\n",
       "      <td>1</td>\n",
       "      <td>гражданский брак</td>\n",
       "      <td>1</td>\n",
       "      <td>F</td>\n",
       "      <td>пенсионер</td>\n",
       "      <td>0</td>\n",
       "      <td>158616.077870</td>\n",
       "      <td>сыграть свадьбу</td>\n",
       "    </tr>\n",
       "    <tr>\n",
       "      <th>18</th>\n",
       "      <td>0</td>\n",
       "      <td>400281.136913</td>\n",
       "      <td>53</td>\n",
       "      <td>среднее</td>\n",
       "      <td>1</td>\n",
       "      <td>вдовец / вдова</td>\n",
       "      <td>2</td>\n",
       "      <td>F</td>\n",
       "      <td>пенсионер</td>\n",
       "      <td>0</td>\n",
       "      <td>56823.777243</td>\n",
       "      <td>на покупку подержанного автомобиля</td>\n",
       "    </tr>\n",
       "    <tr>\n",
       "      <th>24</th>\n",
       "      <td>1</td>\n",
       "      <td>338551.952911</td>\n",
       "      <td>57</td>\n",
       "      <td>среднее</td>\n",
       "      <td>1</td>\n",
       "      <td>Не женат / не замужем</td>\n",
       "      <td>4</td>\n",
       "      <td>F</td>\n",
       "      <td>пенсионер</td>\n",
       "      <td>0</td>\n",
       "      <td>290547.235997</td>\n",
       "      <td>операции с коммерческой недвижимостью</td>\n",
       "    </tr>\n",
       "    <tr>\n",
       "      <th>25</th>\n",
       "      <td>0</td>\n",
       "      <td>363548.489348</td>\n",
       "      <td>67</td>\n",
       "      <td>среднее</td>\n",
       "      <td>1</td>\n",
       "      <td>женат / замужем</td>\n",
       "      <td>0</td>\n",
       "      <td>M</td>\n",
       "      <td>пенсионер</td>\n",
       "      <td>0</td>\n",
       "      <td>55112.757732</td>\n",
       "      <td>покупка недвижимости</td>\n",
       "    </tr>\n",
       "    <tr>\n",
       "      <th>30</th>\n",
       "      <td>1</td>\n",
       "      <td>335581.668515</td>\n",
       "      <td>62</td>\n",
       "      <td>среднее</td>\n",
       "      <td>1</td>\n",
       "      <td>женат / замужем</td>\n",
       "      <td>0</td>\n",
       "      <td>F</td>\n",
       "      <td>пенсионер</td>\n",
       "      <td>0</td>\n",
       "      <td>171456.067993</td>\n",
       "      <td>операции с коммерческой недвижимостью</td>\n",
       "    </tr>\n",
       "    <tr>\n",
       "      <th>35</th>\n",
       "      <td>0</td>\n",
       "      <td>394021.072184</td>\n",
       "      <td>68</td>\n",
       "      <td>среднее</td>\n",
       "      <td>1</td>\n",
       "      <td>гражданский брак</td>\n",
       "      <td>1</td>\n",
       "      <td>M</td>\n",
       "      <td>пенсионер</td>\n",
       "      <td>0</td>\n",
       "      <td>77805.677436</td>\n",
       "      <td>на проведение свадьбы</td>\n",
       "    </tr>\n",
       "    <tr>\n",
       "      <th>50</th>\n",
       "      <td>0</td>\n",
       "      <td>353731.432338</td>\n",
       "      <td>63</td>\n",
       "      <td>среднее</td>\n",
       "      <td>1</td>\n",
       "      <td>женат / замужем</td>\n",
       "      <td>0</td>\n",
       "      <td>F</td>\n",
       "      <td>пенсионер</td>\n",
       "      <td>0</td>\n",
       "      <td>92342.730612</td>\n",
       "      <td>автомобили</td>\n",
       "    </tr>\n",
       "    <tr>\n",
       "      <th>56</th>\n",
       "      <td>0</td>\n",
       "      <td>370145.087237</td>\n",
       "      <td>64</td>\n",
       "      <td>среднее</td>\n",
       "      <td>1</td>\n",
       "      <td>вдовец / вдова</td>\n",
       "      <td>2</td>\n",
       "      <td>F</td>\n",
       "      <td>пенсионер</td>\n",
       "      <td>0</td>\n",
       "      <td>149141.043533</td>\n",
       "      <td>образование</td>\n",
       "    </tr>\n",
       "    <tr>\n",
       "      <th>71</th>\n",
       "      <td>0</td>\n",
       "      <td>338113.529892</td>\n",
       "      <td>62</td>\n",
       "      <td>среднее</td>\n",
       "      <td>1</td>\n",
       "      <td>женат / замужем</td>\n",
       "      <td>0</td>\n",
       "      <td>F</td>\n",
       "      <td>пенсионер</td>\n",
       "      <td>0</td>\n",
       "      <td>43929.696397</td>\n",
       "      <td>автомобили</td>\n",
       "    </tr>\n",
       "    <tr>\n",
       "      <th>78</th>\n",
       "      <td>0</td>\n",
       "      <td>359722.945074</td>\n",
       "      <td>61</td>\n",
       "      <td>высшее</td>\n",
       "      <td>0</td>\n",
       "      <td>женат / замужем</td>\n",
       "      <td>0</td>\n",
       "      <td>M</td>\n",
       "      <td>пенсионер</td>\n",
       "      <td>0</td>\n",
       "      <td>175127.646000</td>\n",
       "      <td>сделка с автомобилем</td>\n",
       "    </tr>\n",
       "  </tbody>\n",
       "</table>\n",
       "</div>"
      ],
      "text/plain": [
       "    children  days_employed  dob_years education  education_id  \\\n",
       "4          0  340266.072047         53   среднее             1   \n",
       "18         0  400281.136913         53   среднее             1   \n",
       "24         1  338551.952911         57   среднее             1   \n",
       "25         0  363548.489348         67   среднее             1   \n",
       "30         1  335581.668515         62   среднее             1   \n",
       "35         0  394021.072184         68   среднее             1   \n",
       "50         0  353731.432338         63   среднее             1   \n",
       "56         0  370145.087237         64   среднее             1   \n",
       "71         0  338113.529892         62   среднее             1   \n",
       "78         0  359722.945074         61    высшее             0   \n",
       "\n",
       "            family_status  family_status_id gender income_type  debt  \\\n",
       "4        гражданский брак                 1      F   пенсионер     0   \n",
       "18         вдовец / вдова                 2      F   пенсионер     0   \n",
       "24  Не женат / не замужем                 4      F   пенсионер     0   \n",
       "25        женат / замужем                 0      M   пенсионер     0   \n",
       "30        женат / замужем                 0      F   пенсионер     0   \n",
       "35       гражданский брак                 1      M   пенсионер     0   \n",
       "50        женат / замужем                 0      F   пенсионер     0   \n",
       "56         вдовец / вдова                 2      F   пенсионер     0   \n",
       "71        женат / замужем                 0      F   пенсионер     0   \n",
       "78        женат / замужем                 0      M   пенсионер     0   \n",
       "\n",
       "     total_income                                purpose  \n",
       "4   158616.077870                        сыграть свадьбу  \n",
       "18   56823.777243     на покупку подержанного автомобиля  \n",
       "24  290547.235997  операции с коммерческой недвижимостью  \n",
       "25   55112.757732                   покупка недвижимости  \n",
       "30  171456.067993  операции с коммерческой недвижимостью  \n",
       "35   77805.677436                  на проведение свадьбы  \n",
       "50   92342.730612                             автомобили  \n",
       "56  149141.043533                            образование  \n",
       "71   43929.696397                             автомобили  \n",
       "78  175127.646000                   сделка с автомобилем  "
      ]
     },
     "execution_count": 10,
     "metadata": {},
     "output_type": "execute_result"
    }
   ],
   "source": [
    "# Первые десять положительных значений столбца \"days_employed\"\n",
    "\n",
    "df[df['days_employed'] > 0].head(10)"
   ]
  },
  {
   "cell_type": "code",
   "execution_count": 11,
   "id": "b89393dd",
   "metadata": {},
   "outputs": [
    {
     "data": {
      "text/plain": [
       "3445"
      ]
     },
     "execution_count": 11,
     "metadata": {},
     "output_type": "execute_result"
    }
   ],
   "source": [
    "# Количество строк, где стаж более 100 лет\n",
    "\n",
    "df['days_employed'].loc[df['days_employed'] > 36500].count()"
   ]
  },
  {
   "cell_type": "code",
   "execution_count": 12,
   "id": "203e4e3a",
   "metadata": {},
   "outputs": [
    {
     "name": "stdout",
     "output_type": "stream",
     "text": [
      "16%\n"
     ]
    }
   ],
   "source": [
    "# Процент положительных значений стажа работы\n",
    "\n",
    "print(\n",
    "    '{:.0%}'.format((df['days_employed'].loc[df['days_employed'] > 0].count()) / len(df))\n",
    ")"
   ]
  },
  {
   "cell_type": "markdown",
   "id": "d37f979c",
   "metadata": {},
   "source": [
    "В столбце со стажем изначально содержатся искаженные значения, большинство из них отрицательные, все положительные значения показывают стаж больее ста лет(возможно: ошибка программы, неправильный ввод и т.д.). Дальнейшее их использование может навредить анализу данных."
   ]
  },
  {
   "cell_type": "code",
   "execution_count": 13,
   "id": "f3aaa461",
   "metadata": {},
   "outputs": [
    {
     "data": {
      "text/html": [
       "<div>\n",
       "<style scoped>\n",
       "    .dataframe tbody tr th:only-of-type {\n",
       "        vertical-align: middle;\n",
       "    }\n",
       "\n",
       "    .dataframe tbody tr th {\n",
       "        vertical-align: top;\n",
       "    }\n",
       "\n",
       "    .dataframe thead th {\n",
       "        text-align: right;\n",
       "    }\n",
       "</style>\n",
       "<table border=\"1\" class=\"dataframe\">\n",
       "  <thead>\n",
       "    <tr style=\"text-align: right;\">\n",
       "      <th></th>\n",
       "      <th>children</th>\n",
       "      <th>dob_years</th>\n",
       "      <th>education</th>\n",
       "      <th>education_id</th>\n",
       "      <th>family_status</th>\n",
       "      <th>family_status_id</th>\n",
       "      <th>gender</th>\n",
       "      <th>income_type</th>\n",
       "      <th>debt</th>\n",
       "      <th>total_income</th>\n",
       "      <th>purpose</th>\n",
       "    </tr>\n",
       "  </thead>\n",
       "  <tbody>\n",
       "    <tr>\n",
       "      <th>0</th>\n",
       "      <td>1</td>\n",
       "      <td>42</td>\n",
       "      <td>высшее</td>\n",
       "      <td>0</td>\n",
       "      <td>женат / замужем</td>\n",
       "      <td>0</td>\n",
       "      <td>F</td>\n",
       "      <td>сотрудник</td>\n",
       "      <td>0</td>\n",
       "      <td>253875.639453</td>\n",
       "      <td>покупка жилья</td>\n",
       "    </tr>\n",
       "    <tr>\n",
       "      <th>1</th>\n",
       "      <td>1</td>\n",
       "      <td>36</td>\n",
       "      <td>среднее</td>\n",
       "      <td>1</td>\n",
       "      <td>женат / замужем</td>\n",
       "      <td>0</td>\n",
       "      <td>F</td>\n",
       "      <td>сотрудник</td>\n",
       "      <td>0</td>\n",
       "      <td>112080.014102</td>\n",
       "      <td>приобретение автомобиля</td>\n",
       "    </tr>\n",
       "    <tr>\n",
       "      <th>2</th>\n",
       "      <td>0</td>\n",
       "      <td>33</td>\n",
       "      <td>Среднее</td>\n",
       "      <td>1</td>\n",
       "      <td>женат / замужем</td>\n",
       "      <td>0</td>\n",
       "      <td>M</td>\n",
       "      <td>сотрудник</td>\n",
       "      <td>0</td>\n",
       "      <td>145885.952297</td>\n",
       "      <td>покупка жилья</td>\n",
       "    </tr>\n",
       "    <tr>\n",
       "      <th>3</th>\n",
       "      <td>3</td>\n",
       "      <td>32</td>\n",
       "      <td>среднее</td>\n",
       "      <td>1</td>\n",
       "      <td>женат / замужем</td>\n",
       "      <td>0</td>\n",
       "      <td>M</td>\n",
       "      <td>сотрудник</td>\n",
       "      <td>0</td>\n",
       "      <td>267628.550329</td>\n",
       "      <td>дополнительное образование</td>\n",
       "    </tr>\n",
       "    <tr>\n",
       "      <th>4</th>\n",
       "      <td>0</td>\n",
       "      <td>53</td>\n",
       "      <td>среднее</td>\n",
       "      <td>1</td>\n",
       "      <td>гражданский брак</td>\n",
       "      <td>1</td>\n",
       "      <td>F</td>\n",
       "      <td>пенсионер</td>\n",
       "      <td>0</td>\n",
       "      <td>158616.077870</td>\n",
       "      <td>сыграть свадьбу</td>\n",
       "    </tr>\n",
       "  </tbody>\n",
       "</table>\n",
       "</div>"
      ],
      "text/plain": [
       "   children  dob_years education  education_id     family_status  \\\n",
       "0         1         42    высшее             0   женат / замужем   \n",
       "1         1         36   среднее             1   женат / замужем   \n",
       "2         0         33   Среднее             1   женат / замужем   \n",
       "3         3         32   среднее             1   женат / замужем   \n",
       "4         0         53   среднее             1  гражданский брак   \n",
       "\n",
       "   family_status_id gender income_type  debt   total_income  \\\n",
       "0                 0      F   сотрудник     0  253875.639453   \n",
       "1                 0      F   сотрудник     0  112080.014102   \n",
       "2                 0      M   сотрудник     0  145885.952297   \n",
       "3                 0      M   сотрудник     0  267628.550329   \n",
       "4                 1      F   пенсионер     0  158616.077870   \n",
       "\n",
       "                      purpose  \n",
       "0               покупка жилья  \n",
       "1     приобретение автомобиля  \n",
       "2               покупка жилья  \n",
       "3  дополнительное образование  \n",
       "4             сыграть свадьбу  "
      ]
     },
     "execution_count": 13,
     "metadata": {},
     "output_type": "execute_result"
    }
   ],
   "source": [
    "# Удаление столбца \"days_employed\"\n",
    "\n",
    "df.drop(columns=['days_employed'], axis=1, inplace=True)\n",
    "\n",
    "df.head()"
   ]
  },
  {
   "cell_type": "markdown",
   "id": "4e904e3d",
   "metadata": {},
   "source": [
    "#### Редактирование столбца с количеством детей"
   ]
  },
  {
   "cell_type": "code",
   "execution_count": 14,
   "id": "6b392218",
   "metadata": {},
   "outputs": [
    {
     "data": {
      "text/plain": [
       " 0     14149\n",
       " 1      4818\n",
       " 2      2055\n",
       " 3       330\n",
       " 20       76\n",
       "-1        47\n",
       " 4        41\n",
       " 5         9\n",
       "Name: children, dtype: int64"
      ]
     },
     "execution_count": 14,
     "metadata": {},
     "output_type": "execute_result"
    }
   ],
   "source": [
    "df['children'].value_counts() # Выводим все уникальные значения столбца 'children'"
   ]
  },
  {
   "cell_type": "markdown",
   "id": "4f111a1c",
   "metadata": {},
   "source": [
    "В строках со значением 'children' = -1 заменяем значение на 1. Строки со значением 'children' = 20 лучше удалить, их количество незначительно относительно всего датафрейма, но прибавление их к строкам с большим количеством детей может исказить данные."
   ]
  },
  {
   "cell_type": "code",
   "execution_count": 15,
   "id": "7d3bc770",
   "metadata": {},
   "outputs": [
    {
     "data": {
      "text/plain": [
       "0     14149\n",
       "1      4865\n",
       "2      2055\n",
       "3       330\n",
       "20       76\n",
       "4        41\n",
       "5         9\n",
       "Name: children, dtype: int64"
      ]
     },
     "execution_count": 15,
     "metadata": {},
     "output_type": "execute_result"
    }
   ],
   "source": [
    "df.loc[df['children'] == -1, 'children'] = 1 # Замена значений -1 в столбце 'children' на 1\n",
    "df['children'].value_counts()"
   ]
  },
  {
   "cell_type": "code",
   "execution_count": 16,
   "id": "4dbf9ef0",
   "metadata": {},
   "outputs": [
    {
     "data": {
      "text/plain": [
       "0    14149\n",
       "1     4865\n",
       "2     2055\n",
       "3      330\n",
       "4       41\n",
       "5        9\n",
       "Name: children, dtype: int64"
      ]
     },
     "execution_count": 16,
     "metadata": {},
     "output_type": "execute_result"
    }
   ],
   "source": [
    "df = df[df['children'] < 20] # Удаление строк со значением 20 в столбце 'children'\n",
    "df['children'].value_counts()"
   ]
  },
  {
   "cell_type": "markdown",
   "id": "344d6296",
   "metadata": {},
   "source": [
    "#### Редактирование столбца 'gender'"
   ]
  },
  {
   "cell_type": "code",
   "execution_count": 17,
   "id": "556189cb",
   "metadata": {},
   "outputs": [
    {
     "data": {
      "text/plain": [
       "F      14189\n",
       "M       7259\n",
       "XNA        1\n",
       "Name: gender, dtype: int64"
      ]
     },
     "execution_count": 17,
     "metadata": {},
     "output_type": "execute_result"
    }
   ],
   "source": [
    "df['gender'].value_counts() # Выводим все уникальные значения столбца 'gender'"
   ]
  },
  {
   "cell_type": "code",
   "execution_count": 18,
   "id": "9664045f",
   "metadata": {},
   "outputs": [
    {
     "data": {
      "text/html": [
       "<div>\n",
       "<style scoped>\n",
       "    .dataframe tbody tr th:only-of-type {\n",
       "        vertical-align: middle;\n",
       "    }\n",
       "\n",
       "    .dataframe tbody tr th {\n",
       "        vertical-align: top;\n",
       "    }\n",
       "\n",
       "    .dataframe thead th {\n",
       "        text-align: right;\n",
       "    }\n",
       "</style>\n",
       "<table border=\"1\" class=\"dataframe\">\n",
       "  <thead>\n",
       "    <tr style=\"text-align: right;\">\n",
       "      <th></th>\n",
       "      <th>children</th>\n",
       "      <th>dob_years</th>\n",
       "      <th>education</th>\n",
       "      <th>education_id</th>\n",
       "      <th>family_status</th>\n",
       "      <th>family_status_id</th>\n",
       "      <th>gender</th>\n",
       "      <th>income_type</th>\n",
       "      <th>debt</th>\n",
       "      <th>total_income</th>\n",
       "      <th>purpose</th>\n",
       "    </tr>\n",
       "  </thead>\n",
       "  <tbody>\n",
       "    <tr>\n",
       "      <th>10701</th>\n",
       "      <td>0</td>\n",
       "      <td>24</td>\n",
       "      <td>неоконченное высшее</td>\n",
       "      <td>2</td>\n",
       "      <td>гражданский брак</td>\n",
       "      <td>1</td>\n",
       "      <td>XNA</td>\n",
       "      <td>компаньон</td>\n",
       "      <td>0</td>\n",
       "      <td>203905.157261</td>\n",
       "      <td>покупка недвижимости</td>\n",
       "    </tr>\n",
       "  </tbody>\n",
       "</table>\n",
       "</div>"
      ],
      "text/plain": [
       "       children  dob_years            education  education_id  \\\n",
       "10701         0         24  неоконченное высшее             2   \n",
       "\n",
       "          family_status  family_status_id gender income_type  debt  \\\n",
       "10701  гражданский брак                 1    XNA   компаньон     0   \n",
       "\n",
       "        total_income               purpose  \n",
       "10701  203905.157261  покупка недвижимости  "
      ]
     },
     "metadata": {},
     "output_type": "display_data"
    }
   ],
   "source": [
    "display(df[df['gender'] == 'XNA']) # Вывод строки с выпадающим значением"
   ]
  },
  {
   "cell_type": "code",
   "execution_count": 19,
   "id": "32e56d42",
   "metadata": {},
   "outputs": [
    {
     "data": {
      "text/plain": [
       "F    14189\n",
       "M     7259\n",
       "Name: gender, dtype: int64"
      ]
     },
     "execution_count": 19,
     "metadata": {},
     "output_type": "execute_result"
    }
   ],
   "source": [
    "# Удаление строки с неизвестным значением и проверка результата\n",
    "\n",
    "df = df[df['gender'] != 'XNA'] \n",
    "\n",
    "df['gender'].value_counts()"
   ]
  },
  {
   "cell_type": "markdown",
   "id": "d5c2344b",
   "metadata": {},
   "source": [
    "#### Проверка на аномалии оставшихся столбцов"
   ]
  },
  {
   "cell_type": "code",
   "execution_count": 20,
   "id": "f7275027",
   "metadata": {},
   "outputs": [
    {
     "data": {
      "text/plain": [
       "array([42, 36, 33, 32, 53, 27, 43, 50, 35, 41, 40, 65, 54, 56, 26, 48, 24,\n",
       "       21, 57, 67, 28, 63, 62, 47, 34, 68, 25, 31, 30, 20, 49, 37, 45, 61,\n",
       "       64, 44, 52, 46, 23, 38, 39, 51,  0, 59, 29, 60, 55, 58, 71, 22, 73,\n",
       "       66, 69, 19, 72, 70, 74, 75])"
      ]
     },
     "execution_count": 20,
     "metadata": {},
     "output_type": "execute_result"
    }
   ],
   "source": [
    "df['dob_years'].unique() # Вывод всех уникальных значений столбца \"dob_years\""
   ]
  },
  {
   "cell_type": "code",
   "execution_count": 21,
   "id": "43e68152",
   "metadata": {},
   "outputs": [
    {
     "data": {
      "text/plain": [
       "100"
      ]
     },
     "execution_count": 21,
     "metadata": {},
     "output_type": "execute_result"
    }
   ],
   "source": [
    "df['dob_years'][df['dob_years'] == 0].count() # Количество строк со значением возраста равным 0"
   ]
  },
  {
   "cell_type": "markdown",
   "id": "6552560e",
   "metadata": {},
   "source": [
    "Строки с нулевым значением возраста можно оставить без изменений, на конечный результат они не повлияют. Скорее всего, забыли указать возраст при вводе значений."
   ]
  },
  {
   "cell_type": "code",
   "execution_count": 22,
   "id": "774a935e",
   "metadata": {},
   "outputs": [
    {
     "data": {
      "text/plain": [
       "сотрудник          11076\n",
       "компаньон           5062\n",
       "пенсионер           3847\n",
       "госслужащий         1457\n",
       "безработный            2\n",
       "предприниматель        2\n",
       "в декрете              1\n",
       "студент                1\n",
       "Name: income_type, dtype: int64"
      ]
     },
     "execution_count": 22,
     "metadata": {},
     "output_type": "execute_result"
    }
   ],
   "source": [
    "df['income_type'].value_counts() # Вывод всех уникальных значений столбца \"income_type\""
   ]
  },
  {
   "cell_type": "markdown",
   "id": "cd7faf60",
   "metadata": {},
   "source": [
    "### Изменение типов данных."
   ]
  },
  {
   "cell_type": "code",
   "execution_count": 23,
   "id": "485ac4ec",
   "metadata": {},
   "outputs": [
    {
     "data": {
      "text/plain": [
       "0    253875\n",
       "1    112080\n",
       "2    145885\n",
       "3    267628\n",
       "4    158616\n",
       "Name: total_income, dtype: int64"
      ]
     },
     "execution_count": 23,
     "metadata": {},
     "output_type": "execute_result"
    }
   ],
   "source": [
    "# Изменение типа данных в столбце с ежемесячным доходом\n",
    "\n",
    "df['total_income'] = df['total_income'].astype('int')\n",
    "\n",
    "df['total_income'].head()"
   ]
  },
  {
   "cell_type": "markdown",
   "id": "87c7dcd3",
   "metadata": {},
   "source": [
    "### Удаление дубликатов."
   ]
  },
  {
   "cell_type": "code",
   "execution_count": 24,
   "id": "63cc4c33",
   "metadata": {},
   "outputs": [
    {
     "data": {
      "text/plain": [
       "array(['высшее', 'среднее', 'Среднее', 'СРЕДНЕЕ', 'ВЫСШЕЕ',\n",
       "       'неоконченное высшее', 'начальное', 'Высшее',\n",
       "       'НЕОКОНЧЕННОЕ ВЫСШЕЕ', 'Неоконченное высшее', 'НАЧАЛЬНОЕ',\n",
       "       'Начальное', 'Ученая степень', 'УЧЕНАЯ СТЕПЕНЬ', 'ученая степень'],\n",
       "      dtype=object)"
      ]
     },
     "execution_count": 24,
     "metadata": {},
     "output_type": "execute_result"
    }
   ],
   "source": [
    "df['education'].unique() # Находим уникальные значения столбца 'education'"
   ]
  },
  {
   "cell_type": "code",
   "execution_count": 25,
   "id": "b3fe8afd",
   "metadata": {},
   "outputs": [
    {
     "data": {
      "text/html": [
       "<div>\n",
       "<style scoped>\n",
       "    .dataframe tbody tr th:only-of-type {\n",
       "        vertical-align: middle;\n",
       "    }\n",
       "\n",
       "    .dataframe tbody tr th {\n",
       "        vertical-align: top;\n",
       "    }\n",
       "\n",
       "    .dataframe thead th {\n",
       "        text-align: right;\n",
       "    }\n",
       "</style>\n",
       "<table border=\"1\" class=\"dataframe\">\n",
       "  <thead>\n",
       "    <tr style=\"text-align: right;\">\n",
       "      <th></th>\n",
       "      <th>children</th>\n",
       "      <th>dob_years</th>\n",
       "      <th>education</th>\n",
       "      <th>education_id</th>\n",
       "      <th>family_status</th>\n",
       "      <th>family_status_id</th>\n",
       "      <th>gender</th>\n",
       "      <th>income_type</th>\n",
       "      <th>debt</th>\n",
       "      <th>total_income</th>\n",
       "      <th>purpose</th>\n",
       "    </tr>\n",
       "  </thead>\n",
       "  <tbody>\n",
       "    <tr>\n",
       "      <th>0</th>\n",
       "      <td>1</td>\n",
       "      <td>42</td>\n",
       "      <td>высшее</td>\n",
       "      <td>0</td>\n",
       "      <td>женат / замужем</td>\n",
       "      <td>0</td>\n",
       "      <td>F</td>\n",
       "      <td>сотрудник</td>\n",
       "      <td>0</td>\n",
       "      <td>253875</td>\n",
       "      <td>покупка жилья</td>\n",
       "    </tr>\n",
       "    <tr>\n",
       "      <th>1</th>\n",
       "      <td>1</td>\n",
       "      <td>36</td>\n",
       "      <td>среднее</td>\n",
       "      <td>1</td>\n",
       "      <td>женат / замужем</td>\n",
       "      <td>0</td>\n",
       "      <td>F</td>\n",
       "      <td>сотрудник</td>\n",
       "      <td>0</td>\n",
       "      <td>112080</td>\n",
       "      <td>приобретение автомобиля</td>\n",
       "    </tr>\n",
       "    <tr>\n",
       "      <th>2</th>\n",
       "      <td>0</td>\n",
       "      <td>33</td>\n",
       "      <td>среднее</td>\n",
       "      <td>1</td>\n",
       "      <td>женат / замужем</td>\n",
       "      <td>0</td>\n",
       "      <td>M</td>\n",
       "      <td>сотрудник</td>\n",
       "      <td>0</td>\n",
       "      <td>145885</td>\n",
       "      <td>покупка жилья</td>\n",
       "    </tr>\n",
       "    <tr>\n",
       "      <th>3</th>\n",
       "      <td>3</td>\n",
       "      <td>32</td>\n",
       "      <td>среднее</td>\n",
       "      <td>1</td>\n",
       "      <td>женат / замужем</td>\n",
       "      <td>0</td>\n",
       "      <td>M</td>\n",
       "      <td>сотрудник</td>\n",
       "      <td>0</td>\n",
       "      <td>267628</td>\n",
       "      <td>дополнительное образование</td>\n",
       "    </tr>\n",
       "    <tr>\n",
       "      <th>4</th>\n",
       "      <td>0</td>\n",
       "      <td>53</td>\n",
       "      <td>среднее</td>\n",
       "      <td>1</td>\n",
       "      <td>гражданский брак</td>\n",
       "      <td>1</td>\n",
       "      <td>F</td>\n",
       "      <td>пенсионер</td>\n",
       "      <td>0</td>\n",
       "      <td>158616</td>\n",
       "      <td>сыграть свадьбу</td>\n",
       "    </tr>\n",
       "  </tbody>\n",
       "</table>\n",
       "</div>"
      ],
      "text/plain": [
       "   children  dob_years education  education_id     family_status  \\\n",
       "0         1         42    высшее             0   женат / замужем   \n",
       "1         1         36   среднее             1   женат / замужем   \n",
       "2         0         33   среднее             1   женат / замужем   \n",
       "3         3         32   среднее             1   женат / замужем   \n",
       "4         0         53   среднее             1  гражданский брак   \n",
       "\n",
       "   family_status_id gender income_type  debt  total_income  \\\n",
       "0                 0      F   сотрудник     0        253875   \n",
       "1                 0      F   сотрудник     0        112080   \n",
       "2                 0      M   сотрудник     0        145885   \n",
       "3                 0      M   сотрудник     0        267628   \n",
       "4                 1      F   пенсионер     0        158616   \n",
       "\n",
       "                      purpose  \n",
       "0               покупка жилья  \n",
       "1     приобретение автомобиля  \n",
       "2               покупка жилья  \n",
       "3  дополнительное образование  \n",
       "4             сыграть свадьбу  "
      ]
     },
     "execution_count": 25,
     "metadata": {},
     "output_type": "execute_result"
    }
   ],
   "source": [
    "# Приведение к нижнему регистру значений столбца 'education'\n",
    "\n",
    "df['education'] = df['education'].str.lower()\n",
    "df.head()"
   ]
  },
  {
   "cell_type": "code",
   "execution_count": 26,
   "id": "1e4cb521",
   "metadata": {},
   "outputs": [
    {
     "data": {
      "text/plain": [
       "71"
      ]
     },
     "execution_count": 26,
     "metadata": {},
     "output_type": "execute_result"
    }
   ],
   "source": [
    "df.duplicated().sum() # Поиск дубликатов"
   ]
  },
  {
   "cell_type": "code",
   "execution_count": 27,
   "id": "91b10ead",
   "metadata": {},
   "outputs": [
    {
     "name": "stdout",
     "output_type": "stream",
     "text": [
      "<class 'pandas.core.frame.DataFrame'>\n",
      "RangeIndex: 21377 entries, 0 to 21376\n",
      "Data columns (total 11 columns):\n",
      " #   Column            Non-Null Count  Dtype \n",
      "---  ------            --------------  ----- \n",
      " 0   children          21377 non-null  int64 \n",
      " 1   dob_years         21377 non-null  int64 \n",
      " 2   education         21377 non-null  object\n",
      " 3   education_id      21377 non-null  int64 \n",
      " 4   family_status     21377 non-null  object\n",
      " 5   family_status_id  21377 non-null  int64 \n",
      " 6   gender            21377 non-null  object\n",
      " 7   income_type       21377 non-null  object\n",
      " 8   debt              21377 non-null  int64 \n",
      " 9   total_income      21377 non-null  int64 \n",
      " 10  purpose           21377 non-null  object\n",
      "dtypes: int64(6), object(5)\n",
      "memory usage: 1.8+ MB\n"
     ]
    }
   ],
   "source": [
    "# Удаление дубликатов\n",
    "\n",
    "df = df.drop_duplicates().reset_index(drop=True) \n",
    "\n",
    "df.info()"
   ]
  },
  {
   "cell_type": "code",
   "execution_count": 28,
   "id": "7906f44d",
   "metadata": {},
   "outputs": [
    {
     "data": {
      "text/plain": [
       "0"
      ]
     },
     "execution_count": 28,
     "metadata": {},
     "output_type": "execute_result"
    }
   ],
   "source": [
    "df.duplicated().sum() # Повторная проверка на дубликаты"
   ]
  },
  {
   "cell_type": "markdown",
   "id": "a2e7c009",
   "metadata": {},
   "source": [
    "### Формирование дополнительных датафреймов словарей, декомпозиция исходного датафрейма."
   ]
  },
  {
   "cell_type": "code",
   "execution_count": 29,
   "id": "0bc2984a",
   "metadata": {},
   "outputs": [
    {
     "data": {
      "text/html": [
       "<div>\n",
       "<style scoped>\n",
       "    .dataframe tbody tr th:only-of-type {\n",
       "        vertical-align: middle;\n",
       "    }\n",
       "\n",
       "    .dataframe tbody tr th {\n",
       "        vertical-align: top;\n",
       "    }\n",
       "\n",
       "    .dataframe thead th {\n",
       "        text-align: right;\n",
       "    }\n",
       "</style>\n",
       "<table border=\"1\" class=\"dataframe\">\n",
       "  <thead>\n",
       "    <tr style=\"text-align: right;\">\n",
       "      <th></th>\n",
       "      <th>family_status_id</th>\n",
       "      <th>family_status</th>\n",
       "    </tr>\n",
       "  </thead>\n",
       "  <tbody>\n",
       "    <tr>\n",
       "      <th>0</th>\n",
       "      <td>0</td>\n",
       "      <td>женат / замужем</td>\n",
       "    </tr>\n",
       "    <tr>\n",
       "      <th>1</th>\n",
       "      <td>1</td>\n",
       "      <td>гражданский брак</td>\n",
       "    </tr>\n",
       "    <tr>\n",
       "      <th>2</th>\n",
       "      <td>2</td>\n",
       "      <td>вдовец / вдова</td>\n",
       "    </tr>\n",
       "    <tr>\n",
       "      <th>3</th>\n",
       "      <td>3</td>\n",
       "      <td>в разводе</td>\n",
       "    </tr>\n",
       "    <tr>\n",
       "      <th>4</th>\n",
       "      <td>4</td>\n",
       "      <td>Не женат / не замужем</td>\n",
       "    </tr>\n",
       "  </tbody>\n",
       "</table>\n",
       "</div>"
      ],
      "text/plain": [
       "   family_status_id          family_status\n",
       "0                 0        женат / замужем\n",
       "1                 1       гражданский брак\n",
       "2                 2         вдовец / вдова\n",
       "3                 3              в разводе\n",
       "4                 4  Не женат / не замужем"
      ]
     },
     "metadata": {},
     "output_type": "display_data"
    }
   ],
   "source": [
    "# Создание датафрейма с уникальными значениями столбцов с семейным положением и их ID\n",
    "\n",
    "df_family_status = df[['family_status_id', 'family_status']].drop_duplicates().reset_index(drop=True) \n",
    "\n",
    "# Вывод всех значений\n",
    "\n",
    "display(df_family_status)"
   ]
  },
  {
   "cell_type": "code",
   "execution_count": 30,
   "id": "b020a3dd",
   "metadata": {},
   "outputs": [
    {
     "data": {
      "text/html": [
       "<div>\n",
       "<style scoped>\n",
       "    .dataframe tbody tr th:only-of-type {\n",
       "        vertical-align: middle;\n",
       "    }\n",
       "\n",
       "    .dataframe tbody tr th {\n",
       "        vertical-align: top;\n",
       "    }\n",
       "\n",
       "    .dataframe thead th {\n",
       "        text-align: right;\n",
       "    }\n",
       "</style>\n",
       "<table border=\"1\" class=\"dataframe\">\n",
       "  <thead>\n",
       "    <tr style=\"text-align: right;\">\n",
       "      <th></th>\n",
       "      <th>education_id</th>\n",
       "      <th>education</th>\n",
       "    </tr>\n",
       "  </thead>\n",
       "  <tbody>\n",
       "    <tr>\n",
       "      <th>0</th>\n",
       "      <td>0</td>\n",
       "      <td>высшее</td>\n",
       "    </tr>\n",
       "    <tr>\n",
       "      <th>1</th>\n",
       "      <td>1</td>\n",
       "      <td>среднее</td>\n",
       "    </tr>\n",
       "    <tr>\n",
       "      <th>2</th>\n",
       "      <td>2</td>\n",
       "      <td>неоконченное высшее</td>\n",
       "    </tr>\n",
       "    <tr>\n",
       "      <th>3</th>\n",
       "      <td>3</td>\n",
       "      <td>начальное</td>\n",
       "    </tr>\n",
       "    <tr>\n",
       "      <th>4</th>\n",
       "      <td>4</td>\n",
       "      <td>ученая степень</td>\n",
       "    </tr>\n",
       "  </tbody>\n",
       "</table>\n",
       "</div>"
      ],
      "text/plain": [
       "   education_id            education\n",
       "0             0               высшее\n",
       "1             1              среднее\n",
       "2             2  неоконченное высшее\n",
       "3             3            начальное\n",
       "4             4       ученая степень"
      ]
     },
     "metadata": {},
     "output_type": "display_data"
    }
   ],
   "source": [
    "# Создание датафрейма с уникальными значениями столбцов с уровнем образования и их ID\n",
    "\n",
    "df_education = df[['education_id', 'education']].drop_duplicates().reset_index(drop=True) \n",
    "\n",
    "# Вывод всех значений\n",
    "\n",
    "display(df_education)"
   ]
  },
  {
   "cell_type": "code",
   "execution_count": 31,
   "id": "ed1d93d2",
   "metadata": {},
   "outputs": [
    {
     "data": {
      "text/html": [
       "<div>\n",
       "<style scoped>\n",
       "    .dataframe tbody tr th:only-of-type {\n",
       "        vertical-align: middle;\n",
       "    }\n",
       "\n",
       "    .dataframe tbody tr th {\n",
       "        vertical-align: top;\n",
       "    }\n",
       "\n",
       "    .dataframe thead th {\n",
       "        text-align: right;\n",
       "    }\n",
       "</style>\n",
       "<table border=\"1\" class=\"dataframe\">\n",
       "  <thead>\n",
       "    <tr style=\"text-align: right;\">\n",
       "      <th></th>\n",
       "      <th>children</th>\n",
       "      <th>dob_years</th>\n",
       "      <th>education_id</th>\n",
       "      <th>family_status_id</th>\n",
       "      <th>gender</th>\n",
       "      <th>income_type</th>\n",
       "      <th>debt</th>\n",
       "      <th>total_income</th>\n",
       "      <th>purpose</th>\n",
       "    </tr>\n",
       "  </thead>\n",
       "  <tbody>\n",
       "    <tr>\n",
       "      <th>0</th>\n",
       "      <td>1</td>\n",
       "      <td>42</td>\n",
       "      <td>0</td>\n",
       "      <td>0</td>\n",
       "      <td>F</td>\n",
       "      <td>сотрудник</td>\n",
       "      <td>0</td>\n",
       "      <td>253875</td>\n",
       "      <td>покупка жилья</td>\n",
       "    </tr>\n",
       "    <tr>\n",
       "      <th>1</th>\n",
       "      <td>1</td>\n",
       "      <td>36</td>\n",
       "      <td>1</td>\n",
       "      <td>0</td>\n",
       "      <td>F</td>\n",
       "      <td>сотрудник</td>\n",
       "      <td>0</td>\n",
       "      <td>112080</td>\n",
       "      <td>приобретение автомобиля</td>\n",
       "    </tr>\n",
       "    <tr>\n",
       "      <th>2</th>\n",
       "      <td>0</td>\n",
       "      <td>33</td>\n",
       "      <td>1</td>\n",
       "      <td>0</td>\n",
       "      <td>M</td>\n",
       "      <td>сотрудник</td>\n",
       "      <td>0</td>\n",
       "      <td>145885</td>\n",
       "      <td>покупка жилья</td>\n",
       "    </tr>\n",
       "    <tr>\n",
       "      <th>3</th>\n",
       "      <td>3</td>\n",
       "      <td>32</td>\n",
       "      <td>1</td>\n",
       "      <td>0</td>\n",
       "      <td>M</td>\n",
       "      <td>сотрудник</td>\n",
       "      <td>0</td>\n",
       "      <td>267628</td>\n",
       "      <td>дополнительное образование</td>\n",
       "    </tr>\n",
       "    <tr>\n",
       "      <th>4</th>\n",
       "      <td>0</td>\n",
       "      <td>53</td>\n",
       "      <td>1</td>\n",
       "      <td>1</td>\n",
       "      <td>F</td>\n",
       "      <td>пенсионер</td>\n",
       "      <td>0</td>\n",
       "      <td>158616</td>\n",
       "      <td>сыграть свадьбу</td>\n",
       "    </tr>\n",
       "  </tbody>\n",
       "</table>\n",
       "</div>"
      ],
      "text/plain": [
       "   children  dob_years  education_id  family_status_id gender income_type  \\\n",
       "0         1         42             0                 0      F   сотрудник   \n",
       "1         1         36             1                 0      F   сотрудник   \n",
       "2         0         33             1                 0      M   сотрудник   \n",
       "3         3         32             1                 0      M   сотрудник   \n",
       "4         0         53             1                 1      F   пенсионер   \n",
       "\n",
       "   debt  total_income                     purpose  \n",
       "0     0        253875               покупка жилья  \n",
       "1     0        112080     приобретение автомобиля  \n",
       "2     0        145885               покупка жилья  \n",
       "3     0        267628  дополнительное образование  \n",
       "4     0        158616             сыграть свадьбу  "
      ]
     },
     "execution_count": 31,
     "metadata": {},
     "output_type": "execute_result"
    }
   ],
   "source": [
    "# Удаление столбцов \"family_status\" и \"education\"\n",
    "\n",
    "df.drop(columns=['family_status', 'education'], axis=1, inplace=True)\n",
    "\n",
    "df.head()"
   ]
  },
  {
   "cell_type": "markdown",
   "id": "8890a4e2",
   "metadata": {},
   "source": [
    "### Категоризация дохода."
   ]
  },
  {
   "cell_type": "code",
   "execution_count": 32,
   "id": "709c7e35",
   "metadata": {},
   "outputs": [],
   "source": [
    "# Создание функции для категории дохода заемщика\n",
    "\n",
    "def income(value):\n",
    "    if value <= 30000:\n",
    "        return 'E'\n",
    "    if value <= 50000:\n",
    "        return 'D'\n",
    "    if value <= 200000:\n",
    "        return 'C'\n",
    "    if value <= 1000000:\n",
    "        return 'B'\n",
    "    if value > 1000000:\n",
    "        return 'A'"
   ]
  },
  {
   "cell_type": "code",
   "execution_count": 33,
   "id": "820f080a",
   "metadata": {},
   "outputs": [
    {
     "data": {
      "text/html": [
       "<div>\n",
       "<style scoped>\n",
       "    .dataframe tbody tr th:only-of-type {\n",
       "        vertical-align: middle;\n",
       "    }\n",
       "\n",
       "    .dataframe tbody tr th {\n",
       "        vertical-align: top;\n",
       "    }\n",
       "\n",
       "    .dataframe thead th {\n",
       "        text-align: right;\n",
       "    }\n",
       "</style>\n",
       "<table border=\"1\" class=\"dataframe\">\n",
       "  <thead>\n",
       "    <tr style=\"text-align: right;\">\n",
       "      <th></th>\n",
       "      <th>children</th>\n",
       "      <th>dob_years</th>\n",
       "      <th>education_id</th>\n",
       "      <th>family_status_id</th>\n",
       "      <th>gender</th>\n",
       "      <th>income_type</th>\n",
       "      <th>debt</th>\n",
       "      <th>total_income</th>\n",
       "      <th>purpose</th>\n",
       "      <th>total_income_category</th>\n",
       "    </tr>\n",
       "  </thead>\n",
       "  <tbody>\n",
       "    <tr>\n",
       "      <th>0</th>\n",
       "      <td>1</td>\n",
       "      <td>42</td>\n",
       "      <td>0</td>\n",
       "      <td>0</td>\n",
       "      <td>F</td>\n",
       "      <td>сотрудник</td>\n",
       "      <td>0</td>\n",
       "      <td>253875</td>\n",
       "      <td>покупка жилья</td>\n",
       "      <td>B</td>\n",
       "    </tr>\n",
       "    <tr>\n",
       "      <th>1</th>\n",
       "      <td>1</td>\n",
       "      <td>36</td>\n",
       "      <td>1</td>\n",
       "      <td>0</td>\n",
       "      <td>F</td>\n",
       "      <td>сотрудник</td>\n",
       "      <td>0</td>\n",
       "      <td>112080</td>\n",
       "      <td>приобретение автомобиля</td>\n",
       "      <td>C</td>\n",
       "    </tr>\n",
       "    <tr>\n",
       "      <th>2</th>\n",
       "      <td>0</td>\n",
       "      <td>33</td>\n",
       "      <td>1</td>\n",
       "      <td>0</td>\n",
       "      <td>M</td>\n",
       "      <td>сотрудник</td>\n",
       "      <td>0</td>\n",
       "      <td>145885</td>\n",
       "      <td>покупка жилья</td>\n",
       "      <td>C</td>\n",
       "    </tr>\n",
       "    <tr>\n",
       "      <th>3</th>\n",
       "      <td>3</td>\n",
       "      <td>32</td>\n",
       "      <td>1</td>\n",
       "      <td>0</td>\n",
       "      <td>M</td>\n",
       "      <td>сотрудник</td>\n",
       "      <td>0</td>\n",
       "      <td>267628</td>\n",
       "      <td>дополнительное образование</td>\n",
       "      <td>B</td>\n",
       "    </tr>\n",
       "    <tr>\n",
       "      <th>4</th>\n",
       "      <td>0</td>\n",
       "      <td>53</td>\n",
       "      <td>1</td>\n",
       "      <td>1</td>\n",
       "      <td>F</td>\n",
       "      <td>пенсионер</td>\n",
       "      <td>0</td>\n",
       "      <td>158616</td>\n",
       "      <td>сыграть свадьбу</td>\n",
       "      <td>C</td>\n",
       "    </tr>\n",
       "    <tr>\n",
       "      <th>5</th>\n",
       "      <td>0</td>\n",
       "      <td>27</td>\n",
       "      <td>0</td>\n",
       "      <td>1</td>\n",
       "      <td>M</td>\n",
       "      <td>компаньон</td>\n",
       "      <td>0</td>\n",
       "      <td>255763</td>\n",
       "      <td>покупка жилья</td>\n",
       "      <td>B</td>\n",
       "    </tr>\n",
       "    <tr>\n",
       "      <th>6</th>\n",
       "      <td>0</td>\n",
       "      <td>43</td>\n",
       "      <td>0</td>\n",
       "      <td>0</td>\n",
       "      <td>F</td>\n",
       "      <td>компаньон</td>\n",
       "      <td>0</td>\n",
       "      <td>240525</td>\n",
       "      <td>операции с жильем</td>\n",
       "      <td>B</td>\n",
       "    </tr>\n",
       "    <tr>\n",
       "      <th>7</th>\n",
       "      <td>0</td>\n",
       "      <td>50</td>\n",
       "      <td>1</td>\n",
       "      <td>0</td>\n",
       "      <td>M</td>\n",
       "      <td>сотрудник</td>\n",
       "      <td>0</td>\n",
       "      <td>135823</td>\n",
       "      <td>образование</td>\n",
       "      <td>C</td>\n",
       "    </tr>\n",
       "    <tr>\n",
       "      <th>8</th>\n",
       "      <td>2</td>\n",
       "      <td>35</td>\n",
       "      <td>0</td>\n",
       "      <td>1</td>\n",
       "      <td>F</td>\n",
       "      <td>сотрудник</td>\n",
       "      <td>0</td>\n",
       "      <td>95856</td>\n",
       "      <td>на проведение свадьбы</td>\n",
       "      <td>C</td>\n",
       "    </tr>\n",
       "    <tr>\n",
       "      <th>9</th>\n",
       "      <td>0</td>\n",
       "      <td>41</td>\n",
       "      <td>1</td>\n",
       "      <td>0</td>\n",
       "      <td>M</td>\n",
       "      <td>сотрудник</td>\n",
       "      <td>0</td>\n",
       "      <td>144425</td>\n",
       "      <td>покупка жилья для семьи</td>\n",
       "      <td>C</td>\n",
       "    </tr>\n",
       "  </tbody>\n",
       "</table>\n",
       "</div>"
      ],
      "text/plain": [
       "   children  dob_years  education_id  family_status_id gender income_type  \\\n",
       "0         1         42             0                 0      F   сотрудник   \n",
       "1         1         36             1                 0      F   сотрудник   \n",
       "2         0         33             1                 0      M   сотрудник   \n",
       "3         3         32             1                 0      M   сотрудник   \n",
       "4         0         53             1                 1      F   пенсионер   \n",
       "5         0         27             0                 1      M   компаньон   \n",
       "6         0         43             0                 0      F   компаньон   \n",
       "7         0         50             1                 0      M   сотрудник   \n",
       "8         2         35             0                 1      F   сотрудник   \n",
       "9         0         41             1                 0      M   сотрудник   \n",
       "\n",
       "   debt  total_income                     purpose total_income_category  \n",
       "0     0        253875               покупка жилья                     B  \n",
       "1     0        112080     приобретение автомобиля                     C  \n",
       "2     0        145885               покупка жилья                     C  \n",
       "3     0        267628  дополнительное образование                     B  \n",
       "4     0        158616             сыграть свадьбу                     C  \n",
       "5     0        255763               покупка жилья                     B  \n",
       "6     0        240525           операции с жильем                     B  \n",
       "7     0        135823                 образование                     C  \n",
       "8     0         95856       на проведение свадьбы                     C  \n",
       "9     0        144425     покупка жилья для семьи                     C  "
      ]
     },
     "execution_count": 33,
     "metadata": {},
     "output_type": "execute_result"
    }
   ],
   "source": [
    "# Добавление столбца с категорией дохода заемщика\n",
    "\n",
    "df['total_income_category'] = df['total_income'].apply(income)\n",
    "\n",
    "df.head(10)"
   ]
  },
  {
   "cell_type": "code",
   "execution_count": 34,
   "id": "167768b5",
   "metadata": {},
   "outputs": [
    {
     "data": {
      "text/plain": [
       "C    15960\n",
       "B     5020\n",
       "D      350\n",
       "A       25\n",
       "E       22\n",
       "Name: total_income_category, dtype: int64"
      ]
     },
     "execution_count": 34,
     "metadata": {},
     "output_type": "execute_result"
    }
   ],
   "source": [
    "df['total_income_category'].value_counts() # Проверка на присутствие всех категорий в датафрейме"
   ]
  },
  {
   "cell_type": "markdown",
   "id": "deecd1bd",
   "metadata": {},
   "source": [
    "### Категоризация целей кредита."
   ]
  },
  {
   "cell_type": "code",
   "execution_count": 35,
   "id": "f8f59ee8",
   "metadata": {},
   "outputs": [
    {
     "data": {
      "text/plain": [
       "array(['покупка жилья', 'приобретение автомобиля',\n",
       "       'дополнительное образование', 'сыграть свадьбу',\n",
       "       'операции с жильем', 'образование', 'на проведение свадьбы',\n",
       "       'покупка жилья для семьи', 'покупка недвижимости',\n",
       "       'покупка коммерческой недвижимости', 'покупка жилой недвижимости',\n",
       "       'строительство собственной недвижимости', 'недвижимость',\n",
       "       'строительство недвижимости', 'на покупку подержанного автомобиля',\n",
       "       'на покупку своего автомобиля',\n",
       "       'операции с коммерческой недвижимостью',\n",
       "       'строительство жилой недвижимости', 'жилье',\n",
       "       'операции со своей недвижимостью', 'автомобили',\n",
       "       'заняться образованием', 'сделка с подержанным автомобилем',\n",
       "       'получение образования', 'автомобиль', 'свадьба',\n",
       "       'получение дополнительного образования', 'покупка своего жилья',\n",
       "       'операции с недвижимостью', 'получение высшего образования',\n",
       "       'свой автомобиль', 'сделка с автомобилем',\n",
       "       'профильное образование', 'высшее образование',\n",
       "       'покупка жилья для сдачи', 'на покупку автомобиля', 'ремонт жилью',\n",
       "       'заняться высшим образованием'], dtype=object)"
      ]
     },
     "execution_count": 35,
     "metadata": {},
     "output_type": "execute_result"
    }
   ],
   "source": [
    "# Получение всех уникальных значений столбца \"purpose\"\n",
    "\n",
    "df['purpose'].unique()"
   ]
  },
  {
   "cell_type": "code",
   "execution_count": 36,
   "id": "0a88ccb9",
   "metadata": {},
   "outputs": [
    {
     "name": "stdout",
     "output_type": "stream",
     "text": [
      "True\n"
     ]
    }
   ],
   "source": [
    "# Создание списков со схожими значениями\n",
    "\n",
    "car, immovables, wedding, education = [], [], [], []\n",
    "\n",
    "for i in df['purpose'].unique():\n",
    "    if 'жил' in i or 'недвиж' in i:\n",
    "        immovables.append(i)\n",
    "    elif 'образован' in i:\n",
    "        education.append(i)\n",
    "    elif 'свадьб' in i:\n",
    "        wedding.append(i)\n",
    "    elif 'автом' in i:\n",
    "        car.append(i)\n",
    "\n",
    "# Проверка что все значения добавлены в списки\n",
    "\n",
    "print(\n",
    "    (len(car) + len(immovables) + len(wedding) + len(education)) == len(df['purpose'].unique())\n",
    ")"
   ]
  },
  {
   "cell_type": "code",
   "execution_count": 37,
   "id": "93547729",
   "metadata": {},
   "outputs": [],
   "source": [
    "# Создание функции для определения категории цели займа\n",
    "\n",
    "def purpose_category(value):\n",
    "    if value in car:\n",
    "        return 'операции с автомобилем'\n",
    "    if value in immovables:\n",
    "        return 'операции с недвижимостью'\n",
    "    if value in wedding:\n",
    "        return 'проведение свадьбы'\n",
    "    if value in education:\n",
    "        return 'получение образования'"
   ]
  },
  {
   "cell_type": "code",
   "execution_count": 38,
   "id": "d48e7d29",
   "metadata": {},
   "outputs": [
    {
     "data": {
      "text/html": [
       "<div>\n",
       "<style scoped>\n",
       "    .dataframe tbody tr th:only-of-type {\n",
       "        vertical-align: middle;\n",
       "    }\n",
       "\n",
       "    .dataframe tbody tr th {\n",
       "        vertical-align: top;\n",
       "    }\n",
       "\n",
       "    .dataframe thead th {\n",
       "        text-align: right;\n",
       "    }\n",
       "</style>\n",
       "<table border=\"1\" class=\"dataframe\">\n",
       "  <thead>\n",
       "    <tr style=\"text-align: right;\">\n",
       "      <th></th>\n",
       "      <th>children</th>\n",
       "      <th>dob_years</th>\n",
       "      <th>education_id</th>\n",
       "      <th>family_status_id</th>\n",
       "      <th>gender</th>\n",
       "      <th>income_type</th>\n",
       "      <th>debt</th>\n",
       "      <th>total_income</th>\n",
       "      <th>purpose</th>\n",
       "      <th>total_income_category</th>\n",
       "      <th>purpose_category</th>\n",
       "    </tr>\n",
       "  </thead>\n",
       "  <tbody>\n",
       "    <tr>\n",
       "      <th>0</th>\n",
       "      <td>1</td>\n",
       "      <td>42</td>\n",
       "      <td>0</td>\n",
       "      <td>0</td>\n",
       "      <td>F</td>\n",
       "      <td>сотрудник</td>\n",
       "      <td>0</td>\n",
       "      <td>253875</td>\n",
       "      <td>покупка жилья</td>\n",
       "      <td>B</td>\n",
       "      <td>операции с недвижимостью</td>\n",
       "    </tr>\n",
       "    <tr>\n",
       "      <th>1</th>\n",
       "      <td>1</td>\n",
       "      <td>36</td>\n",
       "      <td>1</td>\n",
       "      <td>0</td>\n",
       "      <td>F</td>\n",
       "      <td>сотрудник</td>\n",
       "      <td>0</td>\n",
       "      <td>112080</td>\n",
       "      <td>приобретение автомобиля</td>\n",
       "      <td>C</td>\n",
       "      <td>операции с автомобилем</td>\n",
       "    </tr>\n",
       "    <tr>\n",
       "      <th>2</th>\n",
       "      <td>0</td>\n",
       "      <td>33</td>\n",
       "      <td>1</td>\n",
       "      <td>0</td>\n",
       "      <td>M</td>\n",
       "      <td>сотрудник</td>\n",
       "      <td>0</td>\n",
       "      <td>145885</td>\n",
       "      <td>покупка жилья</td>\n",
       "      <td>C</td>\n",
       "      <td>операции с недвижимостью</td>\n",
       "    </tr>\n",
       "    <tr>\n",
       "      <th>3</th>\n",
       "      <td>3</td>\n",
       "      <td>32</td>\n",
       "      <td>1</td>\n",
       "      <td>0</td>\n",
       "      <td>M</td>\n",
       "      <td>сотрудник</td>\n",
       "      <td>0</td>\n",
       "      <td>267628</td>\n",
       "      <td>дополнительное образование</td>\n",
       "      <td>B</td>\n",
       "      <td>получение образования</td>\n",
       "    </tr>\n",
       "    <tr>\n",
       "      <th>4</th>\n",
       "      <td>0</td>\n",
       "      <td>53</td>\n",
       "      <td>1</td>\n",
       "      <td>1</td>\n",
       "      <td>F</td>\n",
       "      <td>пенсионер</td>\n",
       "      <td>0</td>\n",
       "      <td>158616</td>\n",
       "      <td>сыграть свадьбу</td>\n",
       "      <td>C</td>\n",
       "      <td>проведение свадьбы</td>\n",
       "    </tr>\n",
       "    <tr>\n",
       "      <th>5</th>\n",
       "      <td>0</td>\n",
       "      <td>27</td>\n",
       "      <td>0</td>\n",
       "      <td>1</td>\n",
       "      <td>M</td>\n",
       "      <td>компаньон</td>\n",
       "      <td>0</td>\n",
       "      <td>255763</td>\n",
       "      <td>покупка жилья</td>\n",
       "      <td>B</td>\n",
       "      <td>операции с недвижимостью</td>\n",
       "    </tr>\n",
       "    <tr>\n",
       "      <th>6</th>\n",
       "      <td>0</td>\n",
       "      <td>43</td>\n",
       "      <td>0</td>\n",
       "      <td>0</td>\n",
       "      <td>F</td>\n",
       "      <td>компаньон</td>\n",
       "      <td>0</td>\n",
       "      <td>240525</td>\n",
       "      <td>операции с жильем</td>\n",
       "      <td>B</td>\n",
       "      <td>операции с недвижимостью</td>\n",
       "    </tr>\n",
       "    <tr>\n",
       "      <th>7</th>\n",
       "      <td>0</td>\n",
       "      <td>50</td>\n",
       "      <td>1</td>\n",
       "      <td>0</td>\n",
       "      <td>M</td>\n",
       "      <td>сотрудник</td>\n",
       "      <td>0</td>\n",
       "      <td>135823</td>\n",
       "      <td>образование</td>\n",
       "      <td>C</td>\n",
       "      <td>получение образования</td>\n",
       "    </tr>\n",
       "    <tr>\n",
       "      <th>8</th>\n",
       "      <td>2</td>\n",
       "      <td>35</td>\n",
       "      <td>0</td>\n",
       "      <td>1</td>\n",
       "      <td>F</td>\n",
       "      <td>сотрудник</td>\n",
       "      <td>0</td>\n",
       "      <td>95856</td>\n",
       "      <td>на проведение свадьбы</td>\n",
       "      <td>C</td>\n",
       "      <td>проведение свадьбы</td>\n",
       "    </tr>\n",
       "    <tr>\n",
       "      <th>9</th>\n",
       "      <td>0</td>\n",
       "      <td>41</td>\n",
       "      <td>1</td>\n",
       "      <td>0</td>\n",
       "      <td>M</td>\n",
       "      <td>сотрудник</td>\n",
       "      <td>0</td>\n",
       "      <td>144425</td>\n",
       "      <td>покупка жилья для семьи</td>\n",
       "      <td>C</td>\n",
       "      <td>операции с недвижимостью</td>\n",
       "    </tr>\n",
       "  </tbody>\n",
       "</table>\n",
       "</div>"
      ],
      "text/plain": [
       "   children  dob_years  education_id  family_status_id gender income_type  \\\n",
       "0         1         42             0                 0      F   сотрудник   \n",
       "1         1         36             1                 0      F   сотрудник   \n",
       "2         0         33             1                 0      M   сотрудник   \n",
       "3         3         32             1                 0      M   сотрудник   \n",
       "4         0         53             1                 1      F   пенсионер   \n",
       "5         0         27             0                 1      M   компаньон   \n",
       "6         0         43             0                 0      F   компаньон   \n",
       "7         0         50             1                 0      M   сотрудник   \n",
       "8         2         35             0                 1      F   сотрудник   \n",
       "9         0         41             1                 0      M   сотрудник   \n",
       "\n",
       "   debt  total_income                     purpose total_income_category  \\\n",
       "0     0        253875               покупка жилья                     B   \n",
       "1     0        112080     приобретение автомобиля                     C   \n",
       "2     0        145885               покупка жилья                     C   \n",
       "3     0        267628  дополнительное образование                     B   \n",
       "4     0        158616             сыграть свадьбу                     C   \n",
       "5     0        255763               покупка жилья                     B   \n",
       "6     0        240525           операции с жильем                     B   \n",
       "7     0        135823                 образование                     C   \n",
       "8     0         95856       на проведение свадьбы                     C   \n",
       "9     0        144425     покупка жилья для семьи                     C   \n",
       "\n",
       "           purpose_category  \n",
       "0  операции с недвижимостью  \n",
       "1    операции с автомобилем  \n",
       "2  операции с недвижимостью  \n",
       "3     получение образования  \n",
       "4        проведение свадьбы  \n",
       "5  операции с недвижимостью  \n",
       "6  операции с недвижимостью  \n",
       "7     получение образования  \n",
       "8        проведение свадьбы  \n",
       "9  операции с недвижимостью  "
      ]
     },
     "execution_count": 38,
     "metadata": {},
     "output_type": "execute_result"
    }
   ],
   "source": [
    "# Добавление столбца с категорией цели займа\n",
    "\n",
    "df['purpose_category'] = df['purpose'].apply(purpose_category)\n",
    "\n",
    "df.head(10)"
   ]
  },
  {
   "cell_type": "markdown",
   "id": "9009effa",
   "metadata": {},
   "source": [
    "### Выводы по предобработке данных\n",
    "\n",
    "Предобработка обнаружила проблемы в данных:\n",
    "\n",
    "- аномалии в стаже работы, гендере и возрасте\n",
    "- пропущенные значения\n",
    "- дубликаты\n",
    "\n",
    "Все найденые проблемы исправили.\n",
    "\n",
    "Создали несколько \"словарей\" с семейным положением и целями кредита.\n",
    "\n",
    "Разделили по категориям значения дохода заемщика и заменили данные в исходном датафрейме.\n"
   ]
  },
  {
   "cell_type": "markdown",
   "id": "5640be0a",
   "metadata": {},
   "source": [
    "## Ответы на вопросы."
   ]
  },
  {
   "cell_type": "markdown",
   "id": "66059243",
   "metadata": {},
   "source": [
    "### Вопрос 1: Есть ли зависимость между количеством детей и возвратом кредита в срок?"
   ]
  },
  {
   "cell_type": "code",
   "execution_count": 39,
   "id": "a0f9c909",
   "metadata": {},
   "outputs": [
    {
     "data": {
      "text/html": [
       "<div>\n",
       "<style scoped>\n",
       "    .dataframe tbody tr th:only-of-type {\n",
       "        vertical-align: middle;\n",
       "    }\n",
       "\n",
       "    .dataframe tbody tr th {\n",
       "        vertical-align: top;\n",
       "    }\n",
       "\n",
       "    .dataframe thead tr th {\n",
       "        text-align: left;\n",
       "    }\n",
       "\n",
       "    .dataframe thead tr:last-of-type th {\n",
       "        text-align: right;\n",
       "    }\n",
       "</style>\n",
       "<table border=\"1\" class=\"dataframe\">\n",
       "  <thead>\n",
       "    <tr>\n",
       "      <th></th>\n",
       "      <th>count</th>\n",
       "      <th>sum</th>\n",
       "      <th>mean</th>\n",
       "    </tr>\n",
       "    <tr>\n",
       "      <th></th>\n",
       "      <th>debt</th>\n",
       "      <th>debt</th>\n",
       "      <th>debt</th>\n",
       "    </tr>\n",
       "    <tr>\n",
       "      <th>children</th>\n",
       "      <th></th>\n",
       "      <th></th>\n",
       "      <th></th>\n",
       "    </tr>\n",
       "  </thead>\n",
       "  <tbody>\n",
       "    <tr>\n",
       "      <th>0</th>\n",
       "      <td>14090</td>\n",
       "      <td>1063</td>\n",
       "      <td>0.075444</td>\n",
       "    </tr>\n",
       "    <tr>\n",
       "      <th>1</th>\n",
       "      <td>4855</td>\n",
       "      <td>445</td>\n",
       "      <td>0.091658</td>\n",
       "    </tr>\n",
       "    <tr>\n",
       "      <th>2</th>\n",
       "      <td>2052</td>\n",
       "      <td>194</td>\n",
       "      <td>0.094542</td>\n",
       "    </tr>\n",
       "    <tr>\n",
       "      <th>3</th>\n",
       "      <td>330</td>\n",
       "      <td>27</td>\n",
       "      <td>0.081818</td>\n",
       "    </tr>\n",
       "    <tr>\n",
       "      <th>4</th>\n",
       "      <td>41</td>\n",
       "      <td>4</td>\n",
       "      <td>0.097561</td>\n",
       "    </tr>\n",
       "    <tr>\n",
       "      <th>5</th>\n",
       "      <td>9</td>\n",
       "      <td>0</td>\n",
       "      <td>0.000000</td>\n",
       "    </tr>\n",
       "  </tbody>\n",
       "</table>\n",
       "</div>"
      ],
      "text/plain": [
       "          count   sum      mean\n",
       "           debt  debt      debt\n",
       "children                       \n",
       "0         14090  1063  0.075444\n",
       "1          4855   445  0.091658\n",
       "2          2052   194  0.094542\n",
       "3           330    27  0.081818\n",
       "4            41     4  0.097561\n",
       "5             9     0  0.000000"
      ]
     },
     "metadata": {},
     "output_type": "display_data"
    },
    {
     "data": {
      "text/plain": [
       "<AxesSubplot:>"
      ]
     },
     "execution_count": 39,
     "metadata": {},
     "output_type": "execute_result"
    },
    {
     "data": {
      "image/png": "[encoded data removed]",
      "text/plain": [
       "<Figure size 432x288 with 1 Axes>"
      ]
     },
     "metadata": {
      "needs_background": "light"
     },
     "output_type": "display_data"
    }
   ],
   "source": [
    "# Создание сводной таблицы зависимотсти задолженостей от количества детей\n",
    "\n",
    "display(pd.pivot_table(df, index='children', values=['debt'], aggfunc=['count', 'sum', 'mean']))\n",
    "\n",
    "# Построение диаграммы зависимости задолженостей от количества детей\n",
    "\n",
    "x=list(df.groupby('children')['debt'].mean())\n",
    "y = list(df['children'].unique())\n",
    "y.sort()\n",
    "sns.barplot(x=y, y=x)"
   ]
  },
  {
   "cell_type": "markdown",
   "id": "d25e75f2",
   "metadata": {},
   "source": [
    "### Вывод 1:"
   ]
  },
  {
   "cell_type": "markdown",
   "id": "9adc1071",
   "metadata": {},
   "source": [
    "Процент возврта кредита везде примерно одинаковый, кроме последнего значения. А вот количество взятых кредитов существенно отличается, чем больше детей в семье, тем реже берутся кредиты."
   ]
  },
  {
   "cell_type": "markdown",
   "id": "39c67614",
   "metadata": {},
   "source": [
    "### Вопрос 2: Есть ли зависимость между семейным положением и возвратом кредита в срок?"
   ]
  },
  {
   "cell_type": "code",
   "execution_count": 40,
   "id": "5663322d",
   "metadata": {},
   "outputs": [
    {
     "name": "stderr",
     "output_type": "stream",
     "text": [
      "/opt/conda/lib/python3.9/site-packages/pandas/core/reshape/merge.py:648: UserWarning: merging between different levels can give an unintended result (1 levels on the left,2 on the right)\n",
      "  warnings.warn(msg, UserWarning)\n"
     ]
    },
    {
     "data": {
      "text/html": [
       "<div>\n",
       "<style scoped>\n",
       "    .dataframe tbody tr th:only-of-type {\n",
       "        vertical-align: middle;\n",
       "    }\n",
       "\n",
       "    .dataframe tbody tr th {\n",
       "        vertical-align: top;\n",
       "    }\n",
       "\n",
       "    .dataframe thead tr th {\n",
       "        text-align: left;\n",
       "    }\n",
       "</style>\n",
       "<table border=\"1\" class=\"dataframe\">\n",
       "  <thead>\n",
       "    <tr>\n",
       "      <th></th>\n",
       "      <th>family_status_id</th>\n",
       "      <th>family_status</th>\n",
       "      <th colspan=\"3\" halign=\"left\">debt</th>\n",
       "    </tr>\n",
       "    <tr>\n",
       "      <th></th>\n",
       "      <th></th>\n",
       "      <th></th>\n",
       "      <th>count</th>\n",
       "      <th>sum</th>\n",
       "      <th>mean</th>\n",
       "    </tr>\n",
       "  </thead>\n",
       "  <tbody>\n",
       "    <tr>\n",
       "      <th>0</th>\n",
       "      <td>0</td>\n",
       "      <td>женат / замужем</td>\n",
       "      <td>12290</td>\n",
       "      <td>928</td>\n",
       "      <td>0.075509</td>\n",
       "    </tr>\n",
       "    <tr>\n",
       "      <th>1</th>\n",
       "      <td>1</td>\n",
       "      <td>гражданский брак</td>\n",
       "      <td>4138</td>\n",
       "      <td>385</td>\n",
       "      <td>0.093040</td>\n",
       "    </tr>\n",
       "    <tr>\n",
       "      <th>2</th>\n",
       "      <td>2</td>\n",
       "      <td>вдовец / вдова</td>\n",
       "      <td>955</td>\n",
       "      <td>63</td>\n",
       "      <td>0.065969</td>\n",
       "    </tr>\n",
       "    <tr>\n",
       "      <th>3</th>\n",
       "      <td>3</td>\n",
       "      <td>в разводе</td>\n",
       "      <td>1193</td>\n",
       "      <td>84</td>\n",
       "      <td>0.070411</td>\n",
       "    </tr>\n",
       "    <tr>\n",
       "      <th>4</th>\n",
       "      <td>4</td>\n",
       "      <td>Не женат / не замужем</td>\n",
       "      <td>2801</td>\n",
       "      <td>273</td>\n",
       "      <td>0.097465</td>\n",
       "    </tr>\n",
       "  </tbody>\n",
       "</table>\n",
       "</div>"
      ],
      "text/plain": [
       "  family_status_id          family_status   debt               \n",
       "                                           count  sum      mean\n",
       "0                0        женат / замужем  12290  928  0.075509\n",
       "1                1       гражданский брак   4138  385  0.093040\n",
       "2                2         вдовец / вдова    955   63  0.065969\n",
       "3                3              в разводе   1193   84  0.070411\n",
       "4                4  Не женат / не замужем   2801  273  0.097465"
      ]
     },
     "metadata": {},
     "output_type": "display_data"
    }
   ],
   "source": [
    "# Объединение нескольких таблиц и расчет метрик\n",
    "\n",
    "df_family_status_debt_merge = (\n",
    "    pd.pivot_table(\n",
    "        df, index='family_status_id', values=['debt'], aggfunc=['count', 'sum', 'mean']\n",
    "    )\n",
    ")\n",
    "\n",
    "df_family_status_debt_merge.columns = pd.MultiIndex.from_tuples(\n",
    "    [('debt','count'), ('debt','sum'), ('debt','mean')]\n",
    ")\n",
    "\n",
    "df_family_status_debt_merge = df_family_status.join(\n",
    "    df_family_status_debt_merge, how='left'\n",
    ")\n",
    "\n",
    "df_family_status_debt_merge.columns = pd.MultiIndex.from_tuples(\n",
    "    [\n",
    "        ('family_status_id',''),\n",
    "        ('family_status', ''),\n",
    "        ('debt','count'),\n",
    "        ('debt','sum'),\n",
    "        ('debt','mean')\n",
    "    ]\n",
    ")\n",
    "\n",
    "display(df_family_status_debt_merge)"
   ]
  },
  {
   "cell_type": "code",
   "execution_count": 41,
   "id": "c98c5abb",
   "metadata": {},
   "outputs": [
    {
     "data": {
      "text/plain": [
       "<AxesSubplot:>"
      ]
     },
     "execution_count": 41,
     "metadata": {},
     "output_type": "execute_result"
    },
    {
     "data": {
      "image/png": "[encoded data removed]",
      "text/plain": [
       "<Figure size 432x288 with 1 Axes>"
      ]
     },
     "metadata": {
      "needs_background": "light"
     },
     "output_type": "display_data"
    }
   ],
   "source": [
    "# Среднее значение по категориям семейного положения\n",
    "\n",
    "df_family_status_debt = df.groupby('family_status_id')['debt'].mean()\n",
    "df_family_status_debt = df_family_status.join(df_family_status_debt)\n",
    "\n",
    "sns.barplot(y=list(df_family_status_debt['family_status']), x=list(df_family_status_debt['debt']))"
   ]
  },
  {
   "cell_type": "code",
   "execution_count": 42,
   "id": "f8096214",
   "metadata": {},
   "outputs": [
    {
     "data": {
      "text/html": [
       "<div>\n",
       "<style scoped>\n",
       "    .dataframe tbody tr th:only-of-type {\n",
       "        vertical-align: middle;\n",
       "    }\n",
       "\n",
       "    .dataframe tbody tr th {\n",
       "        vertical-align: top;\n",
       "    }\n",
       "\n",
       "    .dataframe thead tr th {\n",
       "        text-align: left;\n",
       "    }\n",
       "\n",
       "    .dataframe thead tr:last-of-type th {\n",
       "        text-align: right;\n",
       "    }\n",
       "</style>\n",
       "<table border=\"1\" class=\"dataframe\">\n",
       "  <thead>\n",
       "    <tr>\n",
       "      <th></th>\n",
       "      <th colspan=\"6\" halign=\"left\">debt</th>\n",
       "    </tr>\n",
       "    <tr>\n",
       "      <th>children</th>\n",
       "      <th>0</th>\n",
       "      <th>1</th>\n",
       "      <th>2</th>\n",
       "      <th>3</th>\n",
       "      <th>4</th>\n",
       "      <th>5</th>\n",
       "    </tr>\n",
       "    <tr>\n",
       "      <th>family_status</th>\n",
       "      <th></th>\n",
       "      <th></th>\n",
       "      <th></th>\n",
       "      <th></th>\n",
       "      <th></th>\n",
       "      <th></th>\n",
       "    </tr>\n",
       "  </thead>\n",
       "  <tbody>\n",
       "    <tr>\n",
       "      <th>Не женат / не замужем</th>\n",
       "      <td>2262.0</td>\n",
       "      <td>454.0</td>\n",
       "      <td>75.0</td>\n",
       "      <td>8.0</td>\n",
       "      <td>2.0</td>\n",
       "      <td>NaN</td>\n",
       "    </tr>\n",
       "    <tr>\n",
       "      <th>в разводе</th>\n",
       "      <td>784.0</td>\n",
       "      <td>316.0</td>\n",
       "      <td>81.0</td>\n",
       "      <td>11.0</td>\n",
       "      <td>1.0</td>\n",
       "      <td>NaN</td>\n",
       "    </tr>\n",
       "    <tr>\n",
       "      <th>вдовец / вдова</th>\n",
       "      <td>847.0</td>\n",
       "      <td>81.0</td>\n",
       "      <td>20.0</td>\n",
       "      <td>6.0</td>\n",
       "      <td>1.0</td>\n",
       "      <td>NaN</td>\n",
       "    </tr>\n",
       "    <tr>\n",
       "      <th>гражданский брак</th>\n",
       "      <td>2729.0</td>\n",
       "      <td>1000.0</td>\n",
       "      <td>343.0</td>\n",
       "      <td>56.0</td>\n",
       "      <td>8.0</td>\n",
       "      <td>2.0</td>\n",
       "    </tr>\n",
       "    <tr>\n",
       "      <th>женат / замужем</th>\n",
       "      <td>7468.0</td>\n",
       "      <td>3004.0</td>\n",
       "      <td>1533.0</td>\n",
       "      <td>249.0</td>\n",
       "      <td>29.0</td>\n",
       "      <td>7.0</td>\n",
       "    </tr>\n",
       "  </tbody>\n",
       "</table>\n",
       "</div>"
      ],
      "text/plain": [
       "                         debt                                  \n",
       "children                    0       1       2      3     4    5\n",
       "family_status                                                  \n",
       "Не женат / не замужем  2262.0   454.0    75.0    8.0   2.0  NaN\n",
       "в разводе               784.0   316.0    81.0   11.0   1.0  NaN\n",
       "вдовец / вдова          847.0    81.0    20.0    6.0   1.0  NaN\n",
       "гражданский брак       2729.0  1000.0   343.0   56.0   8.0  2.0\n",
       "женат / замужем        7468.0  3004.0  1533.0  249.0  29.0  7.0"
      ]
     },
     "metadata": {},
     "output_type": "display_data"
    }
   ],
   "source": [
    "df_children_family_status = df.merge(df_family_status)\n",
    "\n",
    "# количество кредитов с разбивкой по семейному положению и количеству детей\n",
    "\n",
    "display(pd.pivot_table(df_children_family_status,\n",
    "    index='family_status',\n",
    "    columns='children',\n",
    "    values=['debt'],\n",
    "    aggfunc='count'\n",
    "    )\n",
    ")"
   ]
  },
  {
   "cell_type": "code",
   "execution_count": 43,
   "id": "2d5b399e",
   "metadata": {},
   "outputs": [
    {
     "data": {
      "text/html": [
       "<div>\n",
       "<style scoped>\n",
       "    .dataframe tbody tr th:only-of-type {\n",
       "        vertical-align: middle;\n",
       "    }\n",
       "\n",
       "    .dataframe tbody tr th {\n",
       "        vertical-align: top;\n",
       "    }\n",
       "\n",
       "    .dataframe thead tr th {\n",
       "        text-align: left;\n",
       "    }\n",
       "\n",
       "    .dataframe thead tr:last-of-type th {\n",
       "        text-align: right;\n",
       "    }\n",
       "</style>\n",
       "<table border=\"1\" class=\"dataframe\">\n",
       "  <thead>\n",
       "    <tr>\n",
       "      <th></th>\n",
       "      <th colspan=\"6\" halign=\"left\">debt</th>\n",
       "    </tr>\n",
       "    <tr>\n",
       "      <th>children</th>\n",
       "      <th>0</th>\n",
       "      <th>1</th>\n",
       "      <th>2</th>\n",
       "      <th>3</th>\n",
       "      <th>4</th>\n",
       "      <th>5</th>\n",
       "    </tr>\n",
       "    <tr>\n",
       "      <th>family_status</th>\n",
       "      <th></th>\n",
       "      <th></th>\n",
       "      <th></th>\n",
       "      <th></th>\n",
       "      <th></th>\n",
       "      <th></th>\n",
       "    </tr>\n",
       "  </thead>\n",
       "  <tbody>\n",
       "    <tr>\n",
       "      <th>Не женат / не замужем</th>\n",
       "      <td>0.092838</td>\n",
       "      <td>0.114537</td>\n",
       "      <td>0.120000</td>\n",
       "      <td>0.125000</td>\n",
       "      <td>0.500000</td>\n",
       "      <td>NaN</td>\n",
       "    </tr>\n",
       "    <tr>\n",
       "      <th>в разводе</th>\n",
       "      <td>0.070153</td>\n",
       "      <td>0.066456</td>\n",
       "      <td>0.086420</td>\n",
       "      <td>0.090909</td>\n",
       "      <td>0.000000</td>\n",
       "      <td>NaN</td>\n",
       "    </tr>\n",
       "    <tr>\n",
       "      <th>вдовец / вдова</th>\n",
       "      <td>0.062574</td>\n",
       "      <td>0.086420</td>\n",
       "      <td>0.150000</td>\n",
       "      <td>0.000000</td>\n",
       "      <td>0.000000</td>\n",
       "      <td>NaN</td>\n",
       "    </tr>\n",
       "    <tr>\n",
       "      <th>гражданский брак</th>\n",
       "      <td>0.083914</td>\n",
       "      <td>0.118000</td>\n",
       "      <td>0.087464</td>\n",
       "      <td>0.142857</td>\n",
       "      <td>0.000000</td>\n",
       "      <td>0.0</td>\n",
       "    </tr>\n",
       "    <tr>\n",
       "      <th>женат / замужем</th>\n",
       "      <td>0.069095</td>\n",
       "      <td>0.082224</td>\n",
       "      <td>0.094586</td>\n",
       "      <td>0.068273</td>\n",
       "      <td>0.103448</td>\n",
       "      <td>0.0</td>\n",
       "    </tr>\n",
       "  </tbody>\n",
       "</table>\n",
       "</div>"
      ],
      "text/plain": [
       "                           debt                                             \n",
       "children                      0         1         2         3         4    5\n",
       "family_status                                                               \n",
       "Не женат / не замужем  0.092838  0.114537  0.120000  0.125000  0.500000  NaN\n",
       "в разводе              0.070153  0.066456  0.086420  0.090909  0.000000  NaN\n",
       "вдовец / вдова         0.062574  0.086420  0.150000  0.000000  0.000000  NaN\n",
       "гражданский брак       0.083914  0.118000  0.087464  0.142857  0.000000  0.0\n",
       "женат / замужем        0.069095  0.082224  0.094586  0.068273  0.103448  0.0"
      ]
     },
     "metadata": {},
     "output_type": "display_data"
    }
   ],
   "source": [
    "# среднее значение по должникам \n",
    "\n",
    "display(pd.pivot_table(df_children_family_status,\n",
    "    index='family_status',\n",
    "    columns='children',\n",
    "    values=['debt'],\n",
    "    aggfunc='mean'\n",
    "    )\n",
    ")"
   ]
  },
  {
   "cell_type": "code",
   "execution_count": 44,
   "id": "ce209c6f",
   "metadata": {},
   "outputs": [
    {
     "data": {
      "text/plain": [
       "<AxesSubplot:xlabel='None-children', ylabel='family_status'>"
      ]
     },
     "execution_count": 44,
     "metadata": {},
     "output_type": "execute_result"
    },
    {
     "data": {
      "image/png": "[encoded data removed]",
      "text/plain": [
       "<Figure size 432x288 with 2 Axes>"
      ]
     },
     "metadata": {
      "needs_background": "light"
     },
     "output_type": "display_data"
    }
   ],
   "source": [
    "sns.heatmap(pd.pivot_table(df_children_family_status,\n",
    "    index='family_status',\n",
    "    columns='children',\n",
    "    values=['debt'],\n",
    "    aggfunc='mean'\n",
    "    )\n",
    ")"
   ]
  },
  {
   "cell_type": "markdown",
   "id": "51f63406",
   "metadata": {},
   "source": [
    "### Вывод 2:"
   ]
  },
  {
   "cell_type": "markdown",
   "id": "3e4cf112",
   "metadata": {},
   "source": [
    "В браке люди берут больше кредитов, а после брака берут меньше кредитов и реже имеют по ним долги."
   ]
  },
  {
   "cell_type": "markdown",
   "id": "98b60e81",
   "metadata": {},
   "source": [
    "### Вопрос 3: Есть ли зависимость между уровнем дохода и возвратом кредита в срок?"
   ]
  },
  {
   "cell_type": "code",
   "execution_count": 45,
   "id": "6c65cba2",
   "metadata": {},
   "outputs": [
    {
     "data": {
      "text/html": [
       "<div>\n",
       "<style scoped>\n",
       "    .dataframe tbody tr th:only-of-type {\n",
       "        vertical-align: middle;\n",
       "    }\n",
       "\n",
       "    .dataframe tbody tr th {\n",
       "        vertical-align: top;\n",
       "    }\n",
       "\n",
       "    .dataframe thead tr th {\n",
       "        text-align: left;\n",
       "    }\n",
       "\n",
       "    .dataframe thead tr:last-of-type th {\n",
       "        text-align: right;\n",
       "    }\n",
       "</style>\n",
       "<table border=\"1\" class=\"dataframe\">\n",
       "  <thead>\n",
       "    <tr>\n",
       "      <th></th>\n",
       "      <th>count</th>\n",
       "      <th>sum</th>\n",
       "      <th>mean</th>\n",
       "    </tr>\n",
       "    <tr>\n",
       "      <th></th>\n",
       "      <th>debt</th>\n",
       "      <th>debt</th>\n",
       "      <th>debt</th>\n",
       "    </tr>\n",
       "    <tr>\n",
       "      <th>total_income_category</th>\n",
       "      <th></th>\n",
       "      <th></th>\n",
       "      <th></th>\n",
       "    </tr>\n",
       "  </thead>\n",
       "  <tbody>\n",
       "    <tr>\n",
       "      <th>A</th>\n",
       "      <td>25</td>\n",
       "      <td>2</td>\n",
       "      <td>0.080000</td>\n",
       "    </tr>\n",
       "    <tr>\n",
       "      <th>B</th>\n",
       "      <td>5020</td>\n",
       "      <td>354</td>\n",
       "      <td>0.070518</td>\n",
       "    </tr>\n",
       "    <tr>\n",
       "      <th>C</th>\n",
       "      <td>15960</td>\n",
       "      <td>1354</td>\n",
       "      <td>0.084837</td>\n",
       "    </tr>\n",
       "    <tr>\n",
       "      <th>D</th>\n",
       "      <td>350</td>\n",
       "      <td>21</td>\n",
       "      <td>0.060000</td>\n",
       "    </tr>\n",
       "    <tr>\n",
       "      <th>E</th>\n",
       "      <td>22</td>\n",
       "      <td>2</td>\n",
       "      <td>0.090909</td>\n",
       "    </tr>\n",
       "  </tbody>\n",
       "</table>\n",
       "</div>"
      ],
      "text/plain": [
       "                       count   sum      mean\n",
       "                        debt  debt      debt\n",
       "total_income_category                       \n",
       "A                         25     2  0.080000\n",
       "B                       5020   354  0.070518\n",
       "C                      15960  1354  0.084837\n",
       "D                        350    21  0.060000\n",
       "E                         22     2  0.090909"
      ]
     },
     "metadata": {},
     "output_type": "display_data"
    }
   ],
   "source": [
    "display(\n",
    "    pd.pivot_table(\n",
    "        df, index='total_income_category',\n",
    "        values=['debt'],\n",
    "        aggfunc=['count', 'sum', 'mean']\n",
    "    )\n",
    ")"
   ]
  },
  {
   "cell_type": "code",
   "execution_count": 46,
   "id": "90239d4d",
   "metadata": {},
   "outputs": [
    {
     "data": {
      "text/plain": [
       "<AxesSubplot:>"
      ]
     },
     "execution_count": 46,
     "metadata": {},
     "output_type": "execute_result"
    },
    {
     "data": {
      "image/png": "[encoded data removed]",
      "text/plain": [
       "<Figure size 432x288 with 1 Axes>"
      ]
     },
     "metadata": {
      "needs_background": "light"
     },
     "output_type": "display_data"
    }
   ],
   "source": [
    "x = list(df['total_income_category'].unique())\n",
    "x.sort()\n",
    "\n",
    "# Среднее значение по категориям дохода\n",
    "\n",
    "y=list(df.groupby('total_income_category')['debt'].mean())\n",
    "\n",
    "sns.barplot(y = y, x = x)"
   ]
  },
  {
   "cell_type": "markdown",
   "id": "2b95ea53",
   "metadata": {},
   "source": [
    "### Вывод 3:"
   ]
  },
  {
   "cell_type": "markdown",
   "id": "9dd319e5",
   "metadata": {},
   "source": [
    "Люди со средним уровнем дохода чаще имеют задолжености по кредитам. В крайних категориях мало значений для анализа, скорее всего люди в них редко берут кредиты."
   ]
  },
  {
   "cell_type": "markdown",
   "id": "3d78ce1a",
   "metadata": {},
   "source": [
    "### Вопрос 4:Как разные цели кредита влияют на его возврат в срок?"
   ]
  },
  {
   "cell_type": "code",
   "execution_count": 47,
   "id": "cee38491",
   "metadata": {},
   "outputs": [
    {
     "data": {
      "text/html": [
       "<div>\n",
       "<style scoped>\n",
       "    .dataframe tbody tr th:only-of-type {\n",
       "        vertical-align: middle;\n",
       "    }\n",
       "\n",
       "    .dataframe tbody tr th {\n",
       "        vertical-align: top;\n",
       "    }\n",
       "\n",
       "    .dataframe thead tr th {\n",
       "        text-align: left;\n",
       "    }\n",
       "\n",
       "    .dataframe thead tr:last-of-type th {\n",
       "        text-align: right;\n",
       "    }\n",
       "</style>\n",
       "<table border=\"1\" class=\"dataframe\">\n",
       "  <thead>\n",
       "    <tr>\n",
       "      <th></th>\n",
       "      <th>count</th>\n",
       "      <th>sum</th>\n",
       "      <th>mean</th>\n",
       "    </tr>\n",
       "    <tr>\n",
       "      <th></th>\n",
       "      <th>debt</th>\n",
       "      <th>debt</th>\n",
       "      <th>debt</th>\n",
       "    </tr>\n",
       "    <tr>\n",
       "      <th>purpose_category</th>\n",
       "      <th></th>\n",
       "      <th></th>\n",
       "      <th></th>\n",
       "    </tr>\n",
       "  </thead>\n",
       "  <tbody>\n",
       "    <tr>\n",
       "      <th>операции с автомобилем</th>\n",
       "      <td>4290</td>\n",
       "      <td>401</td>\n",
       "      <td>0.093473</td>\n",
       "    </tr>\n",
       "    <tr>\n",
       "      <th>операции с недвижимостью</th>\n",
       "      <td>10774</td>\n",
       "      <td>780</td>\n",
       "      <td>0.072397</td>\n",
       "    </tr>\n",
       "    <tr>\n",
       "      <th>получение образования</th>\n",
       "      <td>3998</td>\n",
       "      <td>369</td>\n",
       "      <td>0.092296</td>\n",
       "    </tr>\n",
       "    <tr>\n",
       "      <th>проведение свадьбы</th>\n",
       "      <td>2315</td>\n",
       "      <td>183</td>\n",
       "      <td>0.079050</td>\n",
       "    </tr>\n",
       "  </tbody>\n",
       "</table>\n",
       "</div>"
      ],
      "text/plain": [
       "                          count  sum      mean\n",
       "                           debt debt      debt\n",
       "purpose_category                              \n",
       "операции с автомобилем     4290  401  0.093473\n",
       "операции с недвижимостью  10774  780  0.072397\n",
       "получение образования      3998  369  0.092296\n",
       "проведение свадьбы         2315  183  0.079050"
      ]
     },
     "metadata": {},
     "output_type": "display_data"
    }
   ],
   "source": [
    "display(\n",
    "    df.pivot_table(\n",
    "        index='purpose_category',\n",
    "        values=['debt'],\n",
    "        aggfunc=['count', 'sum', 'mean']\n",
    "    )\n",
    ")"
   ]
  },
  {
   "cell_type": "code",
   "execution_count": 48,
   "id": "abf6ed53",
   "metadata": {},
   "outputs": [
    {
     "data": {
      "text/plain": [
       "<AxesSubplot:>"
      ]
     },
     "execution_count": 48,
     "metadata": {},
     "output_type": "execute_result"
    },
    {
     "data": {
      "image/png": "[encoded data removed]",
      "text/plain": [
       "<Figure size 432x288 with 1 Axes>"
      ]
     },
     "metadata": {
      "needs_background": "light"
     },
     "output_type": "display_data"
    }
   ],
   "source": [
    "y = list(df['purpose_category'].unique())\n",
    "y.sort()\n",
    "\n",
    "x=list(df.groupby('purpose_category')['debt'].mean())\n",
    "\n",
    "sns.barplot(y = y, x = x)"
   ]
  },
  {
   "cell_type": "markdown",
   "id": "97f34894",
   "metadata": {},
   "source": [
    "### Вывод 4:"
   ]
  },
  {
   "cell_type": "markdown",
   "id": "3d5fad5e",
   "metadata": {},
   "source": [
    "В автокредитах и кредитах на образование чаще встречаются должники."
   ]
  },
  {
   "cell_type": "markdown",
   "id": "ce9fe62e",
   "metadata": {},
   "source": [
    "## Общий вывод:"
   ]
  },
  {
   "cell_type": "markdown",
   "id": "1cdc2e01",
   "metadata": {},
   "source": [
    "1. Семьи с детьми хорошо платят по кредитам и являются одними из самых часто встречающихся заемщиков.\n",
    "2. Люди с очень высоким доходом и с очень низким доходом редко берут кредиты. Первым он врядли нужен, вторые не смогут его погасить.\n",
    "3. Самая частая цель кредита покупка недвижимости и с хорошей статистикой по возвратам кредитов.\n",
    "    \n"
   ]
  },
  {
   "cell_type": "code",
   "execution_count": null,
   "id": "55890c06",
   "metadata": {},
   "outputs": [],
   "source": []
  }
 ],
 "metadata": {
  "ExecuteTimeLog": [
   {
    "duration": 50,
    "start_time": "2022-03-09T15:28:44.773Z"
   },
   {
    "duration": 17,
    "start_time": "2022-03-09T15:28:55.070Z"
   },
   {
    "duration": 290,
    "start_time": "2022-03-09T16:12:44.510Z"
   },
   {
    "duration": 17,
    "start_time": "2022-03-09T16:14:02.840Z"
   },
   {
    "duration": 19,
    "start_time": "2022-03-09T16:14:48.799Z"
   },
   {
    "duration": 14,
    "start_time": "2022-03-09T16:14:58.813Z"
   },
   {
    "duration": 10,
    "start_time": "2022-03-09T16:15:10.214Z"
   },
   {
    "duration": 9,
    "start_time": "2022-03-09T16:16:11.365Z"
   },
   {
    "duration": 6,
    "start_time": "2022-03-09T16:16:12.148Z"
   },
   {
    "duration": 208,
    "start_time": "2022-03-09T16:18:37.611Z"
   },
   {
    "duration": 7,
    "start_time": "2022-03-09T16:19:37.644Z"
   },
   {
    "duration": 8,
    "start_time": "2022-03-09T16:45:01.372Z"
   },
   {
    "duration": 7,
    "start_time": "2022-03-09T16:45:49.761Z"
   },
   {
    "duration": 7,
    "start_time": "2022-03-09T16:45:52.194Z"
   },
   {
    "duration": 1063,
    "start_time": "2022-03-10T16:40:30.549Z"
   },
   {
    "duration": 23,
    "start_time": "2022-03-10T16:45:34.794Z"
   },
   {
    "duration": 824,
    "start_time": "2022-03-10T16:46:42.633Z"
   },
   {
    "duration": 30,
    "start_time": "2022-03-10T16:46:43.460Z"
   },
   {
    "duration": 12,
    "start_time": "2022-03-10T16:46:43.493Z"
   },
   {
    "duration": 11,
    "start_time": "2022-03-10T16:46:43.531Z"
   },
   {
    "duration": 8,
    "start_time": "2022-03-10T16:46:43.544Z"
   },
   {
    "duration": 78,
    "start_time": "2022-03-10T16:47:11.215Z"
   },
   {
    "duration": 15,
    "start_time": "2022-03-10T16:51:09.808Z"
   },
   {
    "duration": 13,
    "start_time": "2022-03-10T16:51:15.603Z"
   },
   {
    "duration": 10,
    "start_time": "2022-03-10T16:51:17.736Z"
   },
   {
    "duration": 13,
    "start_time": "2022-03-10T16:53:30.591Z"
   },
   {
    "duration": 5,
    "start_time": "2022-03-10T16:53:52.623Z"
   },
   {
    "duration": 12,
    "start_time": "2022-03-10T16:53:55.751Z"
   },
   {
    "duration": 5,
    "start_time": "2022-03-10T16:56:12.686Z"
   },
   {
    "duration": 4673,
    "start_time": "2022-03-10T16:56:30.314Z"
   },
   {
    "duration": 4219,
    "start_time": "2022-03-10T16:56:45.798Z"
   },
   {
    "duration": -99,
    "start_time": "2022-03-10T16:56:50.119Z"
   },
   {
    "duration": 4755,
    "start_time": "2022-03-10T16:57:37.821Z"
   },
   {
    "duration": -98,
    "start_time": "2022-03-10T16:57:42.678Z"
   },
   {
    "duration": 4503,
    "start_time": "2022-03-10T16:58:34.573Z"
   },
   {
    "duration": 4614,
    "start_time": "2022-03-10T16:58:48.389Z"
   },
   {
    "duration": 4477,
    "start_time": "2022-03-10T16:59:03.501Z"
   },
   {
    "duration": 4711,
    "start_time": "2022-03-10T16:59:32.350Z"
   },
   {
    "duration": 6,
    "start_time": "2022-03-10T16:59:40.836Z"
   },
   {
    "duration": 908,
    "start_time": "2022-03-10T17:00:06.001Z"
   },
   {
    "duration": 20,
    "start_time": "2022-03-10T17:00:06.912Z"
   },
   {
    "duration": 16,
    "start_time": "2022-03-10T17:00:06.939Z"
   },
   {
    "duration": 4805,
    "start_time": "2022-03-10T17:00:06.958Z"
   },
   {
    "duration": -104,
    "start_time": "2022-03-10T17:00:11.870Z"
   },
   {
    "duration": 4398,
    "start_time": "2022-03-10T17:00:58.521Z"
   },
   {
    "duration": 861,
    "start_time": "2022-03-10T17:01:17.430Z"
   },
   {
    "duration": 14,
    "start_time": "2022-03-10T17:01:18.294Z"
   },
   {
    "duration": 24,
    "start_time": "2022-03-10T17:01:18.311Z"
   },
   {
    "duration": 7,
    "start_time": "2022-03-10T17:01:18.338Z"
   },
   {
    "duration": 12,
    "start_time": "2022-03-10T17:01:18.348Z"
   },
   {
    "duration": 834,
    "start_time": "2022-03-10T17:02:53.775Z"
   },
   {
    "duration": 23,
    "start_time": "2022-03-10T17:02:54.612Z"
   },
   {
    "duration": 13,
    "start_time": "2022-03-10T17:02:54.637Z"
   },
   {
    "duration": 8,
    "start_time": "2022-03-10T17:02:54.653Z"
   },
   {
    "duration": 15,
    "start_time": "2022-03-10T17:02:54.663Z"
   },
   {
    "duration": 834,
    "start_time": "2022-03-10T17:10:44.353Z"
   },
   {
    "duration": 15,
    "start_time": "2022-03-10T17:10:45.193Z"
   },
   {
    "duration": 13,
    "start_time": "2022-03-10T17:10:45.231Z"
   },
   {
    "duration": 8,
    "start_time": "2022-03-10T17:10:45.247Z"
   },
   {
    "duration": 17,
    "start_time": "2022-03-10T17:10:45.257Z"
   },
   {
    "duration": 828,
    "start_time": "2022-03-10T17:14:47.445Z"
   },
   {
    "duration": 14,
    "start_time": "2022-03-10T17:14:48.276Z"
   },
   {
    "duration": 11,
    "start_time": "2022-03-10T17:14:48.293Z"
   },
   {
    "duration": 31,
    "start_time": "2022-03-10T17:14:48.306Z"
   },
   {
    "duration": 11,
    "start_time": "2022-03-10T17:14:48.339Z"
   },
   {
    "duration": 4,
    "start_time": "2022-03-10T17:21:29.121Z"
   },
   {
    "duration": 12,
    "start_time": "2022-03-10T17:21:30.376Z"
   },
   {
    "duration": 4,
    "start_time": "2022-03-10T17:21:38.760Z"
   },
   {
    "duration": 738,
    "start_time": "2022-03-10T17:25:57.415Z"
   },
   {
    "duration": 80,
    "start_time": "2022-03-10T17:45:45.807Z"
   },
   {
    "duration": 1174,
    "start_time": "2022-03-10T17:45:57.743Z"
   },
   {
    "duration": 28,
    "start_time": "2022-03-10T17:45:58.920Z"
   },
   {
    "duration": 20,
    "start_time": "2022-03-10T17:45:58.952Z"
   },
   {
    "duration": 11,
    "start_time": "2022-03-10T17:45:58.975Z"
   },
   {
    "duration": 49,
    "start_time": "2022-03-10T17:45:58.989Z"
   },
   {
    "duration": 27,
    "start_time": "2022-03-10T17:50:35.168Z"
   },
   {
    "duration": 8,
    "start_time": "2022-03-10T17:50:50.689Z"
   },
   {
    "duration": 11,
    "start_time": "2022-03-10T17:51:07.024Z"
   },
   {
    "duration": 13,
    "start_time": "2022-03-10T17:51:15.136Z"
   },
   {
    "duration": 8,
    "start_time": "2022-03-10T17:52:02.104Z"
   },
   {
    "duration": 12,
    "start_time": "2022-03-10T17:52:40.511Z"
   },
   {
    "duration": 875,
    "start_time": "2022-03-10T17:53:35.403Z"
   },
   {
    "duration": 17,
    "start_time": "2022-03-10T17:53:36.282Z"
   },
   {
    "duration": 34,
    "start_time": "2022-03-10T17:53:36.303Z"
   },
   {
    "duration": 25,
    "start_time": "2022-03-10T17:53:36.339Z"
   },
   {
    "duration": 3,
    "start_time": "2022-03-10T17:53:36.366Z"
   },
   {
    "duration": 16,
    "start_time": "2022-03-10T17:53:36.371Z"
   },
   {
    "duration": 34,
    "start_time": "2022-03-10T17:55:40.316Z"
   },
   {
    "duration": 21,
    "start_time": "2022-03-10T17:58:42.642Z"
   },
   {
    "duration": 7,
    "start_time": "2022-03-10T18:05:50.951Z"
   },
   {
    "duration": 6,
    "start_time": "2022-03-10T18:06:09.239Z"
   },
   {
    "duration": 7,
    "start_time": "2022-03-10T18:06:29.935Z"
   },
   {
    "duration": 6,
    "start_time": "2022-03-10T18:06:37.151Z"
   },
   {
    "duration": 7,
    "start_time": "2022-03-10T18:06:47.257Z"
   },
   {
    "duration": 105,
    "start_time": "2022-03-10T18:12:31.068Z"
   },
   {
    "duration": 118,
    "start_time": "2022-03-10T18:12:44.124Z"
   },
   {
    "duration": 111,
    "start_time": "2022-03-10T18:12:56.908Z"
   },
   {
    "duration": 7,
    "start_time": "2022-03-10T18:13:12.307Z"
   },
   {
    "duration": 4,
    "start_time": "2022-03-10T18:13:35.987Z"
   },
   {
    "duration": 5,
    "start_time": "2022-03-10T18:13:43.722Z"
   },
   {
    "duration": 6,
    "start_time": "2022-03-10T18:13:48.267Z"
   },
   {
    "duration": 5,
    "start_time": "2022-03-10T18:13:54.395Z"
   },
   {
    "duration": 121,
    "start_time": "2022-03-10T18:16:37.849Z"
   },
   {
    "duration": 409,
    "start_time": "2022-03-10T18:16:48.361Z"
   },
   {
    "duration": 5,
    "start_time": "2022-03-10T18:17:28.194Z"
   },
   {
    "duration": 7,
    "start_time": "2022-03-10T18:18:10.777Z"
   },
   {
    "duration": 7,
    "start_time": "2022-03-10T18:19:12.328Z"
   },
   {
    "duration": 7,
    "start_time": "2022-03-10T18:19:24.840Z"
   },
   {
    "duration": 194,
    "start_time": "2022-03-10T18:45:51.589Z"
   },
   {
    "duration": 108,
    "start_time": "2022-03-10T18:45:57.661Z"
   },
   {
    "duration": 6,
    "start_time": "2022-03-10T18:46:02.621Z"
   },
   {
    "duration": 5,
    "start_time": "2022-03-10T18:46:21.420Z"
   },
   {
    "duration": 7,
    "start_time": "2022-03-10T19:05:38.100Z"
   },
   {
    "duration": 334,
    "start_time": "2022-03-10T19:06:33.244Z"
   },
   {
    "duration": 7,
    "start_time": "2022-03-10T19:06:42.611Z"
   },
   {
    "duration": 449,
    "start_time": "2022-03-10T19:08:58.290Z"
   },
   {
    "duration": 444,
    "start_time": "2022-03-10T19:09:43.826Z"
   },
   {
    "duration": 702,
    "start_time": "2022-03-10T19:11:33.834Z"
   },
   {
    "duration": 672,
    "start_time": "2022-03-10T19:12:06.130Z"
   },
   {
    "duration": 678,
    "start_time": "2022-03-10T19:12:21.873Z"
   },
   {
    "duration": 475,
    "start_time": "2022-03-10T19:12:52.176Z"
   },
   {
    "duration": 482,
    "start_time": "2022-03-10T19:13:01.505Z"
   },
   {
    "duration": 461,
    "start_time": "2022-03-10T19:13:20.458Z"
   },
   {
    "duration": 578,
    "start_time": "2022-03-10T19:14:08.057Z"
   },
   {
    "duration": 462,
    "start_time": "2022-03-10T19:14:30.673Z"
   },
   {
    "duration": 5,
    "start_time": "2022-03-10T19:15:47.295Z"
   },
   {
    "duration": 3639,
    "start_time": "2022-03-10T19:16:29.910Z"
   },
   {
    "duration": 5,
    "start_time": "2022-03-10T19:41:24.676Z"
   },
   {
    "duration": 7,
    "start_time": "2022-03-10T19:41:28.332Z"
   },
   {
    "duration": 6,
    "start_time": "2022-03-10T19:41:32.475Z"
   },
   {
    "duration": 5,
    "start_time": "2022-03-10T19:41:35.484Z"
   },
   {
    "duration": 931,
    "start_time": "2022-03-10T19:41:55.325Z"
   },
   {
    "duration": 25,
    "start_time": "2022-03-10T19:41:56.262Z"
   },
   {
    "duration": 19,
    "start_time": "2022-03-10T19:41:56.291Z"
   },
   {
    "duration": 27,
    "start_time": "2022-03-10T19:41:56.335Z"
   },
   {
    "duration": 6,
    "start_time": "2022-03-10T19:41:56.364Z"
   },
   {
    "duration": 10,
    "start_time": "2022-03-10T19:41:56.372Z"
   },
   {
    "duration": 53,
    "start_time": "2022-03-10T19:41:56.385Z"
   },
   {
    "duration": 7,
    "start_time": "2022-03-10T19:56:27.345Z"
   },
   {
    "duration": 112,
    "start_time": "2022-03-10T19:57:22.599Z"
   },
   {
    "duration": 12,
    "start_time": "2022-03-10T19:59:58.280Z"
   },
   {
    "duration": 12,
    "start_time": "2022-03-10T20:01:27.955Z"
   },
   {
    "duration": 6,
    "start_time": "2022-03-10T20:01:40.639Z"
   },
   {
    "duration": 452,
    "start_time": "2022-03-10T20:03:55.280Z"
   },
   {
    "duration": 114,
    "start_time": "2022-03-10T20:04:09.614Z"
   },
   {
    "duration": 8,
    "start_time": "2022-03-10T20:04:24.077Z"
   },
   {
    "duration": 6,
    "start_time": "2022-03-10T20:07:22.358Z"
   },
   {
    "duration": 873,
    "start_time": "2022-03-10T20:07:31.044Z"
   },
   {
    "duration": 16,
    "start_time": "2022-03-10T20:07:31.920Z"
   },
   {
    "duration": 14,
    "start_time": "2022-03-10T20:07:31.945Z"
   },
   {
    "duration": 26,
    "start_time": "2022-03-10T20:07:31.961Z"
   },
   {
    "duration": 44,
    "start_time": "2022-03-10T20:07:31.989Z"
   },
   {
    "duration": 5,
    "start_time": "2022-03-10T20:07:32.035Z"
   },
   {
    "duration": 13,
    "start_time": "2022-03-10T20:07:32.044Z"
   },
   {
    "duration": 17,
    "start_time": "2022-03-10T20:07:32.060Z"
   },
   {
    "duration": 20,
    "start_time": "2022-03-10T20:07:32.079Z"
   },
   {
    "duration": 28,
    "start_time": "2022-03-10T20:07:32.101Z"
   },
   {
    "duration": 9,
    "start_time": "2022-03-10T20:08:23.820Z"
   },
   {
    "duration": 8,
    "start_time": "2022-03-10T20:08:36.148Z"
   },
   {
    "duration": 11,
    "start_time": "2022-03-10T20:08:51.989Z"
   },
   {
    "duration": 12,
    "start_time": "2022-03-10T20:08:54.295Z"
   },
   {
    "duration": -165,
    "start_time": "2022-03-10T20:09:32.798Z"
   },
   {
    "duration": 110,
    "start_time": "2022-03-10T20:09:39.731Z"
   },
   {
    "duration": -166,
    "start_time": "2022-03-10T20:09:54.179Z"
   },
   {
    "duration": -173,
    "start_time": "2022-03-10T20:10:07.497Z"
   },
   {
    "duration": 845,
    "start_time": "2022-03-10T20:10:25.250Z"
   },
   {
    "duration": 15,
    "start_time": "2022-03-10T20:10:26.097Z"
   },
   {
    "duration": 24,
    "start_time": "2022-03-10T20:10:26.115Z"
   },
   {
    "duration": 21,
    "start_time": "2022-03-10T20:10:26.141Z"
   },
   {
    "duration": 10,
    "start_time": "2022-03-10T20:10:26.164Z"
   },
   {
    "duration": 5,
    "start_time": "2022-03-10T20:10:26.176Z"
   },
   {
    "duration": 50,
    "start_time": "2022-03-10T20:10:26.183Z"
   },
   {
    "duration": 14,
    "start_time": "2022-03-10T20:10:26.237Z"
   },
   {
    "duration": 8487,
    "start_time": "2022-03-10T20:10:26.254Z"
   },
   {
    "duration": -180,
    "start_time": "2022-03-10T20:10:34.924Z"
   },
   {
    "duration": 8,
    "start_time": "2022-03-10T20:10:58.695Z"
   },
   {
    "duration": 831,
    "start_time": "2022-03-10T20:11:13.642Z"
   },
   {
    "duration": 15,
    "start_time": "2022-03-10T20:11:14.476Z"
   },
   {
    "duration": 12,
    "start_time": "2022-03-10T20:11:14.494Z"
   },
   {
    "duration": 43,
    "start_time": "2022-03-10T20:11:14.509Z"
   },
   {
    "duration": 10,
    "start_time": "2022-03-10T20:11:14.554Z"
   },
   {
    "duration": 5,
    "start_time": "2022-03-10T20:11:14.567Z"
   },
   {
    "duration": 10,
    "start_time": "2022-03-10T20:11:14.575Z"
   },
   {
    "duration": 52,
    "start_time": "2022-03-10T20:11:14.588Z"
   },
   {
    "duration": 6,
    "start_time": "2022-03-10T20:11:14.643Z"
   },
   {
    "duration": 11,
    "start_time": "2022-03-10T20:11:14.651Z"
   },
   {
    "duration": 7,
    "start_time": "2022-03-10T20:14:32.638Z"
   },
   {
    "duration": 6,
    "start_time": "2022-03-10T20:33:38.085Z"
   },
   {
    "duration": 36,
    "start_time": "2022-03-10T20:54:03.615Z"
   },
   {
    "duration": 857,
    "start_time": "2022-03-10T20:54:11.307Z"
   },
   {
    "duration": 15,
    "start_time": "2022-03-10T20:54:12.166Z"
   },
   {
    "duration": 56,
    "start_time": "2022-03-10T20:54:12.189Z"
   },
   {
    "duration": 22,
    "start_time": "2022-03-10T20:54:12.247Z"
   },
   {
    "duration": 7,
    "start_time": "2022-03-10T20:54:12.272Z"
   },
   {
    "duration": 10,
    "start_time": "2022-03-10T20:54:12.282Z"
   },
   {
    "duration": 17,
    "start_time": "2022-03-10T20:54:12.332Z"
   },
   {
    "duration": 8,
    "start_time": "2022-03-10T20:54:12.352Z"
   },
   {
    "duration": 6,
    "start_time": "2022-03-10T20:54:12.363Z"
   },
   {
    "duration": 7,
    "start_time": "2022-03-10T20:54:12.372Z"
   },
   {
    "duration": 12,
    "start_time": "2022-03-10T20:54:28.744Z"
   },
   {
    "duration": 850,
    "start_time": "2022-03-10T20:54:33.722Z"
   },
   {
    "duration": 15,
    "start_time": "2022-03-10T20:54:34.574Z"
   },
   {
    "duration": 12,
    "start_time": "2022-03-10T20:54:34.593Z"
   },
   {
    "duration": 41,
    "start_time": "2022-03-10T20:54:34.608Z"
   },
   {
    "duration": 5,
    "start_time": "2022-03-10T20:54:34.651Z"
   },
   {
    "duration": 12,
    "start_time": "2022-03-10T20:54:34.658Z"
   },
   {
    "duration": 11,
    "start_time": "2022-03-10T20:54:34.673Z"
   },
   {
    "duration": 7,
    "start_time": "2022-03-10T20:54:34.686Z"
   },
   {
    "duration": 7,
    "start_time": "2022-03-10T20:54:34.733Z"
   },
   {
    "duration": 9,
    "start_time": "2022-03-10T20:54:34.742Z"
   },
   {
    "duration": 469,
    "start_time": "2022-03-10T21:01:15.185Z"
   },
   {
    "duration": 338,
    "start_time": "2022-03-10T21:01:29.714Z"
   },
   {
    "duration": 39,
    "start_time": "2022-03-10T21:04:32.888Z"
   },
   {
    "duration": 86,
    "start_time": "2022-03-10T21:04:50.112Z"
   },
   {
    "duration": 1098,
    "start_time": "2022-03-10T21:36:05.221Z"
   },
   {
    "duration": 16,
    "start_time": "2022-03-10T21:36:06.322Z"
   },
   {
    "duration": 14,
    "start_time": "2022-03-10T21:36:06.342Z"
   },
   {
    "duration": 31,
    "start_time": "2022-03-10T21:36:06.360Z"
   },
   {
    "duration": 5,
    "start_time": "2022-03-10T21:36:06.395Z"
   },
   {
    "duration": 11,
    "start_time": "2022-03-10T21:36:06.434Z"
   },
   {
    "duration": 15,
    "start_time": "2022-03-10T21:36:06.448Z"
   },
   {
    "duration": 14,
    "start_time": "2022-03-10T21:36:06.468Z"
   },
   {
    "duration": 50,
    "start_time": "2022-03-10T21:36:06.485Z"
   },
   {
    "duration": 7,
    "start_time": "2022-03-10T21:36:06.539Z"
   },
   {
    "duration": 906,
    "start_time": "2022-03-10T21:36:22.179Z"
   },
   {
    "duration": 22,
    "start_time": "2022-03-10T21:36:23.089Z"
   },
   {
    "duration": 36,
    "start_time": "2022-03-10T21:36:23.114Z"
   },
   {
    "duration": 32,
    "start_time": "2022-03-10T21:36:23.154Z"
   },
   {
    "duration": 7,
    "start_time": "2022-03-10T21:36:23.189Z"
   },
   {
    "duration": 10,
    "start_time": "2022-03-10T21:36:23.199Z"
   },
   {
    "duration": 26,
    "start_time": "2022-03-10T21:36:23.211Z"
   },
   {
    "duration": 6,
    "start_time": "2022-03-10T21:36:23.241Z"
   },
   {
    "duration": 6,
    "start_time": "2022-03-10T21:36:23.250Z"
   },
   {
    "duration": 6,
    "start_time": "2022-03-11T19:16:56.966Z"
   },
   {
    "duration": 5,
    "start_time": "2022-03-11T19:17:03.837Z"
   },
   {
    "duration": 4,
    "start_time": "2022-03-11T19:18:20.052Z"
   },
   {
    "duration": 18,
    "start_time": "2022-03-11T19:18:30.748Z"
   },
   {
    "duration": 9,
    "start_time": "2022-03-11T19:19:04.316Z"
   },
   {
    "duration": 16,
    "start_time": "2022-03-11T20:32:22.552Z"
   },
   {
    "duration": 31,
    "start_time": "2022-03-11T20:34:11.638Z"
   },
   {
    "duration": 42,
    "start_time": "2022-03-11T20:48:18.895Z"
   },
   {
    "duration": 40,
    "start_time": "2022-03-11T20:49:48.382Z"
   },
   {
    "duration": 898,
    "start_time": "2022-03-11T20:52:25.052Z"
   },
   {
    "duration": 15,
    "start_time": "2022-03-11T20:52:25.953Z"
   },
   {
    "duration": 13,
    "start_time": "2022-03-11T20:52:25.974Z"
   },
   {
    "duration": 50,
    "start_time": "2022-03-11T20:52:25.990Z"
   },
   {
    "duration": 9,
    "start_time": "2022-03-11T20:52:26.042Z"
   },
   {
    "duration": 9,
    "start_time": "2022-03-11T20:52:26.054Z"
   },
   {
    "duration": 13,
    "start_time": "2022-03-11T20:52:26.066Z"
   },
   {
    "duration": 7,
    "start_time": "2022-03-11T20:52:26.083Z"
   },
   {
    "duration": 8,
    "start_time": "2022-03-11T20:52:26.134Z"
   },
   {
    "duration": 16,
    "start_time": "2022-03-11T20:52:26.144Z"
   },
   {
    "duration": 40,
    "start_time": "2022-03-11T20:52:26.162Z"
   },
   {
    "duration": 50,
    "start_time": "2022-03-11T20:52:26.205Z"
   },
   {
    "duration": 45,
    "start_time": "2022-03-11T20:52:26.258Z"
   },
   {
    "duration": 22,
    "start_time": "2022-03-11T20:53:28.532Z"
   },
   {
    "duration": 847,
    "start_time": "2022-03-11T20:53:34.062Z"
   },
   {
    "duration": 20,
    "start_time": "2022-03-11T20:53:34.912Z"
   },
   {
    "duration": 13,
    "start_time": "2022-03-11T20:53:34.936Z"
   },
   {
    "duration": 25,
    "start_time": "2022-03-11T20:53:34.952Z"
   },
   {
    "duration": 8,
    "start_time": "2022-03-11T20:53:34.979Z"
   },
   {
    "duration": 49,
    "start_time": "2022-03-11T20:53:34.990Z"
   },
   {
    "duration": 15,
    "start_time": "2022-03-11T20:53:35.042Z"
   },
   {
    "duration": 8,
    "start_time": "2022-03-11T20:53:35.061Z"
   },
   {
    "duration": 7,
    "start_time": "2022-03-11T20:53:35.072Z"
   },
   {
    "duration": 57,
    "start_time": "2022-03-11T20:53:35.082Z"
   },
   {
    "duration": 33,
    "start_time": "2022-03-11T20:53:35.142Z"
   },
   {
    "duration": 61,
    "start_time": "2022-03-11T20:53:35.178Z"
   },
   {
    "duration": 39,
    "start_time": "2022-03-11T20:53:35.242Z"
   },
   {
    "duration": 6,
    "start_time": "2022-03-11T21:18:54.004Z"
   },
   {
    "duration": 12,
    "start_time": "2022-03-11T21:20:30.244Z"
   },
   {
    "duration": 36,
    "start_time": "2022-03-11T21:20:51.506Z"
   },
   {
    "duration": 22,
    "start_time": "2022-03-11T21:23:57.289Z"
   },
   {
    "duration": 21,
    "start_time": "2022-03-11T21:24:29.594Z"
   },
   {
    "duration": 11,
    "start_time": "2022-03-11T21:24:50.592Z"
   },
   {
    "duration": 7,
    "start_time": "2022-03-11T21:25:03.240Z"
   },
   {
    "duration": 8,
    "start_time": "2022-03-11T21:25:09.151Z"
   },
   {
    "duration": 9,
    "start_time": "2022-03-11T21:26:55.831Z"
   },
   {
    "duration": 23,
    "start_time": "2022-03-11T21:27:44.414Z"
   },
   {
    "duration": 9,
    "start_time": "2022-03-11T21:30:13.875Z"
   },
   {
    "duration": 8,
    "start_time": "2022-03-11T21:30:22.669Z"
   },
   {
    "duration": 846,
    "start_time": "2022-03-11T21:30:27.483Z"
   },
   {
    "duration": 15,
    "start_time": "2022-03-11T21:30:28.332Z"
   },
   {
    "duration": 11,
    "start_time": "2022-03-11T21:30:28.350Z"
   },
   {
    "duration": 22,
    "start_time": "2022-03-11T21:30:28.364Z"
   },
   {
    "duration": 6,
    "start_time": "2022-03-11T21:30:28.388Z"
   },
   {
    "duration": 9,
    "start_time": "2022-03-11T21:30:28.433Z"
   },
   {
    "duration": 12,
    "start_time": "2022-03-11T21:30:28.445Z"
   },
   {
    "duration": 7,
    "start_time": "2022-03-11T21:30:28.461Z"
   },
   {
    "duration": 23,
    "start_time": "2022-03-11T21:30:28.470Z"
   },
   {
    "duration": 7,
    "start_time": "2022-03-11T21:30:28.532Z"
   },
   {
    "duration": 9,
    "start_time": "2022-03-11T21:30:28.542Z"
   },
   {
    "duration": 30,
    "start_time": "2022-03-11T21:30:28.554Z"
   },
   {
    "duration": 66,
    "start_time": "2022-03-11T21:30:28.587Z"
   },
   {
    "duration": 36,
    "start_time": "2022-03-11T21:30:28.656Z"
   },
   {
    "duration": 9,
    "start_time": "2022-03-11T21:30:38.409Z"
   },
   {
    "duration": 8,
    "start_time": "2022-03-11T21:30:52.241Z"
   },
   {
    "duration": 7,
    "start_time": "2022-03-11T21:31:03.369Z"
   },
   {
    "duration": 23,
    "start_time": "2022-03-11T21:32:48.480Z"
   },
   {
    "duration": 6,
    "start_time": "2022-03-11T22:16:10.539Z"
   },
   {
    "duration": 12,
    "start_time": "2022-03-11T22:16:18.717Z"
   },
   {
    "duration": 12,
    "start_time": "2022-03-11T22:19:19.802Z"
   },
   {
    "duration": 20,
    "start_time": "2022-03-11T22:19:48.347Z"
   },
   {
    "duration": 17,
    "start_time": "2022-03-11T22:20:24.579Z"
   },
   {
    "duration": 18,
    "start_time": "2022-03-11T22:21:32.698Z"
   },
   {
    "duration": 18,
    "start_time": "2022-03-11T22:24:33.832Z"
   },
   {
    "duration": 21,
    "start_time": "2022-03-11T22:30:13.775Z"
   },
   {
    "duration": 18,
    "start_time": "2022-03-11T22:32:12.021Z"
   },
   {
    "duration": 18,
    "start_time": "2022-03-11T22:33:43.598Z"
   },
   {
    "duration": 851,
    "start_time": "2022-03-11T22:34:19.925Z"
   },
   {
    "duration": 14,
    "start_time": "2022-03-11T22:34:20.779Z"
   },
   {
    "duration": 11,
    "start_time": "2022-03-11T22:34:20.796Z"
   },
   {
    "duration": 42,
    "start_time": "2022-03-11T22:34:20.810Z"
   },
   {
    "duration": 5,
    "start_time": "2022-03-11T22:34:20.854Z"
   },
   {
    "duration": 7,
    "start_time": "2022-03-11T22:34:20.862Z"
   },
   {
    "duration": 11,
    "start_time": "2022-03-11T22:34:20.872Z"
   },
   {
    "duration": 47,
    "start_time": "2022-03-11T22:34:20.887Z"
   },
   {
    "duration": 9,
    "start_time": "2022-03-11T22:34:20.938Z"
   },
   {
    "duration": 25,
    "start_time": "2022-03-11T22:34:20.950Z"
   },
   {
    "duration": 7,
    "start_time": "2022-03-11T22:34:20.977Z"
   },
   {
    "duration": 20,
    "start_time": "2022-03-11T22:34:21.033Z"
   },
   {
    "duration": 8,
    "start_time": "2022-03-11T22:34:21.055Z"
   },
   {
    "duration": 29,
    "start_time": "2022-03-11T22:34:21.065Z"
   },
   {
    "duration": 46,
    "start_time": "2022-03-11T22:34:21.097Z"
   },
   {
    "duration": 36,
    "start_time": "2022-03-11T22:34:21.146Z"
   },
   {
    "duration": 19,
    "start_time": "2022-03-11T22:34:21.184Z"
   },
   {
    "duration": 14,
    "start_time": "2022-03-11T22:34:21.205Z"
   },
   {
    "duration": 21,
    "start_time": "2022-03-11T22:34:21.221Z"
   },
   {
    "duration": 15,
    "start_time": "2022-03-11T22:34:21.244Z"
   },
   {
    "duration": 418,
    "start_time": "2022-03-11T22:45:08.806Z"
   },
   {
    "duration": 4,
    "start_time": "2022-03-11T22:45:18.367Z"
   },
   {
    "duration": 25,
    "start_time": "2022-03-11T22:45:19.839Z"
   },
   {
    "duration": 24,
    "start_time": "2022-03-11T22:45:25.622Z"
   },
   {
    "duration": 25,
    "start_time": "2022-03-11T22:45:32.216Z"
   },
   {
    "duration": 7,
    "start_time": "2022-03-11T22:46:04.790Z"
   },
   {
    "duration": 8,
    "start_time": "2022-03-11T22:52:51.452Z"
   },
   {
    "duration": 14,
    "start_time": "2022-03-11T22:54:03.627Z"
   },
   {
    "duration": 7,
    "start_time": "2022-03-11T22:56:40.554Z"
   },
   {
    "duration": 5,
    "start_time": "2022-03-11T22:56:49.290Z"
   },
   {
    "duration": 10,
    "start_time": "2022-03-11T22:57:52.249Z"
   },
   {
    "duration": 8,
    "start_time": "2022-03-11T22:58:57.440Z"
   },
   {
    "duration": 15,
    "start_time": "2022-03-11T23:12:31.827Z"
   },
   {
    "duration": 7,
    "start_time": "2022-03-11T23:15:45.225Z"
   },
   {
    "duration": 7,
    "start_time": "2022-03-11T23:15:54.690Z"
   },
   {
    "duration": 9,
    "start_time": "2022-03-11T23:16:05.874Z"
   },
   {
    "duration": 11,
    "start_time": "2022-03-11T23:17:24.705Z"
   },
   {
    "duration": 11,
    "start_time": "2022-03-11T23:17:35.417Z"
   },
   {
    "duration": 11,
    "start_time": "2022-03-11T23:17:52.328Z"
   },
   {
    "duration": 11,
    "start_time": "2022-03-11T23:18:28.233Z"
   },
   {
    "duration": 11,
    "start_time": "2022-03-11T23:18:59.344Z"
   },
   {
    "duration": 11,
    "start_time": "2022-03-11T23:20:04.817Z"
   },
   {
    "duration": 115,
    "start_time": "2022-03-11T23:26:58.155Z"
   },
   {
    "duration": 322,
    "start_time": "2022-03-11T23:27:02.685Z"
   },
   {
    "duration": 840,
    "start_time": "2022-03-11T23:27:17.453Z"
   },
   {
    "duration": 15,
    "start_time": "2022-03-11T23:27:18.296Z"
   },
   {
    "duration": 22,
    "start_time": "2022-03-11T23:27:18.314Z"
   },
   {
    "duration": 22,
    "start_time": "2022-03-11T23:27:18.339Z"
   },
   {
    "duration": 6,
    "start_time": "2022-03-11T23:27:18.363Z"
   },
   {
    "duration": 9,
    "start_time": "2022-03-11T23:27:18.371Z"
   },
   {
    "duration": 54,
    "start_time": "2022-03-11T23:27:18.382Z"
   },
   {
    "duration": 7,
    "start_time": "2022-03-11T23:27:18.442Z"
   },
   {
    "duration": 7,
    "start_time": "2022-03-11T23:27:18.452Z"
   },
   {
    "duration": 22,
    "start_time": "2022-03-11T23:27:18.461Z"
   },
   {
    "duration": 50,
    "start_time": "2022-03-11T23:27:18.486Z"
   },
   {
    "duration": 21,
    "start_time": "2022-03-11T23:27:18.539Z"
   },
   {
    "duration": 8,
    "start_time": "2022-03-11T23:27:18.563Z"
   },
   {
    "duration": 67,
    "start_time": "2022-03-11T23:27:18.573Z"
   },
   {
    "duration": 25,
    "start_time": "2022-03-11T23:27:18.643Z"
   },
   {
    "duration": 35,
    "start_time": "2022-03-11T23:27:18.670Z"
   },
   {
    "duration": 44,
    "start_time": "2022-03-11T23:27:18.707Z"
   },
   {
    "duration": 16,
    "start_time": "2022-03-11T23:27:18.753Z"
   },
   {
    "duration": 14,
    "start_time": "2022-03-11T23:27:18.771Z"
   },
   {
    "duration": 49,
    "start_time": "2022-03-11T23:27:18.788Z"
   },
   {
    "duration": 5,
    "start_time": "2022-03-11T23:27:18.839Z"
   },
   {
    "duration": 30,
    "start_time": "2022-03-11T23:27:18.846Z"
   },
   {
    "duration": 6,
    "start_time": "2022-03-11T23:27:18.881Z"
   },
   {
    "duration": 44,
    "start_time": "2022-03-11T23:27:18.889Z"
   },
   {
    "duration": 11,
    "start_time": "2022-03-11T23:27:18.935Z"
   },
   {
    "duration": 3,
    "start_time": "2022-03-11T23:27:18.949Z"
   },
   {
    "duration": 8,
    "start_time": "2022-03-11T23:27:18.954Z"
   },
   {
    "duration": 35,
    "start_time": "2022-03-11T23:27:18.964Z"
   },
   {
    "duration": 836,
    "start_time": "2022-03-11T23:31:34.837Z"
   },
   {
    "duration": 17,
    "start_time": "2022-03-11T23:31:35.677Z"
   },
   {
    "duration": 41,
    "start_time": "2022-03-11T23:31:35.702Z"
   },
   {
    "duration": 22,
    "start_time": "2022-03-11T23:31:35.746Z"
   },
   {
    "duration": 6,
    "start_time": "2022-03-11T23:31:35.771Z"
   },
   {
    "duration": 9,
    "start_time": "2022-03-11T23:31:35.779Z"
   },
   {
    "duration": 13,
    "start_time": "2022-03-11T23:31:35.834Z"
   },
   {
    "duration": 7,
    "start_time": "2022-03-11T23:31:35.850Z"
   },
   {
    "duration": 7,
    "start_time": "2022-03-11T23:31:35.860Z"
   },
   {
    "duration": 22,
    "start_time": "2022-03-11T23:31:35.869Z"
   },
   {
    "duration": 7,
    "start_time": "2022-03-11T23:31:35.933Z"
   },
   {
    "duration": 23,
    "start_time": "2022-03-11T23:31:35.942Z"
   },
   {
    "duration": 8,
    "start_time": "2022-03-11T23:31:35.968Z"
   },
   {
    "duration": 61,
    "start_time": "2022-03-11T23:31:35.978Z"
   },
   {
    "duration": 25,
    "start_time": "2022-03-11T23:31:36.042Z"
   },
   {
    "duration": 35,
    "start_time": "2022-03-11T23:31:36.069Z"
   },
   {
    "duration": 44,
    "start_time": "2022-03-11T23:31:36.106Z"
   },
   {
    "duration": 14,
    "start_time": "2022-03-11T23:31:36.153Z"
   },
   {
    "duration": 17,
    "start_time": "2022-03-11T23:31:36.169Z"
   },
   {
    "duration": 46,
    "start_time": "2022-03-11T23:31:36.188Z"
   },
   {
    "duration": 11,
    "start_time": "2022-03-11T23:31:36.237Z"
   },
   {
    "duration": 54,
    "start_time": "2022-03-11T23:31:36.252Z"
   },
   {
    "duration": 7,
    "start_time": "2022-03-11T23:31:36.310Z"
   },
   {
    "duration": 16,
    "start_time": "2022-03-11T23:31:36.319Z"
   },
   {
    "duration": 17,
    "start_time": "2022-03-11T23:31:36.337Z"
   },
   {
    "duration": 14,
    "start_time": "2022-03-11T23:31:36.356Z"
   },
   {
    "duration": 32,
    "start_time": "2022-03-11T23:31:36.373Z"
   },
   {
    "duration": 52,
    "start_time": "2022-03-11T23:31:36.408Z"
   },
   {
    "duration": 12337,
    "start_time": "2022-03-11T23:35:14.988Z"
   },
   {
    "duration": 1120,
    "start_time": "2022-03-11T23:35:36.743Z"
   },
   {
    "duration": 15,
    "start_time": "2022-03-11T23:35:37.865Z"
   },
   {
    "duration": 12,
    "start_time": "2022-03-11T23:35:37.883Z"
   },
   {
    "duration": 47,
    "start_time": "2022-03-11T23:35:37.898Z"
   },
   {
    "duration": 11,
    "start_time": "2022-03-11T23:35:37.948Z"
   },
   {
    "duration": 14,
    "start_time": "2022-03-11T23:35:37.962Z"
   },
   {
    "duration": 12,
    "start_time": "2022-03-11T23:35:37.978Z"
   },
   {
    "duration": 43,
    "start_time": "2022-03-11T23:35:37.994Z"
   },
   {
    "duration": 6,
    "start_time": "2022-03-11T23:35:38.040Z"
   },
   {
    "duration": 24,
    "start_time": "2022-03-11T23:35:38.048Z"
   },
   {
    "duration": 6,
    "start_time": "2022-03-11T23:35:38.074Z"
   },
   {
    "duration": 63,
    "start_time": "2022-03-11T23:35:38.082Z"
   },
   {
    "duration": 15,
    "start_time": "2022-03-11T23:35:38.148Z"
   },
   {
    "duration": 41,
    "start_time": "2022-03-11T23:35:38.166Z"
   },
   {
    "duration": 25,
    "start_time": "2022-03-11T23:35:38.234Z"
   },
   {
    "duration": 36,
    "start_time": "2022-03-11T23:35:38.262Z"
   },
   {
    "duration": 45,
    "start_time": "2022-03-11T23:35:38.300Z"
   },
   {
    "duration": 15,
    "start_time": "2022-03-11T23:35:38.348Z"
   },
   {
    "duration": 15,
    "start_time": "2022-03-11T23:35:38.366Z"
   },
   {
    "duration": 52,
    "start_time": "2022-03-11T23:35:38.383Z"
   },
   {
    "duration": 4,
    "start_time": "2022-03-11T23:35:38.438Z"
   },
   {
    "duration": 29,
    "start_time": "2022-03-11T23:35:38.445Z"
   },
   {
    "duration": 6,
    "start_time": "2022-03-11T23:35:38.479Z"
   },
   {
    "duration": 7,
    "start_time": "2022-03-11T23:35:38.488Z"
   },
   {
    "duration": 11,
    "start_time": "2022-03-11T23:35:38.534Z"
   },
   {
    "duration": 3,
    "start_time": "2022-03-11T23:35:38.548Z"
   },
   {
    "duration": 10,
    "start_time": "2022-03-11T23:35:38.553Z"
   },
   {
    "duration": 74,
    "start_time": "2022-03-11T23:35:38.565Z"
   },
   {
    "duration": 297,
    "start_time": "2022-03-12T01:51:53.963Z"
   },
   {
    "duration": 727,
    "start_time": "2022-03-12T01:52:02.656Z"
   },
   {
    "duration": 12,
    "start_time": "2022-03-12T01:52:03.385Z"
   },
   {
    "duration": 10,
    "start_time": "2022-03-12T01:52:03.400Z"
   },
   {
    "duration": 15,
    "start_time": "2022-03-12T01:52:03.412Z"
   },
   {
    "duration": 3,
    "start_time": "2022-03-12T01:52:03.429Z"
   },
   {
    "duration": 9,
    "start_time": "2022-03-12T01:52:03.434Z"
   },
   {
    "duration": 36,
    "start_time": "2022-03-12T01:52:03.445Z"
   },
   {
    "duration": 5,
    "start_time": "2022-03-12T01:52:03.484Z"
   },
   {
    "duration": 7,
    "start_time": "2022-03-12T01:52:03.491Z"
   },
   {
    "duration": 27,
    "start_time": "2022-03-12T01:52:03.499Z"
   },
   {
    "duration": 4,
    "start_time": "2022-03-12T01:52:03.528Z"
   },
   {
    "duration": 16,
    "start_time": "2022-03-12T01:52:03.534Z"
   },
   {
    "duration": 6,
    "start_time": "2022-03-12T01:52:03.578Z"
   },
   {
    "duration": 25,
    "start_time": "2022-03-12T01:52:03.586Z"
   },
   {
    "duration": 21,
    "start_time": "2022-03-12T01:52:03.612Z"
   },
   {
    "duration": 53,
    "start_time": "2022-03-12T01:52:03.635Z"
   },
   {
    "duration": 15,
    "start_time": "2022-03-12T01:52:03.689Z"
   },
   {
    "duration": 11,
    "start_time": "2022-03-12T01:52:03.706Z"
   },
   {
    "duration": 11,
    "start_time": "2022-03-12T01:52:03.719Z"
   },
   {
    "duration": 48,
    "start_time": "2022-03-12T01:52:03.732Z"
   },
   {
    "duration": 8,
    "start_time": "2022-03-12T01:52:03.782Z"
   },
   {
    "duration": 21,
    "start_time": "2022-03-12T01:52:03.792Z"
   },
   {
    "duration": 326,
    "start_time": "2022-03-12T01:52:03.817Z"
   },
   {
    "duration": -981,
    "start_time": "2022-03-12T01:52:05.126Z"
   },
   {
    "duration": -986,
    "start_time": "2022-03-12T01:52:05.132Z"
   },
   {
    "duration": -996,
    "start_time": "2022-03-12T01:52:05.143Z"
   },
   {
    "duration": -1003,
    "start_time": "2022-03-12T01:52:05.151Z"
   },
   {
    "duration": -1016,
    "start_time": "2022-03-12T01:52:05.165Z"
   },
   {
    "duration": 8,
    "start_time": "2022-03-12T01:52:22.249Z"
   },
   {
    "duration": 797,
    "start_time": "2022-03-12T13:05:46.309Z"
   },
   {
    "duration": 15,
    "start_time": "2022-03-12T13:05:47.108Z"
   },
   {
    "duration": 13,
    "start_time": "2022-03-12T13:05:47.126Z"
   },
   {
    "duration": 51,
    "start_time": "2022-03-12T13:05:47.141Z"
   },
   {
    "duration": 6,
    "start_time": "2022-03-12T13:05:47.194Z"
   },
   {
    "duration": 8,
    "start_time": "2022-03-12T13:05:47.202Z"
   },
   {
    "duration": 12,
    "start_time": "2022-03-12T13:05:47.213Z"
   },
   {
    "duration": 6,
    "start_time": "2022-03-12T13:05:47.229Z"
   },
   {
    "duration": 46,
    "start_time": "2022-03-12T13:05:47.238Z"
   },
   {
    "duration": 25,
    "start_time": "2022-03-12T13:05:47.286Z"
   },
   {
    "duration": 7,
    "start_time": "2022-03-12T13:05:47.313Z"
   },
   {
    "duration": 21,
    "start_time": "2022-03-12T13:05:47.322Z"
   },
   {
    "duration": 41,
    "start_time": "2022-03-12T13:05:47.346Z"
   },
   {
    "duration": 32,
    "start_time": "2022-03-12T13:05:47.390Z"
   },
   {
    "duration": 28,
    "start_time": "2022-03-12T13:05:47.425Z"
   },
   {
    "duration": 36,
    "start_time": "2022-03-12T13:05:47.483Z"
   },
   {
    "duration": 22,
    "start_time": "2022-03-12T13:05:47.522Z"
   },
   {
    "duration": 42,
    "start_time": "2022-03-12T13:05:47.546Z"
   },
   {
    "duration": 17,
    "start_time": "2022-03-12T13:05:47.590Z"
   },
   {
    "duration": 20,
    "start_time": "2022-03-12T13:05:47.610Z"
   },
   {
    "duration": 5,
    "start_time": "2022-03-12T13:05:47.632Z"
   },
   {
    "duration": 63,
    "start_time": "2022-03-12T13:05:47.640Z"
   },
   {
    "duration": 11,
    "start_time": "2022-03-12T13:05:47.709Z"
   },
   {
    "duration": 11,
    "start_time": "2022-03-12T13:05:47.723Z"
   },
   {
    "duration": 45,
    "start_time": "2022-03-12T13:05:47.737Z"
   },
   {
    "duration": 4,
    "start_time": "2022-03-12T13:05:47.786Z"
   },
   {
    "duration": 10,
    "start_time": "2022-03-12T13:05:47.793Z"
   },
   {
    "duration": 41,
    "start_time": "2022-03-12T13:05:47.805Z"
   },
   {
    "duration": 11,
    "start_time": "2022-03-12T13:10:02.386Z"
   },
   {
    "duration": 6,
    "start_time": "2022-03-12T13:11:11.631Z"
   },
   {
    "duration": 6,
    "start_time": "2022-03-12T13:11:19.992Z"
   },
   {
    "duration": 10,
    "start_time": "2022-03-12T13:11:47.830Z"
   },
   {
    "duration": 9,
    "start_time": "2022-03-12T13:12:24.406Z"
   },
   {
    "duration": 9,
    "start_time": "2022-03-12T13:12:43.664Z"
   },
   {
    "duration": 771,
    "start_time": "2022-03-12T13:12:51.238Z"
   },
   {
    "duration": 14,
    "start_time": "2022-03-12T13:12:52.012Z"
   },
   {
    "duration": 11,
    "start_time": "2022-03-12T13:12:52.029Z"
   },
   {
    "duration": 46,
    "start_time": "2022-03-12T13:12:52.043Z"
   },
   {
    "duration": 7,
    "start_time": "2022-03-12T13:12:52.092Z"
   },
   {
    "duration": 10,
    "start_time": "2022-03-12T13:12:52.101Z"
   },
   {
    "duration": 13,
    "start_time": "2022-03-12T13:12:52.113Z"
   },
   {
    "duration": 55,
    "start_time": "2022-03-12T13:12:52.131Z"
   },
   {
    "duration": 9,
    "start_time": "2022-03-12T13:12:52.190Z"
   },
   {
    "duration": 30,
    "start_time": "2022-03-12T13:12:52.202Z"
   },
   {
    "duration": 8,
    "start_time": "2022-03-12T13:12:52.235Z"
   },
   {
    "duration": 55,
    "start_time": "2022-03-12T13:12:52.246Z"
   },
   {
    "duration": 11,
    "start_time": "2022-03-12T13:12:52.304Z"
   },
   {
    "duration": 10,
    "start_time": "2022-03-12T13:12:52.317Z"
   },
   {
    "duration": 71,
    "start_time": "2022-03-12T13:12:52.329Z"
   },
   {
    "duration": 25,
    "start_time": "2022-03-12T13:12:52.403Z"
   },
   {
    "duration": 67,
    "start_time": "2022-03-12T13:12:52.430Z"
   },
   {
    "duration": 20,
    "start_time": "2022-03-12T13:12:52.499Z"
   },
   {
    "duration": 15,
    "start_time": "2022-03-12T13:12:52.522Z"
   },
   {
    "duration": 45,
    "start_time": "2022-03-12T13:12:52.539Z"
   },
   {
    "duration": 18,
    "start_time": "2022-03-12T13:12:52.586Z"
   },
   {
    "duration": 9,
    "start_time": "2022-03-12T13:12:52.606Z"
   },
   {
    "duration": 24,
    "start_time": "2022-03-12T13:12:52.619Z"
   },
   {
    "duration": 49,
    "start_time": "2022-03-12T13:12:52.646Z"
   },
   {
    "duration": 12,
    "start_time": "2022-03-12T13:12:52.698Z"
   },
   {
    "duration": 13,
    "start_time": "2022-03-12T13:12:52.712Z"
   },
   {
    "duration": 4,
    "start_time": "2022-03-12T13:12:52.727Z"
   },
   {
    "duration": 48,
    "start_time": "2022-03-12T13:12:52.733Z"
   },
   {
    "duration": 37,
    "start_time": "2022-03-12T13:12:52.783Z"
   },
   {
    "duration": 777,
    "start_time": "2022-03-12T13:13:19.023Z"
   },
   {
    "duration": 15,
    "start_time": "2022-03-12T13:13:19.803Z"
   },
   {
    "duration": 11,
    "start_time": "2022-03-12T13:13:19.821Z"
   },
   {
    "duration": 49,
    "start_time": "2022-03-12T13:13:19.835Z"
   },
   {
    "duration": 6,
    "start_time": "2022-03-12T13:13:19.887Z"
   },
   {
    "duration": 12,
    "start_time": "2022-03-12T13:13:19.896Z"
   },
   {
    "duration": 13,
    "start_time": "2022-03-12T13:13:19.910Z"
   },
   {
    "duration": 6,
    "start_time": "2022-03-12T13:13:19.927Z"
   },
   {
    "duration": 48,
    "start_time": "2022-03-12T13:13:19.936Z"
   },
   {
    "duration": 27,
    "start_time": "2022-03-12T13:13:19.987Z"
   },
   {
    "duration": 5,
    "start_time": "2022-03-12T13:13:20.016Z"
   },
   {
    "duration": 33,
    "start_time": "2022-03-12T13:13:20.024Z"
   },
   {
    "duration": 26,
    "start_time": "2022-03-12T13:13:20.060Z"
   },
   {
    "duration": 14,
    "start_time": "2022-03-12T13:13:20.088Z"
   },
   {
    "duration": 16,
    "start_time": "2022-03-12T13:13:20.104Z"
   },
   {
    "duration": 19,
    "start_time": "2022-03-12T13:13:20.122Z"
   },
   {
    "duration": 45,
    "start_time": "2022-03-12T13:13:20.145Z"
   },
   {
    "duration": 24,
    "start_time": "2022-03-12T13:13:20.192Z"
   },
   {
    "duration": 36,
    "start_time": "2022-03-12T13:13:20.218Z"
   },
   {
    "duration": 43,
    "start_time": "2022-03-12T13:13:20.257Z"
   },
   {
    "duration": 15,
    "start_time": "2022-03-12T13:13:20.302Z"
   },
   {
    "duration": 14,
    "start_time": "2022-03-12T13:13:20.320Z"
   },
   {
    "duration": 52,
    "start_time": "2022-03-12T13:13:20.338Z"
   },
   {
    "duration": 6,
    "start_time": "2022-03-12T13:13:20.392Z"
   },
   {
    "duration": 35,
    "start_time": "2022-03-12T13:13:20.400Z"
   },
   {
    "duration": 10,
    "start_time": "2022-03-12T13:13:20.437Z"
   },
   {
    "duration": 37,
    "start_time": "2022-03-12T13:13:20.450Z"
   },
   {
    "duration": 11,
    "start_time": "2022-03-12T13:13:20.490Z"
   },
   {
    "duration": 4,
    "start_time": "2022-03-12T13:13:20.504Z"
   },
   {
    "duration": 12,
    "start_time": "2022-03-12T13:13:20.511Z"
   },
   {
    "duration": 63,
    "start_time": "2022-03-12T13:13:20.526Z"
   },
   {
    "duration": 10,
    "start_time": "2022-03-12T13:14:20.369Z"
   },
   {
    "duration": 8,
    "start_time": "2022-03-12T13:14:29.023Z"
   },
   {
    "duration": 21,
    "start_time": "2022-03-12T13:14:32.816Z"
   },
   {
    "duration": 10,
    "start_time": "2022-03-12T13:15:03.106Z"
   },
   {
    "duration": 813,
    "start_time": "2022-03-12T13:15:49.998Z"
   },
   {
    "duration": 15,
    "start_time": "2022-03-12T13:15:50.813Z"
   },
   {
    "duration": 12,
    "start_time": "2022-03-12T13:15:50.831Z"
   },
   {
    "duration": 50,
    "start_time": "2022-03-12T13:15:50.846Z"
   },
   {
    "duration": 5,
    "start_time": "2022-03-12T13:15:50.898Z"
   },
   {
    "duration": 8,
    "start_time": "2022-03-12T13:15:50.907Z"
   },
   {
    "duration": 16,
    "start_time": "2022-03-12T13:15:50.918Z"
   },
   {
    "duration": 7,
    "start_time": "2022-03-12T13:15:50.938Z"
   },
   {
    "duration": 7,
    "start_time": "2022-03-12T13:15:50.983Z"
   },
   {
    "duration": 30,
    "start_time": "2022-03-12T13:15:50.993Z"
   },
   {
    "duration": 6,
    "start_time": "2022-03-12T13:15:51.026Z"
   },
   {
    "duration": 49,
    "start_time": "2022-03-12T13:15:51.034Z"
   },
   {
    "duration": 6,
    "start_time": "2022-03-12T13:15:51.086Z"
   },
   {
    "duration": 13,
    "start_time": "2022-03-12T13:15:51.094Z"
   },
   {
    "duration": 7,
    "start_time": "2022-03-12T13:15:51.109Z"
   },
   {
    "duration": 9,
    "start_time": "2022-03-12T13:15:51.118Z"
   },
   {
    "duration": 7,
    "start_time": "2022-03-12T13:15:51.129Z"
   },
   {
    "duration": 69,
    "start_time": "2022-03-12T13:15:51.139Z"
   },
   {
    "duration": 24,
    "start_time": "2022-03-12T13:15:51.210Z"
   },
   {
    "duration": 65,
    "start_time": "2022-03-12T13:15:51.236Z"
   },
   {
    "duration": 19,
    "start_time": "2022-03-12T13:15:51.304Z"
   },
   {
    "duration": 15,
    "start_time": "2022-03-12T13:15:51.326Z"
   },
   {
    "duration": 42,
    "start_time": "2022-03-12T13:15:51.345Z"
   },
   {
    "duration": 17,
    "start_time": "2022-03-12T13:15:51.390Z"
   },
   {
    "duration": 20,
    "start_time": "2022-03-12T13:15:51.410Z"
   },
   {
    "duration": 30,
    "start_time": "2022-03-12T13:15:51.432Z"
   },
   {
    "duration": 21,
    "start_time": "2022-03-12T13:15:51.465Z"
   },
   {
    "duration": 20,
    "start_time": "2022-03-12T13:15:51.488Z"
   },
   {
    "duration": 38,
    "start_time": "2022-03-12T13:15:51.510Z"
   },
   {
    "duration": 13,
    "start_time": "2022-03-12T13:15:51.551Z"
   },
   {
    "duration": 38,
    "start_time": "2022-03-12T13:15:51.567Z"
   },
   {
    "duration": 65,
    "start_time": "2022-03-12T13:15:51.607Z"
   },
   {
    "duration": 120,
    "start_time": "2022-03-12T13:44:38.107Z"
   },
   {
    "duration": 91,
    "start_time": "2022-03-12T13:44:44.286Z"
   },
   {
    "duration": 815,
    "start_time": "2022-03-12T13:44:51.478Z"
   },
   {
    "duration": 16,
    "start_time": "2022-03-12T13:44:52.296Z"
   },
   {
    "duration": 25,
    "start_time": "2022-03-12T13:44:52.318Z"
   },
   {
    "duration": 44,
    "start_time": "2022-03-12T13:44:52.346Z"
   },
   {
    "duration": 5,
    "start_time": "2022-03-12T13:44:52.392Z"
   },
   {
    "duration": 17,
    "start_time": "2022-03-12T13:44:52.399Z"
   },
   {
    "duration": 15,
    "start_time": "2022-03-12T13:44:52.419Z"
   },
   {
    "duration": 8,
    "start_time": "2022-03-12T13:44:52.437Z"
   },
   {
    "duration": 36,
    "start_time": "2022-03-12T13:44:52.447Z"
   },
   {
    "duration": 25,
    "start_time": "2022-03-12T13:44:52.486Z"
   },
   {
    "duration": 6,
    "start_time": "2022-03-12T13:44:52.513Z"
   },
   {
    "duration": 24,
    "start_time": "2022-03-12T13:44:52.521Z"
   },
   {
    "duration": 97,
    "start_time": "2022-03-12T13:44:52.548Z"
   },
   {
    "duration": -283,
    "start_time": "2022-03-12T13:44:52.931Z"
   },
   {
    "duration": -281,
    "start_time": "2022-03-12T13:44:52.931Z"
   },
   {
    "duration": -280,
    "start_time": "2022-03-12T13:44:52.931Z"
   },
   {
    "duration": -278,
    "start_time": "2022-03-12T13:44:52.931Z"
   },
   {
    "duration": -293,
    "start_time": "2022-03-12T13:44:52.947Z"
   },
   {
    "duration": -292,
    "start_time": "2022-03-12T13:44:52.947Z"
   },
   {
    "duration": -307,
    "start_time": "2022-03-12T13:44:52.964Z"
   },
   {
    "duration": -308,
    "start_time": "2022-03-12T13:44:52.966Z"
   },
   {
    "duration": -309,
    "start_time": "2022-03-12T13:44:52.969Z"
   },
   {
    "duration": -311,
    "start_time": "2022-03-12T13:44:52.972Z"
   },
   {
    "duration": -314,
    "start_time": "2022-03-12T13:44:52.976Z"
   },
   {
    "duration": -316,
    "start_time": "2022-03-12T13:44:52.979Z"
   },
   {
    "duration": -317,
    "start_time": "2022-03-12T13:44:52.982Z"
   },
   {
    "duration": -318,
    "start_time": "2022-03-12T13:44:52.984Z"
   },
   {
    "duration": -318,
    "start_time": "2022-03-12T13:44:52.985Z"
   },
   {
    "duration": -316,
    "start_time": "2022-03-12T13:44:52.985Z"
   },
   {
    "duration": -315,
    "start_time": "2022-03-12T13:44:52.985Z"
   },
   {
    "duration": -324,
    "start_time": "2022-03-12T13:44:52.995Z"
   },
   {
    "duration": -325,
    "start_time": "2022-03-12T13:44:52.998Z"
   },
   {
    "duration": -326,
    "start_time": "2022-03-12T13:44:53.000Z"
   },
   {
    "duration": 9,
    "start_time": "2022-03-12T13:45:11.851Z"
   },
   {
    "duration": 8,
    "start_time": "2022-03-12T15:03:13.711Z"
   },
   {
    "duration": 9,
    "start_time": "2022-03-12T15:03:24.340Z"
   },
   {
    "duration": 27,
    "start_time": "2022-03-12T16:31:24.750Z"
   },
   {
    "duration": 785,
    "start_time": "2022-03-12T16:31:48.322Z"
   },
   {
    "duration": 15,
    "start_time": "2022-03-12T16:31:49.109Z"
   },
   {
    "duration": 18,
    "start_time": "2022-03-12T16:31:49.127Z"
   },
   {
    "duration": 45,
    "start_time": "2022-03-12T16:31:49.148Z"
   },
   {
    "duration": 5,
    "start_time": "2022-03-12T16:31:49.196Z"
   },
   {
    "duration": 10,
    "start_time": "2022-03-12T16:31:49.204Z"
   },
   {
    "duration": 12,
    "start_time": "2022-03-12T16:31:49.216Z"
   },
   {
    "duration": 9,
    "start_time": "2022-03-12T16:31:49.232Z"
   },
   {
    "duration": 8,
    "start_time": "2022-03-12T16:31:49.284Z"
   },
   {
    "duration": 24,
    "start_time": "2022-03-12T16:31:49.295Z"
   },
   {
    "duration": 7,
    "start_time": "2022-03-12T16:31:49.322Z"
   },
   {
    "duration": 58,
    "start_time": "2022-03-12T16:31:49.332Z"
   },
   {
    "duration": 8,
    "start_time": "2022-03-12T16:31:49.393Z"
   },
   {
    "duration": 22,
    "start_time": "2022-03-12T16:31:49.403Z"
   },
   {
    "duration": 7,
    "start_time": "2022-03-12T16:31:49.428Z"
   },
   {
    "duration": 8,
    "start_time": "2022-03-12T16:31:49.481Z"
   },
   {
    "duration": 36,
    "start_time": "2022-03-12T16:31:49.492Z"
   },
   {
    "duration": 51,
    "start_time": "2022-03-12T16:31:49.531Z"
   },
   {
    "duration": 34,
    "start_time": "2022-03-12T16:31:49.585Z"
   },
   {
    "duration": 18,
    "start_time": "2022-03-12T16:31:49.621Z"
   },
   {
    "duration": 43,
    "start_time": "2022-03-12T16:31:49.642Z"
   },
   {
    "duration": 17,
    "start_time": "2022-03-12T16:31:49.688Z"
   },
   {
    "duration": 17,
    "start_time": "2022-03-12T16:31:49.710Z"
   },
   {
    "duration": 9,
    "start_time": "2022-03-12T16:31:49.731Z"
   },
   {
    "duration": 61,
    "start_time": "2022-03-12T16:31:49.743Z"
   },
   {
    "duration": 11,
    "start_time": "2022-03-12T16:31:49.807Z"
   },
   {
    "duration": 10,
    "start_time": "2022-03-12T16:31:49.821Z"
   },
   {
    "duration": 406,
    "start_time": "2022-03-12T16:31:49.834Z"
   },
   {
    "duration": -1705,
    "start_time": "2022-03-12T16:31:51.949Z"
   },
   {
    "duration": -1705,
    "start_time": "2022-03-12T16:31:51.952Z"
   },
   {
    "duration": -1708,
    "start_time": "2022-03-12T16:31:51.957Z"
   },
   {
    "duration": 28,
    "start_time": "2022-03-12T16:35:44.605Z"
   },
   {
    "duration": 864,
    "start_time": "2022-03-12T16:40:07.531Z"
   },
   {
    "duration": 17,
    "start_time": "2022-03-12T16:40:08.399Z"
   },
   {
    "duration": 12,
    "start_time": "2022-03-12T16:40:08.420Z"
   },
   {
    "duration": 63,
    "start_time": "2022-03-12T16:40:08.436Z"
   },
   {
    "duration": 7,
    "start_time": "2022-03-12T16:40:08.502Z"
   },
   {
    "duration": 11,
    "start_time": "2022-03-12T16:40:08.512Z"
   },
   {
    "duration": 13,
    "start_time": "2022-03-12T16:40:08.527Z"
   },
   {
    "duration": 42,
    "start_time": "2022-03-12T16:40:08.544Z"
   },
   {
    "duration": 7,
    "start_time": "2022-03-12T16:40:08.589Z"
   },
   {
    "duration": 25,
    "start_time": "2022-03-12T16:40:08.599Z"
   },
   {
    "duration": 7,
    "start_time": "2022-03-12T16:40:08.626Z"
   },
   {
    "duration": 61,
    "start_time": "2022-03-12T16:40:08.635Z"
   },
   {
    "duration": 12,
    "start_time": "2022-03-12T16:40:08.700Z"
   },
   {
    "duration": 67,
    "start_time": "2022-03-12T16:40:08.716Z"
   },
   {
    "duration": 14,
    "start_time": "2022-03-12T16:40:08.786Z"
   },
   {
    "duration": 16,
    "start_time": "2022-03-12T16:40:08.804Z"
   },
   {
    "duration": 77,
    "start_time": "2022-03-12T16:40:08.823Z"
   },
   {
    "duration": 31,
    "start_time": "2022-03-12T16:40:08.903Z"
   },
   {
    "duration": 58,
    "start_time": "2022-03-12T16:40:08.937Z"
   },
   {
    "duration": 29,
    "start_time": "2022-03-12T16:40:08.998Z"
   },
   {
    "duration": 19,
    "start_time": "2022-03-12T16:40:09.030Z"
   },
   {
    "duration": 48,
    "start_time": "2022-03-12T16:40:09.052Z"
   },
   {
    "duration": 17,
    "start_time": "2022-03-12T16:40:09.107Z"
   },
   {
    "duration": 11,
    "start_time": "2022-03-12T16:40:09.127Z"
   },
   {
    "duration": 59,
    "start_time": "2022-03-12T16:40:09.140Z"
   },
   {
    "duration": 11,
    "start_time": "2022-03-12T16:40:09.201Z"
   },
   {
    "duration": 14,
    "start_time": "2022-03-12T16:40:09.214Z"
   },
   {
    "duration": 415,
    "start_time": "2022-03-12T16:40:09.231Z"
   },
   {
    "duration": 580,
    "start_time": "2022-03-12T16:40:09.069Z"
   },
   {
    "duration": 570,
    "start_time": "2022-03-12T16:40:09.081Z"
   },
   {
    "duration": 569,
    "start_time": "2022-03-12T16:40:09.084Z"
   },
   {
    "duration": 864,
    "start_time": "2022-03-12T16:49:09.304Z"
   },
   {
    "duration": 19,
    "start_time": "2022-03-12T16:49:10.170Z"
   },
   {
    "duration": 12,
    "start_time": "2022-03-12T16:49:10.192Z"
   },
   {
    "duration": 21,
    "start_time": "2022-03-12T16:49:10.207Z"
   },
   {
    "duration": 9,
    "start_time": "2022-03-12T16:49:10.230Z"
   },
   {
    "duration": 41,
    "start_time": "2022-03-12T16:49:10.241Z"
   },
   {
    "duration": 13,
    "start_time": "2022-03-12T16:49:10.285Z"
   },
   {
    "duration": 7,
    "start_time": "2022-03-12T16:49:10.302Z"
   },
   {
    "duration": 7,
    "start_time": "2022-03-12T16:49:10.313Z"
   },
   {
    "duration": 80,
    "start_time": "2022-03-12T16:49:10.323Z"
   },
   {
    "duration": 7,
    "start_time": "2022-03-12T16:49:10.406Z"
   },
   {
    "duration": 28,
    "start_time": "2022-03-12T16:49:10.416Z"
   },
   {
    "duration": 37,
    "start_time": "2022-03-12T16:49:10.447Z"
   },
   {
    "duration": 27,
    "start_time": "2022-03-12T16:49:10.486Z"
   },
   {
    "duration": 8,
    "start_time": "2022-03-12T16:49:10.516Z"
   },
   {
    "duration": 9,
    "start_time": "2022-03-12T16:49:10.527Z"
   },
   {
    "duration": 66,
    "start_time": "2022-03-12T16:49:10.538Z"
   },
   {
    "duration": 36,
    "start_time": "2022-03-12T16:49:10.606Z"
   },
   {
    "duration": 53,
    "start_time": "2022-03-12T16:49:10.644Z"
   },
   {
    "duration": 18,
    "start_time": "2022-03-12T16:49:10.700Z"
   },
   {
    "duration": 15,
    "start_time": "2022-03-12T16:49:10.721Z"
   },
   {
    "duration": 52,
    "start_time": "2022-03-12T16:49:10.738Z"
   },
   {
    "duration": 19,
    "start_time": "2022-03-12T16:49:10.794Z"
   },
   {
    "duration": 6,
    "start_time": "2022-03-12T16:49:10.817Z"
   },
   {
    "duration": 61,
    "start_time": "2022-03-12T16:49:10.826Z"
   },
   {
    "duration": 9,
    "start_time": "2022-03-12T16:49:10.890Z"
   },
   {
    "duration": 9,
    "start_time": "2022-03-12T16:49:10.901Z"
   },
   {
    "duration": 564,
    "start_time": "2022-03-12T16:49:10.912Z"
   },
   {
    "duration": 572,
    "start_time": "2022-03-12T16:49:10.907Z"
   },
   {
    "duration": 569,
    "start_time": "2022-03-12T16:49:10.911Z"
   },
   {
    "duration": 562,
    "start_time": "2022-03-12T16:49:10.920Z"
   },
   {
    "duration": 7,
    "start_time": "2022-03-12T16:50:44.109Z"
   },
   {
    "duration": 261,
    "start_time": "2022-03-12T16:51:11.882Z"
   },
   {
    "duration": 7,
    "start_time": "2022-03-12T16:51:45.059Z"
   },
   {
    "duration": 7,
    "start_time": "2022-03-12T16:51:49.708Z"
   },
   {
    "duration": 271,
    "start_time": "2022-03-12T16:52:29.123Z"
   },
   {
    "duration": 7,
    "start_time": "2022-03-12T16:52:34.595Z"
   },
   {
    "duration": 100,
    "start_time": "2022-03-12T16:53:49.851Z"
   },
   {
    "duration": 950,
    "start_time": "2022-03-12T16:54:00.085Z"
   },
   {
    "duration": 19,
    "start_time": "2022-03-12T16:54:01.037Z"
   },
   {
    "duration": 37,
    "start_time": "2022-03-12T16:54:01.061Z"
   },
   {
    "duration": 27,
    "start_time": "2022-03-12T16:54:01.102Z"
   },
   {
    "duration": 5,
    "start_time": "2022-03-12T16:54:01.132Z"
   },
   {
    "duration": 47,
    "start_time": "2022-03-12T16:54:01.139Z"
   },
   {
    "duration": 24,
    "start_time": "2022-03-12T16:54:01.189Z"
   },
   {
    "duration": 27,
    "start_time": "2022-03-12T16:54:01.220Z"
   },
   {
    "duration": 25,
    "start_time": "2022-03-12T16:54:01.250Z"
   },
   {
    "duration": 44,
    "start_time": "2022-03-12T16:54:01.277Z"
   },
   {
    "duration": 7,
    "start_time": "2022-03-12T16:54:01.324Z"
   },
   {
    "duration": 38,
    "start_time": "2022-03-12T16:54:01.333Z"
   },
   {
    "duration": 40,
    "start_time": "2022-03-12T16:54:01.374Z"
   },
   {
    "duration": 50,
    "start_time": "2022-03-12T16:54:01.417Z"
   },
   {
    "duration": 12,
    "start_time": "2022-03-12T16:54:01.470Z"
   },
   {
    "duration": 30,
    "start_time": "2022-03-12T16:54:01.485Z"
   },
   {
    "duration": 84,
    "start_time": "2022-03-12T16:54:01.518Z"
   },
   {
    "duration": 36,
    "start_time": "2022-03-12T16:54:01.604Z"
   },
   {
    "duration": 45,
    "start_time": "2022-03-12T16:54:01.642Z"
   },
   {
    "duration": 20,
    "start_time": "2022-03-12T16:54:01.690Z"
   },
   {
    "duration": 21,
    "start_time": "2022-03-12T16:54:01.712Z"
   },
   {
    "duration": 37,
    "start_time": "2022-03-12T16:54:01.735Z"
   },
   {
    "duration": 28,
    "start_time": "2022-03-12T16:54:01.781Z"
   },
   {
    "duration": 29,
    "start_time": "2022-03-12T16:54:01.812Z"
   },
   {
    "duration": 55,
    "start_time": "2022-03-12T16:54:01.843Z"
   },
   {
    "duration": 18,
    "start_time": "2022-03-12T16:54:01.900Z"
   },
   {
    "duration": 30,
    "start_time": "2022-03-12T16:54:01.920Z"
   },
   {
    "duration": 13,
    "start_time": "2022-03-12T16:54:01.952Z"
   },
   {
    "duration": 26,
    "start_time": "2022-03-12T16:54:01.967Z"
   },
   {
    "duration": 40,
    "start_time": "2022-03-12T16:54:01.996Z"
   },
   {
    "duration": 84,
    "start_time": "2022-03-12T16:54:02.039Z"
   },
   {
    "duration": 19,
    "start_time": "2022-03-12T16:57:20.363Z"
   },
   {
    "duration": 843,
    "start_time": "2022-03-12T16:57:27.138Z"
   },
   {
    "duration": 15,
    "start_time": "2022-03-12T16:57:27.984Z"
   },
   {
    "duration": 27,
    "start_time": "2022-03-12T16:57:28.002Z"
   },
   {
    "duration": 38,
    "start_time": "2022-03-12T16:57:28.032Z"
   },
   {
    "duration": 14,
    "start_time": "2022-03-12T16:57:28.073Z"
   },
   {
    "duration": 24,
    "start_time": "2022-03-12T16:57:28.090Z"
   },
   {
    "duration": 17,
    "start_time": "2022-03-12T16:57:28.116Z"
   },
   {
    "duration": 8,
    "start_time": "2022-03-12T16:57:28.137Z"
   },
   {
    "duration": 39,
    "start_time": "2022-03-12T16:57:28.148Z"
   },
   {
    "duration": 32,
    "start_time": "2022-03-12T16:57:28.189Z"
   },
   {
    "duration": 5,
    "start_time": "2022-03-12T16:57:28.224Z"
   },
   {
    "duration": 31,
    "start_time": "2022-03-12T16:57:28.231Z"
   },
   {
    "duration": 25,
    "start_time": "2022-03-12T16:57:28.264Z"
   },
   {
    "duration": 23,
    "start_time": "2022-03-12T16:57:28.292Z"
   },
   {
    "duration": 31,
    "start_time": "2022-03-12T16:57:28.317Z"
   },
   {
    "duration": 22,
    "start_time": "2022-03-12T16:57:28.352Z"
   },
   {
    "duration": 45,
    "start_time": "2022-03-12T16:57:28.376Z"
   },
   {
    "duration": 36,
    "start_time": "2022-03-12T16:57:28.424Z"
   },
   {
    "duration": 38,
    "start_time": "2022-03-12T16:57:28.483Z"
   },
   {
    "duration": 29,
    "start_time": "2022-03-12T16:57:28.524Z"
   },
   {
    "duration": 43,
    "start_time": "2022-03-12T16:57:28.556Z"
   },
   {
    "duration": 20,
    "start_time": "2022-03-12T16:57:28.602Z"
   },
   {
    "duration": 30,
    "start_time": "2022-03-12T16:57:28.626Z"
   },
   {
    "duration": 33,
    "start_time": "2022-03-12T16:57:28.659Z"
   },
   {
    "duration": 35,
    "start_time": "2022-03-12T16:57:28.694Z"
   },
   {
    "duration": 9,
    "start_time": "2022-03-12T16:57:28.732Z"
   },
   {
    "duration": 18,
    "start_time": "2022-03-12T16:57:28.744Z"
   },
   {
    "duration": 34,
    "start_time": "2022-03-12T16:57:28.765Z"
   },
   {
    "duration": 23,
    "start_time": "2022-03-12T16:57:28.801Z"
   },
   {
    "duration": 42,
    "start_time": "2022-03-12T16:57:28.826Z"
   },
   {
    "duration": 69,
    "start_time": "2022-03-12T16:57:28.870Z"
   },
   {
    "duration": 8,
    "start_time": "2022-03-12T16:57:42.435Z"
   },
   {
    "duration": 927,
    "start_time": "2022-03-12T16:58:52.369Z"
   },
   {
    "duration": 19,
    "start_time": "2022-03-12T16:58:53.299Z"
   },
   {
    "duration": 18,
    "start_time": "2022-03-12T16:58:53.321Z"
   },
   {
    "duration": 54,
    "start_time": "2022-03-12T16:58:53.343Z"
   },
   {
    "duration": 5,
    "start_time": "2022-03-12T16:58:53.399Z"
   },
   {
    "duration": 11,
    "start_time": "2022-03-12T16:58:53.407Z"
   },
   {
    "duration": 14,
    "start_time": "2022-03-12T16:58:53.420Z"
   },
   {
    "duration": 7,
    "start_time": "2022-03-12T16:58:53.438Z"
   },
   {
    "duration": 7,
    "start_time": "2022-03-12T16:58:53.483Z"
   },
   {
    "duration": 22,
    "start_time": "2022-03-12T16:58:53.492Z"
   },
   {
    "duration": 6,
    "start_time": "2022-03-12T16:58:53.516Z"
   },
   {
    "duration": 21,
    "start_time": "2022-03-12T16:58:53.524Z"
   },
   {
    "duration": 41,
    "start_time": "2022-03-12T16:58:53.547Z"
   },
   {
    "duration": 12,
    "start_time": "2022-03-12T16:58:53.591Z"
   },
   {
    "duration": 7,
    "start_time": "2022-03-12T16:58:53.605Z"
   },
   {
    "duration": 8,
    "start_time": "2022-03-12T16:58:53.614Z"
   },
   {
    "duration": 58,
    "start_time": "2022-03-12T16:58:53.624Z"
   },
   {
    "duration": 29,
    "start_time": "2022-03-12T16:58:53.685Z"
   },
   {
    "duration": 26,
    "start_time": "2022-03-12T16:58:53.716Z"
   },
   {
    "duration": 64,
    "start_time": "2022-03-12T16:58:53.745Z"
   },
   {
    "duration": 20,
    "start_time": "2022-03-12T16:58:53.811Z"
   },
   {
    "duration": 15,
    "start_time": "2022-03-12T16:58:53.833Z"
   },
   {
    "duration": 42,
    "start_time": "2022-03-12T16:58:53.853Z"
   },
   {
    "duration": 17,
    "start_time": "2022-03-12T16:58:53.897Z"
   },
   {
    "duration": 8,
    "start_time": "2022-03-12T16:58:53.916Z"
   },
   {
    "duration": 60,
    "start_time": "2022-03-12T16:58:53.928Z"
   },
   {
    "duration": 12,
    "start_time": "2022-03-12T16:58:53.991Z"
   },
   {
    "duration": 10,
    "start_time": "2022-03-12T16:58:54.006Z"
   },
   {
    "duration": 10,
    "start_time": "2022-03-12T16:58:54.019Z"
   },
   {
    "duration": 4,
    "start_time": "2022-03-12T16:58:54.031Z"
   },
   {
    "duration": 46,
    "start_time": "2022-03-12T16:58:54.037Z"
   },
   {
    "duration": 38,
    "start_time": "2022-03-12T16:58:54.086Z"
   },
   {
    "duration": 15,
    "start_time": "2022-03-12T17:01:13.578Z"
   },
   {
    "duration": 404,
    "start_time": "2022-03-12T17:03:15.196Z"
   },
   {
    "duration": 303,
    "start_time": "2022-03-12T17:03:21.572Z"
   },
   {
    "duration": 356,
    "start_time": "2022-03-12T17:04:01.340Z"
   },
   {
    "duration": 13,
    "start_time": "2022-03-12T17:04:19.980Z"
   },
   {
    "duration": 13,
    "start_time": "2022-03-12T17:06:55.753Z"
   },
   {
    "duration": 758,
    "start_time": "2022-03-12T17:07:04.124Z"
   },
   {
    "duration": 14,
    "start_time": "2022-03-12T17:07:04.885Z"
   },
   {
    "duration": 12,
    "start_time": "2022-03-12T17:07:04.906Z"
   },
   {
    "duration": 21,
    "start_time": "2022-03-12T17:07:04.920Z"
   },
   {
    "duration": 5,
    "start_time": "2022-03-12T17:07:04.983Z"
   },
   {
    "duration": 9,
    "start_time": "2022-03-12T17:07:04.991Z"
   },
   {
    "duration": 15,
    "start_time": "2022-03-12T17:07:05.004Z"
   },
   {
    "duration": 6,
    "start_time": "2022-03-12T17:07:05.022Z"
   },
   {
    "duration": 6,
    "start_time": "2022-03-12T17:07:05.031Z"
   },
   {
    "duration": 63,
    "start_time": "2022-03-12T17:07:05.039Z"
   },
   {
    "duration": 9,
    "start_time": "2022-03-12T17:07:05.105Z"
   },
   {
    "duration": 22,
    "start_time": "2022-03-12T17:07:05.117Z"
   },
   {
    "duration": 43,
    "start_time": "2022-03-12T17:07:05.142Z"
   },
   {
    "duration": 14,
    "start_time": "2022-03-12T17:07:05.188Z"
   },
   {
    "duration": 15,
    "start_time": "2022-03-12T17:07:05.205Z"
   },
   {
    "duration": 9,
    "start_time": "2022-03-12T17:07:05.223Z"
   },
   {
    "duration": 53,
    "start_time": "2022-03-12T17:07:05.235Z"
   },
   {
    "duration": 28,
    "start_time": "2022-03-12T17:07:05.290Z"
   },
   {
    "duration": 26,
    "start_time": "2022-03-12T17:07:05.321Z"
   },
   {
    "duration": 37,
    "start_time": "2022-03-12T17:07:05.382Z"
   },
   {
    "duration": 21,
    "start_time": "2022-03-12T17:07:05.421Z"
   },
   {
    "duration": 40,
    "start_time": "2022-03-12T17:07:05.448Z"
   },
   {
    "duration": 22,
    "start_time": "2022-03-12T17:07:05.491Z"
   },
   {
    "duration": 17,
    "start_time": "2022-03-12T17:07:05.516Z"
   },
   {
    "duration": 6,
    "start_time": "2022-03-12T17:07:05.536Z"
   },
   {
    "duration": 62,
    "start_time": "2022-03-12T17:07:05.545Z"
   },
   {
    "duration": 10,
    "start_time": "2022-03-12T17:07:05.610Z"
   },
   {
    "duration": 14,
    "start_time": "2022-03-12T17:07:05.623Z"
   },
   {
    "duration": 43,
    "start_time": "2022-03-12T17:07:05.639Z"
   },
   {
    "duration": 5,
    "start_time": "2022-03-12T17:07:05.685Z"
   },
   {
    "duration": 15,
    "start_time": "2022-03-12T17:07:05.693Z"
   },
   {
    "duration": 42,
    "start_time": "2022-03-12T17:07:05.711Z"
   },
   {
    "duration": 18,
    "start_time": "2022-03-12T17:07:13.627Z"
   },
   {
    "duration": 12,
    "start_time": "2022-03-12T17:08:57.324Z"
   },
   {
    "duration": 356,
    "start_time": "2022-03-12T17:09:31.644Z"
   },
   {
    "duration": 5,
    "start_time": "2022-03-12T17:10:00.899Z"
   },
   {
    "duration": 5,
    "start_time": "2022-03-12T17:10:04.463Z"
   },
   {
    "duration": 836,
    "start_time": "2022-03-12T17:10:12.338Z"
   },
   {
    "duration": 20,
    "start_time": "2022-03-12T17:10:13.177Z"
   },
   {
    "duration": 14,
    "start_time": "2022-03-12T17:10:13.200Z"
   },
   {
    "duration": 21,
    "start_time": "2022-03-12T17:10:13.217Z"
   },
   {
    "duration": 41,
    "start_time": "2022-03-12T17:10:13.241Z"
   },
   {
    "duration": 14,
    "start_time": "2022-03-12T17:10:13.286Z"
   },
   {
    "duration": 24,
    "start_time": "2022-03-12T17:10:13.303Z"
   },
   {
    "duration": 7,
    "start_time": "2022-03-12T17:10:13.331Z"
   },
   {
    "duration": 7,
    "start_time": "2022-03-12T17:10:13.341Z"
   },
   {
    "duration": 56,
    "start_time": "2022-03-12T17:10:13.350Z"
   },
   {
    "duration": 5,
    "start_time": "2022-03-12T17:10:13.408Z"
   },
   {
    "duration": 33,
    "start_time": "2022-03-12T17:10:13.416Z"
   },
   {
    "duration": 36,
    "start_time": "2022-03-12T17:10:13.452Z"
   },
   {
    "duration": 12,
    "start_time": "2022-03-12T17:10:13.491Z"
   },
   {
    "duration": 9,
    "start_time": "2022-03-12T17:10:13.506Z"
   },
   {
    "duration": 19,
    "start_time": "2022-03-12T17:10:13.518Z"
   },
   {
    "duration": 44,
    "start_time": "2022-03-12T17:10:13.539Z"
   },
   {
    "duration": 13,
    "start_time": "2022-03-12T17:10:13.586Z"
   },
   {
    "duration": 8,
    "start_time": "2022-03-12T17:10:13.602Z"
   },
   {
    "duration": 74,
    "start_time": "2022-03-12T17:10:13.613Z"
   },
   {
    "duration": 36,
    "start_time": "2022-03-12T17:10:13.690Z"
   },
   {
    "duration": 68,
    "start_time": "2022-03-12T17:10:13.729Z"
   },
   {
    "duration": 20,
    "start_time": "2022-03-12T17:10:13.804Z"
   },
   {
    "duration": 16,
    "start_time": "2022-03-12T17:10:13.827Z"
   },
   {
    "duration": 45,
    "start_time": "2022-03-12T17:10:13.846Z"
   },
   {
    "duration": 26,
    "start_time": "2022-03-12T17:10:13.894Z"
   },
   {
    "duration": 6,
    "start_time": "2022-03-12T17:10:13.923Z"
   },
   {
    "duration": 61,
    "start_time": "2022-03-12T17:10:13.931Z"
   },
   {
    "duration": 14,
    "start_time": "2022-03-12T17:10:13.996Z"
   },
   {
    "duration": 9,
    "start_time": "2022-03-12T17:10:14.013Z"
   },
   {
    "duration": 16,
    "start_time": "2022-03-12T17:10:14.024Z"
   },
   {
    "duration": 40,
    "start_time": "2022-03-12T17:10:14.043Z"
   },
   {
    "duration": 15,
    "start_time": "2022-03-12T17:10:14.087Z"
   },
   {
    "duration": 44,
    "start_time": "2022-03-12T17:10:14.105Z"
   },
   {
    "duration": 780,
    "start_time": "2022-03-12T17:11:36.816Z"
   },
   {
    "duration": 14,
    "start_time": "2022-03-12T17:11:37.599Z"
   },
   {
    "duration": 11,
    "start_time": "2022-03-12T17:11:37.616Z"
   },
   {
    "duration": 53,
    "start_time": "2022-03-12T17:11:37.630Z"
   },
   {
    "duration": 5,
    "start_time": "2022-03-12T17:11:37.686Z"
   },
   {
    "duration": 8,
    "start_time": "2022-03-12T17:11:37.693Z"
   },
   {
    "duration": 13,
    "start_time": "2022-03-12T17:11:37.704Z"
   },
   {
    "duration": 7,
    "start_time": "2022-03-12T17:11:37.721Z"
   },
   {
    "duration": 7,
    "start_time": "2022-03-12T17:11:37.731Z"
   },
   {
    "duration": 22,
    "start_time": "2022-03-12T17:11:37.782Z"
   },
   {
    "duration": 7,
    "start_time": "2022-03-12T17:11:37.807Z"
   },
   {
    "duration": 25,
    "start_time": "2022-03-12T17:11:37.816Z"
   },
   {
    "duration": 40,
    "start_time": "2022-03-12T17:11:37.843Z"
   },
   {
    "duration": 12,
    "start_time": "2022-03-12T17:11:37.885Z"
   },
   {
    "duration": 13,
    "start_time": "2022-03-12T17:11:37.899Z"
   },
   {
    "duration": 8,
    "start_time": "2022-03-12T17:11:37.914Z"
   },
   {
    "duration": 6,
    "start_time": "2022-03-12T17:11:37.924Z"
   },
   {
    "duration": 78,
    "start_time": "2022-03-12T17:11:37.932Z"
   },
   {
    "duration": 25,
    "start_time": "2022-03-12T17:11:38.013Z"
   },
   {
    "duration": 66,
    "start_time": "2022-03-12T17:11:38.041Z"
   },
   {
    "duration": 20,
    "start_time": "2022-03-12T17:11:38.110Z"
   },
   {
    "duration": 14,
    "start_time": "2022-03-12T17:11:38.132Z"
   },
   {
    "duration": 39,
    "start_time": "2022-03-12T17:11:38.150Z"
   },
   {
    "duration": 18,
    "start_time": "2022-03-12T17:11:38.192Z"
   },
   {
    "duration": 6,
    "start_time": "2022-03-12T17:11:38.213Z"
   },
   {
    "duration": 34,
    "start_time": "2022-03-12T17:11:38.221Z"
   },
   {
    "duration": 10,
    "start_time": "2022-03-12T17:11:38.281Z"
   },
   {
    "duration": 13,
    "start_time": "2022-03-12T17:11:38.293Z"
   },
   {
    "duration": 12,
    "start_time": "2022-03-12T17:11:38.308Z"
   },
   {
    "duration": 3,
    "start_time": "2022-03-12T17:11:38.323Z"
   },
   {
    "duration": 12,
    "start_time": "2022-03-12T17:11:38.328Z"
   },
   {
    "duration": 67,
    "start_time": "2022-03-12T17:11:38.342Z"
   },
   {
    "duration": 773,
    "start_time": "2022-03-12T17:14:46.734Z"
   },
   {
    "duration": 15,
    "start_time": "2022-03-12T17:14:47.510Z"
   },
   {
    "duration": 13,
    "start_time": "2022-03-12T17:14:47.528Z"
   },
   {
    "duration": 54,
    "start_time": "2022-03-12T17:14:47.544Z"
   },
   {
    "duration": 5,
    "start_time": "2022-03-12T17:14:47.601Z"
   },
   {
    "duration": 15,
    "start_time": "2022-03-12T17:14:47.608Z"
   },
   {
    "duration": 16,
    "start_time": "2022-03-12T17:14:47.625Z"
   },
   {
    "duration": 37,
    "start_time": "2022-03-12T17:14:47.647Z"
   },
   {
    "duration": 9,
    "start_time": "2022-03-12T17:14:47.688Z"
   },
   {
    "duration": 25,
    "start_time": "2022-03-12T17:14:47.700Z"
   },
   {
    "duration": 6,
    "start_time": "2022-03-12T17:14:47.728Z"
   },
   {
    "duration": 68,
    "start_time": "2022-03-12T17:14:47.737Z"
   },
   {
    "duration": 11,
    "start_time": "2022-03-12T17:14:47.808Z"
   },
   {
    "duration": 18,
    "start_time": "2022-03-12T17:14:47.822Z"
   },
   {
    "duration": 46,
    "start_time": "2022-03-12T17:14:47.843Z"
   },
   {
    "duration": 8,
    "start_time": "2022-03-12T17:14:47.891Z"
   },
   {
    "duration": 11,
    "start_time": "2022-03-12T17:14:47.902Z"
   },
   {
    "duration": 71,
    "start_time": "2022-03-12T17:14:47.916Z"
   },
   {
    "duration": 27,
    "start_time": "2022-03-12T17:14:47.990Z"
   },
   {
    "duration": 36,
    "start_time": "2022-03-12T17:14:48.020Z"
   },
   {
    "duration": 44,
    "start_time": "2022-03-12T17:14:48.059Z"
   },
   {
    "duration": 17,
    "start_time": "2022-03-12T17:14:48.106Z"
   },
   {
    "duration": 61,
    "start_time": "2022-03-12T17:14:48.130Z"
   },
   {
    "duration": 17,
    "start_time": "2022-03-12T17:14:48.194Z"
   },
   {
    "duration": 9,
    "start_time": "2022-03-12T17:14:48.214Z"
   },
   {
    "duration": 27,
    "start_time": "2022-03-12T17:14:48.226Z"
   },
   {
    "duration": 9,
    "start_time": "2022-03-12T17:14:48.283Z"
   },
   {
    "duration": 10,
    "start_time": "2022-03-12T17:14:48.295Z"
   },
   {
    "duration": 16,
    "start_time": "2022-03-12T17:14:48.307Z"
   },
   {
    "duration": 3,
    "start_time": "2022-03-12T17:14:48.325Z"
   },
   {
    "duration": 8,
    "start_time": "2022-03-12T17:14:48.331Z"
   },
   {
    "duration": 80,
    "start_time": "2022-03-12T17:14:48.341Z"
   },
   {
    "duration": 558,
    "start_time": "2022-03-12T17:19:59.184Z"
   },
   {
    "duration": 841,
    "start_time": "2022-03-12T17:20:03.574Z"
   },
   {
    "duration": 16,
    "start_time": "2022-03-12T17:20:04.417Z"
   },
   {
    "duration": 12,
    "start_time": "2022-03-12T17:20:04.436Z"
   },
   {
    "duration": 49,
    "start_time": "2022-03-12T17:20:04.451Z"
   },
   {
    "duration": 12,
    "start_time": "2022-03-12T17:20:04.503Z"
   },
   {
    "duration": 10,
    "start_time": "2022-03-12T17:20:04.518Z"
   },
   {
    "duration": 18,
    "start_time": "2022-03-12T17:20:04.531Z"
   },
   {
    "duration": 7,
    "start_time": "2022-03-12T17:20:04.582Z"
   },
   {
    "duration": 11,
    "start_time": "2022-03-12T17:20:04.592Z"
   },
   {
    "duration": 23,
    "start_time": "2022-03-12T17:20:04.605Z"
   },
   {
    "duration": 11,
    "start_time": "2022-03-12T17:20:04.630Z"
   },
   {
    "duration": 47,
    "start_time": "2022-03-12T17:20:04.644Z"
   },
   {
    "duration": 9,
    "start_time": "2022-03-12T17:20:04.693Z"
   },
   {
    "duration": 14,
    "start_time": "2022-03-12T17:20:04.705Z"
   },
   {
    "duration": 11,
    "start_time": "2022-03-12T17:20:04.722Z"
   },
   {
    "duration": 49,
    "start_time": "2022-03-12T17:20:04.735Z"
   },
   {
    "duration": 9,
    "start_time": "2022-03-12T17:20:04.786Z"
   },
   {
    "duration": 9,
    "start_time": "2022-03-12T17:20:04.797Z"
   },
   {
    "duration": 28,
    "start_time": "2022-03-12T17:20:04.808Z"
   },
   {
    "duration": 60,
    "start_time": "2022-03-12T17:20:04.839Z"
   },
   {
    "duration": 35,
    "start_time": "2022-03-12T17:20:04.901Z"
   },
   {
    "duration": 49,
    "start_time": "2022-03-12T17:20:04.938Z"
   },
   {
    "duration": 16,
    "start_time": "2022-03-12T17:20:04.993Z"
   },
   {
    "duration": 14,
    "start_time": "2022-03-12T17:20:05.012Z"
   },
   {
    "duration": 53,
    "start_time": "2022-03-12T17:20:05.029Z"
   },
   {
    "duration": 4,
    "start_time": "2022-03-12T17:20:05.085Z"
   },
   {
    "duration": 30,
    "start_time": "2022-03-12T17:20:05.091Z"
   },
   {
    "duration": 11,
    "start_time": "2022-03-12T17:20:05.124Z"
   },
   {
    "duration": 46,
    "start_time": "2022-03-12T17:20:05.138Z"
   },
   {
    "duration": 12,
    "start_time": "2022-03-12T17:20:05.187Z"
   },
   {
    "duration": 5,
    "start_time": "2022-03-12T17:20:05.201Z"
   },
   {
    "duration": 12,
    "start_time": "2022-03-12T17:20:05.208Z"
   },
   {
    "duration": 62,
    "start_time": "2022-03-12T17:20:05.223Z"
   },
   {
    "duration": 7,
    "start_time": "2022-03-12T17:39:50.162Z"
   },
   {
    "duration": 10,
    "start_time": "2022-03-12T17:40:07.226Z"
   },
   {
    "duration": 15,
    "start_time": "2022-03-12T17:41:30.392Z"
   },
   {
    "duration": 9,
    "start_time": "2022-03-12T17:41:41.909Z"
   },
   {
    "duration": 779,
    "start_time": "2022-03-12T17:41:51.440Z"
   },
   {
    "duration": 15,
    "start_time": "2022-03-12T17:41:52.222Z"
   },
   {
    "duration": 11,
    "start_time": "2022-03-12T17:41:52.240Z"
   },
   {
    "duration": 22,
    "start_time": "2022-03-12T17:41:52.282Z"
   },
   {
    "duration": 5,
    "start_time": "2022-03-12T17:41:52.306Z"
   },
   {
    "duration": 11,
    "start_time": "2022-03-12T17:41:52.314Z"
   },
   {
    "duration": 13,
    "start_time": "2022-03-12T17:41:52.328Z"
   },
   {
    "duration": 41,
    "start_time": "2022-03-12T17:41:52.345Z"
   },
   {
    "duration": 7,
    "start_time": "2022-03-12T17:41:52.390Z"
   },
   {
    "duration": 29,
    "start_time": "2022-03-12T17:41:52.400Z"
   },
   {
    "duration": 6,
    "start_time": "2022-03-12T17:41:52.431Z"
   },
   {
    "duration": 56,
    "start_time": "2022-03-12T17:41:52.440Z"
   },
   {
    "duration": 10,
    "start_time": "2022-03-12T17:41:52.499Z"
   },
   {
    "duration": 12,
    "start_time": "2022-03-12T17:41:52.511Z"
   },
   {
    "duration": 60,
    "start_time": "2022-03-12T17:41:52.525Z"
   },
   {
    "duration": 11,
    "start_time": "2022-03-12T17:41:52.588Z"
   },
   {
    "duration": 21,
    "start_time": "2022-03-12T17:41:52.601Z"
   },
   {
    "duration": 7,
    "start_time": "2022-03-12T17:41:52.625Z"
   },
   {
    "duration": 8,
    "start_time": "2022-03-12T17:41:52.634Z"
   },
   {
    "duration": 53,
    "start_time": "2022-03-12T17:41:52.644Z"
   },
   {
    "duration": 24,
    "start_time": "2022-03-12T17:41:52.700Z"
   },
   {
    "duration": 34,
    "start_time": "2022-03-12T17:41:52.726Z"
   },
   {
    "duration": 29,
    "start_time": "2022-03-12T17:41:52.764Z"
   },
   {
    "duration": 15,
    "start_time": "2022-03-12T17:41:52.795Z"
   },
   {
    "duration": 15,
    "start_time": "2022-03-12T17:41:52.812Z"
   },
   {
    "duration": 17,
    "start_time": "2022-03-12T17:41:52.829Z"
   },
   {
    "duration": 6,
    "start_time": "2022-03-12T17:41:52.848Z"
   },
   {
    "duration": 38,
    "start_time": "2022-03-12T17:41:52.857Z"
   },
   {
    "duration": 8,
    "start_time": "2022-03-12T17:41:52.898Z"
   },
   {
    "duration": 13,
    "start_time": "2022-03-12T17:41:52.909Z"
   },
   {
    "duration": 15,
    "start_time": "2022-03-12T17:41:52.924Z"
   },
   {
    "duration": 15,
    "start_time": "2022-03-12T17:41:52.942Z"
   },
   {
    "duration": 17,
    "start_time": "2022-03-12T17:41:52.959Z"
   },
   {
    "duration": 40,
    "start_time": "2022-03-12T17:41:52.978Z"
   },
   {
    "duration": 15,
    "start_time": "2022-03-12T17:42:39.212Z"
   },
   {
    "duration": 901,
    "start_time": "2022-03-12T17:42:45.950Z"
   },
   {
    "duration": 28,
    "start_time": "2022-03-12T17:42:46.854Z"
   },
   {
    "duration": 12,
    "start_time": "2022-03-12T17:42:46.891Z"
   },
   {
    "duration": 21,
    "start_time": "2022-03-12T17:42:46.905Z"
   },
   {
    "duration": 6,
    "start_time": "2022-03-12T17:42:46.929Z"
   },
   {
    "duration": 45,
    "start_time": "2022-03-12T17:42:46.938Z"
   },
   {
    "duration": 17,
    "start_time": "2022-03-12T17:42:46.986Z"
   },
   {
    "duration": 6,
    "start_time": "2022-03-12T17:42:47.006Z"
   },
   {
    "duration": 6,
    "start_time": "2022-03-12T17:42:47.014Z"
   },
   {
    "duration": 20,
    "start_time": "2022-03-12T17:42:47.022Z"
   },
   {
    "duration": 6,
    "start_time": "2022-03-12T17:42:47.083Z"
   },
   {
    "duration": 24,
    "start_time": "2022-03-12T17:42:47.091Z"
   },
   {
    "duration": 10,
    "start_time": "2022-03-12T17:42:47.118Z"
   },
   {
    "duration": 12,
    "start_time": "2022-03-12T17:42:47.131Z"
   },
   {
    "duration": 13,
    "start_time": "2022-03-12T17:42:47.183Z"
   },
   {
    "duration": 9,
    "start_time": "2022-03-12T17:42:47.199Z"
   },
   {
    "duration": 22,
    "start_time": "2022-03-12T17:42:47.210Z"
   },
   {
    "duration": 52,
    "start_time": "2022-03-12T17:42:47.235Z"
   },
   {
    "duration": 11,
    "start_time": "2022-03-12T17:42:47.291Z"
   },
   {
    "duration": 8,
    "start_time": "2022-03-12T17:42:47.305Z"
   },
   {
    "duration": 68,
    "start_time": "2022-03-12T17:42:47.315Z"
   },
   {
    "duration": 28,
    "start_time": "2022-03-12T17:42:47.390Z"
   },
   {
    "duration": 34,
    "start_time": "2022-03-12T17:42:47.422Z"
   },
   {
    "duration": 23,
    "start_time": "2022-03-12T17:42:47.482Z"
   },
   {
    "duration": 17,
    "start_time": "2022-03-12T17:42:47.507Z"
   },
   {
    "duration": 55,
    "start_time": "2022-03-12T17:42:47.527Z"
   },
   {
    "duration": 18,
    "start_time": "2022-03-12T17:42:47.584Z"
   },
   {
    "duration": 7,
    "start_time": "2022-03-12T17:42:47.604Z"
   },
   {
    "duration": 27,
    "start_time": "2022-03-12T17:42:47.613Z"
   },
   {
    "duration": 39,
    "start_time": "2022-03-12T17:42:47.643Z"
   },
   {
    "duration": 8,
    "start_time": "2022-03-12T17:42:47.684Z"
   },
   {
    "duration": 12,
    "start_time": "2022-03-12T17:42:47.694Z"
   },
   {
    "duration": 4,
    "start_time": "2022-03-12T17:42:47.708Z"
   },
   {
    "duration": 9,
    "start_time": "2022-03-12T17:42:47.714Z"
   },
   {
    "duration": 78,
    "start_time": "2022-03-12T17:42:47.725Z"
   },
   {
    "duration": 831,
    "start_time": "2022-03-12T17:47:03.995Z"
   },
   {
    "duration": 16,
    "start_time": "2022-03-12T17:47:04.830Z"
   },
   {
    "duration": 34,
    "start_time": "2022-03-12T17:47:04.850Z"
   },
   {
    "duration": 29,
    "start_time": "2022-03-12T17:47:04.887Z"
   },
   {
    "duration": 6,
    "start_time": "2022-03-12T17:47:04.918Z"
   },
   {
    "duration": 11,
    "start_time": "2022-03-12T17:47:04.926Z"
   },
   {
    "duration": 20,
    "start_time": "2022-03-12T17:47:04.939Z"
   },
   {
    "duration": 27,
    "start_time": "2022-03-12T17:47:04.963Z"
   },
   {
    "duration": 23,
    "start_time": "2022-03-12T17:47:04.993Z"
   },
   {
    "duration": 13,
    "start_time": "2022-03-12T17:47:05.018Z"
   },
   {
    "duration": 24,
    "start_time": "2022-03-12T17:47:05.034Z"
   },
   {
    "duration": 37,
    "start_time": "2022-03-12T17:47:05.061Z"
   },
   {
    "duration": 38,
    "start_time": "2022-03-12T17:47:05.101Z"
   },
   {
    "duration": 31,
    "start_time": "2022-03-12T17:47:05.142Z"
   },
   {
    "duration": 14,
    "start_time": "2022-03-12T17:47:05.176Z"
   },
   {
    "duration": 9,
    "start_time": "2022-03-12T17:47:05.193Z"
   },
   {
    "duration": 31,
    "start_time": "2022-03-12T17:47:05.204Z"
   },
   {
    "duration": 37,
    "start_time": "2022-03-12T17:47:05.238Z"
   },
   {
    "duration": 12,
    "start_time": "2022-03-12T17:47:05.277Z"
   },
   {
    "duration": 18,
    "start_time": "2022-03-12T17:47:05.292Z"
   },
   {
    "duration": 47,
    "start_time": "2022-03-12T17:47:05.313Z"
   },
   {
    "duration": 30,
    "start_time": "2022-03-12T17:47:05.363Z"
   },
   {
    "duration": 32,
    "start_time": "2022-03-12T17:47:05.397Z"
   },
   {
    "duration": 20,
    "start_time": "2022-03-12T17:47:05.432Z"
   },
   {
    "duration": 41,
    "start_time": "2022-03-12T17:47:05.455Z"
   },
   {
    "duration": 32,
    "start_time": "2022-03-12T17:47:05.499Z"
   },
   {
    "duration": 31,
    "start_time": "2022-03-12T17:47:05.533Z"
   },
   {
    "duration": 18,
    "start_time": "2022-03-12T17:47:05.567Z"
   },
   {
    "duration": 43,
    "start_time": "2022-03-12T17:47:05.588Z"
   },
   {
    "duration": 9,
    "start_time": "2022-03-12T17:47:05.633Z"
   },
   {
    "duration": 12,
    "start_time": "2022-03-12T17:47:05.645Z"
   },
   {
    "duration": 30,
    "start_time": "2022-03-12T17:47:05.659Z"
   },
   {
    "duration": 26,
    "start_time": "2022-03-12T17:47:05.692Z"
   },
   {
    "duration": 19,
    "start_time": "2022-03-12T17:47:05.721Z"
   },
   {
    "duration": 41,
    "start_time": "2022-03-12T17:47:05.743Z"
   },
   {
    "duration": 10,
    "start_time": "2022-03-12T17:50:25.467Z"
   },
   {
    "duration": 10,
    "start_time": "2022-03-12T17:51:47.132Z"
   },
   {
    "duration": 393,
    "start_time": "2022-03-12T17:53:18.259Z"
   },
   {
    "duration": 26,
    "start_time": "2022-03-12T17:55:53.842Z"
   },
   {
    "duration": 6,
    "start_time": "2022-03-12T17:58:23.001Z"
   },
   {
    "duration": 8,
    "start_time": "2022-03-12T18:00:52.183Z"
   },
   {
    "duration": 10,
    "start_time": "2022-03-12T18:02:13.541Z"
   },
   {
    "duration": 7,
    "start_time": "2022-03-12T18:02:22.103Z"
   },
   {
    "duration": 304,
    "start_time": "2022-03-12T18:11:15.146Z"
   },
   {
    "duration": 18,
    "start_time": "2022-03-12T18:13:47.042Z"
   },
   {
    "duration": 282,
    "start_time": "2022-03-12T18:14:20.010Z"
   },
   {
    "duration": 9,
    "start_time": "2022-03-12T18:14:37.001Z"
   },
   {
    "duration": 340,
    "start_time": "2022-03-12T18:17:12.258Z"
   },
   {
    "duration": 1583,
    "start_time": "2022-03-12T18:17:17.952Z"
   },
   {
    "duration": 14,
    "start_time": "2022-03-12T18:17:19.538Z"
   },
   {
    "duration": 33,
    "start_time": "2022-03-12T18:17:19.559Z"
   },
   {
    "duration": 24,
    "start_time": "2022-03-12T18:17:19.595Z"
   },
   {
    "duration": 5,
    "start_time": "2022-03-12T18:17:19.622Z"
   },
   {
    "duration": 11,
    "start_time": "2022-03-12T18:17:19.629Z"
   },
   {
    "duration": 47,
    "start_time": "2022-03-12T18:17:19.644Z"
   },
   {
    "duration": 8,
    "start_time": "2022-03-12T18:17:19.696Z"
   },
   {
    "duration": 25,
    "start_time": "2022-03-12T18:17:19.707Z"
   },
   {
    "duration": 7,
    "start_time": "2022-03-12T18:17:19.734Z"
   },
   {
    "duration": 46,
    "start_time": "2022-03-12T18:17:19.743Z"
   },
   {
    "duration": 23,
    "start_time": "2022-03-12T18:17:19.791Z"
   },
   {
    "duration": 12,
    "start_time": "2022-03-12T18:17:19.816Z"
   },
   {
    "duration": 11,
    "start_time": "2022-03-12T18:17:19.831Z"
   },
   {
    "duration": 51,
    "start_time": "2022-03-12T18:17:19.844Z"
   },
   {
    "duration": 10,
    "start_time": "2022-03-12T18:17:19.897Z"
   },
   {
    "duration": 23,
    "start_time": "2022-03-12T18:17:19.909Z"
   },
   {
    "duration": 18,
    "start_time": "2022-03-12T18:17:19.935Z"
   },
   {
    "duration": 6,
    "start_time": "2022-03-12T18:17:19.983Z"
   },
   {
    "duration": 12,
    "start_time": "2022-03-12T18:17:19.992Z"
   },
   {
    "duration": 18,
    "start_time": "2022-03-12T18:17:20.006Z"
   },
   {
    "duration": 14,
    "start_time": "2022-03-12T18:17:20.029Z"
   },
   {
    "duration": 36,
    "start_time": "2022-03-12T18:17:20.046Z"
   },
   {
    "duration": 29,
    "start_time": "2022-03-12T18:17:20.085Z"
   },
   {
    "duration": 26,
    "start_time": "2022-03-12T18:17:20.117Z"
   },
   {
    "duration": 58,
    "start_time": "2022-03-12T18:17:20.145Z"
   },
   {
    "duration": 20,
    "start_time": "2022-03-12T18:17:20.205Z"
   },
   {
    "duration": 14,
    "start_time": "2022-03-12T18:17:20.227Z"
   },
   {
    "duration": 46,
    "start_time": "2022-03-12T18:17:20.244Z"
   },
   {
    "duration": 17,
    "start_time": "2022-03-12T18:17:20.293Z"
   },
   {
    "duration": 7,
    "start_time": "2022-03-12T18:17:20.312Z"
   },
   {
    "duration": 62,
    "start_time": "2022-03-12T18:17:20.322Z"
   },
   {
    "duration": 11,
    "start_time": "2022-03-12T18:17:20.387Z"
   },
   {
    "duration": 11,
    "start_time": "2022-03-12T18:17:20.400Z"
   },
   {
    "duration": 11,
    "start_time": "2022-03-12T18:17:20.413Z"
   },
   {
    "duration": 3,
    "start_time": "2022-03-12T18:17:20.427Z"
   },
   {
    "duration": 48,
    "start_time": "2022-03-12T18:17:20.434Z"
   },
   {
    "duration": 35,
    "start_time": "2022-03-12T18:17:20.485Z"
   },
   {
    "duration": 8,
    "start_time": "2022-03-12T18:17:20.523Z"
   },
   {
    "duration": 337,
    "start_time": "2022-03-12T18:17:20.534Z"
   },
   {
    "duration": 7,
    "start_time": "2022-03-12T18:17:34.087Z"
   },
   {
    "duration": 238,
    "start_time": "2022-03-12T18:18:04.055Z"
   },
   {
    "duration": 8,
    "start_time": "2022-03-12T18:18:29.815Z"
   },
   {
    "duration": 252,
    "start_time": "2022-03-12T18:19:01.679Z"
   },
   {
    "duration": 9,
    "start_time": "2022-03-12T18:20:58.918Z"
   },
   {
    "duration": 238,
    "start_time": "2022-03-12T18:21:00.333Z"
   },
   {
    "duration": 8,
    "start_time": "2022-03-12T18:21:39.903Z"
   },
   {
    "duration": 10,
    "start_time": "2022-03-12T18:23:33.997Z"
   },
   {
    "duration": 231,
    "start_time": "2022-03-12T18:23:34.804Z"
   },
   {
    "duration": 1753,
    "start_time": "2022-03-12T18:23:42.779Z"
   },
   {
    "duration": 16,
    "start_time": "2022-03-12T18:23:44.536Z"
   },
   {
    "duration": 13,
    "start_time": "2022-03-12T18:23:44.582Z"
   },
   {
    "duration": 23,
    "start_time": "2022-03-12T18:23:44.598Z"
   },
   {
    "duration": 5,
    "start_time": "2022-03-12T18:23:44.624Z"
   },
   {
    "duration": 32,
    "start_time": "2022-03-12T18:23:44.631Z"
   },
   {
    "duration": 13,
    "start_time": "2022-03-12T18:23:44.683Z"
   },
   {
    "duration": 8,
    "start_time": "2022-03-12T18:23:44.699Z"
   },
   {
    "duration": 23,
    "start_time": "2022-03-12T18:23:44.709Z"
   },
   {
    "duration": 7,
    "start_time": "2022-03-12T18:23:44.734Z"
   },
   {
    "duration": 6,
    "start_time": "2022-03-12T18:23:44.783Z"
   },
   {
    "duration": 25,
    "start_time": "2022-03-12T18:23:44.792Z"
   },
   {
    "duration": 10,
    "start_time": "2022-03-12T18:23:44.820Z"
   },
   {
    "duration": 50,
    "start_time": "2022-03-12T18:23:44.832Z"
   },
   {
    "duration": 14,
    "start_time": "2022-03-12T18:23:44.885Z"
   },
   {
    "duration": 10,
    "start_time": "2022-03-12T18:23:44.901Z"
   },
   {
    "duration": 19,
    "start_time": "2022-03-12T18:23:44.913Z"
   },
   {
    "duration": 56,
    "start_time": "2022-03-12T18:23:44.934Z"
   },
   {
    "duration": 6,
    "start_time": "2022-03-12T18:23:44.992Z"
   },
   {
    "duration": 15,
    "start_time": "2022-03-12T18:23:45.001Z"
   },
   {
    "duration": 14,
    "start_time": "2022-03-12T18:23:45.019Z"
   },
   {
    "duration": 10,
    "start_time": "2022-03-12T18:23:45.038Z"
   },
   {
    "duration": 9,
    "start_time": "2022-03-12T18:23:45.084Z"
   },
   {
    "duration": 40,
    "start_time": "2022-03-12T18:23:45.095Z"
   },
   {
    "duration": 58,
    "start_time": "2022-03-12T18:23:45.137Z"
   },
   {
    "duration": 48,
    "start_time": "2022-03-12T18:23:45.198Z"
   },
   {
    "duration": 50,
    "start_time": "2022-03-12T18:23:45.250Z"
   },
   {
    "duration": 17,
    "start_time": "2022-03-12T18:23:45.303Z"
   },
   {
    "duration": 18,
    "start_time": "2022-03-12T18:23:45.323Z"
   },
   {
    "duration": 48,
    "start_time": "2022-03-12T18:23:45.344Z"
   },
   {
    "duration": 9,
    "start_time": "2022-03-12T18:23:45.395Z"
   },
   {
    "duration": 45,
    "start_time": "2022-03-12T18:23:45.407Z"
   },
   {
    "duration": 36,
    "start_time": "2022-03-12T18:23:45.454Z"
   },
   {
    "duration": 17,
    "start_time": "2022-03-12T18:23:45.493Z"
   },
   {
    "duration": 16,
    "start_time": "2022-03-12T18:23:45.513Z"
   },
   {
    "duration": 34,
    "start_time": "2022-03-12T18:23:45.532Z"
   },
   {
    "duration": 33,
    "start_time": "2022-03-12T18:23:45.570Z"
   },
   {
    "duration": 40,
    "start_time": "2022-03-12T18:23:45.606Z"
   },
   {
    "duration": 422,
    "start_time": "2022-03-12T18:23:45.649Z"
   },
   {
    "duration": 520,
    "start_time": "2022-03-12T18:23:45.553Z"
   },
   {
    "duration": 10,
    "start_time": "2022-03-12T18:24:08.930Z"
   },
   {
    "duration": 244,
    "start_time": "2022-03-12T18:24:11.066Z"
   },
   {
    "duration": 1601,
    "start_time": "2022-03-12T18:24:16.080Z"
   },
   {
    "duration": 15,
    "start_time": "2022-03-12T18:24:17.684Z"
   },
   {
    "duration": 13,
    "start_time": "2022-03-12T18:24:17.703Z"
   },
   {
    "duration": 21,
    "start_time": "2022-03-12T18:24:17.719Z"
   },
   {
    "duration": 39,
    "start_time": "2022-03-12T18:24:17.742Z"
   },
   {
    "duration": 7,
    "start_time": "2022-03-12T18:24:17.784Z"
   },
   {
    "duration": 18,
    "start_time": "2022-03-12T18:24:17.794Z"
   },
   {
    "duration": 7,
    "start_time": "2022-03-12T18:24:17.816Z"
   },
   {
    "duration": 21,
    "start_time": "2022-03-12T18:24:17.826Z"
   },
   {
    "duration": 7,
    "start_time": "2022-03-12T18:24:17.882Z"
   },
   {
    "duration": 6,
    "start_time": "2022-03-12T18:24:17.891Z"
   },
   {
    "duration": 24,
    "start_time": "2022-03-12T18:24:17.900Z"
   },
   {
    "duration": 7,
    "start_time": "2022-03-12T18:24:17.927Z"
   },
   {
    "duration": 53,
    "start_time": "2022-03-12T18:24:17.936Z"
   },
   {
    "duration": 12,
    "start_time": "2022-03-12T18:24:17.992Z"
   },
   {
    "duration": 9,
    "start_time": "2022-03-12T18:24:18.007Z"
   },
   {
    "duration": 28,
    "start_time": "2022-03-12T18:24:18.018Z"
   },
   {
    "duration": 43,
    "start_time": "2022-03-12T18:24:18.048Z"
   },
   {
    "duration": 6,
    "start_time": "2022-03-12T18:24:18.094Z"
   },
   {
    "duration": 9,
    "start_time": "2022-03-12T18:24:18.103Z"
   },
   {
    "duration": 13,
    "start_time": "2022-03-12T18:24:18.115Z"
   },
   {
    "duration": 14,
    "start_time": "2022-03-12T18:24:18.130Z"
   },
   {
    "duration": 40,
    "start_time": "2022-03-12T18:24:18.148Z"
   },
   {
    "duration": 29,
    "start_time": "2022-03-12T18:24:18.191Z"
   },
   {
    "duration": 24,
    "start_time": "2022-03-12T18:24:18.222Z"
   },
   {
    "duration": 65,
    "start_time": "2022-03-12T18:24:18.249Z"
   },
   {
    "duration": 20,
    "start_time": "2022-03-12T18:24:18.317Z"
   },
   {
    "duration": 49,
    "start_time": "2022-03-12T18:24:18.340Z"
   },
   {
    "duration": 17,
    "start_time": "2022-03-12T18:24:18.392Z"
   },
   {
    "duration": 18,
    "start_time": "2022-03-12T18:24:18.411Z"
   },
   {
    "duration": 8,
    "start_time": "2022-03-12T18:24:18.431Z"
   },
   {
    "duration": 63,
    "start_time": "2022-03-12T18:24:18.441Z"
   },
   {
    "duration": 12,
    "start_time": "2022-03-12T18:24:18.506Z"
   },
   {
    "duration": 13,
    "start_time": "2022-03-12T18:24:18.520Z"
   },
   {
    "duration": 12,
    "start_time": "2022-03-12T18:24:18.536Z"
   },
   {
    "duration": 4,
    "start_time": "2022-03-12T18:24:18.583Z"
   },
   {
    "duration": 12,
    "start_time": "2022-03-12T18:24:18.589Z"
   },
   {
    "duration": 37,
    "start_time": "2022-03-12T18:24:18.604Z"
   },
   {
    "duration": 38,
    "start_time": "2022-03-12T18:24:18.644Z"
   },
   {
    "duration": 266,
    "start_time": "2022-03-12T18:24:18.686Z"
   },
   {
    "duration": 9,
    "start_time": "2022-03-12T18:24:39.360Z"
   },
   {
    "duration": 8,
    "start_time": "2022-03-12T18:24:45.985Z"
   },
   {
    "duration": 8,
    "start_time": "2022-03-12T18:25:18.600Z"
   },
   {
    "duration": 7,
    "start_time": "2022-03-12T18:28:21.176Z"
   },
   {
    "duration": 394,
    "start_time": "2022-03-12T18:28:42.727Z"
   },
   {
    "duration": 11,
    "start_time": "2022-03-12T18:28:49.959Z"
   },
   {
    "duration": 98,
    "start_time": "2022-03-12T18:29:03.159Z"
   },
   {
    "duration": 310,
    "start_time": "2022-03-12T18:29:03.294Z"
   },
   {
    "duration": 290,
    "start_time": "2022-03-12T18:29:09.846Z"
   },
   {
    "duration": 8,
    "start_time": "2022-03-12T18:29:44.335Z"
   },
   {
    "duration": 1152,
    "start_time": "2022-03-12T18:29:46.110Z"
   },
   {
    "duration": 10,
    "start_time": "2022-03-12T18:29:53.728Z"
   },
   {
    "duration": 9,
    "start_time": "2022-03-12T18:30:08.382Z"
   },
   {
    "duration": 8,
    "start_time": "2022-03-12T18:33:48.763Z"
   },
   {
    "duration": 267,
    "start_time": "2022-03-12T18:33:51.029Z"
   },
   {
    "duration": 271,
    "start_time": "2022-03-12T18:33:58.322Z"
   },
   {
    "duration": 280,
    "start_time": "2022-03-12T18:35:02.420Z"
   },
   {
    "duration": 268,
    "start_time": "2022-03-12T18:35:04.940Z"
   },
   {
    "duration": 280,
    "start_time": "2022-03-12T18:35:09.061Z"
   },
   {
    "duration": 341,
    "start_time": "2022-03-12T18:35:15.468Z"
   },
   {
    "duration": 216,
    "start_time": "2022-03-12T18:35:19.820Z"
   },
   {
    "duration": 7,
    "start_time": "2022-03-12T18:35:28.979Z"
   },
   {
    "duration": 276,
    "start_time": "2022-03-12T18:37:39.747Z"
   },
   {
    "duration": 7,
    "start_time": "2022-03-12T18:38:00.364Z"
   },
   {
    "duration": 8,
    "start_time": "2022-03-12T18:38:07.474Z"
   },
   {
    "duration": 1542,
    "start_time": "2022-03-12T18:38:14.566Z"
   },
   {
    "duration": 15,
    "start_time": "2022-03-12T18:38:16.111Z"
   },
   {
    "duration": 14,
    "start_time": "2022-03-12T18:38:16.130Z"
   },
   {
    "duration": 46,
    "start_time": "2022-03-12T18:38:16.147Z"
   },
   {
    "duration": 7,
    "start_time": "2022-03-12T18:38:16.196Z"
   },
   {
    "duration": 18,
    "start_time": "2022-03-12T18:38:16.206Z"
   },
   {
    "duration": 18,
    "start_time": "2022-03-12T18:38:16.227Z"
   },
   {
    "duration": 35,
    "start_time": "2022-03-12T18:38:16.251Z"
   },
   {
    "duration": 22,
    "start_time": "2022-03-12T18:38:16.291Z"
   },
   {
    "duration": 8,
    "start_time": "2022-03-12T18:38:16.316Z"
   },
   {
    "duration": 7,
    "start_time": "2022-03-12T18:38:16.326Z"
   },
   {
    "duration": 69,
    "start_time": "2022-03-12T18:38:16.336Z"
   },
   {
    "duration": 12,
    "start_time": "2022-03-12T18:38:16.408Z"
   },
   {
    "duration": 14,
    "start_time": "2022-03-12T18:38:16.423Z"
   },
   {
    "duration": 56,
    "start_time": "2022-03-12T18:38:16.440Z"
   },
   {
    "duration": 11,
    "start_time": "2022-03-12T18:38:16.498Z"
   },
   {
    "duration": 25,
    "start_time": "2022-03-12T18:38:16.511Z"
   },
   {
    "duration": 45,
    "start_time": "2022-03-12T18:38:16.538Z"
   },
   {
    "duration": 6,
    "start_time": "2022-03-12T18:38:16.585Z"
   },
   {
    "duration": 8,
    "start_time": "2022-03-12T18:38:16.594Z"
   },
   {
    "duration": 13,
    "start_time": "2022-03-12T18:38:16.605Z"
   },
   {
    "duration": 8,
    "start_time": "2022-03-12T18:38:16.620Z"
   },
   {
    "duration": 51,
    "start_time": "2022-03-12T18:38:16.632Z"
   },
   {
    "duration": 29,
    "start_time": "2022-03-12T18:38:16.686Z"
   },
   {
    "duration": 22,
    "start_time": "2022-03-12T18:38:16.717Z"
   },
   {
    "duration": 62,
    "start_time": "2022-03-12T18:38:16.742Z"
   },
   {
    "duration": 18,
    "start_time": "2022-03-12T18:38:16.807Z"
   },
   {
    "duration": 16,
    "start_time": "2022-03-12T18:38:16.827Z"
   },
   {
    "duration": 48,
    "start_time": "2022-03-12T18:38:16.845Z"
   },
   {
    "duration": 16,
    "start_time": "2022-03-12T18:38:16.895Z"
   },
   {
    "duration": 5,
    "start_time": "2022-03-12T18:38:16.913Z"
   },
   {
    "duration": 29,
    "start_time": "2022-03-12T18:38:16.920Z"
   },
   {
    "duration": 38,
    "start_time": "2022-03-12T18:38:16.952Z"
   },
   {
    "duration": 12,
    "start_time": "2022-03-12T18:38:16.993Z"
   },
   {
    "duration": 11,
    "start_time": "2022-03-12T18:38:17.007Z"
   },
   {
    "duration": 7,
    "start_time": "2022-03-12T18:38:17.021Z"
   },
   {
    "duration": 8,
    "start_time": "2022-03-12T18:38:17.030Z"
   },
   {
    "duration": 73,
    "start_time": "2022-03-12T18:38:17.040Z"
   },
   {
    "duration": 10,
    "start_time": "2022-03-12T18:38:17.116Z"
   },
   {
    "duration": 421,
    "start_time": "2022-03-12T18:38:17.129Z"
   },
   {
    "duration": 6,
    "start_time": "2022-03-12T18:38:57.768Z"
   },
   {
    "duration": 18,
    "start_time": "2022-03-12T18:39:08.656Z"
   },
   {
    "duration": 1495,
    "start_time": "2022-03-12T18:40:26.127Z"
   },
   {
    "duration": 16,
    "start_time": "2022-03-12T18:40:27.626Z"
   },
   {
    "duration": 38,
    "start_time": "2022-03-12T18:40:27.646Z"
   },
   {
    "duration": 23,
    "start_time": "2022-03-12T18:40:27.688Z"
   },
   {
    "duration": 6,
    "start_time": "2022-03-12T18:40:27.714Z"
   },
   {
    "duration": 12,
    "start_time": "2022-03-12T18:40:27.723Z"
   },
   {
    "duration": 50,
    "start_time": "2022-03-12T18:40:27.737Z"
   },
   {
    "duration": 11,
    "start_time": "2022-03-12T18:40:27.791Z"
   },
   {
    "duration": 26,
    "start_time": "2022-03-12T18:40:27.805Z"
   },
   {
    "duration": 7,
    "start_time": "2022-03-12T18:40:27.834Z"
   },
   {
    "duration": 39,
    "start_time": "2022-03-12T18:40:27.844Z"
   },
   {
    "duration": 27,
    "start_time": "2022-03-12T18:40:27.885Z"
   },
   {
    "duration": 13,
    "start_time": "2022-03-12T18:40:27.915Z"
   },
   {
    "duration": 12,
    "start_time": "2022-03-12T18:40:27.931Z"
   },
   {
    "duration": 47,
    "start_time": "2022-03-12T18:40:27.945Z"
   },
   {
    "duration": 10,
    "start_time": "2022-03-12T18:40:27.994Z"
   },
   {
    "duration": 19,
    "start_time": "2022-03-12T18:40:28.006Z"
   },
   {
    "duration": 18,
    "start_time": "2022-03-12T18:40:28.028Z"
   },
   {
    "duration": 40,
    "start_time": "2022-03-12T18:40:28.048Z"
   },
   {
    "duration": 12,
    "start_time": "2022-03-12T18:40:28.091Z"
   },
   {
    "duration": 10,
    "start_time": "2022-03-12T18:40:28.106Z"
   },
   {
    "duration": 7,
    "start_time": "2022-03-12T18:40:28.120Z"
   },
   {
    "duration": 8,
    "start_time": "2022-03-12T18:40:28.132Z"
   },
   {
    "duration": 65,
    "start_time": "2022-03-12T18:40:28.142Z"
   },
   {
    "duration": 25,
    "start_time": "2022-03-12T18:40:28.210Z"
   },
   {
    "duration": 62,
    "start_time": "2022-03-12T18:40:28.237Z"
   },
   {
    "duration": 19,
    "start_time": "2022-03-12T18:40:28.302Z"
   },
   {
    "duration": 16,
    "start_time": "2022-03-12T18:40:28.324Z"
   },
   {
    "duration": 48,
    "start_time": "2022-03-12T18:40:28.342Z"
   },
   {
    "duration": 18,
    "start_time": "2022-03-12T18:40:28.393Z"
   },
   {
    "duration": 6,
    "start_time": "2022-03-12T18:40:28.413Z"
   },
   {
    "duration": 28,
    "start_time": "2022-03-12T18:40:28.422Z"
   },
   {
    "duration": 34,
    "start_time": "2022-03-12T18:40:28.453Z"
   },
   {
    "duration": 16,
    "start_time": "2022-03-12T18:40:28.490Z"
   },
   {
    "duration": 11,
    "start_time": "2022-03-12T18:40:28.508Z"
   },
   {
    "duration": 5,
    "start_time": "2022-03-12T18:40:28.522Z"
   },
   {
    "duration": 52,
    "start_time": "2022-03-12T18:40:28.530Z"
   },
   {
    "duration": 37,
    "start_time": "2022-03-12T18:40:28.585Z"
   },
   {
    "duration": 12,
    "start_time": "2022-03-12T18:40:28.625Z"
   },
   {
    "duration": 408,
    "start_time": "2022-03-12T18:40:28.639Z"
   },
   {
    "duration": 15,
    "start_time": "2022-03-12T18:40:41.536Z"
   },
   {
    "duration": 267,
    "start_time": "2022-03-12T18:40:53.952Z"
   },
   {
    "duration": 281,
    "start_time": "2022-03-12T18:41:04.039Z"
   },
   {
    "duration": 258,
    "start_time": "2022-03-12T18:41:06.999Z"
   },
   {
    "duration": 18,
    "start_time": "2022-03-12T18:41:32.175Z"
   },
   {
    "duration": 286,
    "start_time": "2022-03-12T18:41:43.311Z"
   },
   {
    "duration": 8,
    "start_time": "2022-03-12T18:41:47.415Z"
   },
   {
    "duration": 273,
    "start_time": "2022-03-12T18:42:06.815Z"
   },
   {
    "duration": 268,
    "start_time": "2022-03-12T18:42:13.288Z"
   },
   {
    "duration": 23,
    "start_time": "2022-03-12T18:42:22.168Z"
   },
   {
    "duration": 26,
    "start_time": "2022-03-12T18:42:33.025Z"
   },
   {
    "duration": 18,
    "start_time": "2022-03-12T18:42:58.023Z"
   },
   {
    "duration": 90,
    "start_time": "2022-03-12T18:43:25.110Z"
   },
   {
    "duration": 284,
    "start_time": "2022-03-12T18:43:44.846Z"
   },
   {
    "duration": 232,
    "start_time": "2022-03-12T18:43:55.670Z"
   },
   {
    "duration": 262,
    "start_time": "2022-03-12T18:44:05.742Z"
   },
   {
    "duration": 1072,
    "start_time": "2022-03-12T18:44:37.750Z"
   },
   {
    "duration": 261,
    "start_time": "2022-03-12T18:44:56.315Z"
   },
   {
    "duration": 239,
    "start_time": "2022-03-12T18:45:05.101Z"
   },
   {
    "duration": 1032,
    "start_time": "2022-03-12T18:45:19.221Z"
   },
   {
    "duration": 301,
    "start_time": "2022-03-12T18:45:29.566Z"
   },
   {
    "duration": 18,
    "start_time": "2022-03-12T18:46:06.469Z"
   },
   {
    "duration": 261,
    "start_time": "2022-03-12T18:46:58.670Z"
   },
   {
    "duration": 19,
    "start_time": "2022-03-12T18:49:21.971Z"
   },
   {
    "duration": 5394,
    "start_time": "2022-03-12T18:49:26.475Z"
   },
   {
    "duration": 251,
    "start_time": "2022-03-12T18:50:01.126Z"
   },
   {
    "duration": 1503,
    "start_time": "2022-03-12T18:52:19.226Z"
   },
   {
    "duration": 15,
    "start_time": "2022-03-12T18:52:20.732Z"
   },
   {
    "duration": 30,
    "start_time": "2022-03-12T18:52:20.753Z"
   },
   {
    "duration": 21,
    "start_time": "2022-03-12T18:52:20.785Z"
   },
   {
    "duration": 7,
    "start_time": "2022-03-12T18:52:20.808Z"
   },
   {
    "duration": 9,
    "start_time": "2022-03-12T18:52:20.818Z"
   },
   {
    "duration": 13,
    "start_time": "2022-03-12T18:52:20.830Z"
   },
   {
    "duration": 6,
    "start_time": "2022-03-12T18:52:20.882Z"
   },
   {
    "duration": 25,
    "start_time": "2022-03-12T18:52:20.891Z"
   },
   {
    "duration": 6,
    "start_time": "2022-03-12T18:52:20.918Z"
   },
   {
    "duration": 10,
    "start_time": "2022-03-12T18:52:20.926Z"
   },
   {
    "duration": 56,
    "start_time": "2022-03-12T18:52:20.939Z"
   },
   {
    "duration": 8,
    "start_time": "2022-03-12T18:52:20.997Z"
   },
   {
    "duration": 16,
    "start_time": "2022-03-12T18:52:21.007Z"
   },
   {
    "duration": 12,
    "start_time": "2022-03-12T18:52:21.025Z"
   },
   {
    "duration": 43,
    "start_time": "2022-03-12T18:52:21.039Z"
   },
   {
    "duration": 16,
    "start_time": "2022-03-12T18:52:21.085Z"
   },
   {
    "duration": 19,
    "start_time": "2022-03-12T18:52:21.104Z"
   },
   {
    "duration": 6,
    "start_time": "2022-03-12T18:52:21.126Z"
   },
   {
    "duration": 12,
    "start_time": "2022-03-12T18:52:21.134Z"
   },
   {
    "duration": 38,
    "start_time": "2022-03-12T18:52:21.148Z"
   },
   {
    "duration": 8,
    "start_time": "2022-03-12T18:52:21.190Z"
   },
   {
    "duration": 13,
    "start_time": "2022-03-12T18:52:21.200Z"
   },
   {
    "duration": 28,
    "start_time": "2022-03-12T18:52:21.215Z"
   },
   {
    "duration": 57,
    "start_time": "2022-03-12T18:52:21.246Z"
   },
   {
    "duration": 34,
    "start_time": "2022-03-12T18:52:21.305Z"
   },
   {
    "duration": 48,
    "start_time": "2022-03-12T18:52:21.342Z"
   },
   {
    "duration": 14,
    "start_time": "2022-03-12T18:52:21.393Z"
   },
   {
    "duration": 15,
    "start_time": "2022-03-12T18:52:21.409Z"
   },
   {
    "duration": 19,
    "start_time": "2022-03-12T18:52:21.426Z"
   },
   {
    "duration": 6,
    "start_time": "2022-03-12T18:52:21.483Z"
   },
   {
    "duration": 28,
    "start_time": "2022-03-12T18:52:21.493Z"
   },
   {
    "duration": 11,
    "start_time": "2022-03-12T18:52:21.524Z"
   },
   {
    "duration": 49,
    "start_time": "2022-03-12T18:52:21.538Z"
   },
   {
    "duration": 15,
    "start_time": "2022-03-12T18:52:21.590Z"
   },
   {
    "duration": 9,
    "start_time": "2022-03-12T18:52:21.608Z"
   },
   {
    "duration": 10,
    "start_time": "2022-03-12T18:52:21.620Z"
   },
   {
    "duration": 60,
    "start_time": "2022-03-12T18:52:21.633Z"
   },
   {
    "duration": 19,
    "start_time": "2022-03-12T18:52:21.696Z"
   },
   {
    "duration": 278,
    "start_time": "2022-03-12T18:52:21.718Z"
   },
   {
    "duration": 9,
    "start_time": "2022-03-12T18:52:51.384Z"
   },
   {
    "duration": 9,
    "start_time": "2022-03-12T18:52:54.218Z"
   },
   {
    "duration": 394,
    "start_time": "2022-03-12T18:52:55.791Z"
   },
   {
    "duration": 232,
    "start_time": "2022-03-12T18:53:27.441Z"
   },
   {
    "duration": 9,
    "start_time": "2022-03-12T18:53:52.215Z"
   },
   {
    "duration": 10,
    "start_time": "2022-03-12T18:54:07.247Z"
   },
   {
    "duration": 10,
    "start_time": "2022-03-12T18:57:06.598Z"
   },
   {
    "duration": 236,
    "start_time": "2022-03-12T18:57:15.215Z"
   },
   {
    "duration": 11,
    "start_time": "2022-03-12T18:57:29.190Z"
   },
   {
    "duration": 11,
    "start_time": "2022-03-12T18:57:34.190Z"
   },
   {
    "duration": 11,
    "start_time": "2022-03-12T18:57:46.094Z"
   },
   {
    "duration": 249,
    "start_time": "2022-03-12T18:57:55.822Z"
   },
   {
    "duration": 870,
    "start_time": "2022-03-12T19:02:50.037Z"
   },
   {
    "duration": 914,
    "start_time": "2022-03-12T19:03:04.235Z"
   },
   {
    "duration": 605,
    "start_time": "2022-03-12T19:03:52.451Z"
   },
   {
    "duration": 328,
    "start_time": "2022-03-12T19:04:09.900Z"
   },
   {
    "duration": 1797,
    "start_time": "2022-03-12T19:04:55.531Z"
   },
   {
    "duration": 7,
    "start_time": "2022-03-12T19:06:26.442Z"
   },
   {
    "duration": 7,
    "start_time": "2022-03-12T19:06:35.050Z"
   },
   {
    "duration": 15,
    "start_time": "2022-03-12T19:12:16.920Z"
   },
   {
    "duration": 764,
    "start_time": "2022-03-12T19:15:15.853Z"
   },
   {
    "duration": 261,
    "start_time": "2022-03-12T19:15:33.774Z"
   },
   {
    "duration": 21,
    "start_time": "2022-03-12T19:15:41.606Z"
   },
   {
    "duration": 17,
    "start_time": "2022-03-12T19:15:57.894Z"
   },
   {
    "duration": 23,
    "start_time": "2022-03-12T19:16:01.173Z"
   },
   {
    "duration": 22,
    "start_time": "2022-03-12T19:16:11.605Z"
   },
   {
    "duration": 22,
    "start_time": "2022-03-12T19:16:15.308Z"
   },
   {
    "duration": 279,
    "start_time": "2022-03-12T19:16:42.525Z"
   },
   {
    "duration": 21,
    "start_time": "2022-03-12T19:16:47.460Z"
   },
   {
    "duration": 278,
    "start_time": "2022-03-12T19:18:00.484Z"
   },
   {
    "duration": 264,
    "start_time": "2022-03-12T19:18:09.453Z"
   },
   {
    "duration": 262,
    "start_time": "2022-03-12T19:20:30.756Z"
   },
   {
    "duration": 18,
    "start_time": "2022-03-12T19:23:07.619Z"
   },
   {
    "duration": 23,
    "start_time": "2022-03-12T19:24:11.088Z"
   },
   {
    "duration": 22,
    "start_time": "2022-03-12T19:26:54.695Z"
   },
   {
    "duration": 1527,
    "start_time": "2022-03-12T19:27:34.808Z"
   },
   {
    "duration": 14,
    "start_time": "2022-03-12T19:27:36.338Z"
   },
   {
    "duration": 29,
    "start_time": "2022-03-12T19:27:36.356Z"
   },
   {
    "duration": 21,
    "start_time": "2022-03-12T19:27:36.388Z"
   },
   {
    "duration": 7,
    "start_time": "2022-03-12T19:27:36.411Z"
   },
   {
    "duration": 8,
    "start_time": "2022-03-12T19:27:36.421Z"
   },
   {
    "duration": 13,
    "start_time": "2022-03-12T19:27:36.431Z"
   },
   {
    "duration": 40,
    "start_time": "2022-03-12T19:27:36.448Z"
   },
   {
    "duration": 21,
    "start_time": "2022-03-12T19:27:36.491Z"
   },
   {
    "duration": 7,
    "start_time": "2022-03-12T19:27:36.515Z"
   },
   {
    "duration": 5,
    "start_time": "2022-03-12T19:27:36.525Z"
   },
   {
    "duration": 64,
    "start_time": "2022-03-12T19:27:36.532Z"
   },
   {
    "duration": 9,
    "start_time": "2022-03-12T19:27:36.599Z"
   },
   {
    "duration": 14,
    "start_time": "2022-03-12T19:27:36.611Z"
   },
   {
    "duration": 11,
    "start_time": "2022-03-12T19:27:36.628Z"
   },
   {
    "duration": 46,
    "start_time": "2022-03-12T19:27:36.641Z"
   },
   {
    "duration": 17,
    "start_time": "2022-03-12T19:27:36.689Z"
   },
   {
    "duration": 19,
    "start_time": "2022-03-12T19:27:36.708Z"
   },
   {
    "duration": 6,
    "start_time": "2022-03-12T19:27:36.729Z"
   },
   {
    "duration": 11,
    "start_time": "2022-03-12T19:27:36.737Z"
   },
   {
    "duration": 42,
    "start_time": "2022-03-12T19:27:36.750Z"
   },
   {
    "duration": 8,
    "start_time": "2022-03-12T19:27:36.794Z"
   },
   {
    "duration": 6,
    "start_time": "2022-03-12T19:27:36.807Z"
   },
   {
    "duration": 68,
    "start_time": "2022-03-12T19:27:36.815Z"
   },
   {
    "duration": 24,
    "start_time": "2022-03-12T19:27:36.886Z"
   },
   {
    "duration": 35,
    "start_time": "2022-03-12T19:27:36.912Z"
   },
   {
    "duration": 44,
    "start_time": "2022-03-12T19:27:36.950Z"
   },
   {
    "duration": 15,
    "start_time": "2022-03-12T19:27:36.997Z"
   },
   {
    "duration": 17,
    "start_time": "2022-03-12T19:27:37.015Z"
   },
   {
    "duration": 57,
    "start_time": "2022-03-12T19:27:37.034Z"
   },
   {
    "duration": 6,
    "start_time": "2022-03-12T19:27:37.095Z"
   },
   {
    "duration": 30,
    "start_time": "2022-03-12T19:27:37.104Z"
   },
   {
    "duration": 9,
    "start_time": "2022-03-12T19:27:37.136Z"
   },
   {
    "duration": 8,
    "start_time": "2022-03-12T19:27:37.183Z"
   },
   {
    "duration": 11,
    "start_time": "2022-03-12T19:27:37.194Z"
   },
   {
    "duration": 9,
    "start_time": "2022-03-12T19:27:37.207Z"
   },
   {
    "duration": 12,
    "start_time": "2022-03-12T19:27:37.219Z"
   },
   {
    "duration": 62,
    "start_time": "2022-03-12T19:27:37.233Z"
   },
   {
    "duration": 11,
    "start_time": "2022-03-12T19:27:37.297Z"
   },
   {
    "duration": 259,
    "start_time": "2022-03-12T19:27:37.311Z"
   },
   {
    "duration": 25,
    "start_time": "2022-03-12T19:27:37.572Z"
   },
   {
    "duration": 259,
    "start_time": "2022-03-12T19:27:37.599Z"
   },
   {
    "duration": 8,
    "start_time": "2022-03-12T19:31:34.750Z"
   },
   {
    "duration": 226,
    "start_time": "2022-03-12T19:32:33.134Z"
   },
   {
    "duration": 411,
    "start_time": "2022-03-12T19:32:48.030Z"
   },
   {
    "duration": 257,
    "start_time": "2022-03-12T19:32:52.085Z"
   },
   {
    "duration": 94,
    "start_time": "2022-03-12T19:33:43.277Z"
   },
   {
    "duration": 349,
    "start_time": "2022-03-12T19:33:47.852Z"
   },
   {
    "duration": 22,
    "start_time": "2022-03-12T19:34:01.325Z"
   },
   {
    "duration": 1995,
    "start_time": "2022-03-12T19:35:14.452Z"
   },
   {
    "duration": 32,
    "start_time": "2022-03-12T19:35:16.450Z"
   },
   {
    "duration": 15,
    "start_time": "2022-03-12T19:35:16.486Z"
   },
   {
    "duration": 24,
    "start_time": "2022-03-12T19:35:16.505Z"
   },
   {
    "duration": 6,
    "start_time": "2022-03-12T19:35:16.532Z"
   },
   {
    "duration": 48,
    "start_time": "2022-03-12T19:35:16.540Z"
   },
   {
    "duration": 14,
    "start_time": "2022-03-12T19:35:16.591Z"
   },
   {
    "duration": 9,
    "start_time": "2022-03-12T19:35:16.608Z"
   },
   {
    "duration": 63,
    "start_time": "2022-03-12T19:35:16.621Z"
   },
   {
    "duration": 8,
    "start_time": "2022-03-12T19:35:16.687Z"
   },
   {
    "duration": 7,
    "start_time": "2022-03-12T19:35:16.698Z"
   },
   {
    "duration": 26,
    "start_time": "2022-03-12T19:35:16.707Z"
   },
   {
    "duration": 49,
    "start_time": "2022-03-12T19:35:16.735Z"
   },
   {
    "duration": 14,
    "start_time": "2022-03-12T19:35:16.787Z"
   },
   {
    "duration": 16,
    "start_time": "2022-03-12T19:35:16.803Z"
   },
   {
    "duration": 11,
    "start_time": "2022-03-12T19:35:16.822Z"
   },
   {
    "duration": 58,
    "start_time": "2022-03-12T19:35:16.836Z"
   },
   {
    "duration": 19,
    "start_time": "2022-03-12T19:35:16.896Z"
   },
   {
    "duration": 6,
    "start_time": "2022-03-12T19:35:16.918Z"
   },
   {
    "duration": 15,
    "start_time": "2022-03-12T19:35:16.927Z"
   },
   {
    "duration": 41,
    "start_time": "2022-03-12T19:35:16.944Z"
   },
   {
    "duration": 13,
    "start_time": "2022-03-12T19:35:16.987Z"
   },
   {
    "duration": 7,
    "start_time": "2022-03-12T19:35:17.007Z"
   },
   {
    "duration": 36,
    "start_time": "2022-03-12T19:35:17.017Z"
   },
   {
    "duration": 24,
    "start_time": "2022-03-12T19:35:17.083Z"
   },
   {
    "duration": 41,
    "start_time": "2022-03-12T19:35:17.109Z"
   },
   {
    "duration": 45,
    "start_time": "2022-03-12T19:35:17.153Z"
   },
   {
    "duration": 16,
    "start_time": "2022-03-12T19:35:17.200Z"
   },
   {
    "duration": 18,
    "start_time": "2022-03-12T19:35:17.218Z"
   },
   {
    "duration": 53,
    "start_time": "2022-03-12T19:35:17.239Z"
   },
   {
    "duration": 7,
    "start_time": "2022-03-12T19:35:17.295Z"
   },
   {
    "duration": 42,
    "start_time": "2022-03-12T19:35:17.304Z"
   },
   {
    "duration": 10,
    "start_time": "2022-03-12T19:35:17.348Z"
   },
   {
    "duration": 23,
    "start_time": "2022-03-12T19:35:17.360Z"
   },
   {
    "duration": 14,
    "start_time": "2022-03-12T19:35:17.386Z"
   },
   {
    "duration": 4,
    "start_time": "2022-03-12T19:35:17.403Z"
   },
   {
    "duration": 10,
    "start_time": "2022-03-12T19:35:17.410Z"
   },
   {
    "duration": 75,
    "start_time": "2022-03-12T19:35:17.423Z"
   },
   {
    "duration": 13,
    "start_time": "2022-03-12T19:35:17.501Z"
   },
   {
    "duration": 287,
    "start_time": "2022-03-12T19:35:17.517Z"
   },
   {
    "duration": 20,
    "start_time": "2022-03-12T19:35:17.806Z"
   },
   {
    "duration": 267,
    "start_time": "2022-03-12T19:35:17.828Z"
   },
   {
    "duration": 16,
    "start_time": "2022-03-12T19:35:18.098Z"
   },
   {
    "duration": 270,
    "start_time": "2022-03-12T19:35:18.117Z"
   },
   {
    "duration": 402,
    "start_time": "2022-03-12T19:36:21.516Z"
   },
   {
    "duration": 253,
    "start_time": "2022-03-12T19:36:51.475Z"
   },
   {
    "duration": 18,
    "start_time": "2022-03-12T19:37:48.065Z"
   },
   {
    "duration": 238,
    "start_time": "2022-03-12T19:37:49.225Z"
   },
   {
    "duration": 19,
    "start_time": "2022-03-12T19:39:24.401Z"
   },
   {
    "duration": 303,
    "start_time": "2022-03-12T19:39:42.832Z"
   },
   {
    "duration": 19,
    "start_time": "2022-03-12T19:39:52.129Z"
   },
   {
    "duration": 14,
    "start_time": "2022-03-12T19:42:29.840Z"
   },
   {
    "duration": 237,
    "start_time": "2022-03-12T19:42:37.927Z"
   },
   {
    "duration": 328,
    "start_time": "2022-03-12T19:45:41.414Z"
   },
   {
    "duration": 245,
    "start_time": "2022-03-12T19:45:48.870Z"
   },
   {
    "duration": 12,
    "start_time": "2022-03-12T19:50:12.525Z"
   },
   {
    "duration": 13,
    "start_time": "2022-03-12T19:53:45.660Z"
   },
   {
    "duration": 216,
    "start_time": "2022-03-12T19:54:03.379Z"
   },
   {
    "duration": 250,
    "start_time": "2022-03-12T19:54:26.779Z"
   },
   {
    "duration": 27,
    "start_time": "2022-03-12T19:54:47.898Z"
   },
   {
    "duration": 20,
    "start_time": "2022-03-12T19:55:02.802Z"
   },
   {
    "duration": 25,
    "start_time": "2022-03-12T19:55:08.762Z"
   },
   {
    "duration": 1803,
    "start_time": "2022-03-12T19:56:47.266Z"
   },
   {
    "duration": 25,
    "start_time": "2022-03-12T19:56:49.072Z"
   },
   {
    "duration": 13,
    "start_time": "2022-03-12T19:56:49.103Z"
   },
   {
    "duration": 28,
    "start_time": "2022-03-12T19:56:49.118Z"
   },
   {
    "duration": 7,
    "start_time": "2022-03-12T19:56:49.182Z"
   },
   {
    "duration": 9,
    "start_time": "2022-03-12T19:56:49.192Z"
   },
   {
    "duration": 14,
    "start_time": "2022-03-12T19:56:49.205Z"
   },
   {
    "duration": 7,
    "start_time": "2022-03-12T19:56:49.223Z"
   },
   {
    "duration": 66,
    "start_time": "2022-03-12T19:56:49.233Z"
   },
   {
    "duration": 7,
    "start_time": "2022-03-12T19:56:49.301Z"
   },
   {
    "duration": 7,
    "start_time": "2022-03-12T19:56:49.310Z"
   },
   {
    "duration": 63,
    "start_time": "2022-03-12T19:56:49.319Z"
   },
   {
    "duration": 8,
    "start_time": "2022-03-12T19:56:49.385Z"
   },
   {
    "duration": 21,
    "start_time": "2022-03-12T19:56:49.395Z"
   },
   {
    "duration": 15,
    "start_time": "2022-03-12T19:56:49.418Z"
   },
   {
    "duration": 13,
    "start_time": "2022-03-12T19:56:49.436Z"
   },
   {
    "duration": 17,
    "start_time": "2022-03-12T19:56:49.483Z"
   },
   {
    "duration": 23,
    "start_time": "2022-03-12T19:56:49.502Z"
   },
   {
    "duration": 6,
    "start_time": "2022-03-12T19:56:49.527Z"
   },
   {
    "duration": 12,
    "start_time": "2022-03-12T19:56:49.535Z"
   },
   {
    "duration": 41,
    "start_time": "2022-03-12T19:56:49.549Z"
   },
   {
    "duration": 18,
    "start_time": "2022-03-12T19:56:49.595Z"
   },
   {
    "duration": 12,
    "start_time": "2022-03-12T19:56:49.615Z"
   },
   {
    "duration": 58,
    "start_time": "2022-03-12T19:56:49.629Z"
   },
   {
    "duration": 27,
    "start_time": "2022-03-12T19:56:49.691Z"
   },
   {
    "duration": 34,
    "start_time": "2022-03-12T19:56:49.720Z"
   },
   {
    "duration": 46,
    "start_time": "2022-03-12T19:56:49.757Z"
   },
   {
    "duration": 20,
    "start_time": "2022-03-12T19:56:49.805Z"
   },
   {
    "duration": 16,
    "start_time": "2022-03-12T19:56:49.827Z"
   },
   {
    "duration": 18,
    "start_time": "2022-03-12T19:56:49.883Z"
   },
   {
    "duration": 12,
    "start_time": "2022-03-12T19:56:49.903Z"
   },
   {
    "duration": 43,
    "start_time": "2022-03-12T19:56:49.918Z"
   },
   {
    "duration": 14,
    "start_time": "2022-03-12T19:56:49.983Z"
   },
   {
    "duration": 11,
    "start_time": "2022-03-12T19:56:50.000Z"
   },
   {
    "duration": 17,
    "start_time": "2022-03-12T19:56:50.014Z"
   },
   {
    "duration": 5,
    "start_time": "2022-03-12T19:56:50.033Z"
   },
   {
    "duration": 42,
    "start_time": "2022-03-12T19:56:50.040Z"
   },
   {
    "duration": 34,
    "start_time": "2022-03-12T19:56:50.085Z"
   },
   {
    "duration": 15,
    "start_time": "2022-03-12T19:56:50.122Z"
   },
   {
    "duration": 302,
    "start_time": "2022-03-12T19:56:50.139Z"
   },
   {
    "duration": 14,
    "start_time": "2022-03-12T19:56:50.444Z"
   },
   {
    "duration": 283,
    "start_time": "2022-03-12T19:56:50.461Z"
   },
   {
    "duration": 11,
    "start_time": "2022-03-12T19:56:50.746Z"
   },
   {
    "duration": 271,
    "start_time": "2022-03-12T19:56:50.759Z"
   },
   {
    "duration": 19,
    "start_time": "2022-03-12T19:56:51.033Z"
   },
   {
    "duration": 277,
    "start_time": "2022-03-12T19:56:51.054Z"
   },
   {
    "duration": 27,
    "start_time": "2022-03-12T19:56:51.333Z"
   },
   {
    "duration": 19,
    "start_time": "2022-03-12T19:57:27.193Z"
   },
   {
    "duration": 392,
    "start_time": "2022-03-12T19:59:20.097Z"
   },
   {
    "duration": 20,
    "start_time": "2022-03-12T19:59:44.008Z"
   },
   {
    "duration": 335,
    "start_time": "2022-03-12T19:59:45.832Z"
   },
   {
    "duration": 28,
    "start_time": "2022-03-12T20:00:11.143Z"
   },
   {
    "duration": 306,
    "start_time": "2022-03-12T20:00:20.975Z"
   },
   {
    "duration": 20,
    "start_time": "2022-03-12T20:00:49.191Z"
   },
   {
    "duration": 250,
    "start_time": "2022-03-12T20:01:12.423Z"
   },
   {
    "duration": 246,
    "start_time": "2022-03-12T20:03:10.126Z"
   },
   {
    "duration": 95,
    "start_time": "2022-03-12T20:03:46.240Z"
   },
   {
    "duration": 24,
    "start_time": "2022-03-12T20:03:49.854Z"
   },
   {
    "duration": 24,
    "start_time": "2022-03-12T20:04:33.702Z"
   },
   {
    "duration": 22,
    "start_time": "2022-03-12T20:04:42.407Z"
   },
   {
    "duration": 23,
    "start_time": "2022-03-12T20:05:30.558Z"
   },
   {
    "duration": 23,
    "start_time": "2022-03-12T20:05:34.565Z"
   },
   {
    "duration": 275,
    "start_time": "2022-03-12T20:06:23.572Z"
   },
   {
    "duration": 23,
    "start_time": "2022-03-12T20:06:29.036Z"
   },
   {
    "duration": 344,
    "start_time": "2022-03-12T20:06:30.221Z"
   },
   {
    "duration": 287,
    "start_time": "2022-03-12T20:14:51.682Z"
   },
   {
    "duration": 31,
    "start_time": "2022-03-12T20:15:06.770Z"
   },
   {
    "duration": 284,
    "start_time": "2022-03-12T20:15:46.953Z"
   },
   {
    "duration": 32,
    "start_time": "2022-03-12T20:16:34.904Z"
   },
   {
    "duration": 444,
    "start_time": "2022-03-12T20:17:21.943Z"
   },
   {
    "duration": 231,
    "start_time": "2022-03-12T20:18:29.289Z"
   },
   {
    "duration": 276,
    "start_time": "2022-03-12T20:18:54.719Z"
   },
   {
    "duration": 302,
    "start_time": "2022-03-12T20:19:22.176Z"
   },
   {
    "duration": 391,
    "start_time": "2022-03-12T20:19:32.382Z"
   },
   {
    "duration": 29,
    "start_time": "2022-03-12T20:19:49.830Z"
   },
   {
    "duration": 14,
    "start_time": "2022-03-12T20:20:48.874Z"
   },
   {
    "duration": 1600,
    "start_time": "2022-03-12T20:20:54.796Z"
   },
   {
    "duration": 17,
    "start_time": "2022-03-12T20:20:56.399Z"
   },
   {
    "duration": 13,
    "start_time": "2022-03-12T20:20:56.420Z"
   },
   {
    "duration": 55,
    "start_time": "2022-03-12T20:20:56.435Z"
   },
   {
    "duration": 9,
    "start_time": "2022-03-12T20:20:56.492Z"
   },
   {
    "duration": 28,
    "start_time": "2022-03-12T20:20:56.503Z"
   },
   {
    "duration": 20,
    "start_time": "2022-03-12T20:20:56.534Z"
   },
   {
    "duration": 10,
    "start_time": "2022-03-12T20:20:56.558Z"
   },
   {
    "duration": 37,
    "start_time": "2022-03-12T20:20:56.571Z"
   },
   {
    "duration": 7,
    "start_time": "2022-03-12T20:20:56.610Z"
   },
   {
    "duration": 12,
    "start_time": "2022-03-12T20:20:56.619Z"
   },
   {
    "duration": 39,
    "start_time": "2022-03-12T20:20:56.634Z"
   },
   {
    "duration": 33,
    "start_time": "2022-03-12T20:20:56.675Z"
   },
   {
    "duration": 35,
    "start_time": "2022-03-12T20:20:56.711Z"
   },
   {
    "duration": 28,
    "start_time": "2022-03-12T20:20:56.748Z"
   },
   {
    "duration": 22,
    "start_time": "2022-03-12T20:20:56.779Z"
   },
   {
    "duration": 40,
    "start_time": "2022-03-12T20:20:56.804Z"
   },
   {
    "duration": 26,
    "start_time": "2022-03-12T20:20:56.846Z"
   },
   {
    "duration": 8,
    "start_time": "2022-03-12T20:20:56.875Z"
   },
   {
    "duration": 14,
    "start_time": "2022-03-12T20:20:56.886Z"
   },
   {
    "duration": 12,
    "start_time": "2022-03-12T20:20:56.902Z"
   },
   {
    "duration": 20,
    "start_time": "2022-03-12T20:20:56.916Z"
   },
   {
    "duration": 10,
    "start_time": "2022-03-12T20:20:56.941Z"
   },
   {
    "duration": 49,
    "start_time": "2022-03-12T20:20:56.954Z"
   },
   {
    "duration": 26,
    "start_time": "2022-03-12T20:20:57.006Z"
   },
   {
    "duration": 51,
    "start_time": "2022-03-12T20:20:57.034Z"
   },
   {
    "duration": 21,
    "start_time": "2022-03-12T20:20:57.088Z"
   },
   {
    "duration": 15,
    "start_time": "2022-03-12T20:20:57.111Z"
   },
   {
    "duration": 23,
    "start_time": "2022-03-12T20:20:57.129Z"
   },
   {
    "duration": 17,
    "start_time": "2022-03-12T20:20:57.182Z"
   },
   {
    "duration": 10,
    "start_time": "2022-03-12T20:20:57.202Z"
   },
   {
    "duration": 28,
    "start_time": "2022-03-12T20:20:57.214Z"
   },
   {
    "duration": 8,
    "start_time": "2022-03-12T20:20:57.244Z"
   },
   {
    "duration": 6,
    "start_time": "2022-03-12T20:20:57.283Z"
   },
   {
    "duration": 11,
    "start_time": "2022-03-12T20:20:57.292Z"
   },
   {
    "duration": 8,
    "start_time": "2022-03-12T20:20:57.305Z"
   },
   {
    "duration": 26,
    "start_time": "2022-03-12T20:20:57.315Z"
   },
   {
    "duration": 56,
    "start_time": "2022-03-12T20:20:57.344Z"
   },
   {
    "duration": 13,
    "start_time": "2022-03-12T20:20:57.404Z"
   },
   {
    "duration": 272,
    "start_time": "2022-03-12T20:20:57.420Z"
   },
   {
    "duration": 524,
    "start_time": "2022-03-12T20:20:57.695Z"
   },
   {
    "duration": 460,
    "start_time": "2022-03-12T20:20:57.761Z"
   },
   {
    "duration": 459,
    "start_time": "2022-03-12T20:20:57.764Z"
   },
   {
    "duration": 456,
    "start_time": "2022-03-12T20:20:57.768Z"
   },
   {
    "duration": 446,
    "start_time": "2022-03-12T20:20:57.779Z"
   },
   {
    "duration": 444,
    "start_time": "2022-03-12T20:20:57.783Z"
   },
   {
    "duration": 443,
    "start_time": "2022-03-12T20:20:57.785Z"
   },
   {
    "duration": 441,
    "start_time": "2022-03-12T20:20:57.788Z"
   },
   {
    "duration": 440,
    "start_time": "2022-03-12T20:20:57.791Z"
   },
   {
    "duration": 1633,
    "start_time": "2022-03-12T20:21:29.593Z"
   },
   {
    "duration": 26,
    "start_time": "2022-03-12T20:21:31.230Z"
   },
   {
    "duration": 23,
    "start_time": "2022-03-12T20:21:31.261Z"
   },
   {
    "duration": 39,
    "start_time": "2022-03-12T20:21:31.287Z"
   },
   {
    "duration": 11,
    "start_time": "2022-03-12T20:21:31.329Z"
   },
   {
    "duration": 37,
    "start_time": "2022-03-12T20:21:31.343Z"
   },
   {
    "duration": 37,
    "start_time": "2022-03-12T20:21:31.383Z"
   },
   {
    "duration": 21,
    "start_time": "2022-03-12T20:21:31.425Z"
   },
   {
    "duration": 45,
    "start_time": "2022-03-12T20:21:31.449Z"
   },
   {
    "duration": 9,
    "start_time": "2022-03-12T20:21:31.496Z"
   },
   {
    "duration": 32,
    "start_time": "2022-03-12T20:21:31.507Z"
   },
   {
    "duration": 26,
    "start_time": "2022-03-12T20:21:31.542Z"
   },
   {
    "duration": 19,
    "start_time": "2022-03-12T20:21:31.571Z"
   },
   {
    "duration": 29,
    "start_time": "2022-03-12T20:21:31.594Z"
   },
   {
    "duration": 18,
    "start_time": "2022-03-12T20:21:31.626Z"
   },
   {
    "duration": 12,
    "start_time": "2022-03-12T20:21:31.647Z"
   },
   {
    "duration": 37,
    "start_time": "2022-03-12T20:21:31.662Z"
   },
   {
    "duration": 21,
    "start_time": "2022-03-12T20:21:31.701Z"
   },
   {
    "duration": 12,
    "start_time": "2022-03-12T20:21:31.724Z"
   },
   {
    "duration": 30,
    "start_time": "2022-03-12T20:21:31.739Z"
   },
   {
    "duration": 31,
    "start_time": "2022-03-12T20:21:31.772Z"
   },
   {
    "duration": 15,
    "start_time": "2022-03-12T20:21:31.806Z"
   },
   {
    "duration": 18,
    "start_time": "2022-03-12T20:21:31.827Z"
   },
   {
    "duration": 43,
    "start_time": "2022-03-12T20:21:31.848Z"
   },
   {
    "duration": 24,
    "start_time": "2022-03-12T20:21:31.893Z"
   },
   {
    "duration": 35,
    "start_time": "2022-03-12T20:21:31.919Z"
   },
   {
    "duration": 40,
    "start_time": "2022-03-12T20:21:31.957Z"
   },
   {
    "duration": 16,
    "start_time": "2022-03-12T20:21:32.000Z"
   },
   {
    "duration": 18,
    "start_time": "2022-03-12T20:21:32.019Z"
   },
   {
    "duration": 45,
    "start_time": "2022-03-12T20:21:32.040Z"
   },
   {
    "duration": 16,
    "start_time": "2022-03-12T20:21:32.088Z"
   },
   {
    "duration": 41,
    "start_time": "2022-03-12T20:21:32.107Z"
   },
   {
    "duration": 10,
    "start_time": "2022-03-12T20:21:32.150Z"
   },
   {
    "duration": 21,
    "start_time": "2022-03-12T20:21:32.162Z"
   },
   {
    "duration": 21,
    "start_time": "2022-03-12T20:21:32.186Z"
   },
   {
    "duration": 18,
    "start_time": "2022-03-12T20:21:32.210Z"
   },
   {
    "duration": 37,
    "start_time": "2022-03-12T20:21:32.230Z"
   },
   {
    "duration": 62,
    "start_time": "2022-03-12T20:21:32.269Z"
   },
   {
    "duration": 23,
    "start_time": "2022-03-12T20:21:32.333Z"
   },
   {
    "duration": 252,
    "start_time": "2022-03-12T20:21:32.359Z"
   },
   {
    "duration": 34,
    "start_time": "2022-03-12T20:21:32.614Z"
   },
   {
    "duration": 998,
    "start_time": "2022-03-12T20:21:32.651Z"
   },
   {
    "duration": 30,
    "start_time": "2022-03-12T20:21:33.652Z"
   },
   {
    "duration": 260,
    "start_time": "2022-03-12T20:21:33.685Z"
   },
   {
    "duration": 34,
    "start_time": "2022-03-12T20:21:33.948Z"
   },
   {
    "duration": 264,
    "start_time": "2022-03-12T20:21:33.985Z"
   },
   {
    "duration": 44,
    "start_time": "2022-03-12T20:21:34.253Z"
   },
   {
    "duration": 275,
    "start_time": "2022-03-12T20:21:34.300Z"
   },
   {
    "duration": 26,
    "start_time": "2022-03-12T20:21:34.582Z"
   },
   {
    "duration": 1495,
    "start_time": "2022-03-12T20:22:09.628Z"
   },
   {
    "duration": 15,
    "start_time": "2022-03-12T20:22:11.126Z"
   },
   {
    "duration": 12,
    "start_time": "2022-03-12T20:22:11.144Z"
   },
   {
    "duration": 23,
    "start_time": "2022-03-12T20:22:11.183Z"
   },
   {
    "duration": 4,
    "start_time": "2022-03-12T20:22:11.209Z"
   },
   {
    "duration": 11,
    "start_time": "2022-03-12T20:22:11.216Z"
   },
   {
    "duration": 55,
    "start_time": "2022-03-12T20:22:11.229Z"
   },
   {
    "duration": 8,
    "start_time": "2022-03-12T20:22:11.289Z"
   },
   {
    "duration": 22,
    "start_time": "2022-03-12T20:22:11.301Z"
   },
   {
    "duration": 9,
    "start_time": "2022-03-12T20:22:11.326Z"
   },
   {
    "duration": 8,
    "start_time": "2022-03-12T20:22:11.383Z"
   },
   {
    "duration": 24,
    "start_time": "2022-03-12T20:22:11.394Z"
   },
   {
    "duration": 10,
    "start_time": "2022-03-12T20:22:11.421Z"
   },
   {
    "duration": 52,
    "start_time": "2022-03-12T20:22:11.434Z"
   },
   {
    "duration": 11,
    "start_time": "2022-03-12T20:22:11.489Z"
   },
   {
    "duration": 9,
    "start_time": "2022-03-12T20:22:11.503Z"
   },
   {
    "duration": 19,
    "start_time": "2022-03-12T20:22:11.514Z"
   },
   {
    "duration": 57,
    "start_time": "2022-03-12T20:22:11.535Z"
   },
   {
    "duration": 7,
    "start_time": "2022-03-12T20:22:11.595Z"
   },
   {
    "duration": 12,
    "start_time": "2022-03-12T20:22:11.605Z"
   },
   {
    "duration": 10,
    "start_time": "2022-03-12T20:22:11.620Z"
   },
   {
    "duration": 8,
    "start_time": "2022-03-12T20:22:11.633Z"
   },
   {
    "duration": 6,
    "start_time": "2022-03-12T20:22:11.686Z"
   },
   {
    "duration": 36,
    "start_time": "2022-03-12T20:22:11.695Z"
   },
   {
    "duration": 50,
    "start_time": "2022-03-12T20:22:11.733Z"
   },
   {
    "duration": 34,
    "start_time": "2022-03-12T20:22:11.785Z"
   },
   {
    "duration": 19,
    "start_time": "2022-03-12T20:22:11.821Z"
   },
   {
    "duration": 44,
    "start_time": "2022-03-12T20:22:11.842Z"
   },
   {
    "duration": 17,
    "start_time": "2022-03-12T20:22:11.889Z"
   },
   {
    "duration": 18,
    "start_time": "2022-03-12T20:22:11.909Z"
   },
   {
    "duration": 15,
    "start_time": "2022-03-12T20:22:11.929Z"
   },
   {
    "duration": 57,
    "start_time": "2022-03-12T20:22:11.946Z"
   },
   {
    "duration": 12,
    "start_time": "2022-03-12T20:22:12.006Z"
   },
   {
    "duration": 8,
    "start_time": "2022-03-12T20:22:12.020Z"
   },
   {
    "duration": 11,
    "start_time": "2022-03-12T20:22:12.030Z"
   },
   {
    "duration": 41,
    "start_time": "2022-03-12T20:22:12.044Z"
   },
   {
    "duration": 12,
    "start_time": "2022-03-12T20:22:12.087Z"
   },
   {
    "duration": 42,
    "start_time": "2022-03-12T20:22:12.101Z"
   },
   {
    "duration": 12,
    "start_time": "2022-03-12T20:22:12.146Z"
   },
   {
    "duration": 253,
    "start_time": "2022-03-12T20:22:12.182Z"
   },
   {
    "duration": 14,
    "start_time": "2022-03-12T20:22:12.437Z"
   },
   {
    "duration": 268,
    "start_time": "2022-03-12T20:22:12.453Z"
   },
   {
    "duration": 10,
    "start_time": "2022-03-12T20:22:12.724Z"
   },
   {
    "duration": 261,
    "start_time": "2022-03-12T20:22:12.736Z"
   },
   {
    "duration": 16,
    "start_time": "2022-03-12T20:22:13.000Z"
   },
   {
    "duration": 269,
    "start_time": "2022-03-12T20:22:13.018Z"
   },
   {
    "duration": 22,
    "start_time": "2022-03-12T20:22:13.292Z"
   },
   {
    "duration": 377,
    "start_time": "2022-03-12T20:22:13.317Z"
   },
   {
    "duration": 39,
    "start_time": "2022-03-12T20:22:13.697Z"
   },
   {
    "duration": 27,
    "start_time": "2022-03-12T20:22:54.150Z"
   },
   {
    "duration": 27,
    "start_time": "2022-03-12T20:23:53.894Z"
   },
   {
    "duration": 28,
    "start_time": "2022-03-12T20:24:00.215Z"
   },
   {
    "duration": 28,
    "start_time": "2022-03-12T20:25:21.613Z"
   },
   {
    "duration": 28,
    "start_time": "2022-03-12T20:25:40.428Z"
   },
   {
    "duration": 33,
    "start_time": "2022-03-12T20:27:35.020Z"
   },
   {
    "duration": 31,
    "start_time": "2022-03-12T20:29:03.180Z"
   },
   {
    "duration": 30,
    "start_time": "2022-03-12T20:29:25.619Z"
   },
   {
    "duration": 37,
    "start_time": "2022-03-12T20:31:16.667Z"
   },
   {
    "duration": 407,
    "start_time": "2022-03-12T20:31:34.353Z"
   },
   {
    "duration": 35,
    "start_time": "2022-03-12T20:32:00.082Z"
   },
   {
    "duration": 27,
    "start_time": "2022-03-12T20:32:21.019Z"
   },
   {
    "duration": 34,
    "start_time": "2022-03-12T20:37:31.592Z"
   },
   {
    "duration": 31,
    "start_time": "2022-03-12T20:37:52.350Z"
   },
   {
    "duration": 309,
    "start_time": "2022-03-12T20:38:34.518Z"
   },
   {
    "duration": 32,
    "start_time": "2022-03-12T20:38:53.822Z"
   },
   {
    "duration": 298,
    "start_time": "2022-03-12T20:39:08.719Z"
   },
   {
    "duration": 36,
    "start_time": "2022-03-12T20:39:17.374Z"
   },
   {
    "duration": 38,
    "start_time": "2022-03-12T20:44:37.404Z"
   },
   {
    "duration": 34,
    "start_time": "2022-03-12T20:50:41.816Z"
   },
   {
    "duration": 57,
    "start_time": "2022-03-12T20:51:10.417Z"
   },
   {
    "duration": 29,
    "start_time": "2022-03-12T20:51:17.239Z"
   },
   {
    "duration": 22,
    "start_time": "2022-03-12T20:53:18.519Z"
   },
   {
    "duration": 20,
    "start_time": "2022-03-12T20:53:37.839Z"
   },
   {
    "duration": 21,
    "start_time": "2022-03-12T20:53:40.126Z"
   },
   {
    "duration": 23,
    "start_time": "2022-03-12T20:53:47.799Z"
   },
   {
    "duration": 283,
    "start_time": "2022-03-12T20:53:58.183Z"
   },
   {
    "duration": 19,
    "start_time": "2022-03-12T20:54:03.232Z"
   },
   {
    "duration": 16,
    "start_time": "2022-03-12T20:54:52.663Z"
   },
   {
    "duration": 1564,
    "start_time": "2022-03-12T20:57:49.279Z"
   },
   {
    "duration": 14,
    "start_time": "2022-03-12T20:57:50.846Z"
   },
   {
    "duration": 25,
    "start_time": "2022-03-12T20:57:50.863Z"
   },
   {
    "duration": 21,
    "start_time": "2022-03-12T20:57:50.891Z"
   },
   {
    "duration": 9,
    "start_time": "2022-03-12T20:57:50.915Z"
   },
   {
    "duration": 9,
    "start_time": "2022-03-12T20:57:50.927Z"
   },
   {
    "duration": 49,
    "start_time": "2022-03-12T20:57:50.939Z"
   },
   {
    "duration": 8,
    "start_time": "2022-03-12T20:57:50.994Z"
   },
   {
    "duration": 21,
    "start_time": "2022-03-12T20:57:51.006Z"
   },
   {
    "duration": 8,
    "start_time": "2022-03-12T20:57:51.030Z"
   },
   {
    "duration": 8,
    "start_time": "2022-03-12T20:57:51.084Z"
   },
   {
    "duration": 25,
    "start_time": "2022-03-12T20:57:51.095Z"
   },
   {
    "duration": 16,
    "start_time": "2022-03-12T20:57:51.123Z"
   },
   {
    "duration": 44,
    "start_time": "2022-03-12T20:57:51.142Z"
   },
   {
    "duration": 12,
    "start_time": "2022-03-12T20:57:51.188Z"
   },
   {
    "duration": 9,
    "start_time": "2022-03-12T20:57:51.203Z"
   },
   {
    "duration": 15,
    "start_time": "2022-03-12T20:57:51.214Z"
   },
   {
    "duration": 53,
    "start_time": "2022-03-12T20:57:51.231Z"
   },
   {
    "duration": 6,
    "start_time": "2022-03-12T20:57:51.286Z"
   },
   {
    "duration": 9,
    "start_time": "2022-03-12T20:57:51.294Z"
   },
   {
    "duration": 10,
    "start_time": "2022-03-12T20:57:51.305Z"
   },
   {
    "duration": 13,
    "start_time": "2022-03-12T20:57:51.317Z"
   },
   {
    "duration": 6,
    "start_time": "2022-03-12T20:57:51.335Z"
   },
   {
    "duration": 69,
    "start_time": "2022-03-12T20:57:51.344Z"
   },
   {
    "duration": 21,
    "start_time": "2022-03-12T20:57:51.416Z"
   },
   {
    "duration": 63,
    "start_time": "2022-03-12T20:57:51.439Z"
   },
   {
    "duration": 19,
    "start_time": "2022-03-12T20:57:51.504Z"
   },
   {
    "duration": 14,
    "start_time": "2022-03-12T20:57:51.525Z"
   },
   {
    "duration": 46,
    "start_time": "2022-03-12T20:57:51.542Z"
   },
   {
    "duration": 18,
    "start_time": "2022-03-12T20:57:51.590Z"
   },
   {
    "duration": 7,
    "start_time": "2022-03-12T20:57:51.610Z"
   },
   {
    "duration": 26,
    "start_time": "2022-03-12T20:57:51.619Z"
   },
   {
    "duration": 42,
    "start_time": "2022-03-12T20:57:51.647Z"
   },
   {
    "duration": 10,
    "start_time": "2022-03-12T20:57:51.691Z"
   },
   {
    "duration": 11,
    "start_time": "2022-03-12T20:57:51.704Z"
   },
   {
    "duration": 3,
    "start_time": "2022-03-12T20:57:51.718Z"
   },
   {
    "duration": 9,
    "start_time": "2022-03-12T20:57:51.723Z"
   },
   {
    "duration": 73,
    "start_time": "2022-03-12T20:57:51.734Z"
   },
   {
    "duration": 10,
    "start_time": "2022-03-12T20:57:51.810Z"
   },
   {
    "duration": 279,
    "start_time": "2022-03-12T20:57:51.823Z"
   },
   {
    "duration": 16,
    "start_time": "2022-03-12T20:57:52.104Z"
   },
   {
    "duration": 302,
    "start_time": "2022-03-12T20:57:52.122Z"
   },
   {
    "duration": 82,
    "start_time": "2022-03-12T20:57:52.428Z"
   },
   {
    "duration": 17,
    "start_time": "2022-03-12T20:57:52.512Z"
   },
   {
    "duration": 269,
    "start_time": "2022-03-12T20:57:52.532Z"
   },
   {
    "duration": 24,
    "start_time": "2022-03-12T20:57:52.803Z"
   },
   {
    "duration": 288,
    "start_time": "2022-03-12T20:57:52.829Z"
   },
   {
    "duration": 37,
    "start_time": "2022-03-12T20:57:53.119Z"
   },
   {
    "duration": 37,
    "start_time": "2022-03-12T20:57:53.158Z"
   },
   {
    "duration": 97,
    "start_time": "2022-03-12T21:30:35.403Z"
   },
   {
    "duration": 38,
    "start_time": "2022-03-12T21:33:11.537Z"
   },
   {
    "duration": 1508,
    "start_time": "2022-03-12T21:46:52.708Z"
   },
   {
    "duration": 17,
    "start_time": "2022-03-12T21:46:54.219Z"
   },
   {
    "duration": 13,
    "start_time": "2022-03-12T21:46:54.239Z"
   },
   {
    "duration": 47,
    "start_time": "2022-03-12T21:46:54.255Z"
   },
   {
    "duration": 5,
    "start_time": "2022-03-12T21:46:54.304Z"
   },
   {
    "duration": 12,
    "start_time": "2022-03-12T21:46:54.311Z"
   },
   {
    "duration": 13,
    "start_time": "2022-03-12T21:46:54.325Z"
   },
   {
    "duration": 6,
    "start_time": "2022-03-12T21:46:54.382Z"
   },
   {
    "duration": 24,
    "start_time": "2022-03-12T21:46:54.391Z"
   },
   {
    "duration": 7,
    "start_time": "2022-03-12T21:46:54.418Z"
   },
   {
    "duration": 8,
    "start_time": "2022-03-12T21:46:54.428Z"
   },
   {
    "duration": 60,
    "start_time": "2022-03-12T21:46:54.439Z"
   },
   {
    "duration": 10,
    "start_time": "2022-03-12T21:46:54.502Z"
   },
   {
    "duration": 12,
    "start_time": "2022-03-12T21:46:54.515Z"
   },
   {
    "duration": 60,
    "start_time": "2022-03-12T21:46:54.530Z"
   },
   {
    "duration": 10,
    "start_time": "2022-03-12T21:46:54.593Z"
   },
   {
    "duration": 17,
    "start_time": "2022-03-12T21:46:54.605Z"
   },
   {
    "duration": 14,
    "start_time": "2022-03-12T21:46:54.625Z"
   },
   {
    "duration": 42,
    "start_time": "2022-03-12T21:46:54.642Z"
   },
   {
    "duration": 6,
    "start_time": "2022-03-12T21:46:54.687Z"
   },
   {
    "duration": 9,
    "start_time": "2022-03-12T21:46:54.696Z"
   },
   {
    "duration": 13,
    "start_time": "2022-03-12T21:46:54.707Z"
   },
   {
    "duration": 11,
    "start_time": "2022-03-12T21:46:54.725Z"
   },
   {
    "duration": 67,
    "start_time": "2022-03-12T21:46:54.740Z"
   },
   {
    "duration": 32,
    "start_time": "2022-03-12T21:46:54.810Z"
   },
   {
    "duration": 46,
    "start_time": "2022-03-12T21:46:54.844Z"
   },
   {
    "duration": 18,
    "start_time": "2022-03-12T21:46:54.893Z"
   },
   {
    "duration": 18,
    "start_time": "2022-03-12T21:46:54.914Z"
   },
   {
    "duration": 21,
    "start_time": "2022-03-12T21:46:54.934Z"
   },
   {
    "duration": 38,
    "start_time": "2022-03-12T21:46:54.958Z"
   },
   {
    "duration": 5,
    "start_time": "2022-03-12T21:46:54.999Z"
   },
   {
    "duration": 46,
    "start_time": "2022-03-12T21:46:55.006Z"
   },
   {
    "duration": 10,
    "start_time": "2022-03-12T21:46:55.055Z"
   },
   {
    "duration": 19,
    "start_time": "2022-03-12T21:46:55.068Z"
   },
   {
    "duration": 25,
    "start_time": "2022-03-12T21:46:55.089Z"
   },
   {
    "duration": 19,
    "start_time": "2022-03-12T21:46:55.117Z"
   },
   {
    "duration": 34,
    "start_time": "2022-03-12T21:46:55.138Z"
   },
   {
    "duration": 60,
    "start_time": "2022-03-12T21:46:55.175Z"
   },
   {
    "duration": 11,
    "start_time": "2022-03-12T21:46:55.237Z"
   },
   {
    "duration": 251,
    "start_time": "2022-03-12T21:46:55.251Z"
   },
   {
    "duration": 16,
    "start_time": "2022-03-12T21:46:55.505Z"
   },
   {
    "duration": 271,
    "start_time": "2022-03-12T21:46:55.523Z"
   },
   {
    "duration": 35,
    "start_time": "2022-03-12T21:46:55.796Z"
   },
   {
    "duration": 16,
    "start_time": "2022-03-12T21:46:55.833Z"
   },
   {
    "duration": 270,
    "start_time": "2022-03-12T21:46:55.852Z"
   },
   {
    "duration": 23,
    "start_time": "2022-03-12T21:46:56.125Z"
   },
   {
    "duration": 269,
    "start_time": "2022-03-12T21:46:56.150Z"
   },
   {
    "duration": 35,
    "start_time": "2022-03-12T21:46:56.422Z"
   },
   {
    "duration": 46,
    "start_time": "2022-03-12T21:46:56.459Z"
   },
   {
    "duration": 1506,
    "start_time": "2022-03-12T21:47:40.779Z"
   },
   {
    "duration": 15,
    "start_time": "2022-03-12T21:47:42.287Z"
   },
   {
    "duration": 21,
    "start_time": "2022-03-12T21:47:42.306Z"
   },
   {
    "duration": 27,
    "start_time": "2022-03-12T21:47:42.330Z"
   },
   {
    "duration": 25,
    "start_time": "2022-03-12T21:47:42.360Z"
   },
   {
    "duration": 17,
    "start_time": "2022-03-12T21:47:42.388Z"
   },
   {
    "duration": 34,
    "start_time": "2022-03-12T21:47:42.407Z"
   },
   {
    "duration": 18,
    "start_time": "2022-03-12T21:47:42.445Z"
   },
   {
    "duration": 24,
    "start_time": "2022-03-12T21:47:42.467Z"
   },
   {
    "duration": 7,
    "start_time": "2022-03-12T21:47:42.494Z"
   },
   {
    "duration": 10,
    "start_time": "2022-03-12T21:47:42.503Z"
   },
   {
    "duration": 27,
    "start_time": "2022-03-12T21:47:42.516Z"
   },
   {
    "duration": 24,
    "start_time": "2022-03-12T21:47:42.545Z"
   },
   {
    "duration": 21,
    "start_time": "2022-03-12T21:47:42.570Z"
   },
   {
    "duration": 29,
    "start_time": "2022-03-12T21:47:42.594Z"
   },
   {
    "duration": 21,
    "start_time": "2022-03-12T21:47:42.625Z"
   },
   {
    "duration": 30,
    "start_time": "2022-03-12T21:47:42.649Z"
   },
   {
    "duration": 16,
    "start_time": "2022-03-12T21:47:42.682Z"
   },
   {
    "duration": 15,
    "start_time": "2022-03-12T21:47:42.700Z"
   },
   {
    "duration": 14,
    "start_time": "2022-03-12T21:47:42.718Z"
   },
   {
    "duration": 25,
    "start_time": "2022-03-12T21:47:42.734Z"
   },
   {
    "duration": 29,
    "start_time": "2022-03-12T21:47:42.761Z"
   },
   {
    "duration": 6,
    "start_time": "2022-03-12T21:47:42.796Z"
   },
   {
    "duration": 40,
    "start_time": "2022-03-12T21:47:42.805Z"
   },
   {
    "duration": 21,
    "start_time": "2022-03-12T21:47:42.848Z"
   },
   {
    "duration": 34,
    "start_time": "2022-03-12T21:47:42.883Z"
   },
   {
    "duration": 20,
    "start_time": "2022-03-12T21:47:42.919Z"
   },
   {
    "duration": 44,
    "start_time": "2022-03-12T21:47:42.941Z"
   },
   {
    "duration": 15,
    "start_time": "2022-03-12T21:47:42.987Z"
   },
   {
    "duration": 19,
    "start_time": "2022-03-12T21:47:43.005Z"
   },
   {
    "duration": 45,
    "start_time": "2022-03-12T21:47:43.027Z"
   },
   {
    "duration": 48,
    "start_time": "2022-03-12T21:47:43.074Z"
   },
   {
    "duration": 32,
    "start_time": "2022-03-12T21:47:43.124Z"
   },
   {
    "duration": 21,
    "start_time": "2022-03-12T21:47:43.158Z"
   },
   {
    "duration": 14,
    "start_time": "2022-03-12T21:47:43.181Z"
   },
   {
    "duration": 14,
    "start_time": "2022-03-12T21:47:43.198Z"
   },
   {
    "duration": 39,
    "start_time": "2022-03-12T21:47:43.214Z"
   },
   {
    "duration": 11,
    "start_time": "2022-03-12T21:47:43.255Z"
   },
   {
    "duration": 269,
    "start_time": "2022-03-12T21:47:43.269Z"
   },
   {
    "duration": 15,
    "start_time": "2022-03-12T21:47:43.541Z"
   },
   {
    "duration": 254,
    "start_time": "2022-03-12T21:47:43.558Z"
   },
   {
    "duration": 36,
    "start_time": "2022-03-12T21:47:43.815Z"
   },
   {
    "duration": 38,
    "start_time": "2022-03-12T21:47:43.853Z"
   },
   {
    "duration": 263,
    "start_time": "2022-03-12T21:47:43.893Z"
   },
   {
    "duration": 33,
    "start_time": "2022-03-12T21:47:44.159Z"
   },
   {
    "duration": 275,
    "start_time": "2022-03-12T21:47:44.194Z"
   },
   {
    "duration": 48,
    "start_time": "2022-03-12T21:47:44.471Z"
   },
   {
    "duration": 28,
    "start_time": "2022-03-12T21:47:44.522Z"
   },
   {
    "duration": 1222,
    "start_time": "2022-03-21T20:45:33.299Z"
   },
   {
    "duration": 17,
    "start_time": "2022-03-21T20:45:34.523Z"
   },
   {
    "duration": 11,
    "start_time": "2022-03-21T20:45:34.542Z"
   },
   {
    "duration": 20,
    "start_time": "2022-03-21T20:45:34.555Z"
   },
   {
    "duration": 5,
    "start_time": "2022-03-21T20:45:34.577Z"
   },
   {
    "duration": 9,
    "start_time": "2022-03-21T20:45:34.583Z"
   },
   {
    "duration": 40,
    "start_time": "2022-03-21T20:45:34.594Z"
   },
   {
    "duration": 7,
    "start_time": "2022-03-21T20:45:34.635Z"
   },
   {
    "duration": 15,
    "start_time": "2022-03-21T20:45:34.643Z"
   },
   {
    "duration": 6,
    "start_time": "2022-03-21T20:45:34.660Z"
   },
   {
    "duration": 6,
    "start_time": "2022-03-21T20:45:34.667Z"
   },
   {
    "duration": 15,
    "start_time": "2022-03-21T20:45:34.675Z"
   },
   {
    "duration": 42,
    "start_time": "2022-03-21T20:45:34.691Z"
   },
   {
    "duration": 9,
    "start_time": "2022-03-21T20:45:34.737Z"
   },
   {
    "duration": 20,
    "start_time": "2022-03-21T20:45:34.748Z"
   },
   {
    "duration": 7,
    "start_time": "2022-03-21T20:45:34.769Z"
   },
   {
    "duration": 15,
    "start_time": "2022-03-21T20:45:34.777Z"
   },
   {
    "duration": 13,
    "start_time": "2022-03-21T20:45:34.793Z"
   },
   {
    "duration": 28,
    "start_time": "2022-03-21T20:45:34.807Z"
   },
   {
    "duration": 10,
    "start_time": "2022-03-21T20:45:34.836Z"
   },
   {
    "duration": 11,
    "start_time": "2022-03-21T20:45:34.847Z"
   },
   {
    "duration": 10,
    "start_time": "2022-03-21T20:45:34.859Z"
   },
   {
    "duration": 7,
    "start_time": "2022-03-21T20:45:34.871Z"
   },
   {
    "duration": 25,
    "start_time": "2022-03-21T20:45:34.879Z"
   },
   {
    "duration": 37,
    "start_time": "2022-03-21T20:45:34.906Z"
   },
   {
    "duration": 29,
    "start_time": "2022-03-21T20:45:34.945Z"
   },
   {
    "duration": 16,
    "start_time": "2022-03-21T20:45:34.976Z"
   },
   {
    "duration": 41,
    "start_time": "2022-03-21T20:45:34.993Z"
   },
   {
    "duration": 12,
    "start_time": "2022-03-21T20:45:35.036Z"
   },
   {
    "duration": 13,
    "start_time": "2022-03-21T20:45:35.050Z"
   },
   {
    "duration": 4,
    "start_time": "2022-03-21T20:45:35.065Z"
   },
   {
    "duration": 20,
    "start_time": "2022-03-21T20:45:35.071Z"
   },
   {
    "duration": 9,
    "start_time": "2022-03-21T20:45:35.093Z"
   },
   {
    "duration": 35,
    "start_time": "2022-03-21T20:45:35.103Z"
   },
   {
    "duration": 17,
    "start_time": "2022-03-21T20:45:35.140Z"
   },
   {
    "duration": 18,
    "start_time": "2022-03-21T20:45:35.159Z"
   },
   {
    "duration": 25,
    "start_time": "2022-03-21T20:45:35.179Z"
   },
   {
    "duration": 13,
    "start_time": "2022-03-21T20:45:35.206Z"
   },
   {
    "duration": 123,
    "start_time": "2022-03-21T20:45:35.221Z"
   },
   {
    "duration": 11,
    "start_time": "2022-03-21T20:45:35.345Z"
   },
   {
    "duration": 135,
    "start_time": "2022-03-21T20:45:35.359Z"
   },
   {
    "duration": 26,
    "start_time": "2022-03-21T20:45:35.496Z"
   },
   {
    "duration": 13,
    "start_time": "2022-03-21T20:45:35.532Z"
   },
   {
    "duration": 130,
    "start_time": "2022-03-21T20:45:35.547Z"
   },
   {
    "duration": 16,
    "start_time": "2022-03-21T20:45:35.679Z"
   },
   {
    "duration": 138,
    "start_time": "2022-03-21T20:45:35.696Z"
   },
   {
    "duration": 25,
    "start_time": "2022-03-21T20:45:35.835Z"
   },
   {
    "duration": 20,
    "start_time": "2022-03-21T20:45:35.861Z"
   },
   {
    "duration": 68,
    "start_time": "2022-03-23T17:13:33.557Z"
   },
   {
    "duration": 1815,
    "start_time": "2022-03-23T17:13:44.773Z"
   },
   {
    "duration": 24,
    "start_time": "2022-03-23T17:13:46.592Z"
   },
   {
    "duration": 15,
    "start_time": "2022-03-23T17:13:46.618Z"
   },
   {
    "duration": 50,
    "start_time": "2022-03-23T17:13:46.637Z"
   },
   {
    "duration": 5,
    "start_time": "2022-03-23T17:13:46.690Z"
   },
   {
    "duration": 11,
    "start_time": "2022-03-23T17:13:46.698Z"
   },
   {
    "duration": 55,
    "start_time": "2022-03-23T17:13:46.712Z"
   },
   {
    "duration": 10,
    "start_time": "2022-03-23T17:13:46.769Z"
   },
   {
    "duration": 21,
    "start_time": "2022-03-23T17:13:46.781Z"
   },
   {
    "duration": 5,
    "start_time": "2022-03-23T17:13:46.807Z"
   },
   {
    "duration": 8,
    "start_time": "2022-03-23T17:13:46.814Z"
   },
   {
    "duration": 58,
    "start_time": "2022-03-23T17:13:46.824Z"
   },
   {
    "duration": 8,
    "start_time": "2022-03-23T17:13:46.884Z"
   },
   {
    "duration": 8,
    "start_time": "2022-03-23T17:13:46.895Z"
   },
   {
    "duration": 12,
    "start_time": "2022-03-23T17:13:46.905Z"
   },
   {
    "duration": 51,
    "start_time": "2022-03-23T17:13:46.919Z"
   },
   {
    "duration": 19,
    "start_time": "2022-03-23T17:13:46.972Z"
   },
   {
    "duration": 16,
    "start_time": "2022-03-23T17:13:46.993Z"
   },
   {
    "duration": 5,
    "start_time": "2022-03-23T17:13:47.011Z"
   },
   {
    "duration": 8,
    "start_time": "2022-03-23T17:13:47.018Z"
   },
   {
    "duration": 49,
    "start_time": "2022-03-23T17:13:47.028Z"
   },
   {
    "duration": 8,
    "start_time": "2022-03-23T17:13:47.079Z"
   },
   {
    "duration": 9,
    "start_time": "2022-03-23T17:13:47.089Z"
   },
   {
    "duration": 27,
    "start_time": "2022-03-23T17:13:47.100Z"
   },
   {
    "duration": 60,
    "start_time": "2022-03-23T17:13:47.129Z"
   },
   {
    "duration": 41,
    "start_time": "2022-03-23T17:13:47.191Z"
   },
   {
    "duration": 47,
    "start_time": "2022-03-23T17:13:47.234Z"
   },
   {
    "duration": 15,
    "start_time": "2022-03-23T17:13:47.286Z"
   },
   {
    "duration": 25,
    "start_time": "2022-03-23T17:13:47.303Z"
   },
   {
    "duration": 38,
    "start_time": "2022-03-23T17:13:47.330Z"
   },
   {
    "duration": 4,
    "start_time": "2022-03-23T17:13:47.370Z"
   },
   {
    "duration": 28,
    "start_time": "2022-03-23T17:13:47.376Z"
   },
   {
    "duration": 10,
    "start_time": "2022-03-23T17:13:47.406Z"
   },
   {
    "duration": 13,
    "start_time": "2022-03-23T17:13:47.418Z"
   },
   {
    "duration": 44,
    "start_time": "2022-03-23T17:13:47.434Z"
   },
   {
    "duration": 5,
    "start_time": "2022-03-23T17:13:47.480Z"
   },
   {
    "duration": 31,
    "start_time": "2022-03-23T17:13:47.487Z"
   },
   {
    "duration": 9,
    "start_time": "2022-03-23T17:13:47.520Z"
   },
   {
    "duration": 212,
    "start_time": "2022-03-23T17:13:47.567Z"
   },
   {
    "duration": 16,
    "start_time": "2022-03-23T17:13:47.782Z"
   },
   {
    "duration": 220,
    "start_time": "2022-03-23T17:13:47.800Z"
   },
   {
    "duration": 46,
    "start_time": "2022-03-23T17:13:48.023Z"
   },
   {
    "duration": 19,
    "start_time": "2022-03-23T17:13:48.071Z"
   },
   {
    "duration": 211,
    "start_time": "2022-03-23T17:13:48.092Z"
   },
   {
    "duration": 26,
    "start_time": "2022-03-23T17:13:48.305Z"
   },
   {
    "duration": 245,
    "start_time": "2022-03-23T17:13:48.333Z"
   },
   {
    "duration": 37,
    "start_time": "2022-03-23T17:13:48.580Z"
   },
   {
    "duration": 60,
    "start_time": "2022-03-23T17:13:48.620Z"
   },
   {
    "duration": 168,
    "start_time": "2022-03-23T17:13:48.682Z"
   },
   {
    "duration": 19,
    "start_time": "2022-03-23T17:17:47.592Z"
   },
   {
    "duration": 29,
    "start_time": "2022-03-23T17:18:06.784Z"
   },
   {
    "duration": 36,
    "start_time": "2022-03-23T17:20:27.743Z"
   },
   {
    "duration": 26,
    "start_time": "2022-03-23T17:22:41.880Z"
   },
   {
    "duration": 13,
    "start_time": "2022-03-23T17:23:47.269Z"
   },
   {
    "duration": 50,
    "start_time": "2022-03-23T17:23:53.532Z"
   },
   {
    "duration": 78,
    "start_time": "2022-03-23T17:26:48.741Z"
   },
   {
    "duration": 72,
    "start_time": "2022-03-23T17:28:48.003Z"
   },
   {
    "duration": 74,
    "start_time": "2022-03-23T17:29:24.707Z"
   },
   {
    "duration": 71,
    "start_time": "2022-03-23T17:30:14.482Z"
   },
   {
    "duration": 68,
    "start_time": "2022-03-23T17:36:27.561Z"
   },
   {
    "duration": 72,
    "start_time": "2022-03-23T17:39:33.822Z"
   },
   {
    "duration": 5,
    "start_time": "2022-03-23T18:34:08.266Z"
   },
   {
    "duration": 88,
    "start_time": "2022-03-23T18:41:27.832Z"
   },
   {
    "duration": 79,
    "start_time": "2022-03-23T18:42:29.825Z"
   },
   {
    "duration": 88,
    "start_time": "2022-03-23T18:42:43.471Z"
   },
   {
    "duration": 72,
    "start_time": "2022-03-23T18:43:06.582Z"
   },
   {
    "duration": 25,
    "start_time": "2022-03-23T18:43:10.262Z"
   },
   {
    "duration": 68,
    "start_time": "2022-03-23T18:43:29.244Z"
   },
   {
    "duration": 82,
    "start_time": "2022-03-23T18:44:23.911Z"
   },
   {
    "duration": 41,
    "start_time": "2022-03-23T18:44:44.542Z"
   },
   {
    "duration": 171,
    "start_time": "2022-03-23T18:44:53.861Z"
   },
   {
    "duration": 33,
    "start_time": "2022-03-23T18:45:32.278Z"
   },
   {
    "duration": 99,
    "start_time": "2022-03-23T18:46:09.285Z"
   },
   {
    "duration": 50,
    "start_time": "2022-03-23T18:46:12.428Z"
   },
   {
    "duration": 44,
    "start_time": "2022-03-23T18:46:38.076Z"
   },
   {
    "duration": 44,
    "start_time": "2022-03-23T18:46:51.388Z"
   },
   {
    "duration": 8,
    "start_time": "2022-03-23T18:47:43.940Z"
   },
   {
    "duration": 8,
    "start_time": "2022-03-23T18:48:00.260Z"
   },
   {
    "duration": 40,
    "start_time": "2022-03-23T18:48:10.228Z"
   },
   {
    "duration": 47,
    "start_time": "2022-03-23T18:48:39.123Z"
   },
   {
    "duration": 41,
    "start_time": "2022-03-23T18:48:51.277Z"
   },
   {
    "duration": 41,
    "start_time": "2022-03-23T18:49:27.179Z"
   },
   {
    "duration": 34,
    "start_time": "2022-03-23T18:49:36.459Z"
   },
   {
    "duration": 37,
    "start_time": "2022-03-23T18:49:49.316Z"
   },
   {
    "duration": 36,
    "start_time": "2022-03-23T18:50:21.347Z"
   },
   {
    "duration": 26,
    "start_time": "2022-03-23T18:51:02.675Z"
   },
   {
    "duration": 25,
    "start_time": "2022-03-23T18:51:10.185Z"
   },
   {
    "duration": 26,
    "start_time": "2022-03-23T18:54:51.297Z"
   },
   {
    "duration": 23,
    "start_time": "2022-03-23T18:54:59.489Z"
   },
   {
    "duration": 28,
    "start_time": "2022-03-23T18:55:20.120Z"
   },
   {
    "duration": 22,
    "start_time": "2022-03-23T18:57:03.951Z"
   },
   {
    "duration": 251,
    "start_time": "2022-03-23T18:57:11.528Z"
   },
   {
    "duration": 219,
    "start_time": "2022-03-23T18:57:27.536Z"
   },
   {
    "duration": 185,
    "start_time": "2022-03-23T18:57:35.887Z"
   },
   {
    "duration": 34,
    "start_time": "2022-03-23T18:58:15.447Z"
   },
   {
    "duration": 52,
    "start_time": "2022-03-23T18:58:48.158Z"
   },
   {
    "duration": 51,
    "start_time": "2022-03-23T18:58:57.998Z"
   },
   {
    "duration": 192,
    "start_time": "2022-03-23T18:59:02.903Z"
   },
   {
    "duration": 379,
    "start_time": "2022-03-23T18:59:45.294Z"
   },
   {
    "duration": 379,
    "start_time": "2022-03-23T18:59:54.271Z"
   },
   {
    "duration": 273,
    "start_time": "2022-03-23T19:00:01.442Z"
   },
   {
    "duration": 392,
    "start_time": "2022-03-23T19:00:40.557Z"
   },
   {
    "duration": 208,
    "start_time": "2022-03-23T19:00:45.660Z"
   },
   {
    "duration": 214,
    "start_time": "2022-03-23T19:01:20.269Z"
   },
   {
    "duration": 226,
    "start_time": "2022-03-23T19:01:37.988Z"
   },
   {
    "duration": 223,
    "start_time": "2022-03-23T19:02:34.020Z"
   },
   {
    "duration": 47,
    "start_time": "2022-03-23T19:03:04.013Z"
   },
   {
    "duration": 220,
    "start_time": "2022-03-23T19:03:16.500Z"
   },
   {
    "duration": 228,
    "start_time": "2022-03-23T19:03:36.427Z"
   },
   {
    "duration": 202,
    "start_time": "2022-03-23T19:03:57.707Z"
   },
   {
    "duration": 221,
    "start_time": "2022-03-23T19:04:13.355Z"
   },
   {
    "duration": 250,
    "start_time": "2022-03-23T19:04:24.844Z"
   },
   {
    "duration": 211,
    "start_time": "2022-03-23T19:04:37.700Z"
   },
   {
    "duration": 1451,
    "start_time": "2022-03-25T18:05:20.927Z"
   },
   {
    "duration": 91,
    "start_time": "2022-03-25T18:05:22.380Z"
   },
   {
    "duration": 17,
    "start_time": "2022-03-25T18:05:22.473Z"
   },
   {
    "duration": 11,
    "start_time": "2022-03-25T18:05:22.492Z"
   },
   {
    "duration": 32,
    "start_time": "2022-03-25T18:05:22.505Z"
   },
   {
    "duration": 4,
    "start_time": "2022-03-25T18:05:22.539Z"
   },
   {
    "duration": 9,
    "start_time": "2022-03-25T18:05:22.544Z"
   },
   {
    "duration": 10,
    "start_time": "2022-03-25T18:05:22.555Z"
   },
   {
    "duration": 7,
    "start_time": "2022-03-25T18:05:22.567Z"
   },
   {
    "duration": 14,
    "start_time": "2022-03-25T18:05:22.577Z"
   },
   {
    "duration": 42,
    "start_time": "2022-03-25T18:05:22.593Z"
   },
   {
    "duration": 7,
    "start_time": "2022-03-25T18:05:22.636Z"
   },
   {
    "duration": 15,
    "start_time": "2022-03-25T18:05:22.644Z"
   },
   {
    "duration": 8,
    "start_time": "2022-03-25T18:05:22.661Z"
   },
   {
    "duration": 10,
    "start_time": "2022-03-25T18:05:22.670Z"
   },
   {
    "duration": 8,
    "start_time": "2022-03-25T18:05:22.682Z"
   },
   {
    "duration": 8,
    "start_time": "2022-03-25T18:05:22.732Z"
   },
   {
    "duration": 14,
    "start_time": "2022-03-25T18:05:22.742Z"
   },
   {
    "duration": 13,
    "start_time": "2022-03-25T18:05:22.758Z"
   },
   {
    "duration": 4,
    "start_time": "2022-03-25T18:05:22.773Z"
   },
   {
    "duration": 7,
    "start_time": "2022-03-25T18:05:22.779Z"
   },
   {
    "duration": 46,
    "start_time": "2022-03-25T18:05:22.787Z"
   },
   {
    "duration": 6,
    "start_time": "2022-03-25T18:05:22.835Z"
   },
   {
    "duration": 7,
    "start_time": "2022-03-25T18:05:22.843Z"
   },
   {
    "duration": 22,
    "start_time": "2022-03-25T18:05:22.852Z"
   },
   {
    "duration": 18,
    "start_time": "2022-03-25T18:05:22.876Z"
   },
   {
    "duration": 66,
    "start_time": "2022-03-25T18:05:22.896Z"
   },
   {
    "duration": 17,
    "start_time": "2022-03-25T18:05:22.965Z"
   },
   {
    "duration": 12,
    "start_time": "2022-03-25T18:05:22.983Z"
   },
   {
    "duration": 42,
    "start_time": "2022-03-25T18:05:22.997Z"
   },
   {
    "duration": 12,
    "start_time": "2022-03-25T18:05:23.041Z"
   },
   {
    "duration": 6,
    "start_time": "2022-03-25T18:05:23.055Z"
   },
   {
    "duration": 22,
    "start_time": "2022-03-25T18:05:23.063Z"
   },
   {
    "duration": 12,
    "start_time": "2022-03-25T18:05:23.087Z"
   },
   {
    "duration": 35,
    "start_time": "2022-03-25T18:05:23.101Z"
   },
   {
    "duration": 13,
    "start_time": "2022-03-25T18:05:23.138Z"
   },
   {
    "duration": 7,
    "start_time": "2022-03-25T18:05:23.153Z"
   },
   {
    "duration": 34,
    "start_time": "2022-03-25T18:05:23.162Z"
   },
   {
    "duration": 10,
    "start_time": "2022-03-25T18:05:23.198Z"
   },
   {
    "duration": 168,
    "start_time": "2022-03-25T18:05:23.210Z"
   },
   {
    "duration": 12,
    "start_time": "2022-03-25T18:05:23.379Z"
   },
   {
    "duration": 155,
    "start_time": "2022-03-25T18:05:23.392Z"
   },
   {
    "duration": 26,
    "start_time": "2022-03-25T18:05:23.549Z"
   },
   {
    "duration": 13,
    "start_time": "2022-03-25T18:05:23.577Z"
   },
   {
    "duration": 166,
    "start_time": "2022-03-25T18:05:23.591Z"
   },
   {
    "duration": 18,
    "start_time": "2022-03-25T18:05:23.758Z"
   },
   {
    "duration": 164,
    "start_time": "2022-03-25T18:05:23.777Z"
   },
   {
    "duration": 25,
    "start_time": "2022-03-25T18:05:23.943Z"
   },
   {
    "duration": 21,
    "start_time": "2022-03-25T18:05:23.970Z"
   },
   {
    "duration": 6,
    "start_time": "2022-03-25T18:05:23.992Z"
   },
   {
    "duration": 158,
    "start_time": "2022-03-25T18:05:24.032Z"
   },
   {
    "duration": 1425,
    "start_time": "2022-03-26T14:18:45.590Z"
   },
   {
    "duration": 89,
    "start_time": "2022-03-26T14:18:47.017Z"
   },
   {
    "duration": 17,
    "start_time": "2022-03-26T14:18:47.108Z"
   },
   {
    "duration": 13,
    "start_time": "2022-03-26T14:18:47.127Z"
   },
   {
    "duration": 16,
    "start_time": "2022-03-26T14:18:47.142Z"
   },
   {
    "duration": 11,
    "start_time": "2022-03-26T14:18:47.159Z"
   },
   {
    "duration": 13,
    "start_time": "2022-03-26T14:18:47.172Z"
   },
   {
    "duration": 12,
    "start_time": "2022-03-26T14:18:47.187Z"
   },
   {
    "duration": 12,
    "start_time": "2022-03-26T14:18:47.201Z"
   },
   {
    "duration": 16,
    "start_time": "2022-03-26T14:18:47.233Z"
   },
   {
    "duration": 6,
    "start_time": "2022-03-26T14:18:47.251Z"
   },
   {
    "duration": 11,
    "start_time": "2022-03-26T14:18:47.259Z"
   },
   {
    "duration": 17,
    "start_time": "2022-03-26T14:18:47.272Z"
   },
   {
    "duration": 10,
    "start_time": "2022-03-26T14:18:47.291Z"
   },
   {
    "duration": 34,
    "start_time": "2022-03-26T14:18:47.302Z"
   },
   {
    "duration": 20,
    "start_time": "2022-03-26T14:18:47.338Z"
   },
   {
    "duration": 18,
    "start_time": "2022-03-26T14:18:47.360Z"
   },
   {
    "duration": 19,
    "start_time": "2022-03-26T14:18:47.379Z"
   },
   {
    "duration": 13,
    "start_time": "2022-03-26T14:18:47.399Z"
   },
   {
    "duration": 19,
    "start_time": "2022-03-26T14:18:47.414Z"
   },
   {
    "duration": 7,
    "start_time": "2022-03-26T14:18:47.435Z"
   },
   {
    "duration": 9,
    "start_time": "2022-03-26T14:18:47.444Z"
   },
   {
    "duration": 8,
    "start_time": "2022-03-26T14:18:47.455Z"
   },
   {
    "duration": 5,
    "start_time": "2022-03-26T14:18:47.465Z"
   },
   {
    "duration": 60,
    "start_time": "2022-03-26T14:18:47.472Z"
   },
   {
    "duration": 18,
    "start_time": "2022-03-26T14:18:47.534Z"
   },
   {
    "duration": 31,
    "start_time": "2022-03-26T14:18:47.554Z"
   },
   {
    "duration": 45,
    "start_time": "2022-03-26T14:18:47.588Z"
   },
   {
    "duration": 12,
    "start_time": "2022-03-26T14:18:47.635Z"
   },
   {
    "duration": 12,
    "start_time": "2022-03-26T14:18:47.648Z"
   },
   {
    "duration": 12,
    "start_time": "2022-03-26T14:18:47.661Z"
   },
   {
    "duration": 5,
    "start_time": "2022-03-26T14:18:47.675Z"
   },
   {
    "duration": 57,
    "start_time": "2022-03-26T14:18:47.681Z"
   },
   {
    "duration": 9,
    "start_time": "2022-03-26T14:18:47.740Z"
   },
   {
    "duration": 8,
    "start_time": "2022-03-26T14:18:47.751Z"
   },
   {
    "duration": 11,
    "start_time": "2022-03-26T14:18:47.761Z"
   },
   {
    "duration": 4,
    "start_time": "2022-03-26T14:18:47.773Z"
   },
   {
    "duration": 59,
    "start_time": "2022-03-26T14:18:47.778Z"
   },
   {
    "duration": 7,
    "start_time": "2022-03-26T14:18:47.839Z"
   },
   {
    "duration": 165,
    "start_time": "2022-03-26T14:18:47.847Z"
   },
   {
    "duration": 39,
    "start_time": "2022-03-26T14:18:48.014Z"
   },
   {
    "duration": 153,
    "start_time": "2022-03-26T14:18:48.054Z"
   },
   {
    "duration": 39,
    "start_time": "2022-03-26T14:18:48.209Z"
   },
   {
    "duration": 14,
    "start_time": "2022-03-26T14:18:48.250Z"
   },
   {
    "duration": 165,
    "start_time": "2022-03-26T14:18:48.266Z"
   },
   {
    "duration": 18,
    "start_time": "2022-03-26T14:18:48.433Z"
   },
   {
    "duration": 165,
    "start_time": "2022-03-26T14:18:48.453Z"
   },
   {
    "duration": 31,
    "start_time": "2022-03-26T14:18:48.620Z"
   },
   {
    "duration": 21,
    "start_time": "2022-03-26T14:18:48.653Z"
   },
   {
    "duration": 6,
    "start_time": "2022-03-26T14:18:48.675Z"
   },
   {
    "duration": 181,
    "start_time": "2022-03-26T14:18:48.682Z"
   },
   {
    "duration": 12,
    "start_time": "2022-03-26T14:19:45.518Z"
   },
   {
    "duration": 172,
    "start_time": "2022-03-26T14:22:22.692Z"
   },
   {
    "duration": 196,
    "start_time": "2022-03-26T14:22:44.435Z"
   },
   {
    "duration": 13,
    "start_time": "2022-03-26T14:23:00.159Z"
   },
   {
    "duration": 17,
    "start_time": "2022-03-26T14:23:17.948Z"
   },
   {
    "duration": 13,
    "start_time": "2022-03-26T14:23:26.324Z"
   },
   {
    "duration": 13,
    "start_time": "2022-03-26T14:23:51.735Z"
   },
   {
    "duration": 123,
    "start_time": "2022-03-26T14:27:17.580Z"
   },
   {
    "duration": 28,
    "start_time": "2022-03-26T14:27:31.749Z"
   },
   {
    "duration": 31,
    "start_time": "2022-03-26T14:29:40.422Z"
   },
   {
    "duration": 31,
    "start_time": "2022-03-26T14:29:54.005Z"
   },
   {
    "duration": 33,
    "start_time": "2022-03-26T14:30:03.141Z"
   },
   {
    "duration": 45,
    "start_time": "2022-03-26T14:30:26.334Z"
   },
   {
    "duration": 30,
    "start_time": "2022-03-26T14:30:33.709Z"
   },
   {
    "duration": 32,
    "start_time": "2022-03-26T14:31:33.289Z"
   },
   {
    "duration": 31,
    "start_time": "2022-03-26T14:31:40.872Z"
   },
   {
    "duration": 28,
    "start_time": "2022-03-26T14:32:31.406Z"
   },
   {
    "duration": 21,
    "start_time": "2022-03-26T14:32:46.328Z"
   },
   {
    "duration": 30,
    "start_time": "2022-03-26T14:32:58.584Z"
   },
   {
    "duration": 30,
    "start_time": "2022-03-26T14:34:05.672Z"
   },
   {
    "duration": 30,
    "start_time": "2022-03-26T14:34:24.624Z"
   },
   {
    "duration": 32,
    "start_time": "2022-03-26T14:37:27.119Z"
   },
   {
    "duration": 30,
    "start_time": "2022-03-26T14:37:37.888Z"
   },
   {
    "duration": 28,
    "start_time": "2022-03-26T14:37:42.782Z"
   },
   {
    "duration": 32,
    "start_time": "2022-03-26T14:37:48.131Z"
   },
   {
    "duration": 30,
    "start_time": "2022-03-26T14:38:03.254Z"
   },
   {
    "duration": 30,
    "start_time": "2022-03-26T14:38:17.526Z"
   },
   {
    "duration": 17,
    "start_time": "2022-03-26T14:39:04.623Z"
   },
   {
    "duration": 20,
    "start_time": "2022-03-26T14:39:35.415Z"
   },
   {
    "duration": 35,
    "start_time": "2022-03-26T14:39:43.047Z"
   },
   {
    "duration": 24,
    "start_time": "2022-03-26T14:40:29.179Z"
   },
   {
    "duration": 28,
    "start_time": "2022-03-26T14:40:37.654Z"
   },
   {
    "duration": 4,
    "start_time": "2022-03-26T14:49:41.158Z"
   },
   {
    "duration": 696,
    "start_time": "2022-03-26T14:50:18.565Z"
   },
   {
    "duration": 715,
    "start_time": "2022-03-26T14:50:39.805Z"
   },
   {
    "duration": 30,
    "start_time": "2022-03-26T14:51:15.784Z"
   },
   {
    "duration": 706,
    "start_time": "2022-03-26T14:52:14.276Z"
   },
   {
    "duration": 32,
    "start_time": "2022-03-26T14:52:28.215Z"
   },
   {
    "duration": 32,
    "start_time": "2022-03-26T14:53:15.383Z"
   },
   {
    "duration": 707,
    "start_time": "2022-03-26T14:54:03.824Z"
   },
   {
    "duration": 690,
    "start_time": "2022-03-26T14:54:18.870Z"
   },
   {
    "duration": 873,
    "start_time": "2022-03-26T14:55:10.546Z"
   },
   {
    "duration": 711,
    "start_time": "2022-03-26T14:55:24.970Z"
   },
   {
    "duration": 691,
    "start_time": "2022-03-26T14:55:37.405Z"
   },
   {
    "duration": 652,
    "start_time": "2022-03-26T14:56:44.163Z"
   },
   {
    "duration": 741,
    "start_time": "2022-03-26T14:56:57.494Z"
   },
   {
    "duration": 722,
    "start_time": "2022-03-26T14:57:20.598Z"
   },
   {
    "duration": 673,
    "start_time": "2022-03-26T14:57:37.397Z"
   },
   {
    "duration": 737,
    "start_time": "2022-03-26T14:57:47.814Z"
   },
   {
    "duration": 722,
    "start_time": "2022-03-26T14:58:53.029Z"
   },
   {
    "duration": 21,
    "start_time": "2022-03-26T14:59:04.828Z"
   },
   {
    "duration": 772,
    "start_time": "2022-03-26T14:59:22.476Z"
   },
   {
    "duration": 28,
    "start_time": "2022-03-26T14:59:31.824Z"
   },
   {
    "duration": 24,
    "start_time": "2022-03-26T15:00:10.401Z"
   },
   {
    "duration": 676,
    "start_time": "2022-03-26T15:01:06.196Z"
   },
   {
    "duration": 38,
    "start_time": "2022-03-26T15:01:20.875Z"
   },
   {
    "duration": 35,
    "start_time": "2022-03-26T15:01:27.577Z"
   },
   {
    "duration": 35,
    "start_time": "2022-03-26T15:01:48.528Z"
   },
   {
    "duration": 46,
    "start_time": "2022-03-26T15:02:01.320Z"
   },
   {
    "duration": 64,
    "start_time": "2022-03-26T15:03:18.200Z"
   },
   {
    "duration": 57,
    "start_time": "2022-03-26T15:03:51.144Z"
   },
   {
    "duration": 47,
    "start_time": "2022-03-26T15:04:19.456Z"
   },
   {
    "duration": 55,
    "start_time": "2022-03-26T15:04:43.923Z"
   },
   {
    "duration": 757,
    "start_time": "2022-03-26T15:05:01.272Z"
   },
   {
    "duration": 46,
    "start_time": "2022-03-26T15:05:18.899Z"
   },
   {
    "duration": 49,
    "start_time": "2022-03-26T15:07:01.318Z"
   },
   {
    "duration": 46,
    "start_time": "2022-03-26T15:07:12.905Z"
   },
   {
    "duration": 45,
    "start_time": "2022-03-26T15:07:29.134Z"
   },
   {
    "duration": 48,
    "start_time": "2022-03-26T15:07:41.221Z"
   },
   {
    "duration": 50,
    "start_time": "2022-03-26T15:08:11.294Z"
   },
   {
    "duration": 50,
    "start_time": "2022-03-26T15:08:46.904Z"
   },
   {
    "duration": 55,
    "start_time": "2022-03-26T15:08:58.727Z"
   },
   {
    "duration": 48,
    "start_time": "2022-03-26T15:09:09.719Z"
   },
   {
    "duration": 39,
    "start_time": "2022-03-26T15:09:30.161Z"
   },
   {
    "duration": 45,
    "start_time": "2022-03-26T15:14:25.690Z"
   },
   {
    "duration": 52,
    "start_time": "2022-03-26T15:14:39.797Z"
   },
   {
    "duration": 49,
    "start_time": "2022-03-26T15:14:59.709Z"
   },
   {
    "duration": 151,
    "start_time": "2022-03-26T15:15:24.830Z"
   },
   {
    "duration": 148,
    "start_time": "2022-03-26T15:15:36.285Z"
   },
   {
    "duration": 27,
    "start_time": "2022-03-26T15:15:58.489Z"
   },
   {
    "duration": 127,
    "start_time": "2022-03-26T15:16:24.955Z"
   },
   {
    "duration": 196,
    "start_time": "2022-03-26T15:16:36.948Z"
   },
   {
    "duration": 142,
    "start_time": "2022-03-26T15:16:45.213Z"
   },
   {
    "duration": 26,
    "start_time": "2022-03-26T15:17:05.596Z"
   },
   {
    "duration": 27,
    "start_time": "2022-03-26T15:17:09.944Z"
   },
   {
    "duration": 1224,
    "start_time": "2022-03-26T15:17:14.688Z"
   },
   {
    "duration": 91,
    "start_time": "2022-03-26T15:17:15.915Z"
   },
   {
    "duration": 18,
    "start_time": "2022-03-26T15:17:16.007Z"
   },
   {
    "duration": 13,
    "start_time": "2022-03-26T15:17:16.027Z"
   },
   {
    "duration": 16,
    "start_time": "2022-03-26T15:17:16.042Z"
   },
   {
    "duration": 6,
    "start_time": "2022-03-26T15:17:16.059Z"
   },
   {
    "duration": 9,
    "start_time": "2022-03-26T15:17:16.066Z"
   },
   {
    "duration": 10,
    "start_time": "2022-03-26T15:17:16.077Z"
   },
   {
    "duration": 7,
    "start_time": "2022-03-26T15:17:16.089Z"
   },
   {
    "duration": 16,
    "start_time": "2022-03-26T15:17:16.134Z"
   },
   {
    "duration": 7,
    "start_time": "2022-03-26T15:17:16.152Z"
   },
   {
    "duration": 5,
    "start_time": "2022-03-26T15:17:16.160Z"
   },
   {
    "duration": 16,
    "start_time": "2022-03-26T15:17:16.167Z"
   },
   {
    "duration": 7,
    "start_time": "2022-03-26T15:17:16.185Z"
   },
   {
    "duration": 42,
    "start_time": "2022-03-26T15:17:16.194Z"
   },
   {
    "duration": 13,
    "start_time": "2022-03-26T15:17:16.238Z"
   },
   {
    "duration": 10,
    "start_time": "2022-03-26T15:17:16.253Z"
   },
   {
    "duration": 15,
    "start_time": "2022-03-26T15:17:16.265Z"
   },
   {
    "duration": 16,
    "start_time": "2022-03-26T15:17:16.282Z"
   },
   {
    "duration": 5,
    "start_time": "2022-03-26T15:17:16.299Z"
   },
   {
    "duration": 31,
    "start_time": "2022-03-26T15:17:16.305Z"
   },
   {
    "duration": 18,
    "start_time": "2022-03-26T15:17:16.337Z"
   },
   {
    "duration": 25,
    "start_time": "2022-03-26T15:17:16.357Z"
   },
   {
    "duration": 22,
    "start_time": "2022-03-26T15:17:16.384Z"
   },
   {
    "duration": 34,
    "start_time": "2022-03-26T15:17:16.408Z"
   },
   {
    "duration": 23,
    "start_time": "2022-03-26T15:17:16.444Z"
   },
   {
    "duration": 32,
    "start_time": "2022-03-26T15:17:16.469Z"
   },
   {
    "duration": 30,
    "start_time": "2022-03-26T15:17:16.505Z"
   },
   {
    "duration": 11,
    "start_time": "2022-03-26T15:17:16.536Z"
   },
   {
    "duration": 24,
    "start_time": "2022-03-26T15:17:16.549Z"
   },
   {
    "duration": 12,
    "start_time": "2022-03-26T15:17:16.574Z"
   },
   {
    "duration": 14,
    "start_time": "2022-03-26T15:17:16.588Z"
   },
   {
    "duration": 35,
    "start_time": "2022-03-26T15:17:16.604Z"
   },
   {
    "duration": 11,
    "start_time": "2022-03-26T15:17:16.640Z"
   },
   {
    "duration": 30,
    "start_time": "2022-03-26T15:17:16.653Z"
   },
   {
    "duration": 26,
    "start_time": "2022-03-26T15:17:16.685Z"
   },
   {
    "duration": 9,
    "start_time": "2022-03-26T15:17:16.712Z"
   },
   {
    "duration": 35,
    "start_time": "2022-03-26T15:17:16.723Z"
   },
   {
    "duration": 9,
    "start_time": "2022-03-26T15:17:16.760Z"
   },
   {
    "duration": 144,
    "start_time": "2022-03-26T15:17:16.770Z"
   },
   {
    "duration": 22,
    "start_time": "2022-03-26T15:17:16.916Z"
   },
   {
    "duration": 28,
    "start_time": "2022-03-26T15:17:16.940Z"
   },
   {
    "duration": 168,
    "start_time": "2022-03-26T15:17:16.970Z"
   },
   {
    "duration": 26,
    "start_time": "2022-03-26T15:17:17.140Z"
   },
   {
    "duration": 13,
    "start_time": "2022-03-26T15:17:17.168Z"
   },
   {
    "duration": 160,
    "start_time": "2022-03-26T15:17:17.183Z"
   },
   {
    "duration": 19,
    "start_time": "2022-03-26T15:17:17.345Z"
   },
   {
    "duration": 159,
    "start_time": "2022-03-26T15:17:17.366Z"
   },
   {
    "duration": 27,
    "start_time": "2022-03-26T15:17:17.527Z"
   },
   {
    "duration": 23,
    "start_time": "2022-03-26T15:17:17.556Z"
   },
   {
    "duration": 6,
    "start_time": "2022-03-26T15:17:17.581Z"
   },
   {
    "duration": 190,
    "start_time": "2022-03-26T15:17:17.589Z"
   },
   {
    "duration": 34,
    "start_time": "2022-03-26T15:17:34.188Z"
   },
   {
    "duration": 18,
    "start_time": "2022-03-26T15:18:15.125Z"
   },
   {
    "duration": 14,
    "start_time": "2022-03-26T15:18:36.181Z"
   },
   {
    "duration": 152,
    "start_time": "2022-03-26T15:18:44.604Z"
   },
   {
    "duration": 125,
    "start_time": "2022-03-26T15:29:44.285Z"
   },
   {
    "duration": 37,
    "start_time": "2022-03-26T15:32:30.450Z"
   },
   {
    "duration": 27,
    "start_time": "2022-03-26T15:34:06.050Z"
   },
   {
    "duration": 33,
    "start_time": "2022-03-26T15:35:52.929Z"
   },
   {
    "duration": 35,
    "start_time": "2022-03-26T15:38:19.657Z"
   },
   {
    "duration": 31,
    "start_time": "2022-03-26T15:40:53.390Z"
   },
   {
    "duration": 814,
    "start_time": "2022-03-26T15:41:18.853Z"
   },
   {
    "duration": 32,
    "start_time": "2022-03-26T15:41:34.228Z"
   },
   {
    "duration": 11,
    "start_time": "2022-03-26T15:43:16.080Z"
   },
   {
    "duration": 118,
    "start_time": "2022-03-26T15:43:17.653Z"
   },
   {
    "duration": 1286,
    "start_time": "2022-03-26T17:47:24.242Z"
   },
   {
    "duration": 65,
    "start_time": "2022-03-26T17:47:25.530Z"
   },
   {
    "duration": 15,
    "start_time": "2022-03-26T17:47:25.596Z"
   },
   {
    "duration": 9,
    "start_time": "2022-03-26T17:47:25.613Z"
   },
   {
    "duration": 13,
    "start_time": "2022-03-26T17:47:25.623Z"
   },
   {
    "duration": 27,
    "start_time": "2022-03-26T17:47:25.638Z"
   },
   {
    "duration": 7,
    "start_time": "2022-03-26T17:47:25.666Z"
   },
   {
    "duration": 9,
    "start_time": "2022-03-26T17:47:25.675Z"
   },
   {
    "duration": 5,
    "start_time": "2022-03-26T17:47:25.686Z"
   },
   {
    "duration": 15,
    "start_time": "2022-03-26T17:47:25.693Z"
   },
   {
    "duration": 4,
    "start_time": "2022-03-26T17:47:25.709Z"
   },
   {
    "duration": 9,
    "start_time": "2022-03-26T17:47:25.714Z"
   },
   {
    "duration": 40,
    "start_time": "2022-03-26T17:47:25.724Z"
   },
   {
    "duration": 7,
    "start_time": "2022-03-26T17:47:25.766Z"
   },
   {
    "duration": 8,
    "start_time": "2022-03-26T17:47:25.774Z"
   },
   {
    "duration": 14,
    "start_time": "2022-03-26T17:47:25.783Z"
   },
   {
    "duration": 7,
    "start_time": "2022-03-26T17:47:25.798Z"
   },
   {
    "duration": 13,
    "start_time": "2022-03-26T17:47:25.806Z"
   },
   {
    "duration": 13,
    "start_time": "2022-03-26T17:47:25.821Z"
   },
   {
    "duration": 30,
    "start_time": "2022-03-26T17:47:25.835Z"
   },
   {
    "duration": 5,
    "start_time": "2022-03-26T17:47:25.867Z"
   },
   {
    "duration": 6,
    "start_time": "2022-03-26T17:47:25.874Z"
   },
   {
    "duration": 6,
    "start_time": "2022-03-26T17:47:25.882Z"
   },
   {
    "duration": 7,
    "start_time": "2022-03-26T17:47:25.889Z"
   },
   {
    "duration": 18,
    "start_time": "2022-03-26T17:47:25.898Z"
   },
   {
    "duration": 46,
    "start_time": "2022-03-26T17:47:25.918Z"
   },
   {
    "duration": 28,
    "start_time": "2022-03-26T17:47:25.965Z"
   },
   {
    "duration": 15,
    "start_time": "2022-03-26T17:47:25.996Z"
   },
   {
    "duration": 10,
    "start_time": "2022-03-26T17:47:26.013Z"
   },
   {
    "duration": 41,
    "start_time": "2022-03-26T17:47:26.025Z"
   },
   {
    "duration": 12,
    "start_time": "2022-03-26T17:47:26.067Z"
   },
   {
    "duration": 6,
    "start_time": "2022-03-26T17:47:26.080Z"
   },
   {
    "duration": 18,
    "start_time": "2022-03-26T17:47:26.087Z"
   },
   {
    "duration": 11,
    "start_time": "2022-03-26T17:47:26.106Z"
   },
   {
    "duration": 8,
    "start_time": "2022-03-26T17:47:26.119Z"
   },
   {
    "duration": 37,
    "start_time": "2022-03-26T17:47:26.129Z"
   },
   {
    "duration": 4,
    "start_time": "2022-03-26T17:47:26.167Z"
   },
   {
    "duration": 21,
    "start_time": "2022-03-26T17:47:26.173Z"
   },
   {
    "duration": 785,
    "start_time": "2022-03-26T17:47:26.195Z"
   },
   {
    "duration": 0,
    "start_time": "2022-03-26T17:47:26.981Z"
   },
   {
    "duration": 0,
    "start_time": "2022-03-26T17:47:26.983Z"
   },
   {
    "duration": 0,
    "start_time": "2022-03-26T17:47:26.984Z"
   },
   {
    "duration": 0,
    "start_time": "2022-03-26T17:47:26.984Z"
   },
   {
    "duration": 0,
    "start_time": "2022-03-26T17:47:26.985Z"
   },
   {
    "duration": 0,
    "start_time": "2022-03-26T17:47:26.986Z"
   },
   {
    "duration": 0,
    "start_time": "2022-03-26T17:47:26.987Z"
   },
   {
    "duration": 0,
    "start_time": "2022-03-26T17:47:26.988Z"
   },
   {
    "duration": 0,
    "start_time": "2022-03-26T17:47:26.990Z"
   },
   {
    "duration": 0,
    "start_time": "2022-03-26T17:47:26.991Z"
   },
   {
    "duration": 0,
    "start_time": "2022-03-26T17:47:26.991Z"
   },
   {
    "duration": 1,
    "start_time": "2022-03-26T17:47:26.992Z"
   },
   {
    "duration": 0,
    "start_time": "2022-03-26T17:47:26.994Z"
   },
   {
    "duration": 0,
    "start_time": "2022-03-26T17:47:26.995Z"
   },
   {
    "duration": 733,
    "start_time": "2022-03-26T17:48:04.978Z"
   },
   {
    "duration": 23,
    "start_time": "2022-03-26T17:48:58.522Z"
   },
   {
    "duration": 25,
    "start_time": "2022-03-26T17:51:40.383Z"
   },
   {
    "duration": 1153,
    "start_time": "2022-03-26T17:52:06.135Z"
   },
   {
    "duration": 68,
    "start_time": "2022-03-26T17:52:07.290Z"
   },
   {
    "duration": 15,
    "start_time": "2022-03-26T17:52:07.363Z"
   },
   {
    "duration": 13,
    "start_time": "2022-03-26T17:52:07.379Z"
   },
   {
    "duration": 29,
    "start_time": "2022-03-26T17:52:07.394Z"
   },
   {
    "duration": 8,
    "start_time": "2022-03-26T17:52:07.425Z"
   },
   {
    "duration": 19,
    "start_time": "2022-03-26T17:52:07.435Z"
   },
   {
    "duration": 18,
    "start_time": "2022-03-26T17:52:07.456Z"
   },
   {
    "duration": 10,
    "start_time": "2022-03-26T17:52:07.476Z"
   },
   {
    "duration": 23,
    "start_time": "2022-03-26T17:52:07.487Z"
   },
   {
    "duration": 5,
    "start_time": "2022-03-26T17:52:07.512Z"
   },
   {
    "duration": 15,
    "start_time": "2022-03-26T17:52:07.518Z"
   },
   {
    "duration": 29,
    "start_time": "2022-03-26T17:52:07.535Z"
   },
   {
    "duration": 10,
    "start_time": "2022-03-26T17:52:07.565Z"
   },
   {
    "duration": 16,
    "start_time": "2022-03-26T17:52:07.576Z"
   },
   {
    "duration": 13,
    "start_time": "2022-03-26T17:52:07.594Z"
   },
   {
    "duration": 19,
    "start_time": "2022-03-26T17:52:07.609Z"
   },
   {
    "duration": 22,
    "start_time": "2022-03-26T17:52:07.629Z"
   },
   {
    "duration": 22,
    "start_time": "2022-03-26T17:52:07.652Z"
   },
   {
    "duration": 16,
    "start_time": "2022-03-26T17:52:07.676Z"
   },
   {
    "duration": 9,
    "start_time": "2022-03-26T17:52:07.693Z"
   },
   {
    "duration": 14,
    "start_time": "2022-03-26T17:52:07.704Z"
   },
   {
    "duration": 20,
    "start_time": "2022-03-26T17:52:07.719Z"
   },
   {
    "duration": 11,
    "start_time": "2022-03-26T17:52:07.740Z"
   },
   {
    "duration": 23,
    "start_time": "2022-03-26T17:52:07.752Z"
   },
   {
    "duration": 21,
    "start_time": "2022-03-26T17:52:07.776Z"
   },
   {
    "duration": 28,
    "start_time": "2022-03-26T17:52:07.801Z"
   },
   {
    "duration": 14,
    "start_time": "2022-03-26T17:52:07.831Z"
   },
   {
    "duration": 24,
    "start_time": "2022-03-26T17:52:07.846Z"
   },
   {
    "duration": 24,
    "start_time": "2022-03-26T17:52:07.871Z"
   },
   {
    "duration": 12,
    "start_time": "2022-03-26T17:52:07.896Z"
   },
   {
    "duration": 29,
    "start_time": "2022-03-26T17:52:07.910Z"
   },
   {
    "duration": 31,
    "start_time": "2022-03-26T17:52:07.941Z"
   },
   {
    "duration": 19,
    "start_time": "2022-03-26T17:52:07.973Z"
   },
   {
    "duration": 9,
    "start_time": "2022-03-26T17:52:07.993Z"
   },
   {
    "duration": 24,
    "start_time": "2022-03-26T17:52:08.004Z"
   },
   {
    "duration": 11,
    "start_time": "2022-03-26T17:52:08.030Z"
   },
   {
    "duration": 26,
    "start_time": "2022-03-26T17:52:08.043Z"
   },
   {
    "duration": 125,
    "start_time": "2022-03-26T17:52:08.070Z"
   },
   {
    "duration": 0,
    "start_time": "2022-03-26T17:52:08.197Z"
   },
   {
    "duration": 0,
    "start_time": "2022-03-26T17:52:08.198Z"
   },
   {
    "duration": 0,
    "start_time": "2022-03-26T17:52:08.199Z"
   },
   {
    "duration": 0,
    "start_time": "2022-03-26T17:52:08.200Z"
   },
   {
    "duration": 0,
    "start_time": "2022-03-26T17:52:08.201Z"
   },
   {
    "duration": 0,
    "start_time": "2022-03-26T17:52:08.202Z"
   },
   {
    "duration": 0,
    "start_time": "2022-03-26T17:52:08.203Z"
   },
   {
    "duration": 0,
    "start_time": "2022-03-26T17:52:08.204Z"
   },
   {
    "duration": 0,
    "start_time": "2022-03-26T17:52:08.205Z"
   },
   {
    "duration": 0,
    "start_time": "2022-03-26T17:52:08.206Z"
   },
   {
    "duration": 0,
    "start_time": "2022-03-26T17:52:08.207Z"
   },
   {
    "duration": 0,
    "start_time": "2022-03-26T17:52:08.208Z"
   },
   {
    "duration": 0,
    "start_time": "2022-03-26T17:52:08.209Z"
   },
   {
    "duration": 0,
    "start_time": "2022-03-26T17:52:08.210Z"
   },
   {
    "duration": 110,
    "start_time": "2022-03-26T17:52:52.204Z"
   },
   {
    "duration": 31,
    "start_time": "2022-03-26T17:53:12.932Z"
   },
   {
    "duration": 29,
    "start_time": "2022-03-26T17:53:22.293Z"
   },
   {
    "duration": 22,
    "start_time": "2022-03-26T17:53:33.084Z"
   },
   {
    "duration": 31,
    "start_time": "2022-03-26T17:53:43.347Z"
   },
   {
    "duration": 98,
    "start_time": "2022-03-26T17:53:47.525Z"
   },
   {
    "duration": 139,
    "start_time": "2022-03-26T17:54:30.429Z"
   },
   {
    "duration": 31,
    "start_time": "2022-03-26T17:55:14.563Z"
   },
   {
    "duration": 130,
    "start_time": "2022-03-26T17:55:28.988Z"
   },
   {
    "duration": 131,
    "start_time": "2022-03-26T17:55:34.068Z"
   },
   {
    "duration": 99,
    "start_time": "2022-03-26T17:55:37.715Z"
   },
   {
    "duration": 129,
    "start_time": "2022-03-26T17:56:09.274Z"
   },
   {
    "duration": 119,
    "start_time": "2022-03-26T17:56:15.155Z"
   },
   {
    "duration": 120,
    "start_time": "2022-03-26T17:56:28.787Z"
   },
   {
    "duration": 182,
    "start_time": "2022-03-26T17:56:40.818Z"
   },
   {
    "duration": 111,
    "start_time": "2022-03-26T17:56:45.002Z"
   },
   {
    "duration": 113,
    "start_time": "2022-03-26T17:56:52.243Z"
   },
   {
    "duration": 117,
    "start_time": "2022-03-26T17:56:58.946Z"
   },
   {
    "duration": 116,
    "start_time": "2022-03-26T17:57:10.418Z"
   },
   {
    "duration": 117,
    "start_time": "2022-03-26T17:57:14.730Z"
   },
   {
    "duration": 102,
    "start_time": "2022-03-26T17:57:54.907Z"
   },
   {
    "duration": 27,
    "start_time": "2022-03-26T17:58:18.906Z"
   },
   {
    "duration": 114,
    "start_time": "2022-03-26T17:58:23.465Z"
   },
   {
    "duration": 128,
    "start_time": "2022-03-26T17:58:31.649Z"
   },
   {
    "duration": 95,
    "start_time": "2022-03-26T17:58:51.689Z"
   },
   {
    "duration": 32,
    "start_time": "2022-03-26T17:59:08.025Z"
   },
   {
    "duration": 135,
    "start_time": "2022-03-26T17:59:13.657Z"
   },
   {
    "duration": 123,
    "start_time": "2022-03-26T17:59:43.689Z"
   },
   {
    "duration": 113,
    "start_time": "2022-03-26T17:59:57.201Z"
   },
   {
    "duration": 28,
    "start_time": "2022-03-26T18:01:09.977Z"
   },
   {
    "duration": 129,
    "start_time": "2022-03-26T18:01:21.256Z"
   },
   {
    "duration": 120,
    "start_time": "2022-03-26T18:01:47.722Z"
   },
   {
    "duration": 220,
    "start_time": "2022-03-26T18:02:09.449Z"
   },
   {
    "duration": 136,
    "start_time": "2022-03-26T18:02:20.256Z"
   },
   {
    "duration": 112,
    "start_time": "2022-03-26T18:02:32.616Z"
   },
   {
    "duration": 30,
    "start_time": "2022-03-26T18:03:19.744Z"
   },
   {
    "duration": 28,
    "start_time": "2022-03-26T18:12:00.182Z"
   },
   {
    "duration": 30,
    "start_time": "2022-03-26T18:12:15.484Z"
   },
   {
    "duration": 26,
    "start_time": "2022-03-26T18:12:24.653Z"
   },
   {
    "duration": 30,
    "start_time": "2022-03-26T18:12:28.420Z"
   },
   {
    "duration": 29,
    "start_time": "2022-03-26T18:12:44.724Z"
   },
   {
    "duration": 37,
    "start_time": "2022-03-26T18:12:53.070Z"
   },
   {
    "duration": 35,
    "start_time": "2022-03-26T18:13:09.604Z"
   },
   {
    "duration": 41,
    "start_time": "2022-03-26T18:13:34.436Z"
   },
   {
    "duration": 42,
    "start_time": "2022-03-26T18:14:01.284Z"
   },
   {
    "duration": 40,
    "start_time": "2022-03-26T18:14:13.844Z"
   },
   {
    "duration": 28,
    "start_time": "2022-03-26T18:51:12.435Z"
   },
   {
    "duration": 29,
    "start_time": "2022-03-26T18:51:55.307Z"
   },
   {
    "duration": 51,
    "start_time": "2022-03-26T18:52:35.938Z"
   },
   {
    "duration": 39,
    "start_time": "2022-03-26T18:53:13.946Z"
   },
   {
    "duration": 29,
    "start_time": "2022-03-26T18:53:18.481Z"
   },
   {
    "duration": 22,
    "start_time": "2022-03-26T18:53:20.577Z"
   },
   {
    "duration": 27,
    "start_time": "2022-03-26T18:53:23.336Z"
   },
   {
    "duration": 35,
    "start_time": "2022-03-26T18:53:43.676Z"
   },
   {
    "duration": 35,
    "start_time": "2022-03-26T18:54:15.888Z"
   },
   {
    "duration": 36,
    "start_time": "2022-03-26T18:54:27.993Z"
   },
   {
    "duration": 50,
    "start_time": "2022-03-26T18:54:38.778Z"
   },
   {
    "duration": 30,
    "start_time": "2022-03-26T18:55:17.264Z"
   },
   {
    "duration": 34,
    "start_time": "2022-03-26T18:55:26.273Z"
   },
   {
    "duration": 37,
    "start_time": "2022-03-26T18:56:25.320Z"
   },
   {
    "duration": 33,
    "start_time": "2022-03-26T18:56:34.552Z"
   },
   {
    "duration": 52,
    "start_time": "2022-03-26T19:29:25.442Z"
   },
   {
    "duration": 179,
    "start_time": "2022-03-26T19:29:59.389Z"
   },
   {
    "duration": 41,
    "start_time": "2022-03-26T19:32:18.981Z"
   },
   {
    "duration": 60,
    "start_time": "2022-03-26T19:32:28.152Z"
   },
   {
    "duration": 32,
    "start_time": "2022-03-26T19:32:34.394Z"
   },
   {
    "duration": 47,
    "start_time": "2022-03-26T19:32:44.648Z"
   },
   {
    "duration": 46,
    "start_time": "2022-03-26T19:33:00.056Z"
   },
   {
    "duration": 46,
    "start_time": "2022-03-26T19:33:54.649Z"
   },
   {
    "duration": 38,
    "start_time": "2022-03-26T19:34:00.144Z"
   },
   {
    "duration": 32,
    "start_time": "2022-03-26T19:35:21.304Z"
   },
   {
    "duration": 33,
    "start_time": "2022-03-26T19:35:44.291Z"
   },
   {
    "duration": 32,
    "start_time": "2022-03-26T19:35:56.200Z"
   },
   {
    "duration": 34,
    "start_time": "2022-03-26T19:36:02.687Z"
   },
   {
    "duration": 48,
    "start_time": "2022-03-26T19:36:18.945Z"
   },
   {
    "duration": 55,
    "start_time": "2022-03-26T19:36:24.128Z"
   },
   {
    "duration": 46,
    "start_time": "2022-03-26T19:36:46.186Z"
   },
   {
    "duration": 40,
    "start_time": "2022-03-26T19:37:41.912Z"
   },
   {
    "duration": 46,
    "start_time": "2022-03-26T19:37:57.447Z"
   },
   {
    "duration": 42,
    "start_time": "2022-03-26T19:38:08.712Z"
   },
   {
    "duration": 42,
    "start_time": "2022-03-26T19:38:12.504Z"
   },
   {
    "duration": 37,
    "start_time": "2022-03-26T19:38:40.783Z"
   },
   {
    "duration": 37,
    "start_time": "2022-03-26T19:38:51.084Z"
   },
   {
    "duration": 42,
    "start_time": "2022-03-26T19:39:11.744Z"
   },
   {
    "duration": 43,
    "start_time": "2022-03-26T19:39:41.064Z"
   },
   {
    "duration": 30,
    "start_time": "2022-03-26T19:39:59.784Z"
   },
   {
    "duration": 54,
    "start_time": "2022-03-26T19:40:26.912Z"
   },
   {
    "duration": 124,
    "start_time": "2022-03-26T19:40:45.224Z"
   },
   {
    "duration": 145,
    "start_time": "2022-03-26T19:40:57.176Z"
   },
   {
    "duration": 114,
    "start_time": "2022-03-26T19:41:06.518Z"
   },
   {
    "duration": 130,
    "start_time": "2022-03-26T19:41:16.601Z"
   },
   {
    "duration": 130,
    "start_time": "2022-03-26T19:42:12.941Z"
   },
   {
    "duration": 1096,
    "start_time": "2022-03-26T19:52:37.309Z"
   },
   {
    "duration": 82,
    "start_time": "2022-03-26T19:52:38.407Z"
   },
   {
    "duration": 17,
    "start_time": "2022-03-26T19:52:38.490Z"
   },
   {
    "duration": 9,
    "start_time": "2022-03-26T19:52:38.509Z"
   },
   {
    "duration": 14,
    "start_time": "2022-03-26T19:52:38.520Z"
   },
   {
    "duration": 36,
    "start_time": "2022-03-26T19:52:38.536Z"
   },
   {
    "duration": 12,
    "start_time": "2022-03-26T19:52:38.574Z"
   },
   {
    "duration": 10,
    "start_time": "2022-03-26T19:52:38.587Z"
   },
   {
    "duration": 5,
    "start_time": "2022-03-26T19:52:38.598Z"
   },
   {
    "duration": 13,
    "start_time": "2022-03-26T19:52:38.606Z"
   },
   {
    "duration": 5,
    "start_time": "2022-03-26T19:52:38.620Z"
   },
   {
    "duration": 5,
    "start_time": "2022-03-26T19:52:38.626Z"
   },
   {
    "duration": 39,
    "start_time": "2022-03-26T19:52:38.633Z"
   },
   {
    "duration": 10,
    "start_time": "2022-03-26T19:52:38.673Z"
   },
   {
    "duration": 11,
    "start_time": "2022-03-26T19:52:38.685Z"
   },
   {
    "duration": 10,
    "start_time": "2022-03-26T19:52:38.697Z"
   },
   {
    "duration": 8,
    "start_time": "2022-03-26T19:52:38.708Z"
   },
   {
    "duration": 14,
    "start_time": "2022-03-26T19:52:38.717Z"
   },
   {
    "duration": 39,
    "start_time": "2022-03-26T19:52:38.732Z"
   },
   {
    "duration": 5,
    "start_time": "2022-03-26T19:52:38.773Z"
   },
   {
    "duration": 7,
    "start_time": "2022-03-26T19:52:38.779Z"
   },
   {
    "duration": 7,
    "start_time": "2022-03-26T19:52:38.788Z"
   },
   {
    "duration": 7,
    "start_time": "2022-03-26T19:52:38.796Z"
   },
   {
    "duration": 5,
    "start_time": "2022-03-26T19:52:38.805Z"
   },
   {
    "duration": 18,
    "start_time": "2022-03-26T19:52:38.812Z"
   },
   {
    "duration": 48,
    "start_time": "2022-03-26T19:52:38.832Z"
   },
   {
    "duration": 27,
    "start_time": "2022-03-26T19:52:38.881Z"
   },
   {
    "duration": 14,
    "start_time": "2022-03-26T19:52:38.912Z"
   },
   {
    "duration": 10,
    "start_time": "2022-03-26T19:52:38.927Z"
   },
   {
    "duration": 38,
    "start_time": "2022-03-26T19:52:38.938Z"
   },
   {
    "duration": 12,
    "start_time": "2022-03-26T19:52:38.981Z"
   },
   {
    "duration": 9,
    "start_time": "2022-03-26T19:52:38.994Z"
   },
   {
    "duration": 17,
    "start_time": "2022-03-26T19:52:39.005Z"
   },
   {
    "duration": 6,
    "start_time": "2022-03-26T19:52:39.024Z"
   },
   {
    "duration": 8,
    "start_time": "2022-03-26T19:52:39.031Z"
   },
   {
    "duration": 38,
    "start_time": "2022-03-26T19:52:39.040Z"
   },
   {
    "duration": 5,
    "start_time": "2022-03-26T19:52:39.079Z"
   },
   {
    "duration": 19,
    "start_time": "2022-03-26T19:52:39.086Z"
   },
   {
    "duration": 147,
    "start_time": "2022-03-26T19:52:39.107Z"
   },
   {
    "duration": 33,
    "start_time": "2022-03-26T19:52:39.255Z"
   },
   {
    "duration": 2,
    "start_time": "2022-03-26T19:52:39.289Z"
   },
   {
    "duration": 23,
    "start_time": "2022-03-26T19:52:39.293Z"
   },
   {
    "duration": 12,
    "start_time": "2022-03-26T19:52:39.317Z"
   },
   {
    "duration": 57,
    "start_time": "2022-03-26T19:52:39.330Z"
   },
   {
    "duration": 8,
    "start_time": "2022-03-26T19:52:39.389Z"
   },
   {
    "duration": 112,
    "start_time": "2022-03-26T19:52:39.399Z"
   },
   {
    "duration": 19,
    "start_time": "2022-03-26T19:52:39.513Z"
   },
   {
    "duration": 145,
    "start_time": "2022-03-26T19:52:39.533Z"
   },
   {
    "duration": 23,
    "start_time": "2022-03-26T19:52:39.680Z"
   },
   {
    "duration": 17,
    "start_time": "2022-03-26T19:52:39.705Z"
   },
   {
    "duration": 5,
    "start_time": "2022-03-26T19:52:39.723Z"
   },
   {
    "duration": 155,
    "start_time": "2022-03-26T19:52:39.730Z"
   },
   {
    "duration": 30,
    "start_time": "2022-03-26T20:05:56.752Z"
   },
   {
    "duration": 31,
    "start_time": "2022-03-26T20:07:01.911Z"
   },
   {
    "duration": 8,
    "start_time": "2022-03-26T20:07:16.623Z"
   },
   {
    "duration": 98,
    "start_time": "2022-03-26T20:07:38.207Z"
   },
   {
    "duration": 9,
    "start_time": "2022-03-26T20:07:45.804Z"
   },
   {
    "duration": 9,
    "start_time": "2022-03-26T20:08:00.207Z"
   },
   {
    "duration": 10,
    "start_time": "2022-03-26T20:08:03.126Z"
   },
   {
    "duration": 20,
    "start_time": "2022-03-26T20:09:36.383Z"
   },
   {
    "duration": 13,
    "start_time": "2022-03-26T20:12:03.228Z"
   },
   {
    "duration": 7,
    "start_time": "2022-03-26T20:12:17.406Z"
   },
   {
    "duration": 11,
    "start_time": "2022-03-26T20:12:43.692Z"
   },
   {
    "duration": 26,
    "start_time": "2022-03-26T20:13:07.331Z"
   },
   {
    "duration": 25,
    "start_time": "2022-03-26T20:13:26.451Z"
   },
   {
    "duration": 23,
    "start_time": "2022-03-26T20:14:34.716Z"
   },
   {
    "duration": 127,
    "start_time": "2022-03-26T20:14:48.339Z"
   },
   {
    "duration": 110,
    "start_time": "2022-03-26T20:14:57.100Z"
   },
   {
    "duration": 17,
    "start_time": "2022-03-26T20:16:03.717Z"
   },
   {
    "duration": 117,
    "start_time": "2022-03-26T20:16:10.731Z"
   },
   {
    "duration": 116,
    "start_time": "2022-03-26T20:18:19.593Z"
   },
   {
    "duration": 3,
    "start_time": "2022-03-26T20:30:23.177Z"
   },
   {
    "duration": 28,
    "start_time": "2022-03-26T20:30:25.694Z"
   },
   {
    "duration": 34,
    "start_time": "2022-03-26T20:30:31.407Z"
   },
   {
    "duration": 14,
    "start_time": "2022-03-26T20:33:30.279Z"
   },
   {
    "duration": 88,
    "start_time": "2022-03-26T20:33:39.215Z"
   },
   {
    "duration": 9,
    "start_time": "2022-03-26T20:33:56.383Z"
   },
   {
    "duration": 174,
    "start_time": "2022-03-26T20:34:01.039Z"
   },
   {
    "duration": 9,
    "start_time": "2022-03-26T20:53:36.138Z"
   },
   {
    "duration": 29,
    "start_time": "2022-03-26T20:53:48.300Z"
   },
   {
    "duration": 101,
    "start_time": "2022-03-26T20:58:09.785Z"
   },
   {
    "duration": 103,
    "start_time": "2022-03-26T20:58:19.411Z"
   },
   {
    "duration": 151,
    "start_time": "2022-03-26T21:06:54.476Z"
   },
   {
    "duration": 22,
    "start_time": "2022-03-26T21:07:05.726Z"
   },
   {
    "duration": 25,
    "start_time": "2022-03-26T21:07:15.476Z"
   },
   {
    "duration": 294,
    "start_time": "2022-03-26T21:07:21.376Z"
   },
   {
    "duration": 328,
    "start_time": "2022-03-26T21:07:38.719Z"
   },
   {
    "duration": 303,
    "start_time": "2022-03-26T21:08:47.336Z"
   },
   {
    "duration": 18,
    "start_time": "2022-03-26T21:08:59.321Z"
   },
   {
    "duration": 322,
    "start_time": "2022-03-26T21:09:17.117Z"
   },
   {
    "duration": 309,
    "start_time": "2022-03-26T21:09:58.188Z"
   },
   {
    "duration": 24,
    "start_time": "2022-03-26T21:10:03.583Z"
   },
   {
    "duration": 331,
    "start_time": "2022-03-26T21:10:14.452Z"
   },
   {
    "duration": 39,
    "start_time": "2022-03-26T21:10:53.256Z"
   },
   {
    "duration": 37,
    "start_time": "2022-03-26T21:11:33.087Z"
   },
   {
    "duration": 406,
    "start_time": "2022-03-26T21:12:01.408Z"
   },
   {
    "duration": 345,
    "start_time": "2022-03-26T21:12:07.177Z"
   },
   {
    "duration": 504,
    "start_time": "2022-03-26T21:19:09.700Z"
   },
   {
    "duration": 36,
    "start_time": "2022-03-26T21:20:41.110Z"
   },
   {
    "duration": 376,
    "start_time": "2022-03-26T21:21:04.738Z"
   },
   {
    "duration": 349,
    "start_time": "2022-03-26T21:21:16.260Z"
   },
   {
    "duration": 306,
    "start_time": "2022-03-26T21:24:59.461Z"
   },
   {
    "duration": 16,
    "start_time": "2022-03-26T21:35:07.282Z"
   },
   {
    "duration": 122,
    "start_time": "2022-03-26T21:35:20.545Z"
   },
   {
    "duration": 28,
    "start_time": "2022-03-26T21:36:41.432Z"
   },
   {
    "duration": 31,
    "start_time": "2022-03-26T21:37:56.985Z"
   },
   {
    "duration": 27,
    "start_time": "2022-03-26T21:38:54.576Z"
   },
   {
    "duration": 35,
    "start_time": "2022-03-26T21:39:03.927Z"
   },
   {
    "duration": 336,
    "start_time": "2022-03-26T21:39:17.344Z"
   },
   {
    "duration": 323,
    "start_time": "2022-03-26T21:39:38.581Z"
   },
   {
    "duration": 311,
    "start_time": "2022-03-26T21:42:46.861Z"
   },
   {
    "duration": 118,
    "start_time": "2022-03-26T21:43:35.614Z"
   },
   {
    "duration": 1208,
    "start_time": "2022-03-26T21:43:41.409Z"
   },
   {
    "duration": 74,
    "start_time": "2022-03-26T21:43:42.619Z"
   },
   {
    "duration": 15,
    "start_time": "2022-03-26T21:43:42.695Z"
   },
   {
    "duration": 10,
    "start_time": "2022-03-26T21:43:42.712Z"
   },
   {
    "duration": 14,
    "start_time": "2022-03-26T21:43:42.723Z"
   },
   {
    "duration": 3,
    "start_time": "2022-03-26T21:43:42.738Z"
   },
   {
    "duration": 26,
    "start_time": "2022-03-26T21:43:42.742Z"
   },
   {
    "duration": 26,
    "start_time": "2022-03-26T21:43:42.770Z"
   },
   {
    "duration": 15,
    "start_time": "2022-03-26T21:43:42.799Z"
   },
   {
    "duration": 17,
    "start_time": "2022-03-26T21:43:42.817Z"
   },
   {
    "duration": 4,
    "start_time": "2022-03-26T21:43:42.836Z"
   },
   {
    "duration": 13,
    "start_time": "2022-03-26T21:43:42.842Z"
   },
   {
    "duration": 34,
    "start_time": "2022-03-26T21:43:42.856Z"
   },
   {
    "duration": 15,
    "start_time": "2022-03-26T21:43:42.892Z"
   },
   {
    "duration": 13,
    "start_time": "2022-03-26T21:43:42.909Z"
   },
   {
    "duration": 15,
    "start_time": "2022-03-26T21:43:42.924Z"
   },
   {
    "duration": 14,
    "start_time": "2022-03-26T21:43:42.941Z"
   },
   {
    "duration": 18,
    "start_time": "2022-03-26T21:43:42.956Z"
   },
   {
    "duration": 14,
    "start_time": "2022-03-26T21:43:42.976Z"
   },
   {
    "duration": 4,
    "start_time": "2022-03-26T21:43:42.991Z"
   },
   {
    "duration": 10,
    "start_time": "2022-03-26T21:43:42.996Z"
   },
   {
    "duration": 8,
    "start_time": "2022-03-26T21:43:43.007Z"
   },
   {
    "duration": 9,
    "start_time": "2022-03-26T21:43:43.017Z"
   },
   {
    "duration": 12,
    "start_time": "2022-03-26T21:43:43.027Z"
   },
   {
    "duration": 39,
    "start_time": "2022-03-26T21:43:43.041Z"
   },
   {
    "duration": 22,
    "start_time": "2022-03-26T21:43:43.082Z"
   },
   {
    "duration": 30,
    "start_time": "2022-03-26T21:43:43.106Z"
   },
   {
    "duration": 34,
    "start_time": "2022-03-26T21:43:43.140Z"
   },
   {
    "duration": 13,
    "start_time": "2022-03-26T21:43:43.176Z"
   },
   {
    "duration": 12,
    "start_time": "2022-03-26T21:43:43.191Z"
   },
   {
    "duration": 13,
    "start_time": "2022-03-26T21:43:43.204Z"
   },
   {
    "duration": 4,
    "start_time": "2022-03-26T21:43:43.219Z"
   },
   {
    "duration": 51,
    "start_time": "2022-03-26T21:43:43.224Z"
   },
   {
    "duration": 9,
    "start_time": "2022-03-26T21:43:43.277Z"
   },
   {
    "duration": 9,
    "start_time": "2022-03-26T21:43:43.288Z"
   },
   {
    "duration": 9,
    "start_time": "2022-03-26T21:43:43.298Z"
   },
   {
    "duration": 3,
    "start_time": "2022-03-26T21:43:43.309Z"
   },
   {
    "duration": 20,
    "start_time": "2022-03-26T21:43:43.314Z"
   },
   {
    "duration": 198,
    "start_time": "2022-03-26T21:43:43.336Z"
   },
   {
    "duration": 36,
    "start_time": "2022-03-26T21:43:43.536Z"
   },
   {
    "duration": 130,
    "start_time": "2022-03-26T21:43:43.576Z"
   },
   {
    "duration": 346,
    "start_time": "2022-03-26T21:43:43.708Z"
   },
   {
    "duration": 31,
    "start_time": "2022-03-26T21:43:44.062Z"
   },
   {
    "duration": 111,
    "start_time": "2022-03-26T21:43:44.095Z"
   },
   {
    "duration": 30,
    "start_time": "2022-03-26T21:43:44.208Z"
   },
   {
    "duration": 138,
    "start_time": "2022-03-26T21:43:44.239Z"
   },
   {
    "duration": 348,
    "start_time": "2022-03-26T21:43:44.379Z"
   },
   {
    "duration": 347,
    "start_time": "2022-03-26T21:52:44.984Z"
   },
   {
    "duration": 153,
    "start_time": "2022-03-26T21:53:22.286Z"
   },
   {
    "duration": 61,
    "start_time": "2022-03-26T21:54:40.071Z"
   },
   {
    "duration": 339,
    "start_time": "2022-03-26T21:54:57.702Z"
   },
   {
    "duration": 365,
    "start_time": "2022-03-26T21:55:33.557Z"
   },
   {
    "duration": 23,
    "start_time": "2022-03-26T21:58:23.220Z"
   },
   {
    "duration": 397,
    "start_time": "2022-03-26T21:58:25.156Z"
   },
   {
    "duration": 36,
    "start_time": "2022-03-26T21:58:26.563Z"
   },
   {
    "duration": 1129,
    "start_time": "2022-03-26T22:09:14.415Z"
   },
   {
    "duration": 81,
    "start_time": "2022-03-26T22:09:15.546Z"
   },
   {
    "duration": 15,
    "start_time": "2022-03-26T22:09:15.629Z"
   },
   {
    "duration": 22,
    "start_time": "2022-03-26T22:09:15.645Z"
   },
   {
    "duration": 14,
    "start_time": "2022-03-26T22:09:15.669Z"
   },
   {
    "duration": 5,
    "start_time": "2022-03-26T22:09:15.684Z"
   },
   {
    "duration": 8,
    "start_time": "2022-03-26T22:09:15.691Z"
   },
   {
    "duration": 11,
    "start_time": "2022-03-26T22:09:15.700Z"
   },
   {
    "duration": 9,
    "start_time": "2022-03-26T22:09:15.713Z"
   },
   {
    "duration": 13,
    "start_time": "2022-03-26T22:09:15.725Z"
   },
   {
    "duration": 25,
    "start_time": "2022-03-26T22:09:15.739Z"
   },
   {
    "duration": 18,
    "start_time": "2022-03-26T22:09:15.765Z"
   },
   {
    "duration": 14,
    "start_time": "2022-03-26T22:09:15.784Z"
   },
   {
    "duration": 7,
    "start_time": "2022-03-26T22:09:15.799Z"
   },
   {
    "duration": 6,
    "start_time": "2022-03-26T22:09:15.808Z"
   },
   {
    "duration": 10,
    "start_time": "2022-03-26T22:09:15.815Z"
   },
   {
    "duration": 7,
    "start_time": "2022-03-26T22:09:15.826Z"
   },
   {
    "duration": 39,
    "start_time": "2022-03-26T22:09:15.834Z"
   },
   {
    "duration": 26,
    "start_time": "2022-03-26T22:09:15.874Z"
   },
   {
    "duration": 4,
    "start_time": "2022-03-26T22:09:15.902Z"
   },
   {
    "duration": 12,
    "start_time": "2022-03-26T22:09:15.908Z"
   },
   {
    "duration": 17,
    "start_time": "2022-03-26T22:09:15.921Z"
   },
   {
    "duration": 8,
    "start_time": "2022-03-26T22:09:15.939Z"
   },
   {
    "duration": 8,
    "start_time": "2022-03-26T22:09:15.948Z"
   },
   {
    "duration": 38,
    "start_time": "2022-03-26T22:09:15.958Z"
   },
   {
    "duration": 22,
    "start_time": "2022-03-26T22:09:15.998Z"
   },
   {
    "duration": 31,
    "start_time": "2022-03-26T22:09:16.022Z"
   },
   {
    "duration": 28,
    "start_time": "2022-03-26T22:09:16.056Z"
   },
   {
    "duration": 11,
    "start_time": "2022-03-26T22:09:16.086Z"
   },
   {
    "duration": 10,
    "start_time": "2022-03-26T22:09:16.099Z"
   },
   {
    "duration": 10,
    "start_time": "2022-03-26T22:09:16.110Z"
   },
   {
    "duration": 4,
    "start_time": "2022-03-26T22:09:16.121Z"
   },
   {
    "duration": 42,
    "start_time": "2022-03-26T22:09:16.126Z"
   },
   {
    "duration": 8,
    "start_time": "2022-03-26T22:09:16.171Z"
   },
   {
    "duration": 7,
    "start_time": "2022-03-26T22:09:16.181Z"
   },
   {
    "duration": 7,
    "start_time": "2022-03-26T22:09:16.190Z"
   },
   {
    "duration": 2,
    "start_time": "2022-03-26T22:09:16.199Z"
   },
   {
    "duration": 20,
    "start_time": "2022-03-26T22:09:16.202Z"
   },
   {
    "duration": 161,
    "start_time": "2022-03-26T22:09:16.223Z"
   },
   {
    "duration": 34,
    "start_time": "2022-03-26T22:09:16.386Z"
   },
   {
    "duration": 161,
    "start_time": "2022-03-26T22:09:16.422Z"
   },
   {
    "duration": 33,
    "start_time": "2022-03-26T22:09:16.585Z"
   },
   {
    "duration": 20,
    "start_time": "2022-03-26T22:09:16.619Z"
   },
   {
    "duration": 309,
    "start_time": "2022-03-26T22:09:16.641Z"
   },
   {
    "duration": 37,
    "start_time": "2022-03-26T22:09:16.952Z"
   },
   {
    "duration": 112,
    "start_time": "2022-03-26T22:09:16.990Z"
   },
   {
    "duration": 27,
    "start_time": "2022-03-26T22:09:17.104Z"
   },
   {
    "duration": 113,
    "start_time": "2022-03-26T22:09:17.132Z"
   }
  ],
  "kernelspec": {
   "display_name": "Python 3 (ipykernel)",
   "language": "python",
   "name": "python3"
  },
  "language_info": {
   "codemirror_mode": {
    "name": "ipython",
    "version": 3
   },
   "file_extension": ".py",
   "mimetype": "text/x-python",
   "name": "python",
   "nbconvert_exporter": "python",
   "pygments_lexer": "ipython3",
   "version": "3.9.12"
  },
  "toc": {
   "base_numbering": 1,
   "nav_menu": {},
   "number_sections": false,
   "sideBar": true,
   "skip_h1_title": false,
   "title_cell": "Table of Contents",
   "title_sidebar": "Contents",
   "toc_cell": false,
   "toc_position": {
    "height": "calc(100% - 180px)",
    "left": "10px",
    "top": "150px",
    "width": "398.608px"
   },
   "toc_section_display": true,
   "toc_window_display": false
  }
 },
 "nbformat": 4,
 "nbformat_minor": 5
}
