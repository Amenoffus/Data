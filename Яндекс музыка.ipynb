{
 "cells": [
  {
   "cell_type": "markdown",
   "metadata": {},
   "source": [
    "<div style=\"border:solid green 2px; padding: 20px\"> \n",
    "    \n",
    "**Комментарий ревьюера**\n",
    "\n",
    "Привет! Меня зовут Сысоева Вера.\n",
    "    \n",
    "Далее в файле мои комментарии ты сможешь найти в ячейках, аналогичных данной ( если рамки комментария зелёные и отмечены **#ок** - всё сделано правильно; жёлтые и отмечены **#можно лучше** - есть замечания, но не критично; красные с пометкой **#ошибка** - нужно переделать). Не удаляй эти комментарии и постарайся учесть их в ходе выполнения проекта.\n",
    "    \n",
    "Я буду поддерживать версионность комментариев, и при следующих итерациях комментарии будут выделены, как \"Комментраии ревьюера - 2 (3 и.т.д.)\"\n",
    "    \n",
    "Если у тебя есть замечания, возражения и вопросы, ты можешь писать свои комментарии, по возможности выделяй их так же цветом (например, синим), чтоб их можно было легко отделить от текста проекта. \n",
    "    \n",
    "Кстати, предлагаю сразу общаться на \"ты\".\n",
    "    \n",
    "Увидев у тебя ошибку, в первый раз я лишь укажу на ее наличие и дам тебе возможность самостоятельно найти и исправить ее. На реальной работе твой начальник будет поступать так же, а я пытаюсь подготовить тебя именно к работе аналитиком. Но если ты пока не справишься с такой задачей - при следующей проверке я дам более точную подсказку.\n",
    "    \n",
    "</div>"
   ]
  },
  {
   "cell_type": "markdown",
   "metadata": {
    "id": "E0vqbgi9ay0H"
   },
   "source": [
    "# Яндекс.Музыка"
   ]
  },
  {
   "cell_type": "markdown",
   "metadata": {
    "id": "VUC88oWjTJw2"
   },
   "source": [
    "Сравнение Москвы и Петербурга окружено мифами. Например:\n",
    " * Москва — мегаполис, подчинённый жёсткому ритму рабочей недели;\n",
    " * Петербург — культурная столица, со своими вкусами.\n",
    "\n",
    "На данных Яндекс.Музыки вы сравните поведение пользователей двух столиц.\n",
    "\n",
    "**Цель исследования** — проверьте три гипотезы:\n",
    "1. Активность пользовате\n",
    "лей зависит от дня недели. Причём в Москве и Петербурге это проявляется по-разному.\n",
    "2. В понедельник утром в Москве преобладают одни жанры, а в Петербурге — другие. Так же и вечером пятницы преобладают разные жанры — в зависимости от города. \n",
    "3. Москва и Петербург предпочитают разные жанры музыки. В Москве чаще слушают поп-музыку, в Петербурге — русский рэп.\n",
    "\n",
    "**Ход исследования**\n",
    "\n",
    "Данные о поведении пользователей вы получите из файла `yandex_music_project.csv`. О качестве данных ничего не известно. Поэтому перед проверкой гипотез понадобится обзор данных. \n",
    "\n",
    "Вы проверите данные на ошибки и оцените их влияние на исследование. Затем, на этапе предобработки вы поищете возможность исправить самые критичные ошибки данных.\n",
    " \n",
    "Таким образом, исследование пройдёт в три этапа:\n",
    " 1. Обзор данных.\n",
    " 2. Предобработка данных.\n",
    " 3. Проверка гипотез.\n",
    "\n"
   ]
  },
  {
   "cell_type": "markdown",
   "metadata": {
    "id": "Ml1hmfXC_Zcs"
   },
   "source": [
    "## Обзор данных\n",
    "\n",
    "Составьте первое представление о данных Яндекс.Музыки.\n",
    "\n",
    "\n"
   ]
  },
  {
   "cell_type": "markdown",
   "metadata": {
    "id": "57eAOGIz_Zcs"
   },
   "source": [
    "Основной инструмент аналитика — `pandas`. Импортируйте эту библиотеку."
   ]
  },
  {
   "cell_type": "code",
   "execution_count": 1,
   "metadata": {
    "id": "AXN7PHPN_Zcs"
   },
   "outputs": [],
   "source": [
    "import pandas as pd # импорт библиотеки pandas"
   ]
  },
  {
   "cell_type": "markdown",
   "metadata": {
    "id": "SG23P8tt_Zcs"
   },
   "source": [
    "Прочитайте файл `yandex_music_project.csv` из папки `/datasets` и сохраните его в переменной `df`:"
   ]
  },
  {
   "cell_type": "code",
   "execution_count": 2,
   "metadata": {
    "id": "fFVu7vqh_Zct"
   },
   "outputs": [],
   "source": [
    "df = pd.read_csv('/datasets/yandex_music_project.csv') # чтение файла с данными и сохранение в df"
   ]
  },
  {
   "cell_type": "markdown",
   "metadata": {},
   "source": [
    "<div style=\"border:solid green 2px; padding: 20px\"> \n",
    "    \n",
    "**Комментарий ревьюера**\n",
    "\n",
    "**#ок**\n",
    "\n",
    "Отлично, все верно подгружено. \n",
    "    \n",
    "Также при работе с проектами тебе может понадобится работать на своей машине локально. Но в итоге сдать его можно только с сервера. Чтобы данные подгружались и локально и глобально можно использовать конструкцию try-except\n",
    "\n",
    "Также в таких случаях стоит применять библиотеку ``os``:\n",
    "\n",
    "    import os\n",
    "\n",
    "    pth1 = '/folder_1/data.csv' # Локальный путь\n",
    "    pth2 = '/folder_2/data.csv' # Серверный путь\n",
    "    \n",
    "    if os.path.exists(pth1):\n",
    "        data = pd.read_csv(pth1)\n",
    "    elif os.path.exists(pth2):\n",
    "        data = pd.read_csv(pth2)\n",
    "    else:\n",
    "        print('Something is wrong)  \n",
    "    \n",
    "Т.е. программа пытается подгрузить файл локально, и если не удается, то подгружает с сервера, если и это не удается, то пишет об ошибке\n",
    "    \n",
    "</div>"
   ]
  },
  {
   "cell_type": "markdown",
   "metadata": {
    "id": "rDoOMd3uTqnZ"
   },
   "source": [
    "Выведите на экран первые десять строк таблицы:"
   ]
  },
  {
   "cell_type": "code",
   "execution_count": 3,
   "metadata": {
    "id": "oWTVX3gW_Zct"
   },
   "outputs": [
    {
     "data": {
      "text/html": [
       "<div>\n",
       "<style scoped>\n",
       "    .dataframe tbody tr th:only-of-type {\n",
       "        vertical-align: middle;\n",
       "    }\n",
       "\n",
       "    .dataframe tbody tr th {\n",
       "        vertical-align: top;\n",
       "    }\n",
       "\n",
       "    .dataframe thead th {\n",
       "        text-align: right;\n",
       "    }\n",
       "</style>\n",
       "<table border=\"1\" class=\"dataframe\">\n",
       "  <thead>\n",
       "    <tr style=\"text-align: right;\">\n",
       "      <th></th>\n",
       "      <th>userID</th>\n",
       "      <th>Track</th>\n",
       "      <th>artist</th>\n",
       "      <th>genre</th>\n",
       "      <th>City</th>\n",
       "      <th>time</th>\n",
       "      <th>Day</th>\n",
       "    </tr>\n",
       "  </thead>\n",
       "  <tbody>\n",
       "    <tr>\n",
       "      <td>0</td>\n",
       "      <td>FFB692EC</td>\n",
       "      <td>Kamigata To Boots</td>\n",
       "      <td>The Mass Missile</td>\n",
       "      <td>rock</td>\n",
       "      <td>Saint-Petersburg</td>\n",
       "      <td>20:28:33</td>\n",
       "      <td>Wednesday</td>\n",
       "    </tr>\n",
       "    <tr>\n",
       "      <td>1</td>\n",
       "      <td>55204538</td>\n",
       "      <td>Delayed Because of Accident</td>\n",
       "      <td>Andreas Rönnberg</td>\n",
       "      <td>rock</td>\n",
       "      <td>Moscow</td>\n",
       "      <td>14:07:09</td>\n",
       "      <td>Friday</td>\n",
       "    </tr>\n",
       "    <tr>\n",
       "      <td>2</td>\n",
       "      <td>20EC38</td>\n",
       "      <td>Funiculì funiculà</td>\n",
       "      <td>Mario Lanza</td>\n",
       "      <td>pop</td>\n",
       "      <td>Saint-Petersburg</td>\n",
       "      <td>20:58:07</td>\n",
       "      <td>Wednesday</td>\n",
       "    </tr>\n",
       "    <tr>\n",
       "      <td>3</td>\n",
       "      <td>A3DD03C9</td>\n",
       "      <td>Dragons in the Sunset</td>\n",
       "      <td>Fire + Ice</td>\n",
       "      <td>folk</td>\n",
       "      <td>Saint-Petersburg</td>\n",
       "      <td>08:37:09</td>\n",
       "      <td>Monday</td>\n",
       "    </tr>\n",
       "    <tr>\n",
       "      <td>4</td>\n",
       "      <td>E2DC1FAE</td>\n",
       "      <td>Soul People</td>\n",
       "      <td>Space Echo</td>\n",
       "      <td>dance</td>\n",
       "      <td>Moscow</td>\n",
       "      <td>08:34:34</td>\n",
       "      <td>Monday</td>\n",
       "    </tr>\n",
       "    <tr>\n",
       "      <td>5</td>\n",
       "      <td>842029A1</td>\n",
       "      <td>Преданная</td>\n",
       "      <td>IMPERVTOR</td>\n",
       "      <td>rusrap</td>\n",
       "      <td>Saint-Petersburg</td>\n",
       "      <td>13:09:41</td>\n",
       "      <td>Friday</td>\n",
       "    </tr>\n",
       "    <tr>\n",
       "      <td>6</td>\n",
       "      <td>4CB90AA5</td>\n",
       "      <td>True</td>\n",
       "      <td>Roman Messer</td>\n",
       "      <td>dance</td>\n",
       "      <td>Moscow</td>\n",
       "      <td>13:00:07</td>\n",
       "      <td>Wednesday</td>\n",
       "    </tr>\n",
       "    <tr>\n",
       "      <td>7</td>\n",
       "      <td>F03E1C1F</td>\n",
       "      <td>Feeling This Way</td>\n",
       "      <td>Polina Griffith</td>\n",
       "      <td>dance</td>\n",
       "      <td>Moscow</td>\n",
       "      <td>20:47:49</td>\n",
       "      <td>Wednesday</td>\n",
       "    </tr>\n",
       "    <tr>\n",
       "      <td>8</td>\n",
       "      <td>8FA1D3BE</td>\n",
       "      <td>И вновь продолжается бой</td>\n",
       "      <td>NaN</td>\n",
       "      <td>ruspop</td>\n",
       "      <td>Moscow</td>\n",
       "      <td>09:17:40</td>\n",
       "      <td>Friday</td>\n",
       "    </tr>\n",
       "    <tr>\n",
       "      <td>9</td>\n",
       "      <td>E772D5C0</td>\n",
       "      <td>Pessimist</td>\n",
       "      <td>NaN</td>\n",
       "      <td>dance</td>\n",
       "      <td>Saint-Petersburg</td>\n",
       "      <td>21:20:49</td>\n",
       "      <td>Wednesday</td>\n",
       "    </tr>\n",
       "  </tbody>\n",
       "</table>\n",
       "</div>"
      ],
      "text/plain": [
       "     userID                        Track            artist   genre  \\\n",
       "0  FFB692EC            Kamigata To Boots  The Mass Missile    rock   \n",
       "1  55204538  Delayed Because of Accident  Andreas Rönnberg    rock   \n",
       "2    20EC38            Funiculì funiculà       Mario Lanza     pop   \n",
       "3  A3DD03C9        Dragons in the Sunset        Fire + Ice    folk   \n",
       "4  E2DC1FAE                  Soul People        Space Echo   dance   \n",
       "5  842029A1                    Преданная         IMPERVTOR  rusrap   \n",
       "6  4CB90AA5                         True      Roman Messer   dance   \n",
       "7  F03E1C1F             Feeling This Way   Polina Griffith   dance   \n",
       "8  8FA1D3BE     И вновь продолжается бой               NaN  ruspop   \n",
       "9  E772D5C0                    Pessimist               NaN   dance   \n",
       "\n",
       "             City        time        Day  \n",
       "0  Saint-Petersburg  20:28:33  Wednesday  \n",
       "1            Moscow  14:07:09     Friday  \n",
       "2  Saint-Petersburg  20:58:07  Wednesday  \n",
       "3  Saint-Petersburg  08:37:09     Monday  \n",
       "4            Moscow  08:34:34     Monday  \n",
       "5  Saint-Petersburg  13:09:41     Friday  \n",
       "6            Moscow  13:00:07  Wednesday  \n",
       "7            Moscow  20:47:49  Wednesday  \n",
       "8            Moscow  09:17:40     Friday  \n",
       "9  Saint-Petersburg  21:20:49  Wednesday  "
      ]
     },
     "metadata": {},
     "output_type": "display_data"
    }
   ],
   "source": [
    "display(df.head(10)) # получение первых 10 строк таблицы df"
   ]
  },
  {
   "cell_type": "markdown",
   "metadata": {},
   "source": [
    "<div style=\"border:solid green 2px; padding: 20px\"> \n",
    "    \n",
    "**Комментарий ревьюера**\n",
    "\n",
    "**#ок**\n",
    "\n",
    "Ты верно выводишь первые строки таблицы. Но `display` лишний. Последняя (она же единственная) строка ячейки выводится автоматически, можно просто `df.head(10)` написать.\n",
    "</div>"
   ]
  },
  {
   "cell_type": "markdown",
   "metadata": {
    "id": "EO73Kwic_Zct"
   },
   "source": [
    "Одной командой получить общую информацию о таблице:"
   ]
  },
  {
   "cell_type": "code",
   "execution_count": 4,
   "metadata": {
    "id": "DSf2kIb-_Zct"
   },
   "outputs": [
    {
     "name": "stdout",
     "output_type": "stream",
     "text": [
      "<class 'pandas.core.frame.DataFrame'>\n",
      "RangeIndex: 65079 entries, 0 to 65078\n",
      "Data columns (total 7 columns):\n",
      "  userID    65079 non-null object\n",
      "Track       63848 non-null object\n",
      "artist      57876 non-null object\n",
      "genre       63881 non-null object\n",
      "  City      65079 non-null object\n",
      "time        65079 non-null object\n",
      "Day         65079 non-null object\n",
      "dtypes: object(7)\n",
      "memory usage: 3.5+ MB\n"
     ]
    }
   ],
   "source": [
    "df.info() # получение общей информации о данных в таблице df"
   ]
  },
  {
   "cell_type": "markdown",
   "metadata": {
    "id": "TaQ2Iwbr_Zct"
   },
   "source": [
    "Итак, в таблице семь столбцов. Тип данных во всех столбцах — `object`.\n",
    "\n",
    "Согласно документации к данным:\n",
    "* `userID` — идентификатор пользователя;\n",
    "* `Track` — название трека;  \n",
    "* `artist` — имя исполнителя;\n",
    "* `genre` — название жанра;\n",
    "* `City` — город пользователя;\n",
    "* `time` — время начала прослушивания;\n",
    "* `Day` — день недели.\n",
    "\n",
    "В названиях колонок видны три нарушения стиля:\n",
    "1. Строчные буквы сочетаются с прописными.\n",
    "2. Встречаются пробелы.\n",
    "3. Слова не разделены подчеркиванием\".\n",
    "\n",
    "\n",
    "\n",
    "Количество значений в столбцах различается. Значит, в данных есть пропущенные значения.\n"
   ]
  },
  {
   "cell_type": "markdown",
   "metadata": {},
   "source": [
    "<div style=\"border:solid green 2px; padding: 20px\"> \n",
    "    \n",
    "**Комментарий ревьюера**\n",
    "\n",
    "**#ок**\n",
    "\n",
    "Все проблемы в названиях правильно обозначены. Более точно было бы назвать проблему с подчеркиванием отсутствием snake_case\n",
    "</div>"
   ]
  },
  {
   "cell_type": "markdown",
   "metadata": {
    "id": "MCB6-dXG_Zct"
   },
   "source": [
    "**Выводы**\n",
    "\n",
    "В каждой строке таблицы — данные о прослушанном треке. Часть колонок описывает саму композицию: название, исполнителя и жанр. Остальные данные рассказывают о пользователе: из какого он города, когда он слушал музыку. \n",
    "\n",
    "Предварительно можно утверждать, что, данных достаточно для проверки гипотез. Но встречаются пропуски в данных, а в названиях колонок — расхождения с хорошим стилем.\n",
    "\n",
    "Чтобы двигаться дальше, нужно устранить проблемы в данных."
   ]
  },
  {
   "cell_type": "markdown",
   "metadata": {
    "id": "SjYF6Ub9_Zct"
   },
   "source": [
    "## Предобработка данных\n",
    "Исправьте стиль в заголовках столбцов, исключите пропуски. Затем проверьте данные на дубликаты."
   ]
  },
  {
   "cell_type": "markdown",
   "metadata": {
    "id": "dIaKXr29_Zct"
   },
   "source": [
    "### Стиль заголовков\n",
    "Выведите на экран названия столбцов:"
   ]
  },
  {
   "cell_type": "code",
   "execution_count": 5,
   "metadata": {
    "id": "oKOTdF_Q_Zct"
   },
   "outputs": [
    {
     "data": {
      "text/plain": [
       "Index(['  userID', 'Track', 'artist', 'genre', '  City  ', 'time', 'Day'], dtype='object')"
      ]
     },
     "metadata": {},
     "output_type": "display_data"
    }
   ],
   "source": [
    "display(df.columns) # перечень названий столбцов таблицы df"
   ]
  },
  {
   "cell_type": "markdown",
   "metadata": {
    "id": "zj5534cv_Zct"
   },
   "source": [
    "Приведите названия в соответствие с хорошим стилем:\n",
    "* несколько слов в названии запишите в «змеином_регистре»,\n",
    "* все символы сделайте строчными,\n",
    "* устраните пробелы.\n",
    "\n",
    "Для этого переименуйте колонки так:\n",
    "* `'  userID'` → `'user_id'`;\n",
    "* `'Track'` → `'track'`;\n",
    "* `'  City  '` → `'city'`;\n",
    "* `'Day'` → `'day'`."
   ]
  },
  {
   "cell_type": "code",
   "execution_count": 6,
   "metadata": {
    "id": "ISlFqs5y_Zct"
   },
   "outputs": [],
   "source": [
    "# переименование столбцов\n",
    "\n",
    "df = df.rename(\n",
    "    columns={\n",
    "        '  userID': 'user_id',\n",
    "        'Track': 'track',\n",
    "        '  City  ': 'city',\n",
    "        'Day': 'day'\n",
    "        }\n",
    ")"
   ]
  },
  {
   "cell_type": "markdown",
   "metadata": {
    "id": "1dqbh00J_Zct"
   },
   "source": [
    "Проверьте результат. Для этого ещё раз выведите на экран названия столбцов:"
   ]
  },
  {
   "cell_type": "code",
   "execution_count": 7,
   "metadata": {
    "id": "d4NOAmTW_Zct"
   },
   "outputs": [
    {
     "data": {
      "text/plain": [
       "Index(['user_id', 'track', 'artist', 'genre', 'city', 'time', 'day'], dtype='object')"
      ]
     },
     "metadata": {},
     "output_type": "display_data"
    }
   ],
   "source": [
    "display(df.columns) # проверка результатов - перечень названий столбцов"
   ]
  },
  {
   "cell_type": "markdown",
   "metadata": {},
   "source": [
    "<div style=\"border:solid green 2px; padding: 20px\"> \n",
    "    \n",
    "**Комментарий ревьюера**\n",
    "\n",
    "**#ок**\n",
    "\n",
    "Хорошо, проблемы с названиями решены.\n",
    "\n",
    "`display` здесь также не нужен\n",
    "\n",
    "</div>"
   ]
  },
  {
   "cell_type": "markdown",
   "metadata": {
    "id": "5ISfbcfY_Zct"
   },
   "source": [
    "### Пропуски значений\n",
    "Сначала посчитайте, сколько в таблице пропущенных значений. Для этого достаточно двух методов `pandas`:"
   ]
  },
  {
   "cell_type": "code",
   "execution_count": 8,
   "metadata": {
    "id": "RskX29qr_Zct"
   },
   "outputs": [
    {
     "data": {
      "text/plain": [
       "user_id       0\n",
       "track      1231\n",
       "artist     7203\n",
       "genre      1198\n",
       "city          0\n",
       "time          0\n",
       "day           0\n",
       "dtype: int64"
      ]
     },
     "execution_count": 8,
     "metadata": {},
     "output_type": "execute_result"
    }
   ],
   "source": [
    "df.isna().sum() # подсчёт пропусков"
   ]
  },
  {
   "cell_type": "markdown",
   "metadata": {
    "id": "qubhgnlO_Zct"
   },
   "source": [
    "Не все пропущенные значения влияют на исследование. Так в `track` и `artist` пропуски не важны для вашей работы. Достаточно заменить их явными обозначениями.\n",
    "\n",
    "Но пропуски в `genre` могут помешать сравнению музыкальных вкусов в Москве и Санкт-Петербурге. На практике было бы правильно установить причину пропусков и восстановить данные. Такой возможности нет в учебном проекте. Придётся:\n",
    "* заполнить и эти пропуски явными обозначениями,\n",
    "* оценить, насколько они повредят расчётам. "
   ]
  },
  {
   "cell_type": "markdown",
   "metadata": {
    "id": "fSv2laPA_Zct"
   },
   "source": [
    "Замените пропущенные значения в столбцах `track`, `artist` и `genre` на строку `'unknown'`. Для этого создайте список `columns_to_replace`, переберите его элементы циклом `for` и для каждого столбца выполните замену пропущенных значений}"
   ]
  },
  {
   "cell_type": "code",
   "execution_count": 9,
   "metadata": {
    "id": "KplB5qWs_Zct"
   },
   "outputs": [],
   "source": [
    "# перебор названий столбцов в цикле и замена пропущенных значений на 'unknown'\n",
    "\n",
    "columns_to_replace = ['track', 'artist', 'genre']\n",
    "for index in columns_to_replace:\n",
    "    df[index] = df[index].fillna('unknown')"
   ]
  },
  {
   "cell_type": "markdown",
   "metadata": {
    "id": "Ilsm-MZo_Zct"
   },
   "source": [
    "Убедитесь, что в таблице не осталось пропусков. Для этого ещё раз посчитайте пропущенные значения."
   ]
  },
  {
   "cell_type": "code",
   "execution_count": 10,
   "metadata": {
    "id": "Tq4nYRX4_Zct"
   },
   "outputs": [
    {
     "data": {
      "text/plain": [
       "user_id    0\n",
       "track      0\n",
       "artist     0\n",
       "genre      0\n",
       "city       0\n",
       "time       0\n",
       "day        0\n",
       "dtype: int64"
      ]
     },
     "execution_count": 10,
     "metadata": {},
     "output_type": "execute_result"
    }
   ],
   "source": [
    "df.isna().sum() # подсчёт пропусков"
   ]
  },
  {
   "cell_type": "markdown",
   "metadata": {},
   "source": [
    "<div style=\"border:solid green 2px; padding: 20px\"> \n",
    "    \n",
    "**Комментарий ревьюера**\n",
    "\n",
    "**#ок**\n",
    "\n",
    "Отлично, все пропуски заполнены правильно, верно использован цикл\n",
    "\n",
    "</div>"
   ]
  },
  {
   "cell_type": "markdown",
   "metadata": {
    "id": "BWKRtBJ3_Zct"
   },
   "source": [
    "### Дубликаты\n",
    "Посчитайте явные дубликаты в таблице одной командой:"
   ]
  },
  {
   "cell_type": "code",
   "execution_count": 11,
   "metadata": {
    "id": "36eES_S0_Zct"
   },
   "outputs": [
    {
     "data": {
      "text/plain": [
       "3826"
      ]
     },
     "execution_count": 11,
     "metadata": {},
     "output_type": "execute_result"
    }
   ],
   "source": [
    "df.duplicated().sum() # подсчёт явных дубликатов"
   ]
  },
  {
   "cell_type": "markdown",
   "metadata": {
    "id": "Ot25h6XR_Zct"
   },
   "source": [
    "Вызовите специальный метод `pandas`, чтобы удалить явные дубликаты:"
   ]
  },
  {
   "cell_type": "code",
   "execution_count": 12,
   "metadata": {
    "id": "exFHq6tt_Zct"
   },
   "outputs": [],
   "source": [
    "df = df.drop_duplicates().reset_index(drop=True) # удаление явных дубликатов (с удалением старых индексов и формированием новых)"
   ]
  },
  {
   "cell_type": "markdown",
   "metadata": {},
   "source": [
    "<div style=\"border:solid green 2px; padding: 20px\"> \n",
    "    \n",
    "**Комментарий ревьюера**\n",
    "\n",
    "**#ок**\n",
    "\n",
    "Правильно  сделана переиндексация, молодец\n",
    "\n",
    "</div>"
   ]
  },
  {
   "cell_type": "markdown",
   "metadata": {
    "id": "Im2YwBEG_Zct"
   },
   "source": [
    "Ещё раз посчитайте явные дубликаты в таблице — убедитесь, что полностью от них избавились:"
   ]
  },
  {
   "cell_type": "code",
   "execution_count": 13,
   "metadata": {
    "id": "-8PuNWQ0_Zct"
   },
   "outputs": [
    {
     "data": {
      "text/plain": [
       "0"
      ]
     },
     "execution_count": 13,
     "metadata": {},
     "output_type": "execute_result"
    }
   ],
   "source": [
    "df.duplicated().sum() # проверка на отсутствие дубликатов"
   ]
  },
  {
   "cell_type": "markdown",
   "metadata": {},
   "source": [
    "<div style=\"border:solid green 2px; padding: 20px\"> \n",
    "    \n",
    "**Комментарий ревьюера**\n",
    "\n",
    "**#ок**\n",
    "\n",
    "Ок, все верно. Классно разобрались с дубликатами, но стоит подписывать выводимые значения не комментариями в коде, а непосредственно при выводе. Например,\n",
    "    \n",
    "\"Количество явных дубликатов: 3826\"\n",
    "\n",
    "</div>"
   ]
  },
  {
   "cell_type": "markdown",
   "metadata": {
    "id": "QlFBsxAr_Zct"
   },
   "source": [
    "Теперь избавьтесь от неявных дубликатов в колонке `genre`. Например, название одного и того же жанра может быть записано немного по-разному. Такие ошибки тоже повлияют на результат исследования."
   ]
  },
  {
   "cell_type": "markdown",
   "metadata": {
    "id": "eSjWwsOh_Zct"
   },
   "source": [
    "Выведите на экран список уникальных названий жанров, отсортированный в алфавитном порядке. Для этого:\n",
    "* извлеките нужный столбец датафрейма, \n",
    "* примените к нему метод сортировки,\n",
    "* для отсортированного столбца вызовите метод, который вернёт уникальные значения из столбца."
   ]
  },
  {
   "cell_type": "code",
   "execution_count": 14,
   "metadata": {
    "id": "JIUcqzZN_Zct"
   },
   "outputs": [
    {
     "data": {
      "text/plain": [
       "array(['acid', 'acoustic', 'action', 'adult', 'africa', 'afrikaans',\n",
       "       'alternative', 'alternativepunk', 'ambient', 'americana',\n",
       "       'animated', 'anime', 'arabesk', 'arabic', 'arena',\n",
       "       'argentinetango', 'art', 'audiobook', 'author', 'avantgarde',\n",
       "       'axé', 'baile', 'balkan', 'beats', 'bigroom', 'black', 'bluegrass',\n",
       "       'blues', 'bollywood', 'bossa', 'brazilian', 'breakbeat', 'breaks',\n",
       "       'broadway', 'cantautori', 'cantopop', 'canzone', 'caribbean',\n",
       "       'caucasian', 'celtic', 'chamber', 'chanson', 'children', 'chill',\n",
       "       'chinese', 'choral', 'christian', 'christmas', 'classical',\n",
       "       'classicmetal', 'club', 'colombian', 'comedy', 'conjazz',\n",
       "       'contemporary', 'country', 'cuban', 'dance', 'dancehall',\n",
       "       'dancepop', 'dark', 'death', 'deep', 'deutschrock', 'deutschspr',\n",
       "       'dirty', 'disco', 'dnb', 'documentary', 'downbeat', 'downtempo',\n",
       "       'drum', 'dub', 'dubstep', 'eastern', 'easy', 'electronic',\n",
       "       'electropop', 'emo', 'entehno', 'epicmetal', 'estrada', 'ethnic',\n",
       "       'eurofolk', 'european', 'experimental', 'extrememetal', 'fado',\n",
       "       'fairytail', 'film', 'fitness', 'flamenco', 'folk', 'folklore',\n",
       "       'folkmetal', 'folkrock', 'folktronica', 'forró', 'frankreich',\n",
       "       'französisch', 'french', 'funk', 'future', 'gangsta', 'garage',\n",
       "       'german', 'ghazal', 'gitarre', 'glitch', 'gospel', 'gothic',\n",
       "       'grime', 'grunge', 'gypsy', 'handsup', \"hard'n'heavy\", 'hardcore',\n",
       "       'hardstyle', 'hardtechno', 'hip', 'hip-hop', 'hiphop',\n",
       "       'historisch', 'holiday', 'hop', 'horror', 'house', 'hymn', 'idm',\n",
       "       'independent', 'indian', 'indie', 'indipop', 'industrial',\n",
       "       'inspirational', 'instrumental', 'international', 'irish', 'jam',\n",
       "       'japanese', 'jazz', 'jewish', 'jpop', 'jungle', 'k-pop',\n",
       "       'karadeniz', 'karaoke', 'kayokyoku', 'korean', 'laiko', 'latin',\n",
       "       'latino', 'leftfield', 'local', 'lounge', 'loungeelectronic',\n",
       "       'lovers', 'malaysian', 'mandopop', 'marschmusik', 'meditative',\n",
       "       'mediterranean', 'melodic', 'metal', 'metalcore', 'mexican',\n",
       "       'middle', 'minimal', 'miscellaneous', 'modern', 'mood', 'mpb',\n",
       "       'muslim', 'native', 'neoklassik', 'neue', 'new', 'newage',\n",
       "       'newwave', 'nu', 'nujazz', 'numetal', 'oceania', 'old', 'opera',\n",
       "       'orchestral', 'other', 'piano', 'podcasts', 'pop', 'popdance',\n",
       "       'popelectronic', 'popeurodance', 'poprussian', 'post',\n",
       "       'posthardcore', 'postrock', 'power', 'progmetal', 'progressive',\n",
       "       'psychedelic', 'punjabi', 'punk', 'quebecois', 'ragga', 'ram',\n",
       "       'rancheras', 'rap', 'rave', 'reggae', 'reggaeton', 'regional',\n",
       "       'relax', 'religious', 'retro', 'rhythm', 'rnb', 'rnr', 'rock',\n",
       "       'rockabilly', 'rockalternative', 'rockindie', 'rockother',\n",
       "       'romance', 'roots', 'ruspop', 'rusrap', 'rusrock', 'russian',\n",
       "       'salsa', 'samba', 'scenic', 'schlager', 'self', 'sertanejo',\n",
       "       'shanson', 'shoegazing', 'showtunes', 'singer', 'ska', 'skarock',\n",
       "       'slow', 'smooth', 'soft', 'soul', 'soulful', 'sound', 'soundtrack',\n",
       "       'southern', 'specialty', 'speech', 'spiritual', 'sport',\n",
       "       'stonerrock', 'surf', 'swing', 'synthpop', 'synthrock',\n",
       "       'sängerportrait', 'tango', 'tanzorchester', 'taraftar', 'tatar',\n",
       "       'tech', 'techno', 'teen', 'thrash', 'top', 'traditional',\n",
       "       'tradjazz', 'trance', 'tribal', 'trip', 'triphop', 'tropical',\n",
       "       'türk', 'türkçe', 'ukrrock', 'unknown', 'urban', 'uzbek',\n",
       "       'variété', 'vi', 'videogame', 'vocal', 'western', 'world',\n",
       "       'worldbeat', 'ïîï', 'электроника'], dtype=object)"
      ]
     },
     "metadata": {},
     "output_type": "display_data"
    }
   ],
   "source": [
    "display(df['genre'].sort_values().unique()) # Просмотр уникальных названий жанров"
   ]
  },
  {
   "cell_type": "markdown",
   "metadata": {},
   "source": [
    "<div style=\"border:solid green 2px; padding: 20px\"> \n",
    "    \n",
    "**Комментарий ревьюера**\n",
    "\n",
    "**#ок**\n",
    "\n",
    "Отлично, сортировка правильно сделана. Верно, что ты сделал все в одну строку, без дополнительных переменных\n",
    "</div>"
   ]
  },
  {
   "cell_type": "markdown",
   "metadata": {
    "id": "qej-Qmuo_Zct"
   },
   "source": [
    "Просмотрите список и найдите неявные дубликаты названия `hiphop`. Это могут быть названия с ошибками или альтернативные названия того же жанра.\n",
    "\n",
    "Вы увидите следующие неявные дубликаты:\n",
    "* *hip*,\n",
    "* *hop*,\n",
    "* *hip-hop*.\n",
    "\n",
    "Чтобы очистить от них таблицу, напишите функцию `replace_wrong_genres()` с двумя параметрами: \n",
    "* `wrong_genres` — список дубликатов,\n",
    "* `correct_genre` — строка с правильным значением.\n",
    "\n",
    "Функция должна исправить колонку `genre` в таблице `df`: заменить каждое значение из списка `wrong_genres` на значение из `correct_genre`."
   ]
  },
  {
   "cell_type": "code",
   "execution_count": 15,
   "metadata": {
    "id": "ErNDkmns_Zct"
   },
   "outputs": [],
   "source": [
    "# Функция для замены неявных дубликатов\n",
    "\n",
    "def replace_wrong_genres(wrong_genres, correct_genre):\n",
    "    df['genre'] = df['genre'].replace(wrong_genres, correct_genre)"
   ]
  },
  {
   "cell_type": "markdown",
   "metadata": {
    "id": "aDoBJxbA_Zct"
   },
   "source": [
    "Вызовите `replace_wrong_genres()` и передайте ей такие аргументы, чтобы она устранила неявные дубликаты: вместо `hip`, `hop` и `hip-hop` в таблице должно быть значение `hiphop`:"
   ]
  },
  {
   "cell_type": "code",
   "execution_count": 16,
   "metadata": {
    "id": "YN5i2hpmSo09"
   },
   "outputs": [],
   "source": [
    "# Устранение неявных дубликатов\n",
    "\n",
    "wrong_genres_1 = ['hip', 'hop', 'hip-hop']\n",
    "correct_genre_1 = 'hiphop'\n",
    "replace_wrong_genres(wrong_genres_1, correct_genre_1)\n",
    "\n",
    "wrong_genres_2 = 'электроника'\n",
    "correct_genre_2 = 'electronic'\n",
    "replace_wrong_genres(wrong_genres_2, correct_genre_2)\n",
    "\n",
    "# Возможно, 'dub' и dubstep', 'türk' и'türkçe' так же неявные дубликаты."
   ]
  },
  {
   "cell_type": "markdown",
   "metadata": {
    "id": "zQKF16_RG15m"
   },
   "source": [
    "Проверьте, что заменили неправильные названия:\n",
    "\n",
    "*   hip\n",
    "*   hop\n",
    "*   hip-hop\n",
    "\n",
    "Выведите отсортированный список уникальных значений столбца `genre`:"
   ]
  },
  {
   "cell_type": "code",
   "execution_count": 17,
   "metadata": {
    "id": "wvixALnFG15m"
   },
   "outputs": [
    {
     "data": {
      "text/plain": [
       "array(['acid', 'acoustic', 'action', 'adult', 'africa', 'afrikaans',\n",
       "       'alternative', 'alternativepunk', 'ambient', 'americana',\n",
       "       'animated', 'anime', 'arabesk', 'arabic', 'arena',\n",
       "       'argentinetango', 'art', 'audiobook', 'author', 'avantgarde',\n",
       "       'axé', 'baile', 'balkan', 'beats', 'bigroom', 'black', 'bluegrass',\n",
       "       'blues', 'bollywood', 'bossa', 'brazilian', 'breakbeat', 'breaks',\n",
       "       'broadway', 'cantautori', 'cantopop', 'canzone', 'caribbean',\n",
       "       'caucasian', 'celtic', 'chamber', 'chanson', 'children', 'chill',\n",
       "       'chinese', 'choral', 'christian', 'christmas', 'classical',\n",
       "       'classicmetal', 'club', 'colombian', 'comedy', 'conjazz',\n",
       "       'contemporary', 'country', 'cuban', 'dance', 'dancehall',\n",
       "       'dancepop', 'dark', 'death', 'deep', 'deutschrock', 'deutschspr',\n",
       "       'dirty', 'disco', 'dnb', 'documentary', 'downbeat', 'downtempo',\n",
       "       'drum', 'dub', 'dubstep', 'eastern', 'easy', 'electronic',\n",
       "       'electropop', 'emo', 'entehno', 'epicmetal', 'estrada', 'ethnic',\n",
       "       'eurofolk', 'european', 'experimental', 'extrememetal', 'fado',\n",
       "       'fairytail', 'film', 'fitness', 'flamenco', 'folk', 'folklore',\n",
       "       'folkmetal', 'folkrock', 'folktronica', 'forró', 'frankreich',\n",
       "       'französisch', 'french', 'funk', 'future', 'gangsta', 'garage',\n",
       "       'german', 'ghazal', 'gitarre', 'glitch', 'gospel', 'gothic',\n",
       "       'grime', 'grunge', 'gypsy', 'handsup', \"hard'n'heavy\", 'hardcore',\n",
       "       'hardstyle', 'hardtechno', 'hiphop', 'historisch', 'holiday',\n",
       "       'horror', 'house', 'hymn', 'idm', 'independent', 'indian', 'indie',\n",
       "       'indipop', 'industrial', 'inspirational', 'instrumental',\n",
       "       'international', 'irish', 'jam', 'japanese', 'jazz', 'jewish',\n",
       "       'jpop', 'jungle', 'k-pop', 'karadeniz', 'karaoke', 'kayokyoku',\n",
       "       'korean', 'laiko', 'latin', 'latino', 'leftfield', 'local',\n",
       "       'lounge', 'loungeelectronic', 'lovers', 'malaysian', 'mandopop',\n",
       "       'marschmusik', 'meditative', 'mediterranean', 'melodic', 'metal',\n",
       "       'metalcore', 'mexican', 'middle', 'minimal', 'miscellaneous',\n",
       "       'modern', 'mood', 'mpb', 'muslim', 'native', 'neoklassik', 'neue',\n",
       "       'new', 'newage', 'newwave', 'nu', 'nujazz', 'numetal', 'oceania',\n",
       "       'old', 'opera', 'orchestral', 'other', 'piano', 'podcasts', 'pop',\n",
       "       'popdance', 'popelectronic', 'popeurodance', 'poprussian', 'post',\n",
       "       'posthardcore', 'postrock', 'power', 'progmetal', 'progressive',\n",
       "       'psychedelic', 'punjabi', 'punk', 'quebecois', 'ragga', 'ram',\n",
       "       'rancheras', 'rap', 'rave', 'reggae', 'reggaeton', 'regional',\n",
       "       'relax', 'religious', 'retro', 'rhythm', 'rnb', 'rnr', 'rock',\n",
       "       'rockabilly', 'rockalternative', 'rockindie', 'rockother',\n",
       "       'romance', 'roots', 'ruspop', 'rusrap', 'rusrock', 'russian',\n",
       "       'salsa', 'samba', 'scenic', 'schlager', 'self', 'sertanejo',\n",
       "       'shanson', 'shoegazing', 'showtunes', 'singer', 'ska', 'skarock',\n",
       "       'slow', 'smooth', 'soft', 'soul', 'soulful', 'sound', 'soundtrack',\n",
       "       'southern', 'specialty', 'speech', 'spiritual', 'sport',\n",
       "       'stonerrock', 'surf', 'swing', 'synthpop', 'synthrock',\n",
       "       'sängerportrait', 'tango', 'tanzorchester', 'taraftar', 'tatar',\n",
       "       'tech', 'techno', 'teen', 'thrash', 'top', 'traditional',\n",
       "       'tradjazz', 'trance', 'tribal', 'trip', 'triphop', 'tropical',\n",
       "       'türk', 'türkçe', 'ukrrock', 'unknown', 'urban', 'uzbek',\n",
       "       'variété', 'vi', 'videogame', 'vocal', 'western', 'world',\n",
       "       'worldbeat', 'ïîï'], dtype=object)"
      ]
     },
     "metadata": {},
     "output_type": "display_data"
    }
   ],
   "source": [
    "display(df['genre'].sort_values().unique()) # Проверка на неявные дубликаты"
   ]
  },
  {
   "cell_type": "markdown",
   "metadata": {},
   "source": [
    "<div style=\"border:solid green 2px; padding: 20px\"> \n",
    "    \n",
    "**Комментарий ревьюера**\n",
    "\n",
    "**#ок**\n",
    "\n",
    "Хорошо, ошибки в написании жанров поправили. Дейтсивтельно если посмотреть список, то есть и другие неточности, здорово, что ты не ограничился заданием\n",
    "\n",
    "</div>"
   ]
  },
  {
   "cell_type": "markdown",
   "metadata": {
    "id": "jz6a9-7HQUDd"
   },
   "source": [
    "**Выводы**\n",
    "\n",
    "Предобработка обнаружила три проблемы в данных:\n",
    "\n",
    "- нарушения в стиле заголовков,\n",
    "- пропущенные значения,\n",
    "- дубликаты — явные и неявные.\n",
    "\n",
    "Вы исправили заголовки, чтобы упростить работу с таблицей. Без дубликатов исследование станет более точным.\n",
    "\n",
    "Пропущенные значения вы заменили на `'unknown'`. Ещё предстоит увидеть, не повредят ли исследованию пропуски в колонке `genre`.\n",
    "\n",
    "Теперь можно перейти к проверке гипотез. "
   ]
  },
  {
   "cell_type": "markdown",
   "metadata": {
    "id": "WttZHXH0SqKk"
   },
   "source": [
    "## Проверка гипотез"
   ]
  },
  {
   "cell_type": "markdown",
   "metadata": {
    "id": "Im936VVi_Zcu"
   },
   "source": [
    "### Сравнение поведения пользователей двух столиц"
   ]
  },
  {
   "cell_type": "markdown",
   "metadata": {
    "id": "nwt_MuaL_Zcu"
   },
   "source": [
    "Первая гипотеза утверждает, что пользователи по-разному слушают музыку в Москве и Санкт-Петербурге. Проверьте это предположение по данным о трёх днях недели — понедельнике, среде и пятнице. Для этого:\n",
    "\n",
    "* Разделите пользователей Москвы и Санкт-Петербурга\n",
    "* Сравните, сколько треков послушала каждая группа пользователей в понедельник, среду и пятницу.\n"
   ]
  },
  {
   "cell_type": "markdown",
   "metadata": {
    "id": "8Dw_YMmT_Zcu"
   },
   "source": [
    "Для тренировки сначала выполните каждый из расчётов по отдельности. \n",
    "\n",
    "Оцените активность пользователей в каждом городе. Сгруппируйте данные по городу и посчитайте прослушивания в каждой группе.\n",
    "\n"
   ]
  },
  {
   "cell_type": "code",
   "execution_count": 18,
   "metadata": {
    "id": "0_Qs96oh_Zcu"
   },
   "outputs": [
    {
     "data": {
      "text/plain": [
       "city\n",
       "Moscow              42741\n",
       "Saint-Petersburg    18512\n",
       "Name: track, dtype: int64"
      ]
     },
     "metadata": {},
     "output_type": "display_data"
    }
   ],
   "source": [
    "display(df.groupby('city')['track'].count())# Подсчёт прослушиваний в каждом городе"
   ]
  },
  {
   "cell_type": "markdown",
   "metadata": {
    "id": "dzli3w8o_Zcu"
   },
   "source": [
    "В Москве прослушиваний больше, чем в Петербурге. Из этого не следует, что московские пользователи чаще слушают музыку. Просто самих пользователей в Москве больше.\n",
    "\n",
    "Теперь сгруппируйте данные по дню недели и подсчитайте прослушивания в понедельник, среду и пятницу. Учтите, что в данных есть информация только о прослушиваниях только за эти дни.\n"
   ]
  },
  {
   "cell_type": "code",
   "execution_count": 19,
   "metadata": {
    "id": "uZMKjiJz_Zcu"
   },
   "outputs": [
    {
     "data": {
      "text/plain": [
       "day\n",
       "Friday       21840\n",
       "Monday       21354\n",
       "Wednesday    18059\n",
       "Name: track, dtype: int64"
      ]
     },
     "metadata": {},
     "output_type": "display_data"
    }
   ],
   "source": [
    "display(df.groupby('day')['track'].count())# Подсчёт прослушиваний в каждый из трёх дней"
   ]
  },
  {
   "cell_type": "markdown",
   "metadata": {},
   "source": [
    "<div style=\"border:solid green 2px; padding: 20px\"> \n",
    "    \n",
    "**Комментарий ревьюера**\n",
    "\n",
    "**#ок**\n",
    "\n",
    "Молодец, groupby верно использован\n",
    "\n",
    "</div>"
   ]
  },
  {
   "cell_type": "markdown",
   "metadata": {
    "id": "cC2tNrlL_Zcu"
   },
   "source": [
    "В среднем пользователи из двух городов менее активны по средам. Но картина может измениться, если рассмотреть каждый город в отдельности."
   ]
  },
  {
   "cell_type": "markdown",
   "metadata": {
    "id": "POzs8bGa_Zcu"
   },
   "source": [
    "Вы видели, как работает группировка по городу и по дням недели. Теперь напишите функцию, которая объединит два эти расчёта.\n",
    "\n",
    "Создайте функцию `number_tracks()`, которая посчитает прослушивания для заданного дня и города. Ей понадобятся два параметра:\n",
    "* день недели,\n",
    "* название города.\n",
    "\n",
    "В функции сохраните в переменную строки исходной таблицы, у которых значение:\n",
    "  * в колонке `day` равно параметру `day`,\n",
    "  * в колонке `city` равно параметру `city`.\n",
    "\n",
    "Для этого примените последовательную фильтрацию с логической индексацией.\n",
    "\n",
    "Затем посчитайте значения в столбце `user_id` получившейся таблицы. Результат сохраните в новую переменную. Верните эту переменную из функции."
   ]
  },
  {
   "cell_type": "code",
   "execution_count": 20,
   "metadata": {
    "id": "Nz3GdQB1_Zcu"
   },
   "outputs": [],
   "source": [
    "# <создание функции number_tracks()>\n",
    "def number_tracks(day, city):                           # Объявляется функция с двумя параметрами: day, city.\n",
    "    track_list = df[df['day'] == day]                   # В переменной track_list сохраняются те строки таблицы df, для которых \n",
    "    track_list = track_list[track_list['city'] == city] # значение в столбце 'day' равно параметру day и одновременно значение\n",
    "    track_list_count = track_list['user_id'].count()    # в столбце 'city' равно параметру city (используйте последовательную фильтрацию\n",
    "    return track_list_count                             # с помощью логической индексации).\n",
    "                                                        # В переменной track_list_count сохраняется число значений столбца 'user_id',\n",
    "                                                        # рассчитанное методом count() для таблицы track_list.\n",
    "                                                        # Функция возвращает число - значение track_list_count.\n",
    "            \n",
    "# Функция для подсчёта прослушиваний для конкретного города и дня.\n",
    "# С помощью последовательной фильтрации с логической индексацией она \n",
    "# сначала получит из исходной таблицы строки с нужным днём,\n",
    "# затем из результата отфильтрует строки с нужным городом,\n",
    "# методом count() посчитает количество значений в колонке user_id. \n",
    "# Это количество функция вернёт в качестве результата"
   ]
  },
  {
   "cell_type": "markdown",
   "metadata": {
    "id": "ytf7xFrFJQ2r"
   },
   "source": [
    "Вызовите `number_tracks()` шесть раз, меняя значение параметров — так, чтобы получить данные для каждого города в каждый из трёх дней."
   ]
  },
  {
   "cell_type": "code",
   "execution_count": 21,
   "metadata": {
    "id": "rJcRATNQ_Zcu"
   },
   "outputs": [],
   "source": [
    "mos_monday = number_tracks('Monday', 'Moscow') # количество прослушиваний в Москве по понедельникам"
   ]
  },
  {
   "cell_type": "code",
   "execution_count": 22,
   "metadata": {
    "id": "hq_ncZ5T_Zcu"
   },
   "outputs": [],
   "source": [
    "spb_monday = number_tracks('Monday', 'Saint-Petersburg') # количество прослушиваний в Санкт-Петербурге по понедельникам"
   ]
  },
  {
   "cell_type": "code",
   "execution_count": 23,
   "metadata": {
    "id": "_NTy2VPU_Zcu"
   },
   "outputs": [],
   "source": [
    "mos_wednesday = number_tracks('Wednesday', 'Moscow') # количество прослушиваний в Москве по средам"
   ]
  },
  {
   "cell_type": "code",
   "execution_count": 24,
   "metadata": {
    "id": "j2y3TAwo_Zcu"
   },
   "outputs": [],
   "source": [
    "spb_wednesday = number_tracks('Wednesday', 'Saint-Petersburg') # количество прослушиваний в Санкт-Петербурге по средам"
   ]
  },
  {
   "cell_type": "code",
   "execution_count": 25,
   "metadata": {
    "id": "vYDw5u_K_Zcu"
   },
   "outputs": [],
   "source": [
    "mos_friday = number_tracks('Friday', 'Moscow') # количество прослушиваний в Москве по пятницам"
   ]
  },
  {
   "cell_type": "code",
   "execution_count": 26,
   "metadata": {
    "id": "8_yzFtW3_Zcu"
   },
   "outputs": [],
   "source": [
    "spb_friday = number_tracks('Friday', 'Saint-Petersburg') # количество прослушиваний в Санкт-Петербурге по пятницам"
   ]
  },
  {
   "cell_type": "markdown",
   "metadata": {
    "id": "7QXffbO-_Zcu"
   },
   "source": [
    "Создайте c помощью конструктора `pd.DataFrame` таблицу, где\n",
    "* названия колонок — `['city', 'monday', 'wednesday', 'friday']`;\n",
    "* данные — результаты, которые вы получили с помощью `number_tracks`."
   ]
  },
  {
   "cell_type": "code",
   "execution_count": 27,
   "metadata": {
    "id": "APAcLpOr_Zcu"
   },
   "outputs": [
    {
     "data": {
      "text/html": [
       "<div>\n",
       "<style scoped>\n",
       "    .dataframe tbody tr th:only-of-type {\n",
       "        vertical-align: middle;\n",
       "    }\n",
       "\n",
       "    .dataframe tbody tr th {\n",
       "        vertical-align: top;\n",
       "    }\n",
       "\n",
       "    .dataframe thead th {\n",
       "        text-align: right;\n",
       "    }\n",
       "</style>\n",
       "<table border=\"1\" class=\"dataframe\">\n",
       "  <thead>\n",
       "    <tr style=\"text-align: right;\">\n",
       "      <th></th>\n",
       "      <th>city</th>\n",
       "      <th>monday</th>\n",
       "      <th>wednesday</th>\n",
       "      <th>friday</th>\n",
       "    </tr>\n",
       "  </thead>\n",
       "  <tbody>\n",
       "    <tr>\n",
       "      <td>0</td>\n",
       "      <td>Moscow</td>\n",
       "      <td>15740</td>\n",
       "      <td>11056</td>\n",
       "      <td>15945</td>\n",
       "    </tr>\n",
       "    <tr>\n",
       "      <td>1</td>\n",
       "      <td>Saint-Petersburg</td>\n",
       "      <td>5614</td>\n",
       "      <td>7003</td>\n",
       "      <td>5895</td>\n",
       "    </tr>\n",
       "  </tbody>\n",
       "</table>\n",
       "</div>"
      ],
      "text/plain": [
       "               city  monday  wednesday  friday\n",
       "0            Moscow   15740      11056   15945\n",
       "1  Saint-Petersburg    5614       7003    5895"
      ]
     },
     "execution_count": 27,
     "metadata": {},
     "output_type": "execute_result"
    }
   ],
   "source": [
    "# Таблица с результатами\n",
    "name_columns = ['city', 'monday', 'wednesday', 'friday']\n",
    "data_city =[\n",
    "    ['Moscow',mos_monday, mos_wednesday, mos_friday], \n",
    "    ['Saint-Petersburg', spb_monday, spb_wednesday, spb_friday]\n",
    "]\n",
    "pd.DataFrame(data=data_city, columns=name_columns)"
   ]
  },
  {
   "cell_type": "markdown",
   "metadata": {},
   "source": [
    "<div style=\"border:solid green 2px; padding: 20px\"> \n",
    "    \n",
    "**Комментарий ревьюера**\n",
    "\n",
    "**#ок**\n",
    "\n",
    "Хорошо, датасет правильно собран. Отлично использованы переменные                                  \n",
    "    \n",
    "</div>"
   ]
  },
  {
   "cell_type": "markdown",
   "metadata": {
    "id": "-EgPIHYu_Zcu"
   },
   "source": [
    "**Выводы**\n",
    "\n",
    "Данные показывают разницу поведения пользователей:\n",
    "\n",
    "- В Москве пик прослушиваний приходится на понедельник и пятницу, а в среду заметен спад.\n",
    "- В Петербурге, наоборот, больше слушают музыку по средам. Активность в понедельник и пятницу здесь почти в равной мере уступает среде.\n",
    "\n",
    "Значит, данные говорят в пользу первой гипотезы."
   ]
  },
  {
   "cell_type": "markdown",
   "metadata": {
    "id": "atZAxtq4_Zcu"
   },
   "source": [
    "### Музыка в начале и в конце недели"
   ]
  },
  {
   "cell_type": "markdown",
   "metadata": {
    "id": "eXrQqXFH_Zcu"
   },
   "source": [
    "Согласно второй гипотезе, утром в понедельник в Москве преобладают одни жанры, а в Петербурге — другие. Так же и вечером пятницы преобладают разные жанры — в зависимости от города."
   ]
  },
  {
   "cell_type": "markdown",
   "metadata": {
    "id": "S8UcW6Hw_Zcu"
   },
   "source": [
    "Сохраните таблицы с данными в две переменные:\n",
    "* по Москве — в `moscow_general`;\n",
    "* по Санкт-Петербургу — в `spb_general`."
   ]
  },
  {
   "cell_type": "code",
   "execution_count": 28,
   "metadata": {
    "id": "qeaFfM_P_Zcu"
   },
   "outputs": [
    {
     "data": {
      "text/html": [
       "<div>\n",
       "<style scoped>\n",
       "    .dataframe tbody tr th:only-of-type {\n",
       "        vertical-align: middle;\n",
       "    }\n",
       "\n",
       "    .dataframe tbody tr th {\n",
       "        vertical-align: top;\n",
       "    }\n",
       "\n",
       "    .dataframe thead th {\n",
       "        text-align: right;\n",
       "    }\n",
       "</style>\n",
       "<table border=\"1\" class=\"dataframe\">\n",
       "  <thead>\n",
       "    <tr style=\"text-align: right;\">\n",
       "      <th></th>\n",
       "      <th>user_id</th>\n",
       "      <th>track</th>\n",
       "      <th>artist</th>\n",
       "      <th>genre</th>\n",
       "      <th>city</th>\n",
       "      <th>time</th>\n",
       "      <th>day</th>\n",
       "    </tr>\n",
       "  </thead>\n",
       "  <tbody>\n",
       "    <tr>\n",
       "      <td>1</td>\n",
       "      <td>55204538</td>\n",
       "      <td>Delayed Because of Accident</td>\n",
       "      <td>Andreas Rönnberg</td>\n",
       "      <td>rock</td>\n",
       "      <td>Moscow</td>\n",
       "      <td>14:07:09</td>\n",
       "      <td>Friday</td>\n",
       "    </tr>\n",
       "    <tr>\n",
       "      <td>4</td>\n",
       "      <td>E2DC1FAE</td>\n",
       "      <td>Soul People</td>\n",
       "      <td>Space Echo</td>\n",
       "      <td>dance</td>\n",
       "      <td>Moscow</td>\n",
       "      <td>08:34:34</td>\n",
       "      <td>Monday</td>\n",
       "    </tr>\n",
       "    <tr>\n",
       "      <td>6</td>\n",
       "      <td>4CB90AA5</td>\n",
       "      <td>True</td>\n",
       "      <td>Roman Messer</td>\n",
       "      <td>dance</td>\n",
       "      <td>Moscow</td>\n",
       "      <td>13:00:07</td>\n",
       "      <td>Wednesday</td>\n",
       "    </tr>\n",
       "    <tr>\n",
       "      <td>7</td>\n",
       "      <td>F03E1C1F</td>\n",
       "      <td>Feeling This Way</td>\n",
       "      <td>Polina Griffith</td>\n",
       "      <td>dance</td>\n",
       "      <td>Moscow</td>\n",
       "      <td>20:47:49</td>\n",
       "      <td>Wednesday</td>\n",
       "    </tr>\n",
       "    <tr>\n",
       "      <td>8</td>\n",
       "      <td>8FA1D3BE</td>\n",
       "      <td>И вновь продолжается бой</td>\n",
       "      <td>unknown</td>\n",
       "      <td>ruspop</td>\n",
       "      <td>Moscow</td>\n",
       "      <td>09:17:40</td>\n",
       "      <td>Friday</td>\n",
       "    </tr>\n",
       "    <tr>\n",
       "      <td>...</td>\n",
       "      <td>...</td>\n",
       "      <td>...</td>\n",
       "      <td>...</td>\n",
       "      <td>...</td>\n",
       "      <td>...</td>\n",
       "      <td>...</td>\n",
       "      <td>...</td>\n",
       "    </tr>\n",
       "    <tr>\n",
       "      <td>61247</td>\n",
       "      <td>83A474E7</td>\n",
       "      <td>I Worship Only What You Bleed</td>\n",
       "      <td>The Black Dahlia Murder</td>\n",
       "      <td>extrememetal</td>\n",
       "      <td>Moscow</td>\n",
       "      <td>21:07:12</td>\n",
       "      <td>Monday</td>\n",
       "    </tr>\n",
       "    <tr>\n",
       "      <td>61248</td>\n",
       "      <td>729CBB09</td>\n",
       "      <td>My Name</td>\n",
       "      <td>McLean</td>\n",
       "      <td>rnb</td>\n",
       "      <td>Moscow</td>\n",
       "      <td>13:32:28</td>\n",
       "      <td>Wednesday</td>\n",
       "    </tr>\n",
       "    <tr>\n",
       "      <td>61250</td>\n",
       "      <td>C5E3A0D5</td>\n",
       "      <td>Jalopiina</td>\n",
       "      <td>unknown</td>\n",
       "      <td>industrial</td>\n",
       "      <td>Moscow</td>\n",
       "      <td>20:09:26</td>\n",
       "      <td>Friday</td>\n",
       "    </tr>\n",
       "    <tr>\n",
       "      <td>61251</td>\n",
       "      <td>321D0506</td>\n",
       "      <td>Freight Train</td>\n",
       "      <td>Chas McDevitt</td>\n",
       "      <td>rock</td>\n",
       "      <td>Moscow</td>\n",
       "      <td>21:43:59</td>\n",
       "      <td>Friday</td>\n",
       "    </tr>\n",
       "    <tr>\n",
       "      <td>61252</td>\n",
       "      <td>3A64EF84</td>\n",
       "      <td>Tell Me Sweet Little Lies</td>\n",
       "      <td>Monica Lopez</td>\n",
       "      <td>country</td>\n",
       "      <td>Moscow</td>\n",
       "      <td>21:59:46</td>\n",
       "      <td>Friday</td>\n",
       "    </tr>\n",
       "  </tbody>\n",
       "</table>\n",
       "<p>42741 rows × 7 columns</p>\n",
       "</div>"
      ],
      "text/plain": [
       "        user_id                          track                   artist  \\\n",
       "1      55204538    Delayed Because of Accident         Andreas Rönnberg   \n",
       "4      E2DC1FAE                    Soul People               Space Echo   \n",
       "6      4CB90AA5                           True             Roman Messer   \n",
       "7      F03E1C1F               Feeling This Way          Polina Griffith   \n",
       "8      8FA1D3BE       И вновь продолжается бой                  unknown   \n",
       "...         ...                            ...                      ...   \n",
       "61247  83A474E7  I Worship Only What You Bleed  The Black Dahlia Murder   \n",
       "61248  729CBB09                        My Name                   McLean   \n",
       "61250  C5E3A0D5                      Jalopiina                  unknown   \n",
       "61251  321D0506                  Freight Train            Chas McDevitt   \n",
       "61252  3A64EF84      Tell Me Sweet Little Lies             Monica Lopez   \n",
       "\n",
       "              genre    city      time        day  \n",
       "1              rock  Moscow  14:07:09     Friday  \n",
       "4             dance  Moscow  08:34:34     Monday  \n",
       "6             dance  Moscow  13:00:07  Wednesday  \n",
       "7             dance  Moscow  20:47:49  Wednesday  \n",
       "8            ruspop  Moscow  09:17:40     Friday  \n",
       "...             ...     ...       ...        ...  \n",
       "61247  extrememetal  Moscow  21:07:12     Monday  \n",
       "61248           rnb  Moscow  13:32:28  Wednesday  \n",
       "61250    industrial  Moscow  20:09:26     Friday  \n",
       "61251          rock  Moscow  21:43:59     Friday  \n",
       "61252       country  Moscow  21:59:46     Friday  \n",
       "\n",
       "[42741 rows x 7 columns]"
      ]
     },
     "metadata": {},
     "output_type": "display_data"
    }
   ],
   "source": [
    "# получение таблицы moscow_general из тех строк таблицы df, \n",
    "# для которых значение в столбце 'city' равно 'Moscow'\n",
    "\n",
    "moscow_general = df[df['city'] == 'Moscow']\n",
    "display(moscow_general)"
   ]
  },
  {
   "cell_type": "code",
   "execution_count": 29,
   "metadata": {
    "id": "ORaVRKto_Zcu"
   },
   "outputs": [
    {
     "data": {
      "text/html": [
       "<div>\n",
       "<style scoped>\n",
       "    .dataframe tbody tr th:only-of-type {\n",
       "        vertical-align: middle;\n",
       "    }\n",
       "\n",
       "    .dataframe tbody tr th {\n",
       "        vertical-align: top;\n",
       "    }\n",
       "\n",
       "    .dataframe thead th {\n",
       "        text-align: right;\n",
       "    }\n",
       "</style>\n",
       "<table border=\"1\" class=\"dataframe\">\n",
       "  <thead>\n",
       "    <tr style=\"text-align: right;\">\n",
       "      <th></th>\n",
       "      <th>user_id</th>\n",
       "      <th>track</th>\n",
       "      <th>artist</th>\n",
       "      <th>genre</th>\n",
       "      <th>city</th>\n",
       "      <th>time</th>\n",
       "      <th>day</th>\n",
       "    </tr>\n",
       "  </thead>\n",
       "  <tbody>\n",
       "    <tr>\n",
       "      <td>0</td>\n",
       "      <td>FFB692EC</td>\n",
       "      <td>Kamigata To Boots</td>\n",
       "      <td>The Mass Missile</td>\n",
       "      <td>rock</td>\n",
       "      <td>Saint-Petersburg</td>\n",
       "      <td>20:28:33</td>\n",
       "      <td>Wednesday</td>\n",
       "    </tr>\n",
       "    <tr>\n",
       "      <td>2</td>\n",
       "      <td>20EC38</td>\n",
       "      <td>Funiculì funiculà</td>\n",
       "      <td>Mario Lanza</td>\n",
       "      <td>pop</td>\n",
       "      <td>Saint-Petersburg</td>\n",
       "      <td>20:58:07</td>\n",
       "      <td>Wednesday</td>\n",
       "    </tr>\n",
       "    <tr>\n",
       "      <td>3</td>\n",
       "      <td>A3DD03C9</td>\n",
       "      <td>Dragons in the Sunset</td>\n",
       "      <td>Fire + Ice</td>\n",
       "      <td>folk</td>\n",
       "      <td>Saint-Petersburg</td>\n",
       "      <td>08:37:09</td>\n",
       "      <td>Monday</td>\n",
       "    </tr>\n",
       "    <tr>\n",
       "      <td>5</td>\n",
       "      <td>842029A1</td>\n",
       "      <td>Преданная</td>\n",
       "      <td>IMPERVTOR</td>\n",
       "      <td>rusrap</td>\n",
       "      <td>Saint-Petersburg</td>\n",
       "      <td>13:09:41</td>\n",
       "      <td>Friday</td>\n",
       "    </tr>\n",
       "    <tr>\n",
       "      <td>9</td>\n",
       "      <td>E772D5C0</td>\n",
       "      <td>Pessimist</td>\n",
       "      <td>unknown</td>\n",
       "      <td>dance</td>\n",
       "      <td>Saint-Petersburg</td>\n",
       "      <td>21:20:49</td>\n",
       "      <td>Wednesday</td>\n",
       "    </tr>\n",
       "    <tr>\n",
       "      <td>...</td>\n",
       "      <td>...</td>\n",
       "      <td>...</td>\n",
       "      <td>...</td>\n",
       "      <td>...</td>\n",
       "      <td>...</td>\n",
       "      <td>...</td>\n",
       "      <td>...</td>\n",
       "    </tr>\n",
       "    <tr>\n",
       "      <td>61239</td>\n",
       "      <td>D94F810B</td>\n",
       "      <td>Theme from the Walking Dead</td>\n",
       "      <td>Proyecto Halloween</td>\n",
       "      <td>film</td>\n",
       "      <td>Saint-Petersburg</td>\n",
       "      <td>21:14:40</td>\n",
       "      <td>Monday</td>\n",
       "    </tr>\n",
       "    <tr>\n",
       "      <td>61240</td>\n",
       "      <td>BC8EC5CF</td>\n",
       "      <td>Red Lips: Gta (Rover Rework)</td>\n",
       "      <td>Rover</td>\n",
       "      <td>electronic</td>\n",
       "      <td>Saint-Petersburg</td>\n",
       "      <td>21:06:50</td>\n",
       "      <td>Monday</td>\n",
       "    </tr>\n",
       "    <tr>\n",
       "      <td>61241</td>\n",
       "      <td>29E04611</td>\n",
       "      <td>Bre Petrunko</td>\n",
       "      <td>Perunika Trio</td>\n",
       "      <td>world</td>\n",
       "      <td>Saint-Petersburg</td>\n",
       "      <td>13:56:00</td>\n",
       "      <td>Monday</td>\n",
       "    </tr>\n",
       "    <tr>\n",
       "      <td>61242</td>\n",
       "      <td>1B91C621</td>\n",
       "      <td>(Hello) Cloud Mountain</td>\n",
       "      <td>sleepmakeswaves</td>\n",
       "      <td>postrock</td>\n",
       "      <td>Saint-Petersburg</td>\n",
       "      <td>09:22:13</td>\n",
       "      <td>Monday</td>\n",
       "    </tr>\n",
       "    <tr>\n",
       "      <td>61249</td>\n",
       "      <td>D08D4A55</td>\n",
       "      <td>Maybe One Day (feat. Black Spade)</td>\n",
       "      <td>Blu &amp; Exile</td>\n",
       "      <td>hiphop</td>\n",
       "      <td>Saint-Petersburg</td>\n",
       "      <td>10:00:00</td>\n",
       "      <td>Monday</td>\n",
       "    </tr>\n",
       "  </tbody>\n",
       "</table>\n",
       "<p>18512 rows × 7 columns</p>\n",
       "</div>"
      ],
      "text/plain": [
       "        user_id                              track              artist  \\\n",
       "0      FFB692EC                  Kamigata To Boots    The Mass Missile   \n",
       "2        20EC38                  Funiculì funiculà         Mario Lanza   \n",
       "3      A3DD03C9              Dragons in the Sunset          Fire + Ice   \n",
       "5      842029A1                          Преданная           IMPERVTOR   \n",
       "9      E772D5C0                          Pessimist             unknown   \n",
       "...         ...                                ...                 ...   \n",
       "61239  D94F810B        Theme from the Walking Dead  Proyecto Halloween   \n",
       "61240  BC8EC5CF       Red Lips: Gta (Rover Rework)               Rover   \n",
       "61241  29E04611                       Bre Petrunko       Perunika Trio   \n",
       "61242  1B91C621             (Hello) Cloud Mountain     sleepmakeswaves   \n",
       "61249  D08D4A55  Maybe One Day (feat. Black Spade)         Blu & Exile   \n",
       "\n",
       "            genre              city      time        day  \n",
       "0            rock  Saint-Petersburg  20:28:33  Wednesday  \n",
       "2             pop  Saint-Petersburg  20:58:07  Wednesday  \n",
       "3            folk  Saint-Petersburg  08:37:09     Monday  \n",
       "5          rusrap  Saint-Petersburg  13:09:41     Friday  \n",
       "9           dance  Saint-Petersburg  21:20:49  Wednesday  \n",
       "...           ...               ...       ...        ...  \n",
       "61239        film  Saint-Petersburg  21:14:40     Monday  \n",
       "61240  electronic  Saint-Petersburg  21:06:50     Monday  \n",
       "61241       world  Saint-Petersburg  13:56:00     Monday  \n",
       "61242    postrock  Saint-Petersburg  09:22:13     Monday  \n",
       "61249      hiphop  Saint-Petersburg  10:00:00     Monday  \n",
       "\n",
       "[18512 rows x 7 columns]"
      ]
     },
     "metadata": {},
     "output_type": "display_data"
    }
   ],
   "source": [
    "# получение таблицы spb_general из тех строк таблицы df,\n",
    "# для которых значение в столбце 'city' равно 'Saint-Petersburg'\n",
    "\n",
    "spb_general = df[df['city'] == 'Saint-Petersburg']\n",
    "display(spb_general)"
   ]
  },
  {
   "cell_type": "markdown",
   "metadata": {},
   "source": [
    "<div style=\"border:solid gold 2px; padding: 20px\"> \n",
    "    \n",
    "**Комментарий ревьюера**\n",
    "\n",
    "**#можно лучше**\n",
    "\n",
    "Для просмотра длинных таблиц лучше использовать `head()` или `tail()`\n",
    "\n",
    "</div>"
   ]
  },
  {
   "cell_type": "markdown",
   "metadata": {
    "id": "MEJV-CX2_Zcu"
   },
   "source": [
    "Создайте функцию `genre_weekday()` с четырьмя параметрами:\n",
    "* таблица (датафрейм) с данными,\n",
    "* день недели,\n",
    "* начальная временная метка в формате 'hh:mm', \n",
    "* последняя временная метка в формате 'hh:mm'.\n",
    "\n",
    "Функция должна вернуть информацию о топ-10 жанров тех треков, которые прослушивали в указанный день, в промежутке между двумя отметками времени."
   ]
  },
  {
   "cell_type": "code",
   "execution_count": 30,
   "metadata": {
    "id": "laJT9BYl_Zcu"
   },
   "outputs": [],
   "source": [
    "# Объявление функции genre_weekday() с параметрами table, day, time1, time2,\n",
    "# которая возвращает информацию о самых популярных жанрах в указанный день в\n",
    "# заданное время:\n",
    "# 1) в переменную genre_df сохраняются те строки переданного датафрейма table, для\n",
    "#    которых одновременно:\n",
    "#    - значение в столбце day равно значению аргумента day\n",
    "#    - значение в столбце time больше значения аргумента time1\n",
    "#    - значение в столбце time меньше значения аргумента time2\n",
    "#    Используйте последовательную фильтрацию с помощью логической индексации.\n",
    "# 2) сгруппировать датафрейм genre_df по столбцу genre, взять один из его\n",
    "#    столбцов и посчитать методом count() количество записей для каждого из\n",
    "#    присутствующих жанров, получившийся Series записать в переменную\n",
    "#    genre_df_count\n",
    "# 3) отсортировать genre_df_count по убыванию встречаемости и сохранить\n",
    "#    в переменную genre_df_sorted\n",
    "# 4) вернуть Series из 10 первых значений genre_df_sorted, это будут топ-10\n",
    "#    популярных жанров (в указанный день, в заданное время)\n",
    "\n",
    "def genre_weekday(table, day, time1, time2):\n",
    "    \n",
    "    genre_df = table[table['day'] == day]\n",
    "    genre_df = genre_df[genre_df['time'] >= time1]\n",
    "    genre_df = genre_df[genre_df['time'] <= time2]\n",
    "    \n",
    "    genre_df_count = genre_df.groupby('genre')['genre'].count()\n",
    "    \n",
    "    genre_df_sorted = genre_df_count.sort_values(ascending=False)\n",
    "    \n",
    "    return genre_df_sorted.head(10)"
   ]
  },
  {
   "cell_type": "markdown",
   "metadata": {
    "id": "la2s2_PF_Zcu"
   },
   "source": [
    "Cравните результаты функции `genre_weekday()` для Москвы и Санкт-Петербурга в понедельник утром (с 7:00 до 11:00) и в пятницу вечером (с 17:00 до 23:00):"
   ]
  },
  {
   "cell_type": "code",
   "execution_count": 31,
   "metadata": {
    "id": "yz7itPUQ_Zcu"
   },
   "outputs": [
    {
     "data": {
      "text/plain": [
       "genre\n",
       "pop            781\n",
       "dance          549\n",
       "electronic     480\n",
       "rock           474\n",
       "hiphop         286\n",
       "ruspop         186\n",
       "world          181\n",
       "rusrap         175\n",
       "alternative    164\n",
       "unknown        161\n",
       "Name: genre, dtype: int64"
      ]
     },
     "execution_count": 31,
     "metadata": {},
     "output_type": "execute_result"
    }
   ],
   "source": [
    "# вызов функции для утра понедельника в Москве (вместо df — таблица moscow_general)\n",
    "# объекты, хранящие время, являются строками и сравниваются как строки\n",
    "# пример вызова: genre_weekday(moscow_general, 'Monday', '07:00', '11:00')\n",
    "\n",
    "genre_weekday(moscow_general, 'Monday', '07:00', '11:00')"
   ]
  },
  {
   "cell_type": "code",
   "execution_count": 32,
   "metadata": {
    "id": "kwUcHPdy_Zcu"
   },
   "outputs": [
    {
     "data": {
      "text/plain": [
       "genre\n",
       "pop            218\n",
       "dance          182\n",
       "rock           162\n",
       "electronic     147\n",
       "hiphop          80\n",
       "ruspop          64\n",
       "alternative     58\n",
       "rusrap          55\n",
       "jazz            44\n",
       "classical       40\n",
       "Name: genre, dtype: int64"
      ]
     },
     "execution_count": 32,
     "metadata": {},
     "output_type": "execute_result"
    }
   ],
   "source": [
    "# вызов функции для утра понедельника в Петербурге (вместо df — таблица spb_general)\n",
    "\n",
    "genre_weekday(spb_general, 'Monday', '07:00', '11:00')"
   ]
  },
  {
   "cell_type": "code",
   "execution_count": 33,
   "metadata": {
    "id": "EzXVRE1o_Zcu"
   },
   "outputs": [
    {
     "data": {
      "text/plain": [
       "genre\n",
       "pop            713\n",
       "rock           517\n",
       "dance          495\n",
       "electronic     482\n",
       "hiphop         273\n",
       "world          208\n",
       "ruspop         170\n",
       "alternative    163\n",
       "classical      163\n",
       "rusrap         142\n",
       "Name: genre, dtype: int64"
      ]
     },
     "execution_count": 33,
     "metadata": {},
     "output_type": "execute_result"
    }
   ],
   "source": [
    "genre_weekday(moscow_general, 'Friday', '17:00', '23:00') # вызов функции для вечера пятницы в Москве"
   ]
  },
  {
   "cell_type": "code",
   "execution_count": 34,
   "metadata": {
    "id": "JZaEKu5v_Zcu"
   },
   "outputs": [
    {
     "data": {
      "text/plain": [
       "genre\n",
       "pop            256\n",
       "rock           216\n",
       "electronic     216\n",
       "dance          210\n",
       "hiphop          97\n",
       "alternative     63\n",
       "jazz            61\n",
       "classical       60\n",
       "rusrap          59\n",
       "world           54\n",
       "Name: genre, dtype: int64"
      ]
     },
     "execution_count": 34,
     "metadata": {},
     "output_type": "execute_result"
    }
   ],
   "source": [
    "genre_weekday(spb_general, 'Friday', '17:00', '23:00') # вызов функции для вечера пятницы в Петербурге"
   ]
  },
  {
   "cell_type": "markdown",
   "metadata": {},
   "source": [
    "<div style=\"border:solid green 2px; padding: 20px\"> \n",
    "    \n",
    "**Комментарий ревьюера**\n",
    "\n",
    "**#ок**\n",
    "\n",
    "Ок, функция написана верно и результат требуемый получен\n",
    "</div>"
   ]
  },
  {
   "cell_type": "markdown",
   "metadata": {
    "id": "wrCe4MNX_Zcu"
   },
   "source": [
    "**Выводы**\n",
    "\n",
    "Если сравнить топ-10 жанров в понедельник утром, можно сделать такие выводы:\n",
    "\n",
    "1. В Москве и Петербурге слушают похожую музыку. Единственное отличие — в московский рейтинг вошёл жанр “world”, а в петербургский — джаз и классика.\n",
    "\n",
    "2. В Москве пропущенных значений оказалось так много, что значение `'unknown'` заняло десятое место среди самых популярных жанров. Значит, пропущенные значения занимают существенную долю в данных и угрожают достоверности исследования.\n",
    "\n",
    "Вечер пятницы не меняет эту картину. Некоторые жанры поднимаются немного выше, другие спускаются, но в целом топ-10 остаётся тем же самым.\n",
    "\n",
    "Таким образом, вторая гипотеза подтвердилась лишь частично:\n",
    "* Пользователи слушают похожую музыку в начале недели и в конце.\n",
    "* Разница между Москвой и Петербургом не слишком выражена. В Москве чаще слушают русскую популярную музыку, в Петербурге — джаз.\n",
    "\n",
    "Однако пропуски в данных ставят под сомнение этот результат. В Москве их так много, что рейтинг топ-10 мог бы выглядеть иначе, если бы не утерянные  данные о жанрах."
   ]
  },
  {
   "cell_type": "markdown",
   "metadata": {
    "id": "JolODAqr_Zcu"
   },
   "source": [
    "### Жанровые предпочтения в Москве и Петербурге\n",
    "\n",
    "Гипотеза: Петербург — столица рэпа, музыку этого жанра там слушают чаще, чем в Москве.  А Москва — город контрастов, в котором, тем не менее, преобладает поп-музыка."
   ]
  },
  {
   "cell_type": "markdown",
   "metadata": {
    "id": "DlegSvaT_Zcu"
   },
   "source": [
    "Сгруппируйте таблицу `moscow_general` по жанру и посчитайте прослушивания треков каждого жанра методом `count()`. Затем отсортируйте результат в порядке убывания и сохраните его в таблице `moscow_genres`."
   ]
  },
  {
   "cell_type": "code",
   "execution_count": 35,
   "metadata": {
    "id": "r19lIPke_Zcu"
   },
   "outputs": [],
   "source": [
    "# одной строкой: группировка таблицы moscow_general по столбцу 'genre', \n",
    "# подсчёт числа значений 'genre' в этой группировке методом count(),\n",
    "# сортировка получившегося Series в порядке убывания и сохранение в moscow_genres\n",
    "\n",
    "moscow_genres = moscow_general.groupby('genre')['genre'].count().sort_values(ascending=False)"
   ]
  },
  {
   "cell_type": "markdown",
   "metadata": {
    "id": "6kMuomxTiIr8"
   },
   "source": [
    "Выведите на экран первые десять строк `moscow_genres`:"
   ]
  },
  {
   "cell_type": "code",
   "execution_count": 36,
   "metadata": {
    "id": "WhCSooF8_Zcv"
   },
   "outputs": [
    {
     "data": {
      "text/plain": [
       "genre\n",
       "pop            5892\n",
       "dance          4435\n",
       "rock           3965\n",
       "electronic     3786\n",
       "hiphop         2096\n",
       "classical      1616\n",
       "world          1432\n",
       "alternative    1379\n",
       "ruspop         1372\n",
       "rusrap         1161\n",
       "Name: genre, dtype: int64"
      ]
     },
     "metadata": {},
     "output_type": "display_data"
    }
   ],
   "source": [
    "display(moscow_genres.head(10)) # просмотр первых 10 строк moscow_genres"
   ]
  },
  {
   "cell_type": "markdown",
   "metadata": {
    "id": "cnPG2vnN_Zcv"
   },
   "source": [
    "Теперь повторите то же и для Петербурга.\n",
    "\n",
    "Сгруппируйте таблицу `spb_general` по жанру. Посчитайте прослушивания треков каждого жанра. Результат отсортируйте в порядке убывания и сохраните в таблице `spb_genres`:\n"
   ]
  },
  {
   "cell_type": "code",
   "execution_count": 39,
   "metadata": {
    "id": "gluLIpE7_Zcv"
   },
   "outputs": [],
   "source": [
    "# одной строкой: группировка таблицы spb_general по столбцу 'genre', \n",
    "# подсчёт числа значений 'genre' в этой группировке методом count(), \n",
    "# сортировка получившегося Series в порядке убывания и сохранение в spb_genres\n",
    "\n",
    "spb_genres = spb_general.groupby('genre')['genre'].count().sort_values(ascending=False)"
   ]
  },
  {
   "cell_type": "markdown",
   "metadata": {
    "id": "5Doha_ODgyQ8"
   },
   "source": [
    "Выведите на экран первые десять строк `spb_genres`:"
   ]
  },
  {
   "cell_type": "code",
   "execution_count": 40,
   "metadata": {
    "id": "uaGJHjVU_Zcv"
   },
   "outputs": [
    {
     "data": {
      "text/plain": [
       "genre\n",
       "pop            2431\n",
       "dance          1932\n",
       "rock           1879\n",
       "electronic     1737\n",
       "hiphop          960\n",
       "alternative     649\n",
       "classical       646\n",
       "rusrap          564\n",
       "ruspop          538\n",
       "world           515\n",
       "Name: genre, dtype: int64"
      ]
     },
     "metadata": {},
     "output_type": "display_data"
    }
   ],
   "source": [
    "display(spb_genres.head(10)) # просмотр первых 10 строк spb_genres"
   ]
  },
  {
   "cell_type": "markdown",
   "metadata": {},
   "source": [
    "<div style=\"border:solid green 2px; padding: 20px\"> \n",
    "    \n",
    "**Комментарий ревьюера**\n",
    "\n",
    "**#ок**\n",
    "\n",
    "В этой части тоже все верно сделано\n",
    "</div>"
   ]
  },
  {
   "cell_type": "markdown",
   "metadata": {
    "id": "RY51YJYu_Zcv"
   },
   "source": [
    "**Выводы**"
   ]
  },
  {
   "cell_type": "markdown",
   "metadata": {
    "id": "nVhnJEm__Zcv"
   },
   "source": [
    "Гипотеза частично подтвердилась:\n",
    "* Поп-музыка — самый популярный жанр в Москве, как и предполагала гипотеза. Более того, в топ-10 жанров встречается близкий жанр — русская популярная музыка.\n",
    "* Вопреки ожиданиям, рэп одинаково популярен в Москве и Петербурге. \n"
   ]
  },
  {
   "cell_type": "markdown",
   "metadata": {
    "id": "ykKQ0N65_Zcv"
   },
   "source": [
    "## Итоги исследования"
   ]
  },
  {
   "cell_type": "markdown",
   "metadata": {
    "id": "tjUwbHb3_Zcv"
   },
   "source": [
    "Вы проверили три гипотезы и установили:\n",
    "\n",
    "1. День недели по-разному влияет на активность пользователей в Москве и Петербурге. \n",
    "\n",
    "Первая гипотеза полностью подтвердилась.\n",
    "\n",
    "2. Музыкальные предпочтения не сильно меняются в течение недели — будь то Москва или Петербург. Небольшие различия заметны в начале недели, по понедельникам:\n",
    "* в Москве слушают музыку жанра “world”,\n",
    "* в Петербурге — джаз и классику.\n",
    "\n",
    "Таким образом, вторая гипотеза подтвердилась лишь отчасти. Этот результат мог оказаться иным, если бы не пропуски в данных.\n",
    "\n",
    "3. Во вкусах пользователей Москвы и Петербурга больше общего чем различий. Вопреки ожиданиям, предпочтения жанров в Петербурге напоминают московские.\n",
    "\n",
    "Третья гипотеза не подтвердилась. Если различия в предпочтениях и существуют, на основной массе пользователей они незаметны.\n",
    "\n",
    "**На практике исследования содержат проверки статистических гипотез.**\n",
    "Из данных одного сервиса не всегда можно сделать вывод о всех жителях города.\n",
    "Проверки статистических гипотез покажут, насколько они достоверны, исходя из имеющихся данных. \n",
    "С методами проверок гипотез вы ещё познакомитесь в следующих темах."
   ]
  },
  {
   "cell_type": "markdown",
   "metadata": {},
   "source": [
    "<div style=\"border:solid green 2px; padding: 20px\"> \n",
    "\n",
    "**Общий комментарий по проекту**\n",
    "\n",
    "Ты отлично поработал над проектом, молодец. Ты сделал хороший самостоятельный анализ.\n",
    "    \n",
    "Ты молодец, отлично справляешься с программой.  Дальше все будет интереснее и сложнее.\n",
    "    \n",
    "Критических замечаний нет, первый шаг пройден.\n",
    "\n",
    "Удачи в следующих проектах.\n",
    "    \n",
    "</div>"
   ]
  },
  {
   "cell_type": "markdown",
   "metadata": {},
   "source": [
    "Спасибо за комментарии, учту в будущем."
   ]
  },
  {
   "cell_type": "code",
   "execution_count": null,
   "metadata": {},
   "outputs": [],
   "source": []
  }
 ],
 "metadata": {
  "ExecuteTimeLog": [
   {
    "duration": 994,
    "start_time": "2022-02-07T18:36:03.937Z"
   },
   {
    "duration": 346,
    "start_time": "2022-02-07T18:36:38.039Z"
   },
   {
    "duration": 560,
    "start_time": "2022-02-07T18:36:40.655Z"
   },
   {
    "duration": 124,
    "start_time": "2022-02-07T18:36:43.182Z"
   },
   {
    "duration": 15,
    "start_time": "2022-02-07T18:36:45.151Z"
   },
   {
    "duration": 42,
    "start_time": "2022-02-07T18:37:11.676Z"
   },
   {
    "duration": 4,
    "start_time": "2022-02-07T19:49:48.733Z"
   },
   {
    "duration": 4,
    "start_time": "2022-02-07T19:56:47.107Z"
   },
   {
    "duration": 19,
    "start_time": "2022-02-07T19:57:11.410Z"
   },
   {
    "duration": 4,
    "start_time": "2022-02-07T19:57:13.674Z"
   },
   {
    "duration": 20,
    "start_time": "2022-02-07T19:58:40.961Z"
   },
   {
    "duration": 13,
    "start_time": "2022-02-07T20:02:08.864Z"
   },
   {
    "duration": 20,
    "start_time": "2022-02-07T20:02:30.922Z"
   },
   {
    "duration": 13,
    "start_time": "2022-02-07T20:03:52.926Z"
   },
   {
    "duration": 21,
    "start_time": "2022-02-07T20:03:54.599Z"
   },
   {
    "duration": 4217,
    "start_time": "2022-02-07T20:04:16.247Z"
   },
   {
    "duration": -34,
    "start_time": "2022-02-07T20:04:20.500Z"
   },
   {
    "duration": 6,
    "start_time": "2022-02-07T20:05:39.238Z"
   },
   {
    "duration": 4177,
    "start_time": "2022-02-07T20:05:57.448Z"
   },
   {
    "duration": 4309,
    "start_time": "2022-02-07T20:07:00.470Z"
   },
   {
    "duration": 4947,
    "start_time": "2022-02-07T20:11:52.988Z"
   },
   {
    "duration": 4376,
    "start_time": "2022-02-07T20:12:13.524Z"
   },
   {
    "duration": 4151,
    "start_time": "2022-02-07T20:13:07.427Z"
   },
   {
    "duration": 4171,
    "start_time": "2022-02-07T20:13:22.483Z"
   },
   {
    "duration": 4355,
    "start_time": "2022-02-07T20:13:59.395Z"
   },
   {
    "duration": 5360,
    "start_time": "2022-02-07T20:14:44.283Z"
   },
   {
    "duration": 4354,
    "start_time": "2022-02-07T20:15:08.424Z"
   },
   {
    "duration": 4062,
    "start_time": "2022-02-07T20:15:21.043Z"
   },
   {
    "duration": 4341,
    "start_time": "2022-02-07T20:15:32.866Z"
   },
   {
    "duration": 350,
    "start_time": "2022-02-07T20:15:57.188Z"
   },
   {
    "duration": 4255,
    "start_time": "2022-02-07T20:16:12.282Z"
   },
   {
    "duration": 4416,
    "start_time": "2022-02-07T20:16:57.659Z"
   },
   {
    "duration": 4090,
    "start_time": "2022-02-07T20:17:51.850Z"
   },
   {
    "duration": 4625,
    "start_time": "2022-02-07T21:09:52.596Z"
   },
   {
    "duration": 4148,
    "start_time": "2022-02-07T21:10:52.232Z"
   },
   {
    "duration": 3,
    "start_time": "2022-02-07T21:12:03.464Z"
   },
   {
    "duration": 4546,
    "start_time": "2022-02-07T21:12:20.239Z"
   },
   {
    "duration": 4225,
    "start_time": "2022-02-07T21:12:45.393Z"
   },
   {
    "duration": 4271,
    "start_time": "2022-02-07T21:13:39.095Z"
   },
   {
    "duration": 4169,
    "start_time": "2022-02-07T21:14:07.535Z"
   },
   {
    "duration": 7,
    "start_time": "2022-02-07T21:14:20.151Z"
   },
   {
    "duration": 7,
    "start_time": "2022-02-07T21:14:31.414Z"
   },
   {
    "duration": 7,
    "start_time": "2022-02-07T21:15:15.048Z"
   },
   {
    "duration": 7,
    "start_time": "2022-02-07T21:15:21.222Z"
   },
   {
    "duration": 313,
    "start_time": "2022-02-07T21:15:23.686Z"
   },
   {
    "duration": 4,
    "start_time": "2022-02-07T21:15:33.855Z"
   },
   {
    "duration": 4,
    "start_time": "2022-02-07T21:15:38.265Z"
   },
   {
    "duration": 337,
    "start_time": "2022-02-07T21:15:40.454Z"
   },
   {
    "duration": 323,
    "start_time": "2022-02-07T21:15:52.126Z"
   },
   {
    "duration": 335,
    "start_time": "2022-02-07T21:16:01.007Z"
   },
   {
    "duration": 4,
    "start_time": "2022-02-07T21:16:07.749Z"
   },
   {
    "duration": 123,
    "start_time": "2022-02-07T21:16:16.287Z"
   },
   {
    "duration": 9,
    "start_time": "2022-02-07T21:16:18.406Z"
   },
   {
    "duration": 22,
    "start_time": "2022-02-07T21:16:25.463Z"
   },
   {
    "duration": 4,
    "start_time": "2022-02-07T21:16:29.712Z"
   },
   {
    "duration": 19,
    "start_time": "2022-02-07T21:16:31.695Z"
   },
   {
    "duration": 3,
    "start_time": "2022-02-07T21:16:33.984Z"
   },
   {
    "duration": 20,
    "start_time": "2022-02-07T21:16:37.616Z"
   },
   {
    "duration": 2,
    "start_time": "2022-02-07T21:16:45.701Z"
   },
   {
    "duration": 15,
    "start_time": "2022-02-07T21:18:28.123Z"
   },
   {
    "duration": 17,
    "start_time": "2022-02-07T21:19:48.389Z"
   },
   {
    "duration": 20,
    "start_time": "2022-02-07T21:20:02.596Z"
   },
   {
    "duration": 51,
    "start_time": "2022-02-07T21:20:51.381Z"
   },
   {
    "duration": 54,
    "start_time": "2022-02-07T21:21:42.918Z"
   },
   {
    "duration": 45,
    "start_time": "2022-02-07T21:22:00.869Z"
   },
   {
    "duration": 44,
    "start_time": "2022-02-07T21:22:06.435Z"
   },
   {
    "duration": 43,
    "start_time": "2022-02-07T21:22:22.209Z"
   },
   {
    "duration": 553,
    "start_time": "2022-02-07T21:22:32.556Z"
   },
   {
    "duration": 116,
    "start_time": "2022-02-07T21:22:33.111Z"
   },
   {
    "duration": 14,
    "start_time": "2022-02-07T21:22:33.229Z"
   },
   {
    "duration": 28,
    "start_time": "2022-02-07T21:22:33.244Z"
   },
   {
    "duration": 4,
    "start_time": "2022-02-07T21:22:33.273Z"
   },
   {
    "duration": 19,
    "start_time": "2022-02-07T21:22:33.278Z"
   },
   {
    "duration": 3,
    "start_time": "2022-02-07T21:22:33.298Z"
   },
   {
    "duration": 41,
    "start_time": "2022-02-07T21:22:33.303Z"
   },
   {
    "duration": 13,
    "start_time": "2022-02-07T21:22:33.346Z"
   },
   {
    "duration": 31,
    "start_time": "2022-02-07T21:22:33.360Z"
   },
   {
    "duration": 54,
    "start_time": "2022-02-07T21:22:33.393Z"
   },
   {
    "duration": 2,
    "start_time": "2022-02-07T21:22:33.449Z"
   },
   {
    "duration": 6,
    "start_time": "2022-02-07T21:22:33.453Z"
   },
   {
    "duration": 4,
    "start_time": "2022-02-07T21:22:33.461Z"
   },
   {
    "duration": 14,
    "start_time": "2022-02-07T21:22:33.466Z"
   },
   {
    "duration": 7,
    "start_time": "2022-02-07T21:22:33.481Z"
   },
   {
    "duration": 12,
    "start_time": "2022-02-07T21:22:33.489Z"
   },
   {
    "duration": 4,
    "start_time": "2022-02-07T21:22:33.502Z"
   },
   {
    "duration": 3,
    "start_time": "2022-02-07T21:22:33.507Z"
   },
   {
    "duration": 3,
    "start_time": "2022-02-07T21:22:33.512Z"
   },
   {
    "duration": 12,
    "start_time": "2022-02-07T21:22:33.517Z"
   },
   {
    "duration": 3,
    "start_time": "2022-02-07T21:22:33.531Z"
   },
   {
    "duration": 2,
    "start_time": "2022-02-07T21:22:33.537Z"
   },
   {
    "duration": 3,
    "start_time": "2022-02-07T21:22:33.541Z"
   },
   {
    "duration": 5,
    "start_time": "2022-02-07T21:22:33.545Z"
   },
   {
    "duration": 5,
    "start_time": "2022-02-07T21:22:33.552Z"
   },
   {
    "duration": 4,
    "start_time": "2022-02-07T21:22:33.558Z"
   },
   {
    "duration": 4,
    "start_time": "2022-02-07T21:22:33.564Z"
   },
   {
    "duration": 4,
    "start_time": "2022-02-07T21:22:33.569Z"
   },
   {
    "duration": 5,
    "start_time": "2022-02-07T21:22:33.574Z"
   },
   {
    "duration": 6,
    "start_time": "2022-02-07T21:22:33.580Z"
   },
   {
    "duration": 4,
    "start_time": "2022-02-07T21:22:33.588Z"
   },
   {
    "duration": 6,
    "start_time": "2022-02-07T21:22:33.594Z"
   },
   {
    "duration": 5,
    "start_time": "2022-02-07T21:22:33.601Z"
   },
   {
    "duration": 20,
    "start_time": "2022-02-07T21:22:33.607Z"
   },
   {
    "duration": 4,
    "start_time": "2022-02-07T21:22:33.629Z"
   },
   {
    "duration": 5,
    "start_time": "2022-02-07T21:22:33.634Z"
   },
   {
    "duration": 4,
    "start_time": "2022-02-07T21:22:33.640Z"
   },
   {
    "duration": 57,
    "start_time": "2022-02-07T21:22:53.115Z"
   },
   {
    "duration": 45,
    "start_time": "2022-02-07T21:22:58.428Z"
   },
   {
    "duration": 6,
    "start_time": "2022-02-07T21:24:23.601Z"
   },
   {
    "duration": 358,
    "start_time": "2022-02-07T21:25:25.482Z"
   },
   {
    "duration": 36,
    "start_time": "2022-02-07T21:25:58.634Z"
   },
   {
    "duration": 3,
    "start_time": "2022-02-07T21:34:01.094Z"
   },
   {
    "duration": 45,
    "start_time": "2022-02-07T21:35:54.268Z"
   },
   {
    "duration": 6,
    "start_time": "2022-02-07T21:36:26.109Z"
   },
   {
    "duration": 38,
    "start_time": "2022-02-07T21:36:30.028Z"
   },
   {
    "duration": 304,
    "start_time": "2022-02-07T21:42:08.090Z"
   },
   {
    "duration": 9,
    "start_time": "2022-02-07T21:42:37.659Z"
   },
   {
    "duration": 51,
    "start_time": "2022-02-07T21:42:54.338Z"
   },
   {
    "duration": 9,
    "start_time": "2022-02-07T21:43:54.745Z"
   },
   {
    "duration": 37,
    "start_time": "2022-02-07T21:43:59.100Z"
   },
   {
    "duration": 358,
    "start_time": "2022-02-08T06:33:40.952Z"
   },
   {
    "duration": 429,
    "start_time": "2022-02-08T06:33:58.672Z"
   },
   {
    "duration": 613,
    "start_time": "2022-02-08T07:30:05.421Z"
   },
   {
    "duration": 117,
    "start_time": "2022-02-08T07:30:06.036Z"
   },
   {
    "duration": 14,
    "start_time": "2022-02-08T07:30:06.155Z"
   },
   {
    "duration": 25,
    "start_time": "2022-02-08T07:30:06.170Z"
   },
   {
    "duration": 3,
    "start_time": "2022-02-08T07:30:06.197Z"
   },
   {
    "duration": 31,
    "start_time": "2022-02-08T07:30:06.201Z"
   },
   {
    "duration": 4,
    "start_time": "2022-02-08T07:30:06.233Z"
   },
   {
    "duration": 23,
    "start_time": "2022-02-08T07:30:06.239Z"
   },
   {
    "duration": 15,
    "start_time": "2022-02-08T07:30:06.264Z"
   },
   {
    "duration": 19,
    "start_time": "2022-02-08T07:30:06.280Z"
   },
   {
    "duration": 72,
    "start_time": "2022-02-08T07:30:06.300Z"
   },
   {
    "duration": 75,
    "start_time": "2022-02-08T07:30:06.374Z"
   },
   {
    "duration": 46,
    "start_time": "2022-02-08T07:30:06.451Z"
   },
   {
    "duration": 47,
    "start_time": "2022-02-08T07:30:06.499Z"
   },
   {
    "duration": 12,
    "start_time": "2022-02-08T07:30:06.547Z"
   },
   {
    "duration": 18,
    "start_time": "2022-02-08T07:30:06.560Z"
   },
   {
    "duration": 38,
    "start_time": "2022-02-08T07:30:06.579Z"
   },
   {
    "duration": 8,
    "start_time": "2022-02-08T07:30:06.618Z"
   },
   {
    "duration": 2,
    "start_time": "2022-02-08T07:30:06.628Z"
   },
   {
    "duration": 5,
    "start_time": "2022-02-08T07:30:06.631Z"
   },
   {
    "duration": 8,
    "start_time": "2022-02-08T07:30:06.638Z"
   },
   {
    "duration": 5,
    "start_time": "2022-02-08T07:30:06.647Z"
   },
   {
    "duration": 6,
    "start_time": "2022-02-08T07:30:06.655Z"
   },
   {
    "duration": 8,
    "start_time": "2022-02-08T07:30:06.663Z"
   },
   {
    "duration": 6,
    "start_time": "2022-02-08T07:30:06.672Z"
   },
   {
    "duration": 9,
    "start_time": "2022-02-08T07:30:06.679Z"
   },
   {
    "duration": 6,
    "start_time": "2022-02-08T07:30:06.689Z"
   },
   {
    "duration": 7,
    "start_time": "2022-02-08T07:30:06.697Z"
   },
   {
    "duration": 6,
    "start_time": "2022-02-08T07:30:06.706Z"
   },
   {
    "duration": 13,
    "start_time": "2022-02-08T07:30:06.714Z"
   },
   {
    "duration": 6,
    "start_time": "2022-02-08T07:30:06.728Z"
   },
   {
    "duration": 5,
    "start_time": "2022-02-08T07:30:06.735Z"
   },
   {
    "duration": 8,
    "start_time": "2022-02-08T07:30:06.742Z"
   },
   {
    "duration": 6,
    "start_time": "2022-02-08T07:30:06.751Z"
   },
   {
    "duration": 9,
    "start_time": "2022-02-08T07:30:06.758Z"
   },
   {
    "duration": 8,
    "start_time": "2022-02-08T07:30:06.768Z"
   },
   {
    "duration": 6,
    "start_time": "2022-02-08T07:30:06.777Z"
   },
   {
    "duration": 5,
    "start_time": "2022-02-08T07:30:06.784Z"
   },
   {
    "duration": 23,
    "start_time": "2022-02-08T07:39:08.281Z"
   },
   {
    "duration": 19,
    "start_time": "2022-02-08T07:39:27.221Z"
   },
   {
    "duration": 17,
    "start_time": "2022-02-08T07:40:42.511Z"
   },
   {
    "duration": 248,
    "start_time": "2022-02-08T08:39:39.881Z"
   },
   {
    "duration": 17,
    "start_time": "2022-02-08T08:41:07.008Z"
   },
   {
    "duration": 5839,
    "start_time": "2022-02-08T08:45:06.507Z"
   },
   {
    "duration": 31,
    "start_time": "2022-02-08T08:45:14.060Z"
   },
   {
    "duration": 20,
    "start_time": "2022-02-08T08:45:42.126Z"
   },
   {
    "duration": 19,
    "start_time": "2022-02-08T09:08:26.278Z"
   },
   {
    "duration": 29,
    "start_time": "2022-02-08T09:10:59.712Z"
   },
   {
    "duration": 20,
    "start_time": "2022-02-08T09:11:19.003Z"
   },
   {
    "duration": 27,
    "start_time": "2022-02-08T09:11:26.471Z"
   },
   {
    "duration": 23,
    "start_time": "2022-02-08T09:11:46.076Z"
   },
   {
    "duration": 23,
    "start_time": "2022-02-08T09:13:39.464Z"
   },
   {
    "duration": 14,
    "start_time": "2022-02-08T09:13:56.855Z"
   },
   {
    "duration": 12,
    "start_time": "2022-02-08T09:14:08.383Z"
   },
   {
    "duration": 13,
    "start_time": "2022-02-08T09:14:19.830Z"
   },
   {
    "duration": 385,
    "start_time": "2022-02-08T09:16:18.203Z"
   },
   {
    "duration": 35,
    "start_time": "2022-02-08T09:16:37.870Z"
   },
   {
    "duration": 39,
    "start_time": "2022-02-08T09:16:59.205Z"
   },
   {
    "duration": 23,
    "start_time": "2022-02-08T09:17:23.286Z"
   },
   {
    "duration": 23,
    "start_time": "2022-02-08T09:18:37.618Z"
   },
   {
    "duration": 45,
    "start_time": "2022-02-08T09:19:49.749Z"
   },
   {
    "duration": 11,
    "start_time": "2022-02-08T09:20:19.517Z"
   },
   {
    "duration": 11,
    "start_time": "2022-02-08T09:20:32.555Z"
   },
   {
    "duration": 29,
    "start_time": "2022-02-08T09:21:24.203Z"
   },
   {
    "duration": 9,
    "start_time": "2022-02-08T09:21:42.052Z"
   },
   {
    "duration": 9,
    "start_time": "2022-02-08T09:21:43.050Z"
   },
   {
    "duration": 9,
    "start_time": "2022-02-08T09:22:55.584Z"
   },
   {
    "duration": 12,
    "start_time": "2022-02-08T09:23:46.045Z"
   },
   {
    "duration": 10,
    "start_time": "2022-02-08T09:23:47.327Z"
   },
   {
    "duration": 15,
    "start_time": "2022-02-08T09:24:12.788Z"
   },
   {
    "duration": 117,
    "start_time": "2022-02-08T10:08:34.373Z"
   },
   {
    "duration": 4,
    "start_time": "2022-02-08T10:08:58.171Z"
   },
   {
    "duration": 15,
    "start_time": "2022-02-08T11:17:13.772Z"
   },
   {
    "duration": 14,
    "start_time": "2022-02-08T11:17:15.405Z"
   },
   {
    "duration": 18,
    "start_time": "2022-02-08T11:17:16.407Z"
   },
   {
    "duration": 18,
    "start_time": "2022-02-08T11:17:17.517Z"
   },
   {
    "duration": 20,
    "start_time": "2022-02-08T11:17:18.133Z"
   },
   {
    "duration": 18,
    "start_time": "2022-02-08T11:17:18.792Z"
   },
   {
    "duration": 372,
    "start_time": "2022-02-08T11:21:45.985Z"
   },
   {
    "duration": 11,
    "start_time": "2022-02-08T11:25:06.895Z"
   },
   {
    "duration": 15,
    "start_time": "2022-02-08T11:28:18.528Z"
   },
   {
    "duration": 22,
    "start_time": "2022-02-08T11:28:30.857Z"
   },
   {
    "duration": 13,
    "start_time": "2022-02-08T11:28:36.778Z"
   },
   {
    "duration": 8,
    "start_time": "2022-02-08T11:29:10.956Z"
   },
   {
    "duration": 11,
    "start_time": "2022-02-08T11:29:13.152Z"
   },
   {
    "duration": 340,
    "start_time": "2022-02-08T11:43:00.929Z"
   },
   {
    "duration": 114,
    "start_time": "2022-02-08T11:43:52.865Z"
   },
   {
    "duration": 562,
    "start_time": "2022-02-08T11:44:32.741Z"
   },
   {
    "duration": 566,
    "start_time": "2022-02-08T11:46:27.087Z"
   },
   {
    "duration": 109,
    "start_time": "2022-02-08T11:47:09.949Z"
   },
   {
    "duration": 107,
    "start_time": "2022-02-08T11:47:47.636Z"
   },
   {
    "duration": 4,
    "start_time": "2022-02-08T11:47:58.249Z"
   },
   {
    "duration": 3,
    "start_time": "2022-02-08T11:48:00.306Z"
   },
   {
    "duration": 4,
    "start_time": "2022-02-08T11:55:04.993Z"
   },
   {
    "duration": 10046,
    "start_time": "2022-02-08T11:56:21.461Z"
   },
   {
    "duration": 3,
    "start_time": "2022-02-08T13:13:27.223Z"
   },
   {
    "duration": 9342,
    "start_time": "2022-02-08T13:13:30.794Z"
   },
   {
    "duration": 309,
    "start_time": "2022-02-08T14:39:34.296Z"
   },
   {
    "duration": 3,
    "start_time": "2022-02-08T14:39:54.785Z"
   },
   {
    "duration": 267,
    "start_time": "2022-02-08T14:39:56.893Z"
   },
   {
    "duration": 867,
    "start_time": "2022-02-08T14:40:08.049Z"
   },
   {
    "duration": 147,
    "start_time": "2022-02-08T14:40:08.918Z"
   },
   {
    "duration": 17,
    "start_time": "2022-02-08T14:40:09.067Z"
   },
   {
    "duration": 46,
    "start_time": "2022-02-08T14:40:09.086Z"
   },
   {
    "duration": 16,
    "start_time": "2022-02-08T14:40:09.134Z"
   },
   {
    "duration": 32,
    "start_time": "2022-02-08T14:40:09.152Z"
   },
   {
    "duration": 5,
    "start_time": "2022-02-08T14:40:09.186Z"
   },
   {
    "duration": 35,
    "start_time": "2022-02-08T14:40:09.193Z"
   },
   {
    "duration": 27,
    "start_time": "2022-02-08T14:40:09.230Z"
   },
   {
    "duration": 54,
    "start_time": "2022-02-08T14:40:09.259Z"
   },
   {
    "duration": 66,
    "start_time": "2022-02-08T14:40:09.315Z"
   },
   {
    "duration": 80,
    "start_time": "2022-02-08T14:40:09.382Z"
   },
   {
    "duration": 64,
    "start_time": "2022-02-08T14:40:09.464Z"
   },
   {
    "duration": 43,
    "start_time": "2022-02-08T14:40:09.530Z"
   },
   {
    "duration": 24,
    "start_time": "2022-02-08T14:40:09.575Z"
   },
   {
    "duration": 27,
    "start_time": "2022-02-08T14:40:09.601Z"
   },
   {
    "duration": 64,
    "start_time": "2022-02-08T14:40:09.629Z"
   },
   {
    "duration": 23,
    "start_time": "2022-02-08T14:40:09.695Z"
   },
   {
    "duration": 35,
    "start_time": "2022-02-08T14:40:09.719Z"
   },
   {
    "duration": 15,
    "start_time": "2022-02-08T14:40:09.756Z"
   },
   {
    "duration": 39,
    "start_time": "2022-02-08T14:40:09.773Z"
   },
   {
    "duration": 32,
    "start_time": "2022-02-08T14:40:09.814Z"
   },
   {
    "duration": 21,
    "start_time": "2022-02-08T14:40:09.849Z"
   },
   {
    "duration": 25,
    "start_time": "2022-02-08T14:40:09.873Z"
   },
   {
    "duration": 32,
    "start_time": "2022-02-08T14:40:09.900Z"
   },
   {
    "duration": 22,
    "start_time": "2022-02-08T14:40:09.934Z"
   },
   {
    "duration": 24,
    "start_time": "2022-02-08T14:40:09.958Z"
   },
   {
    "duration": 36,
    "start_time": "2022-02-08T14:40:09.984Z"
   },
   {
    "duration": 30,
    "start_time": "2022-02-08T14:40:10.021Z"
   },
   {
    "duration": 32,
    "start_time": "2022-02-08T14:40:10.053Z"
   },
   {
    "duration": 72,
    "start_time": "2022-02-08T14:40:10.087Z"
   },
   {
    "duration": 8,
    "start_time": "2022-02-08T14:40:10.161Z"
   },
   {
    "duration": 18,
    "start_time": "2022-02-08T14:40:10.171Z"
   },
   {
    "duration": 9,
    "start_time": "2022-02-08T14:40:10.191Z"
   },
   {
    "duration": 16,
    "start_time": "2022-02-08T14:40:10.202Z"
   },
   {
    "duration": 26,
    "start_time": "2022-02-08T14:40:10.219Z"
   },
   {
    "duration": 18,
    "start_time": "2022-02-08T14:40:10.247Z"
   },
   {
    "duration": 19,
    "start_time": "2022-02-08T14:40:10.267Z"
   },
   {
    "duration": 4,
    "start_time": "2022-02-08T14:45:44.508Z"
   },
   {
    "duration": 17,
    "start_time": "2022-02-08T14:45:46.971Z"
   },
   {
    "duration": 4,
    "start_time": "2022-02-08T14:46:58.850Z"
   },
   {
    "duration": 26,
    "start_time": "2022-02-08T14:46:59.921Z"
   },
   {
    "duration": 4,
    "start_time": "2022-02-08T14:48:49.721Z"
   },
   {
    "duration": 19,
    "start_time": "2022-02-08T14:48:51.908Z"
   },
   {
    "duration": 5,
    "start_time": "2022-02-08T14:50:45.344Z"
   },
   {
    "duration": 4,
    "start_time": "2022-02-08T14:50:56.875Z"
   },
   {
    "duration": 17,
    "start_time": "2022-02-08T14:50:58.128Z"
   },
   {
    "duration": 4,
    "start_time": "2022-02-08T14:51:08.928Z"
   },
   {
    "duration": 17,
    "start_time": "2022-02-08T14:51:10.327Z"
   },
   {
    "duration": 19,
    "start_time": "2022-02-08T14:51:12.720Z"
   },
   {
    "duration": 19,
    "start_time": "2022-02-08T14:51:13.551Z"
   },
   {
    "duration": 4,
    "start_time": "2022-02-08T14:51:36.840Z"
   },
   {
    "duration": 18,
    "start_time": "2022-02-08T14:51:38.015Z"
   },
   {
    "duration": 18,
    "start_time": "2022-02-08T14:51:39.731Z"
   },
   {
    "duration": 19,
    "start_time": "2022-02-08T14:51:45.264Z"
   },
   {
    "duration": 5,
    "start_time": "2022-02-08T14:58:02.972Z"
   },
   {
    "duration": 29,
    "start_time": "2022-02-08T14:58:04.755Z"
   },
   {
    "duration": 4,
    "start_time": "2022-02-08T14:59:13.895Z"
   },
   {
    "duration": 5,
    "start_time": "2022-02-08T14:59:17.614Z"
   },
   {
    "duration": 21,
    "start_time": "2022-02-08T14:59:21.626Z"
   },
   {
    "duration": 4,
    "start_time": "2022-02-08T15:00:09.245Z"
   },
   {
    "duration": -401,
    "start_time": "2022-02-08T15:00:19.630Z"
   },
   {
    "duration": 5,
    "start_time": "2022-02-08T15:00:34.939Z"
   },
   {
    "duration": 7934,
    "start_time": "2022-02-08T15:00:36.051Z"
   },
   {
    "duration": 4,
    "start_time": "2022-02-08T15:04:02.531Z"
   },
   {
    "duration": 20,
    "start_time": "2022-02-08T15:04:03.818Z"
   },
   {
    "duration": 6,
    "start_time": "2022-02-08T15:04:26.330Z"
   },
   {
    "duration": 20,
    "start_time": "2022-02-08T15:04:27.345Z"
   },
   {
    "duration": 4,
    "start_time": "2022-02-08T15:06:52.610Z"
   },
   {
    "duration": 19,
    "start_time": "2022-02-08T15:06:53.807Z"
   },
   {
    "duration": 4,
    "start_time": "2022-02-08T15:07:04.000Z"
   },
   {
    "duration": 21,
    "start_time": "2022-02-08T15:07:04.983Z"
   },
   {
    "duration": 5,
    "start_time": "2022-02-08T15:14:38.836Z"
   },
   {
    "duration": 24,
    "start_time": "2022-02-08T15:14:40.404Z"
   },
   {
    "duration": 4,
    "start_time": "2022-02-08T15:28:28.126Z"
   },
   {
    "duration": 18,
    "start_time": "2022-02-08T15:28:29.573Z"
   },
   {
    "duration": 4,
    "start_time": "2022-02-08T15:31:26.429Z"
   },
   {
    "duration": 561,
    "start_time": "2022-02-08T15:31:27.916Z"
   },
   {
    "duration": 5,
    "start_time": "2022-02-08T15:31:42.309Z"
   },
   {
    "duration": 537,
    "start_time": "2022-02-08T15:31:44.516Z"
   },
   {
    "duration": 5,
    "start_time": "2022-02-08T15:32:05.172Z"
   },
   {
    "duration": 20,
    "start_time": "2022-02-08T15:32:06.517Z"
   },
   {
    "duration": 4,
    "start_time": "2022-02-08T15:33:10.217Z"
   },
   {
    "duration": 19,
    "start_time": "2022-02-08T15:33:11.083Z"
   },
   {
    "duration": 4,
    "start_time": "2022-02-08T15:33:27.644Z"
   },
   {
    "duration": 4,
    "start_time": "2022-02-08T15:34:09.797Z"
   },
   {
    "duration": 29,
    "start_time": "2022-02-08T15:34:10.515Z"
   },
   {
    "duration": 4,
    "start_time": "2022-02-08T15:35:39.516Z"
   },
   {
    "duration": -461,
    "start_time": "2022-02-08T15:36:01.350Z"
   },
   {
    "duration": -464,
    "start_time": "2022-02-08T15:36:01.354Z"
   },
   {
    "duration": -430,
    "start_time": "2022-02-08T15:36:19.192Z"
   },
   {
    "duration": -434,
    "start_time": "2022-02-08T15:36:19.197Z"
   },
   {
    "duration": 5,
    "start_time": "2022-02-08T15:36:43.459Z"
   },
   {
    "duration": 29,
    "start_time": "2022-02-08T15:36:44.185Z"
   },
   {
    "duration": 4,
    "start_time": "2022-02-08T15:36:54.051Z"
   },
   {
    "duration": 23,
    "start_time": "2022-02-08T15:36:55.049Z"
   },
   {
    "duration": 5,
    "start_time": "2022-02-08T15:38:56.798Z"
   },
   {
    "duration": 28,
    "start_time": "2022-02-08T15:38:57.521Z"
   },
   {
    "duration": 4,
    "start_time": "2022-02-08T15:39:17.665Z"
   },
   {
    "duration": 547,
    "start_time": "2022-02-08T15:39:18.970Z"
   },
   {
    "duration": 4,
    "start_time": "2022-02-08T15:40:12.794Z"
   },
   {
    "duration": 3935,
    "start_time": "2022-02-08T15:40:13.519Z"
   },
   {
    "duration": -501,
    "start_time": "2022-02-08T15:40:17.958Z"
   },
   {
    "duration": 4,
    "start_time": "2022-02-08T15:40:29.953Z"
   },
   {
    "duration": 19,
    "start_time": "2022-02-08T15:40:32.407Z"
   },
   {
    "duration": 16,
    "start_time": "2022-02-08T15:40:37.808Z"
   },
   {
    "duration": 17,
    "start_time": "2022-02-08T15:40:39.674Z"
   },
   {
    "duration": 4,
    "start_time": "2022-02-08T15:41:29.497Z"
   },
   {
    "duration": 17,
    "start_time": "2022-02-08T15:41:31.688Z"
   },
   {
    "duration": 24,
    "start_time": "2022-02-08T15:41:33.832Z"
   },
   {
    "duration": 19,
    "start_time": "2022-02-08T15:41:40.985Z"
   },
   {
    "duration": 4,
    "start_time": "2022-02-08T15:41:41.896Z"
   },
   {
    "duration": 534,
    "start_time": "2022-02-08T15:41:42.784Z"
   },
   {
    "duration": 5,
    "start_time": "2022-02-08T15:42:19.615Z"
   },
   {
    "duration": 21,
    "start_time": "2022-02-08T15:42:21.038Z"
   },
   {
    "duration": 4,
    "start_time": "2022-02-08T15:42:55.383Z"
   },
   {
    "duration": 18,
    "start_time": "2022-02-08T15:42:56.862Z"
   },
   {
    "duration": 5,
    "start_time": "2022-02-08T15:44:32.455Z"
   },
   {
    "duration": 20,
    "start_time": "2022-02-08T15:44:33.087Z"
   },
   {
    "duration": 94,
    "start_time": "2022-02-08T15:45:39.032Z"
   },
   {
    "duration": 4,
    "start_time": "2022-02-08T15:45:47.046Z"
   },
   {
    "duration": 562,
    "start_time": "2022-02-08T15:45:48.486Z"
   },
   {
    "duration": 4,
    "start_time": "2022-02-08T15:46:02.486Z"
   },
   {
    "duration": 581,
    "start_time": "2022-02-08T15:46:03.534Z"
   },
   {
    "duration": 4,
    "start_time": "2022-02-08T15:46:56.888Z"
   },
   {
    "duration": 22,
    "start_time": "2022-02-08T15:46:58.765Z"
   },
   {
    "duration": 4,
    "start_time": "2022-02-08T15:48:29.422Z"
   },
   {
    "duration": -450,
    "start_time": "2022-02-08T15:48:39.641Z"
   },
   {
    "duration": -450,
    "start_time": "2022-02-08T15:48:39.641Z"
   },
   {
    "duration": 609,
    "start_time": "2022-02-08T15:48:46.232Z"
   },
   {
    "duration": 155,
    "start_time": "2022-02-08T15:48:46.844Z"
   },
   {
    "duration": 20,
    "start_time": "2022-02-08T15:48:47.002Z"
   },
   {
    "duration": 31,
    "start_time": "2022-02-08T15:48:47.024Z"
   },
   {
    "duration": 4,
    "start_time": "2022-02-08T15:48:47.057Z"
   },
   {
    "duration": 51,
    "start_time": "2022-02-08T15:48:47.064Z"
   },
   {
    "duration": 4,
    "start_time": "2022-02-08T15:48:47.117Z"
   },
   {
    "duration": 35,
    "start_time": "2022-02-08T15:48:47.124Z"
   },
   {
    "duration": 24,
    "start_time": "2022-02-08T15:48:47.162Z"
   },
   {
    "duration": 30,
    "start_time": "2022-02-08T15:48:47.188Z"
   },
   {
    "duration": 79,
    "start_time": "2022-02-08T15:48:47.220Z"
   },
   {
    "duration": 74,
    "start_time": "2022-02-08T15:48:47.301Z"
   },
   {
    "duration": 72,
    "start_time": "2022-02-08T15:48:47.377Z"
   },
   {
    "duration": 57,
    "start_time": "2022-02-08T15:48:47.450Z"
   },
   {
    "duration": 3,
    "start_time": "2022-02-08T15:48:47.509Z"
   },
   {
    "duration": 14,
    "start_time": "2022-02-08T15:48:47.513Z"
   },
   {
    "duration": 46,
    "start_time": "2022-02-08T15:48:47.531Z"
   },
   {
    "duration": 26,
    "start_time": "2022-02-08T15:48:47.579Z"
   },
   {
    "duration": 12,
    "start_time": "2022-02-08T15:48:47.607Z"
   },
   {
    "duration": 4,
    "start_time": "2022-02-08T15:48:47.620Z"
   },
   {
    "duration": 29,
    "start_time": "2022-02-08T15:48:47.626Z"
   },
   {
    "duration": 14,
    "start_time": "2022-02-08T15:48:47.657Z"
   },
   {
    "duration": 36,
    "start_time": "2022-02-08T15:48:47.675Z"
   },
   {
    "duration": 14,
    "start_time": "2022-02-08T15:48:47.713Z"
   },
   {
    "duration": 16,
    "start_time": "2022-02-08T15:48:47.728Z"
   },
   {
    "duration": 13,
    "start_time": "2022-02-08T15:48:47.746Z"
   },
   {
    "duration": 39,
    "start_time": "2022-02-08T15:48:47.760Z"
   },
   {
    "duration": 12,
    "start_time": "2022-02-08T15:48:47.801Z"
   },
   {
    "duration": 9,
    "start_time": "2022-02-08T15:48:47.815Z"
   },
   {
    "duration": 5,
    "start_time": "2022-02-08T15:48:47.826Z"
   },
   {
    "duration": 32,
    "start_time": "2022-02-08T15:48:47.833Z"
   },
   {
    "duration": 3,
    "start_time": "2022-02-08T15:48:47.867Z"
   },
   {
    "duration": 27,
    "start_time": "2022-02-08T15:48:47.872Z"
   },
   {
    "duration": 6,
    "start_time": "2022-02-08T15:48:47.901Z"
   },
   {
    "duration": 5,
    "start_time": "2022-02-08T15:48:47.909Z"
   },
   {
    "duration": 6,
    "start_time": "2022-02-08T15:48:47.916Z"
   },
   {
    "duration": 6,
    "start_time": "2022-02-08T15:48:47.924Z"
   },
   {
    "duration": 9,
    "start_time": "2022-02-08T15:48:47.932Z"
   },
   {
    "duration": 14,
    "start_time": "2022-02-08T15:49:26.546Z"
   },
   {
    "duration": 18,
    "start_time": "2022-02-08T15:50:35.721Z"
   },
   {
    "duration": 14,
    "start_time": "2022-02-08T15:50:36.993Z"
   },
   {
    "duration": 354,
    "start_time": "2022-02-08T15:55:15.487Z"
   },
   {
    "duration": 296,
    "start_time": "2022-02-08T15:55:24.495Z"
   },
   {
    "duration": 7,
    "start_time": "2022-02-08T15:55:35.871Z"
   },
   {
    "duration": 254,
    "start_time": "2022-02-08T15:57:22.559Z"
   },
   {
    "duration": 261,
    "start_time": "2022-02-08T15:57:51.487Z"
   },
   {
    "duration": 31,
    "start_time": "2022-02-08T15:58:26.518Z"
   },
   {
    "duration": 31,
    "start_time": "2022-02-08T15:58:30.102Z"
   },
   {
    "duration": 5,
    "start_time": "2022-02-08T15:58:50.069Z"
   },
   {
    "duration": 31,
    "start_time": "2022-02-08T16:00:04.014Z"
   },
   {
    "duration": 5,
    "start_time": "2022-02-08T16:00:06.632Z"
   },
   {
    "duration": 6,
    "start_time": "2022-02-08T16:00:09.175Z"
   },
   {
    "duration": 271,
    "start_time": "2022-02-08T16:00:22.545Z"
   },
   {
    "duration": 31,
    "start_time": "2022-02-08T16:00:28.829Z"
   },
   {
    "duration": 266,
    "start_time": "2022-02-08T16:00:50.341Z"
   },
   {
    "duration": 276,
    "start_time": "2022-02-08T16:01:04.677Z"
   },
   {
    "duration": 288,
    "start_time": "2022-02-08T16:01:20.557Z"
   },
   {
    "duration": 668,
    "start_time": "2022-02-08T16:01:27.869Z"
   },
   {
    "duration": 159,
    "start_time": "2022-02-08T16:01:28.540Z"
   },
   {
    "duration": 20,
    "start_time": "2022-02-08T16:01:28.701Z"
   },
   {
    "duration": 27,
    "start_time": "2022-02-08T16:01:28.723Z"
   },
   {
    "duration": 4,
    "start_time": "2022-02-08T16:01:28.753Z"
   },
   {
    "duration": 56,
    "start_time": "2022-02-08T16:01:28.759Z"
   },
   {
    "duration": 14,
    "start_time": "2022-02-08T16:01:28.817Z"
   },
   {
    "duration": 58,
    "start_time": "2022-02-08T16:01:28.834Z"
   },
   {
    "duration": 27,
    "start_time": "2022-02-08T16:01:28.894Z"
   },
   {
    "duration": 24,
    "start_time": "2022-02-08T16:01:28.923Z"
   },
   {
    "duration": 74,
    "start_time": "2022-02-08T16:01:28.949Z"
   },
   {
    "duration": 100,
    "start_time": "2022-02-08T16:01:29.025Z"
   },
   {
    "duration": 57,
    "start_time": "2022-02-08T16:01:29.126Z"
   },
   {
    "duration": 53,
    "start_time": "2022-02-08T16:01:29.184Z"
   },
   {
    "duration": 27,
    "start_time": "2022-02-08T16:01:29.239Z"
   },
   {
    "duration": 20,
    "start_time": "2022-02-08T16:01:29.268Z"
   },
   {
    "duration": 44,
    "start_time": "2022-02-08T16:01:29.290Z"
   },
   {
    "duration": 12,
    "start_time": "2022-02-08T16:01:29.336Z"
   },
   {
    "duration": 13,
    "start_time": "2022-02-08T16:01:29.350Z"
   },
   {
    "duration": 4,
    "start_time": "2022-02-08T16:01:29.365Z"
   },
   {
    "duration": 37,
    "start_time": "2022-02-08T16:01:29.371Z"
   },
   {
    "duration": 14,
    "start_time": "2022-02-08T16:01:29.410Z"
   },
   {
    "duration": 14,
    "start_time": "2022-02-08T16:01:29.428Z"
   },
   {
    "duration": 40,
    "start_time": "2022-02-08T16:01:29.444Z"
   },
   {
    "duration": 40,
    "start_time": "2022-02-08T16:01:29.486Z"
   },
   {
    "duration": 13,
    "start_time": "2022-02-08T16:01:29.528Z"
   },
   {
    "duration": 9,
    "start_time": "2022-02-08T16:01:29.543Z"
   },
   {
    "duration": 16,
    "start_time": "2022-02-08T16:01:29.554Z"
   },
   {
    "duration": 11,
    "start_time": "2022-02-08T16:01:29.572Z"
   },
   {
    "duration": 12,
    "start_time": "2022-02-08T16:01:29.585Z"
   },
   {
    "duration": 38,
    "start_time": "2022-02-08T16:01:29.599Z"
   },
   {
    "duration": 13,
    "start_time": "2022-02-08T16:01:29.638Z"
   },
   {
    "duration": 19,
    "start_time": "2022-02-08T16:01:29.653Z"
   },
   {
    "duration": 28,
    "start_time": "2022-02-08T16:01:29.673Z"
   },
   {
    "duration": 31,
    "start_time": "2022-02-08T16:01:29.702Z"
   },
   {
    "duration": 8,
    "start_time": "2022-02-08T16:01:29.734Z"
   },
   {
    "duration": 4,
    "start_time": "2022-02-08T16:01:29.744Z"
   },
   {
    "duration": 6,
    "start_time": "2022-02-08T16:01:29.750Z"
   },
   {
    "duration": 15,
    "start_time": "2022-02-08T16:02:32.162Z"
   },
   {
    "duration": 607,
    "start_time": "2022-02-08T16:02:41.165Z"
   },
   {
    "duration": 153,
    "start_time": "2022-02-08T16:02:41.776Z"
   },
   {
    "duration": 17,
    "start_time": "2022-02-08T16:02:41.931Z"
   },
   {
    "duration": 31,
    "start_time": "2022-02-08T16:02:41.950Z"
   },
   {
    "duration": 23,
    "start_time": "2022-02-08T16:02:41.982Z"
   },
   {
    "duration": 35,
    "start_time": "2022-02-08T16:02:42.007Z"
   },
   {
    "duration": 23,
    "start_time": "2022-02-08T16:02:42.045Z"
   },
   {
    "duration": 40,
    "start_time": "2022-02-08T16:02:42.070Z"
   },
   {
    "duration": 25,
    "start_time": "2022-02-08T16:02:42.112Z"
   },
   {
    "duration": 28,
    "start_time": "2022-02-08T16:02:42.139Z"
   },
   {
    "duration": 73,
    "start_time": "2022-02-08T16:02:42.168Z"
   },
   {
    "duration": 79,
    "start_time": "2022-02-08T16:02:42.244Z"
   },
   {
    "duration": 56,
    "start_time": "2022-02-08T16:02:42.324Z"
   },
   {
    "duration": 61,
    "start_time": "2022-02-08T16:02:42.383Z"
   },
   {
    "duration": 3,
    "start_time": "2022-02-08T16:02:42.446Z"
   },
   {
    "duration": 34,
    "start_time": "2022-02-08T16:02:42.452Z"
   },
   {
    "duration": 73,
    "start_time": "2022-02-08T16:02:42.489Z"
   },
   {
    "duration": 34,
    "start_time": "2022-02-08T16:02:42.563Z"
   },
   {
    "duration": 14,
    "start_time": "2022-02-08T16:02:42.599Z"
   },
   {
    "duration": 6,
    "start_time": "2022-02-08T16:02:42.615Z"
   },
   {
    "duration": 55,
    "start_time": "2022-02-08T16:02:42.623Z"
   },
   {
    "duration": 24,
    "start_time": "2022-02-08T16:02:42.682Z"
   },
   {
    "duration": 16,
    "start_time": "2022-02-08T16:02:42.708Z"
   },
   {
    "duration": 25,
    "start_time": "2022-02-08T16:02:42.726Z"
   },
   {
    "duration": 16,
    "start_time": "2022-02-08T16:02:42.753Z"
   },
   {
    "duration": 29,
    "start_time": "2022-02-08T16:02:42.771Z"
   },
   {
    "duration": 20,
    "start_time": "2022-02-08T16:02:42.802Z"
   },
   {
    "duration": 23,
    "start_time": "2022-02-08T16:02:42.823Z"
   },
   {
    "duration": 26,
    "start_time": "2022-02-08T16:02:42.848Z"
   },
   {
    "duration": 5,
    "start_time": "2022-02-08T16:02:42.876Z"
   },
   {
    "duration": 358,
    "start_time": "2022-02-08T16:02:42.883Z"
   },
   {
    "duration": -446,
    "start_time": "2022-02-08T16:02:43.689Z"
   },
   {
    "duration": -446,
    "start_time": "2022-02-08T16:02:43.690Z"
   },
   {
    "duration": -450,
    "start_time": "2022-02-08T16:02:43.696Z"
   },
   {
    "duration": -453,
    "start_time": "2022-02-08T16:02:43.700Z"
   },
   {
    "duration": -454,
    "start_time": "2022-02-08T16:02:43.702Z"
   },
   {
    "duration": -456,
    "start_time": "2022-02-08T16:02:43.705Z"
   },
   {
    "duration": -466,
    "start_time": "2022-02-08T16:02:43.717Z"
   },
   {
    "duration": 12,
    "start_time": "2022-02-08T16:02:57.659Z"
   },
   {
    "duration": 24,
    "start_time": "2022-02-08T16:03:18.283Z"
   },
   {
    "duration": 20,
    "start_time": "2022-02-08T16:03:37.915Z"
   },
   {
    "duration": 280,
    "start_time": "2022-02-08T16:04:16.115Z"
   },
   {
    "duration": 317,
    "start_time": "2022-02-08T16:04:28.355Z"
   },
   {
    "duration": 610,
    "start_time": "2022-02-08T16:04:33.850Z"
   },
   {
    "duration": 155,
    "start_time": "2022-02-08T16:04:34.462Z"
   },
   {
    "duration": 19,
    "start_time": "2022-02-08T16:04:34.619Z"
   },
   {
    "duration": 26,
    "start_time": "2022-02-08T16:04:34.640Z"
   },
   {
    "duration": 4,
    "start_time": "2022-02-08T16:04:34.668Z"
   },
   {
    "duration": 46,
    "start_time": "2022-02-08T16:04:34.674Z"
   },
   {
    "duration": 8,
    "start_time": "2022-02-08T16:04:34.722Z"
   },
   {
    "duration": 28,
    "start_time": "2022-02-08T16:04:34.732Z"
   },
   {
    "duration": 35,
    "start_time": "2022-02-08T16:04:34.763Z"
   },
   {
    "duration": 26,
    "start_time": "2022-02-08T16:04:34.801Z"
   },
   {
    "duration": 80,
    "start_time": "2022-02-08T16:04:34.829Z"
   },
   {
    "duration": 66,
    "start_time": "2022-02-08T16:04:34.910Z"
   },
   {
    "duration": 71,
    "start_time": "2022-02-08T16:04:34.978Z"
   },
   {
    "duration": 52,
    "start_time": "2022-02-08T16:04:35.050Z"
   },
   {
    "duration": 3,
    "start_time": "2022-02-08T16:04:35.104Z"
   },
   {
    "duration": 15,
    "start_time": "2022-02-08T16:04:35.108Z"
   },
   {
    "duration": 45,
    "start_time": "2022-02-08T16:04:35.125Z"
   },
   {
    "duration": 30,
    "start_time": "2022-02-08T16:04:35.171Z"
   },
   {
    "duration": 12,
    "start_time": "2022-02-08T16:04:35.203Z"
   },
   {
    "duration": 4,
    "start_time": "2022-02-08T16:04:35.216Z"
   },
   {
    "duration": 27,
    "start_time": "2022-02-08T16:04:35.222Z"
   },
   {
    "duration": 18,
    "start_time": "2022-02-08T16:04:35.251Z"
   },
   {
    "duration": 40,
    "start_time": "2022-02-08T16:04:35.271Z"
   },
   {
    "duration": 16,
    "start_time": "2022-02-08T16:04:35.313Z"
   },
   {
    "duration": 17,
    "start_time": "2022-02-08T16:04:35.331Z"
   },
   {
    "duration": 16,
    "start_time": "2022-02-08T16:04:35.350Z"
   },
   {
    "duration": 36,
    "start_time": "2022-02-08T16:04:35.369Z"
   },
   {
    "duration": 26,
    "start_time": "2022-02-08T16:04:35.407Z"
   },
   {
    "duration": 18,
    "start_time": "2022-02-08T16:04:35.435Z"
   },
   {
    "duration": 9,
    "start_time": "2022-02-08T16:04:35.455Z"
   },
   {
    "duration": 43,
    "start_time": "2022-02-08T16:04:35.466Z"
   },
   {
    "duration": 13,
    "start_time": "2022-02-08T16:04:35.511Z"
   },
   {
    "duration": 24,
    "start_time": "2022-02-08T16:04:35.525Z"
   },
   {
    "duration": 12,
    "start_time": "2022-02-08T16:04:35.551Z"
   },
   {
    "duration": 361,
    "start_time": "2022-02-08T16:04:35.565Z"
   },
   {
    "duration": -465,
    "start_time": "2022-02-08T16:04:36.393Z"
   },
   {
    "duration": -469,
    "start_time": "2022-02-08T16:04:36.398Z"
   },
   {
    "duration": -471,
    "start_time": "2022-02-08T16:04:36.401Z"
   },
   {
    "duration": 265,
    "start_time": "2022-02-08T16:05:06.873Z"
   },
   {
    "duration": 257,
    "start_time": "2022-02-08T16:05:19.838Z"
   },
   {
    "duration": 605,
    "start_time": "2022-02-08T16:05:29.647Z"
   },
   {
    "duration": 161,
    "start_time": "2022-02-08T16:05:30.254Z"
   },
   {
    "duration": 17,
    "start_time": "2022-02-08T16:05:30.417Z"
   },
   {
    "duration": 36,
    "start_time": "2022-02-08T16:05:30.436Z"
   },
   {
    "duration": 17,
    "start_time": "2022-02-08T16:05:30.474Z"
   },
   {
    "duration": 37,
    "start_time": "2022-02-08T16:05:30.492Z"
   },
   {
    "duration": 16,
    "start_time": "2022-02-08T16:05:30.531Z"
   },
   {
    "duration": 35,
    "start_time": "2022-02-08T16:05:30.550Z"
   },
   {
    "duration": 37,
    "start_time": "2022-02-08T16:05:30.588Z"
   },
   {
    "duration": 44,
    "start_time": "2022-02-08T16:05:30.628Z"
   },
   {
    "duration": 75,
    "start_time": "2022-02-08T16:05:30.675Z"
   },
   {
    "duration": 90,
    "start_time": "2022-02-08T16:05:30.752Z"
   },
   {
    "duration": 63,
    "start_time": "2022-02-08T16:05:30.844Z"
   },
   {
    "duration": 43,
    "start_time": "2022-02-08T16:05:30.909Z"
   },
   {
    "duration": 12,
    "start_time": "2022-02-08T16:05:30.954Z"
   },
   {
    "duration": 51,
    "start_time": "2022-02-08T16:05:30.967Z"
   },
   {
    "duration": 57,
    "start_time": "2022-02-08T16:05:31.020Z"
   },
   {
    "duration": 13,
    "start_time": "2022-02-08T16:05:31.079Z"
   },
   {
    "duration": 18,
    "start_time": "2022-02-08T16:05:31.094Z"
   },
   {
    "duration": 4,
    "start_time": "2022-02-08T16:05:31.114Z"
   },
   {
    "duration": 28,
    "start_time": "2022-02-08T16:05:31.119Z"
   },
   {
    "duration": 23,
    "start_time": "2022-02-08T16:05:31.149Z"
   },
   {
    "duration": 16,
    "start_time": "2022-02-08T16:05:31.175Z"
   },
   {
    "duration": 15,
    "start_time": "2022-02-08T16:05:31.198Z"
   },
   {
    "duration": 22,
    "start_time": "2022-02-08T16:05:31.215Z"
   },
   {
    "duration": 17,
    "start_time": "2022-02-08T16:05:31.238Z"
   },
   {
    "duration": 12,
    "start_time": "2022-02-08T16:05:31.257Z"
   },
   {
    "duration": 44,
    "start_time": "2022-02-08T16:05:31.271Z"
   },
   {
    "duration": 19,
    "start_time": "2022-02-08T16:05:31.316Z"
   },
   {
    "duration": 4,
    "start_time": "2022-02-08T16:05:31.337Z"
   },
   {
    "duration": 31,
    "start_time": "2022-02-08T16:05:31.342Z"
   },
   {
    "duration": 31,
    "start_time": "2022-02-08T16:05:31.375Z"
   },
   {
    "duration": 18,
    "start_time": "2022-02-08T16:05:31.408Z"
   },
   {
    "duration": 14,
    "start_time": "2022-02-08T16:05:31.427Z"
   },
   {
    "duration": 363,
    "start_time": "2022-02-08T16:05:31.442Z"
   },
   {
    "duration": -435,
    "start_time": "2022-02-08T16:05:32.242Z"
   },
   {
    "duration": -445,
    "start_time": "2022-02-08T16:05:32.253Z"
   },
   {
    "duration": -466,
    "start_time": "2022-02-08T16:05:32.275Z"
   },
   {
    "duration": 644,
    "start_time": "2022-02-08T16:05:50.285Z"
   },
   {
    "duration": 158,
    "start_time": "2022-02-08T16:05:50.931Z"
   },
   {
    "duration": 18,
    "start_time": "2022-02-08T16:05:51.092Z"
   },
   {
    "duration": 31,
    "start_time": "2022-02-08T16:05:51.112Z"
   },
   {
    "duration": 4,
    "start_time": "2022-02-08T16:05:51.145Z"
   },
   {
    "duration": 50,
    "start_time": "2022-02-08T16:05:51.151Z"
   },
   {
    "duration": 4,
    "start_time": "2022-02-08T16:05:51.203Z"
   },
   {
    "duration": 27,
    "start_time": "2022-02-08T16:05:51.209Z"
   },
   {
    "duration": 21,
    "start_time": "2022-02-08T16:05:51.239Z"
   },
   {
    "duration": 41,
    "start_time": "2022-02-08T16:05:51.262Z"
   },
   {
    "duration": 69,
    "start_time": "2022-02-08T16:05:51.304Z"
   },
   {
    "duration": 86,
    "start_time": "2022-02-08T16:05:51.375Z"
   },
   {
    "duration": 70,
    "start_time": "2022-02-08T16:05:51.463Z"
   },
   {
    "duration": 46,
    "start_time": "2022-02-08T16:05:51.535Z"
   },
   {
    "duration": 17,
    "start_time": "2022-02-08T16:05:51.582Z"
   },
   {
    "duration": 16,
    "start_time": "2022-02-08T16:05:51.601Z"
   },
   {
    "duration": 47,
    "start_time": "2022-02-08T16:05:51.619Z"
   },
   {
    "duration": 12,
    "start_time": "2022-02-08T16:05:51.668Z"
   },
   {
    "duration": 13,
    "start_time": "2022-02-08T16:05:51.699Z"
   },
   {
    "duration": 3,
    "start_time": "2022-02-08T16:05:51.714Z"
   },
   {
    "duration": 23,
    "start_time": "2022-02-08T16:05:51.719Z"
   },
   {
    "duration": 15,
    "start_time": "2022-02-08T16:05:51.743Z"
   },
   {
    "duration": 37,
    "start_time": "2022-02-08T16:05:51.762Z"
   },
   {
    "duration": 14,
    "start_time": "2022-02-08T16:05:51.801Z"
   },
   {
    "duration": 17,
    "start_time": "2022-02-08T16:05:51.816Z"
   },
   {
    "duration": 15,
    "start_time": "2022-02-08T16:05:51.834Z"
   },
   {
    "duration": 9,
    "start_time": "2022-02-08T16:05:51.851Z"
   },
   {
    "duration": 54,
    "start_time": "2022-02-08T16:05:51.861Z"
   },
   {
    "duration": 19,
    "start_time": "2022-02-08T16:05:51.917Z"
   },
   {
    "duration": 4,
    "start_time": "2022-02-08T16:05:51.938Z"
   },
   {
    "duration": 32,
    "start_time": "2022-02-08T16:05:51.943Z"
   },
   {
    "duration": 27,
    "start_time": "2022-02-08T16:05:51.977Z"
   },
   {
    "duration": 17,
    "start_time": "2022-02-08T16:05:52.006Z"
   },
   {
    "duration": 13,
    "start_time": "2022-02-08T16:05:52.025Z"
   },
   {
    "duration": 611,
    "start_time": "2022-02-08T16:05:52.040Z"
   },
   {
    "duration": -452,
    "start_time": "2022-02-08T16:05:53.105Z"
   },
   {
    "duration": -463,
    "start_time": "2022-02-08T16:05:53.117Z"
   },
   {
    "duration": -466,
    "start_time": "2022-02-08T16:05:53.121Z"
   },
   {
    "duration": 285,
    "start_time": "2022-02-08T16:07:30.460Z"
   },
   {
    "duration": 621,
    "start_time": "2022-02-08T16:07:41.030Z"
   },
   {
    "duration": 152,
    "start_time": "2022-02-08T16:07:41.653Z"
   },
   {
    "duration": 18,
    "start_time": "2022-02-08T16:07:41.807Z"
   },
   {
    "duration": 28,
    "start_time": "2022-02-08T16:07:41.826Z"
   },
   {
    "duration": 5,
    "start_time": "2022-02-08T16:07:41.857Z"
   },
   {
    "duration": 52,
    "start_time": "2022-02-08T16:07:41.864Z"
   },
   {
    "duration": 6,
    "start_time": "2022-02-08T16:07:41.918Z"
   },
   {
    "duration": 29,
    "start_time": "2022-02-08T16:07:41.928Z"
   },
   {
    "duration": 39,
    "start_time": "2022-02-08T16:07:41.959Z"
   },
   {
    "duration": 25,
    "start_time": "2022-02-08T16:07:42.001Z"
   },
   {
    "duration": 80,
    "start_time": "2022-02-08T16:07:42.028Z"
   },
   {
    "duration": 89,
    "start_time": "2022-02-08T16:07:42.110Z"
   },
   {
    "duration": 59,
    "start_time": "2022-02-08T16:07:42.200Z"
   },
   {
    "duration": 53,
    "start_time": "2022-02-08T16:07:42.261Z"
   },
   {
    "duration": 3,
    "start_time": "2022-02-08T16:07:42.315Z"
   },
   {
    "duration": 14,
    "start_time": "2022-02-08T16:07:42.320Z"
   },
   {
    "duration": 65,
    "start_time": "2022-02-08T16:07:42.335Z"
   },
   {
    "duration": 13,
    "start_time": "2022-02-08T16:07:42.402Z"
   },
   {
    "duration": 15,
    "start_time": "2022-02-08T16:07:42.417Z"
   },
   {
    "duration": 4,
    "start_time": "2022-02-08T16:07:42.434Z"
   },
   {
    "duration": 25,
    "start_time": "2022-02-08T16:07:42.440Z"
   },
   {
    "duration": 37,
    "start_time": "2022-02-08T16:07:42.467Z"
   },
   {
    "duration": 15,
    "start_time": "2022-02-08T16:07:42.507Z"
   },
   {
    "duration": 14,
    "start_time": "2022-02-08T16:07:42.525Z"
   },
   {
    "duration": 17,
    "start_time": "2022-02-08T16:07:42.541Z"
   },
   {
    "duration": 41,
    "start_time": "2022-02-08T16:07:42.560Z"
   },
   {
    "duration": 9,
    "start_time": "2022-02-08T16:07:42.602Z"
   },
   {
    "duration": 29,
    "start_time": "2022-02-08T16:07:42.613Z"
   },
   {
    "duration": 19,
    "start_time": "2022-02-08T16:07:42.644Z"
   },
   {
    "duration": 4,
    "start_time": "2022-02-08T16:07:42.664Z"
   },
   {
    "duration": 48,
    "start_time": "2022-02-08T16:07:42.670Z"
   },
   {
    "duration": 14,
    "start_time": "2022-02-08T16:07:42.721Z"
   },
   {
    "duration": 20,
    "start_time": "2022-02-08T16:07:42.737Z"
   },
   {
    "duration": 43,
    "start_time": "2022-02-08T16:07:42.759Z"
   },
   {
    "duration": 8,
    "start_time": "2022-02-08T16:07:42.804Z"
   },
   {
    "duration": 5,
    "start_time": "2022-02-08T16:07:42.814Z"
   },
   {
    "duration": 7,
    "start_time": "2022-02-08T16:07:42.820Z"
   },
   {
    "duration": 6,
    "start_time": "2022-02-08T16:07:42.828Z"
   },
   {
    "duration": 6,
    "start_time": "2022-02-08T16:08:19.395Z"
   },
   {
    "duration": 5,
    "start_time": "2022-02-08T16:08:40.107Z"
   }
  ],
  "colab": {
   "collapsed_sections": [
    "E0vqbgi9ay0H",
    "VUC88oWjTJw2"
   ],
   "name": "yandex_music_project_2021.2.ipynb",
   "provenance": []
  },
  "kernelspec": {
   "display_name": "Python 3 (ipykernel)",
   "language": "python",
   "name": "python3"
  },
  "language_info": {
   "codemirror_mode": {
    "name": "ipython",
    "version": 3
   },
   "file_extension": ".py",
   "mimetype": "text/x-python",
   "name": "python",
   "nbconvert_exporter": "python",
   "pygments_lexer": "ipython3",
   "version": "3.9.5"
  },
  "toc": {
   "base_numbering": 1,
   "nav_menu": {},
   "number_sections": true,
   "sideBar": true,
   "skip_h1_title": true,
   "title_cell": "Table of Contents",
   "title_sidebar": "Contents",
   "toc_cell": false,
   "toc_position": {},
   "toc_section_display": true,
   "toc_window_display": true
  }
 },
 "nbformat": 4,
 "nbformat_minor": 1
}
