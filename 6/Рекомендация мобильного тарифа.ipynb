{
 "cells": [
  {
   "cell_type": "markdown",
   "metadata": {},
   "source": [
    "# Рекомендация мобильного тарифа"
   ]
  },
  {
   "cell_type": "markdown",
   "metadata": {},
   "source": [
    "В вашем распоряжении данные о поведении клиентов, которые уже перешли на эти тарифы (из проекта курса «Статистический анализ данных»). Нужно построить модель для задачи классификации, которая выберет подходящий тариф. Предобработка данных не понадобится — вы её уже сделали.\n",
    "\n",
    "Постройте модель с максимально большим значением *accuracy*. Чтобы сдать проект успешно, нужно довести долю правильных ответов по крайней мере до 0.75. Проверьте *accuracy* на тестовой выборке самостоятельно."
   ]
  },
  {
   "cell_type": "markdown",
   "metadata": {},
   "source": [
    "## Откройте и изучите файл"
   ]
  },
  {
   "cell_type": "code",
   "execution_count": 1,
   "metadata": {},
   "outputs": [],
   "source": [
    "import pandas as pd\n",
    "from sklearn.model_selection import train_test_split, GridSearchCV\n",
    "from sklearn.tree import DecisionTreeClassifier\n",
    "from sklearn.ensemble import RandomForestClassifier\n",
    "from sklearn.linear_model import LogisticRegression\n",
    "from sklearn.metrics import accuracy_score\n",
    "from sklearn.dummy import DummyClassifier"
   ]
  },
  {
   "cell_type": "code",
   "execution_count": 2,
   "metadata": {},
   "outputs": [
    {
     "data": {
      "text/html": [
       "<div>\n",
       "<style scoped>\n",
       "    .dataframe tbody tr th:only-of-type {\n",
       "        vertical-align: middle;\n",
       "    }\n",
       "\n",
       "    .dataframe tbody tr th {\n",
       "        vertical-align: top;\n",
       "    }\n",
       "\n",
       "    .dataframe thead th {\n",
       "        text-align: right;\n",
       "    }\n",
       "</style>\n",
       "<table border=\"1\" class=\"dataframe\">\n",
       "  <thead>\n",
       "    <tr style=\"text-align: right;\">\n",
       "      <th></th>\n",
       "      <th>calls</th>\n",
       "      <th>minutes</th>\n",
       "      <th>messages</th>\n",
       "      <th>mb_used</th>\n",
       "      <th>is_ultra</th>\n",
       "    </tr>\n",
       "  </thead>\n",
       "  <tbody>\n",
       "    <tr>\n",
       "      <th>0</th>\n",
       "      <td>40.0</td>\n",
       "      <td>311.90</td>\n",
       "      <td>83.0</td>\n",
       "      <td>19915.42</td>\n",
       "      <td>0</td>\n",
       "    </tr>\n",
       "    <tr>\n",
       "      <th>1</th>\n",
       "      <td>85.0</td>\n",
       "      <td>516.75</td>\n",
       "      <td>56.0</td>\n",
       "      <td>22696.96</td>\n",
       "      <td>0</td>\n",
       "    </tr>\n",
       "    <tr>\n",
       "      <th>2</th>\n",
       "      <td>77.0</td>\n",
       "      <td>467.66</td>\n",
       "      <td>86.0</td>\n",
       "      <td>21060.45</td>\n",
       "      <td>0</td>\n",
       "    </tr>\n",
       "    <tr>\n",
       "      <th>3</th>\n",
       "      <td>106.0</td>\n",
       "      <td>745.53</td>\n",
       "      <td>81.0</td>\n",
       "      <td>8437.39</td>\n",
       "      <td>1</td>\n",
       "    </tr>\n",
       "    <tr>\n",
       "      <th>4</th>\n",
       "      <td>66.0</td>\n",
       "      <td>418.74</td>\n",
       "      <td>1.0</td>\n",
       "      <td>14502.75</td>\n",
       "      <td>0</td>\n",
       "    </tr>\n",
       "    <tr>\n",
       "      <th>5</th>\n",
       "      <td>58.0</td>\n",
       "      <td>344.56</td>\n",
       "      <td>21.0</td>\n",
       "      <td>15823.37</td>\n",
       "      <td>0</td>\n",
       "    </tr>\n",
       "    <tr>\n",
       "      <th>6</th>\n",
       "      <td>57.0</td>\n",
       "      <td>431.64</td>\n",
       "      <td>20.0</td>\n",
       "      <td>3738.90</td>\n",
       "      <td>1</td>\n",
       "    </tr>\n",
       "    <tr>\n",
       "      <th>7</th>\n",
       "      <td>15.0</td>\n",
       "      <td>132.40</td>\n",
       "      <td>6.0</td>\n",
       "      <td>21911.60</td>\n",
       "      <td>0</td>\n",
       "    </tr>\n",
       "    <tr>\n",
       "      <th>8</th>\n",
       "      <td>7.0</td>\n",
       "      <td>43.39</td>\n",
       "      <td>3.0</td>\n",
       "      <td>2538.67</td>\n",
       "      <td>1</td>\n",
       "    </tr>\n",
       "    <tr>\n",
       "      <th>9</th>\n",
       "      <td>90.0</td>\n",
       "      <td>665.41</td>\n",
       "      <td>38.0</td>\n",
       "      <td>17358.61</td>\n",
       "      <td>0</td>\n",
       "    </tr>\n",
       "  </tbody>\n",
       "</table>\n",
       "</div>"
      ],
      "text/plain": [
       "   calls  minutes  messages   mb_used  is_ultra\n",
       "0   40.0   311.90      83.0  19915.42         0\n",
       "1   85.0   516.75      56.0  22696.96         0\n",
       "2   77.0   467.66      86.0  21060.45         0\n",
       "3  106.0   745.53      81.0   8437.39         1\n",
       "4   66.0   418.74       1.0  14502.75         0\n",
       "5   58.0   344.56      21.0  15823.37         0\n",
       "6   57.0   431.64      20.0   3738.90         1\n",
       "7   15.0   132.40       6.0  21911.60         0\n",
       "8    7.0    43.39       3.0   2538.67         1\n",
       "9   90.0   665.41      38.0  17358.61         0"
      ]
     },
     "execution_count": 2,
     "metadata": {},
     "output_type": "execute_result"
    }
   ],
   "source": [
    "df = pd.read_csv('/datasets/users_behavior.csv')\n",
    "df.head(10)"
   ]
  },
  {
   "cell_type": "code",
   "execution_count": 3,
   "metadata": {},
   "outputs": [
    {
     "name": "stdout",
     "output_type": "stream",
     "text": [
      "<class 'pandas.core.frame.DataFrame'>\n",
      "RangeIndex: 3214 entries, 0 to 3213\n",
      "Data columns (total 5 columns):\n",
      " #   Column    Non-Null Count  Dtype  \n",
      "---  ------    --------------  -----  \n",
      " 0   calls     3214 non-null   float64\n",
      " 1   minutes   3214 non-null   float64\n",
      " 2   messages  3214 non-null   float64\n",
      " 3   mb_used   3214 non-null   float64\n",
      " 4   is_ultra  3214 non-null   int64  \n",
      "dtypes: float64(4), int64(1)\n",
      "memory usage: 125.7 KB\n"
     ]
    }
   ],
   "source": [
    "df.info()"
   ]
  },
  {
   "cell_type": "markdown",
   "metadata": {},
   "source": [
    "## Разбейте данные на выборки"
   ]
  },
  {
   "cell_type": "markdown",
   "metadata": {},
   "source": [
    "Разделим данные на обучающую, валидационнуюи тренировочную выборки.\n",
    "Вначале разделим на обучающую и валидационную, а затем валидационную разделим пополам на валидационную и тренировочную."
   ]
  },
  {
   "cell_type": "code",
   "execution_count": 4,
   "metadata": {},
   "outputs": [],
   "source": [
    "df_train, df_valid = train_test_split(df, train_size=0.60, test_size=0.40, random_state=17)"
   ]
  },
  {
   "cell_type": "code",
   "execution_count": 5,
   "metadata": {},
   "outputs": [],
   "source": [
    "df_valid, df_test = train_test_split(df_valid, train_size=0.50, test_size=0.50, random_state=17)"
   ]
  },
  {
   "cell_type": "markdown",
   "metadata": {},
   "source": [
    "В каждой выборке выделяем признаки и целевой признак."
   ]
  },
  {
   "cell_type": "code",
   "execution_count": 6,
   "metadata": {},
   "outputs": [],
   "source": [
    "# обучающая выборка\n",
    "features_train = df_train.drop(['is_ultra'], axis=1)\n",
    "target_train = df_train['is_ultra']\n",
    "\n",
    "# валидационная выборка\n",
    "features_valid = df_valid.drop(['is_ultra'], axis=1)\n",
    "target_valid = df_valid['is_ultra']\n",
    "\n",
    "# тестовая выборка\n",
    "features_test = df_test.drop(['is_ultra'], axis=1)\n",
    "target_test = df_test['is_ultra']"
   ]
  },
  {
   "cell_type": "code",
   "execution_count": 20,
   "metadata": {
    "scrolled": true
   },
   "outputs": [
    {
     "name": "stdout",
     "output_type": "stream",
     "text": [
      "Размеры выборок \n",
      "Обучающей: (1928, 4) \n",
      "Валидационной: (643, 4) \n",
      "Тестовой: (643, 4)\n"
     ]
    }
   ],
   "source": [
    "print('Размеры выборок \\nОбучающей:',\n",
    "      features_train.shape,\n",
    "      '\\nВалидационной:',\n",
    "      features_valid.shape,\n",
    "      '\\nТестовой:',\n",
    "      features_test.shape)"
   ]
  },
  {
   "cell_type": "markdown",
   "metadata": {},
   "source": [
    "## Исследуйте модели"
   ]
  },
  {
   "cell_type": "markdown",
   "metadata": {},
   "source": [
    "### Решающее древо"
   ]
  },
  {
   "cell_type": "code",
   "execution_count": 7,
   "metadata": {},
   "outputs": [
    {
     "name": "stdout",
     "output_type": "stream",
     "text": [
      "Accuracy модели древа на валидационной выборке: 0.7993779160186625\n",
      "Глубина древа: 3\n"
     ]
    }
   ],
   "source": [
    "best_model_tree = None\n",
    "best_result_tree = 0\n",
    "\n",
    "for depth in range(1,5):\n",
    "    model_tree = DecisionTreeClassifier(random_state=12345, max_depth=depth)\n",
    "    model_tree.fit(features_train, target_train)\n",
    "    predictions_tree = model_tree.predict(features_valid)\n",
    "    accuracy_tree = accuracy_score(target_valid, predictions_tree)\n",
    "    if accuracy_tree > best_result_tree:\n",
    "        best_result_tree = accuracy_tree\n",
    "        best_model_tree = model_tree\n",
    "        depth_p = depth\n",
    "        \n",
    "print(\"Accuracy модели древа на валидационной выборке:\",accuracy_tree)\n",
    "print('Глубина древа:', depth_p)"
   ]
  },
  {
   "cell_type": "markdown",
   "metadata": {},
   "source": [
    "### Случайный лес"
   ]
  },
  {
   "cell_type": "code",
   "execution_count": 8,
   "metadata": {
    "scrolled": true
   },
   "outputs": [
    {
     "name": "stdout",
     "output_type": "stream",
     "text": [
      "Accuracy модели случайного леса на валидационной выборке: 0.807153965785381\n",
      "Наилучшее количество деревьев: 8\n",
      "Лучшая глубина древа: 3\n"
     ]
    }
   ],
   "source": [
    "best_model_forest = None\n",
    "best_result_forest = 0\n",
    "\n",
    "for est in range(1,10):\n",
    "    for depth in range(1,5):\n",
    "        model_forest = RandomForestClassifier(random_state=12345, n_estimators=est, max_depth = depth)\n",
    "        model_forest.fit(features_train, target_train)\n",
    "        predictions_forest = model_forest.predict(features_valid)\n",
    "        accuracy_forest = accuracy_score(target_valid, predictions_forest)\n",
    "        if accuracy_forest > best_result_forest:\n",
    "            best_result_forest = accuracy_forest\n",
    "            best_model_forest = model_forest\n",
    "            est_forest = est\n",
    "            depth_f = depth\n",
    "            \n",
    "print(\"Accuracy модели случайного леса на валидационной выборке:\",accuracy_forest)\n",
    "print('Наилучшее количество деревьев:', est_forest)\n",
    "print('Лучшая глубина древа:', depth_f)"
   ]
  },
  {
   "cell_type": "markdown",
   "metadata": {},
   "source": [
    "### Логистическая регрессия"
   ]
  },
  {
   "cell_type": "code",
   "execution_count": 9,
   "metadata": {},
   "outputs": [
    {
     "name": "stdout",
     "output_type": "stream",
     "text": [
      "Accuracy модели регрессии на валидационной выборке: 0.76049766718507\n"
     ]
    }
   ],
   "source": [
    "model_reg = LogisticRegression(random_state=12345)\n",
    "\n",
    "model_reg.fit(features_train, target_train)\n",
    "\n",
    "predictions_reg = model_reg.predict(features_valid)\n",
    "\n",
    "accuracy_reg = accuracy_score(target_valid, predictions_reg)\n",
    "\n",
    "print(\"Accuracy модели регрессии на валидационной выборке:\",accuracy_reg)"
   ]
  },
  {
   "cell_type": "markdown",
   "metadata": {},
   "source": [
    "Из проверенных на валидационной выборке моделях можно выбрать модель случайного леса у нее лучшие показатели."
   ]
  },
  {
   "cell_type": "markdown",
   "metadata": {},
   "source": [
    "## Проверьте модель на тестовой выборке"
   ]
  },
  {
   "cell_type": "code",
   "execution_count": 10,
   "metadata": {},
   "outputs": [],
   "source": [
    "def test_model(model):\n",
    "    predictions = model.predict(features_test)\n",
    "    accuracy = accuracy_score(target_test, predictions)\n",
    "    return accuracy"
   ]
  },
  {
   "cell_type": "code",
   "execution_count": 11,
   "metadata": {},
   "outputs": [
    {
     "name": "stdout",
     "output_type": "stream",
     "text": [
      "Accuracy лучшей модели случайного леса на тестовой выборке: 0.7822706065318819\n"
     ]
    }
   ],
   "source": [
    "print(\"Accuracy лучшей модели случайного леса на тестовой выборке:\",test_model(best_model_forest))"
   ]
  },
  {
   "cell_type": "markdown",
   "metadata": {},
   "source": [
    "## (бонус) Проверьте модели на адекватность"
   ]
  },
  {
   "cell_type": "markdown",
   "metadata": {},
   "source": [
    "Для проверки модели на адекватность воспользуемся классификатором 'DummyClassifier'."
   ]
  },
  {
   "cell_type": "code",
   "execution_count": 12,
   "metadata": {},
   "outputs": [
    {
     "name": "stdout",
     "output_type": "stream",
     "text": [
      "Accuracy лучшей стратегии: 0.6982892690513219\n",
      "Наилучшая стратегия: most_frequent\n"
     ]
    }
   ],
   "source": [
    "strategies = ['stratified', 'most_frequent', 'prior', 'uniform'] \n",
    "\n",
    "best_strat = None\n",
    "best_result_strat = 0\n",
    "\n",
    "for strat in strategies:\n",
    "    dm_cl = DummyClassifier(strategy = strat)\n",
    "    dm_cl.fit(features_train, target_train)\n",
    "    predictions_dm = dm_cl.predict(features_test)\n",
    "    result = accuracy_score(target_test, predictions_dm)\n",
    "    if result > best_result_strat:\n",
    "            best_result_strat = result\n",
    "            best_strat = strat\n",
    "            \n",
    "print('Accuracy лучшей стратегии:', best_result_strat)\n",
    "print('Наилучшая стратегия:', best_strat)            "
   ]
  },
  {
   "cell_type": "markdown",
   "metadata": {},
   "source": [
    "Показатель 'Accuracy' выбраной модели случайного леса выше (0.78), чем у стратегии 'most_frequent' классификатора 'DummyClassifier' (0.70)."
   ]
  },
  {
   "cell_type": "markdown",
   "metadata": {},
   "source": [
    "## Вывод"
   ]
  },
  {
   "cell_type": "markdown",
   "metadata": {},
   "source": [
    "Проверка модели на тестовой выборке показала, что выбранная модель случайного леса работает достаточно хорошо. Она способна правильно предсказать около 78% ответов."
   ]
  },
  {
   "cell_type": "markdown",
   "metadata": {},
   "source": [
    "## Чек-лист готовности проекта"
   ]
  },
  {
   "cell_type": "markdown",
   "metadata": {},
   "source": [
    "Поставьте 'x' в выполненных пунктах. Далее нажмите Shift+Enter."
   ]
  },
  {
   "cell_type": "markdown",
   "metadata": {},
   "source": [
    "- [x] Jupyter Notebook открыт\n",
    "- [x] Весь код исполняется без ошибок\n",
    "- [x] Ячейки с кодом расположены в порядке исполнения\n",
    "- [x] Выполнено задание 1: данные загружены и изучены\n",
    "- [x] Выполнено задание 2: данные разбиты на три выборки\n",
    "- [x] Выполнено задание 3: проведено исследование моделей\n",
    "    - [x] Рассмотрено больше одной модели\n",
    "    - [x] Рассмотрено хотя бы 3 значения гипепараметров для какой-нибудь модели\n",
    "    - [x] Написаны выводы по результатам исследования\n",
    "- [x] Выполнено задание 3: Проведено тестирование\n",
    "- [x] Удалось достичь accuracy не меньше 0.75\n"
   ]
  },
  {
   "cell_type": "code",
   "execution_count": null,
   "metadata": {},
   "outputs": [],
   "source": []
  }
 ],
 "metadata": {
  "ExecuteTimeLog": [
   {
    "duration": 2,
    "start_time": "2022-06-20T20:11:33.132Z"
   },
   {
    "duration": 4,
    "start_time": "2022-06-20T20:11:36.007Z"
   },
   {
    "duration": 180,
    "start_time": "2022-06-20T20:12:07.037Z"
   },
   {
    "duration": 69,
    "start_time": "2022-06-20T20:12:15.410Z"
   },
   {
    "duration": 45,
    "start_time": "2022-06-20T20:12:22.322Z"
   },
   {
    "duration": 11,
    "start_time": "2022-06-20T20:13:00.321Z"
   },
   {
    "duration": 6,
    "start_time": "2022-06-20T20:18:14.302Z"
   },
   {
    "duration": 6,
    "start_time": "2022-06-20T20:18:14.670Z"
   },
   {
    "duration": 6,
    "start_time": "2022-06-20T20:18:14.998Z"
   },
   {
    "duration": 1423,
    "start_time": "2022-06-21T13:54:41.577Z"
   },
   {
    "duration": 178,
    "start_time": "2022-06-21T13:54:43.002Z"
   },
   {
    "duration": 20,
    "start_time": "2022-06-21T13:54:43.181Z"
   },
   {
    "duration": 25,
    "start_time": "2022-06-21T13:54:43.202Z"
   },
   {
    "duration": 9,
    "start_time": "2022-06-21T13:54:43.229Z"
   },
   {
    "duration": 11,
    "start_time": "2022-06-21T13:54:43.239Z"
   },
   {
    "duration": 117,
    "start_time": "2022-06-21T16:05:28.540Z"
   },
   {
    "duration": 10,
    "start_time": "2022-06-21T16:05:34.220Z"
   },
   {
    "duration": 29,
    "start_time": "2022-06-21T16:06:27.454Z"
   },
   {
    "duration": 21,
    "start_time": "2022-06-21T16:07:01.589Z"
   },
   {
    "duration": 39,
    "start_time": "2022-06-21T16:07:18.611Z"
   },
   {
    "duration": 5,
    "start_time": "2022-06-21T16:11:49.391Z"
   },
   {
    "duration": 6,
    "start_time": "2022-06-21T16:12:54.424Z"
   },
   {
    "duration": 7,
    "start_time": "2022-06-21T16:12:59.321Z"
   },
   {
    "duration": 7,
    "start_time": "2022-06-21T16:13:00.136Z"
   },
   {
    "duration": 4,
    "start_time": "2022-06-21T16:13:18.823Z"
   },
   {
    "duration": 6,
    "start_time": "2022-06-21T16:13:19.536Z"
   },
   {
    "duration": 7,
    "start_time": "2022-06-21T16:13:20.015Z"
   },
   {
    "duration": 6,
    "start_time": "2022-06-21T16:13:20.468Z"
   },
   {
    "duration": 22,
    "start_time": "2022-06-21T17:02:30.780Z"
   },
   {
    "duration": 59,
    "start_time": "2022-06-21T17:07:05.609Z"
   },
   {
    "duration": 22,
    "start_time": "2022-06-21T17:07:14.401Z"
   },
   {
    "duration": 26,
    "start_time": "2022-06-21T17:07:17.136Z"
   },
   {
    "duration": 58,
    "start_time": "2022-06-21T17:07:24.953Z"
   },
   {
    "duration": 23,
    "start_time": "2022-06-21T17:07:30.280Z"
   },
   {
    "duration": 18,
    "start_time": "2022-06-21T17:07:32.986Z"
   },
   {
    "duration": 40,
    "start_time": "2022-06-21T17:07:42.297Z"
   },
   {
    "duration": 32,
    "start_time": "2022-06-21T17:07:50.248Z"
   },
   {
    "duration": 92,
    "start_time": "2022-06-21T17:07:57.040Z"
   },
   {
    "duration": 14,
    "start_time": "2022-06-21T17:08:06.176Z"
   },
   {
    "duration": 26,
    "start_time": "2022-06-21T17:08:09.952Z"
   },
   {
    "duration": 207,
    "start_time": "2022-06-21T17:08:16.607Z"
   },
   {
    "duration": 501,
    "start_time": "2022-06-21T17:13:13.668Z"
   },
   {
    "duration": 1245,
    "start_time": "2022-06-21T17:13:19.382Z"
   },
   {
    "duration": 1265,
    "start_time": "2022-06-21T17:13:34.701Z"
   },
   {
    "duration": 1300,
    "start_time": "2022-06-21T17:13:43.109Z"
   },
   {
    "duration": 475,
    "start_time": "2022-06-21T17:13:53.541Z"
   },
   {
    "duration": 38,
    "start_time": "2022-06-21T19:21:41.761Z"
   },
   {
    "duration": 39,
    "start_time": "2022-06-21T19:25:24.027Z"
   },
   {
    "duration": 64,
    "start_time": "2022-06-21T19:26:34.032Z"
   },
   {
    "duration": 532,
    "start_time": "2022-06-21T19:26:39.040Z"
   },
   {
    "duration": 425,
    "start_time": "2022-06-21T19:27:01.911Z"
   },
   {
    "duration": 5,
    "start_time": "2022-06-21T19:27:41.673Z"
   },
   {
    "duration": 8,
    "start_time": "2022-06-21T19:27:42.422Z"
   },
   {
    "duration": 5,
    "start_time": "2022-06-21T19:27:43.327Z"
   },
   {
    "duration": 23,
    "start_time": "2022-06-21T19:34:21.612Z"
   },
   {
    "duration": 491,
    "start_time": "2022-06-21T19:34:24.991Z"
   },
   {
    "duration": 33,
    "start_time": "2022-06-21T19:34:43.696Z"
   },
   {
    "duration": 10,
    "start_time": "2022-06-21T19:35:12.159Z"
   },
   {
    "duration": 3,
    "start_time": "2022-06-21T19:40:23.801Z"
   },
   {
    "duration": 27,
    "start_time": "2022-06-21T19:46:07.866Z"
   },
   {
    "duration": 40,
    "start_time": "2022-06-21T19:46:10.343Z"
   },
   {
    "duration": 464,
    "start_time": "2022-06-21T19:46:11.197Z"
   },
   {
    "duration": 8,
    "start_time": "2022-06-21T19:48:46.297Z"
   },
   {
    "duration": 9,
    "start_time": "2022-06-21T19:50:28.812Z"
   },
   {
    "duration": 968,
    "start_time": "2022-06-21T19:57:09.080Z"
   },
   {
    "duration": 46,
    "start_time": "2022-06-21T19:57:10.050Z"
   },
   {
    "duration": 11,
    "start_time": "2022-06-21T19:57:10.097Z"
   },
   {
    "duration": 11,
    "start_time": "2022-06-21T19:57:10.109Z"
   },
   {
    "duration": 8,
    "start_time": "2022-06-21T19:57:10.121Z"
   },
   {
    "duration": 15,
    "start_time": "2022-06-21T19:57:10.131Z"
   },
   {
    "duration": 46,
    "start_time": "2022-06-21T19:57:10.151Z"
   },
   {
    "duration": 435,
    "start_time": "2022-06-21T19:57:10.198Z"
   },
   {
    "duration": 44,
    "start_time": "2022-06-21T19:57:10.635Z"
   },
   {
    "duration": 4,
    "start_time": "2022-06-21T19:57:10.681Z"
   },
   {
    "duration": 11,
    "start_time": "2022-06-21T19:57:10.686Z"
   },
   {
    "duration": 12,
    "start_time": "2022-06-21T19:57:10.699Z"
   },
   {
    "duration": 1595,
    "start_time": "2022-06-22T13:24:08.589Z"
   },
   {
    "duration": 120,
    "start_time": "2022-06-22T13:24:10.186Z"
   },
   {
    "duration": 12,
    "start_time": "2022-06-22T13:24:10.308Z"
   },
   {
    "duration": 8,
    "start_time": "2022-06-22T13:24:10.322Z"
   },
   {
    "duration": 6,
    "start_time": "2022-06-22T13:24:10.332Z"
   },
   {
    "duration": 8,
    "start_time": "2022-06-22T13:24:10.339Z"
   },
   {
    "duration": 34,
    "start_time": "2022-06-22T13:24:10.349Z"
   },
   {
    "duration": 480,
    "start_time": "2022-06-22T13:24:10.385Z"
   },
   {
    "duration": 37,
    "start_time": "2022-06-22T13:24:10.867Z"
   },
   {
    "duration": 3,
    "start_time": "2022-06-22T13:24:10.906Z"
   },
   {
    "duration": 15,
    "start_time": "2022-06-22T13:24:10.910Z"
   },
   {
    "duration": 25,
    "start_time": "2022-06-22T13:24:10.927Z"
   },
   {
    "duration": 1586,
    "start_time": "2022-06-22T13:31:17.017Z"
   },
   {
    "duration": 44,
    "start_time": "2022-06-22T13:31:18.605Z"
   },
   {
    "duration": 11,
    "start_time": "2022-06-22T13:31:18.653Z"
   },
   {
    "duration": 4,
    "start_time": "2022-06-22T13:31:18.666Z"
   },
   {
    "duration": 7,
    "start_time": "2022-06-22T13:31:18.671Z"
   },
   {
    "duration": 7,
    "start_time": "2022-06-22T13:31:18.679Z"
   },
   {
    "duration": 27,
    "start_time": "2022-06-22T13:31:18.688Z"
   },
   {
    "duration": 518,
    "start_time": "2022-06-22T13:31:18.717Z"
   },
   {
    "duration": 43,
    "start_time": "2022-06-22T13:31:19.237Z"
   },
   {
    "duration": 3,
    "start_time": "2022-06-22T13:31:19.282Z"
   },
   {
    "duration": 9,
    "start_time": "2022-06-22T13:31:19.287Z"
   },
   {
    "duration": 11,
    "start_time": "2022-06-22T13:31:19.298Z"
   },
   {
    "duration": 3,
    "start_time": "2022-06-22T13:32:03.732Z"
   },
   {
    "duration": 12,
    "start_time": "2022-06-22T13:32:05.933Z"
   },
   {
    "duration": 5,
    "start_time": "2022-06-22T13:32:09.902Z"
   },
   {
    "duration": 3,
    "start_time": "2022-06-22T13:32:21.351Z"
   },
   {
    "duration": 8,
    "start_time": "2022-06-22T13:32:21.780Z"
   },
   {
    "duration": 7,
    "start_time": "2022-06-22T13:32:24.408Z"
   },
   {
    "duration": 47,
    "start_time": "2022-06-22T19:14:17.583Z"
   },
   {
    "duration": 1139,
    "start_time": "2022-06-22T19:14:21.955Z"
   },
   {
    "duration": 120,
    "start_time": "2022-06-22T19:14:23.096Z"
   },
   {
    "duration": 11,
    "start_time": "2022-06-22T19:14:23.218Z"
   },
   {
    "duration": 8,
    "start_time": "2022-06-22T19:14:23.231Z"
   },
   {
    "duration": 13,
    "start_time": "2022-06-22T19:14:23.241Z"
   },
   {
    "duration": 11,
    "start_time": "2022-06-22T19:14:23.255Z"
   },
   {
    "duration": 26,
    "start_time": "2022-06-22T19:14:23.268Z"
   },
   {
    "duration": 444,
    "start_time": "2022-06-22T19:14:23.296Z"
   },
   {
    "duration": 33,
    "start_time": "2022-06-22T19:14:23.742Z"
   },
   {
    "duration": 3,
    "start_time": "2022-06-22T19:14:23.777Z"
   },
   {
    "duration": 8,
    "start_time": "2022-06-22T19:14:23.782Z"
   },
   {
    "duration": 35,
    "start_time": "2022-06-22T19:14:23.791Z"
   },
   {
    "duration": 3,
    "start_time": "2022-06-22T19:15:29.390Z"
   },
   {
    "duration": 3,
    "start_time": "2022-06-22T19:15:33.077Z"
   },
   {
    "duration": 4,
    "start_time": "2022-06-22T19:16:20.301Z"
   },
   {
    "duration": 26,
    "start_time": "2022-06-22T19:18:40.117Z"
   },
   {
    "duration": 115,
    "start_time": "2022-06-22T19:18:59.971Z"
   },
   {
    "duration": 13,
    "start_time": "2022-06-22T19:19:05.803Z"
   },
   {
    "duration": 57,
    "start_time": "2022-06-22T19:19:26.140Z"
   },
   {
    "duration": 4,
    "start_time": "2022-06-22T19:19:34.740Z"
   },
   {
    "duration": 5,
    "start_time": "2022-06-22T19:20:15.842Z"
   }
  ],
  "kernelspec": {
   "display_name": "Python 3 (ipykernel)",
   "language": "python",
   "name": "python3"
  },
  "language_info": {
   "codemirror_mode": {
    "name": "ipython",
    "version": 3
   },
   "file_extension": ".py",
   "mimetype": "text/x-python",
   "name": "python",
   "nbconvert_exporter": "python",
   "pygments_lexer": "ipython3",
   "version": "3.9.12"
  },
  "toc": {
   "base_numbering": 1,
   "nav_menu": {},
   "number_sections": true,
   "sideBar": true,
   "skip_h1_title": true,
   "title_cell": "Table of Contents",
   "title_sidebar": "Contents",
   "toc_cell": false,
   "toc_position": {},
   "toc_section_display": true,
   "toc_window_display": false
  }
 },
 "nbformat": 4,
 "nbformat_minor": 2
}
